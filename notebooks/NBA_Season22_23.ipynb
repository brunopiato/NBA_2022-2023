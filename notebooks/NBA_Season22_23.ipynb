{
 "cells": [
  {
   "cell_type": "markdown",
   "metadata": {},
   "source": [
    "# 1. <a id='toc1_'></a>[NBA Season 2022-2023 Analysis](#toc0_)"
   ]
  },
  {
   "cell_type": "markdown",
   "metadata": {},
   "source": [
    "**Table of contents**<a id='toc0_'></a>    \n",
    "- 1. [NBA Season 2022-2023 Analysis](#toc1_)    \n",
    "- 2. [Importings](#toc2_)    \n",
    "  - 2.1. [Libraries](#toc2_1_)    \n",
    "  - 2.2. [Helper Function](#toc2_2_)    \n",
    "  - 2.3. [Data loading](#toc2_3_)    \n",
    "- 3. [Data exploration and problem comprehension](#toc3_)    \n",
    "  - 3.1. [Examining the **Advanced Dataset**](#toc3_1_)    \n",
    "    - 3.1.1. [Features from Advanced Dataset](#toc3_1_1_)    \n",
    "    - 3.1.2. [What are we dealing with?](#toc3_1_2_)    \n",
    "    - 3.1.3. [Renaming and droping empty columns](#toc3_1_3_)    \n",
    "    - 3.1.4. [Checking for NAs](#toc3_1_4_)    \n",
    "    - 3.1.5. [Do these players have multiple lines due to team exchanges?](#toc3_1_5_)    \n",
    "    - 3.1.6. [Let's combine the rows with same players](#toc3_1_6_)    \n",
    "      - 3.1.6.1. [Checking if the concatenation went right](#toc3_1_6_1_)    \n",
    "    - 3.1.7. [First glance at the Advanced Dataset](#toc3_1_7_)    \n",
    "    - 3.1.8. [Imputing values to the missing data](#toc3_1_8_)    \n",
    "  - 3.2. [Examining **Per Game Dataset**](#toc3_2_)    \n",
    "    - 3.2.1. [Features from Per Game Dataset](#toc3_2_1_)    \n",
    "    - 3.2.2. [What are we dealing with?](#toc3_2_2_)    \n",
    "    - 3.2.3. [Renaming the columns](#toc3_2_3_)    \n",
    "    - 3.2.4. [Checking for NAs](#toc3_2_4_)    \n",
    "    - 3.2.5. [Let's combine multiple player rows in one](#toc3_2_5_)    \n",
    "      - 3.2.5.1. [Checking if the concatanation went as expected](#toc3_2_5_1_)    \n",
    "      - 3.2.5.2. [Checking again for NAs](#toc3_2_5_2_)    \n",
    "    - 3.2.6. [Filling out NAs](#toc3_2_6_)    \n",
    "    - 3.2.7. [First glance at the Per Game Dataset](#toc3_2_7_)    \n",
    "- 4. [Feature Engineering and Hypothesis Creation](#toc4_)    \n",
    "  - 4.1. [Merging the two datasets and getting new columns](#toc4_1_)    \n",
    "    - 4.1.1. [Creating some new features](#toc4_1_1_)    \n",
    "      - 4.1.1.1. [GM = Games Missed](#toc4_1_1_1_)    \n",
    "    - 4.1.2. [Reordering the columns](#toc4_1_2_)    \n",
    "    - 4.1.3. [Changing rows with odd player's positions](#toc4_1_3_)    \n",
    "  - 4.2. [Exporting the merged dataset as a csv file](#toc4_2_)    \n",
    "- 5. [Data selection and filtering](#toc5_)    \n",
    "  - 5.1. [Importing merged dataset from csv file](#toc5_1_)    \n",
    "- 6. [Exploratory Data Analysis](#toc6_)    \n",
    "  - 6.1. [Importing merged dataset from csv file](#toc6_1_)    \n",
    "  - 6.2. [First graphs](#toc6_2_)    \n",
    "    - 6.2.1. [How are distributed the Points Per Game according to the Positions assigned to each Player?](#toc6_2_1_)    \n",
    "- 7. [Data Preparation](#toc7_)    \n",
    "- 8. [Feature Selection through Boruta algorithm](#toc8_)    \n",
    "- 9. [Model implementation](#toc9_)    \n",
    "- 10. [Hyperparameter Fine-Tuning](#toc10_)    \n",
    "- 11. [Model Error Estimation and Interpretation](#toc11_)    \n",
    "- 12. [Model Deployment](#toc12_)    \n",
    "\n",
    "<!-- vscode-jupyter-toc-config\n",
    "\tnumbering=true\n",
    "\tanchor=true\n",
    "\tflat=false\n",
    "\tminLevel=1\n",
    "\tmaxLevel=6\n",
    "\t/vscode-jupyter-toc-config -->\n",
    "<!-- THIS CELL WILL BE REPLACED ON TOC UPDATE. DO NOT WRITE YOUR TEXT IN THIS CELL -->"
   ]
  },
  {
   "cell_type": "markdown",
   "metadata": {},
   "source": [
    "# 2. <a id='toc2_'></a>[Importings](#toc0_)"
   ]
  },
  {
   "cell_type": "markdown",
   "metadata": {},
   "source": [
    "## 2.1. <a id='toc2_1_'></a>[Libraries](#toc0_)"
   ]
  },
  {
   "cell_type": "code",
   "execution_count": 420,
   "metadata": {},
   "outputs": [],
   "source": [
    "import pandas as pd\n",
    "import numpy as np\n",
    "import seaborn as sns\n",
    "import matplotlib.pyplot as plt\n",
    "import warnings\n",
    "import pickle\n",
    "import plotly.express as px\n",
    "import plotly.graph_objects as go\n",
    "\n",
    "from ydata_profiling        import ProfileReport\n",
    "from sklearn.impute         import SimpleImputer\n",
    "from IPython.display        import Image\n",
    "from IPython.core.display   import HTML"
   ]
  },
  {
   "cell_type": "markdown",
   "metadata": {},
   "source": [
    "## 2.2. <a id='toc2_2_'></a>[Helper Function](#toc0_)"
   ]
  },
  {
   "cell_type": "code",
   "execution_count": 421,
   "metadata": {},
   "outputs": [
    {
     "data": {
      "text/html": [
       "<style>.container { width:100% !important; }</style>"
      ],
      "text/plain": [
       "<IPython.core.display.HTML object>"
      ]
     },
     "metadata": {},
     "output_type": "display_data"
    }
   ],
   "source": [
    "def jupyter_configs():\n",
    "    plt.style.use( 'bmh' )\n",
    "    plt.rcParams['figure.figsize'] = [15, 8]\n",
    "    plt.rcParams['font.size'] = 24\n",
    "    \n",
    "    display( HTML( '<style>.container { width:100% !important; }</style>') )\n",
    "    pd.options.display.max_columns = None\n",
    "    pd.options.display.max_rows = None\n",
    "    pd.set_option( 'display.expand_frame_repr', False )\n",
    "    pd.set_option('display.max_columns', None)\n",
    "    \n",
    "    sns.set()\n",
    "    \n",
    "    warnings.filterwarnings( 'ignore' )\n",
    "    \n",
    "jupyter_configs()"
   ]
  },
  {
   "cell_type": "markdown",
   "metadata": {},
   "source": [
    "## 2.3. <a id='toc2_3_'></a>[Data loading](#toc0_)"
   ]
  },
  {
   "cell_type": "code",
   "execution_count": 422,
   "metadata": {},
   "outputs": [],
   "source": [
    "advanced_df_raw = pd.read_csv('~/repos/NBA_2022-2023/data/data_advanced.csv')\n",
    "pergame_df_raw = pd.read_csv('~/repos/NBA_2022-2023/data/data_pergame.csv')"
   ]
  },
  {
   "cell_type": "markdown",
   "metadata": {},
   "source": [
    "# 3. <a id='toc3_'></a>[Data exploration and problem comprehension](#toc0_)\n",
    "- Main goal/problem\n",
    "- Sub-goals\n",
    "- What will the finished product be?"
   ]
  },
  {
   "cell_type": "markdown",
   "metadata": {},
   "source": [
    "## 3.1. <a id='toc3_1_'></a>[Examining the **Advanced Dataset**](#toc0_)"
   ]
  },
  {
   "cell_type": "markdown",
   "metadata": {},
   "source": [
    "### 3.1.1. <a id='toc3_1_1_'></a>[Features from Advanced Dataset](#toc0_)"
   ]
  },
  {
   "cell_type": "markdown",
   "metadata": {},
   "source": [
    "\n",
    "- Rk -- Rank\n",
    "\n",
    "- Pos -- Position\n",
    "\n",
    "- Age -- Player's age on February 1 of the season\n",
    "\n",
    "- Tm -- Team\n",
    "\n",
    "- G -- Games\n",
    "\n",
    "- MP -- Minutes Played\n",
    "\n",
    "- PER -- Player Efficiency Rating. A measure of per-minute production standardized such that the league average is 15.\n",
    "\n",
    "- TS% -- True Shooting Percentage. A measure of shooting efficiency that takes into account 2-point field goals, 3-point field goals, and free throws.\n",
    "\n",
    "- 3PAr -- 3-Point Attempt Rate. Percentage of FG Attempts from 3-Point Range\n",
    "\n",
    "- FTr -- Free Throw Attempt Rate. Number of FT Attempts Per FG Attempt\n",
    "\n",
    "- ORB% -- Offensive Rebound Percentage. An estimate of the percentage of available offensive rebounds a player grabbed while they were on the floor.\n",
    "\n",
    "- DRB% -- Defensive Rebound Percentage. An estimate of the percentage of available defensive rebounds a player grabbed while they were on the floor.\n",
    "\n",
    "- TRB% -- Total Rebound Percentage. An estimate of the percentage of available rebounds a player grabbed while they were on the floor.\n",
    "\n",
    "- AST% -- Assist Percentage. An estimate of the percentage of teammate field goals a player assisted while they were on the floor.\n",
    "\n",
    "- STL% -- Steal Percentage. An estimate of the percentage of opponent possessions that end with a steal by the player while they were on the floor.\n",
    "\n",
    "- BLK% -- Block Percentage. An estimate of the percentage of opponent two-point field goal attempts blocked by the player while they were on the floor.\n",
    "\n",
    "- TOV% -- Turnover Percentage. An estimate of turnovers committed per 100 plays.\n",
    "\n",
    "- USG% -- Usage Percentage. An estimate of the percentage of team plays used by a player while they were on the floor.\n",
    "\n",
    "- OWS -- Offensive Win Shares. An estimate of the number of wins contributed by a player due to offense.\n",
    "\n",
    "- DWS -- Defensive Win Shares. An estimate of the number of wins contributed by a player due to defense.\n",
    "\n",
    "- WS -- Win Shares. An estimate of the number of wins contributed by a player.\n",
    "\n",
    "- WS/48 -- Win Shares Per 48 Minutes. An estimate of the number of wins contributed by a player per 48 minutes (league average is approximately .100)\n",
    "\n",
    "- OBPM -- Offensive Box Plus/Minus. A box score estimate of the offensive points per 100 possessions a player contributed above a league-average player, translated to an average team.\n",
    "\n",
    "- DBPM -- Defensive Box Plus/Minus. A box score estimate of the defensive points per 100 possessions a player contributed above a league-average player, translated to an average team.\n",
    "\n",
    "- BPM -- Box Plus/Minus. A box score estimate of the points per 100 possessions a player contributed above a league-average player, translated to an average team.\n",
    "\n",
    "- VORP -- Value over Replacement Player. A box score estimate of the points per 100 TEAM possessions that a player contributed above a replacement-level (-2.0) player, translated to an average team and prorated to an 82-game season. Multiply by 2.70 to convert to wins over replacement."
   ]
  },
  {
   "cell_type": "markdown",
   "metadata": {},
   "source": [
    "### 3.1.2. <a id='toc3_1_2_'></a>[What are we dealing with?](#toc0_)"
   ]
  },
  {
   "cell_type": "code",
   "execution_count": 423,
   "metadata": {},
   "outputs": [
    {
     "data": {
      "text/html": [
       "<div>\n",
       "<style scoped>\n",
       "    .dataframe tbody tr th:only-of-type {\n",
       "        vertical-align: middle;\n",
       "    }\n",
       "\n",
       "    .dataframe tbody tr th {\n",
       "        vertical-align: top;\n",
       "    }\n",
       "\n",
       "    .dataframe thead th {\n",
       "        text-align: right;\n",
       "    }\n",
       "</style>\n",
       "<table border=\"1\" class=\"dataframe\">\n",
       "  <thead>\n",
       "    <tr style=\"text-align: right;\">\n",
       "      <th></th>\n",
       "      <th>Rk</th>\n",
       "      <th>Player</th>\n",
       "      <th>Pos</th>\n",
       "      <th>Age</th>\n",
       "      <th>Tm</th>\n",
       "      <th>G</th>\n",
       "      <th>MP</th>\n",
       "      <th>PER</th>\n",
       "      <th>TS%</th>\n",
       "      <th>3PAr</th>\n",
       "      <th>FTr</th>\n",
       "      <th>ORB%</th>\n",
       "      <th>DRB%</th>\n",
       "      <th>TRB%</th>\n",
       "      <th>AST%</th>\n",
       "      <th>STL%</th>\n",
       "      <th>BLK%</th>\n",
       "      <th>TOV%</th>\n",
       "      <th>USG%</th>\n",
       "      <th>Unnamed: 19</th>\n",
       "      <th>OWS</th>\n",
       "      <th>DWS</th>\n",
       "      <th>WS</th>\n",
       "      <th>WS/48</th>\n",
       "      <th>Unnamed: 24</th>\n",
       "      <th>OBPM</th>\n",
       "      <th>DBPM</th>\n",
       "      <th>BPM</th>\n",
       "      <th>VORP</th>\n",
       "      <th>Player-additional</th>\n",
       "    </tr>\n",
       "  </thead>\n",
       "  <tbody>\n",
       "    <tr>\n",
       "      <th>0</th>\n",
       "      <td>1</td>\n",
       "      <td>Precious Achiuwa</td>\n",
       "      <td>C</td>\n",
       "      <td>23</td>\n",
       "      <td>TOR</td>\n",
       "      <td>55</td>\n",
       "      <td>1140</td>\n",
       "      <td>15.2</td>\n",
       "      <td>0.554</td>\n",
       "      <td>0.267</td>\n",
       "      <td>0.307</td>\n",
       "      <td>9.3</td>\n",
       "      <td>24.4</td>\n",
       "      <td>16.3</td>\n",
       "      <td>6.3</td>\n",
       "      <td>1.3</td>\n",
       "      <td>2.6</td>\n",
       "      <td>11.4</td>\n",
       "      <td>19.4</td>\n",
       "      <td>NaN</td>\n",
       "      <td>0.8</td>\n",
       "      <td>1.4</td>\n",
       "      <td>2.2</td>\n",
       "      <td>0.093</td>\n",
       "      <td>NaN</td>\n",
       "      <td>-1.4</td>\n",
       "      <td>-0.8</td>\n",
       "      <td>-2.3</td>\n",
       "      <td>-0.1</td>\n",
       "      <td>achiupr01</td>\n",
       "    </tr>\n",
       "    <tr>\n",
       "      <th>1</th>\n",
       "      <td>2</td>\n",
       "      <td>Steven Adams</td>\n",
       "      <td>C</td>\n",
       "      <td>29</td>\n",
       "      <td>MEM</td>\n",
       "      <td>42</td>\n",
       "      <td>1133</td>\n",
       "      <td>17.5</td>\n",
       "      <td>0.564</td>\n",
       "      <td>0.004</td>\n",
       "      <td>0.490</td>\n",
       "      <td>20.1</td>\n",
       "      <td>25.3</td>\n",
       "      <td>22.7</td>\n",
       "      <td>11.2</td>\n",
       "      <td>1.5</td>\n",
       "      <td>3.7</td>\n",
       "      <td>19.8</td>\n",
       "      <td>14.6</td>\n",
       "      <td>NaN</td>\n",
       "      <td>1.3</td>\n",
       "      <td>2.1</td>\n",
       "      <td>3.4</td>\n",
       "      <td>0.144</td>\n",
       "      <td>NaN</td>\n",
       "      <td>-0.3</td>\n",
       "      <td>0.9</td>\n",
       "      <td>0.6</td>\n",
       "      <td>0.7</td>\n",
       "      <td>adamsst01</td>\n",
       "    </tr>\n",
       "    <tr>\n",
       "      <th>2</th>\n",
       "      <td>3</td>\n",
       "      <td>Bam Adebayo</td>\n",
       "      <td>C</td>\n",
       "      <td>25</td>\n",
       "      <td>MIA</td>\n",
       "      <td>75</td>\n",
       "      <td>2598</td>\n",
       "      <td>20.1</td>\n",
       "      <td>0.592</td>\n",
       "      <td>0.011</td>\n",
       "      <td>0.361</td>\n",
       "      <td>8.0</td>\n",
       "      <td>23.6</td>\n",
       "      <td>15.5</td>\n",
       "      <td>15.9</td>\n",
       "      <td>1.7</td>\n",
       "      <td>2.4</td>\n",
       "      <td>12.7</td>\n",
       "      <td>25.2</td>\n",
       "      <td>NaN</td>\n",
       "      <td>3.6</td>\n",
       "      <td>3.8</td>\n",
       "      <td>7.4</td>\n",
       "      <td>0.137</td>\n",
       "      <td>NaN</td>\n",
       "      <td>0.8</td>\n",
       "      <td>0.8</td>\n",
       "      <td>1.5</td>\n",
       "      <td>2.3</td>\n",
       "      <td>adebaba01</td>\n",
       "    </tr>\n",
       "    <tr>\n",
       "      <th>3</th>\n",
       "      <td>4</td>\n",
       "      <td>Ochai Agbaji</td>\n",
       "      <td>SG</td>\n",
       "      <td>22</td>\n",
       "      <td>UTA</td>\n",
       "      <td>59</td>\n",
       "      <td>1209</td>\n",
       "      <td>9.5</td>\n",
       "      <td>0.561</td>\n",
       "      <td>0.591</td>\n",
       "      <td>0.179</td>\n",
       "      <td>3.9</td>\n",
       "      <td>6.9</td>\n",
       "      <td>5.4</td>\n",
       "      <td>7.5</td>\n",
       "      <td>0.6</td>\n",
       "      <td>1.0</td>\n",
       "      <td>9.0</td>\n",
       "      <td>15.8</td>\n",
       "      <td>NaN</td>\n",
       "      <td>0.9</td>\n",
       "      <td>0.4</td>\n",
       "      <td>1.3</td>\n",
       "      <td>0.053</td>\n",
       "      <td>NaN</td>\n",
       "      <td>-1.7</td>\n",
       "      <td>-1.4</td>\n",
       "      <td>-3.0</td>\n",
       "      <td>-0.3</td>\n",
       "      <td>agbajoc01</td>\n",
       "    </tr>\n",
       "    <tr>\n",
       "      <th>4</th>\n",
       "      <td>5</td>\n",
       "      <td>Santi Aldama</td>\n",
       "      <td>PF</td>\n",
       "      <td>22</td>\n",
       "      <td>MEM</td>\n",
       "      <td>77</td>\n",
       "      <td>1682</td>\n",
       "      <td>13.9</td>\n",
       "      <td>0.591</td>\n",
       "      <td>0.507</td>\n",
       "      <td>0.274</td>\n",
       "      <td>5.4</td>\n",
       "      <td>18.0</td>\n",
       "      <td>11.7</td>\n",
       "      <td>7.6</td>\n",
       "      <td>1.3</td>\n",
       "      <td>2.6</td>\n",
       "      <td>9.3</td>\n",
       "      <td>16.0</td>\n",
       "      <td>NaN</td>\n",
       "      <td>2.1</td>\n",
       "      <td>2.4</td>\n",
       "      <td>4.6</td>\n",
       "      <td>0.130</td>\n",
       "      <td>NaN</td>\n",
       "      <td>-0.3</td>\n",
       "      <td>0.8</td>\n",
       "      <td>0.5</td>\n",
       "      <td>1.1</td>\n",
       "      <td>aldamsa01</td>\n",
       "    </tr>\n",
       "  </tbody>\n",
       "</table>\n",
       "</div>"
      ],
      "text/plain": [
       "   Rk            Player Pos  Age   Tm   G    MP   PER    TS%   3PAr    FTr  ORB%  DRB%  TRB%  AST%  STL%  BLK%  TOV%  USG%  Unnamed: 19  OWS  DWS   WS  WS/48  Unnamed: 24  OBPM  DBPM  BPM  VORP Player-additional\n",
       "0   1  Precious Achiuwa   C   23  TOR  55  1140  15.2  0.554  0.267  0.307   9.3  24.4  16.3   6.3   1.3   2.6  11.4  19.4          NaN  0.8  1.4  2.2  0.093          NaN  -1.4  -0.8 -2.3  -0.1         achiupr01\n",
       "1   2      Steven Adams   C   29  MEM  42  1133  17.5  0.564  0.004  0.490  20.1  25.3  22.7  11.2   1.5   3.7  19.8  14.6          NaN  1.3  2.1  3.4  0.144          NaN  -0.3   0.9  0.6   0.7         adamsst01\n",
       "2   3       Bam Adebayo   C   25  MIA  75  2598  20.1  0.592  0.011  0.361   8.0  23.6  15.5  15.9   1.7   2.4  12.7  25.2          NaN  3.6  3.8  7.4  0.137          NaN   0.8   0.8  1.5   2.3         adebaba01\n",
       "3   4      Ochai Agbaji  SG   22  UTA  59  1209   9.5  0.561  0.591  0.179   3.9   6.9   5.4   7.5   0.6   1.0   9.0  15.8          NaN  0.9  0.4  1.3  0.053          NaN  -1.7  -1.4 -3.0  -0.3         agbajoc01\n",
       "4   5      Santi Aldama  PF   22  MEM  77  1682  13.9  0.591  0.507  0.274   5.4  18.0  11.7   7.6   1.3   2.6   9.3  16.0          NaN  2.1  2.4  4.6  0.130          NaN  -0.3   0.8  0.5   1.1         aldamsa01"
      ]
     },
     "execution_count": 423,
     "metadata": {},
     "output_type": "execute_result"
    }
   ],
   "source": [
    "advanced_df_raw.head()"
   ]
  },
  {
   "cell_type": "code",
   "execution_count": 424,
   "metadata": {},
   "outputs": [
    {
     "data": {
      "text/plain": [
       "(679, 30)"
      ]
     },
     "execution_count": 424,
     "metadata": {},
     "output_type": "execute_result"
    }
   ],
   "source": [
    "advanced_df_raw.shape"
   ]
  },
  {
   "cell_type": "markdown",
   "metadata": {},
   "source": [
    "### 3.1.3. <a id='toc3_1_3_'></a>[Renaming and droping empty columns](#toc0_)"
   ]
  },
  {
   "cell_type": "code",
   "execution_count": 425,
   "metadata": {},
   "outputs": [],
   "source": [
    "droped_columns = ['Unnamed: 19', 'Unnamed: 24']\n",
    "advanced_df_raw = advanced_df_raw.drop(droped_columns, axis = 1)"
   ]
  },
  {
   "cell_type": "code",
   "execution_count": 426,
   "metadata": {},
   "outputs": [
    {
     "data": {
      "text/plain": [
       "Index(['Rk', 'Player', 'Pos', 'Age', 'Tm', 'G', 'MP', 'PER', 'TS%', '3PAr',\n",
       "       'FTr', 'ORB%', 'DRB%', 'TRB%', 'AST%', 'STL%', 'BLK%', 'TOV%', 'USG%',\n",
       "       'OWS', 'DWS', 'WS', 'WS/48', 'OBPM', 'DBPM', 'BPM', 'VORP',\n",
       "       'Player-additional'],\n",
       "      dtype='object')"
      ]
     },
     "execution_count": 426,
     "metadata": {},
     "output_type": "execute_result"
    }
   ],
   "source": [
    "advanced_df_raw.columns"
   ]
  },
  {
   "cell_type": "code",
   "execution_count": 427,
   "metadata": {},
   "outputs": [],
   "source": [
    "advanced_cols = ['Rk', 'Player', 'Pos', 'Age', 'Tm', 'G', 'MP_Total', 'PER', 'TS%', '3PAr',\n",
    "       'FTr', 'ORB%', 'DRB%', 'TRB%', 'AST%', 'STL%', 'BLK%', 'TOV%', 'USG%',\n",
    "       'OWS', 'DWS', 'WS', 'WS_48', 'OBPM', 'DBPM', 'BPM', 'VORP',\n",
    "       'Player_additional']\n",
    "\n",
    "advanced_df_raw.columns = advanced_cols"
   ]
  },
  {
   "cell_type": "code",
   "execution_count": 428,
   "metadata": {},
   "outputs": [
    {
     "data": {
      "text/plain": [
       "(679, 28)"
      ]
     },
     "execution_count": 428,
     "metadata": {},
     "output_type": "execute_result"
    }
   ],
   "source": [
    "advanced_df_raw.shape"
   ]
  },
  {
   "cell_type": "code",
   "execution_count": 429,
   "metadata": {},
   "outputs": [
    {
     "name": "stdout",
     "output_type": "stream",
     "text": [
      "539 out of 679\n"
     ]
    }
   ],
   "source": [
    "# There are 679 rows in the dataset. However only 539 singular players. It happens because some players changed teams during the season and appear in multiple lines.\n",
    "# It may be a good solution to join these lines and stick only with the latest team in wich the player acts.\n",
    "\n",
    "print( advanced_df_raw['Player_additional'].nunique(), 'out of', advanced_df_raw.shape[0])"
   ]
  },
  {
   "cell_type": "markdown",
   "metadata": {},
   "source": [
    "### 3.1.4. <a id='toc3_1_4_'></a>[Checking for NAs](#toc0_)\n",
    "- Only three NAs in columns 'TS%', '3PAr' and 'FTr', and one at the column 'TOV%'. The same three rows have NAs to the first three features and Michael Foster Jr. has missing values to 'TOV%'. \n",
    "- Let's inspect it so we can figure out why they are empty and what to do with it.\n",
    "- Columns 'Unnamed: 19' and 'Unnamed: 24' are completely empty and should be deleted."
   ]
  },
  {
   "cell_type": "code",
   "execution_count": 430,
   "metadata": {},
   "outputs": [
    {
     "data": {
      "text/plain": [
       "Rk                   0\n",
       "Player               0\n",
       "Pos                  0\n",
       "Age                  0\n",
       "Tm                   0\n",
       "G                    0\n",
       "MP_Total             0\n",
       "PER                  0\n",
       "TS%                  3\n",
       "3PAr                 3\n",
       "FTr                  3\n",
       "ORB%                 0\n",
       "DRB%                 0\n",
       "TRB%                 0\n",
       "AST%                 0\n",
       "STL%                 0\n",
       "BLK%                 0\n",
       "TOV%                 1\n",
       "USG%                 0\n",
       "OWS                  0\n",
       "DWS                  0\n",
       "WS                   0\n",
       "WS_48                0\n",
       "OBPM                 0\n",
       "DBPM                 0\n",
       "BPM                  0\n",
       "VORP                 0\n",
       "Player_additional    0\n",
       "dtype: int64"
      ]
     },
     "execution_count": 430,
     "metadata": {},
     "output_type": "execute_result"
    }
   ],
   "source": [
    "advanced_df_raw.isna().sum()"
   ]
  },
  {
   "cell_type": "code",
   "execution_count": 431,
   "metadata": {},
   "outputs": [
    {
     "data": {
      "text/html": [
       "<div>\n",
       "<style scoped>\n",
       "    .dataframe tbody tr th:only-of-type {\n",
       "        vertical-align: middle;\n",
       "    }\n",
       "\n",
       "    .dataframe tbody tr th {\n",
       "        vertical-align: top;\n",
       "    }\n",
       "\n",
       "    .dataframe thead th {\n",
       "        text-align: right;\n",
       "    }\n",
       "</style>\n",
       "<table border=\"1\" class=\"dataframe\">\n",
       "  <thead>\n",
       "    <tr style=\"text-align: right;\">\n",
       "      <th></th>\n",
       "      <th>Rk</th>\n",
       "      <th>Player</th>\n",
       "      <th>Pos</th>\n",
       "      <th>Age</th>\n",
       "      <th>Tm</th>\n",
       "      <th>G</th>\n",
       "      <th>MP_Total</th>\n",
       "      <th>PER</th>\n",
       "      <th>TS%</th>\n",
       "      <th>3PAr</th>\n",
       "      <th>FTr</th>\n",
       "      <th>ORB%</th>\n",
       "      <th>DRB%</th>\n",
       "      <th>TRB%</th>\n",
       "      <th>AST%</th>\n",
       "      <th>STL%</th>\n",
       "      <th>BLK%</th>\n",
       "      <th>TOV%</th>\n",
       "      <th>USG%</th>\n",
       "      <th>OWS</th>\n",
       "      <th>DWS</th>\n",
       "      <th>WS</th>\n",
       "      <th>WS_48</th>\n",
       "      <th>OBPM</th>\n",
       "      <th>DBPM</th>\n",
       "      <th>BPM</th>\n",
       "      <th>VORP</th>\n",
       "      <th>Player_additional</th>\n",
       "    </tr>\n",
       "  </thead>\n",
       "  <tbody>\n",
       "    <tr>\n",
       "      <th>196</th>\n",
       "      <td>151</td>\n",
       "      <td>Michael Foster Jr.</td>\n",
       "      <td>PF</td>\n",
       "      <td>20</td>\n",
       "      <td>PHI</td>\n",
       "      <td>1</td>\n",
       "      <td>1</td>\n",
       "      <td>0.0</td>\n",
       "      <td>NaN</td>\n",
       "      <td>NaN</td>\n",
       "      <td>NaN</td>\n",
       "      <td>0.0</td>\n",
       "      <td>0.0</td>\n",
       "      <td>0.0</td>\n",
       "      <td>0.0</td>\n",
       "      <td>0.0</td>\n",
       "      <td>0.0</td>\n",
       "      <td>NaN</td>\n",
       "      <td>0.0</td>\n",
       "      <td>0.0</td>\n",
       "      <td>0.0</td>\n",
       "      <td>0.0</td>\n",
       "      <td>0.01</td>\n",
       "      <td>-7.2</td>\n",
       "      <td>-1.9</td>\n",
       "      <td>-9.2</td>\n",
       "      <td>0.0</td>\n",
       "      <td>fostemi02</td>\n",
       "    </tr>\n",
       "  </tbody>\n",
       "</table>\n",
       "</div>"
      ],
      "text/plain": [
       "      Rk              Player Pos  Age   Tm  G  MP_Total  PER  TS%  3PAr  FTr  ORB%  DRB%  TRB%  AST%  STL%  BLK%  TOV%  USG%  OWS  DWS   WS  WS_48  OBPM  DBPM  BPM  VORP Player_additional\n",
       "196  151  Michael Foster Jr.  PF   20  PHI  1         1  0.0  NaN   NaN  NaN   0.0   0.0   0.0   0.0   0.0   0.0   NaN   0.0  0.0  0.0  0.0   0.01  -7.2  -1.9 -9.2   0.0         fostemi02"
      ]
     },
     "execution_count": 431,
     "metadata": {},
     "output_type": "execute_result"
    }
   ],
   "source": [
    "advanced_df_raw[advanced_df_raw['TOV%'].isna()]"
   ]
  },
  {
   "cell_type": "code",
   "execution_count": 432,
   "metadata": {},
   "outputs": [
    {
     "data": {
      "text/html": [
       "<div>\n",
       "<style scoped>\n",
       "    .dataframe tbody tr th:only-of-type {\n",
       "        vertical-align: middle;\n",
       "    }\n",
       "\n",
       "    .dataframe tbody tr th {\n",
       "        vertical-align: top;\n",
       "    }\n",
       "\n",
       "    .dataframe thead th {\n",
       "        text-align: right;\n",
       "    }\n",
       "</style>\n",
       "<table border=\"1\" class=\"dataframe\">\n",
       "  <thead>\n",
       "    <tr style=\"text-align: right;\">\n",
       "      <th></th>\n",
       "      <th>Rk</th>\n",
       "      <th>Player</th>\n",
       "      <th>Pos</th>\n",
       "      <th>Age</th>\n",
       "      <th>Tm</th>\n",
       "      <th>G</th>\n",
       "      <th>MP_Total</th>\n",
       "      <th>PER</th>\n",
       "      <th>TS%</th>\n",
       "      <th>3PAr</th>\n",
       "      <th>FTr</th>\n",
       "      <th>ORB%</th>\n",
       "      <th>DRB%</th>\n",
       "      <th>TRB%</th>\n",
       "      <th>AST%</th>\n",
       "      <th>STL%</th>\n",
       "      <th>BLK%</th>\n",
       "      <th>TOV%</th>\n",
       "      <th>USG%</th>\n",
       "      <th>OWS</th>\n",
       "      <th>DWS</th>\n",
       "      <th>WS</th>\n",
       "      <th>WS_48</th>\n",
       "      <th>OBPM</th>\n",
       "      <th>DBPM</th>\n",
       "      <th>BPM</th>\n",
       "      <th>VORP</th>\n",
       "      <th>Player_additional</th>\n",
       "    </tr>\n",
       "  </thead>\n",
       "  <tbody>\n",
       "    <tr>\n",
       "      <th>89</th>\n",
       "      <td>66</td>\n",
       "      <td>Moses Brown</td>\n",
       "      <td>C</td>\n",
       "      <td>23</td>\n",
       "      <td>BRK</td>\n",
       "      <td>2</td>\n",
       "      <td>6</td>\n",
       "      <td>-2.6</td>\n",
       "      <td>NaN</td>\n",
       "      <td>NaN</td>\n",
       "      <td>NaN</td>\n",
       "      <td>0.0</td>\n",
       "      <td>0.0</td>\n",
       "      <td>0.0</td>\n",
       "      <td>0.0</td>\n",
       "      <td>8.1</td>\n",
       "      <td>0.0</td>\n",
       "      <td>100.0</td>\n",
       "      <td>7.4</td>\n",
       "      <td>0.0</td>\n",
       "      <td>0.0</td>\n",
       "      <td>0.0</td>\n",
       "      <td>-0.129</td>\n",
       "      <td>-12.7</td>\n",
       "      <td>2.8</td>\n",
       "      <td>-9.9</td>\n",
       "      <td>0.0</td>\n",
       "      <td>brownmo01</td>\n",
       "    </tr>\n",
       "    <tr>\n",
       "      <th>196</th>\n",
       "      <td>151</td>\n",
       "      <td>Michael Foster Jr.</td>\n",
       "      <td>PF</td>\n",
       "      <td>20</td>\n",
       "      <td>PHI</td>\n",
       "      <td>1</td>\n",
       "      <td>1</td>\n",
       "      <td>0.0</td>\n",
       "      <td>NaN</td>\n",
       "      <td>NaN</td>\n",
       "      <td>NaN</td>\n",
       "      <td>0.0</td>\n",
       "      <td>0.0</td>\n",
       "      <td>0.0</td>\n",
       "      <td>0.0</td>\n",
       "      <td>0.0</td>\n",
       "      <td>0.0</td>\n",
       "      <td>NaN</td>\n",
       "      <td>0.0</td>\n",
       "      <td>0.0</td>\n",
       "      <td>0.0</td>\n",
       "      <td>0.0</td>\n",
       "      <td>0.010</td>\n",
       "      <td>-7.2</td>\n",
       "      <td>-1.9</td>\n",
       "      <td>-9.2</td>\n",
       "      <td>0.0</td>\n",
       "      <td>fostemi02</td>\n",
       "    </tr>\n",
       "    <tr>\n",
       "      <th>652</th>\n",
       "      <td>515</td>\n",
       "      <td>Alondes Williams</td>\n",
       "      <td>SG</td>\n",
       "      <td>23</td>\n",
       "      <td>BRK</td>\n",
       "      <td>1</td>\n",
       "      <td>5</td>\n",
       "      <td>-20.9</td>\n",
       "      <td>NaN</td>\n",
       "      <td>NaN</td>\n",
       "      <td>NaN</td>\n",
       "      <td>0.0</td>\n",
       "      <td>22.0</td>\n",
       "      <td>11.2</td>\n",
       "      <td>0.0</td>\n",
       "      <td>0.0</td>\n",
       "      <td>0.0</td>\n",
       "      <td>100.0</td>\n",
       "      <td>17.7</td>\n",
       "      <td>-0.1</td>\n",
       "      <td>0.0</td>\n",
       "      <td>-0.1</td>\n",
       "      <td>-0.517</td>\n",
       "      <td>-21.3</td>\n",
       "      <td>-5.2</td>\n",
       "      <td>-26.5</td>\n",
       "      <td>0.0</td>\n",
       "      <td>willial06</td>\n",
       "    </tr>\n",
       "  </tbody>\n",
       "</table>\n",
       "</div>"
      ],
      "text/plain": [
       "      Rk              Player Pos  Age   Tm  G  MP_Total   PER  TS%  3PAr  FTr  ORB%  DRB%  TRB%  AST%  STL%  BLK%   TOV%  USG%  OWS  DWS   WS  WS_48  OBPM  DBPM   BPM  VORP Player_additional\n",
       "89    66         Moses Brown   C   23  BRK  2         6  -2.6  NaN   NaN  NaN   0.0   0.0   0.0   0.0   8.1   0.0  100.0   7.4  0.0  0.0  0.0 -0.129 -12.7   2.8  -9.9   0.0         brownmo01\n",
       "196  151  Michael Foster Jr.  PF   20  PHI  1         1   0.0  NaN   NaN  NaN   0.0   0.0   0.0   0.0   0.0   0.0    NaN   0.0  0.0  0.0  0.0  0.010  -7.2  -1.9  -9.2   0.0         fostemi02\n",
       "652  515    Alondes Williams  SG   23  BRK  1         5 -20.9  NaN   NaN  NaN   0.0  22.0  11.2   0.0   0.0   0.0  100.0  17.7 -0.1  0.0 -0.1 -0.517 -21.3  -5.2 -26.5   0.0         willial06"
      ]
     },
     "execution_count": 432,
     "metadata": {},
     "output_type": "execute_result"
    }
   ],
   "source": [
    "advanced_df_raw[advanced_df_raw['TS%'].isna()]"
   ]
  },
  {
   "cell_type": "code",
   "execution_count": 433,
   "metadata": {},
   "outputs": [
    {
     "data": {
      "text/html": [
       "<div>\n",
       "<style scoped>\n",
       "    .dataframe tbody tr th:only-of-type {\n",
       "        vertical-align: middle;\n",
       "    }\n",
       "\n",
       "    .dataframe tbody tr th {\n",
       "        vertical-align: top;\n",
       "    }\n",
       "\n",
       "    .dataframe thead th {\n",
       "        text-align: right;\n",
       "    }\n",
       "</style>\n",
       "<table border=\"1\" class=\"dataframe\">\n",
       "  <thead>\n",
       "    <tr style=\"text-align: right;\">\n",
       "      <th></th>\n",
       "      <th>Rk</th>\n",
       "      <th>Player</th>\n",
       "      <th>Pos</th>\n",
       "      <th>Age</th>\n",
       "      <th>Tm</th>\n",
       "      <th>G</th>\n",
       "      <th>MP_Total</th>\n",
       "      <th>PER</th>\n",
       "      <th>TS%</th>\n",
       "      <th>3PAr</th>\n",
       "      <th>FTr</th>\n",
       "      <th>ORB%</th>\n",
       "      <th>DRB%</th>\n",
       "      <th>TRB%</th>\n",
       "      <th>AST%</th>\n",
       "      <th>STL%</th>\n",
       "      <th>BLK%</th>\n",
       "      <th>TOV%</th>\n",
       "      <th>USG%</th>\n",
       "      <th>OWS</th>\n",
       "      <th>DWS</th>\n",
       "      <th>WS</th>\n",
       "      <th>WS_48</th>\n",
       "      <th>OBPM</th>\n",
       "      <th>DBPM</th>\n",
       "      <th>BPM</th>\n",
       "      <th>VORP</th>\n",
       "      <th>Player_additional</th>\n",
       "    </tr>\n",
       "  </thead>\n",
       "  <tbody>\n",
       "    <tr>\n",
       "      <th>89</th>\n",
       "      <td>66</td>\n",
       "      <td>Moses Brown</td>\n",
       "      <td>C</td>\n",
       "      <td>23</td>\n",
       "      <td>BRK</td>\n",
       "      <td>2</td>\n",
       "      <td>6</td>\n",
       "      <td>-2.6</td>\n",
       "      <td>NaN</td>\n",
       "      <td>NaN</td>\n",
       "      <td>NaN</td>\n",
       "      <td>0.0</td>\n",
       "      <td>0.0</td>\n",
       "      <td>0.0</td>\n",
       "      <td>0.0</td>\n",
       "      <td>8.1</td>\n",
       "      <td>0.0</td>\n",
       "      <td>100.0</td>\n",
       "      <td>7.4</td>\n",
       "      <td>0.0</td>\n",
       "      <td>0.0</td>\n",
       "      <td>0.0</td>\n",
       "      <td>-0.129</td>\n",
       "      <td>-12.7</td>\n",
       "      <td>2.8</td>\n",
       "      <td>-9.9</td>\n",
       "      <td>0.0</td>\n",
       "      <td>brownmo01</td>\n",
       "    </tr>\n",
       "    <tr>\n",
       "      <th>196</th>\n",
       "      <td>151</td>\n",
       "      <td>Michael Foster Jr.</td>\n",
       "      <td>PF</td>\n",
       "      <td>20</td>\n",
       "      <td>PHI</td>\n",
       "      <td>1</td>\n",
       "      <td>1</td>\n",
       "      <td>0.0</td>\n",
       "      <td>NaN</td>\n",
       "      <td>NaN</td>\n",
       "      <td>NaN</td>\n",
       "      <td>0.0</td>\n",
       "      <td>0.0</td>\n",
       "      <td>0.0</td>\n",
       "      <td>0.0</td>\n",
       "      <td>0.0</td>\n",
       "      <td>0.0</td>\n",
       "      <td>NaN</td>\n",
       "      <td>0.0</td>\n",
       "      <td>0.0</td>\n",
       "      <td>0.0</td>\n",
       "      <td>0.0</td>\n",
       "      <td>0.010</td>\n",
       "      <td>-7.2</td>\n",
       "      <td>-1.9</td>\n",
       "      <td>-9.2</td>\n",
       "      <td>0.0</td>\n",
       "      <td>fostemi02</td>\n",
       "    </tr>\n",
       "    <tr>\n",
       "      <th>652</th>\n",
       "      <td>515</td>\n",
       "      <td>Alondes Williams</td>\n",
       "      <td>SG</td>\n",
       "      <td>23</td>\n",
       "      <td>BRK</td>\n",
       "      <td>1</td>\n",
       "      <td>5</td>\n",
       "      <td>-20.9</td>\n",
       "      <td>NaN</td>\n",
       "      <td>NaN</td>\n",
       "      <td>NaN</td>\n",
       "      <td>0.0</td>\n",
       "      <td>22.0</td>\n",
       "      <td>11.2</td>\n",
       "      <td>0.0</td>\n",
       "      <td>0.0</td>\n",
       "      <td>0.0</td>\n",
       "      <td>100.0</td>\n",
       "      <td>17.7</td>\n",
       "      <td>-0.1</td>\n",
       "      <td>0.0</td>\n",
       "      <td>-0.1</td>\n",
       "      <td>-0.517</td>\n",
       "      <td>-21.3</td>\n",
       "      <td>-5.2</td>\n",
       "      <td>-26.5</td>\n",
       "      <td>0.0</td>\n",
       "      <td>willial06</td>\n",
       "    </tr>\n",
       "  </tbody>\n",
       "</table>\n",
       "</div>"
      ],
      "text/plain": [
       "      Rk              Player Pos  Age   Tm  G  MP_Total   PER  TS%  3PAr  FTr  ORB%  DRB%  TRB%  AST%  STL%  BLK%   TOV%  USG%  OWS  DWS   WS  WS_48  OBPM  DBPM   BPM  VORP Player_additional\n",
       "89    66         Moses Brown   C   23  BRK  2         6  -2.6  NaN   NaN  NaN   0.0   0.0   0.0   0.0   8.1   0.0  100.0   7.4  0.0  0.0  0.0 -0.129 -12.7   2.8  -9.9   0.0         brownmo01\n",
       "196  151  Michael Foster Jr.  PF   20  PHI  1         1   0.0  NaN   NaN  NaN   0.0   0.0   0.0   0.0   0.0   0.0    NaN   0.0  0.0  0.0  0.0  0.010  -7.2  -1.9  -9.2   0.0         fostemi02\n",
       "652  515    Alondes Williams  SG   23  BRK  1         5 -20.9  NaN   NaN  NaN   0.0  22.0  11.2   0.0   0.0   0.0  100.0  17.7 -0.1  0.0 -0.1 -0.517 -21.3  -5.2 -26.5   0.0         willial06"
      ]
     },
     "execution_count": 433,
     "metadata": {},
     "output_type": "execute_result"
    }
   ],
   "source": [
    "advanced_df_raw[advanced_df_raw['3PAr'].isna()]"
   ]
  },
  {
   "cell_type": "code",
   "execution_count": 434,
   "metadata": {},
   "outputs": [
    {
     "data": {
      "text/html": [
       "<div>\n",
       "<style scoped>\n",
       "    .dataframe tbody tr th:only-of-type {\n",
       "        vertical-align: middle;\n",
       "    }\n",
       "\n",
       "    .dataframe tbody tr th {\n",
       "        vertical-align: top;\n",
       "    }\n",
       "\n",
       "    .dataframe thead th {\n",
       "        text-align: right;\n",
       "    }\n",
       "</style>\n",
       "<table border=\"1\" class=\"dataframe\">\n",
       "  <thead>\n",
       "    <tr style=\"text-align: right;\">\n",
       "      <th></th>\n",
       "      <th>Rk</th>\n",
       "      <th>Player</th>\n",
       "      <th>Pos</th>\n",
       "      <th>Age</th>\n",
       "      <th>Tm</th>\n",
       "      <th>G</th>\n",
       "      <th>MP_Total</th>\n",
       "      <th>PER</th>\n",
       "      <th>TS%</th>\n",
       "      <th>3PAr</th>\n",
       "      <th>FTr</th>\n",
       "      <th>ORB%</th>\n",
       "      <th>DRB%</th>\n",
       "      <th>TRB%</th>\n",
       "      <th>AST%</th>\n",
       "      <th>STL%</th>\n",
       "      <th>BLK%</th>\n",
       "      <th>TOV%</th>\n",
       "      <th>USG%</th>\n",
       "      <th>OWS</th>\n",
       "      <th>DWS</th>\n",
       "      <th>WS</th>\n",
       "      <th>WS_48</th>\n",
       "      <th>OBPM</th>\n",
       "      <th>DBPM</th>\n",
       "      <th>BPM</th>\n",
       "      <th>VORP</th>\n",
       "      <th>Player_additional</th>\n",
       "    </tr>\n",
       "  </thead>\n",
       "  <tbody>\n",
       "    <tr>\n",
       "      <th>89</th>\n",
       "      <td>66</td>\n",
       "      <td>Moses Brown</td>\n",
       "      <td>C</td>\n",
       "      <td>23</td>\n",
       "      <td>BRK</td>\n",
       "      <td>2</td>\n",
       "      <td>6</td>\n",
       "      <td>-2.6</td>\n",
       "      <td>NaN</td>\n",
       "      <td>NaN</td>\n",
       "      <td>NaN</td>\n",
       "      <td>0.0</td>\n",
       "      <td>0.0</td>\n",
       "      <td>0.0</td>\n",
       "      <td>0.0</td>\n",
       "      <td>8.1</td>\n",
       "      <td>0.0</td>\n",
       "      <td>100.0</td>\n",
       "      <td>7.4</td>\n",
       "      <td>0.0</td>\n",
       "      <td>0.0</td>\n",
       "      <td>0.0</td>\n",
       "      <td>-0.129</td>\n",
       "      <td>-12.7</td>\n",
       "      <td>2.8</td>\n",
       "      <td>-9.9</td>\n",
       "      <td>0.0</td>\n",
       "      <td>brownmo01</td>\n",
       "    </tr>\n",
       "    <tr>\n",
       "      <th>196</th>\n",
       "      <td>151</td>\n",
       "      <td>Michael Foster Jr.</td>\n",
       "      <td>PF</td>\n",
       "      <td>20</td>\n",
       "      <td>PHI</td>\n",
       "      <td>1</td>\n",
       "      <td>1</td>\n",
       "      <td>0.0</td>\n",
       "      <td>NaN</td>\n",
       "      <td>NaN</td>\n",
       "      <td>NaN</td>\n",
       "      <td>0.0</td>\n",
       "      <td>0.0</td>\n",
       "      <td>0.0</td>\n",
       "      <td>0.0</td>\n",
       "      <td>0.0</td>\n",
       "      <td>0.0</td>\n",
       "      <td>NaN</td>\n",
       "      <td>0.0</td>\n",
       "      <td>0.0</td>\n",
       "      <td>0.0</td>\n",
       "      <td>0.0</td>\n",
       "      <td>0.010</td>\n",
       "      <td>-7.2</td>\n",
       "      <td>-1.9</td>\n",
       "      <td>-9.2</td>\n",
       "      <td>0.0</td>\n",
       "      <td>fostemi02</td>\n",
       "    </tr>\n",
       "    <tr>\n",
       "      <th>652</th>\n",
       "      <td>515</td>\n",
       "      <td>Alondes Williams</td>\n",
       "      <td>SG</td>\n",
       "      <td>23</td>\n",
       "      <td>BRK</td>\n",
       "      <td>1</td>\n",
       "      <td>5</td>\n",
       "      <td>-20.9</td>\n",
       "      <td>NaN</td>\n",
       "      <td>NaN</td>\n",
       "      <td>NaN</td>\n",
       "      <td>0.0</td>\n",
       "      <td>22.0</td>\n",
       "      <td>11.2</td>\n",
       "      <td>0.0</td>\n",
       "      <td>0.0</td>\n",
       "      <td>0.0</td>\n",
       "      <td>100.0</td>\n",
       "      <td>17.7</td>\n",
       "      <td>-0.1</td>\n",
       "      <td>0.0</td>\n",
       "      <td>-0.1</td>\n",
       "      <td>-0.517</td>\n",
       "      <td>-21.3</td>\n",
       "      <td>-5.2</td>\n",
       "      <td>-26.5</td>\n",
       "      <td>0.0</td>\n",
       "      <td>willial06</td>\n",
       "    </tr>\n",
       "  </tbody>\n",
       "</table>\n",
       "</div>"
      ],
      "text/plain": [
       "      Rk              Player Pos  Age   Tm  G  MP_Total   PER  TS%  3PAr  FTr  ORB%  DRB%  TRB%  AST%  STL%  BLK%   TOV%  USG%  OWS  DWS   WS  WS_48  OBPM  DBPM   BPM  VORP Player_additional\n",
       "89    66         Moses Brown   C   23  BRK  2         6  -2.6  NaN   NaN  NaN   0.0   0.0   0.0   0.0   8.1   0.0  100.0   7.4  0.0  0.0  0.0 -0.129 -12.7   2.8  -9.9   0.0         brownmo01\n",
       "196  151  Michael Foster Jr.  PF   20  PHI  1         1   0.0  NaN   NaN  NaN   0.0   0.0   0.0   0.0   0.0   0.0    NaN   0.0  0.0  0.0  0.0  0.010  -7.2  -1.9  -9.2   0.0         fostemi02\n",
       "652  515    Alondes Williams  SG   23  BRK  1         5 -20.9  NaN   NaN  NaN   0.0  22.0  11.2   0.0   0.0   0.0  100.0  17.7 -0.1  0.0 -0.1 -0.517 -21.3  -5.2 -26.5   0.0         willial06"
      ]
     },
     "execution_count": 434,
     "metadata": {},
     "output_type": "execute_result"
    }
   ],
   "source": [
    "advanced_df_raw[advanced_df_raw['FTr'].isna()]"
   ]
  },
  {
   "cell_type": "markdown",
   "metadata": {},
   "source": [
    "### 3.1.5. <a id='toc3_1_5_'></a>[Do these players have multiple lines due to team exchanges?](#toc0_)\n",
    "- Moses Brown do appear in three different rows once he was traded two times during this season so it may be a good alternative to join the rows\n",
    "- Michael Foster Jr. and Alondes Williams don't appear. So the missing data may be due to impossobilities to calculate it. It may be a good solution to use 0,0 as values or to attempt to estimate it from the Per Game Dataset."
   ]
  },
  {
   "cell_type": "code",
   "execution_count": 435,
   "metadata": {},
   "outputs": [
    {
     "data": {
      "text/html": [
       "<div>\n",
       "<style scoped>\n",
       "    .dataframe tbody tr th:only-of-type {\n",
       "        vertical-align: middle;\n",
       "    }\n",
       "\n",
       "    .dataframe tbody tr th {\n",
       "        vertical-align: top;\n",
       "    }\n",
       "\n",
       "    .dataframe thead th {\n",
       "        text-align: right;\n",
       "    }\n",
       "</style>\n",
       "<table border=\"1\" class=\"dataframe\">\n",
       "  <thead>\n",
       "    <tr style=\"text-align: right;\">\n",
       "      <th></th>\n",
       "      <th>Rk</th>\n",
       "      <th>Player</th>\n",
       "      <th>Pos</th>\n",
       "      <th>Age</th>\n",
       "      <th>Tm</th>\n",
       "      <th>G</th>\n",
       "      <th>MP_Total</th>\n",
       "      <th>PER</th>\n",
       "      <th>TS%</th>\n",
       "      <th>3PAr</th>\n",
       "      <th>FTr</th>\n",
       "      <th>ORB%</th>\n",
       "      <th>DRB%</th>\n",
       "      <th>TRB%</th>\n",
       "      <th>AST%</th>\n",
       "      <th>STL%</th>\n",
       "      <th>BLK%</th>\n",
       "      <th>TOV%</th>\n",
       "      <th>USG%</th>\n",
       "      <th>OWS</th>\n",
       "      <th>DWS</th>\n",
       "      <th>WS</th>\n",
       "      <th>WS_48</th>\n",
       "      <th>OBPM</th>\n",
       "      <th>DBPM</th>\n",
       "      <th>BPM</th>\n",
       "      <th>VORP</th>\n",
       "      <th>Player_additional</th>\n",
       "    </tr>\n",
       "  </thead>\n",
       "  <tbody>\n",
       "    <tr>\n",
       "      <th>87</th>\n",
       "      <td>66</td>\n",
       "      <td>Moses Brown</td>\n",
       "      <td>C</td>\n",
       "      <td>23</td>\n",
       "      <td>TOT</td>\n",
       "      <td>36</td>\n",
       "      <td>294</td>\n",
       "      <td>22.2</td>\n",
       "      <td>0.607</td>\n",
       "      <td>0.0</td>\n",
       "      <td>0.75</td>\n",
       "      <td>22.0</td>\n",
       "      <td>30.9</td>\n",
       "      <td>26.5</td>\n",
       "      <td>2.1</td>\n",
       "      <td>0.7</td>\n",
       "      <td>4.2</td>\n",
       "      <td>10.5</td>\n",
       "      <td>21.2</td>\n",
       "      <td>0.7</td>\n",
       "      <td>0.4</td>\n",
       "      <td>1.1</td>\n",
       "      <td>0.179</td>\n",
       "      <td>0.6</td>\n",
       "      <td>-1.2</td>\n",
       "      <td>-0.6</td>\n",
       "      <td>0.1</td>\n",
       "      <td>brownmo01</td>\n",
       "    </tr>\n",
       "    <tr>\n",
       "      <th>88</th>\n",
       "      <td>66</td>\n",
       "      <td>Moses Brown</td>\n",
       "      <td>C</td>\n",
       "      <td>23</td>\n",
       "      <td>LAC</td>\n",
       "      <td>34</td>\n",
       "      <td>288</td>\n",
       "      <td>22.7</td>\n",
       "      <td>0.607</td>\n",
       "      <td>0.0</td>\n",
       "      <td>0.75</td>\n",
       "      <td>22.4</td>\n",
       "      <td>31.5</td>\n",
       "      <td>27.0</td>\n",
       "      <td>2.2</td>\n",
       "      <td>0.5</td>\n",
       "      <td>4.3</td>\n",
       "      <td>9.9</td>\n",
       "      <td>21.5</td>\n",
       "      <td>0.7</td>\n",
       "      <td>0.4</td>\n",
       "      <td>1.1</td>\n",
       "      <td>0.185</td>\n",
       "      <td>0.9</td>\n",
       "      <td>-1.3</td>\n",
       "      <td>-0.4</td>\n",
       "      <td>0.1</td>\n",
       "      <td>brownmo01</td>\n",
       "    </tr>\n",
       "    <tr>\n",
       "      <th>89</th>\n",
       "      <td>66</td>\n",
       "      <td>Moses Brown</td>\n",
       "      <td>C</td>\n",
       "      <td>23</td>\n",
       "      <td>BRK</td>\n",
       "      <td>2</td>\n",
       "      <td>6</td>\n",
       "      <td>-2.6</td>\n",
       "      <td>NaN</td>\n",
       "      <td>NaN</td>\n",
       "      <td>NaN</td>\n",
       "      <td>0.0</td>\n",
       "      <td>0.0</td>\n",
       "      <td>0.0</td>\n",
       "      <td>0.0</td>\n",
       "      <td>8.1</td>\n",
       "      <td>0.0</td>\n",
       "      <td>100.0</td>\n",
       "      <td>7.4</td>\n",
       "      <td>0.0</td>\n",
       "      <td>0.0</td>\n",
       "      <td>0.0</td>\n",
       "      <td>-0.129</td>\n",
       "      <td>-12.7</td>\n",
       "      <td>2.8</td>\n",
       "      <td>-9.9</td>\n",
       "      <td>0.0</td>\n",
       "      <td>brownmo01</td>\n",
       "    </tr>\n",
       "  </tbody>\n",
       "</table>\n",
       "</div>"
      ],
      "text/plain": [
       "    Rk       Player Pos  Age   Tm   G  MP_Total   PER    TS%  3PAr   FTr  ORB%  DRB%  TRB%  AST%  STL%  BLK%   TOV%  USG%  OWS  DWS   WS  WS_48  OBPM  DBPM  BPM  VORP Player_additional\n",
       "87  66  Moses Brown   C   23  TOT  36       294  22.2  0.607   0.0  0.75  22.0  30.9  26.5   2.1   0.7   4.2   10.5  21.2  0.7  0.4  1.1  0.179   0.6  -1.2 -0.6   0.1         brownmo01\n",
       "88  66  Moses Brown   C   23  LAC  34       288  22.7  0.607   0.0  0.75  22.4  31.5  27.0   2.2   0.5   4.3    9.9  21.5  0.7  0.4  1.1  0.185   0.9  -1.3 -0.4   0.1         brownmo01\n",
       "89  66  Moses Brown   C   23  BRK   2         6  -2.6    NaN   NaN   NaN   0.0   0.0   0.0   0.0   8.1   0.0  100.0   7.4  0.0  0.0  0.0 -0.129 -12.7   2.8 -9.9   0.0         brownmo01"
      ]
     },
     "execution_count": 435,
     "metadata": {},
     "output_type": "execute_result"
    }
   ],
   "source": [
    "advanced_df_raw[advanced_df_raw['Player_additional'] == 'brownmo01']"
   ]
  },
  {
   "cell_type": "code",
   "execution_count": 436,
   "metadata": {},
   "outputs": [
    {
     "data": {
      "text/html": [
       "<div>\n",
       "<style scoped>\n",
       "    .dataframe tbody tr th:only-of-type {\n",
       "        vertical-align: middle;\n",
       "    }\n",
       "\n",
       "    .dataframe tbody tr th {\n",
       "        vertical-align: top;\n",
       "    }\n",
       "\n",
       "    .dataframe thead th {\n",
       "        text-align: right;\n",
       "    }\n",
       "</style>\n",
       "<table border=\"1\" class=\"dataframe\">\n",
       "  <thead>\n",
       "    <tr style=\"text-align: right;\">\n",
       "      <th></th>\n",
       "      <th>Rk</th>\n",
       "      <th>Player</th>\n",
       "      <th>Pos</th>\n",
       "      <th>Age</th>\n",
       "      <th>Tm</th>\n",
       "      <th>G</th>\n",
       "      <th>MP_Total</th>\n",
       "      <th>PER</th>\n",
       "      <th>TS%</th>\n",
       "      <th>3PAr</th>\n",
       "      <th>FTr</th>\n",
       "      <th>ORB%</th>\n",
       "      <th>DRB%</th>\n",
       "      <th>TRB%</th>\n",
       "      <th>AST%</th>\n",
       "      <th>STL%</th>\n",
       "      <th>BLK%</th>\n",
       "      <th>TOV%</th>\n",
       "      <th>USG%</th>\n",
       "      <th>OWS</th>\n",
       "      <th>DWS</th>\n",
       "      <th>WS</th>\n",
       "      <th>WS_48</th>\n",
       "      <th>OBPM</th>\n",
       "      <th>DBPM</th>\n",
       "      <th>BPM</th>\n",
       "      <th>VORP</th>\n",
       "      <th>Player_additional</th>\n",
       "    </tr>\n",
       "  </thead>\n",
       "  <tbody>\n",
       "    <tr>\n",
       "      <th>196</th>\n",
       "      <td>151</td>\n",
       "      <td>Michael Foster Jr.</td>\n",
       "      <td>PF</td>\n",
       "      <td>20</td>\n",
       "      <td>PHI</td>\n",
       "      <td>1</td>\n",
       "      <td>1</td>\n",
       "      <td>0.0</td>\n",
       "      <td>NaN</td>\n",
       "      <td>NaN</td>\n",
       "      <td>NaN</td>\n",
       "      <td>0.0</td>\n",
       "      <td>0.0</td>\n",
       "      <td>0.0</td>\n",
       "      <td>0.0</td>\n",
       "      <td>0.0</td>\n",
       "      <td>0.0</td>\n",
       "      <td>NaN</td>\n",
       "      <td>0.0</td>\n",
       "      <td>0.0</td>\n",
       "      <td>0.0</td>\n",
       "      <td>0.0</td>\n",
       "      <td>0.01</td>\n",
       "      <td>-7.2</td>\n",
       "      <td>-1.9</td>\n",
       "      <td>-9.2</td>\n",
       "      <td>0.0</td>\n",
       "      <td>fostemi02</td>\n",
       "    </tr>\n",
       "  </tbody>\n",
       "</table>\n",
       "</div>"
      ],
      "text/plain": [
       "      Rk              Player Pos  Age   Tm  G  MP_Total  PER  TS%  3PAr  FTr  ORB%  DRB%  TRB%  AST%  STL%  BLK%  TOV%  USG%  OWS  DWS   WS  WS_48  OBPM  DBPM  BPM  VORP Player_additional\n",
       "196  151  Michael Foster Jr.  PF   20  PHI  1         1  0.0  NaN   NaN  NaN   0.0   0.0   0.0   0.0   0.0   0.0   NaN   0.0  0.0  0.0  0.0   0.01  -7.2  -1.9 -9.2   0.0         fostemi02"
      ]
     },
     "execution_count": 436,
     "metadata": {},
     "output_type": "execute_result"
    }
   ],
   "source": [
    "advanced_df_raw[advanced_df_raw['Player_additional'] == 'fostemi02']"
   ]
  },
  {
   "cell_type": "code",
   "execution_count": 437,
   "metadata": {},
   "outputs": [
    {
     "data": {
      "text/html": [
       "<div>\n",
       "<style scoped>\n",
       "    .dataframe tbody tr th:only-of-type {\n",
       "        vertical-align: middle;\n",
       "    }\n",
       "\n",
       "    .dataframe tbody tr th {\n",
       "        vertical-align: top;\n",
       "    }\n",
       "\n",
       "    .dataframe thead th {\n",
       "        text-align: right;\n",
       "    }\n",
       "</style>\n",
       "<table border=\"1\" class=\"dataframe\">\n",
       "  <thead>\n",
       "    <tr style=\"text-align: right;\">\n",
       "      <th></th>\n",
       "      <th>Rk</th>\n",
       "      <th>Player</th>\n",
       "      <th>Pos</th>\n",
       "      <th>Age</th>\n",
       "      <th>Tm</th>\n",
       "      <th>G</th>\n",
       "      <th>MP_Total</th>\n",
       "      <th>PER</th>\n",
       "      <th>TS%</th>\n",
       "      <th>3PAr</th>\n",
       "      <th>FTr</th>\n",
       "      <th>ORB%</th>\n",
       "      <th>DRB%</th>\n",
       "      <th>TRB%</th>\n",
       "      <th>AST%</th>\n",
       "      <th>STL%</th>\n",
       "      <th>BLK%</th>\n",
       "      <th>TOV%</th>\n",
       "      <th>USG%</th>\n",
       "      <th>OWS</th>\n",
       "      <th>DWS</th>\n",
       "      <th>WS</th>\n",
       "      <th>WS_48</th>\n",
       "      <th>OBPM</th>\n",
       "      <th>DBPM</th>\n",
       "      <th>BPM</th>\n",
       "      <th>VORP</th>\n",
       "      <th>Player_additional</th>\n",
       "    </tr>\n",
       "  </thead>\n",
       "  <tbody>\n",
       "    <tr>\n",
       "      <th>652</th>\n",
       "      <td>515</td>\n",
       "      <td>Alondes Williams</td>\n",
       "      <td>SG</td>\n",
       "      <td>23</td>\n",
       "      <td>BRK</td>\n",
       "      <td>1</td>\n",
       "      <td>5</td>\n",
       "      <td>-20.9</td>\n",
       "      <td>NaN</td>\n",
       "      <td>NaN</td>\n",
       "      <td>NaN</td>\n",
       "      <td>0.0</td>\n",
       "      <td>22.0</td>\n",
       "      <td>11.2</td>\n",
       "      <td>0.0</td>\n",
       "      <td>0.0</td>\n",
       "      <td>0.0</td>\n",
       "      <td>100.0</td>\n",
       "      <td>17.7</td>\n",
       "      <td>-0.1</td>\n",
       "      <td>0.0</td>\n",
       "      <td>-0.1</td>\n",
       "      <td>-0.517</td>\n",
       "      <td>-21.3</td>\n",
       "      <td>-5.2</td>\n",
       "      <td>-26.5</td>\n",
       "      <td>0.0</td>\n",
       "      <td>willial06</td>\n",
       "    </tr>\n",
       "  </tbody>\n",
       "</table>\n",
       "</div>"
      ],
      "text/plain": [
       "      Rk            Player Pos  Age   Tm  G  MP_Total   PER  TS%  3PAr  FTr  ORB%  DRB%  TRB%  AST%  STL%  BLK%   TOV%  USG%  OWS  DWS   WS  WS_48  OBPM  DBPM   BPM  VORP Player_additional\n",
       "652  515  Alondes Williams  SG   23  BRK  1         5 -20.9  NaN   NaN  NaN   0.0  22.0  11.2   0.0   0.0   0.0  100.0  17.7 -0.1  0.0 -0.1 -0.517 -21.3  -5.2 -26.5   0.0         willial06"
      ]
     },
     "execution_count": 437,
     "metadata": {},
     "output_type": "execute_result"
    }
   ],
   "source": [
    "advanced_df_raw[advanced_df_raw['Player_additional'] == 'willial06']"
   ]
  },
  {
   "cell_type": "markdown",
   "metadata": {},
   "source": [
    "### 3.1.6. <a id='toc3_1_6_'></a>[Let's combine the rows with same players](#toc0_)"
   ]
  },
  {
   "cell_type": "code",
   "execution_count": 438,
   "metadata": {},
   "outputs": [],
   "source": [
    "advanced_df = advanced_df_raw.groupby(\"Player_additional\", as_index=False).agg(\n",
    "                      {\n",
    "                          'Rk':'first', 'Player':'first', \n",
    "                          'Pos':'first', 'Age':'first', \n",
    "                          'Tm':'first', 'G':'first', \n",
    "                          'MP_Total':'mean', 'PER':'mean', \n",
    "                          'TS%':'mean', '3PAr':'mean',\n",
    "                          'FTr':'mean', 'ORB%':'mean', \n",
    "                          'DRB%':'mean', 'TRB%':'mean', \n",
    "                          'AST%':'mean', 'STL%':'mean', \n",
    "                          'BLK%':'mean', 'TOV%':'mean', \n",
    "                          'USG%':'mean', 'OWS':'mean', \n",
    "                          'DWS':'mean', 'WS':'mean', \n",
    "                          'WS_48':'mean', 'OBPM':'mean', \n",
    "                          'DBPM':'mean', 'BPM':'mean', \n",
    "                          'VORP':'mean', 'Player_additional':'first'\n",
    "                      }\n",
    "                      )"
   ]
  },
  {
   "cell_type": "markdown",
   "metadata": {},
   "source": [
    "#### 3.1.6.1. <a id='toc3_1_6_1_'></a>[Checking if the concatenation went right](#toc0_)"
   ]
  },
  {
   "cell_type": "code",
   "execution_count": 439,
   "metadata": {},
   "outputs": [
    {
     "data": {
      "text/plain": [
       "539"
      ]
     },
     "execution_count": 439,
     "metadata": {},
     "output_type": "execute_result"
    }
   ],
   "source": [
    "advanced_df.shape[0]"
   ]
  },
  {
   "cell_type": "code",
   "execution_count": 440,
   "metadata": {},
   "outputs": [
    {
     "data": {
      "text/plain": [
       "539"
      ]
     },
     "execution_count": 440,
     "metadata": {},
     "output_type": "execute_result"
    }
   ],
   "source": [
    "advanced_df['Player_additional'].nunique()"
   ]
  },
  {
   "cell_type": "code",
   "execution_count": 441,
   "metadata": {},
   "outputs": [
    {
     "data": {
      "text/html": [
       "<div>\n",
       "<style scoped>\n",
       "    .dataframe tbody tr th:only-of-type {\n",
       "        vertical-align: middle;\n",
       "    }\n",
       "\n",
       "    .dataframe tbody tr th {\n",
       "        vertical-align: top;\n",
       "    }\n",
       "\n",
       "    .dataframe thead th {\n",
       "        text-align: right;\n",
       "    }\n",
       "</style>\n",
       "<table border=\"1\" class=\"dataframe\">\n",
       "  <thead>\n",
       "    <tr style=\"text-align: right;\">\n",
       "      <th></th>\n",
       "      <th>Rk</th>\n",
       "      <th>Player</th>\n",
       "      <th>Pos</th>\n",
       "      <th>Age</th>\n",
       "      <th>Tm</th>\n",
       "      <th>G</th>\n",
       "      <th>MP_Total</th>\n",
       "      <th>PER</th>\n",
       "      <th>TS%</th>\n",
       "      <th>3PAr</th>\n",
       "      <th>FTr</th>\n",
       "      <th>ORB%</th>\n",
       "      <th>DRB%</th>\n",
       "      <th>TRB%</th>\n",
       "      <th>AST%</th>\n",
       "      <th>STL%</th>\n",
       "      <th>BLK%</th>\n",
       "      <th>TOV%</th>\n",
       "      <th>USG%</th>\n",
       "      <th>OWS</th>\n",
       "      <th>DWS</th>\n",
       "      <th>WS</th>\n",
       "      <th>WS_48</th>\n",
       "      <th>OBPM</th>\n",
       "      <th>DBPM</th>\n",
       "      <th>BPM</th>\n",
       "      <th>VORP</th>\n",
       "      <th>Player_additional</th>\n",
       "    </tr>\n",
       "  </thead>\n",
       "  <tbody>\n",
       "    <tr>\n",
       "      <th>87</th>\n",
       "      <td>66</td>\n",
       "      <td>Moses Brown</td>\n",
       "      <td>C</td>\n",
       "      <td>23</td>\n",
       "      <td>TOT</td>\n",
       "      <td>36</td>\n",
       "      <td>294</td>\n",
       "      <td>22.2</td>\n",
       "      <td>0.607</td>\n",
       "      <td>0.0</td>\n",
       "      <td>0.75</td>\n",
       "      <td>22.0</td>\n",
       "      <td>30.9</td>\n",
       "      <td>26.5</td>\n",
       "      <td>2.1</td>\n",
       "      <td>0.7</td>\n",
       "      <td>4.2</td>\n",
       "      <td>10.5</td>\n",
       "      <td>21.2</td>\n",
       "      <td>0.7</td>\n",
       "      <td>0.4</td>\n",
       "      <td>1.1</td>\n",
       "      <td>0.179</td>\n",
       "      <td>0.6</td>\n",
       "      <td>-1.2</td>\n",
       "      <td>-0.6</td>\n",
       "      <td>0.1</td>\n",
       "      <td>brownmo01</td>\n",
       "    </tr>\n",
       "    <tr>\n",
       "      <th>88</th>\n",
       "      <td>66</td>\n",
       "      <td>Moses Brown</td>\n",
       "      <td>C</td>\n",
       "      <td>23</td>\n",
       "      <td>LAC</td>\n",
       "      <td>34</td>\n",
       "      <td>288</td>\n",
       "      <td>22.7</td>\n",
       "      <td>0.607</td>\n",
       "      <td>0.0</td>\n",
       "      <td>0.75</td>\n",
       "      <td>22.4</td>\n",
       "      <td>31.5</td>\n",
       "      <td>27.0</td>\n",
       "      <td>2.2</td>\n",
       "      <td>0.5</td>\n",
       "      <td>4.3</td>\n",
       "      <td>9.9</td>\n",
       "      <td>21.5</td>\n",
       "      <td>0.7</td>\n",
       "      <td>0.4</td>\n",
       "      <td>1.1</td>\n",
       "      <td>0.185</td>\n",
       "      <td>0.9</td>\n",
       "      <td>-1.3</td>\n",
       "      <td>-0.4</td>\n",
       "      <td>0.1</td>\n",
       "      <td>brownmo01</td>\n",
       "    </tr>\n",
       "    <tr>\n",
       "      <th>89</th>\n",
       "      <td>66</td>\n",
       "      <td>Moses Brown</td>\n",
       "      <td>C</td>\n",
       "      <td>23</td>\n",
       "      <td>BRK</td>\n",
       "      <td>2</td>\n",
       "      <td>6</td>\n",
       "      <td>-2.6</td>\n",
       "      <td>NaN</td>\n",
       "      <td>NaN</td>\n",
       "      <td>NaN</td>\n",
       "      <td>0.0</td>\n",
       "      <td>0.0</td>\n",
       "      <td>0.0</td>\n",
       "      <td>0.0</td>\n",
       "      <td>8.1</td>\n",
       "      <td>0.0</td>\n",
       "      <td>100.0</td>\n",
       "      <td>7.4</td>\n",
       "      <td>0.0</td>\n",
       "      <td>0.0</td>\n",
       "      <td>0.0</td>\n",
       "      <td>-0.129</td>\n",
       "      <td>-12.7</td>\n",
       "      <td>2.8</td>\n",
       "      <td>-9.9</td>\n",
       "      <td>0.0</td>\n",
       "      <td>brownmo01</td>\n",
       "    </tr>\n",
       "  </tbody>\n",
       "</table>\n",
       "</div>"
      ],
      "text/plain": [
       "    Rk       Player Pos  Age   Tm   G  MP_Total   PER    TS%  3PAr   FTr  ORB%  DRB%  TRB%  AST%  STL%  BLK%   TOV%  USG%  OWS  DWS   WS  WS_48  OBPM  DBPM  BPM  VORP Player_additional\n",
       "87  66  Moses Brown   C   23  TOT  36       294  22.2  0.607   0.0  0.75  22.0  30.9  26.5   2.1   0.7   4.2   10.5  21.2  0.7  0.4  1.1  0.179   0.6  -1.2 -0.6   0.1         brownmo01\n",
       "88  66  Moses Brown   C   23  LAC  34       288  22.7  0.607   0.0  0.75  22.4  31.5  27.0   2.2   0.5   4.3    9.9  21.5  0.7  0.4  1.1  0.185   0.9  -1.3 -0.4   0.1         brownmo01\n",
       "89  66  Moses Brown   C   23  BRK   2         6  -2.6    NaN   NaN   NaN   0.0   0.0   0.0   0.0   8.1   0.0  100.0   7.4  0.0  0.0  0.0 -0.129 -12.7   2.8 -9.9   0.0         brownmo01"
      ]
     },
     "execution_count": 441,
     "metadata": {},
     "output_type": "execute_result"
    }
   ],
   "source": [
    "# Como era:\n",
    "\n",
    "advanced_df_raw[advanced_df_raw['Player_additional'] == 'brownmo01']"
   ]
  },
  {
   "cell_type": "code",
   "execution_count": 442,
   "metadata": {},
   "outputs": [
    {
     "data": {
      "text/html": [
       "<div>\n",
       "<style scoped>\n",
       "    .dataframe tbody tr th:only-of-type {\n",
       "        vertical-align: middle;\n",
       "    }\n",
       "\n",
       "    .dataframe tbody tr th {\n",
       "        vertical-align: top;\n",
       "    }\n",
       "\n",
       "    .dataframe thead th {\n",
       "        text-align: right;\n",
       "    }\n",
       "</style>\n",
       "<table border=\"1\" class=\"dataframe\">\n",
       "  <thead>\n",
       "    <tr style=\"text-align: right;\">\n",
       "      <th></th>\n",
       "      <th>Rk</th>\n",
       "      <th>Player</th>\n",
       "      <th>Pos</th>\n",
       "      <th>Age</th>\n",
       "      <th>Tm</th>\n",
       "      <th>G</th>\n",
       "      <th>MP_Total</th>\n",
       "      <th>PER</th>\n",
       "      <th>TS%</th>\n",
       "      <th>3PAr</th>\n",
       "      <th>FTr</th>\n",
       "      <th>ORB%</th>\n",
       "      <th>DRB%</th>\n",
       "      <th>TRB%</th>\n",
       "      <th>AST%</th>\n",
       "      <th>STL%</th>\n",
       "      <th>BLK%</th>\n",
       "      <th>TOV%</th>\n",
       "      <th>USG%</th>\n",
       "      <th>OWS</th>\n",
       "      <th>DWS</th>\n",
       "      <th>WS</th>\n",
       "      <th>WS_48</th>\n",
       "      <th>OBPM</th>\n",
       "      <th>DBPM</th>\n",
       "      <th>BPM</th>\n",
       "      <th>VORP</th>\n",
       "      <th>Player_additional</th>\n",
       "    </tr>\n",
       "  </thead>\n",
       "  <tbody>\n",
       "    <tr>\n",
       "      <th>65</th>\n",
       "      <td>66</td>\n",
       "      <td>Moses Brown</td>\n",
       "      <td>C</td>\n",
       "      <td>23</td>\n",
       "      <td>TOT</td>\n",
       "      <td>36</td>\n",
       "      <td>196.0</td>\n",
       "      <td>14.1</td>\n",
       "      <td>0.607</td>\n",
       "      <td>0.0</td>\n",
       "      <td>0.75</td>\n",
       "      <td>14.8</td>\n",
       "      <td>20.8</td>\n",
       "      <td>17.833333</td>\n",
       "      <td>1.433333</td>\n",
       "      <td>3.1</td>\n",
       "      <td>2.833333</td>\n",
       "      <td>40.133333</td>\n",
       "      <td>16.7</td>\n",
       "      <td>0.466667</td>\n",
       "      <td>0.266667</td>\n",
       "      <td>0.733333</td>\n",
       "      <td>0.078333</td>\n",
       "      <td>-3.733333</td>\n",
       "      <td>0.1</td>\n",
       "      <td>-3.633333</td>\n",
       "      <td>0.066667</td>\n",
       "      <td>brownmo01</td>\n",
       "    </tr>\n",
       "  </tbody>\n",
       "</table>\n",
       "</div>"
      ],
      "text/plain": [
       "    Rk       Player Pos  Age   Tm   G  MP_Total   PER    TS%  3PAr   FTr  ORB%  DRB%       TRB%      AST%  STL%      BLK%       TOV%  USG%       OWS       DWS        WS     WS_48      OBPM  DBPM       BPM      VORP Player_additional\n",
       "65  66  Moses Brown   C   23  TOT  36     196.0  14.1  0.607   0.0  0.75  14.8  20.8  17.833333  1.433333   3.1  2.833333  40.133333  16.7  0.466667  0.266667  0.733333  0.078333 -3.733333   0.1 -3.633333  0.066667         brownmo01"
      ]
     },
     "execution_count": 442,
     "metadata": {},
     "output_type": "execute_result"
    }
   ],
   "source": [
    "# Como ficou:\n",
    "\n",
    "advanced_df[advanced_df['Player_additional'] == 'brownmo01']"
   ]
  },
  {
   "cell_type": "markdown",
   "metadata": {},
   "source": [
    "### 3.1.7. <a id='toc3_1_7_'></a>[First glance at the Advanced Dataset](#toc0_)"
   ]
  },
  {
   "cell_type": "code",
   "execution_count": 443,
   "metadata": {},
   "outputs": [
    {
     "data": {
      "text/plain": [
       "Rk                     int64\n",
       "Player                object\n",
       "Pos                   object\n",
       "Age                    int64\n",
       "Tm                    object\n",
       "G                      int64\n",
       "MP_Total             float64\n",
       "PER                  float64\n",
       "TS%                  float64\n",
       "3PAr                 float64\n",
       "FTr                  float64\n",
       "ORB%                 float64\n",
       "DRB%                 float64\n",
       "TRB%                 float64\n",
       "AST%                 float64\n",
       "STL%                 float64\n",
       "BLK%                 float64\n",
       "TOV%                 float64\n",
       "USG%                 float64\n",
       "OWS                  float64\n",
       "DWS                  float64\n",
       "WS                   float64\n",
       "WS_48                float64\n",
       "OBPM                 float64\n",
       "DBPM                 float64\n",
       "BPM                  float64\n",
       "VORP                 float64\n",
       "Player_additional     object\n",
       "dtype: object"
      ]
     },
     "execution_count": 443,
     "metadata": {},
     "output_type": "execute_result"
    }
   ],
   "source": [
    "# The data types are all set correctly\n",
    "\n",
    "advanced_df.dtypes"
   ]
  },
  {
   "cell_type": "code",
   "execution_count": 444,
   "metadata": {},
   "outputs": [
    {
     "data": {
      "text/html": [
       "<div>\n",
       "<style scoped>\n",
       "    .dataframe tbody tr th:only-of-type {\n",
       "        vertical-align: middle;\n",
       "    }\n",
       "\n",
       "    .dataframe tbody tr th {\n",
       "        vertical-align: top;\n",
       "    }\n",
       "\n",
       "    .dataframe thead th {\n",
       "        text-align: right;\n",
       "    }\n",
       "</style>\n",
       "<table border=\"1\" class=\"dataframe\">\n",
       "  <thead>\n",
       "    <tr style=\"text-align: right;\">\n",
       "      <th></th>\n",
       "      <th>count</th>\n",
       "      <th>mean</th>\n",
       "      <th>std</th>\n",
       "      <th>min</th>\n",
       "      <th>25%</th>\n",
       "      <th>50%</th>\n",
       "      <th>75%</th>\n",
       "      <th>max</th>\n",
       "    </tr>\n",
       "  </thead>\n",
       "  <tbody>\n",
       "    <tr>\n",
       "      <th>Rk</th>\n",
       "      <td>539.0</td>\n",
       "      <td>270.000000</td>\n",
       "      <td>155.740168</td>\n",
       "      <td>1.000</td>\n",
       "      <td>135.500000</td>\n",
       "      <td>270.000</td>\n",
       "      <td>404.500000</td>\n",
       "      <td>539.000</td>\n",
       "    </tr>\n",
       "    <tr>\n",
       "      <th>Age</th>\n",
       "      <td>539.0</td>\n",
       "      <td>25.727273</td>\n",
       "      <td>4.290326</td>\n",
       "      <td>19.000</td>\n",
       "      <td>23.000000</td>\n",
       "      <td>25.000</td>\n",
       "      <td>28.500000</td>\n",
       "      <td>42.000</td>\n",
       "    </tr>\n",
       "    <tr>\n",
       "      <th>G</th>\n",
       "      <td>539.0</td>\n",
       "      <td>48.042672</td>\n",
       "      <td>24.648006</td>\n",
       "      <td>1.000</td>\n",
       "      <td>30.500000</td>\n",
       "      <td>54.000</td>\n",
       "      <td>68.000000</td>\n",
       "      <td>83.000</td>\n",
       "    </tr>\n",
       "    <tr>\n",
       "      <th>MP_Total</th>\n",
       "      <td>539.0</td>\n",
       "      <td>1058.086580</td>\n",
       "      <td>815.685148</td>\n",
       "      <td>1.000</td>\n",
       "      <td>273.500000</td>\n",
       "      <td>914.000</td>\n",
       "      <td>1772.500000</td>\n",
       "      <td>2842.000</td>\n",
       "    </tr>\n",
       "    <tr>\n",
       "      <th>PER</th>\n",
       "      <td>539.0</td>\n",
       "      <td>13.318429</td>\n",
       "      <td>6.117492</td>\n",
       "      <td>-20.900</td>\n",
       "      <td>10.100000</td>\n",
       "      <td>13.000</td>\n",
       "      <td>16.400000</td>\n",
       "      <td>65.600</td>\n",
       "    </tr>\n",
       "    <tr>\n",
       "      <th>TS%</th>\n",
       "      <td>537.0</td>\n",
       "      <td>0.562687</td>\n",
       "      <td>0.098285</td>\n",
       "      <td>0.000</td>\n",
       "      <td>0.524000</td>\n",
       "      <td>0.567</td>\n",
       "      <td>0.610000</td>\n",
       "      <td>1.064</td>\n",
       "    </tr>\n",
       "    <tr>\n",
       "      <th>3PAr</th>\n",
       "      <td>537.0</td>\n",
       "      <td>0.401669</td>\n",
       "      <td>0.219115</td>\n",
       "      <td>0.000</td>\n",
       "      <td>0.261000</td>\n",
       "      <td>0.408</td>\n",
       "      <td>0.547000</td>\n",
       "      <td>1.000</td>\n",
       "    </tr>\n",
       "    <tr>\n",
       "      <th>FTr</th>\n",
       "      <td>537.0</td>\n",
       "      <td>0.250840</td>\n",
       "      <td>0.182275</td>\n",
       "      <td>0.000</td>\n",
       "      <td>0.143000</td>\n",
       "      <td>0.230</td>\n",
       "      <td>0.321667</td>\n",
       "      <td>2.000</td>\n",
       "    </tr>\n",
       "    <tr>\n",
       "      <th>ORB%</th>\n",
       "      <td>539.0</td>\n",
       "      <td>5.213358</td>\n",
       "      <td>4.241112</td>\n",
       "      <td>0.000</td>\n",
       "      <td>2.166667</td>\n",
       "      <td>3.900</td>\n",
       "      <td>7.050000</td>\n",
       "      <td>28.800</td>\n",
       "    </tr>\n",
       "    <tr>\n",
       "      <th>DRB%</th>\n",
       "      <td>539.0</td>\n",
       "      <td>14.951515</td>\n",
       "      <td>6.539374</td>\n",
       "      <td>0.000</td>\n",
       "      <td>10.750000</td>\n",
       "      <td>13.400</td>\n",
       "      <td>18.700000</td>\n",
       "      <td>55.400</td>\n",
       "    </tr>\n",
       "    <tr>\n",
       "      <th>TRB%</th>\n",
       "      <td>539.0</td>\n",
       "      <td>10.079592</td>\n",
       "      <td>4.666955</td>\n",
       "      <td>0.000</td>\n",
       "      <td>6.800000</td>\n",
       "      <td>8.900</td>\n",
       "      <td>12.700000</td>\n",
       "      <td>29.600</td>\n",
       "    </tr>\n",
       "    <tr>\n",
       "      <th>AST%</th>\n",
       "      <td>539.0</td>\n",
       "      <td>13.457638</td>\n",
       "      <td>8.716905</td>\n",
       "      <td>0.000</td>\n",
       "      <td>7.300000</td>\n",
       "      <td>11.200</td>\n",
       "      <td>17.750000</td>\n",
       "      <td>47.600</td>\n",
       "    </tr>\n",
       "    <tr>\n",
       "      <th>STL%</th>\n",
       "      <td>539.0</td>\n",
       "      <td>1.531973</td>\n",
       "      <td>1.304532</td>\n",
       "      <td>0.000</td>\n",
       "      <td>1.000000</td>\n",
       "      <td>1.400</td>\n",
       "      <td>1.800000</td>\n",
       "      <td>24.200</td>\n",
       "    </tr>\n",
       "    <tr>\n",
       "      <th>BLK%</th>\n",
       "      <td>539.0</td>\n",
       "      <td>1.824552</td>\n",
       "      <td>2.422549</td>\n",
       "      <td>0.000</td>\n",
       "      <td>0.700000</td>\n",
       "      <td>1.200</td>\n",
       "      <td>2.383333</td>\n",
       "      <td>44.100</td>\n",
       "    </tr>\n",
       "    <tr>\n",
       "      <th>TOV%</th>\n",
       "      <td>538.0</td>\n",
       "      <td>12.634387</td>\n",
       "      <td>7.059904</td>\n",
       "      <td>0.000</td>\n",
       "      <td>9.400000</td>\n",
       "      <td>11.900</td>\n",
       "      <td>14.883333</td>\n",
       "      <td>100.000</td>\n",
       "    </tr>\n",
       "    <tr>\n",
       "      <th>USG%</th>\n",
       "      <td>539.0</td>\n",
       "      <td>18.488188</td>\n",
       "      <td>5.862979</td>\n",
       "      <td>0.000</td>\n",
       "      <td>14.400000</td>\n",
       "      <td>17.700</td>\n",
       "      <td>21.250000</td>\n",
       "      <td>52.500</td>\n",
       "    </tr>\n",
       "    <tr>\n",
       "      <th>OWS</th>\n",
       "      <td>539.0</td>\n",
       "      <td>1.171367</td>\n",
       "      <td>1.756752</td>\n",
       "      <td>-1.900</td>\n",
       "      <td>0.000000</td>\n",
       "      <td>0.500</td>\n",
       "      <td>1.766667</td>\n",
       "      <td>11.200</td>\n",
       "    </tr>\n",
       "    <tr>\n",
       "      <th>DWS</th>\n",
       "      <td>539.0</td>\n",
       "      <td>1.076562</td>\n",
       "      <td>0.986927</td>\n",
       "      <td>0.000</td>\n",
       "      <td>0.250000</td>\n",
       "      <td>0.800</td>\n",
       "      <td>1.700000</td>\n",
       "      <td>4.800</td>\n",
       "    </tr>\n",
       "    <tr>\n",
       "      <th>WS</th>\n",
       "      <td>539.0</td>\n",
       "      <td>2.248609</td>\n",
       "      <td>2.540834</td>\n",
       "      <td>-1.600</td>\n",
       "      <td>0.266667</td>\n",
       "      <td>1.400</td>\n",
       "      <td>3.500000</td>\n",
       "      <td>14.900</td>\n",
       "    </tr>\n",
       "    <tr>\n",
       "      <th>WS_48</th>\n",
       "      <td>539.0</td>\n",
       "      <td>0.081631</td>\n",
       "      <td>0.085912</td>\n",
       "      <td>-0.517</td>\n",
       "      <td>0.046000</td>\n",
       "      <td>0.087</td>\n",
       "      <td>0.129500</td>\n",
       "      <td>0.626</td>\n",
       "    </tr>\n",
       "    <tr>\n",
       "      <th>OBPM</th>\n",
       "      <td>539.0</td>\n",
       "      <td>-1.344341</td>\n",
       "      <td>3.532183</td>\n",
       "      <td>-22.500</td>\n",
       "      <td>-3.000000</td>\n",
       "      <td>-1.300</td>\n",
       "      <td>0.400000</td>\n",
       "      <td>16.500</td>\n",
       "    </tr>\n",
       "    <tr>\n",
       "      <th>DBPM</th>\n",
       "      <td>539.0</td>\n",
       "      <td>-0.086085</td>\n",
       "      <td>2.144004</td>\n",
       "      <td>-9.900</td>\n",
       "      <td>-0.900000</td>\n",
       "      <td>-0.100</td>\n",
       "      <td>0.700000</td>\n",
       "      <td>32.700</td>\n",
       "    </tr>\n",
       "    <tr>\n",
       "      <th>BPM</th>\n",
       "      <td>539.0</td>\n",
       "      <td>-1.433704</td>\n",
       "      <td>4.782101</td>\n",
       "      <td>-26.500</td>\n",
       "      <td>-3.300000</td>\n",
       "      <td>-1.300</td>\n",
       "      <td>0.600000</td>\n",
       "      <td>48.600</td>\n",
       "    </tr>\n",
       "    <tr>\n",
       "      <th>VORP</th>\n",
       "      <td>539.0</td>\n",
       "      <td>0.533890</td>\n",
       "      <td>1.197397</td>\n",
       "      <td>-1.300</td>\n",
       "      <td>-0.100000</td>\n",
       "      <td>0.100</td>\n",
       "      <td>0.800000</td>\n",
       "      <td>8.800</td>\n",
       "    </tr>\n",
       "  </tbody>\n",
       "</table>\n",
       "</div>"
      ],
      "text/plain": [
       "          count         mean         std     min         25%      50%          75%       max\n",
       "Rk        539.0   270.000000  155.740168   1.000  135.500000  270.000   404.500000   539.000\n",
       "Age       539.0    25.727273    4.290326  19.000   23.000000   25.000    28.500000    42.000\n",
       "G         539.0    48.042672   24.648006   1.000   30.500000   54.000    68.000000    83.000\n",
       "MP_Total  539.0  1058.086580  815.685148   1.000  273.500000  914.000  1772.500000  2842.000\n",
       "PER       539.0    13.318429    6.117492 -20.900   10.100000   13.000    16.400000    65.600\n",
       "TS%       537.0     0.562687    0.098285   0.000    0.524000    0.567     0.610000     1.064\n",
       "3PAr      537.0     0.401669    0.219115   0.000    0.261000    0.408     0.547000     1.000\n",
       "FTr       537.0     0.250840    0.182275   0.000    0.143000    0.230     0.321667     2.000\n",
       "ORB%      539.0     5.213358    4.241112   0.000    2.166667    3.900     7.050000    28.800\n",
       "DRB%      539.0    14.951515    6.539374   0.000   10.750000   13.400    18.700000    55.400\n",
       "TRB%      539.0    10.079592    4.666955   0.000    6.800000    8.900    12.700000    29.600\n",
       "AST%      539.0    13.457638    8.716905   0.000    7.300000   11.200    17.750000    47.600\n",
       "STL%      539.0     1.531973    1.304532   0.000    1.000000    1.400     1.800000    24.200\n",
       "BLK%      539.0     1.824552    2.422549   0.000    0.700000    1.200     2.383333    44.100\n",
       "TOV%      538.0    12.634387    7.059904   0.000    9.400000   11.900    14.883333   100.000\n",
       "USG%      539.0    18.488188    5.862979   0.000   14.400000   17.700    21.250000    52.500\n",
       "OWS       539.0     1.171367    1.756752  -1.900    0.000000    0.500     1.766667    11.200\n",
       "DWS       539.0     1.076562    0.986927   0.000    0.250000    0.800     1.700000     4.800\n",
       "WS        539.0     2.248609    2.540834  -1.600    0.266667    1.400     3.500000    14.900\n",
       "WS_48     539.0     0.081631    0.085912  -0.517    0.046000    0.087     0.129500     0.626\n",
       "OBPM      539.0    -1.344341    3.532183 -22.500   -3.000000   -1.300     0.400000    16.500\n",
       "DBPM      539.0    -0.086085    2.144004  -9.900   -0.900000   -0.100     0.700000    32.700\n",
       "BPM       539.0    -1.433704    4.782101 -26.500   -3.300000   -1.300     0.600000    48.600\n",
       "VORP      539.0     0.533890    1.197397  -1.300   -0.100000    0.100     0.800000     8.800"
      ]
     },
     "execution_count": 444,
     "metadata": {},
     "output_type": "execute_result"
    }
   ],
   "source": [
    "advanced_df.describe().T"
   ]
  },
  {
   "cell_type": "code",
   "execution_count": 445,
   "metadata": {},
   "outputs": [
    {
     "name": "stdout",
     "output_type": "stream",
     "text": [
      "<class 'pandas.core.frame.DataFrame'>\n",
      "RangeIndex: 539 entries, 0 to 538\n",
      "Data columns (total 28 columns):\n",
      " #   Column             Non-Null Count  Dtype  \n",
      "---  ------             --------------  -----  \n",
      " 0   Rk                 539 non-null    int64  \n",
      " 1   Player             539 non-null    object \n",
      " 2   Pos                539 non-null    object \n",
      " 3   Age                539 non-null    int64  \n",
      " 4   Tm                 539 non-null    object \n",
      " 5   G                  539 non-null    int64  \n",
      " 6   MP_Total           539 non-null    float64\n",
      " 7   PER                539 non-null    float64\n",
      " 8   TS%                537 non-null    float64\n",
      " 9   3PAr               537 non-null    float64\n",
      " 10  FTr                537 non-null    float64\n",
      " 11  ORB%               539 non-null    float64\n",
      " 12  DRB%               539 non-null    float64\n",
      " 13  TRB%               539 non-null    float64\n",
      " 14  AST%               539 non-null    float64\n",
      " 15  STL%               539 non-null    float64\n",
      " 16  BLK%               539 non-null    float64\n",
      " 17  TOV%               538 non-null    float64\n",
      " 18  USG%               539 non-null    float64\n",
      " 19  OWS                539 non-null    float64\n",
      " 20  DWS                539 non-null    float64\n",
      " 21  WS                 539 non-null    float64\n",
      " 22  WS_48              539 non-null    float64\n",
      " 23  OBPM               539 non-null    float64\n",
      " 24  DBPM               539 non-null    float64\n",
      " 25  BPM                539 non-null    float64\n",
      " 26  VORP               539 non-null    float64\n",
      " 27  Player_additional  539 non-null    object \n",
      "dtypes: float64(21), int64(3), object(4)\n",
      "memory usage: 118.0+ KB\n"
     ]
    }
   ],
   "source": [
    "advanced_df.info()"
   ]
  },
  {
   "cell_type": "code",
   "execution_count": 446,
   "metadata": {},
   "outputs": [],
   "source": [
    "# Generate a dataset profile report\n",
    "\n",
    "# advanced_profile = ProfileReport(advanced_df, title = 'Advanced NBA Dataset Profile')\n",
    "# advanced_profile.to_file('advanced_profile.html')\n",
    "# advanced_profile"
   ]
  },
  {
   "cell_type": "markdown",
   "metadata": {},
   "source": [
    "### 3.1.8. <a id='toc3_1_8_'></a>[Imputing values to the missing data](#toc0_)\n",
    "- We still have two players with missing values:\n",
    "  - Michael Foster Jr.: 'TS%', '3PAr', 'FTr' and 'TOV%'\n",
    "  - Alondes Williams: 'TS%', '3PAr' and 'FTr'\n",
    "- Both of them are note playing in NBA league currently\n",
    "- For that reason we will imput zeros to the NAs"
   ]
  },
  {
   "cell_type": "code",
   "execution_count": 447,
   "metadata": {},
   "outputs": [
    {
     "data": {
      "text/html": [
       "<div>\n",
       "<style scoped>\n",
       "    .dataframe tbody tr th:only-of-type {\n",
       "        vertical-align: middle;\n",
       "    }\n",
       "\n",
       "    .dataframe tbody tr th {\n",
       "        vertical-align: top;\n",
       "    }\n",
       "\n",
       "    .dataframe thead th {\n",
       "        text-align: right;\n",
       "    }\n",
       "</style>\n",
       "<table border=\"1\" class=\"dataframe\">\n",
       "  <thead>\n",
       "    <tr style=\"text-align: right;\">\n",
       "      <th></th>\n",
       "      <th>Rk</th>\n",
       "      <th>Player</th>\n",
       "      <th>Pos</th>\n",
       "      <th>Age</th>\n",
       "      <th>Tm</th>\n",
       "      <th>G</th>\n",
       "      <th>MP_Total</th>\n",
       "      <th>PER</th>\n",
       "      <th>TS%</th>\n",
       "      <th>3PAr</th>\n",
       "      <th>FTr</th>\n",
       "      <th>ORB%</th>\n",
       "      <th>DRB%</th>\n",
       "      <th>TRB%</th>\n",
       "      <th>AST%</th>\n",
       "      <th>STL%</th>\n",
       "      <th>BLK%</th>\n",
       "      <th>TOV%</th>\n",
       "      <th>USG%</th>\n",
       "      <th>OWS</th>\n",
       "      <th>DWS</th>\n",
       "      <th>WS</th>\n",
       "      <th>WS_48</th>\n",
       "      <th>OBPM</th>\n",
       "      <th>DBPM</th>\n",
       "      <th>BPM</th>\n",
       "      <th>VORP</th>\n",
       "      <th>Player_additional</th>\n",
       "    </tr>\n",
       "  </thead>\n",
       "  <tbody>\n",
       "    <tr>\n",
       "      <th>150</th>\n",
       "      <td>151</td>\n",
       "      <td>Michael Foster Jr.</td>\n",
       "      <td>PF</td>\n",
       "      <td>20</td>\n",
       "      <td>PHI</td>\n",
       "      <td>1</td>\n",
       "      <td>1.0</td>\n",
       "      <td>0.0</td>\n",
       "      <td>NaN</td>\n",
       "      <td>NaN</td>\n",
       "      <td>NaN</td>\n",
       "      <td>0.0</td>\n",
       "      <td>0.0</td>\n",
       "      <td>0.0</td>\n",
       "      <td>0.0</td>\n",
       "      <td>0.0</td>\n",
       "      <td>0.0</td>\n",
       "      <td>NaN</td>\n",
       "      <td>0.0</td>\n",
       "      <td>0.0</td>\n",
       "      <td>0.0</td>\n",
       "      <td>0.0</td>\n",
       "      <td>0.010</td>\n",
       "      <td>-7.2</td>\n",
       "      <td>-1.9</td>\n",
       "      <td>-9.2</td>\n",
       "      <td>0.0</td>\n",
       "      <td>fostemi02</td>\n",
       "    </tr>\n",
       "    <tr>\n",
       "      <th>514</th>\n",
       "      <td>515</td>\n",
       "      <td>Alondes Williams</td>\n",
       "      <td>SG</td>\n",
       "      <td>23</td>\n",
       "      <td>BRK</td>\n",
       "      <td>1</td>\n",
       "      <td>5.0</td>\n",
       "      <td>-20.9</td>\n",
       "      <td>NaN</td>\n",
       "      <td>NaN</td>\n",
       "      <td>NaN</td>\n",
       "      <td>0.0</td>\n",
       "      <td>22.0</td>\n",
       "      <td>11.2</td>\n",
       "      <td>0.0</td>\n",
       "      <td>0.0</td>\n",
       "      <td>0.0</td>\n",
       "      <td>100.0</td>\n",
       "      <td>17.7</td>\n",
       "      <td>-0.1</td>\n",
       "      <td>0.0</td>\n",
       "      <td>-0.1</td>\n",
       "      <td>-0.517</td>\n",
       "      <td>-21.3</td>\n",
       "      <td>-5.2</td>\n",
       "      <td>-26.5</td>\n",
       "      <td>0.0</td>\n",
       "      <td>willial06</td>\n",
       "    </tr>\n",
       "  </tbody>\n",
       "</table>\n",
       "</div>"
      ],
      "text/plain": [
       "      Rk              Player Pos  Age   Tm  G  MP_Total   PER  TS%  3PAr  FTr  ORB%  DRB%  TRB%  AST%  STL%  BLK%   TOV%  USG%  OWS  DWS   WS  WS_48  OBPM  DBPM   BPM  VORP Player_additional\n",
       "150  151  Michael Foster Jr.  PF   20  PHI  1       1.0   0.0  NaN   NaN  NaN   0.0   0.0   0.0   0.0   0.0   0.0    NaN   0.0  0.0  0.0  0.0  0.010  -7.2  -1.9  -9.2   0.0         fostemi02\n",
       "514  515    Alondes Williams  SG   23  BRK  1       5.0 -20.9  NaN   NaN  NaN   0.0  22.0  11.2   0.0   0.0   0.0  100.0  17.7 -0.1  0.0 -0.1 -0.517 -21.3  -5.2 -26.5   0.0         willial06"
      ]
     },
     "execution_count": 447,
     "metadata": {},
     "output_type": "execute_result"
    }
   ],
   "source": [
    "advanced_df[(advanced_df['Player_additional']=='fostemi02') | (advanced_df['Player_additional']=='willial06')]"
   ]
  },
  {
   "cell_type": "code",
   "execution_count": 448,
   "metadata": {},
   "outputs": [],
   "source": [
    "advanced_df = advanced_df.fillna(0)"
   ]
  },
  {
   "cell_type": "code",
   "execution_count": 449,
   "metadata": {},
   "outputs": [
    {
     "data": {
      "text/html": [
       "<div>\n",
       "<style scoped>\n",
       "    .dataframe tbody tr th:only-of-type {\n",
       "        vertical-align: middle;\n",
       "    }\n",
       "\n",
       "    .dataframe tbody tr th {\n",
       "        vertical-align: top;\n",
       "    }\n",
       "\n",
       "    .dataframe thead th {\n",
       "        text-align: right;\n",
       "    }\n",
       "</style>\n",
       "<table border=\"1\" class=\"dataframe\">\n",
       "  <thead>\n",
       "    <tr style=\"text-align: right;\">\n",
       "      <th></th>\n",
       "      <th>Player</th>\n",
       "      <th>TS%</th>\n",
       "      <th>3PAr</th>\n",
       "      <th>FTr</th>\n",
       "      <th>TOV%</th>\n",
       "    </tr>\n",
       "  </thead>\n",
       "  <tbody>\n",
       "    <tr>\n",
       "      <th>150</th>\n",
       "      <td>Michael Foster Jr.</td>\n",
       "      <td>0.0</td>\n",
       "      <td>0.0</td>\n",
       "      <td>0.0</td>\n",
       "      <td>0.0</td>\n",
       "    </tr>\n",
       "    <tr>\n",
       "      <th>514</th>\n",
       "      <td>Alondes Williams</td>\n",
       "      <td>0.0</td>\n",
       "      <td>0.0</td>\n",
       "      <td>0.0</td>\n",
       "      <td>100.0</td>\n",
       "    </tr>\n",
       "  </tbody>\n",
       "</table>\n",
       "</div>"
      ],
      "text/plain": [
       "                 Player  TS%  3PAr  FTr   TOV%\n",
       "150  Michael Foster Jr.  0.0   0.0  0.0    0.0\n",
       "514    Alondes Williams  0.0   0.0  0.0  100.0"
      ]
     },
     "execution_count": 449,
     "metadata": {},
     "output_type": "execute_result"
    }
   ],
   "source": [
    "# Checking if the imputation gone well\n",
    "\n",
    "advanced_df[(advanced_df['Player_additional']=='fostemi02') | (advanced_df['Player_additional']=='willial06')][['Player', 'TS%', '3PAr', 'FTr', 'TOV%']]"
   ]
  },
  {
   "attachments": {},
   "cell_type": "markdown",
   "metadata": {},
   "source": [
    "### Fixing the % features (they are multiplied by 100, not proportions of 1)"
   ]
  },
  {
   "cell_type": "code",
   "execution_count": 450,
   "metadata": {},
   "outputs": [
    {
     "data": {
      "text/html": [
       "<div>\n",
       "<style scoped>\n",
       "    .dataframe tbody tr th:only-of-type {\n",
       "        vertical-align: middle;\n",
       "    }\n",
       "\n",
       "    .dataframe tbody tr th {\n",
       "        vertical-align: top;\n",
       "    }\n",
       "\n",
       "    .dataframe thead th {\n",
       "        text-align: right;\n",
       "    }\n",
       "</style>\n",
       "<table border=\"1\" class=\"dataframe\">\n",
       "  <thead>\n",
       "    <tr style=\"text-align: right;\">\n",
       "      <th></th>\n",
       "      <th>USG%</th>\n",
       "      <th>TOV%</th>\n",
       "      <th>BLK%</th>\n",
       "      <th>STL%</th>\n",
       "      <th>AST%</th>\n",
       "      <th>TRB%</th>\n",
       "      <th>DRB%</th>\n",
       "      <th>ORB%</th>\n",
       "    </tr>\n",
       "  </thead>\n",
       "  <tbody>\n",
       "    <tr>\n",
       "      <th>0</th>\n",
       "      <td>19.4</td>\n",
       "      <td>11.4</td>\n",
       "      <td>2.6</td>\n",
       "      <td>1.3</td>\n",
       "      <td>6.3</td>\n",
       "      <td>16.3</td>\n",
       "      <td>24.4</td>\n",
       "      <td>9.3</td>\n",
       "    </tr>\n",
       "    <tr>\n",
       "      <th>1</th>\n",
       "      <td>14.6</td>\n",
       "      <td>19.8</td>\n",
       "      <td>3.7</td>\n",
       "      <td>1.5</td>\n",
       "      <td>11.2</td>\n",
       "      <td>22.7</td>\n",
       "      <td>25.3</td>\n",
       "      <td>20.1</td>\n",
       "    </tr>\n",
       "    <tr>\n",
       "      <th>2</th>\n",
       "      <td>25.2</td>\n",
       "      <td>12.7</td>\n",
       "      <td>2.4</td>\n",
       "      <td>1.7</td>\n",
       "      <td>15.9</td>\n",
       "      <td>15.5</td>\n",
       "      <td>23.6</td>\n",
       "      <td>8.0</td>\n",
       "    </tr>\n",
       "    <tr>\n",
       "      <th>3</th>\n",
       "      <td>15.8</td>\n",
       "      <td>9.0</td>\n",
       "      <td>1.0</td>\n",
       "      <td>0.6</td>\n",
       "      <td>7.5</td>\n",
       "      <td>5.4</td>\n",
       "      <td>6.9</td>\n",
       "      <td>3.9</td>\n",
       "    </tr>\n",
       "    <tr>\n",
       "      <th>4</th>\n",
       "      <td>16.0</td>\n",
       "      <td>9.3</td>\n",
       "      <td>2.6</td>\n",
       "      <td>1.3</td>\n",
       "      <td>7.6</td>\n",
       "      <td>11.7</td>\n",
       "      <td>18.0</td>\n",
       "      <td>5.4</td>\n",
       "    </tr>\n",
       "  </tbody>\n",
       "</table>\n",
       "</div>"
      ],
      "text/plain": [
       "   USG%  TOV%  BLK%  STL%  AST%  TRB%  DRB%  ORB%\n",
       "0  19.4  11.4   2.6   1.3   6.3  16.3  24.4   9.3\n",
       "1  14.6  19.8   3.7   1.5  11.2  22.7  25.3  20.1\n",
       "2  25.2  12.7   2.4   1.7  15.9  15.5  23.6   8.0\n",
       "3  15.8   9.0   1.0   0.6   7.5   5.4   6.9   3.9\n",
       "4  16.0   9.3   2.6   1.3   7.6  11.7  18.0   5.4"
      ]
     },
     "execution_count": 450,
     "metadata": {},
     "output_type": "execute_result"
    }
   ],
   "source": [
    "advanced_df[['USG%', 'TOV%', 'BLK%','STL%', 'AST%', 'TRB%', 'DRB%', 'ORB%']].head()"
   ]
  },
  {
   "cell_type": "code",
   "execution_count": 451,
   "metadata": {},
   "outputs": [],
   "source": [
    "advanced_df[['USG%', 'TOV%', 'BLK%','STL%', 'AST%', 'TRB%', 'DRB%', 'ORB%']] = advanced_df[['USG%', 'TOV%', 'BLK%','STL%', 'AST%', 'TRB%', 'DRB%', 'ORB%']]/100"
   ]
  },
  {
   "cell_type": "markdown",
   "metadata": {},
   "source": [
    "## 3.2. <a id='toc3_2_'></a>[Examining **Per Game Dataset**](#toc0_)"
   ]
  },
  {
   "cell_type": "markdown",
   "metadata": {},
   "source": [
    "### 3.2.1. <a id='toc3_2_1_'></a>[Features from Per Game Dataset](#toc0_)"
   ]
  },
  {
   "cell_type": "markdown",
   "metadata": {},
   "source": [
    "\n",
    "- Rk -- Rank\n",
    "\n",
    "- Pos -- Position\n",
    "\n",
    "- Age -- Player's age on February 1 of the season\n",
    "\n",
    "- Tm -- Team\n",
    "\n",
    "- G -- Games\n",
    "\n",
    "- GS -- Games Started\n",
    "\n",
    "- MP -- Minutes Played Per Game\n",
    "\n",
    "- FG -- Field Goals Per Game\n",
    "\n",
    "- FGA -- Field Goal Attempts Per Game\n",
    "\n",
    "- FG% -- Field Goal Percentage\n",
    "\n",
    "- 3P -- 3-Point Field Goals Per Game\n",
    "\n",
    "- 3PA -- 3-Point Field Goal Attempts Per Game\n",
    "\n",
    "- 3P% -- 3-Point Field Goal Percentage\n",
    "\n",
    "- 2P -- 2-Point Field Goals Per Game\n",
    "\n",
    "- 2PA -- 2-Point Field Goal Attempts Per Game\n",
    "\n",
    "- 2P% -- 2-Point Field Goal Percentage\n",
    "\n",
    "- eFG% -- Effective Field Goal Percentage\n",
    "\n",
    "- This statistic adjusts for the fact that a 3-point field goal is worth one more point than a 2-point field goal.\n",
    "\n",
    "- FT -- Free Throws Per Game\n",
    "\n",
    "- FTA -- Free Throw Attempts Per Game\n",
    "\n",
    "- FT% -- Free Throw Percentage\n",
    "\n",
    "- ORB -- Offensive Rebounds Per Game\n",
    "\n",
    "- DRB -- Defensive Rebounds Per Game\n",
    "\n",
    "- TRB -- Total Rebounds Per Game\n",
    "\n",
    "- AST -- Assists Per Game\n",
    "\n",
    "- STL -- Steals Per Game\n",
    "\n",
    "- BLK -- Blocks Per Game\n",
    "\n",
    "- TOV -- Turnovers Per Game\n",
    "\n",
    "- PF -- Personal Fouls Per Game\n",
    "\n",
    "- PTS -- Points Per Game"
   ]
  },
  {
   "cell_type": "markdown",
   "metadata": {},
   "source": [
    "### 3.2.2. <a id='toc3_2_2_'></a>[What are we dealing with?](#toc0_)"
   ]
  },
  {
   "cell_type": "code",
   "execution_count": 452,
   "metadata": {},
   "outputs": [
    {
     "data": {
      "text/html": [
       "<div>\n",
       "<style scoped>\n",
       "    .dataframe tbody tr th:only-of-type {\n",
       "        vertical-align: middle;\n",
       "    }\n",
       "\n",
       "    .dataframe tbody tr th {\n",
       "        vertical-align: top;\n",
       "    }\n",
       "\n",
       "    .dataframe thead th {\n",
       "        text-align: right;\n",
       "    }\n",
       "</style>\n",
       "<table border=\"1\" class=\"dataframe\">\n",
       "  <thead>\n",
       "    <tr style=\"text-align: right;\">\n",
       "      <th></th>\n",
       "      <th>Rk</th>\n",
       "      <th>Player</th>\n",
       "      <th>Pos</th>\n",
       "      <th>Age</th>\n",
       "      <th>Tm</th>\n",
       "      <th>G</th>\n",
       "      <th>GS</th>\n",
       "      <th>MP</th>\n",
       "      <th>FG</th>\n",
       "      <th>FGA</th>\n",
       "      <th>FG%</th>\n",
       "      <th>3P</th>\n",
       "      <th>3PA</th>\n",
       "      <th>3P%</th>\n",
       "      <th>2P</th>\n",
       "      <th>2PA</th>\n",
       "      <th>2P%</th>\n",
       "      <th>eFG%</th>\n",
       "      <th>FT</th>\n",
       "      <th>FTA</th>\n",
       "      <th>FT%</th>\n",
       "      <th>ORB</th>\n",
       "      <th>DRB</th>\n",
       "      <th>TRB</th>\n",
       "      <th>AST</th>\n",
       "      <th>STL</th>\n",
       "      <th>BLK</th>\n",
       "      <th>TOV</th>\n",
       "      <th>PF</th>\n",
       "      <th>PTS</th>\n",
       "      <th>Player-additional</th>\n",
       "    </tr>\n",
       "  </thead>\n",
       "  <tbody>\n",
       "    <tr>\n",
       "      <th>0</th>\n",
       "      <td>1</td>\n",
       "      <td>Precious Achiuwa</td>\n",
       "      <td>C</td>\n",
       "      <td>23</td>\n",
       "      <td>TOR</td>\n",
       "      <td>55</td>\n",
       "      <td>12</td>\n",
       "      <td>20.7</td>\n",
       "      <td>3.6</td>\n",
       "      <td>7.3</td>\n",
       "      <td>0.485</td>\n",
       "      <td>0.5</td>\n",
       "      <td>2.0</td>\n",
       "      <td>0.269</td>\n",
       "      <td>3.0</td>\n",
       "      <td>5.4</td>\n",
       "      <td>0.564</td>\n",
       "      <td>0.521</td>\n",
       "      <td>1.6</td>\n",
       "      <td>2.3</td>\n",
       "      <td>0.702</td>\n",
       "      <td>1.8</td>\n",
       "      <td>4.1</td>\n",
       "      <td>6.0</td>\n",
       "      <td>0.9</td>\n",
       "      <td>0.6</td>\n",
       "      <td>0.5</td>\n",
       "      <td>1.1</td>\n",
       "      <td>1.9</td>\n",
       "      <td>9.2</td>\n",
       "      <td>achiupr01</td>\n",
       "    </tr>\n",
       "    <tr>\n",
       "      <th>1</th>\n",
       "      <td>2</td>\n",
       "      <td>Steven Adams</td>\n",
       "      <td>C</td>\n",
       "      <td>29</td>\n",
       "      <td>MEM</td>\n",
       "      <td>42</td>\n",
       "      <td>42</td>\n",
       "      <td>27.0</td>\n",
       "      <td>3.7</td>\n",
       "      <td>6.3</td>\n",
       "      <td>0.597</td>\n",
       "      <td>0.0</td>\n",
       "      <td>0.0</td>\n",
       "      <td>0.000</td>\n",
       "      <td>3.7</td>\n",
       "      <td>6.2</td>\n",
       "      <td>0.599</td>\n",
       "      <td>0.597</td>\n",
       "      <td>1.1</td>\n",
       "      <td>3.1</td>\n",
       "      <td>0.364</td>\n",
       "      <td>5.1</td>\n",
       "      <td>6.5</td>\n",
       "      <td>11.5</td>\n",
       "      <td>2.3</td>\n",
       "      <td>0.9</td>\n",
       "      <td>1.1</td>\n",
       "      <td>1.9</td>\n",
       "      <td>2.3</td>\n",
       "      <td>8.6</td>\n",
       "      <td>adamsst01</td>\n",
       "    </tr>\n",
       "    <tr>\n",
       "      <th>2</th>\n",
       "      <td>3</td>\n",
       "      <td>Bam Adebayo</td>\n",
       "      <td>C</td>\n",
       "      <td>25</td>\n",
       "      <td>MIA</td>\n",
       "      <td>75</td>\n",
       "      <td>75</td>\n",
       "      <td>34.6</td>\n",
       "      <td>8.0</td>\n",
       "      <td>14.9</td>\n",
       "      <td>0.540</td>\n",
       "      <td>0.0</td>\n",
       "      <td>0.2</td>\n",
       "      <td>0.083</td>\n",
       "      <td>8.0</td>\n",
       "      <td>14.7</td>\n",
       "      <td>0.545</td>\n",
       "      <td>0.541</td>\n",
       "      <td>4.3</td>\n",
       "      <td>5.4</td>\n",
       "      <td>0.806</td>\n",
       "      <td>2.5</td>\n",
       "      <td>6.7</td>\n",
       "      <td>9.2</td>\n",
       "      <td>3.2</td>\n",
       "      <td>1.2</td>\n",
       "      <td>0.8</td>\n",
       "      <td>2.5</td>\n",
       "      <td>2.8</td>\n",
       "      <td>20.4</td>\n",
       "      <td>adebaba01</td>\n",
       "    </tr>\n",
       "    <tr>\n",
       "      <th>3</th>\n",
       "      <td>4</td>\n",
       "      <td>Ochai Agbaji</td>\n",
       "      <td>SG</td>\n",
       "      <td>22</td>\n",
       "      <td>UTA</td>\n",
       "      <td>59</td>\n",
       "      <td>22</td>\n",
       "      <td>20.5</td>\n",
       "      <td>2.8</td>\n",
       "      <td>6.5</td>\n",
       "      <td>0.427</td>\n",
       "      <td>1.4</td>\n",
       "      <td>3.9</td>\n",
       "      <td>0.355</td>\n",
       "      <td>1.4</td>\n",
       "      <td>2.7</td>\n",
       "      <td>0.532</td>\n",
       "      <td>0.532</td>\n",
       "      <td>0.9</td>\n",
       "      <td>1.2</td>\n",
       "      <td>0.812</td>\n",
       "      <td>0.7</td>\n",
       "      <td>1.3</td>\n",
       "      <td>2.1</td>\n",
       "      <td>1.1</td>\n",
       "      <td>0.3</td>\n",
       "      <td>0.3</td>\n",
       "      <td>0.7</td>\n",
       "      <td>1.7</td>\n",
       "      <td>7.9</td>\n",
       "      <td>agbajoc01</td>\n",
       "    </tr>\n",
       "    <tr>\n",
       "      <th>4</th>\n",
       "      <td>5</td>\n",
       "      <td>Santi Aldama</td>\n",
       "      <td>PF</td>\n",
       "      <td>22</td>\n",
       "      <td>MEM</td>\n",
       "      <td>77</td>\n",
       "      <td>20</td>\n",
       "      <td>21.8</td>\n",
       "      <td>3.2</td>\n",
       "      <td>6.8</td>\n",
       "      <td>0.470</td>\n",
       "      <td>1.2</td>\n",
       "      <td>3.5</td>\n",
       "      <td>0.353</td>\n",
       "      <td>2.0</td>\n",
       "      <td>3.4</td>\n",
       "      <td>0.591</td>\n",
       "      <td>0.560</td>\n",
       "      <td>1.4</td>\n",
       "      <td>1.9</td>\n",
       "      <td>0.750</td>\n",
       "      <td>1.1</td>\n",
       "      <td>3.7</td>\n",
       "      <td>4.8</td>\n",
       "      <td>1.3</td>\n",
       "      <td>0.6</td>\n",
       "      <td>0.6</td>\n",
       "      <td>0.8</td>\n",
       "      <td>1.9</td>\n",
       "      <td>9.0</td>\n",
       "      <td>aldamsa01</td>\n",
       "    </tr>\n",
       "  </tbody>\n",
       "</table>\n",
       "</div>"
      ],
      "text/plain": [
       "   Rk            Player Pos  Age   Tm   G  GS    MP   FG   FGA    FG%   3P  3PA    3P%   2P   2PA    2P%   eFG%   FT  FTA    FT%  ORB  DRB   TRB  AST  STL  BLK  TOV   PF   PTS Player-additional\n",
       "0   1  Precious Achiuwa   C   23  TOR  55  12  20.7  3.6   7.3  0.485  0.5  2.0  0.269  3.0   5.4  0.564  0.521  1.6  2.3  0.702  1.8  4.1   6.0  0.9  0.6  0.5  1.1  1.9   9.2         achiupr01\n",
       "1   2      Steven Adams   C   29  MEM  42  42  27.0  3.7   6.3  0.597  0.0  0.0  0.000  3.7   6.2  0.599  0.597  1.1  3.1  0.364  5.1  6.5  11.5  2.3  0.9  1.1  1.9  2.3   8.6         adamsst01\n",
       "2   3       Bam Adebayo   C   25  MIA  75  75  34.6  8.0  14.9  0.540  0.0  0.2  0.083  8.0  14.7  0.545  0.541  4.3  5.4  0.806  2.5  6.7   9.2  3.2  1.2  0.8  2.5  2.8  20.4         adebaba01\n",
       "3   4      Ochai Agbaji  SG   22  UTA  59  22  20.5  2.8   6.5  0.427  1.4  3.9  0.355  1.4   2.7  0.532  0.532  0.9  1.2  0.812  0.7  1.3   2.1  1.1  0.3  0.3  0.7  1.7   7.9         agbajoc01\n",
       "4   5      Santi Aldama  PF   22  MEM  77  20  21.8  3.2   6.8  0.470  1.2  3.5  0.353  2.0   3.4  0.591  0.560  1.4  1.9  0.750  1.1  3.7   4.8  1.3  0.6  0.6  0.8  1.9   9.0         aldamsa01"
      ]
     },
     "execution_count": 452,
     "metadata": {},
     "output_type": "execute_result"
    }
   ],
   "source": [
    "pergame_df_raw.head()"
   ]
  },
  {
   "cell_type": "code",
   "execution_count": 453,
   "metadata": {},
   "outputs": [
    {
     "data": {
      "text/plain": [
       "(679, 31)"
      ]
     },
     "execution_count": 453,
     "metadata": {},
     "output_type": "execute_result"
    }
   ],
   "source": [
    "pergame_df_raw.shape"
   ]
  },
  {
   "cell_type": "markdown",
   "metadata": {},
   "source": [
    "### 3.2.3. <a id='toc3_2_3_'></a>[Renaming the columns](#toc0_)"
   ]
  },
  {
   "cell_type": "code",
   "execution_count": 454,
   "metadata": {},
   "outputs": [
    {
     "data": {
      "text/plain": [
       "Index(['Rk', 'Player', 'Pos', 'Age', 'Tm', 'G', 'GS', 'MP', 'FG', 'FGA', 'FG%',\n",
       "       '3P', '3PA', '3P%', '2P', '2PA', '2P%', 'eFG%', 'FT', 'FTA', 'FT%',\n",
       "       'ORB', 'DRB', 'TRB', 'AST', 'STL', 'BLK', 'TOV', 'PF', 'PTS',\n",
       "       'Player-additional'],\n",
       "      dtype='object')"
      ]
     },
     "execution_count": 454,
     "metadata": {},
     "output_type": "execute_result"
    }
   ],
   "source": [
    "pergame_df_raw.columns"
   ]
  },
  {
   "cell_type": "code",
   "execution_count": 455,
   "metadata": {},
   "outputs": [],
   "source": [
    "pergame_df_raw.columns = ['Rk', 'Player', 'Pos', 'Age', 'Tm', 'G', 'GS', 'MP', 'FG', 'FGA', 'FG%',\n",
    "       '3P', '3PA', '3P%', '2P', '2PA', '2P%', 'eFG%', 'FT', 'FTA', 'FT%',\n",
    "       'ORB', 'DRB', 'TRB', 'AST', 'STL', 'BLK', 'TOV', 'PF', 'PTS',\n",
    "       'Player_additional']"
   ]
  },
  {
   "cell_type": "markdown",
   "metadata": {},
   "source": [
    "### 3.2.4. <a id='toc3_2_4_'></a>[Checking for NAs](#toc0_)\n",
    "- In this dataset we have a little bit more NAs than in the previous one\n",
    "- There are NAs in five columns in total:\n",
    "  - FG%\n",
    "  - 3P%\n",
    "  - 2P% \n",
    "  - eFG%\n",
    "  - FT%\n",
    "- To the features 'FG%' and 'eFG%' the same thre player from the previous dataset have missing values and we can proceed as we did then"
   ]
  },
  {
   "cell_type": "code",
   "execution_count": 456,
   "metadata": {},
   "outputs": [
    {
     "data": {
      "text/plain": [
       "Rk                    0\n",
       "Player                0\n",
       "Pos                   0\n",
       "Age                   0\n",
       "Tm                    0\n",
       "G                     0\n",
       "GS                    0\n",
       "MP                    0\n",
       "FG                    0\n",
       "FGA                   0\n",
       "FG%                   3\n",
       "3P                    0\n",
       "3PA                   0\n",
       "3P%                  24\n",
       "2P                    0\n",
       "2PA                   0\n",
       "2P%                   7\n",
       "eFG%                  3\n",
       "FT                    0\n",
       "FTA                   0\n",
       "FT%                  37\n",
       "ORB                   0\n",
       "DRB                   0\n",
       "TRB                   0\n",
       "AST                   0\n",
       "STL                   0\n",
       "BLK                   0\n",
       "TOV                   0\n",
       "PF                    0\n",
       "PTS                   0\n",
       "Player_additional     0\n",
       "dtype: int64"
      ]
     },
     "execution_count": 456,
     "metadata": {},
     "output_type": "execute_result"
    }
   ],
   "source": [
    "pergame_df_raw.isna().sum()"
   ]
  },
  {
   "cell_type": "code",
   "execution_count": 457,
   "metadata": {},
   "outputs": [
    {
     "data": {
      "text/html": [
       "<div>\n",
       "<style scoped>\n",
       "    .dataframe tbody tr th:only-of-type {\n",
       "        vertical-align: middle;\n",
       "    }\n",
       "\n",
       "    .dataframe tbody tr th {\n",
       "        vertical-align: top;\n",
       "    }\n",
       "\n",
       "    .dataframe thead th {\n",
       "        text-align: right;\n",
       "    }\n",
       "</style>\n",
       "<table border=\"1\" class=\"dataframe\">\n",
       "  <thead>\n",
       "    <tr style=\"text-align: right;\">\n",
       "      <th></th>\n",
       "      <th>Rk</th>\n",
       "      <th>Player</th>\n",
       "      <th>Pos</th>\n",
       "      <th>Age</th>\n",
       "      <th>Tm</th>\n",
       "      <th>G</th>\n",
       "      <th>GS</th>\n",
       "      <th>MP</th>\n",
       "      <th>FG</th>\n",
       "      <th>FGA</th>\n",
       "      <th>FG%</th>\n",
       "      <th>3P</th>\n",
       "      <th>3PA</th>\n",
       "      <th>3P%</th>\n",
       "      <th>2P</th>\n",
       "      <th>2PA</th>\n",
       "      <th>2P%</th>\n",
       "      <th>eFG%</th>\n",
       "      <th>FT</th>\n",
       "      <th>FTA</th>\n",
       "      <th>FT%</th>\n",
       "      <th>ORB</th>\n",
       "      <th>DRB</th>\n",
       "      <th>TRB</th>\n",
       "      <th>AST</th>\n",
       "      <th>STL</th>\n",
       "      <th>BLK</th>\n",
       "      <th>TOV</th>\n",
       "      <th>PF</th>\n",
       "      <th>PTS</th>\n",
       "      <th>Player_additional</th>\n",
       "    </tr>\n",
       "  </thead>\n",
       "  <tbody>\n",
       "    <tr>\n",
       "      <th>89</th>\n",
       "      <td>66</td>\n",
       "      <td>Moses Brown</td>\n",
       "      <td>C</td>\n",
       "      <td>23</td>\n",
       "      <td>BRK</td>\n",
       "      <td>2</td>\n",
       "      <td>0</td>\n",
       "      <td>3.0</td>\n",
       "      <td>0.0</td>\n",
       "      <td>0.0</td>\n",
       "      <td>NaN</td>\n",
       "      <td>0.0</td>\n",
       "      <td>0.0</td>\n",
       "      <td>NaN</td>\n",
       "      <td>0.0</td>\n",
       "      <td>0.0</td>\n",
       "      <td>NaN</td>\n",
       "      <td>NaN</td>\n",
       "      <td>0.0</td>\n",
       "      <td>0.0</td>\n",
       "      <td>NaN</td>\n",
       "      <td>0.0</td>\n",
       "      <td>0.0</td>\n",
       "      <td>0.0</td>\n",
       "      <td>0.0</td>\n",
       "      <td>0.5</td>\n",
       "      <td>0.0</td>\n",
       "      <td>0.5</td>\n",
       "      <td>0.5</td>\n",
       "      <td>0.0</td>\n",
       "      <td>brownmo01</td>\n",
       "    </tr>\n",
       "    <tr>\n",
       "      <th>196</th>\n",
       "      <td>151</td>\n",
       "      <td>Michael Foster Jr.</td>\n",
       "      <td>PF</td>\n",
       "      <td>20</td>\n",
       "      <td>PHI</td>\n",
       "      <td>1</td>\n",
       "      <td>0</td>\n",
       "      <td>1.0</td>\n",
       "      <td>0.0</td>\n",
       "      <td>0.0</td>\n",
       "      <td>NaN</td>\n",
       "      <td>0.0</td>\n",
       "      <td>0.0</td>\n",
       "      <td>NaN</td>\n",
       "      <td>0.0</td>\n",
       "      <td>0.0</td>\n",
       "      <td>NaN</td>\n",
       "      <td>NaN</td>\n",
       "      <td>0.0</td>\n",
       "      <td>0.0</td>\n",
       "      <td>NaN</td>\n",
       "      <td>0.0</td>\n",
       "      <td>0.0</td>\n",
       "      <td>0.0</td>\n",
       "      <td>0.0</td>\n",
       "      <td>0.0</td>\n",
       "      <td>0.0</td>\n",
       "      <td>0.0</td>\n",
       "      <td>0.0</td>\n",
       "      <td>0.0</td>\n",
       "      <td>fostemi02</td>\n",
       "    </tr>\n",
       "    <tr>\n",
       "      <th>652</th>\n",
       "      <td>515</td>\n",
       "      <td>Alondes Williams</td>\n",
       "      <td>SG</td>\n",
       "      <td>23</td>\n",
       "      <td>BRK</td>\n",
       "      <td>1</td>\n",
       "      <td>0</td>\n",
       "      <td>5.0</td>\n",
       "      <td>0.0</td>\n",
       "      <td>0.0</td>\n",
       "      <td>NaN</td>\n",
       "      <td>0.0</td>\n",
       "      <td>0.0</td>\n",
       "      <td>NaN</td>\n",
       "      <td>0.0</td>\n",
       "      <td>0.0</td>\n",
       "      <td>NaN</td>\n",
       "      <td>NaN</td>\n",
       "      <td>0.0</td>\n",
       "      <td>0.0</td>\n",
       "      <td>NaN</td>\n",
       "      <td>0.0</td>\n",
       "      <td>1.0</td>\n",
       "      <td>1.0</td>\n",
       "      <td>0.0</td>\n",
       "      <td>0.0</td>\n",
       "      <td>0.0</td>\n",
       "      <td>2.0</td>\n",
       "      <td>1.0</td>\n",
       "      <td>0.0</td>\n",
       "      <td>willial06</td>\n",
       "    </tr>\n",
       "  </tbody>\n",
       "</table>\n",
       "</div>"
      ],
      "text/plain": [
       "      Rk              Player Pos  Age   Tm  G  GS   MP   FG  FGA  FG%   3P  3PA  3P%   2P  2PA  2P%  eFG%   FT  FTA  FT%  ORB  DRB  TRB  AST  STL  BLK  TOV   PF  PTS Player_additional\n",
       "89    66         Moses Brown   C   23  BRK  2   0  3.0  0.0  0.0  NaN  0.0  0.0  NaN  0.0  0.0  NaN   NaN  0.0  0.0  NaN  0.0  0.0  0.0  0.0  0.5  0.0  0.5  0.5  0.0         brownmo01\n",
       "196  151  Michael Foster Jr.  PF   20  PHI  1   0  1.0  0.0  0.0  NaN  0.0  0.0  NaN  0.0  0.0  NaN   NaN  0.0  0.0  NaN  0.0  0.0  0.0  0.0  0.0  0.0  0.0  0.0  0.0         fostemi02\n",
       "652  515    Alondes Williams  SG   23  BRK  1   0  5.0  0.0  0.0  NaN  0.0  0.0  NaN  0.0  0.0  NaN   NaN  0.0  0.0  NaN  0.0  1.0  1.0  0.0  0.0  0.0  2.0  1.0  0.0         willial06"
      ]
     },
     "execution_count": 457,
     "metadata": {},
     "output_type": "execute_result"
    }
   ],
   "source": [
    "pergame_df_raw[pergame_df_raw['FG%'].isna()]"
   ]
  },
  {
   "cell_type": "code",
   "execution_count": 458,
   "metadata": {},
   "outputs": [
    {
     "data": {
      "text/html": [
       "<div>\n",
       "<style scoped>\n",
       "    .dataframe tbody tr th:only-of-type {\n",
       "        vertical-align: middle;\n",
       "    }\n",
       "\n",
       "    .dataframe tbody tr th {\n",
       "        vertical-align: top;\n",
       "    }\n",
       "\n",
       "    .dataframe thead th {\n",
       "        text-align: right;\n",
       "    }\n",
       "</style>\n",
       "<table border=\"1\" class=\"dataframe\">\n",
       "  <thead>\n",
       "    <tr style=\"text-align: right;\">\n",
       "      <th></th>\n",
       "      <th>Rk</th>\n",
       "      <th>Player</th>\n",
       "      <th>Pos</th>\n",
       "      <th>Age</th>\n",
       "      <th>Tm</th>\n",
       "      <th>G</th>\n",
       "      <th>GS</th>\n",
       "      <th>MP</th>\n",
       "      <th>FG</th>\n",
       "      <th>FGA</th>\n",
       "      <th>FG%</th>\n",
       "      <th>3P</th>\n",
       "      <th>3PA</th>\n",
       "      <th>3P%</th>\n",
       "      <th>2P</th>\n",
       "      <th>2PA</th>\n",
       "      <th>2P%</th>\n",
       "      <th>eFG%</th>\n",
       "      <th>FT</th>\n",
       "      <th>FTA</th>\n",
       "      <th>FT%</th>\n",
       "      <th>ORB</th>\n",
       "      <th>DRB</th>\n",
       "      <th>TRB</th>\n",
       "      <th>AST</th>\n",
       "      <th>STL</th>\n",
       "      <th>BLK</th>\n",
       "      <th>TOV</th>\n",
       "      <th>PF</th>\n",
       "      <th>PTS</th>\n",
       "      <th>Player_additional</th>\n",
       "    </tr>\n",
       "  </thead>\n",
       "  <tbody>\n",
       "    <tr>\n",
       "      <th>21</th>\n",
       "      <td>18</td>\n",
       "      <td>Udoka Azubuike</td>\n",
       "      <td>C</td>\n",
       "      <td>23</td>\n",
       "      <td>UTA</td>\n",
       "      <td>36</td>\n",
       "      <td>4</td>\n",
       "      <td>10.0</td>\n",
       "      <td>1.6</td>\n",
       "      <td>2.0</td>\n",
       "      <td>0.819</td>\n",
       "      <td>0.0</td>\n",
       "      <td>0.0</td>\n",
       "      <td>NaN</td>\n",
       "      <td>1.6</td>\n",
       "      <td>2.0</td>\n",
       "      <td>0.819</td>\n",
       "      <td>0.819</td>\n",
       "      <td>0.2</td>\n",
       "      <td>0.6</td>\n",
       "      <td>0.350</td>\n",
       "      <td>0.9</td>\n",
       "      <td>2.4</td>\n",
       "      <td>3.3</td>\n",
       "      <td>0.3</td>\n",
       "      <td>0.2</td>\n",
       "      <td>0.4</td>\n",
       "      <td>0.5</td>\n",
       "      <td>0.9</td>\n",
       "      <td>3.5</td>\n",
       "      <td>azubuud01</td>\n",
       "    </tr>\n",
       "    <tr>\n",
       "      <th>60</th>\n",
       "      <td>43</td>\n",
       "      <td>Bismack Biyombo</td>\n",
       "      <td>C</td>\n",
       "      <td>30</td>\n",
       "      <td>PHO</td>\n",
       "      <td>61</td>\n",
       "      <td>14</td>\n",
       "      <td>14.3</td>\n",
       "      <td>2.0</td>\n",
       "      <td>3.4</td>\n",
       "      <td>0.578</td>\n",
       "      <td>0.0</td>\n",
       "      <td>0.0</td>\n",
       "      <td>NaN</td>\n",
       "      <td>2.0</td>\n",
       "      <td>3.4</td>\n",
       "      <td>0.578</td>\n",
       "      <td>0.578</td>\n",
       "      <td>0.4</td>\n",
       "      <td>1.1</td>\n",
       "      <td>0.357</td>\n",
       "      <td>1.5</td>\n",
       "      <td>2.8</td>\n",
       "      <td>4.3</td>\n",
       "      <td>0.9</td>\n",
       "      <td>0.3</td>\n",
       "      <td>1.4</td>\n",
       "      <td>0.8</td>\n",
       "      <td>1.9</td>\n",
       "      <td>4.3</td>\n",
       "      <td>biyombi01</td>\n",
       "    </tr>\n",
       "    <tr>\n",
       "      <th>87</th>\n",
       "      <td>66</td>\n",
       "      <td>Moses Brown</td>\n",
       "      <td>C</td>\n",
       "      <td>23</td>\n",
       "      <td>TOT</td>\n",
       "      <td>36</td>\n",
       "      <td>1</td>\n",
       "      <td>8.2</td>\n",
       "      <td>1.7</td>\n",
       "      <td>2.7</td>\n",
       "      <td>0.635</td>\n",
       "      <td>0.0</td>\n",
       "      <td>0.0</td>\n",
       "      <td>NaN</td>\n",
       "      <td>1.7</td>\n",
       "      <td>2.7</td>\n",
       "      <td>0.635</td>\n",
       "      <td>0.635</td>\n",
       "      <td>0.9</td>\n",
       "      <td>2.0</td>\n",
       "      <td>0.458</td>\n",
       "      <td>1.6</td>\n",
       "      <td>2.3</td>\n",
       "      <td>3.9</td>\n",
       "      <td>0.1</td>\n",
       "      <td>0.1</td>\n",
       "      <td>0.4</td>\n",
       "      <td>0.4</td>\n",
       "      <td>1.1</td>\n",
       "      <td>4.3</td>\n",
       "      <td>brownmo01</td>\n",
       "    </tr>\n",
       "    <tr>\n",
       "      <th>88</th>\n",
       "      <td>66</td>\n",
       "      <td>Moses Brown</td>\n",
       "      <td>C</td>\n",
       "      <td>23</td>\n",
       "      <td>LAC</td>\n",
       "      <td>34</td>\n",
       "      <td>1</td>\n",
       "      <td>8.5</td>\n",
       "      <td>1.8</td>\n",
       "      <td>2.8</td>\n",
       "      <td>0.635</td>\n",
       "      <td>0.0</td>\n",
       "      <td>0.0</td>\n",
       "      <td>NaN</td>\n",
       "      <td>1.8</td>\n",
       "      <td>2.8</td>\n",
       "      <td>0.635</td>\n",
       "      <td>0.635</td>\n",
       "      <td>1.0</td>\n",
       "      <td>2.1</td>\n",
       "      <td>0.458</td>\n",
       "      <td>1.7</td>\n",
       "      <td>2.4</td>\n",
       "      <td>4.1</td>\n",
       "      <td>0.1</td>\n",
       "      <td>0.1</td>\n",
       "      <td>0.4</td>\n",
       "      <td>0.4</td>\n",
       "      <td>1.1</td>\n",
       "      <td>4.6</td>\n",
       "      <td>brownmo01</td>\n",
       "    </tr>\n",
       "    <tr>\n",
       "      <th>89</th>\n",
       "      <td>66</td>\n",
       "      <td>Moses Brown</td>\n",
       "      <td>C</td>\n",
       "      <td>23</td>\n",
       "      <td>BRK</td>\n",
       "      <td>2</td>\n",
       "      <td>0</td>\n",
       "      <td>3.0</td>\n",
       "      <td>0.0</td>\n",
       "      <td>0.0</td>\n",
       "      <td>NaN</td>\n",
       "      <td>0.0</td>\n",
       "      <td>0.0</td>\n",
       "      <td>NaN</td>\n",
       "      <td>0.0</td>\n",
       "      <td>0.0</td>\n",
       "      <td>NaN</td>\n",
       "      <td>NaN</td>\n",
       "      <td>0.0</td>\n",
       "      <td>0.0</td>\n",
       "      <td>NaN</td>\n",
       "      <td>0.0</td>\n",
       "      <td>0.0</td>\n",
       "      <td>0.0</td>\n",
       "      <td>0.0</td>\n",
       "      <td>0.5</td>\n",
       "      <td>0.0</td>\n",
       "      <td>0.5</td>\n",
       "      <td>0.5</td>\n",
       "      <td>0.0</td>\n",
       "      <td>brownmo01</td>\n",
       "    </tr>\n",
       "    <tr>\n",
       "      <th>107</th>\n",
       "      <td>82</td>\n",
       "      <td>Vernon Carey Jr.</td>\n",
       "      <td>C</td>\n",
       "      <td>21</td>\n",
       "      <td>WAS</td>\n",
       "      <td>11</td>\n",
       "      <td>0</td>\n",
       "      <td>2.5</td>\n",
       "      <td>0.2</td>\n",
       "      <td>0.7</td>\n",
       "      <td>0.250</td>\n",
       "      <td>0.0</td>\n",
       "      <td>0.0</td>\n",
       "      <td>NaN</td>\n",
       "      <td>0.2</td>\n",
       "      <td>0.7</td>\n",
       "      <td>0.250</td>\n",
       "      <td>0.250</td>\n",
       "      <td>0.2</td>\n",
       "      <td>0.2</td>\n",
       "      <td>1.000</td>\n",
       "      <td>0.3</td>\n",
       "      <td>0.7</td>\n",
       "      <td>1.0</td>\n",
       "      <td>0.3</td>\n",
       "      <td>0.2</td>\n",
       "      <td>0.2</td>\n",
       "      <td>0.2</td>\n",
       "      <td>0.5</td>\n",
       "      <td>0.5</td>\n",
       "      <td>careyve01</td>\n",
       "    </tr>\n",
       "    <tr>\n",
       "      <th>116</th>\n",
       "      <td>88</td>\n",
       "      <td>Justin Champagnie</td>\n",
       "      <td>SF</td>\n",
       "      <td>21</td>\n",
       "      <td>TOR</td>\n",
       "      <td>3</td>\n",
       "      <td>0</td>\n",
       "      <td>3.7</td>\n",
       "      <td>1.0</td>\n",
       "      <td>1.0</td>\n",
       "      <td>1.000</td>\n",
       "      <td>0.0</td>\n",
       "      <td>0.0</td>\n",
       "      <td>NaN</td>\n",
       "      <td>1.0</td>\n",
       "      <td>1.0</td>\n",
       "      <td>1.000</td>\n",
       "      <td>1.000</td>\n",
       "      <td>0.0</td>\n",
       "      <td>0.0</td>\n",
       "      <td>NaN</td>\n",
       "      <td>0.3</td>\n",
       "      <td>1.0</td>\n",
       "      <td>1.3</td>\n",
       "      <td>0.3</td>\n",
       "      <td>0.0</td>\n",
       "      <td>0.0</td>\n",
       "      <td>0.0</td>\n",
       "      <td>0.3</td>\n",
       "      <td>2.0</td>\n",
       "      <td>champju01</td>\n",
       "    </tr>\n",
       "    <tr>\n",
       "      <th>127</th>\n",
       "      <td>98</td>\n",
       "      <td>Chance Comanche</td>\n",
       "      <td>C</td>\n",
       "      <td>26</td>\n",
       "      <td>POR</td>\n",
       "      <td>1</td>\n",
       "      <td>0</td>\n",
       "      <td>21.0</td>\n",
       "      <td>3.0</td>\n",
       "      <td>5.0</td>\n",
       "      <td>0.600</td>\n",
       "      <td>0.0</td>\n",
       "      <td>0.0</td>\n",
       "      <td>NaN</td>\n",
       "      <td>3.0</td>\n",
       "      <td>5.0</td>\n",
       "      <td>0.600</td>\n",
       "      <td>0.600</td>\n",
       "      <td>1.0</td>\n",
       "      <td>4.0</td>\n",
       "      <td>0.250</td>\n",
       "      <td>2.0</td>\n",
       "      <td>1.0</td>\n",
       "      <td>3.0</td>\n",
       "      <td>0.0</td>\n",
       "      <td>0.0</td>\n",
       "      <td>1.0</td>\n",
       "      <td>0.0</td>\n",
       "      <td>0.0</td>\n",
       "      <td>7.0</td>\n",
       "      <td>comanch01</td>\n",
       "    </tr>\n",
       "    <tr>\n",
       "      <th>196</th>\n",
       "      <td>151</td>\n",
       "      <td>Michael Foster Jr.</td>\n",
       "      <td>PF</td>\n",
       "      <td>20</td>\n",
       "      <td>PHI</td>\n",
       "      <td>1</td>\n",
       "      <td>0</td>\n",
       "      <td>1.0</td>\n",
       "      <td>0.0</td>\n",
       "      <td>0.0</td>\n",
       "      <td>NaN</td>\n",
       "      <td>0.0</td>\n",
       "      <td>0.0</td>\n",
       "      <td>NaN</td>\n",
       "      <td>0.0</td>\n",
       "      <td>0.0</td>\n",
       "      <td>NaN</td>\n",
       "      <td>NaN</td>\n",
       "      <td>0.0</td>\n",
       "      <td>0.0</td>\n",
       "      <td>NaN</td>\n",
       "      <td>0.0</td>\n",
       "      <td>0.0</td>\n",
       "      <td>0.0</td>\n",
       "      <td>0.0</td>\n",
       "      <td>0.0</td>\n",
       "      <td>0.0</td>\n",
       "      <td>0.0</td>\n",
       "      <td>0.0</td>\n",
       "      <td>0.0</td>\n",
       "      <td>fostemi02</td>\n",
       "    </tr>\n",
       "    <tr>\n",
       "      <th>201</th>\n",
       "      <td>156</td>\n",
       "      <td>Daniel Gafford</td>\n",
       "      <td>C</td>\n",
       "      <td>24</td>\n",
       "      <td>WAS</td>\n",
       "      <td>78</td>\n",
       "      <td>47</td>\n",
       "      <td>20.6</td>\n",
       "      <td>3.7</td>\n",
       "      <td>5.1</td>\n",
       "      <td>0.732</td>\n",
       "      <td>0.0</td>\n",
       "      <td>0.0</td>\n",
       "      <td>NaN</td>\n",
       "      <td>3.7</td>\n",
       "      <td>5.1</td>\n",
       "      <td>0.732</td>\n",
       "      <td>0.732</td>\n",
       "      <td>1.6</td>\n",
       "      <td>2.4</td>\n",
       "      <td>0.679</td>\n",
       "      <td>2.1</td>\n",
       "      <td>3.5</td>\n",
       "      <td>5.6</td>\n",
       "      <td>1.1</td>\n",
       "      <td>0.4</td>\n",
       "      <td>1.3</td>\n",
       "      <td>1.1</td>\n",
       "      <td>2.4</td>\n",
       "      <td>9.0</td>\n",
       "      <td>gaffoda01</td>\n",
       "    </tr>\n",
       "    <tr>\n",
       "      <th>341</th>\n",
       "      <td>266</td>\n",
       "      <td>Braxton Key</td>\n",
       "      <td>SF</td>\n",
       "      <td>25</td>\n",
       "      <td>DET</td>\n",
       "      <td>3</td>\n",
       "      <td>0</td>\n",
       "      <td>3.0</td>\n",
       "      <td>0.3</td>\n",
       "      <td>0.3</td>\n",
       "      <td>1.000</td>\n",
       "      <td>0.0</td>\n",
       "      <td>0.0</td>\n",
       "      <td>NaN</td>\n",
       "      <td>0.3</td>\n",
       "      <td>0.3</td>\n",
       "      <td>1.000</td>\n",
       "      <td>1.000</td>\n",
       "      <td>0.7</td>\n",
       "      <td>0.7</td>\n",
       "      <td>1.000</td>\n",
       "      <td>0.0</td>\n",
       "      <td>0.3</td>\n",
       "      <td>0.3</td>\n",
       "      <td>0.0</td>\n",
       "      <td>0.0</td>\n",
       "      <td>0.0</td>\n",
       "      <td>0.0</td>\n",
       "      <td>0.0</td>\n",
       "      <td>1.3</td>\n",
       "      <td>keybr01</td>\n",
       "    </tr>\n",
       "    <tr>\n",
       "      <th>362</th>\n",
       "      <td>284</td>\n",
       "      <td>A.J. Lawson</td>\n",
       "      <td>SG</td>\n",
       "      <td>22</td>\n",
       "      <td>MIN</td>\n",
       "      <td>1</td>\n",
       "      <td>0</td>\n",
       "      <td>2.0</td>\n",
       "      <td>1.0</td>\n",
       "      <td>1.0</td>\n",
       "      <td>1.000</td>\n",
       "      <td>0.0</td>\n",
       "      <td>0.0</td>\n",
       "      <td>NaN</td>\n",
       "      <td>1.0</td>\n",
       "      <td>1.0</td>\n",
       "      <td>1.000</td>\n",
       "      <td>1.000</td>\n",
       "      <td>0.0</td>\n",
       "      <td>0.0</td>\n",
       "      <td>NaN</td>\n",
       "      <td>0.0</td>\n",
       "      <td>1.0</td>\n",
       "      <td>1.0</td>\n",
       "      <td>0.0</td>\n",
       "      <td>0.0</td>\n",
       "      <td>0.0</td>\n",
       "      <td>0.0</td>\n",
       "      <td>1.0</td>\n",
       "      <td>2.0</td>\n",
       "      <td>lawsoaj01</td>\n",
       "    </tr>\n",
       "    <tr>\n",
       "      <th>430</th>\n",
       "      <td>341</td>\n",
       "      <td>Chima Moneke</td>\n",
       "      <td>SF</td>\n",
       "      <td>27</td>\n",
       "      <td>SAC</td>\n",
       "      <td>2</td>\n",
       "      <td>0</td>\n",
       "      <td>4.0</td>\n",
       "      <td>0.5</td>\n",
       "      <td>1.0</td>\n",
       "      <td>0.500</td>\n",
       "      <td>0.0</td>\n",
       "      <td>0.0</td>\n",
       "      <td>NaN</td>\n",
       "      <td>0.5</td>\n",
       "      <td>1.0</td>\n",
       "      <td>0.500</td>\n",
       "      <td>0.500</td>\n",
       "      <td>0.0</td>\n",
       "      <td>1.0</td>\n",
       "      <td>0.000</td>\n",
       "      <td>1.0</td>\n",
       "      <td>0.0</td>\n",
       "      <td>1.0</td>\n",
       "      <td>0.5</td>\n",
       "      <td>0.0</td>\n",
       "      <td>0.0</td>\n",
       "      <td>1.0</td>\n",
       "      <td>1.0</td>\n",
       "      <td>1.0</td>\n",
       "      <td>monekch01</td>\n",
       "    </tr>\n",
       "    <tr>\n",
       "      <th>460</th>\n",
       "      <td>363</td>\n",
       "      <td>Nerlens Noel</td>\n",
       "      <td>C</td>\n",
       "      <td>28</td>\n",
       "      <td>BRK</td>\n",
       "      <td>3</td>\n",
       "      <td>1</td>\n",
       "      <td>14.3</td>\n",
       "      <td>0.3</td>\n",
       "      <td>2.0</td>\n",
       "      <td>0.167</td>\n",
       "      <td>0.0</td>\n",
       "      <td>0.0</td>\n",
       "      <td>NaN</td>\n",
       "      <td>0.3</td>\n",
       "      <td>2.0</td>\n",
       "      <td>0.167</td>\n",
       "      <td>0.167</td>\n",
       "      <td>0.3</td>\n",
       "      <td>0.7</td>\n",
       "      <td>0.500</td>\n",
       "      <td>1.0</td>\n",
       "      <td>2.0</td>\n",
       "      <td>3.0</td>\n",
       "      <td>1.0</td>\n",
       "      <td>1.0</td>\n",
       "      <td>0.3</td>\n",
       "      <td>1.7</td>\n",
       "      <td>2.3</td>\n",
       "      <td>1.0</td>\n",
       "      <td>noelne01</td>\n",
       "    </tr>\n",
       "    <tr>\n",
       "      <th>490</th>\n",
       "      <td>385</td>\n",
       "      <td>Mason Plumlee</td>\n",
       "      <td>C</td>\n",
       "      <td>32</td>\n",
       "      <td>TOT</td>\n",
       "      <td>79</td>\n",
       "      <td>60</td>\n",
       "      <td>26.0</td>\n",
       "      <td>4.2</td>\n",
       "      <td>6.1</td>\n",
       "      <td>0.680</td>\n",
       "      <td>0.0</td>\n",
       "      <td>0.0</td>\n",
       "      <td>NaN</td>\n",
       "      <td>4.2</td>\n",
       "      <td>6.1</td>\n",
       "      <td>0.680</td>\n",
       "      <td>0.680</td>\n",
       "      <td>2.5</td>\n",
       "      <td>4.0</td>\n",
       "      <td>0.636</td>\n",
       "      <td>2.9</td>\n",
       "      <td>6.0</td>\n",
       "      <td>8.9</td>\n",
       "      <td>3.1</td>\n",
       "      <td>0.6</td>\n",
       "      <td>0.6</td>\n",
       "      <td>1.5</td>\n",
       "      <td>2.7</td>\n",
       "      <td>10.8</td>\n",
       "      <td>plumlma01</td>\n",
       "    </tr>\n",
       "    <tr>\n",
       "      <th>491</th>\n",
       "      <td>385</td>\n",
       "      <td>Mason Plumlee</td>\n",
       "      <td>C</td>\n",
       "      <td>32</td>\n",
       "      <td>CHO</td>\n",
       "      <td>56</td>\n",
       "      <td>56</td>\n",
       "      <td>28.5</td>\n",
       "      <td>4.7</td>\n",
       "      <td>7.1</td>\n",
       "      <td>0.669</td>\n",
       "      <td>0.0</td>\n",
       "      <td>0.0</td>\n",
       "      <td>NaN</td>\n",
       "      <td>4.7</td>\n",
       "      <td>7.1</td>\n",
       "      <td>0.669</td>\n",
       "      <td>0.669</td>\n",
       "      <td>2.8</td>\n",
       "      <td>4.6</td>\n",
       "      <td>0.605</td>\n",
       "      <td>3.3</td>\n",
       "      <td>6.3</td>\n",
       "      <td>9.7</td>\n",
       "      <td>3.7</td>\n",
       "      <td>0.6</td>\n",
       "      <td>0.6</td>\n",
       "      <td>1.6</td>\n",
       "      <td>2.9</td>\n",
       "      <td>12.2</td>\n",
       "      <td>plumlma01</td>\n",
       "    </tr>\n",
       "    <tr>\n",
       "      <th>492</th>\n",
       "      <td>385</td>\n",
       "      <td>Mason Plumlee</td>\n",
       "      <td>C</td>\n",
       "      <td>32</td>\n",
       "      <td>LAC</td>\n",
       "      <td>23</td>\n",
       "      <td>4</td>\n",
       "      <td>19.9</td>\n",
       "      <td>2.8</td>\n",
       "      <td>3.8</td>\n",
       "      <td>0.727</td>\n",
       "      <td>0.0</td>\n",
       "      <td>0.0</td>\n",
       "      <td>NaN</td>\n",
       "      <td>2.8</td>\n",
       "      <td>3.8</td>\n",
       "      <td>0.727</td>\n",
       "      <td>0.727</td>\n",
       "      <td>1.9</td>\n",
       "      <td>2.5</td>\n",
       "      <td>0.772</td>\n",
       "      <td>1.8</td>\n",
       "      <td>5.1</td>\n",
       "      <td>6.9</td>\n",
       "      <td>1.7</td>\n",
       "      <td>0.5</td>\n",
       "      <td>0.5</td>\n",
       "      <td>1.3</td>\n",
       "      <td>2.4</td>\n",
       "      <td>7.5</td>\n",
       "      <td>plumlma01</td>\n",
       "    </tr>\n",
       "    <tr>\n",
       "      <th>495</th>\n",
       "      <td>386</td>\n",
       "      <td>Jakob Poeltl</td>\n",
       "      <td>C</td>\n",
       "      <td>27</td>\n",
       "      <td>TOR</td>\n",
       "      <td>26</td>\n",
       "      <td>25</td>\n",
       "      <td>27.2</td>\n",
       "      <td>5.8</td>\n",
       "      <td>8.8</td>\n",
       "      <td>0.652</td>\n",
       "      <td>0.0</td>\n",
       "      <td>0.0</td>\n",
       "      <td>NaN</td>\n",
       "      <td>5.8</td>\n",
       "      <td>8.8</td>\n",
       "      <td>0.652</td>\n",
       "      <td>0.652</td>\n",
       "      <td>1.6</td>\n",
       "      <td>2.8</td>\n",
       "      <td>0.569</td>\n",
       "      <td>3.2</td>\n",
       "      <td>5.9</td>\n",
       "      <td>9.1</td>\n",
       "      <td>2.2</td>\n",
       "      <td>1.2</td>\n",
       "      <td>1.3</td>\n",
       "      <td>1.1</td>\n",
       "      <td>3.0</td>\n",
       "      <td>13.1</td>\n",
       "      <td>poeltja01</td>\n",
       "    </tr>\n",
       "    <tr>\n",
       "      <th>511</th>\n",
       "      <td>402</td>\n",
       "      <td>Neemias Queta</td>\n",
       "      <td>C</td>\n",
       "      <td>23</td>\n",
       "      <td>SAC</td>\n",
       "      <td>5</td>\n",
       "      <td>0</td>\n",
       "      <td>5.8</td>\n",
       "      <td>1.2</td>\n",
       "      <td>1.8</td>\n",
       "      <td>0.667</td>\n",
       "      <td>0.0</td>\n",
       "      <td>0.0</td>\n",
       "      <td>NaN</td>\n",
       "      <td>1.2</td>\n",
       "      <td>1.8</td>\n",
       "      <td>0.667</td>\n",
       "      <td>0.667</td>\n",
       "      <td>0.0</td>\n",
       "      <td>0.4</td>\n",
       "      <td>0.000</td>\n",
       "      <td>1.0</td>\n",
       "      <td>1.2</td>\n",
       "      <td>2.2</td>\n",
       "      <td>0.2</td>\n",
       "      <td>0.0</td>\n",
       "      <td>0.4</td>\n",
       "      <td>0.2</td>\n",
       "      <td>1.4</td>\n",
       "      <td>2.4</td>\n",
       "      <td>quetane01</td>\n",
       "    </tr>\n",
       "    <tr>\n",
       "      <th>531</th>\n",
       "      <td>416</td>\n",
       "      <td>Mitchell Robinson</td>\n",
       "      <td>C</td>\n",
       "      <td>24</td>\n",
       "      <td>NYK</td>\n",
       "      <td>59</td>\n",
       "      <td>58</td>\n",
       "      <td>27.0</td>\n",
       "      <td>3.2</td>\n",
       "      <td>4.7</td>\n",
       "      <td>0.671</td>\n",
       "      <td>0.0</td>\n",
       "      <td>0.0</td>\n",
       "      <td>NaN</td>\n",
       "      <td>3.2</td>\n",
       "      <td>4.7</td>\n",
       "      <td>0.671</td>\n",
       "      <td>0.671</td>\n",
       "      <td>1.0</td>\n",
       "      <td>2.1</td>\n",
       "      <td>0.484</td>\n",
       "      <td>4.5</td>\n",
       "      <td>4.9</td>\n",
       "      <td>9.4</td>\n",
       "      <td>0.9</td>\n",
       "      <td>0.9</td>\n",
       "      <td>1.8</td>\n",
       "      <td>0.7</td>\n",
       "      <td>2.7</td>\n",
       "      <td>7.4</td>\n",
       "      <td>robinmi01</td>\n",
       "    </tr>\n",
       "    <tr>\n",
       "      <th>559</th>\n",
       "      <td>436</td>\n",
       "      <td>Dereon Seabron</td>\n",
       "      <td>SG</td>\n",
       "      <td>22</td>\n",
       "      <td>NOP</td>\n",
       "      <td>5</td>\n",
       "      <td>0</td>\n",
       "      <td>2.4</td>\n",
       "      <td>0.4</td>\n",
       "      <td>1.0</td>\n",
       "      <td>0.400</td>\n",
       "      <td>0.0</td>\n",
       "      <td>0.0</td>\n",
       "      <td>NaN</td>\n",
       "      <td>0.4</td>\n",
       "      <td>1.0</td>\n",
       "      <td>0.400</td>\n",
       "      <td>0.400</td>\n",
       "      <td>0.0</td>\n",
       "      <td>0.0</td>\n",
       "      <td>NaN</td>\n",
       "      <td>0.2</td>\n",
       "      <td>0.0</td>\n",
       "      <td>0.2</td>\n",
       "      <td>0.0</td>\n",
       "      <td>0.0</td>\n",
       "      <td>0.0</td>\n",
       "      <td>0.0</td>\n",
       "      <td>0.2</td>\n",
       "      <td>0.8</td>\n",
       "      <td>seabrde01</td>\n",
       "    </tr>\n",
       "    <tr>\n",
       "      <th>566</th>\n",
       "      <td>443</td>\n",
       "      <td>Chris Silva</td>\n",
       "      <td>PF</td>\n",
       "      <td>26</td>\n",
       "      <td>DAL</td>\n",
       "      <td>1</td>\n",
       "      <td>0</td>\n",
       "      <td>3.0</td>\n",
       "      <td>1.0</td>\n",
       "      <td>1.0</td>\n",
       "      <td>1.000</td>\n",
       "      <td>0.0</td>\n",
       "      <td>0.0</td>\n",
       "      <td>NaN</td>\n",
       "      <td>1.0</td>\n",
       "      <td>1.0</td>\n",
       "      <td>1.000</td>\n",
       "      <td>1.000</td>\n",
       "      <td>0.0</td>\n",
       "      <td>0.0</td>\n",
       "      <td>NaN</td>\n",
       "      <td>0.0</td>\n",
       "      <td>0.0</td>\n",
       "      <td>0.0</td>\n",
       "      <td>0.0</td>\n",
       "      <td>0.0</td>\n",
       "      <td>0.0</td>\n",
       "      <td>1.0</td>\n",
       "      <td>2.0</td>\n",
       "      <td>2.0</td>\n",
       "      <td>silvach01</td>\n",
       "    </tr>\n",
       "    <tr>\n",
       "      <th>652</th>\n",
       "      <td>515</td>\n",
       "      <td>Alondes Williams</td>\n",
       "      <td>SG</td>\n",
       "      <td>23</td>\n",
       "      <td>BRK</td>\n",
       "      <td>1</td>\n",
       "      <td>0</td>\n",
       "      <td>5.0</td>\n",
       "      <td>0.0</td>\n",
       "      <td>0.0</td>\n",
       "      <td>NaN</td>\n",
       "      <td>0.0</td>\n",
       "      <td>0.0</td>\n",
       "      <td>NaN</td>\n",
       "      <td>0.0</td>\n",
       "      <td>0.0</td>\n",
       "      <td>NaN</td>\n",
       "      <td>NaN</td>\n",
       "      <td>0.0</td>\n",
       "      <td>0.0</td>\n",
       "      <td>NaN</td>\n",
       "      <td>0.0</td>\n",
       "      <td>1.0</td>\n",
       "      <td>1.0</td>\n",
       "      <td>0.0</td>\n",
       "      <td>0.0</td>\n",
       "      <td>0.0</td>\n",
       "      <td>2.0</td>\n",
       "      <td>1.0</td>\n",
       "      <td>0.0</td>\n",
       "      <td>willial06</td>\n",
       "    </tr>\n",
       "    <tr>\n",
       "      <th>659</th>\n",
       "      <td>522</td>\n",
       "      <td>Mark Williams</td>\n",
       "      <td>C</td>\n",
       "      <td>21</td>\n",
       "      <td>CHO</td>\n",
       "      <td>43</td>\n",
       "      <td>17</td>\n",
       "      <td>19.3</td>\n",
       "      <td>3.7</td>\n",
       "      <td>5.8</td>\n",
       "      <td>0.637</td>\n",
       "      <td>0.0</td>\n",
       "      <td>0.0</td>\n",
       "      <td>NaN</td>\n",
       "      <td>3.7</td>\n",
       "      <td>5.8</td>\n",
       "      <td>0.637</td>\n",
       "      <td>0.637</td>\n",
       "      <td>1.6</td>\n",
       "      <td>2.3</td>\n",
       "      <td>0.691</td>\n",
       "      <td>2.2</td>\n",
       "      <td>4.9</td>\n",
       "      <td>7.1</td>\n",
       "      <td>0.4</td>\n",
       "      <td>0.7</td>\n",
       "      <td>1.0</td>\n",
       "      <td>0.9</td>\n",
       "      <td>2.2</td>\n",
       "      <td>9.0</td>\n",
       "      <td>willima07</td>\n",
       "    </tr>\n",
       "  </tbody>\n",
       "</table>\n",
       "</div>"
      ],
      "text/plain": [
       "      Rk              Player Pos  Age   Tm   G  GS    MP   FG  FGA    FG%   3P  3PA  3P%   2P  2PA    2P%   eFG%   FT  FTA    FT%  ORB  DRB  TRB  AST  STL  BLK  TOV   PF   PTS Player_additional\n",
       "21    18      Udoka Azubuike   C   23  UTA  36   4  10.0  1.6  2.0  0.819  0.0  0.0  NaN  1.6  2.0  0.819  0.819  0.2  0.6  0.350  0.9  2.4  3.3  0.3  0.2  0.4  0.5  0.9   3.5         azubuud01\n",
       "60    43     Bismack Biyombo   C   30  PHO  61  14  14.3  2.0  3.4  0.578  0.0  0.0  NaN  2.0  3.4  0.578  0.578  0.4  1.1  0.357  1.5  2.8  4.3  0.9  0.3  1.4  0.8  1.9   4.3         biyombi01\n",
       "87    66         Moses Brown   C   23  TOT  36   1   8.2  1.7  2.7  0.635  0.0  0.0  NaN  1.7  2.7  0.635  0.635  0.9  2.0  0.458  1.6  2.3  3.9  0.1  0.1  0.4  0.4  1.1   4.3         brownmo01\n",
       "88    66         Moses Brown   C   23  LAC  34   1   8.5  1.8  2.8  0.635  0.0  0.0  NaN  1.8  2.8  0.635  0.635  1.0  2.1  0.458  1.7  2.4  4.1  0.1  0.1  0.4  0.4  1.1   4.6         brownmo01\n",
       "89    66         Moses Brown   C   23  BRK   2   0   3.0  0.0  0.0    NaN  0.0  0.0  NaN  0.0  0.0    NaN    NaN  0.0  0.0    NaN  0.0  0.0  0.0  0.0  0.5  0.0  0.5  0.5   0.0         brownmo01\n",
       "107   82    Vernon Carey Jr.   C   21  WAS  11   0   2.5  0.2  0.7  0.250  0.0  0.0  NaN  0.2  0.7  0.250  0.250  0.2  0.2  1.000  0.3  0.7  1.0  0.3  0.2  0.2  0.2  0.5   0.5         careyve01\n",
       "116   88   Justin Champagnie  SF   21  TOR   3   0   3.7  1.0  1.0  1.000  0.0  0.0  NaN  1.0  1.0  1.000  1.000  0.0  0.0    NaN  0.3  1.0  1.3  0.3  0.0  0.0  0.0  0.3   2.0         champju01\n",
       "127   98     Chance Comanche   C   26  POR   1   0  21.0  3.0  5.0  0.600  0.0  0.0  NaN  3.0  5.0  0.600  0.600  1.0  4.0  0.250  2.0  1.0  3.0  0.0  0.0  1.0  0.0  0.0   7.0         comanch01\n",
       "196  151  Michael Foster Jr.  PF   20  PHI   1   0   1.0  0.0  0.0    NaN  0.0  0.0  NaN  0.0  0.0    NaN    NaN  0.0  0.0    NaN  0.0  0.0  0.0  0.0  0.0  0.0  0.0  0.0   0.0         fostemi02\n",
       "201  156      Daniel Gafford   C   24  WAS  78  47  20.6  3.7  5.1  0.732  0.0  0.0  NaN  3.7  5.1  0.732  0.732  1.6  2.4  0.679  2.1  3.5  5.6  1.1  0.4  1.3  1.1  2.4   9.0         gaffoda01\n",
       "341  266         Braxton Key  SF   25  DET   3   0   3.0  0.3  0.3  1.000  0.0  0.0  NaN  0.3  0.3  1.000  1.000  0.7  0.7  1.000  0.0  0.3  0.3  0.0  0.0  0.0  0.0  0.0   1.3           keybr01\n",
       "362  284         A.J. Lawson  SG   22  MIN   1   0   2.0  1.0  1.0  1.000  0.0  0.0  NaN  1.0  1.0  1.000  1.000  0.0  0.0    NaN  0.0  1.0  1.0  0.0  0.0  0.0  0.0  1.0   2.0         lawsoaj01\n",
       "430  341        Chima Moneke  SF   27  SAC   2   0   4.0  0.5  1.0  0.500  0.0  0.0  NaN  0.5  1.0  0.500  0.500  0.0  1.0  0.000  1.0  0.0  1.0  0.5  0.0  0.0  1.0  1.0   1.0         monekch01\n",
       "460  363        Nerlens Noel   C   28  BRK   3   1  14.3  0.3  2.0  0.167  0.0  0.0  NaN  0.3  2.0  0.167  0.167  0.3  0.7  0.500  1.0  2.0  3.0  1.0  1.0  0.3  1.7  2.3   1.0          noelne01\n",
       "490  385       Mason Plumlee   C   32  TOT  79  60  26.0  4.2  6.1  0.680  0.0  0.0  NaN  4.2  6.1  0.680  0.680  2.5  4.0  0.636  2.9  6.0  8.9  3.1  0.6  0.6  1.5  2.7  10.8         plumlma01\n",
       "491  385       Mason Plumlee   C   32  CHO  56  56  28.5  4.7  7.1  0.669  0.0  0.0  NaN  4.7  7.1  0.669  0.669  2.8  4.6  0.605  3.3  6.3  9.7  3.7  0.6  0.6  1.6  2.9  12.2         plumlma01\n",
       "492  385       Mason Plumlee   C   32  LAC  23   4  19.9  2.8  3.8  0.727  0.0  0.0  NaN  2.8  3.8  0.727  0.727  1.9  2.5  0.772  1.8  5.1  6.9  1.7  0.5  0.5  1.3  2.4   7.5         plumlma01\n",
       "495  386        Jakob Poeltl   C   27  TOR  26  25  27.2  5.8  8.8  0.652  0.0  0.0  NaN  5.8  8.8  0.652  0.652  1.6  2.8  0.569  3.2  5.9  9.1  2.2  1.2  1.3  1.1  3.0  13.1         poeltja01\n",
       "511  402       Neemias Queta   C   23  SAC   5   0   5.8  1.2  1.8  0.667  0.0  0.0  NaN  1.2  1.8  0.667  0.667  0.0  0.4  0.000  1.0  1.2  2.2  0.2  0.0  0.4  0.2  1.4   2.4         quetane01\n",
       "531  416   Mitchell Robinson   C   24  NYK  59  58  27.0  3.2  4.7  0.671  0.0  0.0  NaN  3.2  4.7  0.671  0.671  1.0  2.1  0.484  4.5  4.9  9.4  0.9  0.9  1.8  0.7  2.7   7.4         robinmi01\n",
       "559  436      Dereon Seabron  SG   22  NOP   5   0   2.4  0.4  1.0  0.400  0.0  0.0  NaN  0.4  1.0  0.400  0.400  0.0  0.0    NaN  0.2  0.0  0.2  0.0  0.0  0.0  0.0  0.2   0.8         seabrde01\n",
       "566  443         Chris Silva  PF   26  DAL   1   0   3.0  1.0  1.0  1.000  0.0  0.0  NaN  1.0  1.0  1.000  1.000  0.0  0.0    NaN  0.0  0.0  0.0  0.0  0.0  0.0  1.0  2.0   2.0         silvach01\n",
       "652  515    Alondes Williams  SG   23  BRK   1   0   5.0  0.0  0.0    NaN  0.0  0.0  NaN  0.0  0.0    NaN    NaN  0.0  0.0    NaN  0.0  1.0  1.0  0.0  0.0  0.0  2.0  1.0   0.0         willial06\n",
       "659  522       Mark Williams   C   21  CHO  43  17  19.3  3.7  5.8  0.637  0.0  0.0  NaN  3.7  5.8  0.637  0.637  1.6  2.3  0.691  2.2  4.9  7.1  0.4  0.7  1.0  0.9  2.2   9.0         willima07"
      ]
     },
     "execution_count": 458,
     "metadata": {},
     "output_type": "execute_result"
    }
   ],
   "source": [
    "pergame_df_raw[pergame_df_raw['3P%'].isna()]"
   ]
  },
  {
   "cell_type": "code",
   "execution_count": 459,
   "metadata": {},
   "outputs": [
    {
     "data": {
      "text/html": [
       "<div>\n",
       "<style scoped>\n",
       "    .dataframe tbody tr th:only-of-type {\n",
       "        vertical-align: middle;\n",
       "    }\n",
       "\n",
       "    .dataframe tbody tr th {\n",
       "        vertical-align: top;\n",
       "    }\n",
       "\n",
       "    .dataframe thead th {\n",
       "        text-align: right;\n",
       "    }\n",
       "</style>\n",
       "<table border=\"1\" class=\"dataframe\">\n",
       "  <thead>\n",
       "    <tr style=\"text-align: right;\">\n",
       "      <th></th>\n",
       "      <th>Rk</th>\n",
       "      <th>Player</th>\n",
       "      <th>Pos</th>\n",
       "      <th>Age</th>\n",
       "      <th>Tm</th>\n",
       "      <th>G</th>\n",
       "      <th>GS</th>\n",
       "      <th>MP</th>\n",
       "      <th>FG</th>\n",
       "      <th>FGA</th>\n",
       "      <th>FG%</th>\n",
       "      <th>3P</th>\n",
       "      <th>3PA</th>\n",
       "      <th>3P%</th>\n",
       "      <th>2P</th>\n",
       "      <th>2PA</th>\n",
       "      <th>2P%</th>\n",
       "      <th>eFG%</th>\n",
       "      <th>FT</th>\n",
       "      <th>FTA</th>\n",
       "      <th>FT%</th>\n",
       "      <th>ORB</th>\n",
       "      <th>DRB</th>\n",
       "      <th>TRB</th>\n",
       "      <th>AST</th>\n",
       "      <th>STL</th>\n",
       "      <th>BLK</th>\n",
       "      <th>TOV</th>\n",
       "      <th>PF</th>\n",
       "      <th>PTS</th>\n",
       "      <th>Player_additional</th>\n",
       "    </tr>\n",
       "  </thead>\n",
       "  <tbody>\n",
       "    <tr>\n",
       "      <th>72</th>\n",
       "      <td>53</td>\n",
       "      <td>Jamaree Bouyea</td>\n",
       "      <td>PG</td>\n",
       "      <td>23</td>\n",
       "      <td>WAS</td>\n",
       "      <td>1</td>\n",
       "      <td>0</td>\n",
       "      <td>6.0</td>\n",
       "      <td>0.0</td>\n",
       "      <td>1.0</td>\n",
       "      <td>0.000</td>\n",
       "      <td>0.0</td>\n",
       "      <td>1.0</td>\n",
       "      <td>0.000</td>\n",
       "      <td>0.0</td>\n",
       "      <td>0.0</td>\n",
       "      <td>NaN</td>\n",
       "      <td>0.000</td>\n",
       "      <td>0.0</td>\n",
       "      <td>0.0</td>\n",
       "      <td>NaN</td>\n",
       "      <td>0.0</td>\n",
       "      <td>1.0</td>\n",
       "      <td>1.0</td>\n",
       "      <td>0.0</td>\n",
       "      <td>0.0</td>\n",
       "      <td>0.0</td>\n",
       "      <td>0.0</td>\n",
       "      <td>1.0</td>\n",
       "      <td>0.0</td>\n",
       "      <td>bouyeja01</td>\n",
       "    </tr>\n",
       "    <tr>\n",
       "      <th>89</th>\n",
       "      <td>66</td>\n",
       "      <td>Moses Brown</td>\n",
       "      <td>C</td>\n",
       "      <td>23</td>\n",
       "      <td>BRK</td>\n",
       "      <td>2</td>\n",
       "      <td>0</td>\n",
       "      <td>3.0</td>\n",
       "      <td>0.0</td>\n",
       "      <td>0.0</td>\n",
       "      <td>NaN</td>\n",
       "      <td>0.0</td>\n",
       "      <td>0.0</td>\n",
       "      <td>NaN</td>\n",
       "      <td>0.0</td>\n",
       "      <td>0.0</td>\n",
       "      <td>NaN</td>\n",
       "      <td>NaN</td>\n",
       "      <td>0.0</td>\n",
       "      <td>0.0</td>\n",
       "      <td>NaN</td>\n",
       "      <td>0.0</td>\n",
       "      <td>0.0</td>\n",
       "      <td>0.0</td>\n",
       "      <td>0.0</td>\n",
       "      <td>0.5</td>\n",
       "      <td>0.0</td>\n",
       "      <td>0.5</td>\n",
       "      <td>0.5</td>\n",
       "      <td>0.0</td>\n",
       "      <td>brownmo01</td>\n",
       "    </tr>\n",
       "    <tr>\n",
       "      <th>196</th>\n",
       "      <td>151</td>\n",
       "      <td>Michael Foster Jr.</td>\n",
       "      <td>PF</td>\n",
       "      <td>20</td>\n",
       "      <td>PHI</td>\n",
       "      <td>1</td>\n",
       "      <td>0</td>\n",
       "      <td>1.0</td>\n",
       "      <td>0.0</td>\n",
       "      <td>0.0</td>\n",
       "      <td>NaN</td>\n",
       "      <td>0.0</td>\n",
       "      <td>0.0</td>\n",
       "      <td>NaN</td>\n",
       "      <td>0.0</td>\n",
       "      <td>0.0</td>\n",
       "      <td>NaN</td>\n",
       "      <td>NaN</td>\n",
       "      <td>0.0</td>\n",
       "      <td>0.0</td>\n",
       "      <td>NaN</td>\n",
       "      <td>0.0</td>\n",
       "      <td>0.0</td>\n",
       "      <td>0.0</td>\n",
       "      <td>0.0</td>\n",
       "      <td>0.0</td>\n",
       "      <td>0.0</td>\n",
       "      <td>0.0</td>\n",
       "      <td>0.0</td>\n",
       "      <td>0.0</td>\n",
       "      <td>fostemi02</td>\n",
       "    </tr>\n",
       "    <tr>\n",
       "      <th>211</th>\n",
       "      <td>166</td>\n",
       "      <td>Jacob Gilyard</td>\n",
       "      <td>PG</td>\n",
       "      <td>24</td>\n",
       "      <td>MEM</td>\n",
       "      <td>1</td>\n",
       "      <td>0</td>\n",
       "      <td>41.0</td>\n",
       "      <td>1.0</td>\n",
       "      <td>3.0</td>\n",
       "      <td>0.333</td>\n",
       "      <td>1.0</td>\n",
       "      <td>3.0</td>\n",
       "      <td>0.333</td>\n",
       "      <td>0.0</td>\n",
       "      <td>0.0</td>\n",
       "      <td>NaN</td>\n",
       "      <td>0.500</td>\n",
       "      <td>0.0</td>\n",
       "      <td>0.0</td>\n",
       "      <td>NaN</td>\n",
       "      <td>0.0</td>\n",
       "      <td>4.0</td>\n",
       "      <td>4.0</td>\n",
       "      <td>7.0</td>\n",
       "      <td>3.0</td>\n",
       "      <td>0.0</td>\n",
       "      <td>2.0</td>\n",
       "      <td>3.0</td>\n",
       "      <td>3.0</td>\n",
       "      <td>gilyaja01</td>\n",
       "    </tr>\n",
       "    <tr>\n",
       "      <th>336</th>\n",
       "      <td>263</td>\n",
       "      <td>Trevor Keels</td>\n",
       "      <td>SG</td>\n",
       "      <td>19</td>\n",
       "      <td>NYK</td>\n",
       "      <td>3</td>\n",
       "      <td>0</td>\n",
       "      <td>2.7</td>\n",
       "      <td>0.3</td>\n",
       "      <td>1.3</td>\n",
       "      <td>0.250</td>\n",
       "      <td>0.3</td>\n",
       "      <td>1.3</td>\n",
       "      <td>0.250</td>\n",
       "      <td>0.0</td>\n",
       "      <td>0.0</td>\n",
       "      <td>NaN</td>\n",
       "      <td>0.375</td>\n",
       "      <td>0.0</td>\n",
       "      <td>0.0</td>\n",
       "      <td>NaN</td>\n",
       "      <td>0.0</td>\n",
       "      <td>0.7</td>\n",
       "      <td>0.7</td>\n",
       "      <td>0.0</td>\n",
       "      <td>0.0</td>\n",
       "      <td>0.0</td>\n",
       "      <td>0.0</td>\n",
       "      <td>0.0</td>\n",
       "      <td>1.0</td>\n",
       "      <td>keelstr01</td>\n",
       "    </tr>\n",
       "    <tr>\n",
       "      <th>613</th>\n",
       "      <td>482</td>\n",
       "      <td>Stanley Umude</td>\n",
       "      <td>SG</td>\n",
       "      <td>23</td>\n",
       "      <td>DET</td>\n",
       "      <td>1</td>\n",
       "      <td>0</td>\n",
       "      <td>2.0</td>\n",
       "      <td>0.0</td>\n",
       "      <td>1.0</td>\n",
       "      <td>0.000</td>\n",
       "      <td>0.0</td>\n",
       "      <td>1.0</td>\n",
       "      <td>0.000</td>\n",
       "      <td>0.0</td>\n",
       "      <td>0.0</td>\n",
       "      <td>NaN</td>\n",
       "      <td>0.000</td>\n",
       "      <td>2.0</td>\n",
       "      <td>2.0</td>\n",
       "      <td>1.0</td>\n",
       "      <td>0.0</td>\n",
       "      <td>0.0</td>\n",
       "      <td>0.0</td>\n",
       "      <td>0.0</td>\n",
       "      <td>1.0</td>\n",
       "      <td>1.0</td>\n",
       "      <td>0.0</td>\n",
       "      <td>0.0</td>\n",
       "      <td>2.0</td>\n",
       "      <td>umudest01</td>\n",
       "    </tr>\n",
       "    <tr>\n",
       "      <th>652</th>\n",
       "      <td>515</td>\n",
       "      <td>Alondes Williams</td>\n",
       "      <td>SG</td>\n",
       "      <td>23</td>\n",
       "      <td>BRK</td>\n",
       "      <td>1</td>\n",
       "      <td>0</td>\n",
       "      <td>5.0</td>\n",
       "      <td>0.0</td>\n",
       "      <td>0.0</td>\n",
       "      <td>NaN</td>\n",
       "      <td>0.0</td>\n",
       "      <td>0.0</td>\n",
       "      <td>NaN</td>\n",
       "      <td>0.0</td>\n",
       "      <td>0.0</td>\n",
       "      <td>NaN</td>\n",
       "      <td>NaN</td>\n",
       "      <td>0.0</td>\n",
       "      <td>0.0</td>\n",
       "      <td>NaN</td>\n",
       "      <td>0.0</td>\n",
       "      <td>1.0</td>\n",
       "      <td>1.0</td>\n",
       "      <td>0.0</td>\n",
       "      <td>0.0</td>\n",
       "      <td>0.0</td>\n",
       "      <td>2.0</td>\n",
       "      <td>1.0</td>\n",
       "      <td>0.0</td>\n",
       "      <td>willial06</td>\n",
       "    </tr>\n",
       "  </tbody>\n",
       "</table>\n",
       "</div>"
      ],
      "text/plain": [
       "      Rk              Player Pos  Age   Tm  G  GS    MP   FG  FGA    FG%   3P  3PA    3P%   2P  2PA  2P%   eFG%   FT  FTA  FT%  ORB  DRB  TRB  AST  STL  BLK  TOV   PF  PTS Player_additional\n",
       "72    53      Jamaree Bouyea  PG   23  WAS  1   0   6.0  0.0  1.0  0.000  0.0  1.0  0.000  0.0  0.0  NaN  0.000  0.0  0.0  NaN  0.0  1.0  1.0  0.0  0.0  0.0  0.0  1.0  0.0         bouyeja01\n",
       "89    66         Moses Brown   C   23  BRK  2   0   3.0  0.0  0.0    NaN  0.0  0.0    NaN  0.0  0.0  NaN    NaN  0.0  0.0  NaN  0.0  0.0  0.0  0.0  0.5  0.0  0.5  0.5  0.0         brownmo01\n",
       "196  151  Michael Foster Jr.  PF   20  PHI  1   0   1.0  0.0  0.0    NaN  0.0  0.0    NaN  0.0  0.0  NaN    NaN  0.0  0.0  NaN  0.0  0.0  0.0  0.0  0.0  0.0  0.0  0.0  0.0         fostemi02\n",
       "211  166       Jacob Gilyard  PG   24  MEM  1   0  41.0  1.0  3.0  0.333  1.0  3.0  0.333  0.0  0.0  NaN  0.500  0.0  0.0  NaN  0.0  4.0  4.0  7.0  3.0  0.0  2.0  3.0  3.0         gilyaja01\n",
       "336  263        Trevor Keels  SG   19  NYK  3   0   2.7  0.3  1.3  0.250  0.3  1.3  0.250  0.0  0.0  NaN  0.375  0.0  0.0  NaN  0.0  0.7  0.7  0.0  0.0  0.0  0.0  0.0  1.0         keelstr01\n",
       "613  482       Stanley Umude  SG   23  DET  1   0   2.0  0.0  1.0  0.000  0.0  1.0  0.000  0.0  0.0  NaN  0.000  2.0  2.0  1.0  0.0  0.0  0.0  0.0  1.0  1.0  0.0  0.0  2.0         umudest01\n",
       "652  515    Alondes Williams  SG   23  BRK  1   0   5.0  0.0  0.0    NaN  0.0  0.0    NaN  0.0  0.0  NaN    NaN  0.0  0.0  NaN  0.0  1.0  1.0  0.0  0.0  0.0  2.0  1.0  0.0         willial06"
      ]
     },
     "execution_count": 459,
     "metadata": {},
     "output_type": "execute_result"
    }
   ],
   "source": [
    "pergame_df_raw[pergame_df_raw['2P%'].isna()]"
   ]
  },
  {
   "cell_type": "code",
   "execution_count": 460,
   "metadata": {},
   "outputs": [
    {
     "data": {
      "text/html": [
       "<div>\n",
       "<style scoped>\n",
       "    .dataframe tbody tr th:only-of-type {\n",
       "        vertical-align: middle;\n",
       "    }\n",
       "\n",
       "    .dataframe tbody tr th {\n",
       "        vertical-align: top;\n",
       "    }\n",
       "\n",
       "    .dataframe thead th {\n",
       "        text-align: right;\n",
       "    }\n",
       "</style>\n",
       "<table border=\"1\" class=\"dataframe\">\n",
       "  <thead>\n",
       "    <tr style=\"text-align: right;\">\n",
       "      <th></th>\n",
       "      <th>Rk</th>\n",
       "      <th>Player</th>\n",
       "      <th>Pos</th>\n",
       "      <th>Age</th>\n",
       "      <th>Tm</th>\n",
       "      <th>G</th>\n",
       "      <th>GS</th>\n",
       "      <th>MP</th>\n",
       "      <th>FG</th>\n",
       "      <th>FGA</th>\n",
       "      <th>FG%</th>\n",
       "      <th>3P</th>\n",
       "      <th>3PA</th>\n",
       "      <th>3P%</th>\n",
       "      <th>2P</th>\n",
       "      <th>2PA</th>\n",
       "      <th>2P%</th>\n",
       "      <th>eFG%</th>\n",
       "      <th>FT</th>\n",
       "      <th>FTA</th>\n",
       "      <th>FT%</th>\n",
       "      <th>ORB</th>\n",
       "      <th>DRB</th>\n",
       "      <th>TRB</th>\n",
       "      <th>AST</th>\n",
       "      <th>STL</th>\n",
       "      <th>BLK</th>\n",
       "      <th>TOV</th>\n",
       "      <th>PF</th>\n",
       "      <th>PTS</th>\n",
       "      <th>Player_additional</th>\n",
       "    </tr>\n",
       "  </thead>\n",
       "  <tbody>\n",
       "    <tr>\n",
       "      <th>89</th>\n",
       "      <td>66</td>\n",
       "      <td>Moses Brown</td>\n",
       "      <td>C</td>\n",
       "      <td>23</td>\n",
       "      <td>BRK</td>\n",
       "      <td>2</td>\n",
       "      <td>0</td>\n",
       "      <td>3.0</td>\n",
       "      <td>0.0</td>\n",
       "      <td>0.0</td>\n",
       "      <td>NaN</td>\n",
       "      <td>0.0</td>\n",
       "      <td>0.0</td>\n",
       "      <td>NaN</td>\n",
       "      <td>0.0</td>\n",
       "      <td>0.0</td>\n",
       "      <td>NaN</td>\n",
       "      <td>NaN</td>\n",
       "      <td>0.0</td>\n",
       "      <td>0.0</td>\n",
       "      <td>NaN</td>\n",
       "      <td>0.0</td>\n",
       "      <td>0.0</td>\n",
       "      <td>0.0</td>\n",
       "      <td>0.0</td>\n",
       "      <td>0.5</td>\n",
       "      <td>0.0</td>\n",
       "      <td>0.5</td>\n",
       "      <td>0.5</td>\n",
       "      <td>0.0</td>\n",
       "      <td>brownmo01</td>\n",
       "    </tr>\n",
       "    <tr>\n",
       "      <th>196</th>\n",
       "      <td>151</td>\n",
       "      <td>Michael Foster Jr.</td>\n",
       "      <td>PF</td>\n",
       "      <td>20</td>\n",
       "      <td>PHI</td>\n",
       "      <td>1</td>\n",
       "      <td>0</td>\n",
       "      <td>1.0</td>\n",
       "      <td>0.0</td>\n",
       "      <td>0.0</td>\n",
       "      <td>NaN</td>\n",
       "      <td>0.0</td>\n",
       "      <td>0.0</td>\n",
       "      <td>NaN</td>\n",
       "      <td>0.0</td>\n",
       "      <td>0.0</td>\n",
       "      <td>NaN</td>\n",
       "      <td>NaN</td>\n",
       "      <td>0.0</td>\n",
       "      <td>0.0</td>\n",
       "      <td>NaN</td>\n",
       "      <td>0.0</td>\n",
       "      <td>0.0</td>\n",
       "      <td>0.0</td>\n",
       "      <td>0.0</td>\n",
       "      <td>0.0</td>\n",
       "      <td>0.0</td>\n",
       "      <td>0.0</td>\n",
       "      <td>0.0</td>\n",
       "      <td>0.0</td>\n",
       "      <td>fostemi02</td>\n",
       "    </tr>\n",
       "    <tr>\n",
       "      <th>652</th>\n",
       "      <td>515</td>\n",
       "      <td>Alondes Williams</td>\n",
       "      <td>SG</td>\n",
       "      <td>23</td>\n",
       "      <td>BRK</td>\n",
       "      <td>1</td>\n",
       "      <td>0</td>\n",
       "      <td>5.0</td>\n",
       "      <td>0.0</td>\n",
       "      <td>0.0</td>\n",
       "      <td>NaN</td>\n",
       "      <td>0.0</td>\n",
       "      <td>0.0</td>\n",
       "      <td>NaN</td>\n",
       "      <td>0.0</td>\n",
       "      <td>0.0</td>\n",
       "      <td>NaN</td>\n",
       "      <td>NaN</td>\n",
       "      <td>0.0</td>\n",
       "      <td>0.0</td>\n",
       "      <td>NaN</td>\n",
       "      <td>0.0</td>\n",
       "      <td>1.0</td>\n",
       "      <td>1.0</td>\n",
       "      <td>0.0</td>\n",
       "      <td>0.0</td>\n",
       "      <td>0.0</td>\n",
       "      <td>2.0</td>\n",
       "      <td>1.0</td>\n",
       "      <td>0.0</td>\n",
       "      <td>willial06</td>\n",
       "    </tr>\n",
       "  </tbody>\n",
       "</table>\n",
       "</div>"
      ],
      "text/plain": [
       "      Rk              Player Pos  Age   Tm  G  GS   MP   FG  FGA  FG%   3P  3PA  3P%   2P  2PA  2P%  eFG%   FT  FTA  FT%  ORB  DRB  TRB  AST  STL  BLK  TOV   PF  PTS Player_additional\n",
       "89    66         Moses Brown   C   23  BRK  2   0  3.0  0.0  0.0  NaN  0.0  0.0  NaN  0.0  0.0  NaN   NaN  0.0  0.0  NaN  0.0  0.0  0.0  0.0  0.5  0.0  0.5  0.5  0.0         brownmo01\n",
       "196  151  Michael Foster Jr.  PF   20  PHI  1   0  1.0  0.0  0.0  NaN  0.0  0.0  NaN  0.0  0.0  NaN   NaN  0.0  0.0  NaN  0.0  0.0  0.0  0.0  0.0  0.0  0.0  0.0  0.0         fostemi02\n",
       "652  515    Alondes Williams  SG   23  BRK  1   0  5.0  0.0  0.0  NaN  0.0  0.0  NaN  0.0  0.0  NaN   NaN  0.0  0.0  NaN  0.0  1.0  1.0  0.0  0.0  0.0  2.0  1.0  0.0         willial06"
      ]
     },
     "execution_count": 460,
     "metadata": {},
     "output_type": "execute_result"
    }
   ],
   "source": [
    "pergame_df_raw[pergame_df_raw['eFG%'].isna()]"
   ]
  },
  {
   "cell_type": "code",
   "execution_count": 461,
   "metadata": {},
   "outputs": [
    {
     "data": {
      "text/html": [
       "<div>\n",
       "<style scoped>\n",
       "    .dataframe tbody tr th:only-of-type {\n",
       "        vertical-align: middle;\n",
       "    }\n",
       "\n",
       "    .dataframe tbody tr th {\n",
       "        vertical-align: top;\n",
       "    }\n",
       "\n",
       "    .dataframe thead th {\n",
       "        text-align: right;\n",
       "    }\n",
       "</style>\n",
       "<table border=\"1\" class=\"dataframe\">\n",
       "  <thead>\n",
       "    <tr style=\"text-align: right;\">\n",
       "      <th></th>\n",
       "      <th>Rk</th>\n",
       "      <th>Player</th>\n",
       "      <th>Pos</th>\n",
       "      <th>Age</th>\n",
       "      <th>Tm</th>\n",
       "      <th>G</th>\n",
       "      <th>GS</th>\n",
       "      <th>MP</th>\n",
       "      <th>FG</th>\n",
       "      <th>FGA</th>\n",
       "      <th>FG%</th>\n",
       "      <th>3P</th>\n",
       "      <th>3PA</th>\n",
       "      <th>3P%</th>\n",
       "      <th>2P</th>\n",
       "      <th>2PA</th>\n",
       "      <th>2P%</th>\n",
       "      <th>eFG%</th>\n",
       "      <th>FT</th>\n",
       "      <th>FTA</th>\n",
       "      <th>FT%</th>\n",
       "      <th>ORB</th>\n",
       "      <th>DRB</th>\n",
       "      <th>TRB</th>\n",
       "      <th>AST</th>\n",
       "      <th>STL</th>\n",
       "      <th>BLK</th>\n",
       "      <th>TOV</th>\n",
       "      <th>PF</th>\n",
       "      <th>PTS</th>\n",
       "      <th>Player_additional</th>\n",
       "    </tr>\n",
       "  </thead>\n",
       "  <tbody>\n",
       "    <tr>\n",
       "      <th>16</th>\n",
       "      <td>15</td>\n",
       "      <td>Ryan Arcidiacono</td>\n",
       "      <td>PG</td>\n",
       "      <td>28</td>\n",
       "      <td>TOT</td>\n",
       "      <td>20</td>\n",
       "      <td>4</td>\n",
       "      <td>8.6</td>\n",
       "      <td>0.5</td>\n",
       "      <td>1.9</td>\n",
       "      <td>0.243</td>\n",
       "      <td>0.4</td>\n",
       "      <td>1.2</td>\n",
       "      <td>0.348</td>\n",
       "      <td>0.1</td>\n",
       "      <td>0.7</td>\n",
       "      <td>0.071</td>\n",
       "      <td>0.351</td>\n",
       "      <td>0.0</td>\n",
       "      <td>0.0</td>\n",
       "      <td>NaN</td>\n",
       "      <td>0.0</td>\n",
       "      <td>0.8</td>\n",
       "      <td>0.8</td>\n",
       "      <td>1.2</td>\n",
       "      <td>0.3</td>\n",
       "      <td>0.0</td>\n",
       "      <td>0.4</td>\n",
       "      <td>0.9</td>\n",
       "      <td>1.3</td>\n",
       "      <td>arcidry01</td>\n",
       "    </tr>\n",
       "    <tr>\n",
       "      <th>17</th>\n",
       "      <td>15</td>\n",
       "      <td>Ryan Arcidiacono</td>\n",
       "      <td>PG</td>\n",
       "      <td>28</td>\n",
       "      <td>NYK</td>\n",
       "      <td>11</td>\n",
       "      <td>0</td>\n",
       "      <td>2.4</td>\n",
       "      <td>0.1</td>\n",
       "      <td>0.5</td>\n",
       "      <td>0.200</td>\n",
       "      <td>0.1</td>\n",
       "      <td>0.3</td>\n",
       "      <td>0.333</td>\n",
       "      <td>0.0</td>\n",
       "      <td>0.2</td>\n",
       "      <td>0.000</td>\n",
       "      <td>0.300</td>\n",
       "      <td>0.0</td>\n",
       "      <td>0.0</td>\n",
       "      <td>NaN</td>\n",
       "      <td>0.0</td>\n",
       "      <td>0.4</td>\n",
       "      <td>0.4</td>\n",
       "      <td>0.2</td>\n",
       "      <td>0.2</td>\n",
       "      <td>0.0</td>\n",
       "      <td>0.1</td>\n",
       "      <td>0.3</td>\n",
       "      <td>0.3</td>\n",
       "      <td>arcidry01</td>\n",
       "    </tr>\n",
       "    <tr>\n",
       "      <th>18</th>\n",
       "      <td>15</td>\n",
       "      <td>Ryan Arcidiacono</td>\n",
       "      <td>PG</td>\n",
       "      <td>28</td>\n",
       "      <td>POR</td>\n",
       "      <td>9</td>\n",
       "      <td>4</td>\n",
       "      <td>16.2</td>\n",
       "      <td>0.9</td>\n",
       "      <td>3.6</td>\n",
       "      <td>0.250</td>\n",
       "      <td>0.8</td>\n",
       "      <td>2.2</td>\n",
       "      <td>0.350</td>\n",
       "      <td>0.1</td>\n",
       "      <td>1.3</td>\n",
       "      <td>0.083</td>\n",
       "      <td>0.359</td>\n",
       "      <td>0.0</td>\n",
       "      <td>0.0</td>\n",
       "      <td>NaN</td>\n",
       "      <td>0.0</td>\n",
       "      <td>1.2</td>\n",
       "      <td>1.2</td>\n",
       "      <td>2.3</td>\n",
       "      <td>0.3</td>\n",
       "      <td>0.0</td>\n",
       "      <td>0.7</td>\n",
       "      <td>1.6</td>\n",
       "      <td>2.6</td>\n",
       "      <td>arcidry01</td>\n",
       "    </tr>\n",
       "    <tr>\n",
       "      <th>65</th>\n",
       "      <td>48</td>\n",
       "      <td>Leandro Bolmaro</td>\n",
       "      <td>SG</td>\n",
       "      <td>22</td>\n",
       "      <td>UTA</td>\n",
       "      <td>14</td>\n",
       "      <td>0</td>\n",
       "      <td>4.9</td>\n",
       "      <td>0.2</td>\n",
       "      <td>1.4</td>\n",
       "      <td>0.150</td>\n",
       "      <td>0.0</td>\n",
       "      <td>0.3</td>\n",
       "      <td>0.000</td>\n",
       "      <td>0.2</td>\n",
       "      <td>1.1</td>\n",
       "      <td>0.188</td>\n",
       "      <td>0.150</td>\n",
       "      <td>0.0</td>\n",
       "      <td>0.0</td>\n",
       "      <td>NaN</td>\n",
       "      <td>0.3</td>\n",
       "      <td>0.2</td>\n",
       "      <td>0.5</td>\n",
       "      <td>0.5</td>\n",
       "      <td>0.2</td>\n",
       "      <td>0.1</td>\n",
       "      <td>0.5</td>\n",
       "      <td>0.7</td>\n",
       "      <td>0.4</td>\n",
       "      <td>bolmale01</td>\n",
       "    </tr>\n",
       "    <tr>\n",
       "      <th>72</th>\n",
       "      <td>53</td>\n",
       "      <td>Jamaree Bouyea</td>\n",
       "      <td>PG</td>\n",
       "      <td>23</td>\n",
       "      <td>WAS</td>\n",
       "      <td>1</td>\n",
       "      <td>0</td>\n",
       "      <td>6.0</td>\n",
       "      <td>0.0</td>\n",
       "      <td>1.0</td>\n",
       "      <td>0.000</td>\n",
       "      <td>0.0</td>\n",
       "      <td>1.0</td>\n",
       "      <td>0.000</td>\n",
       "      <td>0.0</td>\n",
       "      <td>0.0</td>\n",
       "      <td>NaN</td>\n",
       "      <td>0.000</td>\n",
       "      <td>0.0</td>\n",
       "      <td>0.0</td>\n",
       "      <td>NaN</td>\n",
       "      <td>0.0</td>\n",
       "      <td>1.0</td>\n",
       "      <td>1.0</td>\n",
       "      <td>0.0</td>\n",
       "      <td>0.0</td>\n",
       "      <td>0.0</td>\n",
       "      <td>0.0</td>\n",
       "      <td>1.0</td>\n",
       "      <td>0.0</td>\n",
       "      <td>bouyeja01</td>\n",
       "    </tr>\n",
       "    <tr>\n",
       "      <th>89</th>\n",
       "      <td>66</td>\n",
       "      <td>Moses Brown</td>\n",
       "      <td>C</td>\n",
       "      <td>23</td>\n",
       "      <td>BRK</td>\n",
       "      <td>2</td>\n",
       "      <td>0</td>\n",
       "      <td>3.0</td>\n",
       "      <td>0.0</td>\n",
       "      <td>0.0</td>\n",
       "      <td>NaN</td>\n",
       "      <td>0.0</td>\n",
       "      <td>0.0</td>\n",
       "      <td>NaN</td>\n",
       "      <td>0.0</td>\n",
       "      <td>0.0</td>\n",
       "      <td>NaN</td>\n",
       "      <td>NaN</td>\n",
       "      <td>0.0</td>\n",
       "      <td>0.0</td>\n",
       "      <td>NaN</td>\n",
       "      <td>0.0</td>\n",
       "      <td>0.0</td>\n",
       "      <td>0.0</td>\n",
       "      <td>0.0</td>\n",
       "      <td>0.5</td>\n",
       "      <td>0.0</td>\n",
       "      <td>0.5</td>\n",
       "      <td>0.5</td>\n",
       "      <td>0.0</td>\n",
       "      <td>brownmo01</td>\n",
       "    </tr>\n",
       "    <tr>\n",
       "      <th>90</th>\n",
       "      <td>67</td>\n",
       "      <td>Sterling Brown</td>\n",
       "      <td>SG</td>\n",
       "      <td>27</td>\n",
       "      <td>LAL</td>\n",
       "      <td>4</td>\n",
       "      <td>0</td>\n",
       "      <td>6.0</td>\n",
       "      <td>0.0</td>\n",
       "      <td>1.0</td>\n",
       "      <td>0.000</td>\n",
       "      <td>0.0</td>\n",
       "      <td>0.5</td>\n",
       "      <td>0.000</td>\n",
       "      <td>0.0</td>\n",
       "      <td>0.5</td>\n",
       "      <td>0.000</td>\n",
       "      <td>0.000</td>\n",
       "      <td>0.0</td>\n",
       "      <td>0.0</td>\n",
       "      <td>NaN</td>\n",
       "      <td>0.8</td>\n",
       "      <td>1.3</td>\n",
       "      <td>2.0</td>\n",
       "      <td>0.5</td>\n",
       "      <td>0.8</td>\n",
       "      <td>0.0</td>\n",
       "      <td>0.0</td>\n",
       "      <td>1.0</td>\n",
       "      <td>0.0</td>\n",
       "      <td>brownst02</td>\n",
       "    </tr>\n",
       "    <tr>\n",
       "      <th>98</th>\n",
       "      <td>73</td>\n",
       "      <td>Deonte Burton</td>\n",
       "      <td>SG</td>\n",
       "      <td>29</td>\n",
       "      <td>SAC</td>\n",
       "      <td>2</td>\n",
       "      <td>0</td>\n",
       "      <td>3.0</td>\n",
       "      <td>0.0</td>\n",
       "      <td>1.0</td>\n",
       "      <td>0.000</td>\n",
       "      <td>0.0</td>\n",
       "      <td>0.5</td>\n",
       "      <td>0.000</td>\n",
       "      <td>0.0</td>\n",
       "      <td>0.5</td>\n",
       "      <td>0.000</td>\n",
       "      <td>0.000</td>\n",
       "      <td>0.0</td>\n",
       "      <td>0.0</td>\n",
       "      <td>NaN</td>\n",
       "      <td>0.0</td>\n",
       "      <td>0.0</td>\n",
       "      <td>0.0</td>\n",
       "      <td>0.0</td>\n",
       "      <td>0.0</td>\n",
       "      <td>0.0</td>\n",
       "      <td>0.0</td>\n",
       "      <td>0.0</td>\n",
       "      <td>0.0</td>\n",
       "      <td>burtode02</td>\n",
       "    </tr>\n",
       "    <tr>\n",
       "      <th>99</th>\n",
       "      <td>74</td>\n",
       "      <td>Jared Butler</td>\n",
       "      <td>SG</td>\n",
       "      <td>22</td>\n",
       "      <td>OKC</td>\n",
       "      <td>6</td>\n",
       "      <td>1</td>\n",
       "      <td>12.8</td>\n",
       "      <td>2.5</td>\n",
       "      <td>5.3</td>\n",
       "      <td>0.469</td>\n",
       "      <td>1.2</td>\n",
       "      <td>2.3</td>\n",
       "      <td>0.500</td>\n",
       "      <td>1.3</td>\n",
       "      <td>3.0</td>\n",
       "      <td>0.444</td>\n",
       "      <td>0.578</td>\n",
       "      <td>0.0</td>\n",
       "      <td>0.0</td>\n",
       "      <td>NaN</td>\n",
       "      <td>0.2</td>\n",
       "      <td>0.5</td>\n",
       "      <td>0.7</td>\n",
       "      <td>1.3</td>\n",
       "      <td>0.8</td>\n",
       "      <td>0.0</td>\n",
       "      <td>0.8</td>\n",
       "      <td>0.8</td>\n",
       "      <td>6.2</td>\n",
       "      <td>butleja02</td>\n",
       "    </tr>\n",
       "    <tr>\n",
       "      <th>113</th>\n",
       "      <td>87</td>\n",
       "      <td>Julian Champagnie</td>\n",
       "      <td>SF</td>\n",
       "      <td>21</td>\n",
       "      <td>PHI</td>\n",
       "      <td>2</td>\n",
       "      <td>0</td>\n",
       "      <td>3.5</td>\n",
       "      <td>0.0</td>\n",
       "      <td>1.0</td>\n",
       "      <td>0.000</td>\n",
       "      <td>0.0</td>\n",
       "      <td>0.5</td>\n",
       "      <td>0.000</td>\n",
       "      <td>0.0</td>\n",
       "      <td>0.5</td>\n",
       "      <td>0.000</td>\n",
       "      <td>0.000</td>\n",
       "      <td>0.0</td>\n",
       "      <td>0.0</td>\n",
       "      <td>NaN</td>\n",
       "      <td>0.0</td>\n",
       "      <td>0.0</td>\n",
       "      <td>0.0</td>\n",
       "      <td>0.0</td>\n",
       "      <td>0.5</td>\n",
       "      <td>0.0</td>\n",
       "      <td>0.0</td>\n",
       "      <td>0.0</td>\n",
       "      <td>0.0</td>\n",
       "      <td>champju02</td>\n",
       "    </tr>\n",
       "    <tr>\n",
       "      <th>115</th>\n",
       "      <td>88</td>\n",
       "      <td>Justin Champagnie</td>\n",
       "      <td>SF</td>\n",
       "      <td>21</td>\n",
       "      <td>TOT</td>\n",
       "      <td>5</td>\n",
       "      <td>0</td>\n",
       "      <td>6.8</td>\n",
       "      <td>1.0</td>\n",
       "      <td>3.0</td>\n",
       "      <td>0.333</td>\n",
       "      <td>0.2</td>\n",
       "      <td>1.0</td>\n",
       "      <td>0.200</td>\n",
       "      <td>0.8</td>\n",
       "      <td>2.0</td>\n",
       "      <td>0.400</td>\n",
       "      <td>0.367</td>\n",
       "      <td>0.0</td>\n",
       "      <td>0.0</td>\n",
       "      <td>NaN</td>\n",
       "      <td>0.6</td>\n",
       "      <td>1.0</td>\n",
       "      <td>1.6</td>\n",
       "      <td>0.8</td>\n",
       "      <td>0.2</td>\n",
       "      <td>0.0</td>\n",
       "      <td>0.0</td>\n",
       "      <td>0.4</td>\n",
       "      <td>2.2</td>\n",
       "      <td>champju01</td>\n",
       "    </tr>\n",
       "    <tr>\n",
       "      <th>116</th>\n",
       "      <td>88</td>\n",
       "      <td>Justin Champagnie</td>\n",
       "      <td>SF</td>\n",
       "      <td>21</td>\n",
       "      <td>TOR</td>\n",
       "      <td>3</td>\n",
       "      <td>0</td>\n",
       "      <td>3.7</td>\n",
       "      <td>1.0</td>\n",
       "      <td>1.0</td>\n",
       "      <td>1.000</td>\n",
       "      <td>0.0</td>\n",
       "      <td>0.0</td>\n",
       "      <td>NaN</td>\n",
       "      <td>1.0</td>\n",
       "      <td>1.0</td>\n",
       "      <td>1.000</td>\n",
       "      <td>1.000</td>\n",
       "      <td>0.0</td>\n",
       "      <td>0.0</td>\n",
       "      <td>NaN</td>\n",
       "      <td>0.3</td>\n",
       "      <td>1.0</td>\n",
       "      <td>1.3</td>\n",
       "      <td>0.3</td>\n",
       "      <td>0.0</td>\n",
       "      <td>0.0</td>\n",
       "      <td>0.0</td>\n",
       "      <td>0.3</td>\n",
       "      <td>2.0</td>\n",
       "      <td>champju01</td>\n",
       "    </tr>\n",
       "    <tr>\n",
       "      <th>117</th>\n",
       "      <td>88</td>\n",
       "      <td>Justin Champagnie</td>\n",
       "      <td>SF</td>\n",
       "      <td>21</td>\n",
       "      <td>BOS</td>\n",
       "      <td>2</td>\n",
       "      <td>0</td>\n",
       "      <td>11.5</td>\n",
       "      <td>1.0</td>\n",
       "      <td>6.0</td>\n",
       "      <td>0.167</td>\n",
       "      <td>0.5</td>\n",
       "      <td>2.5</td>\n",
       "      <td>0.200</td>\n",
       "      <td>0.5</td>\n",
       "      <td>3.5</td>\n",
       "      <td>0.143</td>\n",
       "      <td>0.208</td>\n",
       "      <td>0.0</td>\n",
       "      <td>0.0</td>\n",
       "      <td>NaN</td>\n",
       "      <td>1.0</td>\n",
       "      <td>1.0</td>\n",
       "      <td>2.0</td>\n",
       "      <td>1.5</td>\n",
       "      <td>0.5</td>\n",
       "      <td>0.0</td>\n",
       "      <td>0.0</td>\n",
       "      <td>0.5</td>\n",
       "      <td>2.5</td>\n",
       "      <td>champju01</td>\n",
       "    </tr>\n",
       "    <tr>\n",
       "      <th>161</th>\n",
       "      <td>126</td>\n",
       "      <td>Tyler Dorsey</td>\n",
       "      <td>SG</td>\n",
       "      <td>26</td>\n",
       "      <td>DAL</td>\n",
       "      <td>3</td>\n",
       "      <td>0</td>\n",
       "      <td>2.7</td>\n",
       "      <td>1.3</td>\n",
       "      <td>1.7</td>\n",
       "      <td>0.800</td>\n",
       "      <td>0.3</td>\n",
       "      <td>0.7</td>\n",
       "      <td>0.500</td>\n",
       "      <td>1.0</td>\n",
       "      <td>1.0</td>\n",
       "      <td>1.000</td>\n",
       "      <td>0.900</td>\n",
       "      <td>0.0</td>\n",
       "      <td>0.0</td>\n",
       "      <td>NaN</td>\n",
       "      <td>0.3</td>\n",
       "      <td>0.3</td>\n",
       "      <td>0.7</td>\n",
       "      <td>0.0</td>\n",
       "      <td>0.0</td>\n",
       "      <td>0.0</td>\n",
       "      <td>0.0</td>\n",
       "      <td>0.0</td>\n",
       "      <td>3.0</td>\n",
       "      <td>dorsety01</td>\n",
       "    </tr>\n",
       "    <tr>\n",
       "      <th>164</th>\n",
       "      <td>129</td>\n",
       "      <td>Devon Dotson</td>\n",
       "      <td>PG</td>\n",
       "      <td>23</td>\n",
       "      <td>WAS</td>\n",
       "      <td>6</td>\n",
       "      <td>0</td>\n",
       "      <td>8.8</td>\n",
       "      <td>0.2</td>\n",
       "      <td>1.7</td>\n",
       "      <td>0.100</td>\n",
       "      <td>0.2</td>\n",
       "      <td>0.7</td>\n",
       "      <td>0.250</td>\n",
       "      <td>0.0</td>\n",
       "      <td>1.0</td>\n",
       "      <td>0.000</td>\n",
       "      <td>0.150</td>\n",
       "      <td>0.0</td>\n",
       "      <td>0.0</td>\n",
       "      <td>NaN</td>\n",
       "      <td>1.0</td>\n",
       "      <td>0.7</td>\n",
       "      <td>1.7</td>\n",
       "      <td>1.3</td>\n",
       "      <td>0.8</td>\n",
       "      <td>0.0</td>\n",
       "      <td>0.5</td>\n",
       "      <td>1.5</td>\n",
       "      <td>0.5</td>\n",
       "      <td>dotsode01</td>\n",
       "    </tr>\n",
       "    <tr>\n",
       "      <th>166</th>\n",
       "      <td>131</td>\n",
       "      <td>PJ Dozier</td>\n",
       "      <td>SG</td>\n",
       "      <td>26</td>\n",
       "      <td>SAC</td>\n",
       "      <td>16</td>\n",
       "      <td>0</td>\n",
       "      <td>4.9</td>\n",
       "      <td>0.6</td>\n",
       "      <td>2.1</td>\n",
       "      <td>0.303</td>\n",
       "      <td>0.1</td>\n",
       "      <td>1.0</td>\n",
       "      <td>0.125</td>\n",
       "      <td>0.5</td>\n",
       "      <td>1.1</td>\n",
       "      <td>0.471</td>\n",
       "      <td>0.333</td>\n",
       "      <td>0.0</td>\n",
       "      <td>0.0</td>\n",
       "      <td>NaN</td>\n",
       "      <td>0.1</td>\n",
       "      <td>0.8</td>\n",
       "      <td>0.9</td>\n",
       "      <td>0.6</td>\n",
       "      <td>0.4</td>\n",
       "      <td>0.1</td>\n",
       "      <td>0.3</td>\n",
       "      <td>0.4</td>\n",
       "      <td>1.4</td>\n",
       "      <td>doziepj01</td>\n",
       "    </tr>\n",
       "    <tr>\n",
       "      <th>196</th>\n",
       "      <td>151</td>\n",
       "      <td>Michael Foster Jr.</td>\n",
       "      <td>PF</td>\n",
       "      <td>20</td>\n",
       "      <td>PHI</td>\n",
       "      <td>1</td>\n",
       "      <td>0</td>\n",
       "      <td>1.0</td>\n",
       "      <td>0.0</td>\n",
       "      <td>0.0</td>\n",
       "      <td>NaN</td>\n",
       "      <td>0.0</td>\n",
       "      <td>0.0</td>\n",
       "      <td>NaN</td>\n",
       "      <td>0.0</td>\n",
       "      <td>0.0</td>\n",
       "      <td>NaN</td>\n",
       "      <td>NaN</td>\n",
       "      <td>0.0</td>\n",
       "      <td>0.0</td>\n",
       "      <td>NaN</td>\n",
       "      <td>0.0</td>\n",
       "      <td>0.0</td>\n",
       "      <td>0.0</td>\n",
       "      <td>0.0</td>\n",
       "      <td>0.0</td>\n",
       "      <td>0.0</td>\n",
       "      <td>0.0</td>\n",
       "      <td>0.0</td>\n",
       "      <td>0.0</td>\n",
       "      <td>fostemi02</td>\n",
       "    </tr>\n",
       "    <tr>\n",
       "      <th>211</th>\n",
       "      <td>166</td>\n",
       "      <td>Jacob Gilyard</td>\n",
       "      <td>PG</td>\n",
       "      <td>24</td>\n",
       "      <td>MEM</td>\n",
       "      <td>1</td>\n",
       "      <td>0</td>\n",
       "      <td>41.0</td>\n",
       "      <td>1.0</td>\n",
       "      <td>3.0</td>\n",
       "      <td>0.333</td>\n",
       "      <td>1.0</td>\n",
       "      <td>3.0</td>\n",
       "      <td>0.333</td>\n",
       "      <td>0.0</td>\n",
       "      <td>0.0</td>\n",
       "      <td>NaN</td>\n",
       "      <td>0.500</td>\n",
       "      <td>0.0</td>\n",
       "      <td>0.0</td>\n",
       "      <td>NaN</td>\n",
       "      <td>0.0</td>\n",
       "      <td>4.0</td>\n",
       "      <td>4.0</td>\n",
       "      <td>7.0</td>\n",
       "      <td>3.0</td>\n",
       "      <td>0.0</td>\n",
       "      <td>2.0</td>\n",
       "      <td>3.0</td>\n",
       "      <td>3.0</td>\n",
       "      <td>gilyaja01</td>\n",
       "    </tr>\n",
       "    <tr>\n",
       "      <th>225</th>\n",
       "      <td>175</td>\n",
       "      <td>Danny Green</td>\n",
       "      <td>SG</td>\n",
       "      <td>35</td>\n",
       "      <td>MEM</td>\n",
       "      <td>3</td>\n",
       "      <td>0</td>\n",
       "      <td>14.3</td>\n",
       "      <td>1.0</td>\n",
       "      <td>3.7</td>\n",
       "      <td>0.273</td>\n",
       "      <td>1.0</td>\n",
       "      <td>2.7</td>\n",
       "      <td>0.375</td>\n",
       "      <td>0.0</td>\n",
       "      <td>1.0</td>\n",
       "      <td>0.000</td>\n",
       "      <td>0.409</td>\n",
       "      <td>0.0</td>\n",
       "      <td>0.0</td>\n",
       "      <td>NaN</td>\n",
       "      <td>0.3</td>\n",
       "      <td>1.0</td>\n",
       "      <td>1.3</td>\n",
       "      <td>0.7</td>\n",
       "      <td>0.3</td>\n",
       "      <td>0.0</td>\n",
       "      <td>1.0</td>\n",
       "      <td>2.0</td>\n",
       "      <td>3.0</td>\n",
       "      <td>greenda02</td>\n",
       "    </tr>\n",
       "    <tr>\n",
       "      <th>271</th>\n",
       "      <td>212</td>\n",
       "      <td>Malcolm Hill</td>\n",
       "      <td>SF</td>\n",
       "      <td>27</td>\n",
       "      <td>CHI</td>\n",
       "      <td>5</td>\n",
       "      <td>0</td>\n",
       "      <td>1.8</td>\n",
       "      <td>0.4</td>\n",
       "      <td>0.8</td>\n",
       "      <td>0.500</td>\n",
       "      <td>0.2</td>\n",
       "      <td>0.6</td>\n",
       "      <td>0.333</td>\n",
       "      <td>0.2</td>\n",
       "      <td>0.2</td>\n",
       "      <td>1.000</td>\n",
       "      <td>0.625</td>\n",
       "      <td>0.0</td>\n",
       "      <td>0.0</td>\n",
       "      <td>NaN</td>\n",
       "      <td>0.0</td>\n",
       "      <td>0.6</td>\n",
       "      <td>0.6</td>\n",
       "      <td>0.0</td>\n",
       "      <td>0.0</td>\n",
       "      <td>0.0</td>\n",
       "      <td>0.0</td>\n",
       "      <td>0.2</td>\n",
       "      <td>1.0</td>\n",
       "      <td>hillma01</td>\n",
       "    </tr>\n",
       "    <tr>\n",
       "      <th>275</th>\n",
       "      <td>215</td>\n",
       "      <td>Justin Holiday</td>\n",
       "      <td>SG</td>\n",
       "      <td>33</td>\n",
       "      <td>ATL</td>\n",
       "      <td>28</td>\n",
       "      <td>0</td>\n",
       "      <td>14.7</td>\n",
       "      <td>1.7</td>\n",
       "      <td>4.5</td>\n",
       "      <td>0.384</td>\n",
       "      <td>1.1</td>\n",
       "      <td>3.1</td>\n",
       "      <td>0.345</td>\n",
       "      <td>0.6</td>\n",
       "      <td>1.4</td>\n",
       "      <td>0.474</td>\n",
       "      <td>0.504</td>\n",
       "      <td>0.0</td>\n",
       "      <td>0.0</td>\n",
       "      <td>NaN</td>\n",
       "      <td>0.1</td>\n",
       "      <td>0.8</td>\n",
       "      <td>0.8</td>\n",
       "      <td>0.9</td>\n",
       "      <td>0.2</td>\n",
       "      <td>0.4</td>\n",
       "      <td>0.4</td>\n",
       "      <td>1.3</td>\n",
       "      <td>4.5</td>\n",
       "      <td>holidju01</td>\n",
       "    </tr>\n",
       "    <tr>\n",
       "      <th>298</th>\n",
       "      <td>233</td>\n",
       "      <td>Frank Jackson</td>\n",
       "      <td>PG</td>\n",
       "      <td>24</td>\n",
       "      <td>UTA</td>\n",
       "      <td>1</td>\n",
       "      <td>0</td>\n",
       "      <td>5.0</td>\n",
       "      <td>0.0</td>\n",
       "      <td>3.0</td>\n",
       "      <td>0.000</td>\n",
       "      <td>0.0</td>\n",
       "      <td>1.0</td>\n",
       "      <td>0.000</td>\n",
       "      <td>0.0</td>\n",
       "      <td>2.0</td>\n",
       "      <td>0.000</td>\n",
       "      <td>0.000</td>\n",
       "      <td>0.0</td>\n",
       "      <td>0.0</td>\n",
       "      <td>NaN</td>\n",
       "      <td>1.0</td>\n",
       "      <td>1.0</td>\n",
       "      <td>2.0</td>\n",
       "      <td>1.0</td>\n",
       "      <td>0.0</td>\n",
       "      <td>0.0</td>\n",
       "      <td>0.0</td>\n",
       "      <td>0.0</td>\n",
       "      <td>0.0</td>\n",
       "      <td>jacksfr01</td>\n",
       "    </tr>\n",
       "    <tr>\n",
       "      <th>336</th>\n",
       "      <td>263</td>\n",
       "      <td>Trevor Keels</td>\n",
       "      <td>SG</td>\n",
       "      <td>19</td>\n",
       "      <td>NYK</td>\n",
       "      <td>3</td>\n",
       "      <td>0</td>\n",
       "      <td>2.7</td>\n",
       "      <td>0.3</td>\n",
       "      <td>1.3</td>\n",
       "      <td>0.250</td>\n",
       "      <td>0.3</td>\n",
       "      <td>1.3</td>\n",
       "      <td>0.250</td>\n",
       "      <td>0.0</td>\n",
       "      <td>0.0</td>\n",
       "      <td>NaN</td>\n",
       "      <td>0.375</td>\n",
       "      <td>0.0</td>\n",
       "      <td>0.0</td>\n",
       "      <td>NaN</td>\n",
       "      <td>0.0</td>\n",
       "      <td>0.7</td>\n",
       "      <td>0.7</td>\n",
       "      <td>0.0</td>\n",
       "      <td>0.0</td>\n",
       "      <td>0.0</td>\n",
       "      <td>0.0</td>\n",
       "      <td>0.0</td>\n",
       "      <td>1.0</td>\n",
       "      <td>keelstr01</td>\n",
       "    </tr>\n",
       "    <tr>\n",
       "      <th>362</th>\n",
       "      <td>284</td>\n",
       "      <td>A.J. Lawson</td>\n",
       "      <td>SG</td>\n",
       "      <td>22</td>\n",
       "      <td>MIN</td>\n",
       "      <td>1</td>\n",
       "      <td>0</td>\n",
       "      <td>2.0</td>\n",
       "      <td>1.0</td>\n",
       "      <td>1.0</td>\n",
       "      <td>1.000</td>\n",
       "      <td>0.0</td>\n",
       "      <td>0.0</td>\n",
       "      <td>NaN</td>\n",
       "      <td>1.0</td>\n",
       "      <td>1.0</td>\n",
       "      <td>1.000</td>\n",
       "      <td>1.000</td>\n",
       "      <td>0.0</td>\n",
       "      <td>0.0</td>\n",
       "      <td>NaN</td>\n",
       "      <td>0.0</td>\n",
       "      <td>1.0</td>\n",
       "      <td>1.0</td>\n",
       "      <td>0.0</td>\n",
       "      <td>0.0</td>\n",
       "      <td>0.0</td>\n",
       "      <td>0.0</td>\n",
       "      <td>1.0</td>\n",
       "      <td>2.0</td>\n",
       "      <td>lawsoaj01</td>\n",
       "    </tr>\n",
       "    <tr>\n",
       "      <th>366</th>\n",
       "      <td>286</td>\n",
       "      <td>Saben Lee</td>\n",
       "      <td>PG</td>\n",
       "      <td>23</td>\n",
       "      <td>PHI</td>\n",
       "      <td>2</td>\n",
       "      <td>0</td>\n",
       "      <td>5.0</td>\n",
       "      <td>1.5</td>\n",
       "      <td>2.0</td>\n",
       "      <td>0.750</td>\n",
       "      <td>0.0</td>\n",
       "      <td>0.5</td>\n",
       "      <td>0.000</td>\n",
       "      <td>1.5</td>\n",
       "      <td>1.5</td>\n",
       "      <td>1.000</td>\n",
       "      <td>0.750</td>\n",
       "      <td>0.0</td>\n",
       "      <td>0.0</td>\n",
       "      <td>NaN</td>\n",
       "      <td>0.0</td>\n",
       "      <td>0.0</td>\n",
       "      <td>0.0</td>\n",
       "      <td>1.0</td>\n",
       "      <td>0.5</td>\n",
       "      <td>0.0</td>\n",
       "      <td>1.5</td>\n",
       "      <td>0.5</td>\n",
       "      <td>3.0</td>\n",
       "      <td>leesa01</td>\n",
       "    </tr>\n",
       "    <tr>\n",
       "      <th>433</th>\n",
       "      <td>344</td>\n",
       "      <td>Xavier Moon</td>\n",
       "      <td>SG</td>\n",
       "      <td>28</td>\n",
       "      <td>LAC</td>\n",
       "      <td>4</td>\n",
       "      <td>0</td>\n",
       "      <td>5.0</td>\n",
       "      <td>0.8</td>\n",
       "      <td>2.3</td>\n",
       "      <td>0.333</td>\n",
       "      <td>0.3</td>\n",
       "      <td>0.8</td>\n",
       "      <td>0.333</td>\n",
       "      <td>0.5</td>\n",
       "      <td>1.5</td>\n",
       "      <td>0.333</td>\n",
       "      <td>0.389</td>\n",
       "      <td>0.0</td>\n",
       "      <td>0.0</td>\n",
       "      <td>NaN</td>\n",
       "      <td>0.0</td>\n",
       "      <td>0.8</td>\n",
       "      <td>0.8</td>\n",
       "      <td>1.3</td>\n",
       "      <td>0.0</td>\n",
       "      <td>0.0</td>\n",
       "      <td>0.3</td>\n",
       "      <td>0.5</td>\n",
       "      <td>1.8</td>\n",
       "      <td>moonxa01</td>\n",
       "    </tr>\n",
       "    <tr>\n",
       "      <th>439</th>\n",
       "      <td>348</td>\n",
       "      <td>Markieff Morris</td>\n",
       "      <td>PF</td>\n",
       "      <td>33</td>\n",
       "      <td>DAL</td>\n",
       "      <td>8</td>\n",
       "      <td>1</td>\n",
       "      <td>8.8</td>\n",
       "      <td>1.8</td>\n",
       "      <td>4.1</td>\n",
       "      <td>0.424</td>\n",
       "      <td>1.0</td>\n",
       "      <td>2.8</td>\n",
       "      <td>0.364</td>\n",
       "      <td>0.8</td>\n",
       "      <td>1.4</td>\n",
       "      <td>0.545</td>\n",
       "      <td>0.545</td>\n",
       "      <td>0.0</td>\n",
       "      <td>0.0</td>\n",
       "      <td>NaN</td>\n",
       "      <td>0.0</td>\n",
       "      <td>1.5</td>\n",
       "      <td>1.5</td>\n",
       "      <td>0.8</td>\n",
       "      <td>0.1</td>\n",
       "      <td>0.0</td>\n",
       "      <td>0.5</td>\n",
       "      <td>1.9</td>\n",
       "      <td>4.5</td>\n",
       "      <td>morrima02</td>\n",
       "    </tr>\n",
       "    <tr>\n",
       "      <th>503</th>\n",
       "      <td>394</td>\n",
       "      <td>Micah Potter</td>\n",
       "      <td>PF</td>\n",
       "      <td>24</td>\n",
       "      <td>UTA</td>\n",
       "      <td>7</td>\n",
       "      <td>0</td>\n",
       "      <td>7.4</td>\n",
       "      <td>1.4</td>\n",
       "      <td>2.1</td>\n",
       "      <td>0.667</td>\n",
       "      <td>0.6</td>\n",
       "      <td>1.0</td>\n",
       "      <td>0.571</td>\n",
       "      <td>0.9</td>\n",
       "      <td>1.1</td>\n",
       "      <td>0.750</td>\n",
       "      <td>0.800</td>\n",
       "      <td>0.0</td>\n",
       "      <td>0.0</td>\n",
       "      <td>NaN</td>\n",
       "      <td>0.4</td>\n",
       "      <td>1.9</td>\n",
       "      <td>2.3</td>\n",
       "      <td>0.6</td>\n",
       "      <td>0.1</td>\n",
       "      <td>0.0</td>\n",
       "      <td>0.3</td>\n",
       "      <td>0.7</td>\n",
       "      <td>3.4</td>\n",
       "      <td>pottemi01</td>\n",
       "    </tr>\n",
       "    <tr>\n",
       "      <th>555</th>\n",
       "      <td>432</td>\n",
       "      <td>Jordan Schakel</td>\n",
       "      <td>SF</td>\n",
       "      <td>24</td>\n",
       "      <td>WAS</td>\n",
       "      <td>2</td>\n",
       "      <td>0</td>\n",
       "      <td>3.0</td>\n",
       "      <td>0.5</td>\n",
       "      <td>1.0</td>\n",
       "      <td>0.500</td>\n",
       "      <td>0.5</td>\n",
       "      <td>0.5</td>\n",
       "      <td>1.000</td>\n",
       "      <td>0.0</td>\n",
       "      <td>0.5</td>\n",
       "      <td>0.000</td>\n",
       "      <td>0.750</td>\n",
       "      <td>0.0</td>\n",
       "      <td>0.0</td>\n",
       "      <td>NaN</td>\n",
       "      <td>0.0</td>\n",
       "      <td>0.0</td>\n",
       "      <td>0.0</td>\n",
       "      <td>0.5</td>\n",
       "      <td>0.5</td>\n",
       "      <td>0.0</td>\n",
       "      <td>0.0</td>\n",
       "      <td>0.5</td>\n",
       "      <td>1.5</td>\n",
       "      <td>schakjo01</td>\n",
       "    </tr>\n",
       "    <tr>\n",
       "      <th>559</th>\n",
       "      <td>436</td>\n",
       "      <td>Dereon Seabron</td>\n",
       "      <td>SG</td>\n",
       "      <td>22</td>\n",
       "      <td>NOP</td>\n",
       "      <td>5</td>\n",
       "      <td>0</td>\n",
       "      <td>2.4</td>\n",
       "      <td>0.4</td>\n",
       "      <td>1.0</td>\n",
       "      <td>0.400</td>\n",
       "      <td>0.0</td>\n",
       "      <td>0.0</td>\n",
       "      <td>NaN</td>\n",
       "      <td>0.4</td>\n",
       "      <td>1.0</td>\n",
       "      <td>0.400</td>\n",
       "      <td>0.400</td>\n",
       "      <td>0.0</td>\n",
       "      <td>0.0</td>\n",
       "      <td>NaN</td>\n",
       "      <td>0.2</td>\n",
       "      <td>0.0</td>\n",
       "      <td>0.2</td>\n",
       "      <td>0.0</td>\n",
       "      <td>0.0</td>\n",
       "      <td>0.0</td>\n",
       "      <td>0.0</td>\n",
       "      <td>0.2</td>\n",
       "      <td>0.8</td>\n",
       "      <td>seabrde01</td>\n",
       "    </tr>\n",
       "    <tr>\n",
       "      <th>566</th>\n",
       "      <td>443</td>\n",
       "      <td>Chris Silva</td>\n",
       "      <td>PF</td>\n",
       "      <td>26</td>\n",
       "      <td>DAL</td>\n",
       "      <td>1</td>\n",
       "      <td>0</td>\n",
       "      <td>3.0</td>\n",
       "      <td>1.0</td>\n",
       "      <td>1.0</td>\n",
       "      <td>1.000</td>\n",
       "      <td>0.0</td>\n",
       "      <td>0.0</td>\n",
       "      <td>NaN</td>\n",
       "      <td>1.0</td>\n",
       "      <td>1.0</td>\n",
       "      <td>1.000</td>\n",
       "      <td>1.000</td>\n",
       "      <td>0.0</td>\n",
       "      <td>0.0</td>\n",
       "      <td>NaN</td>\n",
       "      <td>0.0</td>\n",
       "      <td>0.0</td>\n",
       "      <td>0.0</td>\n",
       "      <td>0.0</td>\n",
       "      <td>0.0</td>\n",
       "      <td>0.0</td>\n",
       "      <td>1.0</td>\n",
       "      <td>2.0</td>\n",
       "      <td>2.0</td>\n",
       "      <td>silvach01</td>\n",
       "    </tr>\n",
       "    <tr>\n",
       "      <th>575</th>\n",
       "      <td>451</td>\n",
       "      <td>Dru Smith</td>\n",
       "      <td>SG</td>\n",
       "      <td>25</td>\n",
       "      <td>MIA</td>\n",
       "      <td>5</td>\n",
       "      <td>1</td>\n",
       "      <td>13.4</td>\n",
       "      <td>1.0</td>\n",
       "      <td>2.8</td>\n",
       "      <td>0.357</td>\n",
       "      <td>0.2</td>\n",
       "      <td>1.2</td>\n",
       "      <td>0.167</td>\n",
       "      <td>0.8</td>\n",
       "      <td>1.6</td>\n",
       "      <td>0.500</td>\n",
       "      <td>0.393</td>\n",
       "      <td>0.0</td>\n",
       "      <td>0.0</td>\n",
       "      <td>NaN</td>\n",
       "      <td>0.2</td>\n",
       "      <td>1.6</td>\n",
       "      <td>1.8</td>\n",
       "      <td>1.0</td>\n",
       "      <td>0.8</td>\n",
       "      <td>0.6</td>\n",
       "      <td>0.2</td>\n",
       "      <td>2.0</td>\n",
       "      <td>2.2</td>\n",
       "      <td>smithdr01</td>\n",
       "    </tr>\n",
       "    <tr>\n",
       "      <th>588</th>\n",
       "      <td>463</td>\n",
       "      <td>Cole Swider</td>\n",
       "      <td>SF</td>\n",
       "      <td>23</td>\n",
       "      <td>LAL</td>\n",
       "      <td>7</td>\n",
       "      <td>0</td>\n",
       "      <td>5.9</td>\n",
       "      <td>0.4</td>\n",
       "      <td>1.3</td>\n",
       "      <td>0.333</td>\n",
       "      <td>0.4</td>\n",
       "      <td>1.1</td>\n",
       "      <td>0.375</td>\n",
       "      <td>0.0</td>\n",
       "      <td>0.1</td>\n",
       "      <td>0.000</td>\n",
       "      <td>0.500</td>\n",
       "      <td>0.0</td>\n",
       "      <td>0.0</td>\n",
       "      <td>NaN</td>\n",
       "      <td>0.1</td>\n",
       "      <td>0.9</td>\n",
       "      <td>1.0</td>\n",
       "      <td>0.6</td>\n",
       "      <td>0.0</td>\n",
       "      <td>0.0</td>\n",
       "      <td>0.0</td>\n",
       "      <td>0.4</td>\n",
       "      <td>1.3</td>\n",
       "      <td>swideco01</td>\n",
       "    </tr>\n",
       "    <tr>\n",
       "      <th>648</th>\n",
       "      <td>511</td>\n",
       "      <td>Joe Wieskamp</td>\n",
       "      <td>SF</td>\n",
       "      <td>23</td>\n",
       "      <td>TOR</td>\n",
       "      <td>9</td>\n",
       "      <td>0</td>\n",
       "      <td>5.6</td>\n",
       "      <td>0.3</td>\n",
       "      <td>1.6</td>\n",
       "      <td>0.214</td>\n",
       "      <td>0.3</td>\n",
       "      <td>1.3</td>\n",
       "      <td>0.250</td>\n",
       "      <td>0.0</td>\n",
       "      <td>0.2</td>\n",
       "      <td>0.000</td>\n",
       "      <td>0.321</td>\n",
       "      <td>0.0</td>\n",
       "      <td>0.0</td>\n",
       "      <td>NaN</td>\n",
       "      <td>0.0</td>\n",
       "      <td>0.4</td>\n",
       "      <td>0.4</td>\n",
       "      <td>0.3</td>\n",
       "      <td>0.0</td>\n",
       "      <td>0.0</td>\n",
       "      <td>0.1</td>\n",
       "      <td>0.3</td>\n",
       "      <td>1.0</td>\n",
       "      <td>wieskjo01</td>\n",
       "    </tr>\n",
       "    <tr>\n",
       "      <th>652</th>\n",
       "      <td>515</td>\n",
       "      <td>Alondes Williams</td>\n",
       "      <td>SG</td>\n",
       "      <td>23</td>\n",
       "      <td>BRK</td>\n",
       "      <td>1</td>\n",
       "      <td>0</td>\n",
       "      <td>5.0</td>\n",
       "      <td>0.0</td>\n",
       "      <td>0.0</td>\n",
       "      <td>NaN</td>\n",
       "      <td>0.0</td>\n",
       "      <td>0.0</td>\n",
       "      <td>NaN</td>\n",
       "      <td>0.0</td>\n",
       "      <td>0.0</td>\n",
       "      <td>NaN</td>\n",
       "      <td>NaN</td>\n",
       "      <td>0.0</td>\n",
       "      <td>0.0</td>\n",
       "      <td>NaN</td>\n",
       "      <td>0.0</td>\n",
       "      <td>1.0</td>\n",
       "      <td>1.0</td>\n",
       "      <td>0.0</td>\n",
       "      <td>0.0</td>\n",
       "      <td>0.0</td>\n",
       "      <td>2.0</td>\n",
       "      <td>1.0</td>\n",
       "      <td>0.0</td>\n",
       "      <td>willial06</td>\n",
       "    </tr>\n",
       "    <tr>\n",
       "      <th>653</th>\n",
       "      <td>516</td>\n",
       "      <td>Donovan Williams</td>\n",
       "      <td>SG</td>\n",
       "      <td>21</td>\n",
       "      <td>ATL</td>\n",
       "      <td>2</td>\n",
       "      <td>0</td>\n",
       "      <td>2.0</td>\n",
       "      <td>1.0</td>\n",
       "      <td>2.5</td>\n",
       "      <td>0.400</td>\n",
       "      <td>0.0</td>\n",
       "      <td>1.0</td>\n",
       "      <td>0.000</td>\n",
       "      <td>1.0</td>\n",
       "      <td>1.5</td>\n",
       "      <td>0.667</td>\n",
       "      <td>0.400</td>\n",
       "      <td>0.0</td>\n",
       "      <td>0.0</td>\n",
       "      <td>NaN</td>\n",
       "      <td>0.0</td>\n",
       "      <td>1.0</td>\n",
       "      <td>1.0</td>\n",
       "      <td>0.0</td>\n",
       "      <td>0.0</td>\n",
       "      <td>0.0</td>\n",
       "      <td>0.0</td>\n",
       "      <td>0.0</td>\n",
       "      <td>2.0</td>\n",
       "      <td>willido02</td>\n",
       "    </tr>\n",
       "    <tr>\n",
       "      <th>665</th>\n",
       "      <td>528</td>\n",
       "      <td>Dylan Windler</td>\n",
       "      <td>SF</td>\n",
       "      <td>26</td>\n",
       "      <td>CLE</td>\n",
       "      <td>3</td>\n",
       "      <td>0</td>\n",
       "      <td>3.3</td>\n",
       "      <td>0.7</td>\n",
       "      <td>1.0</td>\n",
       "      <td>0.667</td>\n",
       "      <td>0.3</td>\n",
       "      <td>0.7</td>\n",
       "      <td>0.500</td>\n",
       "      <td>0.3</td>\n",
       "      <td>0.3</td>\n",
       "      <td>1.000</td>\n",
       "      <td>0.833</td>\n",
       "      <td>0.0</td>\n",
       "      <td>0.0</td>\n",
       "      <td>NaN</td>\n",
       "      <td>0.0</td>\n",
       "      <td>0.0</td>\n",
       "      <td>0.0</td>\n",
       "      <td>0.3</td>\n",
       "      <td>0.3</td>\n",
       "      <td>0.0</td>\n",
       "      <td>0.3</td>\n",
       "      <td>0.0</td>\n",
       "      <td>1.7</td>\n",
       "      <td>windldy01</td>\n",
       "    </tr>\n",
       "  </tbody>\n",
       "</table>\n",
       "</div>"
      ],
      "text/plain": [
       "      Rk              Player Pos  Age   Tm   G  GS    MP   FG  FGA    FG%   3P  3PA    3P%   2P  2PA    2P%   eFG%   FT  FTA  FT%  ORB  DRB  TRB  AST  STL  BLK  TOV   PF  PTS Player_additional\n",
       "16    15    Ryan Arcidiacono  PG   28  TOT  20   4   8.6  0.5  1.9  0.243  0.4  1.2  0.348  0.1  0.7  0.071  0.351  0.0  0.0  NaN  0.0  0.8  0.8  1.2  0.3  0.0  0.4  0.9  1.3         arcidry01\n",
       "17    15    Ryan Arcidiacono  PG   28  NYK  11   0   2.4  0.1  0.5  0.200  0.1  0.3  0.333  0.0  0.2  0.000  0.300  0.0  0.0  NaN  0.0  0.4  0.4  0.2  0.2  0.0  0.1  0.3  0.3         arcidry01\n",
       "18    15    Ryan Arcidiacono  PG   28  POR   9   4  16.2  0.9  3.6  0.250  0.8  2.2  0.350  0.1  1.3  0.083  0.359  0.0  0.0  NaN  0.0  1.2  1.2  2.3  0.3  0.0  0.7  1.6  2.6         arcidry01\n",
       "65    48     Leandro Bolmaro  SG   22  UTA  14   0   4.9  0.2  1.4  0.150  0.0  0.3  0.000  0.2  1.1  0.188  0.150  0.0  0.0  NaN  0.3  0.2  0.5  0.5  0.2  0.1  0.5  0.7  0.4         bolmale01\n",
       "72    53      Jamaree Bouyea  PG   23  WAS   1   0   6.0  0.0  1.0  0.000  0.0  1.0  0.000  0.0  0.0    NaN  0.000  0.0  0.0  NaN  0.0  1.0  1.0  0.0  0.0  0.0  0.0  1.0  0.0         bouyeja01\n",
       "89    66         Moses Brown   C   23  BRK   2   0   3.0  0.0  0.0    NaN  0.0  0.0    NaN  0.0  0.0    NaN    NaN  0.0  0.0  NaN  0.0  0.0  0.0  0.0  0.5  0.0  0.5  0.5  0.0         brownmo01\n",
       "90    67      Sterling Brown  SG   27  LAL   4   0   6.0  0.0  1.0  0.000  0.0  0.5  0.000  0.0  0.5  0.000  0.000  0.0  0.0  NaN  0.8  1.3  2.0  0.5  0.8  0.0  0.0  1.0  0.0         brownst02\n",
       "98    73       Deonte Burton  SG   29  SAC   2   0   3.0  0.0  1.0  0.000  0.0  0.5  0.000  0.0  0.5  0.000  0.000  0.0  0.0  NaN  0.0  0.0  0.0  0.0  0.0  0.0  0.0  0.0  0.0         burtode02\n",
       "99    74        Jared Butler  SG   22  OKC   6   1  12.8  2.5  5.3  0.469  1.2  2.3  0.500  1.3  3.0  0.444  0.578  0.0  0.0  NaN  0.2  0.5  0.7  1.3  0.8  0.0  0.8  0.8  6.2         butleja02\n",
       "113   87   Julian Champagnie  SF   21  PHI   2   0   3.5  0.0  1.0  0.000  0.0  0.5  0.000  0.0  0.5  0.000  0.000  0.0  0.0  NaN  0.0  0.0  0.0  0.0  0.5  0.0  0.0  0.0  0.0         champju02\n",
       "115   88   Justin Champagnie  SF   21  TOT   5   0   6.8  1.0  3.0  0.333  0.2  1.0  0.200  0.8  2.0  0.400  0.367  0.0  0.0  NaN  0.6  1.0  1.6  0.8  0.2  0.0  0.0  0.4  2.2         champju01\n",
       "116   88   Justin Champagnie  SF   21  TOR   3   0   3.7  1.0  1.0  1.000  0.0  0.0    NaN  1.0  1.0  1.000  1.000  0.0  0.0  NaN  0.3  1.0  1.3  0.3  0.0  0.0  0.0  0.3  2.0         champju01\n",
       "117   88   Justin Champagnie  SF   21  BOS   2   0  11.5  1.0  6.0  0.167  0.5  2.5  0.200  0.5  3.5  0.143  0.208  0.0  0.0  NaN  1.0  1.0  2.0  1.5  0.5  0.0  0.0  0.5  2.5         champju01\n",
       "161  126        Tyler Dorsey  SG   26  DAL   3   0   2.7  1.3  1.7  0.800  0.3  0.7  0.500  1.0  1.0  1.000  0.900  0.0  0.0  NaN  0.3  0.3  0.7  0.0  0.0  0.0  0.0  0.0  3.0         dorsety01\n",
       "164  129        Devon Dotson  PG   23  WAS   6   0   8.8  0.2  1.7  0.100  0.2  0.7  0.250  0.0  1.0  0.000  0.150  0.0  0.0  NaN  1.0  0.7  1.7  1.3  0.8  0.0  0.5  1.5  0.5         dotsode01\n",
       "166  131           PJ Dozier  SG   26  SAC  16   0   4.9  0.6  2.1  0.303  0.1  1.0  0.125  0.5  1.1  0.471  0.333  0.0  0.0  NaN  0.1  0.8  0.9  0.6  0.4  0.1  0.3  0.4  1.4         doziepj01\n",
       "196  151  Michael Foster Jr.  PF   20  PHI   1   0   1.0  0.0  0.0    NaN  0.0  0.0    NaN  0.0  0.0    NaN    NaN  0.0  0.0  NaN  0.0  0.0  0.0  0.0  0.0  0.0  0.0  0.0  0.0         fostemi02\n",
       "211  166       Jacob Gilyard  PG   24  MEM   1   0  41.0  1.0  3.0  0.333  1.0  3.0  0.333  0.0  0.0    NaN  0.500  0.0  0.0  NaN  0.0  4.0  4.0  7.0  3.0  0.0  2.0  3.0  3.0         gilyaja01\n",
       "225  175         Danny Green  SG   35  MEM   3   0  14.3  1.0  3.7  0.273  1.0  2.7  0.375  0.0  1.0  0.000  0.409  0.0  0.0  NaN  0.3  1.0  1.3  0.7  0.3  0.0  1.0  2.0  3.0         greenda02\n",
       "271  212        Malcolm Hill  SF   27  CHI   5   0   1.8  0.4  0.8  0.500  0.2  0.6  0.333  0.2  0.2  1.000  0.625  0.0  0.0  NaN  0.0  0.6  0.6  0.0  0.0  0.0  0.0  0.2  1.0          hillma01\n",
       "275  215      Justin Holiday  SG   33  ATL  28   0  14.7  1.7  4.5  0.384  1.1  3.1  0.345  0.6  1.4  0.474  0.504  0.0  0.0  NaN  0.1  0.8  0.8  0.9  0.2  0.4  0.4  1.3  4.5         holidju01\n",
       "298  233       Frank Jackson  PG   24  UTA   1   0   5.0  0.0  3.0  0.000  0.0  1.0  0.000  0.0  2.0  0.000  0.000  0.0  0.0  NaN  1.0  1.0  2.0  1.0  0.0  0.0  0.0  0.0  0.0         jacksfr01\n",
       "336  263        Trevor Keels  SG   19  NYK   3   0   2.7  0.3  1.3  0.250  0.3  1.3  0.250  0.0  0.0    NaN  0.375  0.0  0.0  NaN  0.0  0.7  0.7  0.0  0.0  0.0  0.0  0.0  1.0         keelstr01\n",
       "362  284         A.J. Lawson  SG   22  MIN   1   0   2.0  1.0  1.0  1.000  0.0  0.0    NaN  1.0  1.0  1.000  1.000  0.0  0.0  NaN  0.0  1.0  1.0  0.0  0.0  0.0  0.0  1.0  2.0         lawsoaj01\n",
       "366  286           Saben Lee  PG   23  PHI   2   0   5.0  1.5  2.0  0.750  0.0  0.5  0.000  1.5  1.5  1.000  0.750  0.0  0.0  NaN  0.0  0.0  0.0  1.0  0.5  0.0  1.5  0.5  3.0           leesa01\n",
       "433  344         Xavier Moon  SG   28  LAC   4   0   5.0  0.8  2.3  0.333  0.3  0.8  0.333  0.5  1.5  0.333  0.389  0.0  0.0  NaN  0.0  0.8  0.8  1.3  0.0  0.0  0.3  0.5  1.8          moonxa01\n",
       "439  348     Markieff Morris  PF   33  DAL   8   1   8.8  1.8  4.1  0.424  1.0  2.8  0.364  0.8  1.4  0.545  0.545  0.0  0.0  NaN  0.0  1.5  1.5  0.8  0.1  0.0  0.5  1.9  4.5         morrima02\n",
       "503  394        Micah Potter  PF   24  UTA   7   0   7.4  1.4  2.1  0.667  0.6  1.0  0.571  0.9  1.1  0.750  0.800  0.0  0.0  NaN  0.4  1.9  2.3  0.6  0.1  0.0  0.3  0.7  3.4         pottemi01\n",
       "555  432      Jordan Schakel  SF   24  WAS   2   0   3.0  0.5  1.0  0.500  0.5  0.5  1.000  0.0  0.5  0.000  0.750  0.0  0.0  NaN  0.0  0.0  0.0  0.5  0.5  0.0  0.0  0.5  1.5         schakjo01\n",
       "559  436      Dereon Seabron  SG   22  NOP   5   0   2.4  0.4  1.0  0.400  0.0  0.0    NaN  0.4  1.0  0.400  0.400  0.0  0.0  NaN  0.2  0.0  0.2  0.0  0.0  0.0  0.0  0.2  0.8         seabrde01\n",
       "566  443         Chris Silva  PF   26  DAL   1   0   3.0  1.0  1.0  1.000  0.0  0.0    NaN  1.0  1.0  1.000  1.000  0.0  0.0  NaN  0.0  0.0  0.0  0.0  0.0  0.0  1.0  2.0  2.0         silvach01\n",
       "575  451           Dru Smith  SG   25  MIA   5   1  13.4  1.0  2.8  0.357  0.2  1.2  0.167  0.8  1.6  0.500  0.393  0.0  0.0  NaN  0.2  1.6  1.8  1.0  0.8  0.6  0.2  2.0  2.2         smithdr01\n",
       "588  463         Cole Swider  SF   23  LAL   7   0   5.9  0.4  1.3  0.333  0.4  1.1  0.375  0.0  0.1  0.000  0.500  0.0  0.0  NaN  0.1  0.9  1.0  0.6  0.0  0.0  0.0  0.4  1.3         swideco01\n",
       "648  511        Joe Wieskamp  SF   23  TOR   9   0   5.6  0.3  1.6  0.214  0.3  1.3  0.250  0.0  0.2  0.000  0.321  0.0  0.0  NaN  0.0  0.4  0.4  0.3  0.0  0.0  0.1  0.3  1.0         wieskjo01\n",
       "652  515    Alondes Williams  SG   23  BRK   1   0   5.0  0.0  0.0    NaN  0.0  0.0    NaN  0.0  0.0    NaN    NaN  0.0  0.0  NaN  0.0  1.0  1.0  0.0  0.0  0.0  2.0  1.0  0.0         willial06\n",
       "653  516    Donovan Williams  SG   21  ATL   2   0   2.0  1.0  2.5  0.400  0.0  1.0  0.000  1.0  1.5  0.667  0.400  0.0  0.0  NaN  0.0  1.0  1.0  0.0  0.0  0.0  0.0  0.0  2.0         willido02\n",
       "665  528       Dylan Windler  SF   26  CLE   3   0   3.3  0.7  1.0  0.667  0.3  0.7  0.500  0.3  0.3  1.000  0.833  0.0  0.0  NaN  0.0  0.0  0.0  0.3  0.3  0.0  0.3  0.0  1.7         windldy01"
      ]
     },
     "execution_count": 461,
     "metadata": {},
     "output_type": "execute_result"
    }
   ],
   "source": [
    "pergame_df_raw[pergame_df_raw['FT%'].isna()]"
   ]
  },
  {
   "cell_type": "markdown",
   "metadata": {},
   "source": [
    "### 3.2.5. <a id='toc3_2_5_'></a>[Let's combine multiple player rows in one](#toc0_)"
   ]
  },
  {
   "cell_type": "code",
   "execution_count": 462,
   "metadata": {},
   "outputs": [],
   "source": [
    "pergame_df = pergame_df_raw.groupby(\"Player_additional\", as_index=False).agg(\n",
    "                      {\n",
    "                          'Rk':'first', 'Player':'first', \n",
    "                          'Pos':'first', 'Age':'first', \n",
    "                          'Tm':'first', 'G':'first', \n",
    "                          'GS':'first', 'MP':'mean', \n",
    "                          'FG':'mean', 'FGA':'mean', \n",
    "                          'FG%':'mean', '3P':'mean', \n",
    "                          '3PA':'mean', '3P%':'mean', \n",
    "                          '2P':'mean', '2PA':'mean', \n",
    "                          '2P%':'mean', 'eFG%':'mean', \n",
    "                          'FT':'mean', 'FTA':'mean', \n",
    "                          'FT%':'mean', 'ORB':'mean', \n",
    "                          'DRB':'mean', 'TRB':'mean', \n",
    "                          'AST':'mean', 'STL':'mean', \n",
    "                          'BLK':'mean', 'TOV':'mean', \n",
    "                          'PF':'mean', 'PTS':'mean', \n",
    "                          'Player_additional':'first'\n",
    "                      }\n",
    "                      )"
   ]
  },
  {
   "cell_type": "markdown",
   "metadata": {},
   "source": [
    "#### 3.2.5.1. <a id='toc3_2_5_1_'></a>[Checking if the concatanation went as expected](#toc0_)"
   ]
  },
  {
   "cell_type": "code",
   "execution_count": 463,
   "metadata": {},
   "outputs": [
    {
     "name": "stdout",
     "output_type": "stream",
     "text": [
      "539 out of 679\n"
     ]
    }
   ],
   "source": [
    "print(pergame_df.shape[0], 'out of', pergame_df_raw.shape[0])"
   ]
  },
  {
   "cell_type": "code",
   "execution_count": 464,
   "metadata": {},
   "outputs": [
    {
     "data": {
      "text/plain": [
       "539"
      ]
     },
     "execution_count": 464,
     "metadata": {},
     "output_type": "execute_result"
    }
   ],
   "source": [
    "pergame_df['Player_additional'].nunique()"
   ]
  },
  {
   "cell_type": "markdown",
   "metadata": {},
   "source": [
    "#### 3.2.5.2. <a id='toc3_2_5_2_'></a>[Checking again for NAs](#toc0_)\n",
    "- We still have some NAs. Letś examine them further and decide how to deal with them"
   ]
  },
  {
   "cell_type": "code",
   "execution_count": 465,
   "metadata": {},
   "outputs": [
    {
     "data": {
      "text/plain": [
       "Rk                    0\n",
       "Player                0\n",
       "Pos                   0\n",
       "Age                   0\n",
       "Tm                    0\n",
       "G                     0\n",
       "GS                    0\n",
       "MP                    0\n",
       "FG                    0\n",
       "FGA                   0\n",
       "FG%                   2\n",
       "3P                    0\n",
       "3PA                   0\n",
       "3P%                  16\n",
       "2P                    0\n",
       "2PA                   0\n",
       "2P%                   5\n",
       "eFG%                  2\n",
       "FT                    0\n",
       "FTA                   0\n",
       "FT%                  24\n",
       "ORB                   0\n",
       "DRB                   0\n",
       "TRB                   0\n",
       "AST                   0\n",
       "STL                   0\n",
       "BLK                   0\n",
       "TOV                   0\n",
       "PF                    0\n",
       "PTS                   0\n",
       "Player_additional     0\n",
       "dtype: int64"
      ]
     },
     "execution_count": 465,
     "metadata": {},
     "output_type": "execute_result"
    }
   ],
   "source": [
    "pergame_df.isna().sum()"
   ]
  },
  {
   "cell_type": "markdown",
   "metadata": {},
   "source": [
    "### 3.2.6. <a id='toc3_2_6_'></a>[Filling out NAs](#toc0_)\n",
    "- The NAs still present in the dataset are due to a basic game statistic that has itself only null values (zeros)\n",
    "- Because of that we can input zeros to the NAs"
   ]
  },
  {
   "cell_type": "code",
   "execution_count": 466,
   "metadata": {},
   "outputs": [],
   "source": [
    "pergame_df = pergame_df.fillna(0)"
   ]
  },
  {
   "cell_type": "code",
   "execution_count": 467,
   "metadata": {},
   "outputs": [
    {
     "data": {
      "text/plain": [
       "Rk                   0\n",
       "Player               0\n",
       "Pos                  0\n",
       "Age                  0\n",
       "Tm                   0\n",
       "G                    0\n",
       "GS                   0\n",
       "MP                   0\n",
       "FG                   0\n",
       "FGA                  0\n",
       "FG%                  0\n",
       "3P                   0\n",
       "3PA                  0\n",
       "3P%                  0\n",
       "2P                   0\n",
       "2PA                  0\n",
       "2P%                  0\n",
       "eFG%                 0\n",
       "FT                   0\n",
       "FTA                  0\n",
       "FT%                  0\n",
       "ORB                  0\n",
       "DRB                  0\n",
       "TRB                  0\n",
       "AST                  0\n",
       "STL                  0\n",
       "BLK                  0\n",
       "TOV                  0\n",
       "PF                   0\n",
       "PTS                  0\n",
       "Player_additional    0\n",
       "dtype: int64"
      ]
     },
     "execution_count": 467,
     "metadata": {},
     "output_type": "execute_result"
    }
   ],
   "source": [
    "pergame_df.isna().sum()"
   ]
  },
  {
   "cell_type": "markdown",
   "metadata": {},
   "source": [
    "### 3.2.7. <a id='toc3_2_7_'></a>[First glance at the Per Game Dataset](#toc0_)"
   ]
  },
  {
   "cell_type": "code",
   "execution_count": 468,
   "metadata": {},
   "outputs": [
    {
     "data": {
      "text/html": [
       "<div>\n",
       "<style scoped>\n",
       "    .dataframe tbody tr th:only-of-type {\n",
       "        vertical-align: middle;\n",
       "    }\n",
       "\n",
       "    .dataframe tbody tr th {\n",
       "        vertical-align: top;\n",
       "    }\n",
       "\n",
       "    .dataframe thead th {\n",
       "        text-align: right;\n",
       "    }\n",
       "</style>\n",
       "<table border=\"1\" class=\"dataframe\">\n",
       "  <thead>\n",
       "    <tr style=\"text-align: right;\">\n",
       "      <th></th>\n",
       "      <th>count</th>\n",
       "      <th>mean</th>\n",
       "      <th>std</th>\n",
       "      <th>min</th>\n",
       "      <th>25%</th>\n",
       "      <th>50%</th>\n",
       "      <th>75%</th>\n",
       "      <th>max</th>\n",
       "    </tr>\n",
       "  </thead>\n",
       "  <tbody>\n",
       "    <tr>\n",
       "      <th>Rk</th>\n",
       "      <td>539.0</td>\n",
       "      <td>270.000000</td>\n",
       "      <td>155.740168</td>\n",
       "      <td>1.0</td>\n",
       "      <td>135.500000</td>\n",
       "      <td>270.000000</td>\n",
       "      <td>404.500000</td>\n",
       "      <td>539.0</td>\n",
       "    </tr>\n",
       "    <tr>\n",
       "      <th>Age</th>\n",
       "      <td>539.0</td>\n",
       "      <td>25.727273</td>\n",
       "      <td>4.290326</td>\n",
       "      <td>19.0</td>\n",
       "      <td>23.000000</td>\n",
       "      <td>25.000000</td>\n",
       "      <td>28.500000</td>\n",
       "      <td>42.0</td>\n",
       "    </tr>\n",
       "    <tr>\n",
       "      <th>G</th>\n",
       "      <td>539.0</td>\n",
       "      <td>48.042672</td>\n",
       "      <td>24.648006</td>\n",
       "      <td>1.0</td>\n",
       "      <td>30.500000</td>\n",
       "      <td>54.000000</td>\n",
       "      <td>68.000000</td>\n",
       "      <td>83.0</td>\n",
       "    </tr>\n",
       "    <tr>\n",
       "      <th>GS</th>\n",
       "      <td>539.0</td>\n",
       "      <td>22.820037</td>\n",
       "      <td>27.295285</td>\n",
       "      <td>0.0</td>\n",
       "      <td>1.000000</td>\n",
       "      <td>8.000000</td>\n",
       "      <td>46.500000</td>\n",
       "      <td>83.0</td>\n",
       "    </tr>\n",
       "    <tr>\n",
       "      <th>MP</th>\n",
       "      <td>539.0</td>\n",
       "      <td>19.752072</td>\n",
       "      <td>9.563387</td>\n",
       "      <td>1.0</td>\n",
       "      <td>12.266667</td>\n",
       "      <td>19.266667</td>\n",
       "      <td>28.300000</td>\n",
       "      <td>41.0</td>\n",
       "    </tr>\n",
       "    <tr>\n",
       "      <th>FG</th>\n",
       "      <td>539.0</td>\n",
       "      <td>3.341868</td>\n",
       "      <td>2.437476</td>\n",
       "      <td>0.0</td>\n",
       "      <td>1.600000</td>\n",
       "      <td>2.600000</td>\n",
       "      <td>4.483333</td>\n",
       "      <td>11.2</td>\n",
       "    </tr>\n",
       "    <tr>\n",
       "      <th>FGA</th>\n",
       "      <td>539.0</td>\n",
       "      <td>7.089858</td>\n",
       "      <td>4.958450</td>\n",
       "      <td>0.0</td>\n",
       "      <td>3.400000</td>\n",
       "      <td>5.800000</td>\n",
       "      <td>9.400000</td>\n",
       "      <td>22.2</td>\n",
       "    </tr>\n",
       "    <tr>\n",
       "      <th>FG%</th>\n",
       "      <td>539.0</td>\n",
       "      <td>0.463769</td>\n",
       "      <td>0.110612</td>\n",
       "      <td>0.0</td>\n",
       "      <td>0.415500</td>\n",
       "      <td>0.456000</td>\n",
       "      <td>0.508000</td>\n",
       "      <td>1.0</td>\n",
       "    </tr>\n",
       "    <tr>\n",
       "      <th>3P</th>\n",
       "      <td>539.0</td>\n",
       "      <td>0.988745</td>\n",
       "      <td>0.873156</td>\n",
       "      <td>0.0</td>\n",
       "      <td>0.300000</td>\n",
       "      <td>0.800000</td>\n",
       "      <td>1.500000</td>\n",
       "      <td>4.9</td>\n",
       "    </tr>\n",
       "    <tr>\n",
       "      <th>3PA</th>\n",
       "      <td>539.0</td>\n",
       "      <td>2.778108</td>\n",
       "      <td>2.243782</td>\n",
       "      <td>0.0</td>\n",
       "      <td>1.000000</td>\n",
       "      <td>2.400000</td>\n",
       "      <td>4.100000</td>\n",
       "      <td>11.4</td>\n",
       "    </tr>\n",
       "    <tr>\n",
       "      <th>3P%</th>\n",
       "      <td>539.0</td>\n",
       "      <td>0.315129</td>\n",
       "      <td>0.137028</td>\n",
       "      <td>0.0</td>\n",
       "      <td>0.279500</td>\n",
       "      <td>0.342333</td>\n",
       "      <td>0.385000</td>\n",
       "      <td>1.0</td>\n",
       "    </tr>\n",
       "    <tr>\n",
       "      <th>2P</th>\n",
       "      <td>539.0</td>\n",
       "      <td>2.354484</td>\n",
       "      <td>1.971151</td>\n",
       "      <td>0.0</td>\n",
       "      <td>0.900000</td>\n",
       "      <td>1.700000</td>\n",
       "      <td>3.300000</td>\n",
       "      <td>10.5</td>\n",
       "    </tr>\n",
       "    <tr>\n",
       "      <th>2PA</th>\n",
       "      <td>539.0</td>\n",
       "      <td>4.312554</td>\n",
       "      <td>3.514491</td>\n",
       "      <td>0.0</td>\n",
       "      <td>1.816667</td>\n",
       "      <td>3.200000</td>\n",
       "      <td>5.950000</td>\n",
       "      <td>17.8</td>\n",
       "    </tr>\n",
       "    <tr>\n",
       "      <th>2P%</th>\n",
       "      <td>539.0</td>\n",
       "      <td>0.530400</td>\n",
       "      <td>0.140860</td>\n",
       "      <td>0.0</td>\n",
       "      <td>0.485500</td>\n",
       "      <td>0.536000</td>\n",
       "      <td>0.594500</td>\n",
       "      <td>1.0</td>\n",
       "    </tr>\n",
       "    <tr>\n",
       "      <th>eFG%</th>\n",
       "      <td>539.0</td>\n",
       "      <td>0.532224</td>\n",
       "      <td>0.107069</td>\n",
       "      <td>0.0</td>\n",
       "      <td>0.495500</td>\n",
       "      <td>0.538000</td>\n",
       "      <td>0.575833</td>\n",
       "      <td>1.0</td>\n",
       "    </tr>\n",
       "    <tr>\n",
       "      <th>FT</th>\n",
       "      <td>539.0</td>\n",
       "      <td>1.430118</td>\n",
       "      <td>1.545534</td>\n",
       "      <td>0.0</td>\n",
       "      <td>0.500000</td>\n",
       "      <td>0.900000</td>\n",
       "      <td>1.850000</td>\n",
       "      <td>10.0</td>\n",
       "    </tr>\n",
       "    <tr>\n",
       "      <th>FTA</th>\n",
       "      <td>539.0</td>\n",
       "      <td>1.850031</td>\n",
       "      <td>1.880503</td>\n",
       "      <td>0.0</td>\n",
       "      <td>0.600000</td>\n",
       "      <td>1.200000</td>\n",
       "      <td>2.400000</td>\n",
       "      <td>12.3</td>\n",
       "    </tr>\n",
       "    <tr>\n",
       "      <th>FT%</th>\n",
       "      <td>539.0</td>\n",
       "      <td>0.719033</td>\n",
       "      <td>0.213181</td>\n",
       "      <td>0.0</td>\n",
       "      <td>0.667000</td>\n",
       "      <td>0.762333</td>\n",
       "      <td>0.838000</td>\n",
       "      <td>1.0</td>\n",
       "    </tr>\n",
       "    <tr>\n",
       "      <th>ORB</th>\n",
       "      <td>539.0</td>\n",
       "      <td>0.864378</td>\n",
       "      <td>0.745924</td>\n",
       "      <td>0.0</td>\n",
       "      <td>0.300000</td>\n",
       "      <td>0.700000</td>\n",
       "      <td>1.100000</td>\n",
       "      <td>5.1</td>\n",
       "    </tr>\n",
       "    <tr>\n",
       "      <th>DRB</th>\n",
       "      <td>539.0</td>\n",
       "      <td>2.670810</td>\n",
       "      <td>1.771330</td>\n",
       "      <td>0.0</td>\n",
       "      <td>1.400000</td>\n",
       "      <td>2.300000</td>\n",
       "      <td>3.500000</td>\n",
       "      <td>9.6</td>\n",
       "    </tr>\n",
       "    <tr>\n",
       "      <th>TRB</th>\n",
       "      <td>539.0</td>\n",
       "      <td>3.535374</td>\n",
       "      <td>2.344757</td>\n",
       "      <td>0.0</td>\n",
       "      <td>1.800000</td>\n",
       "      <td>3.000000</td>\n",
       "      <td>4.500000</td>\n",
       "      <td>12.5</td>\n",
       "    </tr>\n",
       "    <tr>\n",
       "      <th>AST</th>\n",
       "      <td>539.0</td>\n",
       "      <td>2.064626</td>\n",
       "      <td>1.933618</td>\n",
       "      <td>0.0</td>\n",
       "      <td>0.800000</td>\n",
       "      <td>1.400000</td>\n",
       "      <td>2.800000</td>\n",
       "      <td>10.7</td>\n",
       "    </tr>\n",
       "    <tr>\n",
       "      <th>STL</th>\n",
       "      <td>539.0</td>\n",
       "      <td>0.608905</td>\n",
       "      <td>0.399136</td>\n",
       "      <td>0.0</td>\n",
       "      <td>0.300000</td>\n",
       "      <td>0.566667</td>\n",
       "      <td>0.800000</td>\n",
       "      <td>3.0</td>\n",
       "    </tr>\n",
       "    <tr>\n",
       "      <th>BLK</th>\n",
       "      <td>539.0</td>\n",
       "      <td>0.380643</td>\n",
       "      <td>0.384073</td>\n",
       "      <td>0.0</td>\n",
       "      <td>0.100000</td>\n",
       "      <td>0.300000</td>\n",
       "      <td>0.500000</td>\n",
       "      <td>3.0</td>\n",
       "    </tr>\n",
       "    <tr>\n",
       "      <th>TOV</th>\n",
       "      <td>539.0</td>\n",
       "      <td>1.101608</td>\n",
       "      <td>0.826218</td>\n",
       "      <td>0.0</td>\n",
       "      <td>0.500000</td>\n",
       "      <td>0.900000</td>\n",
       "      <td>1.500000</td>\n",
       "      <td>4.1</td>\n",
       "    </tr>\n",
       "    <tr>\n",
       "      <th>PF</th>\n",
       "      <td>539.0</td>\n",
       "      <td>1.685220</td>\n",
       "      <td>0.793240</td>\n",
       "      <td>0.0</td>\n",
       "      <td>1.200000</td>\n",
       "      <td>1.633333</td>\n",
       "      <td>2.200000</td>\n",
       "      <td>5.0</td>\n",
       "    </tr>\n",
       "    <tr>\n",
       "      <th>PTS</th>\n",
       "      <td>539.0</td>\n",
       "      <td>9.100742</td>\n",
       "      <td>6.846397</td>\n",
       "      <td>0.0</td>\n",
       "      <td>4.150000</td>\n",
       "      <td>7.000000</td>\n",
       "      <td>12.133333</td>\n",
       "      <td>33.1</td>\n",
       "    </tr>\n",
       "  </tbody>\n",
       "</table>\n",
       "</div>"
      ],
      "text/plain": [
       "      count        mean         std   min         25%         50%         75%    max\n",
       "Rk    539.0  270.000000  155.740168   1.0  135.500000  270.000000  404.500000  539.0\n",
       "Age   539.0   25.727273    4.290326  19.0   23.000000   25.000000   28.500000   42.0\n",
       "G     539.0   48.042672   24.648006   1.0   30.500000   54.000000   68.000000   83.0\n",
       "GS    539.0   22.820037   27.295285   0.0    1.000000    8.000000   46.500000   83.0\n",
       "MP    539.0   19.752072    9.563387   1.0   12.266667   19.266667   28.300000   41.0\n",
       "FG    539.0    3.341868    2.437476   0.0    1.600000    2.600000    4.483333   11.2\n",
       "FGA   539.0    7.089858    4.958450   0.0    3.400000    5.800000    9.400000   22.2\n",
       "FG%   539.0    0.463769    0.110612   0.0    0.415500    0.456000    0.508000    1.0\n",
       "3P    539.0    0.988745    0.873156   0.0    0.300000    0.800000    1.500000    4.9\n",
       "3PA   539.0    2.778108    2.243782   0.0    1.000000    2.400000    4.100000   11.4\n",
       "3P%   539.0    0.315129    0.137028   0.0    0.279500    0.342333    0.385000    1.0\n",
       "2P    539.0    2.354484    1.971151   0.0    0.900000    1.700000    3.300000   10.5\n",
       "2PA   539.0    4.312554    3.514491   0.0    1.816667    3.200000    5.950000   17.8\n",
       "2P%   539.0    0.530400    0.140860   0.0    0.485500    0.536000    0.594500    1.0\n",
       "eFG%  539.0    0.532224    0.107069   0.0    0.495500    0.538000    0.575833    1.0\n",
       "FT    539.0    1.430118    1.545534   0.0    0.500000    0.900000    1.850000   10.0\n",
       "FTA   539.0    1.850031    1.880503   0.0    0.600000    1.200000    2.400000   12.3\n",
       "FT%   539.0    0.719033    0.213181   0.0    0.667000    0.762333    0.838000    1.0\n",
       "ORB   539.0    0.864378    0.745924   0.0    0.300000    0.700000    1.100000    5.1\n",
       "DRB   539.0    2.670810    1.771330   0.0    1.400000    2.300000    3.500000    9.6\n",
       "TRB   539.0    3.535374    2.344757   0.0    1.800000    3.000000    4.500000   12.5\n",
       "AST   539.0    2.064626    1.933618   0.0    0.800000    1.400000    2.800000   10.7\n",
       "STL   539.0    0.608905    0.399136   0.0    0.300000    0.566667    0.800000    3.0\n",
       "BLK   539.0    0.380643    0.384073   0.0    0.100000    0.300000    0.500000    3.0\n",
       "TOV   539.0    1.101608    0.826218   0.0    0.500000    0.900000    1.500000    4.1\n",
       "PF    539.0    1.685220    0.793240   0.0    1.200000    1.633333    2.200000    5.0\n",
       "PTS   539.0    9.100742    6.846397   0.0    4.150000    7.000000   12.133333   33.1"
      ]
     },
     "execution_count": 468,
     "metadata": {},
     "output_type": "execute_result"
    }
   ],
   "source": [
    "pergame_df.describe().T"
   ]
  },
  {
   "cell_type": "code",
   "execution_count": 469,
   "metadata": {},
   "outputs": [
    {
     "name": "stdout",
     "output_type": "stream",
     "text": [
      "<class 'pandas.core.frame.DataFrame'>\n",
      "RangeIndex: 539 entries, 0 to 538\n",
      "Data columns (total 31 columns):\n",
      " #   Column             Non-Null Count  Dtype  \n",
      "---  ------             --------------  -----  \n",
      " 0   Rk                 539 non-null    int64  \n",
      " 1   Player             539 non-null    object \n",
      " 2   Pos                539 non-null    object \n",
      " 3   Age                539 non-null    int64  \n",
      " 4   Tm                 539 non-null    object \n",
      " 5   G                  539 non-null    int64  \n",
      " 6   GS                 539 non-null    int64  \n",
      " 7   MP                 539 non-null    float64\n",
      " 8   FG                 539 non-null    float64\n",
      " 9   FGA                539 non-null    float64\n",
      " 10  FG%                539 non-null    float64\n",
      " 11  3P                 539 non-null    float64\n",
      " 12  3PA                539 non-null    float64\n",
      " 13  3P%                539 non-null    float64\n",
      " 14  2P                 539 non-null    float64\n",
      " 15  2PA                539 non-null    float64\n",
      " 16  2P%                539 non-null    float64\n",
      " 17  eFG%               539 non-null    float64\n",
      " 18  FT                 539 non-null    float64\n",
      " 19  FTA                539 non-null    float64\n",
      " 20  FT%                539 non-null    float64\n",
      " 21  ORB                539 non-null    float64\n",
      " 22  DRB                539 non-null    float64\n",
      " 23  TRB                539 non-null    float64\n",
      " 24  AST                539 non-null    float64\n",
      " 25  STL                539 non-null    float64\n",
      " 26  BLK                539 non-null    float64\n",
      " 27  TOV                539 non-null    float64\n",
      " 28  PF                 539 non-null    float64\n",
      " 29  PTS                539 non-null    float64\n",
      " 30  Player_additional  539 non-null    object \n",
      "dtypes: float64(23), int64(4), object(4)\n",
      "memory usage: 130.7+ KB\n"
     ]
    }
   ],
   "source": [
    "pergame_df.info()"
   ]
  },
  {
   "cell_type": "code",
   "execution_count": 470,
   "metadata": {},
   "outputs": [],
   "source": [
    "# Generate a dataset profile report\n",
    "\n",
    "# pergame_profile = ProfileReport(pergame_df, title = 'Per Game NBA Dataset Profile')\n",
    "# pergame_profile.to_file('pergame_profile.html')\n",
    "# pergame_profile"
   ]
  },
  {
   "cell_type": "markdown",
   "metadata": {},
   "source": [
    "# 4. <a id='toc4_'></a>[Feature Engineering and Hypothesis Creation](#toc0_)\n",
    "- Mental map for hypothesis and questions\n",
    "- Hypothesis and questions list\n",
    "- Fillout remaining NAs \n",
    "- Derive new variables as needed"
   ]
  },
  {
   "cell_type": "markdown",
   "metadata": {},
   "source": [
    "## 4.1. <a id='toc4_1_'></a>[Merging the two datasets and getting new columns](#toc0_)"
   ]
  },
  {
   "cell_type": "code",
   "execution_count": 471,
   "metadata": {},
   "outputs": [
    {
     "name": "stdout",
     "output_type": "stream",
     "text": [
      "      Rk                    Player    Pos  Age   Tm   G     MP_Total        PER       TS%      3PAr       FTr      ORB%      DRB%      TRB%      AST%      STL%      BLK%      TOV%      USG%        OWS       DWS         WS     WS_48       OBPM          DBPM        BPM      VORP Player_additional  GS         MP         FG        FGA       FG%        3P        3PA       3P%         2P        2PA       2P%      eFG%         FT        FTA       FT%       ORB       DRB        TRB        AST       STL       BLK       TOV        PF        PTS\n",
      "0      1          Precious Achiuwa      C   23  TOR  55  1140.000000  15.200000  0.554000  0.267000  0.307000  0.093000  0.244000  0.163000  0.063000  0.013000  0.026000  0.114000  0.194000   0.800000  1.400000   2.200000  0.093000  -1.400000 -8.000000e-01  -2.300000 -0.100000         achiupr01  12  20.700000   3.600000   7.300000  0.485000  0.500000   2.000000  0.269000   3.000000   5.400000  0.564000  0.521000   1.600000   2.300000  0.702000  1.800000  4.100000   6.000000   0.900000  0.600000  0.500000  1.100000  1.900000   9.200000\n",
      "1      2              Steven Adams      C   29  MEM  42  1133.000000  17.500000  0.564000  0.004000  0.490000  0.201000  0.253000  0.227000  0.112000  0.015000  0.037000  0.198000  0.146000   1.300000  2.100000   3.400000  0.144000  -0.300000  9.000000e-01   0.600000  0.700000         adamsst01  42  27.000000   3.700000   6.300000  0.597000  0.000000   0.000000  0.000000   3.700000   6.200000  0.599000  0.597000   1.100000   3.100000  0.364000  5.100000  6.500000  11.500000   2.300000  0.900000  1.100000  1.900000  2.300000   8.600000\n",
      "2      3               Bam Adebayo      C   25  MIA  75  2598.000000  20.100000  0.592000  0.011000  0.361000  0.080000  0.236000  0.155000  0.159000  0.017000  0.024000  0.127000  0.252000   3.600000  3.800000   7.400000  0.137000   0.800000  8.000000e-01   1.500000  2.300000         adebaba01  75  34.600000   8.000000  14.900000  0.540000  0.000000   0.200000  0.083000   8.000000  14.700000  0.545000  0.541000   4.300000   5.400000  0.806000  2.500000  6.700000   9.200000   3.200000  1.200000  0.800000  2.500000  2.800000  20.400000\n",
      "3      4              Ochai Agbaji     SG   22  UTA  59  1209.000000   9.500000  0.561000  0.591000  0.179000  0.039000  0.069000  0.054000  0.075000  0.006000  0.010000  0.090000  0.158000   0.900000  0.400000   1.300000  0.053000  -1.700000 -1.400000e+00  -3.000000 -0.300000         agbajoc01  22  20.500000   2.800000   6.500000  0.427000  1.400000   3.900000  0.355000   1.400000   2.700000  0.532000  0.532000   0.900000   1.200000  0.812000  0.700000  1.300000   2.100000   1.100000  0.300000  0.300000  0.700000  1.700000   7.900000\n",
      "4      5              Santi Aldama     PF   22  MEM  77  1682.000000  13.900000  0.591000  0.507000  0.274000  0.054000  0.180000  0.117000  0.076000  0.013000  0.026000  0.093000  0.160000   2.100000  2.400000   4.600000  0.130000  -0.300000  8.000000e-01   0.500000  1.100000         aldamsa01  20  21.800000   3.200000   6.800000  0.470000  1.200000   3.500000  0.353000   2.000000   3.400000  0.591000  0.560000   1.400000   1.900000  0.750000  1.100000  3.700000   4.800000   1.300000  0.600000  0.600000  0.800000  1.900000   9.000000\n",
      "5      6  Nickeil Alexander-Walker     SG   24  TOT  59   589.333333  11.400000  0.559000  0.542333  0.200000  0.019333  0.105333  0.063000  0.162000  0.016667  0.019667  0.136333  0.178667   0.200000  0.533333   0.733333  0.060000  -1.466667  3.000000e-01  -1.133333  0.133333         alexani01   3  15.066667   2.200000   5.033333  0.438667  1.033333   2.733333  0.382333   1.166667   2.300000  0.502667  0.542000   0.700000   1.000000  0.659333  0.266667  1.466667   1.700000   1.766667  0.500000  0.366667  0.866667  1.466667   6.133333\n",
      "6      7             Grayson Allen     SG   27  MIL  72  1972.000000  12.300000  0.612000  0.657000  0.226000  0.034000  0.090000  0.063000  0.109000  0.015000  0.006000  0.105000  0.146000   2.800000  2.200000   5.100000  0.123000  -0.600000  7.000000e-01   0.100000  1.000000         allengr01  70  27.400000   3.400000   7.700000  0.440000  2.000000   5.100000  0.399000   1.400000   2.700000  0.518000  0.571000   1.600000   1.800000  0.905000  0.800000  2.400000   3.300000   2.300000  0.900000  0.200000  1.000000  1.600000  10.400000\n",
      "7      8             Jarrett Allen      C   24  CLE  68  2220.000000  19.900000  0.670000  0.016000  0.353000  0.117000  0.236000  0.177000  0.075000  0.012000  0.035000  0.114000  0.164000   5.500000  4.000000   9.500000  0.205000   1.300000  1.000000e+00   2.400000  2.400000         allenja01  68  32.600000   5.900000   9.200000  0.644000  0.000000   0.100000  0.100000   5.900000   9.100000  0.653000  0.645000   2.400000   3.300000  0.733000  3.300000  6.500000   9.800000   1.700000  0.800000  1.200000  1.400000  2.300000  14.300000\n",
      "8      9             Jose Alvarado     PG   24  NOP  61  1310.000000  11.800000  0.525000  0.505000  0.164000  0.024000  0.098000  0.061000  0.199000  0.025000  0.007000  0.134000  0.198000   0.100000  1.700000   1.800000  0.066000  -2.000000  7.000000e-01  -1.200000  0.300000         alvarjo01  10  21.500000   3.300000   8.000000  0.411000  1.400000   4.000000  0.336000   1.900000   4.000000  0.488000  0.496000   1.100000   1.300000  0.813000  0.500000  1.900000   2.300000   3.000000  1.100000  0.200000  1.300000  2.000000   9.000000\n",
      "9     10             Kyle Anderson     PF   29  MIN  69  1957.000000  14.800000  0.583000  0.212000  0.275000  0.038000  0.169000  0.105000  0.226000  0.019000  0.028000  0.157000  0.144000   2.500000  2.600000   5.100000  0.125000   0.200000  2.300000e+00   2.500000  2.200000         anderky01  46  28.400000   3.700000   7.200000  0.509000  0.600000   1.500000  0.410000   3.000000   5.700000  0.536000  0.553000   1.400000   2.000000  0.735000  1.000000  4.400000   5.300000   4.900000  1.100000  0.900000  1.500000  2.100000   9.400000\n",
      "10    11     Giannis Antetokounmpo     PF   28  MIL  63  2024.000000  29.000000  0.605000  0.134000  0.604000  0.073000  0.300000  0.191000  0.332000  0.012000  0.021000  0.132000  0.388000   4.900000  3.700000   8.600000  0.204000   5.800000  2.700000e+00   8.500000  5.400000         antetgi01  63  32.100000  11.200000  20.300000  0.553000  0.700000   2.700000  0.275000  10.500000  17.600000  0.596000  0.572000   7.900000  12.300000  0.645000  2.200000  9.600000  11.800000   5.700000  0.800000  0.800000  3.900000  3.100000  31.100000\n",
      "11    12    Thanasis Antetokounmpo     SF   30  MIL  37   206.000000   6.700000  0.458000  0.174000  0.478000  0.079000  0.141000  0.111000  0.093000  0.007000  0.012000  0.177000  0.138000  -0.100000  0.200000   0.100000  0.022000  -6.500000 -1.100000e+00  -7.600000 -0.300000         antetth01   0   5.600000   0.500000   1.200000  0.435000  0.000000   0.200000  0.000000   0.500000   1.000000  0.526000  0.435000   0.300000   0.600000  0.500000  0.400000  0.800000   1.200000   0.400000  0.100000  0.100000  0.300000  0.600000   1.400000\n",
      "12    13              Cole Anthony     PG   22  ORL  60  1552.000000  16.000000  0.570000  0.338000  0.279000  0.034000  0.176000  0.105000  0.229000  0.012000  0.019000  0.117000  0.215000   2.100000  1.700000   3.700000  0.116000   0.800000  5.000000e-01   1.300000  1.300000         anthoco01   4  25.900000   4.600000  10.200000  0.454000  1.300000   3.400000  0.364000   3.400000   6.700000  0.500000  0.516000   2.500000   2.800000  0.894000  0.800000  4.000000   4.800000   3.900000  0.600000  0.500000  1.500000  2.600000  13.000000\n",
      "13    14                OG Anunoby     SF   25  TOR  67  2386.000000  14.600000  0.586000  0.415000  0.189000  0.042000  0.121000  0.079000  0.080000  0.027000  0.020000  0.121000  0.195000   1.800000  2.900000   4.700000  0.094000  -0.300000  7.000000e-01   0.400000  1.500000         anunoog01  67  35.600000   6.300000  13.200000  0.476000  2.100000   5.500000  0.387000   4.200000   7.700000  0.539000  0.556000   2.100000   2.500000  0.838000  1.400000  3.500000   5.000000   2.000000  1.900000  0.700000  2.000000  3.000000  16.800000\n",
      "14    15          Ryan Arcidiacono     PG   28  TOT  20   114.666667   2.800000  0.336667  0.615667  0.000000  0.000000  0.119000  0.059000  0.148333  0.020667  0.000000  0.161333  0.107667  -0.133333  0.033333  -0.100000 -0.034667  -7.733333 -3.333333e-02  -7.766667 -0.200000         arcidry01   4   9.066667   0.500000   2.000000  0.231000  0.433333   1.233333  0.343667   0.066667   0.733333  0.051333  0.336667   0.000000   0.000000  0.000000  0.000000  0.800000   0.800000   1.233333  0.266667  0.000000  0.400000  0.933333   1.400000\n",
      "15    16               Deni Avdija     SF   22  WAS  76  2020.000000  11.200000  0.535000  0.401000  0.285000  0.042000  0.219000  0.134000  0.139000  0.016000  0.012000  0.159000  0.167000   0.000000  2.300000   2.300000  0.054000  -2.800000  5.000000e-01  -2.300000 -0.100000         avdijde01  40  26.600000   3.300000   7.600000  0.437000  0.900000   3.100000  0.297000   2.400000   4.600000  0.530000  0.497000   1.600000   2.200000  0.739000  1.000000  5.400000   6.400000   2.800000  0.900000  0.400000  1.600000  2.800000   9.200000\n",
      "16    17             Deandre Ayton      C   24  PHO  67  2035.000000  19.900000  0.617000  0.027000  0.225000  0.092000  0.275000  0.181000  0.092000  0.009000  0.023000  0.110000  0.229000   3.300000  3.000000   6.200000  0.147000   0.900000  0.000000e+00   0.900000  1.500000         aytonde01  67  30.400000   7.800000  13.200000  0.589000  0.100000   0.400000  0.292000   7.700000  12.900000  0.597000  0.592000   2.300000   3.000000  0.760000  2.600000  7.400000  10.000000   1.700000  0.600000  0.800000  1.800000  2.800000  18.000000\n",
      "17    18            Udoka Azubuike      C   23  UTA  36   359.000000  16.100000  0.774000  0.000000  0.278000  0.095000  0.261000  0.179000  0.043000  0.008000  0.035000  0.182000  0.115000   0.600000  0.400000   1.000000  0.134000  -1.200000  5.000000e-01  -0.600000  0.100000         azubuud01   4  10.000000   1.600000   2.000000  0.819000  0.000000   0.000000  0.000000   1.600000   2.000000  0.819000  0.819000   0.200000   0.600000  0.350000  0.900000  2.400000   3.300000   0.300000  0.200000  0.400000  0.500000  0.900000   3.500000\n",
      "18    19         Marvin Bagley III      C   23  DET  42   990.000000  17.200000  0.587000  0.173000  0.283000  0.102000  0.202000  0.151000  0.059000  0.009000  0.027000  0.097000  0.204000   1.300000  0.700000   2.000000  0.095000   0.300000 -1.200000e+00  -0.900000  0.300000         baglema01  25  23.600000   4.800000   9.100000  0.529000  0.500000   1.600000  0.288000   4.400000   7.500000  0.579000  0.554000   1.900000   2.600000  0.750000  2.200000  4.200000   6.400000   0.900000  0.500000  0.700000  1.100000  1.900000  12.000000\n",
      "19    20       Patrick Baldwin Jr.     SF   20  GSW  31   226.000000  11.300000  0.546000  0.771000  0.055000  0.005000  0.186000  0.097000  0.069000  0.013000  0.016000  0.090000  0.228000  -0.100000  0.300000   0.100000  0.029000  -0.700000 -1.400000e+00  -2.100000  0.000000         baldwpa01   0   7.300000   1.400000   3.500000  0.394000  1.000000   2.700000  0.381000   0.400000   0.800000  0.440000  0.541000   0.100000   0.200000  0.667000  0.000000  1.300000   1.300000   0.400000  0.200000  0.100000  0.400000  0.500000   3.900000\n",
      "20    21               LaMelo Ball     PG   21  CHO  36  1268.000000  17.900000  0.541000  0.531000  0.169000  0.035000  0.162000  0.097000  0.387000  0.017000  0.008000  0.143000  0.300000   0.600000  1.200000   1.800000  0.068000   3.200000 -8.000000e-01   2.400000  1.400000          ballla01  36  35.200000   8.200000  20.000000  0.411000  4.000000  10.600000  0.376000   4.200000   9.400000  0.450000  0.510000   2.800000   3.400000  0.836000  1.200000  5.300000   6.400000   8.400000  1.300000  0.300000  3.600000  3.300000  23.300000\n",
      "21    22                  Mo Bamba      C   24  TOT  49   512.666667  14.466667  0.577667  0.537667  0.300667  0.100667  0.274333  0.188667  0.079000  0.007333  0.051667  0.129000  0.173333   0.733333  0.733333   1.466667  0.114333  -1.700000  4.666667e-01  -1.233333  0.333333         bambamo01   7  14.166667   2.100000   4.433333  0.462333  0.900000   2.333333  0.366000   1.233333   2.100000  0.576333  0.560333   0.800000   1.266667  0.630667  1.200000  3.366667   4.600000   0.800000  0.233333  0.833333  0.700000  2.133333   5.866667\n",
      "22    23            Paolo Banchero     PF   20  ORL  72  2430.000000  14.900000  0.529000  0.254000  0.476000  0.039000  0.193000  0.116000  0.172000  0.012000  0.015000  0.128000  0.275000  -0.300000  2.600000   2.400000  0.047000  -0.700000 -7.000000e-01  -1.500000  0.300000         banchpa01  72  33.800000   6.700000  15.600000  0.427000  1.200000   4.000000  0.298000   5.500000  11.600000  0.471000  0.465000   5.500000   7.400000  0.738000  1.200000  5.700000   6.900000   3.700000  0.800000  0.500000  2.800000  2.200000  20.000000\n",
      "23    24              Desmond Bane     SG   24  MEM  58  1841.000000  19.100000  0.606000  0.433000  0.218000  0.025000  0.143000  0.084000  0.208000  0.014000  0.011000  0.109000  0.261000   3.500000  2.300000   5.800000  0.151000   3.300000  1.000000e-01   3.500000  2.500000          banede01  58  31.700000   7.800000  16.200000  0.479000  2.900000   7.000000  0.408000   4.900000   9.200000  0.534000  0.568000   3.100000   3.500000  0.883000  0.700000  4.300000   5.000000   4.400000  1.000000  0.400000  2.200000  2.600000  21.500000\n",
      "24    25             Dalano Banton     PG   23  TOR  31   279.000000  14.900000  0.505000  0.392000  0.185000  0.042000  0.149000  0.091000  0.193000  0.023000  0.045000  0.114000  0.242000   0.000000  0.400000   0.400000  0.064000  -1.100000  6.000000e-01  -0.500000  0.100000         bantoda01   2   9.000000   1.800000   4.200000  0.423000  0.500000   1.600000  0.294000   1.300000   2.500000  0.506000  0.481000   0.500000   0.800000  0.708000  0.400000  1.100000   1.500000   1.200000  0.400000  0.400000  0.600000  1.100000   4.600000\n",
      "25    26           Dominick Barlow     SF   19  SAS  28   408.000000  12.400000  0.567000  0.047000  0.291000  0.119000  0.156000  0.137000  0.076000  0.012000  0.038000  0.134000  0.113000   0.500000  0.200000   0.700000  0.082000  -3.700000 -8.000000e-01  -4.500000 -0.300000         barlodo01   0  14.600000   1.600000   3.100000  0.535000  0.000000   0.100000  0.000000   1.600000   2.900000  0.561000  0.535000   0.600000   0.900000  0.720000  1.600000  2.000000   3.600000   0.900000  0.400000  0.700000  0.500000  2.000000   3.900000\n",
      "26    27           Harrison Barnes     PF   30  SAC  82  2662.000000  14.100000  0.632000  0.446000  0.522000  0.038000  0.119000  0.079000  0.063000  0.010000  0.003000  0.081000  0.171000   5.100000  1.400000   6.500000  0.118000   0.500000 -1.500000e+00  -1.000000  0.700000         barneha02  82  32.500000   4.600000   9.600000  0.473000  1.600000   4.300000  0.374000   3.000000   5.300000  0.553000  0.556000   4.300000   5.000000  0.847000  1.100000  3.400000   4.500000   1.600000  0.700000  0.100000  1.000000  1.300000  15.000000\n",
      "27    28            Scottie Barnes     PF   21  TOR  77  2678.000000  15.500000  0.524000  0.220000  0.242000  0.071000  0.152000  0.108000  0.200000  0.015000  0.022000  0.120000  0.203000   2.300000  2.700000   5.000000  0.090000   0.500000 -1.000000e-01   0.400000  1.600000         barnesc01  76  34.800000   6.000000  13.200000  0.456000  0.800000   2.900000  0.281000   5.200000  10.300000  0.505000  0.487000   2.500000   3.200000  0.772000  2.300000  4.300000   6.600000   4.800000  1.100000  0.800000  2.000000  2.200000  15.300000\n",
      "28    29                RJ Barrett     SG   22  NYK  73  2475.000000  12.900000  0.531000  0.332000  0.333000  0.027000  0.137000  0.082000  0.124000  0.006000  0.006000  0.108000  0.262000   0.500000  1.800000   2.200000  0.043000  -1.200000 -1.900000e+00  -3.100000 -0.700000         barrerj01  73  33.900000   7.000000  16.100000  0.434000  1.700000   5.300000  0.310000   5.300000  10.800000  0.495000  0.485000   4.000000   5.400000  0.740000  0.800000  4.200000   5.000000   2.800000  0.400000  0.200000  2.200000  2.500000  19.600000\n",
      "29    30               Will Barton     SG   32  TOT  56   662.000000   9.966667  0.482667  0.503667  0.104000  0.019000  0.131667  0.075333  0.143000  0.017000  0.012000  0.092000  0.183333  -0.266667  0.533333   0.266667  0.028333  -2.200000 -3.333333e-01  -2.600000 -0.100000         bartowi01   2  16.833333   2.366667   6.166667  0.373000  1.133333   3.100000  0.359000   1.233333   3.100000  0.388000  0.463333   0.566667   0.666667  0.855000  0.300000  2.000000   2.266667   1.833333  0.533333  0.233333  0.733333  1.033333   6.333333\n",
      "30    31            Charles Bassey      C   22  SAS  35   508.000000  18.800000  0.658000  0.059000  0.274000  0.155000  0.264000  0.207000  0.129000  0.015000  0.054000  0.213000  0.156000   0.700000  0.600000   1.300000  0.122000  -0.700000  1.300000e+00   0.600000  0.300000         bassech01   2  14.500000   2.500000   3.900000  0.644000  0.100000   0.200000  0.375000   2.400000   3.600000  0.661000  0.656000   0.600000   1.100000  0.595000  2.100000  3.400000   5.500000   1.300000  0.500000  0.900000  1.200000  2.100000   5.700000\n",
      "31    32          Keita Bates-Diop     SF   27  SAS  67  1452.000000  14.900000  0.609000  0.305000  0.323000  0.047000  0.143000  0.093000  0.098000  0.015000  0.011000  0.095000  0.167000   2.100000  0.600000   2.700000  0.089000   0.300000 -9.000000e-01  -0.600000  0.500000         bateske01  42  21.700000   3.500000   6.900000  0.508000  0.800000   2.100000  0.394000   2.700000   4.800000  0.557000  0.568000   1.800000   2.200000  0.793000  1.000000  2.700000   3.700000   1.500000  0.700000  0.300000  0.800000  0.900000   9.700000\n",
      "32    33             Nicolas Batum     PF   34  LAC  78  1709.000000  11.000000  0.594000  0.832000  0.126000  0.041000  0.154000  0.098000  0.094000  0.015000  0.023000  0.111000  0.115000   1.700000  1.900000   3.600000  0.101000  -0.800000  1.200000e+00   0.500000  1.000000         batumni01  19  21.900000   2.100000   4.900000  0.420000  1.600000   4.100000  0.391000   0.500000   0.800000  0.563000  0.583000   0.400000   0.600000  0.708000  0.800000  3.000000   3.800000   1.600000  0.700000  0.600000  0.600000  1.900000   6.100000\n",
      "33    34             Darius Bazley     PF   22  TOT  43   410.666667  13.833333  0.521333  0.298333  0.331333  0.067333  0.190667  0.128000  0.101333  0.019000  0.057333  0.124000  0.182000   0.066667  0.600000   0.666667  0.074333  -2.400000  1.700000e+00  -0.666667  0.100000         bazleda01   1  12.800000   1.866667   4.100000  0.461000  0.433333   1.200000  0.342333   1.466667   2.833333  0.514000  0.511333   0.733333   1.366667  0.499000  0.766667  2.200000   2.966667   0.900000  0.466667  0.766667  0.633333  1.100000   4.866667\n",
      "34    35              Bradley Beal     SG   29  WAS  50  1673.000000  19.700000  0.593000  0.249000  0.260000  0.028000  0.099000  0.065000  0.266000  0.013000  0.017000  0.129000  0.292000   2.200000  1.200000   3.400000  0.099000   2.900000 -1.200000e+00   1.800000  1.600000          bealbr01  50  33.500000   8.900000  17.600000  0.506000  1.600000   4.400000  0.365000   7.300000  13.200000  0.552000  0.551000   3.800000   4.600000  0.842000  0.800000  3.100000   3.900000   5.400000  0.900000  0.700000  2.900000  2.100000  23.200000\n",
      "35    36             Malik Beasley     SG   26  TOT  81  1395.333333  10.700000  0.529000  0.701333  0.071000  0.017333  0.126000  0.073000  0.081333  0.015000  0.003333  0.087667  0.210667  -0.133333  1.066667   0.933333  0.028000  -1.200000 -9.333333e-01  -2.166667  0.033333         beaslma01  27  25.500000   4.466667  11.366667  0.394333  2.833333   7.966667  0.356333   1.633333   3.366667  0.483333  0.519000   0.600000   0.800000  0.743000  0.400000  3.066667   3.466667   1.466667  0.800000  0.066667  1.133333  1.300000  12.400000\n",
      "36    37          MarJon Beauchamp     SF   22  MIL  52   701.000000   8.200000  0.513000  0.584000  0.152000  0.059000  0.110000  0.085000  0.067000  0.014000  0.008000  0.148000  0.183000  -0.400000  0.800000   0.400000  0.027000  -4.100000 -6.000000e-01  -4.800000 -0.500000         beaucma01  11  13.500000   1.800000   4.700000  0.395000  0.900000   2.700000  0.331000   0.900000   1.900000  0.485000  0.492000   0.500000   0.700000  0.730000  0.700000  1.500000   2.200000   0.700000  0.400000  0.100000  0.900000  1.400000   5.100000\n",
      "37    38             Dāvis Bertāns     PF   30  DAL  45   492.000000  11.900000  0.618000  0.881000  0.094000  0.023000  0.103000  0.063000  0.062000  0.011000  0.015000  0.057000  0.162000   0.600000  0.300000   0.900000  0.090000   0.000000 -1.300000e+00  -1.200000  0.100000         bertada01   1  10.900000   1.500000   3.600000  0.431000  1.200000   3.100000  0.390000   0.300000   0.400000  0.737000  0.603000   0.300000   0.300000  0.867000  0.200000  1.000000   1.200000   0.500000  0.200000  0.200000  0.200000  1.200000   4.600000\n",
      "38    39          Patrick Beverley     PG   34  TOT  67  1210.666667   9.100000  0.529333  0.667000  0.171333  0.029000  0.126333  0.079000  0.137000  0.017333  0.021000  0.132333  0.105667   0.533333  1.433333   2.000000  0.082000  -2.833333  1.766667e+00  -1.100000  0.233333         beverpa01  67  27.166667   2.133333   5.400000  0.399000  1.166667   3.600000  0.330667   0.966667   1.766667  0.538000  0.509333   0.666667   0.933333  0.678667  0.700000  3.200000   3.900000   3.000000  0.933333  0.633333  0.866667  2.833333   6.133333\n",
      "39    40                Saddiq Bey     SF   23  TOT  77  1419.333333  14.700000  0.571667  0.508667  0.252000  0.053000  0.140667  0.095667  0.079333  0.015667  0.004333  0.069000  0.196333   1.733333  0.833333   2.600000  0.093333   1.033333 -1.166667e+00  -0.166667  0.600000           beysa01  37  27.200000   4.533333  10.600000  0.432000  1.966667   5.333333  0.368667   2.566667   5.200000  0.498333  0.526333   2.400000   2.766667  0.861333  1.333333  3.366667   4.733333   1.500000  0.900000  0.133333  0.866667  1.600000  13.400000\n",
      "40    41                Khem Birch      C   30  TOR  20   162.000000   9.400000  0.629000  0.063000  0.156000  0.052000  0.128000  0.087000  0.058000  0.015000  0.030000  0.190000  0.111000   0.100000  0.200000   0.200000  0.072000  -4.600000  1.100000e+00  -3.500000 -0.100000         birchkh01   0   8.100000   1.000000   1.600000  0.594000  0.100000   0.100000  0.500000   0.900000   1.500000  0.600000  0.609000   0.200000   0.300000  0.800000  0.400000  0.900000   1.300000   0.400000  0.300000  0.300000  0.400000  1.200000   2.200000\n",
      "41    42              Goga Bitadze      C   23  TOT  38   304.666667  16.900000  0.579667  0.213667  0.348333  0.149000  0.183333  0.166000  0.121333  0.017000  0.052333  0.134667  0.154000   0.533333  0.400000   0.900000  0.137333  -0.900000  1.100000e+00   0.166667  0.166667         bitadgo01   1  12.200000   1.866667   3.366667  0.548667  0.166667   0.700000  0.228000   1.733333   2.666667  0.632333  0.574333   0.600000   1.100000  0.557667  1.633333  2.066667   3.700000   1.033333  0.400000  0.700000  0.600000  1.700000   4.500000\n",
      "42    43           Bismack Biyombo      C   30  PHO  61   874.000000  14.400000  0.555000  0.000000  0.340000  0.110000  0.221000  0.165000  0.087000  0.010000  0.090000  0.177000  0.140000   0.200000  1.600000   1.900000  0.102000  -3.400000  2.500000e+00  -0.900000  0.200000         biyombi01  14  14.300000   2.000000   3.400000  0.578000  0.000000   0.000000  0.000000   2.000000   3.400000  0.578000  0.578000   0.400000   1.100000  0.357000  1.500000  2.800000   4.300000   0.900000  0.300000  1.400000  0.800000  1.900000   4.300000\n",
      "43    44             Buddy Boeheim     PG   23  DET  10    90.000000   0.500000  0.287000  0.926000  0.074000  0.024000  0.051000  0.037000  0.058000  0.011000  0.000000  0.000000  0.132000  -0.200000  0.000000  -0.200000 -0.091000  -8.100000 -1.700000e+00  -9.900000 -0.200000         boehebu01   0   9.000000   0.500000   2.700000  0.185000  0.400000   2.500000  0.160000   0.100000   0.200000  0.500000  0.259000   0.200000   0.200000  1.000000  0.200000  0.400000   0.600000   0.400000  0.200000  0.000000  0.000000  0.600000   1.600000\n",
      "44    45         Bogdan Bogdanović     SG   30  ATL  54  1508.000000  14.200000  0.586000  0.589000  0.126000  0.016000  0.104000  0.060000  0.134000  0.014000  0.010000  0.092000  0.198000   1.800000  1.000000   2.800000  0.088000   1.100000 -7.000000e-01   0.500000  0.900000         bogdabo01   9  27.900000   5.100000  11.300000  0.447000  2.700000   6.700000  0.406000   2.400000   4.600000  0.506000  0.566000   1.200000   1.400000  0.831000  0.400000  2.600000   3.100000   2.800000  0.800000  0.300000  1.200000  1.600000  14.000000\n",
      "45    46          Bojan Bogdanović     PF   33  DET  59  1893.000000  17.400000  0.627000  0.400000  0.344000  0.020000  0.113000  0.065000  0.136000  0.009000  0.004000  0.117000  0.259000   3.100000  0.400000   3.500000  0.090000   2.600000 -1.800000e+00   0.900000  1.400000         bogdabo02  59  32.100000   7.300000  14.900000  0.488000  2.500000   6.000000  0.411000   4.800000   9.000000  0.539000  0.570000   4.500000   5.100000  0.884000  0.600000  3.200000   3.800000   2.600000  0.600000  0.100000  2.300000  1.900000  21.600000\n",
      "46    47                   Bol Bol     PF   23  ORL  70  1505.000000  14.400000  0.603000  0.236000  0.226000  0.052000  0.253000  0.152000  0.069000  0.010000  0.055000  0.176000  0.182000   0.000000  2.200000   2.300000  0.072000  -1.800000  9.000000e-01  -0.900000  0.400000           bolbo01  33  21.500000   3.700000   6.800000  0.546000  0.400000   1.600000  0.265000   3.300000   5.200000  0.633000  0.577000   1.200000   1.500000  0.759000  1.000000  4.800000   5.800000   1.000000  0.400000  1.200000  1.600000  1.300000   9.100000\n",
      "47    48           Leandro Bolmaro     SG   22  UTA  14    68.000000  -5.000000  0.150000  0.200000  0.000000  0.065000  0.047000  0.056000  0.123000  0.021000  0.012000  0.259000  0.166000  -0.400000  0.000000  -0.300000 -0.231000 -12.600000 -2.300000e+00 -14.900000 -0.200000         bolmale01   0   4.900000   0.200000   1.400000  0.150000  0.000000   0.300000  0.000000   0.200000   1.100000  0.188000  0.150000   0.000000   0.000000  0.000000  0.300000  0.200000   0.500000   0.500000  0.200000  0.100000  0.500000  0.700000   0.400000\n",
      "48    49              Devin Booker     SG   26  PHO  53  1835.000000  22.000000  0.601000  0.296000  0.336000  0.027000  0.120000  0.072000  0.273000  0.014000  0.009000  0.106000  0.318000   4.200000  1.900000   6.000000  0.157000   4.500000 -3.000000e-01   4.200000  2.900000         bookede01  53  34.600000   9.900000  20.100000  0.494000  2.100000   6.000000  0.351000   7.800000  14.200000  0.554000  0.546000   5.800000   6.800000  0.855000  0.900000  3.700000   4.500000   5.500000  1.000000  0.300000  2.700000  3.000000  27.800000\n",
      "49    50        Brandon Boston Jr.     SG   21  LAC  22   248.000000  13.400000  0.515000  0.238000  0.311000  0.032000  0.103000  0.068000  0.125000  0.018000  0.000000  0.080000  0.265000   0.000000  0.200000   0.200000  0.040000  -1.700000 -6.000000e-01  -2.300000  0.000000         bostobr01   1  11.300000   2.300000   5.500000  0.418000  0.500000   1.300000  0.414000   1.800000   4.200000  0.419000  0.467000   1.300000   1.700000  0.763000  0.300000  1.000000   1.400000   0.900000  0.400000  0.000000  0.500000  1.000000   6.500000\n",
      "50    51             Chris Boucher     PF   30  TOR  76  1523.000000  18.000000  0.590000  0.357000  0.318000  0.109000  0.212000  0.157000  0.027000  0.015000  0.041000  0.064000  0.180000   3.000000  2.000000   5.000000  0.156000   0.700000 -8.000000e-01  -0.100000  0.700000         bouchch01   0  20.000000   3.400000   7.000000  0.493000  0.800000   2.500000  0.328000   2.600000   4.500000  0.585000  0.552000   1.700000   2.200000  0.762000  2.100000  3.500000   5.500000   0.400000  0.600000  0.800000  0.500000  1.900000   9.400000\n",
      "51    52           James Bouknight     SG   22  CHO  34   515.000000   6.200000  0.463000  0.565000  0.155000  0.016000  0.135000  0.075000  0.111000  0.013000  0.008000  0.134000  0.195000  -0.800000  0.400000  -0.400000 -0.040000  -5.400000 -1.100000e+00  -6.500000 -0.600000         bouknja01   0  15.100000   2.000000   5.700000  0.358000  1.000000   3.200000  0.303000   1.100000   2.500000  0.429000  0.443000   0.600000   0.900000  0.667000  0.200000  1.900000   2.100000   1.200000  0.400000  0.100000  0.900000  1.400000   5.600000\n",
      "52    53            Jamaree Bouyea     PG   23  TOT   5    47.333333   2.466667  0.348000  0.604667  0.099000  0.011000  0.112667  0.062333  0.054667  0.019667  0.020000  0.145333  0.104000  -0.066667  0.066667   0.000000 -0.036000  -8.933333  6.000000e-01  -8.300000  0.000000         bouyeja01   0  12.166667   0.900000   2.366667  0.297000  0.300000   1.166667  0.244333   0.600000   1.200000  0.500000  0.346000   0.166667   0.300000  0.500000  0.166667  1.000000   1.166667   0.600000  0.600000  0.300000  0.600000  1.166667   2.266667\n",
      "53    54              Tony Bradley      C   25  CHI  12    33.000000  21.700000  0.690000  0.417000  0.333000  0.035000  0.338000  0.189000  0.044000  0.015000  0.029000  0.068000  0.198000   0.100000  0.100000   0.200000  0.220000   4.400000  5.000000e-01   4.900000  0.100000         bradlto01   0   2.800000   0.500000   1.000000  0.500000  0.300000   0.400000  0.600000   0.300000   0.600000  0.429000  0.625000   0.300000   0.300000  1.000000  0.100000  0.800000   0.900000   0.100000  0.100000  0.100000  0.100000  0.200000   1.600000\n",
      "54    55            Malaki Branham     SF   19  SAS  66  1550.000000   9.500000  0.524000  0.417000  0.115000  0.019000  0.112000  0.064000  0.114000  0.010000  0.004000  0.106000  0.191000  -0.400000  0.200000  -0.100000 -0.004000  -3.000000 -2.100000e+00  -5.200000 -1.200000         branhma01  32  23.500000   4.100000   9.300000  0.440000  1.200000   3.900000  0.302000   2.900000   5.400000  0.539000  0.503000   0.900000   1.100000  0.829000  0.400000  2.300000   2.700000   1.900000  0.500000  0.100000  1.200000  1.700000  10.200000\n",
      "55    56          Jarrell Brantley     PF   26  UTA   4    39.000000  18.500000  0.739000  0.643000  0.143000  0.028000  0.137000  0.083000  0.114000  0.000000  0.043000  0.118000  0.181000   0.100000  0.000000   0.100000  0.160000   3.100000  4.000000e-01   3.500000  0.100000         brantja01   0   9.800000   2.000000   3.500000  0.571000  1.000000   2.300000  0.444000   1.000000   1.300000  0.800000  0.714000   0.500000   0.500000  1.000000  0.300000  1.300000   1.500000   0.800000  0.000000  0.500000  0.500000  0.800000   5.500000\n",
      "56    57           Christian Braun     SG   21  DEN  76  1181.000000  10.300000  0.568000  0.332000  0.221000  0.048000  0.126000  0.088000  0.064000  0.017000  0.013000  0.099000  0.130000   0.700000  1.200000   1.900000  0.079000  -2.500000  1.000000e-01  -2.400000 -0.100000         braunch01   6  15.500000   1.900000   3.800000  0.495000  0.400000   1.300000  0.354000   1.400000   2.500000  0.565000  0.554000   0.500000   0.800000  0.625000  0.600000  1.800000   2.400000   0.800000  0.500000  0.200000  0.500000  1.300000   4.700000\n",
      "57    58             Mikal Bridges     SF   26  TOT  83  1975.333333  17.633333  0.589333  0.350333  0.287667  0.029333  0.109667  0.069333  0.135667  0.015000  0.017667  0.081667  0.240333   2.933333  2.033333   4.966667  0.123333   2.033333 -3.700743e-17   2.000000  1.866667         bridgmi01  83  35.433333   7.433333  15.833333  0.468667  2.100000   5.566667  0.381667   5.300000  10.266667  0.516000  0.535667   4.166667   4.666667  0.895333  0.966667  3.433333   4.400000   3.200000  1.100000  0.700000  1.566667  1.866667  21.133333\n",
      "58    59            Oshae Brissett     SF   24  IND  65  1083.000000  10.600000  0.520000  0.486000  0.455000  0.064000  0.160000  0.112000  0.054000  0.014000  0.010000  0.082000  0.161000   0.400000  0.700000   1.100000  0.050000  -2.000000 -1.200000e+00  -3.200000 -0.300000         brissos01   2  16.700000   1.900000   4.900000  0.386000  0.700000   2.400000  0.310000   1.200000   2.500000  0.457000  0.461000   1.600000   2.200000  0.717000  1.000000  2.400000   3.400000   0.700000  0.500000  0.200000  0.500000  1.200000   6.100000\n",
      "59    60           Malcolm Brogdon     PG   30  BOS  67  1744.000000  18.200000  0.615000  0.406000  0.251000  0.027000  0.147000  0.088000  0.215000  0.013000  0.009000  0.108000  0.228000   3.600000  2.200000   5.800000  0.161000   2.300000  6.000000e-01   2.800000  2.100000         brogdma01   0  26.000000   5.300000  10.900000  0.484000  2.000000   4.400000  0.444000   3.300000   6.500000  0.510000  0.574000   2.400000   2.700000  0.870000  0.600000  3.600000   4.200000   3.700000  0.700000  0.300000  1.500000  1.600000  14.900000\n",
      "60    61             Dillon Brooks     SF   27  MEM  73  2214.000000   9.400000  0.494000  0.443000  0.155000  0.022000  0.095000  0.058000  0.117000  0.014000  0.007000  0.089000  0.218000  -0.800000  2.400000   1.600000  0.034000  -3.400000 -5.000000e-01  -3.900000 -1.100000         brookdi01  73  30.300000   5.400000  13.600000  0.396000  2.000000   6.000000  0.326000   3.400000   7.600000  0.451000  0.468000   1.600000   2.100000  0.779000  0.600000  2.700000   3.300000   2.600000  0.900000  0.200000  1.400000  3.300000  14.300000\n",
      "61    62               Bruce Brown     SG   26  DEN  80  2280.000000  13.300000  0.571000  0.343000  0.206000  0.033000  0.130000  0.083000  0.157000  0.019000  0.020000  0.132000  0.178000   1.700000  2.600000   4.300000  0.090000  -1.100000  6.000000e-01  -0.500000  0.800000         brownbr01  31  28.500000   4.500000   9.300000  0.483000  1.100000   3.200000  0.358000   3.300000   6.100000  0.548000  0.545000   1.500000   1.900000  0.758000  0.800000  3.300000   4.100000   3.400000  1.100000  0.600000  1.500000  2.400000  11.500000\n",
      "62    63            Greg Brown III     PF   21  POR  16    93.000000   5.800000  0.421000  0.250000  0.429000  0.025000  0.212000  0.117000  0.045000  0.021000  0.048000  0.153000  0.184000  -0.300000  0.100000  -0.100000 -0.074000  -8.500000  0.000000e+00  -8.500000 -0.200000         browngr01   0   5.800000   0.700000   1.800000  0.393000  0.100000   0.400000  0.143000   0.600000   1.300000  0.476000  0.411000   0.300000   0.800000  0.417000  0.100000  1.100000   1.200000   0.200000  0.300000  0.300000  0.400000  0.800000   1.800000\n",
      "63    64              Jaylen Brown     SF   26  BOS  67  2405.000000  19.100000  0.581000  0.352000  0.249000  0.036000  0.170000  0.104000  0.165000  0.015000  0.009000  0.114000  0.314000   1.600000  3.400000   5.000000  0.100000   1.500000 -2.000000e-01   1.300000  2.000000         brownja02  67  35.900000  10.100000  20.600000  0.491000  2.400000   7.300000  0.335000   7.700000  13.400000  0.576000  0.550000   3.900000   5.100000  0.765000  1.200000  5.700000   6.900000   3.500000  1.100000  0.400000  2.900000  2.600000  26.600000\n",
      "64    65             Kendall Brown     SG   19  IND   6    40.000000   9.100000  0.571000  0.143000  0.286000  0.056000  0.111000  0.083000  0.097000  0.047000  0.000000  0.202000  0.104000   0.000000  0.100000   0.100000  0.071000  -7.000000  4.000000e+00  -2.900000  0.000000         brownke03   0   6.700000   0.700000   1.200000  0.571000  0.000000   0.200000  0.000000   0.700000   1.000000  0.667000  0.571000   0.200000   0.300000  0.500000  0.300000  0.700000   1.000000   0.500000  0.700000  0.000000  0.300000  1.500000   1.500000\n",
      "65    66               Moses Brown      C   23  TOT  36   196.000000  14.100000  0.607000  0.000000  0.750000  0.148000  0.208000  0.178333  0.014333  0.031000  0.028333  0.401333  0.167000   0.466667  0.266667   0.733333  0.078333  -3.733333  1.000000e-01  -3.633333  0.066667         brownmo01   1   6.566667   1.166667   1.833333  0.635000  0.000000   0.000000  0.000000   1.166667   1.833333  0.635000  0.635000   0.633333   1.366667  0.458000  1.100000  1.566667   2.666667   0.066667  0.233333  0.266667  0.433333  0.900000   2.966667\n",
      "66    67            Sterling Brown     SG   27  LAL   4    24.000000   7.000000  0.000000  0.500000  0.000000  0.139000  0.216000  0.178000  0.094000  0.059000  0.000000  0.000000  0.070000   0.000000  0.100000   0.000000  0.040000  -8.500000  5.200000e+00  -3.300000  0.000000         brownst02   0   6.000000   0.000000   1.000000  0.000000  0.000000   0.500000  0.000000   0.000000   0.500000  0.000000  0.000000   0.000000   0.000000  0.000000  0.800000  1.300000   2.000000   0.500000  0.800000  0.000000  0.000000  1.000000   0.000000\n",
      "67    68            Troy Brown Jr.     SF   23  LAL  76  1860.000000   9.600000  0.561000  0.604000  0.084000  0.037000  0.137000  0.089000  0.066000  0.015000  0.007000  0.092000  0.121000   1.000000  2.000000   2.900000  0.075000  -1.800000  8.000000e-01  -1.000000  0.500000         browntr01  45  24.500000   2.600000   6.100000  0.430000  1.400000   3.700000  0.381000   1.200000   2.400000  0.505000  0.545000   0.400000   0.500000  0.872000  0.800000  3.200000   4.100000   1.300000  0.800000  0.200000  0.600000  1.600000   7.100000\n",
      "68    69             Jalen Brunson     PG   26  NYK  68  2379.000000  21.200000  0.597000  0.269000  0.328000  0.018000  0.093000  0.056000  0.287000  0.013000  0.006000  0.094000  0.272000   6.900000  1.800000   8.700000  0.175000   4.400000 -5.000000e-01   3.900000  3.500000         brunsja01  68  35.000000   8.600000  17.600000  0.491000  2.000000   4.700000  0.416000   6.700000  12.800000  0.519000  0.547000   4.800000   5.800000  0.829000  0.600000  3.000000   3.500000   6.200000  0.900000  0.200000  2.100000  2.200000  24.000000\n",
      "69    70             Thomas Bryant      C   25  TOT  59   720.666667  17.666667  0.647000  0.152667  0.321667  0.094667  0.240333  0.169667  0.035333  0.006667  0.025333  0.090667  0.182000   1.800000  0.933333   2.733333  0.153333  -0.300000 -9.333333e-01  -1.233333  0.466667         bryanth01  26  17.033333   3.500000   5.800000  0.587333  0.366667   0.900000  0.441667   3.133333   4.900000  0.615667  0.621667   1.433333   1.900000  0.733667  1.400000  3.933333   5.266667   0.433333  0.233333  0.500000  0.633333  1.666667   8.833333\n",
      "70    71            Reggie Bullock     SF   31  DAL  78  2364.000000   7.700000  0.577000  0.845000  0.079000  0.016000  0.125000  0.070000  0.062000  0.011000  0.005000  0.069000  0.100000   1.300000  1.400000   2.800000  0.056000  -2.200000 -3.000000e-01  -2.600000 -0.400000         bullore01  55  30.300000   2.500000   6.000000  0.409000  1.900000   5.100000  0.380000   0.500000   0.900000  0.562000  0.569000   0.300000   0.500000  0.703000  0.400000  3.200000   3.600000   1.400000  0.700000  0.200000  0.500000  2.100000   7.200000\n",
      "71    72                Alec Burks     SG   31  DET  51  1122.000000  16.500000  0.602000  0.521000  0.410000  0.018000  0.142000  0.078000  0.159000  0.016000  0.006000  0.097000  0.228000   1.900000  0.600000   2.500000  0.109000   1.800000 -5.000000e-01   1.200000  0.900000         burksal01   8  22.000000   3.900000   9.000000  0.436000  1.900000   4.700000  0.414000   2.000000   4.300000  0.459000  0.544000   3.000000   3.700000  0.814000  0.400000  2.700000   3.100000   2.200000  0.700000  0.200000  1.100000  1.900000  12.800000\n",
      "72    73             Deonte Burton     SG   29  SAC   2     6.000000 -12.600000  0.000000  0.500000  0.000000  0.000000  0.000000  0.000000  0.000000  0.000000  0.000000  0.000000  0.143000   0.000000  0.000000   0.000000 -0.347000 -14.700000 -9.900000e+00 -24.600000  0.000000         burtode02   0   3.000000   0.000000   1.000000  0.000000  0.000000   0.500000  0.000000   0.000000   0.500000  0.000000  0.000000   0.000000   0.000000  0.000000  0.000000  0.000000   0.000000   0.000000  0.000000  0.000000  0.000000  0.000000   0.000000\n",
      "73    74              Jared Butler     SG   22  OKC   6    77.000000  13.000000  0.578000  0.438000  0.000000  0.014000  0.043000  0.028000  0.150000  0.031000  0.000000  0.135000  0.201000   0.000000  0.100000   0.100000  0.061000  -1.900000 -4.000000e-01  -2.400000  0.000000         butleja02   1  12.800000   2.500000   5.300000  0.469000  1.200000   2.300000  0.500000   1.300000   3.000000  0.444000  0.578000   0.000000   0.000000  0.000000  0.200000  0.500000   0.700000   1.300000  0.800000  0.000000  0.800000  0.800000   6.200000\n",
      "74    75              Jimmy Butler     SF   33  MIA  64  2138.000000  27.600000  0.647000  0.116000  0.625000  0.075000  0.133000  0.103000  0.271000  0.027000  0.010000  0.082000  0.256000   9.400000  2.900000  12.300000  0.277000   6.700000  2.000000e+00   8.700000  5.800000         butleji01  64  33.400000   7.500000  13.900000  0.539000  0.600000   1.600000  0.350000   6.900000  12.300000  0.564000  0.560000   7.400000   8.700000  0.850000  2.200000  3.700000   5.900000   5.300000  1.800000  0.300000  1.600000  1.300000  22.900000\n",
      "75    76               John Butler      C   20  POR  19   221.000000   5.700000  0.411000  0.660000  0.075000  0.015000  0.073000  0.044000  0.065000  0.015000  0.036000  0.018000  0.110000  -0.100000  0.100000   0.000000  0.001000  -5.400000 -8.000000e-01  -6.300000 -0.200000         butlejo01   1  11.600000   0.900000   2.800000  0.321000  0.400000   1.800000  0.229000   0.500000   0.900000  0.500000  0.396000   0.200000   0.200000  0.750000  0.200000  0.700000   0.900000   0.600000  0.400000  0.500000  0.100000  1.200000   2.400000\n",
      "76    77                Jamal Cain     SF   23  MIA  18   240.000000  16.500000  0.647000  0.303000  0.333000  0.071000  0.187000  0.127000  0.076000  0.023000  0.004000  0.073000  0.151000   0.500000  0.300000   0.800000  0.169000  -0.500000  1.400000e+00   0.900000  0.200000          cainja01   0  13.300000   2.100000   3.700000  0.561000  0.400000   1.100000  0.350000   1.700000   2.600000  0.652000  0.614000   0.900000   1.200000  0.773000  0.800000  2.100000   2.900000   0.700000  0.600000  0.100000  0.300000  1.200000   5.400000\n",
      "77    78  Kentavious Caldwell-Pope     SG   29  DEN  76  2381.000000  11.500000  0.598000  0.505000  0.198000  0.017000  0.081000  0.050000  0.098000  0.023000  0.013000  0.111000  0.141000   2.000000  2.500000   4.500000  0.091000  -1.600000  6.000000e-01  -1.000000  0.600000         caldwke01  76  31.300000   3.800000   8.300000  0.462000  1.800000   4.200000  0.423000   2.100000   4.100000  0.502000  0.569000   1.400000   1.600000  0.824000  0.500000  2.300000   2.700000   2.400000  1.500000  0.500000  1.100000  1.900000  10.800000\n",
      "78    79          Facundo Campazzo     PG   31  DAL   8    52.000000   7.800000  0.360000  0.846000  0.154000  0.000000  0.045000  0.022000  0.226000  0.057000  0.000000  0.178000  0.147000  -0.100000  0.100000   0.000000 -0.012000  -4.800000  3.600000e+00  -1.200000  0.000000         campafa01   0   6.500000   0.400000   1.600000  0.231000  0.400000   1.400000  0.273000   0.000000   0.300000  0.000000  0.346000   0.100000   0.300000  0.500000  0.000000  0.300000   0.300000   1.100000  0.800000  0.000000  0.400000  0.400000   1.300000\n",
      "79    80             Vlatko Čančar     PF   25  DEN  60   889.000000  11.000000  0.606000  0.507000  0.181000  0.032000  0.131000  0.083000  0.115000  0.012000  0.014000  0.131000  0.138000   0.900000  0.800000   1.700000  0.093000  -1.700000 -1.000000e-01  -1.800000  0.000000         cancavl01   9  14.800000   1.800000   3.800000  0.476000  0.700000   1.900000  0.374000   1.100000   1.900000  0.580000  0.570000   0.600000   0.700000  0.927000  0.400000  1.700000   2.100000   1.300000  0.400000  0.200000  0.600000  1.400000   5.000000\n",
      "80    81              Clint Capela      C   28  ATL  65  1730.000000  22.100000  0.656000  0.002000  0.244000  0.161000  0.294000  0.227000  0.047000  0.012000  0.039000  0.083000  0.157000   4.900000  2.400000   7.200000  0.201000   2.300000 -1.000000e-01   2.200000  1.800000         capelca01  63  26.600000   5.400000   8.200000  0.653000  0.000000   0.000000  0.000000   5.400000   8.200000  0.654000  0.653000   1.200000   2.000000  0.603000  4.000000  7.100000  11.000000   0.900000  0.700000  1.200000  0.800000  2.100000  12.000000\n",
      "81    82          Vernon Carey Jr.      C   21  WAS  11    28.000000  10.800000  0.338000  0.000000  0.250000  0.124000  0.306000  0.218000  0.133000  0.035000  0.060000  0.184000  0.169000  -0.100000  0.100000   0.000000  0.014000  -7.100000  2.100000e+00  -5.000000  0.000000         careyve01   0   2.500000   0.200000   0.700000  0.250000  0.000000   0.000000  0.000000   0.200000   0.700000  0.250000  0.250000   0.200000   0.200000  1.000000  0.300000  0.700000   1.000000   0.300000  0.200000  0.200000  0.200000  0.500000   0.500000\n",
      "82    83              Jevon Carter     PG   27  MIL  81  1810.000000  10.900000  0.560000  0.596000  0.067000  0.021000  0.093000  0.058000  0.145000  0.017000  0.013000  0.118000  0.153000   1.200000  2.300000   3.500000  0.092000  -1.800000  1.200000e+00  -0.600000  0.600000         carteje01  39  22.300000   3.000000   7.000000  0.423000  1.800000   4.200000  0.421000   1.200000   2.800000  0.425000  0.549000   0.400000   0.500000  0.816000  0.400000  2.100000   2.500000   2.400000  0.800000  0.400000  1.000000  2.000000   8.000000\n",
      "83    85   Michael Carter-Williams     PG   31  ORL   4    44.000000   9.000000  0.498000  0.214000  0.500000  0.026000  0.103000  0.064000  0.226000  0.011000  0.022000  0.190000  0.206000   0.000000  0.000000   0.000000 -0.003000  -5.100000 -1.200000e+00  -6.300000  0.000000         cartemi01   0  11.000000   1.500000   3.500000  0.429000  0.300000   0.800000  0.333000   1.300000   2.800000  0.455000  0.464000   1.000000   1.800000  0.571000  0.300000  1.000000   1.300000   1.800000  0.300000  0.300000  1.000000  1.300000   4.300000\n",
      "84    84        Wendell Carter Jr.      C   23  ORL  57  1690.000000  17.300000  0.621000  0.367000  0.318000  0.080000  0.253000  0.166000  0.120000  0.009000  0.019000  0.132000  0.205000   2.600000  2.000000   4.600000  0.130000   0.900000  1.000000e-01   1.000000  1.300000         cartewe01  54  29.600000   5.600000  10.800000  0.525000  1.400000   3.900000  0.356000   4.200000   6.800000  0.624000  0.591000   2.500000   3.400000  0.738000  2.100000  6.600000   8.700000   2.300000  0.500000  0.600000  1.900000  2.800000  15.200000\n",
      "85    86               Alex Caruso     PG   28  CHI  67  1575.000000  11.500000  0.588000  0.528000  0.255000  0.031000  0.109000  0.071000  0.154000  0.030000  0.028000  0.195000  0.111000   1.000000  2.600000   3.600000  0.109000  -2.200000  3.300000e+00   1.100000  1.200000         carusal01  36  23.500000   1.900000   4.300000  0.455000  0.800000   2.300000  0.364000   1.100000   2.000000  0.556000  0.551000   0.900000   1.100000  0.808000  0.600000  2.300000   2.900000   2.900000  1.500000  0.700000  1.100000  2.400000   5.600000\n",
      "86    88         Justin Champagnie     SF   21  TOT   5    22.666667  13.566667  0.525000  0.250000  0.000000  0.096000  0.199000  0.144000  0.161000  0.011667  0.000000  0.000000  0.178667   0.000000  0.000000   0.000000  0.065333  -3.166667 -2.000000e+00  -5.133333 -0.066667         champju01   0   7.333333   1.000000   3.333333  0.500000  0.233333   1.166667  0.200000   0.766667   2.166667  0.514333  0.525000   0.000000   0.000000  0.000000  0.633333  1.000000   1.633333   0.866667  0.233333  0.000000  0.000000  0.400000   2.233333\n",
      "87    87         Julian Champagnie     SF   21  TOT  17   213.333333   7.800000  0.403000  0.588000  0.088000  0.022333  0.119333  0.069000  0.030333  0.029333  0.008667  0.049667  0.171000   0.200000  0.066667   0.266667 -0.028667  -4.300000 -2.300000e+00  -6.600000 -0.066667         champju02   3  14.400000   2.466667   5.700000  0.305000  1.366667   3.566667  0.269667   1.066667   2.133333  0.365000  0.390333   0.566667   0.700000  0.824000  0.433333  2.066667   2.500000   0.433333  0.400000  0.200000  0.433333  1.066667   6.900000\n",
      "88    89          Kennedy Chandler     PG   20  MEM  36   281.000000  10.600000  0.440000  0.181000  0.157000  0.034000  0.109000  0.072000  0.264000  0.020000  0.016000  0.169000  0.158000  -0.100000  0.400000   0.300000  0.044000  -3.300000  6.000000e-01  -2.700000  0.000000         chandke01   0   7.800000   1.000000   2.300000  0.422000  0.100000   0.400000  0.133000   0.900000   1.900000  0.485000  0.434000   0.200000   0.400000  0.462000  0.300000  0.800000   1.100000   1.600000  0.300000  0.100000  0.500000  0.400000   2.200000\n",
      "89    91          Josh Christopher     SG   21  HOU  64   786.000000  11.500000  0.523000  0.271000  0.182000  0.028000  0.072000  0.050000  0.143000  0.020000  0.019000  0.144000  0.219000  -0.300000  0.300000   0.000000 -0.001000  -3.000000 -1.400000e+00  -4.300000 -0.500000         chrisjo01   2  12.300000   2.400000   5.100000  0.465000  0.300000   1.400000  0.236000   2.100000   3.800000  0.550000  0.497000   0.700000   0.900000  0.750000  0.300000  0.800000   1.100000   1.100000  0.500000  0.200000  0.900000  0.900000   5.800000\n",
      "90    90              Max Christie     SG   19  LAL  41   512.000000   7.400000  0.566000  0.585000  0.151000  0.015000  0.138000  0.078000  0.051000  0.008000  0.012000  0.103000  0.104000   0.100000  0.500000   0.600000  0.058000  -3.100000  0.000000e+00  -3.100000 -0.100000         chrisma02   3  12.500000   1.100000   2.600000  0.415000  0.600000   1.500000  0.419000   0.400000   1.100000  0.409000  0.538000   0.300000   0.400000  0.875000  0.200000  1.700000   1.800000   0.500000  0.200000  0.200000  0.300000  0.800000   3.100000\n",
      "91    92            Brandon Clarke     PF   26  MEM  56  1090.000000  20.000000  0.682000  0.017000  0.393000  0.090000  0.212000  0.151000  0.095000  0.015000  0.031000  0.118000  0.177000   2.700000  1.800000   4.500000  0.199000   0.800000  1.800000e+00   2.500000  1.300000         clarkbr01   8  19.500000   4.100000   6.200000  0.656000  0.000000   0.100000  0.167000   4.100000   6.100000  0.665000  0.658000   1.800000   2.400000  0.723000  1.600000  3.900000   5.500000   1.300000  0.600000  0.700000  1.000000  2.300000  10.000000\n",
      "92    93           Jordan Clarkson     SG   30  UTA  61  1988.000000  14.700000  0.558000  0.445000  0.238000  0.040000  0.093000  0.067000  0.209000  0.008000  0.006000  0.140000  0.278000   0.900000  0.800000   1.700000  0.042000   1.000000 -2.400000e+00  -1.400000  0.300000         clarkjo01  61  32.600000   7.500000  16.900000  0.444000  2.500000   7.500000  0.338000   5.000000   9.400000  0.530000  0.519000   3.300000   4.000000  0.816000  1.200000  2.900000   4.000000   4.400000  0.500000  0.200000  3.000000  2.000000  20.800000\n",
      "93    94               Nic Claxton      C   23  BRK  76  2271.000000  20.800000  0.691000  0.003000  0.419000  0.093000  0.251000  0.174000  0.093000  0.014000  0.071000  0.121000  0.154000   5.200000  4.000000   9.200000  0.195000   0.900000  2.200000e+00   3.100000  2.900000         claxtni01  76  29.900000   5.400000   7.700000  0.705000  0.000000   0.000000  0.000000   5.400000   7.700000  0.708000  0.705000   1.800000   3.200000  0.541000  2.400000  6.800000   9.200000   1.900000  0.900000  2.500000  1.300000  2.800000  12.600000\n",
      "94    95               Amir Coffey     SG   25  LAC  50   625.000000   7.000000  0.498000  0.276000  0.434000  0.031000  0.064000  0.047000  0.112000  0.005000  0.007000  0.108000  0.135000   0.100000  0.300000   0.400000  0.033000  -4.400000 -7.000000e-01  -5.000000 -0.500000         coffeam01   9  12.500000   1.100000   2.900000  0.386000  0.200000   0.800000  0.275000   0.900000   2.100000  0.429000  0.424000   1.000000   1.300000  0.778000  0.300000  0.700000   1.100000   1.100000  0.100000  0.100000  0.400000  1.000000   3.400000\n",
      "95    96              John Collins     PF   25  ATL  71  2130.000000  13.600000  0.593000  0.339000  0.252000  0.039000  0.200000  0.119000  0.053000  0.009000  0.029000  0.091000  0.171000   2.100000  2.100000   4.200000  0.095000  -1.400000  2.000000e-01  -1.300000  0.400000         collijo01  71  30.000000   5.100000  10.000000  0.508000  1.000000   3.400000  0.292000   4.100000   6.600000  0.619000  0.557000   2.000000   2.500000  0.803000  1.100000  5.400000   6.500000   1.200000  0.600000  1.000000  1.100000  3.100000  13.100000\n",
      "96    97              Zach Collins      C   25  SAS  63  1441.000000  16.400000  0.599000  0.268000  0.259000  0.085000  0.225000  0.152000  0.180000  0.012000  0.028000  0.174000  0.212000   1.200000  1.000000   2.200000  0.074000  -0.500000  3.000000e-01  -0.200000  0.600000         colliza01  26  22.900000   4.500000   8.700000  0.518000  0.900000   2.300000  0.374000   3.600000   6.400000  0.571000  0.568000   1.700000   2.300000  0.761000  1.800000  4.500000   6.400000   2.900000  0.600000  0.800000  2.000000  3.200000  11.600000\n",
      "97    98           Chance Comanche      C   26  POR   1    21.000000  12.200000  0.518000  0.000000  0.800000  0.109000  0.055000  0.082000  0.000000  0.000000  0.042000  0.000000  0.140000   0.000000  0.000000   0.000000  0.043000  -2.600000 -4.900000e+00  -7.600000  0.000000         comanch01   0  21.000000   3.000000   5.000000  0.600000  0.000000   0.000000  0.000000   3.000000   5.000000  0.600000  0.600000   1.000000   4.000000  0.250000  2.000000  1.000000   3.000000   0.000000  0.000000  1.000000  0.000000  0.000000   7.000000\n",
      "98    99               Mike Conley     PG   35  TOT  67  1352.666667  14.900000  0.588667  0.576667  0.281333  0.019000  0.080000  0.050000  0.283000  0.017000  0.006000  0.126667  0.164000   2.700000  0.966667   3.666667  0.133667   1.066667  0.000000e+00   1.033333  0.966667         conlemi01  66  30.466667   4.000000   9.200000  0.432000  2.066667   5.333333  0.389000   1.933333   3.900000  0.490000  0.544333   2.166667   2.566667  0.836667  0.533333  2.266667   2.766667   6.466667  1.100000  0.200000  1.466667  2.066667  12.200000\n",
      "99   100           Pat Connaughton     SG   30  MIL  61  1443.000000  10.000000  0.531000  0.765000  0.097000  0.038000  0.162000  0.102000  0.069000  0.012000  0.006000  0.070000  0.138000   0.700000  1.800000   2.500000  0.085000  -1.300000  3.000000e-01  -1.100000  0.300000         connapa01  33  23.700000   2.700000   6.900000  0.392000  1.800000   5.300000  0.339000   0.900000   1.600000  0.566000  0.521000   0.400000   0.700000  0.659000  0.800000  3.800000   4.600000   1.300000  0.600000  0.200000  0.500000  1.100000   7.600000\n",
      "100  101              Xavier Cooks     PF   27  WAS  10   126.000000  14.300000  0.586000  0.036000  0.357000  0.147000  0.187000  0.168000  0.064000  0.023000  0.027000  0.198000  0.139000   0.100000  0.200000   0.200000  0.094000  -3.200000 -4.000000e-01  -3.600000 -0.100000         cooksxa01   1  12.600000   1.700000   2.800000  0.607000  0.000000   0.100000  0.000000   1.700000   2.700000  0.630000  0.607000   0.400000   1.000000  0.400000  1.600000  2.200000   3.800000   0.600000  0.600000  0.400000  0.800000  1.300000   3.800000\n",
      "101  102          Robert Covington     PF   32  LAC  48   779.000000  14.200000  0.584000  0.594000  0.175000  0.045000  0.192000  0.119000  0.102000  0.024000  0.037000  0.115000  0.156000   0.700000  1.200000   1.900000  0.117000  -0.500000  2.100000e+00   1.700000  0.700000         covinro01   0  16.200000   2.100000   4.800000  0.445000  1.100000   2.800000  0.397000   1.000000   1.900000  0.516000  0.563000   0.600000   0.800000  0.750000  0.600000  2.800000   3.500000   1.200000  0.800000  0.700000  0.700000  1.800000   6.000000\n",
      "102  103              Torrey Craig     SF   32  PHO  79  1948.000000  11.600000  0.566000  0.506000  0.090000  0.081000  0.163000  0.121000  0.079000  0.013000  0.029000  0.123000  0.130000   1.500000  2.500000   4.000000  0.098000  -1.300000  7.000000e-01  -0.600000  0.700000         craigto01  60  24.700000   2.900000   6.300000  0.456000  1.300000   3.200000  0.395000   1.600000   3.100000  0.518000  0.556000   0.400000   0.600000  0.711000  1.800000  3.600000   5.400000   1.500000  0.600000  0.800000  0.900000  2.300000   7.400000\n",
      "103  104               Jae Crowder     SF   32  MIL  18   340.000000  14.600000  0.624000  0.585000  0.128000  0.054000  0.153000  0.106000  0.106000  0.017000  0.014000  0.066000  0.132000   0.700000  0.500000   1.200000  0.165000   0.100000  1.100000e+00   1.200000  0.300000         crowdja01   3  18.900000   2.500000   5.200000  0.479000  1.300000   3.100000  0.436000   1.200000   2.200000  0.538000  0.606000   0.600000   0.700000  0.833000  0.900000  2.900000   3.800000   1.500000  0.700000  0.300000  0.400000  1.500000   6.900000\n",
      "104  105            Jarrett Culver     SG   23  ATL  10   137.000000   9.500000  0.452000  0.279000  0.302000  0.079000  0.226000  0.152000  0.055000  0.021000  0.012000  0.126000  0.171000  -0.100000  0.200000   0.000000  0.014000  -4.800000  7.000000e-01  -4.100000 -0.100000         culveja01   1  13.700000   1.700000   4.300000  0.395000  0.100000   1.200000  0.083000   1.600000   3.100000  0.516000  0.407000   0.900000   1.300000  0.692000  1.000000  2.800000   3.800000   0.600000  0.600000  0.200000  0.700000  1.400000   4.400000\n",
      "105  106           Cade Cunningham     PG   21  DET  12   400.000000  14.000000  0.492000  0.272000  0.192000  0.032000  0.177000  0.103000  0.307000  0.012000  0.015000  0.138000  0.300000  -0.400000  0.200000  -0.100000 -0.018000  -0.100000 -6.000000e-01  -0.700000  0.100000         cunnica01  12  33.300000   7.800000  18.700000  0.415000  1.400000   5.100000  0.279000   6.300000  13.600000  0.466000  0.453000   3.000000   3.600000  0.837000  1.000000  5.200000   6.200000   6.000000  0.800000  0.600000  3.300000  2.800000  19.900000\n",
      "106  107                Seth Curry     SG   32  BRK  61  1211.000000  12.300000  0.593000  0.517000  0.122000  0.012000  0.079000  0.046000  0.119000  0.015000  0.005000  0.097000  0.192000   0.900000  0.900000   1.800000  0.070000  -1.200000 -9.000000e-01  -2.100000  0.000000         curryse01   7  19.900000   3.400000   7.400000  0.463000  1.500000   3.800000  0.405000   1.900000   3.600000  0.525000  0.568000   0.800000   0.900000  0.927000  0.200000  1.400000   1.600000   1.600000  0.600000  0.100000  0.800000  1.600000   9.200000\n",
      "107  108             Stephen Curry     PG   34  GSW  56  1941.000000  24.100000  0.656000  0.564000  0.248000  0.023000  0.168000  0.097000  0.300000  0.013000  0.009000  0.125000  0.310000   5.800000  2.000000   7.800000  0.192000   7.500000  1.000000e-01   7.600000  4.700000         curryst01  56  34.700000  10.000000  20.200000  0.493000  4.900000  11.400000  0.427000   5.100000   8.800000  0.579000  0.614000   4.600000   5.000000  0.915000  0.700000  5.400000   6.100000   6.300000  0.900000  0.400000  3.200000  2.100000  29.400000\n",
      "108  109             Dyson Daniels     PG   19  NOP  59  1042.000000   8.800000  0.503000  0.413000  0.192000  0.039000  0.165000  0.102000  0.164000  0.020000  0.010000  0.202000  0.116000  -0.100000  1.400000   1.300000  0.061000  -3.400000  1.600000e+00  -1.800000  0.000000         daniedy01  11  17.700000   1.500000   3.500000  0.418000  0.500000   1.500000  0.314000   1.000000   2.100000  0.492000  0.483000   0.400000   0.700000  0.650000  0.600000  2.600000   3.200000   2.300000  0.700000  0.200000  1.000000  1.700000   3.800000\n",
      "109  110             Anthony Davis      C   29  LAL  56  1904.000000  27.800000  0.627000  0.077000  0.462000  0.113000  0.276000  0.197000  0.130000  0.015000  0.051000  0.095000  0.284000   5.500000  3.400000   9.000000  0.226000   4.600000  1.700000e+00   6.300000  4.000000         davisan02  54  34.000000   9.700000  17.200000  0.563000  0.300000   1.300000  0.257000   9.300000  15.900000  0.589000  0.573000   6.200000   7.900000  0.784000  3.500000  9.100000  12.500000   2.600000  1.100000  2.000000  2.200000  2.600000  25.900000\n",
      "110  113                JD Davison     PG   20  BOS  12    66.000000  10.100000  0.478000  0.368000  0.105000  0.034000  0.114000  0.074000  0.224000  0.015000  0.026000  0.168000  0.158000   0.000000  0.100000   0.100000  0.059000  -4.800000  3.000000e-01  -4.500000  0.000000         davisjd01   0   5.500000   0.700000   1.600000  0.421000  0.200000   0.600000  0.286000   0.500000   1.000000  0.500000  0.474000   0.100000   0.200000  0.500000  0.200000  0.600000   0.800000   0.900000  0.200000  0.200000  0.300000  0.400000   1.600000\n",
      "111  111              Johnny Davis     SG   20  WAS  28   423.000000   7.200000  0.446000  0.409000  0.158000  0.027000  0.139000  0.085000  0.092000  0.012000  0.016000  0.085000  0.205000  -0.600000  0.300000  -0.300000 -0.033000  -5.800000 -1.700000e+00  -7.400000 -0.600000         davisjo06   5  15.100000   2.400000   6.100000  0.386000  0.600000   2.500000  0.243000   1.800000   3.600000  0.485000  0.436000   0.500000   1.000000  0.519000  0.400000  2.000000   2.300000   1.000000  0.400000  0.300000  0.600000  1.700000   5.800000\n",
      "112  112             Terence Davis     SG   25  SAC  64   841.000000  12.900000  0.563000  0.668000  0.118000  0.027000  0.161000  0.094000  0.111000  0.024000  0.012000  0.122000  0.222000   0.000000  0.900000   0.900000  0.054000  -1.300000 -3.000000e-01  -1.500000  0.100000         daviste02   5  13.100000   2.400000   5.700000  0.423000  1.400000   3.800000  0.366000   1.000000   1.900000  0.537000  0.545000   0.500000   0.700000  0.791000  0.300000  1.900000   2.200000   1.000000  0.700000  0.200000  0.800000  1.600000   6.700000\n",
      "113  114               Darius Days     PF   23  HOU   4    25.000000  18.300000  0.582000  0.833000  0.167000  0.043000  0.222000  0.132000  0.062000  0.000000  0.039000  0.000000  0.214000   0.100000  0.000000   0.100000  0.156000   4.700000 -1.300000e+00   3.400000  0.000000          daysda01   0   6.300000   1.300000   3.000000  0.417000  0.800000   2.500000  0.300000   0.500000   0.500000  1.000000  0.542000   0.500000   0.500000  1.000000  0.300000  1.300000   1.500000   0.300000  0.000000  0.300000  0.000000  0.500000   3.800000\n",
      "114  115            Dewayne Dedmon      C   33  TOT  38   284.000000  15.533333  0.577333  0.212000  0.297667  0.092333  0.284667  0.187000  0.121333  0.011333  0.048667  0.146667  0.198667   0.200000  0.433333   0.666667  0.114333  -2.833333  1.466667e+00  -1.366667  0.000000         dedmode01   1  10.800000   1.900000   3.700000  0.532333  0.266667   0.833333  0.368333   1.666667   2.833333  0.585333  0.567667   0.700000   1.133333  0.533333  0.866667  2.566667   3.400000   0.833333  0.233333  0.533333  0.700000  1.933333   4.800000\n",
      "115  116       Matthew Dellavedova     PG   32  SAC  32   213.000000   6.700000  0.443000  0.540000  0.140000  0.005000  0.064000  0.035000  0.234000  0.016000  0.000000  0.159000  0.127000   0.000000  0.100000   0.100000  0.021000  -4.400000 -8.000000e-01  -5.200000 -0.200000         dellama01   0   6.700000   0.500000   1.600000  0.340000  0.300000   0.800000  0.333000   0.300000   0.700000  0.348000  0.430000   0.100000   0.200000  0.571000  0.000000  0.400000   0.400000   1.300000  0.200000  0.000000  0.300000  0.600000   1.500000\n",
      "116  117             DeMar DeRozan     SF   33  CHI  74  2682.000000  20.600000  0.592000  0.109000  0.401000  0.015000  0.128000  0.072000  0.223000  0.015000  0.013000  0.091000  0.278000   5.400000  3.200000   8.500000  0.153000   1.700000  3.000000e-01   2.000000  2.600000         derozde01  74  36.200000   8.900000  17.600000  0.504000  0.600000   1.900000  0.324000   8.300000  15.700000  0.526000  0.522000   6.200000   7.100000  0.872000  0.500000  4.200000   4.600000   5.100000  1.100000  0.500000  2.100000  2.500000  24.500000\n",
      "117  118            Moussa Diabaté     PF   21  LAC  22   195.000000  14.200000  0.546000  0.043000  0.340000  0.180000  0.108000  0.144000  0.028000  0.018000  0.036000  0.143000  0.141000   0.200000  0.200000   0.400000  0.105000  -1.800000 -7.000000e-01  -2.500000  0.000000         diabamo01   1   8.900000   1.100000   2.100000  0.511000  0.000000   0.100000  0.500000   1.000000   2.000000  0.511000  0.521000   0.500000   0.700000  0.625000  1.400000  0.900000   2.300000   0.200000  0.300000  0.400000  0.400000  0.700000   2.700000\n",
      "118  119            Mamadi Diakite     PF   26  CLE  22   176.000000   9.000000  0.560000  0.420000  0.040000  0.054000  0.147000  0.100000  0.063000  0.011000  0.047000  0.191000  0.160000  -0.100000  0.300000   0.200000  0.051000  -4.800000  1.600000e+00  -3.300000 -0.100000         diakima01   2   8.000000   1.100000   2.300000  0.480000  0.300000   1.000000  0.333000   0.800000   1.300000  0.586000  0.550000   0.100000   0.100000  1.000000  0.400000  1.000000   1.400000   0.400000  0.200000  0.400000  0.500000  1.200000   2.600000\n",
      "119  120            Hamidou Diallo     SG   24  DET  56   996.000000  15.700000  0.593000  0.056000  0.395000  0.062000  0.157000  0.108000  0.092000  0.026000  0.014000  0.139000  0.218000   0.400000  0.900000   1.300000  0.063000  -1.800000  4.000000e-01  -1.400000  0.100000         diallha01   0  17.800000   3.800000   6.700000  0.573000  0.100000   0.400000  0.238000   3.800000   6.300000  0.593000  0.580000   1.600000   2.600000  0.588000  1.000000  2.400000   3.500000   1.000000  0.900000  0.300000  1.300000  2.200000   9.300000\n",
      "120  121              Gorgui Dieng      C   33  SAS  31   358.000000   9.900000  0.493000  0.641000  0.111000  0.079000  0.254000  0.163000  0.194000  0.005000  0.032000  0.207000  0.179000  -0.200000  0.200000   0.000000  0.001000  -4.000000  1.000000e-01  -3.900000 -0.200000         dienggo01   1  11.500000   1.500000   3.800000  0.385000  0.700000   2.400000  0.280000   0.800000   1.400000  0.571000  0.474000   0.300000   0.400000  0.769000  0.900000  2.600000   3.500000   1.700000  0.100000  0.500000  1.000000  1.800000   3.900000\n",
      "121  122             Ousmane Dieng     SF   19  OKC  39   569.000000   9.300000  0.505000  0.541000  0.127000  0.035000  0.165000  0.099000  0.107000  0.012000  0.011000  0.120000  0.159000  -0.100000  0.600000   0.400000  0.038000  -3.100000 -5.000000e-01  -3.600000 -0.200000         diengou01   1  14.600000   1.900000   4.600000  0.420000  0.700000   2.500000  0.265000   1.300000   2.100000  0.602000  0.492000   0.400000   0.600000  0.652000  0.500000  2.200000   2.700000   1.200000  0.400000  0.200000  0.700000  1.100000   4.900000\n",
      "122  123         Spencer Dinwiddie     PG   29  TOT  79  1816.666667  15.966667  0.565000  0.459000  0.319333  0.011667  0.104333  0.058333  0.294667  0.012667  0.007667  0.109667  0.221667   3.000000  1.200000   4.200000  0.109333   1.433333 -8.666667e-01   0.600000  1.200000         dinwisp01  79  34.633333   5.766667  13.366667  0.432333  2.200000   6.100000  0.354333   3.600000   7.266667  0.496667  0.514667   3.466667   4.266667  0.810000  0.366667  3.200000   3.533333   6.966667  0.866667  0.300000  1.866667  2.366667  17.166667\n",
      "123  124          Donte DiVincenzo     SG   26  GSW  72  1894.000000  12.800000  0.593000  0.700000  0.131000  0.047000  0.140000  0.094000  0.173000  0.024000  0.005000  0.164000  0.151000   1.900000  2.300000   4.200000  0.106000  -0.600000  1.300000e+00   0.700000  1.300000         divindo01  36  26.300000   3.300000   7.500000  0.435000  2.100000   5.300000  0.397000   1.200000   2.300000  0.525000  0.574000   0.800000   1.000000  0.817000  1.100000  3.400000   4.500000   3.500000  1.300000  0.100000  1.600000  1.800000   9.400000\n",
      "124  125               Luka Dončić     PG   23  DAL  66  2391.000000  28.700000  0.609000  0.373000  0.479000  0.026000  0.254000  0.138000  0.423000  0.019000  0.012000  0.119000  0.376000   7.300000  2.900000  10.200000  0.204000   7.600000  1.400000e+00   9.000000  6.600000         doncilu01  66  36.200000  10.900000  22.000000  0.496000  2.800000   8.200000  0.342000   8.100000  13.800000  0.588000  0.560000   7.800000  10.500000  0.742000  0.800000  7.800000   8.600000   8.000000  1.400000  0.500000  3.600000  2.500000  32.400000\n",
      "125  126              Tyler Dorsey     SG   26  DAL   3     8.000000  45.500000  0.900000  0.400000  0.000000  0.144000  0.147000  0.145000  0.000000  0.000000  0.000000  0.000000  0.283000   0.100000  0.000000   0.100000  0.367000  16.500000  1.600000e+00  18.000000  0.000000         dorsety01   0   2.700000   1.300000   1.700000  0.800000  0.300000   0.700000  0.500000   1.000000   1.000000  1.000000  0.900000   0.000000   0.000000  0.000000  0.300000  0.300000   0.700000   0.000000  0.000000  0.000000  0.000000  0.000000   3.000000\n",
      "126  127             Luguentz Dort     SG   23  OKC  74  2272.000000  11.300000  0.513000  0.468000  0.297000  0.059000  0.104000  0.081000  0.092000  0.016000  0.009000  0.085000  0.198000   0.900000  2.100000   2.900000  0.062000  -2.000000 -1.000000e+00  -3.000000 -0.600000          dortlu01  73  30.700000   4.600000  11.800000  0.388000  1.800000   5.500000  0.330000   2.800000   6.300000  0.440000  0.466000   2.700000   3.500000  0.772000  1.700000  2.900000   4.600000   2.100000  1.000000  0.300000  1.200000  3.300000  13.700000\n",
      "127  128               Ayo Dosunmu     SG   23  CHI  80  2098.000000  10.200000  0.567000  0.332000  0.144000  0.025000  0.093000  0.059000  0.132000  0.014000  0.012000  0.140000  0.149000   0.700000  2.200000   2.900000  0.067000  -3.000000  6.000000e-01  -2.500000 -0.200000         dosunay01  51  26.200000   3.500000   7.100000  0.493000  0.700000   2.400000  0.312000   2.800000   4.800000  0.583000  0.545000   0.800000   1.000000  0.805000  0.600000  2.200000   2.800000   2.600000  0.800000  0.300000  1.200000  2.300000   8.600000\n",
      "128  129              Devon Dotson     PG   23  WAS   6    53.000000   4.800000  0.150000  0.400000  0.000000  0.131000  0.081000  0.105000  0.176000  0.046000  0.000000  0.231000  0.107000  -0.100000  0.100000   0.000000 -0.025000  -7.000000  1.800000e+00  -5.300000  0.000000         dotsode01   0   8.800000   0.200000   1.700000  0.100000  0.200000   0.700000  0.250000   0.000000   1.000000  0.000000  0.150000   0.000000   0.000000  0.000000  1.000000  0.700000   1.700000   1.300000  0.800000  0.000000  0.500000  1.500000   0.500000\n",
      "129  130               Jeff Dowtin     PG   25  TOR  25   259.000000   9.900000  0.500000  0.281000  0.158000  0.024000  0.080000  0.050000  0.155000  0.017000  0.011000  0.076000  0.109000   0.200000  0.200000   0.400000  0.076000  -2.800000  9.000000e-01  -1.900000  0.000000         dowtije01   0  10.400000   1.000000   2.300000  0.439000  0.200000   0.600000  0.313000   0.800000   1.600000  0.488000  0.482000   0.200000   0.400000  0.667000  0.200000  0.700000   0.900000   1.200000  0.400000  0.100000  0.200000  0.500000   2.400000\n",
      "130  131                 PJ Dozier     SG   26  SAC  16    79.000000   5.200000  0.333000  0.485000  0.000000  0.015000  0.187000  0.101000  0.163000  0.036000  0.011000  0.132000  0.206000  -0.300000  0.100000  -0.200000 -0.097000  -8.900000  9.000000e-01  -8.100000 -0.100000         doziepj01   0   4.900000   0.600000   2.100000  0.303000  0.100000   1.000000  0.125000   0.500000   1.100000  0.471000  0.333000   0.000000   0.000000  0.000000  0.100000  0.800000   0.900000   0.600000  0.400000  0.100000  0.300000  0.400000   1.400000\n",
      "131  132              Goran Dragić     PG   36  TOT  58   580.000000  10.633333  0.514667  0.444333  0.127333  0.026333  0.090000  0.059000  0.230667  0.008667  0.003000  0.152333  0.216000  -0.166667  0.466667   0.300000  0.028333  -2.166667 -2.100000e+00  -4.266667 -0.266667         dragigo01   0  14.100000   2.300000   5.600000  0.411667  0.933333   2.466667  0.374333   1.366667   3.133333  0.438667  0.495000   0.533333   0.733333  0.782667  0.333333  1.166667   1.500000   2.333333  0.233333  0.066667  1.066667  0.866667   6.100000\n",
      "132  133            Andre Drummond      C   29  CHI  67   849.000000  20.800000  0.606000  0.011000  0.456000  0.187000  0.402000  0.296000  0.057000  0.026000  0.031000  0.186000  0.210000   0.800000  2.000000   2.800000  0.159000  -1.300000  5.000000e-01  -0.800000  0.300000         drumman01   0  12.700000   2.500000   4.100000  0.606000  0.000000   0.000000  0.000000   2.500000   4.000000  0.613000  0.606000   1.000000   1.900000  0.536000  2.100000  4.600000   6.600000   0.500000  0.700000  0.400000  1.100000  1.700000   6.000000\n",
      "133  134              Chris Duarte     SF   25  IND  46   897.000000   8.600000  0.496000  0.523000  0.216000  0.024000  0.119000  0.071000  0.097000  0.013000  0.009000  0.101000  0.190000  -0.500000  0.400000   0.000000 -0.003000  -2.900000 -1.600000e+00  -4.500000 -0.600000         duartch01  12  19.500000   2.700000   7.200000  0.369000  1.200000   3.800000  0.316000   1.500000   3.500000  0.428000  0.452000   1.300000   1.600000  0.847000  0.400000  2.100000   2.500000   1.400000  0.500000  0.200000  0.900000  1.400000   7.900000\n",
      "134  135            David Duke Jr.     SG   23  BRK  23   228.000000   8.300000  0.497000  0.154000  0.218000  0.055000  0.087000  0.071000  0.131000  0.021000  0.004000  0.174000  0.201000  -0.300000  0.200000  -0.100000 -0.011000  -6.300000 -1.000000e+00  -7.300000 -0.300000          dukeda01   0   9.900000   1.600000   3.400000  0.462000  0.000000   0.500000  0.083000   1.500000   2.900000  0.530000  0.468000   0.500000   0.700000  0.706000  0.500000  0.800000   1.300000   0.900000  0.400000  0.000000  0.800000  1.300000   3.700000\n",
      "135  136                 Kris Dunn     PG   28  UTA  22   568.000000  19.100000  0.606000  0.167000  0.245000  0.017000  0.171000  0.095000  0.323000  0.021000  0.015000  0.128000  0.202000   1.300000  0.600000   1.900000  0.162000   0.700000  1.700000e+00   2.400000  0.600000          dunnkr01   3  25.800000   5.300000   9.800000  0.537000  0.800000   1.600000  0.472000   4.500000   8.200000  0.550000  0.576000   1.900000   2.400000  0.774000  0.400000  4.100000   4.500000   5.600000  1.100000  0.500000  1.600000  2.600000  13.200000\n",
      "136  137              Kevin Durant  PF-SF   34  TOT  47  1114.666667  25.466667  0.682333  0.281333  0.384000  0.011667  0.197000  0.105000  0.225667  0.008333  0.034000  0.129667  0.296667   3.133333  1.366667   4.533333  0.194667   6.300000  1.066667e+00   7.333333  2.600000         duranke01  47  35.066667   9.966667  17.700000  0.563000  2.200000   4.933333  0.439000   7.800000  12.766667  0.608333  0.625667   6.100000   6.800000  0.895333  0.400000  6.233333   6.600000   4.600000  0.600000  1.400000  3.100000  1.800000  28.266667\n",
      "137  138               Jalen Duren      C   19  DET  67  1670.000000  17.300000  0.655000  0.005000  0.394000  0.147000  0.251000  0.197000  0.068000  0.013000  0.031000  0.165000  0.143000   2.900000  1.600000   4.500000  0.129000  -0.400000 -4.000000e-01  -0.800000  0.500000         durenja01  31  24.900000   3.900000   5.900000  0.648000  0.000000   0.000000  0.000000   3.900000   5.900000  0.652000  0.648000   1.400000   2.300000  0.611000  3.400000  5.500000   8.900000   1.100000  0.700000  0.900000  1.400000  2.700000   9.100000\n",
      "138  139                Tari Eason     PF   21  HOU  82  1767.000000  15.200000  0.525000  0.261000  0.220000  0.120000  0.189000  0.154000  0.074000  0.026000  0.026000  0.122000  0.193000   0.900000  1.700000   2.600000  0.070000  -1.300000 -4.000000e-01  -1.700000  0.100000         easonta01   5  21.500000   3.600000   8.000000  0.448000  0.700000   2.100000  0.343000   2.900000   6.000000  0.486000  0.493000   1.300000   1.800000  0.752000  2.400000  3.700000   6.000000   1.100000  1.200000  0.600000  1.200000  2.300000   9.300000\n",
      "139  140           Anthony Edwards     SG   21  MIN  79  2842.000000  17.400000  0.564000  0.375000  0.274000  0.019000  0.159000  0.090000  0.193000  0.021000  0.018000  0.130000  0.299000   0.200000  3.600000   3.800000  0.064000   1.000000  0.000000e+00   1.000000  2.100000         edwaran01  79  36.000000   8.900000  19.500000  0.459000  2.700000   7.300000  0.369000   6.300000  12.200000  0.513000  0.528000   4.000000   5.300000  0.756000  0.600000  5.200000   5.800000   4.400000  1.600000  0.700000  3.300000  2.400000  24.600000\n",
      "140  141           Kessler Edwards     SF   22  TOT  36   256.666667   6.933333  0.457333  0.571333  0.144000  0.073333  0.111000  0.092667  0.064000  0.017667  0.013000  0.120667  0.135333   0.033333  0.200000   0.266667  0.009333  -4.066667 -1.266667e+00  -5.333333 -0.133333         edwarke02   4  10.066667   0.933333   2.466667  0.357333  0.433333   1.466667  0.275000   0.500000   1.066667  0.470000  0.437667   0.300000   0.366667  0.667333  0.600000  1.033333   1.600000   0.566667  0.366667  0.166667  0.366667  1.000000   2.600000\n",
      "141  142                Keon Ellis     SG   23  SAC  16    71.000000  14.000000  0.629000  0.750000  0.438000  0.065000  0.064000  0.064000  0.105000  0.034000  0.012000  0.050000  0.121000   0.200000  0.100000   0.200000  0.162000  -0.100000  1.400000e+00   1.300000  0.100000         elliske01   0   4.400000   0.400000   1.000000  0.438000  0.400000   0.800000  0.500000   0.100000   0.300000  0.250000  0.625000   0.300000   0.400000  0.571000  0.300000  0.300000   0.500000   0.400000  0.300000  0.100000  0.100000  0.600000   1.500000\n",
      "142  143               Joel Embiid      C   28  PHI  66  2284.000000  31.400000  0.655000  0.151000  0.581000  0.059000  0.283000  0.173000  0.229000  0.014000  0.046000  0.119000  0.370000   8.400000  3.900000  12.300000  0.259000   6.800000  2.300000e+00   9.200000  6.400000         embiijo01  66  34.600000  11.000000  20.100000  0.548000  1.000000   3.000000  0.330000  10.000000  17.100000  0.587000  0.573000  10.000000  11.700000  0.857000  1.700000  8.400000  10.200000   4.200000  1.000000  1.700000  3.400000  3.100000  33.100000\n",
      "143  144              Drew Eubanks      C   25  POR  78  1584.000000  16.200000  0.666000  0.054000  0.374000  0.095000  0.209000  0.152000  0.092000  0.012000  0.057000  0.147000  0.125000   2.900000  1.600000   4.400000  0.134000  -0.900000  9.000000e-01   0.100000  0.800000         eubandr01  28  20.300000   2.700000   4.300000  0.641000  0.100000   0.200000  0.389000   2.700000   4.100000  0.655000  0.651000   1.100000   1.600000  0.664000  1.700000  3.700000   5.400000   1.300000  0.500000  1.300000  0.900000  2.200000   6.600000\n",
      "144  145            Bruno Fernando      C   24  TOT  39   270.000000  17.600000  0.585333  0.068333  0.411667  0.148667  0.232333  0.190000  0.087000  0.005000  0.075333  0.165333  0.195667   0.333333  0.266667   0.600000  0.102000  -2.733333 -2.000000e-01  -2.900000  0.000000         fernabr01   4   9.066667   1.466667   2.766667  0.540667  0.000000   0.166667  0.000000   1.466667   2.600000  0.585333  0.540667   0.833333   1.166667  0.738333  1.233333  1.866667   3.100000   0.633333  0.133333  0.766667  0.600000  1.633333   3.800000\n",
      "145  146       Dorian Finney-Smith     PF   29  TOT  66  1339.333333   8.966667  0.515333  0.669667  0.115333  0.066667  0.116333  0.091667  0.068000  0.013667  0.016333  0.106333  0.133000   0.366667  1.066667   1.400000  0.047667  -1.966667 -3.000000e-01  -2.266667  0.000000         finnedo01  66  30.100000   2.933333   7.566667  0.386000  1.666667   5.066667  0.332667   1.233333   2.500000  0.497000  0.497667   0.700000   0.866667  0.767333  1.733333  3.066667   4.800000   1.533333  0.833333  0.533333  0.933333  2.233333   8.200000\n",
      "146  147             Malachi Flynn     PG   24  TOR  53   691.000000   8.700000  0.479000  0.550000  0.136000  0.023000  0.108000  0.062000  0.137000  0.015000  0.006000  0.089000  0.174000   0.000000  0.500000   0.500000  0.034000  -3.300000 -8.000000e-01  -4.100000 -0.400000         flynnma01   2  13.000000   1.600000   4.600000  0.360000  0.900000   2.500000  0.353000   0.800000   2.100000  0.367000  0.457000   0.500000   0.600000  0.758000  0.300000  1.200000   1.400000   1.300000  0.400000  0.100000  0.500000  1.200000   4.600000\n",
      "147  148         Simone Fontecchio     SF   27  UTA  52   766.000000   8.000000  0.495000  0.612000  0.141000  0.044000  0.077000  0.061000  0.075000  0.009000  0.009000  0.105000  0.202000  -0.400000  0.300000  -0.100000 -0.004000  -3.000000 -2.100000e+00  -5.200000 -0.600000         fontesi01   6  14.700000   2.200000   6.000000  0.369000  1.200000   3.700000  0.330000   1.000000   2.300000  0.430000  0.470000   0.700000   0.800000  0.795000  0.600000  1.100000   1.700000   0.800000  0.300000  0.200000  0.800000  1.200000   6.300000\n",
      "148  149               Bryn Forbes     SG   29  MIN  25   268.000000   6.200000  0.497000  0.554000  0.181000  0.017000  0.045000  0.031000  0.082000  0.012000  0.007000  0.118000  0.162000  -0.200000  0.200000   0.000000  0.000000  -4.800000 -1.500000e+00  -6.300000 -0.300000         forbebr01   0  10.700000   1.200000   3.300000  0.361000  0.600000   1.800000  0.304000   0.600000   1.500000  0.432000  0.446000   0.600000   0.600000  1.000000  0.200000  0.400000   0.600000   0.700000  0.300000  0.100000  0.500000  0.900000   3.600000\n",
      "149  150             Trent Forrest     PG   24  ATL  23   277.000000   6.100000  0.424000  0.033000  0.050000  0.020000  0.128000  0.073000  0.165000  0.012000  0.006000  0.197000  0.116000  -0.200000  0.200000  -0.100000 -0.011000  -5.400000  2.000000e-01  -5.200000 -0.200000         forretr01   3  12.000000   1.100000   2.600000  0.417000  0.000000   0.100000  0.000000   1.100000   2.500000  0.431000  0.417000   0.100000   0.100000  0.667000  0.200000  1.400000   1.600000   1.700000  0.300000  0.100000  0.700000  0.700000   2.300000\n",
      "150  151        Michael Foster Jr.     PF   20  PHI   1     1.000000   0.000000  0.000000  0.000000  0.000000  0.000000  0.000000  0.000000  0.000000  0.000000  0.000000  0.000000  0.000000   0.000000  0.000000   0.000000  0.010000  -7.200000 -1.900000e+00  -9.200000  0.000000         fostemi02   0   1.000000   0.000000   0.000000  0.000000  0.000000   0.000000  0.000000   0.000000   0.000000  0.000000  0.000000   0.000000   0.000000  0.000000  0.000000  0.000000   0.000000   0.000000  0.000000  0.000000  0.000000  0.000000   0.000000\n",
      "151  152             Evan Fournier     SG   30  NYK  27   459.000000   6.900000  0.471000  0.687000  0.127000  0.010000  0.108000  0.059000  0.106000  0.017000  0.006000  0.112000  0.184000  -0.300000  0.400000   0.100000  0.010000  -4.000000 -1.000000e-01  -4.000000 -0.200000         fournev01   7  17.000000   2.100000   6.100000  0.337000  1.300000   4.200000  0.307000   0.800000   1.900000  0.404000  0.443000   0.700000   0.800000  0.857000  0.100000  1.700000   1.800000   1.300000  0.600000  0.100000  0.800000  1.700000   6.100000\n",
      "152  153              De'Aaron Fox     PG   25  SAC  73  2435.000000  21.800000  0.599000  0.276000  0.331000  0.019000  0.124000  0.072000  0.296000  0.016000  0.008000  0.106000  0.301000   5.500000  1.800000   7.400000  0.146000   3.400000 -9.000000e-01   2.500000  2.700000           foxde01  73  33.400000   9.300000  18.200000  0.512000  1.600000   5.000000  0.324000   7.700000  13.200000  0.584000  0.557000   4.700000   6.000000  0.780000  0.500000  3.600000   4.200000   6.100000  1.100000  0.300000  2.500000  2.400000  25.000000\n",
      "153  154            Markelle Fultz     PG   24  ORL  60  1778.000000  16.600000  0.564000  0.128000  0.211000  0.044000  0.105000  0.074000  0.298000  0.024000  0.014000  0.158000  0.213000   1.700000  2.000000   3.700000  0.100000  -0.100000  7.000000e-01   0.500000  1.200000         fultzma01  60  29.600000   5.800000  11.300000  0.514000  0.500000   1.500000  0.310000   5.400000   9.900000  0.544000  0.534000   1.900000   2.400000  0.783000  1.200000  2.800000   3.900000   5.700000  1.500000  0.400000  2.300000  2.200000  14.000000\n",
      "154  155            Wenyen Gabriel     PF   25  LAL  68  1024.000000  14.400000  0.626000  0.138000  0.323000  0.126000  0.172000  0.150000  0.048000  0.012000  0.029000  0.134000  0.141000   1.500000  1.300000   2.800000  0.132000  -2.300000  1.000000e-01  -2.200000 -0.100000         gabriwe01   2  15.100000   2.300000   3.800000  0.596000  0.100000   0.500000  0.278000   2.100000   3.300000  0.647000  0.615000   0.800000   1.200000  0.619000  1.700000  2.500000   4.200000   0.500000  0.400000  0.500000  0.700000  2.100000   5.500000\n",
      "155  156            Daniel Gafford      C   24  WAS  78  1604.000000  19.700000  0.739000  0.000000  0.473000  0.117000  0.180000  0.150000  0.075000  0.010000  0.052000  0.151000  0.152000   4.200000  1.900000   6.100000  0.184000   0.400000  6.000000e-01   1.000000  1.200000         gaffoda01  47  20.600000   3.700000   5.100000  0.732000  0.000000   0.000000  0.000000   3.700000   5.100000  0.732000  0.732000   1.600000   2.400000  0.679000  2.100000  3.500000   5.600000   1.100000  0.400000  1.300000  1.100000  2.400000   9.000000\n",
      "156  157            Darius Garland     PG   23  CLE  69  2447.000000  18.800000  0.587000  0.365000  0.284000  0.013000  0.076000  0.045000  0.341000  0.017000  0.003000  0.135000  0.269000   4.500000  3.000000   7.600000  0.148000   3.200000 -7.000000e-01   2.400000  2.700000         garlada01  69  35.500000   7.600000  16.400000  0.462000  2.400000   6.000000  0.410000   5.100000  10.400000  0.492000  0.537000   4.000000   4.700000  0.863000  0.400000  2.300000   2.700000   7.800000  1.200000  0.100000  2.900000  2.100000  21.600000\n",
      "157  158              Usman Garuba     PF   20  HOU  75   970.000000  12.900000  0.569000  0.333000  0.266000  0.134000  0.214000  0.174000  0.088000  0.022000  0.029000  0.192000  0.105000   0.900000  0.900000   1.800000  0.091000  -2.000000  6.000000e-01  -1.400000  0.200000         garubus01   1  12.900000   1.100000   2.400000  0.486000  0.300000   0.800000  0.407000   0.800000   1.600000  0.525000  0.554000   0.400000   0.600000  0.617000  1.600000  2.500000   4.100000   0.900000  0.600000  0.400000  0.600000  1.800000   3.000000\n",
      "158  159                Luka Garza      C   24  MIN  28   243.000000  23.000000  0.652000  0.336000  0.448000  0.155000  0.135000  0.145000  0.118000  0.006000  0.007000  0.092000  0.269000   0.900000  0.200000   1.100000  0.211000   2.200000 -2.600000e+00  -0.400000  0.100000         garzalu01   0   8.700000   2.300000   4.100000  0.543000  0.500000   1.400000  0.359000   1.800000   2.800000  0.636000  0.603000   1.500000   1.900000  0.788000  1.200000  1.100000   2.300000   0.600000  0.100000  0.100000  0.500000  1.500000   6.500000\n",
      "159  160                  Rudy Gay     PF   36  UTA  56   816.000000   9.000000  0.475000  0.453000  0.171000  0.044000  0.170000  0.108000  0.094000  0.011000  0.019000  0.107000  0.177000  -0.400000  0.700000   0.300000  0.018000  -3.600000 -4.000000e-01  -4.000000 -0.400000           gayru01   0  14.600000   1.900000   5.100000  0.380000  0.600000   2.300000  0.254000   1.400000   2.800000  0.484000  0.437000   0.800000   0.900000  0.857000  0.600000  2.300000   2.900000   1.000000  0.300000  0.300000  0.700000  1.200000   5.200000\n",
      "160  161               Paul George     SG   32  LAC  56  1939.000000  19.600000  0.588000  0.424000  0.293000  0.026000  0.170000  0.099000  0.242000  0.021000  0.009000  0.134000  0.295000   2.300000  2.300000   4.600000  0.114000   2.400000  3.000000e-01   2.800000  2.300000         georgpa01  56  34.600000   8.200000  17.900000  0.457000  2.800000   7.600000  0.371000   5.400000  10.300000  0.521000  0.536000   4.600000   5.300000  0.871000  0.800000  5.300000   6.100000   5.100000  1.500000  0.400000  3.100000  2.800000  23.800000\n",
      "161  162                Taj Gibson      C   37  WAS  49   480.000000  11.400000  0.585000  0.192000  0.336000  0.077000  0.136000  0.108000  0.096000  0.015000  0.021000  0.153000  0.153000   0.400000  0.500000   0.800000  0.082000  -3.600000  5.000000e-01  -3.200000 -0.100000         gibsota01   2   9.800000   1.300000   2.600000  0.520000  0.200000   0.500000  0.333000   1.200000   2.100000  0.564000  0.552000   0.600000   0.900000  0.714000  0.700000  1.200000   1.900000   0.700000  0.300000  0.200000  0.500000  1.700000   3.400000\n",
      "162  163               Josh Giddey     SG   20  OKC  76  2367.000000  17.100000  0.533000  0.209000  0.130000  0.066000  0.209000  0.136000  0.299000  0.011000  0.012000  0.151000  0.246000   1.300000  2.700000   4.000000  0.081000   1.500000 -3.000000e-01   1.100000  1.900000         giddejo01  76  31.100000   7.100000  14.700000  0.482000  1.000000   3.100000  0.325000   6.100000  11.600000  0.524000  0.516000   1.400000   1.900000  0.731000  1.900000  5.900000   7.900000   6.200000  0.800000  0.400000  2.800000  1.900000  16.600000\n",
      "163  164   Shai Gilgeous-Alexander     PG   24  OKC  68  2416.000000  27.200000  0.626000  0.122000  0.535000  0.026000  0.122000  0.073000  0.257000  0.022000  0.025000  0.101000  0.328000   8.400000  3.000000  11.400000  0.226000   5.800000  1.500000e+00   7.300000  5.600000         gilgesh01  68  35.500000  10.400000  20.300000  0.510000  0.900000   2.500000  0.345000   9.500000  17.800000  0.533000  0.531000   9.800000  10.900000  0.905000  0.900000  4.000000   4.800000   5.500000  1.600000  1.000000  2.800000  2.800000  31.400000\n",
      "164  165              Anthony Gill     PF   30  WAS  59   624.000000  11.100000  0.604000  0.220000  0.508000  0.069000  0.106000  0.088000  0.072000  0.005000  0.016000  0.085000  0.123000   1.000000  0.400000   1.300000  0.101000  -2.400000 -9.000000e-01  -3.300000 -0.200000          gillan01   8  10.600000   1.200000   2.200000  0.538000  0.100000   0.500000  0.138000   1.100000   1.700000  0.650000  0.553000   0.800000   1.100000  0.731000  0.600000  1.100000   1.700000   0.600000  0.100000  0.200000  0.300000  1.200000   3.300000\n",
      "165  166             Jacob Gilyard     PG   24  MEM   1    41.000000   7.300000  0.500000  1.000000  0.000000  0.000000  0.103000  0.052000  0.194000  0.035000  0.000000  0.400000  0.051000   0.000000  0.100000   0.100000  0.079000  -7.800000  1.700000e+00  -6.100000  0.000000         gilyaja01   0  41.000000   1.000000   3.000000  0.333000  1.000000   3.000000  0.333000   0.000000   0.000000  0.000000  0.500000   0.000000   0.000000  0.000000  0.000000  4.000000   4.000000   7.000000  3.000000  0.000000  2.000000  3.000000   3.000000\n",
      "166  167               Rudy Gobert      C   30  MIN  70  2148.000000  18.900000  0.675000  0.005000  0.623000  0.122000  0.298000  0.212000  0.056000  0.012000  0.039000  0.149000  0.163000   4.300000  3.500000   7.800000  0.174000   0.000000  6.000000e-01   0.700000  1.400000         goberru01  70  30.700000   5.100000   7.800000  0.659000  0.000000   0.000000  0.000000   5.100000   7.800000  0.663000  0.659000   3.100000   4.900000  0.644000  3.300000  8.300000  11.600000   1.200000  0.800000  1.400000  1.700000  3.000000  13.400000\n",
      "167  168            Jordan Goodwin     PG   24  WAS  62  1106.000000  14.800000  0.531000  0.334000  0.195000  0.060000  0.143000  0.103000  0.208000  0.026000  0.020000  0.129000  0.173000   0.900000  1.300000   2.200000  0.097000  -0.700000  1.400000e+00   0.700000  0.800000         goodwjo01   7  17.800000   2.500000   5.700000  0.448000  0.600000   1.900000  0.322000   1.900000   3.800000  0.511000  0.501000   0.900000   1.100000  0.768000  0.900000  2.400000   3.300000   2.700000  0.900000  0.400000  0.900000  1.500000   6.600000\n",
      "168  169              Aaron Gordon     PF   27  DEN  68  2055.000000  19.500000  0.617000  0.227000  0.413000  0.094000  0.154000  0.125000  0.142000  0.013000  0.022000  0.098000  0.211000   4.600000  2.200000   6.800000  0.158000   2.400000 -3.000000e-01   2.100000  2.100000         gordoaa01  68  30.200000   6.300000  11.200000  0.564000  0.900000   2.500000  0.347000   5.400000   8.600000  0.628000  0.603000   2.800000   4.600000  0.608000  2.400000  4.100000   6.600000   3.000000  0.800000  0.800000  1.400000  1.900000  16.300000\n",
      "169  170               Eric Gordon     SG   34  TOT  69  1310.000000  12.100000  0.596000  0.564000  0.254667  0.008667  0.067000  0.038000  0.131333  0.011000  0.012333  0.119333  0.176333   1.200000  0.333333   1.533333  0.066000  -0.300000 -1.200000e+00  -1.500000  0.066667         gordoer01  58  27.866667   4.133333   9.233333  0.449333  1.933333   5.133333  0.380333   2.166667   4.066667  0.534000  0.557333   1.966667   2.366667  0.826000  0.233333  1.666667   1.900000   2.566667  0.600000  0.400000  1.433333  1.200000  12.166667\n",
      "170  171           Devonte' Graham     PG   27  TOT  73   892.000000  12.633333  0.552000  0.782333  0.306333  0.015667  0.088000  0.051000  0.195000  0.015667  0.010667  0.098000  0.174333   1.000000  0.666667   1.700000  0.088333   0.233333 -3.333333e-01  -0.100000  0.400000         grahade01   8  20.000000   2.533333   6.766667  0.374000  1.833333   5.200000  0.352333   0.733333   1.566667  0.452333  0.512000   1.600000   2.166667  0.748000  0.300000  1.566667   1.866667   2.966667  0.666667  0.233333  0.833333  1.200000   8.566667\n",
      "171  172              Jerami Grant     PF   28  POR  63  2246.000000  16.000000  0.606000  0.393000  0.375000  0.027000  0.119000  0.072000  0.103000  0.011000  0.021000  0.098000  0.228000   3.100000  1.000000   4.100000  0.087000   1.300000 -1.400000e+00  -0.200000  1.000000         grantje01  63  35.700000   6.900000  14.500000  0.475000  2.300000   5.700000  0.401000   4.600000   8.800000  0.523000  0.554000   4.400000   5.400000  0.813000  0.800000  3.700000   4.500000   2.400000  0.800000  0.800000  1.800000  2.400000  20.500000\n",
      "172  173              RaiQuan Gray     PF   23  BRK   1    35.000000  15.500000  0.621000  0.417000  0.167000  0.099000  0.188000  0.144000  0.290000  0.000000  0.024000  0.237000  0.214000   0.000000  0.000000   0.100000  0.106000  -0.600000 -1.400000e+00  -2.000000  0.000000          grayra01   0  35.000000   6.000000  12.000000  0.500000  2.000000   5.000000  0.400000   4.000000   7.000000  0.571000  0.583000   2.000000   2.000000  1.000000  3.000000  6.000000   9.000000   7.000000  0.000000  1.000000  4.000000  5.000000  16.000000\n",
      "173  174                A.J. Green     SG   23  MIL  35   345.000000  11.500000  0.607000  0.840000  0.032000  0.019000  0.113000  0.068000  0.087000  0.008000  0.000000  0.066000  0.166000   0.500000  0.300000   0.800000  0.111000  -0.300000 -6.000000e-01  -0.900000  0.100000         greenaj01   1   9.900000   1.500000   3.600000  0.424000  1.300000   3.000000  0.419000   0.300000   0.600000  0.450000  0.600000   0.100000   0.100000  1.000000  0.200000  1.100000   1.300000   0.600000  0.200000  0.000000  0.300000  0.900000   4.400000\n",
      "174  175               Danny Green     SG   35  TOT  11    92.000000   8.800000  0.567333  0.748333  0.015333  0.025000  0.088000  0.056333  0.060333  0.019667  0.016333  0.178667  0.179333   0.000000  0.133333   0.100000  0.037333  -3.166667 -3.700743e-17  -3.166667  0.000000         greenda02   0  12.900000   1.800000   4.333333  0.407333  1.366667   3.233333  0.418333   0.433333   1.066667  0.389000  0.564000   0.066667   0.066667  1.000000  0.300000  1.000000   1.300000   0.566667  0.466667  0.233333  0.933333  1.600000   5.000000\n",
      "175  176            Draymond Green     PF   32  GSW  73  2297.000000  12.200000  0.592000  0.276000  0.228000  0.032000  0.216000  0.126000  0.278000  0.015000  0.023000  0.281000  0.132000   1.600000  3.100000   4.700000  0.098000  -1.800000  2.600000e+00   0.800000  1.600000         greendr01  73  31.500000   3.400000   6.500000  0.527000  0.500000   1.800000  0.305000   2.900000   4.700000  0.612000  0.570000   1.100000   1.500000  0.713000  0.900000  6.300000   7.200000   6.800000  1.000000  0.800000  2.800000  3.100000   8.500000\n",
      "176  178            JaMychal Green     PF   32  GSW  57   797.000000  15.500000  0.650000  0.440000  0.266000  0.101000  0.180000  0.141000  0.089000  0.015000  0.025000  0.156000  0.175000   1.200000  1.000000   2.200000  0.133000  -0.700000  2.000000e-01  -0.500000  0.300000         greenja01   1  14.000000   2.400000   4.400000  0.540000  0.700000   1.900000  0.378000   1.600000   2.500000  0.667000  0.623000   0.900000   1.200000  0.776000  1.300000  2.300000   3.600000   0.900000  0.400000  0.400000  0.900000  1.800000   6.400000\n",
      "177  179             Javonte Green     SG   29  CHI  32   480.000000  14.500000  0.646000  0.324000  0.417000  0.065000  0.142000  0.104000  0.064000  0.024000  0.042000  0.135000  0.136000   0.600000  0.800000   1.400000  0.142000  -1.100000  2.600000e+00   1.400000  0.400000         greenja02   1  15.000000   1.900000   3.400000  0.565000  0.400000   1.100000  0.371000   1.500000   2.300000  0.658000  0.625000   0.900000   1.400000  0.667000  0.800000  1.900000   2.800000   0.700000  0.800000  0.700000  0.600000  1.600000   5.200000\n",
      "178  177               Jalen Green     SG   20  HOU  76  2602.000000  14.500000  0.538000  0.408000  0.341000  0.018000  0.103000  0.060000  0.173000  0.011000  0.007000  0.113000  0.281000   1.400000  0.500000   1.800000  0.034000   0.500000 -2.600000e+00  -2.100000  0.000000         greenja05  76  34.200000   7.400000  17.900000  0.416000  2.500000   7.300000  0.338000   5.000000  10.600000  0.471000  0.485000   4.800000   6.100000  0.786000  0.600000  3.200000   3.700000   3.700000  0.800000  0.200000  2.600000  1.700000  22.100000\n",
      "179  180                Jeff Green     PF   36  DEN  56  1091.000000  11.000000  0.576000  0.317000  0.357000  0.041000  0.109000  0.076000  0.083000  0.008000  0.014000  0.108000  0.170000   0.800000  0.800000   1.700000  0.074000  -2.400000 -1.000000e+00  -3.400000 -0.400000         greenje02   4  19.500000   2.900000   5.900000  0.488000  0.500000   1.900000  0.288000   2.300000   4.000000  0.580000  0.534000   1.600000   2.100000  0.744000  0.700000  1.900000   2.600000   1.200000  0.300000  0.300000  0.800000  1.800000   7.800000\n",
      "180  181                Josh Green     SG   22  DAL  60  1539.000000  11.200000  0.645000  0.442000  0.246000  0.041000  0.097000  0.069000  0.097000  0.014000  0.003000  0.145000  0.146000   1.700000  0.900000   2.600000  0.082000  -1.900000 -6.000000e-01  -2.400000 -0.200000         greenjo02  21  25.700000   3.400000   6.400000  0.537000  1.100000   2.800000  0.402000   2.300000   3.600000  0.643000  0.626000   1.100000   1.600000  0.723000  0.900000  2.100000   3.000000   1.700000  0.700000  0.100000  1.200000  2.600000   9.100000\n",
      "181  182                AJ Griffin     SF   19  ATL  72  1401.000000  12.600000  0.577000  0.486000  0.088000  0.029000  0.092000  0.060000  0.070000  0.014000  0.007000  0.071000  0.179000   1.300000  0.900000   2.200000  0.075000  -0.300000 -5.000000e-01  -0.800000  0.400000         griffaj01  12  19.500000   3.400000   7.400000  0.465000  1.400000   3.600000  0.390000   2.000000   3.800000  0.536000  0.560000   0.600000   0.700000  0.894000  0.500000  1.600000   2.100000   1.000000  0.600000  0.200000  0.600000  1.200000   8.900000\n",
      "182  183             Blake Griffin      C   33  BOS  41   569.000000  13.100000  0.590000  0.508000  0.246000  0.092000  0.204000  0.149000  0.142000  0.012000  0.014000  0.132000  0.127000   1.000000  0.800000   1.800000  0.153000  -1.400000  1.500000e+00   0.100000  0.300000         griffbl01  16  13.900000   1.500000   3.200000  0.485000  0.600000   1.600000  0.348000   1.000000   1.600000  0.625000  0.573000   0.500000   0.800000  0.656000  1.100000  2.600000   3.800000   1.500000  0.300000  0.200000  0.500000  1.800000   4.100000\n",
      "183  184            Quentin Grimes     SG   22  NYK  71  2121.000000  11.700000  0.619000  0.676000  0.163000  0.025000  0.094000  0.059000  0.097000  0.011000  0.012000  0.097000  0.144000   3.200000  1.600000   4.800000  0.108000  -0.300000  1.000000e-01  -0.100000  1.000000         grimequ01  66  29.900000   4.000000   8.500000  0.468000  2.200000   5.700000  0.386000   1.800000   2.700000  0.641000  0.599000   1.100000   1.400000  0.796000  0.700000  2.500000   3.200000   2.100000  0.700000  0.400000  1.000000  2.500000  11.300000\n",
      "184  185             Rui Hachimura     PF   24  TOT  63   977.333333  13.166667  0.555667  0.274000  0.206000  0.040667  0.165000  0.105000  0.058333  0.006000  0.015000  0.075333  0.202000   0.366667  0.833333   1.200000  0.059667  -1.300000 -9.666667e-01  -2.233333 -0.066667         hachiru01   9  23.333333   4.533333   9.333333  0.486333  0.800000   2.566667  0.317333   3.733333   6.733333  0.550333  0.529667   1.400000   1.866667  0.739667  0.800000  3.666667   4.500000   0.933333  0.300000  0.400000  0.833333  1.133333  11.266667\n",
      "185  186         Tyrese Haliburton     PG   22  IND  56  1883.000000  23.600000  0.624000  0.478000  0.239000  0.019000  0.101000  0.060000  0.476000  0.023000  0.011000  0.132000  0.238000   6.400000  1.200000   7.600000  0.195000   7.000000  2.000000e-01   7.200000  4.400000         halibty01  56  33.600000   7.400000  15.000000  0.490000  2.900000   7.200000  0.400000   4.500000   7.800000  0.572000  0.586000   3.100000   3.600000  0.871000  0.600000  3.100000   3.700000  10.400000  1.600000  0.400000  2.500000  1.200000  20.700000\n",
      "186  187               Jordan Hall     SF   21  SAS   9    83.000000   5.500000  0.438000  0.536000  0.321000  0.038000  0.123000  0.079000  0.170000  0.006000  0.000000  0.180000  0.194000  -0.100000  0.000000  -0.100000 -0.077000  -4.700000 -2.900000e+00  -7.600000 -0.100000          halljo02   0   9.200000   1.000000   3.100000  0.321000  0.300000   1.700000  0.200000   0.700000   1.400000  0.462000  0.375000   0.800000   1.000000  0.778000  0.300000  1.000000   1.300000   1.200000  0.100000  0.000000  0.800000  0.700000   3.100000\n",
      "187  188              R.J. Hampton     PG   21  TOT  47   500.000000  10.866667  0.558667  0.488667  0.321000  0.026333  0.104667  0.064667  0.104333  0.017333  0.011000  0.134333  0.178000   0.066667  0.366667   0.466667  0.043000  -2.366667 -5.666667e-01  -2.866667 -0.100000         hamptrj01   3  16.133333   2.200000   5.100000  0.430667  0.900000   2.500000  0.352667   1.300000   2.600000  0.504000  0.517000   1.200000   1.633333  0.751667  0.366667  1.533333   1.900000   1.133333  0.566667  0.200000  0.900000  1.100000   6.466667\n",
      "188  189          Tim Hardaway Jr.     SG   30  DAL  71  2152.000000  12.100000  0.554000  0.649000  0.195000  0.011000  0.126000  0.068000  0.090000  0.011000  0.005000  0.061000  0.206000   1.000000  1.300000   2.300000  0.051000  -0.300000 -1.500000e+00  -1.800000  0.100000         hardati02  45  30.300000   4.800000  11.900000  0.401000  3.000000   7.700000  0.385000   1.800000   4.200000  0.431000  0.527000   1.800000   2.300000  0.770000  0.300000  3.200000   3.500000   1.800000  0.700000  0.200000  0.800000  1.700000  14.400000\n",
      "189  190              James Harden     PG   33  PHI  58  2135.000000  21.600000  0.607000  0.496000  0.429000  0.023000  0.171000  0.098000  0.433000  0.016000  0.014000  0.163000  0.250000   5.800000  2.600000   8.400000  0.188000   5.100000  3.000000e-01   5.400000  4.000000         hardeja01  58  36.800000   6.400000  14.500000  0.441000  2.800000   7.200000  0.385000   3.600000   7.300000  0.495000  0.536000   5.400000   6.200000  0.867000  0.700000  5.400000   6.100000  10.700000  1.200000  0.500000  3.400000  1.900000  21.000000\n",
      "190  191               Jaden Hardy     SG   20  DAL  48   708.000000  14.600000  0.571000  0.468000  0.237000  0.018000  0.130000  0.073000  0.149000  0.012000  0.009000  0.111000  0.264000   0.200000  0.500000   0.700000  0.048000  -0.400000 -1.900000e+00  -2.300000  0.000000         hardyja02   5  14.800000   3.000000   6.900000  0.438000  1.300000   3.300000  0.404000   1.700000   3.700000  0.469000  0.533000   1.400000   1.600000  0.823000  0.200000  1.600000   1.900000   1.400000  0.400000  0.100000  1.000000  1.300000   8.800000\n",
      "191  192            Ron Harper Jr.     SF   22  TOR   9    48.000000  15.700000  0.608000  0.563000  0.063000  0.066000  0.102000  0.083000  0.119000  0.000000  0.020000  0.000000  0.146000   0.100000  0.000000   0.200000  0.158000   2.500000 -1.300000e+00   1.200000  0.000000         harpero02   0   5.300000   0.900000   1.800000  0.500000  0.300000   1.000000  0.333000   0.600000   0.800000  0.714000  0.594000   0.100000   0.100000  1.000000  0.300000  0.400000   0.800000   0.400000  0.000000  0.100000  0.000000  0.300000   2.200000\n",
      "192  193          Montrezl Harrell      C   29  PHI  57   681.000000  17.600000  0.631000  0.029000  0.483000  0.118000  0.157000  0.138000  0.074000  0.012000  0.034000  0.121000  0.189000   1.300000  0.800000   2.200000  0.153000  -0.900000 -4.000000e-01  -1.300000  0.100000         harremo01   7  11.900000   2.200000   3.700000  0.598000  0.000000   0.100000  0.000000   2.200000   3.600000  0.616000  0.598000   1.200000   1.800000  0.693000  1.200000  1.600000   2.800000   0.600000  0.300000  0.400000  0.600000  1.300000   5.600000\n",
      "193  194               Gary Harris     SG   28  ORL  48  1184.000000  10.500000  0.620000  0.710000  0.098000  0.020000  0.074000  0.047000  0.069000  0.018000  0.010000  0.080000  0.126000   1.300000  1.100000   2.300000  0.095000  -1.300000  7.000000e-01  -0.700000  0.400000         harriga01  42  24.700000   2.900000   6.400000  0.450000  2.000000   4.500000  0.431000   0.900000   1.900000  0.494000  0.603000   0.600000   0.600000  0.900000  0.400000  1.600000   2.000000   1.200000  0.900000  0.300000  0.600000  1.900000   8.300000\n",
      "194  195                Joe Harris     SG   31  BRK  74  1527.000000  10.600000  0.621000  0.757000  0.064000  0.017000  0.101000  0.060000  0.091000  0.011000  0.007000  0.083000  0.143000   1.500000  1.100000   2.600000  0.083000  -0.600000 -6.000000e-01  -1.200000  0.300000         harrijo01  33  20.600000   2.700000   5.900000  0.457000  1.900000   4.500000  0.426000   0.800000   1.400000  0.551000  0.618000   0.200000   0.400000  0.643000  0.300000  1.900000   2.200000   1.400000  0.500000  0.200000  0.600000  1.900000   7.600000\n",
      "195  196              Kevon Harris     SG   25  ORL  34   457.000000   9.200000  0.564000  0.402000  0.383000  0.069000  0.104000  0.087000  0.047000  0.018000  0.011000  0.144000  0.137000   0.200000  0.400000   0.600000  0.065000  -3.500000 -1.000000e-01  -3.600000 -0.200000         harrike01   0  13.400000   1.400000   3.100000  0.439000  0.500000   1.300000  0.372000   0.900000   1.900000  0.484000  0.514000   0.900000   1.200000  0.756000  0.800000  1.200000   2.100000   0.500000  0.500000  0.100000  0.600000  1.600000   4.100000\n",
      "196  198        Shaquille Harrison     SG   29  POR   5   120.000000  17.900000  0.516000  0.278000  0.417000  0.010000  0.203000  0.105000  0.349000  0.045000  0.015000  0.123000  0.176000   0.200000  0.200000   0.300000  0.137000  -2.500000  2.500000e+00   0.100000  0.100000         harrish01   0  24.000000   3.000000   7.200000  0.417000  0.600000   2.000000  0.300000   2.400000   5.200000  0.462000  0.458000   2.200000   3.000000  0.733000  0.200000  4.200000   4.400000   6.000000  2.200000  0.400000  1.200000  2.400000   8.800000\n",
      "197  197             Tobias Harris     PF   30  PHI  74  2436.000000  14.800000  0.602000  0.383000  0.153000  0.033000  0.170000  0.103000  0.114000  0.014000  0.015000  0.090000  0.182000   3.100000  2.800000   5.900000  0.116000   0.600000  1.000000e-01   0.700000  1.700000         harrito02  74  32.900000   5.700000  11.400000  0.501000  1.700000   4.400000  0.389000   4.000000   7.000000  0.570000  0.575000   1.500000   1.700000  0.876000  0.900000  4.800000   5.700000   2.500000  0.900000  0.500000  1.200000  2.000000  14.700000\n",
      "198  200        Isaiah Hartenstein      C   24  NYK  82  1626.000000  14.200000  0.567000  0.113000  0.217000  0.141000  0.222000  0.181000  0.083000  0.016000  0.037000  0.156000  0.112000   2.200000  2.400000   4.600000  0.136000  -1.500000  1.200000e+00  -0.300000  0.700000         harteis01   8  19.800000   2.100000   4.000000  0.535000  0.100000   0.500000  0.216000   2.000000   3.500000  0.576000  0.547000   0.600000   0.900000  0.676000  2.500000  4.000000   6.500000   1.200000  0.600000  0.800000  0.800000  2.600000   5.000000\n",
      "199  199                 Josh Hart  SF-SG   27  TOT  76  1636.000000  14.633333  0.637000  0.318333  0.343000  0.066000  0.206333  0.135667  0.161000  0.018333  0.009333  0.165667  0.126000   2.533333  1.466667   4.000000  0.129333   0.100000  1.266667e+00   1.366667  1.200000          hartjo01  52  31.900000   3.633333   6.733333  0.539667  0.866667   2.166667  0.398333   2.766667   4.600000  0.604667  0.603667   1.733333   2.300000  0.756667  1.900000  5.800000   7.666667   3.766667  1.233333  0.333333  1.500000  2.566667   9.833333\n",
      "200  201             Udonis Haslem      C   42  MIA   7    71.000000   6.200000  0.433000  0.310000  0.172000  0.064000  0.120000  0.091000  0.000000  0.007000  0.029000  0.031000  0.201000  -0.100000  0.100000   0.000000 -0.009000  -8.200000 -3.900000e+00 -12.100000 -0.200000         hasleud01   1  10.100000   1.400000   4.100000  0.345000  0.400000   1.300000  0.333000   1.000000   2.900000  0.350000  0.397000   0.600000   0.700000  0.800000  0.600000  1.000000   1.600000   0.000000  0.100000  0.300000  0.100000  1.600000   3.900000\n",
      "201  202                Sam Hauser     PF   25  BOS  80  1290.000000  12.700000  0.634000  0.846000  0.043000  0.030000  0.141000  0.086000  0.076000  0.011000  0.014000  0.069000  0.147000   1.800000  1.600000   3.400000  0.128000   0.600000  4.000000e-01   1.000000  1.000000         hausesa01   8  16.100000   2.300000   5.000000  0.455000  1.800000   4.200000  0.418000   0.500000   0.800000  0.656000  0.631000   0.200000   0.200000  0.706000  0.400000  2.100000   2.600000   0.900000  0.400000  0.300000  0.400000  1.200000   6.400000\n",
      "202  203              Jaxson Hayes      C   22  NOP  47   610.000000  13.700000  0.605000  0.186000  0.532000  0.073000  0.173000  0.123000  0.077000  0.016000  0.030000  0.139000  0.157000   0.600000  0.900000   1.500000  0.118000  -2.200000  1.000000e+00  -1.200000  0.100000         hayesja02   2  13.000000   1.800000   3.300000  0.551000  0.100000   0.600000  0.103000   1.800000   2.700000  0.654000  0.561000   1.200000   1.800000  0.699000  0.800000  2.000000   2.800000   0.700000  0.400000  0.400000  0.700000  1.400000   5.000000\n",
      "203  204             Killian Hayes     PG   21  DET  76  2154.000000  10.200000  0.455000  0.351000  0.137000  0.014000  0.102000  0.057000  0.323000  0.023000  0.011000  0.167000  0.205000  -1.900000  1.400000  -0.500000 -0.012000  -3.300000 -5.000000e-01  -3.800000 -1.000000         hayeski01  56  28.300000   4.000000  10.700000  0.377000  1.100000   3.800000  0.280000   3.000000   7.000000  0.429000  0.426000   1.200000   1.500000  0.821000  0.400000  2.500000   2.900000   6.200000  1.400000  0.400000  2.300000  2.900000  10.300000\n",
      "204  205            Gordon Hayward     SF   32  CHO  50  1577.000000  13.500000  0.563000  0.275000  0.274000  0.022000  0.126000  0.073000  0.193000  0.013000  0.007000  0.132000  0.200000   0.800000  1.100000   2.000000  0.059000  -1.100000 -3.000000e-01  -1.400000  0.200000         haywago01  50  31.500000   5.500000  11.600000  0.475000  1.000000   3.200000  0.325000   4.500000   8.400000  0.532000  0.520000   2.600000   3.200000  0.811000  0.700000  3.600000   4.300000   4.100000  0.800000  0.200000  2.000000  1.400000  14.700000\n",
      "205  206       Juancho Hernangómez     PF   27  TOR  42   614.000000   7.600000  0.504000  0.588000  0.140000  0.046000  0.191000  0.113000  0.052000  0.013000  0.009000  0.110000  0.094000   0.100000  0.600000   0.700000  0.053000  -3.500000  2.000000e-01  -3.300000 -0.200000         hernaju01  10  14.600000   1.100000   2.700000  0.421000  0.400000   1.600000  0.254000   0.700000   1.100000  0.660000  0.496000   0.200000   0.400000  0.563000  0.600000  2.300000   2.900000   0.600000  0.400000  0.100000  0.400000  1.000000   2.900000\n",
      "206  207         Willy Hernangómez      C   28  NOP  38   458.000000  20.700000  0.610000  0.065000  0.615000  0.144000  0.301000  0.223000  0.107000  0.018000  0.027000  0.154000  0.238000   0.800000  0.800000   1.600000  0.171000  -0.200000  5.000000e-01   0.300000  0.300000         hernawi01   2  12.100000   2.300000   4.400000  0.527000  0.100000   0.300000  0.273000   2.300000   4.200000  0.544000  0.536000   2.100000   2.700000  0.779000  1.500000  3.200000   4.700000   0.900000  0.400000  0.300000  1.000000  1.700000   6.900000\n",
      "207  208               Tyler Herro     SG   23  MIA  67  2337.000000  15.300000  0.566000  0.484000  0.164000  0.013000  0.173000  0.090000  0.199000  0.011000  0.007000  0.117000  0.256000   1.100000  2.400000   3.500000  0.072000   1.500000 -8.000000e-01   0.600000  1.600000         herroty01  67  34.900000   7.300000  16.600000  0.439000  3.000000   8.000000  0.378000   4.200000   8.500000  0.497000  0.531000   2.500000   2.700000  0.934000  0.400000  5.000000   5.400000   4.200000  0.800000  0.200000  2.400000  1.500000  20.100000\n",
      "208  209               Buddy Hield     SF   30  IND  80  2482.000000  15.400000  0.614000  0.652000  0.124000  0.030000  0.149000  0.089000  0.133000  0.018000  0.009000  0.113000  0.208000   2.700000  1.600000   4.400000  0.085000   2.500000 -6.000000e-01   1.900000  2.400000         hieldbu01  73  31.000000   5.900000  13.000000  0.458000  3.600000   8.500000  0.425000   2.300000   4.500000  0.518000  0.596000   1.300000   1.600000  0.822000  0.800000  4.200000   5.000000   2.800000  1.200000  0.300000  1.700000  2.000000  16.800000\n",
      "209  210         Haywood Highsmith     SF   26  MIA  54   969.000000   8.500000  0.517000  0.505000  0.130000  0.067000  0.164000  0.114000  0.062000  0.019000  0.018000  0.165000  0.125000  -0.300000  1.300000   0.900000  0.046000  -3.700000  7.000000e-01  -3.000000 -0.300000         highsha01  11  17.900000   1.700000   4.000000  0.431000  0.700000   2.000000  0.339000   1.000000   2.000000  0.523000  0.516000   0.200000   0.500000  0.464000  1.100000  2.400000   3.500000   0.800000  0.700000  0.300000  0.800000  1.500000   4.400000\n",
      "210  211               George Hill     PG   36  TOT  46   556.000000  11.500000  0.645333  0.583667  0.314667  0.018000  0.091333  0.055333  0.167333  0.016333  0.008667  0.153000  0.113333   0.733333  0.533333   1.266667  0.114333  -2.000000  6.666667e-01  -1.300000  0.100000          hillge01   1  17.433333   1.700000   3.500000  0.492000  0.800000   2.033333  0.397667   0.900000   1.466667  0.618667  0.609000   0.866667   1.100000  0.797333  0.300000  1.500000   1.766667   2.266667  0.566667  0.166667  0.700000  1.233333   5.066667\n",
      "211  212              Malcolm Hill     SF   27  CHI   5     9.000000  15.400000  0.625000  0.750000  0.000000  0.000000  0.372000  0.189000  0.000000  0.000000  0.000000  0.000000  0.197000   0.000000  0.000000   0.000000  0.125000   1.600000  8.000000e-01   2.400000  0.000000          hillma01   0   1.800000   0.400000   0.800000  0.500000  0.200000   0.600000  0.333000   0.200000   0.200000  1.000000  0.625000   0.000000   0.000000  0.000000  0.000000  0.600000   0.600000   0.000000  0.000000  0.000000  0.000000  0.200000   1.000000\n",
      "212  213             Aaron Holiday     PG   26  ATL  63   845.000000   9.400000  0.528000  0.400000  0.145000  0.032000  0.064000  0.048000  0.130000  0.021000  0.012000  0.133000  0.134000   0.300000  0.600000   0.900000  0.053000  -2.900000  9.000000e-01  -2.000000  0.000000         holidaa01   6  13.400000   1.500000   3.500000  0.418000  0.600000   1.400000  0.409000   0.900000   2.100000  0.424000  0.500000   0.400000   0.500000  0.844000  0.400000  0.800000   1.200000   1.400000  0.600000  0.200000  0.600000  1.300000   3.900000\n",
      "213  214              Jrue Holiday     PG   32  MIL  67  2183.000000  19.200000  0.586000  0.402000  0.173000  0.039000  0.120000  0.081000  0.344000  0.017000  0.009000  0.152000  0.250000   3.900000  2.800000   6.700000  0.148000   3.000000  1.000000e-01   3.100000  2.800000         holidjr01  65  32.600000   7.300000  15.300000  0.479000  2.400000   6.100000  0.384000   5.000000   9.100000  0.542000  0.556000   2.300000   2.600000  0.859000  1.200000  3.900000   5.100000   7.400000  1.200000  0.400000  2.900000  1.700000  19.300000\n",
      "214  215            Justin Holiday     SG   33  TOT  46   470.666667   6.700000  0.492333  0.702000  0.046667  0.008333  0.084667  0.046000  0.075333  0.014333  0.023667  0.097333  0.141000  -0.266667  0.333333   0.100000  0.008000  -3.900000  0.000000e+00  -3.933333 -0.233333         holidju01   2  15.466667   1.666667   4.433333  0.376000  1.000000   3.100000  0.317667   0.666667   1.333333  0.515667  0.487333   0.133333   0.200000  0.625000  0.133333  1.166667   1.266667   0.900000  0.466667  0.433333  0.500000  1.500000   4.466667\n",
      "215  216            Richaun Holmes      C   29  SAC  42   348.000000  12.900000  0.668000  0.090000  0.213000  0.096000  0.166000  0.131000  0.035000  0.004000  0.028000  0.126000  0.137000   0.600000  0.300000   0.800000  0.113000  -2.000000 -9.000000e-01  -2.900000 -0.100000         holmeri01   1   8.300000   1.300000   2.100000  0.618000  0.100000   0.200000  0.625000   1.200000   1.900000  0.617000  0.646000   0.400000   0.500000  0.789000  0.700000  1.200000   1.900000   0.200000  0.100000  0.300000  0.300000  1.200000   3.100000\n",
      "216  217                Al Horford      C   36  BOS  63  1922.000000  13.800000  0.631000  0.678000  0.044000  0.042000  0.177000  0.111000  0.132000  0.008000  0.027000  0.070000  0.119000   3.600000  2.700000   6.300000  0.157000   1.600000  1.700000e+00   3.300000  2.500000         horfoal01  63  30.500000   3.600000   7.600000  0.476000  2.300000   5.200000  0.446000   1.300000   2.400000  0.539000  0.627000   0.200000   0.300000  0.714000  1.200000  5.000000   6.200000   3.000000  0.500000  1.000000  0.600000  1.900000   9.800000\n",
      "217  218       Talen Horton-Tucker     SG   22  UTA  65  1313.000000  13.700000  0.508000  0.331000  0.274000  0.034000  0.137000  0.086000  0.274000  0.015000  0.019000  0.155000  0.259000  -0.300000  1.100000   0.800000  0.029000  -1.100000 -5.000000e-01  -1.600000  0.100000         hortota01  20  20.200000   4.000000   9.400000  0.419000  0.900000   3.100000  0.286000   3.100000   6.300000  0.485000  0.467000   1.900000   2.600000  0.750000  0.600000  2.600000   3.200000   3.800000  0.600000  0.400000  1.900000  1.700000  10.700000\n",
      "218  219          Danuel House Jr.     SF   29  PHI  56   807.000000   9.400000  0.600000  0.558000  0.305000  0.013000  0.122000  0.069000  0.075000  0.009000  0.010000  0.104000  0.138000   0.600000  0.700000   1.300000  0.075000  -2.400000 -5.000000e-01  -3.000000 -0.200000         houseda01   5  14.400000   1.700000   3.500000  0.472000  0.700000   2.000000  0.336000   1.000000   1.600000  0.644000  0.566000   0.800000   1.100000  0.750000  0.200000  1.500000   1.700000   0.800000  0.300000  0.200000  0.500000  1.200000   4.800000\n",
      "219  220             Caleb Houstan     SF   20  ORL  51   812.000000   6.200000  0.508000  0.747000  0.099000  0.047000  0.091000  0.069000  0.049000  0.007000  0.008000  0.087000  0.110000   0.100000  0.500000   0.700000  0.039000  -3.100000 -9.000000e-01  -4.000000 -0.400000         houstca01   4  15.900000   1.300000   3.600000  0.363000  0.900000   2.700000  0.338000   0.400000   0.900000  0.435000  0.489000   0.300000   0.400000  0.833000  0.700000  1.300000   1.900000   0.600000  0.200000  0.100000  0.400000  1.200000   3.800000\n",
      "220  221            Trevor Hudgins     PG   23  HOU   5    28.000000   4.200000  0.436000  0.889000  0.333000  0.000000  0.000000  0.000000  0.139000  0.000000  0.000000  0.088000  0.168000   0.000000  0.000000   0.000000 -0.035000  -3.800000 -4.700000e+00  -8.400000  0.000000         hudgitr01   0   5.600000   0.400000   1.800000  0.222000  0.400000   1.600000  0.250000   0.000000   0.200000  0.000000  0.333000   0.600000   0.600000  1.000000  0.000000  0.000000   0.000000   0.600000  0.000000  0.000000  0.200000  0.200000   1.800000\n",
      "221  222             Kevin Huerter     SG   24  SAC  75  2203.000000  15.200000  0.617000  0.589000  0.151000  0.022000  0.108000  0.065000  0.141000  0.017000  0.010000  0.095000  0.199000   3.300000  1.700000   4.900000  0.107000   1.400000 -3.000000e-01   1.000000  1.700000         huertke01  75  29.400000   5.600000  11.500000  0.485000  2.700000   6.800000  0.402000   2.900000   4.700000  0.604000  0.603000   1.300000   1.700000  0.725000  0.600000  2.800000   3.300000   2.900000  1.100000  0.300000  1.300000  2.400000  15.200000\n",
      "222  223                  Jay Huff      C   24  WAS   7    95.000000  22.300000  0.796000  0.480000  0.640000  0.073000  0.169000  0.123000  0.147000  0.015000  0.036000  0.135000  0.169000   0.400000  0.100000   0.500000  0.261000   2.800000  1.200000e+00   4.000000  0.100000          huffja01   0  13.600000   2.100000   3.600000  0.600000  0.900000   1.700000  0.500000   1.300000   1.900000  0.692000  0.720000   2.100000   2.300000  0.938000  0.900000  2.100000   3.000000   1.400000  0.400000  0.600000  0.700000  2.100000   7.300000\n",
      "223  224           De'Andre Hunter     SF   25  ATL  67  2126.000000  11.500000  0.563000  0.348000  0.252000  0.023000  0.124000  0.073000  0.060000  0.008000  0.007000  0.082000  0.197000   1.400000  1.200000   2.500000  0.057000  -1.900000 -1.400000e+00  -3.300000 -0.700000         huntede01  67  31.700000   5.700000  12.300000  0.461000  1.500000   4.300000  0.350000   4.200000   8.000000  0.521000  0.522000   2.600000   3.100000  0.826000  0.700000  3.600000   4.200000   1.400000  0.500000  0.300000  1.200000  3.000000  15.400000\n",
      "224  225              Bones Hyland     PG   22  TOT  56   723.333333  15.266667  0.531000  0.549000  0.171333  0.026000  0.128333  0.078333  0.243333  0.018333  0.011000  0.111667  0.276667   0.200000  0.733333   0.933333  0.069000   0.266667 -1.100000e+00  -0.833333  0.233333         hylanbo01   1  19.266667   4.033333  10.100000  0.399667  2.066667   5.533333  0.366667   2.033333   4.566667  0.439667  0.500333   1.433333   1.733333  0.819667  0.433333  2.233333   2.633333   3.166667  0.733333  0.233333  1.400000  1.800000  11.566667\n",
      "225  226               Serge Ibaka      C   33  MIL  16   185.000000   9.800000  0.553000  0.333000  0.241000  0.088000  0.157000  0.124000  0.029000  0.005000  0.031000  0.156000  0.161000   0.000000  0.200000   0.200000  0.058000  -4.600000  0.000000e+00  -4.600000 -0.100000         ibakase01   0  11.600000   1.600000   3.400000  0.481000  0.400000   1.100000  0.333000   1.300000   2.300000  0.556000  0.537000   0.500000   0.800000  0.615000  0.900000  1.800000   2.800000   0.300000  0.100000  0.400000  0.700000  1.400000   4.100000\n",
      "226  227            Andre Iguodala     SF   39  GSW   8   113.000000   7.300000  0.521000  0.600000  0.200000  0.030000  0.134000  0.083000  0.203000  0.017000  0.023000  0.355000  0.094000   0.000000  0.100000   0.100000  0.044000  -4.400000  1.600000e+00  -2.800000  0.000000         iguodan01   0  14.100000   0.900000   1.900000  0.467000  0.100000   1.100000  0.111000   0.800000   0.800000  1.000000  0.500000   0.300000   0.400000  0.667000  0.400000  1.800000   2.100000   2.400000  0.500000  0.400000  1.100000  1.400000   2.100000\n",
      "227  228                Joe Ingles     SF   35  MIL  46  1044.000000  10.700000  0.616000  0.819000  0.085000  0.014000  0.111000  0.064000  0.184000  0.015000  0.005000  0.176000  0.126000   1.100000  1.200000   2.300000  0.107000  -1.600000  8.000000e-01  -0.700000  0.300000         inglejo01   0  22.700000   2.300000   5.400000  0.435000  1.800000   4.400000  0.409000   0.500000   1.000000  0.556000  0.603000   0.400000   0.500000  0.857000  0.300000  2.500000   2.800000   3.300000  0.700000  0.100000  1.200000  1.600000   6.900000\n",
      "228  229            Brandon Ingram     SF   25  NOP  45  1538.000000  19.200000  0.582000  0.196000  0.326000  0.017000  0.164000  0.091000  0.281000  0.010000  0.012000  0.134000  0.308000   1.800000  1.700000   3.500000  0.108000   2.200000 -4.000000e-01   1.700000  1.500000         ingrabr01  45  34.200000   9.000000  18.600000  0.484000  1.400000   3.600000  0.390000   7.600000  14.900000  0.507000  0.522000   5.300000   6.000000  0.882000  0.500000  5.000000   5.500000   5.800000  0.700000  0.400000  3.300000  2.600000  24.700000\n",
      "229  230              Kyrie Irving     PG   30  TOT  60  1494.000000  22.666667  0.617000  0.407333  0.230333  0.030667  0.122667  0.077000  0.257667  0.014667  0.016667  0.086667  0.286667   3.600000  1.333333   4.933333  0.165667   4.866667 -6.333333e-01   4.233333  2.300000         irvinky01  60  37.533333   9.900000  19.933333  0.496667  3.100000   8.133333  0.381667   6.800000  11.800000  0.576000  0.574333   4.200000   4.600000  0.911667  1.033333  4.100000   5.066667   5.600000  1.133333  0.733333  2.100000  2.766667  27.066667\n",
      "230  231            Jonathan Isaac     PF   25  ORL  11   124.000000  20.300000  0.483000  0.283000  0.170000  0.137000  0.265000  0.201000  0.073000  0.055000  0.031000  0.066000  0.211000   0.000000  0.300000   0.300000  0.130000   1.000000  3.000000e+00   4.000000  0.200000         isaacjo01   0  11.300000   2.000000   4.800000  0.415000  0.500000   1.400000  0.400000   1.500000   3.500000  0.421000  0.472000   0.500000   0.800000  0.556000  1.400000  2.600000   4.000000   0.500000  1.300000  0.400000  0.400000  0.500000   5.000000\n",
      "231  232                Jaden Ivey     SG   20  DET  74  2304.000000  12.100000  0.528000  0.356000  0.362000  0.034000  0.107000  0.069000  0.262000  0.013000  0.007000  0.172000  0.254000  -0.900000  0.800000   0.000000 -0.001000  -1.400000 -1.900000e+00  -3.300000 -0.700000          iveyja01  73  31.100000   5.500000  13.300000  0.416000  1.600000   4.700000  0.343000   3.900000   8.600000  0.457000  0.477000   3.600000   4.800000  0.747000  1.000000  2.900000   3.900000   5.200000  0.800000  0.200000  3.200000  3.300000  16.300000\n",
      "232  233             Frank Jackson     PG   24  UTA   1     5.000000  -6.800000  0.000000  0.333000  0.000000  0.219000  0.213000  0.216000  0.227000  0.000000  0.000000  0.000000  0.251000   0.000000  0.000000   0.000000 -0.378000 -12.500000 -9.800000e+00 -22.200000  0.000000         jacksfr01   0   5.000000   0.000000   3.000000  0.000000  0.000000   1.000000  0.000000   0.000000   2.000000  0.000000  0.000000   0.000000   0.000000  0.000000  1.000000  1.000000   2.000000   1.000000  0.000000  0.000000  0.000000  0.000000   0.000000\n",
      "233  234            Isaiah Jackson      C   21  IND  63  1042.000000  17.500000  0.595000  0.044000  0.459000  0.121000  0.180000  0.150000  0.070000  0.014000  0.077000  0.118000  0.174000   1.500000  1.200000   2.700000  0.124000  -1.700000  9.000000e-01  -0.800000  0.300000         jacksis01  12  16.500000   2.800000   5.000000  0.563000  0.000000   0.200000  0.143000   2.800000   4.800000  0.582000  0.566000   1.500000   2.300000  0.651000  1.800000  2.700000   4.500000   0.800000  0.500000  1.500000  0.800000  2.400000   7.200000\n",
      "234  235         Jaren Jackson Jr.      C   23  MEM  63  1787.000000  21.600000  0.613000  0.343000  0.372000  0.064000  0.188000  0.126000  0.050000  0.017000  0.096000  0.101000  0.247000   2.800000  3.800000   6.600000  0.177000   0.700000  2.000000e+00   2.800000  2.200000         jacksja02  63  28.400000   6.600000  13.000000  0.506000  1.600000   4.500000  0.355000   5.000000   8.600000  0.585000  0.567000   3.800000   4.900000  0.788000  1.700000  5.000000   6.800000   1.000000  1.000000  3.000000  1.700000  3.600000  18.600000\n",
      "235  236            Justin Jackson     SF   27  BOS  23   107.000000   6.300000  0.359000  0.741000  0.074000  0.021000  0.151000  0.087000  0.105000  0.018000  0.032000  0.067000  0.122000  -0.100000  0.200000   0.100000  0.025000  -4.200000  1.600000e+00  -2.600000  0.000000         jacksju01   0   4.700000   0.300000   1.200000  0.259000  0.200000   0.900000  0.250000   0.100000   0.300000  0.286000  0.352000   0.000000   0.100000  0.500000  0.100000  0.700000   0.700000   0.400000  0.200000  0.200000  0.100000  0.300000   0.900000\n",
      "236  237           Quenton Jackson     PG   24  WAS   9   135.000000  12.200000  0.542000  0.286000  0.524000  0.017000  0.048000  0.033000  0.151000  0.014000  0.006000  0.072000  0.179000   0.100000  0.100000   0.200000  0.078000  -3.700000 -1.500000e+00  -5.100000 -0.100000         jacksqu01   0  15.000000   2.100000   4.700000  0.452000  0.100000   1.300000  0.083000   2.000000   3.300000  0.600000  0.464000   1.900000   2.400000  0.773000  0.200000  0.700000   0.900000   1.700000  0.400000  0.100000  0.400000  1.100000   6.200000\n",
      "237  238            Reggie Jackson     PG   32  TOT  68  1104.666667   9.766667  0.504333  0.470333  0.115000  0.015667  0.082000  0.049333  0.202333  0.014000  0.003000  0.140667  0.208000  -0.400000  0.800000   0.433333  0.015333  -3.066667 -1.133333e+00  -4.200000 -0.566667         jacksre01  40  23.333333   3.700000   9.066667  0.404000  1.366667   4.233333  0.320667   2.333333   4.866667  0.481000  0.478667   0.933333   1.066667  0.889000  0.333333  1.733333   2.033333   3.333333  0.666667  0.100000  1.566667  1.633333   9.666667\n",
      "238  239              LeBron James     PF   38  LAL  55  1954.000000  23.900000  0.583000  0.309000  0.268000  0.037000  0.208000  0.125000  0.335000  0.012000  0.014000  0.116000  0.333000   3.200000  2.400000   5.600000  0.138000   5.500000  6.000000e-01   6.100000  4.000000         jamesle01  54  35.500000  11.100000  22.200000  0.500000  2.200000   6.900000  0.321000   8.900000  15.300000  0.580000  0.549000   4.600000   5.900000  0.768000  1.200000  7.100000   8.300000   6.800000  0.900000  0.600000  3.200000  1.600000  28.900000\n",
      "239  240                 Ty Jerome     SG   25  GSW  45   816.000000  12.800000  0.594000  0.372000  0.169000  0.010000  0.094000  0.053000  0.221000  0.013000  0.005000  0.103000  0.149000   1.400000  0.700000   2.100000  0.124000  -1.000000  3.000000e-01  -0.800000  0.300000         jeromty01   2  18.100000   2.600000   5.400000  0.488000  0.800000   2.000000  0.389000   1.800000   3.400000  0.546000  0.560000   0.800000   0.900000  0.927000  0.200000  1.600000   1.700000   3.000000  0.500000  0.100000  0.700000  1.400000   6.900000\n",
      "240  241                Isaiah Joe     SG   23  OKC  73  1395.000000  14.500000  0.626000  0.776000  0.197000  0.020000  0.116000  0.067000  0.087000  0.016000  0.005000  0.066000  0.177000   2.500000  1.300000   3.800000  0.131000   1.300000 -4.000000e-01   0.900000  1.000000           joeis01  10  19.100000   3.100000   7.000000  0.441000  2.200000   5.400000  0.409000   0.900000   1.600000  0.553000  0.599000   1.100000   1.400000  0.820000  0.400000  2.000000   2.400000   1.200000  0.700000  0.100000  0.500000  1.400000   9.500000\n",
      "241  242             Alize Johnson     PF   26  SAS   4    30.000000   4.300000  0.509000  0.333000  0.333000  0.070000  0.303000  0.182000  0.042000  0.016000  0.000000  0.368000  0.150000  -0.100000  0.000000  -0.100000 -0.099000  -7.400000 -1.700000e+00  -9.100000 -0.100000         johnsal02   0   7.500000   0.800000   1.500000  0.500000  0.000000   0.500000  0.000000   0.800000   1.000000  0.750000  0.500000   0.300000   0.500000  0.500000  0.500000  2.000000   2.500000   0.300000  0.300000  0.000000  1.000000  0.800000   1.800000\n",
      "242  243           Cameron Johnson     PF   26  TOT  42   799.333333  17.133333  0.618667  0.542667  0.244333  0.032333  0.139000  0.086000  0.095000  0.019667  0.010667  0.063667  0.204333   1.400000  0.933333   2.333333  0.144667   2.200000  6.000000e-01   2.800000  0.933333         johnsca02  41  28.166667   5.233333  11.166667  0.470667  2.466667   6.033333  0.410333   2.800000   5.133333  0.540000  0.582667   2.333333   2.766667  0.837000  0.800000  3.533333   4.333333   1.833333  1.166667  0.333333  0.866667  1.966667  15.333333\n",
      "243  245             James Johnson     PF   35  IND  18   162.000000   8.400000  0.486000  0.306000  0.163000  0.027000  0.178000  0.103000  0.126000  0.021000  0.032000  0.132000  0.157000  -0.100000  0.200000   0.100000  0.017000  -5.700000  1.200000e+00  -4.400000 -0.100000         johnsja01   1   9.000000   1.200000   2.700000  0.449000  0.200000   0.800000  0.200000   1.100000   1.900000  0.559000  0.480000   0.200000   0.400000  0.500000  0.200000  1.400000   1.700000   0.800000  0.400000  0.300000  0.400000  1.800000   2.800000\n",
      "244  244             Jalen Johnson     SF   21  ATL  70  1042.000000  14.100000  0.554000  0.323000  0.242000  0.053000  0.246000  0.148000  0.104000  0.017000  0.028000  0.103000  0.160000   0.800000  1.300000   2.100000  0.099000  -1.200000  1.500000e+00   0.300000  0.600000         johnsja05   6  14.900000   2.300000   4.600000  0.491000  0.400000   1.500000  0.288000   1.800000   3.100000  0.587000  0.537000   0.700000   1.100000  0.628000  0.700000  3.300000   4.000000   1.200000  0.500000  0.500000  0.600000  1.600000   5.600000\n",
      "245  246            Keldon Johnson     SF   23  SAS  63  2063.000000  15.300000  0.551000  0.366000  0.294000  0.029000  0.144000  0.084000  0.137000  0.011000  0.004000  0.096000  0.279000   0.700000  0.500000   1.300000  0.030000   0.700000 -2.500000e+00  -1.800000  0.100000         johnske04  63  32.700000   8.000000  17.700000  0.452000  2.100000   6.500000  0.329000   5.900000  11.200000  0.523000  0.512000   3.900000   5.200000  0.749000  0.900000  4.200000   5.000000   2.900000  0.700000  0.200000  2.100000  2.000000  22.000000\n",
      "246  247              Keon Johnson     SG   20  POR  40   416.000000   9.000000  0.482000  0.455000  0.230000  0.030000  0.092000  0.061000  0.209000  0.022000  0.013000  0.180000  0.250000  -0.700000  0.200000  -0.500000 -0.057000  -3.800000 -1.600000e+00  -5.400000 -0.400000         johnske07   0  10.400000   1.700000   4.500000  0.376000  0.700000   2.000000  0.346000   1.000000   2.400000  0.402000  0.455000   0.700000   1.000000  0.659000  0.300000  0.800000   1.100000   1.500000  0.500000  0.200000  1.100000  1.100000   4.700000\n",
      "247  248           Stanley Johnson     SF   26  SAS  30   469.000000  13.500000  0.625000  0.328000  0.320000  0.049000  0.177000  0.111000  0.190000  0.016000  0.011000  0.192000  0.152000   0.500000  0.300000   0.700000  0.076000  -0.800000 -2.000000e-01  -1.000000  0.100000         johnsst04   0  15.600000   2.200000   4.100000  0.533000  0.600000   1.300000  0.450000   1.600000   2.700000  0.573000  0.607000   0.900000   1.300000  0.667000  0.700000  2.400000   3.200000   2.200000  0.500000  0.200000  1.100000  1.600000   5.800000\n",
      "248  249              Nikola Jokić      C   27  DEN  69  2323.000000  31.500000  0.701000  0.146000  0.406000  0.085000  0.313000  0.202000  0.466000  0.018000  0.018000  0.170000  0.272000  11.200000  3.800000  14.900000  0.308000   8.500000  4.500000e+00  13.000000  8.800000         jokicni01  69  33.700000   9.400000  14.800000  0.632000  0.800000   2.200000  0.383000   8.500000  12.700000  0.675000  0.660000   4.900000   6.000000  0.822000  2.400000  9.400000  11.800000   9.800000  1.300000  0.700000  3.600000  2.500000  24.500000\n",
      "249  250              Carlik Jones     PG   25  CHI   7    56.000000  11.100000  0.540000  0.400000  0.533000  0.021000  0.080000  0.051000  0.139000  0.017000  0.000000  0.097000  0.162000   0.000000  0.100000   0.100000  0.078000  -2.800000  4.000000e-01  -2.500000  0.000000         jonesca03   0   8.000000   0.900000   2.100000  0.400000  0.400000   0.900000  0.500000   0.400000   1.300000  0.333000  0.500000   0.700000   1.100000  0.625000  0.100000  0.600000   0.700000   0.900000  0.300000  0.000000  0.300000  0.300000   2.900000\n",
      "250  251              Damian Jones      C   27  TOT  41   318.000000  13.033333  0.713333  0.188333  0.354000  0.099000  0.182333  0.141667  0.039333  0.008000  0.040000  0.187333  0.110667   0.466667  0.333333   0.800000  0.118667  -2.100000  4.000000e-01  -1.733333  0.000000         jonesda03   1  11.800000   1.333333   2.133333  0.631667  0.233333   0.400000  0.434000   1.100000   1.666667  0.651333  0.685000   0.533333   0.700000  0.762333  1.033333  2.000000   3.000000   0.400000  0.200000  0.500000  0.566667  1.366667   3.533333\n",
      "251  252         Derrick Jones Jr.     SF   25  CHI  64   893.000000  13.800000  0.597000  0.348000  0.365000  0.077000  0.116000  0.097000  0.051000  0.016000  0.040000  0.086000  0.145000   1.200000  1.200000   2.400000  0.131000  -1.200000  8.000000e-01  -0.400000  0.400000         jonesde02   0  14.000000   1.800000   3.600000  0.500000  0.400000   1.300000  0.338000   1.400000   2.300000  0.587000  0.559000   1.000000   1.300000  0.738000  0.900000  1.500000   2.400000   0.500000  0.500000  0.600000  0.400000  1.300000   5.000000\n",
      "252  253             Herbert Jones     SF   24  NOP  66  1951.000000  12.100000  0.567000  0.333000  0.321000  0.056000  0.100000  0.078000  0.111000  0.026000  0.021000  0.133000  0.145000   1.500000  2.700000   4.200000  0.104000  -2.000000  1.700000e+00  -0.300000  0.800000         joneshe01  66  29.600000   3.600000   7.600000  0.469000  0.800000   2.500000  0.335000   2.700000   5.100000  0.536000  0.525000   1.900000   2.400000  0.764000  1.500000  2.600000   4.100000   2.500000  1.600000  0.600000  1.300000  3.200000   9.800000\n",
      "253  254                 Kai Jones      C   22  CHO  46   550.000000  10.800000  0.597000  0.158000  0.217000  0.070000  0.170000  0.119000  0.037000  0.015000  0.047000  0.191000  0.124000   0.000000  0.700000   0.700000  0.062000  -4.800000  8.000000e-01  -4.000000 -0.300000         joneska01   0  12.000000   1.500000   2.600000  0.558000  0.100000   0.400000  0.211000   1.400000   2.200000  0.624000  0.575000   0.400000   0.600000  0.731000  0.800000  1.900000   2.700000   0.300000  0.400000  0.700000  0.700000  1.400000   3.400000\n",
      "254  255                 Tre Jones     PG   23  SAS  68  1984.000000  16.000000  0.534000  0.213000  0.231000  0.030000  0.108000  0.067000  0.315000  0.021000  0.004000  0.118000  0.193000   2.600000  0.800000   3.400000  0.082000  -0.200000 -8.000000e-01  -1.000000  0.500000         jonestr01  65  29.200000   5.000000  10.900000  0.459000  0.700000   2.300000  0.285000   4.400000   8.600000  0.506000  0.489000   2.200000   2.500000  0.860000  0.800000  2.800000   3.600000   6.600000  1.300000  0.100000  1.600000  1.400000  12.900000\n",
      "255  256                Tyus Jones     PG   26  MEM  80  1940.000000  16.000000  0.546000  0.459000  0.141000  0.015000  0.094000  0.055000  0.288000  0.020000  0.003000  0.089000  0.177000   3.400000  2.300000   5.700000  0.141000   1.200000  3.000000e-01   1.600000  1.700000         jonesty01  22  24.300000   3.900000   8.900000  0.438000  1.500000   4.100000  0.371000   2.400000   4.800000  0.495000  0.523000   1.000000   1.300000  0.800000  0.400000  2.200000   2.500000   5.200000  1.000000  0.100000  0.900000  0.400000  10.300000\n",
      "256  257            DeAndre Jordan      C   34  DEN  39   586.000000  14.700000  0.731000  0.009000  0.417000  0.105000  0.286000  0.198000  0.077000  0.010000  0.035000  0.261000  0.137000   0.500000  0.900000   1.400000  0.112000  -2.400000  7.000000e-01  -1.800000  0.000000         jordade01   8  15.000000   2.300000   2.900000  0.765000  0.000000   0.000000  1.000000   2.200000   2.900000  0.763000  0.770000   0.600000   1.200000  0.458000  1.300000  3.800000   5.200000   0.900000  0.300000  0.600000  1.200000  1.800000   5.100000\n",
      "257  258               Cory Joseph     PG   31  DET  62  1227.000000  12.100000  0.558000  0.513000  0.205000  0.018000  0.079000  0.048000  0.254000  0.013000  0.006000  0.128000  0.152000   1.500000  0.300000   1.800000  0.070000  -0.700000 -8.000000e-01  -1.500000  0.200000         josepco01   2  19.800000   2.400000   5.700000  0.427000  1.100000   2.900000  0.389000   1.300000   2.800000  0.468000  0.527000   0.900000   1.200000  0.792000  0.300000  1.400000   1.700000   3.500000  0.500000  0.100000  0.900000  1.400000   6.900000\n",
      "258  259              Nikola Jović     PF   19  MIA  15   204.000000  10.600000  0.530000  0.507000  0.275000  0.050000  0.131000  0.089000  0.073000  0.017000  0.010000  0.114000  0.190000   0.000000  0.200000   0.200000  0.053000  -3.400000  0.000000e+00  -3.400000 -0.100000         jovicni01   8  13.600000   1.900000   4.600000  0.406000  0.500000   2.300000  0.229000   1.300000   2.300000  0.588000  0.464000   1.200000   1.300000  0.947000  0.600000  1.500000   2.100000   0.700000  0.500000  0.100000  0.700000  1.300000   5.500000\n",
      "259  260             Johnny Juzang     SF   21  UTA  18   232.000000   6.500000  0.411000  0.606000  0.038000  0.038000  0.143000  0.091000  0.047000  0.008000  0.011000  0.028000  0.196000  -0.300000  0.100000  -0.200000 -0.032000  -4.300000 -2.200000e+00  -6.500000 -0.300000         juzanjo01   0  12.900000   1.900000   5.800000  0.337000  0.800000   3.500000  0.238000   1.100000   2.300000  0.488000  0.409000   0.100000   0.200000  0.500000  0.400000  1.700000   2.200000   0.400000  0.200000  0.200000  0.200000  0.700000   4.800000\n",
      "260  261         Mfiondu Kabengele     PF   25  BOS   4    36.000000   8.100000  0.381000  0.429000  0.286000  0.154000  0.149000  0.152000  0.000000  0.027000  0.000000  0.113000  0.108000   0.000000  0.100000   0.100000  0.067000  -6.600000 -2.400000e+00  -8.900000 -0.100000         kabenmf01   0   9.000000   0.500000   1.800000  0.286000  0.000000   0.800000  0.000000   0.500000   1.000000  0.500000  0.286000   0.500000   0.500000  1.000000  1.300000  1.300000   2.500000   0.000000  0.500000  0.000000  0.300000  0.800000   1.500000\n",
      "261  262            Frank Kaminsky      C   29  TOT  36   156.666667  15.600000  0.596333  0.524333  0.246000  0.041333  0.215333  0.127333  0.194333  0.011333  0.023667  0.089333  0.142000   0.333333  0.133333   0.466667  0.137000   1.466667  1.566667e+00   3.066667  0.200000         kaminfr01   0   6.400000   0.833333   1.800000  0.458667  0.333333   0.933333  0.357333   0.466667   0.833333  0.570333  0.552000   0.400000   0.433333  0.902667  0.233333  1.266667   1.466667   0.933333  0.166667  0.133333  0.200000  0.500000   2.333333\n",
      "262  263              Trevor Keels     SG   19  NYK   3     8.000000   3.700000  0.375000  1.000000  0.000000  0.000000  0.276000  0.137000  0.000000  0.000000  0.000000  0.000000  0.214000   0.000000  0.000000   0.000000 -0.062000  -7.400000 -5.600000e+00 -13.000000  0.000000         keelstr01   0   2.700000   0.300000   1.300000  0.250000  0.300000   1.300000  0.250000   0.000000   0.000000  0.000000  0.375000   0.000000   0.000000  0.000000  0.000000  0.700000   0.700000   0.000000  0.000000  0.000000  0.000000  0.000000   1.000000\n",
      "263  264              Luke Kennard     SG   26  TOT  59   876.666667  13.166667  0.688333  0.710333  0.102667  0.012333  0.118000  0.065667  0.095333  0.011667  0.003333  0.101667  0.144000   1.466667  0.800000   2.266667  0.127667   0.733333 -1.000000e-01   0.666667  0.533333         kennalu01  14  22.533333   3.266667   6.533333  0.494000  2.366667   4.700000  0.493667   0.900000   1.866667  0.484000  0.671000   0.633333   0.700000  0.948667  0.300000  2.466667   2.733333   1.633333  0.500000  0.066667  0.800000  1.400000   9.466667\n",
      "264  265            Walker Kessler      C   21  UTA  74  1703.000000  21.500000  0.702000  0.007000  0.384000  0.149000  0.244000  0.197000  0.057000  0.007000  0.086000  0.107000  0.133000   4.600000  2.500000   7.100000  0.200000   1.400000  1.500000e+00   2.900000  2.100000         kesslwa01  40  23.000000   4.000000   5.600000  0.720000  0.000000   0.000000  0.333000   4.000000   5.600000  0.723000  0.721000   1.100000   2.100000  0.516000  3.100000  5.300000   8.400000   0.900000  0.400000  2.300000  0.800000  2.300000   9.200000\n",
      "265  266               Braxton Key     SF   25  DET   3     9.000000  18.600000  1.064000  0.000000  2.000000  0.000000  0.127000  0.062000  0.000000  0.000000  0.000000  0.000000  0.089000   0.000000  0.000000   0.000000  0.242000   2.200000  8.000000e-01   2.900000  0.000000           keybr01   0   3.000000   0.300000   0.300000  1.000000  0.000000   0.000000  0.000000   0.300000   0.300000  1.000000  1.000000   0.700000   0.700000  1.000000  0.000000  0.300000   0.300000   0.000000  0.000000  0.000000  0.000000  0.000000   1.300000\n",
      "266  267                Louis King     SF   23  PHI   1    29.000000  21.300000  0.744000  0.615000  0.077000  0.083000  0.080000  0.081000  0.122000  0.017000  0.000000  0.130000  0.238000   0.100000  0.000000   0.100000  0.157000   3.300000 -1.000000e+00   2.300000  0.000000          kinglo02   0  29.000000   8.000000  13.000000  0.615000  4.000000   8.000000  0.500000   4.000000   5.000000  0.800000  0.769000   0.000000   1.000000  0.000000  2.000000  2.000000   4.000000   2.000000  1.000000  0.000000  2.000000  4.000000  20.000000\n",
      "267  268             Corey Kispert     SF   23  WAS  74  2093.000000  11.500000  0.657000  0.656000  0.150000  0.018000  0.089000  0.055000  0.057000  0.007000  0.004000  0.081000  0.141000   2.900000  0.900000   3.800000  0.088000  -0.100000 -1.400000e+00  -1.500000  0.300000         kispeco01  45  28.300000   3.900000   7.900000  0.497000  2.200000   5.200000  0.424000   1.700000   2.700000  0.637000  0.637000   1.000000   1.200000  0.852000  0.400000  2.400000   2.800000   1.200000  0.400000  0.100000  0.700000  1.300000  11.100000\n",
      "268  269               Maxi Kleber      C   31  DAL  37   930.000000   8.700000  0.592000  0.663000  0.225000  0.037000  0.133000  0.084000  0.075000  0.006000  0.029000  0.127000  0.103000   0.700000  0.600000   1.300000  0.067000  -2.200000  0.000000e+00  -2.200000  0.000000         klebima01   5  25.100000   2.100000   4.600000  0.456000  1.100000   3.000000  0.348000   1.000000   1.500000  0.667000  0.571000   0.700000   1.000000  0.711000  0.800000  2.800000   3.600000   1.400000  0.300000  0.800000  0.700000  2.300000   5.900000\n",
      "269  270             Nathan Knight     PF   25  MIN  38   291.000000  14.500000  0.655000  0.272000  0.704000  0.086000  0.128000  0.108000  0.061000  0.016000  0.018000  0.165000  0.187000   0.400000  0.300000   0.700000  0.116000  -2.300000 -8.000000e-01  -3.200000 -0.100000         knighna01   0   7.700000   1.200000   2.100000  0.568000  0.200000   0.600000  0.364000   1.000000   1.600000  0.644000  0.617000   1.000000   1.500000  0.684000  0.600000  0.900000   1.500000   0.300000  0.300000  0.200000  0.600000  1.100000   3.700000\n",
      "270  271                Kevin Knox  PF-SF   23  TOT  63   634.666667  11.266667  0.577000  0.555333  0.180333  0.039667  0.173333  0.105333  0.055333  0.012333  0.009667  0.120667  0.189000   0.133333  0.333333   0.433333  0.032000  -2.100000 -1.600000e+00  -3.666667 -0.233333          knoxke01   5  15.433333   2.533333   5.633333  0.457000  1.000000   3.033333  0.344667   1.533333   2.600000  0.600333  0.553667   0.766667   1.033333  0.765333  0.566667  2.333333   2.900000   0.600000  0.400000  0.166667  0.833333  1.433333   6.900000\n",
      "271  272          Christian Koloko      C   22  TOR  58   802.000000  11.400000  0.517000  0.080000  0.393000  0.111000  0.133000  0.121000  0.050000  0.013000  0.069000  0.102000  0.104000   0.700000  1.000000   1.700000  0.104000  -4.300000  8.000000e-01  -3.500000 -0.300000         kolokch01  19  13.800000   1.200000   2.600000  0.480000  0.000000   0.200000  0.083000   1.200000   2.400000  0.514000  0.483000   0.600000   1.000000  0.627000  1.400000  1.500000   2.900000   0.500000  0.400000  1.000000  0.300000  2.200000   3.100000\n",
      "272  273              John Konchar     SG   26  MEM  72  1494.000000  10.800000  0.542000  0.553000  0.113000  0.045000  0.174000  0.110000  0.082000  0.024000  0.015000  0.099000  0.104000   1.000000  2.500000   3.500000  0.111000  -1.900000  2.400000e+00   0.500000  0.900000         konchjo01  23  20.800000   1.900000   4.400000  0.431000  0.800000   2.500000  0.339000   1.100000   2.000000  0.545000  0.525000   0.400000   0.500000  0.778000  0.900000  3.400000   4.300000   1.400000  1.100000  0.300000  0.500000  1.600000   5.100000\n",
      "273  274            Furkan Korkmaz     SG   25  PHI  37   353.000000   9.300000  0.552000  0.414000  0.324000  0.020000  0.118000  0.070000  0.088000  0.014000  0.008000  0.159000  0.191000  -0.200000  0.300000   0.100000  0.019000  -3.300000 -1.000000e+00  -4.400000 -0.200000         korkmfu01   0   9.500000   1.300000   3.000000  0.432000  0.500000   1.200000  0.391000   0.800000   1.800000  0.462000  0.514000   0.700000   1.000000  0.722000  0.200000  1.000000   1.100000   0.600000  0.300000  0.100000  0.600000  0.500000   3.800000\n",
      "274  275               Luke Kornet      C   27  BOS  69   804.000000  16.700000  0.697000  0.076000  0.229000  0.119000  0.148000  0.134000  0.091000  0.007000  0.049000  0.118000  0.115000   2.100000  1.200000   3.300000  0.198000  -0.400000  1.300000e+00   1.000000  0.600000         kornelu01   0  11.700000   1.600000   2.500000  0.665000  0.000000   0.200000  0.231000   1.600000   2.300000  0.701000  0.674000   0.500000   0.600000  0.821000  1.200000  1.600000   2.900000   0.800000  0.200000  0.700000  0.400000  1.200000   3.800000\n",
      "275  276                Vit Krejci     PG   22  ATL  29   165.000000   7.700000  0.475000  0.568000  0.054000  0.039000  0.134000  0.086000  0.124000  0.014000  0.005000  0.117000  0.109000   0.000000  0.100000   0.100000  0.042000  -4.200000  6.000000e-01  -3.600000 -0.100000         krejcvi01   0   5.700000   0.500000   1.300000  0.405000  0.200000   0.700000  0.238000   0.300000   0.600000  0.625000  0.473000   0.000000   0.100000  0.500000  0.200000  0.700000   0.900000   0.600000  0.200000  0.000000  0.200000  0.600000   1.200000\n",
      "276  277          Jonathan Kuminga     PF   20  GSW  67  1394.000000  13.300000  0.597000  0.294000  0.278000  0.056000  0.125000  0.091000  0.127000  0.014000  0.020000  0.146000  0.196000   1.000000  1.400000   2.400000  0.084000  -1.700000 -1.000000e-01  -1.700000  0.100000         kuminjo01  16  20.800000   3.900000   7.400000  0.525000  0.800000   2.200000  0.370000   3.100000   5.200000  0.590000  0.579000   1.300000   2.100000  0.652000  1.000000  2.400000   3.400000   1.900000  0.600000  0.500000  1.400000  2.300000   9.900000\n",
      "277  278                Kyle Kuzma     PF   27  WAS  64  2239.000000  14.300000  0.544000  0.421000  0.208000  0.028000  0.195000  0.115000  0.165000  0.008000  0.011000  0.132000  0.279000  -1.000000  1.900000   0.900000  0.019000  -0.200000 -1.500000e+00  -1.700000  0.200000         kuzmaky01  64  35.000000   8.000000  17.800000  0.448000  2.500000   7.500000  0.333000   5.500000  10.300000  0.533000  0.518000   2.700000   3.700000  0.730000  0.900000  6.400000   7.200000   3.700000  0.600000  0.500000  3.000000  2.300000  21.200000\n",
      "278  279              Anthony Lamb     SF   25  GSW  62  1195.000000  10.900000  0.610000  0.634000  0.191000  0.053000  0.144000  0.099000  0.105000  0.011000  0.015000  0.137000  0.138000   1.200000  1.200000   2.400000  0.096000  -1.600000  4.000000e-01  -1.100000  0.300000          lamban01   4  19.300000   2.400000   5.100000  0.471000  1.200000   3.200000  0.367000   1.200000   1.900000  0.652000  0.588000   0.700000   1.000000  0.767000  0.900000  2.600000   3.500000   1.500000  0.500000  0.300000  0.900000  2.200000   6.700000\n",
      "279  280              Jock Landale      C   27  PHO  69   979.000000  16.400000  0.595000  0.249000  0.312000  0.132000  0.186000  0.158000  0.101000  0.008000  0.027000  0.133000  0.193000   1.500000  1.200000   2.700000  0.132000  -0.800000 -4.000000e-01  -1.100000  0.200000         landajo01   4  14.200000   2.600000   4.900000  0.528000  0.300000   1.200000  0.250000   2.300000   3.700000  0.621000  0.559000   1.100000   1.500000  0.752000  1.700000  2.300000   4.100000   1.000000  0.200000  0.400000  0.900000  1.800000   6.600000\n",
      "280  281            Romeo Langford     SG   23  SAS  43   844.000000  10.400000  0.524000  0.236000  0.216000  0.071000  0.077000  0.074000  0.079000  0.013000  0.013000  0.096000  0.154000   0.300000  0.200000   0.500000  0.029000  -2.600000 -1.500000e+00  -4.200000 -0.500000         langfro01  21  19.600000   2.800000   6.000000  0.467000  0.400000   1.400000  0.262000   2.400000   4.600000  0.530000  0.498000   0.900000   1.300000  0.696000  1.300000  1.300000   2.700000   1.200000  0.600000  0.300000  0.700000  1.600000   6.900000\n",
      "281  282              Jake LaRavia     PF   21  MEM  35   414.000000   6.700000  0.531000  0.747000  0.095000  0.049000  0.113000  0.081000  0.062000  0.014000  0.009000  0.154000  0.117000   0.000000  0.500000   0.500000  0.054000  -3.900000  4.000000e-01  -3.500000 -0.200000         laravja01   0  11.800000   1.100000   2.700000  0.389000  0.700000   2.000000  0.338000   0.400000   0.700000  0.542000  0.516000   0.200000   0.300000  0.778000  0.500000  1.300000   1.800000   0.600000  0.300000  0.100000  0.500000  1.400000   3.000000\n",
      "282  283               Zach LaVine     SG   27  CHI  77  2768.000000  19.000000  0.607000  0.392000  0.308000  0.017000  0.122000  0.071000  0.187000  0.012000  0.006000  0.110000  0.283000   4.200000  2.900000   7.100000  0.123000   2.700000 -7.000000e-01   1.900000  2.700000         lavinza01  77  35.900000   8.700000  18.000000  0.485000  2.600000   7.100000  0.375000   6.100000  11.000000  0.556000  0.558000   4.700000   5.600000  0.848000  0.500000  3.900000   4.500000   4.200000  0.900000  0.200000  2.500000  2.100000  24.800000\n",
      "283  284               A.J. Lawson     SG   22  TOT  15    72.000000  20.600000  0.723000  0.383000  0.122667  0.043000  0.289000  0.167333  0.020000  0.006000  0.000000  0.040000  0.212000   0.066667  0.066667   0.066667  0.165667  -1.766667  5.000000e-01  -1.266667 -0.066667         lawsoaj01   0   5.600000   1.333333   2.333333  0.662667  0.466667   1.166667  0.400000   0.866667   1.200000  0.747667  0.739667   0.066667   0.366667  0.250000  0.266667  1.000000   1.266667   0.066667  0.066667  0.000000  0.133333  0.800000   3.200000\n",
      "284  285                Damion Lee     SG   30  PHO  74  1506.000000  10.700000  0.607000  0.546000  0.230000  0.028000  0.140000  0.083000  0.089000  0.010000  0.004000  0.135000  0.163000   1.100000  1.400000   2.600000  0.081000  -1.300000 -4.000000e-01  -1.700000  0.100000           leeda03   5  20.400000   2.700000   6.100000  0.442000  1.500000   3.300000  0.445000   1.200000   2.800000  0.439000  0.564000   1.300000   1.400000  0.904000  0.500000  2.500000   3.000000   1.300000  0.400000  0.100000  1.100000  1.600000   8.200000\n",
      "285  286                 Saben Lee     PG   23  TOT  25   248.666667  13.000000  0.592333  0.248667  0.319333  0.025667  0.065667  0.045333  0.284000  0.033000  0.001333  0.233000  0.233000   0.166667  0.266667   0.466667  0.028333  -3.000000  4.000000e-01  -2.633333  0.000000           leesa01   1  11.900000   1.833333   3.966667  0.516000  0.300000   1.000000  0.248667   1.500000   2.966667  0.605333  0.546667   1.166667   1.600000  0.737000  0.366667  0.900000   1.266667   2.166667  0.700000  0.000000  1.133333  1.033333   5.100000\n",
      "286  287                  Alex Len      C   29  SAC  26   161.000000  12.800000  0.580000  0.067000  0.533000  0.172000  0.254000  0.213000  0.093000  0.012000  0.060000  0.302000  0.141000   0.100000  0.200000   0.300000  0.085000  -4.900000  9.000000e-01  -4.000000 -0.100000           lenal01   2   6.200000   0.600000   1.200000  0.533000  0.000000   0.100000  0.000000   0.600000   1.100000  0.571000  0.533000   0.400000   0.600000  0.688000  0.900000  1.400000   2.300000   0.500000  0.200000  0.400000  0.600000  1.100000   1.700000\n",
      "287  288             Kawhi Leonard     SF   31  LAC  52  1748.000000  23.900000  0.623000  0.287000  0.320000  0.037000  0.178000  0.108000  0.196000  0.020000  0.014000  0.081000  0.270000   4.900000  2.200000   7.100000  0.194000   5.100000  9.000000e-01   6.100000  3.500000         leonaka01  50  33.600000   8.600000  16.800000  0.512000  2.000000   4.800000  0.416000   6.600000  11.900000  0.551000  0.572000   4.700000   5.400000  0.871000  1.100000  5.400000   6.500000   3.900000  1.400000  0.500000  1.700000  1.600000  23.800000\n",
      "288  289            Meyers Leonard      C   30  MIL   9   114.000000  12.000000  0.652000  0.621000  0.310000  0.114000  0.194000  0.155000  0.012000  0.008000  0.000000  0.154000  0.144000   0.200000  0.100000   0.300000  0.126000  -2.800000 -2.200000e+00  -5.000000 -0.100000         leoname01   2  12.700000   1.600000   3.200000  0.483000  0.800000   2.000000  0.389000   0.800000   1.200000  0.636000  0.603000   0.900000   1.000000  0.889000  1.300000  2.400000   3.800000   0.100000  0.200000  0.000000  0.700000  1.800000   4.800000\n",
      "289  290              Caris LeVert     SG   28  CLE  74  2237.000000  12.400000  0.546000  0.437000  0.243000  0.028000  0.121000  0.074000  0.180000  0.016000  0.010000  0.124000  0.187000   1.400000  3.100000   4.400000  0.095000  -1.000000  8.000000e-01  -0.200000  1.000000         leverca01  30  30.200000   4.300000  10.000000  0.431000  1.700000   4.400000  0.392000   2.600000   5.600000  0.462000  0.517000   1.800000   2.400000  0.722000  0.700000  3.100000   3.800000   3.900000  1.000000  0.300000  1.600000  2.300000  12.100000\n",
      "290  291            Kira Lewis Jr.     PG   21  NOP  25   235.000000  14.500000  0.584000  0.386000  0.250000  0.024000  0.135000  0.080000  0.140000  0.021000  0.008000  0.093000  0.197000   0.300000  0.300000   0.600000  0.122000  -0.800000  5.000000e-01  -0.300000  0.100000         lewiski01   0   9.400000   1.600000   3.500000  0.455000  0.600000   1.400000  0.441000   1.000000   2.200000  0.463000  0.540000   0.800000   0.900000  0.864000  0.200000  1.100000   1.300000   0.900000  0.400000  0.100000  0.400000  1.000000   4.600000\n",
      "291  292            Damian Lillard     PG   32  POR  58  2107.000000  26.700000  0.645000  0.547000  0.464000  0.024000  0.128000  0.076000  0.350000  0.012000  0.008000  0.117000  0.338000   8.200000  0.800000   9.000000  0.205000   8.300000 -1.200000e+00   7.100000  4.900000         lillada01  58  36.300000   9.600000  20.700000  0.463000  4.200000  11.300000  0.371000   5.400000   9.400000  0.574000  0.564000   8.800000   9.600000  0.914000  0.800000  4.000000   4.800000   7.300000  0.900000  0.300000  3.300000  1.900000  32.200000\n",
      "292  293             Nassir Little     SF   22  POR  54   976.000000  10.200000  0.555000  0.521000  0.152000  0.032000  0.135000  0.083000  0.073000  0.010000  0.018000  0.100000  0.160000   0.200000  0.400000   0.700000  0.032000  -1.600000 -1.500000e+00  -3.000000 -0.300000         littlna01   4  18.100000   2.500000   5.600000  0.442000  1.100000   2.900000  0.367000   1.400000   2.700000  0.524000  0.538000   0.600000   0.900000  0.717000  0.500000  2.100000   2.600000   0.900000  0.400000  0.400000  0.700000  1.200000   6.600000\n",
      "293  294             Isaiah Livers     PF   24  DET  52  1199.000000   8.400000  0.567000  0.705000  0.135000  0.025000  0.110000  0.066000  0.048000  0.011000  0.021000  0.090000  0.119000   0.500000  0.500000   1.000000  0.041000  -2.100000 -3.000000e-01  -2.400000 -0.100000         liveris01  22  23.100000   2.300000   5.500000  0.417000  1.400000   3.900000  0.365000   0.900000   1.600000  0.541000  0.545000   0.600000   0.800000  0.821000  0.500000  2.200000   2.800000   0.800000  0.500000  0.500000  0.600000  2.000000   6.700000\n",
      "294  295        Kenneth Lofton Jr.     PF   20  MEM  24   176.000000  20.200000  0.572000  0.183000  0.290000  0.115000  0.192000  0.154000  0.181000  0.013000  0.010000  0.103000  0.276000   0.300000  0.200000   0.500000  0.145000   0.700000 -1.100000e+00  -0.400000  0.100000         loftoke01   1   7.300000   2.000000   3.900000  0.527000  0.300000   0.700000  0.353000   1.800000   3.200000  0.566000  0.559000   0.700000   1.100000  0.593000  0.800000  1.300000   2.100000   0.800000  0.200000  0.100000  0.500000  1.200000   5.000000\n",
      "295  296              Kevon Looney      C   26  GSW  82  1958.000000  17.800000  0.639000  0.003000  0.404000  0.157000  0.268000  0.214000  0.138000  0.013000  0.022000  0.091000  0.106000   5.900000  2.800000   8.700000  0.212000   0.900000  1.300000e+00   2.100000  2.000000         looneke01  70  23.900000   3.000000   4.700000  0.630000  0.000000   0.000000  0.000000   3.000000   4.700000  0.632000  0.630000   1.100000   1.900000  0.606000  3.300000  5.900000   9.300000   2.500000  0.600000  0.600000  0.500000  2.700000   7.000000\n",
      "296  297               Brook Lopez      C   34  MIL  78  2373.000000  18.400000  0.630000  0.405000  0.211000  0.072000  0.153000  0.114000  0.061000  0.007000  0.067000  0.098000  0.193000   4.100000  3.900000   8.000000  0.161000   0.800000  1.300000e+00   2.100000  2.500000         lopezbr01  78  30.400000   6.100000  11.500000  0.531000  1.700000   4.700000  0.374000   4.400000   6.900000  0.637000  0.606000   1.900000   2.400000  0.784000  2.000000  4.700000   6.700000   1.300000  0.500000  2.500000  1.400000  2.600000  15.900000\n",
      "297  298               Robin Lopez      C   34  CLE  37   299.000000  11.600000  0.675000  0.053000  0.240000  0.091000  0.110000  0.100000  0.091000  0.003000  0.025000  0.232000  0.161000   0.200000  0.300000   0.600000  0.094000  -3.400000  3.000000e-01  -3.000000 -0.100000         lopezro01   2   8.100000   1.300000   2.000000  0.640000  0.100000   0.100000  0.500000   1.200000   1.900000  0.648000  0.653000   0.400000   0.500000  0.778000  0.600000  0.800000   1.400000   0.500000  0.100000  0.200000  0.700000  1.200000   3.000000\n",
      "298  299                Kevin Love     PF   34  TOT  62   826.666667  13.000000  0.546000  0.703000  0.212333  0.053667  0.321333  0.185333  0.133333  0.007000  0.009667  0.131333  0.191000   0.400000  1.333333   1.733333  0.095333   0.000000  3.000000e-01   0.300000  0.533333          loveke01  20  20.000000   2.666667   6.800000  0.388667  1.566667   4.800000  0.328333   1.066667   2.033333  0.538333  0.504333   1.266667   1.433333  0.875000  0.933333  5.400000   6.300000   1.900000  0.300000  0.200000  1.100000  1.566667   8.133333\n",
      "299  300                Kyle Lowry     PG   36  MIA  55  1718.000000  12.600000  0.565000  0.639000  0.278000  0.028000  0.129000  0.077000  0.234000  0.017000  0.012000  0.159000  0.167000   1.500000  1.900000   3.400000  0.096000  -0.700000  8.000000e-01   0.200000  0.900000         lowryky01  44  31.200000   3.600000   8.800000  0.404000  1.900000   5.600000  0.345000   1.600000   3.200000  0.509000  0.514000   2.100000   2.500000  0.859000  0.800000  3.300000   4.100000   5.100000  1.000000  0.400000  1.900000  2.600000  11.200000\n",
      "300  301                Trey Lyles     PF   27  SAC  74  1247.000000  14.200000  0.607000  0.588000  0.304000  0.063000  0.211000  0.137000  0.070000  0.010000  0.022000  0.122000  0.181000   1.400000  1.200000   2.600000  0.098000   0.000000 -9.000000e-01  -1.000000  0.300000         lylestr01   0  16.900000   2.500000   5.500000  0.458000  1.200000   3.200000  0.363000   1.400000   2.300000  0.595000  0.565000   1.400000   1.700000  0.815000  0.900000  3.100000   4.100000   0.900000  0.400000  0.400000  0.900000  1.300000   7.600000\n",
      "301  302              Théo Maledon     PG   21  CHO  44   854.000000  11.600000  0.515000  0.374000  0.291000  0.017000  0.139000  0.077000  0.242000  0.021000  0.012000  0.171000  0.170000   0.000000  0.900000   0.800000  0.047000  -3.000000  5.000000e-01  -2.500000 -0.100000         maledth01   7  19.400000   2.300000   5.800000  0.402000  0.600000   2.200000  0.295000   1.700000   3.600000  0.465000  0.457000   1.400000   1.700000  0.851000  0.300000  2.500000   2.800000   3.500000  0.800000  0.300000  1.300000  1.400000   6.700000\n",
      "302  303     Sandro Mamukelashvili      C   23  TOT  43   440.000000  12.600000  0.497667  0.457333  0.261667  0.108333  0.187667  0.148000  0.122333  0.010000  0.015667  0.120667  0.176000   0.233333  0.333333   0.566667  0.060667  -1.600000 -1.000000e+00  -2.600000 -0.066667         mamuksa01   7  15.866667   2.400000   5.600000  0.401000  0.733333   2.366667  0.288333   1.666667   3.200000  0.499000  0.465000   0.933333   1.400000  0.681000  1.700000  2.800000   4.466667   1.500000  0.333333  0.300000  0.866667  1.233333   6.433333\n",
      "303  304              Terance Mann     SG   26  LAC  81  1872.000000  13.400000  0.619000  0.378000  0.225000  0.047000  0.118000  0.083000  0.140000  0.011000  0.010000  0.122000  0.153000   2.800000  1.500000   4.300000  0.111000  -0.300000  1.000000e-01  -0.200000  0.800000          mannte01  36  23.100000   3.400000   6.500000  0.519000  1.000000   2.400000  0.389000   2.400000   4.000000  0.598000  0.593000   1.100000   1.500000  0.780000  1.000000  2.500000   3.400000   2.300000  0.500000  0.300000  1.000000  1.800000   8.800000\n",
      "304  305                  Tre Mann     PG   21  OKC  67  1183.000000  10.000000  0.492000  0.513000  0.110000  0.024000  0.118000  0.070000  0.140000  0.016000  0.009000  0.106000  0.207000  -0.600000  1.100000   0.500000  0.021000  -3.000000 -1.000000e+00  -3.900000 -0.600000          manntr01   5  17.700000   2.900000   7.500000  0.393000  1.200000   3.800000  0.315000   1.700000   3.600000  0.475000  0.474000   0.600000   0.800000  0.764000  0.400000  1.900000   2.300000   1.800000  0.600000  0.200000  0.900000  1.500000   7.700000\n",
      "305  306          Boban Marjanović      C   34  HOU  31   171.000000  23.400000  0.710000  0.017000  0.450000  0.127000  0.260000  0.193000  0.087000  0.014000  0.011000  0.163000  0.208000   0.400000  0.100000   0.600000  0.158000   3.000000 -1.500000e+00   1.600000  0.200000         marjabo01   0   5.500000   1.300000   1.900000  0.683000  0.000000   0.000000  0.000000   1.300000   1.900000  0.695000  0.683000   0.600000   0.900000  0.741000  0.600000  1.300000   1.900000   0.300000  0.200000  0.100000  0.500000  0.300000   3.300000\n",
      "306  307           Lauri Markkanen     SF   25  UTA  66  2273.000000  22.100000  0.640000  0.446000  0.348000  0.063000  0.207000  0.136000  0.086000  0.009000  0.014000  0.088000  0.266000   6.300000  1.900000   8.200000  0.173000   4.900000 -1.000000e+00   3.800000  3.300000         markkla01  66  34.400000   8.700000  17.300000  0.499000  3.000000   7.700000  0.391000   5.600000   9.600000  0.585000  0.586000   5.300000   6.000000  0.875000  2.000000  6.700000   8.600000   1.900000  0.600000  0.600000  1.900000  2.100000  25.600000\n",
      "307  308             Naji Marshall     SF   25  NOP  77  1792.000000  11.400000  0.539000  0.382000  0.306000  0.030000  0.146000  0.088000  0.144000  0.015000  0.007000  0.130000  0.178000   0.500000  2.000000   2.500000  0.068000  -1.900000  0.000000e+00  -1.900000  0.100000         marshna01  21  23.300000   3.200000   7.400000  0.433000  0.900000   2.800000  0.303000   2.400000   4.600000  0.513000  0.490000   1.800000   2.300000  0.789000  0.600000  3.000000   3.600000   2.500000  0.700000  0.200000  1.300000  1.500000   9.100000\n",
      "308  309              Caleb Martin     PF   27  MIA  71  2077.000000  11.400000  0.571000  0.431000  0.206000  0.048000  0.150000  0.097000  0.082000  0.017000  0.015000  0.115000  0.144000   1.200000  2.500000   3.700000  0.086000  -1.800000  5.000000e-01  -1.200000  0.400000         martica02  49  29.300000   3.600000   7.700000  0.464000  1.200000   3.300000  0.356000   2.400000   4.400000  0.545000  0.540000   1.300000   1.600000  0.805000  1.200000  3.600000   4.800000   1.600000  1.000000  0.400000  1.100000  2.000000   9.600000\n",
      "309  310               Cody Martin     SF   27  CHO   7   134.000000   8.700000  0.448000  0.389000  0.194000  0.062000  0.130000  0.095000  0.110000  0.014000  0.006000  0.049000  0.129000   0.000000  0.100000   0.100000  0.045000  -3.800000 -8.000000e-01  -4.600000 -0.100000         martico01   0  19.100000   2.000000   5.100000  0.389000  0.400000   2.000000  0.214000   1.600000   3.100000  0.500000  0.431000   0.600000   1.000000  0.571000  1.100000  2.300000   3.400000   1.600000  0.600000  0.100000  0.300000  1.900000   5.000000\n",
      "310  311         Kenyon Martin Jr.     SF   22  HOU  82  2292.000000  15.400000  0.635000  0.300000  0.308000  0.060000  0.158000  0.108000  0.081000  0.009000  0.013000  0.100000  0.164000   4.200000  0.700000   4.900000  0.103000   0.600000 -1.300000e+00  -0.700000  0.700000         martike04  49  28.000000   5.000000   8.800000  0.569000  0.800000   2.600000  0.315000   4.200000   6.100000  0.679000  0.617000   1.800000   2.700000  0.680000  1.500000  4.000000   5.500000   1.500000  0.500000  0.400000  1.100000  1.800000  12.700000\n",
      "311  312             Tyrese Martin     SG   23  ATL  16    66.000000   7.700000  0.440000  0.304000  0.087000  0.082000  0.117000  0.100000  0.039000  0.007000  0.000000  0.077000  0.165000   0.000000  0.000000   0.000000 -0.010000  -4.200000 -3.100000e+00  -7.400000 -0.100000         martity01   0   4.100000   0.600000   1.400000  0.391000  0.100000   0.400000  0.143000   0.500000   1.000000  0.500000  0.413000   0.100000   0.100000  1.000000  0.300000  0.400000   0.800000   0.100000  0.100000  0.000000  0.100000  0.100000   1.300000\n",
      "312  313          Garrison Mathews     SG   26  TOT  54   457.333333  10.933333  0.586667  0.871333  0.262333  0.016000  0.109333  0.062333  0.049667  0.014000  0.007667  0.064333  0.156000   0.466667  0.166667   0.633333  0.084000  -1.200000 -1.000000e+00  -2.200000 -0.066667         mathega01   0  11.800000   1.366667   3.633333  0.378333  1.166667   3.166667  0.364000   0.233333   0.466667  0.481000  0.536667   0.866667   0.966667  0.897333  0.166667  1.133333   1.333333   0.433333  0.333333  0.100000  0.300000  1.000000   4.800000\n",
      "313  314        Bennedict Mathurin     SF   20  IND  78  2222.000000  13.100000  0.566000  0.326000  0.477000  0.044000  0.115000  0.079000  0.076000  0.010000  0.005000  0.117000  0.246000   1.000000  0.800000   1.800000  0.038000  -1.200000 -2.500000e+00  -3.700000 -1.000000         mathube01  17  28.500000   5.300000  12.200000  0.434000  1.300000   4.000000  0.323000   4.000000   8.200000  0.488000  0.487000   4.800000   5.800000  0.828000  1.100000  3.000000   4.100000   1.500000  0.600000  0.200000  1.900000  2.100000  16.700000\n",
      "314  315           Wesley Matthews     SG   36  MIL  52   820.000000   7.000000  0.519000  0.775000  0.175000  0.045000  0.097000  0.072000  0.051000  0.012000  0.013000  0.095000  0.098000   0.300000  0.900000   1.200000  0.073000  -3.500000  8.000000e-01  -2.700000 -0.100000         matthwe02   0  15.800000   1.100000   3.100000  0.363000  0.800000   2.400000  0.315000   0.400000   0.700000  0.528000  0.484000   0.500000   0.500000  0.857000  0.700000  1.500000   2.200000   0.700000  0.400000  0.300000  0.300000  1.400000   3.400000\n",
      "315  316              Tyrese Maxey     SG   22  PHI  60  2016.000000  17.000000  0.605000  0.404000  0.233000  0.014000  0.088000  0.052000  0.169000  0.012000  0.004000  0.074000  0.241000   3.700000  1.600000   5.400000  0.128000   1.900000 -1.200000e+00   0.700000  1.300000         maxeyty01  41  33.600000   7.300000  15.200000  0.481000  2.700000   6.200000  0.434000   4.700000   9.100000  0.513000  0.568000   3.000000   3.600000  0.845000  0.400000  2.600000   2.900000   3.500000  0.800000  0.100000  1.300000  2.200000  20.300000\n",
      "316  317               Skylar Mays     SG   25  POR   6   189.000000  19.400000  0.624000  0.382000  0.191000  0.012000  0.104000  0.058000  0.400000  0.015000  0.005000  0.119000  0.193000   0.600000  0.100000   0.700000  0.171000   2.200000 -1.900000e+00   0.300000  0.100000          mayssk01   6  31.500000   5.700000  11.300000  0.500000  2.000000   4.300000  0.462000   3.700000   7.000000  0.524000  0.588000   2.000000   2.200000  0.923000  0.300000  2.800000   3.200000   8.300000  1.000000  0.200000  1.700000  1.800000  15.300000\n",
      "317  318             Miles McBride     PG   22  NYK  64   760.000000   8.400000  0.475000  0.623000  0.195000  0.019000  0.054000  0.036000  0.124000  0.024000  0.010000  0.097000  0.146000   0.000000  0.700000   0.700000  0.047000  -3.600000  1.400000e+00  -2.300000 -0.100000         mcbrimi01   2  11.900000   1.200000   3.400000  0.358000  0.600000   2.100000  0.299000   0.600000   1.300000  0.457000  0.451000   0.400000   0.700000  0.667000  0.200000  0.600000   0.800000   1.100000  0.600000  0.100000  0.400000  0.900000   3.500000\n",
      "318  319               Mac McClung     SG   24  PHI   2    41.000000  19.200000  0.563000  0.550000  0.250000  0.088000  0.198000  0.144000  0.353000  0.000000  0.000000  0.119000  0.275000   0.100000  0.000000   0.100000  0.140000   2.200000 -1.700000e+00   0.500000  0.000000         mccluma01   0  20.500000   4.500000  10.000000  0.450000  2.000000   5.500000  0.364000   2.500000   4.500000  0.556000  0.550000   1.500000   2.500000  0.600000  1.500000  3.500000   5.000000   4.500000  0.000000  0.000000  1.500000  1.500000  12.500000\n",
      "319  320               CJ McCollum     SG   31  NOP  75  2649.000000  15.600000  0.541000  0.404000  0.177000  0.024000  0.117000  0.070000  0.251000  0.013000  0.014000  0.112000  0.264000   1.500000  2.800000   4.300000  0.078000   1.500000 -7.000000e-01   0.800000  1.900000         mccolcj01  75  35.300000   7.800000  17.900000  0.437000  2.800000   7.200000  0.389000   5.000000  10.700000  0.469000  0.515000   2.400000   3.200000  0.769000  0.700000  3.600000   4.400000   5.700000  0.900000  0.500000  2.400000  2.000000  20.900000\n",
      "320  321            T.J. McConnell     PG   30  IND  75  1526.000000  16.800000  0.590000  0.113000  0.131000  0.033000  0.137000  0.085000  0.379000  0.025000  0.006000  0.206000  0.191000   1.900000  1.200000   3.100000  0.098000   0.400000  1.000000e-01   0.500000  1.000000         mccontj01   6  20.300000   3.800000   6.900000  0.543000  0.300000   0.800000  0.441000   3.400000   6.200000  0.556000  0.568000   0.800000   0.900000  0.853000  0.600000  2.500000   3.100000   5.300000  1.100000  0.100000  1.900000  1.400000   8.700000\n",
      "321  323           Jalen McDaniels     SF   25  TOT  80  1275.333333  11.966667  0.562667  0.343000  0.237000  0.040667  0.162000  0.100667  0.088667  0.020667  0.014667  0.112000  0.169333   0.333333  1.466667   1.833333  0.078000  -2.633333  4.000000e-01  -2.233333 -0.066667         mcdanja01  24  22.700000   3.300000   7.200000  0.463333  0.900000   2.600000  0.351333   2.466667   4.633333  0.526667  0.522667   1.433333   1.666667  0.837000  0.800000  3.300000   4.100000   1.466667  0.966667  0.366667  1.033333  2.500000   8.900000\n",
      "322  322           Jaden McDaniels     SF   22  MIN  79  2416.000000  12.000000  0.611000  0.376000  0.201000  0.043000  0.098000  0.071000  0.084000  0.015000  0.027000  0.126000  0.158000   2.000000  2.400000   4.400000  0.087000  -1.700000  5.000000e-01  -1.200000  0.500000         mcdanja02  79  30.600000   4.700000   9.100000  0.517000  1.400000   3.400000  0.398000   3.300000   5.700000  0.588000  0.591000   1.300000   1.800000  0.736000  1.200000  2.700000   3.900000   1.900000  0.900000  1.000000  1.400000  3.400000  12.100000\n",
      "323  324            Doug McDermott     SF   31  SAS  64  1314.000000  11.200000  0.590000  0.570000  0.134000  0.019000  0.099000  0.058000  0.098000  0.005000  0.004000  0.095000  0.192000   1.000000  0.000000   1.000000  0.035000  -0.700000 -2.600000e+00  -3.200000 -0.400000         mcderdo01   0  20.500000   3.700000   8.200000  0.457000  1.900000   4.700000  0.413000   1.800000   3.500000  0.516000  0.575000   0.800000   1.100000  0.757000  0.400000  1.800000   2.200000   1.400000  0.200000  0.100000  0.900000  1.800000  10.200000\n",
      "324  325              JaVale McGee      C   35  DAL  42   355.000000  17.200000  0.650000  0.040000  0.328000  0.097000  0.255000  0.175000  0.052000  0.006000  0.065000  0.201000  0.228000   0.100000  0.500000   0.600000  0.076000  -3.600000 -1.000000e-01  -3.700000 -0.100000         mcgeeja01   7   8.500000   1.900000   3.000000  0.640000  0.000000   0.100000  0.400000   1.900000   2.900000  0.650000  0.648000   0.600000   1.000000  0.585000  0.700000  1.800000   2.500000   0.300000  0.100000  0.600000  0.900000  1.300000   4.400000\n",
      "325  326            Bryce McGowens     SG   20  CHO  46   787.000000   7.200000  0.519000  0.396000  0.396000  0.027000  0.101000  0.063000  0.091000  0.009000  0.007000  0.153000  0.150000  -0.400000  0.400000   0.100000  0.005000  -4.600000 -1.400000e+00  -6.000000 -0.800000         mcgowbr01   7  17.100000   1.700000   4.400000  0.396000  0.600000   1.700000  0.325000   1.200000   2.700000  0.443000  0.460000   1.300000   1.700000  0.750000  0.400000  1.600000   2.000000   1.200000  0.300000  0.100000  0.900000  1.000000   5.300000\n",
      "326  327           Rodney McGruder     SG   31  DET  32   524.000000  10.700000  0.566000  0.638000  0.145000  0.041000  0.118000  0.078000  0.076000  0.015000  0.002000  0.064000  0.140000   0.500000  0.200000   0.700000  0.068000  -0.800000 -7.000000e-01  -1.500000  0.100000         mcgruro01  12  16.400000   1.900000   4.800000  0.408000  1.300000   3.000000  0.423000   0.700000   1.700000  0.382000  0.543000   0.600000   0.700000  0.818000  0.600000  1.700000   2.300000   0.900000  0.500000  0.000000  0.300000  1.200000   5.700000\n",
      "327  328         Jordan McLaughlin     PG   26  MIN  43   678.000000  11.800000  0.526000  0.538000  0.124000  0.025000  0.076000  0.051000  0.274000  0.022000  0.005000  0.177000  0.117000   0.700000  0.600000   1.300000  0.094000  -1.300000  6.000000e-01  -0.700000  0.200000         mclaujo01   0  15.800000   1.400000   3.400000  0.421000  0.600000   1.800000  0.308000   0.900000   1.600000  0.552000  0.503000   0.300000   0.400000  0.833000  0.300000  1.100000   1.400000   3.400000  0.700000  0.100000  0.800000  0.700000   3.700000\n",
      "328  329         De'Anthony Melton     PG   24  PHI  77  2150.000000  12.700000  0.566000  0.619000  0.134000  0.039000  0.131000  0.086000  0.129000  0.029000  0.018000  0.129000  0.164000   1.100000  3.100000   4.200000  0.095000  -0.700000  1.600000e+00   0.900000  1.600000         meltode01  58  27.900000   3.600000   8.500000  0.425000  2.000000   5.200000  0.390000   1.600000   3.200000  0.484000  0.546000   0.900000   1.100000  0.793000  0.900000  3.200000   4.100000   2.600000  1.600000  0.500000  1.300000  2.500000  10.100000\n",
      "329  330               Sam Merrill     SG   26  CLE   5    59.000000  15.500000  0.546000  0.818000  0.091000  0.000000  0.180000  0.090000  0.120000  0.034000  0.000000  0.000000  0.173000   0.100000  0.100000   0.200000  0.160000  -1.200000  2.500000e+00   1.200000  0.000000         merrisa01   0  11.800000   1.800000   4.400000  0.409000  1.000000   3.600000  0.278000   0.800000   0.800000  1.000000  0.523000   0.400000   0.400000  1.000000  0.000000  1.800000   1.800000   1.000000  0.800000  0.000000  0.000000  0.600000   5.000000\n",
      "330  331             Chimezie Metu      C   25  SAC  66   689.000000  17.300000  0.639000  0.174000  0.333000  0.078000  0.249000  0.164000  0.081000  0.015000  0.027000  0.113000  0.176000   1.200000  0.800000   2.100000  0.143000  -0.300000  2.000000e-01  -0.100000  0.300000          metuch01   0  10.400000   2.000000   3.300000  0.589000  0.100000   0.600000  0.237000   1.800000   2.700000  0.663000  0.610000   0.800000   1.100000  0.740000  0.700000  2.300000   3.000000   0.600000  0.300000  0.300000  0.500000  1.200000   4.900000\n",
      "331  332           Khris Middleton     SF   31  MIL  33   801.000000  17.400000  0.551000  0.399000  0.251000  0.038000  0.140000  0.091000  0.307000  0.014000  0.005000  0.136000  0.274000   1.000000  1.000000   1.900000  0.117000   1.000000 -3.000000e-01   0.800000  0.600000         middlkh01  19  24.300000   5.400000  12.300000  0.436000  1.500000   4.900000  0.315000   3.800000   7.400000  0.516000  0.499000   2.800000   3.100000  0.902000  0.800000  3.400000   4.200000   4.900000  0.700000  0.200000  2.200000  2.100000  15.100000\n",
      "332  333               Patty Mills     PG   34  BRK  40   567.000000  10.600000  0.554000  0.641000  0.144000  0.016000  0.070000  0.044000  0.139000  0.013000  0.005000  0.119000  0.197000   0.000000  0.400000   0.400000  0.035000  -1.400000 -1.700000e+00  -3.100000 -0.200000         millspa02   2  14.200000   2.200000   5.200000  0.411000  1.200000   3.400000  0.366000   0.900000   1.900000  0.493000  0.529000   0.600000   0.800000  0.833000  0.200000  0.900000   1.100000   1.400000  0.400000  0.100000  0.800000  0.800000   6.200000\n",
      "333  334              Shake Milton     SG   26  PHI  76  1567.000000  12.700000  0.575000  0.294000  0.231000  0.030000  0.113000  0.072000  0.223000  0.008000  0.008000  0.145000  0.185000   1.600000  1.200000   2.900000  0.087000  -1.000000 -9.000000e-01  -2.000000  0.000000         miltosh01  11  20.600000   3.200000   6.600000  0.479000  0.700000   1.900000  0.378000   2.400000   4.700000  0.521000  0.535000   1.300000   1.500000  0.853000  0.500000  2.000000   2.500000   3.200000  0.300000  0.200000  1.200000  1.600000   8.400000\n",
      "334  335             Justin Minaya     SF   23  POR   4    89.000000   4.000000  0.363000  0.522000  0.043000  0.038000  0.156000  0.097000  0.059000  0.011000  0.050000  0.146000  0.134000  -0.200000  0.100000  -0.100000 -0.067000  -7.200000 -1.900000e+00  -9.000000 -0.200000         minayju01   0  22.300000   1.800000   5.800000  0.304000  0.800000   3.000000  0.250000   1.000000   2.800000  0.364000  0.370000   0.000000   0.300000  0.000000  0.800000  3.000000   3.800000   1.000000  0.500000  1.300000  1.000000  2.300000   4.300000\n",
      "335  336               Josh Minott     SF   20  MIN  15    96.000000  17.900000  0.582000  0.167000  0.222000  0.059000  0.229000  0.146000  0.075000  0.020000  0.054000  0.071000  0.189000   0.100000  0.200000   0.300000  0.146000  -1.900000  4.000000e-01  -1.600000  0.000000         minotjo01   0   6.400000   1.200000   2.400000  0.500000  0.100000   0.400000  0.333000   1.100000   2.000000  0.533000  0.528000   0.500000   0.500000  1.000000  0.300000  1.300000   1.700000   0.300000  0.300000  0.400000  0.200000  0.700000   3.100000\n",
      "336  337           Davion Mitchell     PG   24  SAC  80  1447.000000   9.400000  0.545000  0.494000  0.078000  0.013000  0.070000  0.041000  0.165000  0.015000  0.009000  0.131000  0.141000   0.700000  0.800000   1.500000  0.050000  -2.400000 -4.000000e-01  -2.800000 -0.300000         mitchda01   9  18.100000   2.300000   5.000000  0.454000  0.800000   2.500000  0.320000   1.500000   2.500000  0.584000  0.533000   0.300000   0.400000  0.806000  0.200000  1.100000   1.300000   2.300000  0.600000  0.200000  0.800000  1.400000   5.600000\n",
      "337  338          Donovan Mitchell     SG   26  CLE  68  2432.000000  22.900000  0.614000  0.453000  0.262000  0.031000  0.109000  0.070000  0.214000  0.020000  0.010000  0.103000  0.321000   5.400000  3.500000   8.900000  0.176000   5.600000  6.000000e-01   6.300000  5.000000         mitchdo01  68  35.800000  10.000000  20.600000  0.484000  3.600000   9.300000  0.386000   6.400000  11.300000  0.566000  0.572000   4.700000   5.400000  0.867000  0.900000  3.300000   4.300000   4.400000  1.500000  0.400000  2.600000  2.500000  28.300000\n",
      "338  339               Evan Mobley     PF   21  CLE  79  2715.000000  17.900000  0.591000  0.108000  0.321000  0.081000  0.227000  0.154000  0.124000  0.011000  0.040000  0.119000  0.202000   3.700000  4.800000   8.500000  0.151000   0.000000  1.600000e+00   1.700000  2.500000         mobleev01  79  34.400000   6.600000  12.000000  0.554000  0.300000   1.300000  0.216000   6.400000  10.700000  0.595000  0.566000   2.600000   3.800000  0.674000  2.400000  6.600000   9.000000   2.800000  0.800000  1.500000  1.800000  2.800000  16.200000\n",
      "339  340             Isaiah Mobley     PF   23  CLE  13    84.000000  14.100000  0.521000  0.286000  0.143000  0.056000  0.224000  0.140000  0.050000  0.024000  0.033000  0.033000  0.164000   0.100000  0.200000   0.200000  0.135000  -2.500000  1.100000e+00  -1.400000  0.000000         mobleis01   0   6.500000   0.900000   2.200000  0.429000  0.200000   0.600000  0.375000   0.700000   1.500000  0.450000  0.482000   0.300000   0.300000  1.000000  0.300000  1.200000   1.500000   0.200000  0.300000  0.200000  0.100000  0.600000   2.400000\n",
      "340  341              Chima Moneke     SF   27  SAC   2     8.000000  -3.500000  0.347000  0.000000  1.000000  0.288000  0.000000  0.143000  0.161000  0.000000  0.000000  0.410000  0.262000   0.000000  0.000000   0.000000 -0.288000 -12.700000 -8.000000e+00 -20.700000  0.000000         monekch01   0   4.000000   0.500000   1.000000  0.500000  0.000000   0.000000  0.000000   0.500000   1.000000  0.500000  0.500000   0.000000   1.000000  0.000000  1.000000  0.000000   1.000000   0.500000  0.000000  0.000000  1.000000  1.000000   1.000000\n",
      "341  342                Malik Monk     SG   24  SAC  77  1719.000000  16.600000  0.587000  0.500000  0.260000  0.021000  0.113000  0.067000  0.250000  0.014000  0.010000  0.141000  0.258000   2.100000  1.200000   3.200000  0.091000   1.600000 -1.400000e+00   0.300000  1.000000          monkma01   0  22.300000   4.600000  10.300000  0.448000  1.900000   5.200000  0.359000   2.800000   5.200000  0.538000  0.538000   2.400000   2.700000  0.889000  0.400000  2.200000   2.600000   3.900000  0.600000  0.300000  1.900000  1.600000  13.500000\n",
      "342  343               Moses Moody     SG   20  GSW  63   817.000000  10.300000  0.603000  0.595000  0.233000  0.038000  0.102000  0.071000  0.082000  0.010000  0.008000  0.120000  0.146000   0.700000  0.600000   1.300000  0.076000  -1.700000 -9.000000e-01  -2.600000 -0.100000         moodymo01   3  13.000000   1.700000   3.600000  0.476000  0.800000   2.100000  0.363000   0.900000   1.500000  0.641000  0.584000   0.600000   0.800000  0.698000  0.400000  1.200000   1.700000   0.800000  0.300000  0.100000  0.500000  0.900000   4.800000\n",
      "343  344               Xavier Moon     SG   28  LAC   4    20.000000   7.200000  0.389000  0.333000  0.000000  0.000000  0.166000  0.084000  0.357000  0.000000  0.000000  0.100000  0.218000   0.000000  0.000000   0.000000 -0.030000  -4.100000 -1.000000e+00  -5.100000  0.000000          moonxa01   0   5.000000   0.800000   2.300000  0.333000  0.300000   0.800000  0.333000   0.500000   1.500000  0.333000  0.389000   0.000000   0.000000  0.000000  0.000000  0.800000   0.800000   1.300000  0.000000  0.000000  0.300000  0.500000   1.800000\n",
      "344  345         Wendell Moore Jr.     SG   21  MIN  29   153.000000   9.300000  0.465000  0.395000  0.116000  0.030000  0.100000  0.066000  0.153000  0.025000  0.028000  0.150000  0.149000  -0.100000  0.200000   0.100000  0.028000  -3.700000  1.300000e+00  -2.400000  0.000000         moorewe01   2   5.300000   0.600000   1.500000  0.419000  0.100000   0.600000  0.118000   0.600000   0.900000  0.615000  0.442000   0.100000   0.200000  0.800000  0.100000  0.500000   0.600000   0.600000  0.300000  0.200000  0.300000  0.400000   1.400000\n",
      "345  346                 Ja Morant     PG   23  MEM  61  1948.000000  23.300000  0.557000  0.247000  0.409000  0.033000  0.161000  0.097000  0.411000  0.016000  0.007000  0.126000  0.349000   3.400000  2.600000   6.000000  0.148000   5.200000  5.000000e-01   5.700000  3.800000         moranja01  59  31.900000   9.300000  19.900000  0.466000  1.500000   4.900000  0.307000   7.800000  15.000000  0.519000  0.504000   6.100000   8.100000  0.748000  1.000000  4.900000   5.900000   8.100000  1.100000  0.300000  3.400000  1.600000  26.200000\n",
      "346  348           Markieff Morris     PF   33  TOT  35   236.666667  10.066667  0.551333  0.627333  0.069667  0.031333  0.187000  0.109667  0.125667  0.011000  0.009000  0.126000  0.189000   0.066667  0.266667   0.266667  0.045000  -2.833333 -6.333333e-01  -3.466667 -0.066667         morrima02   2   9.833333   1.433333   3.466667  0.411667  0.833333   2.200000  0.388667   0.600000   1.300000  0.457000  0.533000   0.233333   0.233333  1.000000  0.300000  1.633333   1.900000   0.866667  0.233333  0.100000  0.500000  1.500000   3.966667\n",
      "347  347             Marcus Morris     PF   33  LAC  65  1825.000000  10.500000  0.534000  0.479000  0.135000  0.018000  0.139000  0.079000  0.089000  0.011000  0.010000  0.076000  0.176000   0.400000  1.600000   2.000000  0.053000  -1.800000 -2.000000e-01  -1.900000  0.000000         morrima03  65  28.100000   4.200000   9.900000  0.426000  1.700000   4.700000  0.364000   2.500000   5.200000  0.484000  0.513000   1.000000   1.300000  0.782000  0.400000  3.500000   4.000000   1.800000  0.600000  0.300000  0.900000  2.100000  11.200000\n",
      "348  349              Monte Morris     PG   27  WAS  62  1695.000000  15.000000  0.579000  0.396000  0.150000  0.018000  0.116000  0.069000  0.264000  0.012000  0.006000  0.099000  0.156000   3.100000  1.100000   4.200000  0.120000   0.800000 -4.000000e-01   0.500000  1.100000         morrimo01  61  27.300000   4.000000   8.300000  0.480000  1.300000   3.300000  0.382000   2.700000   5.000000  0.543000  0.555000   1.000000   1.200000  0.831000  0.400000  3.000000   3.400000   5.300000  0.700000  0.200000  1.000000  1.200000  10.300000\n",
      "349  350           Trey Murphy III     SF   22  NOP  79  2448.000000  15.200000  0.650000  0.621000  0.238000  0.027000  0.103000  0.065000  0.064000  0.018000  0.017000  0.065000  0.166000   4.800000  2.800000   7.600000  0.150000   1.400000  4.000000e-01   1.800000  2.300000         murphtr02  65  31.000000   4.900000  10.100000  0.484000  2.600000   6.300000  0.406000   2.300000   3.800000  0.611000  0.610000   2.200000   2.400000  0.905000  0.700000  2.800000   3.600000   1.400000  1.100000  0.500000  0.800000  2.000000  14.500000\n",
      "350  351           Dejounte Murray     SG   26  ATL  74  2693.000000  17.000000  0.540000  0.293000  0.144000  0.021000  0.138000  0.079000  0.240000  0.020000  0.006000  0.102000  0.244000   2.400000  2.300000   4.700000  0.084000   1.100000  0.000000e+00   1.000000  2.100000         murrade01  74  36.400000   8.300000  17.800000  0.464000  1.800000   5.200000  0.344000   6.500000  12.600000  0.514000  0.514000   2.100000   2.600000  0.832000  0.700000  4.500000   5.300000   6.100000  1.500000  0.300000  2.200000  1.400000  20.500000\n",
      "351  352              Jamal Murray     PG   25  DEN  65  2133.000000  18.000000  0.571000  0.415000  0.207000  0.027000  0.110000  0.069000  0.275000  0.015000  0.007000  0.113000  0.261000   3.300000  1.900000   5.100000  0.116000   2.600000 -1.300000e+00   1.300000  1.800000         murraja01  65  32.800000   7.300000  16.000000  0.454000  2.600000   6.600000  0.398000   4.600000   9.400000  0.494000  0.537000   2.800000   3.300000  0.833000  0.700000  3.200000   4.000000   6.200000  1.000000  0.200000  2.200000  1.600000  20.000000\n",
      "352  353             Keegan Murray     SF   22  SAC  80  2382.000000  12.300000  0.597000  0.641000  0.104000  0.043000  0.134000  0.089000  0.055000  0.012000  0.015000  0.068000  0.158000   2.600000  1.700000   4.300000  0.087000   0.400000 -1.000000e+00  -0.600000  0.800000         murrake02  78  29.800000   4.400000   9.800000  0.453000  2.600000   6.300000  0.411000   1.900000   3.500000  0.527000  0.584000   0.800000   1.000000  0.765000  1.100000  3.500000   4.600000   1.200000  0.800000  0.500000  0.800000  2.000000  12.200000\n",
      "353  354              Mike Muscala      C   31  TOT  63   630.000000  12.800000  0.611000  0.713000  0.172000  0.043000  0.189333  0.115667  0.067667  0.007333  0.021333  0.071667  0.149333   0.933333  0.733333   1.666667  0.126000  -0.500000 -3.333333e-02  -0.566667  0.266667         muscami01   9  15.233333   2.100000   4.600000  0.453000  1.300000   3.300000  0.390000   0.833333   1.300000  0.612333  0.591667   0.600000   0.800000  0.752000  0.600000  2.633333   3.233333   0.766667  0.233333  0.366667  0.400000  1.533333   6.066667\n",
      "354  355            Svi Mykhailiuk     SF   25  TOT  32   312.000000  14.533333  0.631333  0.652667  0.284333  0.023667  0.120333  0.071333  0.125667  0.014333  0.005000  0.115333  0.187333   0.333333  0.200000   0.533333  0.099333   1.466667 -3.333333e-01   1.166667  0.166667         mykhasv01   8  13.400000   2.200000   4.933333  0.462000  1.233333   2.866667  0.476000   0.966667   2.100000  0.319667  0.623000   0.733333   1.133333  0.647667  0.433333  1.100000   1.533333   1.500000  0.433333  0.100000  0.733333  0.666667   6.366667\n",
      "355  356           Larry Nance Jr.     PF   30  NOP  65  1381.000000  16.000000  0.649000  0.138000  0.259000  0.087000  0.203000  0.145000  0.117000  0.020000  0.026000  0.110000  0.119000   2.800000  2.100000   4.900000  0.171000   0.000000  2.000000e+00   2.000000  1.400000         nancela02   1  21.200000   2.900000   4.700000  0.610000  0.200000   0.600000  0.333000   2.600000   4.000000  0.654000  0.633000   0.800000   1.200000  0.696000  1.600000  3.800000   5.400000   1.800000  0.900000  0.600000  0.600000  2.000000   6.800000\n",
      "356  357           Andrew Nembhard     SG   23  IND  75  2073.000000  10.000000  0.528000  0.408000  0.096000  0.019000  0.088000  0.053000  0.224000  0.016000  0.005000  0.158000  0.161000   0.400000  0.800000   1.200000  0.029000  -2.400000 -8.000000e-01  -3.200000 -0.600000         nembhan01  63  27.600000   3.800000   8.600000  0.441000  1.200000   3.500000  0.350000   2.600000   5.100000  0.504000  0.512000   0.700000   0.800000  0.790000  0.500000  2.200000   2.700000   4.500000  0.900000  0.200000  1.700000  2.400000   9.500000\n",
      "357  358             Aaron Nesmith     SF   23  IND  73  1816.000000  10.500000  0.566000  0.532000  0.241000  0.038000  0.131000  0.085000  0.074000  0.014000  0.016000  0.103000  0.168000   0.900000  1.100000   2.000000  0.052000  -2.300000 -7.000000e-01  -3.000000 -0.400000         nesmiaa01  60  24.900000   3.500000   8.100000  0.427000  1.600000   4.300000  0.366000   1.900000   3.800000  0.496000  0.525000   1.600000   1.900000  0.838000  0.800000  2.900000   3.800000   1.300000  0.800000  0.500000  1.000000  3.200000  10.100000\n",
      "358  359                 Raul Neto     PG   30  CLE  48   505.000000  12.600000  0.628000  0.382000  0.309000  0.023000  0.084000  0.054000  0.210000  0.017000  0.007000  0.161000  0.132000   0.800000  0.600000   1.500000  0.142000  -1.700000  1.500000e+00  -0.200000  0.200000          netora01   1  10.500000   1.200000   2.300000  0.518000  0.300000   0.900000  0.286000   0.900000   1.400000  0.662000  0.573000   0.600000   0.700000  0.912000  0.200000  0.800000   1.000000   1.600000  0.400000  0.100000  0.500000  1.000000   3.300000\n",
      "359  360             Georges Niang     PF   29  PHI  78  1512.000000  10.900000  0.610000  0.765000  0.090000  0.015000  0.128000  0.072000  0.073000  0.010000  0.009000  0.094000  0.170000   1.100000  1.400000   2.500000  0.078000  -0.400000 -1.000000e+00  -1.400000  0.200000         niangge01   1  19.400000   2.800000   6.400000  0.442000  2.000000   4.900000  0.401000   0.900000   1.500000  0.576000  0.596000   0.500000   0.600000  0.867000  0.200000  2.100000   2.400000   1.000000  0.400000  0.200000  0.700000  1.900000   8.200000\n",
      "360  361               Daishen Nix     PG   20  HOU  57   914.000000   5.300000  0.447000  0.591000  0.152000  0.021000  0.097000  0.059000  0.192000  0.016000  0.007000  0.254000  0.154000  -1.500000  0.300000  -1.200000 -0.062000  -5.000000 -1.500000e+00  -6.500000 -1.000000           nixda01   7  16.000000   1.400000   4.200000  0.342000  0.700000   2.500000  0.286000   0.700000   1.700000  0.423000  0.426000   0.400000   0.600000  0.667000  0.300000  1.400000   1.700000   2.300000  0.500000  0.100000  1.500000  1.000000   4.000000\n",
      "361  362                Zeke Nnaji     PF   22  DEN  53   728.000000  12.500000  0.620000  0.332000  0.316000  0.105000  0.112000  0.109000  0.033000  0.011000  0.028000  0.122000  0.152000   0.900000  0.700000   1.600000  0.106000  -2.700000 -9.000000e-01  -3.700000 -0.300000         nnajize01   5  13.700000   2.100000   3.700000  0.561000  0.300000   1.200000  0.262000   1.800000   2.500000  0.710000  0.605000   0.800000   1.200000  0.645000  1.200000  1.400000   2.600000   0.300000  0.300000  0.400000  0.600000  2.000000   5.200000\n",
      "362  363              Nerlens Noel      C   28  TOT  17   130.000000   6.066667  0.369000  0.041000  0.333000  0.062000  0.196333  0.128000  0.070667  0.038333  0.039000  0.283000  0.120333  -0.200000  0.233333   0.000000 -0.021667  -7.633333  2.233333e+00  -5.366667 -0.066667          noelne01   4  12.233333   0.666667   2.066667  0.309333  0.066667   0.066667  0.500000   0.600000   2.000000  0.304333  0.319667   0.433333   0.700000  0.622333  0.700000  2.066667   2.766667   0.700000  0.933333  0.500000  1.033333  2.000000   1.800000\n",
      "363  364             Jaylen Nowell     SG   23  MIN  65  1252.000000  13.700000  0.527000  0.371000  0.158000  0.033000  0.117000  0.076000  0.159000  0.016000  0.003000  0.089000  0.250000   0.000000  1.200000   1.200000  0.046000  -1.500000 -1.000000e+00  -2.500000 -0.200000         nowelja01   2  19.300000   4.300000   9.600000  0.448000  1.000000   3.600000  0.289000   3.300000   6.000000  0.542000  0.502000   1.200000   1.500000  0.778000  0.600000  2.100000   2.600000   2.000000  0.600000  0.100000  1.000000  1.600000  10.800000\n",
      "364  365           Frank Ntilikina     PG   24  DAL  47   607.000000   5.200000  0.461000  0.508000  0.250000  0.013000  0.107000  0.059000  0.128000  0.013000  0.010000  0.165000  0.131000  -0.500000  0.400000  -0.100000 -0.010000  -6.100000 -7.000000e-01  -6.800000 -0.700000         ntilila01   5  12.900000   1.000000   2.800000  0.364000  0.400000   1.400000  0.254000   0.700000   1.400000  0.477000  0.428000   0.500000   0.700000  0.667000  0.100000  1.200000   1.300000   1.200000  0.300000  0.100000  0.600000  1.400000   2.900000\n",
      "365  366             Kendrick Nunn  SG-PG   27  TOT  70   642.666667  11.300000  0.532000  0.495000  0.092000  0.018333  0.103000  0.062333  0.141000  0.014333  0.006333  0.124667  0.237333  -0.400000  0.533333   0.133333  0.010000  -2.000000 -1.466667e+00  -3.400000 -0.266667          nunnke01   2  13.800000   2.733333   6.400000  0.425667  1.133333   3.166667  0.357000   1.600000   3.233333  0.493667  0.514333   0.500000   0.566667  0.854667  0.200000  1.333333   1.566667   1.333333  0.400000  0.100000  0.933333  0.933333   7.100000\n",
      "366  367              Jusuf Nurkić      C   28  POR  52  1391.000000  17.300000  0.589000  0.236000  0.380000  0.093000  0.297000  0.195000  0.164000  0.015000  0.028000  0.168000  0.221000   1.200000  1.500000   2.700000  0.092000  -0.500000  7.000000e-01   0.100000  0.700000         nurkiju01  52  26.800000   5.000000   9.700000  0.519000  0.800000   2.300000  0.361000   4.200000   7.400000  0.567000  0.561000   2.400000   3.700000  0.661000  2.200000  6.900000   9.100000   2.900000  0.800000  0.800000  2.300000  3.600000  13.300000\n",
      "367  368              Jordan Nwora     SF   24  TOT  62   792.000000  12.200000  0.559000  0.477333  0.194667  0.047000  0.158333  0.103667  0.105000  0.010000  0.010000  0.121000  0.194000   0.333333  0.666667   1.000000  0.060333  -0.800000 -1.300000e+00  -2.100000  0.000000         nworajo01  14  19.833333   3.333333   7.566667  0.432667  1.466667   3.533333  0.407333   1.866667   4.033333  0.453000  0.529667   1.133333   1.433333  0.790667  0.833333  3.000000   3.833333   1.500000  0.400000  0.233333  1.100000  1.266667   9.233333\n",
      "368  370               Chuma Okeke     SF   24  ORL  27   518.000000   9.100000  0.488000  0.705000  0.172000  0.057000  0.153000  0.105000  0.094000  0.018000  0.021000  0.115000  0.123000   0.000000  0.600000   0.700000  0.061000  -2.400000  8.000000e-01  -1.600000  0.100000         okekech01   8  19.200000   1.600000   4.500000  0.352000  1.000000   3.200000  0.302000   0.600000   1.300000  0.472000  0.459000   0.600000   0.800000  0.762000  1.000000  2.600000   3.600000   1.400000  0.700000  0.400000  0.600000  1.500000   4.700000\n",
      "369  371               Josh Okogie     SG   24  PHO  72  1350.000000  13.300000  0.531000  0.476000  0.464000  0.088000  0.119000  0.103000  0.103000  0.020000  0.023000  0.112000  0.177000   1.100000  1.700000   2.800000  0.101000  -0.800000  5.000000e-01  -0.200000  0.600000         okogijo01  26  18.800000   2.300000   5.800000  0.391000  0.900000   2.700000  0.335000   1.300000   3.000000  0.442000  0.471000   1.900000   2.700000  0.724000  1.500000  2.000000   3.500000   1.500000  0.800000  0.500000  0.900000  1.600000   7.300000\n",
      "370  372            Onyeka Okongwu      C   22  ATL  80  1849.000000  19.400000  0.678000  0.026000  0.394000  0.127000  0.215000  0.170000  0.058000  0.014000  0.049000  0.122000  0.151000   4.700000  2.400000   7.100000  0.185000   0.000000  8.000000e-01   0.800000  1.300000         okongon01  18  23.100000   4.000000   6.200000  0.638000  0.100000   0.200000  0.308000   3.900000   6.100000  0.647000  0.642000   1.900000   2.500000  0.781000  2.700000  4.500000   7.200000   1.000000  0.700000  1.300000  1.000000  3.100000   9.900000\n",
      "371  373               Isaac Okoro     SF   22  CLE  76  1652.000000  10.700000  0.614000  0.483000  0.291000  0.037000  0.096000  0.067000  0.070000  0.017000  0.017000  0.095000  0.119000   1.900000  2.300000   4.200000  0.122000  -1.900000  1.600000e+00  -0.300000  0.700000         okorois01  46  21.700000   2.300000   4.700000  0.494000  0.800000   2.300000  0.363000   1.500000   2.400000  0.617000  0.582000   1.000000   1.400000  0.757000  0.700000  1.800000   2.500000   1.100000  0.700000  0.400000  0.600000  2.100000   6.400000\n",
      "372  374                 KZ Okpala     PF   23  SAC  35   248.000000   6.200000  0.554000  0.553000  0.211000  0.032000  0.124000  0.078000  0.063000  0.014000  0.025000  0.144000  0.084000   0.100000  0.200000   0.300000  0.057000  -4.300000  1.100000e+00  -3.200000 -0.100000         okpalkz01   3   7.100000   0.500000   1.100000  0.421000  0.200000   0.600000  0.333000   0.300000   0.500000  0.529000  0.513000   0.200000   0.200000  0.875000  0.200000  0.800000   1.000000   0.400000  0.200000  0.200000  0.200000  1.100000   1.300000\n",
      "373  375            Victor Oladipo     SG   30  MIA  42  1106.000000  10.600000  0.513000  0.526000  0.196000  0.016000  0.123000  0.068000  0.198000  0.026000  0.011000  0.166000  0.211000  -0.900000  1.500000   0.600000  0.024000  -2.900000  8.000000e-01  -2.100000  0.000000         oladivi01   2  26.300000   3.800000   9.600000  0.397000  1.700000   5.000000  0.330000   2.100000   4.500000  0.471000  0.484000   1.400000   1.900000  0.747000  0.400000  2.700000   3.000000   3.500000  1.400000  0.300000  2.100000  2.400000  10.700000\n",
      "374  376              Kelly Olynyk      C   31  UTA  68  1942.000000  14.400000  0.643000  0.424000  0.417000  0.046000  0.186000  0.117000  0.176000  0.015000  0.016000  0.203000  0.178000   2.400000  1.900000   4.300000  0.106000  -0.400000  9.000000e-01   0.400000  1.200000         olynyke01  68  28.600000   4.100000   8.200000  0.499000  1.400000   3.500000  0.394000   2.700000   4.700000  0.576000  0.583000   2.900000   3.400000  0.853000  1.200000  5.000000   6.200000   3.700000  0.900000  0.500000  2.500000  3.400000  12.500000\n",
      "375  377            Eugene Omoruyi     SF   25  TOT  40   430.000000  10.900000  0.532333  0.384333  0.326000  0.072333  0.118333  0.095000  0.062333  0.021000  0.003667  0.116667  0.192667   0.066667  0.333333   0.400000  0.042667  -3.600000 -9.000000e-01  -4.500000 -0.266667         omorueu01   6  16.600000   2.600000   5.900000  0.445333  0.633333   2.300000  0.277333   1.966667   3.566667  0.548000  0.499333   1.333333   1.966667  0.670000  1.100000  1.733333   2.866667   0.733333  0.700000  0.100000  0.900000  2.300000   7.200000\n",
      "376  369             Royce O'Neale     SF   29  BRK  76  2409.000000   9.200000  0.538000  0.707000  0.116000  0.026000  0.150000  0.090000  0.153000  0.013000  0.017000  0.155000  0.136000   0.400000  2.500000   2.900000  0.057000  -1.700000  6.000000e-01  -1.100000  0.500000         onealro01  53  31.700000   3.000000   7.800000  0.386000  2.100000   5.500000  0.389000   0.900000   2.300000  0.379000  0.524000   0.700000   0.900000  0.725000  0.700000  4.300000   5.100000   3.700000  0.900000  0.600000  1.500000  3.100000   8.800000\n",
      "377  378                Cedi Osman     SF   27  CLE  77  1548.000000  12.000000  0.579000  0.589000  0.204000  0.019000  0.115000  0.067000  0.106000  0.011000  0.007000  0.083000  0.182000   1.400000  1.900000   3.300000  0.103000  -0.800000  2.000000e-01  -0.700000  0.500000         osmande01   2  20.100000   3.100000   6.900000  0.451000  1.500000   4.100000  0.372000   1.600000   2.800000  0.564000  0.560000   1.000000   1.400000  0.694000  0.300000  2.000000   2.300000   1.500000  0.500000  0.100000  0.700000  1.600000   8.700000\n",
      "378  379           Kelly Oubre Jr.     SF   27  CHO  48  1548.000000  14.800000  0.534000  0.414000  0.254000  0.044000  0.129000  0.086000  0.056000  0.021000  0.010000  0.066000  0.265000   0.100000  1.500000   1.700000  0.051000  -0.400000 -7.000000e-01  -1.100000  0.300000         oubreke01  40  32.300000   7.400000  17.100000  0.431000  2.300000   7.100000  0.319000   5.100000  10.000000  0.510000  0.497000   3.300000   4.300000  0.760000  1.400000  3.800000   5.200000   1.100000  1.400000  0.400000  1.300000  2.900000  20.300000\n",
      "379  380                Chris Paul     PG   37  PHO  59  1889.000000  17.700000  0.555000  0.391000  0.240000  0.016000  0.134000  0.074000  0.387000  0.024000  0.010000  0.134000  0.192000   3.700000  2.500000   6.200000  0.156000   2.000000  1.200000e+00   3.200000  2.500000          paulch01  59  32.000000   5.000000  11.300000  0.440000  1.700000   4.400000  0.375000   3.300000   6.900000  0.482000  0.513000   2.300000   2.700000  0.831000  0.500000  3.800000   4.300000   8.900000  1.500000  0.400000  1.900000  2.100000  13.900000\n",
      "380  381             Cameron Payne     PG   28  PHO  48   968.000000  13.200000  0.512000  0.408000  0.141000  0.013000  0.110000  0.061000  0.326000  0.017000  0.007000  0.144000  0.248000   0.000000  1.000000   1.100000  0.053000  -0.500000 -7.000000e-01  -1.200000  0.200000         payneca01  15  20.200000   3.900000   9.400000  0.415000  1.400000   3.900000  0.368000   2.500000   5.600000  0.448000  0.490000   1.000000   1.300000  0.766000  0.300000  2.000000   2.200000   4.500000  0.700000  0.200000  1.700000  1.800000  10.300000\n",
      "381  382            Gary Payton II     PG   30  TOT  22   244.666667  14.100000  0.698667  0.371000  0.102000  0.086333  0.141667  0.113667  0.107333  0.028333  0.015333  0.173667  0.107000   0.400000  0.266667   0.633333  0.137667  -0.933333  1.700000e+00   0.733333  0.133333         paytoga02   1  16.566667   1.966667   3.266667  0.595333  0.600000   1.200000  0.491000   1.400000   2.100000  0.653333  0.687333   0.300000   0.333333  0.841333  1.266667  2.066667   3.333333   1.333333  1.000000  0.300000  0.700000  1.966667   4.800000\n",
      "382  383               Theo Pinson     SG   27  DAL  40   323.000000  10.100000  0.512000  0.713000  0.149000  0.036000  0.193000  0.114000  0.196000  0.009000  0.003000  0.115000  0.147000   0.200000  0.200000   0.500000  0.071000  -2.400000 -9.000000e-01  -3.400000 -0.100000         pinsoth01   1   8.100000   0.800000   2.200000  0.356000  0.600000   1.600000  0.355000   0.200000   0.600000  0.360000  0.483000   0.300000   0.300000  0.846000  0.300000  1.300000   1.600000   1.200000  0.200000  0.000000  0.300000  0.900000   2.400000\n",
      "383  384         Scotty Pippen Jr.     PG   22  LAL   6    32.000000   9.600000  0.439000  0.250000  0.750000  0.069000  0.065000  0.067000  0.082000  0.030000  0.026000  0.111000  0.237000  -0.100000  0.000000   0.000000 -0.017000  -5.100000 -8.000000e-01  -5.900000  0.000000         pippesc02   0   5.300000   0.700000   2.000000  0.333000  0.200000   0.500000  0.333000   0.500000   1.500000  0.333000  0.375000   0.800000   1.500000  0.556000  0.300000  0.300000   0.700000   0.300000  0.300000  0.200000  0.300000  0.500000   2.300000\n",
      "384  385             Mason Plumlee      C   32  TOT  79  1369.333333  19.266667  0.707667  0.000000  0.647000  0.114667  0.258667  0.186667  0.161000  0.011000  0.020667  0.171333  0.148667   3.666667  1.600000   5.266667  0.186000   0.933333  1.033333e+00   1.966667  1.466667         plumlma01  60  24.800000   3.900000   5.666667  0.692000  0.000000   0.000000  0.000000   3.900000   5.666667  0.692000  0.692000   2.400000   3.700000  0.671000  2.666667  5.800000   8.500000   2.833333  0.566667  0.566667  1.466667  2.666667  10.166667\n",
      "385  386              Jakob Poeltl      C   27  TOT  72  1270.666667  21.266667  0.637333  0.001667  0.323333  0.129333  0.256333  0.189667  0.147667  0.017333  0.041000  0.142667  0.181000   2.466667  1.500000   4.000000  0.158000   1.266667  9.000000e-01   2.133333  1.266667         poeltja01  71  26.600000   5.466667   8.600000  0.632333  0.000000   0.000000  0.000000   5.466667   8.600000  0.633333  0.632333   1.666667   2.800000  0.588667  3.266667  5.800000   9.066667   2.666667  0.966667  1.200000  1.633333  2.766667  12.566667\n",
      "386  387        Aleksej Pokusevski     PF   21  OKC  34   701.000000  13.400000  0.522000  0.418000  0.141000  0.068000  0.178000  0.122000  0.124000  0.014000  0.057000  0.140000  0.183000   0.000000  1.000000   1.000000  0.066000  -1.000000  1.000000e+00   0.000000  0.300000         pokusal01  25  20.600000   3.200000   7.300000  0.434000  1.100000   3.100000  0.365000   2.100000   4.300000  0.483000  0.510000   0.600000   1.000000  0.629000  1.300000  3.400000   4.700000   1.900000  0.600000  1.300000  1.300000  1.700000   8.100000\n",
      "387  388              Jordan Poole     PG   23  GSW  82  2458.000000  14.600000  0.573000  0.498000  0.325000  0.015000  0.085000  0.050000  0.225000  0.012000  0.008000  0.147000  0.292000   1.400000  1.900000   3.200000  0.063000   0.000000 -1.800000e+00  -1.800000  0.100000         poolejo01  43  30.000000   6.700000  15.600000  0.430000  2.600000   7.800000  0.336000   4.100000   7.800000  0.524000  0.514000   4.400000   5.100000  0.870000  0.400000  2.400000   2.700000   4.500000  0.800000  0.300000  3.100000  2.600000  20.400000\n",
      "388  389          Kevin Porter Jr.     PG   22  HOU  59  2024.000000  16.200000  0.565000  0.436000  0.299000  0.041000  0.131000  0.085000  0.257000  0.020000  0.008000  0.158000  0.243000   1.900000  1.000000   2.900000  0.068000   1.400000 -8.000000e-01   0.600000  1.300000         porteke02  59  34.300000   6.600000  15.000000  0.442000  2.400000   6.500000  0.366000   4.200000   8.500000  0.501000  0.522000   3.500000   4.500000  0.784000  1.300000  4.000000   5.300000   5.700000  1.400000  0.300000  3.200000  2.600000  19.200000\n",
      "389  390        Michael Porter Jr.     SF   24  DEN  62  1798.000000  16.800000  0.621000  0.556000  0.147000  0.042000  0.172000  0.109000  0.053000  0.010000  0.014000  0.073000  0.227000   2.600000  1.800000   4.300000  0.116000   2.000000 -1.800000e+00   0.200000  1.000000         portemi01  62  29.000000   6.400000  13.200000  0.487000  3.000000   7.300000  0.414000   3.400000   5.900000  0.579000  0.602000   1.500000   1.900000  0.800000  1.000000  4.500000   5.500000   1.000000  0.600000  0.500000  1.100000  1.900000  17.400000\n",
      "390  391           Otto Porter Jr.     SF   29  TOR   8   146.000000  14.000000  0.656000  0.567000  0.267000  0.043000  0.109000  0.074000  0.072000  0.037000  0.000000  0.107000  0.110000   0.200000  0.200000   0.400000  0.142000  -1.300000  2.000000e+00   0.700000  0.100000         porteot01   2  18.300000   1.900000   3.800000  0.500000  0.800000   2.100000  0.353000   1.100000   1.600000  0.692000  0.600000   1.000000   1.000000  1.000000  0.800000  1.600000   2.400000   1.000000  1.400000  0.000000  0.500000  0.900000   5.500000\n",
      "391  392              Bobby Portis     PF   27  MIL  70  1818.000000  17.800000  0.575000  0.320000  0.156000  0.092000  0.286000  0.193000  0.087000  0.008000  0.007000  0.086000  0.217000   2.500000  2.800000   5.300000  0.139000   1.200000 -6.000000e-01   0.700000  1.200000         portibo01  22  26.000000   5.700000  11.500000  0.496000  1.400000   3.700000  0.370000   4.300000   7.800000  0.555000  0.555000   1.400000   1.800000  0.768000  2.200000  7.400000   9.600000   1.500000  0.400000  0.200000  1.200000  1.600000  14.100000\n",
      "392  393        Kristaps Porziņģis      C   27  WAS  65  2120.000000  23.100000  0.627000  0.350000  0.409000  0.062000  0.218000  0.143000  0.129000  0.013000  0.040000  0.102000  0.274000   5.000000  2.700000   7.700000  0.174000   3.800000  5.000000e-01   4.300000  3.400000         porzikr01  65  32.600000   7.800000  15.700000  0.498000  2.100000   5.500000  0.385000   5.700000  10.200000  0.559000  0.565000   5.400000   6.400000  0.851000  1.800000  6.600000   8.400000   2.700000  0.900000  1.500000  2.100000  3.000000  23.200000\n",
      "393  394              Micah Potter     PF   24  UTA   7    52.000000  18.600000  0.800000  0.467000  0.000000  0.063000  0.267000  0.166000  0.112000  0.009000  0.000000  0.118000  0.137000   0.200000  0.000000   0.200000  0.186000   2.400000  1.200000e+00   3.500000  0.100000         pottemi01   0   7.400000   1.400000   2.100000  0.667000  0.600000   1.000000  0.571000   0.900000   1.100000  0.750000  0.800000   0.000000   0.000000  0.000000  0.400000  1.900000   2.300000   0.600000  0.100000  0.000000  0.300000  0.700000   3.400000\n",
      "394  395             Dwight Powell      C   31  DAL  76  1458.000000  15.500000  0.738000  0.019000  0.625000  0.118000  0.133000  0.125000  0.069000  0.016000  0.016000  0.159000  0.126000   3.800000  1.300000   5.100000  0.168000  -1.200000  0.000000e+00  -1.200000  0.300000         poweldw01  64  19.200000   2.600000   3.500000  0.732000  0.000000   0.100000  0.000000   2.600000   3.500000  0.746000  0.732000   1.500000   2.200000  0.667000  2.000000  2.200000   4.100000   0.900000  0.600000  0.300000  0.900000  2.800000   6.700000\n",
      "395  396             Norman Powell     SG   29  LAC  60  1567.000000  17.100000  0.612000  0.404000  0.390000  0.017000  0.107000  0.063000  0.110000  0.016000  0.010000  0.108000  0.260000   2.100000  1.400000   3.500000  0.107000   1.000000 -7.000000e-01   0.300000  0.900000         powelno01   8  26.100000   5.700000  11.800000  0.479000  1.900000   4.800000  0.397000   3.800000   7.100000  0.534000  0.559000   3.800000   4.600000  0.812000  0.400000  2.500000   2.900000   1.800000  0.800000  0.300000  1.700000  2.100000  17.000000\n",
      "396  397             Jason Preston     PG   23  LAC  14   124.000000  10.300000  0.489000  0.439000  0.049000  0.018000  0.179000  0.099000  0.309000  0.008000  0.000000  0.193000  0.183000   0.000000  0.100000   0.100000  0.021000  -2.100000 -5.000000e-01  -2.600000  0.000000         prestja01   0   8.900000   1.300000   2.900000  0.439000  0.400000   1.300000  0.278000   0.900000   1.600000  0.565000  0.500000   0.000000   0.100000  0.000000  0.100000  1.400000   1.600000   1.900000  0.100000  0.000000  0.700000  0.500000   2.900000\n",
      "397  398              Joshua Primo     SG   20  SAS   4    93.000000   6.100000  0.467000  0.462000  0.346000  0.023000  0.134000  0.076000  0.244000  0.005000  0.018000  0.269000  0.182000  -0.200000  0.000000  -0.100000 -0.073000  -4.700000 -1.600000e+00  -6.300000 -0.100000         primojo01   0  23.300000   2.300000   6.500000  0.346000  0.800000   3.000000  0.250000   1.500000   3.500000  0.429000  0.404000   1.800000   2.300000  0.778000  0.500000  2.800000   3.300000   4.500000  0.300000  0.500000  2.800000  2.000000   7.000000\n",
      "398  399            Taurean Prince     SF   28  MIN  54  1192.000000  10.000000  0.597000  0.512000  0.203000  0.014000  0.108000  0.062000  0.096000  0.011000  0.011000  0.143000  0.173000   0.300000  1.000000   1.300000  0.052000  -2.700000 -6.000000e-01  -3.300000 -0.400000         princta02   4  22.100000   3.300000   7.000000  0.467000  1.400000   3.600000  0.381000   1.900000   3.400000  0.557000  0.565000   1.200000   1.400000  0.844000  0.300000  2.200000   2.400000   1.600000  0.500000  0.300000  1.300000  2.300000   9.100000\n",
      "399  400          Payton Pritchard     PG   25  BOS  48   643.000000  10.300000  0.536000  0.629000  0.065000  0.043000  0.105000  0.075000  0.140000  0.011000  0.001000  0.137000  0.198000  -0.100000  0.700000   0.600000  0.045000  -2.100000 -1.200000e+00  -3.400000 -0.200000         pritcpa01   3  13.400000   2.100000   5.100000  0.412000  1.200000   3.200000  0.364000   0.900000   1.900000  0.495000  0.527000   0.300000   0.300000  0.750000  0.500000  1.300000   1.800000   1.300000  0.300000  0.000000  0.800000  0.800000   5.600000\n",
      "400  401            Trevelin Queen     SG   25  IND   7    70.000000   6.000000  0.337000  0.517000  0.172000  0.127000  0.142000  0.135000  0.111000  0.014000  0.061000  0.183000  0.229000  -0.300000  0.100000  -0.200000 -0.133000  -5.600000 -1.500000e+00  -7.200000 -0.100000         queentr01   0  10.000000   1.000000   4.100000  0.241000  0.300000   2.100000  0.133000   0.700000   2.000000  0.357000  0.276000   0.700000   0.700000  1.000000  1.100000  1.300000   2.400000   0.900000  0.300000  0.700000  1.000000  0.600000   3.000000\n",
      "401  402             Neemias Queta      C   23  SAC   5    29.000000  17.000000  0.607000  0.000000  0.222000  0.198000  0.235000  0.217000  0.050000  0.000000  0.060000  0.092000  0.161000   0.100000  0.000000   0.100000  0.149000  -2.600000 -8.000000e-01  -3.400000  0.000000         quetane01   0   5.800000   1.200000   1.800000  0.667000  0.000000   0.000000  0.000000   1.200000   1.800000  0.667000  0.667000   0.000000   0.400000  0.000000  1.000000  1.200000   2.200000   0.200000  0.000000  0.400000  0.200000  1.400000   2.400000\n",
      "402  403         Immanuel Quickley     PG   23  NYK  81  2344.000000  16.300000  0.578000  0.485000  0.265000  0.027000  0.131000  0.079000  0.174000  0.017000  0.006000  0.087000  0.209000   4.400000  2.300000   6.700000  0.137000   1.300000  4.000000e-01   1.700000  2.100000         quickim01  21  28.900000   5.200000  11.600000  0.448000  2.100000   5.600000  0.370000   3.100000   6.000000  0.521000  0.537000   2.500000   3.100000  0.819000  0.700000  3.400000   4.200000   3.400000  1.000000  0.200000  1.200000  2.000000  14.900000\n",
      "403  404           Lester Quinones     SG   22  GSW   4    18.000000   8.600000  0.654000  0.800000  1.200000  0.062000  0.120000  0.092000  0.142000  0.026000  0.000000  0.396000  0.294000  -0.100000  0.000000   0.000000 -0.103000  -6.400000 -3.800000e+00 -10.200000  0.000000         quinole01   0   4.500000   0.500000   1.300000  0.400000  0.500000   1.000000  0.500000   0.000000   0.300000  0.000000  0.600000   1.000000   1.500000  0.667000  0.300000  0.500000   0.800000   0.500000  0.300000  0.000000  1.300000  0.000000   2.500000\n",
      "404  405             Julius Randle     PF   28  NYK  77  2737.000000  20.300000  0.581000  0.444000  0.371000  0.056000  0.252000  0.154000  0.185000  0.009000  0.007000  0.115000  0.295000   5.000000  3.100000   8.100000  0.142000   3.900000 -2.000000e-01   3.700000  3.900000         randlju01  77  35.500000   8.500000  18.600000  0.459000  2.800000   8.300000  0.343000   5.700000  10.300000  0.553000  0.536000   5.200000   6.900000  0.757000  1.800000  8.100000  10.000000   4.100000  0.600000  0.300000  2.800000  3.000000  25.100000\n",
      "405  406             Austin Reaves     SG   24  LAL  64  1843.000000  14.900000  0.687000  0.441000  0.541000  0.020000  0.090000  0.056000  0.157000  0.008000  0.009000  0.140000  0.162000   4.100000  1.400000   5.400000  0.142000   0.600000  1.000000e-01   0.700000  1.200000         reaveau01  22  28.800000   4.000000   7.700000  0.529000  1.300000   3.400000  0.398000   2.700000   4.300000  0.631000  0.616000   3.600000   4.100000  0.864000  0.500000  2.500000   3.000000   3.400000  0.500000  0.300000  1.500000  1.700000  13.000000\n",
      "406  407               Cam Reddish     SF   23  TOT  40   660.000000  10.600000  0.560667  0.458000  0.240667  0.020000  0.079000  0.049333  0.080000  0.019000  0.013333  0.117333  0.170333   0.200000  0.466667   0.633333  0.047333  -2.600000 -7.333333e-01  -3.333333 -0.233333         reddica01  20  24.766667   3.500000   7.800000  0.446000  1.133333   3.600000  0.311667   2.366667   4.200000  0.559333  0.517333   1.633333   1.900000  0.855000  0.500000  1.766667   2.233333   1.433333  1.000000  0.366667  1.200000  1.800000   9.700000\n",
      "407  408                Davon Reed     SG   27  TOT  43   228.000000   9.366667  0.540333  0.532667  0.512000  0.036333  0.146000  0.092667  0.115667  0.025333  0.007000  0.119667  0.128333  -0.233333  0.266667   0.033333  0.069000  -3.766667  1.366667e+00  -2.366667 -0.200000          reedda01   1   6.800000   0.600000   1.600000  0.465333  0.333333   0.900000  0.411333   0.300000   0.733333  0.513000  0.574333   0.300000   0.566667  0.555667  0.200000  0.933333   1.166667   0.500000  0.333333  0.066667  0.366667  0.766667   1.800000\n",
      "408  409                 Paul Reed      C   23  PHI  69   755.000000  19.200000  0.620000  0.029000  0.244000  0.178000  0.231000  0.205000  0.053000  0.030000  0.063000  0.163000  0.164000   1.200000  1.600000   2.800000  0.180000  -1.600000  1.500000e+00  -0.100000  0.400000          reedpa01   2  10.900000   1.800000   3.000000  0.593000  0.000000   0.100000  0.167000   1.800000   2.900000  0.606000  0.596000   0.600000   0.700000  0.745000  1.600000  2.200000   3.800000   0.400000  0.700000  0.700000  0.700000  1.800000   4.200000\n",
      "409  410                  Naz Reid      C   23  MIN  68  1251.000000  18.500000  0.617000  0.376000  0.220000  0.066000  0.228000  0.149000  0.096000  0.016000  0.037000  0.127000  0.248000   1.100000  1.900000   3.000000  0.114000   0.300000  8.000000e-01   1.000000  1.000000          reidna01  11  18.400000   4.600000   8.500000  0.537000  1.100000   3.200000  0.346000   3.500000   5.300000  0.653000  0.602000   1.300000   1.900000  0.677000  1.100000  3.800000   4.900000   1.100000  0.600000  0.800000  1.400000  2.600000  11.500000\n",
      "410  411              Jared Rhoden     SG   23  DET  14   198.000000   6.500000  0.482000  0.455000  0.136000  0.060000  0.150000  0.104000  0.028000  0.010000  0.004000  0.060000  0.107000   0.000000  0.100000   0.100000  0.027000  -4.900000 -1.100000e+00  -6.100000 -0.200000         rhodeja01   0  14.100000   1.200000   3.100000  0.386000  0.400000   1.400000  0.250000   0.900000   1.700000  0.500000  0.443000   0.400000   0.400000  1.000000  0.800000  1.900000   2.600000   0.300000  0.300000  0.100000  0.200000  1.600000   3.200000\n",
      "411  413           Josh Richardson     SG   29  TOT  65  1020.000000  11.933333  0.553667  0.540000  0.145333  0.028000  0.098667  0.062667  0.147667  0.022333  0.012333  0.127333  0.178000   0.433333  0.733333   1.200000  0.057667  -1.333333  1.333333e-01  -1.200000  0.200000         richajo01  10  23.466667   3.533333   8.200000  0.428667  1.600000   4.366667  0.368667   1.933333   3.800000  0.497333  0.528333   1.033333   1.166667  0.832333  0.600000  2.066667   2.633333   2.533333  1.133333  0.333333  1.266667  1.833333   9.700000\n",
      "412  412             Nick Richards      C   25  CHO  65  1217.000000  18.300000  0.676000  0.003000  0.585000  0.126000  0.240000  0.182000  0.045000  0.004000  0.051000  0.130000  0.156000   2.700000  1.500000   4.200000  0.165000  -1.000000 -2.000000e-01  -1.300000  0.200000         richani01   9  18.700000   3.000000   4.800000  0.629000  0.000000   0.000000  1.000000   3.000000   4.800000  0.628000  0.631000   2.100000   2.800000  0.749000  2.300000  4.100000   6.400000   0.600000  0.200000  1.100000  0.900000  2.400000   8.200000\n",
      "413  414             Austin Rivers     SG   30  MIN  52  1016.000000   7.400000  0.564000  0.589000  0.187000  0.006000  0.084000  0.046000  0.093000  0.013000  0.003000  0.092000  0.105000   0.500000  0.800000   1.300000  0.061000  -3.300000  5.000000e-01  -2.800000 -0.200000         riverau01  10  19.500000   1.800000   4.000000  0.435000  0.800000   2.400000  0.350000   0.900000   1.700000  0.558000  0.538000   0.600000   0.800000  0.769000  0.100000  1.500000   1.600000   1.400000  0.500000  0.100000  0.400000  1.500000   4.900000\n",
      "414  415           Duncan Robinson     SF   28  MIA  42   691.000000   7.800000  0.534000  0.810000  0.135000  0.013000  0.107000  0.059000  0.097000  0.010000  0.000000  0.100000  0.179000  -0.100000  0.600000   0.500000  0.035000  -3.500000 -1.500000e+00  -5.000000 -0.500000         robindu01   1  16.500000   2.100000   5.600000  0.371000  1.500000   4.600000  0.328000   0.600000   1.100000  0.556000  0.504000   0.700000   0.800000  0.906000  0.200000  1.500000   1.600000   1.100000  0.300000  0.000000  0.700000  1.800000   6.400000\n",
      "415  418    Jeremiah Robinson-Earl     PF   22  OKC  43   814.000000  13.000000  0.548000  0.448000  0.169000  0.092000  0.147000  0.119000  0.070000  0.014000  0.012000  0.067000  0.146000   1.100000  0.800000   1.900000  0.111000  -0.800000 -7.000000e-01  -1.500000  0.100000         robinje02  20  18.900000   2.600000   5.800000  0.444000  0.900000   2.600000  0.333000   1.700000   3.200000  0.533000  0.518000   0.800000   1.000000  0.833000  1.700000  2.500000   4.200000   1.000000  0.600000  0.300000  0.400000  1.700000   6.800000\n",
      "416  416         Mitchell Robinson      C   24  NYK  59  1591.000000  18.900000  0.652000  0.000000  0.436000  0.184000  0.200000  0.192000  0.045000  0.017000  0.065000  0.109000  0.101000   4.000000  2.600000   6.500000  0.197000   1.000000  1.400000e+00   2.400000  1.700000         robinmi01  58  27.000000   3.200000   4.700000  0.671000  0.000000   0.000000  0.000000   3.200000   4.700000  0.671000  0.671000   1.000000   2.100000  0.484000  4.500000  4.900000   9.400000   0.900000  0.900000  1.800000  0.700000  2.700000   7.400000\n",
      "417  417          Orlando Robinson      C   22  MIA  31   425.000000  13.400000  0.565000  0.067000  0.348000  0.128000  0.223000  0.174000  0.084000  0.014000  0.029000  0.135000  0.124000   0.500000  0.600000   1.100000  0.129000  -2.700000  7.000000e-01  -2.100000  0.000000         robinor01   1  13.700000   1.500000   2.900000  0.528000  0.000000   0.200000  0.000000   1.500000   2.700000  0.566000  0.528000   0.700000   1.000000  0.710000  1.500000  2.500000   4.100000   0.800000  0.400000  0.400000  0.500000  1.700000   3.700000\n",
      "418  419               Isaiah Roby     PF   24  SAS  42   474.000000   9.300000  0.497000  0.387000  0.265000  0.047000  0.206000  0.123000  0.107000  0.018000  0.012000  0.152000  0.178000  -0.400000  0.300000  -0.100000 -0.011000  -4.000000 -6.000000e-01  -4.600000 -0.300000          robyis01   2  11.300000   1.600000   3.700000  0.432000  0.400000   1.400000  0.300000   1.200000   2.300000  0.516000  0.490000   0.500000   1.000000  0.488000  0.500000  2.000000   2.500000   0.900000  0.400000  0.200000  0.700000  1.300000   4.100000\n",
      "419  420               David Roddy     PF   21  MEM  70  1258.000000   8.800000  0.519000  0.505000  0.155000  0.042000  0.120000  0.081000  0.061000  0.011000  0.014000  0.113000  0.167000  -0.300000  1.400000   1.100000  0.043000  -3.200000 -7.000000e-01  -3.900000 -0.600000         roddyda01   4  18.000000   2.600000   6.000000  0.429000  0.900000   3.000000  0.307000   1.600000   3.000000  0.553000  0.506000   0.600000   0.900000  0.631000  0.700000  2.000000   2.800000   0.800000  0.400000  0.300000  0.800000  1.500000   6.700000\n",
      "420  421              Ryan Rollins     PG   20  GSW  12    62.000000  -1.400000  0.508000  0.450000  0.300000  0.054000  0.157000  0.106000  0.124000  0.008000  0.014000  0.414000  0.261000  -0.300000  0.100000  -0.300000 -0.218000 -11.300000 -3.700000e+00 -15.000000 -0.200000         rolliry01   0   5.200000   0.600000   1.700000  0.350000  0.300000   0.800000  0.333000   0.300000   0.900000  0.364000  0.425000   0.500000   0.500000  1.000000  0.300000  0.800000   1.000000   0.500000  0.100000  0.100000  1.300000  0.800000   1.900000\n",
      "421  422              Derrick Rose     PG   34  NYK  27   338.000000  10.100000  0.463000  0.396000  0.075000  0.026000  0.104000  0.065000  0.199000  0.010000  0.014000  0.118000  0.236000  -0.300000  0.300000   0.000000 -0.001000  -2.200000 -1.500000e+00  -3.700000 -0.100000          rosede01   0  12.500000   2.300000   5.900000  0.384000  0.700000   2.300000  0.302000   1.600000   3.600000  0.438000  0.443000   0.400000   0.400000  0.917000  0.300000  1.200000   1.500000   1.700000  0.300000  0.200000  0.800000  0.700000   5.600000\n",
      "422  423             Terrence Ross     SG   31  TOT  63   886.666667  11.000000  0.544333  0.560000  0.074667  0.021333  0.123000  0.071667  0.112333  0.013000  0.006667  0.074333  0.174000   0.333333  0.766667   1.066667  0.072667  -1.400000 -1.666667e-01  -1.566667 -0.033333          rosste01   9  20.666667   3.233333   7.466667  0.429667  1.533333   4.200000  0.365333   1.700000   3.266667  0.513333  0.531667   0.466667   0.566667  0.800333  0.366667  2.200000   2.566667   1.600000  0.566667  0.166667  0.633333  1.633333   8.433333\n",
      "423  424              Terry Rozier     SG   28  CHO  63  2221.000000  14.700000  0.517000  0.425000  0.185000  0.024000  0.102000  0.062000  0.227000  0.016000  0.006000  0.094000  0.269000   0.100000  1.600000   1.700000  0.037000   0.600000 -1.100000e+00  -0.600000  0.800000         roziete01  63  35.300000   7.800000  18.900000  0.415000  2.600000   8.000000  0.327000   5.200000  10.800000  0.480000  0.484000   2.800000   3.500000  0.809000  0.800000  3.300000   4.100000   5.100000  1.200000  0.300000  2.100000  1.900000  21.100000\n",
      "424  425               Ricky Rubio     PG   32  CLE  33   566.000000  10.400000  0.442000  0.461000  0.197000  0.019000  0.127000  0.073000  0.271000  0.023000  0.010000  0.138000  0.177000  -0.200000  0.900000   0.700000  0.062000  -3.800000  1.100000e+00  -2.800000 -0.100000         rubiori01   2  17.200000   1.800000   5.400000  0.343000  0.600000   2.500000  0.256000   1.200000   2.900000  0.417000  0.402000   0.800000   1.100000  0.800000  0.300000  1.800000   2.100000   3.500000  0.800000  0.200000  0.900000  1.500000   5.200000\n",
      "425  426          D'Angelo Russell     PG   26  TOT  71  1536.000000  16.500000  0.606333  0.513333  0.226667  0.016667  0.085000  0.051667  0.277333  0.013000  0.011333  0.148333  0.227000   2.100000  1.266667   3.400000  0.109000   2.400000 -7.000000e-01   1.700000  1.333333         russeda01  71  32.100000   6.300000  13.300000  0.472667  2.700000   6.800000  0.400333   3.533333   6.466667  0.549667  0.575667   2.400000   3.000000  0.806667  0.466667  2.500000   3.000000   6.166667  0.900000  0.433333  2.533333  1.866667  17.700000\n",
      "426  427                 Matt Ryan     SF   25  TOT  34   206.666667   7.766667  0.533667  0.774333  0.110667  0.014667  0.077667  0.047000  0.066000  0.007667  0.002667  0.058000  0.166000   0.066667  0.133333   0.200000  0.038000  -2.100000 -1.500000e+00  -3.600000 -0.066667          ryanma01   0   9.366667   1.200000   3.333333  0.366667  0.966667   2.533333  0.380000   0.233333   0.800000  0.358667  0.514333   0.300000   0.366667  0.830000  0.133333  0.700000   0.833333   0.433333  0.133333  0.000000  0.233333  0.866667   3.633333\n",
      "427  428          Domantas Sabonis      C   26  SAC  79  2736.000000  23.500000  0.668000  0.088000  0.467000  0.106000  0.300000  0.203000  0.304000  0.011000  0.012000  0.169000  0.213000   9.600000  3.000000  12.600000  0.221000   4.100000  1.800000e+00   5.800000  5.400000         sabondo01  79  34.600000   7.300000  11.900000  0.615000  0.400000   1.100000  0.373000   6.900000  10.800000  0.639000  0.632000   4.100000   5.500000  0.742000  3.200000  9.100000  12.300000   7.300000  0.800000  0.500000  2.900000  3.500000  19.100000\n",
      "428  429              Luka Šamanić     PF   23  UTA   7   161.000000  11.000000  0.550000  0.544000  0.228000  0.000000  0.199000  0.101000  0.130000  0.018000  0.011000  0.138000  0.189000   0.000000  0.200000   0.200000  0.045000  -3.200000  1.100000e+00  -2.100000  0.000000         samanlu01   4  23.000000   3.700000   8.100000  0.456000  1.100000   4.400000  0.258000   2.600000   3.700000  0.692000  0.526000   1.300000   1.900000  0.692000  0.000000  4.300000   4.300000   2.100000  0.900000  0.300000  1.400000  2.400000   9.900000\n",
      "429  430               Dario Šarić     PF   28  TOT  57   537.333333  13.900000  0.592667  0.422667  0.281333  0.068000  0.212667  0.139000  0.120667  0.012000  0.007667  0.149667  0.193667   0.466667  0.666667   1.100000  0.103667  -1.233333  6.666667e-02  -1.200000  0.066667         saricda01  12  14.066667   2.300000   4.900000  0.466667  0.800000   2.066667  0.391000   1.466667   2.800000  0.526333  0.549667   1.166667   1.366667  0.830333  0.900000  2.700000   3.566667   1.233333  0.400000  0.100000  1.000000  1.700000   6.533333\n",
      "430  431              Olivier Sarr      C   23  OKC   9   114.000000  11.500000  0.544000  0.267000  0.233000  0.111000  0.182000  0.146000  0.046000  0.004000  0.041000  0.108000  0.136000   0.100000  0.100000   0.200000  0.094000  -4.200000 -7.000000e-01  -4.900000 -0.100000          sarrol01   1  12.700000   1.700000   3.300000  0.500000  0.100000   0.900000  0.125000   1.600000   2.400000  0.636000  0.517000   0.600000   0.800000  0.714000  1.300000  2.100000   3.400000   0.400000  0.100000  0.600000  0.400000  1.900000   4.000000\n",
      "431  432            Jordan Schakel     SF   24  WAS   2     6.000000  24.300000  0.750000  0.500000  0.000000  0.000000  0.000000  0.000000  0.235000  0.081000  0.000000  0.000000  0.145000   0.000000  0.000000   0.000000  0.314000   7.700000  9.300000e+00  17.000000  0.000000         schakjo01   0   3.000000   0.500000   1.000000  0.500000  0.500000   0.500000  1.000000   0.000000   0.500000  0.000000  0.750000   0.000000   0.000000  0.000000  0.000000  0.000000   0.000000   0.500000  0.500000  0.000000  0.000000  0.500000   1.500000\n",
      "432  433         Admiral Schofield     PF   25  ORL  37   451.000000  10.100000  0.587000  0.607000  0.189000  0.058000  0.098000  0.078000  0.096000  0.009000  0.011000  0.108000  0.141000   0.500000  0.300000   0.800000  0.089000  -2.200000 -7.000000e-01  -2.900000 -0.100000         schofad01   0  12.200000   1.500000   3.300000  0.451000  0.600000   2.000000  0.324000   0.800000   1.300000  0.646000  0.549000   0.600000   0.600000  0.913000  0.600000  1.100000   1.700000   0.800000  0.200000  0.100000  0.400000  1.600000   4.200000\n",
      "433  434           Dennis Schröder     PG   29  LAL  66  1986.000000  11.500000  0.545000  0.346000  0.388000  0.012000  0.075000  0.044000  0.201000  0.012000  0.004000  0.128000  0.186000   1.300000  1.500000   2.800000  0.068000  -2.400000 -5.000000e-01  -2.900000 -0.400000         schrode01  50  30.100000   4.100000   9.800000  0.415000  1.100000   3.400000  0.329000   3.000000   6.400000  0.461000  0.472000   3.300000   3.800000  0.857000  0.300000  2.200000   2.500000   4.500000  0.800000  0.200000  1.700000  2.200000  12.600000\n",
      "434  435                Jay Scrubb     SG   22  ORL   2    30.000000  14.200000  0.825000  0.286000  0.286000  0.000000  0.227000  0.113000  0.050000  0.032000  0.000000  0.276000  0.156000   0.000000  0.000000   0.100000  0.083000  -2.900000  1.000000e+00  -1.900000  0.000000         scrubja01   0  15.000000   2.500000   3.500000  0.714000  1.000000   1.000000  1.000000   1.500000   2.500000  0.600000  0.857000   0.500000   1.000000  0.500000  0.000000  3.000000   3.000000   0.500000  1.000000  0.000000  1.500000  1.000000   6.500000\n",
      "435  436            Dereon Seabron     SG   22  NOP   5    12.000000   4.600000  0.400000  0.000000  0.000000  0.095000  0.000000  0.047000  0.000000  0.000000  0.000000  0.000000  0.179000   0.000000  0.000000   0.000000 -0.034000  -6.600000 -4.700000e+00 -11.300000  0.000000         seabrde01   0   2.400000   0.400000   1.000000  0.400000  0.000000   0.000000  0.000000   0.400000   1.000000  0.400000  0.400000   0.000000   0.000000  0.000000  0.200000  0.000000   0.200000   0.000000  0.000000  0.000000  0.000000  0.200000   0.800000\n",
      "436  437            Alperen Şengün      C   20  HOU  75  2171.000000  19.700000  0.599000  0.071000  0.360000  0.121000  0.223000  0.171000  0.210000  0.016000  0.032000  0.173000  0.214000   3.400000  1.800000   5.200000  0.115000   1.100000  4.000000e-01   1.400000  1.900000         sengual01  72  28.900000   5.900000  10.700000  0.553000  0.300000   0.800000  0.333000   5.600000   9.900000  0.570000  0.565000   2.700000   3.800000  0.715000  3.200000  5.800000   9.000000   3.900000  0.900000  0.900000  2.600000  3.400000  14.800000\n",
      "437  438             Collin Sexton     SG   24  UTA  48  1145.000000  15.900000  0.616000  0.261000  0.425000  0.035000  0.063000  0.050000  0.179000  0.011000  0.004000  0.133000  0.234000   2.000000  0.500000   2.500000  0.105000   0.200000 -1.500000e+00  -1.300000  0.200000         sextoco01  15  23.900000   4.900000   9.800000  0.506000  1.000000   2.500000  0.393000   3.900000   7.200000  0.546000  0.558000   3.400000   4.100000  0.819000  0.800000  1.400000   2.200000   2.900000  0.600000  0.100000  1.800000  2.300000  14.300000\n",
      "438  439             Landry Shamet     SG   25  PHO  40   807.000000  10.900000  0.537000  0.663000  0.170000  0.015000  0.079000  0.046000  0.157000  0.016000  0.006000  0.100000  0.189000   0.500000  0.700000   1.200000  0.071000  -1.100000 -3.000000e-01  -1.400000  0.100000         shamela01   9  20.200000   2.800000   7.500000  0.377000  1.900000   5.000000  0.377000   1.000000   2.500000  0.376000  0.502000   1.100000   1.300000  0.882000  0.300000  1.400000   1.700000   2.300000  0.700000  0.100000  0.900000  1.500000   8.700000\n",
      "439  440            Day'Ron Sharpe      C   21  BRK  48   552.000000  17.800000  0.581000  0.064000  0.322000  0.206000  0.201000  0.204000  0.097000  0.013000  0.050000  0.177000  0.190000   0.800000  0.800000   1.600000  0.139000  -1.800000 -6.000000e-01  -2.300000  0.000000         sharpda01   3  11.500000   1.900000   3.600000  0.544000  0.100000   0.200000  0.545000   1.800000   3.300000  0.544000  0.561000   0.700000   1.100000  0.636000  2.100000  2.100000   4.200000   0.800000  0.300000  0.700000  0.900000  1.900000   4.700000\n",
      "440  441            Shaedon Sharpe     SG   19  POR  80  1779.000000  11.500000  0.568000  0.437000  0.162000  0.040000  0.113000  0.076000  0.079000  0.010000  0.012000  0.107000  0.190000   0.600000  0.600000   1.200000  0.032000  -1.300000 -2.000000e+00  -3.300000 -0.600000         sharpsh01  15  22.200000   3.800000   8.100000  0.472000  1.300000   3.500000  0.360000   2.600000   4.600000  0.559000  0.551000   0.900000   1.300000  0.714000  0.800000  2.200000   3.000000   1.200000  0.500000  0.300000  1.000000  1.700000   9.900000\n",
      "441  442             Pascal Siakam      C   28  TOR  71  2652.000000  20.300000  0.565000  0.219000  0.361000  0.052000  0.196000  0.119000  0.249000  0.012000  0.013000  0.100000  0.272000   5.200000  2.600000   7.800000  0.141000   3.300000 -1.000000e-01   3.100000  3.500000         siakapa01  71  37.400000   8.900000  18.500000  0.480000  1.300000   4.000000  0.324000   7.600000  14.500000  0.523000  0.515000   5.200000   6.700000  0.774000  1.800000  6.000000   7.800000   5.800000  0.900000  0.500000  2.400000  3.200000  24.200000\n",
      "442  443               Chris Silva     PF   26  DAL   1     3.000000  -2.200000  1.000000  0.000000  0.000000  0.000000  0.000000  0.000000  0.000000  0.000000  0.000000  0.500000  0.301000   0.000000  0.000000   0.000000 -0.260000 -22.500000 -1.000000e-01 -22.600000  0.000000         silvach01   0   3.000000   1.000000   1.000000  1.000000  0.000000   0.000000  0.000000   1.000000   1.000000  1.000000  1.000000   0.000000   0.000000  0.000000  0.000000  0.000000   0.000000   0.000000  0.000000  0.000000  1.000000  2.000000   2.000000\n",
      "443  444               Ben Simmons     PG   26  BRK  42  1105.000000  13.400000  0.559000  0.009000  0.243000  0.042000  0.222000  0.134000  0.313000  0.024000  0.019000  0.272000  0.143000   0.500000  1.700000   2.200000  0.097000  -2.200000  2.600000e+00   0.400000  0.700000         simmobe01  33  26.300000   3.200000   5.600000  0.566000  0.000000   0.000000  0.000000   3.200000   5.500000  0.571000  0.566000   0.600000   1.400000  0.439000  1.000000  5.300000   6.300000   6.100000  1.300000  0.600000  2.300000  3.300000   6.900000\n",
      "444  445              Kobi Simmons     PG   25  CHO   5    28.000000   9.000000  0.363000  0.833000  0.333000  0.037000  0.117000  0.076000  0.218000  0.000000  0.062000  0.127000  0.118000   0.000000  0.000000   0.000000  0.019000  -1.300000 -1.000000e-01  -1.400000  0.000000         simmoko01   0   5.600000   0.200000   1.200000  0.167000  0.200000   1.000000  0.200000   0.000000   0.200000  0.000000  0.250000   0.400000   0.400000  1.000000  0.200000  0.600000   0.800000   1.000000  0.000000  0.400000  0.200000  0.000000   1.000000\n",
      "445  447           Anfernee Simons     SG   23  POR  62  2171.000000  14.800000  0.581000  0.538000  0.171000  0.009000  0.076000  0.043000  0.186000  0.009000  0.006000  0.102000  0.251000   2.100000  0.300000   2.500000  0.054000   1.300000 -2.500000e+00  -1.100000  0.500000         simonan01  62  35.000000   7.500000  16.900000  0.447000  3.400000   9.100000  0.377000   4.100000   7.800000  0.528000  0.548000   2.600000   2.900000  0.894000  0.300000  2.300000   2.600000   4.100000  0.700000  0.200000  2.100000  2.300000  21.100000\n",
      "446  446           Marko Simonovic      C   23  CHI   7    20.000000  -0.100000  0.381000  0.571000  0.286000  0.058000  0.056000  0.057000  0.000000  0.000000  0.000000  0.000000  0.174000   0.000000  0.000000   0.000000 -0.052000 -10.500000 -3.800000e+00 -14.400000 -0.100000         simonma01   0   2.900000   0.300000   1.000000  0.286000  0.100000   0.600000  0.250000   0.100000   0.400000  0.333000  0.357000   0.100000   0.300000  0.500000  0.100000  0.100000   0.300000   0.000000  0.000000  0.000000  0.000000  0.700000   0.900000\n",
      "447  448              Jericho Sims      C   24  NYK  52   812.000000  13.800000  0.780000  0.009000  0.150000  0.133000  0.194000  0.164000  0.040000  0.009000  0.032000  0.191000  0.074000   1.600000  0.900000   2.600000  0.153000  -1.000000  5.000000e-01  -0.500000  0.300000          simsje01  16  15.600000   1.600000   2.100000  0.776000  0.000000   0.000000  0.000000   1.600000   2.000000  0.783000  0.776000   0.200000   0.300000  0.750000  1.900000  2.800000   4.700000   0.500000  0.300000  0.500000  0.500000  1.800000   3.400000\n",
      "448  449              Marcus Smart     PG   28  BOS  61  1957.000000  12.100000  0.538000  0.568000  0.196000  0.026000  0.080000  0.053000  0.264000  0.023000  0.010000  0.179000  0.178000   1.000000  2.700000   3.700000  0.092000  -1.800000  8.000000e-01  -1.000000  0.500000         smartma01  61  32.100000   4.100000   9.900000  0.415000  1.900000   5.600000  0.336000   2.200000   4.300000  0.519000  0.511000   1.400000   1.900000  0.746000  0.800000  2.400000   3.100000   6.300000  1.500000  0.400000  2.300000  2.800000  11.500000\n",
      "449  450          Dennis Smith Jr.     PG   25  CHO  54  1390.000000  11.600000  0.475000  0.246000  0.235000  0.020000  0.110000  0.064000  0.261000  0.026000  0.016000  0.141000  0.176000  -0.400000  1.500000   1.100000  0.039000  -3.500000  1.300000e+00  -2.200000 -0.100000         smithde03  15  25.700000   3.400000   8.400000  0.412000  0.400000   2.100000  0.216000   3.000000   6.300000  0.475000  0.438000   1.400000   2.000000  0.736000  0.500000  2.600000   3.100000   4.800000  1.400000  0.500000  1.500000  2.300000   8.800000\n",
      "450  451                 Dru Smith     SG   25  TOT  15   105.333333  11.033333  0.459667  0.423333  0.054667  0.014667  0.157667  0.086333  0.184667  0.031000  0.026667  0.062000  0.134667   0.066667  0.166667   0.233333  0.094667  -4.066667  2.900000e+00  -1.100000  0.033333         smithdr01   1  11.000000   1.166667   2.966667  0.392000  0.300000   1.266667  0.246000   0.866667   1.700000  0.500000  0.444333   0.166667   0.166667  1.000000  0.133333  1.500000   1.633333   1.400000  0.700000  0.333333  0.200000  1.600000   2.800000\n",
      "451  452                 Ish Smith     PG   34  DEN  43   398.000000   6.500000  0.407000  0.092000  0.031000  0.015000  0.138000  0.078000  0.325000  0.010000  0.016000  0.249000  0.193000  -0.800000  0.400000  -0.500000 -0.056000  -5.500000 -1.100000e+00  -6.600000 -0.500000         smithis01   0   9.300000   1.200000   3.000000  0.397000  0.000000   0.300000  0.167000   1.200000   2.800000  0.420000  0.405000   0.000000   0.100000  0.500000  0.100000  1.100000   1.300000   2.300000  0.200000  0.200000  1.000000  0.800000   2.500000\n",
      "452  454               Jalen Smith     PF   22  IND  68  1279.000000  15.900000  0.565000  0.376000  0.270000  0.112000  0.229000  0.171000  0.076000  0.008000  0.040000  0.112000  0.210000   1.100000  1.100000   2.300000  0.085000  -0.900000 -1.100000e+00  -2.100000  0.000000         smithja04  31  18.800000   3.600000   7.500000  0.476000  0.800000   2.800000  0.283000   2.800000   4.700000  0.593000  0.530000   1.500000   2.000000  0.759000  1.900000  3.900000   5.800000   1.000000  0.300000  0.900000  1.100000  2.300000   9.400000\n",
      "453  453          Jabari Smith Jr.     PF   19  HOU  79  2451.000000  11.200000  0.514000  0.438000  0.231000  0.054000  0.203000  0.127000  0.059000  0.009000  0.030000  0.096000  0.184000   0.500000  1.400000   1.900000  0.037000  -2.300000 -1.300000e+00  -3.700000 -1.100000         smithja05  79  31.000000   4.600000  11.300000  0.408000  1.500000   4.900000  0.307000   3.100000   6.300000  0.487000  0.475000   2.100000   2.600000  0.786000  1.500000  5.700000   7.200000   1.300000  0.500000  0.900000  1.300000  2.900000  12.800000\n",
      "454  455              Xavier Sneed     SF   25  CHO   4    48.000000   9.500000  0.723000  0.600000  0.400000  0.000000  0.113000  0.056000  0.139000  0.000000  0.018000  0.203000  0.129000   0.100000  0.000000   0.100000  0.086000  -3.100000 -4.000000e-01  -3.600000  0.000000         sneedxa01   0  12.000000   1.300000   2.500000  0.500000  0.800000   1.500000  0.500000   0.500000   1.000000  0.500000  0.650000   1.000000   1.000000  1.000000  0.000000  1.300000   1.300000   1.300000  0.000000  0.300000  0.800000  1.800000   4.300000\n",
      "455  456             Jeremy Sochan     PF   19  SAS  56  1458.000000  11.400000  0.509000  0.243000  0.210000  0.069000  0.156000  0.110000  0.136000  0.014000  0.013000  0.139000  0.198000  -0.500000  0.700000   0.200000  0.005000  -2.800000 -1.200000e+00  -4.000000 -0.700000         sochaje01  53  26.000000   4.500000   9.900000  0.453000  0.600000   2.400000  0.246000   3.900000   7.500000  0.519000  0.483000   1.400000   2.100000  0.698000  1.700000  3.600000   5.300000   2.500000  0.800000  0.400000  1.700000  2.500000  11.000000\n",
      "456  457            Jaden Springer     SG   20  PHI  16    89.000000  17.200000  0.545000  0.143000  0.229000  0.081000  0.104000  0.093000  0.138000  0.039000  0.031000  0.072000  0.208000   0.100000  0.200000   0.300000  0.145000  -2.600000  2.900000e+00   0.300000  0.100000         sprinja01   2   5.600000   1.100000   2.200000  0.486000  0.100000   0.300000  0.400000   0.900000   1.900000  0.500000  0.514000   0.400000   0.500000  0.750000  0.400000  0.500000   0.900000   0.500000  0.400000  0.200000  0.200000  0.900000   2.600000\n",
      "457  458             Lamar Stevens     PF   25  CLE  62  1120.000000   9.500000  0.524000  0.330000  0.198000  0.050000  0.167000  0.109000  0.040000  0.012000  0.016000  0.079000  0.136000   0.300000  1.600000   1.900000  0.080000  -3.000000  2.000000e-01  -2.800000 -0.200000         stevela01  25  18.100000   2.100000   4.600000  0.448000  0.500000   1.500000  0.316000   1.600000   3.100000  0.513000  0.500000   0.600000   0.900000  0.702000  0.800000  2.600000   3.300000   0.500000  0.400000  0.300000  0.400000  1.300000   5.300000\n",
      "458  459            Isaiah Stewart      C   21  DET  50  1414.000000  13.100000  0.560000  0.465000  0.338000  0.087000  0.233000  0.158000  0.073000  0.007000  0.021000  0.118000  0.173000   1.100000  0.900000   2.000000  0.068000  -1.000000 -1.100000e+00  -2.100000  0.000000         stewais01  47  28.300000   3.900000   8.800000  0.442000  1.300000   4.100000  0.327000   2.600000   4.700000  0.542000  0.518000   2.200000   3.000000  0.738000  2.300000  5.800000   8.100000   1.400000  0.400000  0.700000  1.400000  2.700000  11.300000\n",
      "459  460                 Max Strus     SF   26  MIA  80  2272.000000  10.800000  0.557000  0.713000  0.113000  0.024000  0.112000  0.067000  0.112000  0.009000  0.005000  0.078000  0.176000   1.500000  1.900000   3.400000  0.071000  -0.800000 -9.000000e-01  -1.700000  0.200000         strusma01  33  28.400000   4.100000   9.900000  0.410000  2.500000   7.000000  0.350000   1.600000   2.800000  0.559000  0.535000   1.000000   1.100000  0.876000  0.600000  2.600000   3.200000   2.100000  0.500000  0.200000  0.900000  2.100000  11.500000\n",
      "460  461               Jalen Suggs     PG   21  ORL  53  1246.000000  12.500000  0.528000  0.455000  0.268000  0.050000  0.096000  0.073000  0.180000  0.026000  0.021000  0.159000  0.203000  -0.200000  1.500000   1.400000  0.053000  -1.800000  8.000000e-01  -1.000000  0.300000         suggsja01  19  23.500000   3.500000   8.400000  0.419000  1.200000   3.800000  0.327000   2.300000   4.600000  0.496000  0.493000   1.600000   2.200000  0.723000  1.000000  2.000000   3.000000   2.900000  1.300000  0.500000  1.800000  2.300000   9.900000\n",
      "461  462             Edmond Sumner     SG   27  BRK  53   736.000000  14.000000  0.597000  0.323000  0.401000  0.020000  0.099000  0.060000  0.133000  0.021000  0.012000  0.136000  0.221000   0.600000  0.700000   1.300000  0.086000  -2.400000 -2.000000e-01  -2.600000 -0.100000         sumneed01  12  13.900000   2.300000   5.100000  0.461000  0.600000   1.600000  0.356000   1.800000   3.400000  0.511000  0.519000   1.900000   2.000000  0.917000  0.200000  1.200000   1.500000   1.300000  0.600000  0.200000  0.900000  1.600000   7.100000\n",
      "462  463               Cole Swider     SF   23  LAL   7    41.000000   7.400000  0.500000  0.889000  0.000000  0.027000  0.152000  0.091000  0.120000  0.000000  0.000000  0.000000  0.093000   0.000000  0.000000   0.100000  0.080000  -2.900000 -6.000000e-01  -3.500000  0.000000         swideco01   0   5.900000   0.400000   1.300000  0.333000  0.400000   1.100000  0.375000   0.000000   0.100000  0.000000  0.500000   0.000000   0.000000  0.000000  0.100000  0.900000   1.000000   0.600000  0.000000  0.000000  0.000000  0.400000   1.300000\n",
      "463  464             Jae'Sean Tate     SF   27  HOU  31   677.000000  12.200000  0.546000  0.201000  0.301000  0.066000  0.126000  0.096000  0.182000  0.015000  0.010000  0.153000  0.188000   0.400000  0.300000   0.700000  0.049000  -2.800000 -7.000000e-01  -3.500000 -0.300000          tateja01   7  21.800000   3.500000   7.400000  0.480000  0.400000   1.500000  0.283000   3.100000   5.900000  0.530000  0.509000   1.600000   2.200000  0.725000  1.300000  2.500000   3.800000   2.700000  0.700000  0.200000  1.500000  3.400000   9.100000\n",
      "464  465              Jayson Tatum     PF   24  BOS  74  2732.000000  23.700000  0.607000  0.440000  0.399000  0.032000  0.225000  0.130000  0.209000  0.014000  0.016000  0.104000  0.327000   6.200000  4.300000  10.500000  0.185000   4.800000  7.000000e-01   5.500000  5.100000         tatumja01  74  36.900000   9.800000  21.100000  0.466000  3.200000   9.300000  0.350000   6.600000  11.800000  0.558000  0.543000   7.200000   8.400000  0.854000  1.100000  7.700000   8.800000   4.600000  1.100000  0.700000  2.900000  2.200000  30.100000\n",
      "465  466              Terry Taylor     PF   23  TOT  31   176.000000  14.933333  0.638000  0.210000  0.218333  0.127000  0.086667  0.106667  0.036667  0.003667  0.022000  0.072667  0.143000   0.133333  0.066667   0.200000  0.112333  -0.366667 -1.533333e+00  -1.900000 -0.066667         taylote01   2   8.166667   1.433333   2.300000  0.627333  0.200000   0.500000  0.495000   1.233333   1.800000  0.683000  0.665000   0.200000   0.500000  0.503000  0.900000  0.633333   1.533333   0.233333  0.066667  0.200000  0.200000  0.700000   3.200000\n",
      "466  467            Garrett Temple     SG   36  NOP  25   162.000000  10.500000  0.535000  0.578000  0.089000  0.035000  0.084000  0.059000  0.106000  0.027000  0.012000  0.079000  0.134000   0.100000  0.200000   0.300000  0.094000  -2.500000  1.600000e+00  -1.000000  0.000000         templga01   0   6.500000   0.700000   1.800000  0.400000  0.400000   1.000000  0.423000   0.300000   0.800000  0.368000  0.522000   0.100000   0.200000  0.750000  0.200000  0.500000   0.700000   0.500000  0.400000  0.100000  0.200000  0.600000   2.000000\n",
      "467  468               Dalen Terry     SG   20  CHI  38   214.000000  14.100000  0.523000  0.375000  0.292000  0.065000  0.130000  0.098000  0.141000  0.025000  0.023000  0.090000  0.184000   0.100000  0.300000   0.500000  0.105000  -1.700000  1.700000e+00   0.000000  0.100000         terryda01   0   5.600000   0.800000   1.900000  0.444000  0.200000   0.700000  0.259000   0.700000   1.200000  0.556000  0.493000   0.400000   0.600000  0.667000  0.300000  0.700000   1.000000   0.600000  0.300000  0.100000  0.200000  0.600000   2.200000\n",
      "468  469              Daniel Theis      C   30  IND   7   109.000000  14.200000  0.497000  0.250000  0.273000  0.071000  0.152000  0.112000  0.122000  0.009000  0.047000  0.057000  0.201000   0.000000  0.100000   0.100000  0.046000  -0.900000 -5.000000e-01  -1.400000  0.000000         theisda01   1  15.600000   3.000000   6.300000  0.477000  0.300000   1.600000  0.182000   2.700000   4.700000  0.576000  0.500000   0.700000   1.700000  0.417000  1.000000  2.100000   3.100000   1.300000  0.300000  0.900000  0.400000  1.000000   7.000000\n",
      "469  470                Cam Thomas     SG   21  BRK  57   948.000000  14.700000  0.567000  0.292000  0.382000  0.010000  0.101000  0.056000  0.127000  0.010000  0.006000  0.106000  0.278000   0.300000  0.700000   1.000000  0.049000  -0.700000 -2.000000e+00  -2.700000 -0.200000         thomaca02   4  16.600000   3.500000   8.000000  0.441000  0.900000   2.300000  0.383000   2.600000   5.700000  0.464000  0.497000   2.600000   3.100000  0.868000  0.100000  1.500000   1.700000   1.400000  0.400000  0.100000  1.100000  1.000000  10.600000\n",
      "470  471             Klay Thompson     SG   32  GSW  69  2279.000000  14.700000  0.576000  0.584000  0.105000  0.019000  0.117000  0.069000  0.110000  0.010000  0.011000  0.086000  0.264000   1.200000  1.900000   3.100000  0.066000   1.400000 -1.700000e+00  -0.300000  1.000000         thompkl01  69  33.000000   7.900000  18.100000  0.436000  4.400000  10.600000  0.412000   3.600000   7.600000  0.470000  0.556000   1.700000   1.900000  0.879000  0.600000  3.600000   4.100000   2.400000  0.700000  0.400000  1.800000  1.900000  21.900000\n",
      "471  472                   JT Thor     PF   20  CHO  69   969.000000   7.000000  0.506000  0.517000  0.197000  0.039000  0.130000  0.084000  0.049000  0.011000  0.021000  0.145000  0.131000  -0.600000  0.800000   0.200000  0.009000  -4.300000 -4.000000e-01  -4.700000 -0.700000          thorjt01   8  14.000000   1.400000   3.400000  0.399000  0.600000   1.800000  0.317000   0.800000   1.700000  0.487000  0.481000   0.500000   0.700000  0.702000  0.500000  1.700000   2.200000   0.500000  0.300000  0.300000  0.600000  1.000000   3.800000\n",
      "472  473          Matisse Thybulle     SG   25  TOT  71   800.000000  10.500000  0.551333  0.582667  0.110333  0.039000  0.096667  0.068000  0.058667  0.034000  0.024000  0.081667  0.106000   0.400000  1.000000   1.433333  0.086000  -2.733333  2.233333e+00  -0.533333  0.266667         thybuma01  28  18.900000   1.733333   4.066667  0.434667  0.900000   2.433333  0.362000   0.866667   1.666667  0.533000  0.540667   0.333333   0.433333  0.684667  0.633333  1.633333   2.266667   0.866667  1.266667  0.533333  0.400000  1.700000   4.733333\n",
      "473  474        Xavier Tillman Sr.     PF   24  MEM  61  1180.000000  17.300000  0.621000  0.049000  0.291000  0.109000  0.167000  0.138000  0.109000  0.023000  0.022000  0.113000  0.137000   2.300000  1.900000   4.200000  0.171000   0.300000  1.700000e+00   1.900000  1.200000         tillmxa01  29  19.300000   3.100000   5.000000  0.614000  0.100000   0.200000  0.267000   3.000000   4.800000  0.632000  0.621000   0.800000   1.500000  0.551000  2.000000  3.000000   5.000000   1.600000  1.000000  0.500000  0.700000  1.600000   7.000000\n",
      "474  475               Isaiah Todd     PF   21  WAS   6    61.000000  -1.000000  0.226000  0.526000  0.105000  0.038000  0.176000  0.109000  0.079000  0.008000  0.000000  0.091000  0.156000  -0.200000  0.000000  -0.200000 -0.147000 -10.300000 -3.900000e+00 -14.200000 -0.200000          toddis01   1  10.200000   0.500000   3.200000  0.158000  0.200000   1.700000  0.100000   0.300000   1.500000  0.222000  0.184000   0.300000   0.300000  1.000000  0.300000  1.700000   2.000000   0.700000  0.200000  0.000000  0.300000  0.700000   1.500000\n",
      "475  476                Obi Toppin     PF   24  NYK  67  1050.000000  13.600000  0.565000  0.589000  0.112000  0.030000  0.166000  0.098000  0.092000  0.011000  0.011000  0.080000  0.195000   1.100000  1.000000   2.100000  0.095000   0.300000 -8.000000e-01  -0.500000  0.400000         toppiob01   5  15.700000   2.800000   6.300000  0.446000  1.300000   3.700000  0.344000   1.500000   2.600000  0.593000  0.548000   0.600000   0.700000  0.809000  0.400000  2.400000   2.800000   1.000000  0.300000  0.200000  0.600000  1.000000   7.400000\n",
      "476  477     Juan Toscano-Anderson     SF   29  TOT  52   466.666667   7.200000  0.506667  0.301000  0.170667  0.044333  0.144333  0.095333  0.118667  0.011000  0.012000  0.181667  0.113000  -0.066667  0.400000   0.333333  0.037333  -4.633333  8.000000e-01  -3.833333 -0.200000         toscaju01   9  13.633333   1.233333   2.833333  0.450333  0.166667   0.833333  0.186667   1.100000   1.966667  0.563333  0.478333   0.400000   0.466667  0.804667  0.533333  1.866667   2.433333   1.300000  0.300000  0.166667  0.700000  1.500000   3.033333\n",
      "477  478        Karl-Anthony Towns     PF   27  MIN  29   957.000000  18.800000  0.618000  0.383000  0.315000  0.057000  0.216000  0.138000  0.220000  0.010000  0.015000  0.150000  0.256000   1.500000  1.100000   2.700000  0.133000   2.100000  9.000000e-01   3.000000  1.200000         townska01  29  33.000000   7.300000  14.800000  0.495000  2.100000   5.700000  0.366000   5.200000   9.100000  0.576000  0.565000   4.100000   4.700000  0.874000  1.700000  6.500000   8.100000   4.800000  0.700000  0.600000  3.000000  3.800000  20.800000\n",
      "478  479            Gary Trent Jr.     SG   24  TOR  66  2118.000000  15.000000  0.560000  0.481000  0.219000  0.015000  0.082000  0.046000  0.074000  0.024000  0.006000  0.051000  0.217000   2.500000  2.000000   4.500000  0.102000   0.200000  0.000000e+00   0.200000  1.100000         trentga02  44  32.100000   6.100000  14.200000  0.433000  2.500000   6.800000  0.369000   3.600000   7.300000  0.493000  0.522000   2.600000   3.100000  0.839000  0.500000  2.200000   2.600000   1.600000  1.600000  0.200000  0.800000  1.500000  17.400000\n",
      "479  480               P.J. Tucker     PF   37  PHI  75  1920.000000   5.700000  0.566000  0.622000  0.102000  0.059000  0.121000  0.091000  0.039000  0.010000  0.007000  0.158000  0.065000   0.900000  1.700000   2.500000  0.064000  -3.200000  1.000000e-01  -3.000000 -0.500000         tuckepj01  75  25.600000   1.300000   3.000000  0.427000  0.700000   1.900000  0.393000   0.500000   1.100000  0.482000  0.549000   0.300000   0.300000  0.826000  1.300000  2.700000   3.900000   0.800000  0.500000  0.200000  0.600000  2.400000   3.500000\n",
      "480  481              Myles Turner      C   26  IND  62  1825.000000  20.000000  0.651000  0.340000  0.377000  0.054000  0.229000  0.142000  0.075000  0.009000  0.066000  0.108000  0.220000   3.400000  2.000000   5.400000  0.142000   1.400000  7.000000e-01   2.100000  1.900000         turnemy01  62  29.400000   6.500000  11.800000  0.548000  1.500000   4.000000  0.373000   5.000000   7.800000  0.638000  0.612000   3.500000   4.500000  0.783000  1.400000  6.100000   7.500000   1.400000  0.600000  2.300000  1.700000  3.500000  18.000000\n",
      "481  482             Stanley Umude     SG   23  DET   1     2.000000  65.600000  0.532000  1.000000  2.000000  0.000000  0.000000  0.000000  0.000000  0.242000  0.441000  0.000000  0.400000   0.000000  0.000000   0.000000  0.626000  15.900000  3.270000e+01  48.600000  0.000000         umudest01   0   2.000000   0.000000   1.000000  0.000000  0.000000   1.000000  0.000000   0.000000   0.000000  0.000000  0.000000   2.000000   2.000000  1.000000  0.000000  0.000000   0.000000   0.000000  1.000000  1.000000  0.000000  0.000000   2.000000\n",
      "482  483         Jonas Valančiūnas      C   30  NOP  79  1968.000000  19.300000  0.610000  0.134000  0.275000  0.130000  0.333000  0.231000  0.111000  0.005000  0.025000  0.148000  0.234000   2.800000  3.000000   5.800000  0.142000   0.000000 -4.000000e-01  -0.400000  0.800000         valanjo01  79  24.900000   5.600000  10.300000  0.547000  0.500000   1.400000  0.349000   5.200000   8.900000  0.577000  0.570000   2.300000   2.800000  0.826000  2.800000  7.300000  10.200000   1.800000  0.300000  0.700000  2.000000  3.100000  14.100000\n",
      "483  484         Jarred Vanderbilt     PF   23  TOT  78  1252.666667  14.766667  0.603000  0.206333  0.300000  0.097667  0.227667  0.163667  0.124000  0.021333  0.009000  0.158667  0.134000   1.800000  1.666667   3.433333  0.129667  -0.766667  1.666667e+00   0.933333  1.000000         vandeja01  65  24.066667   3.100000   5.733333  0.544333  0.400000   1.200000  0.319333   2.766667   4.533333  0.602667  0.577000   1.200000   1.733333  0.710667  2.133333  5.200000   7.366667   2.233333  1.100000  0.266667  1.200000  2.400000   7.800000\n",
      "484  485             Fred VanVleet     PG   28  TOR  69  2535.000000  17.000000  0.540000  0.545000  0.254000  0.012000  0.120000  0.063000  0.281000  0.024000  0.015000  0.102000  0.232000   3.700000  2.800000   6.500000  0.123000   2.000000  5.000000e-01   2.500000  2.900000         vanvlfr01  69  36.700000   6.300000  16.100000  0.393000  3.000000   8.800000  0.342000   3.300000   7.300000  0.455000  0.486000   3.700000   4.100000  0.898000  0.400000  3.600000   4.100000   7.200000  1.800000  0.600000  2.000000  2.800000  19.300000\n",
      "485  486             Devin Vassell     SG   22  SAS  38  1178.000000  15.500000  0.550000  0.447000  0.168000  0.007000  0.135000  0.069000  0.173000  0.017000  0.012000  0.082000  0.244000   0.700000  0.500000   1.200000  0.051000   1.300000 -9.000000e-01   0.400000  0.700000         vassede01  32  31.000000   6.900000  15.700000  0.439000  2.700000   7.000000  0.387000   4.200000   8.700000  0.480000  0.525000   2.100000   2.600000  0.780000  0.200000  3.700000   3.900000   3.600000  1.100000  0.400000  1.500000  1.500000  18.500000\n",
      "486  487              Gabe Vincent     PG   26  MIA  68  1759.000000   9.000000  0.533000  0.617000  0.138000  0.017000  0.081000  0.048000  0.139000  0.018000  0.003000  0.133000  0.175000  -0.300000  1.700000   1.400000  0.038000  -3.100000 -3.000000e-01  -3.400000 -0.600000         vincega01  34  25.900000   3.400000   8.300000  0.402000  1.700000   5.100000  0.334000   1.600000   3.200000  0.512000  0.505000   1.000000   1.100000  0.872000  0.400000  1.700000   2.100000   2.500000  0.900000  0.100000  1.400000  2.300000   9.400000\n",
      "487  488               Noah Vonleh      C   27  BOS  23   171.000000   5.900000  0.502000  0.167000  0.083000  0.117000  0.188000  0.153000  0.051000  0.006000  0.040000  0.307000  0.092000   0.000000  0.300000   0.200000  0.060000  -7.000000  7.000000e-01  -6.300000 -0.200000         vonleno01   1   7.400000   0.500000   1.000000  0.458000  0.000000   0.200000  0.250000   0.400000   0.900000  0.500000  0.479000   0.100000   0.100000  1.000000  0.800000  1.300000   2.100000   0.300000  0.100000  0.300000  0.500000  1.500000   1.100000\n",
      "488  489            Nikola Vučević      C   32  CHI  82  2746.000000  19.100000  0.594000  0.302000  0.138000  0.067000  0.302000  0.186000  0.146000  0.011000  0.020000  0.102000  0.219000   3.900000  4.400000   8.300000  0.145000   1.900000  7.000000e-01   2.700000  3.200000         vucevni01  82  33.500000   7.300000  14.000000  0.520000  1.500000   4.200000  0.349000   5.800000   9.800000  0.594000  0.573000   1.600000   1.900000  0.835000  1.900000  9.100000  11.000000   3.200000  0.700000  0.700000  1.700000  2.200000  17.600000\n",
      "489  490                 Dean Wade     PF   26  CLE  44   891.000000   8.500000  0.550000  0.718000  0.130000  0.026000  0.172000  0.099000  0.054000  0.016000  0.022000  0.083000  0.102000   0.400000  1.400000   1.800000  0.097000  -2.900000  2.100000e+00  -0.700000  0.300000          wadede01  13  20.300000   1.700000   4.000000  0.412000  1.000000   2.900000  0.354000   0.600000   1.100000  0.560000  0.540000   0.300000   0.500000  0.652000  0.500000  3.000000   3.400000   0.800000  0.600000  0.500000  0.400000  2.000000   4.700000\n",
      "490  491              Franz Wagner     SF   21  ORL  80  2609.000000  15.900000  0.589000  0.322000  0.288000  0.030000  0.112000  0.071000  0.172000  0.014000  0.006000  0.117000  0.235000   3.100000  2.300000   5.400000  0.099000   0.400000 -5.000000e-01  -0.100000  1.300000         wagnefr01  80  32.600000   6.800000  14.000000  0.485000  1.600000   4.500000  0.361000   5.200000   9.500000  0.544000  0.543000   3.400000   4.000000  0.842000  0.900000  3.200000   4.100000   3.500000  1.000000  0.200000  2.100000  2.300000  18.600000\n",
      "491  492             Moritz Wagner      C   25  ORL  57  1109.000000  17.400000  0.630000  0.412000  0.460000  0.070000  0.194000  0.132000  0.115000  0.016000  0.011000  0.125000  0.211000   2.100000  1.300000   3.400000  0.149000   0.400000  2.000000e-01   0.600000  0.700000         wagnemo01  18  19.500000   3.500000   6.900000  0.500000  0.900000   2.900000  0.313000   2.600000   4.100000  0.631000  0.564000   2.700000   3.200000  0.841000  1.200000  3.300000   4.500000   1.500000  0.600000  0.200000  1.200000  2.400000  10.500000\n",
      "492  493             Ish Wainright     SF   28  PHO  60   915.000000   9.200000  0.522000  0.762000  0.137000  0.053000  0.116000  0.084000  0.074000  0.020000  0.022000  0.084000  0.122000   0.500000  1.200000   1.700000  0.089000  -2.700000  1.500000e+00  -1.200000  0.200000         wainris01   2  15.300000   1.400000   3.800000  0.370000  1.000000   2.900000  0.329000   0.500000   0.900000  0.500000  0.496000   0.400000   0.500000  0.839000  0.800000  1.600000   2.300000   0.900000  0.600000  0.400000  0.400000  2.000000   4.200000\n",
      "493  494             Jabari Walker     SF   20  POR  56   619.000000   9.600000  0.496000  0.283000  0.227000  0.088000  0.155000  0.122000  0.078000  0.008000  0.019000  0.118000  0.173000  -0.100000  0.300000   0.200000  0.015000  -3.900000 -2.100000e+00  -6.100000 -0.600000         walkeja01   0  11.100000   1.500000   3.500000  0.419000  0.300000   1.000000  0.286000   1.200000   2.500000  0.472000  0.460000   0.600000   0.800000  0.756000  0.900000  1.500000   2.300000   0.600000  0.200000  0.200000  0.500000  1.200000   3.900000\n",
      "494  495              Kemba Walker     PG   32  DAL   9   144.000000  15.000000  0.543000  0.491000  0.368000  0.024000  0.106000  0.065000  0.201000  0.007000  0.012000  0.057000  0.221000   0.200000  0.100000   0.300000  0.098000   0.300000 -6.000000e-01  -0.300000  0.100000         walkeke02   1  16.000000   2.700000   6.300000  0.421000  0.800000   3.100000  0.250000   1.900000   3.200000  0.586000  0.482000   1.900000   2.300000  0.810000  0.300000  1.400000   1.800000   2.100000  0.200000  0.200000  0.400000  1.200000   8.000000\n",
      "495  496          Lonnie Walker IV     SG   24  LAL  56  1297.000000  12.200000  0.570000  0.472000  0.201000  0.012000  0.076000  0.045000  0.070000  0.011000  0.011000  0.074000  0.202000   0.800000  1.000000   1.800000  0.066000  -0.900000 -5.000000e-01  -1.400000  0.200000         walkelo01  32  23.200000   4.200000   9.400000  0.448000  1.600000   4.400000  0.365000   2.600000   5.000000  0.522000  0.534000   1.600000   1.900000  0.858000  0.300000  1.700000   1.900000   1.100000  0.500000  0.300000  0.800000  1.300000  11.700000\n",
      "496  497                 John Wall     PG   32  LAC  34   755.000000  13.600000  0.498000  0.322000  0.334000  0.021000  0.114000  0.068000  0.353000  0.018000  0.014000  0.171000  0.270000  -0.400000  0.700000   0.300000  0.020000  -0.800000 -4.000000e-01  -1.200000  0.100000          walljo01   3  22.200000   4.100000   9.900000  0.408000  1.000000   3.200000  0.303000   3.100000   6.700000  0.459000  0.457000   2.300000   3.300000  0.681000  0.400000  2.300000   2.700000   5.200000  0.800000  0.400000  2.400000  1.700000  11.400000\n",
      "497  498               T.J. Warren  PF-SF   29  TOT  42   458.000000  13.133333  0.533000  0.253000  0.108000  0.048333  0.164333  0.106333  0.085000  0.016000  0.016667  0.059667  0.188000   0.233333  0.533333   0.766667  0.080667  -1.866667 -6.666667e-02  -1.966667  0.000000         warretj01   0  15.833333   2.966667   6.166667  0.476000  0.500000   1.533333  0.325667   2.466667   4.600000  0.526333  0.517000   0.600000   0.733333  0.706000  0.633333  2.300000   2.933333   0.933333  0.500000  0.300000  0.466667  1.500000   7.066667\n",
      "498  499      Duane Washington Jr.     SG   22  PHO  31   394.000000   9.300000  0.458000  0.434000  0.094000  0.006000  0.098000  0.051000  0.252000  0.007000  0.009000  0.113000  0.325000  -0.800000  0.300000  -0.500000 -0.065000  -1.800000 -2.800000e+00  -4.600000 -0.300000         washidu02   3  12.700000   3.000000   8.300000  0.367000  1.300000   3.600000  0.360000   1.700000   4.700000  0.372000  0.445000   0.500000   0.800000  0.667000  0.100000  1.100000   1.200000   2.000000  0.200000  0.100000  1.100000  0.700000   7.900000\n",
      "499  500           P.J. Washington     PF   24  CHO  73  2380.000000  12.900000  0.542000  0.438000  0.178000  0.032000  0.130000  0.080000  0.110000  0.013000  0.029000  0.094000  0.206000   0.400000  2.200000   2.600000  0.052000  -1.000000 -3.000000e-01  -1.300000  0.400000         washipj01  73  32.600000   5.900000  13.400000  0.444000  2.000000   5.900000  0.348000   3.900000   7.500000  0.518000  0.520000   1.700000   2.400000  0.730000  1.000000  3.900000   4.900000   2.400000  0.900000  1.100000  1.500000  2.600000  15.700000\n",
      "500  501       TyTy Washington Jr.     PG   21  HOU  31   433.000000   7.500000  0.432000  0.500000  0.113000  0.005000  0.110000  0.057000  0.153000  0.017000  0.005000  0.077000  0.174000  -0.300000  0.100000  -0.100000 -0.016000  -5.000000 -1.300000e+00  -6.300000 -0.500000         washity02   2  14.000000   1.900000   5.200000  0.363000  0.600000   2.600000  0.238000   1.300000   2.600000  0.488000  0.422000   0.300000   0.600000  0.556000  0.100000  1.400000   1.500000   1.500000  0.500000  0.100000  0.500000  0.900000   4.700000\n",
      "501  502             Yuta Watanabe     SF   28  BRK  58   928.000000  12.100000  0.637000  0.582000  0.203000  0.037000  0.131000  0.085000  0.070000  0.013000  0.016000  0.080000  0.131000   1.300000  0.900000   2.100000  0.111000  -0.400000 -2.000000e-01  -0.600000  0.300000         watanyu01   1  16.000000   2.000000   4.000000  0.491000  1.000000   2.300000  0.444000   0.900000   1.700000  0.557000  0.621000   0.600000   0.800000  0.723000  0.500000  1.900000   2.400000   0.800000  0.400000  0.300000  0.400000  1.400000   5.600000\n",
      "502  503          Lindy Waters III     SG   25  OKC  41   531.000000  11.800000  0.573000  0.910000  0.112000  0.032000  0.122000  0.076000  0.070000  0.013000  0.019000  0.051000  0.155000   0.600000  0.500000   1.100000  0.101000   0.500000 -4.000000e-01   0.100000  0.300000         waterli01   0  13.000000   1.700000   4.300000  0.393000  1.400000   4.000000  0.358000   0.300000   0.400000  0.750000  0.556000   0.400000   0.500000  0.800000  0.400000  1.400000   1.800000   0.700000  0.300000  0.300000  0.200000  1.000000   5.200000\n",
      "503  504           Trendon Watford     PF   22  POR  62  1182.000000  13.600000  0.625000  0.198000  0.310000  0.041000  0.192000  0.116000  0.160000  0.013000  0.009000  0.162000  0.161000   1.300000  0.700000   2.100000  0.084000  -1.400000 -4.000000e-01  -1.800000  0.100000         watfotr01  12  19.100000   2.900000   5.200000  0.560000  0.400000   1.000000  0.391000   2.500000   4.200000  0.602000  0.599000   1.200000   1.600000  0.720000  0.700000  3.200000   3.800000   2.100000  0.500000  0.200000  1.100000  1.900000   7.400000\n",
      "504  505             Peyton Watson     SG   20  DEN  23   186.000000  12.800000  0.553000  0.237000  0.339000  0.051000  0.174000  0.114000  0.079000  0.005000  0.052000  0.106000  0.177000   0.100000  0.200000   0.300000  0.073000  -2.700000 -1.000000e-01  -2.800000  0.000000         watsope01   2   8.100000   1.300000   2.600000  0.492000  0.300000   0.600000  0.429000   1.000000   2.000000  0.511000  0.542000   0.500000   0.900000  0.550000  0.300000  1.300000   1.600000   0.500000  0.100000  0.500000  0.300000  0.600000   3.300000\n",
      "505  506              Blake Wesley     SG   19  SAS  37   669.000000   3.500000  0.393000  0.242000  0.205000  0.017000  0.119000  0.066000  0.188000  0.018000  0.006000  0.217000  0.185000  -1.900000  0.300000  -1.600000 -0.114000  -7.900000 -1.800000e+00  -9.600000 -1.300000         weslebl01   1  18.100000   1.900000   5.800000  0.321000  0.500000   1.400000  0.385000   1.300000   4.400000  0.301000  0.367000   0.700000   1.200000  0.591000  0.300000  1.900000   2.200000   2.700000  0.700000  0.100000  1.800000  1.800000   5.000000\n",
      "506  507         Russell Westbrook     PG   34  TOT  73  1417.333333  16.400000  0.523667  0.286667  0.311000  0.048333  0.157667  0.104333  0.386667  0.017333  0.013333  0.186333  0.272333  -0.400000  1.733333   1.266667  0.053000   0.566667 -2.333333e-01   0.333333  0.800000         westbru01  24  29.333333   5.933333  13.366667  0.447333  1.200000   3.833333  0.321000   4.733333   9.533333  0.498000  0.493000   2.733333   4.166667  0.656333  1.233333  4.333333   5.633333   7.533333  1.033333  0.466667  3.466667  2.166667  15.866667\n",
      "507  508                Coby White     SG   22  CHI  74  1730.000000  12.500000  0.572000  0.579000  0.118000  0.011000  0.126000  0.069000  0.163000  0.015000  0.003000  0.106000  0.179000   1.200000  1.900000   3.100000  0.087000  -1.000000  2.000000e-01  -0.800000  0.500000         whiteco01   2  23.400000   3.600000   8.000000  0.443000  1.700000   4.600000  0.372000   1.800000   3.400000  0.540000  0.551000   0.800000   0.900000  0.871000  0.200000  2.600000   2.900000   2.800000  0.700000  0.100000  1.000000  1.600000   9.700000\n",
      "508  509             Derrick White     SG   28  BOS  82  2319.000000  15.400000  0.604000  0.516000  0.253000  0.025000  0.112000  0.069000  0.194000  0.011000  0.028000  0.101000  0.177000   4.400000  3.100000   7.400000  0.154000   1.100000  1.300000e+00   2.400000  2.600000         whitede01  70  28.300000   4.300000   9.200000  0.462000  1.800000   4.800000  0.381000   2.500000   4.500000  0.548000  0.560000   2.000000   2.300000  0.875000  0.600000  2.900000   3.600000   3.900000  0.700000  0.900000  1.200000  2.200000  12.400000\n",
      "509  510                Jack White     SF   25  DEN  17    66.000000  12.600000  0.517000  0.474000  0.158000  0.107000  0.186000  0.148000  0.077000  0.022000  0.027000  0.090000  0.147000   0.100000  0.100000   0.100000  0.108000  -2.600000  7.000000e-01  -1.900000  0.000000         whiteja03   0   3.900000   0.500000   1.100000  0.421000  0.200000   0.500000  0.333000   0.300000   0.600000  0.500000  0.500000   0.100000   0.200000  0.667000  0.400000  0.600000   1.000000   0.200000  0.200000  0.100000  0.100000  0.500000   1.200000\n",
      "510  511              Joe Wieskamp     SF   23  TOR   9    50.000000  -0.400000  0.321000  0.857000  0.000000  0.000000  0.098000  0.045000  0.074000  0.000000  0.000000  0.067000  0.128000  -0.100000  0.000000  -0.100000 -0.076000  -7.000000 -3.600000e+00 -10.600000 -0.100000         wieskjo01   0   5.600000   0.300000   1.600000  0.214000  0.300000   1.300000  0.250000   0.000000   0.200000  0.000000  0.321000   0.000000   0.000000  0.000000  0.000000  0.400000   0.400000   0.300000  0.000000  0.000000  0.100000  0.300000   1.000000\n",
      "511  512             Aaron Wiggins     SG   24  OKC  70  1297.000000  12.200000  0.607000  0.336000  0.196000  0.055000  0.120000  0.087000  0.083000  0.014000  0.011000  0.122000  0.145000   1.400000  1.200000   2.600000  0.097000  -1.500000 -5.000000e-01  -2.100000  0.000000         wiggiaa01  14  18.500000   2.700000   5.200000  0.512000  0.700000   1.700000  0.393000   2.000000   3.400000  0.573000  0.579000   0.800000   1.000000  0.831000  1.000000  2.000000   3.000000   1.100000  0.600000  0.200000  0.800000  1.600000   6.800000\n",
      "512  513            Andrew Wiggins     SF   27  GSW  37  1190.000000  14.700000  0.564000  0.425000  0.136000  0.057000  0.113000  0.086000  0.105000  0.018000  0.021000  0.079000  0.215000   1.000000  1.300000   2.300000  0.091000  -0.100000 -4.000000e-01  -0.500000  0.500000         wiggian01  37  32.200000   6.800000  14.300000  0.473000  2.400000   6.100000  0.396000   4.400000   8.200000  0.530000  0.557000   1.200000   1.900000  0.611000  1.600000  3.400000   5.000000   2.300000  1.200000  0.800000  1.300000  2.900000  17.100000\n",
      "513  514         Lindell Wigginton     PG   24  MIL   7    87.000000  11.800000  0.610000  0.486000  0.243000  0.000000  0.081000  0.042000  0.238000  0.000000  0.019000  0.227000  0.256000   0.000000  0.100000   0.100000  0.028000  -3.100000 -3.500000e+00  -6.700000 -0.100000         wiggili01   1  12.400000   2.600000   5.300000  0.486000  0.900000   2.600000  0.333000   1.700000   2.700000  0.632000  0.568000   1.100000   1.300000  0.889000  0.000000  1.000000   1.000000   2.000000  0.000000  0.300000  1.700000  1.000000   7.100000\n",
      "514  515          Alondes Williams     SG   23  BRK   1     5.000000 -20.900000  0.000000  0.000000  0.000000  0.000000  0.220000  0.112000  0.000000  0.000000  0.000000  1.000000  0.177000  -0.100000  0.000000  -0.100000 -0.517000 -21.300000 -5.200000e+00 -26.500000  0.000000         willial06   0   5.000000   0.000000   0.000000  0.000000  0.000000   0.000000  0.000000   0.000000   0.000000  0.000000  0.000000   0.000000   0.000000  0.000000  0.000000  1.000000   1.000000   0.000000  0.000000  0.000000  2.000000  1.000000   0.000000\n",
      "515  516          Donovan Williams     SG   21  ATL   2     4.000000  14.500000  0.400000  0.400000  0.000000  0.000000  0.554000  0.274000  0.000000  0.000000  0.000000  0.000000  0.525000   0.000000  0.000000   0.000000 -0.225000  -9.100000 -6.100000e+00 -15.200000  0.000000         willido02   0   2.000000   1.000000   2.500000  0.400000  0.000000   1.000000  0.000000   1.000000   1.500000  0.667000  0.400000   0.000000   0.000000  0.000000  0.000000  1.000000   1.000000   0.000000  0.000000  0.000000  0.000000  0.000000   2.000000\n",
      "516  517            Grant Williams     PF   24  BOS  79  2045.000000  10.300000  0.605000  0.611000  0.256000  0.047000  0.145000  0.097000  0.084000  0.010000  0.013000  0.134000  0.131000   1.900000  2.600000   4.400000  0.104000  -1.800000  7.000000e-01  -1.100000  0.500000         willigr01  23  25.900000   2.700000   6.000000  0.454000  1.500000   3.700000  0.395000   1.300000   2.300000  0.546000  0.575000   1.200000   1.500000  0.770000  1.100000  3.500000   4.600000   1.700000  0.500000  0.400000  1.000000  2.400000   8.100000\n",
      "517  518            Jalen Williams     SG   21  OKC  75  2276.000000  15.600000  0.601000  0.258000  0.241000  0.039000  0.122000  0.079000  0.154000  0.021000  0.014000  0.123000  0.184000   3.000000  2.600000   5.600000  0.119000  -0.400000  7.000000e-01   0.300000  1.300000         willija06  62  30.300000   5.500000  10.600000  0.521000  1.000000   2.700000  0.356000   4.500000   7.900000  0.579000  0.567000   2.100000   2.500000  0.812000  1.100000  3.400000   4.500000   3.300000  1.400000  0.500000  1.600000  2.500000  14.100000\n",
      "518  519           Jaylin Williams     PF   20  OKC  49   914.000000  11.200000  0.559000  0.483000  0.231000  0.051000  0.236000  0.141000  0.107000  0.015000  0.012000  0.126000  0.135000   0.700000  1.200000   1.900000  0.099000  -2.300000  6.000000e-01  -1.800000  0.100000         willija07  36  18.700000   2.100000   4.800000  0.436000  0.900000   2.300000  0.407000   1.100000   2.500000  0.463000  0.534000   0.800000   1.100000  0.704000  0.900000  4.000000   4.900000   1.600000  0.600000  0.200000  0.800000  2.300000   5.900000\n",
      "519  520        Jeenathan Williams     SG   23  POR   5   127.000000  15.500000  0.657000  0.205000  0.077000  0.090000  0.046000  0.068000  0.121000  0.012000  0.014000  0.090000  0.152000   0.300000  0.000000   0.300000  0.120000  -1.000000 -2.100000e+00  -3.100000  0.000000         willije02   4  25.400000   4.800000   7.800000  0.615000  0.600000   1.600000  0.375000   4.200000   6.200000  0.677000  0.654000   0.400000   0.600000  0.667000  2.000000  1.000000   3.000000   2.000000  0.600000  0.400000  0.800000  2.600000  10.600000\n",
      "520  521          Kenrich Williams     PF   28  OKC  53  1206.000000  14.400000  0.585000  0.387000  0.113000  0.085000  0.149000  0.116000  0.117000  0.018000  0.011000  0.081000  0.137000   2.000000  1.300000   3.300000  0.133000   0.100000  4.000000e-01   0.500000  0.800000         willike04  10  22.800000   3.400000   6.500000  0.517000  0.900000   2.500000  0.373000   2.400000   4.000000  0.608000  0.590000   0.300000   0.700000  0.436000  1.800000  3.100000   4.900000   2.000000  0.800000  0.300000  0.600000  2.100000   8.000000\n",
      "521  522             Mark Williams      C   21  CHO  43   828.000000  19.800000  0.659000  0.000000  0.386000  0.117000  0.277000  0.196000  0.033000  0.016000  0.047000  0.120000  0.170000   1.500000  1.300000   2.800000  0.163000  -0.500000  6.000000e-01   0.100000  0.400000         willima07  17  19.300000   3.700000   5.800000  0.637000  0.000000   0.000000  0.000000   3.700000   5.800000  0.637000  0.637000   1.600000   2.300000  0.691000  2.200000  4.900000   7.100000   0.400000  0.700000  1.000000  0.900000  2.200000   9.000000\n",
      "522  523          Patrick Williams     PF   21  CHI  82  2323.000000  11.200000  0.576000  0.409000  0.155000  0.039000  0.120000  0.080000  0.058000  0.015000  0.029000  0.123000  0.157000   0.500000  3.000000   3.500000  0.072000  -1.700000  4.000000e-01  -1.300000  0.400000         willipa01  65  28.300000   3.800000   8.300000  0.464000  1.400000   3.400000  0.415000   2.400000   4.900000  0.498000  0.549000   1.100000   1.300000  0.857000  1.000000  3.000000   4.000000   1.200000  0.900000  0.900000  1.200000  1.800000  10.200000\n",
      "523  524           Robert Williams      C   25  BOS  35   824.000000  19.800000  0.742000  0.006000  0.241000  0.140000  0.245000  0.193000  0.085000  0.013000  0.050000  0.153000  0.118000   2.300000  1.600000   3.800000  0.224000   1.000000  2.400000e+00   3.300000  1.100000         williro04  20  23.500000   3.600000   4.900000  0.747000  0.000000   0.000000  0.000000   3.600000   4.800000  0.751000  0.747000   0.700000   1.200000  0.610000  3.000000  5.400000   8.300000   1.400000  0.600000  1.400000  1.000000  1.900000   8.000000\n",
      "524  525        Vince Williams Jr.     SG   22  MEM  15   105.000000   3.900000  0.367000  0.700000  0.050000  0.040000  0.111000  0.076000  0.048000  0.027000  0.017000  0.109000  0.181000  -0.300000  0.200000  -0.100000 -0.049000  -8.300000 -2.000000e-01  -8.500000 -0.200000         willivi01   1   7.000000   0.800000   2.700000  0.300000  0.300000   1.900000  0.143000   0.500000   0.800000  0.667000  0.350000   0.100000   0.100000  1.000000  0.300000  0.700000   1.000000   0.300000  0.400000  0.100000  0.300000  0.800000   2.000000\n",
      "525  527           Zion Williamson     PF   22  NOP  29   956.000000  25.200000  0.652000  0.041000  0.529000  0.069000  0.170000  0.120000  0.244000  0.016000  0.016000  0.146000  0.304000   2.300000  1.200000   3.600000  0.180000   4.800000  1.000000e+00   5.800000  1.900000         willizi01  29  33.000000   9.800000  16.200000  0.608000  0.200000   0.700000  0.368000   9.600000  15.500000  0.618000  0.615000   6.100000   8.600000  0.714000  2.000000  5.000000   7.000000   4.600000  1.100000  0.600000  3.400000  2.200000  26.000000\n",
      "526  526           Ziaire Williams     SF   21  MEM  37   561.000000   7.400000  0.511000  0.495000  0.112000  0.030000  0.119000  0.075000  0.082000  0.012000  0.010000  0.152000  0.180000  -0.500000  0.600000   0.100000  0.011000  -4.700000 -8.000000e-01  -5.600000 -0.500000         willizi02   4  15.200000   2.300000   5.300000  0.429000  0.700000   2.600000  0.258000   1.600000   2.700000  0.596000  0.492000   0.500000   0.600000  0.773000  0.400000  1.700000   2.100000   0.900000  0.400000  0.200000  1.000000  1.600000   5.700000\n",
      "527  528             Dylan Windler     SF   26  CLE   3    10.000000  19.000000  0.833000  0.667000  0.000000  0.000000  0.000000  0.000000  0.152000  0.050000  0.000000  0.250000  0.179000   0.000000  0.000000   0.000000  0.149000   3.200000  3.500000e+00   6.700000  0.000000         windldy01   0   3.300000   0.700000   1.000000  0.667000  0.300000   0.700000  0.500000   0.300000   0.300000  1.000000  0.833000   0.000000   0.000000  0.000000  0.000000  0.000000   0.000000   0.300000  0.300000  0.000000  0.300000  0.000000   1.700000\n",
      "528  529           Justise Winslow     SF   26  POR  29   776.000000   9.300000  0.466000  0.227000  0.141000  0.072000  0.143000  0.107000  0.172000  0.019000  0.013000  0.170000  0.142000  -0.100000  0.500000   0.400000  0.022000  -3.500000  7.000000e-01  -2.800000 -0.200000         winslju01  11  26.800000   2.800000   6.800000  0.409000  0.500000   1.600000  0.311000   2.300000   5.300000  0.438000  0.444000   0.700000   1.000000  0.714000  1.700000  3.300000   5.000000   3.400000  1.000000  0.400000  1.500000  3.100000   6.800000\n",
      "529  530             James Wiseman      C   21  TOT  45   578.000000  15.900000  0.602333  0.051000  0.310333  0.089000  0.247333  0.167000  0.059667  0.004000  0.026667  0.116667  0.209667   0.466667  0.466667   0.933333  0.090000  -1.966667 -1.233333e+00  -3.166667 -0.233333         wisemja01  22  19.000000   4.133333   7.400000  0.572333  0.066667   0.433333  0.289000   4.066667   7.000000  0.589667  0.577667   1.500000   2.166667  0.699000  1.600000  4.233333   5.833333   0.700000  0.166667  0.566667  1.100000  2.400000   9.866667\n",
      "530  531            Christian Wood      C   27  DAL  67  1738.000000  20.600000  0.624000  0.363000  0.365000  0.058000  0.274000  0.164000  0.117000  0.009000  0.037000  0.119000  0.264000   2.700000  2.100000   4.800000  0.132000   1.900000 -3.000000e-01   1.700000  1.600000          woodch01  17  25.900000   5.900000  11.500000  0.515000  1.600000   4.200000  0.376000   4.300000   7.300000  0.594000  0.583000   3.200000   4.200000  0.772000  1.300000  6.000000   7.300000   1.800000  0.400000  1.100000  1.800000  2.500000  16.600000\n",
      "531  532              Delon Wright     PG   30  WAS  50  1221.000000  16.300000  0.581000  0.409000  0.206000  0.055000  0.107000  0.082000  0.209000  0.037000  0.012000  0.122000  0.129000   2.100000  1.600000   3.700000  0.146000   0.400000  3.100000e+00   3.400000  1.700000         wrighde01  14  24.400000   2.800000   5.800000  0.474000  0.800000   2.400000  0.345000   1.900000   3.400000  0.564000  0.545000   1.000000   1.200000  0.867000  1.200000  2.400000   3.600000   3.900000  1.800000  0.300000  0.900000  1.200000   7.400000\n",
      "532  533        McKinley Wright IV     PG   24  DAL  27   335.000000  12.400000  0.536000  0.286000  0.194000  0.031000  0.134000  0.082000  0.252000  0.012000  0.013000  0.152000  0.169000   0.200000  0.200000   0.500000  0.069000  -1.900000 -8.000000e-01  -2.700000 -0.100000         wrighmc01   1  12.400000   1.700000   3.600000  0.469000  0.300000   1.000000  0.321000   1.400000   2.600000  0.529000  0.515000   0.500000   0.700000  0.684000  0.300000  1.400000   1.700000   2.100000  0.300000  0.200000  0.700000  0.900000   4.200000\n",
      "533  534                 Gabe York     SG   29  IND   3    56.000000  11.800000  0.548000  0.857000  0.095000  0.000000  0.119000  0.059000  0.123000  0.017000  0.000000  0.000000  0.164000   0.100000  0.000000   0.100000  0.091000  -1.700000 -1.800000e+00  -3.400000  0.000000          yorkga01   0  18.700000   2.700000   7.000000  0.381000  2.000000   6.000000  0.333000   0.700000   1.000000  0.667000  0.524000   0.700000   0.700000  1.000000  0.000000  2.000000   2.000000   1.700000  0.700000  0.000000  0.000000  1.700000   8.000000\n",
      "534  535            Thaddeus Young     PF   34  TOR  54   795.000000  14.100000  0.573000  0.172000  0.131000  0.094000  0.146000  0.118000  0.129000  0.034000  0.006000  0.167000  0.135000   0.700000  1.100000   1.800000  0.109000  -1.800000  1.900000e+00   0.100000  0.400000         youngth01   9  14.700000   2.000000   3.700000  0.545000  0.100000   0.600000  0.176000   1.900000   3.000000  0.622000  0.561000   0.300000   0.500000  0.692000  1.300000  1.800000   3.100000   1.400000  1.000000  0.100000  0.800000  1.600000   4.400000\n",
      "535  536                Trae Young     PG   24  ATL  73  2541.000000  22.000000  0.573000  0.331000  0.460000  0.024000  0.070000  0.047000  0.425000  0.015000  0.003000  0.152000  0.326000   5.300000  1.400000   6.700000  0.126000   5.300000 -2.000000e+00   3.300000  3.400000         youngtr01  73  34.800000   8.200000  19.000000  0.429000  2.100000   6.300000  0.335000   6.100000  12.700000  0.476000  0.485000   7.800000   8.800000  0.886000  0.800000  2.200000   3.000000  10.200000  1.100000  0.100000  4.100000  1.400000  26.200000\n",
      "536  537            Omer Yurtseven      C   24  MIA   9    83.000000  16.700000  0.675000  0.259000  0.222000  0.109000  0.219000  0.162000  0.039000  0.012000  0.025000  0.119000  0.180000   0.200000  0.100000   0.300000  0.159000  -2.500000 -1.500000e+00  -3.900000  0.000000         yurtsom01   0   9.200000   1.800000   3.000000  0.593000  0.300000   0.800000  0.429000   1.400000   2.200000  0.650000  0.648000   0.600000   0.700000  0.833000  0.900000  1.700000   2.600000   0.200000  0.200000  0.200000  0.400000  1.800000   4.400000\n",
      "537  538               Cody Zeller      C   30  MIA  15   217.000000  16.400000  0.659000  0.034000  0.593000  0.130000  0.218000  0.173000  0.072000  0.007000  0.019000  0.158000  0.181000   0.400000  0.300000   0.700000  0.147000  -2.000000 -7.000000e-01  -2.800000  0.000000         zelleco01   2  14.500000   2.500000   3.900000  0.627000  0.000000   0.100000  0.000000   2.500000   3.800000  0.649000  0.627000   1.600000   2.300000  0.686000  1.700000  2.600000   4.300000   0.700000  0.200000  0.300000  0.900000  2.200000   6.500000\n",
      "538  539               Ivica Zubac      C   25  LAC  76  2170.000000  16.700000  0.661000  0.004000  0.463000  0.123000  0.265000  0.195000  0.051000  0.007000  0.040000  0.159000  0.148000   3.800000  2.900000   6.700000  0.149000  -1.100000  2.000000e-01  -0.900000  0.600000         zubaciv01  76  28.600000   4.300000   6.800000  0.634000  0.000000   0.000000  0.000000   4.300000   6.700000  0.637000  0.634000   2.200000   3.100000  0.697000  3.100000  6.800000   9.900000   1.000000  0.400000  1.300000  1.500000  2.900000  10.800000\n",
      "(539, 52)\n"
     ]
    }
   ],
   "source": [
    "df = pd.merge(advanced_df, pergame_df, how = 'left', on=['Player_additional', 'Player', 'Pos', 'Age', 'Tm', 'G', 'Rk'])\n",
    "print(df)\n",
    "print(df.shape)"
   ]
  },
  {
   "cell_type": "markdown",
   "metadata": {},
   "source": [
    "### 4.1.1. <a id='toc4_1_1_'></a>[Creating some new features](#toc0_)"
   ]
  },
  {
   "cell_type": "markdown",
   "metadata": {},
   "source": [
    "#### 4.1.1.1. <a id='toc4_1_1_1_'></a>[GM = Games Missed](#toc0_)"
   ]
  },
  {
   "cell_type": "code",
   "execution_count": 472,
   "metadata": {},
   "outputs": [],
   "source": [
    "df['GM'] = 82 - df['G']"
   ]
  },
  {
   "cell_type": "markdown",
   "metadata": {},
   "source": []
  },
  {
   "cell_type": "code",
   "execution_count": null,
   "metadata": {},
   "outputs": [],
   "source": []
  },
  {
   "cell_type": "markdown",
   "metadata": {},
   "source": [
    "### 4.1.2. <a id='toc4_1_2_'></a>[Reordering the columns](#toc0_)"
   ]
  },
  {
   "cell_type": "code",
   "execution_count": 473,
   "metadata": {},
   "outputs": [
    {
     "data": {
      "text/html": [
       "<div>\n",
       "<style scoped>\n",
       "    .dataframe tbody tr th:only-of-type {\n",
       "        vertical-align: middle;\n",
       "    }\n",
       "\n",
       "    .dataframe tbody tr th {\n",
       "        vertical-align: top;\n",
       "    }\n",
       "\n",
       "    .dataframe thead th {\n",
       "        text-align: right;\n",
       "    }\n",
       "</style>\n",
       "<table border=\"1\" class=\"dataframe\">\n",
       "  <thead>\n",
       "    <tr style=\"text-align: right;\">\n",
       "      <th></th>\n",
       "      <th>Rk</th>\n",
       "      <th>Player</th>\n",
       "      <th>Pos</th>\n",
       "      <th>Age</th>\n",
       "      <th>Tm</th>\n",
       "      <th>G</th>\n",
       "      <th>GS</th>\n",
       "      <th>GM</th>\n",
       "      <th>MP_Total</th>\n",
       "      <th>MP</th>\n",
       "      <th>PER</th>\n",
       "      <th>USG%</th>\n",
       "      <th>OWS</th>\n",
       "      <th>DWS</th>\n",
       "      <th>WS</th>\n",
       "      <th>WS_48</th>\n",
       "      <th>OBPM</th>\n",
       "      <th>DBPM</th>\n",
       "      <th>BPM</th>\n",
       "      <th>VORP</th>\n",
       "      <th>TS%</th>\n",
       "      <th>PTS</th>\n",
       "      <th>FG</th>\n",
       "      <th>FGA</th>\n",
       "      <th>FG%</th>\n",
       "      <th>3P</th>\n",
       "      <th>3PA</th>\n",
       "      <th>3P%</th>\n",
       "      <th>3PAr</th>\n",
       "      <th>2P</th>\n",
       "      <th>2PA</th>\n",
       "      <th>2P%</th>\n",
       "      <th>eFG%</th>\n",
       "      <th>FT</th>\n",
       "      <th>FTA</th>\n",
       "      <th>FT%</th>\n",
       "      <th>FTr</th>\n",
       "      <th>ORB</th>\n",
       "      <th>ORB%</th>\n",
       "      <th>DRB</th>\n",
       "      <th>DRB%</th>\n",
       "      <th>TRB</th>\n",
       "      <th>TRB%</th>\n",
       "      <th>AST</th>\n",
       "      <th>AST%</th>\n",
       "      <th>STL</th>\n",
       "      <th>STL%</th>\n",
       "      <th>BLK</th>\n",
       "      <th>BLK%</th>\n",
       "      <th>TOV</th>\n",
       "      <th>TOV%</th>\n",
       "      <th>PF</th>\n",
       "      <th>Player_additional</th>\n",
       "    </tr>\n",
       "  </thead>\n",
       "  <tbody>\n",
       "    <tr>\n",
       "      <th>0</th>\n",
       "      <td>1</td>\n",
       "      <td>Precious Achiuwa</td>\n",
       "      <td>C</td>\n",
       "      <td>23</td>\n",
       "      <td>TOR</td>\n",
       "      <td>55</td>\n",
       "      <td>12</td>\n",
       "      <td>27</td>\n",
       "      <td>1140.0</td>\n",
       "      <td>20.7</td>\n",
       "      <td>15.2</td>\n",
       "      <td>0.194</td>\n",
       "      <td>0.8</td>\n",
       "      <td>1.4</td>\n",
       "      <td>2.2</td>\n",
       "      <td>0.093</td>\n",
       "      <td>-1.4</td>\n",
       "      <td>-0.8</td>\n",
       "      <td>-2.3</td>\n",
       "      <td>-0.1</td>\n",
       "      <td>0.554</td>\n",
       "      <td>9.2</td>\n",
       "      <td>3.6</td>\n",
       "      <td>7.3</td>\n",
       "      <td>0.485</td>\n",
       "      <td>0.5</td>\n",
       "      <td>2.0</td>\n",
       "      <td>0.269</td>\n",
       "      <td>0.267</td>\n",
       "      <td>3.0</td>\n",
       "      <td>5.4</td>\n",
       "      <td>0.564</td>\n",
       "      <td>0.521</td>\n",
       "      <td>1.6</td>\n",
       "      <td>2.3</td>\n",
       "      <td>0.702</td>\n",
       "      <td>0.307</td>\n",
       "      <td>1.8</td>\n",
       "      <td>0.093</td>\n",
       "      <td>4.1</td>\n",
       "      <td>0.244</td>\n",
       "      <td>6.0</td>\n",
       "      <td>0.163</td>\n",
       "      <td>0.9</td>\n",
       "      <td>0.063</td>\n",
       "      <td>0.6</td>\n",
       "      <td>0.013</td>\n",
       "      <td>0.5</td>\n",
       "      <td>0.026</td>\n",
       "      <td>1.1</td>\n",
       "      <td>0.114</td>\n",
       "      <td>1.9</td>\n",
       "      <td>achiupr01</td>\n",
       "    </tr>\n",
       "    <tr>\n",
       "      <th>1</th>\n",
       "      <td>2</td>\n",
       "      <td>Steven Adams</td>\n",
       "      <td>C</td>\n",
       "      <td>29</td>\n",
       "      <td>MEM</td>\n",
       "      <td>42</td>\n",
       "      <td>42</td>\n",
       "      <td>40</td>\n",
       "      <td>1133.0</td>\n",
       "      <td>27.0</td>\n",
       "      <td>17.5</td>\n",
       "      <td>0.146</td>\n",
       "      <td>1.3</td>\n",
       "      <td>2.1</td>\n",
       "      <td>3.4</td>\n",
       "      <td>0.144</td>\n",
       "      <td>-0.3</td>\n",
       "      <td>0.9</td>\n",
       "      <td>0.6</td>\n",
       "      <td>0.7</td>\n",
       "      <td>0.564</td>\n",
       "      <td>8.6</td>\n",
       "      <td>3.7</td>\n",
       "      <td>6.3</td>\n",
       "      <td>0.597</td>\n",
       "      <td>0.0</td>\n",
       "      <td>0.0</td>\n",
       "      <td>0.000</td>\n",
       "      <td>0.004</td>\n",
       "      <td>3.7</td>\n",
       "      <td>6.2</td>\n",
       "      <td>0.599</td>\n",
       "      <td>0.597</td>\n",
       "      <td>1.1</td>\n",
       "      <td>3.1</td>\n",
       "      <td>0.364</td>\n",
       "      <td>0.490</td>\n",
       "      <td>5.1</td>\n",
       "      <td>0.201</td>\n",
       "      <td>6.5</td>\n",
       "      <td>0.253</td>\n",
       "      <td>11.5</td>\n",
       "      <td>0.227</td>\n",
       "      <td>2.3</td>\n",
       "      <td>0.112</td>\n",
       "      <td>0.9</td>\n",
       "      <td>0.015</td>\n",
       "      <td>1.1</td>\n",
       "      <td>0.037</td>\n",
       "      <td>1.9</td>\n",
       "      <td>0.198</td>\n",
       "      <td>2.3</td>\n",
       "      <td>adamsst01</td>\n",
       "    </tr>\n",
       "    <tr>\n",
       "      <th>2</th>\n",
       "      <td>3</td>\n",
       "      <td>Bam Adebayo</td>\n",
       "      <td>C</td>\n",
       "      <td>25</td>\n",
       "      <td>MIA</td>\n",
       "      <td>75</td>\n",
       "      <td>75</td>\n",
       "      <td>7</td>\n",
       "      <td>2598.0</td>\n",
       "      <td>34.6</td>\n",
       "      <td>20.1</td>\n",
       "      <td>0.252</td>\n",
       "      <td>3.6</td>\n",
       "      <td>3.8</td>\n",
       "      <td>7.4</td>\n",
       "      <td>0.137</td>\n",
       "      <td>0.8</td>\n",
       "      <td>0.8</td>\n",
       "      <td>1.5</td>\n",
       "      <td>2.3</td>\n",
       "      <td>0.592</td>\n",
       "      <td>20.4</td>\n",
       "      <td>8.0</td>\n",
       "      <td>14.9</td>\n",
       "      <td>0.540</td>\n",
       "      <td>0.0</td>\n",
       "      <td>0.2</td>\n",
       "      <td>0.083</td>\n",
       "      <td>0.011</td>\n",
       "      <td>8.0</td>\n",
       "      <td>14.7</td>\n",
       "      <td>0.545</td>\n",
       "      <td>0.541</td>\n",
       "      <td>4.3</td>\n",
       "      <td>5.4</td>\n",
       "      <td>0.806</td>\n",
       "      <td>0.361</td>\n",
       "      <td>2.5</td>\n",
       "      <td>0.080</td>\n",
       "      <td>6.7</td>\n",
       "      <td>0.236</td>\n",
       "      <td>9.2</td>\n",
       "      <td>0.155</td>\n",
       "      <td>3.2</td>\n",
       "      <td>0.159</td>\n",
       "      <td>1.2</td>\n",
       "      <td>0.017</td>\n",
       "      <td>0.8</td>\n",
       "      <td>0.024</td>\n",
       "      <td>2.5</td>\n",
       "      <td>0.127</td>\n",
       "      <td>2.8</td>\n",
       "      <td>adebaba01</td>\n",
       "    </tr>\n",
       "    <tr>\n",
       "      <th>3</th>\n",
       "      <td>4</td>\n",
       "      <td>Ochai Agbaji</td>\n",
       "      <td>SG</td>\n",
       "      <td>22</td>\n",
       "      <td>UTA</td>\n",
       "      <td>59</td>\n",
       "      <td>22</td>\n",
       "      <td>23</td>\n",
       "      <td>1209.0</td>\n",
       "      <td>20.5</td>\n",
       "      <td>9.5</td>\n",
       "      <td>0.158</td>\n",
       "      <td>0.9</td>\n",
       "      <td>0.4</td>\n",
       "      <td>1.3</td>\n",
       "      <td>0.053</td>\n",
       "      <td>-1.7</td>\n",
       "      <td>-1.4</td>\n",
       "      <td>-3.0</td>\n",
       "      <td>-0.3</td>\n",
       "      <td>0.561</td>\n",
       "      <td>7.9</td>\n",
       "      <td>2.8</td>\n",
       "      <td>6.5</td>\n",
       "      <td>0.427</td>\n",
       "      <td>1.4</td>\n",
       "      <td>3.9</td>\n",
       "      <td>0.355</td>\n",
       "      <td>0.591</td>\n",
       "      <td>1.4</td>\n",
       "      <td>2.7</td>\n",
       "      <td>0.532</td>\n",
       "      <td>0.532</td>\n",
       "      <td>0.9</td>\n",
       "      <td>1.2</td>\n",
       "      <td>0.812</td>\n",
       "      <td>0.179</td>\n",
       "      <td>0.7</td>\n",
       "      <td>0.039</td>\n",
       "      <td>1.3</td>\n",
       "      <td>0.069</td>\n",
       "      <td>2.1</td>\n",
       "      <td>0.054</td>\n",
       "      <td>1.1</td>\n",
       "      <td>0.075</td>\n",
       "      <td>0.3</td>\n",
       "      <td>0.006</td>\n",
       "      <td>0.3</td>\n",
       "      <td>0.010</td>\n",
       "      <td>0.7</td>\n",
       "      <td>0.090</td>\n",
       "      <td>1.7</td>\n",
       "      <td>agbajoc01</td>\n",
       "    </tr>\n",
       "    <tr>\n",
       "      <th>4</th>\n",
       "      <td>5</td>\n",
       "      <td>Santi Aldama</td>\n",
       "      <td>PF</td>\n",
       "      <td>22</td>\n",
       "      <td>MEM</td>\n",
       "      <td>77</td>\n",
       "      <td>20</td>\n",
       "      <td>5</td>\n",
       "      <td>1682.0</td>\n",
       "      <td>21.8</td>\n",
       "      <td>13.9</td>\n",
       "      <td>0.160</td>\n",
       "      <td>2.1</td>\n",
       "      <td>2.4</td>\n",
       "      <td>4.6</td>\n",
       "      <td>0.130</td>\n",
       "      <td>-0.3</td>\n",
       "      <td>0.8</td>\n",
       "      <td>0.5</td>\n",
       "      <td>1.1</td>\n",
       "      <td>0.591</td>\n",
       "      <td>9.0</td>\n",
       "      <td>3.2</td>\n",
       "      <td>6.8</td>\n",
       "      <td>0.470</td>\n",
       "      <td>1.2</td>\n",
       "      <td>3.5</td>\n",
       "      <td>0.353</td>\n",
       "      <td>0.507</td>\n",
       "      <td>2.0</td>\n",
       "      <td>3.4</td>\n",
       "      <td>0.591</td>\n",
       "      <td>0.560</td>\n",
       "      <td>1.4</td>\n",
       "      <td>1.9</td>\n",
       "      <td>0.750</td>\n",
       "      <td>0.274</td>\n",
       "      <td>1.1</td>\n",
       "      <td>0.054</td>\n",
       "      <td>3.7</td>\n",
       "      <td>0.180</td>\n",
       "      <td>4.8</td>\n",
       "      <td>0.117</td>\n",
       "      <td>1.3</td>\n",
       "      <td>0.076</td>\n",
       "      <td>0.6</td>\n",
       "      <td>0.013</td>\n",
       "      <td>0.6</td>\n",
       "      <td>0.026</td>\n",
       "      <td>0.8</td>\n",
       "      <td>0.093</td>\n",
       "      <td>1.9</td>\n",
       "      <td>aldamsa01</td>\n",
       "    </tr>\n",
       "  </tbody>\n",
       "</table>\n",
       "</div>"
      ],
      "text/plain": [
       "   Rk            Player Pos  Age   Tm   G  GS  GM  MP_Total    MP   PER   USG%  OWS  DWS   WS  WS_48  OBPM  DBPM  BPM  VORP    TS%   PTS   FG   FGA    FG%   3P  3PA    3P%   3PAr   2P   2PA    2P%   eFG%   FT  FTA    FT%    FTr  ORB   ORB%  DRB   DRB%   TRB   TRB%  AST   AST%  STL   STL%  BLK   BLK%  TOV   TOV%   PF Player_additional\n",
       "0   1  Precious Achiuwa   C   23  TOR  55  12  27    1140.0  20.7  15.2  0.194  0.8  1.4  2.2  0.093  -1.4  -0.8 -2.3  -0.1  0.554   9.2  3.6   7.3  0.485  0.5  2.0  0.269  0.267  3.0   5.4  0.564  0.521  1.6  2.3  0.702  0.307  1.8  0.093  4.1  0.244   6.0  0.163  0.9  0.063  0.6  0.013  0.5  0.026  1.1  0.114  1.9         achiupr01\n",
       "1   2      Steven Adams   C   29  MEM  42  42  40    1133.0  27.0  17.5  0.146  1.3  2.1  3.4  0.144  -0.3   0.9  0.6   0.7  0.564   8.6  3.7   6.3  0.597  0.0  0.0  0.000  0.004  3.7   6.2  0.599  0.597  1.1  3.1  0.364  0.490  5.1  0.201  6.5  0.253  11.5  0.227  2.3  0.112  0.9  0.015  1.1  0.037  1.9  0.198  2.3         adamsst01\n",
       "2   3       Bam Adebayo   C   25  MIA  75  75   7    2598.0  34.6  20.1  0.252  3.6  3.8  7.4  0.137   0.8   0.8  1.5   2.3  0.592  20.4  8.0  14.9  0.540  0.0  0.2  0.083  0.011  8.0  14.7  0.545  0.541  4.3  5.4  0.806  0.361  2.5  0.080  6.7  0.236   9.2  0.155  3.2  0.159  1.2  0.017  0.8  0.024  2.5  0.127  2.8         adebaba01\n",
       "3   4      Ochai Agbaji  SG   22  UTA  59  22  23    1209.0  20.5   9.5  0.158  0.9  0.4  1.3  0.053  -1.7  -1.4 -3.0  -0.3  0.561   7.9  2.8   6.5  0.427  1.4  3.9  0.355  0.591  1.4   2.7  0.532  0.532  0.9  1.2  0.812  0.179  0.7  0.039  1.3  0.069   2.1  0.054  1.1  0.075  0.3  0.006  0.3  0.010  0.7  0.090  1.7         agbajoc01\n",
       "4   5      Santi Aldama  PF   22  MEM  77  20   5    1682.0  21.8  13.9  0.160  2.1  2.4  4.6  0.130  -0.3   0.8  0.5   1.1  0.591   9.0  3.2   6.8  0.470  1.2  3.5  0.353  0.507  2.0   3.4  0.591  0.560  1.4  1.9  0.750  0.274  1.1  0.054  3.7  0.180   4.8  0.117  1.3  0.076  0.6  0.013  0.6  0.026  0.8  0.093  1.9         aldamsa01"
      ]
     },
     "execution_count": 473,
     "metadata": {},
     "output_type": "execute_result"
    }
   ],
   "source": [
    "df = df[['Rk', 'Player', 'Pos', 'Age', 'Tm', \n",
    "         'G', 'GS', 'GM',\n",
    "         'MP_Total', 'MP', 'PER', \n",
    "         'USG%', 'OWS', 'DWS', 'WS', 'WS_48', \n",
    "         'OBPM', 'DBPM', 'BPM', 'VORP',\n",
    "         'TS%', 'PTS', \n",
    "         'FG', 'FGA', 'FG%', \n",
    "         '3P', '3PA', '3P%', '3PAr',\n",
    "         '2P', '2PA', '2P%', 'eFG%', \n",
    "         'FT', 'FTA', 'FT%', 'FTr',\n",
    "         'ORB', 'ORB%', \n",
    "         'DRB', 'DRB%', \n",
    "         'TRB', 'TRB%',\n",
    "         'AST', 'AST%',\n",
    "         'STL', 'STL%',\n",
    "         'BLK','BLK%',\n",
    "         'TOV', 'TOV%',\n",
    "         'PF', 'Player_additional']]\n",
    "df.head()"
   ]
  },
  {
   "attachments": {},
   "cell_type": "markdown",
   "metadata": {},
   "source": [
    "### 4.1.3. <a id='toc4_1_3_'></a>[Changing rows with weird player's positions](#toc0_)"
   ]
  },
  {
   "cell_type": "code",
   "execution_count": 474,
   "metadata": {},
   "outputs": [
    {
     "data": {
      "text/html": [
       "<div>\n",
       "<style scoped>\n",
       "    .dataframe tbody tr th:only-of-type {\n",
       "        vertical-align: middle;\n",
       "    }\n",
       "\n",
       "    .dataframe tbody tr th {\n",
       "        vertical-align: top;\n",
       "    }\n",
       "\n",
       "    .dataframe thead th {\n",
       "        text-align: right;\n",
       "    }\n",
       "</style>\n",
       "<table border=\"1\" class=\"dataframe\">\n",
       "  <thead>\n",
       "    <tr style=\"text-align: right;\">\n",
       "      <th></th>\n",
       "      <th>Rk</th>\n",
       "      <th>Player</th>\n",
       "      <th>Pos</th>\n",
       "      <th>Age</th>\n",
       "      <th>Tm</th>\n",
       "      <th>G</th>\n",
       "      <th>GS</th>\n",
       "      <th>GM</th>\n",
       "      <th>MP_Total</th>\n",
       "      <th>MP</th>\n",
       "      <th>PER</th>\n",
       "      <th>USG%</th>\n",
       "      <th>OWS</th>\n",
       "      <th>DWS</th>\n",
       "      <th>WS</th>\n",
       "      <th>WS_48</th>\n",
       "      <th>OBPM</th>\n",
       "      <th>DBPM</th>\n",
       "      <th>BPM</th>\n",
       "      <th>VORP</th>\n",
       "      <th>TS%</th>\n",
       "      <th>PTS</th>\n",
       "      <th>FG</th>\n",
       "      <th>FGA</th>\n",
       "      <th>FG%</th>\n",
       "      <th>3P</th>\n",
       "      <th>3PA</th>\n",
       "      <th>3P%</th>\n",
       "      <th>3PAr</th>\n",
       "      <th>2P</th>\n",
       "      <th>2PA</th>\n",
       "      <th>2P%</th>\n",
       "      <th>eFG%</th>\n",
       "      <th>FT</th>\n",
       "      <th>FTA</th>\n",
       "      <th>FT%</th>\n",
       "      <th>FTr</th>\n",
       "      <th>ORB</th>\n",
       "      <th>ORB%</th>\n",
       "      <th>DRB</th>\n",
       "      <th>DRB%</th>\n",
       "      <th>TRB</th>\n",
       "      <th>TRB%</th>\n",
       "      <th>AST</th>\n",
       "      <th>AST%</th>\n",
       "      <th>STL</th>\n",
       "      <th>STL%</th>\n",
       "      <th>BLK</th>\n",
       "      <th>BLK%</th>\n",
       "      <th>TOV</th>\n",
       "      <th>TOV%</th>\n",
       "      <th>PF</th>\n",
       "      <th>Player_additional</th>\n",
       "    </tr>\n",
       "  </thead>\n",
       "  <tbody>\n",
       "    <tr>\n",
       "      <th>199</th>\n",
       "      <td>199</td>\n",
       "      <td>Josh Hart</td>\n",
       "      <td>SF-SG</td>\n",
       "      <td>27</td>\n",
       "      <td>TOT</td>\n",
       "      <td>76</td>\n",
       "      <td>52</td>\n",
       "      <td>6</td>\n",
       "      <td>1636.000000</td>\n",
       "      <td>31.9</td>\n",
       "      <td>14.633333</td>\n",
       "      <td>0.126000</td>\n",
       "      <td>2.533333</td>\n",
       "      <td>1.466667</td>\n",
       "      <td>4.000000</td>\n",
       "      <td>0.129333</td>\n",
       "      <td>0.1</td>\n",
       "      <td>1.266667</td>\n",
       "      <td>1.366667</td>\n",
       "      <td>1.200000</td>\n",
       "      <td>0.637</td>\n",
       "      <td>9.833333</td>\n",
       "      <td>3.633333</td>\n",
       "      <td>6.733333</td>\n",
       "      <td>0.539667</td>\n",
       "      <td>0.866667</td>\n",
       "      <td>2.166667</td>\n",
       "      <td>0.398333</td>\n",
       "      <td>0.318333</td>\n",
       "      <td>2.766667</td>\n",
       "      <td>4.600000</td>\n",
       "      <td>0.604667</td>\n",
       "      <td>0.603667</td>\n",
       "      <td>1.733333</td>\n",
       "      <td>2.300000</td>\n",
       "      <td>0.756667</td>\n",
       "      <td>0.343</td>\n",
       "      <td>1.9</td>\n",
       "      <td>0.066000</td>\n",
       "      <td>5.800000</td>\n",
       "      <td>0.206333</td>\n",
       "      <td>7.666667</td>\n",
       "      <td>0.135667</td>\n",
       "      <td>3.766667</td>\n",
       "      <td>0.161</td>\n",
       "      <td>1.233333</td>\n",
       "      <td>0.018333</td>\n",
       "      <td>0.333333</td>\n",
       "      <td>0.009333</td>\n",
       "      <td>1.500000</td>\n",
       "      <td>0.165667</td>\n",
       "      <td>2.566667</td>\n",
       "      <td>hartjo01</td>\n",
       "    </tr>\n",
       "    <tr>\n",
       "      <th>365</th>\n",
       "      <td>366</td>\n",
       "      <td>Kendrick Nunn</td>\n",
       "      <td>SG-PG</td>\n",
       "      <td>27</td>\n",
       "      <td>TOT</td>\n",
       "      <td>70</td>\n",
       "      <td>2</td>\n",
       "      <td>12</td>\n",
       "      <td>642.666667</td>\n",
       "      <td>13.8</td>\n",
       "      <td>11.300000</td>\n",
       "      <td>0.237333</td>\n",
       "      <td>-0.400000</td>\n",
       "      <td>0.533333</td>\n",
       "      <td>0.133333</td>\n",
       "      <td>0.010000</td>\n",
       "      <td>-2.0</td>\n",
       "      <td>-1.466667</td>\n",
       "      <td>-3.400000</td>\n",
       "      <td>-0.266667</td>\n",
       "      <td>0.532</td>\n",
       "      <td>7.100000</td>\n",
       "      <td>2.733333</td>\n",
       "      <td>6.400000</td>\n",
       "      <td>0.425667</td>\n",
       "      <td>1.133333</td>\n",
       "      <td>3.166667</td>\n",
       "      <td>0.357000</td>\n",
       "      <td>0.495000</td>\n",
       "      <td>1.600000</td>\n",
       "      <td>3.233333</td>\n",
       "      <td>0.493667</td>\n",
       "      <td>0.514333</td>\n",
       "      <td>0.500000</td>\n",
       "      <td>0.566667</td>\n",
       "      <td>0.854667</td>\n",
       "      <td>0.092</td>\n",
       "      <td>0.2</td>\n",
       "      <td>0.018333</td>\n",
       "      <td>1.333333</td>\n",
       "      <td>0.103000</td>\n",
       "      <td>1.566667</td>\n",
       "      <td>0.062333</td>\n",
       "      <td>1.333333</td>\n",
       "      <td>0.141</td>\n",
       "      <td>0.400000</td>\n",
       "      <td>0.014333</td>\n",
       "      <td>0.100000</td>\n",
       "      <td>0.006333</td>\n",
       "      <td>0.933333</td>\n",
       "      <td>0.124667</td>\n",
       "      <td>0.933333</td>\n",
       "      <td>nunnke01</td>\n",
       "    </tr>\n",
       "  </tbody>\n",
       "</table>\n",
       "</div>"
      ],
      "text/plain": [
       "      Rk         Player    Pos  Age   Tm   G  GS  GM     MP_Total    MP        PER      USG%       OWS       DWS        WS     WS_48  OBPM      DBPM       BPM      VORP    TS%       PTS        FG       FGA       FG%        3P       3PA       3P%      3PAr        2P       2PA       2P%      eFG%        FT       FTA       FT%    FTr  ORB      ORB%       DRB      DRB%       TRB      TRB%       AST   AST%       STL      STL%       BLK      BLK%       TOV      TOV%        PF Player_additional\n",
       "199  199      Josh Hart  SF-SG   27  TOT  76  52   6  1636.000000  31.9  14.633333  0.126000  2.533333  1.466667  4.000000  0.129333   0.1  1.266667  1.366667  1.200000  0.637  9.833333  3.633333  6.733333  0.539667  0.866667  2.166667  0.398333  0.318333  2.766667  4.600000  0.604667  0.603667  1.733333  2.300000  0.756667  0.343  1.9  0.066000  5.800000  0.206333  7.666667  0.135667  3.766667  0.161  1.233333  0.018333  0.333333  0.009333  1.500000  0.165667  2.566667          hartjo01\n",
       "365  366  Kendrick Nunn  SG-PG   27  TOT  70   2  12   642.666667  13.8  11.300000  0.237333 -0.400000  0.533333  0.133333  0.010000  -2.0 -1.466667 -3.400000 -0.266667  0.532  7.100000  2.733333  6.400000  0.425667  1.133333  3.166667  0.357000  0.495000  1.600000  3.233333  0.493667  0.514333  0.500000  0.566667  0.854667  0.092  0.2  0.018333  1.333333  0.103000  1.566667  0.062333  1.333333  0.141  0.400000  0.014333  0.100000  0.006333  0.933333  0.124667  0.933333          nunnke01"
      ]
     },
     "execution_count": 474,
     "metadata": {},
     "output_type": "execute_result"
    }
   ],
   "source": [
    "df[(df['Pos'] == 'SF-SG') | (df['Pos'] == 'SG-PG')]"
   ]
  },
  {
   "cell_type": "code",
   "execution_count": 475,
   "metadata": {},
   "outputs": [],
   "source": [
    "df.iloc[199,2] = 'SF'\n",
    "df.iloc[365,2] = 'SG'"
   ]
  },
  {
   "cell_type": "code",
   "execution_count": 476,
   "metadata": {},
   "outputs": [
    {
     "data": {
      "text/html": [
       "<div>\n",
       "<style scoped>\n",
       "    .dataframe tbody tr th:only-of-type {\n",
       "        vertical-align: middle;\n",
       "    }\n",
       "\n",
       "    .dataframe tbody tr th {\n",
       "        vertical-align: top;\n",
       "    }\n",
       "\n",
       "    .dataframe thead th {\n",
       "        text-align: right;\n",
       "    }\n",
       "</style>\n",
       "<table border=\"1\" class=\"dataframe\">\n",
       "  <thead>\n",
       "    <tr style=\"text-align: right;\">\n",
       "      <th></th>\n",
       "      <th>Rk</th>\n",
       "      <th>Player</th>\n",
       "      <th>Pos</th>\n",
       "      <th>Age</th>\n",
       "      <th>Tm</th>\n",
       "      <th>G</th>\n",
       "      <th>GS</th>\n",
       "      <th>GM</th>\n",
       "      <th>MP_Total</th>\n",
       "      <th>MP</th>\n",
       "      <th>PER</th>\n",
       "      <th>USG%</th>\n",
       "      <th>OWS</th>\n",
       "      <th>DWS</th>\n",
       "      <th>WS</th>\n",
       "      <th>WS_48</th>\n",
       "      <th>OBPM</th>\n",
       "      <th>DBPM</th>\n",
       "      <th>BPM</th>\n",
       "      <th>VORP</th>\n",
       "      <th>TS%</th>\n",
       "      <th>PTS</th>\n",
       "      <th>FG</th>\n",
       "      <th>FGA</th>\n",
       "      <th>FG%</th>\n",
       "      <th>3P</th>\n",
       "      <th>3PA</th>\n",
       "      <th>3P%</th>\n",
       "      <th>3PAr</th>\n",
       "      <th>2P</th>\n",
       "      <th>2PA</th>\n",
       "      <th>2P%</th>\n",
       "      <th>eFG%</th>\n",
       "      <th>FT</th>\n",
       "      <th>FTA</th>\n",
       "      <th>FT%</th>\n",
       "      <th>FTr</th>\n",
       "      <th>ORB</th>\n",
       "      <th>ORB%</th>\n",
       "      <th>DRB</th>\n",
       "      <th>DRB%</th>\n",
       "      <th>TRB</th>\n",
       "      <th>TRB%</th>\n",
       "      <th>AST</th>\n",
       "      <th>AST%</th>\n",
       "      <th>STL</th>\n",
       "      <th>STL%</th>\n",
       "      <th>BLK</th>\n",
       "      <th>BLK%</th>\n",
       "      <th>TOV</th>\n",
       "      <th>TOV%</th>\n",
       "      <th>PF</th>\n",
       "      <th>Player_additional</th>\n",
       "    </tr>\n",
       "  </thead>\n",
       "  <tbody>\n",
       "  </tbody>\n",
       "</table>\n",
       "</div>"
      ],
      "text/plain": [
       "Empty DataFrame\n",
       "Columns: [Rk, Player, Pos, Age, Tm, G, GS, GM, MP_Total, MP, PER, USG%, OWS, DWS, WS, WS_48, OBPM, DBPM, BPM, VORP, TS%, PTS, FG, FGA, FG%, 3P, 3PA, 3P%, 3PAr, 2P, 2PA, 2P%, eFG%, FT, FTA, FT%, FTr, ORB, ORB%, DRB, DRB%, TRB, TRB%, AST, AST%, STL, STL%, BLK, BLK%, TOV, TOV%, PF, Player_additional]\n",
       "Index: []"
      ]
     },
     "execution_count": 476,
     "metadata": {},
     "output_type": "execute_result"
    }
   ],
   "source": [
    "df[(df['Pos'] == 'SF-SG') | (df['Pos'] == 'SG-PG')]"
   ]
  },
  {
   "cell_type": "markdown",
   "metadata": {},
   "source": [
    "## 4.2. <a id='toc4_2_'></a>[Exporting the merged dataset as a csv file](#toc0_)"
   ]
  },
  {
   "cell_type": "code",
   "execution_count": 477,
   "metadata": {},
   "outputs": [],
   "source": [
    "df.to_csv('~/repos/NBA_2022-2023/data/df.csv')"
   ]
  },
  {
   "cell_type": "markdown",
   "metadata": {},
   "source": [
    "# 5. <a id='toc5_'></a>[Data selection and filtering](#toc0_)\n",
    "- Filter data rows\n",
    "- Filter data columns"
   ]
  },
  {
   "cell_type": "markdown",
   "metadata": {},
   "source": [
    "## 5.1. <a id='toc5_1_'></a>[Importing merged dataset from csv file](#toc0_)"
   ]
  },
  {
   "cell_type": "code",
   "execution_count": 478,
   "metadata": {},
   "outputs": [],
   "source": [
    "df05 = pd.read_csv('~/repos/NBA_2022-2023/data/df.csv', low_memory=False)"
   ]
  },
  {
   "cell_type": "code",
   "execution_count": null,
   "metadata": {},
   "outputs": [],
   "source": []
  },
  {
   "cell_type": "code",
   "execution_count": null,
   "metadata": {},
   "outputs": [],
   "source": []
  },
  {
   "cell_type": "code",
   "execution_count": null,
   "metadata": {},
   "outputs": [],
   "source": []
  },
  {
   "cell_type": "code",
   "execution_count": null,
   "metadata": {},
   "outputs": [],
   "source": []
  },
  {
   "cell_type": "markdown",
   "metadata": {},
   "source": [
    "# 6. <a id='toc6_'></a>[Exploratory Data Analysis](#toc0_)\n",
    "- Answer the hypothesis list\n",
    "- Build data visualization solutions and plots"
   ]
  },
  {
   "cell_type": "markdown",
   "metadata": {},
   "source": [
    "## 6.1. <a id='toc6_1_'></a>[Importing merged dataset from csv file](#toc0_)"
   ]
  },
  {
   "cell_type": "code",
   "execution_count": 479,
   "metadata": {},
   "outputs": [],
   "source": [
    "df06 = pd.read_csv('~/repos/NBA_2022-2023/data/df.csv', low_memory=False)"
   ]
  },
  {
   "cell_type": "code",
   "execution_count": 480,
   "metadata": {},
   "outputs": [
    {
     "data": {
      "text/html": [
       "<div>\n",
       "<style scoped>\n",
       "    .dataframe tbody tr th:only-of-type {\n",
       "        vertical-align: middle;\n",
       "    }\n",
       "\n",
       "    .dataframe tbody tr th {\n",
       "        vertical-align: top;\n",
       "    }\n",
       "\n",
       "    .dataframe thead th {\n",
       "        text-align: right;\n",
       "    }\n",
       "</style>\n",
       "<table border=\"1\" class=\"dataframe\">\n",
       "  <thead>\n",
       "    <tr style=\"text-align: right;\">\n",
       "      <th></th>\n",
       "      <th>Unnamed: 0</th>\n",
       "      <th>Rk</th>\n",
       "      <th>Player</th>\n",
       "      <th>Pos</th>\n",
       "      <th>Age</th>\n",
       "      <th>Tm</th>\n",
       "      <th>G</th>\n",
       "      <th>GS</th>\n",
       "      <th>GM</th>\n",
       "      <th>MP_Total</th>\n",
       "      <th>MP</th>\n",
       "      <th>PER</th>\n",
       "      <th>USG%</th>\n",
       "      <th>OWS</th>\n",
       "      <th>DWS</th>\n",
       "      <th>WS</th>\n",
       "      <th>WS_48</th>\n",
       "      <th>OBPM</th>\n",
       "      <th>DBPM</th>\n",
       "      <th>BPM</th>\n",
       "      <th>VORP</th>\n",
       "      <th>TS%</th>\n",
       "      <th>PTS</th>\n",
       "      <th>FG</th>\n",
       "      <th>FGA</th>\n",
       "      <th>FG%</th>\n",
       "      <th>3P</th>\n",
       "      <th>3PA</th>\n",
       "      <th>3P%</th>\n",
       "      <th>3PAr</th>\n",
       "      <th>2P</th>\n",
       "      <th>2PA</th>\n",
       "      <th>2P%</th>\n",
       "      <th>eFG%</th>\n",
       "      <th>FT</th>\n",
       "      <th>FTA</th>\n",
       "      <th>FT%</th>\n",
       "      <th>FTr</th>\n",
       "      <th>ORB</th>\n",
       "      <th>ORB%</th>\n",
       "      <th>DRB</th>\n",
       "      <th>DRB%</th>\n",
       "      <th>TRB</th>\n",
       "      <th>TRB%</th>\n",
       "      <th>AST</th>\n",
       "      <th>AST%</th>\n",
       "      <th>STL</th>\n",
       "      <th>STL%</th>\n",
       "      <th>BLK</th>\n",
       "      <th>BLK%</th>\n",
       "      <th>TOV</th>\n",
       "      <th>TOV%</th>\n",
       "      <th>PF</th>\n",
       "      <th>Player_additional</th>\n",
       "    </tr>\n",
       "  </thead>\n",
       "  <tbody>\n",
       "    <tr>\n",
       "      <th>0</th>\n",
       "      <td>0</td>\n",
       "      <td>1</td>\n",
       "      <td>Precious Achiuwa</td>\n",
       "      <td>C</td>\n",
       "      <td>23</td>\n",
       "      <td>TOR</td>\n",
       "      <td>55</td>\n",
       "      <td>12</td>\n",
       "      <td>27</td>\n",
       "      <td>1140.0</td>\n",
       "      <td>20.7</td>\n",
       "      <td>15.2</td>\n",
       "      <td>0.194</td>\n",
       "      <td>0.8</td>\n",
       "      <td>1.4</td>\n",
       "      <td>2.2</td>\n",
       "      <td>0.093</td>\n",
       "      <td>-1.4</td>\n",
       "      <td>-0.8</td>\n",
       "      <td>-2.3</td>\n",
       "      <td>-0.1</td>\n",
       "      <td>0.554</td>\n",
       "      <td>9.2</td>\n",
       "      <td>3.6</td>\n",
       "      <td>7.3</td>\n",
       "      <td>0.485</td>\n",
       "      <td>0.5</td>\n",
       "      <td>2.0</td>\n",
       "      <td>0.269</td>\n",
       "      <td>0.267</td>\n",
       "      <td>3.0</td>\n",
       "      <td>5.4</td>\n",
       "      <td>0.564</td>\n",
       "      <td>0.521</td>\n",
       "      <td>1.6</td>\n",
       "      <td>2.3</td>\n",
       "      <td>0.702</td>\n",
       "      <td>0.307</td>\n",
       "      <td>1.8</td>\n",
       "      <td>0.093</td>\n",
       "      <td>4.1</td>\n",
       "      <td>0.244</td>\n",
       "      <td>6.0</td>\n",
       "      <td>0.163</td>\n",
       "      <td>0.9</td>\n",
       "      <td>0.063</td>\n",
       "      <td>0.6</td>\n",
       "      <td>0.013</td>\n",
       "      <td>0.5</td>\n",
       "      <td>0.026</td>\n",
       "      <td>1.1</td>\n",
       "      <td>0.114</td>\n",
       "      <td>1.9</td>\n",
       "      <td>achiupr01</td>\n",
       "    </tr>\n",
       "    <tr>\n",
       "      <th>1</th>\n",
       "      <td>1</td>\n",
       "      <td>2</td>\n",
       "      <td>Steven Adams</td>\n",
       "      <td>C</td>\n",
       "      <td>29</td>\n",
       "      <td>MEM</td>\n",
       "      <td>42</td>\n",
       "      <td>42</td>\n",
       "      <td>40</td>\n",
       "      <td>1133.0</td>\n",
       "      <td>27.0</td>\n",
       "      <td>17.5</td>\n",
       "      <td>0.146</td>\n",
       "      <td>1.3</td>\n",
       "      <td>2.1</td>\n",
       "      <td>3.4</td>\n",
       "      <td>0.144</td>\n",
       "      <td>-0.3</td>\n",
       "      <td>0.9</td>\n",
       "      <td>0.6</td>\n",
       "      <td>0.7</td>\n",
       "      <td>0.564</td>\n",
       "      <td>8.6</td>\n",
       "      <td>3.7</td>\n",
       "      <td>6.3</td>\n",
       "      <td>0.597</td>\n",
       "      <td>0.0</td>\n",
       "      <td>0.0</td>\n",
       "      <td>0.000</td>\n",
       "      <td>0.004</td>\n",
       "      <td>3.7</td>\n",
       "      <td>6.2</td>\n",
       "      <td>0.599</td>\n",
       "      <td>0.597</td>\n",
       "      <td>1.1</td>\n",
       "      <td>3.1</td>\n",
       "      <td>0.364</td>\n",
       "      <td>0.490</td>\n",
       "      <td>5.1</td>\n",
       "      <td>0.201</td>\n",
       "      <td>6.5</td>\n",
       "      <td>0.253</td>\n",
       "      <td>11.5</td>\n",
       "      <td>0.227</td>\n",
       "      <td>2.3</td>\n",
       "      <td>0.112</td>\n",
       "      <td>0.9</td>\n",
       "      <td>0.015</td>\n",
       "      <td>1.1</td>\n",
       "      <td>0.037</td>\n",
       "      <td>1.9</td>\n",
       "      <td>0.198</td>\n",
       "      <td>2.3</td>\n",
       "      <td>adamsst01</td>\n",
       "    </tr>\n",
       "    <tr>\n",
       "      <th>2</th>\n",
       "      <td>2</td>\n",
       "      <td>3</td>\n",
       "      <td>Bam Adebayo</td>\n",
       "      <td>C</td>\n",
       "      <td>25</td>\n",
       "      <td>MIA</td>\n",
       "      <td>75</td>\n",
       "      <td>75</td>\n",
       "      <td>7</td>\n",
       "      <td>2598.0</td>\n",
       "      <td>34.6</td>\n",
       "      <td>20.1</td>\n",
       "      <td>0.252</td>\n",
       "      <td>3.6</td>\n",
       "      <td>3.8</td>\n",
       "      <td>7.4</td>\n",
       "      <td>0.137</td>\n",
       "      <td>0.8</td>\n",
       "      <td>0.8</td>\n",
       "      <td>1.5</td>\n",
       "      <td>2.3</td>\n",
       "      <td>0.592</td>\n",
       "      <td>20.4</td>\n",
       "      <td>8.0</td>\n",
       "      <td>14.9</td>\n",
       "      <td>0.540</td>\n",
       "      <td>0.0</td>\n",
       "      <td>0.2</td>\n",
       "      <td>0.083</td>\n",
       "      <td>0.011</td>\n",
       "      <td>8.0</td>\n",
       "      <td>14.7</td>\n",
       "      <td>0.545</td>\n",
       "      <td>0.541</td>\n",
       "      <td>4.3</td>\n",
       "      <td>5.4</td>\n",
       "      <td>0.806</td>\n",
       "      <td>0.361</td>\n",
       "      <td>2.5</td>\n",
       "      <td>0.080</td>\n",
       "      <td>6.7</td>\n",
       "      <td>0.236</td>\n",
       "      <td>9.2</td>\n",
       "      <td>0.155</td>\n",
       "      <td>3.2</td>\n",
       "      <td>0.159</td>\n",
       "      <td>1.2</td>\n",
       "      <td>0.017</td>\n",
       "      <td>0.8</td>\n",
       "      <td>0.024</td>\n",
       "      <td>2.5</td>\n",
       "      <td>0.127</td>\n",
       "      <td>2.8</td>\n",
       "      <td>adebaba01</td>\n",
       "    </tr>\n",
       "    <tr>\n",
       "      <th>3</th>\n",
       "      <td>3</td>\n",
       "      <td>4</td>\n",
       "      <td>Ochai Agbaji</td>\n",
       "      <td>SG</td>\n",
       "      <td>22</td>\n",
       "      <td>UTA</td>\n",
       "      <td>59</td>\n",
       "      <td>22</td>\n",
       "      <td>23</td>\n",
       "      <td>1209.0</td>\n",
       "      <td>20.5</td>\n",
       "      <td>9.5</td>\n",
       "      <td>0.158</td>\n",
       "      <td>0.9</td>\n",
       "      <td>0.4</td>\n",
       "      <td>1.3</td>\n",
       "      <td>0.053</td>\n",
       "      <td>-1.7</td>\n",
       "      <td>-1.4</td>\n",
       "      <td>-3.0</td>\n",
       "      <td>-0.3</td>\n",
       "      <td>0.561</td>\n",
       "      <td>7.9</td>\n",
       "      <td>2.8</td>\n",
       "      <td>6.5</td>\n",
       "      <td>0.427</td>\n",
       "      <td>1.4</td>\n",
       "      <td>3.9</td>\n",
       "      <td>0.355</td>\n",
       "      <td>0.591</td>\n",
       "      <td>1.4</td>\n",
       "      <td>2.7</td>\n",
       "      <td>0.532</td>\n",
       "      <td>0.532</td>\n",
       "      <td>0.9</td>\n",
       "      <td>1.2</td>\n",
       "      <td>0.812</td>\n",
       "      <td>0.179</td>\n",
       "      <td>0.7</td>\n",
       "      <td>0.039</td>\n",
       "      <td>1.3</td>\n",
       "      <td>0.069</td>\n",
       "      <td>2.1</td>\n",
       "      <td>0.054</td>\n",
       "      <td>1.1</td>\n",
       "      <td>0.075</td>\n",
       "      <td>0.3</td>\n",
       "      <td>0.006</td>\n",
       "      <td>0.3</td>\n",
       "      <td>0.010</td>\n",
       "      <td>0.7</td>\n",
       "      <td>0.090</td>\n",
       "      <td>1.7</td>\n",
       "      <td>agbajoc01</td>\n",
       "    </tr>\n",
       "    <tr>\n",
       "      <th>4</th>\n",
       "      <td>4</td>\n",
       "      <td>5</td>\n",
       "      <td>Santi Aldama</td>\n",
       "      <td>PF</td>\n",
       "      <td>22</td>\n",
       "      <td>MEM</td>\n",
       "      <td>77</td>\n",
       "      <td>20</td>\n",
       "      <td>5</td>\n",
       "      <td>1682.0</td>\n",
       "      <td>21.8</td>\n",
       "      <td>13.9</td>\n",
       "      <td>0.160</td>\n",
       "      <td>2.1</td>\n",
       "      <td>2.4</td>\n",
       "      <td>4.6</td>\n",
       "      <td>0.130</td>\n",
       "      <td>-0.3</td>\n",
       "      <td>0.8</td>\n",
       "      <td>0.5</td>\n",
       "      <td>1.1</td>\n",
       "      <td>0.591</td>\n",
       "      <td>9.0</td>\n",
       "      <td>3.2</td>\n",
       "      <td>6.8</td>\n",
       "      <td>0.470</td>\n",
       "      <td>1.2</td>\n",
       "      <td>3.5</td>\n",
       "      <td>0.353</td>\n",
       "      <td>0.507</td>\n",
       "      <td>2.0</td>\n",
       "      <td>3.4</td>\n",
       "      <td>0.591</td>\n",
       "      <td>0.560</td>\n",
       "      <td>1.4</td>\n",
       "      <td>1.9</td>\n",
       "      <td>0.750</td>\n",
       "      <td>0.274</td>\n",
       "      <td>1.1</td>\n",
       "      <td>0.054</td>\n",
       "      <td>3.7</td>\n",
       "      <td>0.180</td>\n",
       "      <td>4.8</td>\n",
       "      <td>0.117</td>\n",
       "      <td>1.3</td>\n",
       "      <td>0.076</td>\n",
       "      <td>0.6</td>\n",
       "      <td>0.013</td>\n",
       "      <td>0.6</td>\n",
       "      <td>0.026</td>\n",
       "      <td>0.8</td>\n",
       "      <td>0.093</td>\n",
       "      <td>1.9</td>\n",
       "      <td>aldamsa01</td>\n",
       "    </tr>\n",
       "  </tbody>\n",
       "</table>\n",
       "</div>"
      ],
      "text/plain": [
       "   Unnamed: 0  Rk            Player Pos  Age   Tm   G  GS  GM  MP_Total    MP   PER   USG%  OWS  DWS   WS  WS_48  OBPM  DBPM  BPM  VORP    TS%   PTS   FG   FGA    FG%   3P  3PA    3P%   3PAr   2P   2PA    2P%   eFG%   FT  FTA    FT%    FTr  ORB   ORB%  DRB   DRB%   TRB   TRB%  AST   AST%  STL   STL%  BLK   BLK%  TOV   TOV%   PF Player_additional\n",
       "0           0   1  Precious Achiuwa   C   23  TOR  55  12  27    1140.0  20.7  15.2  0.194  0.8  1.4  2.2  0.093  -1.4  -0.8 -2.3  -0.1  0.554   9.2  3.6   7.3  0.485  0.5  2.0  0.269  0.267  3.0   5.4  0.564  0.521  1.6  2.3  0.702  0.307  1.8  0.093  4.1  0.244   6.0  0.163  0.9  0.063  0.6  0.013  0.5  0.026  1.1  0.114  1.9         achiupr01\n",
       "1           1   2      Steven Adams   C   29  MEM  42  42  40    1133.0  27.0  17.5  0.146  1.3  2.1  3.4  0.144  -0.3   0.9  0.6   0.7  0.564   8.6  3.7   6.3  0.597  0.0  0.0  0.000  0.004  3.7   6.2  0.599  0.597  1.1  3.1  0.364  0.490  5.1  0.201  6.5  0.253  11.5  0.227  2.3  0.112  0.9  0.015  1.1  0.037  1.9  0.198  2.3         adamsst01\n",
       "2           2   3       Bam Adebayo   C   25  MIA  75  75   7    2598.0  34.6  20.1  0.252  3.6  3.8  7.4  0.137   0.8   0.8  1.5   2.3  0.592  20.4  8.0  14.9  0.540  0.0  0.2  0.083  0.011  8.0  14.7  0.545  0.541  4.3  5.4  0.806  0.361  2.5  0.080  6.7  0.236   9.2  0.155  3.2  0.159  1.2  0.017  0.8  0.024  2.5  0.127  2.8         adebaba01\n",
       "3           3   4      Ochai Agbaji  SG   22  UTA  59  22  23    1209.0  20.5   9.5  0.158  0.9  0.4  1.3  0.053  -1.7  -1.4 -3.0  -0.3  0.561   7.9  2.8   6.5  0.427  1.4  3.9  0.355  0.591  1.4   2.7  0.532  0.532  0.9  1.2  0.812  0.179  0.7  0.039  1.3  0.069   2.1  0.054  1.1  0.075  0.3  0.006  0.3  0.010  0.7  0.090  1.7         agbajoc01\n",
       "4           4   5      Santi Aldama  PF   22  MEM  77  20   5    1682.0  21.8  13.9  0.160  2.1  2.4  4.6  0.130  -0.3   0.8  0.5   1.1  0.591   9.0  3.2   6.8  0.470  1.2  3.5  0.353  0.507  2.0   3.4  0.591  0.560  1.4  1.9  0.750  0.274  1.1  0.054  3.7  0.180   4.8  0.117  1.3  0.076  0.6  0.013  0.6  0.026  0.8  0.093  1.9         aldamsa01"
      ]
     },
     "execution_count": 480,
     "metadata": {},
     "output_type": "execute_result"
    }
   ],
   "source": [
    "df06.head()"
   ]
  },
  {
   "cell_type": "markdown",
   "metadata": {},
   "source": [
    "## 6.2. <a id='toc6_2_'></a>[First graphs](#toc0_)"
   ]
  },
  {
   "cell_type": "markdown",
   "metadata": {},
   "source": [
    "### 6.2.1. <a id='toc6_2_1_'></a>[How are distributed the Points Per Game according to the Positions assigned to each Player?](#toc0_)"
   ]
  },
  {
   "cell_type": "code",
   "execution_count": 481,
   "metadata": {},
   "outputs": [
    {
     "data": {
      "application/vnd.plotly.v1+json": {
       "config": {
        "plotlyServerURL": "https://plot.ly"
       },
       "data": [
        {
         "alignmentgroup": "True",
         "hovertemplate": "<b>%{hovertext}</b><br><br>Position=%{x}<br>Points per Game=%{y}<extra></extra>",
         "hovertext": [
          "Jose Alvarado",
          "Cole Anthony",
          "Ryan Arcidiacono",
          "LaMelo Ball",
          "Dalano Banton",
          "Patrick Beverley",
          "Buddy Boeheim",
          "Jamaree Bouyea",
          "Malcolm Brogdon",
          "Jalen Brunson",
          "Facundo Campazzo",
          "Jevon Carter",
          "Michael Carter-Williams",
          "Alex Caruso",
          "Kennedy Chandler",
          "Mike Conley",
          "Cade Cunningham",
          "Stephen Curry",
          "Dyson Daniels",
          "JD Davison",
          "Matthew Dellavedova",
          "Spencer Dinwiddie",
          "Luka Dončić",
          "Devon Dotson",
          "Jeff Dowtin",
          "Goran Dragić",
          "Kris Dunn",
          "Malachi Flynn",
          "Trent Forrest",
          "De'Aaron Fox",
          "Markelle Fultz",
          "Darius Garland",
          "Shai Gilgeous-Alexander",
          "Jacob Gilyard",
          "Jordan Goodwin",
          "Devonte' Graham",
          "Tyrese Haliburton",
          "R.J. Hampton",
          "James Harden",
          "Killian Hayes",
          "George Hill",
          "Aaron Holiday",
          "Jrue Holiday",
          "Trevor Hudgins",
          "Bones Hyland",
          "Kyrie Irving",
          "Frank Jackson",
          "Quenton Jackson",
          "Reggie Jackson",
          "Carlik Jones",
          "Tre Jones",
          "Tyus Jones",
          "Cory Joseph",
          "Vit Krejci",
          "Saben Lee",
          "Kira Lewis Jr.",
          "Damian Lillard",
          "Kyle Lowry",
          "Théo Maledon",
          "Tre Mann",
          "Miles McBride",
          "T.J. McConnell",
          "Jordan McLaughlin",
          "De'Anthony Melton",
          "Patty Mills",
          "Davion Mitchell",
          "Ja Morant",
          "Monte Morris",
          "Jamal Murray",
          "Raul Neto",
          "Daishen Nix",
          "Frank Ntilikina",
          "Chris Paul",
          "Cameron Payne",
          "Gary Payton II",
          "Scotty Pippen Jr.",
          "Jordan Poole",
          "Kevin Porter Jr.",
          "Jason Preston",
          "Payton Pritchard",
          "Immanuel Quickley",
          "Ryan Rollins",
          "Derrick Rose",
          "Ricky Rubio",
          "D'Angelo Russell",
          "Dennis Schröder",
          "Ben Simmons",
          "Kobi Simmons",
          "Marcus Smart",
          "Dennis Smith Jr.",
          "Ish Smith",
          "Jalen Suggs",
          "Fred VanVleet",
          "Gabe Vincent",
          "Kemba Walker",
          "John Wall",
          "TyTy Washington Jr.",
          "Russell Westbrook",
          "Lindell Wigginton",
          "Delon Wright",
          "McKinley Wright IV",
          "Trae Young"
         ],
         "legendgroup": "PG",
         "marker": {
          "color": "#636efa"
         },
         "name": "PG",
         "notched": false,
         "offsetgroup": "PG",
         "orientation": "v",
         "showlegend": true,
         "type": "box",
         "x": [
          "PG",
          "PG",
          "PG",
          "PG",
          "PG",
          "PG",
          "PG",
          "PG",
          "PG",
          "PG",
          "PG",
          "PG",
          "PG",
          "PG",
          "PG",
          "PG",
          "PG",
          "PG",
          "PG",
          "PG",
          "PG",
          "PG",
          "PG",
          "PG",
          "PG",
          "PG",
          "PG",
          "PG",
          "PG",
          "PG",
          "PG",
          "PG",
          "PG",
          "PG",
          "PG",
          "PG",
          "PG",
          "PG",
          "PG",
          "PG",
          "PG",
          "PG",
          "PG",
          "PG",
          "PG",
          "PG",
          "PG",
          "PG",
          "PG",
          "PG",
          "PG",
          "PG",
          "PG",
          "PG",
          "PG",
          "PG",
          "PG",
          "PG",
          "PG",
          "PG",
          "PG",
          "PG",
          "PG",
          "PG",
          "PG",
          "PG",
          "PG",
          "PG",
          "PG",
          "PG",
          "PG",
          "PG",
          "PG",
          "PG",
          "PG",
          "PG",
          "PG",
          "PG",
          "PG",
          "PG",
          "PG",
          "PG",
          "PG",
          "PG",
          "PG",
          "PG",
          "PG",
          "PG",
          "PG",
          "PG",
          "PG",
          "PG",
          "PG",
          "PG",
          "PG",
          "PG",
          "PG",
          "PG",
          "PG",
          "PG",
          "PG",
          "PG"
         ],
         "x0": " ",
         "xaxis": "x",
         "y": [
          9,
          13,
          1.4,
          23.3,
          4.6,
          6.133333333333333,
          1.6,
          2.2666666666666666,
          14.9,
          24,
          1.3,
          8,
          4.3,
          5.6,
          2.2,
          12.2,
          19.9,
          29.4,
          3.8,
          1.6,
          1.5,
          17.166666666666668,
          32.4,
          0.5,
          2.4,
          6.1000000000000005,
          13.2,
          4.6,
          2.3,
          25,
          14,
          21.6,
          31.4,
          3,
          6.6,
          8.566666666666666,
          20.7,
          6.466666666666666,
          21,
          10.3,
          5.066666666666666,
          3.9,
          19.3,
          1.8,
          11.566666666666668,
          27.066666666666663,
          0,
          6.2,
          9.666666666666666,
          2.9,
          12.9,
          10.3,
          6.9,
          1.2,
          5.1000000000000005,
          4.6,
          32.2,
          11.2,
          6.7,
          7.7,
          3.5,
          8.7,
          3.7,
          10.1,
          6.2,
          5.6,
          26.2,
          10.3,
          20,
          3.3,
          4,
          2.9,
          13.9,
          10.3,
          4.8,
          2.3,
          20.4,
          19.2,
          2.9,
          5.6,
          14.9,
          1.9,
          5.6,
          5.2,
          17.7,
          12.6,
          6.9,
          1,
          11.5,
          8.8,
          2.5,
          9.9,
          19.3,
          9.4,
          8,
          11.4,
          4.7,
          15.866666666666667,
          7.1,
          7.4,
          4.2,
          26.2
         ],
         "y0": " ",
         "yaxis": "y"
        },
        {
         "alignmentgroup": "True",
         "hovertemplate": "<b>%{hovertext}</b><br><br>Position=%{x}<br>Points per Game=%{y}<extra></extra>",
         "hovertext": [
          "Ochai Agbaji",
          "Nickeil Alexander-Walker",
          "Grayson Allen",
          "Desmond Bane",
          "RJ Barrett",
          "Will Barton",
          "Bradley Beal",
          "Malik Beasley",
          "Bogdan Bogdanović",
          "Leandro Bolmaro",
          "Devin Booker",
          "Brandon Boston Jr.",
          "James Bouknight",
          "Christian Braun",
          "Bruce Brown",
          "Kendall Brown",
          "Sterling Brown",
          "Alec Burks",
          "Deonte Burton",
          "Jared Butler",
          "Kentavious Caldwell-Pope",
          "Josh Christopher",
          "Max Christie",
          "Jordan Clarkson",
          "Amir Coffey",
          "Pat Connaughton",
          "Jarrett Culver",
          "Seth Curry",
          "Johnny Davis",
          "Terence Davis",
          "Hamidou Diallo",
          "Donte DiVincenzo",
          "Tyler Dorsey",
          "Luguentz Dort",
          "Ayo Dosunmu",
          "PJ Dozier",
          "David Duke Jr.",
          "Anthony Edwards",
          "Keon Ellis",
          "Bryn Forbes",
          "Evan Fournier",
          "Paul George",
          "Josh Giddey",
          "Eric Gordon",
          "A.J. Green",
          "Danny Green",
          "Javonte Green",
          "Jalen Green",
          "Josh Green",
          "Quentin Grimes",
          "Tim Hardaway Jr.",
          "Jaden Hardy",
          "Gary Harris",
          "Joe Harris",
          "Kevon Harris",
          "Shaquille Harrison",
          "Tyler Herro",
          "Justin Holiday",
          "Talen Horton-Tucker",
          "Kevin Huerter",
          "Jaden Ivey",
          "Ty Jerome",
          "Isaiah Joe",
          "Keon Johnson",
          "Trevor Keels",
          "Luke Kennard",
          "John Konchar",
          "Furkan Korkmaz",
          "Romeo Langford",
          "Zach LaVine",
          "A.J. Lawson",
          "Damion Lee",
          "Caris LeVert",
          "Terance Mann",
          "Tyrese Martin",
          "Garrison Mathews",
          "Wesley Matthews",
          "Tyrese Maxey",
          "Skylar Mays",
          "Mac McClung",
          "CJ McCollum",
          "Bryce McGowens",
          "Rodney McGruder",
          "Sam Merrill",
          "Shake Milton",
          "Donovan Mitchell",
          "Malik Monk",
          "Moses Moody",
          "Xavier Moon",
          "Wendell Moore Jr.",
          "Dejounte Murray",
          "Andrew Nembhard",
          "Jaylen Nowell",
          "Kendrick Nunn",
          "Josh Okogie",
          "Victor Oladipo",
          "Theo Pinson",
          "Norman Powell",
          "Joshua Primo",
          "Trevelin Queen",
          "Lester Quinones",
          "Austin Reaves",
          "Davon Reed",
          "Jared Rhoden",
          "Josh Richardson",
          "Austin Rivers",
          "Terrence Ross",
          "Terry Rozier",
          "Jay Scrubb",
          "Dereon Seabron",
          "Collin Sexton",
          "Landry Shamet",
          "Shaedon Sharpe",
          "Anfernee Simons",
          "Dru Smith",
          "Jaden Springer",
          "Edmond Sumner",
          "Garrett Temple",
          "Dalen Terry",
          "Cam Thomas",
          "Klay Thompson",
          "Matisse Thybulle",
          "Gary Trent Jr.",
          "Stanley Umude",
          "Devin Vassell",
          "Lonnie Walker IV",
          "Duane Washington Jr.",
          "Lindy Waters III",
          "Peyton Watson",
          "Blake Wesley",
          "Coby White",
          "Derrick White",
          "Aaron Wiggins",
          "Alondes Williams",
          "Donovan Williams",
          "Jalen Williams",
          "Jeenathan Williams",
          "Vince Williams Jr.",
          "Gabe York"
         ],
         "legendgroup": "SG",
         "marker": {
          "color": "#EF553B"
         },
         "name": "SG",
         "notched": false,
         "offsetgroup": "SG",
         "orientation": "v",
         "showlegend": true,
         "type": "box",
         "x": [
          "SG",
          "SG",
          "SG",
          "SG",
          "SG",
          "SG",
          "SG",
          "SG",
          "SG",
          "SG",
          "SG",
          "SG",
          "SG",
          "SG",
          "SG",
          "SG",
          "SG",
          "SG",
          "SG",
          "SG",
          "SG",
          "SG",
          "SG",
          "SG",
          "SG",
          "SG",
          "SG",
          "SG",
          "SG",
          "SG",
          "SG",
          "SG",
          "SG",
          "SG",
          "SG",
          "SG",
          "SG",
          "SG",
          "SG",
          "SG",
          "SG",
          "SG",
          "SG",
          "SG",
          "SG",
          "SG",
          "SG",
          "SG",
          "SG",
          "SG",
          "SG",
          "SG",
          "SG",
          "SG",
          "SG",
          "SG",
          "SG",
          "SG",
          "SG",
          "SG",
          "SG",
          "SG",
          "SG",
          "SG",
          "SG",
          "SG",
          "SG",
          "SG",
          "SG",
          "SG",
          "SG",
          "SG",
          "SG",
          "SG",
          "SG",
          "SG",
          "SG",
          "SG",
          "SG",
          "SG",
          "SG",
          "SG",
          "SG",
          "SG",
          "SG",
          "SG",
          "SG",
          "SG",
          "SG",
          "SG",
          "SG",
          "SG",
          "SG",
          "SG",
          "SG",
          "SG",
          "SG",
          "SG",
          "SG",
          "SG",
          "SG",
          "SG",
          "SG",
          "SG",
          "SG",
          "SG",
          "SG",
          "SG",
          "SG",
          "SG",
          "SG",
          "SG",
          "SG",
          "SG",
          "SG",
          "SG",
          "SG",
          "SG",
          "SG",
          "SG",
          "SG",
          "SG",
          "SG",
          "SG",
          "SG",
          "SG",
          "SG",
          "SG",
          "SG",
          "SG",
          "SG",
          "SG",
          "SG",
          "SG",
          "SG",
          "SG",
          "SG",
          "SG",
          "SG"
         ],
         "x0": " ",
         "xaxis": "x",
         "y": [
          7.9,
          6.133333333333333,
          10.4,
          21.5,
          19.6,
          6.333333333333333,
          23.2,
          12.4,
          14,
          0.4,
          27.8,
          6.5,
          5.6,
          4.7,
          11.5,
          1.5,
          0,
          12.8,
          0,
          6.2,
          10.8,
          5.8,
          3.1,
          20.8,
          3.4,
          7.6,
          4.4,
          9.2,
          5.8,
          6.7,
          9.3,
          9.4,
          3,
          13.7,
          8.6,
          1.4,
          3.7,
          24.6,
          1.5,
          3.6,
          6.1,
          23.8,
          16.6,
          12.166666666666666,
          4.4,
          5,
          5.2,
          22.1,
          9.1,
          11.3,
          14.4,
          8.8,
          8.3,
          7.6,
          4.1,
          8.8,
          20.1,
          4.466666666666667,
          10.7,
          15.2,
          16.3,
          6.9,
          9.5,
          4.7,
          1,
          9.466666666666669,
          5.1,
          3.8,
          6.9,
          24.8,
          3.2,
          8.2,
          12.1,
          8.8,
          1.3,
          4.8,
          3.4,
          20.3,
          15.3,
          12.5,
          20.9,
          5.3,
          5.7,
          5,
          8.4,
          28.3,
          13.5,
          4.8,
          1.8,
          1.4,
          20.5,
          9.5,
          10.8,
          7.1000000000000005,
          7.3,
          10.7,
          2.4,
          17,
          7,
          3,
          2.5,
          13,
          1.8,
          3.2,
          9.7,
          4.9,
          8.433333333333334,
          21.1,
          6.5,
          0.8,
          14.3,
          8.7,
          9.9,
          21.1,
          2.8000000000000003,
          2.6,
          7.1,
          2,
          2.2,
          10.6,
          21.9,
          4.733333333333333,
          17.4,
          2,
          18.5,
          11.7,
          7.9,
          5.2,
          3.3,
          5,
          9.7,
          12.4,
          6.8,
          0,
          2,
          14.1,
          10.6,
          2,
          8
         ],
         "y0": " ",
         "yaxis": "y"
        },
        {
         "alignmentgroup": "True",
         "hovertemplate": "<b>%{hovertext}</b><br><br>Position=%{x}<br>Points per Game=%{y}<extra></extra>",
         "hovertext": [
          "Thanasis Antetokounmpo",
          "OG Anunoby",
          "Deni Avdija",
          "Patrick Baldwin Jr.",
          "Dominick Barlow",
          "Keita Bates-Diop",
          "MarJon Beauchamp",
          "Saddiq Bey",
          "Malaki Branham",
          "Mikal Bridges",
          "Oshae Brissett",
          "Dillon Brooks",
          "Jaylen Brown",
          "Troy Brown Jr.",
          "Reggie Bullock",
          "Jimmy Butler",
          "Jamal Cain",
          "Justin Champagnie",
          "Julian Champagnie",
          "Torrey Craig",
          "Jae Crowder",
          "DeMar DeRozan",
          "Ousmane Dieng",
          "Chris Duarte",
          "Kessler Edwards",
          "Simone Fontecchio",
          "AJ Griffin",
          "Jordan Hall",
          "Ron Harper Jr.",
          "Josh Hart",
          "Gordon Hayward",
          "Buddy Hield",
          "Haywood Highsmith",
          "Malcolm Hill",
          "Danuel House Jr.",
          "Caleb Houstan",
          "De'Andre Hunter",
          "Andre Iguodala",
          "Joe Ingles",
          "Brandon Ingram",
          "Justin Jackson",
          "Jalen Johnson",
          "Keldon Johnson",
          "Stanley Johnson",
          "Derrick Jones Jr.",
          "Herbert Jones",
          "Johnny Juzang",
          "Braxton Key",
          "Louis King",
          "Corey Kispert",
          "Anthony Lamb",
          "Kawhi Leonard",
          "Nassir Little",
          "Lauri Markkanen",
          "Naji Marshall",
          "Cody Martin",
          "Kenyon Martin Jr.",
          "Bennedict Mathurin",
          "Jalen McDaniels",
          "Jaden McDaniels",
          "Doug McDermott",
          "Khris Middleton",
          "Justin Minaya",
          "Josh Minott",
          "Chima Moneke",
          "Trey Murphy III",
          "Keegan Murray",
          "Svi Mykhailiuk",
          "Aaron Nesmith",
          "Jordan Nwora",
          "Chuma Okeke",
          "Isaac Okoro",
          "Eugene Omoruyi",
          "Royce O'Neale",
          "Cedi Osman",
          "Kelly Oubre Jr.",
          "Michael Porter Jr.",
          "Otto Porter Jr.",
          "Taurean Prince",
          "Cam Reddish",
          "Duncan Robinson",
          "Matt Ryan",
          "Jordan Schakel",
          "Xavier Sneed",
          "Max Strus",
          "Cole Swider",
          "Jae'Sean Tate",
          "Juan Toscano-Anderson",
          "Franz Wagner",
          "Ish Wainright",
          "Jabari Walker",
          "Yuta Watanabe",
          "Jack White",
          "Joe Wieskamp",
          "Andrew Wiggins",
          "Ziaire Williams",
          "Dylan Windler",
          "Justise Winslow"
         ],
         "legendgroup": "SF",
         "marker": {
          "color": "#00cc96"
         },
         "name": "SF",
         "notched": false,
         "offsetgroup": "SF",
         "orientation": "v",
         "showlegend": true,
         "type": "box",
         "x": [
          "SF",
          "SF",
          "SF",
          "SF",
          "SF",
          "SF",
          "SF",
          "SF",
          "SF",
          "SF",
          "SF",
          "SF",
          "SF",
          "SF",
          "SF",
          "SF",
          "SF",
          "SF",
          "SF",
          "SF",
          "SF",
          "SF",
          "SF",
          "SF",
          "SF",
          "SF",
          "SF",
          "SF",
          "SF",
          "SF",
          "SF",
          "SF",
          "SF",
          "SF",
          "SF",
          "SF",
          "SF",
          "SF",
          "SF",
          "SF",
          "SF",
          "SF",
          "SF",
          "SF",
          "SF",
          "SF",
          "SF",
          "SF",
          "SF",
          "SF",
          "SF",
          "SF",
          "SF",
          "SF",
          "SF",
          "SF",
          "SF",
          "SF",
          "SF",
          "SF",
          "SF",
          "SF",
          "SF",
          "SF",
          "SF",
          "SF",
          "SF",
          "SF",
          "SF",
          "SF",
          "SF",
          "SF",
          "SF",
          "SF",
          "SF",
          "SF",
          "SF",
          "SF",
          "SF",
          "SF",
          "SF",
          "SF",
          "SF",
          "SF",
          "SF",
          "SF",
          "SF",
          "SF",
          "SF",
          "SF",
          "SF",
          "SF",
          "SF",
          "SF",
          "SF",
          "SF",
          "SF",
          "SF"
         ],
         "x0": " ",
         "xaxis": "x",
         "y": [
          1.4,
          16.8,
          9.2,
          3.9,
          3.9,
          9.7,
          5.1,
          13.4,
          10.2,
          21.133333333333336,
          6.1,
          14.3,
          26.6,
          7.1,
          7.2,
          22.9,
          5.4,
          2.2333333333333334,
          6.9,
          7.4,
          6.9,
          24.5,
          4.9,
          7.9,
          2.6,
          6.3,
          8.9,
          3.1,
          2.2,
          9.833333333333334,
          14.7,
          16.8,
          4.4,
          1,
          4.8,
          3.8,
          15.4,
          2.1,
          6.9,
          24.7,
          0.9,
          5.6,
          22,
          5.8,
          5,
          9.8,
          4.8,
          1.3,
          20,
          11.1,
          6.7,
          23.8,
          6.6,
          25.6,
          9.1,
          5,
          12.7,
          16.7,
          8.9,
          12.1,
          10.2,
          15.1,
          4.3,
          3.1,
          1,
          14.5,
          12.2,
          6.366666666666667,
          10.1,
          9.233333333333333,
          4.7,
          6.4,
          7.2,
          8.8,
          8.7,
          20.3,
          17.4,
          5.5,
          9.1,
          9.7,
          6.4,
          3.633333333333333,
          1.5,
          4.3,
          11.5,
          1.3,
          9.1,
          3.033333333333333,
          18.6,
          4.2,
          3.9,
          5.6,
          1.2,
          1,
          17.1,
          5.7,
          1.7,
          6.8
         ],
         "y0": " ",
         "yaxis": "y"
        },
        {
         "alignmentgroup": "True",
         "hovertemplate": "<b>%{hovertext}</b><br><br>Position=%{x}<br>Points per Game=%{y}<extra></extra>",
         "hovertext": [
          "Santi Aldama",
          "Kyle Anderson",
          "Giannis Antetokounmpo",
          "Paolo Banchero",
          "Harrison Barnes",
          "Scottie Barnes",
          "Nicolas Batum",
          "Darius Bazley",
          "Dāvis Bertāns",
          "Bojan Bogdanović",
          "Bol Bol",
          "Chris Boucher",
          "Jarrell Brantley",
          "Greg Brown III",
          "Vlatko Čančar",
          "Brandon Clarke",
          "John Collins",
          "Xavier Cooks",
          "Robert Covington",
          "Darius Days",
          "Moussa Diabaté",
          "Mamadi Diakite",
          "Tari Eason",
          "Dorian Finney-Smith",
          "Michael Foster Jr.",
          "Wenyen Gabriel",
          "Usman Garuba",
          "Rudy Gay",
          "Anthony Gill",
          "Aaron Gordon",
          "Jerami Grant",
          "RaiQuan Gray",
          "Draymond Green",
          "JaMychal Green",
          "Jeff Green",
          "Rui Hachimura",
          "Tobias Harris",
          "Sam Hauser",
          "Juancho Hernangómez",
          "Jonathan Isaac",
          "LeBron James",
          "Alize Johnson",
          "Cameron Johnson",
          "James Johnson",
          "Nikola Jović",
          "Mfiondu Kabengele",
          "Nathan Knight",
          "Jonathan Kuminga",
          "Kyle Kuzma",
          "Jake LaRavia",
          "Isaiah Livers",
          "Kenneth Lofton Jr.",
          "Kevin Love",
          "Trey Lyles",
          "Caleb Martin",
          "Evan Mobley",
          "Isaiah Mobley",
          "Markieff Morris",
          "Marcus Morris",
          "Larry Nance Jr.",
          "Georges Niang",
          "Zeke Nnaji",
          "KZ Okpala",
          "Aleksej Pokusevski",
          "Bobby Portis",
          "Micah Potter",
          "Julius Randle",
          "Jeremiah Robinson-Earl",
          "Isaiah Roby",
          "David Roddy",
          "Luka Šamanić",
          "Dario Šarić",
          "Admiral Schofield",
          "Chris Silva",
          "Jalen Smith",
          "Jabari Smith Jr.",
          "Jeremy Sochan",
          "Lamar Stevens",
          "Jayson Tatum",
          "Terry Taylor",
          "JT Thor",
          "Xavier Tillman Sr.",
          "Isaiah Todd",
          "Obi Toppin",
          "Karl-Anthony Towns",
          "P.J. Tucker",
          "Jarred Vanderbilt",
          "Dean Wade",
          "P.J. Washington",
          "Trendon Watford",
          "Grant Williams",
          "Jaylin Williams",
          "Kenrich Williams",
          "Patrick Williams",
          "Zion Williamson",
          "Thaddeus Young"
         ],
         "legendgroup": "PF",
         "marker": {
          "color": "#ab63fa"
         },
         "name": "PF",
         "notched": false,
         "offsetgroup": "PF",
         "orientation": "v",
         "showlegend": true,
         "type": "box",
         "x": [
          "PF",
          "PF",
          "PF",
          "PF",
          "PF",
          "PF",
          "PF",
          "PF",
          "PF",
          "PF",
          "PF",
          "PF",
          "PF",
          "PF",
          "PF",
          "PF",
          "PF",
          "PF",
          "PF",
          "PF",
          "PF",
          "PF",
          "PF",
          "PF",
          "PF",
          "PF",
          "PF",
          "PF",
          "PF",
          "PF",
          "PF",
          "PF",
          "PF",
          "PF",
          "PF",
          "PF",
          "PF",
          "PF",
          "PF",
          "PF",
          "PF",
          "PF",
          "PF",
          "PF",
          "PF",
          "PF",
          "PF",
          "PF",
          "PF",
          "PF",
          "PF",
          "PF",
          "PF",
          "PF",
          "PF",
          "PF",
          "PF",
          "PF",
          "PF",
          "PF",
          "PF",
          "PF",
          "PF",
          "PF",
          "PF",
          "PF",
          "PF",
          "PF",
          "PF",
          "PF",
          "PF",
          "PF",
          "PF",
          "PF",
          "PF",
          "PF",
          "PF",
          "PF",
          "PF",
          "PF",
          "PF",
          "PF",
          "PF",
          "PF",
          "PF",
          "PF",
          "PF",
          "PF",
          "PF",
          "PF",
          "PF",
          "PF",
          "PF",
          "PF",
          "PF",
          "PF"
         ],
         "x0": " ",
         "xaxis": "x",
         "y": [
          9,
          9.4,
          31.1,
          20,
          15,
          15.3,
          6.1,
          4.866666666666667,
          4.6,
          21.6,
          9.1,
          9.4,
          5.5,
          1.8,
          5,
          10,
          13.1,
          3.8,
          6,
          3.8,
          2.7,
          2.6,
          9.3,
          8.200000000000001,
          0,
          5.5,
          3,
          5.2,
          3.3,
          16.3,
          20.5,
          16,
          8.5,
          6.4,
          7.8,
          11.266666666666666,
          14.7,
          6.4,
          2.9,
          5,
          28.9,
          1.8,
          15.333333333333334,
          2.8,
          5.5,
          1.5,
          3.7,
          9.9,
          21.2,
          3,
          6.7,
          5,
          8.133333333333333,
          7.6,
          9.6,
          16.2,
          2.4,
          3.966666666666667,
          11.2,
          6.8,
          8.2,
          5.2,
          1.3,
          8.1,
          14.1,
          3.4,
          25.1,
          6.8,
          4.1,
          6.7,
          9.9,
          6.533333333333334,
          4.2,
          2,
          9.4,
          12.8,
          11,
          5.3,
          30.1,
          3.2,
          3.8,
          7,
          1.5,
          7.4,
          20.8,
          3.5,
          7.800000000000001,
          4.7,
          15.7,
          7.4,
          8.1,
          5.9,
          8,
          10.2,
          26,
          4.4
         ],
         "y0": " ",
         "yaxis": "y"
        },
        {
         "alignmentgroup": "True",
         "hovertemplate": "<b>%{hovertext}</b><br><br>Position=%{x}<br>Points per Game=%{y}<extra></extra>",
         "hovertext": [
          "Precious Achiuwa",
          "Steven Adams",
          "Bam Adebayo",
          "Jarrett Allen",
          "Deandre Ayton",
          "Udoka Azubuike",
          "Marvin Bagley III",
          "Mo Bamba",
          "Charles Bassey",
          "Khem Birch",
          "Goga Bitadze",
          "Bismack Biyombo",
          "Tony Bradley",
          "Moses Brown",
          "Thomas Bryant",
          "John Butler",
          "Clint Capela",
          "Vernon Carey Jr.",
          "Wendell Carter Jr.",
          "Nic Claxton",
          "Zach Collins",
          "Chance Comanche",
          "Anthony Davis",
          "Dewayne Dedmon",
          "Gorgui Dieng",
          "Andre Drummond",
          "Jalen Duren",
          "Joel Embiid",
          "Drew Eubanks",
          "Bruno Fernando",
          "Daniel Gafford",
          "Luka Garza",
          "Taj Gibson",
          "Rudy Gobert",
          "Blake Griffin",
          "Montrezl Harrell",
          "Isaiah Hartenstein",
          "Udonis Haslem",
          "Jaxson Hayes",
          "Willy Hernangómez",
          "Richaun Holmes",
          "Al Horford",
          "Jay Huff",
          "Serge Ibaka",
          "Isaiah Jackson",
          "Jaren Jackson Jr.",
          "Nikola Jokić",
          "Damian Jones",
          "Kai Jones",
          "DeAndre Jordan",
          "Frank Kaminsky",
          "Walker Kessler",
          "Maxi Kleber",
          "Christian Koloko",
          "Luke Kornet",
          "Jock Landale",
          "Alex Len",
          "Meyers Leonard",
          "Kevon Looney",
          "Brook Lopez",
          "Robin Lopez",
          "Sandro Mamukelashvili",
          "Boban Marjanović",
          "JaVale McGee",
          "Chimezie Metu",
          "Mike Muscala",
          "Nerlens Noel",
          "Jusuf Nurkić",
          "Onyeka Okongwu",
          "Kelly Olynyk",
          "Mason Plumlee",
          "Jakob Poeltl",
          "Kristaps Porziņģis",
          "Dwight Powell",
          "Neemias Queta",
          "Paul Reed",
          "Naz Reid",
          "Nick Richards",
          "Mitchell Robinson",
          "Orlando Robinson",
          "Domantas Sabonis",
          "Olivier Sarr",
          "Alperen Şengün",
          "Day'Ron Sharpe",
          "Pascal Siakam",
          "Marko Simonovic",
          "Jericho Sims",
          "Isaiah Stewart",
          "Daniel Theis",
          "Myles Turner",
          "Jonas Valančiūnas",
          "Noah Vonleh",
          "Nikola Vučević",
          "Moritz Wagner",
          "Mark Williams",
          "Robert Williams",
          "James Wiseman",
          "Christian Wood",
          "Omer Yurtseven",
          "Cody Zeller",
          "Ivica Zubac"
         ],
         "legendgroup": "C",
         "marker": {
          "color": "#FFA15A"
         },
         "name": "C",
         "notched": false,
         "offsetgroup": "C",
         "orientation": "v",
         "showlegend": true,
         "type": "box",
         "x": [
          "C",
          "C",
          "C",
          "C",
          "C",
          "C",
          "C",
          "C",
          "C",
          "C",
          "C",
          "C",
          "C",
          "C",
          "C",
          "C",
          "C",
          "C",
          "C",
          "C",
          "C",
          "C",
          "C",
          "C",
          "C",
          "C",
          "C",
          "C",
          "C",
          "C",
          "C",
          "C",
          "C",
          "C",
          "C",
          "C",
          "C",
          "C",
          "C",
          "C",
          "C",
          "C",
          "C",
          "C",
          "C",
          "C",
          "C",
          "C",
          "C",
          "C",
          "C",
          "C",
          "C",
          "C",
          "C",
          "C",
          "C",
          "C",
          "C",
          "C",
          "C",
          "C",
          "C",
          "C",
          "C",
          "C",
          "C",
          "C",
          "C",
          "C",
          "C",
          "C",
          "C",
          "C",
          "C",
          "C",
          "C",
          "C",
          "C",
          "C",
          "C",
          "C",
          "C",
          "C",
          "C",
          "C",
          "C",
          "C",
          "C",
          "C",
          "C",
          "C",
          "C",
          "C",
          "C",
          "C",
          "C",
          "C",
          "C",
          "C",
          "C"
         ],
         "x0": " ",
         "xaxis": "x",
         "y": [
          9.2,
          8.6,
          20.4,
          14.3,
          18,
          3.5,
          12,
          5.866666666666667,
          5.7,
          2.2,
          4.5,
          4.3,
          1.6,
          2.9666666666666663,
          8.833333333333334,
          2.4,
          12,
          0.5,
          15.2,
          12.6,
          11.6,
          7,
          25.9,
          4.8,
          3.9,
          6,
          9.1,
          33.1,
          6.6,
          3.8,
          9,
          6.5,
          3.4,
          13.4,
          4.1,
          5.6,
          5,
          3.9,
          5,
          6.9,
          3.1,
          9.8,
          7.3,
          4.1,
          7.2,
          18.6,
          24.5,
          3.533333333333333,
          3.4,
          5.1,
          2.333333333333333,
          9.2,
          5.9,
          3.1,
          3.8,
          6.6,
          1.7,
          4.8,
          7,
          15.9,
          3,
          6.433333333333334,
          3.3,
          4.4,
          4.9,
          6.066666666666666,
          1.8,
          13.3,
          9.9,
          12.5,
          10.166666666666666,
          12.566666666666668,
          23.2,
          6.7,
          2.4,
          4.2,
          11.5,
          8.2,
          7.4,
          3.7,
          19.1,
          4,
          14.8,
          4.7,
          24.2,
          0.9,
          3.4,
          11.3,
          7,
          18,
          14.1,
          1.1,
          17.6,
          10.5,
          9,
          8,
          9.866666666666667,
          16.6,
          4.4,
          6.5,
          10.8
         ],
         "y0": " ",
         "yaxis": "y"
        },
        {
         "alignmentgroup": "True",
         "hovertemplate": "<b>%{hovertext}</b><br><br>Position=%{x}<br>Points per Game=%{y}<extra></extra>",
         "hovertext": [
          "Kevin Durant",
          "Kevin Knox",
          "T.J. Warren"
         ],
         "legendgroup": "PF-SF",
         "marker": {
          "color": "#19d3f3"
         },
         "name": "PF-SF",
         "notched": false,
         "offsetgroup": "PF-SF",
         "orientation": "v",
         "showlegend": true,
         "type": "box",
         "x": [
          "PF-SF",
          "PF-SF",
          "PF-SF"
         ],
         "x0": " ",
         "xaxis": "x",
         "y": [
          28.266666666666666,
          6.9,
          7.066666666666666
         ],
         "y0": " ",
         "yaxis": "y"
        }
       ],
       "layout": {
        "boxmode": "overlay",
        "legend": {
         "title": {
          "text": "Position"
         },
         "tracegroupgap": 0
        },
        "template": {
         "data": {
          "bar": [
           {
            "error_x": {
             "color": "#2a3f5f"
            },
            "error_y": {
             "color": "#2a3f5f"
            },
            "marker": {
             "line": {
              "color": "#E5ECF6",
              "width": 0.5
             },
             "pattern": {
              "fillmode": "overlay",
              "size": 10,
              "solidity": 0.2
             }
            },
            "type": "bar"
           }
          ],
          "barpolar": [
           {
            "marker": {
             "line": {
              "color": "#E5ECF6",
              "width": 0.5
             },
             "pattern": {
              "fillmode": "overlay",
              "size": 10,
              "solidity": 0.2
             }
            },
            "type": "barpolar"
           }
          ],
          "carpet": [
           {
            "aaxis": {
             "endlinecolor": "#2a3f5f",
             "gridcolor": "white",
             "linecolor": "white",
             "minorgridcolor": "white",
             "startlinecolor": "#2a3f5f"
            },
            "baxis": {
             "endlinecolor": "#2a3f5f",
             "gridcolor": "white",
             "linecolor": "white",
             "minorgridcolor": "white",
             "startlinecolor": "#2a3f5f"
            },
            "type": "carpet"
           }
          ],
          "choropleth": [
           {
            "colorbar": {
             "outlinewidth": 0,
             "ticks": ""
            },
            "type": "choropleth"
           }
          ],
          "contour": [
           {
            "colorbar": {
             "outlinewidth": 0,
             "ticks": ""
            },
            "colorscale": [
             [
              0,
              "#0d0887"
             ],
             [
              0.1111111111111111,
              "#46039f"
             ],
             [
              0.2222222222222222,
              "#7201a8"
             ],
             [
              0.3333333333333333,
              "#9c179e"
             ],
             [
              0.4444444444444444,
              "#bd3786"
             ],
             [
              0.5555555555555556,
              "#d8576b"
             ],
             [
              0.6666666666666666,
              "#ed7953"
             ],
             [
              0.7777777777777778,
              "#fb9f3a"
             ],
             [
              0.8888888888888888,
              "#fdca26"
             ],
             [
              1,
              "#f0f921"
             ]
            ],
            "type": "contour"
           }
          ],
          "contourcarpet": [
           {
            "colorbar": {
             "outlinewidth": 0,
             "ticks": ""
            },
            "type": "contourcarpet"
           }
          ],
          "heatmap": [
           {
            "colorbar": {
             "outlinewidth": 0,
             "ticks": ""
            },
            "colorscale": [
             [
              0,
              "#0d0887"
             ],
             [
              0.1111111111111111,
              "#46039f"
             ],
             [
              0.2222222222222222,
              "#7201a8"
             ],
             [
              0.3333333333333333,
              "#9c179e"
             ],
             [
              0.4444444444444444,
              "#bd3786"
             ],
             [
              0.5555555555555556,
              "#d8576b"
             ],
             [
              0.6666666666666666,
              "#ed7953"
             ],
             [
              0.7777777777777778,
              "#fb9f3a"
             ],
             [
              0.8888888888888888,
              "#fdca26"
             ],
             [
              1,
              "#f0f921"
             ]
            ],
            "type": "heatmap"
           }
          ],
          "heatmapgl": [
           {
            "colorbar": {
             "outlinewidth": 0,
             "ticks": ""
            },
            "colorscale": [
             [
              0,
              "#0d0887"
             ],
             [
              0.1111111111111111,
              "#46039f"
             ],
             [
              0.2222222222222222,
              "#7201a8"
             ],
             [
              0.3333333333333333,
              "#9c179e"
             ],
             [
              0.4444444444444444,
              "#bd3786"
             ],
             [
              0.5555555555555556,
              "#d8576b"
             ],
             [
              0.6666666666666666,
              "#ed7953"
             ],
             [
              0.7777777777777778,
              "#fb9f3a"
             ],
             [
              0.8888888888888888,
              "#fdca26"
             ],
             [
              1,
              "#f0f921"
             ]
            ],
            "type": "heatmapgl"
           }
          ],
          "histogram": [
           {
            "marker": {
             "pattern": {
              "fillmode": "overlay",
              "size": 10,
              "solidity": 0.2
             }
            },
            "type": "histogram"
           }
          ],
          "histogram2d": [
           {
            "colorbar": {
             "outlinewidth": 0,
             "ticks": ""
            },
            "colorscale": [
             [
              0,
              "#0d0887"
             ],
             [
              0.1111111111111111,
              "#46039f"
             ],
             [
              0.2222222222222222,
              "#7201a8"
             ],
             [
              0.3333333333333333,
              "#9c179e"
             ],
             [
              0.4444444444444444,
              "#bd3786"
             ],
             [
              0.5555555555555556,
              "#d8576b"
             ],
             [
              0.6666666666666666,
              "#ed7953"
             ],
             [
              0.7777777777777778,
              "#fb9f3a"
             ],
             [
              0.8888888888888888,
              "#fdca26"
             ],
             [
              1,
              "#f0f921"
             ]
            ],
            "type": "histogram2d"
           }
          ],
          "histogram2dcontour": [
           {
            "colorbar": {
             "outlinewidth": 0,
             "ticks": ""
            },
            "colorscale": [
             [
              0,
              "#0d0887"
             ],
             [
              0.1111111111111111,
              "#46039f"
             ],
             [
              0.2222222222222222,
              "#7201a8"
             ],
             [
              0.3333333333333333,
              "#9c179e"
             ],
             [
              0.4444444444444444,
              "#bd3786"
             ],
             [
              0.5555555555555556,
              "#d8576b"
             ],
             [
              0.6666666666666666,
              "#ed7953"
             ],
             [
              0.7777777777777778,
              "#fb9f3a"
             ],
             [
              0.8888888888888888,
              "#fdca26"
             ],
             [
              1,
              "#f0f921"
             ]
            ],
            "type": "histogram2dcontour"
           }
          ],
          "mesh3d": [
           {
            "colorbar": {
             "outlinewidth": 0,
             "ticks": ""
            },
            "type": "mesh3d"
           }
          ],
          "parcoords": [
           {
            "line": {
             "colorbar": {
              "outlinewidth": 0,
              "ticks": ""
             }
            },
            "type": "parcoords"
           }
          ],
          "pie": [
           {
            "automargin": true,
            "type": "pie"
           }
          ],
          "scatter": [
           {
            "fillpattern": {
             "fillmode": "overlay",
             "size": 10,
             "solidity": 0.2
            },
            "type": "scatter"
           }
          ],
          "scatter3d": [
           {
            "line": {
             "colorbar": {
              "outlinewidth": 0,
              "ticks": ""
             }
            },
            "marker": {
             "colorbar": {
              "outlinewidth": 0,
              "ticks": ""
             }
            },
            "type": "scatter3d"
           }
          ],
          "scattercarpet": [
           {
            "marker": {
             "colorbar": {
              "outlinewidth": 0,
              "ticks": ""
             }
            },
            "type": "scattercarpet"
           }
          ],
          "scattergeo": [
           {
            "marker": {
             "colorbar": {
              "outlinewidth": 0,
              "ticks": ""
             }
            },
            "type": "scattergeo"
           }
          ],
          "scattergl": [
           {
            "marker": {
             "colorbar": {
              "outlinewidth": 0,
              "ticks": ""
             }
            },
            "type": "scattergl"
           }
          ],
          "scattermapbox": [
           {
            "marker": {
             "colorbar": {
              "outlinewidth": 0,
              "ticks": ""
             }
            },
            "type": "scattermapbox"
           }
          ],
          "scatterpolar": [
           {
            "marker": {
             "colorbar": {
              "outlinewidth": 0,
              "ticks": ""
             }
            },
            "type": "scatterpolar"
           }
          ],
          "scatterpolargl": [
           {
            "marker": {
             "colorbar": {
              "outlinewidth": 0,
              "ticks": ""
             }
            },
            "type": "scatterpolargl"
           }
          ],
          "scatterternary": [
           {
            "marker": {
             "colorbar": {
              "outlinewidth": 0,
              "ticks": ""
             }
            },
            "type": "scatterternary"
           }
          ],
          "surface": [
           {
            "colorbar": {
             "outlinewidth": 0,
             "ticks": ""
            },
            "colorscale": [
             [
              0,
              "#0d0887"
             ],
             [
              0.1111111111111111,
              "#46039f"
             ],
             [
              0.2222222222222222,
              "#7201a8"
             ],
             [
              0.3333333333333333,
              "#9c179e"
             ],
             [
              0.4444444444444444,
              "#bd3786"
             ],
             [
              0.5555555555555556,
              "#d8576b"
             ],
             [
              0.6666666666666666,
              "#ed7953"
             ],
             [
              0.7777777777777778,
              "#fb9f3a"
             ],
             [
              0.8888888888888888,
              "#fdca26"
             ],
             [
              1,
              "#f0f921"
             ]
            ],
            "type": "surface"
           }
          ],
          "table": [
           {
            "cells": {
             "fill": {
              "color": "#EBF0F8"
             },
             "line": {
              "color": "white"
             }
            },
            "header": {
             "fill": {
              "color": "#C8D4E3"
             },
             "line": {
              "color": "white"
             }
            },
            "type": "table"
           }
          ]
         },
         "layout": {
          "annotationdefaults": {
           "arrowcolor": "#2a3f5f",
           "arrowhead": 0,
           "arrowwidth": 1
          },
          "autotypenumbers": "strict",
          "coloraxis": {
           "colorbar": {
            "outlinewidth": 0,
            "ticks": ""
           }
          },
          "colorscale": {
           "diverging": [
            [
             0,
             "#8e0152"
            ],
            [
             0.1,
             "#c51b7d"
            ],
            [
             0.2,
             "#de77ae"
            ],
            [
             0.3,
             "#f1b6da"
            ],
            [
             0.4,
             "#fde0ef"
            ],
            [
             0.5,
             "#f7f7f7"
            ],
            [
             0.6,
             "#e6f5d0"
            ],
            [
             0.7,
             "#b8e186"
            ],
            [
             0.8,
             "#7fbc41"
            ],
            [
             0.9,
             "#4d9221"
            ],
            [
             1,
             "#276419"
            ]
           ],
           "sequential": [
            [
             0,
             "#0d0887"
            ],
            [
             0.1111111111111111,
             "#46039f"
            ],
            [
             0.2222222222222222,
             "#7201a8"
            ],
            [
             0.3333333333333333,
             "#9c179e"
            ],
            [
             0.4444444444444444,
             "#bd3786"
            ],
            [
             0.5555555555555556,
             "#d8576b"
            ],
            [
             0.6666666666666666,
             "#ed7953"
            ],
            [
             0.7777777777777778,
             "#fb9f3a"
            ],
            [
             0.8888888888888888,
             "#fdca26"
            ],
            [
             1,
             "#f0f921"
            ]
           ],
           "sequentialminus": [
            [
             0,
             "#0d0887"
            ],
            [
             0.1111111111111111,
             "#46039f"
            ],
            [
             0.2222222222222222,
             "#7201a8"
            ],
            [
             0.3333333333333333,
             "#9c179e"
            ],
            [
             0.4444444444444444,
             "#bd3786"
            ],
            [
             0.5555555555555556,
             "#d8576b"
            ],
            [
             0.6666666666666666,
             "#ed7953"
            ],
            [
             0.7777777777777778,
             "#fb9f3a"
            ],
            [
             0.8888888888888888,
             "#fdca26"
            ],
            [
             1,
             "#f0f921"
            ]
           ]
          },
          "colorway": [
           "#636efa",
           "#EF553B",
           "#00cc96",
           "#ab63fa",
           "#FFA15A",
           "#19d3f3",
           "#FF6692",
           "#B6E880",
           "#FF97FF",
           "#FECB52"
          ],
          "font": {
           "color": "#2a3f5f"
          },
          "geo": {
           "bgcolor": "white",
           "lakecolor": "white",
           "landcolor": "#E5ECF6",
           "showlakes": true,
           "showland": true,
           "subunitcolor": "white"
          },
          "hoverlabel": {
           "align": "left"
          },
          "hovermode": "closest",
          "mapbox": {
           "style": "light"
          },
          "paper_bgcolor": "white",
          "plot_bgcolor": "#E5ECF6",
          "polar": {
           "angularaxis": {
            "gridcolor": "white",
            "linecolor": "white",
            "ticks": ""
           },
           "bgcolor": "#E5ECF6",
           "radialaxis": {
            "gridcolor": "white",
            "linecolor": "white",
            "ticks": ""
           }
          },
          "scene": {
           "xaxis": {
            "backgroundcolor": "#E5ECF6",
            "gridcolor": "white",
            "gridwidth": 2,
            "linecolor": "white",
            "showbackground": true,
            "ticks": "",
            "zerolinecolor": "white"
           },
           "yaxis": {
            "backgroundcolor": "#E5ECF6",
            "gridcolor": "white",
            "gridwidth": 2,
            "linecolor": "white",
            "showbackground": true,
            "ticks": "",
            "zerolinecolor": "white"
           },
           "zaxis": {
            "backgroundcolor": "#E5ECF6",
            "gridcolor": "white",
            "gridwidth": 2,
            "linecolor": "white",
            "showbackground": true,
            "ticks": "",
            "zerolinecolor": "white"
           }
          },
          "shapedefaults": {
           "line": {
            "color": "#2a3f5f"
           }
          },
          "ternary": {
           "aaxis": {
            "gridcolor": "white",
            "linecolor": "white",
            "ticks": ""
           },
           "baxis": {
            "gridcolor": "white",
            "linecolor": "white",
            "ticks": ""
           },
           "bgcolor": "#E5ECF6",
           "caxis": {
            "gridcolor": "white",
            "linecolor": "white",
            "ticks": ""
           }
          },
          "title": {
           "x": 0.05
          },
          "xaxis": {
           "automargin": true,
           "gridcolor": "white",
           "linecolor": "white",
           "ticks": "",
           "title": {
            "standoff": 15
           },
           "zerolinecolor": "white",
           "zerolinewidth": 2
          },
          "yaxis": {
           "automargin": true,
           "gridcolor": "white",
           "linecolor": "white",
           "ticks": "",
           "title": {
            "standoff": 15
           },
           "zerolinecolor": "white",
           "zerolinewidth": 2
          }
         }
        },
        "title": {
         "text": "Points per Game by Position"
        },
        "xaxis": {
         "anchor": "y",
         "categoryarray": [
          "PG",
          "SG",
          "SF",
          "PF",
          "C",
          "PF-SF",
          "SF-SG",
          "SG-PG"
         ],
         "categoryorder": "array",
         "domain": [
          0,
          1
         ],
         "title": {
          "text": "Position"
         }
        },
        "yaxis": {
         "anchor": "x",
         "domain": [
          0,
          1
         ],
         "title": {
          "text": "Points per Game"
         }
        }
       }
      }
     },
     "metadata": {},
     "output_type": "display_data"
    }
   ],
   "source": [
    "fig = px.box(data_frame = df06,\n",
    "       x = 'Pos',\n",
    "       y = 'PTS',\n",
    "       color = 'Pos',\n",
    "       hover_name = 'Player',\n",
    "       title = 'Points per Game by Position',\n",
    "       labels = {'PTS':'Points per Game',\n",
    "                 'Pos':'Position'},\n",
    "       category_orders = {'Pos':('PG', 'SG', 'SF', 'PF', 'C', 'PF-SF', 'SF-SG', 'SG-PG')})\n",
    "\n",
    "fig.show()"
   ]
  },
  {
   "attachments": {},
   "cell_type": "markdown",
   "metadata": {},
   "source": [
    "### How are distributed the 3 Points Percentage Per Game according to the Positions assigned to each Player?"
   ]
  },
  {
   "cell_type": "code",
   "execution_count": 482,
   "metadata": {},
   "outputs": [
    {
     "data": {
      "application/vnd.plotly.v1+json": {
       "config": {
        "plotlyServerURL": "https://plot.ly"
       },
       "data": [
        {
         "alignmentgroup": "True",
         "hovertemplate": "<b>%{hovertext}</b><br><br>Position=%{x}<br>3 Points per Game=%{y}<extra></extra>",
         "hovertext": [
          "Jose Alvarado",
          "Cole Anthony",
          "Ryan Arcidiacono",
          "LaMelo Ball",
          "Dalano Banton",
          "Patrick Beverley",
          "Buddy Boeheim",
          "Jamaree Bouyea",
          "Malcolm Brogdon",
          "Jalen Brunson",
          "Facundo Campazzo",
          "Jevon Carter",
          "Michael Carter-Williams",
          "Alex Caruso",
          "Kennedy Chandler",
          "Mike Conley",
          "Cade Cunningham",
          "Stephen Curry",
          "Dyson Daniels",
          "JD Davison",
          "Matthew Dellavedova",
          "Spencer Dinwiddie",
          "Luka Dončić",
          "Devon Dotson",
          "Jeff Dowtin",
          "Goran Dragić",
          "Kris Dunn",
          "Malachi Flynn",
          "Trent Forrest",
          "De'Aaron Fox",
          "Markelle Fultz",
          "Darius Garland",
          "Shai Gilgeous-Alexander",
          "Jacob Gilyard",
          "Jordan Goodwin",
          "Devonte' Graham",
          "Tyrese Haliburton",
          "R.J. Hampton",
          "James Harden",
          "Killian Hayes",
          "George Hill",
          "Aaron Holiday",
          "Jrue Holiday",
          "Trevor Hudgins",
          "Bones Hyland",
          "Kyrie Irving",
          "Frank Jackson",
          "Quenton Jackson",
          "Reggie Jackson",
          "Carlik Jones",
          "Tre Jones",
          "Tyus Jones",
          "Cory Joseph",
          "Vit Krejci",
          "Saben Lee",
          "Kira Lewis Jr.",
          "Damian Lillard",
          "Kyle Lowry",
          "Théo Maledon",
          "Tre Mann",
          "Miles McBride",
          "T.J. McConnell",
          "Jordan McLaughlin",
          "De'Anthony Melton",
          "Patty Mills",
          "Davion Mitchell",
          "Ja Morant",
          "Monte Morris",
          "Jamal Murray",
          "Raul Neto",
          "Daishen Nix",
          "Frank Ntilikina",
          "Chris Paul",
          "Cameron Payne",
          "Gary Payton II",
          "Scotty Pippen Jr.",
          "Jordan Poole",
          "Kevin Porter Jr.",
          "Jason Preston",
          "Payton Pritchard",
          "Immanuel Quickley",
          "Ryan Rollins",
          "Derrick Rose",
          "Ricky Rubio",
          "D'Angelo Russell",
          "Dennis Schröder",
          "Ben Simmons",
          "Kobi Simmons",
          "Marcus Smart",
          "Dennis Smith Jr.",
          "Ish Smith",
          "Jalen Suggs",
          "Fred VanVleet",
          "Gabe Vincent",
          "Kemba Walker",
          "John Wall",
          "TyTy Washington Jr.",
          "Russell Westbrook",
          "Lindell Wigginton",
          "Delon Wright",
          "McKinley Wright IV",
          "Trae Young"
         ],
         "legendgroup": "PG",
         "marker": {
          "color": "#636efa"
         },
         "name": "PG",
         "notched": false,
         "offsetgroup": "PG",
         "orientation": "v",
         "showlegend": true,
         "type": "box",
         "x": [
          "PG",
          "PG",
          "PG",
          "PG",
          "PG",
          "PG",
          "PG",
          "PG",
          "PG",
          "PG",
          "PG",
          "PG",
          "PG",
          "PG",
          "PG",
          "PG",
          "PG",
          "PG",
          "PG",
          "PG",
          "PG",
          "PG",
          "PG",
          "PG",
          "PG",
          "PG",
          "PG",
          "PG",
          "PG",
          "PG",
          "PG",
          "PG",
          "PG",
          "PG",
          "PG",
          "PG",
          "PG",
          "PG",
          "PG",
          "PG",
          "PG",
          "PG",
          "PG",
          "PG",
          "PG",
          "PG",
          "PG",
          "PG",
          "PG",
          "PG",
          "PG",
          "PG",
          "PG",
          "PG",
          "PG",
          "PG",
          "PG",
          "PG",
          "PG",
          "PG",
          "PG",
          "PG",
          "PG",
          "PG",
          "PG",
          "PG",
          "PG",
          "PG",
          "PG",
          "PG",
          "PG",
          "PG",
          "PG",
          "PG",
          "PG",
          "PG",
          "PG",
          "PG",
          "PG",
          "PG",
          "PG",
          "PG",
          "PG",
          "PG",
          "PG",
          "PG",
          "PG",
          "PG",
          "PG",
          "PG",
          "PG",
          "PG",
          "PG",
          "PG",
          "PG",
          "PG",
          "PG",
          "PG",
          "PG",
          "PG",
          "PG",
          "PG"
         ],
         "x0": " ",
         "xaxis": "x",
         "y": [
          1.4,
          1.3,
          0.4333333333333333,
          4,
          0.5,
          1.1666666666666667,
          0.4,
          0.3,
          2,
          2,
          0.4,
          1.8,
          0.3,
          0.8,
          0.1,
          2.066666666666667,
          1.4,
          4.9,
          0.5,
          0.2,
          0.3,
          2.2,
          2.8,
          0.2,
          0.2,
          0.9333333333333332,
          0.8,
          0.9,
          0,
          1.6,
          0.5,
          2.4,
          0.9,
          1,
          0.6,
          1.8333333333333333,
          2.9,
          0.9,
          2.8,
          1.1,
          0.7999999999999999,
          0.6,
          2.4,
          0.4,
          2.066666666666667,
          3.1,
          0,
          0.1,
          1.3666666666666665,
          0.4,
          0.7,
          1.5,
          1.1,
          0.2,
          0.3,
          0.6,
          4.2,
          1.9,
          0.6,
          1.2,
          0.6,
          0.3,
          0.6,
          2,
          1.2,
          0.8,
          1.5,
          1.3,
          2.6,
          0.3,
          0.7,
          0.4,
          1.7,
          1.4,
          0.6,
          0.2,
          2.6,
          2.4,
          0.4,
          1.2,
          2.1,
          0.3,
          0.7,
          0.6,
          2.7000000000000006,
          1.1,
          0,
          0.2,
          1.9,
          0.4,
          0,
          1.2,
          3,
          1.7,
          0.8,
          1,
          0.6,
          1.2,
          0.9,
          0.8,
          0.3,
          2.1
         ],
         "y0": " ",
         "yaxis": "y"
        },
        {
         "alignmentgroup": "True",
         "hovertemplate": "<b>%{hovertext}</b><br><br>Position=%{x}<br>3 Points per Game=%{y}<extra></extra>",
         "hovertext": [
          "Ochai Agbaji",
          "Nickeil Alexander-Walker",
          "Grayson Allen",
          "Desmond Bane",
          "RJ Barrett",
          "Will Barton",
          "Bradley Beal",
          "Malik Beasley",
          "Bogdan Bogdanović",
          "Leandro Bolmaro",
          "Devin Booker",
          "Brandon Boston Jr.",
          "James Bouknight",
          "Christian Braun",
          "Bruce Brown",
          "Kendall Brown",
          "Sterling Brown",
          "Alec Burks",
          "Deonte Burton",
          "Jared Butler",
          "Kentavious Caldwell-Pope",
          "Josh Christopher",
          "Max Christie",
          "Jordan Clarkson",
          "Amir Coffey",
          "Pat Connaughton",
          "Jarrett Culver",
          "Seth Curry",
          "Johnny Davis",
          "Terence Davis",
          "Hamidou Diallo",
          "Donte DiVincenzo",
          "Tyler Dorsey",
          "Luguentz Dort",
          "Ayo Dosunmu",
          "PJ Dozier",
          "David Duke Jr.",
          "Anthony Edwards",
          "Keon Ellis",
          "Bryn Forbes",
          "Evan Fournier",
          "Paul George",
          "Josh Giddey",
          "Eric Gordon",
          "A.J. Green",
          "Danny Green",
          "Javonte Green",
          "Jalen Green",
          "Josh Green",
          "Quentin Grimes",
          "Tim Hardaway Jr.",
          "Jaden Hardy",
          "Gary Harris",
          "Joe Harris",
          "Kevon Harris",
          "Shaquille Harrison",
          "Tyler Herro",
          "Justin Holiday",
          "Talen Horton-Tucker",
          "Kevin Huerter",
          "Jaden Ivey",
          "Ty Jerome",
          "Isaiah Joe",
          "Keon Johnson",
          "Trevor Keels",
          "Luke Kennard",
          "John Konchar",
          "Furkan Korkmaz",
          "Romeo Langford",
          "Zach LaVine",
          "A.J. Lawson",
          "Damion Lee",
          "Caris LeVert",
          "Terance Mann",
          "Tyrese Martin",
          "Garrison Mathews",
          "Wesley Matthews",
          "Tyrese Maxey",
          "Skylar Mays",
          "Mac McClung",
          "CJ McCollum",
          "Bryce McGowens",
          "Rodney McGruder",
          "Sam Merrill",
          "Shake Milton",
          "Donovan Mitchell",
          "Malik Monk",
          "Moses Moody",
          "Xavier Moon",
          "Wendell Moore Jr.",
          "Dejounte Murray",
          "Andrew Nembhard",
          "Jaylen Nowell",
          "Kendrick Nunn",
          "Josh Okogie",
          "Victor Oladipo",
          "Theo Pinson",
          "Norman Powell",
          "Joshua Primo",
          "Trevelin Queen",
          "Lester Quinones",
          "Austin Reaves",
          "Davon Reed",
          "Jared Rhoden",
          "Josh Richardson",
          "Austin Rivers",
          "Terrence Ross",
          "Terry Rozier",
          "Jay Scrubb",
          "Dereon Seabron",
          "Collin Sexton",
          "Landry Shamet",
          "Shaedon Sharpe",
          "Anfernee Simons",
          "Dru Smith",
          "Jaden Springer",
          "Edmond Sumner",
          "Garrett Temple",
          "Dalen Terry",
          "Cam Thomas",
          "Klay Thompson",
          "Matisse Thybulle",
          "Gary Trent Jr.",
          "Stanley Umude",
          "Devin Vassell",
          "Lonnie Walker IV",
          "Duane Washington Jr.",
          "Lindy Waters III",
          "Peyton Watson",
          "Blake Wesley",
          "Coby White",
          "Derrick White",
          "Aaron Wiggins",
          "Alondes Williams",
          "Donovan Williams",
          "Jalen Williams",
          "Jeenathan Williams",
          "Vince Williams Jr.",
          "Gabe York"
         ],
         "legendgroup": "SG",
         "marker": {
          "color": "#EF553B"
         },
         "name": "SG",
         "notched": false,
         "offsetgroup": "SG",
         "orientation": "v",
         "showlegend": true,
         "type": "box",
         "x": [
          "SG",
          "SG",
          "SG",
          "SG",
          "SG",
          "SG",
          "SG",
          "SG",
          "SG",
          "SG",
          "SG",
          "SG",
          "SG",
          "SG",
          "SG",
          "SG",
          "SG",
          "SG",
          "SG",
          "SG",
          "SG",
          "SG",
          "SG",
          "SG",
          "SG",
          "SG",
          "SG",
          "SG",
          "SG",
          "SG",
          "SG",
          "SG",
          "SG",
          "SG",
          "SG",
          "SG",
          "SG",
          "SG",
          "SG",
          "SG",
          "SG",
          "SG",
          "SG",
          "SG",
          "SG",
          "SG",
          "SG",
          "SG",
          "SG",
          "SG",
          "SG",
          "SG",
          "SG",
          "SG",
          "SG",
          "SG",
          "SG",
          "SG",
          "SG",
          "SG",
          "SG",
          "SG",
          "SG",
          "SG",
          "SG",
          "SG",
          "SG",
          "SG",
          "SG",
          "SG",
          "SG",
          "SG",
          "SG",
          "SG",
          "SG",
          "SG",
          "SG",
          "SG",
          "SG",
          "SG",
          "SG",
          "SG",
          "SG",
          "SG",
          "SG",
          "SG",
          "SG",
          "SG",
          "SG",
          "SG",
          "SG",
          "SG",
          "SG",
          "SG",
          "SG",
          "SG",
          "SG",
          "SG",
          "SG",
          "SG",
          "SG",
          "SG",
          "SG",
          "SG",
          "SG",
          "SG",
          "SG",
          "SG",
          "SG",
          "SG",
          "SG",
          "SG",
          "SG",
          "SG",
          "SG",
          "SG",
          "SG",
          "SG",
          "SG",
          "SG",
          "SG",
          "SG",
          "SG",
          "SG",
          "SG",
          "SG",
          "SG",
          "SG",
          "SG",
          "SG",
          "SG",
          "SG",
          "SG",
          "SG",
          "SG",
          "SG",
          "SG",
          "SG",
          "SG"
         ],
         "x0": " ",
         "xaxis": "x",
         "y": [
          1.4,
          1.0333333333333334,
          2,
          2.9,
          1.7,
          1.1333333333333333,
          1.6,
          2.833333333333333,
          2.7,
          0,
          2.1,
          0.5,
          1,
          0.4,
          1.1,
          0,
          0,
          1.9,
          0,
          1.2,
          1.8,
          0.3,
          0.6,
          2.5,
          0.2,
          1.8,
          0.1,
          1.5,
          0.6,
          1.4,
          0.1,
          2.1,
          0.3,
          1.8,
          0.7,
          0.1,
          0,
          2.7,
          0.4,
          0.6,
          1.3,
          2.8,
          1,
          1.9333333333333331,
          1.3,
          1.3666666666666665,
          0.4,
          2.5,
          1.1,
          2.2,
          3,
          1.3,
          2,
          1.9,
          0.5,
          0.6,
          3,
          1,
          0.9,
          2.7,
          1.6,
          0.8,
          2.2,
          0.7,
          0.3,
          2.3666666666666667,
          0.8,
          0.5,
          0.4,
          2.6,
          0.4666666666666666,
          1.5,
          1.7,
          1,
          0.1,
          1.1666666666666667,
          0.8,
          2.7,
          2,
          2,
          2.8,
          0.6,
          1.3,
          1,
          0.7,
          3.6,
          1.9,
          0.8,
          0.3,
          0.1,
          1.8,
          1.2,
          1,
          1.1333333333333335,
          0.9,
          1.7,
          0.6,
          1.9,
          0.8,
          0.3,
          0.5,
          1.3,
          0.3333333333333333,
          0.4,
          1.6,
          0.8,
          1.5333333333333332,
          2.6,
          1,
          0,
          1,
          1.9,
          1.3,
          3.4,
          0.3,
          0.1,
          0.6,
          0.4,
          0.2,
          0.9,
          4.4,
          0.9,
          2.5,
          0,
          2.7,
          1.6,
          1.3,
          1.4,
          0.3,
          0.5,
          1.7,
          1.8,
          0.7,
          0,
          0,
          1,
          0.6,
          0.3,
          2
         ],
         "y0": " ",
         "yaxis": "y"
        },
        {
         "alignmentgroup": "True",
         "hovertemplate": "<b>%{hovertext}</b><br><br>Position=%{x}<br>3 Points per Game=%{y}<extra></extra>",
         "hovertext": [
          "Thanasis Antetokounmpo",
          "OG Anunoby",
          "Deni Avdija",
          "Patrick Baldwin Jr.",
          "Dominick Barlow",
          "Keita Bates-Diop",
          "MarJon Beauchamp",
          "Saddiq Bey",
          "Malaki Branham",
          "Mikal Bridges",
          "Oshae Brissett",
          "Dillon Brooks",
          "Jaylen Brown",
          "Troy Brown Jr.",
          "Reggie Bullock",
          "Jimmy Butler",
          "Jamal Cain",
          "Justin Champagnie",
          "Julian Champagnie",
          "Torrey Craig",
          "Jae Crowder",
          "DeMar DeRozan",
          "Ousmane Dieng",
          "Chris Duarte",
          "Kessler Edwards",
          "Simone Fontecchio",
          "AJ Griffin",
          "Jordan Hall",
          "Ron Harper Jr.",
          "Josh Hart",
          "Gordon Hayward",
          "Buddy Hield",
          "Haywood Highsmith",
          "Malcolm Hill",
          "Danuel House Jr.",
          "Caleb Houstan",
          "De'Andre Hunter",
          "Andre Iguodala",
          "Joe Ingles",
          "Brandon Ingram",
          "Justin Jackson",
          "Jalen Johnson",
          "Keldon Johnson",
          "Stanley Johnson",
          "Derrick Jones Jr.",
          "Herbert Jones",
          "Johnny Juzang",
          "Braxton Key",
          "Louis King",
          "Corey Kispert",
          "Anthony Lamb",
          "Kawhi Leonard",
          "Nassir Little",
          "Lauri Markkanen",
          "Naji Marshall",
          "Cody Martin",
          "Kenyon Martin Jr.",
          "Bennedict Mathurin",
          "Jalen McDaniels",
          "Jaden McDaniels",
          "Doug McDermott",
          "Khris Middleton",
          "Justin Minaya",
          "Josh Minott",
          "Chima Moneke",
          "Trey Murphy III",
          "Keegan Murray",
          "Svi Mykhailiuk",
          "Aaron Nesmith",
          "Jordan Nwora",
          "Chuma Okeke",
          "Isaac Okoro",
          "Eugene Omoruyi",
          "Royce O'Neale",
          "Cedi Osman",
          "Kelly Oubre Jr.",
          "Michael Porter Jr.",
          "Otto Porter Jr.",
          "Taurean Prince",
          "Cam Reddish",
          "Duncan Robinson",
          "Matt Ryan",
          "Jordan Schakel",
          "Xavier Sneed",
          "Max Strus",
          "Cole Swider",
          "Jae'Sean Tate",
          "Juan Toscano-Anderson",
          "Franz Wagner",
          "Ish Wainright",
          "Jabari Walker",
          "Yuta Watanabe",
          "Jack White",
          "Joe Wieskamp",
          "Andrew Wiggins",
          "Ziaire Williams",
          "Dylan Windler",
          "Justise Winslow"
         ],
         "legendgroup": "SF",
         "marker": {
          "color": "#00cc96"
         },
         "name": "SF",
         "notched": false,
         "offsetgroup": "SF",
         "orientation": "v",
         "showlegend": true,
         "type": "box",
         "x": [
          "SF",
          "SF",
          "SF",
          "SF",
          "SF",
          "SF",
          "SF",
          "SF",
          "SF",
          "SF",
          "SF",
          "SF",
          "SF",
          "SF",
          "SF",
          "SF",
          "SF",
          "SF",
          "SF",
          "SF",
          "SF",
          "SF",
          "SF",
          "SF",
          "SF",
          "SF",
          "SF",
          "SF",
          "SF",
          "SF",
          "SF",
          "SF",
          "SF",
          "SF",
          "SF",
          "SF",
          "SF",
          "SF",
          "SF",
          "SF",
          "SF",
          "SF",
          "SF",
          "SF",
          "SF",
          "SF",
          "SF",
          "SF",
          "SF",
          "SF",
          "SF",
          "SF",
          "SF",
          "SF",
          "SF",
          "SF",
          "SF",
          "SF",
          "SF",
          "SF",
          "SF",
          "SF",
          "SF",
          "SF",
          "SF",
          "SF",
          "SF",
          "SF",
          "SF",
          "SF",
          "SF",
          "SF",
          "SF",
          "SF",
          "SF",
          "SF",
          "SF",
          "SF",
          "SF",
          "SF",
          "SF",
          "SF",
          "SF",
          "SF",
          "SF",
          "SF",
          "SF",
          "SF",
          "SF",
          "SF",
          "SF",
          "SF",
          "SF",
          "SF",
          "SF",
          "SF",
          "SF",
          "SF"
         ],
         "x0": " ",
         "xaxis": "x",
         "y": [
          0,
          2.1,
          0.9,
          1,
          0,
          0.8,
          0.9,
          1.9666666666666668,
          1.2,
          2.1,
          0.7,
          2,
          2.4,
          1.4,
          1.9,
          0.6,
          0.4,
          0.2333333333333333,
          1.3666666666666665,
          1.3,
          1.3,
          0.6,
          0.7,
          1.2,
          0.4333333333333333,
          1.2,
          1.4,
          0.3,
          0.3,
          0.8666666666666667,
          1,
          3.6,
          0.7,
          0.2,
          0.7,
          0.9,
          1.5,
          0.1,
          1.8,
          1.4,
          0.2,
          0.4,
          2.1,
          0.6,
          0.4,
          0.8,
          0.8,
          0,
          4,
          2.2,
          1.2,
          2,
          1.1,
          3,
          0.9,
          0.4,
          0.8,
          1.3,
          0.9,
          1.4,
          1.9,
          1.5,
          0.8,
          0.1,
          0,
          2.6,
          2.6,
          1.2333333333333334,
          1.6,
          1.4666666666666668,
          1,
          0.8,
          0.6333333333333333,
          2.1,
          1.5,
          2.3,
          3,
          0.8,
          1.4,
          1.1333333333333333,
          1.5,
          0.9666666666666668,
          0.5,
          0.8,
          2.5,
          0.4,
          0.4,
          0.1666666666666666,
          1.6,
          1,
          0.3,
          1,
          0.2,
          0.3,
          2.4,
          0.7,
          0.3,
          0.5
         ],
         "y0": " ",
         "yaxis": "y"
        },
        {
         "alignmentgroup": "True",
         "hovertemplate": "<b>%{hovertext}</b><br><br>Position=%{x}<br>3 Points per Game=%{y}<extra></extra>",
         "hovertext": [
          "Santi Aldama",
          "Kyle Anderson",
          "Giannis Antetokounmpo",
          "Paolo Banchero",
          "Harrison Barnes",
          "Scottie Barnes",
          "Nicolas Batum",
          "Darius Bazley",
          "Dāvis Bertāns",
          "Bojan Bogdanović",
          "Bol Bol",
          "Chris Boucher",
          "Jarrell Brantley",
          "Greg Brown III",
          "Vlatko Čančar",
          "Brandon Clarke",
          "John Collins",
          "Xavier Cooks",
          "Robert Covington",
          "Darius Days",
          "Moussa Diabaté",
          "Mamadi Diakite",
          "Tari Eason",
          "Dorian Finney-Smith",
          "Michael Foster Jr.",
          "Wenyen Gabriel",
          "Usman Garuba",
          "Rudy Gay",
          "Anthony Gill",
          "Aaron Gordon",
          "Jerami Grant",
          "RaiQuan Gray",
          "Draymond Green",
          "JaMychal Green",
          "Jeff Green",
          "Rui Hachimura",
          "Tobias Harris",
          "Sam Hauser",
          "Juancho Hernangómez",
          "Jonathan Isaac",
          "LeBron James",
          "Alize Johnson",
          "Cameron Johnson",
          "James Johnson",
          "Nikola Jović",
          "Mfiondu Kabengele",
          "Nathan Knight",
          "Jonathan Kuminga",
          "Kyle Kuzma",
          "Jake LaRavia",
          "Isaiah Livers",
          "Kenneth Lofton Jr.",
          "Kevin Love",
          "Trey Lyles",
          "Caleb Martin",
          "Evan Mobley",
          "Isaiah Mobley",
          "Markieff Morris",
          "Marcus Morris",
          "Larry Nance Jr.",
          "Georges Niang",
          "Zeke Nnaji",
          "KZ Okpala",
          "Aleksej Pokusevski",
          "Bobby Portis",
          "Micah Potter",
          "Julius Randle",
          "Jeremiah Robinson-Earl",
          "Isaiah Roby",
          "David Roddy",
          "Luka Šamanić",
          "Dario Šarić",
          "Admiral Schofield",
          "Chris Silva",
          "Jalen Smith",
          "Jabari Smith Jr.",
          "Jeremy Sochan",
          "Lamar Stevens",
          "Jayson Tatum",
          "Terry Taylor",
          "JT Thor",
          "Xavier Tillman Sr.",
          "Isaiah Todd",
          "Obi Toppin",
          "Karl-Anthony Towns",
          "P.J. Tucker",
          "Jarred Vanderbilt",
          "Dean Wade",
          "P.J. Washington",
          "Trendon Watford",
          "Grant Williams",
          "Jaylin Williams",
          "Kenrich Williams",
          "Patrick Williams",
          "Zion Williamson",
          "Thaddeus Young"
         ],
         "legendgroup": "PF",
         "marker": {
          "color": "#ab63fa"
         },
         "name": "PF",
         "notched": false,
         "offsetgroup": "PF",
         "orientation": "v",
         "showlegend": true,
         "type": "box",
         "x": [
          "PF",
          "PF",
          "PF",
          "PF",
          "PF",
          "PF",
          "PF",
          "PF",
          "PF",
          "PF",
          "PF",
          "PF",
          "PF",
          "PF",
          "PF",
          "PF",
          "PF",
          "PF",
          "PF",
          "PF",
          "PF",
          "PF",
          "PF",
          "PF",
          "PF",
          "PF",
          "PF",
          "PF",
          "PF",
          "PF",
          "PF",
          "PF",
          "PF",
          "PF",
          "PF",
          "PF",
          "PF",
          "PF",
          "PF",
          "PF",
          "PF",
          "PF",
          "PF",
          "PF",
          "PF",
          "PF",
          "PF",
          "PF",
          "PF",
          "PF",
          "PF",
          "PF",
          "PF",
          "PF",
          "PF",
          "PF",
          "PF",
          "PF",
          "PF",
          "PF",
          "PF",
          "PF",
          "PF",
          "PF",
          "PF",
          "PF",
          "PF",
          "PF",
          "PF",
          "PF",
          "PF",
          "PF",
          "PF",
          "PF",
          "PF",
          "PF",
          "PF",
          "PF",
          "PF",
          "PF",
          "PF",
          "PF",
          "PF",
          "PF",
          "PF",
          "PF",
          "PF",
          "PF",
          "PF",
          "PF",
          "PF",
          "PF",
          "PF",
          "PF",
          "PF",
          "PF"
         ],
         "x0": " ",
         "xaxis": "x",
         "y": [
          1.2,
          0.6,
          0.7,
          1.2,
          1.6,
          0.8,
          1.6,
          0.4333333333333333,
          1.2,
          2.5,
          0.4,
          0.8,
          1,
          0.1,
          0.7,
          0,
          1,
          0,
          1.1,
          0.8,
          0,
          0.3,
          0.7,
          1.6666666666666667,
          0,
          0.1,
          0.3,
          0.6,
          0.1,
          0.9,
          2.3,
          2,
          0.5,
          0.7,
          0.5,
          0.7999999999999999,
          1.7,
          1.8,
          0.4,
          0.5,
          2.2,
          0,
          2.466666666666667,
          0.2,
          0.5,
          0,
          0.2,
          0.8,
          2.5,
          0.7,
          1.4,
          0.3,
          1.5666666666666669,
          1.2,
          1.2,
          0.3,
          0.2,
          0.8333333333333334,
          1.7,
          0.2,
          2,
          0.3,
          0.2,
          1.1,
          1.4,
          0.6,
          2.8,
          0.9,
          0.4,
          0.9,
          1.1,
          0.7999999999999999,
          0.6,
          0,
          0.8,
          1.5,
          0.6,
          0.5,
          3.2,
          0.2,
          0.6,
          0.1,
          0.2,
          1.3,
          2.1,
          0.7,
          0.4000000000000001,
          1,
          2,
          0.4,
          1.5,
          0.9,
          0.9,
          1.4,
          0.2,
          0.1
         ],
         "y0": " ",
         "yaxis": "y"
        },
        {
         "alignmentgroup": "True",
         "hovertemplate": "<b>%{hovertext}</b><br><br>Position=%{x}<br>3 Points per Game=%{y}<extra></extra>",
         "hovertext": [
          "Precious Achiuwa",
          "Steven Adams",
          "Bam Adebayo",
          "Jarrett Allen",
          "Deandre Ayton",
          "Udoka Azubuike",
          "Marvin Bagley III",
          "Mo Bamba",
          "Charles Bassey",
          "Khem Birch",
          "Goga Bitadze",
          "Bismack Biyombo",
          "Tony Bradley",
          "Moses Brown",
          "Thomas Bryant",
          "John Butler",
          "Clint Capela",
          "Vernon Carey Jr.",
          "Wendell Carter Jr.",
          "Nic Claxton",
          "Zach Collins",
          "Chance Comanche",
          "Anthony Davis",
          "Dewayne Dedmon",
          "Gorgui Dieng",
          "Andre Drummond",
          "Jalen Duren",
          "Joel Embiid",
          "Drew Eubanks",
          "Bruno Fernando",
          "Daniel Gafford",
          "Luka Garza",
          "Taj Gibson",
          "Rudy Gobert",
          "Blake Griffin",
          "Montrezl Harrell",
          "Isaiah Hartenstein",
          "Udonis Haslem",
          "Jaxson Hayes",
          "Willy Hernangómez",
          "Richaun Holmes",
          "Al Horford",
          "Jay Huff",
          "Serge Ibaka",
          "Isaiah Jackson",
          "Jaren Jackson Jr.",
          "Nikola Jokić",
          "Damian Jones",
          "Kai Jones",
          "DeAndre Jordan",
          "Frank Kaminsky",
          "Walker Kessler",
          "Maxi Kleber",
          "Christian Koloko",
          "Luke Kornet",
          "Jock Landale",
          "Alex Len",
          "Meyers Leonard",
          "Kevon Looney",
          "Brook Lopez",
          "Robin Lopez",
          "Sandro Mamukelashvili",
          "Boban Marjanović",
          "JaVale McGee",
          "Chimezie Metu",
          "Mike Muscala",
          "Nerlens Noel",
          "Jusuf Nurkić",
          "Onyeka Okongwu",
          "Kelly Olynyk",
          "Mason Plumlee",
          "Jakob Poeltl",
          "Kristaps Porziņģis",
          "Dwight Powell",
          "Neemias Queta",
          "Paul Reed",
          "Naz Reid",
          "Nick Richards",
          "Mitchell Robinson",
          "Orlando Robinson",
          "Domantas Sabonis",
          "Olivier Sarr",
          "Alperen Şengün",
          "Day'Ron Sharpe",
          "Pascal Siakam",
          "Marko Simonovic",
          "Jericho Sims",
          "Isaiah Stewart",
          "Daniel Theis",
          "Myles Turner",
          "Jonas Valančiūnas",
          "Noah Vonleh",
          "Nikola Vučević",
          "Moritz Wagner",
          "Mark Williams",
          "Robert Williams",
          "James Wiseman",
          "Christian Wood",
          "Omer Yurtseven",
          "Cody Zeller",
          "Ivica Zubac"
         ],
         "legendgroup": "C",
         "marker": {
          "color": "#FFA15A"
         },
         "name": "C",
         "notched": false,
         "offsetgroup": "C",
         "orientation": "v",
         "showlegend": true,
         "type": "box",
         "x": [
          "C",
          "C",
          "C",
          "C",
          "C",
          "C",
          "C",
          "C",
          "C",
          "C",
          "C",
          "C",
          "C",
          "C",
          "C",
          "C",
          "C",
          "C",
          "C",
          "C",
          "C",
          "C",
          "C",
          "C",
          "C",
          "C",
          "C",
          "C",
          "C",
          "C",
          "C",
          "C",
          "C",
          "C",
          "C",
          "C",
          "C",
          "C",
          "C",
          "C",
          "C",
          "C",
          "C",
          "C",
          "C",
          "C",
          "C",
          "C",
          "C",
          "C",
          "C",
          "C",
          "C",
          "C",
          "C",
          "C",
          "C",
          "C",
          "C",
          "C",
          "C",
          "C",
          "C",
          "C",
          "C",
          "C",
          "C",
          "C",
          "C",
          "C",
          "C",
          "C",
          "C",
          "C",
          "C",
          "C",
          "C",
          "C",
          "C",
          "C",
          "C",
          "C",
          "C",
          "C",
          "C",
          "C",
          "C",
          "C",
          "C",
          "C",
          "C",
          "C",
          "C",
          "C",
          "C",
          "C",
          "C",
          "C",
          "C",
          "C",
          "C"
         ],
         "x0": " ",
         "xaxis": "x",
         "y": [
          0.5,
          0,
          0,
          0,
          0.1,
          0,
          0.5,
          0.9,
          0.1,
          0.1,
          0.1666666666666666,
          0,
          0.3,
          0,
          0.3666666666666667,
          0.4,
          0,
          0,
          1.4,
          0,
          0.9,
          0,
          0.3,
          0.2666666666666666,
          0.7,
          0,
          0,
          1,
          0.1,
          0,
          0,
          0.5,
          0.2,
          0,
          0.6,
          0,
          0.1,
          0.4,
          0.1,
          0.1,
          0.1,
          2.3,
          0.9,
          0.4,
          0,
          1.6,
          0.8,
          0.2333333333333333,
          0.1,
          0,
          0.3333333333333333,
          0,
          1.1,
          0,
          0,
          0.3,
          0,
          0.8,
          0,
          1.7,
          0.1,
          0.7333333333333334,
          0,
          0,
          0.1,
          1.3,
          0.0666666666666666,
          0.8,
          0.1,
          1.4,
          0,
          0,
          2.1,
          0,
          0,
          0,
          1.1,
          0,
          0,
          0,
          0.4,
          0.1,
          0.3,
          0.1,
          1.3,
          0.1,
          0,
          1.3,
          0.3,
          1.5,
          0.5,
          0,
          1.5,
          0.9,
          0,
          0,
          0.0666666666666666,
          1.6,
          0.3,
          0,
          0
         ],
         "y0": " ",
         "yaxis": "y"
        },
        {
         "alignmentgroup": "True",
         "hovertemplate": "<b>%{hovertext}</b><br><br>Position=%{x}<br>3 Points per Game=%{y}<extra></extra>",
         "hovertext": [
          "Kevin Durant",
          "Kevin Knox",
          "T.J. Warren"
         ],
         "legendgroup": "PF-SF",
         "marker": {
          "color": "#19d3f3"
         },
         "name": "PF-SF",
         "notched": false,
         "offsetgroup": "PF-SF",
         "orientation": "v",
         "showlegend": true,
         "type": "box",
         "x": [
          "PF-SF",
          "PF-SF",
          "PF-SF"
         ],
         "x0": " ",
         "xaxis": "x",
         "y": [
          2.2,
          1,
          0.5
         ],
         "y0": " ",
         "yaxis": "y"
        }
       ],
       "layout": {
        "boxmode": "overlay",
        "legend": {
         "title": {
          "text": "Position"
         },
         "tracegroupgap": 0
        },
        "template": {
         "data": {
          "bar": [
           {
            "error_x": {
             "color": "#2a3f5f"
            },
            "error_y": {
             "color": "#2a3f5f"
            },
            "marker": {
             "line": {
              "color": "#E5ECF6",
              "width": 0.5
             },
             "pattern": {
              "fillmode": "overlay",
              "size": 10,
              "solidity": 0.2
             }
            },
            "type": "bar"
           }
          ],
          "barpolar": [
           {
            "marker": {
             "line": {
              "color": "#E5ECF6",
              "width": 0.5
             },
             "pattern": {
              "fillmode": "overlay",
              "size": 10,
              "solidity": 0.2
             }
            },
            "type": "barpolar"
           }
          ],
          "carpet": [
           {
            "aaxis": {
             "endlinecolor": "#2a3f5f",
             "gridcolor": "white",
             "linecolor": "white",
             "minorgridcolor": "white",
             "startlinecolor": "#2a3f5f"
            },
            "baxis": {
             "endlinecolor": "#2a3f5f",
             "gridcolor": "white",
             "linecolor": "white",
             "minorgridcolor": "white",
             "startlinecolor": "#2a3f5f"
            },
            "type": "carpet"
           }
          ],
          "choropleth": [
           {
            "colorbar": {
             "outlinewidth": 0,
             "ticks": ""
            },
            "type": "choropleth"
           }
          ],
          "contour": [
           {
            "colorbar": {
             "outlinewidth": 0,
             "ticks": ""
            },
            "colorscale": [
             [
              0,
              "#0d0887"
             ],
             [
              0.1111111111111111,
              "#46039f"
             ],
             [
              0.2222222222222222,
              "#7201a8"
             ],
             [
              0.3333333333333333,
              "#9c179e"
             ],
             [
              0.4444444444444444,
              "#bd3786"
             ],
             [
              0.5555555555555556,
              "#d8576b"
             ],
             [
              0.6666666666666666,
              "#ed7953"
             ],
             [
              0.7777777777777778,
              "#fb9f3a"
             ],
             [
              0.8888888888888888,
              "#fdca26"
             ],
             [
              1,
              "#f0f921"
             ]
            ],
            "type": "contour"
           }
          ],
          "contourcarpet": [
           {
            "colorbar": {
             "outlinewidth": 0,
             "ticks": ""
            },
            "type": "contourcarpet"
           }
          ],
          "heatmap": [
           {
            "colorbar": {
             "outlinewidth": 0,
             "ticks": ""
            },
            "colorscale": [
             [
              0,
              "#0d0887"
             ],
             [
              0.1111111111111111,
              "#46039f"
             ],
             [
              0.2222222222222222,
              "#7201a8"
             ],
             [
              0.3333333333333333,
              "#9c179e"
             ],
             [
              0.4444444444444444,
              "#bd3786"
             ],
             [
              0.5555555555555556,
              "#d8576b"
             ],
             [
              0.6666666666666666,
              "#ed7953"
             ],
             [
              0.7777777777777778,
              "#fb9f3a"
             ],
             [
              0.8888888888888888,
              "#fdca26"
             ],
             [
              1,
              "#f0f921"
             ]
            ],
            "type": "heatmap"
           }
          ],
          "heatmapgl": [
           {
            "colorbar": {
             "outlinewidth": 0,
             "ticks": ""
            },
            "colorscale": [
             [
              0,
              "#0d0887"
             ],
             [
              0.1111111111111111,
              "#46039f"
             ],
             [
              0.2222222222222222,
              "#7201a8"
             ],
             [
              0.3333333333333333,
              "#9c179e"
             ],
             [
              0.4444444444444444,
              "#bd3786"
             ],
             [
              0.5555555555555556,
              "#d8576b"
             ],
             [
              0.6666666666666666,
              "#ed7953"
             ],
             [
              0.7777777777777778,
              "#fb9f3a"
             ],
             [
              0.8888888888888888,
              "#fdca26"
             ],
             [
              1,
              "#f0f921"
             ]
            ],
            "type": "heatmapgl"
           }
          ],
          "histogram": [
           {
            "marker": {
             "pattern": {
              "fillmode": "overlay",
              "size": 10,
              "solidity": 0.2
             }
            },
            "type": "histogram"
           }
          ],
          "histogram2d": [
           {
            "colorbar": {
             "outlinewidth": 0,
             "ticks": ""
            },
            "colorscale": [
             [
              0,
              "#0d0887"
             ],
             [
              0.1111111111111111,
              "#46039f"
             ],
             [
              0.2222222222222222,
              "#7201a8"
             ],
             [
              0.3333333333333333,
              "#9c179e"
             ],
             [
              0.4444444444444444,
              "#bd3786"
             ],
             [
              0.5555555555555556,
              "#d8576b"
             ],
             [
              0.6666666666666666,
              "#ed7953"
             ],
             [
              0.7777777777777778,
              "#fb9f3a"
             ],
             [
              0.8888888888888888,
              "#fdca26"
             ],
             [
              1,
              "#f0f921"
             ]
            ],
            "type": "histogram2d"
           }
          ],
          "histogram2dcontour": [
           {
            "colorbar": {
             "outlinewidth": 0,
             "ticks": ""
            },
            "colorscale": [
             [
              0,
              "#0d0887"
             ],
             [
              0.1111111111111111,
              "#46039f"
             ],
             [
              0.2222222222222222,
              "#7201a8"
             ],
             [
              0.3333333333333333,
              "#9c179e"
             ],
             [
              0.4444444444444444,
              "#bd3786"
             ],
             [
              0.5555555555555556,
              "#d8576b"
             ],
             [
              0.6666666666666666,
              "#ed7953"
             ],
             [
              0.7777777777777778,
              "#fb9f3a"
             ],
             [
              0.8888888888888888,
              "#fdca26"
             ],
             [
              1,
              "#f0f921"
             ]
            ],
            "type": "histogram2dcontour"
           }
          ],
          "mesh3d": [
           {
            "colorbar": {
             "outlinewidth": 0,
             "ticks": ""
            },
            "type": "mesh3d"
           }
          ],
          "parcoords": [
           {
            "line": {
             "colorbar": {
              "outlinewidth": 0,
              "ticks": ""
             }
            },
            "type": "parcoords"
           }
          ],
          "pie": [
           {
            "automargin": true,
            "type": "pie"
           }
          ],
          "scatter": [
           {
            "fillpattern": {
             "fillmode": "overlay",
             "size": 10,
             "solidity": 0.2
            },
            "type": "scatter"
           }
          ],
          "scatter3d": [
           {
            "line": {
             "colorbar": {
              "outlinewidth": 0,
              "ticks": ""
             }
            },
            "marker": {
             "colorbar": {
              "outlinewidth": 0,
              "ticks": ""
             }
            },
            "type": "scatter3d"
           }
          ],
          "scattercarpet": [
           {
            "marker": {
             "colorbar": {
              "outlinewidth": 0,
              "ticks": ""
             }
            },
            "type": "scattercarpet"
           }
          ],
          "scattergeo": [
           {
            "marker": {
             "colorbar": {
              "outlinewidth": 0,
              "ticks": ""
             }
            },
            "type": "scattergeo"
           }
          ],
          "scattergl": [
           {
            "marker": {
             "colorbar": {
              "outlinewidth": 0,
              "ticks": ""
             }
            },
            "type": "scattergl"
           }
          ],
          "scattermapbox": [
           {
            "marker": {
             "colorbar": {
              "outlinewidth": 0,
              "ticks": ""
             }
            },
            "type": "scattermapbox"
           }
          ],
          "scatterpolar": [
           {
            "marker": {
             "colorbar": {
              "outlinewidth": 0,
              "ticks": ""
             }
            },
            "type": "scatterpolar"
           }
          ],
          "scatterpolargl": [
           {
            "marker": {
             "colorbar": {
              "outlinewidth": 0,
              "ticks": ""
             }
            },
            "type": "scatterpolargl"
           }
          ],
          "scatterternary": [
           {
            "marker": {
             "colorbar": {
              "outlinewidth": 0,
              "ticks": ""
             }
            },
            "type": "scatterternary"
           }
          ],
          "surface": [
           {
            "colorbar": {
             "outlinewidth": 0,
             "ticks": ""
            },
            "colorscale": [
             [
              0,
              "#0d0887"
             ],
             [
              0.1111111111111111,
              "#46039f"
             ],
             [
              0.2222222222222222,
              "#7201a8"
             ],
             [
              0.3333333333333333,
              "#9c179e"
             ],
             [
              0.4444444444444444,
              "#bd3786"
             ],
             [
              0.5555555555555556,
              "#d8576b"
             ],
             [
              0.6666666666666666,
              "#ed7953"
             ],
             [
              0.7777777777777778,
              "#fb9f3a"
             ],
             [
              0.8888888888888888,
              "#fdca26"
             ],
             [
              1,
              "#f0f921"
             ]
            ],
            "type": "surface"
           }
          ],
          "table": [
           {
            "cells": {
             "fill": {
              "color": "#EBF0F8"
             },
             "line": {
              "color": "white"
             }
            },
            "header": {
             "fill": {
              "color": "#C8D4E3"
             },
             "line": {
              "color": "white"
             }
            },
            "type": "table"
           }
          ]
         },
         "layout": {
          "annotationdefaults": {
           "arrowcolor": "#2a3f5f",
           "arrowhead": 0,
           "arrowwidth": 1
          },
          "autotypenumbers": "strict",
          "coloraxis": {
           "colorbar": {
            "outlinewidth": 0,
            "ticks": ""
           }
          },
          "colorscale": {
           "diverging": [
            [
             0,
             "#8e0152"
            ],
            [
             0.1,
             "#c51b7d"
            ],
            [
             0.2,
             "#de77ae"
            ],
            [
             0.3,
             "#f1b6da"
            ],
            [
             0.4,
             "#fde0ef"
            ],
            [
             0.5,
             "#f7f7f7"
            ],
            [
             0.6,
             "#e6f5d0"
            ],
            [
             0.7,
             "#b8e186"
            ],
            [
             0.8,
             "#7fbc41"
            ],
            [
             0.9,
             "#4d9221"
            ],
            [
             1,
             "#276419"
            ]
           ],
           "sequential": [
            [
             0,
             "#0d0887"
            ],
            [
             0.1111111111111111,
             "#46039f"
            ],
            [
             0.2222222222222222,
             "#7201a8"
            ],
            [
             0.3333333333333333,
             "#9c179e"
            ],
            [
             0.4444444444444444,
             "#bd3786"
            ],
            [
             0.5555555555555556,
             "#d8576b"
            ],
            [
             0.6666666666666666,
             "#ed7953"
            ],
            [
             0.7777777777777778,
             "#fb9f3a"
            ],
            [
             0.8888888888888888,
             "#fdca26"
            ],
            [
             1,
             "#f0f921"
            ]
           ],
           "sequentialminus": [
            [
             0,
             "#0d0887"
            ],
            [
             0.1111111111111111,
             "#46039f"
            ],
            [
             0.2222222222222222,
             "#7201a8"
            ],
            [
             0.3333333333333333,
             "#9c179e"
            ],
            [
             0.4444444444444444,
             "#bd3786"
            ],
            [
             0.5555555555555556,
             "#d8576b"
            ],
            [
             0.6666666666666666,
             "#ed7953"
            ],
            [
             0.7777777777777778,
             "#fb9f3a"
            ],
            [
             0.8888888888888888,
             "#fdca26"
            ],
            [
             1,
             "#f0f921"
            ]
           ]
          },
          "colorway": [
           "#636efa",
           "#EF553B",
           "#00cc96",
           "#ab63fa",
           "#FFA15A",
           "#19d3f3",
           "#FF6692",
           "#B6E880",
           "#FF97FF",
           "#FECB52"
          ],
          "font": {
           "color": "#2a3f5f"
          },
          "geo": {
           "bgcolor": "white",
           "lakecolor": "white",
           "landcolor": "#E5ECF6",
           "showlakes": true,
           "showland": true,
           "subunitcolor": "white"
          },
          "hoverlabel": {
           "align": "left"
          },
          "hovermode": "closest",
          "mapbox": {
           "style": "light"
          },
          "paper_bgcolor": "white",
          "plot_bgcolor": "#E5ECF6",
          "polar": {
           "angularaxis": {
            "gridcolor": "white",
            "linecolor": "white",
            "ticks": ""
           },
           "bgcolor": "#E5ECF6",
           "radialaxis": {
            "gridcolor": "white",
            "linecolor": "white",
            "ticks": ""
           }
          },
          "scene": {
           "xaxis": {
            "backgroundcolor": "#E5ECF6",
            "gridcolor": "white",
            "gridwidth": 2,
            "linecolor": "white",
            "showbackground": true,
            "ticks": "",
            "zerolinecolor": "white"
           },
           "yaxis": {
            "backgroundcolor": "#E5ECF6",
            "gridcolor": "white",
            "gridwidth": 2,
            "linecolor": "white",
            "showbackground": true,
            "ticks": "",
            "zerolinecolor": "white"
           },
           "zaxis": {
            "backgroundcolor": "#E5ECF6",
            "gridcolor": "white",
            "gridwidth": 2,
            "linecolor": "white",
            "showbackground": true,
            "ticks": "",
            "zerolinecolor": "white"
           }
          },
          "shapedefaults": {
           "line": {
            "color": "#2a3f5f"
           }
          },
          "ternary": {
           "aaxis": {
            "gridcolor": "white",
            "linecolor": "white",
            "ticks": ""
           },
           "baxis": {
            "gridcolor": "white",
            "linecolor": "white",
            "ticks": ""
           },
           "bgcolor": "#E5ECF6",
           "caxis": {
            "gridcolor": "white",
            "linecolor": "white",
            "ticks": ""
           }
          },
          "title": {
           "x": 0.05
          },
          "xaxis": {
           "automargin": true,
           "gridcolor": "white",
           "linecolor": "white",
           "ticks": "",
           "title": {
            "standoff": 15
           },
           "zerolinecolor": "white",
           "zerolinewidth": 2
          },
          "yaxis": {
           "automargin": true,
           "gridcolor": "white",
           "linecolor": "white",
           "ticks": "",
           "title": {
            "standoff": 15
           },
           "zerolinecolor": "white",
           "zerolinewidth": 2
          }
         }
        },
        "title": {
         "text": "3 Points per Game by Position"
        },
        "xaxis": {
         "anchor": "y",
         "categoryarray": [
          "PG",
          "SG",
          "SF",
          "PF",
          "C",
          "PF-SF",
          "SF-SG",
          "SG-PG"
         ],
         "categoryorder": "array",
         "domain": [
          0,
          1
         ],
         "title": {
          "text": "Position"
         }
        },
        "yaxis": {
         "anchor": "x",
         "domain": [
          0,
          1
         ],
         "title": {
          "text": "3 Points per Game"
         }
        }
       }
      }
     },
     "metadata": {},
     "output_type": "display_data"
    }
   ],
   "source": [
    "px.box(data_frame = df06,\n",
    "        x = 'Pos',\n",
    "        y = '3P',\n",
    "        color = 'Pos',\n",
    "        hover_name = 'Player',\n",
    "        title = '3 Points per Game by Position',\n",
    "        labels = {'3P':'3 Points per Game',\n",
    "                        'Pos':'Position'},\n",
    "        category_orders = {'Pos':('PG', 'SG', 'SF', 'PF', 'C', 'PF-SF', 'SF-SG', 'SG-PG')})"
   ]
  },
  {
   "attachments": {},
   "cell_type": "markdown",
   "metadata": {},
   "source": [
    "### How are distributed the Field Goals Per Game according to the Positions assigned to each Player?"
   ]
  },
  {
   "cell_type": "code",
   "execution_count": 483,
   "metadata": {},
   "outputs": [
    {
     "data": {
      "application/vnd.plotly.v1+json": {
       "config": {
        "plotlyServerURL": "https://plot.ly"
       },
       "data": [
        {
         "alignmentgroup": "True",
         "hovertemplate": "<b>%{hovertext}</b><br><br>Position=%{x}<br>Field Goals=%{y}<extra></extra>",
         "hovertext": [
          "Jose Alvarado",
          "Cole Anthony",
          "Ryan Arcidiacono",
          "LaMelo Ball",
          "Dalano Banton",
          "Patrick Beverley",
          "Buddy Boeheim",
          "Jamaree Bouyea",
          "Malcolm Brogdon",
          "Jalen Brunson",
          "Facundo Campazzo",
          "Jevon Carter",
          "Michael Carter-Williams",
          "Alex Caruso",
          "Kennedy Chandler",
          "Mike Conley",
          "Cade Cunningham",
          "Stephen Curry",
          "Dyson Daniels",
          "JD Davison",
          "Matthew Dellavedova",
          "Spencer Dinwiddie",
          "Luka Dončić",
          "Devon Dotson",
          "Jeff Dowtin",
          "Goran Dragić",
          "Kris Dunn",
          "Malachi Flynn",
          "Trent Forrest",
          "De'Aaron Fox",
          "Markelle Fultz",
          "Darius Garland",
          "Shai Gilgeous-Alexander",
          "Jacob Gilyard",
          "Jordan Goodwin",
          "Devonte' Graham",
          "Tyrese Haliburton",
          "R.J. Hampton",
          "James Harden",
          "Killian Hayes",
          "George Hill",
          "Aaron Holiday",
          "Jrue Holiday",
          "Trevor Hudgins",
          "Bones Hyland",
          "Kyrie Irving",
          "Frank Jackson",
          "Quenton Jackson",
          "Reggie Jackson",
          "Carlik Jones",
          "Tre Jones",
          "Tyus Jones",
          "Cory Joseph",
          "Vit Krejci",
          "Saben Lee",
          "Kira Lewis Jr.",
          "Damian Lillard",
          "Kyle Lowry",
          "Théo Maledon",
          "Tre Mann",
          "Miles McBride",
          "T.J. McConnell",
          "Jordan McLaughlin",
          "De'Anthony Melton",
          "Patty Mills",
          "Davion Mitchell",
          "Ja Morant",
          "Monte Morris",
          "Jamal Murray",
          "Raul Neto",
          "Daishen Nix",
          "Frank Ntilikina",
          "Chris Paul",
          "Cameron Payne",
          "Gary Payton II",
          "Scotty Pippen Jr.",
          "Jordan Poole",
          "Kevin Porter Jr.",
          "Jason Preston",
          "Payton Pritchard",
          "Immanuel Quickley",
          "Ryan Rollins",
          "Derrick Rose",
          "Ricky Rubio",
          "D'Angelo Russell",
          "Dennis Schröder",
          "Ben Simmons",
          "Kobi Simmons",
          "Marcus Smart",
          "Dennis Smith Jr.",
          "Ish Smith",
          "Jalen Suggs",
          "Fred VanVleet",
          "Gabe Vincent",
          "Kemba Walker",
          "John Wall",
          "TyTy Washington Jr.",
          "Russell Westbrook",
          "Lindell Wigginton",
          "Delon Wright",
          "McKinley Wright IV",
          "Trae Young"
         ],
         "legendgroup": "PG",
         "marker": {
          "color": "#636efa"
         },
         "name": "PG",
         "notched": false,
         "offsetgroup": "PG",
         "orientation": "v",
         "showlegend": true,
         "type": "box",
         "x": [
          "PG",
          "PG",
          "PG",
          "PG",
          "PG",
          "PG",
          "PG",
          "PG",
          "PG",
          "PG",
          "PG",
          "PG",
          "PG",
          "PG",
          "PG",
          "PG",
          "PG",
          "PG",
          "PG",
          "PG",
          "PG",
          "PG",
          "PG",
          "PG",
          "PG",
          "PG",
          "PG",
          "PG",
          "PG",
          "PG",
          "PG",
          "PG",
          "PG",
          "PG",
          "PG",
          "PG",
          "PG",
          "PG",
          "PG",
          "PG",
          "PG",
          "PG",
          "PG",
          "PG",
          "PG",
          "PG",
          "PG",
          "PG",
          "PG",
          "PG",
          "PG",
          "PG",
          "PG",
          "PG",
          "PG",
          "PG",
          "PG",
          "PG",
          "PG",
          "PG",
          "PG",
          "PG",
          "PG",
          "PG",
          "PG",
          "PG",
          "PG",
          "PG",
          "PG",
          "PG",
          "PG",
          "PG",
          "PG",
          "PG",
          "PG",
          "PG",
          "PG",
          "PG",
          "PG",
          "PG",
          "PG",
          "PG",
          "PG",
          "PG",
          "PG",
          "PG",
          "PG",
          "PG",
          "PG",
          "PG",
          "PG",
          "PG",
          "PG",
          "PG",
          "PG",
          "PG",
          "PG",
          "PG",
          "PG",
          "PG",
          "PG",
          "PG"
         ],
         "x0": " ",
         "xaxis": "x",
         "y": [
          3.3,
          4.6,
          0.5,
          8.2,
          1.8,
          2.1333333333333333,
          0.5,
          0.9,
          5.3,
          8.6,
          0.4,
          3,
          1.5,
          1.9,
          1,
          4,
          7.8,
          10,
          1.5,
          0.7,
          0.5,
          5.766666666666667,
          10.9,
          0.2,
          1,
          2.3000000000000003,
          5.3,
          1.6,
          1.1,
          9.3,
          5.8,
          7.6,
          10.4,
          1,
          2.5,
          2.533333333333333,
          7.4,
          2.2,
          6.4,
          4,
          1.7,
          1.5,
          7.3,
          0.4,
          4.033333333333333,
          9.9,
          0,
          2.1,
          3.7,
          0.9,
          5,
          3.9,
          2.4,
          0.5,
          1.8333333333333333,
          1.6,
          9.6,
          3.6,
          2.3,
          2.9,
          1.2,
          3.8,
          1.4,
          3.6,
          2.2,
          2.3,
          9.3,
          4,
          7.3,
          1.2,
          1.4,
          1,
          5,
          3.9,
          1.9666666666666668,
          0.7,
          6.7,
          6.6,
          1.3,
          2.1,
          5.2,
          0.6,
          2.3,
          1.8,
          6.3,
          4.1,
          3.2,
          0.2,
          4.1,
          3.4,
          1.2,
          3.5,
          6.3,
          3.4,
          2.7,
          4.1,
          1.9,
          5.933333333333334,
          2.6,
          2.8,
          1.7,
          8.2
         ],
         "y0": " ",
         "yaxis": "y"
        },
        {
         "alignmentgroup": "True",
         "hovertemplate": "<b>%{hovertext}</b><br><br>Position=%{x}<br>Field Goals=%{y}<extra></extra>",
         "hovertext": [
          "Ochai Agbaji",
          "Nickeil Alexander-Walker",
          "Grayson Allen",
          "Desmond Bane",
          "RJ Barrett",
          "Will Barton",
          "Bradley Beal",
          "Malik Beasley",
          "Bogdan Bogdanović",
          "Leandro Bolmaro",
          "Devin Booker",
          "Brandon Boston Jr.",
          "James Bouknight",
          "Christian Braun",
          "Bruce Brown",
          "Kendall Brown",
          "Sterling Brown",
          "Alec Burks",
          "Deonte Burton",
          "Jared Butler",
          "Kentavious Caldwell-Pope",
          "Josh Christopher",
          "Max Christie",
          "Jordan Clarkson",
          "Amir Coffey",
          "Pat Connaughton",
          "Jarrett Culver",
          "Seth Curry",
          "Johnny Davis",
          "Terence Davis",
          "Hamidou Diallo",
          "Donte DiVincenzo",
          "Tyler Dorsey",
          "Luguentz Dort",
          "Ayo Dosunmu",
          "PJ Dozier",
          "David Duke Jr.",
          "Anthony Edwards",
          "Keon Ellis",
          "Bryn Forbes",
          "Evan Fournier",
          "Paul George",
          "Josh Giddey",
          "Eric Gordon",
          "A.J. Green",
          "Danny Green",
          "Javonte Green",
          "Jalen Green",
          "Josh Green",
          "Quentin Grimes",
          "Tim Hardaway Jr.",
          "Jaden Hardy",
          "Gary Harris",
          "Joe Harris",
          "Kevon Harris",
          "Shaquille Harrison",
          "Tyler Herro",
          "Justin Holiday",
          "Talen Horton-Tucker",
          "Kevin Huerter",
          "Jaden Ivey",
          "Ty Jerome",
          "Isaiah Joe",
          "Keon Johnson",
          "Trevor Keels",
          "Luke Kennard",
          "John Konchar",
          "Furkan Korkmaz",
          "Romeo Langford",
          "Zach LaVine",
          "A.J. Lawson",
          "Damion Lee",
          "Caris LeVert",
          "Terance Mann",
          "Tyrese Martin",
          "Garrison Mathews",
          "Wesley Matthews",
          "Tyrese Maxey",
          "Skylar Mays",
          "Mac McClung",
          "CJ McCollum",
          "Bryce McGowens",
          "Rodney McGruder",
          "Sam Merrill",
          "Shake Milton",
          "Donovan Mitchell",
          "Malik Monk",
          "Moses Moody",
          "Xavier Moon",
          "Wendell Moore Jr.",
          "Dejounte Murray",
          "Andrew Nembhard",
          "Jaylen Nowell",
          "Kendrick Nunn",
          "Josh Okogie",
          "Victor Oladipo",
          "Theo Pinson",
          "Norman Powell",
          "Joshua Primo",
          "Trevelin Queen",
          "Lester Quinones",
          "Austin Reaves",
          "Davon Reed",
          "Jared Rhoden",
          "Josh Richardson",
          "Austin Rivers",
          "Terrence Ross",
          "Terry Rozier",
          "Jay Scrubb",
          "Dereon Seabron",
          "Collin Sexton",
          "Landry Shamet",
          "Shaedon Sharpe",
          "Anfernee Simons",
          "Dru Smith",
          "Jaden Springer",
          "Edmond Sumner",
          "Garrett Temple",
          "Dalen Terry",
          "Cam Thomas",
          "Klay Thompson",
          "Matisse Thybulle",
          "Gary Trent Jr.",
          "Stanley Umude",
          "Devin Vassell",
          "Lonnie Walker IV",
          "Duane Washington Jr.",
          "Lindy Waters III",
          "Peyton Watson",
          "Blake Wesley",
          "Coby White",
          "Derrick White",
          "Aaron Wiggins",
          "Alondes Williams",
          "Donovan Williams",
          "Jalen Williams",
          "Jeenathan Williams",
          "Vince Williams Jr.",
          "Gabe York"
         ],
         "legendgroup": "SG",
         "marker": {
          "color": "#EF553B"
         },
         "name": "SG",
         "notched": false,
         "offsetgroup": "SG",
         "orientation": "v",
         "showlegend": true,
         "type": "box",
         "x": [
          "SG",
          "SG",
          "SG",
          "SG",
          "SG",
          "SG",
          "SG",
          "SG",
          "SG",
          "SG",
          "SG",
          "SG",
          "SG",
          "SG",
          "SG",
          "SG",
          "SG",
          "SG",
          "SG",
          "SG",
          "SG",
          "SG",
          "SG",
          "SG",
          "SG",
          "SG",
          "SG",
          "SG",
          "SG",
          "SG",
          "SG",
          "SG",
          "SG",
          "SG",
          "SG",
          "SG",
          "SG",
          "SG",
          "SG",
          "SG",
          "SG",
          "SG",
          "SG",
          "SG",
          "SG",
          "SG",
          "SG",
          "SG",
          "SG",
          "SG",
          "SG",
          "SG",
          "SG",
          "SG",
          "SG",
          "SG",
          "SG",
          "SG",
          "SG",
          "SG",
          "SG",
          "SG",
          "SG",
          "SG",
          "SG",
          "SG",
          "SG",
          "SG",
          "SG",
          "SG",
          "SG",
          "SG",
          "SG",
          "SG",
          "SG",
          "SG",
          "SG",
          "SG",
          "SG",
          "SG",
          "SG",
          "SG",
          "SG",
          "SG",
          "SG",
          "SG",
          "SG",
          "SG",
          "SG",
          "SG",
          "SG",
          "SG",
          "SG",
          "SG",
          "SG",
          "SG",
          "SG",
          "SG",
          "SG",
          "SG",
          "SG",
          "SG",
          "SG",
          "SG",
          "SG",
          "SG",
          "SG",
          "SG",
          "SG",
          "SG",
          "SG",
          "SG",
          "SG",
          "SG",
          "SG",
          "SG",
          "SG",
          "SG",
          "SG",
          "SG",
          "SG",
          "SG",
          "SG",
          "SG",
          "SG",
          "SG",
          "SG",
          "SG",
          "SG",
          "SG",
          "SG",
          "SG",
          "SG",
          "SG",
          "SG",
          "SG",
          "SG",
          "SG",
          "SG"
         ],
         "x0": " ",
         "xaxis": "x",
         "y": [
          2.8,
          2.2,
          3.4,
          7.8,
          7,
          2.3666666666666667,
          8.9,
          4.466666666666666,
          5.1,
          0.2,
          9.9,
          2.3,
          2,
          1.9,
          4.5,
          0.7,
          0,
          3.9,
          0,
          2.5,
          3.8,
          2.4,
          1.1,
          7.5,
          1.1,
          2.7,
          1.7,
          3.4,
          2.4,
          2.4,
          3.8,
          3.3,
          1.3,
          4.6,
          3.5,
          0.6,
          1.6,
          8.9,
          0.4,
          1.2,
          2.1,
          8.2,
          7.1,
          4.133333333333334,
          1.5,
          1.8,
          1.9,
          7.4,
          3.4,
          4,
          4.8,
          3,
          2.9,
          2.7,
          1.4,
          3,
          7.3,
          1.6666666666666667,
          4,
          5.6,
          5.5,
          2.6,
          3.1,
          1.7,
          0.3,
          3.266666666666667,
          1.9,
          1.3,
          2.8,
          8.7,
          1.3333333333333333,
          2.7,
          4.3,
          3.4,
          0.6,
          1.3666666666666665,
          1.1,
          7.3,
          5.7,
          4.5,
          7.8,
          1.7,
          1.9,
          1.8,
          3.2,
          10,
          4.6,
          1.7,
          0.8,
          0.6,
          8.3,
          3.8,
          4.3,
          2.733333333333333,
          2.3,
          3.8,
          0.8,
          5.7,
          2.3,
          1,
          0.5,
          4,
          0.6,
          1.2,
          3.5333333333333337,
          1.8,
          3.233333333333333,
          7.8,
          2.5,
          0.4,
          4.9,
          2.8,
          3.8,
          7.5,
          1.1666666666666667,
          1.1,
          2.3,
          0.7,
          0.8,
          3.5,
          7.9,
          1.7333333333333334,
          6.1,
          0,
          6.9,
          4.2,
          3,
          1.7,
          1.3,
          1.9,
          3.6,
          4.3,
          2.7,
          0,
          1,
          5.5,
          4.8,
          0.8,
          2.7
         ],
         "y0": " ",
         "yaxis": "y"
        },
        {
         "alignmentgroup": "True",
         "hovertemplate": "<b>%{hovertext}</b><br><br>Position=%{x}<br>Field Goals=%{y}<extra></extra>",
         "hovertext": [
          "Thanasis Antetokounmpo",
          "OG Anunoby",
          "Deni Avdija",
          "Patrick Baldwin Jr.",
          "Dominick Barlow",
          "Keita Bates-Diop",
          "MarJon Beauchamp",
          "Saddiq Bey",
          "Malaki Branham",
          "Mikal Bridges",
          "Oshae Brissett",
          "Dillon Brooks",
          "Jaylen Brown",
          "Troy Brown Jr.",
          "Reggie Bullock",
          "Jimmy Butler",
          "Jamal Cain",
          "Justin Champagnie",
          "Julian Champagnie",
          "Torrey Craig",
          "Jae Crowder",
          "DeMar DeRozan",
          "Ousmane Dieng",
          "Chris Duarte",
          "Kessler Edwards",
          "Simone Fontecchio",
          "AJ Griffin",
          "Jordan Hall",
          "Ron Harper Jr.",
          "Josh Hart",
          "Gordon Hayward",
          "Buddy Hield",
          "Haywood Highsmith",
          "Malcolm Hill",
          "Danuel House Jr.",
          "Caleb Houstan",
          "De'Andre Hunter",
          "Andre Iguodala",
          "Joe Ingles",
          "Brandon Ingram",
          "Justin Jackson",
          "Jalen Johnson",
          "Keldon Johnson",
          "Stanley Johnson",
          "Derrick Jones Jr.",
          "Herbert Jones",
          "Johnny Juzang",
          "Braxton Key",
          "Louis King",
          "Corey Kispert",
          "Anthony Lamb",
          "Kawhi Leonard",
          "Nassir Little",
          "Lauri Markkanen",
          "Naji Marshall",
          "Cody Martin",
          "Kenyon Martin Jr.",
          "Bennedict Mathurin",
          "Jalen McDaniels",
          "Jaden McDaniels",
          "Doug McDermott",
          "Khris Middleton",
          "Justin Minaya",
          "Josh Minott",
          "Chima Moneke",
          "Trey Murphy III",
          "Keegan Murray",
          "Svi Mykhailiuk",
          "Aaron Nesmith",
          "Jordan Nwora",
          "Chuma Okeke",
          "Isaac Okoro",
          "Eugene Omoruyi",
          "Royce O'Neale",
          "Cedi Osman",
          "Kelly Oubre Jr.",
          "Michael Porter Jr.",
          "Otto Porter Jr.",
          "Taurean Prince",
          "Cam Reddish",
          "Duncan Robinson",
          "Matt Ryan",
          "Jordan Schakel",
          "Xavier Sneed",
          "Max Strus",
          "Cole Swider",
          "Jae'Sean Tate",
          "Juan Toscano-Anderson",
          "Franz Wagner",
          "Ish Wainright",
          "Jabari Walker",
          "Yuta Watanabe",
          "Jack White",
          "Joe Wieskamp",
          "Andrew Wiggins",
          "Ziaire Williams",
          "Dylan Windler",
          "Justise Winslow"
         ],
         "legendgroup": "SF",
         "marker": {
          "color": "#00cc96"
         },
         "name": "SF",
         "notched": false,
         "offsetgroup": "SF",
         "orientation": "v",
         "showlegend": true,
         "type": "box",
         "x": [
          "SF",
          "SF",
          "SF",
          "SF",
          "SF",
          "SF",
          "SF",
          "SF",
          "SF",
          "SF",
          "SF",
          "SF",
          "SF",
          "SF",
          "SF",
          "SF",
          "SF",
          "SF",
          "SF",
          "SF",
          "SF",
          "SF",
          "SF",
          "SF",
          "SF",
          "SF",
          "SF",
          "SF",
          "SF",
          "SF",
          "SF",
          "SF",
          "SF",
          "SF",
          "SF",
          "SF",
          "SF",
          "SF",
          "SF",
          "SF",
          "SF",
          "SF",
          "SF",
          "SF",
          "SF",
          "SF",
          "SF",
          "SF",
          "SF",
          "SF",
          "SF",
          "SF",
          "SF",
          "SF",
          "SF",
          "SF",
          "SF",
          "SF",
          "SF",
          "SF",
          "SF",
          "SF",
          "SF",
          "SF",
          "SF",
          "SF",
          "SF",
          "SF",
          "SF",
          "SF",
          "SF",
          "SF",
          "SF",
          "SF",
          "SF",
          "SF",
          "SF",
          "SF",
          "SF",
          "SF",
          "SF",
          "SF",
          "SF",
          "SF",
          "SF",
          "SF",
          "SF",
          "SF",
          "SF",
          "SF",
          "SF",
          "SF",
          "SF",
          "SF",
          "SF",
          "SF",
          "SF",
          "SF"
         ],
         "x0": " ",
         "xaxis": "x",
         "y": [
          0.5,
          6.3,
          3.3,
          1.4,
          1.6,
          3.5,
          1.8,
          4.533333333333333,
          4.1,
          7.433333333333334,
          1.9,
          5.4,
          10.1,
          2.6,
          2.5,
          7.5,
          2.1,
          1,
          2.466666666666667,
          2.9,
          2.5,
          8.9,
          1.9,
          2.7,
          0.9333333333333332,
          2.2,
          3.4,
          1,
          0.9,
          3.633333333333333,
          5.5,
          5.9,
          1.7,
          0.4,
          1.7,
          1.3,
          5.7,
          0.9,
          2.3,
          9,
          0.3,
          2.3,
          8,
          2.2,
          1.8,
          3.6,
          1.9,
          0.3,
          8,
          3.9,
          2.4,
          8.6,
          2.5,
          8.7,
          3.2,
          2,
          5,
          5.3,
          3.3000000000000003,
          4.7,
          3.7,
          5.4,
          1.8,
          1.2,
          0.5,
          4.9,
          4.4,
          2.2,
          3.5,
          3.333333333333333,
          1.6,
          2.3,
          2.6,
          3,
          3.1,
          7.4,
          6.4,
          1.9,
          3.3,
          3.5,
          2.1,
          1.2,
          0.5,
          1.3,
          4.1,
          0.4,
          3.5,
          1.2333333333333334,
          6.8,
          1.4,
          1.5,
          2,
          0.5,
          0.3,
          6.8,
          2.3,
          0.7,
          2.8
         ],
         "y0": " ",
         "yaxis": "y"
        },
        {
         "alignmentgroup": "True",
         "hovertemplate": "<b>%{hovertext}</b><br><br>Position=%{x}<br>Field Goals=%{y}<extra></extra>",
         "hovertext": [
          "Santi Aldama",
          "Kyle Anderson",
          "Giannis Antetokounmpo",
          "Paolo Banchero",
          "Harrison Barnes",
          "Scottie Barnes",
          "Nicolas Batum",
          "Darius Bazley",
          "Dāvis Bertāns",
          "Bojan Bogdanović",
          "Bol Bol",
          "Chris Boucher",
          "Jarrell Brantley",
          "Greg Brown III",
          "Vlatko Čančar",
          "Brandon Clarke",
          "John Collins",
          "Xavier Cooks",
          "Robert Covington",
          "Darius Days",
          "Moussa Diabaté",
          "Mamadi Diakite",
          "Tari Eason",
          "Dorian Finney-Smith",
          "Michael Foster Jr.",
          "Wenyen Gabriel",
          "Usman Garuba",
          "Rudy Gay",
          "Anthony Gill",
          "Aaron Gordon",
          "Jerami Grant",
          "RaiQuan Gray",
          "Draymond Green",
          "JaMychal Green",
          "Jeff Green",
          "Rui Hachimura",
          "Tobias Harris",
          "Sam Hauser",
          "Juancho Hernangómez",
          "Jonathan Isaac",
          "LeBron James",
          "Alize Johnson",
          "Cameron Johnson",
          "James Johnson",
          "Nikola Jović",
          "Mfiondu Kabengele",
          "Nathan Knight",
          "Jonathan Kuminga",
          "Kyle Kuzma",
          "Jake LaRavia",
          "Isaiah Livers",
          "Kenneth Lofton Jr.",
          "Kevin Love",
          "Trey Lyles",
          "Caleb Martin",
          "Evan Mobley",
          "Isaiah Mobley",
          "Markieff Morris",
          "Marcus Morris",
          "Larry Nance Jr.",
          "Georges Niang",
          "Zeke Nnaji",
          "KZ Okpala",
          "Aleksej Pokusevski",
          "Bobby Portis",
          "Micah Potter",
          "Julius Randle",
          "Jeremiah Robinson-Earl",
          "Isaiah Roby",
          "David Roddy",
          "Luka Šamanić",
          "Dario Šarić",
          "Admiral Schofield",
          "Chris Silva",
          "Jalen Smith",
          "Jabari Smith Jr.",
          "Jeremy Sochan",
          "Lamar Stevens",
          "Jayson Tatum",
          "Terry Taylor",
          "JT Thor",
          "Xavier Tillman Sr.",
          "Isaiah Todd",
          "Obi Toppin",
          "Karl-Anthony Towns",
          "P.J. Tucker",
          "Jarred Vanderbilt",
          "Dean Wade",
          "P.J. Washington",
          "Trendon Watford",
          "Grant Williams",
          "Jaylin Williams",
          "Kenrich Williams",
          "Patrick Williams",
          "Zion Williamson",
          "Thaddeus Young"
         ],
         "legendgroup": "PF",
         "marker": {
          "color": "#ab63fa"
         },
         "name": "PF",
         "notched": false,
         "offsetgroup": "PF",
         "orientation": "v",
         "showlegend": true,
         "type": "box",
         "x": [
          "PF",
          "PF",
          "PF",
          "PF",
          "PF",
          "PF",
          "PF",
          "PF",
          "PF",
          "PF",
          "PF",
          "PF",
          "PF",
          "PF",
          "PF",
          "PF",
          "PF",
          "PF",
          "PF",
          "PF",
          "PF",
          "PF",
          "PF",
          "PF",
          "PF",
          "PF",
          "PF",
          "PF",
          "PF",
          "PF",
          "PF",
          "PF",
          "PF",
          "PF",
          "PF",
          "PF",
          "PF",
          "PF",
          "PF",
          "PF",
          "PF",
          "PF",
          "PF",
          "PF",
          "PF",
          "PF",
          "PF",
          "PF",
          "PF",
          "PF",
          "PF",
          "PF",
          "PF",
          "PF",
          "PF",
          "PF",
          "PF",
          "PF",
          "PF",
          "PF",
          "PF",
          "PF",
          "PF",
          "PF",
          "PF",
          "PF",
          "PF",
          "PF",
          "PF",
          "PF",
          "PF",
          "PF",
          "PF",
          "PF",
          "PF",
          "PF",
          "PF",
          "PF",
          "PF",
          "PF",
          "PF",
          "PF",
          "PF",
          "PF",
          "PF",
          "PF",
          "PF",
          "PF",
          "PF",
          "PF",
          "PF",
          "PF",
          "PF",
          "PF",
          "PF",
          "PF"
         ],
         "x0": " ",
         "xaxis": "x",
         "y": [
          3.2,
          3.7,
          11.2,
          6.7,
          4.6,
          6,
          2.1,
          1.8666666666666665,
          1.5,
          7.3,
          3.7,
          3.4,
          2,
          0.7,
          1.8,
          4.1,
          5.1,
          1.7,
          2.1,
          1.3,
          1.1,
          1.1,
          3.6,
          2.9333333333333336,
          0,
          2.3,
          1.1,
          1.9,
          1.2,
          6.3,
          6.9,
          6,
          3.4,
          2.4,
          2.9,
          4.533333333333333,
          5.7,
          2.3,
          1.1,
          2,
          11.1,
          0.8,
          5.233333333333333,
          1.2,
          1.9,
          0.5,
          1.2,
          3.9,
          8,
          1.1,
          2.3,
          2,
          2.6666666666666665,
          2.5,
          3.6,
          6.6,
          0.9,
          1.4333333333333331,
          4.2,
          2.9,
          2.8,
          2.1,
          0.5,
          3.2,
          5.7,
          1.4,
          8.5,
          2.6,
          1.6,
          2.6,
          3.7,
          2.3000000000000003,
          1.5,
          1,
          3.6,
          4.6,
          4.5,
          2.1,
          9.8,
          1.4333333333333331,
          1.4,
          3.1,
          0.5,
          2.8,
          7.3,
          1.3,
          3.1,
          1.7,
          5.9,
          2.9,
          2.7,
          2.1,
          3.4,
          3.8,
          9.8,
          2
         ],
         "y0": " ",
         "yaxis": "y"
        },
        {
         "alignmentgroup": "True",
         "hovertemplate": "<b>%{hovertext}</b><br><br>Position=%{x}<br>Field Goals=%{y}<extra></extra>",
         "hovertext": [
          "Precious Achiuwa",
          "Steven Adams",
          "Bam Adebayo",
          "Jarrett Allen",
          "Deandre Ayton",
          "Udoka Azubuike",
          "Marvin Bagley III",
          "Mo Bamba",
          "Charles Bassey",
          "Khem Birch",
          "Goga Bitadze",
          "Bismack Biyombo",
          "Tony Bradley",
          "Moses Brown",
          "Thomas Bryant",
          "John Butler",
          "Clint Capela",
          "Vernon Carey Jr.",
          "Wendell Carter Jr.",
          "Nic Claxton",
          "Zach Collins",
          "Chance Comanche",
          "Anthony Davis",
          "Dewayne Dedmon",
          "Gorgui Dieng",
          "Andre Drummond",
          "Jalen Duren",
          "Joel Embiid",
          "Drew Eubanks",
          "Bruno Fernando",
          "Daniel Gafford",
          "Luka Garza",
          "Taj Gibson",
          "Rudy Gobert",
          "Blake Griffin",
          "Montrezl Harrell",
          "Isaiah Hartenstein",
          "Udonis Haslem",
          "Jaxson Hayes",
          "Willy Hernangómez",
          "Richaun Holmes",
          "Al Horford",
          "Jay Huff",
          "Serge Ibaka",
          "Isaiah Jackson",
          "Jaren Jackson Jr.",
          "Nikola Jokić",
          "Damian Jones",
          "Kai Jones",
          "DeAndre Jordan",
          "Frank Kaminsky",
          "Walker Kessler",
          "Maxi Kleber",
          "Christian Koloko",
          "Luke Kornet",
          "Jock Landale",
          "Alex Len",
          "Meyers Leonard",
          "Kevon Looney",
          "Brook Lopez",
          "Robin Lopez",
          "Sandro Mamukelashvili",
          "Boban Marjanović",
          "JaVale McGee",
          "Chimezie Metu",
          "Mike Muscala",
          "Nerlens Noel",
          "Jusuf Nurkić",
          "Onyeka Okongwu",
          "Kelly Olynyk",
          "Mason Plumlee",
          "Jakob Poeltl",
          "Kristaps Porziņģis",
          "Dwight Powell",
          "Neemias Queta",
          "Paul Reed",
          "Naz Reid",
          "Nick Richards",
          "Mitchell Robinson",
          "Orlando Robinson",
          "Domantas Sabonis",
          "Olivier Sarr",
          "Alperen Şengün",
          "Day'Ron Sharpe",
          "Pascal Siakam",
          "Marko Simonovic",
          "Jericho Sims",
          "Isaiah Stewart",
          "Daniel Theis",
          "Myles Turner",
          "Jonas Valančiūnas",
          "Noah Vonleh",
          "Nikola Vučević",
          "Moritz Wagner",
          "Mark Williams",
          "Robert Williams",
          "James Wiseman",
          "Christian Wood",
          "Omer Yurtseven",
          "Cody Zeller",
          "Ivica Zubac"
         ],
         "legendgroup": "C",
         "marker": {
          "color": "#FFA15A"
         },
         "name": "C",
         "notched": false,
         "offsetgroup": "C",
         "orientation": "v",
         "showlegend": true,
         "type": "box",
         "x": [
          "C",
          "C",
          "C",
          "C",
          "C",
          "C",
          "C",
          "C",
          "C",
          "C",
          "C",
          "C",
          "C",
          "C",
          "C",
          "C",
          "C",
          "C",
          "C",
          "C",
          "C",
          "C",
          "C",
          "C",
          "C",
          "C",
          "C",
          "C",
          "C",
          "C",
          "C",
          "C",
          "C",
          "C",
          "C",
          "C",
          "C",
          "C",
          "C",
          "C",
          "C",
          "C",
          "C",
          "C",
          "C",
          "C",
          "C",
          "C",
          "C",
          "C",
          "C",
          "C",
          "C",
          "C",
          "C",
          "C",
          "C",
          "C",
          "C",
          "C",
          "C",
          "C",
          "C",
          "C",
          "C",
          "C",
          "C",
          "C",
          "C",
          "C",
          "C",
          "C",
          "C",
          "C",
          "C",
          "C",
          "C",
          "C",
          "C",
          "C",
          "C",
          "C",
          "C",
          "C",
          "C",
          "C",
          "C",
          "C",
          "C",
          "C",
          "C",
          "C",
          "C",
          "C",
          "C",
          "C",
          "C",
          "C",
          "C",
          "C",
          "C"
         ],
         "x0": " ",
         "xaxis": "x",
         "y": [
          3.6,
          3.7,
          8,
          5.9,
          7.8,
          1.6,
          4.8,
          2.1,
          2.5,
          1,
          1.8666666666666665,
          2,
          0.5,
          1.1666666666666667,
          3.5,
          0.9,
          5.4,
          0.2,
          5.6,
          5.4,
          4.5,
          3,
          9.7,
          1.9,
          1.5,
          2.5,
          3.9,
          11,
          2.7,
          1.4666666666666668,
          3.7,
          2.3,
          1.3,
          5.1,
          1.5,
          2.2,
          2.1,
          1.4,
          1.8,
          2.3,
          1.3,
          3.6,
          2.1,
          1.6,
          2.8,
          6.6,
          9.4,
          1.3333333333333333,
          1.5,
          2.3,
          0.8333333333333334,
          4,
          2.1,
          1.2,
          1.6,
          2.6,
          0.6,
          1.6,
          3,
          6.1,
          1.3,
          2.4,
          1.3,
          1.9,
          2,
          2.1,
          0.6666666666666666,
          5,
          4,
          4.1,
          3.9,
          5.466666666666666,
          7.8,
          2.6,
          1.2,
          1.8,
          4.6,
          3,
          3.2,
          1.5,
          7.3,
          1.7,
          5.9,
          1.9,
          8.9,
          0.3,
          1.6,
          3.9,
          3,
          6.5,
          5.6,
          0.5,
          7.3,
          3.5,
          3.7,
          3.6,
          4.133333333333334,
          5.9,
          1.8,
          2.5,
          4.3
         ],
         "y0": " ",
         "yaxis": "y"
        },
        {
         "alignmentgroup": "True",
         "hovertemplate": "<b>%{hovertext}</b><br><br>Position=%{x}<br>Field Goals=%{y}<extra></extra>",
         "hovertext": [
          "Kevin Durant",
          "Kevin Knox",
          "T.J. Warren"
         ],
         "legendgroup": "PF-SF",
         "marker": {
          "color": "#19d3f3"
         },
         "name": "PF-SF",
         "notched": false,
         "offsetgroup": "PF-SF",
         "orientation": "v",
         "showlegend": true,
         "type": "box",
         "x": [
          "PF-SF",
          "PF-SF",
          "PF-SF"
         ],
         "x0": " ",
         "xaxis": "x",
         "y": [
          9.966666666666669,
          2.533333333333333,
          2.966666666666667
         ],
         "y0": " ",
         "yaxis": "y"
        }
       ],
       "layout": {
        "boxmode": "overlay",
        "legend": {
         "title": {
          "text": "Position"
         },
         "tracegroupgap": 0
        },
        "template": {
         "data": {
          "bar": [
           {
            "error_x": {
             "color": "#2a3f5f"
            },
            "error_y": {
             "color": "#2a3f5f"
            },
            "marker": {
             "line": {
              "color": "#E5ECF6",
              "width": 0.5
             },
             "pattern": {
              "fillmode": "overlay",
              "size": 10,
              "solidity": 0.2
             }
            },
            "type": "bar"
           }
          ],
          "barpolar": [
           {
            "marker": {
             "line": {
              "color": "#E5ECF6",
              "width": 0.5
             },
             "pattern": {
              "fillmode": "overlay",
              "size": 10,
              "solidity": 0.2
             }
            },
            "type": "barpolar"
           }
          ],
          "carpet": [
           {
            "aaxis": {
             "endlinecolor": "#2a3f5f",
             "gridcolor": "white",
             "linecolor": "white",
             "minorgridcolor": "white",
             "startlinecolor": "#2a3f5f"
            },
            "baxis": {
             "endlinecolor": "#2a3f5f",
             "gridcolor": "white",
             "linecolor": "white",
             "minorgridcolor": "white",
             "startlinecolor": "#2a3f5f"
            },
            "type": "carpet"
           }
          ],
          "choropleth": [
           {
            "colorbar": {
             "outlinewidth": 0,
             "ticks": ""
            },
            "type": "choropleth"
           }
          ],
          "contour": [
           {
            "colorbar": {
             "outlinewidth": 0,
             "ticks": ""
            },
            "colorscale": [
             [
              0,
              "#0d0887"
             ],
             [
              0.1111111111111111,
              "#46039f"
             ],
             [
              0.2222222222222222,
              "#7201a8"
             ],
             [
              0.3333333333333333,
              "#9c179e"
             ],
             [
              0.4444444444444444,
              "#bd3786"
             ],
             [
              0.5555555555555556,
              "#d8576b"
             ],
             [
              0.6666666666666666,
              "#ed7953"
             ],
             [
              0.7777777777777778,
              "#fb9f3a"
             ],
             [
              0.8888888888888888,
              "#fdca26"
             ],
             [
              1,
              "#f0f921"
             ]
            ],
            "type": "contour"
           }
          ],
          "contourcarpet": [
           {
            "colorbar": {
             "outlinewidth": 0,
             "ticks": ""
            },
            "type": "contourcarpet"
           }
          ],
          "heatmap": [
           {
            "colorbar": {
             "outlinewidth": 0,
             "ticks": ""
            },
            "colorscale": [
             [
              0,
              "#0d0887"
             ],
             [
              0.1111111111111111,
              "#46039f"
             ],
             [
              0.2222222222222222,
              "#7201a8"
             ],
             [
              0.3333333333333333,
              "#9c179e"
             ],
             [
              0.4444444444444444,
              "#bd3786"
             ],
             [
              0.5555555555555556,
              "#d8576b"
             ],
             [
              0.6666666666666666,
              "#ed7953"
             ],
             [
              0.7777777777777778,
              "#fb9f3a"
             ],
             [
              0.8888888888888888,
              "#fdca26"
             ],
             [
              1,
              "#f0f921"
             ]
            ],
            "type": "heatmap"
           }
          ],
          "heatmapgl": [
           {
            "colorbar": {
             "outlinewidth": 0,
             "ticks": ""
            },
            "colorscale": [
             [
              0,
              "#0d0887"
             ],
             [
              0.1111111111111111,
              "#46039f"
             ],
             [
              0.2222222222222222,
              "#7201a8"
             ],
             [
              0.3333333333333333,
              "#9c179e"
             ],
             [
              0.4444444444444444,
              "#bd3786"
             ],
             [
              0.5555555555555556,
              "#d8576b"
             ],
             [
              0.6666666666666666,
              "#ed7953"
             ],
             [
              0.7777777777777778,
              "#fb9f3a"
             ],
             [
              0.8888888888888888,
              "#fdca26"
             ],
             [
              1,
              "#f0f921"
             ]
            ],
            "type": "heatmapgl"
           }
          ],
          "histogram": [
           {
            "marker": {
             "pattern": {
              "fillmode": "overlay",
              "size": 10,
              "solidity": 0.2
             }
            },
            "type": "histogram"
           }
          ],
          "histogram2d": [
           {
            "colorbar": {
             "outlinewidth": 0,
             "ticks": ""
            },
            "colorscale": [
             [
              0,
              "#0d0887"
             ],
             [
              0.1111111111111111,
              "#46039f"
             ],
             [
              0.2222222222222222,
              "#7201a8"
             ],
             [
              0.3333333333333333,
              "#9c179e"
             ],
             [
              0.4444444444444444,
              "#bd3786"
             ],
             [
              0.5555555555555556,
              "#d8576b"
             ],
             [
              0.6666666666666666,
              "#ed7953"
             ],
             [
              0.7777777777777778,
              "#fb9f3a"
             ],
             [
              0.8888888888888888,
              "#fdca26"
             ],
             [
              1,
              "#f0f921"
             ]
            ],
            "type": "histogram2d"
           }
          ],
          "histogram2dcontour": [
           {
            "colorbar": {
             "outlinewidth": 0,
             "ticks": ""
            },
            "colorscale": [
             [
              0,
              "#0d0887"
             ],
             [
              0.1111111111111111,
              "#46039f"
             ],
             [
              0.2222222222222222,
              "#7201a8"
             ],
             [
              0.3333333333333333,
              "#9c179e"
             ],
             [
              0.4444444444444444,
              "#bd3786"
             ],
             [
              0.5555555555555556,
              "#d8576b"
             ],
             [
              0.6666666666666666,
              "#ed7953"
             ],
             [
              0.7777777777777778,
              "#fb9f3a"
             ],
             [
              0.8888888888888888,
              "#fdca26"
             ],
             [
              1,
              "#f0f921"
             ]
            ],
            "type": "histogram2dcontour"
           }
          ],
          "mesh3d": [
           {
            "colorbar": {
             "outlinewidth": 0,
             "ticks": ""
            },
            "type": "mesh3d"
           }
          ],
          "parcoords": [
           {
            "line": {
             "colorbar": {
              "outlinewidth": 0,
              "ticks": ""
             }
            },
            "type": "parcoords"
           }
          ],
          "pie": [
           {
            "automargin": true,
            "type": "pie"
           }
          ],
          "scatter": [
           {
            "fillpattern": {
             "fillmode": "overlay",
             "size": 10,
             "solidity": 0.2
            },
            "type": "scatter"
           }
          ],
          "scatter3d": [
           {
            "line": {
             "colorbar": {
              "outlinewidth": 0,
              "ticks": ""
             }
            },
            "marker": {
             "colorbar": {
              "outlinewidth": 0,
              "ticks": ""
             }
            },
            "type": "scatter3d"
           }
          ],
          "scattercarpet": [
           {
            "marker": {
             "colorbar": {
              "outlinewidth": 0,
              "ticks": ""
             }
            },
            "type": "scattercarpet"
           }
          ],
          "scattergeo": [
           {
            "marker": {
             "colorbar": {
              "outlinewidth": 0,
              "ticks": ""
             }
            },
            "type": "scattergeo"
           }
          ],
          "scattergl": [
           {
            "marker": {
             "colorbar": {
              "outlinewidth": 0,
              "ticks": ""
             }
            },
            "type": "scattergl"
           }
          ],
          "scattermapbox": [
           {
            "marker": {
             "colorbar": {
              "outlinewidth": 0,
              "ticks": ""
             }
            },
            "type": "scattermapbox"
           }
          ],
          "scatterpolar": [
           {
            "marker": {
             "colorbar": {
              "outlinewidth": 0,
              "ticks": ""
             }
            },
            "type": "scatterpolar"
           }
          ],
          "scatterpolargl": [
           {
            "marker": {
             "colorbar": {
              "outlinewidth": 0,
              "ticks": ""
             }
            },
            "type": "scatterpolargl"
           }
          ],
          "scatterternary": [
           {
            "marker": {
             "colorbar": {
              "outlinewidth": 0,
              "ticks": ""
             }
            },
            "type": "scatterternary"
           }
          ],
          "surface": [
           {
            "colorbar": {
             "outlinewidth": 0,
             "ticks": ""
            },
            "colorscale": [
             [
              0,
              "#0d0887"
             ],
             [
              0.1111111111111111,
              "#46039f"
             ],
             [
              0.2222222222222222,
              "#7201a8"
             ],
             [
              0.3333333333333333,
              "#9c179e"
             ],
             [
              0.4444444444444444,
              "#bd3786"
             ],
             [
              0.5555555555555556,
              "#d8576b"
             ],
             [
              0.6666666666666666,
              "#ed7953"
             ],
             [
              0.7777777777777778,
              "#fb9f3a"
             ],
             [
              0.8888888888888888,
              "#fdca26"
             ],
             [
              1,
              "#f0f921"
             ]
            ],
            "type": "surface"
           }
          ],
          "table": [
           {
            "cells": {
             "fill": {
              "color": "#EBF0F8"
             },
             "line": {
              "color": "white"
             }
            },
            "header": {
             "fill": {
              "color": "#C8D4E3"
             },
             "line": {
              "color": "white"
             }
            },
            "type": "table"
           }
          ]
         },
         "layout": {
          "annotationdefaults": {
           "arrowcolor": "#2a3f5f",
           "arrowhead": 0,
           "arrowwidth": 1
          },
          "autotypenumbers": "strict",
          "coloraxis": {
           "colorbar": {
            "outlinewidth": 0,
            "ticks": ""
           }
          },
          "colorscale": {
           "diverging": [
            [
             0,
             "#8e0152"
            ],
            [
             0.1,
             "#c51b7d"
            ],
            [
             0.2,
             "#de77ae"
            ],
            [
             0.3,
             "#f1b6da"
            ],
            [
             0.4,
             "#fde0ef"
            ],
            [
             0.5,
             "#f7f7f7"
            ],
            [
             0.6,
             "#e6f5d0"
            ],
            [
             0.7,
             "#b8e186"
            ],
            [
             0.8,
             "#7fbc41"
            ],
            [
             0.9,
             "#4d9221"
            ],
            [
             1,
             "#276419"
            ]
           ],
           "sequential": [
            [
             0,
             "#0d0887"
            ],
            [
             0.1111111111111111,
             "#46039f"
            ],
            [
             0.2222222222222222,
             "#7201a8"
            ],
            [
             0.3333333333333333,
             "#9c179e"
            ],
            [
             0.4444444444444444,
             "#bd3786"
            ],
            [
             0.5555555555555556,
             "#d8576b"
            ],
            [
             0.6666666666666666,
             "#ed7953"
            ],
            [
             0.7777777777777778,
             "#fb9f3a"
            ],
            [
             0.8888888888888888,
             "#fdca26"
            ],
            [
             1,
             "#f0f921"
            ]
           ],
           "sequentialminus": [
            [
             0,
             "#0d0887"
            ],
            [
             0.1111111111111111,
             "#46039f"
            ],
            [
             0.2222222222222222,
             "#7201a8"
            ],
            [
             0.3333333333333333,
             "#9c179e"
            ],
            [
             0.4444444444444444,
             "#bd3786"
            ],
            [
             0.5555555555555556,
             "#d8576b"
            ],
            [
             0.6666666666666666,
             "#ed7953"
            ],
            [
             0.7777777777777778,
             "#fb9f3a"
            ],
            [
             0.8888888888888888,
             "#fdca26"
            ],
            [
             1,
             "#f0f921"
            ]
           ]
          },
          "colorway": [
           "#636efa",
           "#EF553B",
           "#00cc96",
           "#ab63fa",
           "#FFA15A",
           "#19d3f3",
           "#FF6692",
           "#B6E880",
           "#FF97FF",
           "#FECB52"
          ],
          "font": {
           "color": "#2a3f5f"
          },
          "geo": {
           "bgcolor": "white",
           "lakecolor": "white",
           "landcolor": "#E5ECF6",
           "showlakes": true,
           "showland": true,
           "subunitcolor": "white"
          },
          "hoverlabel": {
           "align": "left"
          },
          "hovermode": "closest",
          "mapbox": {
           "style": "light"
          },
          "paper_bgcolor": "white",
          "plot_bgcolor": "#E5ECF6",
          "polar": {
           "angularaxis": {
            "gridcolor": "white",
            "linecolor": "white",
            "ticks": ""
           },
           "bgcolor": "#E5ECF6",
           "radialaxis": {
            "gridcolor": "white",
            "linecolor": "white",
            "ticks": ""
           }
          },
          "scene": {
           "xaxis": {
            "backgroundcolor": "#E5ECF6",
            "gridcolor": "white",
            "gridwidth": 2,
            "linecolor": "white",
            "showbackground": true,
            "ticks": "",
            "zerolinecolor": "white"
           },
           "yaxis": {
            "backgroundcolor": "#E5ECF6",
            "gridcolor": "white",
            "gridwidth": 2,
            "linecolor": "white",
            "showbackground": true,
            "ticks": "",
            "zerolinecolor": "white"
           },
           "zaxis": {
            "backgroundcolor": "#E5ECF6",
            "gridcolor": "white",
            "gridwidth": 2,
            "linecolor": "white",
            "showbackground": true,
            "ticks": "",
            "zerolinecolor": "white"
           }
          },
          "shapedefaults": {
           "line": {
            "color": "#2a3f5f"
           }
          },
          "ternary": {
           "aaxis": {
            "gridcolor": "white",
            "linecolor": "white",
            "ticks": ""
           },
           "baxis": {
            "gridcolor": "white",
            "linecolor": "white",
            "ticks": ""
           },
           "bgcolor": "#E5ECF6",
           "caxis": {
            "gridcolor": "white",
            "linecolor": "white",
            "ticks": ""
           }
          },
          "title": {
           "x": 0.05
          },
          "xaxis": {
           "automargin": true,
           "gridcolor": "white",
           "linecolor": "white",
           "ticks": "",
           "title": {
            "standoff": 15
           },
           "zerolinecolor": "white",
           "zerolinewidth": 2
          },
          "yaxis": {
           "automargin": true,
           "gridcolor": "white",
           "linecolor": "white",
           "ticks": "",
           "title": {
            "standoff": 15
           },
           "zerolinecolor": "white",
           "zerolinewidth": 2
          }
         }
        },
        "title": {
         "text": "Field Goals per Game by Position"
        },
        "xaxis": {
         "anchor": "y",
         "categoryarray": [
          "PG",
          "SG",
          "SF",
          "PF",
          "C",
          "PF-SF",
          "SF-SG",
          "SG-PG"
         ],
         "categoryorder": "array",
         "domain": [
          0,
          1
         ],
         "title": {
          "text": "Position"
         }
        },
        "yaxis": {
         "anchor": "x",
         "domain": [
          0,
          1
         ],
         "title": {
          "text": "Field Goals"
         }
        }
       }
      }
     },
     "metadata": {},
     "output_type": "display_data"
    }
   ],
   "source": [
    "px.box(data_frame = df06,\n",
    "       x = 'Pos',\n",
    "       y = 'FG',\n",
    "       color = 'Pos',\n",
    "       hover_name = 'Player',\n",
    "       title = 'Field Goals per Game by Position',\n",
    "       labels = {'FG':'Field Goals', 'Pos': 'Position'},\n",
    "       category_orders = {'Pos':('PG', 'SG', 'SF', 'PF', 'C', 'PF-SF', 'SF-SG', 'SG-PG')})"
   ]
  },
  {
   "cell_type": "markdown",
   "metadata": {},
   "source": [
    "### How are distributed the Personal Fouls Per Game according to the Positions assigned to each Player?"
   ]
  },
  {
   "cell_type": "code",
   "execution_count": 484,
   "metadata": {},
   "outputs": [
    {
     "data": {
      "application/vnd.plotly.v1+json": {
       "config": {
        "plotlyServerURL": "https://plot.ly"
       },
       "data": [
        {
         "alignmentgroup": "True",
         "hovertemplate": "<b>%{hovertext}</b><br><br>Position=%{x}<br>Personal Fouls=%{y}<extra></extra>",
         "hovertext": [
          "Jose Alvarado",
          "Cole Anthony",
          "Ryan Arcidiacono",
          "LaMelo Ball",
          "Dalano Banton",
          "Patrick Beverley",
          "Buddy Boeheim",
          "Jamaree Bouyea",
          "Malcolm Brogdon",
          "Jalen Brunson",
          "Facundo Campazzo",
          "Jevon Carter",
          "Michael Carter-Williams",
          "Alex Caruso",
          "Kennedy Chandler",
          "Mike Conley",
          "Cade Cunningham",
          "Stephen Curry",
          "Dyson Daniels",
          "JD Davison",
          "Matthew Dellavedova",
          "Spencer Dinwiddie",
          "Luka Dončić",
          "Devon Dotson",
          "Jeff Dowtin",
          "Goran Dragić",
          "Kris Dunn",
          "Malachi Flynn",
          "Trent Forrest",
          "De'Aaron Fox",
          "Markelle Fultz",
          "Darius Garland",
          "Shai Gilgeous-Alexander",
          "Jacob Gilyard",
          "Jordan Goodwin",
          "Devonte' Graham",
          "Tyrese Haliburton",
          "R.J. Hampton",
          "James Harden",
          "Killian Hayes",
          "George Hill",
          "Aaron Holiday",
          "Jrue Holiday",
          "Trevor Hudgins",
          "Bones Hyland",
          "Kyrie Irving",
          "Frank Jackson",
          "Quenton Jackson",
          "Reggie Jackson",
          "Carlik Jones",
          "Tre Jones",
          "Tyus Jones",
          "Cory Joseph",
          "Vit Krejci",
          "Saben Lee",
          "Kira Lewis Jr.",
          "Damian Lillard",
          "Kyle Lowry",
          "Théo Maledon",
          "Tre Mann",
          "Miles McBride",
          "T.J. McConnell",
          "Jordan McLaughlin",
          "De'Anthony Melton",
          "Patty Mills",
          "Davion Mitchell",
          "Ja Morant",
          "Monte Morris",
          "Jamal Murray",
          "Raul Neto",
          "Daishen Nix",
          "Frank Ntilikina",
          "Chris Paul",
          "Cameron Payne",
          "Gary Payton II",
          "Scotty Pippen Jr.",
          "Jordan Poole",
          "Kevin Porter Jr.",
          "Jason Preston",
          "Payton Pritchard",
          "Immanuel Quickley",
          "Ryan Rollins",
          "Derrick Rose",
          "Ricky Rubio",
          "D'Angelo Russell",
          "Dennis Schröder",
          "Ben Simmons",
          "Kobi Simmons",
          "Marcus Smart",
          "Dennis Smith Jr.",
          "Ish Smith",
          "Jalen Suggs",
          "Fred VanVleet",
          "Gabe Vincent",
          "Kemba Walker",
          "John Wall",
          "TyTy Washington Jr.",
          "Russell Westbrook",
          "Lindell Wigginton",
          "Delon Wright",
          "McKinley Wright IV",
          "Trae Young"
         ],
         "legendgroup": "PG",
         "marker": {
          "color": "#636efa"
         },
         "name": "PG",
         "notched": false,
         "offsetgroup": "PG",
         "orientation": "v",
         "showlegend": true,
         "type": "box",
         "x": [
          "PG",
          "PG",
          "PG",
          "PG",
          "PG",
          "PG",
          "PG",
          "PG",
          "PG",
          "PG",
          "PG",
          "PG",
          "PG",
          "PG",
          "PG",
          "PG",
          "PG",
          "PG",
          "PG",
          "PG",
          "PG",
          "PG",
          "PG",
          "PG",
          "PG",
          "PG",
          "PG",
          "PG",
          "PG",
          "PG",
          "PG",
          "PG",
          "PG",
          "PG",
          "PG",
          "PG",
          "PG",
          "PG",
          "PG",
          "PG",
          "PG",
          "PG",
          "PG",
          "PG",
          "PG",
          "PG",
          "PG",
          "PG",
          "PG",
          "PG",
          "PG",
          "PG",
          "PG",
          "PG",
          "PG",
          "PG",
          "PG",
          "PG",
          "PG",
          "PG",
          "PG",
          "PG",
          "PG",
          "PG",
          "PG",
          "PG",
          "PG",
          "PG",
          "PG",
          "PG",
          "PG",
          "PG",
          "PG",
          "PG",
          "PG",
          "PG",
          "PG",
          "PG",
          "PG",
          "PG",
          "PG",
          "PG",
          "PG",
          "PG",
          "PG",
          "PG",
          "PG",
          "PG",
          "PG",
          "PG",
          "PG",
          "PG",
          "PG",
          "PG",
          "PG",
          "PG",
          "PG",
          "PG",
          "PG",
          "PG",
          "PG",
          "PG"
         ],
         "x0": " ",
         "xaxis": "x",
         "y": [
          2,
          2.6,
          0.9333333333333332,
          3.3,
          1.1,
          2.833333333333333,
          0.6,
          1.1666666666666667,
          1.6,
          2.2,
          0.4,
          2,
          1.3,
          2.4,
          0.4,
          2.066666666666667,
          2.8,
          2.1,
          1.7,
          0.4,
          0.6,
          2.3666666666666667,
          2.5,
          1.5,
          0.5,
          0.8666666666666667,
          2.6,
          1.2,
          0.7,
          2.4,
          2.2,
          2.1,
          2.8,
          3,
          1.5,
          1.2,
          1.2,
          1.1,
          1.9,
          2.9,
          1.2333333333333334,
          1.3,
          1.7,
          0.2,
          1.8,
          2.766666666666667,
          0,
          1.1,
          1.6333333333333335,
          0.3,
          1.4,
          0.4,
          1.4,
          0.6,
          1.0333333333333334,
          1,
          1.9,
          2.6,
          1.4,
          1.5,
          0.9,
          1.4,
          0.7,
          2.5,
          0.8,
          1.4,
          1.6,
          1.2,
          1.6,
          1,
          1,
          1.4,
          2.1,
          1.8,
          1.9666666666666668,
          0.5,
          2.6,
          2.6,
          0.5,
          0.8,
          2,
          0.8,
          0.7,
          1.5,
          1.8666666666666665,
          2.2,
          3.3,
          0,
          2.8,
          2.3,
          0.8,
          2.3,
          2.8,
          2.3,
          1.2,
          1.7,
          0.9,
          2.1666666666666665,
          1,
          1.2,
          0.9,
          1.4
         ],
         "y0": " ",
         "yaxis": "y"
        },
        {
         "alignmentgroup": "True",
         "hovertemplate": "<b>%{hovertext}</b><br><br>Position=%{x}<br>Personal Fouls=%{y}<extra></extra>",
         "hovertext": [
          "Ochai Agbaji",
          "Nickeil Alexander-Walker",
          "Grayson Allen",
          "Desmond Bane",
          "RJ Barrett",
          "Will Barton",
          "Bradley Beal",
          "Malik Beasley",
          "Bogdan Bogdanović",
          "Leandro Bolmaro",
          "Devin Booker",
          "Brandon Boston Jr.",
          "James Bouknight",
          "Christian Braun",
          "Bruce Brown",
          "Kendall Brown",
          "Sterling Brown",
          "Alec Burks",
          "Deonte Burton",
          "Jared Butler",
          "Kentavious Caldwell-Pope",
          "Josh Christopher",
          "Max Christie",
          "Jordan Clarkson",
          "Amir Coffey",
          "Pat Connaughton",
          "Jarrett Culver",
          "Seth Curry",
          "Johnny Davis",
          "Terence Davis",
          "Hamidou Diallo",
          "Donte DiVincenzo",
          "Tyler Dorsey",
          "Luguentz Dort",
          "Ayo Dosunmu",
          "PJ Dozier",
          "David Duke Jr.",
          "Anthony Edwards",
          "Keon Ellis",
          "Bryn Forbes",
          "Evan Fournier",
          "Paul George",
          "Josh Giddey",
          "Eric Gordon",
          "A.J. Green",
          "Danny Green",
          "Javonte Green",
          "Jalen Green",
          "Josh Green",
          "Quentin Grimes",
          "Tim Hardaway Jr.",
          "Jaden Hardy",
          "Gary Harris",
          "Joe Harris",
          "Kevon Harris",
          "Shaquille Harrison",
          "Tyler Herro",
          "Justin Holiday",
          "Talen Horton-Tucker",
          "Kevin Huerter",
          "Jaden Ivey",
          "Ty Jerome",
          "Isaiah Joe",
          "Keon Johnson",
          "Trevor Keels",
          "Luke Kennard",
          "John Konchar",
          "Furkan Korkmaz",
          "Romeo Langford",
          "Zach LaVine",
          "A.J. Lawson",
          "Damion Lee",
          "Caris LeVert",
          "Terance Mann",
          "Tyrese Martin",
          "Garrison Mathews",
          "Wesley Matthews",
          "Tyrese Maxey",
          "Skylar Mays",
          "Mac McClung",
          "CJ McCollum",
          "Bryce McGowens",
          "Rodney McGruder",
          "Sam Merrill",
          "Shake Milton",
          "Donovan Mitchell",
          "Malik Monk",
          "Moses Moody",
          "Xavier Moon",
          "Wendell Moore Jr.",
          "Dejounte Murray",
          "Andrew Nembhard",
          "Jaylen Nowell",
          "Kendrick Nunn",
          "Josh Okogie",
          "Victor Oladipo",
          "Theo Pinson",
          "Norman Powell",
          "Joshua Primo",
          "Trevelin Queen",
          "Lester Quinones",
          "Austin Reaves",
          "Davon Reed",
          "Jared Rhoden",
          "Josh Richardson",
          "Austin Rivers",
          "Terrence Ross",
          "Terry Rozier",
          "Jay Scrubb",
          "Dereon Seabron",
          "Collin Sexton",
          "Landry Shamet",
          "Shaedon Sharpe",
          "Anfernee Simons",
          "Dru Smith",
          "Jaden Springer",
          "Edmond Sumner",
          "Garrett Temple",
          "Dalen Terry",
          "Cam Thomas",
          "Klay Thompson",
          "Matisse Thybulle",
          "Gary Trent Jr.",
          "Stanley Umude",
          "Devin Vassell",
          "Lonnie Walker IV",
          "Duane Washington Jr.",
          "Lindy Waters III",
          "Peyton Watson",
          "Blake Wesley",
          "Coby White",
          "Derrick White",
          "Aaron Wiggins",
          "Alondes Williams",
          "Donovan Williams",
          "Jalen Williams",
          "Jeenathan Williams",
          "Vince Williams Jr.",
          "Gabe York"
         ],
         "legendgroup": "SG",
         "marker": {
          "color": "#EF553B"
         },
         "name": "SG",
         "notched": false,
         "offsetgroup": "SG",
         "orientation": "v",
         "showlegend": true,
         "type": "box",
         "x": [
          "SG",
          "SG",
          "SG",
          "SG",
          "SG",
          "SG",
          "SG",
          "SG",
          "SG",
          "SG",
          "SG",
          "SG",
          "SG",
          "SG",
          "SG",
          "SG",
          "SG",
          "SG",
          "SG",
          "SG",
          "SG",
          "SG",
          "SG",
          "SG",
          "SG",
          "SG",
          "SG",
          "SG",
          "SG",
          "SG",
          "SG",
          "SG",
          "SG",
          "SG",
          "SG",
          "SG",
          "SG",
          "SG",
          "SG",
          "SG",
          "SG",
          "SG",
          "SG",
          "SG",
          "SG",
          "SG",
          "SG",
          "SG",
          "SG",
          "SG",
          "SG",
          "SG",
          "SG",
          "SG",
          "SG",
          "SG",
          "SG",
          "SG",
          "SG",
          "SG",
          "SG",
          "SG",
          "SG",
          "SG",
          "SG",
          "SG",
          "SG",
          "SG",
          "SG",
          "SG",
          "SG",
          "SG",
          "SG",
          "SG",
          "SG",
          "SG",
          "SG",
          "SG",
          "SG",
          "SG",
          "SG",
          "SG",
          "SG",
          "SG",
          "SG",
          "SG",
          "SG",
          "SG",
          "SG",
          "SG",
          "SG",
          "SG",
          "SG",
          "SG",
          "SG",
          "SG",
          "SG",
          "SG",
          "SG",
          "SG",
          "SG",
          "SG",
          "SG",
          "SG",
          "SG",
          "SG",
          "SG",
          "SG",
          "SG",
          "SG",
          "SG",
          "SG",
          "SG",
          "SG",
          "SG",
          "SG",
          "SG",
          "SG",
          "SG",
          "SG",
          "SG",
          "SG",
          "SG",
          "SG",
          "SG",
          "SG",
          "SG",
          "SG",
          "SG",
          "SG",
          "SG",
          "SG",
          "SG",
          "SG",
          "SG",
          "SG",
          "SG",
          "SG",
          "SG"
         ],
         "x0": " ",
         "xaxis": "x",
         "y": [
          1.7,
          1.4666666666666668,
          1.6,
          2.6,
          2.5,
          1.0333333333333334,
          2.1,
          1.3,
          1.6,
          0.7,
          3,
          1,
          1.4,
          1.3,
          2.4,
          1.5,
          1,
          1.9,
          0,
          0.8,
          1.9,
          0.9,
          0.8,
          2,
          1,
          1.1,
          1.4,
          1.6,
          1.7,
          1.6,
          2.2,
          1.8,
          0,
          3.3,
          2.3,
          0.4,
          1.3,
          2.4,
          0.6,
          0.9,
          1.7,
          2.8,
          1.9,
          1.2,
          0.9,
          1.6,
          1.6,
          1.7,
          2.6,
          2.5,
          1.7,
          1.3,
          1.9,
          1.9,
          1.6,
          2.4,
          1.5,
          1.5,
          1.7,
          2.4,
          3.3,
          1.4,
          1.4,
          1.1,
          0,
          1.4,
          1.6,
          0.5,
          1.6,
          2.1,
          0.7999999999999999,
          1.6,
          2.3,
          1.8,
          0.1,
          1,
          1.4,
          2.2,
          1.8,
          1.5,
          2,
          1,
          1.2,
          0.6,
          1.6,
          2.5,
          1.6,
          0.9,
          0.5,
          0.4,
          1.4,
          2.4,
          1.6,
          0.9333333333333332,
          1.6,
          2.4,
          0.9,
          2.1,
          2,
          0.6,
          0,
          1.7,
          0.7666666666666666,
          1.6,
          1.8333333333333333,
          1.5,
          1.6333333333333335,
          1.9,
          1,
          0.2,
          2.3,
          1.5,
          1.7,
          2.3,
          1.6,
          0.9,
          1.6,
          0.6,
          0.6,
          1,
          1.9,
          1.7000000000000002,
          1.5,
          0,
          1.5,
          1.3,
          0.7,
          1,
          0.6,
          1.8,
          1.6,
          2.2,
          1.6,
          1,
          0,
          2.5,
          2.6,
          0.8,
          1.7
         ],
         "y0": " ",
         "yaxis": "y"
        },
        {
         "alignmentgroup": "True",
         "hovertemplate": "<b>%{hovertext}</b><br><br>Position=%{x}<br>Personal Fouls=%{y}<extra></extra>",
         "hovertext": [
          "Thanasis Antetokounmpo",
          "OG Anunoby",
          "Deni Avdija",
          "Patrick Baldwin Jr.",
          "Dominick Barlow",
          "Keita Bates-Diop",
          "MarJon Beauchamp",
          "Saddiq Bey",
          "Malaki Branham",
          "Mikal Bridges",
          "Oshae Brissett",
          "Dillon Brooks",
          "Jaylen Brown",
          "Troy Brown Jr.",
          "Reggie Bullock",
          "Jimmy Butler",
          "Jamal Cain",
          "Justin Champagnie",
          "Julian Champagnie",
          "Torrey Craig",
          "Jae Crowder",
          "DeMar DeRozan",
          "Ousmane Dieng",
          "Chris Duarte",
          "Kessler Edwards",
          "Simone Fontecchio",
          "AJ Griffin",
          "Jordan Hall",
          "Ron Harper Jr.",
          "Josh Hart",
          "Gordon Hayward",
          "Buddy Hield",
          "Haywood Highsmith",
          "Malcolm Hill",
          "Danuel House Jr.",
          "Caleb Houstan",
          "De'Andre Hunter",
          "Andre Iguodala",
          "Joe Ingles",
          "Brandon Ingram",
          "Justin Jackson",
          "Jalen Johnson",
          "Keldon Johnson",
          "Stanley Johnson",
          "Derrick Jones Jr.",
          "Herbert Jones",
          "Johnny Juzang",
          "Braxton Key",
          "Louis King",
          "Corey Kispert",
          "Anthony Lamb",
          "Kawhi Leonard",
          "Nassir Little",
          "Lauri Markkanen",
          "Naji Marshall",
          "Cody Martin",
          "Kenyon Martin Jr.",
          "Bennedict Mathurin",
          "Jalen McDaniels",
          "Jaden McDaniels",
          "Doug McDermott",
          "Khris Middleton",
          "Justin Minaya",
          "Josh Minott",
          "Chima Moneke",
          "Trey Murphy III",
          "Keegan Murray",
          "Svi Mykhailiuk",
          "Aaron Nesmith",
          "Jordan Nwora",
          "Chuma Okeke",
          "Isaac Okoro",
          "Eugene Omoruyi",
          "Royce O'Neale",
          "Cedi Osman",
          "Kelly Oubre Jr.",
          "Michael Porter Jr.",
          "Otto Porter Jr.",
          "Taurean Prince",
          "Cam Reddish",
          "Duncan Robinson",
          "Matt Ryan",
          "Jordan Schakel",
          "Xavier Sneed",
          "Max Strus",
          "Cole Swider",
          "Jae'Sean Tate",
          "Juan Toscano-Anderson",
          "Franz Wagner",
          "Ish Wainright",
          "Jabari Walker",
          "Yuta Watanabe",
          "Jack White",
          "Joe Wieskamp",
          "Andrew Wiggins",
          "Ziaire Williams",
          "Dylan Windler",
          "Justise Winslow"
         ],
         "legendgroup": "SF",
         "marker": {
          "color": "#00cc96"
         },
         "name": "SF",
         "notched": false,
         "offsetgroup": "SF",
         "orientation": "v",
         "showlegend": true,
         "type": "box",
         "x": [
          "SF",
          "SF",
          "SF",
          "SF",
          "SF",
          "SF",
          "SF",
          "SF",
          "SF",
          "SF",
          "SF",
          "SF",
          "SF",
          "SF",
          "SF",
          "SF",
          "SF",
          "SF",
          "SF",
          "SF",
          "SF",
          "SF",
          "SF",
          "SF",
          "SF",
          "SF",
          "SF",
          "SF",
          "SF",
          "SF",
          "SF",
          "SF",
          "SF",
          "SF",
          "SF",
          "SF",
          "SF",
          "SF",
          "SF",
          "SF",
          "SF",
          "SF",
          "SF",
          "SF",
          "SF",
          "SF",
          "SF",
          "SF",
          "SF",
          "SF",
          "SF",
          "SF",
          "SF",
          "SF",
          "SF",
          "SF",
          "SF",
          "SF",
          "SF",
          "SF",
          "SF",
          "SF",
          "SF",
          "SF",
          "SF",
          "SF",
          "SF",
          "SF",
          "SF",
          "SF",
          "SF",
          "SF",
          "SF",
          "SF",
          "SF",
          "SF",
          "SF",
          "SF",
          "SF",
          "SF",
          "SF",
          "SF",
          "SF",
          "SF",
          "SF",
          "SF",
          "SF",
          "SF",
          "SF",
          "SF",
          "SF",
          "SF",
          "SF",
          "SF",
          "SF",
          "SF",
          "SF",
          "SF"
         ],
         "x0": " ",
         "xaxis": "x",
         "y": [
          0.6,
          3,
          2.8,
          0.5,
          2,
          0.9,
          1.4,
          1.6,
          1.7,
          1.8666666666666665,
          1.2,
          3.3,
          2.6,
          1.6,
          2.1,
          1.3,
          1.2,
          0.3999999999999999,
          1.0666666666666669,
          2.3,
          1.5,
          2.5,
          1.1,
          1.4,
          1,
          1.2,
          1.2,
          0.7,
          0.3,
          2.566666666666667,
          1.4,
          2,
          1.5,
          0.2,
          1.2,
          1.2,
          3,
          1.4,
          1.6,
          2.6,
          0.3,
          1.6,
          2,
          1.6,
          1.3,
          3.2,
          0.7,
          0,
          4,
          1.3,
          2.2,
          1.6,
          1.2,
          2.1,
          1.5,
          1.9,
          1.8,
          2.1,
          2.5,
          3.4,
          1.8,
          2.1,
          2.3,
          0.7,
          1,
          2,
          2,
          0.6666666666666666,
          3.2,
          1.2666666666666666,
          1.5,
          2.1,
          2.3000000000000003,
          3.1,
          1.6,
          2.9,
          1.9,
          0.9,
          2.3,
          1.8,
          1.8,
          0.8666666666666667,
          0.5,
          1.8,
          2.1,
          0.4,
          3.4,
          1.5,
          2.3,
          2,
          1.2,
          1.4,
          0.5,
          0.3,
          2.9,
          1.6,
          0,
          3.1
         ],
         "y0": " ",
         "yaxis": "y"
        },
        {
         "alignmentgroup": "True",
         "hovertemplate": "<b>%{hovertext}</b><br><br>Position=%{x}<br>Personal Fouls=%{y}<extra></extra>",
         "hovertext": [
          "Santi Aldama",
          "Kyle Anderson",
          "Giannis Antetokounmpo",
          "Paolo Banchero",
          "Harrison Barnes",
          "Scottie Barnes",
          "Nicolas Batum",
          "Darius Bazley",
          "Dāvis Bertāns",
          "Bojan Bogdanović",
          "Bol Bol",
          "Chris Boucher",
          "Jarrell Brantley",
          "Greg Brown III",
          "Vlatko Čančar",
          "Brandon Clarke",
          "John Collins",
          "Xavier Cooks",
          "Robert Covington",
          "Darius Days",
          "Moussa Diabaté",
          "Mamadi Diakite",
          "Tari Eason",
          "Dorian Finney-Smith",
          "Michael Foster Jr.",
          "Wenyen Gabriel",
          "Usman Garuba",
          "Rudy Gay",
          "Anthony Gill",
          "Aaron Gordon",
          "Jerami Grant",
          "RaiQuan Gray",
          "Draymond Green",
          "JaMychal Green",
          "Jeff Green",
          "Rui Hachimura",
          "Tobias Harris",
          "Sam Hauser",
          "Juancho Hernangómez",
          "Jonathan Isaac",
          "LeBron James",
          "Alize Johnson",
          "Cameron Johnson",
          "James Johnson",
          "Nikola Jović",
          "Mfiondu Kabengele",
          "Nathan Knight",
          "Jonathan Kuminga",
          "Kyle Kuzma",
          "Jake LaRavia",
          "Isaiah Livers",
          "Kenneth Lofton Jr.",
          "Kevin Love",
          "Trey Lyles",
          "Caleb Martin",
          "Evan Mobley",
          "Isaiah Mobley",
          "Markieff Morris",
          "Marcus Morris",
          "Larry Nance Jr.",
          "Georges Niang",
          "Zeke Nnaji",
          "KZ Okpala",
          "Aleksej Pokusevski",
          "Bobby Portis",
          "Micah Potter",
          "Julius Randle",
          "Jeremiah Robinson-Earl",
          "Isaiah Roby",
          "David Roddy",
          "Luka Šamanić",
          "Dario Šarić",
          "Admiral Schofield",
          "Chris Silva",
          "Jalen Smith",
          "Jabari Smith Jr.",
          "Jeremy Sochan",
          "Lamar Stevens",
          "Jayson Tatum",
          "Terry Taylor",
          "JT Thor",
          "Xavier Tillman Sr.",
          "Isaiah Todd",
          "Obi Toppin",
          "Karl-Anthony Towns",
          "P.J. Tucker",
          "Jarred Vanderbilt",
          "Dean Wade",
          "P.J. Washington",
          "Trendon Watford",
          "Grant Williams",
          "Jaylin Williams",
          "Kenrich Williams",
          "Patrick Williams",
          "Zion Williamson",
          "Thaddeus Young"
         ],
         "legendgroup": "PF",
         "marker": {
          "color": "#ab63fa"
         },
         "name": "PF",
         "notched": false,
         "offsetgroup": "PF",
         "orientation": "v",
         "showlegend": true,
         "type": "box",
         "x": [
          "PF",
          "PF",
          "PF",
          "PF",
          "PF",
          "PF",
          "PF",
          "PF",
          "PF",
          "PF",
          "PF",
          "PF",
          "PF",
          "PF",
          "PF",
          "PF",
          "PF",
          "PF",
          "PF",
          "PF",
          "PF",
          "PF",
          "PF",
          "PF",
          "PF",
          "PF",
          "PF",
          "PF",
          "PF",
          "PF",
          "PF",
          "PF",
          "PF",
          "PF",
          "PF",
          "PF",
          "PF",
          "PF",
          "PF",
          "PF",
          "PF",
          "PF",
          "PF",
          "PF",
          "PF",
          "PF",
          "PF",
          "PF",
          "PF",
          "PF",
          "PF",
          "PF",
          "PF",
          "PF",
          "PF",
          "PF",
          "PF",
          "PF",
          "PF",
          "PF",
          "PF",
          "PF",
          "PF",
          "PF",
          "PF",
          "PF",
          "PF",
          "PF",
          "PF",
          "PF",
          "PF",
          "PF",
          "PF",
          "PF",
          "PF",
          "PF",
          "PF",
          "PF",
          "PF",
          "PF",
          "PF",
          "PF",
          "PF",
          "PF",
          "PF",
          "PF",
          "PF",
          "PF",
          "PF",
          "PF",
          "PF",
          "PF",
          "PF",
          "PF",
          "PF",
          "PF"
         ],
         "x0": " ",
         "xaxis": "x",
         "y": [
          1.9,
          2.1,
          3.1,
          2.2,
          1.3,
          2.2,
          1.9,
          1.1,
          1.2,
          1.9,
          1.3,
          1.9,
          0.8,
          0.8,
          1.4,
          2.3,
          3.1,
          1.3,
          1.8,
          0.5,
          0.7,
          1.2,
          2.3,
          2.2333333333333334,
          0,
          2.1,
          1.8,
          1.2,
          1.2,
          1.9,
          2.4,
          5,
          3.1,
          1.8,
          1.8,
          1.1333333333333335,
          2,
          1.2,
          1,
          0.5,
          1.6,
          0.8,
          1.9666666666666668,
          1.8,
          1.3,
          0.8,
          1.1,
          2.3,
          2.3,
          1.4,
          2,
          1.2,
          1.5666666666666669,
          1.3,
          2,
          2.8,
          0.6,
          1.5,
          2.1,
          2,
          1.9,
          2,
          1.1,
          1.7,
          1.6,
          0.7,
          3,
          1.7,
          1.3,
          1.5,
          2.4,
          1.7,
          1.6,
          2,
          2.3,
          2.9,
          2.5,
          1.3,
          2.2,
          0.7000000000000001,
          1,
          1.6,
          0.7,
          1,
          3.8,
          2.4,
          2.4,
          2,
          2.6,
          1.9,
          2.4,
          2.3,
          2.1,
          1.8,
          2.2,
          1.6
         ],
         "y0": " ",
         "yaxis": "y"
        },
        {
         "alignmentgroup": "True",
         "hovertemplate": "<b>%{hovertext}</b><br><br>Position=%{x}<br>Personal Fouls=%{y}<extra></extra>",
         "hovertext": [
          "Precious Achiuwa",
          "Steven Adams",
          "Bam Adebayo",
          "Jarrett Allen",
          "Deandre Ayton",
          "Udoka Azubuike",
          "Marvin Bagley III",
          "Mo Bamba",
          "Charles Bassey",
          "Khem Birch",
          "Goga Bitadze",
          "Bismack Biyombo",
          "Tony Bradley",
          "Moses Brown",
          "Thomas Bryant",
          "John Butler",
          "Clint Capela",
          "Vernon Carey Jr.",
          "Wendell Carter Jr.",
          "Nic Claxton",
          "Zach Collins",
          "Chance Comanche",
          "Anthony Davis",
          "Dewayne Dedmon",
          "Gorgui Dieng",
          "Andre Drummond",
          "Jalen Duren",
          "Joel Embiid",
          "Drew Eubanks",
          "Bruno Fernando",
          "Daniel Gafford",
          "Luka Garza",
          "Taj Gibson",
          "Rudy Gobert",
          "Blake Griffin",
          "Montrezl Harrell",
          "Isaiah Hartenstein",
          "Udonis Haslem",
          "Jaxson Hayes",
          "Willy Hernangómez",
          "Richaun Holmes",
          "Al Horford",
          "Jay Huff",
          "Serge Ibaka",
          "Isaiah Jackson",
          "Jaren Jackson Jr.",
          "Nikola Jokić",
          "Damian Jones",
          "Kai Jones",
          "DeAndre Jordan",
          "Frank Kaminsky",
          "Walker Kessler",
          "Maxi Kleber",
          "Christian Koloko",
          "Luke Kornet",
          "Jock Landale",
          "Alex Len",
          "Meyers Leonard",
          "Kevon Looney",
          "Brook Lopez",
          "Robin Lopez",
          "Sandro Mamukelashvili",
          "Boban Marjanović",
          "JaVale McGee",
          "Chimezie Metu",
          "Mike Muscala",
          "Nerlens Noel",
          "Jusuf Nurkić",
          "Onyeka Okongwu",
          "Kelly Olynyk",
          "Mason Plumlee",
          "Jakob Poeltl",
          "Kristaps Porziņģis",
          "Dwight Powell",
          "Neemias Queta",
          "Paul Reed",
          "Naz Reid",
          "Nick Richards",
          "Mitchell Robinson",
          "Orlando Robinson",
          "Domantas Sabonis",
          "Olivier Sarr",
          "Alperen Şengün",
          "Day'Ron Sharpe",
          "Pascal Siakam",
          "Marko Simonovic",
          "Jericho Sims",
          "Isaiah Stewart",
          "Daniel Theis",
          "Myles Turner",
          "Jonas Valančiūnas",
          "Noah Vonleh",
          "Nikola Vučević",
          "Moritz Wagner",
          "Mark Williams",
          "Robert Williams",
          "James Wiseman",
          "Christian Wood",
          "Omer Yurtseven",
          "Cody Zeller",
          "Ivica Zubac"
         ],
         "legendgroup": "C",
         "marker": {
          "color": "#FFA15A"
         },
         "name": "C",
         "notched": false,
         "offsetgroup": "C",
         "orientation": "v",
         "showlegend": true,
         "type": "box",
         "x": [
          "C",
          "C",
          "C",
          "C",
          "C",
          "C",
          "C",
          "C",
          "C",
          "C",
          "C",
          "C",
          "C",
          "C",
          "C",
          "C",
          "C",
          "C",
          "C",
          "C",
          "C",
          "C",
          "C",
          "C",
          "C",
          "C",
          "C",
          "C",
          "C",
          "C",
          "C",
          "C",
          "C",
          "C",
          "C",
          "C",
          "C",
          "C",
          "C",
          "C",
          "C",
          "C",
          "C",
          "C",
          "C",
          "C",
          "C",
          "C",
          "C",
          "C",
          "C",
          "C",
          "C",
          "C",
          "C",
          "C",
          "C",
          "C",
          "C",
          "C",
          "C",
          "C",
          "C",
          "C",
          "C",
          "C",
          "C",
          "C",
          "C",
          "C",
          "C",
          "C",
          "C",
          "C",
          "C",
          "C",
          "C",
          "C",
          "C",
          "C",
          "C",
          "C",
          "C",
          "C",
          "C",
          "C",
          "C",
          "C",
          "C",
          "C",
          "C",
          "C",
          "C",
          "C",
          "C",
          "C",
          "C",
          "C",
          "C",
          "C",
          "C"
         ],
         "x0": " ",
         "xaxis": "x",
         "y": [
          1.9,
          2.3,
          2.8,
          2.3,
          2.8,
          0.9,
          1.9,
          2.1333333333333333,
          2.1,
          1.2,
          1.7,
          1.9,
          0.2,
          0.9,
          1.6666666666666667,
          1.2,
          2.1,
          0.5,
          2.8,
          2.8,
          3.2,
          0,
          2.6,
          1.9333333333333331,
          1.8,
          1.7,
          2.7,
          3.1,
          2.2,
          1.6333333333333335,
          2.4,
          1.5,
          1.7,
          3,
          1.8,
          1.3,
          2.6,
          1.6,
          1.4,
          1.7,
          1.2,
          1.9,
          2.1,
          1.4,
          2.4,
          3.6,
          2.5,
          1.3666666666666665,
          1.4,
          1.8,
          0.5,
          2.3,
          2.3,
          2.2,
          1.2,
          1.8,
          1.1,
          1.8,
          2.7,
          2.6,
          1.2,
          1.2333333333333334,
          0.3,
          1.3,
          1.2,
          1.5333333333333332,
          2,
          3.6,
          3.1,
          3.4,
          2.6666666666666665,
          2.766666666666667,
          3,
          2.8,
          1.4,
          1.8,
          2.6,
          2.4,
          2.7,
          1.7,
          3.5,
          1.9,
          3.4,
          1.9,
          3.2,
          0.7,
          1.8,
          2.7,
          1,
          3.5,
          3.1,
          1.5,
          2.2,
          2.4,
          2.2,
          1.9,
          2.4,
          2.5,
          1.8,
          2.2,
          2.9
         ],
         "y0": " ",
         "yaxis": "y"
        },
        {
         "alignmentgroup": "True",
         "hovertemplate": "<b>%{hovertext}</b><br><br>Position=%{x}<br>Personal Fouls=%{y}<extra></extra>",
         "hovertext": [
          "Kevin Durant",
          "Kevin Knox",
          "T.J. Warren"
         ],
         "legendgroup": "PF-SF",
         "marker": {
          "color": "#19d3f3"
         },
         "name": "PF-SF",
         "notched": false,
         "offsetgroup": "PF-SF",
         "orientation": "v",
         "showlegend": true,
         "type": "box",
         "x": [
          "PF-SF",
          "PF-SF",
          "PF-SF"
         ],
         "x0": " ",
         "xaxis": "x",
         "y": [
          1.8,
          1.4333333333333331,
          1.5
         ],
         "y0": " ",
         "yaxis": "y"
        }
       ],
       "layout": {
        "boxmode": "overlay",
        "legend": {
         "title": {
          "text": "Position"
         },
         "tracegroupgap": 0
        },
        "template": {
         "data": {
          "bar": [
           {
            "error_x": {
             "color": "#2a3f5f"
            },
            "error_y": {
             "color": "#2a3f5f"
            },
            "marker": {
             "line": {
              "color": "#E5ECF6",
              "width": 0.5
             },
             "pattern": {
              "fillmode": "overlay",
              "size": 10,
              "solidity": 0.2
             }
            },
            "type": "bar"
           }
          ],
          "barpolar": [
           {
            "marker": {
             "line": {
              "color": "#E5ECF6",
              "width": 0.5
             },
             "pattern": {
              "fillmode": "overlay",
              "size": 10,
              "solidity": 0.2
             }
            },
            "type": "barpolar"
           }
          ],
          "carpet": [
           {
            "aaxis": {
             "endlinecolor": "#2a3f5f",
             "gridcolor": "white",
             "linecolor": "white",
             "minorgridcolor": "white",
             "startlinecolor": "#2a3f5f"
            },
            "baxis": {
             "endlinecolor": "#2a3f5f",
             "gridcolor": "white",
             "linecolor": "white",
             "minorgridcolor": "white",
             "startlinecolor": "#2a3f5f"
            },
            "type": "carpet"
           }
          ],
          "choropleth": [
           {
            "colorbar": {
             "outlinewidth": 0,
             "ticks": ""
            },
            "type": "choropleth"
           }
          ],
          "contour": [
           {
            "colorbar": {
             "outlinewidth": 0,
             "ticks": ""
            },
            "colorscale": [
             [
              0,
              "#0d0887"
             ],
             [
              0.1111111111111111,
              "#46039f"
             ],
             [
              0.2222222222222222,
              "#7201a8"
             ],
             [
              0.3333333333333333,
              "#9c179e"
             ],
             [
              0.4444444444444444,
              "#bd3786"
             ],
             [
              0.5555555555555556,
              "#d8576b"
             ],
             [
              0.6666666666666666,
              "#ed7953"
             ],
             [
              0.7777777777777778,
              "#fb9f3a"
             ],
             [
              0.8888888888888888,
              "#fdca26"
             ],
             [
              1,
              "#f0f921"
             ]
            ],
            "type": "contour"
           }
          ],
          "contourcarpet": [
           {
            "colorbar": {
             "outlinewidth": 0,
             "ticks": ""
            },
            "type": "contourcarpet"
           }
          ],
          "heatmap": [
           {
            "colorbar": {
             "outlinewidth": 0,
             "ticks": ""
            },
            "colorscale": [
             [
              0,
              "#0d0887"
             ],
             [
              0.1111111111111111,
              "#46039f"
             ],
             [
              0.2222222222222222,
              "#7201a8"
             ],
             [
              0.3333333333333333,
              "#9c179e"
             ],
             [
              0.4444444444444444,
              "#bd3786"
             ],
             [
              0.5555555555555556,
              "#d8576b"
             ],
             [
              0.6666666666666666,
              "#ed7953"
             ],
             [
              0.7777777777777778,
              "#fb9f3a"
             ],
             [
              0.8888888888888888,
              "#fdca26"
             ],
             [
              1,
              "#f0f921"
             ]
            ],
            "type": "heatmap"
           }
          ],
          "heatmapgl": [
           {
            "colorbar": {
             "outlinewidth": 0,
             "ticks": ""
            },
            "colorscale": [
             [
              0,
              "#0d0887"
             ],
             [
              0.1111111111111111,
              "#46039f"
             ],
             [
              0.2222222222222222,
              "#7201a8"
             ],
             [
              0.3333333333333333,
              "#9c179e"
             ],
             [
              0.4444444444444444,
              "#bd3786"
             ],
             [
              0.5555555555555556,
              "#d8576b"
             ],
             [
              0.6666666666666666,
              "#ed7953"
             ],
             [
              0.7777777777777778,
              "#fb9f3a"
             ],
             [
              0.8888888888888888,
              "#fdca26"
             ],
             [
              1,
              "#f0f921"
             ]
            ],
            "type": "heatmapgl"
           }
          ],
          "histogram": [
           {
            "marker": {
             "pattern": {
              "fillmode": "overlay",
              "size": 10,
              "solidity": 0.2
             }
            },
            "type": "histogram"
           }
          ],
          "histogram2d": [
           {
            "colorbar": {
             "outlinewidth": 0,
             "ticks": ""
            },
            "colorscale": [
             [
              0,
              "#0d0887"
             ],
             [
              0.1111111111111111,
              "#46039f"
             ],
             [
              0.2222222222222222,
              "#7201a8"
             ],
             [
              0.3333333333333333,
              "#9c179e"
             ],
             [
              0.4444444444444444,
              "#bd3786"
             ],
             [
              0.5555555555555556,
              "#d8576b"
             ],
             [
              0.6666666666666666,
              "#ed7953"
             ],
             [
              0.7777777777777778,
              "#fb9f3a"
             ],
             [
              0.8888888888888888,
              "#fdca26"
             ],
             [
              1,
              "#f0f921"
             ]
            ],
            "type": "histogram2d"
           }
          ],
          "histogram2dcontour": [
           {
            "colorbar": {
             "outlinewidth": 0,
             "ticks": ""
            },
            "colorscale": [
             [
              0,
              "#0d0887"
             ],
             [
              0.1111111111111111,
              "#46039f"
             ],
             [
              0.2222222222222222,
              "#7201a8"
             ],
             [
              0.3333333333333333,
              "#9c179e"
             ],
             [
              0.4444444444444444,
              "#bd3786"
             ],
             [
              0.5555555555555556,
              "#d8576b"
             ],
             [
              0.6666666666666666,
              "#ed7953"
             ],
             [
              0.7777777777777778,
              "#fb9f3a"
             ],
             [
              0.8888888888888888,
              "#fdca26"
             ],
             [
              1,
              "#f0f921"
             ]
            ],
            "type": "histogram2dcontour"
           }
          ],
          "mesh3d": [
           {
            "colorbar": {
             "outlinewidth": 0,
             "ticks": ""
            },
            "type": "mesh3d"
           }
          ],
          "parcoords": [
           {
            "line": {
             "colorbar": {
              "outlinewidth": 0,
              "ticks": ""
             }
            },
            "type": "parcoords"
           }
          ],
          "pie": [
           {
            "automargin": true,
            "type": "pie"
           }
          ],
          "scatter": [
           {
            "fillpattern": {
             "fillmode": "overlay",
             "size": 10,
             "solidity": 0.2
            },
            "type": "scatter"
           }
          ],
          "scatter3d": [
           {
            "line": {
             "colorbar": {
              "outlinewidth": 0,
              "ticks": ""
             }
            },
            "marker": {
             "colorbar": {
              "outlinewidth": 0,
              "ticks": ""
             }
            },
            "type": "scatter3d"
           }
          ],
          "scattercarpet": [
           {
            "marker": {
             "colorbar": {
              "outlinewidth": 0,
              "ticks": ""
             }
            },
            "type": "scattercarpet"
           }
          ],
          "scattergeo": [
           {
            "marker": {
             "colorbar": {
              "outlinewidth": 0,
              "ticks": ""
             }
            },
            "type": "scattergeo"
           }
          ],
          "scattergl": [
           {
            "marker": {
             "colorbar": {
              "outlinewidth": 0,
              "ticks": ""
             }
            },
            "type": "scattergl"
           }
          ],
          "scattermapbox": [
           {
            "marker": {
             "colorbar": {
              "outlinewidth": 0,
              "ticks": ""
             }
            },
            "type": "scattermapbox"
           }
          ],
          "scatterpolar": [
           {
            "marker": {
             "colorbar": {
              "outlinewidth": 0,
              "ticks": ""
             }
            },
            "type": "scatterpolar"
           }
          ],
          "scatterpolargl": [
           {
            "marker": {
             "colorbar": {
              "outlinewidth": 0,
              "ticks": ""
             }
            },
            "type": "scatterpolargl"
           }
          ],
          "scatterternary": [
           {
            "marker": {
             "colorbar": {
              "outlinewidth": 0,
              "ticks": ""
             }
            },
            "type": "scatterternary"
           }
          ],
          "surface": [
           {
            "colorbar": {
             "outlinewidth": 0,
             "ticks": ""
            },
            "colorscale": [
             [
              0,
              "#0d0887"
             ],
             [
              0.1111111111111111,
              "#46039f"
             ],
             [
              0.2222222222222222,
              "#7201a8"
             ],
             [
              0.3333333333333333,
              "#9c179e"
             ],
             [
              0.4444444444444444,
              "#bd3786"
             ],
             [
              0.5555555555555556,
              "#d8576b"
             ],
             [
              0.6666666666666666,
              "#ed7953"
             ],
             [
              0.7777777777777778,
              "#fb9f3a"
             ],
             [
              0.8888888888888888,
              "#fdca26"
             ],
             [
              1,
              "#f0f921"
             ]
            ],
            "type": "surface"
           }
          ],
          "table": [
           {
            "cells": {
             "fill": {
              "color": "#EBF0F8"
             },
             "line": {
              "color": "white"
             }
            },
            "header": {
             "fill": {
              "color": "#C8D4E3"
             },
             "line": {
              "color": "white"
             }
            },
            "type": "table"
           }
          ]
         },
         "layout": {
          "annotationdefaults": {
           "arrowcolor": "#2a3f5f",
           "arrowhead": 0,
           "arrowwidth": 1
          },
          "autotypenumbers": "strict",
          "coloraxis": {
           "colorbar": {
            "outlinewidth": 0,
            "ticks": ""
           }
          },
          "colorscale": {
           "diverging": [
            [
             0,
             "#8e0152"
            ],
            [
             0.1,
             "#c51b7d"
            ],
            [
             0.2,
             "#de77ae"
            ],
            [
             0.3,
             "#f1b6da"
            ],
            [
             0.4,
             "#fde0ef"
            ],
            [
             0.5,
             "#f7f7f7"
            ],
            [
             0.6,
             "#e6f5d0"
            ],
            [
             0.7,
             "#b8e186"
            ],
            [
             0.8,
             "#7fbc41"
            ],
            [
             0.9,
             "#4d9221"
            ],
            [
             1,
             "#276419"
            ]
           ],
           "sequential": [
            [
             0,
             "#0d0887"
            ],
            [
             0.1111111111111111,
             "#46039f"
            ],
            [
             0.2222222222222222,
             "#7201a8"
            ],
            [
             0.3333333333333333,
             "#9c179e"
            ],
            [
             0.4444444444444444,
             "#bd3786"
            ],
            [
             0.5555555555555556,
             "#d8576b"
            ],
            [
             0.6666666666666666,
             "#ed7953"
            ],
            [
             0.7777777777777778,
             "#fb9f3a"
            ],
            [
             0.8888888888888888,
             "#fdca26"
            ],
            [
             1,
             "#f0f921"
            ]
           ],
           "sequentialminus": [
            [
             0,
             "#0d0887"
            ],
            [
             0.1111111111111111,
             "#46039f"
            ],
            [
             0.2222222222222222,
             "#7201a8"
            ],
            [
             0.3333333333333333,
             "#9c179e"
            ],
            [
             0.4444444444444444,
             "#bd3786"
            ],
            [
             0.5555555555555556,
             "#d8576b"
            ],
            [
             0.6666666666666666,
             "#ed7953"
            ],
            [
             0.7777777777777778,
             "#fb9f3a"
            ],
            [
             0.8888888888888888,
             "#fdca26"
            ],
            [
             1,
             "#f0f921"
            ]
           ]
          },
          "colorway": [
           "#636efa",
           "#EF553B",
           "#00cc96",
           "#ab63fa",
           "#FFA15A",
           "#19d3f3",
           "#FF6692",
           "#B6E880",
           "#FF97FF",
           "#FECB52"
          ],
          "font": {
           "color": "#2a3f5f"
          },
          "geo": {
           "bgcolor": "white",
           "lakecolor": "white",
           "landcolor": "#E5ECF6",
           "showlakes": true,
           "showland": true,
           "subunitcolor": "white"
          },
          "hoverlabel": {
           "align": "left"
          },
          "hovermode": "closest",
          "mapbox": {
           "style": "light"
          },
          "paper_bgcolor": "white",
          "plot_bgcolor": "#E5ECF6",
          "polar": {
           "angularaxis": {
            "gridcolor": "white",
            "linecolor": "white",
            "ticks": ""
           },
           "bgcolor": "#E5ECF6",
           "radialaxis": {
            "gridcolor": "white",
            "linecolor": "white",
            "ticks": ""
           }
          },
          "scene": {
           "xaxis": {
            "backgroundcolor": "#E5ECF6",
            "gridcolor": "white",
            "gridwidth": 2,
            "linecolor": "white",
            "showbackground": true,
            "ticks": "",
            "zerolinecolor": "white"
           },
           "yaxis": {
            "backgroundcolor": "#E5ECF6",
            "gridcolor": "white",
            "gridwidth": 2,
            "linecolor": "white",
            "showbackground": true,
            "ticks": "",
            "zerolinecolor": "white"
           },
           "zaxis": {
            "backgroundcolor": "#E5ECF6",
            "gridcolor": "white",
            "gridwidth": 2,
            "linecolor": "white",
            "showbackground": true,
            "ticks": "",
            "zerolinecolor": "white"
           }
          },
          "shapedefaults": {
           "line": {
            "color": "#2a3f5f"
           }
          },
          "ternary": {
           "aaxis": {
            "gridcolor": "white",
            "linecolor": "white",
            "ticks": ""
           },
           "baxis": {
            "gridcolor": "white",
            "linecolor": "white",
            "ticks": ""
           },
           "bgcolor": "#E5ECF6",
           "caxis": {
            "gridcolor": "white",
            "linecolor": "white",
            "ticks": ""
           }
          },
          "title": {
           "x": 0.05
          },
          "xaxis": {
           "automargin": true,
           "gridcolor": "white",
           "linecolor": "white",
           "ticks": "",
           "title": {
            "standoff": 15
           },
           "zerolinecolor": "white",
           "zerolinewidth": 2
          },
          "yaxis": {
           "automargin": true,
           "gridcolor": "white",
           "linecolor": "white",
           "ticks": "",
           "title": {
            "standoff": 15
           },
           "zerolinecolor": "white",
           "zerolinewidth": 2
          }
         }
        },
        "title": {
         "text": "Personal Fouls per Game by Position"
        },
        "xaxis": {
         "anchor": "y",
         "categoryarray": [
          "PG",
          "SG",
          "SF",
          "PF",
          "C",
          "PF-SF",
          "SF-SG",
          "SG-PG"
         ],
         "categoryorder": "array",
         "domain": [
          0,
          1
         ],
         "title": {
          "text": "Position"
         }
        },
        "yaxis": {
         "anchor": "x",
         "domain": [
          0,
          1
         ],
         "title": {
          "text": "Personal Fouls"
         }
        }
       }
      }
     },
     "metadata": {},
     "output_type": "display_data"
    }
   ],
   "source": [
    "px.box(data_frame = df06,\n",
    "       x = 'Pos',\n",
    "       y = 'PF',\n",
    "       color = 'Pos',\n",
    "       hover_name = 'Player',\n",
    "       title = 'Personal Fouls per Game by Position',\n",
    "       labels = {'PF':'Personal Fouls', 'Pos': 'Position'},\n",
    "       category_orders = {'Pos':('PG', 'SG', 'SF', 'PF', 'C', 'PF-SF', 'SF-SG', 'SG-PG')})"
   ]
  },
  {
   "attachments": {},
   "cell_type": "markdown",
   "metadata": {},
   "source": [
    "### How are distributed the Turn-Overs Per Game according to the Positions assigned to each Player?"
   ]
  },
  {
   "cell_type": "code",
   "execution_count": 485,
   "metadata": {},
   "outputs": [
    {
     "data": {
      "application/vnd.plotly.v1+json": {
       "config": {
        "plotlyServerURL": "https://plot.ly"
       },
       "data": [
        {
         "alignmentgroup": "True",
         "hovertemplate": "<b>%{hovertext}</b><br><br>Position=%{x}<br>Turn-Overs=%{y}<extra></extra>",
         "hovertext": [
          "Jose Alvarado",
          "Cole Anthony",
          "Ryan Arcidiacono",
          "LaMelo Ball",
          "Dalano Banton",
          "Patrick Beverley",
          "Buddy Boeheim",
          "Jamaree Bouyea",
          "Malcolm Brogdon",
          "Jalen Brunson",
          "Facundo Campazzo",
          "Jevon Carter",
          "Michael Carter-Williams",
          "Alex Caruso",
          "Kennedy Chandler",
          "Mike Conley",
          "Cade Cunningham",
          "Stephen Curry",
          "Dyson Daniels",
          "JD Davison",
          "Matthew Dellavedova",
          "Spencer Dinwiddie",
          "Luka Dončić",
          "Devon Dotson",
          "Jeff Dowtin",
          "Goran Dragić",
          "Kris Dunn",
          "Malachi Flynn",
          "Trent Forrest",
          "De'Aaron Fox",
          "Markelle Fultz",
          "Darius Garland",
          "Shai Gilgeous-Alexander",
          "Jacob Gilyard",
          "Jordan Goodwin",
          "Devonte' Graham",
          "Tyrese Haliburton",
          "R.J. Hampton",
          "James Harden",
          "Killian Hayes",
          "George Hill",
          "Aaron Holiday",
          "Jrue Holiday",
          "Trevor Hudgins",
          "Bones Hyland",
          "Kyrie Irving",
          "Frank Jackson",
          "Quenton Jackson",
          "Reggie Jackson",
          "Carlik Jones",
          "Tre Jones",
          "Tyus Jones",
          "Cory Joseph",
          "Vit Krejci",
          "Saben Lee",
          "Kira Lewis Jr.",
          "Damian Lillard",
          "Kyle Lowry",
          "Théo Maledon",
          "Tre Mann",
          "Miles McBride",
          "T.J. McConnell",
          "Jordan McLaughlin",
          "De'Anthony Melton",
          "Patty Mills",
          "Davion Mitchell",
          "Ja Morant",
          "Monte Morris",
          "Jamal Murray",
          "Raul Neto",
          "Daishen Nix",
          "Frank Ntilikina",
          "Chris Paul",
          "Cameron Payne",
          "Gary Payton II",
          "Scotty Pippen Jr.",
          "Jordan Poole",
          "Kevin Porter Jr.",
          "Jason Preston",
          "Payton Pritchard",
          "Immanuel Quickley",
          "Ryan Rollins",
          "Derrick Rose",
          "Ricky Rubio",
          "D'Angelo Russell",
          "Dennis Schröder",
          "Ben Simmons",
          "Kobi Simmons",
          "Marcus Smart",
          "Dennis Smith Jr.",
          "Ish Smith",
          "Jalen Suggs",
          "Fred VanVleet",
          "Gabe Vincent",
          "Kemba Walker",
          "John Wall",
          "TyTy Washington Jr.",
          "Russell Westbrook",
          "Lindell Wigginton",
          "Delon Wright",
          "McKinley Wright IV",
          "Trae Young"
         ],
         "legendgroup": "PG",
         "marker": {
          "color": "#636efa"
         },
         "name": "PG",
         "notched": false,
         "offsetgroup": "PG",
         "orientation": "v",
         "showlegend": true,
         "type": "box",
         "x": [
          "PG",
          "PG",
          "PG",
          "PG",
          "PG",
          "PG",
          "PG",
          "PG",
          "PG",
          "PG",
          "PG",
          "PG",
          "PG",
          "PG",
          "PG",
          "PG",
          "PG",
          "PG",
          "PG",
          "PG",
          "PG",
          "PG",
          "PG",
          "PG",
          "PG",
          "PG",
          "PG",
          "PG",
          "PG",
          "PG",
          "PG",
          "PG",
          "PG",
          "PG",
          "PG",
          "PG",
          "PG",
          "PG",
          "PG",
          "PG",
          "PG",
          "PG",
          "PG",
          "PG",
          "PG",
          "PG",
          "PG",
          "PG",
          "PG",
          "PG",
          "PG",
          "PG",
          "PG",
          "PG",
          "PG",
          "PG",
          "PG",
          "PG",
          "PG",
          "PG",
          "PG",
          "PG",
          "PG",
          "PG",
          "PG",
          "PG",
          "PG",
          "PG",
          "PG",
          "PG",
          "PG",
          "PG",
          "PG",
          "PG",
          "PG",
          "PG",
          "PG",
          "PG",
          "PG",
          "PG",
          "PG",
          "PG",
          "PG",
          "PG",
          "PG",
          "PG",
          "PG",
          "PG",
          "PG",
          "PG",
          "PG",
          "PG",
          "PG",
          "PG",
          "PG",
          "PG",
          "PG",
          "PG",
          "PG",
          "PG",
          "PG",
          "PG"
         ],
         "x0": " ",
         "xaxis": "x",
         "y": [
          1.3,
          1.5,
          0.3999999999999999,
          3.6,
          0.6,
          0.8666666666666667,
          0,
          0.6,
          1.5,
          2.1,
          0.4,
          1,
          1,
          1.1,
          0.5,
          1.4666666666666668,
          3.3,
          3.2,
          1,
          0.3,
          0.3,
          1.8666666666666665,
          3.6,
          0.5,
          0.2,
          1.0666666666666669,
          1.6,
          0.5,
          0.7,
          2.5,
          2.3,
          2.9,
          2.8,
          2,
          0.9,
          0.8333333333333334,
          2.5,
          0.9,
          3.4,
          2.3,
          0.7000000000000001,
          0.6,
          2.9,
          0.2,
          1.4,
          2.1,
          0,
          0.4,
          1.5666666666666669,
          0.3,
          1.6,
          0.9,
          0.9,
          0.2,
          1.1333333333333333,
          0.4,
          3.3,
          1.9,
          1.3,
          0.9,
          0.4,
          1.9,
          0.8,
          1.3,
          0.8,
          0.8,
          3.4,
          1,
          2.2,
          0.5,
          1.5,
          0.6,
          1.9,
          1.7,
          0.7000000000000001,
          0.3,
          3.1,
          3.2,
          0.7,
          0.8,
          1.2,
          1.3,
          0.8,
          0.9,
          2.533333333333333,
          1.7,
          2.3,
          0.2,
          2.3,
          1.5,
          1,
          1.8,
          2,
          1.4,
          0.4,
          2.4,
          0.5,
          3.466666666666667,
          1.7,
          0.9,
          0.7,
          4.1
         ],
         "y0": " ",
         "yaxis": "y"
        },
        {
         "alignmentgroup": "True",
         "hovertemplate": "<b>%{hovertext}</b><br><br>Position=%{x}<br>Turn-Overs=%{y}<extra></extra>",
         "hovertext": [
          "Ochai Agbaji",
          "Nickeil Alexander-Walker",
          "Grayson Allen",
          "Desmond Bane",
          "RJ Barrett",
          "Will Barton",
          "Bradley Beal",
          "Malik Beasley",
          "Bogdan Bogdanović",
          "Leandro Bolmaro",
          "Devin Booker",
          "Brandon Boston Jr.",
          "James Bouknight",
          "Christian Braun",
          "Bruce Brown",
          "Kendall Brown",
          "Sterling Brown",
          "Alec Burks",
          "Deonte Burton",
          "Jared Butler",
          "Kentavious Caldwell-Pope",
          "Josh Christopher",
          "Max Christie",
          "Jordan Clarkson",
          "Amir Coffey",
          "Pat Connaughton",
          "Jarrett Culver",
          "Seth Curry",
          "Johnny Davis",
          "Terence Davis",
          "Hamidou Diallo",
          "Donte DiVincenzo",
          "Tyler Dorsey",
          "Luguentz Dort",
          "Ayo Dosunmu",
          "PJ Dozier",
          "David Duke Jr.",
          "Anthony Edwards",
          "Keon Ellis",
          "Bryn Forbes",
          "Evan Fournier",
          "Paul George",
          "Josh Giddey",
          "Eric Gordon",
          "A.J. Green",
          "Danny Green",
          "Javonte Green",
          "Jalen Green",
          "Josh Green",
          "Quentin Grimes",
          "Tim Hardaway Jr.",
          "Jaden Hardy",
          "Gary Harris",
          "Joe Harris",
          "Kevon Harris",
          "Shaquille Harrison",
          "Tyler Herro",
          "Justin Holiday",
          "Talen Horton-Tucker",
          "Kevin Huerter",
          "Jaden Ivey",
          "Ty Jerome",
          "Isaiah Joe",
          "Keon Johnson",
          "Trevor Keels",
          "Luke Kennard",
          "John Konchar",
          "Furkan Korkmaz",
          "Romeo Langford",
          "Zach LaVine",
          "A.J. Lawson",
          "Damion Lee",
          "Caris LeVert",
          "Terance Mann",
          "Tyrese Martin",
          "Garrison Mathews",
          "Wesley Matthews",
          "Tyrese Maxey",
          "Skylar Mays",
          "Mac McClung",
          "CJ McCollum",
          "Bryce McGowens",
          "Rodney McGruder",
          "Sam Merrill",
          "Shake Milton",
          "Donovan Mitchell",
          "Malik Monk",
          "Moses Moody",
          "Xavier Moon",
          "Wendell Moore Jr.",
          "Dejounte Murray",
          "Andrew Nembhard",
          "Jaylen Nowell",
          "Kendrick Nunn",
          "Josh Okogie",
          "Victor Oladipo",
          "Theo Pinson",
          "Norman Powell",
          "Joshua Primo",
          "Trevelin Queen",
          "Lester Quinones",
          "Austin Reaves",
          "Davon Reed",
          "Jared Rhoden",
          "Josh Richardson",
          "Austin Rivers",
          "Terrence Ross",
          "Terry Rozier",
          "Jay Scrubb",
          "Dereon Seabron",
          "Collin Sexton",
          "Landry Shamet",
          "Shaedon Sharpe",
          "Anfernee Simons",
          "Dru Smith",
          "Jaden Springer",
          "Edmond Sumner",
          "Garrett Temple",
          "Dalen Terry",
          "Cam Thomas",
          "Klay Thompson",
          "Matisse Thybulle",
          "Gary Trent Jr.",
          "Stanley Umude",
          "Devin Vassell",
          "Lonnie Walker IV",
          "Duane Washington Jr.",
          "Lindy Waters III",
          "Peyton Watson",
          "Blake Wesley",
          "Coby White",
          "Derrick White",
          "Aaron Wiggins",
          "Alondes Williams",
          "Donovan Williams",
          "Jalen Williams",
          "Jeenathan Williams",
          "Vince Williams Jr.",
          "Gabe York"
         ],
         "legendgroup": "SG",
         "marker": {
          "color": "#EF553B"
         },
         "name": "SG",
         "notched": false,
         "offsetgroup": "SG",
         "orientation": "v",
         "showlegend": true,
         "type": "box",
         "x": [
          "SG",
          "SG",
          "SG",
          "SG",
          "SG",
          "SG",
          "SG",
          "SG",
          "SG",
          "SG",
          "SG",
          "SG",
          "SG",
          "SG",
          "SG",
          "SG",
          "SG",
          "SG",
          "SG",
          "SG",
          "SG",
          "SG",
          "SG",
          "SG",
          "SG",
          "SG",
          "SG",
          "SG",
          "SG",
          "SG",
          "SG",
          "SG",
          "SG",
          "SG",
          "SG",
          "SG",
          "SG",
          "SG",
          "SG",
          "SG",
          "SG",
          "SG",
          "SG",
          "SG",
          "SG",
          "SG",
          "SG",
          "SG",
          "SG",
          "SG",
          "SG",
          "SG",
          "SG",
          "SG",
          "SG",
          "SG",
          "SG",
          "SG",
          "SG",
          "SG",
          "SG",
          "SG",
          "SG",
          "SG",
          "SG",
          "SG",
          "SG",
          "SG",
          "SG",
          "SG",
          "SG",
          "SG",
          "SG",
          "SG",
          "SG",
          "SG",
          "SG",
          "SG",
          "SG",
          "SG",
          "SG",
          "SG",
          "SG",
          "SG",
          "SG",
          "SG",
          "SG",
          "SG",
          "SG",
          "SG",
          "SG",
          "SG",
          "SG",
          "SG",
          "SG",
          "SG",
          "SG",
          "SG",
          "SG",
          "SG",
          "SG",
          "SG",
          "SG",
          "SG",
          "SG",
          "SG",
          "SG",
          "SG",
          "SG",
          "SG",
          "SG",
          "SG",
          "SG",
          "SG",
          "SG",
          "SG",
          "SG",
          "SG",
          "SG",
          "SG",
          "SG",
          "SG",
          "SG",
          "SG",
          "SG",
          "SG",
          "SG",
          "SG",
          "SG",
          "SG",
          "SG",
          "SG",
          "SG",
          "SG",
          "SG",
          "SG",
          "SG",
          "SG",
          "SG"
         ],
         "x0": " ",
         "xaxis": "x",
         "y": [
          0.7,
          0.8666666666666667,
          1,
          2.2,
          2.2,
          0.7333333333333334,
          2.9,
          1.1333333333333335,
          1.2,
          0.5,
          2.7,
          0.5,
          0.9,
          0.5,
          1.5,
          0.3,
          0,
          1.1,
          0,
          0.8,
          1.1,
          0.9,
          0.3,
          3,
          0.4,
          0.5,
          0.7,
          0.8,
          0.6,
          0.8,
          1.3,
          1.6,
          0,
          1.2,
          1.2,
          0.3,
          0.8,
          3.3,
          0.1,
          0.5,
          0.8,
          3.1,
          2.8,
          1.4333333333333331,
          0.3,
          0.9333333333333332,
          0.6,
          2.6,
          1.2,
          1,
          0.8,
          1,
          0.6,
          0.6,
          0.6,
          1.2,
          2.4,
          0.5,
          1.9,
          1.3,
          3.2,
          0.7,
          0.5,
          1.1,
          0,
          0.7999999999999999,
          0.5,
          0.6,
          0.7,
          2.5,
          0.1333333333333333,
          1.1,
          1.6,
          1,
          0.1,
          0.3,
          0.3,
          1.3,
          1.7,
          1.5,
          2.4,
          0.9,
          0.3,
          0,
          1.2,
          2.6,
          1.9,
          0.5,
          0.3,
          0.3,
          2.2,
          1.7,
          1,
          0.9333333333333336,
          0.9,
          2.1,
          0.3,
          1.7,
          2.8,
          1,
          1.3,
          1.5,
          0.3666666666666667,
          0.2,
          1.2666666666666666,
          0.4,
          0.6333333333333333,
          2.1,
          1.5,
          0,
          1.8,
          0.9,
          1,
          2.1,
          0.2,
          0.2,
          0.9,
          0.2,
          0.2,
          1.1,
          1.8,
          0.3999999999999999,
          0.8,
          0,
          1.5,
          0.8,
          1.1,
          0.2,
          0.3,
          1.8,
          1,
          1.2,
          0.8,
          2,
          0,
          1.6,
          0.8,
          0.3,
          0
         ],
         "y0": " ",
         "yaxis": "y"
        },
        {
         "alignmentgroup": "True",
         "hovertemplate": "<b>%{hovertext}</b><br><br>Position=%{x}<br>Turn-Overs=%{y}<extra></extra>",
         "hovertext": [
          "Thanasis Antetokounmpo",
          "OG Anunoby",
          "Deni Avdija",
          "Patrick Baldwin Jr.",
          "Dominick Barlow",
          "Keita Bates-Diop",
          "MarJon Beauchamp",
          "Saddiq Bey",
          "Malaki Branham",
          "Mikal Bridges",
          "Oshae Brissett",
          "Dillon Brooks",
          "Jaylen Brown",
          "Troy Brown Jr.",
          "Reggie Bullock",
          "Jimmy Butler",
          "Jamal Cain",
          "Justin Champagnie",
          "Julian Champagnie",
          "Torrey Craig",
          "Jae Crowder",
          "DeMar DeRozan",
          "Ousmane Dieng",
          "Chris Duarte",
          "Kessler Edwards",
          "Simone Fontecchio",
          "AJ Griffin",
          "Jordan Hall",
          "Ron Harper Jr.",
          "Josh Hart",
          "Gordon Hayward",
          "Buddy Hield",
          "Haywood Highsmith",
          "Malcolm Hill",
          "Danuel House Jr.",
          "Caleb Houstan",
          "De'Andre Hunter",
          "Andre Iguodala",
          "Joe Ingles",
          "Brandon Ingram",
          "Justin Jackson",
          "Jalen Johnson",
          "Keldon Johnson",
          "Stanley Johnson",
          "Derrick Jones Jr.",
          "Herbert Jones",
          "Johnny Juzang",
          "Braxton Key",
          "Louis King",
          "Corey Kispert",
          "Anthony Lamb",
          "Kawhi Leonard",
          "Nassir Little",
          "Lauri Markkanen",
          "Naji Marshall",
          "Cody Martin",
          "Kenyon Martin Jr.",
          "Bennedict Mathurin",
          "Jalen McDaniels",
          "Jaden McDaniels",
          "Doug McDermott",
          "Khris Middleton",
          "Justin Minaya",
          "Josh Minott",
          "Chima Moneke",
          "Trey Murphy III",
          "Keegan Murray",
          "Svi Mykhailiuk",
          "Aaron Nesmith",
          "Jordan Nwora",
          "Chuma Okeke",
          "Isaac Okoro",
          "Eugene Omoruyi",
          "Royce O'Neale",
          "Cedi Osman",
          "Kelly Oubre Jr.",
          "Michael Porter Jr.",
          "Otto Porter Jr.",
          "Taurean Prince",
          "Cam Reddish",
          "Duncan Robinson",
          "Matt Ryan",
          "Jordan Schakel",
          "Xavier Sneed",
          "Max Strus",
          "Cole Swider",
          "Jae'Sean Tate",
          "Juan Toscano-Anderson",
          "Franz Wagner",
          "Ish Wainright",
          "Jabari Walker",
          "Yuta Watanabe",
          "Jack White",
          "Joe Wieskamp",
          "Andrew Wiggins",
          "Ziaire Williams",
          "Dylan Windler",
          "Justise Winslow"
         ],
         "legendgroup": "SF",
         "marker": {
          "color": "#00cc96"
         },
         "name": "SF",
         "notched": false,
         "offsetgroup": "SF",
         "orientation": "v",
         "showlegend": true,
         "type": "box",
         "x": [
          "SF",
          "SF",
          "SF",
          "SF",
          "SF",
          "SF",
          "SF",
          "SF",
          "SF",
          "SF",
          "SF",
          "SF",
          "SF",
          "SF",
          "SF",
          "SF",
          "SF",
          "SF",
          "SF",
          "SF",
          "SF",
          "SF",
          "SF",
          "SF",
          "SF",
          "SF",
          "SF",
          "SF",
          "SF",
          "SF",
          "SF",
          "SF",
          "SF",
          "SF",
          "SF",
          "SF",
          "SF",
          "SF",
          "SF",
          "SF",
          "SF",
          "SF",
          "SF",
          "SF",
          "SF",
          "SF",
          "SF",
          "SF",
          "SF",
          "SF",
          "SF",
          "SF",
          "SF",
          "SF",
          "SF",
          "SF",
          "SF",
          "SF",
          "SF",
          "SF",
          "SF",
          "SF",
          "SF",
          "SF",
          "SF",
          "SF",
          "SF",
          "SF",
          "SF",
          "SF",
          "SF",
          "SF",
          "SF",
          "SF",
          "SF",
          "SF",
          "SF",
          "SF",
          "SF",
          "SF",
          "SF",
          "SF",
          "SF",
          "SF",
          "SF",
          "SF",
          "SF",
          "SF",
          "SF",
          "SF",
          "SF",
          "SF",
          "SF",
          "SF",
          "SF",
          "SF",
          "SF",
          "SF"
         ],
         "x0": " ",
         "xaxis": "x",
         "y": [
          0.3,
          2,
          1.6,
          0.4,
          0.5,
          0.8,
          0.9,
          0.8666666666666667,
          1.2,
          1.5666666666666669,
          0.5,
          1.4,
          2.9,
          0.6,
          0.5,
          1.6,
          0.3,
          0,
          0.4333333333333333,
          0.9,
          0.4,
          2.1,
          0.7,
          0.9,
          0.3666666666666667,
          0.8,
          0.6,
          0.8,
          0,
          1.5,
          2,
          1.7,
          0.8,
          0,
          0.5,
          0.4,
          1.2,
          1.1,
          1.2,
          3.3,
          0.1,
          0.6,
          2.1,
          1.1,
          0.4,
          1.3,
          0.2,
          0,
          2,
          0.7,
          0.9,
          1.7,
          0.7,
          1.9,
          1.3,
          0.3,
          1.1,
          1.9,
          1.0333333333333332,
          1.4,
          0.9,
          2.2,
          1,
          0.2,
          1,
          0.8,
          0.8,
          0.7333333333333334,
          1,
          1.1,
          0.6,
          0.6,
          0.9,
          1.5,
          0.7,
          1.3,
          1.1,
          0.5,
          1.3,
          1.2,
          0.7,
          0.2333333333333333,
          0,
          0.8,
          0.9,
          0,
          1.5,
          0.7000000000000001,
          2.1,
          0.4,
          0.5,
          0.4,
          0.1,
          0.1,
          1.3,
          1,
          0.3,
          1.5
         ],
         "y0": " ",
         "yaxis": "y"
        },
        {
         "alignmentgroup": "True",
         "hovertemplate": "<b>%{hovertext}</b><br><br>Position=%{x}<br>Turn-Overs=%{y}<extra></extra>",
         "hovertext": [
          "Santi Aldama",
          "Kyle Anderson",
          "Giannis Antetokounmpo",
          "Paolo Banchero",
          "Harrison Barnes",
          "Scottie Barnes",
          "Nicolas Batum",
          "Darius Bazley",
          "Dāvis Bertāns",
          "Bojan Bogdanović",
          "Bol Bol",
          "Chris Boucher",
          "Jarrell Brantley",
          "Greg Brown III",
          "Vlatko Čančar",
          "Brandon Clarke",
          "John Collins",
          "Xavier Cooks",
          "Robert Covington",
          "Darius Days",
          "Moussa Diabaté",
          "Mamadi Diakite",
          "Tari Eason",
          "Dorian Finney-Smith",
          "Michael Foster Jr.",
          "Wenyen Gabriel",
          "Usman Garuba",
          "Rudy Gay",
          "Anthony Gill",
          "Aaron Gordon",
          "Jerami Grant",
          "RaiQuan Gray",
          "Draymond Green",
          "JaMychal Green",
          "Jeff Green",
          "Rui Hachimura",
          "Tobias Harris",
          "Sam Hauser",
          "Juancho Hernangómez",
          "Jonathan Isaac",
          "LeBron James",
          "Alize Johnson",
          "Cameron Johnson",
          "James Johnson",
          "Nikola Jović",
          "Mfiondu Kabengele",
          "Nathan Knight",
          "Jonathan Kuminga",
          "Kyle Kuzma",
          "Jake LaRavia",
          "Isaiah Livers",
          "Kenneth Lofton Jr.",
          "Kevin Love",
          "Trey Lyles",
          "Caleb Martin",
          "Evan Mobley",
          "Isaiah Mobley",
          "Markieff Morris",
          "Marcus Morris",
          "Larry Nance Jr.",
          "Georges Niang",
          "Zeke Nnaji",
          "KZ Okpala",
          "Aleksej Pokusevski",
          "Bobby Portis",
          "Micah Potter",
          "Julius Randle",
          "Jeremiah Robinson-Earl",
          "Isaiah Roby",
          "David Roddy",
          "Luka Šamanić",
          "Dario Šarić",
          "Admiral Schofield",
          "Chris Silva",
          "Jalen Smith",
          "Jabari Smith Jr.",
          "Jeremy Sochan",
          "Lamar Stevens",
          "Jayson Tatum",
          "Terry Taylor",
          "JT Thor",
          "Xavier Tillman Sr.",
          "Isaiah Todd",
          "Obi Toppin",
          "Karl-Anthony Towns",
          "P.J. Tucker",
          "Jarred Vanderbilt",
          "Dean Wade",
          "P.J. Washington",
          "Trendon Watford",
          "Grant Williams",
          "Jaylin Williams",
          "Kenrich Williams",
          "Patrick Williams",
          "Zion Williamson",
          "Thaddeus Young"
         ],
         "legendgroup": "PF",
         "marker": {
          "color": "#ab63fa"
         },
         "name": "PF",
         "notched": false,
         "offsetgroup": "PF",
         "orientation": "v",
         "showlegend": true,
         "type": "box",
         "x": [
          "PF",
          "PF",
          "PF",
          "PF",
          "PF",
          "PF",
          "PF",
          "PF",
          "PF",
          "PF",
          "PF",
          "PF",
          "PF",
          "PF",
          "PF",
          "PF",
          "PF",
          "PF",
          "PF",
          "PF",
          "PF",
          "PF",
          "PF",
          "PF",
          "PF",
          "PF",
          "PF",
          "PF",
          "PF",
          "PF",
          "PF",
          "PF",
          "PF",
          "PF",
          "PF",
          "PF",
          "PF",
          "PF",
          "PF",
          "PF",
          "PF",
          "PF",
          "PF",
          "PF",
          "PF",
          "PF",
          "PF",
          "PF",
          "PF",
          "PF",
          "PF",
          "PF",
          "PF",
          "PF",
          "PF",
          "PF",
          "PF",
          "PF",
          "PF",
          "PF",
          "PF",
          "PF",
          "PF",
          "PF",
          "PF",
          "PF",
          "PF",
          "PF",
          "PF",
          "PF",
          "PF",
          "PF",
          "PF",
          "PF",
          "PF",
          "PF",
          "PF",
          "PF",
          "PF",
          "PF",
          "PF",
          "PF",
          "PF",
          "PF",
          "PF",
          "PF",
          "PF",
          "PF",
          "PF",
          "PF",
          "PF",
          "PF",
          "PF",
          "PF",
          "PF",
          "PF"
         ],
         "x0": " ",
         "xaxis": "x",
         "y": [
          0.8,
          1.5,
          3.9,
          2.8,
          1,
          2,
          0.6,
          0.6333333333333333,
          0.2,
          2.3,
          1.6,
          0.5,
          0.5,
          0.4,
          0.6,
          1,
          1.1,
          0.8,
          0.7,
          0,
          0.4,
          0.5,
          1.2,
          0.9333333333333332,
          0,
          0.7,
          0.6,
          0.7,
          0.3,
          1.4,
          1.8,
          4,
          2.8,
          0.9,
          0.8,
          0.8333333333333334,
          1.2,
          0.4,
          0.4,
          0.4,
          3.2,
          1,
          0.8666666666666667,
          0.4,
          0.7,
          0.3,
          0.6,
          1.4,
          3,
          0.5,
          0.6,
          0.5,
          1.1,
          0.9,
          1.1,
          1.8,
          0.1,
          0.5,
          0.9,
          0.6,
          0.7,
          0.6,
          0.2,
          1.3,
          1.2,
          0.3,
          2.8,
          0.4,
          0.7,
          0.8,
          1.4,
          1,
          0.4,
          1,
          1.1,
          1.3,
          1.7,
          0.4,
          2.9,
          0.1999999999999999,
          0.6,
          0.7,
          0.3,
          0.6,
          3,
          0.6,
          1.2,
          0.4,
          1.5,
          1.1,
          1,
          0.8,
          0.6,
          1.2,
          3.4,
          0.8
         ],
         "y0": " ",
         "yaxis": "y"
        },
        {
         "alignmentgroup": "True",
         "hovertemplate": "<b>%{hovertext}</b><br><br>Position=%{x}<br>Turn-Overs=%{y}<extra></extra>",
         "hovertext": [
          "Precious Achiuwa",
          "Steven Adams",
          "Bam Adebayo",
          "Jarrett Allen",
          "Deandre Ayton",
          "Udoka Azubuike",
          "Marvin Bagley III",
          "Mo Bamba",
          "Charles Bassey",
          "Khem Birch",
          "Goga Bitadze",
          "Bismack Biyombo",
          "Tony Bradley",
          "Moses Brown",
          "Thomas Bryant",
          "John Butler",
          "Clint Capela",
          "Vernon Carey Jr.",
          "Wendell Carter Jr.",
          "Nic Claxton",
          "Zach Collins",
          "Chance Comanche",
          "Anthony Davis",
          "Dewayne Dedmon",
          "Gorgui Dieng",
          "Andre Drummond",
          "Jalen Duren",
          "Joel Embiid",
          "Drew Eubanks",
          "Bruno Fernando",
          "Daniel Gafford",
          "Luka Garza",
          "Taj Gibson",
          "Rudy Gobert",
          "Blake Griffin",
          "Montrezl Harrell",
          "Isaiah Hartenstein",
          "Udonis Haslem",
          "Jaxson Hayes",
          "Willy Hernangómez",
          "Richaun Holmes",
          "Al Horford",
          "Jay Huff",
          "Serge Ibaka",
          "Isaiah Jackson",
          "Jaren Jackson Jr.",
          "Nikola Jokić",
          "Damian Jones",
          "Kai Jones",
          "DeAndre Jordan",
          "Frank Kaminsky",
          "Walker Kessler",
          "Maxi Kleber",
          "Christian Koloko",
          "Luke Kornet",
          "Jock Landale",
          "Alex Len",
          "Meyers Leonard",
          "Kevon Looney",
          "Brook Lopez",
          "Robin Lopez",
          "Sandro Mamukelashvili",
          "Boban Marjanović",
          "JaVale McGee",
          "Chimezie Metu",
          "Mike Muscala",
          "Nerlens Noel",
          "Jusuf Nurkić",
          "Onyeka Okongwu",
          "Kelly Olynyk",
          "Mason Plumlee",
          "Jakob Poeltl",
          "Kristaps Porziņģis",
          "Dwight Powell",
          "Neemias Queta",
          "Paul Reed",
          "Naz Reid",
          "Nick Richards",
          "Mitchell Robinson",
          "Orlando Robinson",
          "Domantas Sabonis",
          "Olivier Sarr",
          "Alperen Şengün",
          "Day'Ron Sharpe",
          "Pascal Siakam",
          "Marko Simonovic",
          "Jericho Sims",
          "Isaiah Stewart",
          "Daniel Theis",
          "Myles Turner",
          "Jonas Valančiūnas",
          "Noah Vonleh",
          "Nikola Vučević",
          "Moritz Wagner",
          "Mark Williams",
          "Robert Williams",
          "James Wiseman",
          "Christian Wood",
          "Omer Yurtseven",
          "Cody Zeller",
          "Ivica Zubac"
         ],
         "legendgroup": "C",
         "marker": {
          "color": "#FFA15A"
         },
         "name": "C",
         "notched": false,
         "offsetgroup": "C",
         "orientation": "v",
         "showlegend": true,
         "type": "box",
         "x": [
          "C",
          "C",
          "C",
          "C",
          "C",
          "C",
          "C",
          "C",
          "C",
          "C",
          "C",
          "C",
          "C",
          "C",
          "C",
          "C",
          "C",
          "C",
          "C",
          "C",
          "C",
          "C",
          "C",
          "C",
          "C",
          "C",
          "C",
          "C",
          "C",
          "C",
          "C",
          "C",
          "C",
          "C",
          "C",
          "C",
          "C",
          "C",
          "C",
          "C",
          "C",
          "C",
          "C",
          "C",
          "C",
          "C",
          "C",
          "C",
          "C",
          "C",
          "C",
          "C",
          "C",
          "C",
          "C",
          "C",
          "C",
          "C",
          "C",
          "C",
          "C",
          "C",
          "C",
          "C",
          "C",
          "C",
          "C",
          "C",
          "C",
          "C",
          "C",
          "C",
          "C",
          "C",
          "C",
          "C",
          "C",
          "C",
          "C",
          "C",
          "C",
          "C",
          "C",
          "C",
          "C",
          "C",
          "C",
          "C",
          "C",
          "C",
          "C",
          "C",
          "C",
          "C",
          "C",
          "C",
          "C",
          "C",
          "C",
          "C",
          "C"
         ],
         "x0": " ",
         "xaxis": "x",
         "y": [
          1.1,
          1.9,
          2.5,
          1.4,
          1.8,
          0.5,
          1.1,
          0.7000000000000001,
          1.2,
          0.4,
          0.6,
          0.8,
          0.1,
          0.4333333333333333,
          0.6333333333333333,
          0.1,
          0.8,
          0.2,
          1.9,
          1.3,
          2,
          0,
          2.2,
          0.7000000000000001,
          1,
          1.1,
          1.4,
          3.4,
          0.9,
          0.6,
          1.1,
          0.5,
          0.5,
          1.7,
          0.5,
          0.6,
          0.8,
          0.1,
          0.7,
          1,
          0.3,
          0.6,
          0.7,
          0.7,
          0.8,
          1.7,
          3.6,
          0.5666666666666667,
          0.7,
          1.2,
          0.1999999999999999,
          0.8,
          0.7,
          0.3,
          0.4,
          0.9,
          0.6,
          0.7,
          0.5,
          1.4,
          0.7,
          0.8666666666666667,
          0.5,
          0.9,
          0.5,
          0.3999999999999999,
          1.0333333333333334,
          2.3,
          1,
          2.5,
          1.4666666666666668,
          1.6333333333333335,
          2.1,
          0.9,
          0.2,
          0.7,
          1.4,
          0.9,
          0.7,
          0.5,
          2.9,
          0.4,
          2.6,
          0.9,
          2.4,
          0,
          0.5,
          1.4,
          0.4,
          1.7,
          2,
          0.5,
          1.7,
          1.2,
          0.9,
          1,
          1.1,
          1.8,
          0.4,
          0.9,
          1.5
         ],
         "y0": " ",
         "yaxis": "y"
        },
        {
         "alignmentgroup": "True",
         "hovertemplate": "<b>%{hovertext}</b><br><br>Position=%{x}<br>Turn-Overs=%{y}<extra></extra>",
         "hovertext": [
          "Kevin Durant",
          "Kevin Knox",
          "T.J. Warren"
         ],
         "legendgroup": "PF-SF",
         "marker": {
          "color": "#19d3f3"
         },
         "name": "PF-SF",
         "notched": false,
         "offsetgroup": "PF-SF",
         "orientation": "v",
         "showlegend": true,
         "type": "box",
         "x": [
          "PF-SF",
          "PF-SF",
          "PF-SF"
         ],
         "x0": " ",
         "xaxis": "x",
         "y": [
          3.1,
          0.8333333333333334,
          0.4666666666666666
         ],
         "y0": " ",
         "yaxis": "y"
        }
       ],
       "layout": {
        "boxmode": "overlay",
        "legend": {
         "title": {
          "text": "Position"
         },
         "tracegroupgap": 0
        },
        "template": {
         "data": {
          "bar": [
           {
            "error_x": {
             "color": "#2a3f5f"
            },
            "error_y": {
             "color": "#2a3f5f"
            },
            "marker": {
             "line": {
              "color": "#E5ECF6",
              "width": 0.5
             },
             "pattern": {
              "fillmode": "overlay",
              "size": 10,
              "solidity": 0.2
             }
            },
            "type": "bar"
           }
          ],
          "barpolar": [
           {
            "marker": {
             "line": {
              "color": "#E5ECF6",
              "width": 0.5
             },
             "pattern": {
              "fillmode": "overlay",
              "size": 10,
              "solidity": 0.2
             }
            },
            "type": "barpolar"
           }
          ],
          "carpet": [
           {
            "aaxis": {
             "endlinecolor": "#2a3f5f",
             "gridcolor": "white",
             "linecolor": "white",
             "minorgridcolor": "white",
             "startlinecolor": "#2a3f5f"
            },
            "baxis": {
             "endlinecolor": "#2a3f5f",
             "gridcolor": "white",
             "linecolor": "white",
             "minorgridcolor": "white",
             "startlinecolor": "#2a3f5f"
            },
            "type": "carpet"
           }
          ],
          "choropleth": [
           {
            "colorbar": {
             "outlinewidth": 0,
             "ticks": ""
            },
            "type": "choropleth"
           }
          ],
          "contour": [
           {
            "colorbar": {
             "outlinewidth": 0,
             "ticks": ""
            },
            "colorscale": [
             [
              0,
              "#0d0887"
             ],
             [
              0.1111111111111111,
              "#46039f"
             ],
             [
              0.2222222222222222,
              "#7201a8"
             ],
             [
              0.3333333333333333,
              "#9c179e"
             ],
             [
              0.4444444444444444,
              "#bd3786"
             ],
             [
              0.5555555555555556,
              "#d8576b"
             ],
             [
              0.6666666666666666,
              "#ed7953"
             ],
             [
              0.7777777777777778,
              "#fb9f3a"
             ],
             [
              0.8888888888888888,
              "#fdca26"
             ],
             [
              1,
              "#f0f921"
             ]
            ],
            "type": "contour"
           }
          ],
          "contourcarpet": [
           {
            "colorbar": {
             "outlinewidth": 0,
             "ticks": ""
            },
            "type": "contourcarpet"
           }
          ],
          "heatmap": [
           {
            "colorbar": {
             "outlinewidth": 0,
             "ticks": ""
            },
            "colorscale": [
             [
              0,
              "#0d0887"
             ],
             [
              0.1111111111111111,
              "#46039f"
             ],
             [
              0.2222222222222222,
              "#7201a8"
             ],
             [
              0.3333333333333333,
              "#9c179e"
             ],
             [
              0.4444444444444444,
              "#bd3786"
             ],
             [
              0.5555555555555556,
              "#d8576b"
             ],
             [
              0.6666666666666666,
              "#ed7953"
             ],
             [
              0.7777777777777778,
              "#fb9f3a"
             ],
             [
              0.8888888888888888,
              "#fdca26"
             ],
             [
              1,
              "#f0f921"
             ]
            ],
            "type": "heatmap"
           }
          ],
          "heatmapgl": [
           {
            "colorbar": {
             "outlinewidth": 0,
             "ticks": ""
            },
            "colorscale": [
             [
              0,
              "#0d0887"
             ],
             [
              0.1111111111111111,
              "#46039f"
             ],
             [
              0.2222222222222222,
              "#7201a8"
             ],
             [
              0.3333333333333333,
              "#9c179e"
             ],
             [
              0.4444444444444444,
              "#bd3786"
             ],
             [
              0.5555555555555556,
              "#d8576b"
             ],
             [
              0.6666666666666666,
              "#ed7953"
             ],
             [
              0.7777777777777778,
              "#fb9f3a"
             ],
             [
              0.8888888888888888,
              "#fdca26"
             ],
             [
              1,
              "#f0f921"
             ]
            ],
            "type": "heatmapgl"
           }
          ],
          "histogram": [
           {
            "marker": {
             "pattern": {
              "fillmode": "overlay",
              "size": 10,
              "solidity": 0.2
             }
            },
            "type": "histogram"
           }
          ],
          "histogram2d": [
           {
            "colorbar": {
             "outlinewidth": 0,
             "ticks": ""
            },
            "colorscale": [
             [
              0,
              "#0d0887"
             ],
             [
              0.1111111111111111,
              "#46039f"
             ],
             [
              0.2222222222222222,
              "#7201a8"
             ],
             [
              0.3333333333333333,
              "#9c179e"
             ],
             [
              0.4444444444444444,
              "#bd3786"
             ],
             [
              0.5555555555555556,
              "#d8576b"
             ],
             [
              0.6666666666666666,
              "#ed7953"
             ],
             [
              0.7777777777777778,
              "#fb9f3a"
             ],
             [
              0.8888888888888888,
              "#fdca26"
             ],
             [
              1,
              "#f0f921"
             ]
            ],
            "type": "histogram2d"
           }
          ],
          "histogram2dcontour": [
           {
            "colorbar": {
             "outlinewidth": 0,
             "ticks": ""
            },
            "colorscale": [
             [
              0,
              "#0d0887"
             ],
             [
              0.1111111111111111,
              "#46039f"
             ],
             [
              0.2222222222222222,
              "#7201a8"
             ],
             [
              0.3333333333333333,
              "#9c179e"
             ],
             [
              0.4444444444444444,
              "#bd3786"
             ],
             [
              0.5555555555555556,
              "#d8576b"
             ],
             [
              0.6666666666666666,
              "#ed7953"
             ],
             [
              0.7777777777777778,
              "#fb9f3a"
             ],
             [
              0.8888888888888888,
              "#fdca26"
             ],
             [
              1,
              "#f0f921"
             ]
            ],
            "type": "histogram2dcontour"
           }
          ],
          "mesh3d": [
           {
            "colorbar": {
             "outlinewidth": 0,
             "ticks": ""
            },
            "type": "mesh3d"
           }
          ],
          "parcoords": [
           {
            "line": {
             "colorbar": {
              "outlinewidth": 0,
              "ticks": ""
             }
            },
            "type": "parcoords"
           }
          ],
          "pie": [
           {
            "automargin": true,
            "type": "pie"
           }
          ],
          "scatter": [
           {
            "fillpattern": {
             "fillmode": "overlay",
             "size": 10,
             "solidity": 0.2
            },
            "type": "scatter"
           }
          ],
          "scatter3d": [
           {
            "line": {
             "colorbar": {
              "outlinewidth": 0,
              "ticks": ""
             }
            },
            "marker": {
             "colorbar": {
              "outlinewidth": 0,
              "ticks": ""
             }
            },
            "type": "scatter3d"
           }
          ],
          "scattercarpet": [
           {
            "marker": {
             "colorbar": {
              "outlinewidth": 0,
              "ticks": ""
             }
            },
            "type": "scattercarpet"
           }
          ],
          "scattergeo": [
           {
            "marker": {
             "colorbar": {
              "outlinewidth": 0,
              "ticks": ""
             }
            },
            "type": "scattergeo"
           }
          ],
          "scattergl": [
           {
            "marker": {
             "colorbar": {
              "outlinewidth": 0,
              "ticks": ""
             }
            },
            "type": "scattergl"
           }
          ],
          "scattermapbox": [
           {
            "marker": {
             "colorbar": {
              "outlinewidth": 0,
              "ticks": ""
             }
            },
            "type": "scattermapbox"
           }
          ],
          "scatterpolar": [
           {
            "marker": {
             "colorbar": {
              "outlinewidth": 0,
              "ticks": ""
             }
            },
            "type": "scatterpolar"
           }
          ],
          "scatterpolargl": [
           {
            "marker": {
             "colorbar": {
              "outlinewidth": 0,
              "ticks": ""
             }
            },
            "type": "scatterpolargl"
           }
          ],
          "scatterternary": [
           {
            "marker": {
             "colorbar": {
              "outlinewidth": 0,
              "ticks": ""
             }
            },
            "type": "scatterternary"
           }
          ],
          "surface": [
           {
            "colorbar": {
             "outlinewidth": 0,
             "ticks": ""
            },
            "colorscale": [
             [
              0,
              "#0d0887"
             ],
             [
              0.1111111111111111,
              "#46039f"
             ],
             [
              0.2222222222222222,
              "#7201a8"
             ],
             [
              0.3333333333333333,
              "#9c179e"
             ],
             [
              0.4444444444444444,
              "#bd3786"
             ],
             [
              0.5555555555555556,
              "#d8576b"
             ],
             [
              0.6666666666666666,
              "#ed7953"
             ],
             [
              0.7777777777777778,
              "#fb9f3a"
             ],
             [
              0.8888888888888888,
              "#fdca26"
             ],
             [
              1,
              "#f0f921"
             ]
            ],
            "type": "surface"
           }
          ],
          "table": [
           {
            "cells": {
             "fill": {
              "color": "#EBF0F8"
             },
             "line": {
              "color": "white"
             }
            },
            "header": {
             "fill": {
              "color": "#C8D4E3"
             },
             "line": {
              "color": "white"
             }
            },
            "type": "table"
           }
          ]
         },
         "layout": {
          "annotationdefaults": {
           "arrowcolor": "#2a3f5f",
           "arrowhead": 0,
           "arrowwidth": 1
          },
          "autotypenumbers": "strict",
          "coloraxis": {
           "colorbar": {
            "outlinewidth": 0,
            "ticks": ""
           }
          },
          "colorscale": {
           "diverging": [
            [
             0,
             "#8e0152"
            ],
            [
             0.1,
             "#c51b7d"
            ],
            [
             0.2,
             "#de77ae"
            ],
            [
             0.3,
             "#f1b6da"
            ],
            [
             0.4,
             "#fde0ef"
            ],
            [
             0.5,
             "#f7f7f7"
            ],
            [
             0.6,
             "#e6f5d0"
            ],
            [
             0.7,
             "#b8e186"
            ],
            [
             0.8,
             "#7fbc41"
            ],
            [
             0.9,
             "#4d9221"
            ],
            [
             1,
             "#276419"
            ]
           ],
           "sequential": [
            [
             0,
             "#0d0887"
            ],
            [
             0.1111111111111111,
             "#46039f"
            ],
            [
             0.2222222222222222,
             "#7201a8"
            ],
            [
             0.3333333333333333,
             "#9c179e"
            ],
            [
             0.4444444444444444,
             "#bd3786"
            ],
            [
             0.5555555555555556,
             "#d8576b"
            ],
            [
             0.6666666666666666,
             "#ed7953"
            ],
            [
             0.7777777777777778,
             "#fb9f3a"
            ],
            [
             0.8888888888888888,
             "#fdca26"
            ],
            [
             1,
             "#f0f921"
            ]
           ],
           "sequentialminus": [
            [
             0,
             "#0d0887"
            ],
            [
             0.1111111111111111,
             "#46039f"
            ],
            [
             0.2222222222222222,
             "#7201a8"
            ],
            [
             0.3333333333333333,
             "#9c179e"
            ],
            [
             0.4444444444444444,
             "#bd3786"
            ],
            [
             0.5555555555555556,
             "#d8576b"
            ],
            [
             0.6666666666666666,
             "#ed7953"
            ],
            [
             0.7777777777777778,
             "#fb9f3a"
            ],
            [
             0.8888888888888888,
             "#fdca26"
            ],
            [
             1,
             "#f0f921"
            ]
           ]
          },
          "colorway": [
           "#636efa",
           "#EF553B",
           "#00cc96",
           "#ab63fa",
           "#FFA15A",
           "#19d3f3",
           "#FF6692",
           "#B6E880",
           "#FF97FF",
           "#FECB52"
          ],
          "font": {
           "color": "#2a3f5f"
          },
          "geo": {
           "bgcolor": "white",
           "lakecolor": "white",
           "landcolor": "#E5ECF6",
           "showlakes": true,
           "showland": true,
           "subunitcolor": "white"
          },
          "hoverlabel": {
           "align": "left"
          },
          "hovermode": "closest",
          "mapbox": {
           "style": "light"
          },
          "paper_bgcolor": "white",
          "plot_bgcolor": "#E5ECF6",
          "polar": {
           "angularaxis": {
            "gridcolor": "white",
            "linecolor": "white",
            "ticks": ""
           },
           "bgcolor": "#E5ECF6",
           "radialaxis": {
            "gridcolor": "white",
            "linecolor": "white",
            "ticks": ""
           }
          },
          "scene": {
           "xaxis": {
            "backgroundcolor": "#E5ECF6",
            "gridcolor": "white",
            "gridwidth": 2,
            "linecolor": "white",
            "showbackground": true,
            "ticks": "",
            "zerolinecolor": "white"
           },
           "yaxis": {
            "backgroundcolor": "#E5ECF6",
            "gridcolor": "white",
            "gridwidth": 2,
            "linecolor": "white",
            "showbackground": true,
            "ticks": "",
            "zerolinecolor": "white"
           },
           "zaxis": {
            "backgroundcolor": "#E5ECF6",
            "gridcolor": "white",
            "gridwidth": 2,
            "linecolor": "white",
            "showbackground": true,
            "ticks": "",
            "zerolinecolor": "white"
           }
          },
          "shapedefaults": {
           "line": {
            "color": "#2a3f5f"
           }
          },
          "ternary": {
           "aaxis": {
            "gridcolor": "white",
            "linecolor": "white",
            "ticks": ""
           },
           "baxis": {
            "gridcolor": "white",
            "linecolor": "white",
            "ticks": ""
           },
           "bgcolor": "#E5ECF6",
           "caxis": {
            "gridcolor": "white",
            "linecolor": "white",
            "ticks": ""
           }
          },
          "title": {
           "x": 0.05
          },
          "xaxis": {
           "automargin": true,
           "gridcolor": "white",
           "linecolor": "white",
           "ticks": "",
           "title": {
            "standoff": 15
           },
           "zerolinecolor": "white",
           "zerolinewidth": 2
          },
          "yaxis": {
           "automargin": true,
           "gridcolor": "white",
           "linecolor": "white",
           "ticks": "",
           "title": {
            "standoff": 15
           },
           "zerolinecolor": "white",
           "zerolinewidth": 2
          }
         }
        },
        "title": {
         "text": "Turn-Overs per Game by Position"
        },
        "xaxis": {
         "anchor": "y",
         "categoryarray": [
          "PG",
          "SG",
          "SF",
          "PF",
          "C",
          "PF-SF",
          "SF-SG",
          "SG-PG"
         ],
         "categoryorder": "array",
         "domain": [
          0,
          1
         ],
         "title": {
          "text": "Position"
         }
        },
        "yaxis": {
         "anchor": "x",
         "domain": [
          0,
          1
         ],
         "title": {
          "text": "Turn-Overs"
         }
        }
       }
      }
     },
     "metadata": {},
     "output_type": "display_data"
    }
   ],
   "source": [
    "px.box(data_frame = df06,\n",
    "       x = 'Pos',\n",
    "       y = 'TOV',\n",
    "       color = 'Pos',\n",
    "       hover_name = 'Player',\n",
    "       title = 'Turn-Overs per Game by Position',\n",
    "       labels = {'TOV':'Turn-Overs', 'Pos': 'Position'},\n",
    "       category_orders = {'Pos':('PG', 'SG', 'SF', 'PF', 'C', 'PF-SF', 'SF-SG', 'SG-PG')})"
   ]
  },
  {
   "attachments": {},
   "cell_type": "markdown",
   "metadata": {},
   "source": [
    "### How are distributed the Blocks Per Game according to the Position assigned to each PLayers?"
   ]
  },
  {
   "cell_type": "code",
   "execution_count": 486,
   "metadata": {},
   "outputs": [
    {
     "data": {
      "application/vnd.plotly.v1+json": {
       "config": {
        "plotlyServerURL": "https://plot.ly"
       },
       "data": [
        {
         "alignmentgroup": "True",
         "hovertemplate": "<b>%{hovertext}</b><br><br>Position=%{x}<br>Blocks=%{y}<extra></extra>",
         "hovertext": [
          "Jose Alvarado",
          "Cole Anthony",
          "Ryan Arcidiacono",
          "LaMelo Ball",
          "Dalano Banton",
          "Patrick Beverley",
          "Buddy Boeheim",
          "Jamaree Bouyea",
          "Malcolm Brogdon",
          "Jalen Brunson",
          "Facundo Campazzo",
          "Jevon Carter",
          "Michael Carter-Williams",
          "Alex Caruso",
          "Kennedy Chandler",
          "Mike Conley",
          "Cade Cunningham",
          "Stephen Curry",
          "Dyson Daniels",
          "JD Davison",
          "Matthew Dellavedova",
          "Spencer Dinwiddie",
          "Luka Dončić",
          "Devon Dotson",
          "Jeff Dowtin",
          "Goran Dragić",
          "Kris Dunn",
          "Malachi Flynn",
          "Trent Forrest",
          "De'Aaron Fox",
          "Markelle Fultz",
          "Darius Garland",
          "Shai Gilgeous-Alexander",
          "Jacob Gilyard",
          "Jordan Goodwin",
          "Devonte' Graham",
          "Tyrese Haliburton",
          "R.J. Hampton",
          "James Harden",
          "Killian Hayes",
          "George Hill",
          "Aaron Holiday",
          "Jrue Holiday",
          "Trevor Hudgins",
          "Bones Hyland",
          "Kyrie Irving",
          "Frank Jackson",
          "Quenton Jackson",
          "Reggie Jackson",
          "Carlik Jones",
          "Tre Jones",
          "Tyus Jones",
          "Cory Joseph",
          "Vit Krejci",
          "Saben Lee",
          "Kira Lewis Jr.",
          "Damian Lillard",
          "Kyle Lowry",
          "Théo Maledon",
          "Tre Mann",
          "Miles McBride",
          "T.J. McConnell",
          "Jordan McLaughlin",
          "De'Anthony Melton",
          "Patty Mills",
          "Davion Mitchell",
          "Ja Morant",
          "Monte Morris",
          "Jamal Murray",
          "Raul Neto",
          "Daishen Nix",
          "Frank Ntilikina",
          "Chris Paul",
          "Cameron Payne",
          "Gary Payton II",
          "Scotty Pippen Jr.",
          "Jordan Poole",
          "Kevin Porter Jr.",
          "Jason Preston",
          "Payton Pritchard",
          "Immanuel Quickley",
          "Ryan Rollins",
          "Derrick Rose",
          "Ricky Rubio",
          "D'Angelo Russell",
          "Dennis Schröder",
          "Ben Simmons",
          "Kobi Simmons",
          "Marcus Smart",
          "Dennis Smith Jr.",
          "Ish Smith",
          "Jalen Suggs",
          "Fred VanVleet",
          "Gabe Vincent",
          "Kemba Walker",
          "John Wall",
          "TyTy Washington Jr.",
          "Russell Westbrook",
          "Lindell Wigginton",
          "Delon Wright",
          "McKinley Wright IV",
          "Trae Young"
         ],
         "legendgroup": "PG",
         "marker": {
          "color": "#636efa"
         },
         "name": "PG",
         "notched": false,
         "offsetgroup": "PG",
         "orientation": "v",
         "showlegend": true,
         "type": "box",
         "x": [
          "PG",
          "PG",
          "PG",
          "PG",
          "PG",
          "PG",
          "PG",
          "PG",
          "PG",
          "PG",
          "PG",
          "PG",
          "PG",
          "PG",
          "PG",
          "PG",
          "PG",
          "PG",
          "PG",
          "PG",
          "PG",
          "PG",
          "PG",
          "PG",
          "PG",
          "PG",
          "PG",
          "PG",
          "PG",
          "PG",
          "PG",
          "PG",
          "PG",
          "PG",
          "PG",
          "PG",
          "PG",
          "PG",
          "PG",
          "PG",
          "PG",
          "PG",
          "PG",
          "PG",
          "PG",
          "PG",
          "PG",
          "PG",
          "PG",
          "PG",
          "PG",
          "PG",
          "PG",
          "PG",
          "PG",
          "PG",
          "PG",
          "PG",
          "PG",
          "PG",
          "PG",
          "PG",
          "PG",
          "PG",
          "PG",
          "PG",
          "PG",
          "PG",
          "PG",
          "PG",
          "PG",
          "PG",
          "PG",
          "PG",
          "PG",
          "PG",
          "PG",
          "PG",
          "PG",
          "PG",
          "PG",
          "PG",
          "PG",
          "PG",
          "PG",
          "PG",
          "PG",
          "PG",
          "PG",
          "PG",
          "PG",
          "PG",
          "PG",
          "PG",
          "PG",
          "PG",
          "PG",
          "PG",
          "PG",
          "PG",
          "PG",
          "PG"
         ],
         "x0": " ",
         "xaxis": "x",
         "y": [
          0.2,
          0.5,
          0,
          0.3,
          0.4,
          0.6333333333333333,
          0,
          0.3,
          0.3,
          0.2,
          0,
          0.4,
          0.3,
          0.7,
          0.1,
          0.2,
          0.6,
          0.4,
          0.2,
          0.2,
          0,
          0.3,
          0.5,
          0,
          0.1,
          0.0666666666666666,
          0.5,
          0.1,
          0.1,
          0.3,
          0.4,
          0.1,
          1,
          0,
          0.4,
          0.2333333333333333,
          0.4,
          0.2,
          0.5,
          0.4,
          0.1666666666666666,
          0.2,
          0.4,
          0,
          0.2333333333333333,
          0.7333333333333334,
          0,
          0.1,
          0.1,
          0,
          0.1,
          0.1,
          0.1,
          0,
          0,
          0.1,
          0.3,
          0.4,
          0.3,
          0.2,
          0.1,
          0.1,
          0.1,
          0.5,
          0.1,
          0.2,
          0.3,
          0.2,
          0.2,
          0.1,
          0.1,
          0.1,
          0.4,
          0.2,
          0.3,
          0.2,
          0.3,
          0.3,
          0,
          0,
          0.2,
          0.1,
          0.2,
          0.2,
          0.4333333333333333,
          0.2,
          0.6,
          0.4,
          0.4,
          0.5,
          0.2,
          0.5,
          0.6,
          0.1,
          0.2,
          0.4,
          0.1,
          0.4666666666666666,
          0.3,
          0.3,
          0.2,
          0.1
         ],
         "y0": " ",
         "yaxis": "y"
        },
        {
         "alignmentgroup": "True",
         "hovertemplate": "<b>%{hovertext}</b><br><br>Position=%{x}<br>Blocks=%{y}<extra></extra>",
         "hovertext": [
          "Ochai Agbaji",
          "Nickeil Alexander-Walker",
          "Grayson Allen",
          "Desmond Bane",
          "RJ Barrett",
          "Will Barton",
          "Bradley Beal",
          "Malik Beasley",
          "Bogdan Bogdanović",
          "Leandro Bolmaro",
          "Devin Booker",
          "Brandon Boston Jr.",
          "James Bouknight",
          "Christian Braun",
          "Bruce Brown",
          "Kendall Brown",
          "Sterling Brown",
          "Alec Burks",
          "Deonte Burton",
          "Jared Butler",
          "Kentavious Caldwell-Pope",
          "Josh Christopher",
          "Max Christie",
          "Jordan Clarkson",
          "Amir Coffey",
          "Pat Connaughton",
          "Jarrett Culver",
          "Seth Curry",
          "Johnny Davis",
          "Terence Davis",
          "Hamidou Diallo",
          "Donte DiVincenzo",
          "Tyler Dorsey",
          "Luguentz Dort",
          "Ayo Dosunmu",
          "PJ Dozier",
          "David Duke Jr.",
          "Anthony Edwards",
          "Keon Ellis",
          "Bryn Forbes",
          "Evan Fournier",
          "Paul George",
          "Josh Giddey",
          "Eric Gordon",
          "A.J. Green",
          "Danny Green",
          "Javonte Green",
          "Jalen Green",
          "Josh Green",
          "Quentin Grimes",
          "Tim Hardaway Jr.",
          "Jaden Hardy",
          "Gary Harris",
          "Joe Harris",
          "Kevon Harris",
          "Shaquille Harrison",
          "Tyler Herro",
          "Justin Holiday",
          "Talen Horton-Tucker",
          "Kevin Huerter",
          "Jaden Ivey",
          "Ty Jerome",
          "Isaiah Joe",
          "Keon Johnson",
          "Trevor Keels",
          "Luke Kennard",
          "John Konchar",
          "Furkan Korkmaz",
          "Romeo Langford",
          "Zach LaVine",
          "A.J. Lawson",
          "Damion Lee",
          "Caris LeVert",
          "Terance Mann",
          "Tyrese Martin",
          "Garrison Mathews",
          "Wesley Matthews",
          "Tyrese Maxey",
          "Skylar Mays",
          "Mac McClung",
          "CJ McCollum",
          "Bryce McGowens",
          "Rodney McGruder",
          "Sam Merrill",
          "Shake Milton",
          "Donovan Mitchell",
          "Malik Monk",
          "Moses Moody",
          "Xavier Moon",
          "Wendell Moore Jr.",
          "Dejounte Murray",
          "Andrew Nembhard",
          "Jaylen Nowell",
          "Kendrick Nunn",
          "Josh Okogie",
          "Victor Oladipo",
          "Theo Pinson",
          "Norman Powell",
          "Joshua Primo",
          "Trevelin Queen",
          "Lester Quinones",
          "Austin Reaves",
          "Davon Reed",
          "Jared Rhoden",
          "Josh Richardson",
          "Austin Rivers",
          "Terrence Ross",
          "Terry Rozier",
          "Jay Scrubb",
          "Dereon Seabron",
          "Collin Sexton",
          "Landry Shamet",
          "Shaedon Sharpe",
          "Anfernee Simons",
          "Dru Smith",
          "Jaden Springer",
          "Edmond Sumner",
          "Garrett Temple",
          "Dalen Terry",
          "Cam Thomas",
          "Klay Thompson",
          "Matisse Thybulle",
          "Gary Trent Jr.",
          "Stanley Umude",
          "Devin Vassell",
          "Lonnie Walker IV",
          "Duane Washington Jr.",
          "Lindy Waters III",
          "Peyton Watson",
          "Blake Wesley",
          "Coby White",
          "Derrick White",
          "Aaron Wiggins",
          "Alondes Williams",
          "Donovan Williams",
          "Jalen Williams",
          "Jeenathan Williams",
          "Vince Williams Jr.",
          "Gabe York"
         ],
         "legendgroup": "SG",
         "marker": {
          "color": "#EF553B"
         },
         "name": "SG",
         "notched": false,
         "offsetgroup": "SG",
         "orientation": "v",
         "showlegend": true,
         "type": "box",
         "x": [
          "SG",
          "SG",
          "SG",
          "SG",
          "SG",
          "SG",
          "SG",
          "SG",
          "SG",
          "SG",
          "SG",
          "SG",
          "SG",
          "SG",
          "SG",
          "SG",
          "SG",
          "SG",
          "SG",
          "SG",
          "SG",
          "SG",
          "SG",
          "SG",
          "SG",
          "SG",
          "SG",
          "SG",
          "SG",
          "SG",
          "SG",
          "SG",
          "SG",
          "SG",
          "SG",
          "SG",
          "SG",
          "SG",
          "SG",
          "SG",
          "SG",
          "SG",
          "SG",
          "SG",
          "SG",
          "SG",
          "SG",
          "SG",
          "SG",
          "SG",
          "SG",
          "SG",
          "SG",
          "SG",
          "SG",
          "SG",
          "SG",
          "SG",
          "SG",
          "SG",
          "SG",
          "SG",
          "SG",
          "SG",
          "SG",
          "SG",
          "SG",
          "SG",
          "SG",
          "SG",
          "SG",
          "SG",
          "SG",
          "SG",
          "SG",
          "SG",
          "SG",
          "SG",
          "SG",
          "SG",
          "SG",
          "SG",
          "SG",
          "SG",
          "SG",
          "SG",
          "SG",
          "SG",
          "SG",
          "SG",
          "SG",
          "SG",
          "SG",
          "SG",
          "SG",
          "SG",
          "SG",
          "SG",
          "SG",
          "SG",
          "SG",
          "SG",
          "SG",
          "SG",
          "SG",
          "SG",
          "SG",
          "SG",
          "SG",
          "SG",
          "SG",
          "SG",
          "SG",
          "SG",
          "SG",
          "SG",
          "SG",
          "SG",
          "SG",
          "SG",
          "SG",
          "SG",
          "SG",
          "SG",
          "SG",
          "SG",
          "SG",
          "SG",
          "SG",
          "SG",
          "SG",
          "SG",
          "SG",
          "SG",
          "SG",
          "SG",
          "SG",
          "SG",
          "SG"
         ],
         "x0": " ",
         "xaxis": "x",
         "y": [
          0.3,
          0.3666666666666667,
          0.2,
          0.4,
          0.2,
          0.2333333333333333,
          0.7,
          0.0666666666666666,
          0.3,
          0.1,
          0.3,
          0,
          0.1,
          0.2,
          0.6,
          0,
          0,
          0.2,
          0,
          0,
          0.5,
          0.2,
          0.2,
          0.2,
          0.1,
          0.2,
          0.2,
          0.1,
          0.3,
          0.2,
          0.3,
          0.1,
          0,
          0.3,
          0.3,
          0.1,
          0,
          0.7,
          0.1,
          0.1,
          0.1,
          0.4,
          0.4,
          0.4000000000000001,
          0,
          0.2333333333333333,
          0.7,
          0.2,
          0.1,
          0.4,
          0.2,
          0.1,
          0.3,
          0.2,
          0.1,
          0.4,
          0.2,
          0.4333333333333333,
          0.4,
          0.3,
          0.2,
          0.1,
          0.1,
          0.2,
          0,
          0.0666666666666666,
          0.3,
          0.1,
          0.3,
          0.2,
          0,
          0.1,
          0.3,
          0.3,
          0,
          0.1,
          0.3,
          0.1,
          0.2,
          0,
          0.5,
          0.1,
          0,
          0,
          0.2,
          0.4,
          0.3,
          0.1,
          0,
          0.2,
          0.3,
          0.2,
          0.1,
          0.1,
          0.5,
          0.3,
          0,
          0.3,
          0.5,
          0.7,
          0,
          0.3,
          0.0666666666666666,
          0.1,
          0.3333333333333333,
          0.1,
          0.1666666666666666,
          0.3,
          0,
          0,
          0.1,
          0.1,
          0.3,
          0.2,
          0.3333333333333333,
          0.2,
          0.2,
          0.1,
          0.1,
          0.1,
          0.4,
          0.5333333333333333,
          0.2,
          1,
          0.4,
          0.3,
          0.1,
          0.3,
          0.5,
          0.1,
          0.1,
          0.9,
          0.2,
          0,
          0,
          0.5,
          0.4,
          0.1,
          0
         ],
         "y0": " ",
         "yaxis": "y"
        },
        {
         "alignmentgroup": "True",
         "hovertemplate": "<b>%{hovertext}</b><br><br>Position=%{x}<br>Blocks=%{y}<extra></extra>",
         "hovertext": [
          "Thanasis Antetokounmpo",
          "OG Anunoby",
          "Deni Avdija",
          "Patrick Baldwin Jr.",
          "Dominick Barlow",
          "Keita Bates-Diop",
          "MarJon Beauchamp",
          "Saddiq Bey",
          "Malaki Branham",
          "Mikal Bridges",
          "Oshae Brissett",
          "Dillon Brooks",
          "Jaylen Brown",
          "Troy Brown Jr.",
          "Reggie Bullock",
          "Jimmy Butler",
          "Jamal Cain",
          "Justin Champagnie",
          "Julian Champagnie",
          "Torrey Craig",
          "Jae Crowder",
          "DeMar DeRozan",
          "Ousmane Dieng",
          "Chris Duarte",
          "Kessler Edwards",
          "Simone Fontecchio",
          "AJ Griffin",
          "Jordan Hall",
          "Ron Harper Jr.",
          "Josh Hart",
          "Gordon Hayward",
          "Buddy Hield",
          "Haywood Highsmith",
          "Malcolm Hill",
          "Danuel House Jr.",
          "Caleb Houstan",
          "De'Andre Hunter",
          "Andre Iguodala",
          "Joe Ingles",
          "Brandon Ingram",
          "Justin Jackson",
          "Jalen Johnson",
          "Keldon Johnson",
          "Stanley Johnson",
          "Derrick Jones Jr.",
          "Herbert Jones",
          "Johnny Juzang",
          "Braxton Key",
          "Louis King",
          "Corey Kispert",
          "Anthony Lamb",
          "Kawhi Leonard",
          "Nassir Little",
          "Lauri Markkanen",
          "Naji Marshall",
          "Cody Martin",
          "Kenyon Martin Jr.",
          "Bennedict Mathurin",
          "Jalen McDaniels",
          "Jaden McDaniels",
          "Doug McDermott",
          "Khris Middleton",
          "Justin Minaya",
          "Josh Minott",
          "Chima Moneke",
          "Trey Murphy III",
          "Keegan Murray",
          "Svi Mykhailiuk",
          "Aaron Nesmith",
          "Jordan Nwora",
          "Chuma Okeke",
          "Isaac Okoro",
          "Eugene Omoruyi",
          "Royce O'Neale",
          "Cedi Osman",
          "Kelly Oubre Jr.",
          "Michael Porter Jr.",
          "Otto Porter Jr.",
          "Taurean Prince",
          "Cam Reddish",
          "Duncan Robinson",
          "Matt Ryan",
          "Jordan Schakel",
          "Xavier Sneed",
          "Max Strus",
          "Cole Swider",
          "Jae'Sean Tate",
          "Juan Toscano-Anderson",
          "Franz Wagner",
          "Ish Wainright",
          "Jabari Walker",
          "Yuta Watanabe",
          "Jack White",
          "Joe Wieskamp",
          "Andrew Wiggins",
          "Ziaire Williams",
          "Dylan Windler",
          "Justise Winslow"
         ],
         "legendgroup": "SF",
         "marker": {
          "color": "#00cc96"
         },
         "name": "SF",
         "notched": false,
         "offsetgroup": "SF",
         "orientation": "v",
         "showlegend": true,
         "type": "box",
         "x": [
          "SF",
          "SF",
          "SF",
          "SF",
          "SF",
          "SF",
          "SF",
          "SF",
          "SF",
          "SF",
          "SF",
          "SF",
          "SF",
          "SF",
          "SF",
          "SF",
          "SF",
          "SF",
          "SF",
          "SF",
          "SF",
          "SF",
          "SF",
          "SF",
          "SF",
          "SF",
          "SF",
          "SF",
          "SF",
          "SF",
          "SF",
          "SF",
          "SF",
          "SF",
          "SF",
          "SF",
          "SF",
          "SF",
          "SF",
          "SF",
          "SF",
          "SF",
          "SF",
          "SF",
          "SF",
          "SF",
          "SF",
          "SF",
          "SF",
          "SF",
          "SF",
          "SF",
          "SF",
          "SF",
          "SF",
          "SF",
          "SF",
          "SF",
          "SF",
          "SF",
          "SF",
          "SF",
          "SF",
          "SF",
          "SF",
          "SF",
          "SF",
          "SF",
          "SF",
          "SF",
          "SF",
          "SF",
          "SF",
          "SF",
          "SF",
          "SF",
          "SF",
          "SF",
          "SF",
          "SF",
          "SF",
          "SF",
          "SF",
          "SF",
          "SF",
          "SF",
          "SF",
          "SF",
          "SF",
          "SF",
          "SF",
          "SF",
          "SF",
          "SF",
          "SF",
          "SF",
          "SF",
          "SF"
         ],
         "x0": " ",
         "xaxis": "x",
         "y": [
          0.1,
          0.7,
          0.4,
          0.1,
          0.7,
          0.3,
          0.1,
          0.1333333333333333,
          0.1,
          0.7000000000000001,
          0.2,
          0.2,
          0.4,
          0.2,
          0.2,
          0.3,
          0.1,
          0,
          0.1999999999999999,
          0.8,
          0.3,
          0.5,
          0.2,
          0.2,
          0.1666666666666666,
          0.2,
          0.2,
          0,
          0.1,
          0.3333333333333333,
          0.2,
          0.3,
          0.3,
          0,
          0.2,
          0.1,
          0.3,
          0.4,
          0.1,
          0.4,
          0.2,
          0.5,
          0.2,
          0.2,
          0.6,
          0.6,
          0.2,
          0,
          0,
          0.1,
          0.3,
          0.5,
          0.4,
          0.6,
          0.2,
          0.1,
          0.4,
          0.2,
          0.3666666666666667,
          1,
          0.1,
          0.2,
          1.3,
          0.4,
          0,
          0.5,
          0.5,
          0.1,
          0.5,
          0.2333333333333333,
          0.4,
          0.4,
          0.1,
          0.6,
          0.1,
          0.4,
          0.5,
          0,
          0.3,
          0.3666666666666667,
          0,
          0,
          0,
          0.3,
          0.2,
          0,
          0.2,
          0.1666666666666666,
          0.2,
          0.4,
          0.2,
          0.3,
          0.1,
          0,
          0.8,
          0.2,
          0,
          0.4
         ],
         "y0": " ",
         "yaxis": "y"
        },
        {
         "alignmentgroup": "True",
         "hovertemplate": "<b>%{hovertext}</b><br><br>Position=%{x}<br>Blocks=%{y}<extra></extra>",
         "hovertext": [
          "Santi Aldama",
          "Kyle Anderson",
          "Giannis Antetokounmpo",
          "Paolo Banchero",
          "Harrison Barnes",
          "Scottie Barnes",
          "Nicolas Batum",
          "Darius Bazley",
          "Dāvis Bertāns",
          "Bojan Bogdanović",
          "Bol Bol",
          "Chris Boucher",
          "Jarrell Brantley",
          "Greg Brown III",
          "Vlatko Čančar",
          "Brandon Clarke",
          "John Collins",
          "Xavier Cooks",
          "Robert Covington",
          "Darius Days",
          "Moussa Diabaté",
          "Mamadi Diakite",
          "Tari Eason",
          "Dorian Finney-Smith",
          "Michael Foster Jr.",
          "Wenyen Gabriel",
          "Usman Garuba",
          "Rudy Gay",
          "Anthony Gill",
          "Aaron Gordon",
          "Jerami Grant",
          "RaiQuan Gray",
          "Draymond Green",
          "JaMychal Green",
          "Jeff Green",
          "Rui Hachimura",
          "Tobias Harris",
          "Sam Hauser",
          "Juancho Hernangómez",
          "Jonathan Isaac",
          "LeBron James",
          "Alize Johnson",
          "Cameron Johnson",
          "James Johnson",
          "Nikola Jović",
          "Mfiondu Kabengele",
          "Nathan Knight",
          "Jonathan Kuminga",
          "Kyle Kuzma",
          "Jake LaRavia",
          "Isaiah Livers",
          "Kenneth Lofton Jr.",
          "Kevin Love",
          "Trey Lyles",
          "Caleb Martin",
          "Evan Mobley",
          "Isaiah Mobley",
          "Markieff Morris",
          "Marcus Morris",
          "Larry Nance Jr.",
          "Georges Niang",
          "Zeke Nnaji",
          "KZ Okpala",
          "Aleksej Pokusevski",
          "Bobby Portis",
          "Micah Potter",
          "Julius Randle",
          "Jeremiah Robinson-Earl",
          "Isaiah Roby",
          "David Roddy",
          "Luka Šamanić",
          "Dario Šarić",
          "Admiral Schofield",
          "Chris Silva",
          "Jalen Smith",
          "Jabari Smith Jr.",
          "Jeremy Sochan",
          "Lamar Stevens",
          "Jayson Tatum",
          "Terry Taylor",
          "JT Thor",
          "Xavier Tillman Sr.",
          "Isaiah Todd",
          "Obi Toppin",
          "Karl-Anthony Towns",
          "P.J. Tucker",
          "Jarred Vanderbilt",
          "Dean Wade",
          "P.J. Washington",
          "Trendon Watford",
          "Grant Williams",
          "Jaylin Williams",
          "Kenrich Williams",
          "Patrick Williams",
          "Zion Williamson",
          "Thaddeus Young"
         ],
         "legendgroup": "PF",
         "marker": {
          "color": "#ab63fa"
         },
         "name": "PF",
         "notched": false,
         "offsetgroup": "PF",
         "orientation": "v",
         "showlegend": true,
         "type": "box",
         "x": [
          "PF",
          "PF",
          "PF",
          "PF",
          "PF",
          "PF",
          "PF",
          "PF",
          "PF",
          "PF",
          "PF",
          "PF",
          "PF",
          "PF",
          "PF",
          "PF",
          "PF",
          "PF",
          "PF",
          "PF",
          "PF",
          "PF",
          "PF",
          "PF",
          "PF",
          "PF",
          "PF",
          "PF",
          "PF",
          "PF",
          "PF",
          "PF",
          "PF",
          "PF",
          "PF",
          "PF",
          "PF",
          "PF",
          "PF",
          "PF",
          "PF",
          "PF",
          "PF",
          "PF",
          "PF",
          "PF",
          "PF",
          "PF",
          "PF",
          "PF",
          "PF",
          "PF",
          "PF",
          "PF",
          "PF",
          "PF",
          "PF",
          "PF",
          "PF",
          "PF",
          "PF",
          "PF",
          "PF",
          "PF",
          "PF",
          "PF",
          "PF",
          "PF",
          "PF",
          "PF",
          "PF",
          "PF",
          "PF",
          "PF",
          "PF",
          "PF",
          "PF",
          "PF",
          "PF",
          "PF",
          "PF",
          "PF",
          "PF",
          "PF",
          "PF",
          "PF",
          "PF",
          "PF",
          "PF",
          "PF",
          "PF",
          "PF",
          "PF",
          "PF",
          "PF",
          "PF"
         ],
         "x0": " ",
         "xaxis": "x",
         "y": [
          0.6,
          0.9,
          0.8,
          0.5,
          0.1,
          0.8,
          0.6,
          0.7666666666666666,
          0.2,
          0.1,
          1.2,
          0.8,
          0.5,
          0.3,
          0.2,
          0.7,
          1,
          0.4,
          0.7,
          0.3,
          0.4,
          0.4,
          0.6,
          0.5333333333333333,
          0,
          0.5,
          0.4,
          0.3,
          0.2,
          0.8,
          0.8,
          1,
          0.8,
          0.4,
          0.3,
          0.4000000000000001,
          0.5,
          0.3,
          0.1,
          0.4,
          0.6,
          0,
          0.3333333333333333,
          0.3,
          0.1,
          0,
          0.2,
          0.5,
          0.5,
          0.1,
          0.5,
          0.1,
          0.2,
          0.4,
          0.4,
          1.5,
          0.2,
          0.1,
          0.3,
          0.6,
          0.2,
          0.4,
          0.2,
          1.3,
          0.2,
          0,
          0.3,
          0.3,
          0.2,
          0.3,
          0.3,
          0.1,
          0.1,
          0,
          0.9,
          0.9,
          0.4,
          0.3,
          0.7,
          0.2,
          0.3,
          0.5,
          0,
          0.2,
          0.6,
          0.2,
          0.2666666666666666,
          0.5,
          1.1,
          0.2,
          0.4,
          0.2,
          0.3,
          0.9,
          0.6,
          0.1
         ],
         "y0": " ",
         "yaxis": "y"
        },
        {
         "alignmentgroup": "True",
         "hovertemplate": "<b>%{hovertext}</b><br><br>Position=%{x}<br>Blocks=%{y}<extra></extra>",
         "hovertext": [
          "Precious Achiuwa",
          "Steven Adams",
          "Bam Adebayo",
          "Jarrett Allen",
          "Deandre Ayton",
          "Udoka Azubuike",
          "Marvin Bagley III",
          "Mo Bamba",
          "Charles Bassey",
          "Khem Birch",
          "Goga Bitadze",
          "Bismack Biyombo",
          "Tony Bradley",
          "Moses Brown",
          "Thomas Bryant",
          "John Butler",
          "Clint Capela",
          "Vernon Carey Jr.",
          "Wendell Carter Jr.",
          "Nic Claxton",
          "Zach Collins",
          "Chance Comanche",
          "Anthony Davis",
          "Dewayne Dedmon",
          "Gorgui Dieng",
          "Andre Drummond",
          "Jalen Duren",
          "Joel Embiid",
          "Drew Eubanks",
          "Bruno Fernando",
          "Daniel Gafford",
          "Luka Garza",
          "Taj Gibson",
          "Rudy Gobert",
          "Blake Griffin",
          "Montrezl Harrell",
          "Isaiah Hartenstein",
          "Udonis Haslem",
          "Jaxson Hayes",
          "Willy Hernangómez",
          "Richaun Holmes",
          "Al Horford",
          "Jay Huff",
          "Serge Ibaka",
          "Isaiah Jackson",
          "Jaren Jackson Jr.",
          "Nikola Jokić",
          "Damian Jones",
          "Kai Jones",
          "DeAndre Jordan",
          "Frank Kaminsky",
          "Walker Kessler",
          "Maxi Kleber",
          "Christian Koloko",
          "Luke Kornet",
          "Jock Landale",
          "Alex Len",
          "Meyers Leonard",
          "Kevon Looney",
          "Brook Lopez",
          "Robin Lopez",
          "Sandro Mamukelashvili",
          "Boban Marjanović",
          "JaVale McGee",
          "Chimezie Metu",
          "Mike Muscala",
          "Nerlens Noel",
          "Jusuf Nurkić",
          "Onyeka Okongwu",
          "Kelly Olynyk",
          "Mason Plumlee",
          "Jakob Poeltl",
          "Kristaps Porziņģis",
          "Dwight Powell",
          "Neemias Queta",
          "Paul Reed",
          "Naz Reid",
          "Nick Richards",
          "Mitchell Robinson",
          "Orlando Robinson",
          "Domantas Sabonis",
          "Olivier Sarr",
          "Alperen Şengün",
          "Day'Ron Sharpe",
          "Pascal Siakam",
          "Marko Simonovic",
          "Jericho Sims",
          "Isaiah Stewart",
          "Daniel Theis",
          "Myles Turner",
          "Jonas Valančiūnas",
          "Noah Vonleh",
          "Nikola Vučević",
          "Moritz Wagner",
          "Mark Williams",
          "Robert Williams",
          "James Wiseman",
          "Christian Wood",
          "Omer Yurtseven",
          "Cody Zeller",
          "Ivica Zubac"
         ],
         "legendgroup": "C",
         "marker": {
          "color": "#FFA15A"
         },
         "name": "C",
         "notched": false,
         "offsetgroup": "C",
         "orientation": "v",
         "showlegend": true,
         "type": "box",
         "x": [
          "C",
          "C",
          "C",
          "C",
          "C",
          "C",
          "C",
          "C",
          "C",
          "C",
          "C",
          "C",
          "C",
          "C",
          "C",
          "C",
          "C",
          "C",
          "C",
          "C",
          "C",
          "C",
          "C",
          "C",
          "C",
          "C",
          "C",
          "C",
          "C",
          "C",
          "C",
          "C",
          "C",
          "C",
          "C",
          "C",
          "C",
          "C",
          "C",
          "C",
          "C",
          "C",
          "C",
          "C",
          "C",
          "C",
          "C",
          "C",
          "C",
          "C",
          "C",
          "C",
          "C",
          "C",
          "C",
          "C",
          "C",
          "C",
          "C",
          "C",
          "C",
          "C",
          "C",
          "C",
          "C",
          "C",
          "C",
          "C",
          "C",
          "C",
          "C",
          "C",
          "C",
          "C",
          "C",
          "C",
          "C",
          "C",
          "C",
          "C",
          "C",
          "C",
          "C",
          "C",
          "C",
          "C",
          "C",
          "C",
          "C",
          "C",
          "C",
          "C",
          "C",
          "C",
          "C",
          "C",
          "C",
          "C",
          "C",
          "C",
          "C"
         ],
         "x0": " ",
         "xaxis": "x",
         "y": [
          0.5,
          1.1,
          0.8,
          1.2,
          0.8,
          0.4,
          0.7,
          0.8333333333333334,
          0.9,
          0.3,
          0.7000000000000001,
          1.4,
          0.1,
          0.2666666666666666,
          0.5,
          0.5,
          1.2,
          0.2,
          0.6,
          2.5,
          0.8,
          1,
          2,
          0.5333333333333333,
          0.5,
          0.4,
          0.9,
          1.7,
          1.3,
          0.7666666666666666,
          1.3,
          0.1,
          0.2,
          1.4,
          0.2,
          0.4,
          0.8,
          0.3,
          0.4,
          0.3,
          0.3,
          1,
          0.6,
          0.4,
          1.5,
          3,
          0.7,
          0.5,
          0.7,
          0.6,
          0.1333333333333333,
          2.3,
          0.8,
          1,
          0.7,
          0.4,
          0.4,
          0,
          0.6,
          2.5,
          0.2,
          0.3,
          0.1,
          0.6,
          0.3,
          0.3666666666666667,
          0.5,
          0.8,
          1.3,
          0.5,
          0.5666666666666667,
          1.2,
          1.5,
          0.3,
          0.4,
          0.7,
          0.8,
          1.1,
          1.8,
          0.4,
          0.5,
          0.6,
          0.9,
          0.7,
          0.5,
          0,
          0.5,
          0.7,
          0.9,
          2.3,
          0.7,
          0.3,
          0.7,
          0.2,
          1,
          1.4,
          0.5666666666666667,
          1.1,
          0.2,
          0.3,
          1.3
         ],
         "y0": " ",
         "yaxis": "y"
        },
        {
         "alignmentgroup": "True",
         "hovertemplate": "<b>%{hovertext}</b><br><br>Position=%{x}<br>Blocks=%{y}<extra></extra>",
         "hovertext": [
          "Kevin Durant",
          "Kevin Knox",
          "T.J. Warren"
         ],
         "legendgroup": "PF-SF",
         "marker": {
          "color": "#19d3f3"
         },
         "name": "PF-SF",
         "notched": false,
         "offsetgroup": "PF-SF",
         "orientation": "v",
         "showlegend": true,
         "type": "box",
         "x": [
          "PF-SF",
          "PF-SF",
          "PF-SF"
         ],
         "x0": " ",
         "xaxis": "x",
         "y": [
          1.4,
          0.1666666666666666,
          0.3
         ],
         "y0": " ",
         "yaxis": "y"
        }
       ],
       "layout": {
        "boxmode": "overlay",
        "legend": {
         "title": {
          "text": "Position"
         },
         "tracegroupgap": 0
        },
        "template": {
         "data": {
          "bar": [
           {
            "error_x": {
             "color": "#2a3f5f"
            },
            "error_y": {
             "color": "#2a3f5f"
            },
            "marker": {
             "line": {
              "color": "#E5ECF6",
              "width": 0.5
             },
             "pattern": {
              "fillmode": "overlay",
              "size": 10,
              "solidity": 0.2
             }
            },
            "type": "bar"
           }
          ],
          "barpolar": [
           {
            "marker": {
             "line": {
              "color": "#E5ECF6",
              "width": 0.5
             },
             "pattern": {
              "fillmode": "overlay",
              "size": 10,
              "solidity": 0.2
             }
            },
            "type": "barpolar"
           }
          ],
          "carpet": [
           {
            "aaxis": {
             "endlinecolor": "#2a3f5f",
             "gridcolor": "white",
             "linecolor": "white",
             "minorgridcolor": "white",
             "startlinecolor": "#2a3f5f"
            },
            "baxis": {
             "endlinecolor": "#2a3f5f",
             "gridcolor": "white",
             "linecolor": "white",
             "minorgridcolor": "white",
             "startlinecolor": "#2a3f5f"
            },
            "type": "carpet"
           }
          ],
          "choropleth": [
           {
            "colorbar": {
             "outlinewidth": 0,
             "ticks": ""
            },
            "type": "choropleth"
           }
          ],
          "contour": [
           {
            "colorbar": {
             "outlinewidth": 0,
             "ticks": ""
            },
            "colorscale": [
             [
              0,
              "#0d0887"
             ],
             [
              0.1111111111111111,
              "#46039f"
             ],
             [
              0.2222222222222222,
              "#7201a8"
             ],
             [
              0.3333333333333333,
              "#9c179e"
             ],
             [
              0.4444444444444444,
              "#bd3786"
             ],
             [
              0.5555555555555556,
              "#d8576b"
             ],
             [
              0.6666666666666666,
              "#ed7953"
             ],
             [
              0.7777777777777778,
              "#fb9f3a"
             ],
             [
              0.8888888888888888,
              "#fdca26"
             ],
             [
              1,
              "#f0f921"
             ]
            ],
            "type": "contour"
           }
          ],
          "contourcarpet": [
           {
            "colorbar": {
             "outlinewidth": 0,
             "ticks": ""
            },
            "type": "contourcarpet"
           }
          ],
          "heatmap": [
           {
            "colorbar": {
             "outlinewidth": 0,
             "ticks": ""
            },
            "colorscale": [
             [
              0,
              "#0d0887"
             ],
             [
              0.1111111111111111,
              "#46039f"
             ],
             [
              0.2222222222222222,
              "#7201a8"
             ],
             [
              0.3333333333333333,
              "#9c179e"
             ],
             [
              0.4444444444444444,
              "#bd3786"
             ],
             [
              0.5555555555555556,
              "#d8576b"
             ],
             [
              0.6666666666666666,
              "#ed7953"
             ],
             [
              0.7777777777777778,
              "#fb9f3a"
             ],
             [
              0.8888888888888888,
              "#fdca26"
             ],
             [
              1,
              "#f0f921"
             ]
            ],
            "type": "heatmap"
           }
          ],
          "heatmapgl": [
           {
            "colorbar": {
             "outlinewidth": 0,
             "ticks": ""
            },
            "colorscale": [
             [
              0,
              "#0d0887"
             ],
             [
              0.1111111111111111,
              "#46039f"
             ],
             [
              0.2222222222222222,
              "#7201a8"
             ],
             [
              0.3333333333333333,
              "#9c179e"
             ],
             [
              0.4444444444444444,
              "#bd3786"
             ],
             [
              0.5555555555555556,
              "#d8576b"
             ],
             [
              0.6666666666666666,
              "#ed7953"
             ],
             [
              0.7777777777777778,
              "#fb9f3a"
             ],
             [
              0.8888888888888888,
              "#fdca26"
             ],
             [
              1,
              "#f0f921"
             ]
            ],
            "type": "heatmapgl"
           }
          ],
          "histogram": [
           {
            "marker": {
             "pattern": {
              "fillmode": "overlay",
              "size": 10,
              "solidity": 0.2
             }
            },
            "type": "histogram"
           }
          ],
          "histogram2d": [
           {
            "colorbar": {
             "outlinewidth": 0,
             "ticks": ""
            },
            "colorscale": [
             [
              0,
              "#0d0887"
             ],
             [
              0.1111111111111111,
              "#46039f"
             ],
             [
              0.2222222222222222,
              "#7201a8"
             ],
             [
              0.3333333333333333,
              "#9c179e"
             ],
             [
              0.4444444444444444,
              "#bd3786"
             ],
             [
              0.5555555555555556,
              "#d8576b"
             ],
             [
              0.6666666666666666,
              "#ed7953"
             ],
             [
              0.7777777777777778,
              "#fb9f3a"
             ],
             [
              0.8888888888888888,
              "#fdca26"
             ],
             [
              1,
              "#f0f921"
             ]
            ],
            "type": "histogram2d"
           }
          ],
          "histogram2dcontour": [
           {
            "colorbar": {
             "outlinewidth": 0,
             "ticks": ""
            },
            "colorscale": [
             [
              0,
              "#0d0887"
             ],
             [
              0.1111111111111111,
              "#46039f"
             ],
             [
              0.2222222222222222,
              "#7201a8"
             ],
             [
              0.3333333333333333,
              "#9c179e"
             ],
             [
              0.4444444444444444,
              "#bd3786"
             ],
             [
              0.5555555555555556,
              "#d8576b"
             ],
             [
              0.6666666666666666,
              "#ed7953"
             ],
             [
              0.7777777777777778,
              "#fb9f3a"
             ],
             [
              0.8888888888888888,
              "#fdca26"
             ],
             [
              1,
              "#f0f921"
             ]
            ],
            "type": "histogram2dcontour"
           }
          ],
          "mesh3d": [
           {
            "colorbar": {
             "outlinewidth": 0,
             "ticks": ""
            },
            "type": "mesh3d"
           }
          ],
          "parcoords": [
           {
            "line": {
             "colorbar": {
              "outlinewidth": 0,
              "ticks": ""
             }
            },
            "type": "parcoords"
           }
          ],
          "pie": [
           {
            "automargin": true,
            "type": "pie"
           }
          ],
          "scatter": [
           {
            "fillpattern": {
             "fillmode": "overlay",
             "size": 10,
             "solidity": 0.2
            },
            "type": "scatter"
           }
          ],
          "scatter3d": [
           {
            "line": {
             "colorbar": {
              "outlinewidth": 0,
              "ticks": ""
             }
            },
            "marker": {
             "colorbar": {
              "outlinewidth": 0,
              "ticks": ""
             }
            },
            "type": "scatter3d"
           }
          ],
          "scattercarpet": [
           {
            "marker": {
             "colorbar": {
              "outlinewidth": 0,
              "ticks": ""
             }
            },
            "type": "scattercarpet"
           }
          ],
          "scattergeo": [
           {
            "marker": {
             "colorbar": {
              "outlinewidth": 0,
              "ticks": ""
             }
            },
            "type": "scattergeo"
           }
          ],
          "scattergl": [
           {
            "marker": {
             "colorbar": {
              "outlinewidth": 0,
              "ticks": ""
             }
            },
            "type": "scattergl"
           }
          ],
          "scattermapbox": [
           {
            "marker": {
             "colorbar": {
              "outlinewidth": 0,
              "ticks": ""
             }
            },
            "type": "scattermapbox"
           }
          ],
          "scatterpolar": [
           {
            "marker": {
             "colorbar": {
              "outlinewidth": 0,
              "ticks": ""
             }
            },
            "type": "scatterpolar"
           }
          ],
          "scatterpolargl": [
           {
            "marker": {
             "colorbar": {
              "outlinewidth": 0,
              "ticks": ""
             }
            },
            "type": "scatterpolargl"
           }
          ],
          "scatterternary": [
           {
            "marker": {
             "colorbar": {
              "outlinewidth": 0,
              "ticks": ""
             }
            },
            "type": "scatterternary"
           }
          ],
          "surface": [
           {
            "colorbar": {
             "outlinewidth": 0,
             "ticks": ""
            },
            "colorscale": [
             [
              0,
              "#0d0887"
             ],
             [
              0.1111111111111111,
              "#46039f"
             ],
             [
              0.2222222222222222,
              "#7201a8"
             ],
             [
              0.3333333333333333,
              "#9c179e"
             ],
             [
              0.4444444444444444,
              "#bd3786"
             ],
             [
              0.5555555555555556,
              "#d8576b"
             ],
             [
              0.6666666666666666,
              "#ed7953"
             ],
             [
              0.7777777777777778,
              "#fb9f3a"
             ],
             [
              0.8888888888888888,
              "#fdca26"
             ],
             [
              1,
              "#f0f921"
             ]
            ],
            "type": "surface"
           }
          ],
          "table": [
           {
            "cells": {
             "fill": {
              "color": "#EBF0F8"
             },
             "line": {
              "color": "white"
             }
            },
            "header": {
             "fill": {
              "color": "#C8D4E3"
             },
             "line": {
              "color": "white"
             }
            },
            "type": "table"
           }
          ]
         },
         "layout": {
          "annotationdefaults": {
           "arrowcolor": "#2a3f5f",
           "arrowhead": 0,
           "arrowwidth": 1
          },
          "autotypenumbers": "strict",
          "coloraxis": {
           "colorbar": {
            "outlinewidth": 0,
            "ticks": ""
           }
          },
          "colorscale": {
           "diverging": [
            [
             0,
             "#8e0152"
            ],
            [
             0.1,
             "#c51b7d"
            ],
            [
             0.2,
             "#de77ae"
            ],
            [
             0.3,
             "#f1b6da"
            ],
            [
             0.4,
             "#fde0ef"
            ],
            [
             0.5,
             "#f7f7f7"
            ],
            [
             0.6,
             "#e6f5d0"
            ],
            [
             0.7,
             "#b8e186"
            ],
            [
             0.8,
             "#7fbc41"
            ],
            [
             0.9,
             "#4d9221"
            ],
            [
             1,
             "#276419"
            ]
           ],
           "sequential": [
            [
             0,
             "#0d0887"
            ],
            [
             0.1111111111111111,
             "#46039f"
            ],
            [
             0.2222222222222222,
             "#7201a8"
            ],
            [
             0.3333333333333333,
             "#9c179e"
            ],
            [
             0.4444444444444444,
             "#bd3786"
            ],
            [
             0.5555555555555556,
             "#d8576b"
            ],
            [
             0.6666666666666666,
             "#ed7953"
            ],
            [
             0.7777777777777778,
             "#fb9f3a"
            ],
            [
             0.8888888888888888,
             "#fdca26"
            ],
            [
             1,
             "#f0f921"
            ]
           ],
           "sequentialminus": [
            [
             0,
             "#0d0887"
            ],
            [
             0.1111111111111111,
             "#46039f"
            ],
            [
             0.2222222222222222,
             "#7201a8"
            ],
            [
             0.3333333333333333,
             "#9c179e"
            ],
            [
             0.4444444444444444,
             "#bd3786"
            ],
            [
             0.5555555555555556,
             "#d8576b"
            ],
            [
             0.6666666666666666,
             "#ed7953"
            ],
            [
             0.7777777777777778,
             "#fb9f3a"
            ],
            [
             0.8888888888888888,
             "#fdca26"
            ],
            [
             1,
             "#f0f921"
            ]
           ]
          },
          "colorway": [
           "#636efa",
           "#EF553B",
           "#00cc96",
           "#ab63fa",
           "#FFA15A",
           "#19d3f3",
           "#FF6692",
           "#B6E880",
           "#FF97FF",
           "#FECB52"
          ],
          "font": {
           "color": "#2a3f5f"
          },
          "geo": {
           "bgcolor": "white",
           "lakecolor": "white",
           "landcolor": "#E5ECF6",
           "showlakes": true,
           "showland": true,
           "subunitcolor": "white"
          },
          "hoverlabel": {
           "align": "left"
          },
          "hovermode": "closest",
          "mapbox": {
           "style": "light"
          },
          "paper_bgcolor": "white",
          "plot_bgcolor": "#E5ECF6",
          "polar": {
           "angularaxis": {
            "gridcolor": "white",
            "linecolor": "white",
            "ticks": ""
           },
           "bgcolor": "#E5ECF6",
           "radialaxis": {
            "gridcolor": "white",
            "linecolor": "white",
            "ticks": ""
           }
          },
          "scene": {
           "xaxis": {
            "backgroundcolor": "#E5ECF6",
            "gridcolor": "white",
            "gridwidth": 2,
            "linecolor": "white",
            "showbackground": true,
            "ticks": "",
            "zerolinecolor": "white"
           },
           "yaxis": {
            "backgroundcolor": "#E5ECF6",
            "gridcolor": "white",
            "gridwidth": 2,
            "linecolor": "white",
            "showbackground": true,
            "ticks": "",
            "zerolinecolor": "white"
           },
           "zaxis": {
            "backgroundcolor": "#E5ECF6",
            "gridcolor": "white",
            "gridwidth": 2,
            "linecolor": "white",
            "showbackground": true,
            "ticks": "",
            "zerolinecolor": "white"
           }
          },
          "shapedefaults": {
           "line": {
            "color": "#2a3f5f"
           }
          },
          "ternary": {
           "aaxis": {
            "gridcolor": "white",
            "linecolor": "white",
            "ticks": ""
           },
           "baxis": {
            "gridcolor": "white",
            "linecolor": "white",
            "ticks": ""
           },
           "bgcolor": "#E5ECF6",
           "caxis": {
            "gridcolor": "white",
            "linecolor": "white",
            "ticks": ""
           }
          },
          "title": {
           "x": 0.05
          },
          "xaxis": {
           "automargin": true,
           "gridcolor": "white",
           "linecolor": "white",
           "ticks": "",
           "title": {
            "standoff": 15
           },
           "zerolinecolor": "white",
           "zerolinewidth": 2
          },
          "yaxis": {
           "automargin": true,
           "gridcolor": "white",
           "linecolor": "white",
           "ticks": "",
           "title": {
            "standoff": 15
           },
           "zerolinecolor": "white",
           "zerolinewidth": 2
          }
         }
        },
        "title": {
         "text": "Blocks per Game by Position"
        },
        "xaxis": {
         "anchor": "y",
         "categoryarray": [
          "PG",
          "SG",
          "SF",
          "PF",
          "C",
          "PF-SF",
          "SF-SG",
          "SG-PG"
         ],
         "categoryorder": "array",
         "domain": [
          0,
          1
         ],
         "title": {
          "text": "Position"
         }
        },
        "yaxis": {
         "anchor": "x",
         "domain": [
          0,
          1
         ],
         "title": {
          "text": "Blocks"
         }
        }
       }
      }
     },
     "metadata": {},
     "output_type": "display_data"
    }
   ],
   "source": [
    "px.box(data_frame = df06,\n",
    "       x = 'Pos',\n",
    "       y = 'BLK',\n",
    "       color = 'Pos',\n",
    "       hover_name = 'Player',\n",
    "       title = 'Blocks per Game by Position',\n",
    "       labels = {'BLK':'Blocks', 'Pos': 'Position'},\n",
    "       category_orders = {'Pos':('PG', 'SG', 'SF', 'PF', 'C', 'PF-SF', 'SF-SG', 'SG-PG')})"
   ]
  },
  {
   "cell_type": "code",
   "execution_count": 487,
   "metadata": {},
   "outputs": [
    {
     "data": {
      "text/plain": [
       "SG       139\n",
       "PG       102\n",
       "C        101\n",
       "SF        98\n",
       "PF        96\n",
       "PF-SF      3\n",
       "Name: Pos, dtype: int64"
      ]
     },
     "execution_count": 487,
     "metadata": {},
     "output_type": "execute_result"
    }
   ],
   "source": [
    "df06['Pos'].value_counts()"
   ]
  },
  {
   "attachments": {},
   "cell_type": "markdown",
   "metadata": {},
   "source": [
    "## Testing some radar charts"
   ]
  },
  {
   "attachments": {},
   "cell_type": "markdown",
   "metadata": {},
   "source": [
    "### Pre-processing Data to Chart"
   ]
  },
  {
   "cell_type": "code",
   "execution_count": 586,
   "metadata": {},
   "outputs": [],
   "source": [
    "player = 'Jayson Tatum'\n"
   ]
  },
  {
   "cell_type": "code",
   "execution_count": 587,
   "metadata": {},
   "outputs": [
    {
     "data": {
      "text/html": [
       "<div>\n",
       "<style scoped>\n",
       "    .dataframe tbody tr th:only-of-type {\n",
       "        vertical-align: middle;\n",
       "    }\n",
       "\n",
       "    .dataframe tbody tr th {\n",
       "        vertical-align: top;\n",
       "    }\n",
       "\n",
       "    .dataframe thead th {\n",
       "        text-align: right;\n",
       "    }\n",
       "</style>\n",
       "<table border=\"1\" class=\"dataframe\">\n",
       "  <thead>\n",
       "    <tr style=\"text-align: right;\">\n",
       "      <th></th>\n",
       "      <th>Unnamed: 0</th>\n",
       "      <th>Rk</th>\n",
       "      <th>Player</th>\n",
       "      <th>Pos</th>\n",
       "      <th>Age</th>\n",
       "      <th>Tm</th>\n",
       "      <th>G</th>\n",
       "      <th>GS</th>\n",
       "      <th>GM</th>\n",
       "      <th>MP_Total</th>\n",
       "      <th>MP</th>\n",
       "      <th>PER</th>\n",
       "      <th>USG%</th>\n",
       "      <th>OWS</th>\n",
       "      <th>DWS</th>\n",
       "      <th>WS</th>\n",
       "      <th>WS_48</th>\n",
       "      <th>OBPM</th>\n",
       "      <th>DBPM</th>\n",
       "      <th>BPM</th>\n",
       "      <th>VORP</th>\n",
       "      <th>TS%</th>\n",
       "      <th>PTS</th>\n",
       "      <th>FG</th>\n",
       "      <th>FGA</th>\n",
       "      <th>FG%</th>\n",
       "      <th>3P</th>\n",
       "      <th>3PA</th>\n",
       "      <th>3P%</th>\n",
       "      <th>3PAr</th>\n",
       "      <th>2P</th>\n",
       "      <th>2PA</th>\n",
       "      <th>2P%</th>\n",
       "      <th>eFG%</th>\n",
       "      <th>FT</th>\n",
       "      <th>FTA</th>\n",
       "      <th>FT%</th>\n",
       "      <th>FTr</th>\n",
       "      <th>ORB</th>\n",
       "      <th>ORB%</th>\n",
       "      <th>DRB</th>\n",
       "      <th>DRB%</th>\n",
       "      <th>TRB</th>\n",
       "      <th>TRB%</th>\n",
       "      <th>AST</th>\n",
       "      <th>AST%</th>\n",
       "      <th>STL</th>\n",
       "      <th>STL%</th>\n",
       "      <th>BLK</th>\n",
       "      <th>BLK%</th>\n",
       "      <th>TOV</th>\n",
       "      <th>TOV%</th>\n",
       "      <th>PF</th>\n",
       "      <th>Player_additional</th>\n",
       "    </tr>\n",
       "  </thead>\n",
       "  <tbody>\n",
       "    <tr>\n",
       "      <th>464</th>\n",
       "      <td>464</td>\n",
       "      <td>465</td>\n",
       "      <td>Jayson Tatum</td>\n",
       "      <td>PF</td>\n",
       "      <td>24</td>\n",
       "      <td>BOS</td>\n",
       "      <td>74</td>\n",
       "      <td>74</td>\n",
       "      <td>8</td>\n",
       "      <td>2732.0</td>\n",
       "      <td>36.9</td>\n",
       "      <td>23.7</td>\n",
       "      <td>0.327</td>\n",
       "      <td>6.2</td>\n",
       "      <td>4.3</td>\n",
       "      <td>10.5</td>\n",
       "      <td>0.185</td>\n",
       "      <td>4.8</td>\n",
       "      <td>0.7</td>\n",
       "      <td>5.5</td>\n",
       "      <td>5.1</td>\n",
       "      <td>0.607</td>\n",
       "      <td>30.1</td>\n",
       "      <td>9.8</td>\n",
       "      <td>21.1</td>\n",
       "      <td>0.466</td>\n",
       "      <td>3.2</td>\n",
       "      <td>9.3</td>\n",
       "      <td>0.35</td>\n",
       "      <td>0.44</td>\n",
       "      <td>6.6</td>\n",
       "      <td>11.8</td>\n",
       "      <td>0.558</td>\n",
       "      <td>0.543</td>\n",
       "      <td>7.2</td>\n",
       "      <td>8.4</td>\n",
       "      <td>0.854</td>\n",
       "      <td>0.399</td>\n",
       "      <td>1.1</td>\n",
       "      <td>0.032</td>\n",
       "      <td>7.7</td>\n",
       "      <td>0.225</td>\n",
       "      <td>8.8</td>\n",
       "      <td>0.13</td>\n",
       "      <td>4.6</td>\n",
       "      <td>0.209</td>\n",
       "      <td>1.1</td>\n",
       "      <td>0.014</td>\n",
       "      <td>0.7</td>\n",
       "      <td>0.016</td>\n",
       "      <td>2.9</td>\n",
       "      <td>0.104</td>\n",
       "      <td>2.2</td>\n",
       "      <td>tatumja01</td>\n",
       "    </tr>\n",
       "  </tbody>\n",
       "</table>\n",
       "</div>"
      ],
      "text/plain": [
       "     Unnamed: 0   Rk        Player Pos  Age   Tm   G  GS  GM  MP_Total    MP   PER   USG%  OWS  DWS    WS  WS_48  OBPM  DBPM  BPM  VORP    TS%   PTS   FG   FGA    FG%   3P  3PA   3P%  3PAr   2P   2PA    2P%   eFG%   FT  FTA    FT%    FTr  ORB   ORB%  DRB   DRB%  TRB  TRB%  AST   AST%  STL   STL%  BLK   BLK%  TOV   TOV%   PF Player_additional\n",
       "464         464  465  Jayson Tatum  PF   24  BOS  74  74   8    2732.0  36.9  23.7  0.327  6.2  4.3  10.5  0.185   4.8   0.7  5.5   5.1  0.607  30.1  9.8  21.1  0.466  3.2  9.3  0.35  0.44  6.6  11.8  0.558  0.543  7.2  8.4  0.854  0.399  1.1  0.032  7.7  0.225  8.8  0.13  4.6  0.209  1.1  0.014  0.7  0.016  2.9  0.104  2.2         tatumja01"
      ]
     },
     "execution_count": 587,
     "metadata": {},
     "output_type": "execute_result"
    }
   ],
   "source": [
    "df06[df06['Player'] == player]"
   ]
  },
  {
   "attachments": {},
   "cell_type": "markdown",
   "metadata": {},
   "source": [
    "### Full Chart"
   ]
  },
  {
   "cell_type": "code",
   "execution_count": 588,
   "metadata": {},
   "outputs": [
    {
     "data": {
      "text/html": [
       "<div>\n",
       "<style scoped>\n",
       "    .dataframe tbody tr th:only-of-type {\n",
       "        vertical-align: middle;\n",
       "    }\n",
       "\n",
       "    .dataframe tbody tr th {\n",
       "        vertical-align: top;\n",
       "    }\n",
       "\n",
       "    .dataframe thead th {\n",
       "        text-align: right;\n",
       "    }\n",
       "</style>\n",
       "<table border=\"1\" class=\"dataframe\">\n",
       "  <thead>\n",
       "    <tr style=\"text-align: right;\">\n",
       "      <th></th>\n",
       "      <th>Jayson Tatum</th>\n",
       "    </tr>\n",
       "  </thead>\n",
       "  <tbody>\n",
       "    <tr>\n",
       "      <th>FG</th>\n",
       "      <td>0.875000</td>\n",
       "    </tr>\n",
       "    <tr>\n",
       "      <th>3P</th>\n",
       "      <td>0.653061</td>\n",
       "    </tr>\n",
       "    <tr>\n",
       "      <th>TS%</th>\n",
       "      <td>0.570489</td>\n",
       "    </tr>\n",
       "    <tr>\n",
       "      <th>FT</th>\n",
       "      <td>0.720000</td>\n",
       "    </tr>\n",
       "    <tr>\n",
       "      <th>AST</th>\n",
       "      <td>0.429907</td>\n",
       "    </tr>\n",
       "    <tr>\n",
       "      <th>ORB</th>\n",
       "      <td>0.215686</td>\n",
       "    </tr>\n",
       "    <tr>\n",
       "      <th>DRB</th>\n",
       "      <td>0.802083</td>\n",
       "    </tr>\n",
       "    <tr>\n",
       "      <th>STL</th>\n",
       "      <td>0.366667</td>\n",
       "    </tr>\n",
       "    <tr>\n",
       "      <th>BLK</th>\n",
       "      <td>0.233333</td>\n",
       "    </tr>\n",
       "    <tr>\n",
       "      <th>DWS</th>\n",
       "      <td>0.895833</td>\n",
       "    </tr>\n",
       "  </tbody>\n",
       "</table>\n",
       "</div>"
      ],
      "text/plain": [
       "     Jayson Tatum\n",
       "FG       0.875000\n",
       "3P       0.653061\n",
       "TS%      0.570489\n",
       "FT       0.720000\n",
       "AST      0.429907\n",
       "ORB      0.215686\n",
       "DRB      0.802083\n",
       "STL      0.366667\n",
       "BLK      0.233333\n",
       "DWS      0.895833"
      ]
     },
     "execution_count": 588,
     "metadata": {},
     "output_type": "execute_result"
    }
   ],
   "source": [
    "aux = df06[df06['Player'] == player][['FG', '3P', 'TS%', 'FT', 'AST', 'ORB', 'DRB', 'STL', 'BLK', 'DWS']].T\n",
    "aux.columns = [player]\n",
    "aux.iloc[0] = aux.iloc[0]/df06['FG'].max()\n",
    "aux.iloc[1] = aux.iloc[1]/df06['3P'].max()\n",
    "aux.iloc[2] = aux.iloc[2]/df06['TS%'].max()\n",
    "aux.iloc[3] = aux.iloc[3]/df06['FT'].max()\n",
    "aux.iloc[4] = aux.iloc[4]/df06['AST'].max()\n",
    "aux.iloc[5] = aux.iloc[5]/df06['ORB'].max()\n",
    "aux.iloc[6] = aux.iloc[6]/df06['DRB'].max()\n",
    "aux.iloc[7] = aux.iloc[7]/df06['STL'].max()\n",
    "aux.iloc[8] = aux.iloc[8]/df06['BLK'].max()\n",
    "aux.iloc[9] = aux.iloc[9]/df06['DWS'].max()\n",
    "aux"
   ]
  },
  {
   "cell_type": "code",
   "execution_count": 592,
   "metadata": {},
   "outputs": [
    {
     "data": {
      "application/vnd.plotly.v1+json": {
       "config": {
        "plotlyServerURL": "https://plot.ly"
       },
       "data": [
        {
         "fill": "toself",
         "hovertemplate": "Jayson Tatum=%{r}<br>index=%{theta}<extra></extra>",
         "legendgroup": "",
         "line": {
          "color": "#f0f921",
          "dash": "solid"
         },
         "marker": {
          "symbol": "circle"
         },
         "mode": "lines",
         "name": "",
         "r": [
          0.8750000000000001,
          0.6530612244897959,
          0.5704887218045113,
          0.72,
          0.42990654205607476,
          0.21568627450980396,
          0.8020833333333334,
          0.3666666666666667,
          0.2333333333333333,
          0.8958333333333334,
          0.8750000000000001
         ],
         "showlegend": false,
         "subplot": "polar",
         "theta": [
          "FG",
          "3P",
          "TS%",
          "FT",
          "AST",
          "ORB",
          "DRB",
          "STL",
          "BLK",
          "DWS",
          "FG"
         ],
         "type": "scatterpolar"
        }
       ],
       "layout": {
        "legend": {
         "tracegroupgap": 0
        },
        "polar": {
         "angularaxis": {
          "direction": "clockwise",
          "rotation": 90
         },
         "domain": {
          "x": [
           0,
           1
          ],
          "y": [
           0,
           1
          ]
         },
         "radialaxis": {
          "range": [
           0,
           1
          ]
         }
        },
        "template": {
         "data": {
          "bar": [
           {
            "error_x": {
             "color": "#f2f5fa"
            },
            "error_y": {
             "color": "#f2f5fa"
            },
            "marker": {
             "line": {
              "color": "rgb(17,17,17)",
              "width": 0.5
             },
             "pattern": {
              "fillmode": "overlay",
              "size": 10,
              "solidity": 0.2
             }
            },
            "type": "bar"
           }
          ],
          "barpolar": [
           {
            "marker": {
             "line": {
              "color": "rgb(17,17,17)",
              "width": 0.5
             },
             "pattern": {
              "fillmode": "overlay",
              "size": 10,
              "solidity": 0.2
             }
            },
            "type": "barpolar"
           }
          ],
          "carpet": [
           {
            "aaxis": {
             "endlinecolor": "#A2B1C6",
             "gridcolor": "#506784",
             "linecolor": "#506784",
             "minorgridcolor": "#506784",
             "startlinecolor": "#A2B1C6"
            },
            "baxis": {
             "endlinecolor": "#A2B1C6",
             "gridcolor": "#506784",
             "linecolor": "#506784",
             "minorgridcolor": "#506784",
             "startlinecolor": "#A2B1C6"
            },
            "type": "carpet"
           }
          ],
          "choropleth": [
           {
            "colorbar": {
             "outlinewidth": 0,
             "ticks": ""
            },
            "type": "choropleth"
           }
          ],
          "contour": [
           {
            "colorbar": {
             "outlinewidth": 0,
             "ticks": ""
            },
            "colorscale": [
             [
              0,
              "#0d0887"
             ],
             [
              0.1111111111111111,
              "#46039f"
             ],
             [
              0.2222222222222222,
              "#7201a8"
             ],
             [
              0.3333333333333333,
              "#9c179e"
             ],
             [
              0.4444444444444444,
              "#bd3786"
             ],
             [
              0.5555555555555556,
              "#d8576b"
             ],
             [
              0.6666666666666666,
              "#ed7953"
             ],
             [
              0.7777777777777778,
              "#fb9f3a"
             ],
             [
              0.8888888888888888,
              "#fdca26"
             ],
             [
              1,
              "#f0f921"
             ]
            ],
            "type": "contour"
           }
          ],
          "contourcarpet": [
           {
            "colorbar": {
             "outlinewidth": 0,
             "ticks": ""
            },
            "type": "contourcarpet"
           }
          ],
          "heatmap": [
           {
            "colorbar": {
             "outlinewidth": 0,
             "ticks": ""
            },
            "colorscale": [
             [
              0,
              "#0d0887"
             ],
             [
              0.1111111111111111,
              "#46039f"
             ],
             [
              0.2222222222222222,
              "#7201a8"
             ],
             [
              0.3333333333333333,
              "#9c179e"
             ],
             [
              0.4444444444444444,
              "#bd3786"
             ],
             [
              0.5555555555555556,
              "#d8576b"
             ],
             [
              0.6666666666666666,
              "#ed7953"
             ],
             [
              0.7777777777777778,
              "#fb9f3a"
             ],
             [
              0.8888888888888888,
              "#fdca26"
             ],
             [
              1,
              "#f0f921"
             ]
            ],
            "type": "heatmap"
           }
          ],
          "heatmapgl": [
           {
            "colorbar": {
             "outlinewidth": 0,
             "ticks": ""
            },
            "colorscale": [
             [
              0,
              "#0d0887"
             ],
             [
              0.1111111111111111,
              "#46039f"
             ],
             [
              0.2222222222222222,
              "#7201a8"
             ],
             [
              0.3333333333333333,
              "#9c179e"
             ],
             [
              0.4444444444444444,
              "#bd3786"
             ],
             [
              0.5555555555555556,
              "#d8576b"
             ],
             [
              0.6666666666666666,
              "#ed7953"
             ],
             [
              0.7777777777777778,
              "#fb9f3a"
             ],
             [
              0.8888888888888888,
              "#fdca26"
             ],
             [
              1,
              "#f0f921"
             ]
            ],
            "type": "heatmapgl"
           }
          ],
          "histogram": [
           {
            "marker": {
             "pattern": {
              "fillmode": "overlay",
              "size": 10,
              "solidity": 0.2
             }
            },
            "type": "histogram"
           }
          ],
          "histogram2d": [
           {
            "colorbar": {
             "outlinewidth": 0,
             "ticks": ""
            },
            "colorscale": [
             [
              0,
              "#0d0887"
             ],
             [
              0.1111111111111111,
              "#46039f"
             ],
             [
              0.2222222222222222,
              "#7201a8"
             ],
             [
              0.3333333333333333,
              "#9c179e"
             ],
             [
              0.4444444444444444,
              "#bd3786"
             ],
             [
              0.5555555555555556,
              "#d8576b"
             ],
             [
              0.6666666666666666,
              "#ed7953"
             ],
             [
              0.7777777777777778,
              "#fb9f3a"
             ],
             [
              0.8888888888888888,
              "#fdca26"
             ],
             [
              1,
              "#f0f921"
             ]
            ],
            "type": "histogram2d"
           }
          ],
          "histogram2dcontour": [
           {
            "colorbar": {
             "outlinewidth": 0,
             "ticks": ""
            },
            "colorscale": [
             [
              0,
              "#0d0887"
             ],
             [
              0.1111111111111111,
              "#46039f"
             ],
             [
              0.2222222222222222,
              "#7201a8"
             ],
             [
              0.3333333333333333,
              "#9c179e"
             ],
             [
              0.4444444444444444,
              "#bd3786"
             ],
             [
              0.5555555555555556,
              "#d8576b"
             ],
             [
              0.6666666666666666,
              "#ed7953"
             ],
             [
              0.7777777777777778,
              "#fb9f3a"
             ],
             [
              0.8888888888888888,
              "#fdca26"
             ],
             [
              1,
              "#f0f921"
             ]
            ],
            "type": "histogram2dcontour"
           }
          ],
          "mesh3d": [
           {
            "colorbar": {
             "outlinewidth": 0,
             "ticks": ""
            },
            "type": "mesh3d"
           }
          ],
          "parcoords": [
           {
            "line": {
             "colorbar": {
              "outlinewidth": 0,
              "ticks": ""
             }
            },
            "type": "parcoords"
           }
          ],
          "pie": [
           {
            "automargin": true,
            "type": "pie"
           }
          ],
          "scatter": [
           {
            "marker": {
             "line": {
              "color": "#283442"
             }
            },
            "type": "scatter"
           }
          ],
          "scatter3d": [
           {
            "line": {
             "colorbar": {
              "outlinewidth": 0,
              "ticks": ""
             }
            },
            "marker": {
             "colorbar": {
              "outlinewidth": 0,
              "ticks": ""
             }
            },
            "type": "scatter3d"
           }
          ],
          "scattercarpet": [
           {
            "marker": {
             "colorbar": {
              "outlinewidth": 0,
              "ticks": ""
             }
            },
            "type": "scattercarpet"
           }
          ],
          "scattergeo": [
           {
            "marker": {
             "colorbar": {
              "outlinewidth": 0,
              "ticks": ""
             }
            },
            "type": "scattergeo"
           }
          ],
          "scattergl": [
           {
            "marker": {
             "line": {
              "color": "#283442"
             }
            },
            "type": "scattergl"
           }
          ],
          "scattermapbox": [
           {
            "marker": {
             "colorbar": {
              "outlinewidth": 0,
              "ticks": ""
             }
            },
            "type": "scattermapbox"
           }
          ],
          "scatterpolar": [
           {
            "marker": {
             "colorbar": {
              "outlinewidth": 0,
              "ticks": ""
             }
            },
            "type": "scatterpolar"
           }
          ],
          "scatterpolargl": [
           {
            "marker": {
             "colorbar": {
              "outlinewidth": 0,
              "ticks": ""
             }
            },
            "type": "scatterpolargl"
           }
          ],
          "scatterternary": [
           {
            "marker": {
             "colorbar": {
              "outlinewidth": 0,
              "ticks": ""
             }
            },
            "type": "scatterternary"
           }
          ],
          "surface": [
           {
            "colorbar": {
             "outlinewidth": 0,
             "ticks": ""
            },
            "colorscale": [
             [
              0,
              "#0d0887"
             ],
             [
              0.1111111111111111,
              "#46039f"
             ],
             [
              0.2222222222222222,
              "#7201a8"
             ],
             [
              0.3333333333333333,
              "#9c179e"
             ],
             [
              0.4444444444444444,
              "#bd3786"
             ],
             [
              0.5555555555555556,
              "#d8576b"
             ],
             [
              0.6666666666666666,
              "#ed7953"
             ],
             [
              0.7777777777777778,
              "#fb9f3a"
             ],
             [
              0.8888888888888888,
              "#fdca26"
             ],
             [
              1,
              "#f0f921"
             ]
            ],
            "type": "surface"
           }
          ],
          "table": [
           {
            "cells": {
             "fill": {
              "color": "#506784"
             },
             "line": {
              "color": "rgb(17,17,17)"
             }
            },
            "header": {
             "fill": {
              "color": "#2a3f5f"
             },
             "line": {
              "color": "rgb(17,17,17)"
             }
            },
            "type": "table"
           }
          ]
         },
         "layout": {
          "annotationdefaults": {
           "arrowcolor": "#f2f5fa",
           "arrowhead": 0,
           "arrowwidth": 1
          },
          "autotypenumbers": "strict",
          "coloraxis": {
           "colorbar": {
            "outlinewidth": 0,
            "ticks": ""
           }
          },
          "colorscale": {
           "diverging": [
            [
             0,
             "#8e0152"
            ],
            [
             0.1,
             "#c51b7d"
            ],
            [
             0.2,
             "#de77ae"
            ],
            [
             0.3,
             "#f1b6da"
            ],
            [
             0.4,
             "#fde0ef"
            ],
            [
             0.5,
             "#f7f7f7"
            ],
            [
             0.6,
             "#e6f5d0"
            ],
            [
             0.7,
             "#b8e186"
            ],
            [
             0.8,
             "#7fbc41"
            ],
            [
             0.9,
             "#4d9221"
            ],
            [
             1,
             "#276419"
            ]
           ],
           "sequential": [
            [
             0,
             "#0d0887"
            ],
            [
             0.1111111111111111,
             "#46039f"
            ],
            [
             0.2222222222222222,
             "#7201a8"
            ],
            [
             0.3333333333333333,
             "#9c179e"
            ],
            [
             0.4444444444444444,
             "#bd3786"
            ],
            [
             0.5555555555555556,
             "#d8576b"
            ],
            [
             0.6666666666666666,
             "#ed7953"
            ],
            [
             0.7777777777777778,
             "#fb9f3a"
            ],
            [
             0.8888888888888888,
             "#fdca26"
            ],
            [
             1,
             "#f0f921"
            ]
           ],
           "sequentialminus": [
            [
             0,
             "#0d0887"
            ],
            [
             0.1111111111111111,
             "#46039f"
            ],
            [
             0.2222222222222222,
             "#7201a8"
            ],
            [
             0.3333333333333333,
             "#9c179e"
            ],
            [
             0.4444444444444444,
             "#bd3786"
            ],
            [
             0.5555555555555556,
             "#d8576b"
            ],
            [
             0.6666666666666666,
             "#ed7953"
            ],
            [
             0.7777777777777778,
             "#fb9f3a"
            ],
            [
             0.8888888888888888,
             "#fdca26"
            ],
            [
             1,
             "#f0f921"
            ]
           ]
          },
          "colorway": [
           "#636efa",
           "#EF553B",
           "#00cc96",
           "#ab63fa",
           "#FFA15A",
           "#19d3f3",
           "#FF6692",
           "#B6E880",
           "#FF97FF",
           "#FECB52"
          ],
          "font": {
           "color": "#f2f5fa"
          },
          "geo": {
           "bgcolor": "rgb(17,17,17)",
           "lakecolor": "rgb(17,17,17)",
           "landcolor": "rgb(17,17,17)",
           "showlakes": true,
           "showland": true,
           "subunitcolor": "#506784"
          },
          "hoverlabel": {
           "align": "left"
          },
          "hovermode": "closest",
          "mapbox": {
           "style": "dark"
          },
          "paper_bgcolor": "rgb(17,17,17)",
          "plot_bgcolor": "rgb(17,17,17)",
          "polar": {
           "angularaxis": {
            "gridcolor": "#506784",
            "linecolor": "#506784",
            "ticks": ""
           },
           "bgcolor": "rgb(17,17,17)",
           "radialaxis": {
            "gridcolor": "#506784",
            "linecolor": "#506784",
            "ticks": ""
           }
          },
          "scene": {
           "xaxis": {
            "backgroundcolor": "rgb(17,17,17)",
            "gridcolor": "#506784",
            "gridwidth": 2,
            "linecolor": "#506784",
            "showbackground": true,
            "ticks": "",
            "zerolinecolor": "#C8D4E3"
           },
           "yaxis": {
            "backgroundcolor": "rgb(17,17,17)",
            "gridcolor": "#506784",
            "gridwidth": 2,
            "linecolor": "#506784",
            "showbackground": true,
            "ticks": "",
            "zerolinecolor": "#C8D4E3"
           },
           "zaxis": {
            "backgroundcolor": "rgb(17,17,17)",
            "gridcolor": "#506784",
            "gridwidth": 2,
            "linecolor": "#506784",
            "showbackground": true,
            "ticks": "",
            "zerolinecolor": "#C8D4E3"
           }
          },
          "shapedefaults": {
           "line": {
            "color": "#f2f5fa"
           }
          },
          "sliderdefaults": {
           "bgcolor": "#C8D4E3",
           "bordercolor": "rgb(17,17,17)",
           "borderwidth": 1,
           "tickwidth": 0
          },
          "ternary": {
           "aaxis": {
            "gridcolor": "#506784",
            "linecolor": "#506784",
            "ticks": ""
           },
           "baxis": {
            "gridcolor": "#506784",
            "linecolor": "#506784",
            "ticks": ""
           },
           "bgcolor": "rgb(17,17,17)",
           "caxis": {
            "gridcolor": "#506784",
            "linecolor": "#506784",
            "ticks": ""
           }
          },
          "title": {
           "x": 0.05
          },
          "updatemenudefaults": {
           "bgcolor": "#506784",
           "borderwidth": 0
          },
          "xaxis": {
           "automargin": true,
           "gridcolor": "#283442",
           "linecolor": "#506784",
           "ticks": "",
           "title": {
            "standoff": 15
           },
           "zerolinecolor": "#283442",
           "zerolinewidth": 2
          },
          "yaxis": {
           "automargin": true,
           "gridcolor": "#283442",
           "linecolor": "#506784",
           "ticks": "",
           "title": {
            "standoff": 15
           },
           "zerolinecolor": "#283442",
           "zerolinewidth": 2
          }
         }
        },
        "title": {
         "text": "Full Chart - Jayson Tatum",
         "x": 0.5
        }
       }
      }
     },
     "metadata": {},
     "output_type": "display_data"
    }
   ],
   "source": [
    "fig_full = px.line_polar(data_frame=aux,\n",
    "             r=player,\n",
    "             theta=aux.index,\n",
    "             color_discrete_sequence=px.colors.sequential.Plasma_r, \n",
    "             template=\"plotly_dark\",\n",
    "             title= f\"Offensive - {player}\",\n",
    "             line_close=True,\n",
    "             markers=False,\n",
    "             range_r=[0, 1])\n",
    "fig_full.update_layout(title_text=f\"Full Chart - {player}\", \n",
    "                       title_x=0.5)\n",
    "fig_full.update_traces(fill = 'toself')"
   ]
  },
  {
   "attachments": {},
   "cell_type": "markdown",
   "metadata": {},
   "source": [
    "### Offensive Chart"
   ]
  },
  {
   "cell_type": "code",
   "execution_count": null,
   "metadata": {},
   "outputs": [
    {
     "data": {
      "text/html": [
       "<div>\n",
       "<style scoped>\n",
       "    .dataframe tbody tr th:only-of-type {\n",
       "        vertical-align: middle;\n",
       "    }\n",
       "\n",
       "    .dataframe tbody tr th {\n",
       "        vertical-align: top;\n",
       "    }\n",
       "\n",
       "    .dataframe thead th {\n",
       "        text-align: right;\n",
       "    }\n",
       "</style>\n",
       "<table border=\"1\" class=\"dataframe\">\n",
       "  <thead>\n",
       "    <tr style=\"text-align: right;\">\n",
       "      <th></th>\n",
       "      <th>Marcus Smart</th>\n",
       "    </tr>\n",
       "  </thead>\n",
       "  <tbody>\n",
       "    <tr>\n",
       "      <th>FG%</th>\n",
       "      <td>0.4150</td>\n",
       "    </tr>\n",
       "    <tr>\n",
       "      <th>3P%</th>\n",
       "      <td>0.3360</td>\n",
       "    </tr>\n",
       "    <tr>\n",
       "      <th>TS%</th>\n",
       "      <td>0.5380</td>\n",
       "    </tr>\n",
       "    <tr>\n",
       "      <th>FT%</th>\n",
       "      <td>0.7460</td>\n",
       "    </tr>\n",
       "    <tr>\n",
       "      <th>AST%</th>\n",
       "      <td>0.2640</td>\n",
       "    </tr>\n",
       "    <tr>\n",
       "      <th>ORB%</th>\n",
       "      <td>0.0260</td>\n",
       "    </tr>\n",
       "    <tr>\n",
       "      <th>DRB%</th>\n",
       "      <td>0.0800</td>\n",
       "    </tr>\n",
       "    <tr>\n",
       "      <th>STL%</th>\n",
       "      <td>0.0230</td>\n",
       "    </tr>\n",
       "    <tr>\n",
       "      <th>BLK%</th>\n",
       "      <td>0.0100</td>\n",
       "    </tr>\n",
       "    <tr>\n",
       "      <th>DWS</th>\n",
       "      <td>0.5625</td>\n",
       "    </tr>\n",
       "  </tbody>\n",
       "</table>\n",
       "</div>"
      ],
      "text/plain": [
       "      Marcus Smart\n",
       "FG%         0.4150\n",
       "3P%         0.3360\n",
       "TS%         0.5380\n",
       "FT%         0.7460\n",
       "AST%        0.2640\n",
       "ORB%        0.0260\n",
       "DRB%        0.0800\n",
       "STL%        0.0230\n",
       "BLK%        0.0100\n",
       "DWS         0.5625"
      ]
     },
     "metadata": {},
     "output_type": "display_data"
    }
   ],
   "source": [
    "aux = df06[df06['Player'] == player][['FG%', '3P%', 'TS%', 'FT%', 'AST%', 'ORB%', 'DRB%', 'STL%', 'BLK%', 'DWS']].T\n",
    "aux.columns = [player]\n",
    "aux.iloc[4, 0]\n",
    "aux.iloc[9] = aux.iloc[9]/df06['DWS'].max()\n",
    "# aux.iloc[9] = aux.iloc[9]/4.8\n",
    "# aux.iloc[9] = aux.iloc[9]/4.8\n",
    "# aux.iloc[9] = aux.iloc[9]/4.8\n",
    "aux"
   ]
  },
  {
   "cell_type": "code",
   "execution_count": 543,
   "metadata": {},
   "outputs": [
    {
     "data": {
      "application/vnd.plotly.v1+json": {
       "config": {
        "plotlyServerURL": "https://plot.ly"
       },
       "data": [
        {
         "hovertemplate": "Marcus Smart=%{r}<br>index=%{theta}<extra></extra>",
         "legendgroup": "",
         "line": {
          "color": "#f0f921",
          "dash": "solid"
         },
         "marker": {
          "symbol": "circle"
         },
         "mode": "lines",
         "name": "",
         "r": [
          0.415,
          0.336,
          0.538,
          0.746,
          0.264,
          0.026,
          0.08,
          0.023,
          0.01,
          0.5625000000000001,
          0.415
         ],
         "showlegend": false,
         "subplot": "polar",
         "theta": [
          "FG%",
          "3P%",
          "TS%",
          "FT%",
          "AST%",
          "ORB%",
          "DRB%",
          "STL%",
          "BLK%",
          "DWS",
          "FG%"
         ],
         "type": "scatterpolar"
        }
       ],
       "layout": {
        "legend": {
         "tracegroupgap": 0
        },
        "polar": {
         "angularaxis": {
          "direction": "clockwise",
          "rotation": 90
         },
         "domain": {
          "x": [
           0,
           1
          ],
          "y": [
           0,
           1
          ]
         },
         "radialaxis": {
          "range": [
           0,
           1
          ]
         }
        },
        "template": {
         "data": {
          "bar": [
           {
            "error_x": {
             "color": "#f2f5fa"
            },
            "error_y": {
             "color": "#f2f5fa"
            },
            "marker": {
             "line": {
              "color": "rgb(17,17,17)",
              "width": 0.5
             },
             "pattern": {
              "fillmode": "overlay",
              "size": 10,
              "solidity": 0.2
             }
            },
            "type": "bar"
           }
          ],
          "barpolar": [
           {
            "marker": {
             "line": {
              "color": "rgb(17,17,17)",
              "width": 0.5
             },
             "pattern": {
              "fillmode": "overlay",
              "size": 10,
              "solidity": 0.2
             }
            },
            "type": "barpolar"
           }
          ],
          "carpet": [
           {
            "aaxis": {
             "endlinecolor": "#A2B1C6",
             "gridcolor": "#506784",
             "linecolor": "#506784",
             "minorgridcolor": "#506784",
             "startlinecolor": "#A2B1C6"
            },
            "baxis": {
             "endlinecolor": "#A2B1C6",
             "gridcolor": "#506784",
             "linecolor": "#506784",
             "minorgridcolor": "#506784",
             "startlinecolor": "#A2B1C6"
            },
            "type": "carpet"
           }
          ],
          "choropleth": [
           {
            "colorbar": {
             "outlinewidth": 0,
             "ticks": ""
            },
            "type": "choropleth"
           }
          ],
          "contour": [
           {
            "colorbar": {
             "outlinewidth": 0,
             "ticks": ""
            },
            "colorscale": [
             [
              0,
              "#0d0887"
             ],
             [
              0.1111111111111111,
              "#46039f"
             ],
             [
              0.2222222222222222,
              "#7201a8"
             ],
             [
              0.3333333333333333,
              "#9c179e"
             ],
             [
              0.4444444444444444,
              "#bd3786"
             ],
             [
              0.5555555555555556,
              "#d8576b"
             ],
             [
              0.6666666666666666,
              "#ed7953"
             ],
             [
              0.7777777777777778,
              "#fb9f3a"
             ],
             [
              0.8888888888888888,
              "#fdca26"
             ],
             [
              1,
              "#f0f921"
             ]
            ],
            "type": "contour"
           }
          ],
          "contourcarpet": [
           {
            "colorbar": {
             "outlinewidth": 0,
             "ticks": ""
            },
            "type": "contourcarpet"
           }
          ],
          "heatmap": [
           {
            "colorbar": {
             "outlinewidth": 0,
             "ticks": ""
            },
            "colorscale": [
             [
              0,
              "#0d0887"
             ],
             [
              0.1111111111111111,
              "#46039f"
             ],
             [
              0.2222222222222222,
              "#7201a8"
             ],
             [
              0.3333333333333333,
              "#9c179e"
             ],
             [
              0.4444444444444444,
              "#bd3786"
             ],
             [
              0.5555555555555556,
              "#d8576b"
             ],
             [
              0.6666666666666666,
              "#ed7953"
             ],
             [
              0.7777777777777778,
              "#fb9f3a"
             ],
             [
              0.8888888888888888,
              "#fdca26"
             ],
             [
              1,
              "#f0f921"
             ]
            ],
            "type": "heatmap"
           }
          ],
          "heatmapgl": [
           {
            "colorbar": {
             "outlinewidth": 0,
             "ticks": ""
            },
            "colorscale": [
             [
              0,
              "#0d0887"
             ],
             [
              0.1111111111111111,
              "#46039f"
             ],
             [
              0.2222222222222222,
              "#7201a8"
             ],
             [
              0.3333333333333333,
              "#9c179e"
             ],
             [
              0.4444444444444444,
              "#bd3786"
             ],
             [
              0.5555555555555556,
              "#d8576b"
             ],
             [
              0.6666666666666666,
              "#ed7953"
             ],
             [
              0.7777777777777778,
              "#fb9f3a"
             ],
             [
              0.8888888888888888,
              "#fdca26"
             ],
             [
              1,
              "#f0f921"
             ]
            ],
            "type": "heatmapgl"
           }
          ],
          "histogram": [
           {
            "marker": {
             "pattern": {
              "fillmode": "overlay",
              "size": 10,
              "solidity": 0.2
             }
            },
            "type": "histogram"
           }
          ],
          "histogram2d": [
           {
            "colorbar": {
             "outlinewidth": 0,
             "ticks": ""
            },
            "colorscale": [
             [
              0,
              "#0d0887"
             ],
             [
              0.1111111111111111,
              "#46039f"
             ],
             [
              0.2222222222222222,
              "#7201a8"
             ],
             [
              0.3333333333333333,
              "#9c179e"
             ],
             [
              0.4444444444444444,
              "#bd3786"
             ],
             [
              0.5555555555555556,
              "#d8576b"
             ],
             [
              0.6666666666666666,
              "#ed7953"
             ],
             [
              0.7777777777777778,
              "#fb9f3a"
             ],
             [
              0.8888888888888888,
              "#fdca26"
             ],
             [
              1,
              "#f0f921"
             ]
            ],
            "type": "histogram2d"
           }
          ],
          "histogram2dcontour": [
           {
            "colorbar": {
             "outlinewidth": 0,
             "ticks": ""
            },
            "colorscale": [
             [
              0,
              "#0d0887"
             ],
             [
              0.1111111111111111,
              "#46039f"
             ],
             [
              0.2222222222222222,
              "#7201a8"
             ],
             [
              0.3333333333333333,
              "#9c179e"
             ],
             [
              0.4444444444444444,
              "#bd3786"
             ],
             [
              0.5555555555555556,
              "#d8576b"
             ],
             [
              0.6666666666666666,
              "#ed7953"
             ],
             [
              0.7777777777777778,
              "#fb9f3a"
             ],
             [
              0.8888888888888888,
              "#fdca26"
             ],
             [
              1,
              "#f0f921"
             ]
            ],
            "type": "histogram2dcontour"
           }
          ],
          "mesh3d": [
           {
            "colorbar": {
             "outlinewidth": 0,
             "ticks": ""
            },
            "type": "mesh3d"
           }
          ],
          "parcoords": [
           {
            "line": {
             "colorbar": {
              "outlinewidth": 0,
              "ticks": ""
             }
            },
            "type": "parcoords"
           }
          ],
          "pie": [
           {
            "automargin": true,
            "type": "pie"
           }
          ],
          "scatter": [
           {
            "marker": {
             "line": {
              "color": "#283442"
             }
            },
            "type": "scatter"
           }
          ],
          "scatter3d": [
           {
            "line": {
             "colorbar": {
              "outlinewidth": 0,
              "ticks": ""
             }
            },
            "marker": {
             "colorbar": {
              "outlinewidth": 0,
              "ticks": ""
             }
            },
            "type": "scatter3d"
           }
          ],
          "scattercarpet": [
           {
            "marker": {
             "colorbar": {
              "outlinewidth": 0,
              "ticks": ""
             }
            },
            "type": "scattercarpet"
           }
          ],
          "scattergeo": [
           {
            "marker": {
             "colorbar": {
              "outlinewidth": 0,
              "ticks": ""
             }
            },
            "type": "scattergeo"
           }
          ],
          "scattergl": [
           {
            "marker": {
             "line": {
              "color": "#283442"
             }
            },
            "type": "scattergl"
           }
          ],
          "scattermapbox": [
           {
            "marker": {
             "colorbar": {
              "outlinewidth": 0,
              "ticks": ""
             }
            },
            "type": "scattermapbox"
           }
          ],
          "scatterpolar": [
           {
            "marker": {
             "colorbar": {
              "outlinewidth": 0,
              "ticks": ""
             }
            },
            "type": "scatterpolar"
           }
          ],
          "scatterpolargl": [
           {
            "marker": {
             "colorbar": {
              "outlinewidth": 0,
              "ticks": ""
             }
            },
            "type": "scatterpolargl"
           }
          ],
          "scatterternary": [
           {
            "marker": {
             "colorbar": {
              "outlinewidth": 0,
              "ticks": ""
             }
            },
            "type": "scatterternary"
           }
          ],
          "surface": [
           {
            "colorbar": {
             "outlinewidth": 0,
             "ticks": ""
            },
            "colorscale": [
             [
              0,
              "#0d0887"
             ],
             [
              0.1111111111111111,
              "#46039f"
             ],
             [
              0.2222222222222222,
              "#7201a8"
             ],
             [
              0.3333333333333333,
              "#9c179e"
             ],
             [
              0.4444444444444444,
              "#bd3786"
             ],
             [
              0.5555555555555556,
              "#d8576b"
             ],
             [
              0.6666666666666666,
              "#ed7953"
             ],
             [
              0.7777777777777778,
              "#fb9f3a"
             ],
             [
              0.8888888888888888,
              "#fdca26"
             ],
             [
              1,
              "#f0f921"
             ]
            ],
            "type": "surface"
           }
          ],
          "table": [
           {
            "cells": {
             "fill": {
              "color": "#506784"
             },
             "line": {
              "color": "rgb(17,17,17)"
             }
            },
            "header": {
             "fill": {
              "color": "#2a3f5f"
             },
             "line": {
              "color": "rgb(17,17,17)"
             }
            },
            "type": "table"
           }
          ]
         },
         "layout": {
          "annotationdefaults": {
           "arrowcolor": "#f2f5fa",
           "arrowhead": 0,
           "arrowwidth": 1
          },
          "autotypenumbers": "strict",
          "coloraxis": {
           "colorbar": {
            "outlinewidth": 0,
            "ticks": ""
           }
          },
          "colorscale": {
           "diverging": [
            [
             0,
             "#8e0152"
            ],
            [
             0.1,
             "#c51b7d"
            ],
            [
             0.2,
             "#de77ae"
            ],
            [
             0.3,
             "#f1b6da"
            ],
            [
             0.4,
             "#fde0ef"
            ],
            [
             0.5,
             "#f7f7f7"
            ],
            [
             0.6,
             "#e6f5d0"
            ],
            [
             0.7,
             "#b8e186"
            ],
            [
             0.8,
             "#7fbc41"
            ],
            [
             0.9,
             "#4d9221"
            ],
            [
             1,
             "#276419"
            ]
           ],
           "sequential": [
            [
             0,
             "#0d0887"
            ],
            [
             0.1111111111111111,
             "#46039f"
            ],
            [
             0.2222222222222222,
             "#7201a8"
            ],
            [
             0.3333333333333333,
             "#9c179e"
            ],
            [
             0.4444444444444444,
             "#bd3786"
            ],
            [
             0.5555555555555556,
             "#d8576b"
            ],
            [
             0.6666666666666666,
             "#ed7953"
            ],
            [
             0.7777777777777778,
             "#fb9f3a"
            ],
            [
             0.8888888888888888,
             "#fdca26"
            ],
            [
             1,
             "#f0f921"
            ]
           ],
           "sequentialminus": [
            [
             0,
             "#0d0887"
            ],
            [
             0.1111111111111111,
             "#46039f"
            ],
            [
             0.2222222222222222,
             "#7201a8"
            ],
            [
             0.3333333333333333,
             "#9c179e"
            ],
            [
             0.4444444444444444,
             "#bd3786"
            ],
            [
             0.5555555555555556,
             "#d8576b"
            ],
            [
             0.6666666666666666,
             "#ed7953"
            ],
            [
             0.7777777777777778,
             "#fb9f3a"
            ],
            [
             0.8888888888888888,
             "#fdca26"
            ],
            [
             1,
             "#f0f921"
            ]
           ]
          },
          "colorway": [
           "#636efa",
           "#EF553B",
           "#00cc96",
           "#ab63fa",
           "#FFA15A",
           "#19d3f3",
           "#FF6692",
           "#B6E880",
           "#FF97FF",
           "#FECB52"
          ],
          "font": {
           "color": "#f2f5fa"
          },
          "geo": {
           "bgcolor": "rgb(17,17,17)",
           "lakecolor": "rgb(17,17,17)",
           "landcolor": "rgb(17,17,17)",
           "showlakes": true,
           "showland": true,
           "subunitcolor": "#506784"
          },
          "hoverlabel": {
           "align": "left"
          },
          "hovermode": "closest",
          "mapbox": {
           "style": "dark"
          },
          "paper_bgcolor": "rgb(17,17,17)",
          "plot_bgcolor": "rgb(17,17,17)",
          "polar": {
           "angularaxis": {
            "gridcolor": "#506784",
            "linecolor": "#506784",
            "ticks": ""
           },
           "bgcolor": "rgb(17,17,17)",
           "radialaxis": {
            "gridcolor": "#506784",
            "linecolor": "#506784",
            "ticks": ""
           }
          },
          "scene": {
           "xaxis": {
            "backgroundcolor": "rgb(17,17,17)",
            "gridcolor": "#506784",
            "gridwidth": 2,
            "linecolor": "#506784",
            "showbackground": true,
            "ticks": "",
            "zerolinecolor": "#C8D4E3"
           },
           "yaxis": {
            "backgroundcolor": "rgb(17,17,17)",
            "gridcolor": "#506784",
            "gridwidth": 2,
            "linecolor": "#506784",
            "showbackground": true,
            "ticks": "",
            "zerolinecolor": "#C8D4E3"
           },
           "zaxis": {
            "backgroundcolor": "rgb(17,17,17)",
            "gridcolor": "#506784",
            "gridwidth": 2,
            "linecolor": "#506784",
            "showbackground": true,
            "ticks": "",
            "zerolinecolor": "#C8D4E3"
           }
          },
          "shapedefaults": {
           "line": {
            "color": "#f2f5fa"
           }
          },
          "sliderdefaults": {
           "bgcolor": "#C8D4E3",
           "bordercolor": "rgb(17,17,17)",
           "borderwidth": 1,
           "tickwidth": 0
          },
          "ternary": {
           "aaxis": {
            "gridcolor": "#506784",
            "linecolor": "#506784",
            "ticks": ""
           },
           "baxis": {
            "gridcolor": "#506784",
            "linecolor": "#506784",
            "ticks": ""
           },
           "bgcolor": "rgb(17,17,17)",
           "caxis": {
            "gridcolor": "#506784",
            "linecolor": "#506784",
            "ticks": ""
           }
          },
          "title": {
           "x": 0.05
          },
          "updatemenudefaults": {
           "bgcolor": "#506784",
           "borderwidth": 0
          },
          "xaxis": {
           "automargin": true,
           "gridcolor": "#283442",
           "linecolor": "#506784",
           "ticks": "",
           "title": {
            "standoff": 15
           },
           "zerolinecolor": "#283442",
           "zerolinewidth": 2
          },
          "yaxis": {
           "automargin": true,
           "gridcolor": "#283442",
           "linecolor": "#506784",
           "ticks": "",
           "title": {
            "standoff": 15
           },
           "zerolinecolor": "#283442",
           "zerolinewidth": 2
          }
         }
        },
        "title": {
         "text": "Offensive - Marcus Smart",
         "x": 0.5
        }
       }
      }
     },
     "metadata": {},
     "output_type": "display_data"
    }
   ],
   "source": [
    "fig_off = px.line_polar(data_frame=aux,\n",
    "             r=player,\n",
    "             theta=aux.index,\n",
    "             color_discrete_sequence=px.colors.sequential.Plasma_r, \n",
    "             template=\"plotly_dark\",\n",
    "             title= f\"Offensive - {player}\",\n",
    "             line_close=True,\n",
    "             markers=False,\n",
    "             range_r=[0, 1])\n",
    "fig_off.update_layout(title_text=f\"Offensive - {player}\", title_x=0.5)"
   ]
  },
  {
   "attachments": {},
   "cell_type": "markdown",
   "metadata": {},
   "source": [
    "### Deffensive Chart"
   ]
  },
  {
   "cell_type": "code",
   "execution_count": 538,
   "metadata": {},
   "outputs": [
    {
     "data": {
      "text/html": [
       "<div>\n",
       "<style scoped>\n",
       "    .dataframe tbody tr th:only-of-type {\n",
       "        vertical-align: middle;\n",
       "    }\n",
       "\n",
       "    .dataframe tbody tr th {\n",
       "        vertical-align: top;\n",
       "    }\n",
       "\n",
       "    .dataframe thead th {\n",
       "        text-align: right;\n",
       "    }\n",
       "</style>\n",
       "<table border=\"1\" class=\"dataframe\">\n",
       "  <thead>\n",
       "    <tr style=\"text-align: right;\">\n",
       "      <th></th>\n",
       "      <th>Marcus Smart</th>\n",
       "    </tr>\n",
       "  </thead>\n",
       "  <tbody>\n",
       "    <tr>\n",
       "      <th>DRB%</th>\n",
       "      <td>0.0800</td>\n",
       "    </tr>\n",
       "    <tr>\n",
       "      <th>STL%</th>\n",
       "      <td>0.0230</td>\n",
       "    </tr>\n",
       "    <tr>\n",
       "      <th>BLK%</th>\n",
       "      <td>0.0100</td>\n",
       "    </tr>\n",
       "    <tr>\n",
       "      <th>DWS</th>\n",
       "      <td>0.5625</td>\n",
       "    </tr>\n",
       "  </tbody>\n",
       "</table>\n",
       "</div>"
      ],
      "text/plain": [
       "      Marcus Smart\n",
       "DRB%        0.0800\n",
       "STL%        0.0230\n",
       "BLK%        0.0100\n",
       "DWS         0.5625"
      ]
     },
     "execution_count": 538,
     "metadata": {},
     "output_type": "execute_result"
    }
   ],
   "source": [
    "aux2 = df06[df06['Player'] == player][['DRB%', 'STL%', 'BLK%', 'DWS']].T\n",
    "aux2.columns = [player]\n",
    "aux2.iloc[3] = aux2.iloc[3]/4.8\n",
    "aux2"
   ]
  },
  {
   "cell_type": "code",
   "execution_count": 539,
   "metadata": {},
   "outputs": [
    {
     "data": {
      "application/vnd.plotly.v1+json": {
       "config": {
        "plotlyServerURL": "https://plot.ly"
       },
       "data": [
        {
         "hovertemplate": "Marcus Smart=%{r}<br>index=%{theta}<extra></extra>",
         "legendgroup": "",
         "line": {
          "color": "#f0f921",
          "dash": "solid"
         },
         "marker": {
          "symbol": "circle"
         },
         "mode": "lines",
         "name": "",
         "r": [
          0.08,
          0.023,
          0.01,
          0.5625000000000001,
          0.08
         ],
         "showlegend": false,
         "subplot": "polar",
         "theta": [
          "DRB%",
          "STL%",
          "BLK%",
          "DWS",
          "DRB%"
         ],
         "type": "scatterpolar"
        }
       ],
       "layout": {
        "legend": {
         "tracegroupgap": 0
        },
        "polar": {
         "angularaxis": {
          "direction": "clockwise",
          "rotation": 90
         },
         "domain": {
          "x": [
           0,
           1
          ],
          "y": [
           0,
           1
          ]
         },
         "radialaxis": {
          "range": [
           0,
           1
          ]
         }
        },
        "template": {
         "data": {
          "bar": [
           {
            "error_x": {
             "color": "#f2f5fa"
            },
            "error_y": {
             "color": "#f2f5fa"
            },
            "marker": {
             "line": {
              "color": "rgb(17,17,17)",
              "width": 0.5
             },
             "pattern": {
              "fillmode": "overlay",
              "size": 10,
              "solidity": 0.2
             }
            },
            "type": "bar"
           }
          ],
          "barpolar": [
           {
            "marker": {
             "line": {
              "color": "rgb(17,17,17)",
              "width": 0.5
             },
             "pattern": {
              "fillmode": "overlay",
              "size": 10,
              "solidity": 0.2
             }
            },
            "type": "barpolar"
           }
          ],
          "carpet": [
           {
            "aaxis": {
             "endlinecolor": "#A2B1C6",
             "gridcolor": "#506784",
             "linecolor": "#506784",
             "minorgridcolor": "#506784",
             "startlinecolor": "#A2B1C6"
            },
            "baxis": {
             "endlinecolor": "#A2B1C6",
             "gridcolor": "#506784",
             "linecolor": "#506784",
             "minorgridcolor": "#506784",
             "startlinecolor": "#A2B1C6"
            },
            "type": "carpet"
           }
          ],
          "choropleth": [
           {
            "colorbar": {
             "outlinewidth": 0,
             "ticks": ""
            },
            "type": "choropleth"
           }
          ],
          "contour": [
           {
            "colorbar": {
             "outlinewidth": 0,
             "ticks": ""
            },
            "colorscale": [
             [
              0,
              "#0d0887"
             ],
             [
              0.1111111111111111,
              "#46039f"
             ],
             [
              0.2222222222222222,
              "#7201a8"
             ],
             [
              0.3333333333333333,
              "#9c179e"
             ],
             [
              0.4444444444444444,
              "#bd3786"
             ],
             [
              0.5555555555555556,
              "#d8576b"
             ],
             [
              0.6666666666666666,
              "#ed7953"
             ],
             [
              0.7777777777777778,
              "#fb9f3a"
             ],
             [
              0.8888888888888888,
              "#fdca26"
             ],
             [
              1,
              "#f0f921"
             ]
            ],
            "type": "contour"
           }
          ],
          "contourcarpet": [
           {
            "colorbar": {
             "outlinewidth": 0,
             "ticks": ""
            },
            "type": "contourcarpet"
           }
          ],
          "heatmap": [
           {
            "colorbar": {
             "outlinewidth": 0,
             "ticks": ""
            },
            "colorscale": [
             [
              0,
              "#0d0887"
             ],
             [
              0.1111111111111111,
              "#46039f"
             ],
             [
              0.2222222222222222,
              "#7201a8"
             ],
             [
              0.3333333333333333,
              "#9c179e"
             ],
             [
              0.4444444444444444,
              "#bd3786"
             ],
             [
              0.5555555555555556,
              "#d8576b"
             ],
             [
              0.6666666666666666,
              "#ed7953"
             ],
             [
              0.7777777777777778,
              "#fb9f3a"
             ],
             [
              0.8888888888888888,
              "#fdca26"
             ],
             [
              1,
              "#f0f921"
             ]
            ],
            "type": "heatmap"
           }
          ],
          "heatmapgl": [
           {
            "colorbar": {
             "outlinewidth": 0,
             "ticks": ""
            },
            "colorscale": [
             [
              0,
              "#0d0887"
             ],
             [
              0.1111111111111111,
              "#46039f"
             ],
             [
              0.2222222222222222,
              "#7201a8"
             ],
             [
              0.3333333333333333,
              "#9c179e"
             ],
             [
              0.4444444444444444,
              "#bd3786"
             ],
             [
              0.5555555555555556,
              "#d8576b"
             ],
             [
              0.6666666666666666,
              "#ed7953"
             ],
             [
              0.7777777777777778,
              "#fb9f3a"
             ],
             [
              0.8888888888888888,
              "#fdca26"
             ],
             [
              1,
              "#f0f921"
             ]
            ],
            "type": "heatmapgl"
           }
          ],
          "histogram": [
           {
            "marker": {
             "pattern": {
              "fillmode": "overlay",
              "size": 10,
              "solidity": 0.2
             }
            },
            "type": "histogram"
           }
          ],
          "histogram2d": [
           {
            "colorbar": {
             "outlinewidth": 0,
             "ticks": ""
            },
            "colorscale": [
             [
              0,
              "#0d0887"
             ],
             [
              0.1111111111111111,
              "#46039f"
             ],
             [
              0.2222222222222222,
              "#7201a8"
             ],
             [
              0.3333333333333333,
              "#9c179e"
             ],
             [
              0.4444444444444444,
              "#bd3786"
             ],
             [
              0.5555555555555556,
              "#d8576b"
             ],
             [
              0.6666666666666666,
              "#ed7953"
             ],
             [
              0.7777777777777778,
              "#fb9f3a"
             ],
             [
              0.8888888888888888,
              "#fdca26"
             ],
             [
              1,
              "#f0f921"
             ]
            ],
            "type": "histogram2d"
           }
          ],
          "histogram2dcontour": [
           {
            "colorbar": {
             "outlinewidth": 0,
             "ticks": ""
            },
            "colorscale": [
             [
              0,
              "#0d0887"
             ],
             [
              0.1111111111111111,
              "#46039f"
             ],
             [
              0.2222222222222222,
              "#7201a8"
             ],
             [
              0.3333333333333333,
              "#9c179e"
             ],
             [
              0.4444444444444444,
              "#bd3786"
             ],
             [
              0.5555555555555556,
              "#d8576b"
             ],
             [
              0.6666666666666666,
              "#ed7953"
             ],
             [
              0.7777777777777778,
              "#fb9f3a"
             ],
             [
              0.8888888888888888,
              "#fdca26"
             ],
             [
              1,
              "#f0f921"
             ]
            ],
            "type": "histogram2dcontour"
           }
          ],
          "mesh3d": [
           {
            "colorbar": {
             "outlinewidth": 0,
             "ticks": ""
            },
            "type": "mesh3d"
           }
          ],
          "parcoords": [
           {
            "line": {
             "colorbar": {
              "outlinewidth": 0,
              "ticks": ""
             }
            },
            "type": "parcoords"
           }
          ],
          "pie": [
           {
            "automargin": true,
            "type": "pie"
           }
          ],
          "scatter": [
           {
            "marker": {
             "line": {
              "color": "#283442"
             }
            },
            "type": "scatter"
           }
          ],
          "scatter3d": [
           {
            "line": {
             "colorbar": {
              "outlinewidth": 0,
              "ticks": ""
             }
            },
            "marker": {
             "colorbar": {
              "outlinewidth": 0,
              "ticks": ""
             }
            },
            "type": "scatter3d"
           }
          ],
          "scattercarpet": [
           {
            "marker": {
             "colorbar": {
              "outlinewidth": 0,
              "ticks": ""
             }
            },
            "type": "scattercarpet"
           }
          ],
          "scattergeo": [
           {
            "marker": {
             "colorbar": {
              "outlinewidth": 0,
              "ticks": ""
             }
            },
            "type": "scattergeo"
           }
          ],
          "scattergl": [
           {
            "marker": {
             "line": {
              "color": "#283442"
             }
            },
            "type": "scattergl"
           }
          ],
          "scattermapbox": [
           {
            "marker": {
             "colorbar": {
              "outlinewidth": 0,
              "ticks": ""
             }
            },
            "type": "scattermapbox"
           }
          ],
          "scatterpolar": [
           {
            "marker": {
             "colorbar": {
              "outlinewidth": 0,
              "ticks": ""
             }
            },
            "type": "scatterpolar"
           }
          ],
          "scatterpolargl": [
           {
            "marker": {
             "colorbar": {
              "outlinewidth": 0,
              "ticks": ""
             }
            },
            "type": "scatterpolargl"
           }
          ],
          "scatterternary": [
           {
            "marker": {
             "colorbar": {
              "outlinewidth": 0,
              "ticks": ""
             }
            },
            "type": "scatterternary"
           }
          ],
          "surface": [
           {
            "colorbar": {
             "outlinewidth": 0,
             "ticks": ""
            },
            "colorscale": [
             [
              0,
              "#0d0887"
             ],
             [
              0.1111111111111111,
              "#46039f"
             ],
             [
              0.2222222222222222,
              "#7201a8"
             ],
             [
              0.3333333333333333,
              "#9c179e"
             ],
             [
              0.4444444444444444,
              "#bd3786"
             ],
             [
              0.5555555555555556,
              "#d8576b"
             ],
             [
              0.6666666666666666,
              "#ed7953"
             ],
             [
              0.7777777777777778,
              "#fb9f3a"
             ],
             [
              0.8888888888888888,
              "#fdca26"
             ],
             [
              1,
              "#f0f921"
             ]
            ],
            "type": "surface"
           }
          ],
          "table": [
           {
            "cells": {
             "fill": {
              "color": "#506784"
             },
             "line": {
              "color": "rgb(17,17,17)"
             }
            },
            "header": {
             "fill": {
              "color": "#2a3f5f"
             },
             "line": {
              "color": "rgb(17,17,17)"
             }
            },
            "type": "table"
           }
          ]
         },
         "layout": {
          "annotationdefaults": {
           "arrowcolor": "#f2f5fa",
           "arrowhead": 0,
           "arrowwidth": 1
          },
          "autotypenumbers": "strict",
          "coloraxis": {
           "colorbar": {
            "outlinewidth": 0,
            "ticks": ""
           }
          },
          "colorscale": {
           "diverging": [
            [
             0,
             "#8e0152"
            ],
            [
             0.1,
             "#c51b7d"
            ],
            [
             0.2,
             "#de77ae"
            ],
            [
             0.3,
             "#f1b6da"
            ],
            [
             0.4,
             "#fde0ef"
            ],
            [
             0.5,
             "#f7f7f7"
            ],
            [
             0.6,
             "#e6f5d0"
            ],
            [
             0.7,
             "#b8e186"
            ],
            [
             0.8,
             "#7fbc41"
            ],
            [
             0.9,
             "#4d9221"
            ],
            [
             1,
             "#276419"
            ]
           ],
           "sequential": [
            [
             0,
             "#0d0887"
            ],
            [
             0.1111111111111111,
             "#46039f"
            ],
            [
             0.2222222222222222,
             "#7201a8"
            ],
            [
             0.3333333333333333,
             "#9c179e"
            ],
            [
             0.4444444444444444,
             "#bd3786"
            ],
            [
             0.5555555555555556,
             "#d8576b"
            ],
            [
             0.6666666666666666,
             "#ed7953"
            ],
            [
             0.7777777777777778,
             "#fb9f3a"
            ],
            [
             0.8888888888888888,
             "#fdca26"
            ],
            [
             1,
             "#f0f921"
            ]
           ],
           "sequentialminus": [
            [
             0,
             "#0d0887"
            ],
            [
             0.1111111111111111,
             "#46039f"
            ],
            [
             0.2222222222222222,
             "#7201a8"
            ],
            [
             0.3333333333333333,
             "#9c179e"
            ],
            [
             0.4444444444444444,
             "#bd3786"
            ],
            [
             0.5555555555555556,
             "#d8576b"
            ],
            [
             0.6666666666666666,
             "#ed7953"
            ],
            [
             0.7777777777777778,
             "#fb9f3a"
            ],
            [
             0.8888888888888888,
             "#fdca26"
            ],
            [
             1,
             "#f0f921"
            ]
           ]
          },
          "colorway": [
           "#636efa",
           "#EF553B",
           "#00cc96",
           "#ab63fa",
           "#FFA15A",
           "#19d3f3",
           "#FF6692",
           "#B6E880",
           "#FF97FF",
           "#FECB52"
          ],
          "font": {
           "color": "#f2f5fa"
          },
          "geo": {
           "bgcolor": "rgb(17,17,17)",
           "lakecolor": "rgb(17,17,17)",
           "landcolor": "rgb(17,17,17)",
           "showlakes": true,
           "showland": true,
           "subunitcolor": "#506784"
          },
          "hoverlabel": {
           "align": "left"
          },
          "hovermode": "closest",
          "mapbox": {
           "style": "dark"
          },
          "paper_bgcolor": "rgb(17,17,17)",
          "plot_bgcolor": "rgb(17,17,17)",
          "polar": {
           "angularaxis": {
            "gridcolor": "#506784",
            "linecolor": "#506784",
            "ticks": ""
           },
           "bgcolor": "rgb(17,17,17)",
           "radialaxis": {
            "gridcolor": "#506784",
            "linecolor": "#506784",
            "ticks": ""
           }
          },
          "scene": {
           "xaxis": {
            "backgroundcolor": "rgb(17,17,17)",
            "gridcolor": "#506784",
            "gridwidth": 2,
            "linecolor": "#506784",
            "showbackground": true,
            "ticks": "",
            "zerolinecolor": "#C8D4E3"
           },
           "yaxis": {
            "backgroundcolor": "rgb(17,17,17)",
            "gridcolor": "#506784",
            "gridwidth": 2,
            "linecolor": "#506784",
            "showbackground": true,
            "ticks": "",
            "zerolinecolor": "#C8D4E3"
           },
           "zaxis": {
            "backgroundcolor": "rgb(17,17,17)",
            "gridcolor": "#506784",
            "gridwidth": 2,
            "linecolor": "#506784",
            "showbackground": true,
            "ticks": "",
            "zerolinecolor": "#C8D4E3"
           }
          },
          "shapedefaults": {
           "line": {
            "color": "#f2f5fa"
           }
          },
          "sliderdefaults": {
           "bgcolor": "#C8D4E3",
           "bordercolor": "rgb(17,17,17)",
           "borderwidth": 1,
           "tickwidth": 0
          },
          "ternary": {
           "aaxis": {
            "gridcolor": "#506784",
            "linecolor": "#506784",
            "ticks": ""
           },
           "baxis": {
            "gridcolor": "#506784",
            "linecolor": "#506784",
            "ticks": ""
           },
           "bgcolor": "rgb(17,17,17)",
           "caxis": {
            "gridcolor": "#506784",
            "linecolor": "#506784",
            "ticks": ""
           }
          },
          "title": {
           "x": 0.05
          },
          "updatemenudefaults": {
           "bgcolor": "#506784",
           "borderwidth": 0
          },
          "xaxis": {
           "automargin": true,
           "gridcolor": "#283442",
           "linecolor": "#506784",
           "ticks": "",
           "title": {
            "standoff": 15
           },
           "zerolinecolor": "#283442",
           "zerolinewidth": 2
          },
          "yaxis": {
           "automargin": true,
           "gridcolor": "#283442",
           "linecolor": "#506784",
           "ticks": "",
           "title": {
            "standoff": 15
           },
           "zerolinecolor": "#283442",
           "zerolinewidth": 2
          }
         }
        },
        "title": {
         "text": "Deffensive - Marcus Smart",
         "x": 0.5
        }
       }
      }
     },
     "metadata": {},
     "output_type": "display_data"
    }
   ],
   "source": [
    "fig_def = px.line_polar(data_frame=aux2,\n",
    "             r=player,\n",
    "             theta=aux2.index,\n",
    "             color_discrete_sequence=px.colors.sequential.Plasma_r, \n",
    "             template=\"plotly_dark\",\n",
    "             title=f\"Deffensive - {player}\",\n",
    "             line_close=True,\n",
    "             markers=False,\n",
    "             range_r=[0, 1])\n",
    "fig_def.update_layout(title_text=f\"Deffensive - {player}\", title_x=0.5)"
   ]
  },
  {
   "cell_type": "code",
   "execution_count": null,
   "metadata": {},
   "outputs": [],
   "source": []
  },
  {
   "attachments": {},
   "cell_type": "markdown",
   "metadata": {},
   "source": [
    "---"
   ]
  },
  {
   "attachments": {},
   "cell_type": "markdown",
   "metadata": {},
   "source": [
    "### Outra abordagem"
   ]
  },
  {
   "cell_type": "code",
   "execution_count": 581,
   "metadata": {},
   "outputs": [],
   "source": [
    "# import plotly.graph_objects as go\n",
    "\n",
    "# categories = ['processing cost','mechanical properties','chemical stability',\n",
    "#               'thermal stability', 'device integration']\n",
    "\n",
    "# fig = go.Figure()\n",
    "\n",
    "# fig.add_trace(go.Scatterpolar(\n",
    "#       r=[1, 5, 2, 2, 3],\n",
    "#       theta=categories,\n",
    "#       fill='toself',\n",
    "#       name='Product A'\n",
    "# ))\n",
    "# fig.add_trace(go.Scatterpolar(\n",
    "#       r=[4, 3, 2.5, 1, 2],\n",
    "#       theta=categories,\n",
    "#       fill='toself',\n",
    "#       name='Product B'\n",
    "# ))\n",
    "\n",
    "# fig.update_layout(\n",
    "#   polar=dict(\n",
    "#     radialaxis=dict(\n",
    "#       visible=True,\n",
    "#       range=[0, 5]\n",
    "#     )),\n",
    "#   showlegend=False\n",
    "# )\n",
    "\n",
    "# fig.show()"
   ]
  },
  {
   "cell_type": "code",
   "execution_count": null,
   "metadata": {},
   "outputs": [],
   "source": []
  },
  {
   "cell_type": "code",
   "execution_count": null,
   "metadata": {},
   "outputs": [],
   "source": []
  },
  {
   "attachments": {},
   "cell_type": "markdown",
   "metadata": {},
   "source": [
    "# 7. <a id='toc7_'></a>[Data Preparation](#toc0_)\n",
    "- Normalize, re-scale and transform (enconding) variables to suit model requirements\n",
    "- It may be a good idea to normalize all of the features so they are comparable in magnitude"
   ]
  },
  {
   "cell_type": "code",
   "execution_count": null,
   "metadata": {},
   "outputs": [],
   "source": []
  },
  {
   "cell_type": "code",
   "execution_count": null,
   "metadata": {},
   "outputs": [],
   "source": []
  },
  {
   "cell_type": "markdown",
   "metadata": {},
   "source": [
    "# 8. <a id='toc8_'></a>[Feature Selection through Boruta algorithm](#toc0_)\n",
    "- Use Boruta algorithm to select best features to machine learning models"
   ]
  },
  {
   "cell_type": "code",
   "execution_count": null,
   "metadata": {},
   "outputs": [],
   "source": []
  },
  {
   "cell_type": "code",
   "execution_count": null,
   "metadata": {},
   "outputs": [],
   "source": []
  },
  {
   "cell_type": "code",
   "execution_count": null,
   "metadata": {},
   "outputs": [],
   "source": []
  },
  {
   "cell_type": "code",
   "execution_count": null,
   "metadata": {},
   "outputs": [],
   "source": []
  },
  {
   "cell_type": "markdown",
   "metadata": {},
   "source": [
    "# 9. <a id='toc9_'></a>[Model implementation](#toc0_)\n",
    "- Implement different machine learning models and algorithms\n",
    "- Conduct cross-velidation computing\n",
    "- Conduct single performance metrics computing"
   ]
  },
  {
   "cell_type": "code",
   "execution_count": null,
   "metadata": {},
   "outputs": [],
   "source": []
  },
  {
   "cell_type": "code",
   "execution_count": null,
   "metadata": {},
   "outputs": [],
   "source": []
  },
  {
   "cell_type": "code",
   "execution_count": null,
   "metadata": {},
   "outputs": [],
   "source": []
  },
  {
   "cell_type": "code",
   "execution_count": null,
   "metadata": {},
   "outputs": [],
   "source": []
  },
  {
   "cell_type": "code",
   "execution_count": null,
   "metadata": {},
   "outputs": [],
   "source": []
  },
  {
   "cell_type": "markdown",
   "metadata": {},
   "source": [
    "# 10. <a id='toc10_'></a>[Hyperparameter Fine-Tuning](#toc0_)\n",
    "- Implement hyperparameter search (Bayes Search) to find best model hyperparameter values\n",
    "- Re-train model using best values"
   ]
  },
  {
   "cell_type": "code",
   "execution_count": null,
   "metadata": {},
   "outputs": [],
   "source": []
  },
  {
   "cell_type": "code",
   "execution_count": null,
   "metadata": {},
   "outputs": [],
   "source": []
  },
  {
   "cell_type": "code",
   "execution_count": null,
   "metadata": {},
   "outputs": [],
   "source": []
  },
  {
   "cell_type": "code",
   "execution_count": null,
   "metadata": {},
   "outputs": [],
   "source": []
  },
  {
   "cell_type": "code",
   "execution_count": null,
   "metadata": {},
   "outputs": [],
   "source": []
  },
  {
   "cell_type": "markdown",
   "metadata": {},
   "source": [
    "# 11. <a id='toc11_'></a>[Model Error Estimation and Interpretation](#toc0_)\n",
    "- Use model errors to interpret the goals "
   ]
  },
  {
   "cell_type": "code",
   "execution_count": null,
   "metadata": {},
   "outputs": [],
   "source": []
  },
  {
   "cell_type": "code",
   "execution_count": null,
   "metadata": {},
   "outputs": [],
   "source": []
  },
  {
   "cell_type": "code",
   "execution_count": null,
   "metadata": {},
   "outputs": [],
   "source": []
  },
  {
   "cell_type": "markdown",
   "metadata": {},
   "source": [
    "# 12. <a id='toc12_'></a>[Model Deployment](#toc0_)\n",
    "- Deploy the model to a cloud service so it can be used by its consumers"
   ]
  },
  {
   "cell_type": "code",
   "execution_count": null,
   "metadata": {},
   "outputs": [],
   "source": []
  },
  {
   "cell_type": "code",
   "execution_count": null,
   "metadata": {},
   "outputs": [],
   "source": []
  },
  {
   "cell_type": "code",
   "execution_count": null,
   "metadata": {},
   "outputs": [],
   "source": []
  },
  {
   "cell_type": "code",
   "execution_count": null,
   "metadata": {},
   "outputs": [],
   "source": []
  }
 ],
 "metadata": {
  "kernelspec": {
   "display_name": "NBA",
   "language": "python",
   "name": "python3"
  },
  "language_info": {
   "codemirror_mode": {
    "name": "ipython",
    "version": 3
   },
   "file_extension": ".py",
   "mimetype": "text/x-python",
   "name": "python",
   "nbconvert_exporter": "python",
   "pygments_lexer": "ipython3",
   "version": "3.11.2"
  },
  "orig_nbformat": 4
 },
 "nbformat": 4,
 "nbformat_minor": 2
}
