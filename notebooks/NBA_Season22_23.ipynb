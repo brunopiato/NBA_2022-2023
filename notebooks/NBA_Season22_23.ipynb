{
 "cells": [
  {
   "cell_type": "markdown",
   "metadata": {},
   "source": [
    "# 1. <a id='toc1_'></a>[NBA Season 2022-2023 Analysis](#toc0_)"
   ]
  },
  {
   "cell_type": "markdown",
   "metadata": {},
   "source": [
    "**Table of contents**<a id='toc0_'></a>    \n",
    "- 1. [NBA Season 2022-2023 Analysis](#toc1_)    \n",
    "- 2. [Importings](#toc2_)    \n",
    "  - 2.1. [Libraries](#toc2_1_)    \n",
    "  - 2.2. [Helper Function](#toc2_2_)    \n",
    "  - 2.3. [Data loading](#toc2_3_)    \n",
    "- 3. [Data exploration and problem comprehension](#toc3_)    \n",
    "  - 3.1. [Examining the **Advanced Dataset**](#toc3_1_)    \n",
    "    - 3.1.1. [Features from Advanced Dataset](#toc3_1_1_)    \n",
    "    - 3.1.2. [What are we dealing with?](#toc3_1_2_)    \n",
    "    - 3.1.3. [Renaming and droping empty columns](#toc3_1_3_)    \n",
    "    - 3.1.4. [Checking for NAs](#toc3_1_4_)    \n",
    "    - 3.1.5. [Do these players have multiple lines due to team exchanges?](#toc3_1_5_)    \n",
    "    - 3.1.6. [Let's combine the rows with same players](#toc3_1_6_)    \n",
    "      - 3.1.6.1. [Checking if the concatenation went right](#toc3_1_6_1_)    \n",
    "    - 3.1.7. [First glance at the Advanced Dataset](#toc3_1_7_)    \n",
    "    - 3.1.8. [Imputing values to the missing data](#toc3_1_8_)    \n",
    "    - 3.1.9. [Fixing the % features (they are multiplied by 100, not proportions of 1)](#toc3_1_9_)    \n",
    "  - 3.2. [Examining **Per Game Dataset**](#toc3_2_)    \n",
    "    - 3.2.1. [Features from Per Game Dataset](#toc3_2_1_)    \n",
    "    - 3.2.2. [What are we dealing with?](#toc3_2_2_)    \n",
    "    - 3.2.3. [Renaming the columns](#toc3_2_3_)    \n",
    "    - 3.2.4. [Checking for NAs](#toc3_2_4_)    \n",
    "    - 3.2.5. [Let's combine multiple player rows in one](#toc3_2_5_)    \n",
    "      - 3.2.5.1. [Checking if the concatanation went as expected](#toc3_2_5_1_)    \n",
    "      - 3.2.5.2. [Checking again for NAs](#toc3_2_5_2_)    \n",
    "    - 3.2.6. [Filling out NAs](#toc3_2_6_)    \n",
    "    - 3.2.7. [First glance at the Per Game Dataset](#toc3_2_7_)    \n",
    "- 4. [Feature Engineering and Hypothesis Creation](#toc4_)    \n",
    "  - 4.1. [Merging the two datasets and getting new columns](#toc4_1_)    \n",
    "    - 4.1.1. [Creating some new features](#toc4_1_1_)    \n",
    "      - 4.1.1.1. [GM = Games Missed](#toc4_1_1_1_)    \n",
    "    - 4.1.2. [Reordering the columns](#toc4_1_2_)    \n",
    "    - 4.1.3. [Changing rows with weird player's positions](#toc4_1_3_)    \n",
    "  - 4.2. [Exporting the merged dataset as a csv file](#toc4_2_)    \n",
    "- 5. [Data selection and filtering](#toc5_)    \n",
    "  - 5.1. [Importing merged dataset from csv file and selecting features](#toc5_1_)    \n",
    "  - 5.2. [Transforming the dataset](#toc5_2_)    \n",
    "  - 5.3. [Exporting transformed dataframe](#toc5_3_)    \n",
    "- 6. [Exploratory Data Analysis](#toc6_)    \n",
    "  - 6.1. [Importing merged dataset from csv file](#toc6_1_)    \n",
    "  - 6.2. [First charts](#toc6_2_)    \n",
    "    - 6.2.1. [How are distributed the Points Per Game according to the Positions assigned to each Player?](#toc6_2_1_)    \n",
    "    - 6.2.2. [How are distributed the 3 Points Percentage Per Game according to the Positions assigned to each Player?](#toc6_2_2_)    \n",
    "    - 6.2.3. [How are distributed the Field Goals Per Game according to the Positions assigned to each Player?](#toc6_2_3_)    \n",
    "    - 6.2.4. [How are distributed the Personal Fouls Per Game according to the Positions assigned to each Player?](#toc6_2_4_)    \n",
    "    - 6.2.5. [How are distributed the Turn-Overs Per Game according to the Positions assigned to each Player?](#toc6_2_5_)    \n",
    "    - 6.2.6. [How are distributed the Blocks Per Game according to the Position assigned to each PLayers?](#toc6_2_6_)    \n",
    "  - 6.3. [Testing some radar charts](#toc6_3_)    \n",
    "    - 6.3.1. [Pre-processing Data to Chart](#toc6_3_1_)    \n",
    "    - 6.3.2. [Full Chart](#toc6_3_2_)    \n",
    "    - 6.3.3. [Offensive Chart](#toc6_3_3_)    \n",
    "    - 6.3.4. [Defensive Chart](#toc6_3_4_)    \n",
    "    - 6.3.5. [A different approach](#toc6_3_5_)    \n",
    "    - 6.3.6. [Offensive comparison chart- Describing features: Player, Player_additional, Pos, Age, TM,](#toc6_3_6_)    \n",
    "    - 6.3.7. [Defensive comparison chart- Describing features: Player, Player_additional, Pos, Age, TM,](#toc6_3_7_)    \n",
    "    - 6.3.8. [Descriptive comparison chart- Describing features: Player, Player_additional, Pos, Age, TM,](#toc6_3_8_)    \n",
    "- 7. [Data Preparation](#toc7_)    \n",
    "- 8. [Feature Selection through Boruta algorithm](#toc8_)    \n",
    "- 9. [Model implementation](#toc9_)    \n",
    "- 10. [Hyperparameter Fine-Tuning](#toc10_)    \n",
    "- 11. [Model Error Estimation and Interpretation](#toc11_)    \n",
    "- 12. [Model Deployment](#toc12_)    \n",
    "\n",
    "<!-- vscode-jupyter-toc-config\n",
    "\tnumbering=true\n",
    "\tanchor=true\n",
    "\tflat=false\n",
    "\tminLevel=1\n",
    "\tmaxLevel=6\n",
    "\t/vscode-jupyter-toc-config -->\n",
    "<!-- THIS CELL WILL BE REPLACED ON TOC UPDATE. DO NOT WRITE YOUR TEXT IN THIS CELL -->"
   ]
  },
  {
   "cell_type": "markdown",
   "metadata": {},
   "source": [
    "# 2. <a id='toc2_'></a>[Importings](#toc0_)"
   ]
  },
  {
   "cell_type": "markdown",
   "metadata": {},
   "source": [
    "## 2.1. <a id='toc2_1_'></a>[Libraries](#toc0_)"
   ]
  },
  {
   "cell_type": "code",
   "execution_count": 1,
   "metadata": {},
   "outputs": [],
   "source": [
    "import pandas as pd\n",
    "import numpy as np\n",
    "import seaborn as sns\n",
    "import matplotlib.pyplot as plt\n",
    "import warnings\n",
    "import pickle\n",
    "import plotly.express as px\n",
    "import plotly.graph_objects as go\n",
    "\n",
    "from ydata_profiling        import ProfileReport\n",
    "from sklearn.impute         import SimpleImputer\n",
    "from IPython.display        import Image\n",
    "from IPython.core.display   import HTML\n"
   ]
  },
  {
   "cell_type": "markdown",
   "metadata": {},
   "source": [
    "## 2.2. <a id='toc2_2_'></a>[Helper Function](#toc0_)"
   ]
  },
  {
   "cell_type": "code",
   "execution_count": 2,
   "metadata": {},
   "outputs": [
    {
     "data": {
      "text/html": [
       "<style>.container { width:100% !important; }</style>"
      ],
      "text/plain": [
       "<IPython.core.display.HTML object>"
      ]
     },
     "metadata": {},
     "output_type": "display_data"
    }
   ],
   "source": [
    "def jupyter_configs():\n",
    "    plt.style.use( 'bmh' )\n",
    "    plt.rcParams['figure.figsize'] = [15, 8]\n",
    "    plt.rcParams['font.size'] = 24\n",
    "    \n",
    "    display( HTML( '<style>.container { width:100% !important; }</style>') )\n",
    "    pd.options.display.max_columns = None\n",
    "    pd.options.display.max_rows = None\n",
    "    pd.set_option( 'display.expand_frame_repr', False )\n",
    "    pd.set_option('display.max_columns', None)\n",
    "    \n",
    "    sns.set()\n",
    "    \n",
    "    warnings.filterwarnings( 'ignore' )\n",
    "    \n",
    "jupyter_configs()"
   ]
  },
  {
   "cell_type": "markdown",
   "metadata": {},
   "source": [
    "## 2.3. <a id='toc2_3_'></a>[Data loading](#toc0_)"
   ]
  },
  {
   "cell_type": "code",
   "execution_count": null,
   "metadata": {},
   "outputs": [],
   "source": [
    "advanced_df_raw = pd.read_csv('~/repos/NBA_2022-2023/data/data_advanced.csv')\n",
    "pergame_df_raw = pd.read_csv('~/repos/NBA_2022-2023/data/data_pergame.csv')"
   ]
  },
  {
   "cell_type": "markdown",
   "metadata": {},
   "source": [
    "# 3. <a id='toc3_'></a>[Data exploration and problem comprehension](#toc0_)\n",
    "- Main goal/problem\n",
    "- Sub-goals\n",
    "- What will the finished product be?"
   ]
  },
  {
   "cell_type": "markdown",
   "metadata": {},
   "source": [
    "## 3.1. <a id='toc3_1_'></a>[Examining the **Advanced Dataset**](#toc0_)"
   ]
  },
  {
   "cell_type": "markdown",
   "metadata": {},
   "source": [
    "### 3.1.1. <a id='toc3_1_1_'></a>[Features from Advanced Dataset](#toc0_)"
   ]
  },
  {
   "cell_type": "markdown",
   "metadata": {},
   "source": [
    "\n",
    "- Rk -- Rank\n",
    "\n",
    "- Pos -- Position\n",
    "\n",
    "- Age -- Player's age on February 1 of the season\n",
    "\n",
    "- Tm -- Team\n",
    "\n",
    "- G -- Games\n",
    "\n",
    "- MP -- Minutes Played\n",
    "\n",
    "- PER -- Player Efficiency Rating. A measure of per-minute production standardized such that the league average is 15.\n",
    "\n",
    "- TS% -- True Shooting Percentage. A measure of shooting efficiency that takes into account 2-point field goals, 3-point field goals, and free throws.\n",
    "\n",
    "- 3PAr -- 3-Point Attempt Rate. Percentage of FG Attempts from 3-Point Range\n",
    "\n",
    "- FTr -- Free Throw Attempt Rate. Number of FT Attempts Per FG Attempt\n",
    "\n",
    "- ORB% -- Offensive Rebound Percentage. An estimate of the percentage of available offensive rebounds a player grabbed while they were on the floor.\n",
    "\n",
    "- DRB% -- Defensive Rebound Percentage. An estimate of the percentage of available defensive rebounds a player grabbed while they were on the floor.\n",
    "\n",
    "- TRB% -- Total Rebound Percentage. An estimate of the percentage of available rebounds a player grabbed while they were on the floor.\n",
    "\n",
    "- AST% -- Assist Percentage. An estimate of the percentage of teammate field goals a player assisted while they were on the floor.\n",
    "\n",
    "- STL% -- Steal Percentage. An estimate of the percentage of opponent possessions that end with a steal by the player while they were on the floor.\n",
    "\n",
    "- BLK% -- Block Percentage. An estimate of the percentage of opponent two-point field goal attempts blocked by the player while they were on the floor.\n",
    "\n",
    "- TOV% -- Turnover Percentage. An estimate of turnovers committed per 100 plays.\n",
    "\n",
    "- USG% -- Usage Percentage. An estimate of the percentage of team plays used by a player while they were on the floor.\n",
    "\n",
    "- OWS -- Offensive Win Shares. An estimate of the number of wins contributed by a player due to offense.\n",
    "\n",
    "- DWS -- Defensive Win Shares. An estimate of the number of wins contributed by a player due to defense.\n",
    "\n",
    "- WS -- Win Shares. An estimate of the number of wins contributed by a player.\n",
    "\n",
    "- WS/48 -- Win Shares Per 48 Minutes. An estimate of the number of wins contributed by a player per 48 minutes (league average is approximately .100)\n",
    "\n",
    "- OBPM -- Offensive Box Plus/Minus. A box score estimate of the offensive points per 100 possessions a player contributed above a league-average player, translated to an average team.\n",
    "\n",
    "- DBPM -- Defensive Box Plus/Minus. A box score estimate of the defensive points per 100 possessions a player contributed above a league-average player, translated to an average team.\n",
    "\n",
    "- BPM -- Box Plus/Minus. A box score estimate of the points per 100 possessions a player contributed above a league-average player, translated to an average team.\n",
    "\n",
    "- VORP -- Value over Replacement Player. A box score estimate of the points per 100 TEAM possessions that a player contributed above a replacement-level (-2.0) player, translated to an average team and prorated to an 82-game season. Multiply by 2.70 to convert to wins over replacement."
   ]
  },
  {
   "cell_type": "markdown",
   "metadata": {},
   "source": [
    "### 3.1.2. <a id='toc3_1_2_'></a>[What are we dealing with?](#toc0_)"
   ]
  },
  {
   "cell_type": "code",
   "execution_count": null,
   "metadata": {},
   "outputs": [],
   "source": [
    "advanced_df_raw.head()"
   ]
  },
  {
   "cell_type": "code",
   "execution_count": null,
   "metadata": {},
   "outputs": [],
   "source": [
    "advanced_df_raw.shape"
   ]
  },
  {
   "cell_type": "markdown",
   "metadata": {},
   "source": [
    "### 3.1.3. <a id='toc3_1_3_'></a>[Renaming and droping empty columns](#toc0_)"
   ]
  },
  {
   "cell_type": "code",
   "execution_count": null,
   "metadata": {},
   "outputs": [],
   "source": [
    "droped_columns = ['Unnamed: 19', 'Unnamed: 24']\n",
    "advanced_df_raw = advanced_df_raw.drop(droped_columns, axis = 1)"
   ]
  },
  {
   "cell_type": "code",
   "execution_count": null,
   "metadata": {},
   "outputs": [],
   "source": [
    "advanced_df_raw.columns"
   ]
  },
  {
   "cell_type": "code",
   "execution_count": null,
   "metadata": {},
   "outputs": [],
   "source": [
    "advanced_cols = ['Rk', 'Player', 'Pos', 'Age', 'Tm', 'G', 'MP_Total', 'PER', 'TS%', '3PAr',\n",
    "       'FTr', 'ORB%', 'DRB%', 'TRB%', 'AST%', 'STL%', 'BLK%', 'TOV%', 'USG%',\n",
    "       'OWS', 'DWS', 'WS', 'WS_48', 'OBPM', 'DBPM', 'BPM', 'VORP',\n",
    "       'Player_additional']\n",
    "\n",
    "advanced_df_raw.columns = advanced_cols"
   ]
  },
  {
   "cell_type": "code",
   "execution_count": null,
   "metadata": {},
   "outputs": [],
   "source": [
    "advanced_df_raw.shape"
   ]
  },
  {
   "cell_type": "code",
   "execution_count": null,
   "metadata": {},
   "outputs": [],
   "source": [
    "# There are 679 rows in the dataset. However only 539 singular players. It happens because some players changed teams during the season and appear in multiple lines.\n",
    "# It may be a good solution to join these lines and stick only with the latest team in wich the player acts.\n",
    "\n",
    "print( advanced_df_raw['Player_additional'].nunique(), 'out of', advanced_df_raw.shape[0])"
   ]
  },
  {
   "cell_type": "markdown",
   "metadata": {},
   "source": [
    "### 3.1.4. <a id='toc3_1_4_'></a>[Checking for NAs](#toc0_)\n",
    "- Only three NAs in columns 'TS%', '3PAr' and 'FTr', and one at the column 'TOV%'. The same three rows have NAs to the first three features and Michael Foster Jr. has missing values to 'TOV%'. \n",
    "- Let's inspect it so we can figure out why they are empty and what to do with it.\n",
    "- Columns 'Unnamed: 19' and 'Unnamed: 24' are completely empty and should be deleted."
   ]
  },
  {
   "cell_type": "code",
   "execution_count": null,
   "metadata": {},
   "outputs": [],
   "source": [
    "advanced_df_raw.isna().sum()"
   ]
  },
  {
   "cell_type": "code",
   "execution_count": null,
   "metadata": {},
   "outputs": [],
   "source": [
    "advanced_df_raw[advanced_df_raw['TOV%'].isna()]"
   ]
  },
  {
   "cell_type": "code",
   "execution_count": null,
   "metadata": {},
   "outputs": [],
   "source": [
    "advanced_df_raw[advanced_df_raw['TS%'].isna()]"
   ]
  },
  {
   "cell_type": "code",
   "execution_count": null,
   "metadata": {},
   "outputs": [],
   "source": [
    "advanced_df_raw[advanced_df_raw['3PAr'].isna()]"
   ]
  },
  {
   "cell_type": "code",
   "execution_count": null,
   "metadata": {},
   "outputs": [],
   "source": [
    "advanced_df_raw[advanced_df_raw['FTr'].isna()]"
   ]
  },
  {
   "cell_type": "markdown",
   "metadata": {},
   "source": [
    "### 3.1.5. <a id='toc3_1_5_'></a>[Do these players have multiple lines due to team exchanges?](#toc0_)\n",
    "- Moses Brown do appear in three different rows once he was traded two times during this season so it may be a good alternative to join the rows\n",
    "- Michael Foster Jr. and Alondes Williams don't appear. So the missing data may be due to impossobilities to calculate it. It may be a good solution to use 0,0 as values or to attempt to estimate it from the Per Game Dataset."
   ]
  },
  {
   "cell_type": "code",
   "execution_count": null,
   "metadata": {},
   "outputs": [],
   "source": [
    "advanced_df_raw[advanced_df_raw['Player_additional'] == 'brownmo01']"
   ]
  },
  {
   "cell_type": "code",
   "execution_count": null,
   "metadata": {},
   "outputs": [],
   "source": [
    "advanced_df_raw[advanced_df_raw['Player_additional'] == 'fostemi02']"
   ]
  },
  {
   "cell_type": "code",
   "execution_count": null,
   "metadata": {},
   "outputs": [],
   "source": [
    "advanced_df_raw[advanced_df_raw['Player_additional'] == 'willial06']"
   ]
  },
  {
   "cell_type": "markdown",
   "metadata": {},
   "source": [
    "### 3.1.6. <a id='toc3_1_6_'></a>[Let's combine the rows with same players](#toc0_)"
   ]
  },
  {
   "cell_type": "code",
   "execution_count": null,
   "metadata": {},
   "outputs": [],
   "source": [
    "advanced_df = advanced_df_raw.groupby(\"Player_additional\", as_index=False).agg(\n",
    "                      {\n",
    "                          'Rk':'first', 'Player':'first', \n",
    "                          'Pos':'first', 'Age':'first', \n",
    "                          'Tm':'first', 'G':'first', \n",
    "                          'MP_Total':'mean', 'PER':'mean', \n",
    "                          'TS%':'mean', '3PAr':'mean',\n",
    "                          'FTr':'mean', 'ORB%':'mean', \n",
    "                          'DRB%':'mean', 'TRB%':'mean', \n",
    "                          'AST%':'mean', 'STL%':'mean', \n",
    "                          'BLK%':'mean', 'TOV%':'mean', \n",
    "                          'USG%':'mean', 'OWS':'mean', \n",
    "                          'DWS':'mean', 'WS':'mean', \n",
    "                          'WS_48':'mean', 'OBPM':'mean', \n",
    "                          'DBPM':'mean', 'BPM':'mean', \n",
    "                          'VORP':'mean', 'Player_additional':'first'\n",
    "                      }\n",
    "                      )"
   ]
  },
  {
   "cell_type": "markdown",
   "metadata": {},
   "source": [
    "#### 3.1.6.1. <a id='toc3_1_6_1_'></a>[Checking if the concatenation went right](#toc0_)"
   ]
  },
  {
   "cell_type": "code",
   "execution_count": null,
   "metadata": {},
   "outputs": [],
   "source": [
    "advanced_df.shape[0]"
   ]
  },
  {
   "cell_type": "code",
   "execution_count": null,
   "metadata": {},
   "outputs": [],
   "source": [
    "advanced_df['Player_additional'].nunique()"
   ]
  },
  {
   "cell_type": "code",
   "execution_count": null,
   "metadata": {},
   "outputs": [],
   "source": [
    "# Como era:\n",
    "\n",
    "advanced_df_raw[advanced_df_raw['Player_additional'] == 'brownmo01']"
   ]
  },
  {
   "cell_type": "code",
   "execution_count": null,
   "metadata": {},
   "outputs": [],
   "source": [
    "# Como ficou:\n",
    "\n",
    "advanced_df[advanced_df['Player_additional'] == 'brownmo01']"
   ]
  },
  {
   "cell_type": "markdown",
   "metadata": {},
   "source": [
    "### 3.1.7. <a id='toc3_1_7_'></a>[First glance at the Advanced Dataset](#toc0_)"
   ]
  },
  {
   "cell_type": "code",
   "execution_count": null,
   "metadata": {},
   "outputs": [],
   "source": [
    "# The data types are all set correctly\n",
    "\n",
    "advanced_df.dtypes"
   ]
  },
  {
   "cell_type": "code",
   "execution_count": null,
   "metadata": {},
   "outputs": [],
   "source": [
    "advanced_df.describe().T"
   ]
  },
  {
   "cell_type": "code",
   "execution_count": null,
   "metadata": {},
   "outputs": [],
   "source": [
    "advanced_df.info()"
   ]
  },
  {
   "cell_type": "code",
   "execution_count": null,
   "metadata": {},
   "outputs": [],
   "source": [
    "# Generate a dataset profile report\n",
    "\n",
    "# advanced_profile = ProfileReport(advanced_df, title = 'Advanced NBA Dataset Profile')\n",
    "# advanced_profile.to_file('advanced_profile.html')\n",
    "# advanced_profile"
   ]
  },
  {
   "cell_type": "markdown",
   "metadata": {},
   "source": [
    "### 3.1.8. <a id='toc3_1_8_'></a>[Imputing values to the missing data](#toc0_)\n",
    "- We still have two players with missing values:\n",
    "  - Michael Foster Jr.: 'TS%', '3PAr', 'FTr' and 'TOV%'\n",
    "  - Alondes Williams: 'TS%', '3PAr' and 'FTr'\n",
    "- Both of them are note playing in NBA league currently\n",
    "- For that reason we will imput zeros to the NAs"
   ]
  },
  {
   "cell_type": "code",
   "execution_count": null,
   "metadata": {},
   "outputs": [],
   "source": [
    "advanced_df[(advanced_df['Player_additional']=='fostemi02') | (advanced_df['Player_additional']=='willial06')]"
   ]
  },
  {
   "cell_type": "code",
   "execution_count": null,
   "metadata": {},
   "outputs": [],
   "source": [
    "advanced_df = advanced_df.fillna(0)"
   ]
  },
  {
   "cell_type": "code",
   "execution_count": null,
   "metadata": {},
   "outputs": [],
   "source": [
    "# Checking if the imputation gone well\n",
    "\n",
    "advanced_df[(advanced_df['Player_additional']=='fostemi02') | (advanced_df['Player_additional']=='willial06')][['Player', 'TS%', '3PAr', 'FTr', 'TOV%']]"
   ]
  },
  {
   "cell_type": "markdown",
   "metadata": {},
   "source": [
    "### 3.1.9. <a id='toc3_1_9_'></a>[Fixing the % features (they are multiplied by 100, not proportions of 1)](#toc0_)"
   ]
  },
  {
   "cell_type": "code",
   "execution_count": null,
   "metadata": {},
   "outputs": [],
   "source": [
    "advanced_df[['USG%', 'TOV%', 'BLK%','STL%', 'AST%', 'TRB%', 'DRB%', 'ORB%']].head()"
   ]
  },
  {
   "cell_type": "code",
   "execution_count": null,
   "metadata": {},
   "outputs": [],
   "source": [
    "advanced_df[['USG%', 'TOV%', 'BLK%','STL%', 'AST%', 'TRB%', 'DRB%', 'ORB%']] = advanced_df[['USG%', 'TOV%', 'BLK%','STL%', 'AST%', 'TRB%', 'DRB%', 'ORB%']]/100"
   ]
  },
  {
   "cell_type": "markdown",
   "metadata": {},
   "source": [
    "## 3.2. <a id='toc3_2_'></a>[Examining **Per Game Dataset**](#toc0_)"
   ]
  },
  {
   "cell_type": "markdown",
   "metadata": {},
   "source": [
    "### 3.2.1. <a id='toc3_2_1_'></a>[Features from Per Game Dataset](#toc0_)"
   ]
  },
  {
   "cell_type": "markdown",
   "metadata": {},
   "source": [
    "\n",
    "- Rk -- Rank\n",
    "\n",
    "- Pos -- Position\n",
    "\n",
    "- Age -- Player's age on February 1 of the season\n",
    "\n",
    "- Tm -- Team\n",
    "\n",
    "- G -- Games\n",
    "\n",
    "- GS -- Games Started\n",
    "\n",
    "- MP -- Minutes Played Per Game\n",
    "\n",
    "- FG -- Field Goals Per Game\n",
    "\n",
    "- FGA -- Field Goal Attempts Per Game\n",
    "\n",
    "- FG% -- Field Goal Percentage\n",
    "\n",
    "- 3P -- 3-Point Field Goals Per Game\n",
    "\n",
    "- 3PA -- 3-Point Field Goal Attempts Per Game\n",
    "\n",
    "- 3P% -- 3-Point Field Goal Percentage\n",
    "\n",
    "- 2P -- 2-Point Field Goals Per Game\n",
    "\n",
    "- 2PA -- 2-Point Field Goal Attempts Per Game\n",
    "\n",
    "- 2P% -- 2-Point Field Goal Percentage\n",
    "\n",
    "- eFG% -- Effective Field Goal Percentage\n",
    "\n",
    "- This statistic adjusts for the fact that a 3-point field goal is worth one more point than a 2-point field goal.\n",
    "\n",
    "- FT -- Free Throws Per Game\n",
    "\n",
    "- FTA -- Free Throw Attempts Per Game\n",
    "\n",
    "- FT% -- Free Throw Percentage\n",
    "\n",
    "- ORB -- Offensive Rebounds Per Game\n",
    "\n",
    "- DRB -- Defensive Rebounds Per Game\n",
    "\n",
    "- TRB -- Total Rebounds Per Game\n",
    "\n",
    "- AST -- Assists Per Game\n",
    "\n",
    "- STL -- Steals Per Game\n",
    "\n",
    "- BLK -- Blocks Per Game\n",
    "\n",
    "- TOV -- Turnovers Per Game\n",
    "\n",
    "- PF -- Personal Fouls Per Game\n",
    "\n",
    "- PTS -- Points Per Game"
   ]
  },
  {
   "cell_type": "markdown",
   "metadata": {},
   "source": [
    "### 3.2.2. <a id='toc3_2_2_'></a>[What are we dealing with?](#toc0_)"
   ]
  },
  {
   "cell_type": "code",
   "execution_count": null,
   "metadata": {},
   "outputs": [],
   "source": [
    "pergame_df_raw.head()"
   ]
  },
  {
   "cell_type": "code",
   "execution_count": null,
   "metadata": {},
   "outputs": [],
   "source": [
    "pergame_df_raw.shape"
   ]
  },
  {
   "cell_type": "markdown",
   "metadata": {},
   "source": [
    "### 3.2.3. <a id='toc3_2_3_'></a>[Renaming the columns](#toc0_)"
   ]
  },
  {
   "cell_type": "code",
   "execution_count": null,
   "metadata": {},
   "outputs": [],
   "source": [
    "pergame_df_raw.columns"
   ]
  },
  {
   "cell_type": "code",
   "execution_count": null,
   "metadata": {},
   "outputs": [],
   "source": [
    "pergame_df_raw.columns = ['Rk', 'Player', 'Pos', 'Age', 'Tm', 'G', 'GS', 'MP', 'FG', 'FGA', 'FG%',\n",
    "       '3P', '3PA', '3P%', '2P', '2PA', '2P%', 'eFG%', 'FT', 'FTA', 'FT%',\n",
    "       'ORB', 'DRB', 'TRB', 'AST', 'STL', 'BLK', 'TOV', 'PF', 'PTS',\n",
    "       'Player_additional']"
   ]
  },
  {
   "cell_type": "markdown",
   "metadata": {},
   "source": [
    "### 3.2.4. <a id='toc3_2_4_'></a>[Checking for NAs](#toc0_)\n",
    "- In this dataset we have a little bit more NAs than in the previous one\n",
    "- There are NAs in five columns in total:\n",
    "  - FG%\n",
    "  - 3P%\n",
    "  - 2P% \n",
    "  - eFG%\n",
    "  - FT%\n",
    "- To the features 'FG%' and 'eFG%' the same thre player from the previous dataset have missing values and we can proceed as we did then"
   ]
  },
  {
   "cell_type": "code",
   "execution_count": null,
   "metadata": {},
   "outputs": [],
   "source": [
    "pergame_df_raw.isna().sum()"
   ]
  },
  {
   "cell_type": "code",
   "execution_count": null,
   "metadata": {},
   "outputs": [],
   "source": [
    "pergame_df_raw[pergame_df_raw['FG%'].isna()]"
   ]
  },
  {
   "cell_type": "code",
   "execution_count": null,
   "metadata": {},
   "outputs": [],
   "source": [
    "pergame_df_raw[pergame_df_raw['3P%'].isna()]"
   ]
  },
  {
   "cell_type": "code",
   "execution_count": null,
   "metadata": {},
   "outputs": [],
   "source": [
    "pergame_df_raw[pergame_df_raw['2P%'].isna()]"
   ]
  },
  {
   "cell_type": "code",
   "execution_count": null,
   "metadata": {},
   "outputs": [],
   "source": [
    "pergame_df_raw[pergame_df_raw['eFG%'].isna()]"
   ]
  },
  {
   "cell_type": "code",
   "execution_count": null,
   "metadata": {},
   "outputs": [],
   "source": [
    "pergame_df_raw[pergame_df_raw['FT%'].isna()]"
   ]
  },
  {
   "cell_type": "markdown",
   "metadata": {},
   "source": [
    "### 3.2.5. <a id='toc3_2_5_'></a>[Let's combine multiple player rows in one](#toc0_)"
   ]
  },
  {
   "cell_type": "code",
   "execution_count": null,
   "metadata": {},
   "outputs": [],
   "source": [
    "pergame_df = pergame_df_raw.groupby(\"Player_additional\", as_index=False).agg(\n",
    "                      {\n",
    "                          'Rk':'first', 'Player':'first', \n",
    "                          'Pos':'first', 'Age':'first', \n",
    "                          'Tm':'first', 'G':'first', \n",
    "                          'GS':'first', 'MP':'mean', \n",
    "                          'FG':'mean', 'FGA':'mean', \n",
    "                          'FG%':'mean', '3P':'mean', \n",
    "                          '3PA':'mean', '3P%':'mean', \n",
    "                          '2P':'mean', '2PA':'mean', \n",
    "                          '2P%':'mean', 'eFG%':'mean', \n",
    "                          'FT':'mean', 'FTA':'mean', \n",
    "                          'FT%':'mean', 'ORB':'mean', \n",
    "                          'DRB':'mean', 'TRB':'mean', \n",
    "                          'AST':'mean', 'STL':'mean', \n",
    "                          'BLK':'mean', 'TOV':'mean', \n",
    "                          'PF':'mean', 'PTS':'mean', \n",
    "                          'Player_additional':'first'\n",
    "                      }\n",
    "                      )"
   ]
  },
  {
   "cell_type": "markdown",
   "metadata": {},
   "source": [
    "#### 3.2.5.1. <a id='toc3_2_5_1_'></a>[Checking if the concatanation went as expected](#toc0_)"
   ]
  },
  {
   "cell_type": "code",
   "execution_count": null,
   "metadata": {},
   "outputs": [],
   "source": [
    "print(pergame_df.shape[0], 'out of', pergame_df_raw.shape[0])"
   ]
  },
  {
   "cell_type": "code",
   "execution_count": null,
   "metadata": {},
   "outputs": [],
   "source": [
    "pergame_df['Player_additional'].nunique()"
   ]
  },
  {
   "cell_type": "markdown",
   "metadata": {},
   "source": [
    "#### 3.2.5.2. <a id='toc3_2_5_2_'></a>[Checking again for NAs](#toc0_)\n",
    "- We still have some NAs. Letś examine them further and decide how to deal with them"
   ]
  },
  {
   "cell_type": "code",
   "execution_count": null,
   "metadata": {},
   "outputs": [],
   "source": [
    "pergame_df.isna().sum()"
   ]
  },
  {
   "cell_type": "markdown",
   "metadata": {},
   "source": [
    "### 3.2.6. <a id='toc3_2_6_'></a>[Filling out NAs](#toc0_)\n",
    "- The NAs still present in the dataset are due to a basic game statistic that has itself only null values (zeros)\n",
    "- Because of that we can input zeros to the NAs"
   ]
  },
  {
   "cell_type": "code",
   "execution_count": null,
   "metadata": {},
   "outputs": [],
   "source": [
    "pergame_df = pergame_df.fillna(0)"
   ]
  },
  {
   "cell_type": "code",
   "execution_count": null,
   "metadata": {},
   "outputs": [],
   "source": [
    "pergame_df.isna().sum()"
   ]
  },
  {
   "cell_type": "markdown",
   "metadata": {},
   "source": [
    "### 3.2.7. <a id='toc3_2_7_'></a>[First glance at the Per Game Dataset](#toc0_)"
   ]
  },
  {
   "cell_type": "code",
   "execution_count": null,
   "metadata": {},
   "outputs": [],
   "source": [
    "pergame_df.describe().T"
   ]
  },
  {
   "cell_type": "code",
   "execution_count": null,
   "metadata": {},
   "outputs": [],
   "source": [
    "pergame_df.info()"
   ]
  },
  {
   "cell_type": "code",
   "execution_count": null,
   "metadata": {},
   "outputs": [],
   "source": [
    "# Generate a dataset profile report\n",
    "\n",
    "# pergame_profile = ProfileReport(pergame_df, title = 'Per Game NBA Dataset Profile')\n",
    "# pergame_profile.to_file('pergame_profile.html')\n",
    "# pergame_profile"
   ]
  },
  {
   "cell_type": "markdown",
   "metadata": {},
   "source": [
    "# 4. <a id='toc4_'></a>[Feature Engineering and Hypothesis Creation](#toc0_)\n",
    "- Mental map for hypothesis and questions\n",
    "- Hypothesis and questions list\n",
    "- Fillout remaining NAs \n",
    "- Derive new variables as needed"
   ]
  },
  {
   "cell_type": "markdown",
   "metadata": {},
   "source": [
    "## 4.1. <a id='toc4_1_'></a>[Merging the two datasets and getting new columns](#toc0_)"
   ]
  },
  {
   "cell_type": "code",
   "execution_count": null,
   "metadata": {},
   "outputs": [],
   "source": [
    "df = pd.merge(advanced_df, pergame_df, how = 'left', on=['Player_additional', 'Player', 'Pos', 'Age', 'Tm', 'G', 'Rk'])\n",
    "print(df)\n",
    "print(df.shape)"
   ]
  },
  {
   "cell_type": "markdown",
   "metadata": {},
   "source": [
    "### 4.1.1. <a id='toc4_1_1_'></a>[Creating some new features](#toc0_)"
   ]
  },
  {
   "cell_type": "markdown",
   "metadata": {},
   "source": [
    "#### 4.1.1.1. <a id='toc4_1_1_1_'></a>[GM = Games Missed](#toc0_)"
   ]
  },
  {
   "cell_type": "code",
   "execution_count": null,
   "metadata": {},
   "outputs": [],
   "source": [
    "df['GM'] = 82 - df['G']"
   ]
  },
  {
   "cell_type": "markdown",
   "metadata": {},
   "source": []
  },
  {
   "cell_type": "code",
   "execution_count": null,
   "metadata": {},
   "outputs": [],
   "source": []
  },
  {
   "cell_type": "markdown",
   "metadata": {},
   "source": [
    "### 4.1.2. <a id='toc4_1_2_'></a>[Reordering the columns](#toc0_)"
   ]
  },
  {
   "cell_type": "code",
   "execution_count": null,
   "metadata": {},
   "outputs": [],
   "source": [
    "df = df[['Rk', 'Player', 'Pos', 'Age', 'Tm', \n",
    "         'G', 'GS', 'GM',\n",
    "         'MP_Total', 'MP', 'PER', \n",
    "         'USG%', 'OWS', 'DWS', 'WS', 'WS_48', \n",
    "         'OBPM', 'DBPM', 'BPM', 'VORP',\n",
    "         'TS%', 'PTS', \n",
    "         'FG', 'FGA', 'FG%', \n",
    "         '3P', '3PA', '3P%', '3PAr',\n",
    "         '2P', '2PA', '2P%', 'eFG%', \n",
    "         'FT', 'FTA', 'FT%', 'FTr',\n",
    "         'ORB', 'ORB%', \n",
    "         'DRB', 'DRB%', \n",
    "         'TRB', 'TRB%',\n",
    "         'AST', 'AST%',\n",
    "         'STL', 'STL%',\n",
    "         'BLK','BLK%',\n",
    "         'TOV', 'TOV%',\n",
    "         'PF', 'Player_additional']]\n",
    "df.head()"
   ]
  },
  {
   "cell_type": "markdown",
   "metadata": {},
   "source": [
    "### 4.1.3. <a id='toc4_1_3_'></a>[Changing rows with weird player's positions](#toc0_)"
   ]
  },
  {
   "cell_type": "code",
   "execution_count": null,
   "metadata": {},
   "outputs": [],
   "source": [
    "df[(df['Pos'] == 'SF-SG') | (df['Pos'] == 'SG-PG')]"
   ]
  },
  {
   "cell_type": "code",
   "execution_count": null,
   "metadata": {},
   "outputs": [],
   "source": [
    "df.iloc[199,2] = 'SF'\n",
    "df.iloc[365,2] = 'SG'"
   ]
  },
  {
   "cell_type": "code",
   "execution_count": null,
   "metadata": {},
   "outputs": [],
   "source": [
    "df[(df['Pos'] == 'SF-SG') | (df['Pos'] == 'SG-PG')]"
   ]
  },
  {
   "cell_type": "markdown",
   "metadata": {},
   "source": [
    "## 4.2. <a id='toc4_2_'></a>[Exporting the merged dataset as a csv file](#toc0_)"
   ]
  },
  {
   "cell_type": "code",
   "execution_count": null,
   "metadata": {},
   "outputs": [],
   "source": [
    "df.to_csv('~/repos/NBA_2022-2023/data/df.csv')"
   ]
  },
  {
   "cell_type": "markdown",
   "metadata": {},
   "source": [
    "# 5. <a id='toc5_'></a>[Data selection and filtering](#toc0_)\n",
    "- Filter data rows\n",
    "- Filter data columns\n",
    "- Based on the questions and hypothesis, select columns\n",
    "- Create a new filtered dataframe\n",
    "- Create the widgets to filter the data"
   ]
  },
  {
   "cell_type": "markdown",
   "metadata": {},
   "source": [
    "## 5.1. <a id='toc5_1_'></a>[Importing merged dataset from csv file and selecting features](#toc0_)\n",
    "- Describing features: Player, Player_additional, Pos, Age, TM, \n",
    "- Offensive metrics: OBPM, PTS, FT, 2P, 3P, TS%, AST,  OWS\n",
    "- Defensive metrics: DBPM, ORB, DRB, STL, BLK, DWS\n",
    "- Negative metrics: TOV, GM, PF\n",
    "- Positive metrics: BPM, G, MP, WS, VORP"
   ]
  },
  {
   "cell_type": "code",
   "execution_count": 7,
   "metadata": {},
   "outputs": [],
   "source": [
    "df05 = pd.read_csv('~/repos/NBA_2022-2023/data/df.csv', low_memory=False)"
   ]
  },
  {
   "cell_type": "code",
   "execution_count": 8,
   "metadata": {},
   "outputs": [
    {
     "data": {
      "text/html": [
       "<div>\n",
       "<style scoped>\n",
       "    .dataframe tbody tr th:only-of-type {\n",
       "        vertical-align: middle;\n",
       "    }\n",
       "\n",
       "    .dataframe tbody tr th {\n",
       "        vertical-align: top;\n",
       "    }\n",
       "\n",
       "    .dataframe thead th {\n",
       "        text-align: right;\n",
       "    }\n",
       "</style>\n",
       "<table border=\"1\" class=\"dataframe\">\n",
       "  <thead>\n",
       "    <tr style=\"text-align: right;\">\n",
       "      <th></th>\n",
       "      <th>Unnamed: 0</th>\n",
       "      <th>Rk</th>\n",
       "      <th>Player</th>\n",
       "      <th>Pos</th>\n",
       "      <th>Age</th>\n",
       "      <th>Tm</th>\n",
       "      <th>G</th>\n",
       "      <th>GS</th>\n",
       "      <th>GM</th>\n",
       "      <th>MP_Total</th>\n",
       "      <th>MP</th>\n",
       "      <th>PER</th>\n",
       "      <th>USG%</th>\n",
       "      <th>OWS</th>\n",
       "      <th>DWS</th>\n",
       "      <th>WS</th>\n",
       "      <th>WS_48</th>\n",
       "      <th>OBPM</th>\n",
       "      <th>DBPM</th>\n",
       "      <th>BPM</th>\n",
       "      <th>VORP</th>\n",
       "      <th>TS%</th>\n",
       "      <th>PTS</th>\n",
       "      <th>FG</th>\n",
       "      <th>FGA</th>\n",
       "      <th>FG%</th>\n",
       "      <th>3P</th>\n",
       "      <th>3PA</th>\n",
       "      <th>3P%</th>\n",
       "      <th>3PAr</th>\n",
       "      <th>2P</th>\n",
       "      <th>2PA</th>\n",
       "      <th>2P%</th>\n",
       "      <th>eFG%</th>\n",
       "      <th>FT</th>\n",
       "      <th>FTA</th>\n",
       "      <th>FT%</th>\n",
       "      <th>FTr</th>\n",
       "      <th>ORB</th>\n",
       "      <th>ORB%</th>\n",
       "      <th>DRB</th>\n",
       "      <th>DRB%</th>\n",
       "      <th>TRB</th>\n",
       "      <th>TRB%</th>\n",
       "      <th>AST</th>\n",
       "      <th>AST%</th>\n",
       "      <th>STL</th>\n",
       "      <th>STL%</th>\n",
       "      <th>BLK</th>\n",
       "      <th>BLK%</th>\n",
       "      <th>TOV</th>\n",
       "      <th>TOV%</th>\n",
       "      <th>PF</th>\n",
       "      <th>Player_additional</th>\n",
       "    </tr>\n",
       "  </thead>\n",
       "  <tbody>\n",
       "    <tr>\n",
       "      <th>0</th>\n",
       "      <td>0</td>\n",
       "      <td>1</td>\n",
       "      <td>Precious Achiuwa</td>\n",
       "      <td>C</td>\n",
       "      <td>23</td>\n",
       "      <td>TOR</td>\n",
       "      <td>55</td>\n",
       "      <td>12</td>\n",
       "      <td>27</td>\n",
       "      <td>1140.0</td>\n",
       "      <td>20.7</td>\n",
       "      <td>15.2</td>\n",
       "      <td>0.194</td>\n",
       "      <td>0.8</td>\n",
       "      <td>1.4</td>\n",
       "      <td>2.2</td>\n",
       "      <td>0.093</td>\n",
       "      <td>-1.4</td>\n",
       "      <td>-0.8</td>\n",
       "      <td>-2.3</td>\n",
       "      <td>-0.1</td>\n",
       "      <td>0.554</td>\n",
       "      <td>9.2</td>\n",
       "      <td>3.6</td>\n",
       "      <td>7.3</td>\n",
       "      <td>0.485</td>\n",
       "      <td>0.5</td>\n",
       "      <td>2.0</td>\n",
       "      <td>0.269</td>\n",
       "      <td>0.267</td>\n",
       "      <td>3.0</td>\n",
       "      <td>5.4</td>\n",
       "      <td>0.564</td>\n",
       "      <td>0.521</td>\n",
       "      <td>1.6</td>\n",
       "      <td>2.3</td>\n",
       "      <td>0.702</td>\n",
       "      <td>0.307</td>\n",
       "      <td>1.8</td>\n",
       "      <td>0.093</td>\n",
       "      <td>4.1</td>\n",
       "      <td>0.244</td>\n",
       "      <td>6.0</td>\n",
       "      <td>0.163</td>\n",
       "      <td>0.9</td>\n",
       "      <td>0.063</td>\n",
       "      <td>0.6</td>\n",
       "      <td>0.013</td>\n",
       "      <td>0.5</td>\n",
       "      <td>0.026</td>\n",
       "      <td>1.1</td>\n",
       "      <td>0.114</td>\n",
       "      <td>1.9</td>\n",
       "      <td>achiupr01</td>\n",
       "    </tr>\n",
       "    <tr>\n",
       "      <th>1</th>\n",
       "      <td>1</td>\n",
       "      <td>2</td>\n",
       "      <td>Steven Adams</td>\n",
       "      <td>C</td>\n",
       "      <td>29</td>\n",
       "      <td>MEM</td>\n",
       "      <td>42</td>\n",
       "      <td>42</td>\n",
       "      <td>40</td>\n",
       "      <td>1133.0</td>\n",
       "      <td>27.0</td>\n",
       "      <td>17.5</td>\n",
       "      <td>0.146</td>\n",
       "      <td>1.3</td>\n",
       "      <td>2.1</td>\n",
       "      <td>3.4</td>\n",
       "      <td>0.144</td>\n",
       "      <td>-0.3</td>\n",
       "      <td>0.9</td>\n",
       "      <td>0.6</td>\n",
       "      <td>0.7</td>\n",
       "      <td>0.564</td>\n",
       "      <td>8.6</td>\n",
       "      <td>3.7</td>\n",
       "      <td>6.3</td>\n",
       "      <td>0.597</td>\n",
       "      <td>0.0</td>\n",
       "      <td>0.0</td>\n",
       "      <td>0.000</td>\n",
       "      <td>0.004</td>\n",
       "      <td>3.7</td>\n",
       "      <td>6.2</td>\n",
       "      <td>0.599</td>\n",
       "      <td>0.597</td>\n",
       "      <td>1.1</td>\n",
       "      <td>3.1</td>\n",
       "      <td>0.364</td>\n",
       "      <td>0.490</td>\n",
       "      <td>5.1</td>\n",
       "      <td>0.201</td>\n",
       "      <td>6.5</td>\n",
       "      <td>0.253</td>\n",
       "      <td>11.5</td>\n",
       "      <td>0.227</td>\n",
       "      <td>2.3</td>\n",
       "      <td>0.112</td>\n",
       "      <td>0.9</td>\n",
       "      <td>0.015</td>\n",
       "      <td>1.1</td>\n",
       "      <td>0.037</td>\n",
       "      <td>1.9</td>\n",
       "      <td>0.198</td>\n",
       "      <td>2.3</td>\n",
       "      <td>adamsst01</td>\n",
       "    </tr>\n",
       "    <tr>\n",
       "      <th>2</th>\n",
       "      <td>2</td>\n",
       "      <td>3</td>\n",
       "      <td>Bam Adebayo</td>\n",
       "      <td>C</td>\n",
       "      <td>25</td>\n",
       "      <td>MIA</td>\n",
       "      <td>75</td>\n",
       "      <td>75</td>\n",
       "      <td>7</td>\n",
       "      <td>2598.0</td>\n",
       "      <td>34.6</td>\n",
       "      <td>20.1</td>\n",
       "      <td>0.252</td>\n",
       "      <td>3.6</td>\n",
       "      <td>3.8</td>\n",
       "      <td>7.4</td>\n",
       "      <td>0.137</td>\n",
       "      <td>0.8</td>\n",
       "      <td>0.8</td>\n",
       "      <td>1.5</td>\n",
       "      <td>2.3</td>\n",
       "      <td>0.592</td>\n",
       "      <td>20.4</td>\n",
       "      <td>8.0</td>\n",
       "      <td>14.9</td>\n",
       "      <td>0.540</td>\n",
       "      <td>0.0</td>\n",
       "      <td>0.2</td>\n",
       "      <td>0.083</td>\n",
       "      <td>0.011</td>\n",
       "      <td>8.0</td>\n",
       "      <td>14.7</td>\n",
       "      <td>0.545</td>\n",
       "      <td>0.541</td>\n",
       "      <td>4.3</td>\n",
       "      <td>5.4</td>\n",
       "      <td>0.806</td>\n",
       "      <td>0.361</td>\n",
       "      <td>2.5</td>\n",
       "      <td>0.080</td>\n",
       "      <td>6.7</td>\n",
       "      <td>0.236</td>\n",
       "      <td>9.2</td>\n",
       "      <td>0.155</td>\n",
       "      <td>3.2</td>\n",
       "      <td>0.159</td>\n",
       "      <td>1.2</td>\n",
       "      <td>0.017</td>\n",
       "      <td>0.8</td>\n",
       "      <td>0.024</td>\n",
       "      <td>2.5</td>\n",
       "      <td>0.127</td>\n",
       "      <td>2.8</td>\n",
       "      <td>adebaba01</td>\n",
       "    </tr>\n",
       "    <tr>\n",
       "      <th>3</th>\n",
       "      <td>3</td>\n",
       "      <td>4</td>\n",
       "      <td>Ochai Agbaji</td>\n",
       "      <td>SG</td>\n",
       "      <td>22</td>\n",
       "      <td>UTA</td>\n",
       "      <td>59</td>\n",
       "      <td>22</td>\n",
       "      <td>23</td>\n",
       "      <td>1209.0</td>\n",
       "      <td>20.5</td>\n",
       "      <td>9.5</td>\n",
       "      <td>0.158</td>\n",
       "      <td>0.9</td>\n",
       "      <td>0.4</td>\n",
       "      <td>1.3</td>\n",
       "      <td>0.053</td>\n",
       "      <td>-1.7</td>\n",
       "      <td>-1.4</td>\n",
       "      <td>-3.0</td>\n",
       "      <td>-0.3</td>\n",
       "      <td>0.561</td>\n",
       "      <td>7.9</td>\n",
       "      <td>2.8</td>\n",
       "      <td>6.5</td>\n",
       "      <td>0.427</td>\n",
       "      <td>1.4</td>\n",
       "      <td>3.9</td>\n",
       "      <td>0.355</td>\n",
       "      <td>0.591</td>\n",
       "      <td>1.4</td>\n",
       "      <td>2.7</td>\n",
       "      <td>0.532</td>\n",
       "      <td>0.532</td>\n",
       "      <td>0.9</td>\n",
       "      <td>1.2</td>\n",
       "      <td>0.812</td>\n",
       "      <td>0.179</td>\n",
       "      <td>0.7</td>\n",
       "      <td>0.039</td>\n",
       "      <td>1.3</td>\n",
       "      <td>0.069</td>\n",
       "      <td>2.1</td>\n",
       "      <td>0.054</td>\n",
       "      <td>1.1</td>\n",
       "      <td>0.075</td>\n",
       "      <td>0.3</td>\n",
       "      <td>0.006</td>\n",
       "      <td>0.3</td>\n",
       "      <td>0.010</td>\n",
       "      <td>0.7</td>\n",
       "      <td>0.090</td>\n",
       "      <td>1.7</td>\n",
       "      <td>agbajoc01</td>\n",
       "    </tr>\n",
       "    <tr>\n",
       "      <th>4</th>\n",
       "      <td>4</td>\n",
       "      <td>5</td>\n",
       "      <td>Santi Aldama</td>\n",
       "      <td>PF</td>\n",
       "      <td>22</td>\n",
       "      <td>MEM</td>\n",
       "      <td>77</td>\n",
       "      <td>20</td>\n",
       "      <td>5</td>\n",
       "      <td>1682.0</td>\n",
       "      <td>21.8</td>\n",
       "      <td>13.9</td>\n",
       "      <td>0.160</td>\n",
       "      <td>2.1</td>\n",
       "      <td>2.4</td>\n",
       "      <td>4.6</td>\n",
       "      <td>0.130</td>\n",
       "      <td>-0.3</td>\n",
       "      <td>0.8</td>\n",
       "      <td>0.5</td>\n",
       "      <td>1.1</td>\n",
       "      <td>0.591</td>\n",
       "      <td>9.0</td>\n",
       "      <td>3.2</td>\n",
       "      <td>6.8</td>\n",
       "      <td>0.470</td>\n",
       "      <td>1.2</td>\n",
       "      <td>3.5</td>\n",
       "      <td>0.353</td>\n",
       "      <td>0.507</td>\n",
       "      <td>2.0</td>\n",
       "      <td>3.4</td>\n",
       "      <td>0.591</td>\n",
       "      <td>0.560</td>\n",
       "      <td>1.4</td>\n",
       "      <td>1.9</td>\n",
       "      <td>0.750</td>\n",
       "      <td>0.274</td>\n",
       "      <td>1.1</td>\n",
       "      <td>0.054</td>\n",
       "      <td>3.7</td>\n",
       "      <td>0.180</td>\n",
       "      <td>4.8</td>\n",
       "      <td>0.117</td>\n",
       "      <td>1.3</td>\n",
       "      <td>0.076</td>\n",
       "      <td>0.6</td>\n",
       "      <td>0.013</td>\n",
       "      <td>0.6</td>\n",
       "      <td>0.026</td>\n",
       "      <td>0.8</td>\n",
       "      <td>0.093</td>\n",
       "      <td>1.9</td>\n",
       "      <td>aldamsa01</td>\n",
       "    </tr>\n",
       "  </tbody>\n",
       "</table>\n",
       "</div>"
      ],
      "text/plain": [
       "   Unnamed: 0  Rk            Player Pos  Age   Tm   G  GS  GM  MP_Total    MP   PER   USG%  OWS  DWS   WS  WS_48  OBPM  DBPM  BPM  VORP    TS%   PTS   FG   FGA    FG%   3P  3PA    3P%   3PAr   2P   2PA    2P%   eFG%   FT  FTA    FT%    FTr  ORB   ORB%  DRB   DRB%   TRB   TRB%  AST   AST%  STL   STL%  BLK   BLK%  TOV   TOV%   PF Player_additional\n",
       "0           0   1  Precious Achiuwa   C   23  TOR  55  12  27    1140.0  20.7  15.2  0.194  0.8  1.4  2.2  0.093  -1.4  -0.8 -2.3  -0.1  0.554   9.2  3.6   7.3  0.485  0.5  2.0  0.269  0.267  3.0   5.4  0.564  0.521  1.6  2.3  0.702  0.307  1.8  0.093  4.1  0.244   6.0  0.163  0.9  0.063  0.6  0.013  0.5  0.026  1.1  0.114  1.9         achiupr01\n",
       "1           1   2      Steven Adams   C   29  MEM  42  42  40    1133.0  27.0  17.5  0.146  1.3  2.1  3.4  0.144  -0.3   0.9  0.6   0.7  0.564   8.6  3.7   6.3  0.597  0.0  0.0  0.000  0.004  3.7   6.2  0.599  0.597  1.1  3.1  0.364  0.490  5.1  0.201  6.5  0.253  11.5  0.227  2.3  0.112  0.9  0.015  1.1  0.037  1.9  0.198  2.3         adamsst01\n",
       "2           2   3       Bam Adebayo   C   25  MIA  75  75   7    2598.0  34.6  20.1  0.252  3.6  3.8  7.4  0.137   0.8   0.8  1.5   2.3  0.592  20.4  8.0  14.9  0.540  0.0  0.2  0.083  0.011  8.0  14.7  0.545  0.541  4.3  5.4  0.806  0.361  2.5  0.080  6.7  0.236   9.2  0.155  3.2  0.159  1.2  0.017  0.8  0.024  2.5  0.127  2.8         adebaba01\n",
       "3           3   4      Ochai Agbaji  SG   22  UTA  59  22  23    1209.0  20.5   9.5  0.158  0.9  0.4  1.3  0.053  -1.7  -1.4 -3.0  -0.3  0.561   7.9  2.8   6.5  0.427  1.4  3.9  0.355  0.591  1.4   2.7  0.532  0.532  0.9  1.2  0.812  0.179  0.7  0.039  1.3  0.069   2.1  0.054  1.1  0.075  0.3  0.006  0.3  0.010  0.7  0.090  1.7         agbajoc01\n",
       "4           4   5      Santi Aldama  PF   22  MEM  77  20   5    1682.0  21.8  13.9  0.160  2.1  2.4  4.6  0.130  -0.3   0.8  0.5   1.1  0.591   9.0  3.2   6.8  0.470  1.2  3.5  0.353  0.507  2.0   3.4  0.591  0.560  1.4  1.9  0.750  0.274  1.1  0.054  3.7  0.180   4.8  0.117  1.3  0.076  0.6  0.013  0.6  0.026  0.8  0.093  1.9         aldamsa01"
      ]
     },
     "execution_count": 8,
     "metadata": {},
     "output_type": "execute_result"
    }
   ],
   "source": [
    "df05.head()"
   ]
  },
  {
   "attachments": {},
   "cell_type": "markdown",
   "metadata": {},
   "source": [
    "- Describing features: Player, Player_additional, Pos, Age, TM, \n",
    "- Offensive metrics: OBPM, PTS, FT, 2P, 3P, TS%, AST,  OWS\n",
    "- Defensive metrics: DBPM, ORB, DRB, STL, BLK, DWS\n",
    "- Negative metrics: TOV, GM, PF\n",
    "- Positive metrics: BPM, G, MP, WS, VORP"
   ]
  },
  {
   "cell_type": "code",
   "execution_count": 81,
   "metadata": {},
   "outputs": [],
   "source": [
    "selected_features = ['Player', 'Player_additional', 'Pos', 'Age', 'Tm',\n",
    "                     'OBPM', 'PTS', 'FT%', '2P%', '3P%', 'TS%', 'OWS', 'AST', 'ORB',\n",
    "                     'DBPM', 'DRB', 'STL', 'BLK', 'DWS', \n",
    "                     'TOV', 'GM', 'PF', \n",
    "                     'BPM', 'G', 'MP_Total', 'MP', 'WS', 'VORP']"
   ]
  },
  {
   "cell_type": "code",
   "execution_count": 82,
   "metadata": {},
   "outputs": [],
   "source": [
    "df_selected = df05[selected_features]"
   ]
  },
  {
   "cell_type": "markdown",
   "metadata": {},
   "source": [
    "## 5.2. <a id='toc5_2_'></a>[Transforming the dataset](#toc0_)"
   ]
  },
  {
   "cell_type": "code",
   "execution_count": 83,
   "metadata": {},
   "outputs": [
    {
     "data": {
      "text/html": [
       "<div>\n",
       "<style scoped>\n",
       "    .dataframe tbody tr th:only-of-type {\n",
       "        vertical-align: middle;\n",
       "    }\n",
       "\n",
       "    .dataframe tbody tr th {\n",
       "        vertical-align: top;\n",
       "    }\n",
       "\n",
       "    .dataframe thead th {\n",
       "        text-align: right;\n",
       "    }\n",
       "</style>\n",
       "<table border=\"1\" class=\"dataframe\">\n",
       "  <thead>\n",
       "    <tr style=\"text-align: right;\">\n",
       "      <th></th>\n",
       "      <th>OBPM</th>\n",
       "      <th>PTS</th>\n",
       "      <th>FT%</th>\n",
       "      <th>2P%</th>\n",
       "      <th>3P%</th>\n",
       "      <th>TS%</th>\n",
       "      <th>OWS</th>\n",
       "      <th>AST</th>\n",
       "      <th>ORB</th>\n",
       "      <th>DBPM</th>\n",
       "      <th>DRB</th>\n",
       "      <th>STL</th>\n",
       "      <th>BLK</th>\n",
       "      <th>DWS</th>\n",
       "      <th>TOV</th>\n",
       "      <th>GM</th>\n",
       "      <th>PF</th>\n",
       "      <th>BPM</th>\n",
       "      <th>G</th>\n",
       "      <th>MP_Total</th>\n",
       "      <th>MP</th>\n",
       "      <th>WS</th>\n",
       "      <th>VORP</th>\n",
       "    </tr>\n",
       "  </thead>\n",
       "  <tbody>\n",
       "    <tr>\n",
       "      <th>0</th>\n",
       "      <td>-1.4</td>\n",
       "      <td>9.2</td>\n",
       "      <td>0.702</td>\n",
       "      <td>0.564</td>\n",
       "      <td>0.269</td>\n",
       "      <td>0.554</td>\n",
       "      <td>0.8</td>\n",
       "      <td>0.9</td>\n",
       "      <td>1.8</td>\n",
       "      <td>-0.8</td>\n",
       "      <td>4.1</td>\n",
       "      <td>0.6</td>\n",
       "      <td>0.5</td>\n",
       "      <td>1.4</td>\n",
       "      <td>1.1</td>\n",
       "      <td>27</td>\n",
       "      <td>1.9</td>\n",
       "      <td>-2.3</td>\n",
       "      <td>55</td>\n",
       "      <td>1140.0</td>\n",
       "      <td>20.7</td>\n",
       "      <td>2.2</td>\n",
       "      <td>-0.1</td>\n",
       "    </tr>\n",
       "    <tr>\n",
       "      <th>1</th>\n",
       "      <td>-0.3</td>\n",
       "      <td>8.6</td>\n",
       "      <td>0.364</td>\n",
       "      <td>0.599</td>\n",
       "      <td>0.000</td>\n",
       "      <td>0.564</td>\n",
       "      <td>1.3</td>\n",
       "      <td>2.3</td>\n",
       "      <td>5.1</td>\n",
       "      <td>0.9</td>\n",
       "      <td>6.5</td>\n",
       "      <td>0.9</td>\n",
       "      <td>1.1</td>\n",
       "      <td>2.1</td>\n",
       "      <td>1.9</td>\n",
       "      <td>40</td>\n",
       "      <td>2.3</td>\n",
       "      <td>0.6</td>\n",
       "      <td>42</td>\n",
       "      <td>1133.0</td>\n",
       "      <td>27.0</td>\n",
       "      <td>3.4</td>\n",
       "      <td>0.7</td>\n",
       "    </tr>\n",
       "    <tr>\n",
       "      <th>2</th>\n",
       "      <td>0.8</td>\n",
       "      <td>20.4</td>\n",
       "      <td>0.806</td>\n",
       "      <td>0.545</td>\n",
       "      <td>0.083</td>\n",
       "      <td>0.592</td>\n",
       "      <td>3.6</td>\n",
       "      <td>3.2</td>\n",
       "      <td>2.5</td>\n",
       "      <td>0.8</td>\n",
       "      <td>6.7</td>\n",
       "      <td>1.2</td>\n",
       "      <td>0.8</td>\n",
       "      <td>3.8</td>\n",
       "      <td>2.5</td>\n",
       "      <td>7</td>\n",
       "      <td>2.8</td>\n",
       "      <td>1.5</td>\n",
       "      <td>75</td>\n",
       "      <td>2598.0</td>\n",
       "      <td>34.6</td>\n",
       "      <td>7.4</td>\n",
       "      <td>2.3</td>\n",
       "    </tr>\n",
       "    <tr>\n",
       "      <th>3</th>\n",
       "      <td>-1.7</td>\n",
       "      <td>7.9</td>\n",
       "      <td>0.812</td>\n",
       "      <td>0.532</td>\n",
       "      <td>0.355</td>\n",
       "      <td>0.561</td>\n",
       "      <td>0.9</td>\n",
       "      <td>1.1</td>\n",
       "      <td>0.7</td>\n",
       "      <td>-1.4</td>\n",
       "      <td>1.3</td>\n",
       "      <td>0.3</td>\n",
       "      <td>0.3</td>\n",
       "      <td>0.4</td>\n",
       "      <td>0.7</td>\n",
       "      <td>23</td>\n",
       "      <td>1.7</td>\n",
       "      <td>-3.0</td>\n",
       "      <td>59</td>\n",
       "      <td>1209.0</td>\n",
       "      <td>20.5</td>\n",
       "      <td>1.3</td>\n",
       "      <td>-0.3</td>\n",
       "    </tr>\n",
       "    <tr>\n",
       "      <th>4</th>\n",
       "      <td>-0.3</td>\n",
       "      <td>9.0</td>\n",
       "      <td>0.750</td>\n",
       "      <td>0.591</td>\n",
       "      <td>0.353</td>\n",
       "      <td>0.591</td>\n",
       "      <td>2.1</td>\n",
       "      <td>1.3</td>\n",
       "      <td>1.1</td>\n",
       "      <td>0.8</td>\n",
       "      <td>3.7</td>\n",
       "      <td>0.6</td>\n",
       "      <td>0.6</td>\n",
       "      <td>2.4</td>\n",
       "      <td>0.8</td>\n",
       "      <td>5</td>\n",
       "      <td>1.9</td>\n",
       "      <td>0.5</td>\n",
       "      <td>77</td>\n",
       "      <td>1682.0</td>\n",
       "      <td>21.8</td>\n",
       "      <td>4.6</td>\n",
       "      <td>1.1</td>\n",
       "    </tr>\n",
       "  </tbody>\n",
       "</table>\n",
       "</div>"
      ],
      "text/plain": [
       "   OBPM   PTS    FT%    2P%    3P%    TS%  OWS  AST  ORB  DBPM  DRB  STL  BLK  DWS  TOV  GM   PF  BPM   G  MP_Total    MP   WS  VORP\n",
       "0  -1.4   9.2  0.702  0.564  0.269  0.554  0.8  0.9  1.8  -0.8  4.1  0.6  0.5  1.4  1.1  27  1.9 -2.3  55    1140.0  20.7  2.2  -0.1\n",
       "1  -0.3   8.6  0.364  0.599  0.000  0.564  1.3  2.3  5.1   0.9  6.5  0.9  1.1  2.1  1.9  40  2.3  0.6  42    1133.0  27.0  3.4   0.7\n",
       "2   0.8  20.4  0.806  0.545  0.083  0.592  3.6  3.2  2.5   0.8  6.7  1.2  0.8  3.8  2.5   7  2.8  1.5  75    2598.0  34.6  7.4   2.3\n",
       "3  -1.7   7.9  0.812  0.532  0.355  0.561  0.9  1.1  0.7  -1.4  1.3  0.3  0.3  0.4  0.7  23  1.7 -3.0  59    1209.0  20.5  1.3  -0.3\n",
       "4  -0.3   9.0  0.750  0.591  0.353  0.591  2.1  1.3  1.1   0.8  3.7  0.6  0.6  2.4  0.8   5  1.9  0.5  77    1682.0  21.8  4.6   1.1"
      ]
     },
     "execution_count": 83,
     "metadata": {},
     "output_type": "execute_result"
    }
   ],
   "source": [
    "num_attributes = df_selected.select_dtypes( include=['int64', 'float64'] )\n",
    "num_attributes = num_attributes.drop('Age', axis = 1)\n",
    "num_attributes.head()"
   ]
  },
  {
   "cell_type": "code",
   "execution_count": 84,
   "metadata": {},
   "outputs": [],
   "source": [
    "num_attributes = num_attributes.apply(lambda x: x/x.max(), axis = 0)"
   ]
  },
  {
   "cell_type": "code",
   "execution_count": 85,
   "metadata": {},
   "outputs": [],
   "source": [
    "df_selected[num_attributes.columns] = num_attributes"
   ]
  },
  {
   "cell_type": "code",
   "execution_count": 86,
   "metadata": {},
   "outputs": [
    {
     "data": {
      "text/html": [
       "<div>\n",
       "<style scoped>\n",
       "    .dataframe tbody tr th:only-of-type {\n",
       "        vertical-align: middle;\n",
       "    }\n",
       "\n",
       "    .dataframe tbody tr th {\n",
       "        vertical-align: top;\n",
       "    }\n",
       "\n",
       "    .dataframe thead th {\n",
       "        text-align: right;\n",
       "    }\n",
       "</style>\n",
       "<table border=\"1\" class=\"dataframe\">\n",
       "  <thead>\n",
       "    <tr style=\"text-align: right;\">\n",
       "      <th></th>\n",
       "      <th>Player</th>\n",
       "      <th>Player_additional</th>\n",
       "      <th>Pos</th>\n",
       "      <th>Age</th>\n",
       "      <th>Tm</th>\n",
       "      <th>OBPM</th>\n",
       "      <th>PTS</th>\n",
       "      <th>FT%</th>\n",
       "      <th>2P%</th>\n",
       "      <th>3P%</th>\n",
       "      <th>TS%</th>\n",
       "      <th>OWS</th>\n",
       "      <th>AST</th>\n",
       "      <th>ORB</th>\n",
       "      <th>DBPM</th>\n",
       "      <th>DRB</th>\n",
       "      <th>STL</th>\n",
       "      <th>BLK</th>\n",
       "      <th>DWS</th>\n",
       "      <th>TOV</th>\n",
       "      <th>GM</th>\n",
       "      <th>PF</th>\n",
       "      <th>BPM</th>\n",
       "      <th>G</th>\n",
       "      <th>MP_Total</th>\n",
       "      <th>MP</th>\n",
       "      <th>WS</th>\n",
       "      <th>VORP</th>\n",
       "    </tr>\n",
       "  </thead>\n",
       "  <tbody>\n",
       "    <tr>\n",
       "      <th>0</th>\n",
       "      <td>Precious Achiuwa</td>\n",
       "      <td>achiupr01</td>\n",
       "      <td>C</td>\n",
       "      <td>23</td>\n",
       "      <td>TOR</td>\n",
       "      <td>-0.084848</td>\n",
       "      <td>0.277946</td>\n",
       "      <td>0.702</td>\n",
       "      <td>0.564</td>\n",
       "      <td>0.269</td>\n",
       "      <td>0.520677</td>\n",
       "      <td>0.071429</td>\n",
       "      <td>0.084112</td>\n",
       "      <td>0.352941</td>\n",
       "      <td>-0.024465</td>\n",
       "      <td>0.427083</td>\n",
       "      <td>0.2</td>\n",
       "      <td>0.166667</td>\n",
       "      <td>0.291667</td>\n",
       "      <td>0.268293</td>\n",
       "      <td>0.333333</td>\n",
       "      <td>0.38</td>\n",
       "      <td>-0.047325</td>\n",
       "      <td>0.662651</td>\n",
       "      <td>0.401126</td>\n",
       "      <td>0.504878</td>\n",
       "      <td>0.147651</td>\n",
       "      <td>-0.011364</td>\n",
       "    </tr>\n",
       "    <tr>\n",
       "      <th>1</th>\n",
       "      <td>Steven Adams</td>\n",
       "      <td>adamsst01</td>\n",
       "      <td>C</td>\n",
       "      <td>29</td>\n",
       "      <td>MEM</td>\n",
       "      <td>-0.018182</td>\n",
       "      <td>0.259819</td>\n",
       "      <td>0.364</td>\n",
       "      <td>0.599</td>\n",
       "      <td>0.000</td>\n",
       "      <td>0.530075</td>\n",
       "      <td>0.116071</td>\n",
       "      <td>0.214953</td>\n",
       "      <td>1.000000</td>\n",
       "      <td>0.027523</td>\n",
       "      <td>0.677083</td>\n",
       "      <td>0.3</td>\n",
       "      <td>0.366667</td>\n",
       "      <td>0.437500</td>\n",
       "      <td>0.463415</td>\n",
       "      <td>0.493827</td>\n",
       "      <td>0.46</td>\n",
       "      <td>0.012346</td>\n",
       "      <td>0.506024</td>\n",
       "      <td>0.398663</td>\n",
       "      <td>0.658537</td>\n",
       "      <td>0.228188</td>\n",
       "      <td>0.079545</td>\n",
       "    </tr>\n",
       "    <tr>\n",
       "      <th>2</th>\n",
       "      <td>Bam Adebayo</td>\n",
       "      <td>adebaba01</td>\n",
       "      <td>C</td>\n",
       "      <td>25</td>\n",
       "      <td>MIA</td>\n",
       "      <td>0.048485</td>\n",
       "      <td>0.616314</td>\n",
       "      <td>0.806</td>\n",
       "      <td>0.545</td>\n",
       "      <td>0.083</td>\n",
       "      <td>0.556391</td>\n",
       "      <td>0.321429</td>\n",
       "      <td>0.299065</td>\n",
       "      <td>0.490196</td>\n",
       "      <td>0.024465</td>\n",
       "      <td>0.697917</td>\n",
       "      <td>0.4</td>\n",
       "      <td>0.266667</td>\n",
       "      <td>0.791667</td>\n",
       "      <td>0.609756</td>\n",
       "      <td>0.086420</td>\n",
       "      <td>0.56</td>\n",
       "      <td>0.030864</td>\n",
       "      <td>0.903614</td>\n",
       "      <td>0.914145</td>\n",
       "      <td>0.843902</td>\n",
       "      <td>0.496644</td>\n",
       "      <td>0.261364</td>\n",
       "    </tr>\n",
       "    <tr>\n",
       "      <th>3</th>\n",
       "      <td>Ochai Agbaji</td>\n",
       "      <td>agbajoc01</td>\n",
       "      <td>SG</td>\n",
       "      <td>22</td>\n",
       "      <td>UTA</td>\n",
       "      <td>-0.103030</td>\n",
       "      <td>0.238671</td>\n",
       "      <td>0.812</td>\n",
       "      <td>0.532</td>\n",
       "      <td>0.355</td>\n",
       "      <td>0.527256</td>\n",
       "      <td>0.080357</td>\n",
       "      <td>0.102804</td>\n",
       "      <td>0.137255</td>\n",
       "      <td>-0.042813</td>\n",
       "      <td>0.135417</td>\n",
       "      <td>0.1</td>\n",
       "      <td>0.100000</td>\n",
       "      <td>0.083333</td>\n",
       "      <td>0.170732</td>\n",
       "      <td>0.283951</td>\n",
       "      <td>0.34</td>\n",
       "      <td>-0.061728</td>\n",
       "      <td>0.710843</td>\n",
       "      <td>0.425405</td>\n",
       "      <td>0.500000</td>\n",
       "      <td>0.087248</td>\n",
       "      <td>-0.034091</td>\n",
       "    </tr>\n",
       "    <tr>\n",
       "      <th>4</th>\n",
       "      <td>Santi Aldama</td>\n",
       "      <td>aldamsa01</td>\n",
       "      <td>PF</td>\n",
       "      <td>22</td>\n",
       "      <td>MEM</td>\n",
       "      <td>-0.018182</td>\n",
       "      <td>0.271903</td>\n",
       "      <td>0.750</td>\n",
       "      <td>0.591</td>\n",
       "      <td>0.353</td>\n",
       "      <td>0.555451</td>\n",
       "      <td>0.187500</td>\n",
       "      <td>0.121495</td>\n",
       "      <td>0.215686</td>\n",
       "      <td>0.024465</td>\n",
       "      <td>0.385417</td>\n",
       "      <td>0.2</td>\n",
       "      <td>0.200000</td>\n",
       "      <td>0.500000</td>\n",
       "      <td>0.195122</td>\n",
       "      <td>0.061728</td>\n",
       "      <td>0.38</td>\n",
       "      <td>0.010288</td>\n",
       "      <td>0.927711</td>\n",
       "      <td>0.591837</td>\n",
       "      <td>0.531707</td>\n",
       "      <td>0.308725</td>\n",
       "      <td>0.125000</td>\n",
       "    </tr>\n",
       "  </tbody>\n",
       "</table>\n",
       "</div>"
      ],
      "text/plain": [
       "             Player Player_additional Pos  Age   Tm      OBPM       PTS    FT%    2P%    3P%       TS%       OWS       AST       ORB      DBPM       DRB  STL       BLK       DWS       TOV        GM    PF       BPM         G  MP_Total        MP        WS      VORP\n",
       "0  Precious Achiuwa         achiupr01   C   23  TOR -0.084848  0.277946  0.702  0.564  0.269  0.520677  0.071429  0.084112  0.352941 -0.024465  0.427083  0.2  0.166667  0.291667  0.268293  0.333333  0.38 -0.047325  0.662651  0.401126  0.504878  0.147651 -0.011364\n",
       "1      Steven Adams         adamsst01   C   29  MEM -0.018182  0.259819  0.364  0.599  0.000  0.530075  0.116071  0.214953  1.000000  0.027523  0.677083  0.3  0.366667  0.437500  0.463415  0.493827  0.46  0.012346  0.506024  0.398663  0.658537  0.228188  0.079545\n",
       "2       Bam Adebayo         adebaba01   C   25  MIA  0.048485  0.616314  0.806  0.545  0.083  0.556391  0.321429  0.299065  0.490196  0.024465  0.697917  0.4  0.266667  0.791667  0.609756  0.086420  0.56  0.030864  0.903614  0.914145  0.843902  0.496644  0.261364\n",
       "3      Ochai Agbaji         agbajoc01  SG   22  UTA -0.103030  0.238671  0.812  0.532  0.355  0.527256  0.080357  0.102804  0.137255 -0.042813  0.135417  0.1  0.100000  0.083333  0.170732  0.283951  0.34 -0.061728  0.710843  0.425405  0.500000  0.087248 -0.034091\n",
       "4      Santi Aldama         aldamsa01  PF   22  MEM -0.018182  0.271903  0.750  0.591  0.353  0.555451  0.187500  0.121495  0.215686  0.024465  0.385417  0.2  0.200000  0.500000  0.195122  0.061728  0.38  0.010288  0.927711  0.591837  0.531707  0.308725  0.125000"
      ]
     },
     "execution_count": 86,
     "metadata": {},
     "output_type": "execute_result"
    }
   ],
   "source": [
    "df_selected.head()"
   ]
  },
  {
   "cell_type": "markdown",
   "metadata": {},
   "source": [
    "## 5.3. <a id='toc5_3_'></a>[Exporting transformed dataframe](#toc0_)"
   ]
  },
  {
   "cell_type": "code",
   "execution_count": 87,
   "metadata": {},
   "outputs": [],
   "source": [
    "df_selected.to_csv('~/repos/NBA_2022-2023/data/df_selected.csv')"
   ]
  },
  {
   "cell_type": "markdown",
   "metadata": {},
   "source": [
    "# 6. <a id='toc6_'></a>[Exploratory Data Analysis](#toc0_)\n",
    "- Answer the hypothesis list\n",
    "- Build data visualization solutions and plots"
   ]
  },
  {
   "cell_type": "markdown",
   "metadata": {},
   "source": [
    "## 6.1. <a id='toc6_1_'></a>[Importing merged dataset from csv file](#toc0_)"
   ]
  },
  {
   "cell_type": "code",
   "execution_count": 3,
   "metadata": {},
   "outputs": [],
   "source": [
    "df06 = pd.read_csv('~/repos/NBA_2022-2023/data/df_selected.csv', low_memory=False, index_col=0)"
   ]
  },
  {
   "cell_type": "code",
   "execution_count": 4,
   "metadata": {},
   "outputs": [
    {
     "data": {
      "text/html": [
       "<div>\n",
       "<style scoped>\n",
       "    .dataframe tbody tr th:only-of-type {\n",
       "        vertical-align: middle;\n",
       "    }\n",
       "\n",
       "    .dataframe tbody tr th {\n",
       "        vertical-align: top;\n",
       "    }\n",
       "\n",
       "    .dataframe thead th {\n",
       "        text-align: right;\n",
       "    }\n",
       "</style>\n",
       "<table border=\"1\" class=\"dataframe\">\n",
       "  <thead>\n",
       "    <tr style=\"text-align: right;\">\n",
       "      <th></th>\n",
       "      <th>Player</th>\n",
       "      <th>Player_additional</th>\n",
       "      <th>Pos</th>\n",
       "      <th>Age</th>\n",
       "      <th>Tm</th>\n",
       "      <th>OBPM</th>\n",
       "      <th>PTS</th>\n",
       "      <th>FT%</th>\n",
       "      <th>2P%</th>\n",
       "      <th>3P%</th>\n",
       "      <th>TS%</th>\n",
       "      <th>OWS</th>\n",
       "      <th>AST</th>\n",
       "      <th>ORB</th>\n",
       "      <th>DBPM</th>\n",
       "      <th>DRB</th>\n",
       "      <th>STL</th>\n",
       "      <th>BLK</th>\n",
       "      <th>DWS</th>\n",
       "      <th>TOV</th>\n",
       "      <th>GM</th>\n",
       "      <th>PF</th>\n",
       "      <th>BPM</th>\n",
       "      <th>G</th>\n",
       "      <th>MP_Total</th>\n",
       "      <th>MP</th>\n",
       "      <th>WS</th>\n",
       "      <th>VORP</th>\n",
       "    </tr>\n",
       "  </thead>\n",
       "  <tbody>\n",
       "    <tr>\n",
       "      <th>0</th>\n",
       "      <td>Precious Achiuwa</td>\n",
       "      <td>achiupr01</td>\n",
       "      <td>C</td>\n",
       "      <td>23</td>\n",
       "      <td>TOR</td>\n",
       "      <td>-0.084848</td>\n",
       "      <td>0.277946</td>\n",
       "      <td>0.702</td>\n",
       "      <td>0.564</td>\n",
       "      <td>0.269</td>\n",
       "      <td>0.520677</td>\n",
       "      <td>0.071429</td>\n",
       "      <td>0.084112</td>\n",
       "      <td>0.352941</td>\n",
       "      <td>-0.024465</td>\n",
       "      <td>0.427083</td>\n",
       "      <td>0.2</td>\n",
       "      <td>0.166667</td>\n",
       "      <td>0.291667</td>\n",
       "      <td>0.268293</td>\n",
       "      <td>0.333333</td>\n",
       "      <td>0.38</td>\n",
       "      <td>-0.047325</td>\n",
       "      <td>0.662651</td>\n",
       "      <td>0.401126</td>\n",
       "      <td>0.504878</td>\n",
       "      <td>0.147651</td>\n",
       "      <td>-0.011364</td>\n",
       "    </tr>\n",
       "    <tr>\n",
       "      <th>1</th>\n",
       "      <td>Steven Adams</td>\n",
       "      <td>adamsst01</td>\n",
       "      <td>C</td>\n",
       "      <td>29</td>\n",
       "      <td>MEM</td>\n",
       "      <td>-0.018182</td>\n",
       "      <td>0.259819</td>\n",
       "      <td>0.364</td>\n",
       "      <td>0.599</td>\n",
       "      <td>0.000</td>\n",
       "      <td>0.530075</td>\n",
       "      <td>0.116071</td>\n",
       "      <td>0.214953</td>\n",
       "      <td>1.000000</td>\n",
       "      <td>0.027523</td>\n",
       "      <td>0.677083</td>\n",
       "      <td>0.3</td>\n",
       "      <td>0.366667</td>\n",
       "      <td>0.437500</td>\n",
       "      <td>0.463415</td>\n",
       "      <td>0.493827</td>\n",
       "      <td>0.46</td>\n",
       "      <td>0.012346</td>\n",
       "      <td>0.506024</td>\n",
       "      <td>0.398663</td>\n",
       "      <td>0.658537</td>\n",
       "      <td>0.228188</td>\n",
       "      <td>0.079545</td>\n",
       "    </tr>\n",
       "    <tr>\n",
       "      <th>2</th>\n",
       "      <td>Bam Adebayo</td>\n",
       "      <td>adebaba01</td>\n",
       "      <td>C</td>\n",
       "      <td>25</td>\n",
       "      <td>MIA</td>\n",
       "      <td>0.048485</td>\n",
       "      <td>0.616314</td>\n",
       "      <td>0.806</td>\n",
       "      <td>0.545</td>\n",
       "      <td>0.083</td>\n",
       "      <td>0.556391</td>\n",
       "      <td>0.321429</td>\n",
       "      <td>0.299065</td>\n",
       "      <td>0.490196</td>\n",
       "      <td>0.024465</td>\n",
       "      <td>0.697917</td>\n",
       "      <td>0.4</td>\n",
       "      <td>0.266667</td>\n",
       "      <td>0.791667</td>\n",
       "      <td>0.609756</td>\n",
       "      <td>0.086420</td>\n",
       "      <td>0.56</td>\n",
       "      <td>0.030864</td>\n",
       "      <td>0.903614</td>\n",
       "      <td>0.914145</td>\n",
       "      <td>0.843902</td>\n",
       "      <td>0.496644</td>\n",
       "      <td>0.261364</td>\n",
       "    </tr>\n",
       "    <tr>\n",
       "      <th>3</th>\n",
       "      <td>Ochai Agbaji</td>\n",
       "      <td>agbajoc01</td>\n",
       "      <td>SG</td>\n",
       "      <td>22</td>\n",
       "      <td>UTA</td>\n",
       "      <td>-0.103030</td>\n",
       "      <td>0.238671</td>\n",
       "      <td>0.812</td>\n",
       "      <td>0.532</td>\n",
       "      <td>0.355</td>\n",
       "      <td>0.527256</td>\n",
       "      <td>0.080357</td>\n",
       "      <td>0.102804</td>\n",
       "      <td>0.137255</td>\n",
       "      <td>-0.042813</td>\n",
       "      <td>0.135417</td>\n",
       "      <td>0.1</td>\n",
       "      <td>0.100000</td>\n",
       "      <td>0.083333</td>\n",
       "      <td>0.170732</td>\n",
       "      <td>0.283951</td>\n",
       "      <td>0.34</td>\n",
       "      <td>-0.061728</td>\n",
       "      <td>0.710843</td>\n",
       "      <td>0.425405</td>\n",
       "      <td>0.500000</td>\n",
       "      <td>0.087248</td>\n",
       "      <td>-0.034091</td>\n",
       "    </tr>\n",
       "    <tr>\n",
       "      <th>4</th>\n",
       "      <td>Santi Aldama</td>\n",
       "      <td>aldamsa01</td>\n",
       "      <td>PF</td>\n",
       "      <td>22</td>\n",
       "      <td>MEM</td>\n",
       "      <td>-0.018182</td>\n",
       "      <td>0.271903</td>\n",
       "      <td>0.750</td>\n",
       "      <td>0.591</td>\n",
       "      <td>0.353</td>\n",
       "      <td>0.555451</td>\n",
       "      <td>0.187500</td>\n",
       "      <td>0.121495</td>\n",
       "      <td>0.215686</td>\n",
       "      <td>0.024465</td>\n",
       "      <td>0.385417</td>\n",
       "      <td>0.2</td>\n",
       "      <td>0.200000</td>\n",
       "      <td>0.500000</td>\n",
       "      <td>0.195122</td>\n",
       "      <td>0.061728</td>\n",
       "      <td>0.38</td>\n",
       "      <td>0.010288</td>\n",
       "      <td>0.927711</td>\n",
       "      <td>0.591837</td>\n",
       "      <td>0.531707</td>\n",
       "      <td>0.308725</td>\n",
       "      <td>0.125000</td>\n",
       "    </tr>\n",
       "  </tbody>\n",
       "</table>\n",
       "</div>"
      ],
      "text/plain": [
       "             Player Player_additional Pos  Age   Tm      OBPM       PTS    FT%    2P%    3P%       TS%       OWS       AST       ORB      DBPM       DRB  STL       BLK       DWS       TOV        GM    PF       BPM         G  MP_Total        MP        WS      VORP\n",
       "0  Precious Achiuwa         achiupr01   C   23  TOR -0.084848  0.277946  0.702  0.564  0.269  0.520677  0.071429  0.084112  0.352941 -0.024465  0.427083  0.2  0.166667  0.291667  0.268293  0.333333  0.38 -0.047325  0.662651  0.401126  0.504878  0.147651 -0.011364\n",
       "1      Steven Adams         adamsst01   C   29  MEM -0.018182  0.259819  0.364  0.599  0.000  0.530075  0.116071  0.214953  1.000000  0.027523  0.677083  0.3  0.366667  0.437500  0.463415  0.493827  0.46  0.012346  0.506024  0.398663  0.658537  0.228188  0.079545\n",
       "2       Bam Adebayo         adebaba01   C   25  MIA  0.048485  0.616314  0.806  0.545  0.083  0.556391  0.321429  0.299065  0.490196  0.024465  0.697917  0.4  0.266667  0.791667  0.609756  0.086420  0.56  0.030864  0.903614  0.914145  0.843902  0.496644  0.261364\n",
       "3      Ochai Agbaji         agbajoc01  SG   22  UTA -0.103030  0.238671  0.812  0.532  0.355  0.527256  0.080357  0.102804  0.137255 -0.042813  0.135417  0.1  0.100000  0.083333  0.170732  0.283951  0.34 -0.061728  0.710843  0.425405  0.500000  0.087248 -0.034091\n",
       "4      Santi Aldama         aldamsa01  PF   22  MEM -0.018182  0.271903  0.750  0.591  0.353  0.555451  0.187500  0.121495  0.215686  0.024465  0.385417  0.2  0.200000  0.500000  0.195122  0.061728  0.38  0.010288  0.927711  0.591837  0.531707  0.308725  0.125000"
      ]
     },
     "execution_count": 4,
     "metadata": {},
     "output_type": "execute_result"
    }
   ],
   "source": [
    "df06.head()"
   ]
  },
  {
   "cell_type": "markdown",
   "metadata": {},
   "source": [
    "## 6.2. <a id='toc6_2_'></a>[First charts](#toc0_)"
   ]
  },
  {
   "cell_type": "markdown",
   "metadata": {},
   "source": [
    "### 6.2.1. <a id='toc6_2_1_'></a>[How are distributed the Points Per Game according to the Positions assigned to each Player?](#toc0_)"
   ]
  },
  {
   "cell_type": "code",
   "execution_count": null,
   "metadata": {},
   "outputs": [],
   "source": [
    "fig = px.box(data_frame = df06,\n",
    "       x = 'Pos',\n",
    "       y = 'PTS',\n",
    "       color = 'Pos',\n",
    "       hover_name = 'Player',\n",
    "       title = 'Points per Game by Position',\n",
    "       labels = {'PTS':'Points per Game',\n",
    "                 'Pos':'Position'},\n",
    "       category_orders = {'Pos':('PG', 'SG', 'SF', 'PF', 'C', 'PF-SF', 'SF-SG', 'SG-PG')},\n",
    "       template='plotly_dark')\n",
    "\n",
    "fig.show()"
   ]
  },
  {
   "cell_type": "markdown",
   "metadata": {},
   "source": [
    "### 6.2.2. <a id='toc6_2_2_'></a>[How are distributed the 3 Points Percentage Per Game according to the Positions assigned to each Player?](#toc0_)"
   ]
  },
  {
   "cell_type": "code",
   "execution_count": null,
   "metadata": {},
   "outputs": [],
   "source": [
    "px.box(data_frame = df06,\n",
    "        x = 'Pos',\n",
    "        y = '3P',\n",
    "        color = 'Pos',\n",
    "        hover_name = 'Player',\n",
    "        title = '3 Points per Game by Position',\n",
    "        labels = {'3P':'3 Points per Game',\n",
    "                        'Pos':'Position'},\n",
    "        category_orders = {'Pos':('PG', 'SG', 'SF', 'PF', 'C', 'PF-SF', 'SF-SG', 'SG-PG')},\n",
    "       template='plotly_dark')"
   ]
  },
  {
   "cell_type": "markdown",
   "metadata": {},
   "source": [
    "### 6.2.3. <a id='toc6_2_3_'></a>[How are distributed the Field Goals Per Game according to the Positions assigned to each Player?](#toc0_)"
   ]
  },
  {
   "cell_type": "code",
   "execution_count": null,
   "metadata": {},
   "outputs": [],
   "source": [
    "px.box(data_frame = df06,\n",
    "       x = 'Pos',\n",
    "       y = 'FG',\n",
    "       color = 'Pos',\n",
    "       hover_name = 'Player',\n",
    "       title = 'Field Goals per Game by Position',\n",
    "       labels = {'FG':'Field Goals', 'Pos': 'Position'},\n",
    "       category_orders = {'Pos':('PG', 'SG', 'SF', 'PF', 'C', 'PF-SF', 'SF-SG', 'SG-PG')},\n",
    "       template='plotly_dark')"
   ]
  },
  {
   "cell_type": "markdown",
   "metadata": {},
   "source": [
    "### 6.2.4. <a id='toc6_2_4_'></a>[How are distributed the Personal Fouls Per Game according to the Positions assigned to each Player?](#toc0_)"
   ]
  },
  {
   "cell_type": "code",
   "execution_count": null,
   "metadata": {},
   "outputs": [],
   "source": [
    "px.box(data_frame = df06,\n",
    "       x = 'Pos',\n",
    "       y = 'PF',\n",
    "       color = 'Pos',\n",
    "       hover_name = 'Player',\n",
    "       title = 'Personal Fouls per Game by Position',\n",
    "       labels = {'PF':'Personal Fouls', 'Pos': 'Position'},\n",
    "       category_orders = {'Pos':('PG', 'SG', 'SF', 'PF', 'C', 'PF-SF', 'SF-SG', 'SG-PG')},\n",
    "       template='plotly_dark')"
   ]
  },
  {
   "cell_type": "markdown",
   "metadata": {},
   "source": [
    "### 6.2.5. <a id='toc6_2_5_'></a>[How are distributed the Turn-Overs Per Game according to the Positions assigned to each Player?](#toc0_)"
   ]
  },
  {
   "cell_type": "code",
   "execution_count": null,
   "metadata": {},
   "outputs": [],
   "source": [
    "px.box(data_frame = df06,\n",
    "       x = 'Pos',\n",
    "       y = 'TOV',\n",
    "       color = 'Pos',\n",
    "       hover_name = 'Player',\n",
    "       title = 'Turn-Overs per Game by Position',\n",
    "       labels = {'TOV':'Turn-Overs', 'Pos': 'Position'},\n",
    "       category_orders = {'Pos':('PG', 'SG', 'SF', 'PF', 'C', 'PF-SF', 'SF-SG', 'SG-PG')},\n",
    "       template='plotly_dark')"
   ]
  },
  {
   "cell_type": "markdown",
   "metadata": {},
   "source": [
    "### 6.2.6. <a id='toc6_2_6_'></a>[How are distributed the Blocks Per Game according to the Position assigned to each PLayers?](#toc0_)"
   ]
  },
  {
   "cell_type": "code",
   "execution_count": null,
   "metadata": {},
   "outputs": [],
   "source": [
    "px.box(data_frame = df06,\n",
    "       x = 'Pos',\n",
    "       y = 'BLK',\n",
    "       color = 'Pos',\n",
    "       hover_name = 'Player',\n",
    "       title = 'Blocks per Game by Position',\n",
    "       labels = {'BLK':'Blocks', 'Pos': 'Position'},\n",
    "       category_orders = {'Pos':('PG', 'SG', 'SF', 'PF', 'C', 'PF-SF', 'SF-SG', 'SG-PG')},\n",
    "       template='plotly_dark')"
   ]
  },
  {
   "cell_type": "code",
   "execution_count": null,
   "metadata": {},
   "outputs": [],
   "source": [
    "df06['Pos'].value_counts()"
   ]
  },
  {
   "cell_type": "markdown",
   "metadata": {},
   "source": [
    "## 6.3. <a id='toc6_3_'></a>[Testing some radar charts](#toc0_)"
   ]
  },
  {
   "cell_type": "markdown",
   "metadata": {},
   "source": [
    "### 6.3.1. <a id='toc6_3_1_'></a>[Pre-processing Data to Chart](#toc0_)"
   ]
  },
  {
   "cell_type": "code",
   "execution_count": 9,
   "metadata": {},
   "outputs": [],
   "source": [
    "player = 'Giannis Antetokounmpo'"
   ]
  },
  {
   "cell_type": "code",
   "execution_count": 10,
   "metadata": {},
   "outputs": [
    {
     "data": {
      "text/html": [
       "<div>\n",
       "<style scoped>\n",
       "    .dataframe tbody tr th:only-of-type {\n",
       "        vertical-align: middle;\n",
       "    }\n",
       "\n",
       "    .dataframe tbody tr th {\n",
       "        vertical-align: top;\n",
       "    }\n",
       "\n",
       "    .dataframe thead th {\n",
       "        text-align: right;\n",
       "    }\n",
       "</style>\n",
       "<table border=\"1\" class=\"dataframe\">\n",
       "  <thead>\n",
       "    <tr style=\"text-align: right;\">\n",
       "      <th></th>\n",
       "      <th>Player</th>\n",
       "      <th>Player_additional</th>\n",
       "      <th>Pos</th>\n",
       "      <th>Age</th>\n",
       "      <th>Tm</th>\n",
       "      <th>OBPM</th>\n",
       "      <th>PTS</th>\n",
       "      <th>FT%</th>\n",
       "      <th>2P%</th>\n",
       "      <th>3P%</th>\n",
       "      <th>TS%</th>\n",
       "      <th>OWS</th>\n",
       "      <th>AST</th>\n",
       "      <th>ORB</th>\n",
       "      <th>DBPM</th>\n",
       "      <th>DRB</th>\n",
       "      <th>STL</th>\n",
       "      <th>BLK</th>\n",
       "      <th>DWS</th>\n",
       "      <th>TOV</th>\n",
       "      <th>GM</th>\n",
       "      <th>PF</th>\n",
       "      <th>BPM</th>\n",
       "      <th>G</th>\n",
       "      <th>MP_Total</th>\n",
       "      <th>MP</th>\n",
       "      <th>WS</th>\n",
       "      <th>VORP</th>\n",
       "    </tr>\n",
       "  </thead>\n",
       "  <tbody>\n",
       "    <tr>\n",
       "      <th>10</th>\n",
       "      <td>Giannis Antetokounmpo</td>\n",
       "      <td>antetgi01</td>\n",
       "      <td>PF</td>\n",
       "      <td>28</td>\n",
       "      <td>MIL</td>\n",
       "      <td>0.351515</td>\n",
       "      <td>0.939577</td>\n",
       "      <td>0.645</td>\n",
       "      <td>0.596</td>\n",
       "      <td>0.275</td>\n",
       "      <td>0.568609</td>\n",
       "      <td>0.4375</td>\n",
       "      <td>0.53271</td>\n",
       "      <td>0.431373</td>\n",
       "      <td>0.082569</td>\n",
       "      <td>1.0</td>\n",
       "      <td>0.266667</td>\n",
       "      <td>0.266667</td>\n",
       "      <td>0.770833</td>\n",
       "      <td>0.95122</td>\n",
       "      <td>0.234568</td>\n",
       "      <td>0.62</td>\n",
       "      <td>0.174897</td>\n",
       "      <td>0.759036</td>\n",
       "      <td>0.712175</td>\n",
       "      <td>0.782927</td>\n",
       "      <td>0.577181</td>\n",
       "      <td>0.613636</td>\n",
       "    </tr>\n",
       "  </tbody>\n",
       "</table>\n",
       "</div>"
      ],
      "text/plain": [
       "                   Player Player_additional Pos  Age   Tm      OBPM       PTS    FT%    2P%    3P%       TS%     OWS      AST       ORB      DBPM  DRB       STL       BLK       DWS      TOV        GM    PF       BPM         G  MP_Total        MP        WS      VORP\n",
       "10  Giannis Antetokounmpo         antetgi01  PF   28  MIL  0.351515  0.939577  0.645  0.596  0.275  0.568609  0.4375  0.53271  0.431373  0.082569  1.0  0.266667  0.266667  0.770833  0.95122  0.234568  0.62  0.174897  0.759036  0.712175  0.782927  0.577181  0.613636"
      ]
     },
     "execution_count": 10,
     "metadata": {},
     "output_type": "execute_result"
    }
   ],
   "source": [
    "df06[df06['Player'] == player]"
   ]
  },
  {
   "cell_type": "markdown",
   "metadata": {},
   "source": [
    "### 6.3.2. <a id='toc6_3_2_'></a>[Full Chart](#toc0_)"
   ]
  },
  {
   "cell_type": "code",
   "execution_count": 34,
   "metadata": {},
   "outputs": [
    {
     "data": {
      "text/html": [
       "<div>\n",
       "<style scoped>\n",
       "    .dataframe tbody tr th:only-of-type {\n",
       "        vertical-align: middle;\n",
       "    }\n",
       "\n",
       "    .dataframe tbody tr th {\n",
       "        vertical-align: top;\n",
       "    }\n",
       "\n",
       "    .dataframe thead th {\n",
       "        text-align: right;\n",
       "    }\n",
       "</style>\n",
       "<table border=\"1\" class=\"dataframe\">\n",
       "  <thead>\n",
       "    <tr style=\"text-align: right;\">\n",
       "      <th></th>\n",
       "      <th>Giannis Antetokounmpo</th>\n",
       "    </tr>\n",
       "  </thead>\n",
       "  <tbody>\n",
       "    <tr>\n",
       "      <th>Player</th>\n",
       "      <td>Giannis Antetokounmpo</td>\n",
       "    </tr>\n",
       "    <tr>\n",
       "      <th>Player_additional</th>\n",
       "      <td>antetgi01</td>\n",
       "    </tr>\n",
       "    <tr>\n",
       "      <th>Pos</th>\n",
       "      <td>PF</td>\n",
       "    </tr>\n",
       "    <tr>\n",
       "      <th>Age</th>\n",
       "      <td>28</td>\n",
       "    </tr>\n",
       "    <tr>\n",
       "      <th>Tm</th>\n",
       "      <td>MIL</td>\n",
       "    </tr>\n",
       "    <tr>\n",
       "      <th>OBPM</th>\n",
       "      <td>0.351515</td>\n",
       "    </tr>\n",
       "    <tr>\n",
       "      <th>PTS</th>\n",
       "      <td>0.939577</td>\n",
       "    </tr>\n",
       "    <tr>\n",
       "      <th>FT%</th>\n",
       "      <td>0.645</td>\n",
       "    </tr>\n",
       "    <tr>\n",
       "      <th>2P%</th>\n",
       "      <td>0.596</td>\n",
       "    </tr>\n",
       "    <tr>\n",
       "      <th>3P%</th>\n",
       "      <td>0.275</td>\n",
       "    </tr>\n",
       "    <tr>\n",
       "      <th>TS%</th>\n",
       "      <td>0.568609</td>\n",
       "    </tr>\n",
       "    <tr>\n",
       "      <th>OWS</th>\n",
       "      <td>0.4375</td>\n",
       "    </tr>\n",
       "    <tr>\n",
       "      <th>AST</th>\n",
       "      <td>0.53271</td>\n",
       "    </tr>\n",
       "    <tr>\n",
       "      <th>ORB</th>\n",
       "      <td>0.431373</td>\n",
       "    </tr>\n",
       "    <tr>\n",
       "      <th>DBPM</th>\n",
       "      <td>0.082569</td>\n",
       "    </tr>\n",
       "    <tr>\n",
       "      <th>DRB</th>\n",
       "      <td>1.0</td>\n",
       "    </tr>\n",
       "    <tr>\n",
       "      <th>STL</th>\n",
       "      <td>0.266667</td>\n",
       "    </tr>\n",
       "    <tr>\n",
       "      <th>BLK</th>\n",
       "      <td>0.266667</td>\n",
       "    </tr>\n",
       "    <tr>\n",
       "      <th>DWS</th>\n",
       "      <td>0.770833</td>\n",
       "    </tr>\n",
       "    <tr>\n",
       "      <th>TOV</th>\n",
       "      <td>0.95122</td>\n",
       "    </tr>\n",
       "    <tr>\n",
       "      <th>GM</th>\n",
       "      <td>0.234568</td>\n",
       "    </tr>\n",
       "    <tr>\n",
       "      <th>PF</th>\n",
       "      <td>0.62</td>\n",
       "    </tr>\n",
       "    <tr>\n",
       "      <th>BPM</th>\n",
       "      <td>0.174897</td>\n",
       "    </tr>\n",
       "    <tr>\n",
       "      <th>G</th>\n",
       "      <td>0.759036</td>\n",
       "    </tr>\n",
       "    <tr>\n",
       "      <th>MP_Total</th>\n",
       "      <td>0.712175</td>\n",
       "    </tr>\n",
       "    <tr>\n",
       "      <th>MP</th>\n",
       "      <td>0.782927</td>\n",
       "    </tr>\n",
       "    <tr>\n",
       "      <th>WS</th>\n",
       "      <td>0.577181</td>\n",
       "    </tr>\n",
       "    <tr>\n",
       "      <th>VORP</th>\n",
       "      <td>0.613636</td>\n",
       "    </tr>\n",
       "  </tbody>\n",
       "</table>\n",
       "</div>"
      ],
      "text/plain": [
       "                   Giannis Antetokounmpo\n",
       "Player             Giannis Antetokounmpo\n",
       "Player_additional              antetgi01\n",
       "Pos                                   PF\n",
       "Age                                   28\n",
       "Tm                                   MIL\n",
       "OBPM                            0.351515\n",
       "PTS                             0.939577\n",
       "FT%                                0.645\n",
       "2P%                                0.596\n",
       "3P%                                0.275\n",
       "TS%                             0.568609\n",
       "OWS                               0.4375\n",
       "AST                              0.53271\n",
       "ORB                             0.431373\n",
       "DBPM                            0.082569\n",
       "DRB                                  1.0\n",
       "STL                             0.266667\n",
       "BLK                             0.266667\n",
       "DWS                             0.770833\n",
       "TOV                              0.95122\n",
       "GM                              0.234568\n",
       "PF                                  0.62\n",
       "BPM                             0.174897\n",
       "G                               0.759036\n",
       "MP_Total                        0.712175\n",
       "MP                              0.782927\n",
       "WS                              0.577181\n",
       "VORP                            0.613636"
      ]
     },
     "execution_count": 34,
     "metadata": {},
     "output_type": "execute_result"
    }
   ],
   "source": [
    "aux = df06[df06['Player'] == player].T\n",
    "aux.columns = [player]\n",
    "aux"
   ]
  },
  {
   "cell_type": "code",
   "execution_count": 35,
   "metadata": {},
   "outputs": [
    {
     "data": {
      "text/html": [
       "<div>\n",
       "<style scoped>\n",
       "    .dataframe tbody tr th:only-of-type {\n",
       "        vertical-align: middle;\n",
       "    }\n",
       "\n",
       "    .dataframe tbody tr th {\n",
       "        vertical-align: top;\n",
       "    }\n",
       "\n",
       "    .dataframe thead th {\n",
       "        text-align: right;\n",
       "    }\n",
       "</style>\n",
       "<table border=\"1\" class=\"dataframe\">\n",
       "  <thead>\n",
       "    <tr style=\"text-align: right;\">\n",
       "      <th></th>\n",
       "      <th>Giannis Antetokounmpo</th>\n",
       "    </tr>\n",
       "  </thead>\n",
       "  <tbody>\n",
       "    <tr>\n",
       "      <th>OBPM</th>\n",
       "      <td>0.351515</td>\n",
       "    </tr>\n",
       "    <tr>\n",
       "      <th>PTS</th>\n",
       "      <td>0.939577</td>\n",
       "    </tr>\n",
       "    <tr>\n",
       "      <th>FT%</th>\n",
       "      <td>0.645</td>\n",
       "    </tr>\n",
       "    <tr>\n",
       "      <th>2P%</th>\n",
       "      <td>0.596</td>\n",
       "    </tr>\n",
       "    <tr>\n",
       "      <th>3P%</th>\n",
       "      <td>0.275</td>\n",
       "    </tr>\n",
       "    <tr>\n",
       "      <th>TS%</th>\n",
       "      <td>0.568609</td>\n",
       "    </tr>\n",
       "    <tr>\n",
       "      <th>OWS</th>\n",
       "      <td>0.4375</td>\n",
       "    </tr>\n",
       "    <tr>\n",
       "      <th>AST</th>\n",
       "      <td>0.53271</td>\n",
       "    </tr>\n",
       "    <tr>\n",
       "      <th>ORB</th>\n",
       "      <td>0.431373</td>\n",
       "    </tr>\n",
       "    <tr>\n",
       "      <th>DBPM</th>\n",
       "      <td>0.082569</td>\n",
       "    </tr>\n",
       "    <tr>\n",
       "      <th>DRB</th>\n",
       "      <td>1.0</td>\n",
       "    </tr>\n",
       "    <tr>\n",
       "      <th>STL</th>\n",
       "      <td>0.266667</td>\n",
       "    </tr>\n",
       "    <tr>\n",
       "      <th>BLK</th>\n",
       "      <td>0.266667</td>\n",
       "    </tr>\n",
       "    <tr>\n",
       "      <th>DWS</th>\n",
       "      <td>0.770833</td>\n",
       "    </tr>\n",
       "    <tr>\n",
       "      <th>TOV</th>\n",
       "      <td>0.95122</td>\n",
       "    </tr>\n",
       "    <tr>\n",
       "      <th>GM</th>\n",
       "      <td>0.234568</td>\n",
       "    </tr>\n",
       "    <tr>\n",
       "      <th>PF</th>\n",
       "      <td>0.62</td>\n",
       "    </tr>\n",
       "    <tr>\n",
       "      <th>BPM</th>\n",
       "      <td>0.174897</td>\n",
       "    </tr>\n",
       "    <tr>\n",
       "      <th>G</th>\n",
       "      <td>0.759036</td>\n",
       "    </tr>\n",
       "    <tr>\n",
       "      <th>MP_Total</th>\n",
       "      <td>0.712175</td>\n",
       "    </tr>\n",
       "    <tr>\n",
       "      <th>MP</th>\n",
       "      <td>0.782927</td>\n",
       "    </tr>\n",
       "    <tr>\n",
       "      <th>WS</th>\n",
       "      <td>0.577181</td>\n",
       "    </tr>\n",
       "    <tr>\n",
       "      <th>VORP</th>\n",
       "      <td>0.613636</td>\n",
       "    </tr>\n",
       "  </tbody>\n",
       "</table>\n",
       "</div>"
      ],
      "text/plain": [
       "         Giannis Antetokounmpo\n",
       "OBPM                  0.351515\n",
       "PTS                   0.939577\n",
       "FT%                      0.645\n",
       "2P%                      0.596\n",
       "3P%                      0.275\n",
       "TS%                   0.568609\n",
       "OWS                     0.4375\n",
       "AST                    0.53271\n",
       "ORB                   0.431373\n",
       "DBPM                  0.082569\n",
       "DRB                        1.0\n",
       "STL                   0.266667\n",
       "BLK                   0.266667\n",
       "DWS                   0.770833\n",
       "TOV                    0.95122\n",
       "GM                    0.234568\n",
       "PF                        0.62\n",
       "BPM                   0.174897\n",
       "G                     0.759036\n",
       "MP_Total              0.712175\n",
       "MP                    0.782927\n",
       "WS                    0.577181\n",
       "VORP                  0.613636"
      ]
     },
     "execution_count": 35,
     "metadata": {},
     "output_type": "execute_result"
    }
   ],
   "source": [
    "aux2 = aux.drop(labels=['Player', 'Player_additional', 'Pos', 'Age', 'Tm'], axis = 0)\n",
    "aux2"
   ]
  },
  {
   "cell_type": "code",
   "execution_count": 36,
   "metadata": {},
   "outputs": [
    {
     "data": {
      "application/vnd.plotly.v1+json": {
       "config": {
        "plotlyServerURL": "https://plot.ly"
       },
       "data": [
        {
         "fill": "toself",
         "hovertemplate": "Giannis Antetokounmpo=%{r}<br>index=%{theta}<extra></extra>",
         "legendgroup": "",
         "line": {
          "color": "#f0f921",
          "dash": "solid"
         },
         "marker": {
          "symbol": "circle"
         },
         "mode": "lines",
         "name": "",
         "r": [
          0.3515151515151515,
          0.9395770392749244,
          0.645,
          0.596,
          0.275,
          0.5686090225563909,
          0.4375,
          0.5327102803738318,
          0.4313725490196079,
          0.0825688073394495,
          1,
          0.2666666666666666,
          0.2666666666666666,
          0.7708333333333334,
          0.951219512195122,
          0.2345679012345679,
          0.62,
          0.1748971193415637,
          0.7590361445783133,
          0.7121745249824067,
          0.7829268292682927,
          0.5771812080536912,
          0.6136363636363636,
          0.3515151515151515
         ],
         "showlegend": false,
         "subplot": "polar",
         "theta": [
          "OBPM",
          "PTS",
          "FT%",
          "2P%",
          "3P%",
          "TS%",
          "OWS",
          "AST",
          "ORB",
          "DBPM",
          "DRB",
          "STL",
          "BLK",
          "DWS",
          "TOV",
          "GM",
          "PF",
          "BPM",
          "G",
          "MP_Total",
          "MP",
          "WS",
          "VORP",
          "OBPM"
         ],
         "type": "scatterpolar"
        }
       ],
       "layout": {
        "height": 800,
        "legend": {
         "tracegroupgap": 0
        },
        "polar": {
         "angularaxis": {
          "direction": "clockwise",
          "rotation": 90
         },
         "domain": {
          "x": [
           0,
           1
          ],
          "y": [
           0,
           1
          ]
         },
         "radialaxis": {
          "range": [
           0,
           1
          ]
         }
        },
        "template": {
         "data": {
          "bar": [
           {
            "error_x": {
             "color": "#f2f5fa"
            },
            "error_y": {
             "color": "#f2f5fa"
            },
            "marker": {
             "line": {
              "color": "rgb(17,17,17)",
              "width": 0.5
             },
             "pattern": {
              "fillmode": "overlay",
              "size": 10,
              "solidity": 0.2
             }
            },
            "type": "bar"
           }
          ],
          "barpolar": [
           {
            "marker": {
             "line": {
              "color": "rgb(17,17,17)",
              "width": 0.5
             },
             "pattern": {
              "fillmode": "overlay",
              "size": 10,
              "solidity": 0.2
             }
            },
            "type": "barpolar"
           }
          ],
          "carpet": [
           {
            "aaxis": {
             "endlinecolor": "#A2B1C6",
             "gridcolor": "#506784",
             "linecolor": "#506784",
             "minorgridcolor": "#506784",
             "startlinecolor": "#A2B1C6"
            },
            "baxis": {
             "endlinecolor": "#A2B1C6",
             "gridcolor": "#506784",
             "linecolor": "#506784",
             "minorgridcolor": "#506784",
             "startlinecolor": "#A2B1C6"
            },
            "type": "carpet"
           }
          ],
          "choropleth": [
           {
            "colorbar": {
             "outlinewidth": 0,
             "ticks": ""
            },
            "type": "choropleth"
           }
          ],
          "contour": [
           {
            "colorbar": {
             "outlinewidth": 0,
             "ticks": ""
            },
            "colorscale": [
             [
              0,
              "#0d0887"
             ],
             [
              0.1111111111111111,
              "#46039f"
             ],
             [
              0.2222222222222222,
              "#7201a8"
             ],
             [
              0.3333333333333333,
              "#9c179e"
             ],
             [
              0.4444444444444444,
              "#bd3786"
             ],
             [
              0.5555555555555556,
              "#d8576b"
             ],
             [
              0.6666666666666666,
              "#ed7953"
             ],
             [
              0.7777777777777778,
              "#fb9f3a"
             ],
             [
              0.8888888888888888,
              "#fdca26"
             ],
             [
              1,
              "#f0f921"
             ]
            ],
            "type": "contour"
           }
          ],
          "contourcarpet": [
           {
            "colorbar": {
             "outlinewidth": 0,
             "ticks": ""
            },
            "type": "contourcarpet"
           }
          ],
          "heatmap": [
           {
            "colorbar": {
             "outlinewidth": 0,
             "ticks": ""
            },
            "colorscale": [
             [
              0,
              "#0d0887"
             ],
             [
              0.1111111111111111,
              "#46039f"
             ],
             [
              0.2222222222222222,
              "#7201a8"
             ],
             [
              0.3333333333333333,
              "#9c179e"
             ],
             [
              0.4444444444444444,
              "#bd3786"
             ],
             [
              0.5555555555555556,
              "#d8576b"
             ],
             [
              0.6666666666666666,
              "#ed7953"
             ],
             [
              0.7777777777777778,
              "#fb9f3a"
             ],
             [
              0.8888888888888888,
              "#fdca26"
             ],
             [
              1,
              "#f0f921"
             ]
            ],
            "type": "heatmap"
           }
          ],
          "heatmapgl": [
           {
            "colorbar": {
             "outlinewidth": 0,
             "ticks": ""
            },
            "colorscale": [
             [
              0,
              "#0d0887"
             ],
             [
              0.1111111111111111,
              "#46039f"
             ],
             [
              0.2222222222222222,
              "#7201a8"
             ],
             [
              0.3333333333333333,
              "#9c179e"
             ],
             [
              0.4444444444444444,
              "#bd3786"
             ],
             [
              0.5555555555555556,
              "#d8576b"
             ],
             [
              0.6666666666666666,
              "#ed7953"
             ],
             [
              0.7777777777777778,
              "#fb9f3a"
             ],
             [
              0.8888888888888888,
              "#fdca26"
             ],
             [
              1,
              "#f0f921"
             ]
            ],
            "type": "heatmapgl"
           }
          ],
          "histogram": [
           {
            "marker": {
             "pattern": {
              "fillmode": "overlay",
              "size": 10,
              "solidity": 0.2
             }
            },
            "type": "histogram"
           }
          ],
          "histogram2d": [
           {
            "colorbar": {
             "outlinewidth": 0,
             "ticks": ""
            },
            "colorscale": [
             [
              0,
              "#0d0887"
             ],
             [
              0.1111111111111111,
              "#46039f"
             ],
             [
              0.2222222222222222,
              "#7201a8"
             ],
             [
              0.3333333333333333,
              "#9c179e"
             ],
             [
              0.4444444444444444,
              "#bd3786"
             ],
             [
              0.5555555555555556,
              "#d8576b"
             ],
             [
              0.6666666666666666,
              "#ed7953"
             ],
             [
              0.7777777777777778,
              "#fb9f3a"
             ],
             [
              0.8888888888888888,
              "#fdca26"
             ],
             [
              1,
              "#f0f921"
             ]
            ],
            "type": "histogram2d"
           }
          ],
          "histogram2dcontour": [
           {
            "colorbar": {
             "outlinewidth": 0,
             "ticks": ""
            },
            "colorscale": [
             [
              0,
              "#0d0887"
             ],
             [
              0.1111111111111111,
              "#46039f"
             ],
             [
              0.2222222222222222,
              "#7201a8"
             ],
             [
              0.3333333333333333,
              "#9c179e"
             ],
             [
              0.4444444444444444,
              "#bd3786"
             ],
             [
              0.5555555555555556,
              "#d8576b"
             ],
             [
              0.6666666666666666,
              "#ed7953"
             ],
             [
              0.7777777777777778,
              "#fb9f3a"
             ],
             [
              0.8888888888888888,
              "#fdca26"
             ],
             [
              1,
              "#f0f921"
             ]
            ],
            "type": "histogram2dcontour"
           }
          ],
          "mesh3d": [
           {
            "colorbar": {
             "outlinewidth": 0,
             "ticks": ""
            },
            "type": "mesh3d"
           }
          ],
          "parcoords": [
           {
            "line": {
             "colorbar": {
              "outlinewidth": 0,
              "ticks": ""
             }
            },
            "type": "parcoords"
           }
          ],
          "pie": [
           {
            "automargin": true,
            "type": "pie"
           }
          ],
          "scatter": [
           {
            "marker": {
             "line": {
              "color": "#283442"
             }
            },
            "type": "scatter"
           }
          ],
          "scatter3d": [
           {
            "line": {
             "colorbar": {
              "outlinewidth": 0,
              "ticks": ""
             }
            },
            "marker": {
             "colorbar": {
              "outlinewidth": 0,
              "ticks": ""
             }
            },
            "type": "scatter3d"
           }
          ],
          "scattercarpet": [
           {
            "marker": {
             "colorbar": {
              "outlinewidth": 0,
              "ticks": ""
             }
            },
            "type": "scattercarpet"
           }
          ],
          "scattergeo": [
           {
            "marker": {
             "colorbar": {
              "outlinewidth": 0,
              "ticks": ""
             }
            },
            "type": "scattergeo"
           }
          ],
          "scattergl": [
           {
            "marker": {
             "line": {
              "color": "#283442"
             }
            },
            "type": "scattergl"
           }
          ],
          "scattermapbox": [
           {
            "marker": {
             "colorbar": {
              "outlinewidth": 0,
              "ticks": ""
             }
            },
            "type": "scattermapbox"
           }
          ],
          "scatterpolar": [
           {
            "marker": {
             "colorbar": {
              "outlinewidth": 0,
              "ticks": ""
             }
            },
            "type": "scatterpolar"
           }
          ],
          "scatterpolargl": [
           {
            "marker": {
             "colorbar": {
              "outlinewidth": 0,
              "ticks": ""
             }
            },
            "type": "scatterpolargl"
           }
          ],
          "scatterternary": [
           {
            "marker": {
             "colorbar": {
              "outlinewidth": 0,
              "ticks": ""
             }
            },
            "type": "scatterternary"
           }
          ],
          "surface": [
           {
            "colorbar": {
             "outlinewidth": 0,
             "ticks": ""
            },
            "colorscale": [
             [
              0,
              "#0d0887"
             ],
             [
              0.1111111111111111,
              "#46039f"
             ],
             [
              0.2222222222222222,
              "#7201a8"
             ],
             [
              0.3333333333333333,
              "#9c179e"
             ],
             [
              0.4444444444444444,
              "#bd3786"
             ],
             [
              0.5555555555555556,
              "#d8576b"
             ],
             [
              0.6666666666666666,
              "#ed7953"
             ],
             [
              0.7777777777777778,
              "#fb9f3a"
             ],
             [
              0.8888888888888888,
              "#fdca26"
             ],
             [
              1,
              "#f0f921"
             ]
            ],
            "type": "surface"
           }
          ],
          "table": [
           {
            "cells": {
             "fill": {
              "color": "#506784"
             },
             "line": {
              "color": "rgb(17,17,17)"
             }
            },
            "header": {
             "fill": {
              "color": "#2a3f5f"
             },
             "line": {
              "color": "rgb(17,17,17)"
             }
            },
            "type": "table"
           }
          ]
         },
         "layout": {
          "annotationdefaults": {
           "arrowcolor": "#f2f5fa",
           "arrowhead": 0,
           "arrowwidth": 1
          },
          "autotypenumbers": "strict",
          "coloraxis": {
           "colorbar": {
            "outlinewidth": 0,
            "ticks": ""
           }
          },
          "colorscale": {
           "diverging": [
            [
             0,
             "#8e0152"
            ],
            [
             0.1,
             "#c51b7d"
            ],
            [
             0.2,
             "#de77ae"
            ],
            [
             0.3,
             "#f1b6da"
            ],
            [
             0.4,
             "#fde0ef"
            ],
            [
             0.5,
             "#f7f7f7"
            ],
            [
             0.6,
             "#e6f5d0"
            ],
            [
             0.7,
             "#b8e186"
            ],
            [
             0.8,
             "#7fbc41"
            ],
            [
             0.9,
             "#4d9221"
            ],
            [
             1,
             "#276419"
            ]
           ],
           "sequential": [
            [
             0,
             "#0d0887"
            ],
            [
             0.1111111111111111,
             "#46039f"
            ],
            [
             0.2222222222222222,
             "#7201a8"
            ],
            [
             0.3333333333333333,
             "#9c179e"
            ],
            [
             0.4444444444444444,
             "#bd3786"
            ],
            [
             0.5555555555555556,
             "#d8576b"
            ],
            [
             0.6666666666666666,
             "#ed7953"
            ],
            [
             0.7777777777777778,
             "#fb9f3a"
            ],
            [
             0.8888888888888888,
             "#fdca26"
            ],
            [
             1,
             "#f0f921"
            ]
           ],
           "sequentialminus": [
            [
             0,
             "#0d0887"
            ],
            [
             0.1111111111111111,
             "#46039f"
            ],
            [
             0.2222222222222222,
             "#7201a8"
            ],
            [
             0.3333333333333333,
             "#9c179e"
            ],
            [
             0.4444444444444444,
             "#bd3786"
            ],
            [
             0.5555555555555556,
             "#d8576b"
            ],
            [
             0.6666666666666666,
             "#ed7953"
            ],
            [
             0.7777777777777778,
             "#fb9f3a"
            ],
            [
             0.8888888888888888,
             "#fdca26"
            ],
            [
             1,
             "#f0f921"
            ]
           ]
          },
          "colorway": [
           "#636efa",
           "#EF553B",
           "#00cc96",
           "#ab63fa",
           "#FFA15A",
           "#19d3f3",
           "#FF6692",
           "#B6E880",
           "#FF97FF",
           "#FECB52"
          ],
          "font": {
           "color": "#f2f5fa"
          },
          "geo": {
           "bgcolor": "rgb(17,17,17)",
           "lakecolor": "rgb(17,17,17)",
           "landcolor": "rgb(17,17,17)",
           "showlakes": true,
           "showland": true,
           "subunitcolor": "#506784"
          },
          "hoverlabel": {
           "align": "left"
          },
          "hovermode": "closest",
          "mapbox": {
           "style": "dark"
          },
          "paper_bgcolor": "rgb(17,17,17)",
          "plot_bgcolor": "rgb(17,17,17)",
          "polar": {
           "angularaxis": {
            "gridcolor": "#506784",
            "linecolor": "#506784",
            "ticks": ""
           },
           "bgcolor": "rgb(17,17,17)",
           "radialaxis": {
            "gridcolor": "#506784",
            "linecolor": "#506784",
            "ticks": ""
           }
          },
          "scene": {
           "xaxis": {
            "backgroundcolor": "rgb(17,17,17)",
            "gridcolor": "#506784",
            "gridwidth": 2,
            "linecolor": "#506784",
            "showbackground": true,
            "ticks": "",
            "zerolinecolor": "#C8D4E3"
           },
           "yaxis": {
            "backgroundcolor": "rgb(17,17,17)",
            "gridcolor": "#506784",
            "gridwidth": 2,
            "linecolor": "#506784",
            "showbackground": true,
            "ticks": "",
            "zerolinecolor": "#C8D4E3"
           },
           "zaxis": {
            "backgroundcolor": "rgb(17,17,17)",
            "gridcolor": "#506784",
            "gridwidth": 2,
            "linecolor": "#506784",
            "showbackground": true,
            "ticks": "",
            "zerolinecolor": "#C8D4E3"
           }
          },
          "shapedefaults": {
           "line": {
            "color": "#f2f5fa"
           }
          },
          "sliderdefaults": {
           "bgcolor": "#C8D4E3",
           "bordercolor": "rgb(17,17,17)",
           "borderwidth": 1,
           "tickwidth": 0
          },
          "ternary": {
           "aaxis": {
            "gridcolor": "#506784",
            "linecolor": "#506784",
            "ticks": ""
           },
           "baxis": {
            "gridcolor": "#506784",
            "linecolor": "#506784",
            "ticks": ""
           },
           "bgcolor": "rgb(17,17,17)",
           "caxis": {
            "gridcolor": "#506784",
            "linecolor": "#506784",
            "ticks": ""
           }
          },
          "title": {
           "x": 0.05
          },
          "updatemenudefaults": {
           "bgcolor": "#506784",
           "borderwidth": 0
          },
          "xaxis": {
           "automargin": true,
           "gridcolor": "#283442",
           "linecolor": "#506784",
           "ticks": "",
           "title": {
            "standoff": 15
           },
           "zerolinecolor": "#283442",
           "zerolinewidth": 2
          },
          "yaxis": {
           "automargin": true,
           "gridcolor": "#283442",
           "linecolor": "#506784",
           "ticks": "",
           "title": {
            "standoff": 15
           },
           "zerolinecolor": "#283442",
           "zerolinewidth": 2
          }
         }
        },
        "title": {
         "text": "Full Chart - Giannis Antetokounmpo",
         "x": 0.5
        },
        "width": 800
       }
      }
     },
     "metadata": {},
     "output_type": "display_data"
    }
   ],
   "source": [
    "\n",
    "fig_full = px.line_polar(data_frame=aux2,\n",
    "             r=player,\n",
    "             theta=aux2.index,\n",
    "             color_discrete_sequence=px.colors.sequential.Plasma_r, \n",
    "             template=\"plotly_dark\",\n",
    "             title= f\"Offensive - {player}\",\n",
    "             line_close=True,\n",
    "             markers=False,\n",
    "             range_r=[0, 1])\n",
    "fig_full.update_layout(title_text=f\"Full Chart - {player}\", \n",
    "                       title_x=0.5,\n",
    "                       width=800, height=800)\n",
    "fig_full.update_traces(fill = 'toself')"
   ]
  },
  {
   "attachments": {},
   "cell_type": "markdown",
   "metadata": {},
   "source": [
    "## 6.3. <a id='toc6_3_5_'></a>[A different approach](#toc0_)\n",
    "[] Refactor the code to **aux** dataframe using a single function: `def selection`"
   ]
  },
  {
   "cell_type": "code",
   "execution_count": 39,
   "metadata": {},
   "outputs": [],
   "source": [
    "playerA = 'Giannis Antetokounmpo'\n",
    "playerB = 'Jayson Tatum'"
   ]
  },
  {
   "cell_type": "markdown",
   "metadata": {},
   "source": [
    "### 6.3.6. <a id='toc6_3_6_'></a>[Offensive comparison chart- Describing features: Player, Player_additional, Pos, Age, TM,](#toc0_)\n",
    "- Offensive metrics: OBPM, PTS, FT, 2P, 3P, TS%, AST, OWS"
   ]
  },
  {
   "cell_type": "code",
   "execution_count": 37,
   "metadata": {},
   "outputs": [],
   "source": [
    "offensive_features = ['PTS', 'FT%', '2P%', '3P%', 'TS%', 'AST', 'OWS']"
   ]
  },
  {
   "cell_type": "code",
   "execution_count": 40,
   "metadata": {},
   "outputs": [
    {
     "data": {
      "text/html": [
       "<div>\n",
       "<style scoped>\n",
       "    .dataframe tbody tr th:only-of-type {\n",
       "        vertical-align: middle;\n",
       "    }\n",
       "\n",
       "    .dataframe tbody tr th {\n",
       "        vertical-align: top;\n",
       "    }\n",
       "\n",
       "    .dataframe thead th {\n",
       "        text-align: right;\n",
       "    }\n",
       "</style>\n",
       "<table border=\"1\" class=\"dataframe\">\n",
       "  <thead>\n",
       "    <tr style=\"text-align: right;\">\n",
       "      <th></th>\n",
       "      <th>Giannis Antetokounmpo</th>\n",
       "    </tr>\n",
       "  </thead>\n",
       "  <tbody>\n",
       "    <tr>\n",
       "      <th>PTS</th>\n",
       "      <td>0.939577</td>\n",
       "    </tr>\n",
       "    <tr>\n",
       "      <th>FT%</th>\n",
       "      <td>0.645000</td>\n",
       "    </tr>\n",
       "    <tr>\n",
       "      <th>2P%</th>\n",
       "      <td>0.596000</td>\n",
       "    </tr>\n",
       "    <tr>\n",
       "      <th>3P%</th>\n",
       "      <td>0.275000</td>\n",
       "    </tr>\n",
       "    <tr>\n",
       "      <th>TS%</th>\n",
       "      <td>0.568609</td>\n",
       "    </tr>\n",
       "    <tr>\n",
       "      <th>AST</th>\n",
       "      <td>0.532710</td>\n",
       "    </tr>\n",
       "    <tr>\n",
       "      <th>OWS</th>\n",
       "      <td>0.437500</td>\n",
       "    </tr>\n",
       "  </tbody>\n",
       "</table>\n",
       "</div>"
      ],
      "text/plain": [
       "     Giannis Antetokounmpo\n",
       "PTS               0.939577\n",
       "FT%               0.645000\n",
       "2P%               0.596000\n",
       "3P%               0.275000\n",
       "TS%               0.568609\n",
       "AST               0.532710\n",
       "OWS               0.437500"
      ]
     },
     "execution_count": 40,
     "metadata": {},
     "output_type": "execute_result"
    }
   ],
   "source": [
    "auxA = df06[df06['Player'] == playerA][offensive_features].T\n",
    "auxA.columns = [playerA]\n",
    "auxA"
   ]
  },
  {
   "cell_type": "code",
   "execution_count": 41,
   "metadata": {},
   "outputs": [
    {
     "data": {
      "text/html": [
       "<div>\n",
       "<style scoped>\n",
       "    .dataframe tbody tr th:only-of-type {\n",
       "        vertical-align: middle;\n",
       "    }\n",
       "\n",
       "    .dataframe tbody tr th {\n",
       "        vertical-align: top;\n",
       "    }\n",
       "\n",
       "    .dataframe thead th {\n",
       "        text-align: right;\n",
       "    }\n",
       "</style>\n",
       "<table border=\"1\" class=\"dataframe\">\n",
       "  <thead>\n",
       "    <tr style=\"text-align: right;\">\n",
       "      <th></th>\n",
       "      <th>Jayson Tatum</th>\n",
       "    </tr>\n",
       "  </thead>\n",
       "  <tbody>\n",
       "    <tr>\n",
       "      <th>PTS</th>\n",
       "      <td>0.909366</td>\n",
       "    </tr>\n",
       "    <tr>\n",
       "      <th>FT%</th>\n",
       "      <td>0.854000</td>\n",
       "    </tr>\n",
       "    <tr>\n",
       "      <th>2P%</th>\n",
       "      <td>0.558000</td>\n",
       "    </tr>\n",
       "    <tr>\n",
       "      <th>3P%</th>\n",
       "      <td>0.350000</td>\n",
       "    </tr>\n",
       "    <tr>\n",
       "      <th>TS%</th>\n",
       "      <td>0.570489</td>\n",
       "    </tr>\n",
       "    <tr>\n",
       "      <th>AST</th>\n",
       "      <td>0.429907</td>\n",
       "    </tr>\n",
       "    <tr>\n",
       "      <th>OWS</th>\n",
       "      <td>0.553571</td>\n",
       "    </tr>\n",
       "  </tbody>\n",
       "</table>\n",
       "</div>"
      ],
      "text/plain": [
       "     Jayson Tatum\n",
       "PTS      0.909366\n",
       "FT%      0.854000\n",
       "2P%      0.558000\n",
       "3P%      0.350000\n",
       "TS%      0.570489\n",
       "AST      0.429907\n",
       "OWS      0.553571"
      ]
     },
     "execution_count": 41,
     "metadata": {},
     "output_type": "execute_result"
    }
   ],
   "source": [
    "auxB = df06[df06['Player'] == playerB][offensive_features].T\n",
    "auxB.columns = [playerB]\n",
    "auxB"
   ]
  },
  {
   "cell_type": "code",
   "execution_count": 42,
   "metadata": {},
   "outputs": [
    {
     "data": {
      "application/vnd.plotly.v1+json": {
       "config": {
        "plotlyServerURL": "https://plot.ly"
       },
       "data": [
        {
         "fill": "toself",
         "name": "Giannis Antetokounmpo",
         "r": [
          0.9395770392749244,
          0.645,
          0.596,
          0.275,
          0.5686090225563909,
          0.5327102803738318,
          0.4375
         ],
         "theta": [
          "PTS",
          "FT%",
          "2P%",
          "3P%",
          "TS%",
          "AST",
          "OWS"
         ],
         "type": "scatterpolar"
        },
        {
         "fill": "toself",
         "name": "Jayson Tatum",
         "r": [
          0.9093655589123868,
          0.854,
          0.558,
          0.35,
          0.5704887218045113,
          0.4299065420560747,
          0.5535714285714286
         ],
         "theta": [
          "PTS",
          "FT%",
          "2P%",
          "3P%",
          "TS%",
          "AST",
          "OWS"
         ],
         "type": "scatterpolar"
        }
       ],
       "layout": {
        "height": 800,
        "polar": {
         "radialaxis": {
          "range": [
           0,
           1
          ],
          "visible": true
         }
        },
        "showlegend": true,
        "template": {
         "data": {
          "bar": [
           {
            "error_x": {
             "color": "#f2f5fa"
            },
            "error_y": {
             "color": "#f2f5fa"
            },
            "marker": {
             "line": {
              "color": "rgb(17,17,17)",
              "width": 0.5
             },
             "pattern": {
              "fillmode": "overlay",
              "size": 10,
              "solidity": 0.2
             }
            },
            "type": "bar"
           }
          ],
          "barpolar": [
           {
            "marker": {
             "line": {
              "color": "rgb(17,17,17)",
              "width": 0.5
             },
             "pattern": {
              "fillmode": "overlay",
              "size": 10,
              "solidity": 0.2
             }
            },
            "type": "barpolar"
           }
          ],
          "carpet": [
           {
            "aaxis": {
             "endlinecolor": "#A2B1C6",
             "gridcolor": "#506784",
             "linecolor": "#506784",
             "minorgridcolor": "#506784",
             "startlinecolor": "#A2B1C6"
            },
            "baxis": {
             "endlinecolor": "#A2B1C6",
             "gridcolor": "#506784",
             "linecolor": "#506784",
             "minorgridcolor": "#506784",
             "startlinecolor": "#A2B1C6"
            },
            "type": "carpet"
           }
          ],
          "choropleth": [
           {
            "colorbar": {
             "outlinewidth": 0,
             "ticks": ""
            },
            "type": "choropleth"
           }
          ],
          "contour": [
           {
            "colorbar": {
             "outlinewidth": 0,
             "ticks": ""
            },
            "colorscale": [
             [
              0,
              "#0d0887"
             ],
             [
              0.1111111111111111,
              "#46039f"
             ],
             [
              0.2222222222222222,
              "#7201a8"
             ],
             [
              0.3333333333333333,
              "#9c179e"
             ],
             [
              0.4444444444444444,
              "#bd3786"
             ],
             [
              0.5555555555555556,
              "#d8576b"
             ],
             [
              0.6666666666666666,
              "#ed7953"
             ],
             [
              0.7777777777777778,
              "#fb9f3a"
             ],
             [
              0.8888888888888888,
              "#fdca26"
             ],
             [
              1,
              "#f0f921"
             ]
            ],
            "type": "contour"
           }
          ],
          "contourcarpet": [
           {
            "colorbar": {
             "outlinewidth": 0,
             "ticks": ""
            },
            "type": "contourcarpet"
           }
          ],
          "heatmap": [
           {
            "colorbar": {
             "outlinewidth": 0,
             "ticks": ""
            },
            "colorscale": [
             [
              0,
              "#0d0887"
             ],
             [
              0.1111111111111111,
              "#46039f"
             ],
             [
              0.2222222222222222,
              "#7201a8"
             ],
             [
              0.3333333333333333,
              "#9c179e"
             ],
             [
              0.4444444444444444,
              "#bd3786"
             ],
             [
              0.5555555555555556,
              "#d8576b"
             ],
             [
              0.6666666666666666,
              "#ed7953"
             ],
             [
              0.7777777777777778,
              "#fb9f3a"
             ],
             [
              0.8888888888888888,
              "#fdca26"
             ],
             [
              1,
              "#f0f921"
             ]
            ],
            "type": "heatmap"
           }
          ],
          "heatmapgl": [
           {
            "colorbar": {
             "outlinewidth": 0,
             "ticks": ""
            },
            "colorscale": [
             [
              0,
              "#0d0887"
             ],
             [
              0.1111111111111111,
              "#46039f"
             ],
             [
              0.2222222222222222,
              "#7201a8"
             ],
             [
              0.3333333333333333,
              "#9c179e"
             ],
             [
              0.4444444444444444,
              "#bd3786"
             ],
             [
              0.5555555555555556,
              "#d8576b"
             ],
             [
              0.6666666666666666,
              "#ed7953"
             ],
             [
              0.7777777777777778,
              "#fb9f3a"
             ],
             [
              0.8888888888888888,
              "#fdca26"
             ],
             [
              1,
              "#f0f921"
             ]
            ],
            "type": "heatmapgl"
           }
          ],
          "histogram": [
           {
            "marker": {
             "pattern": {
              "fillmode": "overlay",
              "size": 10,
              "solidity": 0.2
             }
            },
            "type": "histogram"
           }
          ],
          "histogram2d": [
           {
            "colorbar": {
             "outlinewidth": 0,
             "ticks": ""
            },
            "colorscale": [
             [
              0,
              "#0d0887"
             ],
             [
              0.1111111111111111,
              "#46039f"
             ],
             [
              0.2222222222222222,
              "#7201a8"
             ],
             [
              0.3333333333333333,
              "#9c179e"
             ],
             [
              0.4444444444444444,
              "#bd3786"
             ],
             [
              0.5555555555555556,
              "#d8576b"
             ],
             [
              0.6666666666666666,
              "#ed7953"
             ],
             [
              0.7777777777777778,
              "#fb9f3a"
             ],
             [
              0.8888888888888888,
              "#fdca26"
             ],
             [
              1,
              "#f0f921"
             ]
            ],
            "type": "histogram2d"
           }
          ],
          "histogram2dcontour": [
           {
            "colorbar": {
             "outlinewidth": 0,
             "ticks": ""
            },
            "colorscale": [
             [
              0,
              "#0d0887"
             ],
             [
              0.1111111111111111,
              "#46039f"
             ],
             [
              0.2222222222222222,
              "#7201a8"
             ],
             [
              0.3333333333333333,
              "#9c179e"
             ],
             [
              0.4444444444444444,
              "#bd3786"
             ],
             [
              0.5555555555555556,
              "#d8576b"
             ],
             [
              0.6666666666666666,
              "#ed7953"
             ],
             [
              0.7777777777777778,
              "#fb9f3a"
             ],
             [
              0.8888888888888888,
              "#fdca26"
             ],
             [
              1,
              "#f0f921"
             ]
            ],
            "type": "histogram2dcontour"
           }
          ],
          "mesh3d": [
           {
            "colorbar": {
             "outlinewidth": 0,
             "ticks": ""
            },
            "type": "mesh3d"
           }
          ],
          "parcoords": [
           {
            "line": {
             "colorbar": {
              "outlinewidth": 0,
              "ticks": ""
             }
            },
            "type": "parcoords"
           }
          ],
          "pie": [
           {
            "automargin": true,
            "type": "pie"
           }
          ],
          "scatter": [
           {
            "marker": {
             "line": {
              "color": "#283442"
             }
            },
            "type": "scatter"
           }
          ],
          "scatter3d": [
           {
            "line": {
             "colorbar": {
              "outlinewidth": 0,
              "ticks": ""
             }
            },
            "marker": {
             "colorbar": {
              "outlinewidth": 0,
              "ticks": ""
             }
            },
            "type": "scatter3d"
           }
          ],
          "scattercarpet": [
           {
            "marker": {
             "colorbar": {
              "outlinewidth": 0,
              "ticks": ""
             }
            },
            "type": "scattercarpet"
           }
          ],
          "scattergeo": [
           {
            "marker": {
             "colorbar": {
              "outlinewidth": 0,
              "ticks": ""
             }
            },
            "type": "scattergeo"
           }
          ],
          "scattergl": [
           {
            "marker": {
             "line": {
              "color": "#283442"
             }
            },
            "type": "scattergl"
           }
          ],
          "scattermapbox": [
           {
            "marker": {
             "colorbar": {
              "outlinewidth": 0,
              "ticks": ""
             }
            },
            "type": "scattermapbox"
           }
          ],
          "scatterpolar": [
           {
            "marker": {
             "colorbar": {
              "outlinewidth": 0,
              "ticks": ""
             }
            },
            "type": "scatterpolar"
           }
          ],
          "scatterpolargl": [
           {
            "marker": {
             "colorbar": {
              "outlinewidth": 0,
              "ticks": ""
             }
            },
            "type": "scatterpolargl"
           }
          ],
          "scatterternary": [
           {
            "marker": {
             "colorbar": {
              "outlinewidth": 0,
              "ticks": ""
             }
            },
            "type": "scatterternary"
           }
          ],
          "surface": [
           {
            "colorbar": {
             "outlinewidth": 0,
             "ticks": ""
            },
            "colorscale": [
             [
              0,
              "#0d0887"
             ],
             [
              0.1111111111111111,
              "#46039f"
             ],
             [
              0.2222222222222222,
              "#7201a8"
             ],
             [
              0.3333333333333333,
              "#9c179e"
             ],
             [
              0.4444444444444444,
              "#bd3786"
             ],
             [
              0.5555555555555556,
              "#d8576b"
             ],
             [
              0.6666666666666666,
              "#ed7953"
             ],
             [
              0.7777777777777778,
              "#fb9f3a"
             ],
             [
              0.8888888888888888,
              "#fdca26"
             ],
             [
              1,
              "#f0f921"
             ]
            ],
            "type": "surface"
           }
          ],
          "table": [
           {
            "cells": {
             "fill": {
              "color": "#506784"
             },
             "line": {
              "color": "rgb(17,17,17)"
             }
            },
            "header": {
             "fill": {
              "color": "#2a3f5f"
             },
             "line": {
              "color": "rgb(17,17,17)"
             }
            },
            "type": "table"
           }
          ]
         },
         "layout": {
          "annotationdefaults": {
           "arrowcolor": "#f2f5fa",
           "arrowhead": 0,
           "arrowwidth": 1
          },
          "autotypenumbers": "strict",
          "coloraxis": {
           "colorbar": {
            "outlinewidth": 0,
            "ticks": ""
           }
          },
          "colorscale": {
           "diverging": [
            [
             0,
             "#8e0152"
            ],
            [
             0.1,
             "#c51b7d"
            ],
            [
             0.2,
             "#de77ae"
            ],
            [
             0.3,
             "#f1b6da"
            ],
            [
             0.4,
             "#fde0ef"
            ],
            [
             0.5,
             "#f7f7f7"
            ],
            [
             0.6,
             "#e6f5d0"
            ],
            [
             0.7,
             "#b8e186"
            ],
            [
             0.8,
             "#7fbc41"
            ],
            [
             0.9,
             "#4d9221"
            ],
            [
             1,
             "#276419"
            ]
           ],
           "sequential": [
            [
             0,
             "#0d0887"
            ],
            [
             0.1111111111111111,
             "#46039f"
            ],
            [
             0.2222222222222222,
             "#7201a8"
            ],
            [
             0.3333333333333333,
             "#9c179e"
            ],
            [
             0.4444444444444444,
             "#bd3786"
            ],
            [
             0.5555555555555556,
             "#d8576b"
            ],
            [
             0.6666666666666666,
             "#ed7953"
            ],
            [
             0.7777777777777778,
             "#fb9f3a"
            ],
            [
             0.8888888888888888,
             "#fdca26"
            ],
            [
             1,
             "#f0f921"
            ]
           ],
           "sequentialminus": [
            [
             0,
             "#0d0887"
            ],
            [
             0.1111111111111111,
             "#46039f"
            ],
            [
             0.2222222222222222,
             "#7201a8"
            ],
            [
             0.3333333333333333,
             "#9c179e"
            ],
            [
             0.4444444444444444,
             "#bd3786"
            ],
            [
             0.5555555555555556,
             "#d8576b"
            ],
            [
             0.6666666666666666,
             "#ed7953"
            ],
            [
             0.7777777777777778,
             "#fb9f3a"
            ],
            [
             0.8888888888888888,
             "#fdca26"
            ],
            [
             1,
             "#f0f921"
            ]
           ]
          },
          "colorway": [
           "#636efa",
           "#EF553B",
           "#00cc96",
           "#ab63fa",
           "#FFA15A",
           "#19d3f3",
           "#FF6692",
           "#B6E880",
           "#FF97FF",
           "#FECB52"
          ],
          "font": {
           "color": "#f2f5fa"
          },
          "geo": {
           "bgcolor": "rgb(17,17,17)",
           "lakecolor": "rgb(17,17,17)",
           "landcolor": "rgb(17,17,17)",
           "showlakes": true,
           "showland": true,
           "subunitcolor": "#506784"
          },
          "hoverlabel": {
           "align": "left"
          },
          "hovermode": "closest",
          "mapbox": {
           "style": "dark"
          },
          "paper_bgcolor": "rgb(17,17,17)",
          "plot_bgcolor": "rgb(17,17,17)",
          "polar": {
           "angularaxis": {
            "gridcolor": "#506784",
            "linecolor": "#506784",
            "ticks": ""
           },
           "bgcolor": "rgb(17,17,17)",
           "radialaxis": {
            "gridcolor": "#506784",
            "linecolor": "#506784",
            "ticks": ""
           }
          },
          "scene": {
           "xaxis": {
            "backgroundcolor": "rgb(17,17,17)",
            "gridcolor": "#506784",
            "gridwidth": 2,
            "linecolor": "#506784",
            "showbackground": true,
            "ticks": "",
            "zerolinecolor": "#C8D4E3"
           },
           "yaxis": {
            "backgroundcolor": "rgb(17,17,17)",
            "gridcolor": "#506784",
            "gridwidth": 2,
            "linecolor": "#506784",
            "showbackground": true,
            "ticks": "",
            "zerolinecolor": "#C8D4E3"
           },
           "zaxis": {
            "backgroundcolor": "rgb(17,17,17)",
            "gridcolor": "#506784",
            "gridwidth": 2,
            "linecolor": "#506784",
            "showbackground": true,
            "ticks": "",
            "zerolinecolor": "#C8D4E3"
           }
          },
          "shapedefaults": {
           "line": {
            "color": "#f2f5fa"
           }
          },
          "sliderdefaults": {
           "bgcolor": "#C8D4E3",
           "bordercolor": "rgb(17,17,17)",
           "borderwidth": 1,
           "tickwidth": 0
          },
          "ternary": {
           "aaxis": {
            "gridcolor": "#506784",
            "linecolor": "#506784",
            "ticks": ""
           },
           "baxis": {
            "gridcolor": "#506784",
            "linecolor": "#506784",
            "ticks": ""
           },
           "bgcolor": "rgb(17,17,17)",
           "caxis": {
            "gridcolor": "#506784",
            "linecolor": "#506784",
            "ticks": ""
           }
          },
          "title": {
           "x": 0.05
          },
          "updatemenudefaults": {
           "bgcolor": "#506784",
           "borderwidth": 0
          },
          "xaxis": {
           "automargin": true,
           "gridcolor": "#283442",
           "linecolor": "#506784",
           "ticks": "",
           "title": {
            "standoff": 15
           },
           "zerolinecolor": "#283442",
           "zerolinewidth": 2
          },
          "yaxis": {
           "automargin": true,
           "gridcolor": "#283442",
           "linecolor": "#506784",
           "ticks": "",
           "title": {
            "standoff": 15
           },
           "zerolinecolor": "#283442",
           "zerolinewidth": 2
          }
         }
        },
        "title": {
         "text": "Offensive Features"
        },
        "width": 800
       }
      }
     },
     "metadata": {},
     "output_type": "display_data"
    }
   ],
   "source": [
    "plt.rcParams['figure.figsize'] = [8, 8]\n",
    "\n",
    "fig = go.Figure()\n",
    "\n",
    "fig.add_trace(go.Scatterpolar(\n",
    "      r=auxA[playerA],\n",
    "      theta=offensive_features,\n",
    "      fill='toself',\n",
    "      name=playerA\n",
    "))\n",
    "\n",
    "fig.add_trace(go.Scatterpolar(\n",
    "      r=auxB[playerB],\n",
    "      theta=offensive_features,\n",
    "      fill='toself',\n",
    "      name=playerB\n",
    "))\n",
    "\n",
    "fig.update_layout(\n",
    "  polar=dict(\n",
    "    radialaxis=dict(\n",
    "      visible=True,\n",
    "      range=[0, 1]\n",
    "    )),\n",
    "  showlegend=True,\n",
    "  width=800, height=800,\n",
    "  template=\"plotly_dark\",\n",
    "  title = 'Offensive Features'\n",
    ")\n",
    "\n",
    "fig.show()"
   ]
  },
  {
   "cell_type": "markdown",
   "metadata": {},
   "source": [
    "### 6.3.7. <a id='toc6_3_7_'></a>[Defensive comparison chart- Describing features: Player, Player_additional, Pos, Age, TM,](#toc0_)\n",
    "- Defensive metrics: DBPM, ORB, DRB, STL, BLK, DWS"
   ]
  },
  {
   "cell_type": "code",
   "execution_count": 43,
   "metadata": {},
   "outputs": [],
   "source": [
    "defensive_features = ['ORB', 'DRB', 'STL', 'BLK', 'DWS']"
   ]
  },
  {
   "cell_type": "code",
   "execution_count": 44,
   "metadata": {},
   "outputs": [],
   "source": [
    "playerA = 'Giannis Antetokounmpo'\n",
    "playerB = 'Jayson Tatum'"
   ]
  },
  {
   "cell_type": "code",
   "execution_count": 45,
   "metadata": {},
   "outputs": [
    {
     "data": {
      "text/html": [
       "<div>\n",
       "<style scoped>\n",
       "    .dataframe tbody tr th:only-of-type {\n",
       "        vertical-align: middle;\n",
       "    }\n",
       "\n",
       "    .dataframe tbody tr th {\n",
       "        vertical-align: top;\n",
       "    }\n",
       "\n",
       "    .dataframe thead th {\n",
       "        text-align: right;\n",
       "    }\n",
       "</style>\n",
       "<table border=\"1\" class=\"dataframe\">\n",
       "  <thead>\n",
       "    <tr style=\"text-align: right;\">\n",
       "      <th></th>\n",
       "      <th>Giannis Antetokounmpo</th>\n",
       "    </tr>\n",
       "  </thead>\n",
       "  <tbody>\n",
       "    <tr>\n",
       "      <th>ORB</th>\n",
       "      <td>0.431373</td>\n",
       "    </tr>\n",
       "    <tr>\n",
       "      <th>DRB</th>\n",
       "      <td>1.000000</td>\n",
       "    </tr>\n",
       "    <tr>\n",
       "      <th>STL</th>\n",
       "      <td>0.266667</td>\n",
       "    </tr>\n",
       "    <tr>\n",
       "      <th>BLK</th>\n",
       "      <td>0.266667</td>\n",
       "    </tr>\n",
       "    <tr>\n",
       "      <th>DWS</th>\n",
       "      <td>0.770833</td>\n",
       "    </tr>\n",
       "  </tbody>\n",
       "</table>\n",
       "</div>"
      ],
      "text/plain": [
       "     Giannis Antetokounmpo\n",
       "ORB               0.431373\n",
       "DRB               1.000000\n",
       "STL               0.266667\n",
       "BLK               0.266667\n",
       "DWS               0.770833"
      ]
     },
     "execution_count": 45,
     "metadata": {},
     "output_type": "execute_result"
    }
   ],
   "source": [
    "auxA = df06[df06['Player'] == playerA][defensive_features].T\n",
    "auxA.columns = [playerA]\n",
    "auxA"
   ]
  },
  {
   "cell_type": "code",
   "execution_count": 46,
   "metadata": {},
   "outputs": [
    {
     "data": {
      "text/html": [
       "<div>\n",
       "<style scoped>\n",
       "    .dataframe tbody tr th:only-of-type {\n",
       "        vertical-align: middle;\n",
       "    }\n",
       "\n",
       "    .dataframe tbody tr th {\n",
       "        vertical-align: top;\n",
       "    }\n",
       "\n",
       "    .dataframe thead th {\n",
       "        text-align: right;\n",
       "    }\n",
       "</style>\n",
       "<table border=\"1\" class=\"dataframe\">\n",
       "  <thead>\n",
       "    <tr style=\"text-align: right;\">\n",
       "      <th></th>\n",
       "      <th>Jayson Tatum</th>\n",
       "    </tr>\n",
       "  </thead>\n",
       "  <tbody>\n",
       "    <tr>\n",
       "      <th>ORB</th>\n",
       "      <td>0.215686</td>\n",
       "    </tr>\n",
       "    <tr>\n",
       "      <th>DRB</th>\n",
       "      <td>0.802083</td>\n",
       "    </tr>\n",
       "    <tr>\n",
       "      <th>STL</th>\n",
       "      <td>0.366667</td>\n",
       "    </tr>\n",
       "    <tr>\n",
       "      <th>BLK</th>\n",
       "      <td>0.233333</td>\n",
       "    </tr>\n",
       "    <tr>\n",
       "      <th>DWS</th>\n",
       "      <td>0.895833</td>\n",
       "    </tr>\n",
       "  </tbody>\n",
       "</table>\n",
       "</div>"
      ],
      "text/plain": [
       "     Jayson Tatum\n",
       "ORB      0.215686\n",
       "DRB      0.802083\n",
       "STL      0.366667\n",
       "BLK      0.233333\n",
       "DWS      0.895833"
      ]
     },
     "execution_count": 46,
     "metadata": {},
     "output_type": "execute_result"
    }
   ],
   "source": [
    "auxB = df06[df06['Player'] == playerB][defensive_features].T\n",
    "auxB.columns = [playerB]\n",
    "auxB"
   ]
  },
  {
   "cell_type": "code",
   "execution_count": 47,
   "metadata": {},
   "outputs": [
    {
     "data": {
      "application/vnd.plotly.v1+json": {
       "config": {
        "plotlyServerURL": "https://plot.ly"
       },
       "data": [
        {
         "fill": "toself",
         "name": "Giannis Antetokounmpo",
         "r": [
          0.4313725490196079,
          1,
          0.2666666666666666,
          0.2666666666666666,
          0.7708333333333334
         ],
         "theta": [
          "ORB",
          "DRB",
          "STL",
          "BLK",
          "DWS"
         ],
         "type": "scatterpolar"
        },
        {
         "fill": "toself",
         "name": "Jayson Tatum",
         "r": [
          0.2156862745098039,
          0.8020833333333334,
          0.3666666666666667,
          0.2333333333333333,
          0.8958333333333334
         ],
         "theta": [
          "ORB",
          "DRB",
          "STL",
          "BLK",
          "DWS"
         ],
         "type": "scatterpolar"
        }
       ],
       "layout": {
        "height": 800,
        "polar": {
         "radialaxis": {
          "range": [
           0,
           1
          ],
          "visible": true
         }
        },
        "showlegend": true,
        "template": {
         "data": {
          "bar": [
           {
            "error_x": {
             "color": "#f2f5fa"
            },
            "error_y": {
             "color": "#f2f5fa"
            },
            "marker": {
             "line": {
              "color": "rgb(17,17,17)",
              "width": 0.5
             },
             "pattern": {
              "fillmode": "overlay",
              "size": 10,
              "solidity": 0.2
             }
            },
            "type": "bar"
           }
          ],
          "barpolar": [
           {
            "marker": {
             "line": {
              "color": "rgb(17,17,17)",
              "width": 0.5
             },
             "pattern": {
              "fillmode": "overlay",
              "size": 10,
              "solidity": 0.2
             }
            },
            "type": "barpolar"
           }
          ],
          "carpet": [
           {
            "aaxis": {
             "endlinecolor": "#A2B1C6",
             "gridcolor": "#506784",
             "linecolor": "#506784",
             "minorgridcolor": "#506784",
             "startlinecolor": "#A2B1C6"
            },
            "baxis": {
             "endlinecolor": "#A2B1C6",
             "gridcolor": "#506784",
             "linecolor": "#506784",
             "minorgridcolor": "#506784",
             "startlinecolor": "#A2B1C6"
            },
            "type": "carpet"
           }
          ],
          "choropleth": [
           {
            "colorbar": {
             "outlinewidth": 0,
             "ticks": ""
            },
            "type": "choropleth"
           }
          ],
          "contour": [
           {
            "colorbar": {
             "outlinewidth": 0,
             "ticks": ""
            },
            "colorscale": [
             [
              0,
              "#0d0887"
             ],
             [
              0.1111111111111111,
              "#46039f"
             ],
             [
              0.2222222222222222,
              "#7201a8"
             ],
             [
              0.3333333333333333,
              "#9c179e"
             ],
             [
              0.4444444444444444,
              "#bd3786"
             ],
             [
              0.5555555555555556,
              "#d8576b"
             ],
             [
              0.6666666666666666,
              "#ed7953"
             ],
             [
              0.7777777777777778,
              "#fb9f3a"
             ],
             [
              0.8888888888888888,
              "#fdca26"
             ],
             [
              1,
              "#f0f921"
             ]
            ],
            "type": "contour"
           }
          ],
          "contourcarpet": [
           {
            "colorbar": {
             "outlinewidth": 0,
             "ticks": ""
            },
            "type": "contourcarpet"
           }
          ],
          "heatmap": [
           {
            "colorbar": {
             "outlinewidth": 0,
             "ticks": ""
            },
            "colorscale": [
             [
              0,
              "#0d0887"
             ],
             [
              0.1111111111111111,
              "#46039f"
             ],
             [
              0.2222222222222222,
              "#7201a8"
             ],
             [
              0.3333333333333333,
              "#9c179e"
             ],
             [
              0.4444444444444444,
              "#bd3786"
             ],
             [
              0.5555555555555556,
              "#d8576b"
             ],
             [
              0.6666666666666666,
              "#ed7953"
             ],
             [
              0.7777777777777778,
              "#fb9f3a"
             ],
             [
              0.8888888888888888,
              "#fdca26"
             ],
             [
              1,
              "#f0f921"
             ]
            ],
            "type": "heatmap"
           }
          ],
          "heatmapgl": [
           {
            "colorbar": {
             "outlinewidth": 0,
             "ticks": ""
            },
            "colorscale": [
             [
              0,
              "#0d0887"
             ],
             [
              0.1111111111111111,
              "#46039f"
             ],
             [
              0.2222222222222222,
              "#7201a8"
             ],
             [
              0.3333333333333333,
              "#9c179e"
             ],
             [
              0.4444444444444444,
              "#bd3786"
             ],
             [
              0.5555555555555556,
              "#d8576b"
             ],
             [
              0.6666666666666666,
              "#ed7953"
             ],
             [
              0.7777777777777778,
              "#fb9f3a"
             ],
             [
              0.8888888888888888,
              "#fdca26"
             ],
             [
              1,
              "#f0f921"
             ]
            ],
            "type": "heatmapgl"
           }
          ],
          "histogram": [
           {
            "marker": {
             "pattern": {
              "fillmode": "overlay",
              "size": 10,
              "solidity": 0.2
             }
            },
            "type": "histogram"
           }
          ],
          "histogram2d": [
           {
            "colorbar": {
             "outlinewidth": 0,
             "ticks": ""
            },
            "colorscale": [
             [
              0,
              "#0d0887"
             ],
             [
              0.1111111111111111,
              "#46039f"
             ],
             [
              0.2222222222222222,
              "#7201a8"
             ],
             [
              0.3333333333333333,
              "#9c179e"
             ],
             [
              0.4444444444444444,
              "#bd3786"
             ],
             [
              0.5555555555555556,
              "#d8576b"
             ],
             [
              0.6666666666666666,
              "#ed7953"
             ],
             [
              0.7777777777777778,
              "#fb9f3a"
             ],
             [
              0.8888888888888888,
              "#fdca26"
             ],
             [
              1,
              "#f0f921"
             ]
            ],
            "type": "histogram2d"
           }
          ],
          "histogram2dcontour": [
           {
            "colorbar": {
             "outlinewidth": 0,
             "ticks": ""
            },
            "colorscale": [
             [
              0,
              "#0d0887"
             ],
             [
              0.1111111111111111,
              "#46039f"
             ],
             [
              0.2222222222222222,
              "#7201a8"
             ],
             [
              0.3333333333333333,
              "#9c179e"
             ],
             [
              0.4444444444444444,
              "#bd3786"
             ],
             [
              0.5555555555555556,
              "#d8576b"
             ],
             [
              0.6666666666666666,
              "#ed7953"
             ],
             [
              0.7777777777777778,
              "#fb9f3a"
             ],
             [
              0.8888888888888888,
              "#fdca26"
             ],
             [
              1,
              "#f0f921"
             ]
            ],
            "type": "histogram2dcontour"
           }
          ],
          "mesh3d": [
           {
            "colorbar": {
             "outlinewidth": 0,
             "ticks": ""
            },
            "type": "mesh3d"
           }
          ],
          "parcoords": [
           {
            "line": {
             "colorbar": {
              "outlinewidth": 0,
              "ticks": ""
             }
            },
            "type": "parcoords"
           }
          ],
          "pie": [
           {
            "automargin": true,
            "type": "pie"
           }
          ],
          "scatter": [
           {
            "marker": {
             "line": {
              "color": "#283442"
             }
            },
            "type": "scatter"
           }
          ],
          "scatter3d": [
           {
            "line": {
             "colorbar": {
              "outlinewidth": 0,
              "ticks": ""
             }
            },
            "marker": {
             "colorbar": {
              "outlinewidth": 0,
              "ticks": ""
             }
            },
            "type": "scatter3d"
           }
          ],
          "scattercarpet": [
           {
            "marker": {
             "colorbar": {
              "outlinewidth": 0,
              "ticks": ""
             }
            },
            "type": "scattercarpet"
           }
          ],
          "scattergeo": [
           {
            "marker": {
             "colorbar": {
              "outlinewidth": 0,
              "ticks": ""
             }
            },
            "type": "scattergeo"
           }
          ],
          "scattergl": [
           {
            "marker": {
             "line": {
              "color": "#283442"
             }
            },
            "type": "scattergl"
           }
          ],
          "scattermapbox": [
           {
            "marker": {
             "colorbar": {
              "outlinewidth": 0,
              "ticks": ""
             }
            },
            "type": "scattermapbox"
           }
          ],
          "scatterpolar": [
           {
            "marker": {
             "colorbar": {
              "outlinewidth": 0,
              "ticks": ""
             }
            },
            "type": "scatterpolar"
           }
          ],
          "scatterpolargl": [
           {
            "marker": {
             "colorbar": {
              "outlinewidth": 0,
              "ticks": ""
             }
            },
            "type": "scatterpolargl"
           }
          ],
          "scatterternary": [
           {
            "marker": {
             "colorbar": {
              "outlinewidth": 0,
              "ticks": ""
             }
            },
            "type": "scatterternary"
           }
          ],
          "surface": [
           {
            "colorbar": {
             "outlinewidth": 0,
             "ticks": ""
            },
            "colorscale": [
             [
              0,
              "#0d0887"
             ],
             [
              0.1111111111111111,
              "#46039f"
             ],
             [
              0.2222222222222222,
              "#7201a8"
             ],
             [
              0.3333333333333333,
              "#9c179e"
             ],
             [
              0.4444444444444444,
              "#bd3786"
             ],
             [
              0.5555555555555556,
              "#d8576b"
             ],
             [
              0.6666666666666666,
              "#ed7953"
             ],
             [
              0.7777777777777778,
              "#fb9f3a"
             ],
             [
              0.8888888888888888,
              "#fdca26"
             ],
             [
              1,
              "#f0f921"
             ]
            ],
            "type": "surface"
           }
          ],
          "table": [
           {
            "cells": {
             "fill": {
              "color": "#506784"
             },
             "line": {
              "color": "rgb(17,17,17)"
             }
            },
            "header": {
             "fill": {
              "color": "#2a3f5f"
             },
             "line": {
              "color": "rgb(17,17,17)"
             }
            },
            "type": "table"
           }
          ]
         },
         "layout": {
          "annotationdefaults": {
           "arrowcolor": "#f2f5fa",
           "arrowhead": 0,
           "arrowwidth": 1
          },
          "autotypenumbers": "strict",
          "coloraxis": {
           "colorbar": {
            "outlinewidth": 0,
            "ticks": ""
           }
          },
          "colorscale": {
           "diverging": [
            [
             0,
             "#8e0152"
            ],
            [
             0.1,
             "#c51b7d"
            ],
            [
             0.2,
             "#de77ae"
            ],
            [
             0.3,
             "#f1b6da"
            ],
            [
             0.4,
             "#fde0ef"
            ],
            [
             0.5,
             "#f7f7f7"
            ],
            [
             0.6,
             "#e6f5d0"
            ],
            [
             0.7,
             "#b8e186"
            ],
            [
             0.8,
             "#7fbc41"
            ],
            [
             0.9,
             "#4d9221"
            ],
            [
             1,
             "#276419"
            ]
           ],
           "sequential": [
            [
             0,
             "#0d0887"
            ],
            [
             0.1111111111111111,
             "#46039f"
            ],
            [
             0.2222222222222222,
             "#7201a8"
            ],
            [
             0.3333333333333333,
             "#9c179e"
            ],
            [
             0.4444444444444444,
             "#bd3786"
            ],
            [
             0.5555555555555556,
             "#d8576b"
            ],
            [
             0.6666666666666666,
             "#ed7953"
            ],
            [
             0.7777777777777778,
             "#fb9f3a"
            ],
            [
             0.8888888888888888,
             "#fdca26"
            ],
            [
             1,
             "#f0f921"
            ]
           ],
           "sequentialminus": [
            [
             0,
             "#0d0887"
            ],
            [
             0.1111111111111111,
             "#46039f"
            ],
            [
             0.2222222222222222,
             "#7201a8"
            ],
            [
             0.3333333333333333,
             "#9c179e"
            ],
            [
             0.4444444444444444,
             "#bd3786"
            ],
            [
             0.5555555555555556,
             "#d8576b"
            ],
            [
             0.6666666666666666,
             "#ed7953"
            ],
            [
             0.7777777777777778,
             "#fb9f3a"
            ],
            [
             0.8888888888888888,
             "#fdca26"
            ],
            [
             1,
             "#f0f921"
            ]
           ]
          },
          "colorway": [
           "#636efa",
           "#EF553B",
           "#00cc96",
           "#ab63fa",
           "#FFA15A",
           "#19d3f3",
           "#FF6692",
           "#B6E880",
           "#FF97FF",
           "#FECB52"
          ],
          "font": {
           "color": "#f2f5fa"
          },
          "geo": {
           "bgcolor": "rgb(17,17,17)",
           "lakecolor": "rgb(17,17,17)",
           "landcolor": "rgb(17,17,17)",
           "showlakes": true,
           "showland": true,
           "subunitcolor": "#506784"
          },
          "hoverlabel": {
           "align": "left"
          },
          "hovermode": "closest",
          "mapbox": {
           "style": "dark"
          },
          "paper_bgcolor": "rgb(17,17,17)",
          "plot_bgcolor": "rgb(17,17,17)",
          "polar": {
           "angularaxis": {
            "gridcolor": "#506784",
            "linecolor": "#506784",
            "ticks": ""
           },
           "bgcolor": "rgb(17,17,17)",
           "radialaxis": {
            "gridcolor": "#506784",
            "linecolor": "#506784",
            "ticks": ""
           }
          },
          "scene": {
           "xaxis": {
            "backgroundcolor": "rgb(17,17,17)",
            "gridcolor": "#506784",
            "gridwidth": 2,
            "linecolor": "#506784",
            "showbackground": true,
            "ticks": "",
            "zerolinecolor": "#C8D4E3"
           },
           "yaxis": {
            "backgroundcolor": "rgb(17,17,17)",
            "gridcolor": "#506784",
            "gridwidth": 2,
            "linecolor": "#506784",
            "showbackground": true,
            "ticks": "",
            "zerolinecolor": "#C8D4E3"
           },
           "zaxis": {
            "backgroundcolor": "rgb(17,17,17)",
            "gridcolor": "#506784",
            "gridwidth": 2,
            "linecolor": "#506784",
            "showbackground": true,
            "ticks": "",
            "zerolinecolor": "#C8D4E3"
           }
          },
          "shapedefaults": {
           "line": {
            "color": "#f2f5fa"
           }
          },
          "sliderdefaults": {
           "bgcolor": "#C8D4E3",
           "bordercolor": "rgb(17,17,17)",
           "borderwidth": 1,
           "tickwidth": 0
          },
          "ternary": {
           "aaxis": {
            "gridcolor": "#506784",
            "linecolor": "#506784",
            "ticks": ""
           },
           "baxis": {
            "gridcolor": "#506784",
            "linecolor": "#506784",
            "ticks": ""
           },
           "bgcolor": "rgb(17,17,17)",
           "caxis": {
            "gridcolor": "#506784",
            "linecolor": "#506784",
            "ticks": ""
           }
          },
          "title": {
           "x": 0.05
          },
          "updatemenudefaults": {
           "bgcolor": "#506784",
           "borderwidth": 0
          },
          "xaxis": {
           "automargin": true,
           "gridcolor": "#283442",
           "linecolor": "#506784",
           "ticks": "",
           "title": {
            "standoff": 15
           },
           "zerolinecolor": "#283442",
           "zerolinewidth": 2
          },
          "yaxis": {
           "automargin": true,
           "gridcolor": "#283442",
           "linecolor": "#506784",
           "ticks": "",
           "title": {
            "standoff": 15
           },
           "zerolinecolor": "#283442",
           "zerolinewidth": 2
          }
         }
        },
        "title": {
         "text": "Defensive Features"
        },
        "width": 800
       }
      }
     },
     "metadata": {},
     "output_type": "display_data"
    }
   ],
   "source": [
    "plt.rcParams['figure.figsize'] = [8, 8]\n",
    "\n",
    "fig = go.Figure()\n",
    "\n",
    "fig.add_trace(go.Scatterpolar(\n",
    "      r=auxA[playerA],\n",
    "      theta=defensive_features,\n",
    "      fill='toself',\n",
    "      name=playerA\n",
    "))\n",
    "\n",
    "fig.add_trace(go.Scatterpolar(\n",
    "      r=auxB[playerB],\n",
    "      theta=defensive_features,\n",
    "      fill='toself',\n",
    "      name=playerB\n",
    "))\n",
    "\n",
    "fig.update_layout(\n",
    "  polar=dict(\n",
    "    radialaxis=dict(\n",
    "      visible=True,\n",
    "      range=[0, 1]\n",
    "    )),\n",
    "  showlegend=True,\n",
    "  width=800, height=800,\n",
    "  template=\"plotly_dark\",\n",
    "  title = 'Defensive Features'\n",
    ")\n",
    "\n",
    "fig.show()"
   ]
  },
  {
   "cell_type": "markdown",
   "metadata": {},
   "source": [
    "### 6.3.8. <a id='toc6_3_8_'></a>[Descriptive comparison chart- Describing features: Player, Player_additional, Pos, Age, TM,](#toc0_)\n",
    "- Negative metrics: TOV, GM, PF\n",
    "- Positive metrics: BPM, G, MP, WS, VORP"
   ]
  },
  {
   "cell_type": "code",
   "execution_count": 48,
   "metadata": {},
   "outputs": [],
   "source": [
    "descriptive_features = ['TOV', 'GM', 'PF', 'G', 'MP', 'WS', 'VORP']"
   ]
  },
  {
   "cell_type": "code",
   "execution_count": 49,
   "metadata": {},
   "outputs": [],
   "source": [
    "playerA = 'Giannis Antetokounmpo'\n",
    "playerB = 'Jayson Tatum'"
   ]
  },
  {
   "cell_type": "code",
   "execution_count": 50,
   "metadata": {},
   "outputs": [
    {
     "data": {
      "text/html": [
       "<div>\n",
       "<style scoped>\n",
       "    .dataframe tbody tr th:only-of-type {\n",
       "        vertical-align: middle;\n",
       "    }\n",
       "\n",
       "    .dataframe tbody tr th {\n",
       "        vertical-align: top;\n",
       "    }\n",
       "\n",
       "    .dataframe thead th {\n",
       "        text-align: right;\n",
       "    }\n",
       "</style>\n",
       "<table border=\"1\" class=\"dataframe\">\n",
       "  <thead>\n",
       "    <tr style=\"text-align: right;\">\n",
       "      <th></th>\n",
       "      <th>Giannis Antetokounmpo</th>\n",
       "    </tr>\n",
       "  </thead>\n",
       "  <tbody>\n",
       "    <tr>\n",
       "      <th>TOV</th>\n",
       "      <td>0.951220</td>\n",
       "    </tr>\n",
       "    <tr>\n",
       "      <th>GM</th>\n",
       "      <td>0.234568</td>\n",
       "    </tr>\n",
       "    <tr>\n",
       "      <th>PF</th>\n",
       "      <td>0.620000</td>\n",
       "    </tr>\n",
       "    <tr>\n",
       "      <th>G</th>\n",
       "      <td>0.759036</td>\n",
       "    </tr>\n",
       "    <tr>\n",
       "      <th>MP</th>\n",
       "      <td>0.782927</td>\n",
       "    </tr>\n",
       "    <tr>\n",
       "      <th>WS</th>\n",
       "      <td>0.577181</td>\n",
       "    </tr>\n",
       "    <tr>\n",
       "      <th>VORP</th>\n",
       "      <td>0.613636</td>\n",
       "    </tr>\n",
       "  </tbody>\n",
       "</table>\n",
       "</div>"
      ],
      "text/plain": [
       "      Giannis Antetokounmpo\n",
       "TOV                0.951220\n",
       "GM                 0.234568\n",
       "PF                 0.620000\n",
       "G                  0.759036\n",
       "MP                 0.782927\n",
       "WS                 0.577181\n",
       "VORP               0.613636"
      ]
     },
     "execution_count": 50,
     "metadata": {},
     "output_type": "execute_result"
    }
   ],
   "source": [
    "auxA = df06[df06['Player'] == playerA][descriptive_features].T\n",
    "auxA.columns = [playerA]\n",
    "auxA"
   ]
  },
  {
   "cell_type": "code",
   "execution_count": 51,
   "metadata": {},
   "outputs": [
    {
     "data": {
      "text/html": [
       "<div>\n",
       "<style scoped>\n",
       "    .dataframe tbody tr th:only-of-type {\n",
       "        vertical-align: middle;\n",
       "    }\n",
       "\n",
       "    .dataframe tbody tr th {\n",
       "        vertical-align: top;\n",
       "    }\n",
       "\n",
       "    .dataframe thead th {\n",
       "        text-align: right;\n",
       "    }\n",
       "</style>\n",
       "<table border=\"1\" class=\"dataframe\">\n",
       "  <thead>\n",
       "    <tr style=\"text-align: right;\">\n",
       "      <th></th>\n",
       "      <th>Jayson Tatum</th>\n",
       "    </tr>\n",
       "  </thead>\n",
       "  <tbody>\n",
       "    <tr>\n",
       "      <th>TOV</th>\n",
       "      <td>0.707317</td>\n",
       "    </tr>\n",
       "    <tr>\n",
       "      <th>GM</th>\n",
       "      <td>0.098765</td>\n",
       "    </tr>\n",
       "    <tr>\n",
       "      <th>PF</th>\n",
       "      <td>0.440000</td>\n",
       "    </tr>\n",
       "    <tr>\n",
       "      <th>G</th>\n",
       "      <td>0.891566</td>\n",
       "    </tr>\n",
       "    <tr>\n",
       "      <th>MP</th>\n",
       "      <td>0.900000</td>\n",
       "    </tr>\n",
       "    <tr>\n",
       "      <th>WS</th>\n",
       "      <td>0.704698</td>\n",
       "    </tr>\n",
       "    <tr>\n",
       "      <th>VORP</th>\n",
       "      <td>0.579545</td>\n",
       "    </tr>\n",
       "  </tbody>\n",
       "</table>\n",
       "</div>"
      ],
      "text/plain": [
       "      Jayson Tatum\n",
       "TOV       0.707317\n",
       "GM        0.098765\n",
       "PF        0.440000\n",
       "G         0.891566\n",
       "MP        0.900000\n",
       "WS        0.704698\n",
       "VORP      0.579545"
      ]
     },
     "execution_count": 51,
     "metadata": {},
     "output_type": "execute_result"
    }
   ],
   "source": [
    "auxB = df06[df06['Player'] == playerB][descriptive_features].T\n",
    "auxB.columns = [playerB]\n",
    "auxB"
   ]
  },
  {
   "cell_type": "code",
   "execution_count": 52,
   "metadata": {},
   "outputs": [
    {
     "data": {
      "application/vnd.plotly.v1+json": {
       "config": {
        "plotlyServerURL": "https://plot.ly"
       },
       "data": [
        {
         "fill": "toself",
         "name": "Giannis Antetokounmpo",
         "r": [
          0.951219512195122,
          0.2345679012345679,
          0.62,
          0.7590361445783133,
          0.7829268292682927,
          0.5771812080536912,
          0.6136363636363636
         ],
         "theta": [
          "TOV",
          "GM",
          "PF",
          "G",
          "MP",
          "WS",
          "VORP"
         ],
         "type": "scatterpolar"
        },
        {
         "fill": "toself",
         "name": "Jayson Tatum",
         "r": [
          0.7073170731707318,
          0.0987654320987654,
          0.44,
          0.891566265060241,
          0.8999999999999999,
          0.7046979865771812,
          0.5795454545454545
         ],
         "theta": [
          "TOV",
          "GM",
          "PF",
          "G",
          "MP",
          "WS",
          "VORP"
         ],
         "type": "scatterpolar"
        }
       ],
       "layout": {
        "height": 800,
        "polar": {
         "radialaxis": {
          "range": [
           0,
           1
          ],
          "visible": true
         }
        },
        "showlegend": true,
        "template": {
         "data": {
          "bar": [
           {
            "error_x": {
             "color": "#f2f5fa"
            },
            "error_y": {
             "color": "#f2f5fa"
            },
            "marker": {
             "line": {
              "color": "rgb(17,17,17)",
              "width": 0.5
             },
             "pattern": {
              "fillmode": "overlay",
              "size": 10,
              "solidity": 0.2
             }
            },
            "type": "bar"
           }
          ],
          "barpolar": [
           {
            "marker": {
             "line": {
              "color": "rgb(17,17,17)",
              "width": 0.5
             },
             "pattern": {
              "fillmode": "overlay",
              "size": 10,
              "solidity": 0.2
             }
            },
            "type": "barpolar"
           }
          ],
          "carpet": [
           {
            "aaxis": {
             "endlinecolor": "#A2B1C6",
             "gridcolor": "#506784",
             "linecolor": "#506784",
             "minorgridcolor": "#506784",
             "startlinecolor": "#A2B1C6"
            },
            "baxis": {
             "endlinecolor": "#A2B1C6",
             "gridcolor": "#506784",
             "linecolor": "#506784",
             "minorgridcolor": "#506784",
             "startlinecolor": "#A2B1C6"
            },
            "type": "carpet"
           }
          ],
          "choropleth": [
           {
            "colorbar": {
             "outlinewidth": 0,
             "ticks": ""
            },
            "type": "choropleth"
           }
          ],
          "contour": [
           {
            "colorbar": {
             "outlinewidth": 0,
             "ticks": ""
            },
            "colorscale": [
             [
              0,
              "#0d0887"
             ],
             [
              0.1111111111111111,
              "#46039f"
             ],
             [
              0.2222222222222222,
              "#7201a8"
             ],
             [
              0.3333333333333333,
              "#9c179e"
             ],
             [
              0.4444444444444444,
              "#bd3786"
             ],
             [
              0.5555555555555556,
              "#d8576b"
             ],
             [
              0.6666666666666666,
              "#ed7953"
             ],
             [
              0.7777777777777778,
              "#fb9f3a"
             ],
             [
              0.8888888888888888,
              "#fdca26"
             ],
             [
              1,
              "#f0f921"
             ]
            ],
            "type": "contour"
           }
          ],
          "contourcarpet": [
           {
            "colorbar": {
             "outlinewidth": 0,
             "ticks": ""
            },
            "type": "contourcarpet"
           }
          ],
          "heatmap": [
           {
            "colorbar": {
             "outlinewidth": 0,
             "ticks": ""
            },
            "colorscale": [
             [
              0,
              "#0d0887"
             ],
             [
              0.1111111111111111,
              "#46039f"
             ],
             [
              0.2222222222222222,
              "#7201a8"
             ],
             [
              0.3333333333333333,
              "#9c179e"
             ],
             [
              0.4444444444444444,
              "#bd3786"
             ],
             [
              0.5555555555555556,
              "#d8576b"
             ],
             [
              0.6666666666666666,
              "#ed7953"
             ],
             [
              0.7777777777777778,
              "#fb9f3a"
             ],
             [
              0.8888888888888888,
              "#fdca26"
             ],
             [
              1,
              "#f0f921"
             ]
            ],
            "type": "heatmap"
           }
          ],
          "heatmapgl": [
           {
            "colorbar": {
             "outlinewidth": 0,
             "ticks": ""
            },
            "colorscale": [
             [
              0,
              "#0d0887"
             ],
             [
              0.1111111111111111,
              "#46039f"
             ],
             [
              0.2222222222222222,
              "#7201a8"
             ],
             [
              0.3333333333333333,
              "#9c179e"
             ],
             [
              0.4444444444444444,
              "#bd3786"
             ],
             [
              0.5555555555555556,
              "#d8576b"
             ],
             [
              0.6666666666666666,
              "#ed7953"
             ],
             [
              0.7777777777777778,
              "#fb9f3a"
             ],
             [
              0.8888888888888888,
              "#fdca26"
             ],
             [
              1,
              "#f0f921"
             ]
            ],
            "type": "heatmapgl"
           }
          ],
          "histogram": [
           {
            "marker": {
             "pattern": {
              "fillmode": "overlay",
              "size": 10,
              "solidity": 0.2
             }
            },
            "type": "histogram"
           }
          ],
          "histogram2d": [
           {
            "colorbar": {
             "outlinewidth": 0,
             "ticks": ""
            },
            "colorscale": [
             [
              0,
              "#0d0887"
             ],
             [
              0.1111111111111111,
              "#46039f"
             ],
             [
              0.2222222222222222,
              "#7201a8"
             ],
             [
              0.3333333333333333,
              "#9c179e"
             ],
             [
              0.4444444444444444,
              "#bd3786"
             ],
             [
              0.5555555555555556,
              "#d8576b"
             ],
             [
              0.6666666666666666,
              "#ed7953"
             ],
             [
              0.7777777777777778,
              "#fb9f3a"
             ],
             [
              0.8888888888888888,
              "#fdca26"
             ],
             [
              1,
              "#f0f921"
             ]
            ],
            "type": "histogram2d"
           }
          ],
          "histogram2dcontour": [
           {
            "colorbar": {
             "outlinewidth": 0,
             "ticks": ""
            },
            "colorscale": [
             [
              0,
              "#0d0887"
             ],
             [
              0.1111111111111111,
              "#46039f"
             ],
             [
              0.2222222222222222,
              "#7201a8"
             ],
             [
              0.3333333333333333,
              "#9c179e"
             ],
             [
              0.4444444444444444,
              "#bd3786"
             ],
             [
              0.5555555555555556,
              "#d8576b"
             ],
             [
              0.6666666666666666,
              "#ed7953"
             ],
             [
              0.7777777777777778,
              "#fb9f3a"
             ],
             [
              0.8888888888888888,
              "#fdca26"
             ],
             [
              1,
              "#f0f921"
             ]
            ],
            "type": "histogram2dcontour"
           }
          ],
          "mesh3d": [
           {
            "colorbar": {
             "outlinewidth": 0,
             "ticks": ""
            },
            "type": "mesh3d"
           }
          ],
          "parcoords": [
           {
            "line": {
             "colorbar": {
              "outlinewidth": 0,
              "ticks": ""
             }
            },
            "type": "parcoords"
           }
          ],
          "pie": [
           {
            "automargin": true,
            "type": "pie"
           }
          ],
          "scatter": [
           {
            "marker": {
             "line": {
              "color": "#283442"
             }
            },
            "type": "scatter"
           }
          ],
          "scatter3d": [
           {
            "line": {
             "colorbar": {
              "outlinewidth": 0,
              "ticks": ""
             }
            },
            "marker": {
             "colorbar": {
              "outlinewidth": 0,
              "ticks": ""
             }
            },
            "type": "scatter3d"
           }
          ],
          "scattercarpet": [
           {
            "marker": {
             "colorbar": {
              "outlinewidth": 0,
              "ticks": ""
             }
            },
            "type": "scattercarpet"
           }
          ],
          "scattergeo": [
           {
            "marker": {
             "colorbar": {
              "outlinewidth": 0,
              "ticks": ""
             }
            },
            "type": "scattergeo"
           }
          ],
          "scattergl": [
           {
            "marker": {
             "line": {
              "color": "#283442"
             }
            },
            "type": "scattergl"
           }
          ],
          "scattermapbox": [
           {
            "marker": {
             "colorbar": {
              "outlinewidth": 0,
              "ticks": ""
             }
            },
            "type": "scattermapbox"
           }
          ],
          "scatterpolar": [
           {
            "marker": {
             "colorbar": {
              "outlinewidth": 0,
              "ticks": ""
             }
            },
            "type": "scatterpolar"
           }
          ],
          "scatterpolargl": [
           {
            "marker": {
             "colorbar": {
              "outlinewidth": 0,
              "ticks": ""
             }
            },
            "type": "scatterpolargl"
           }
          ],
          "scatterternary": [
           {
            "marker": {
             "colorbar": {
              "outlinewidth": 0,
              "ticks": ""
             }
            },
            "type": "scatterternary"
           }
          ],
          "surface": [
           {
            "colorbar": {
             "outlinewidth": 0,
             "ticks": ""
            },
            "colorscale": [
             [
              0,
              "#0d0887"
             ],
             [
              0.1111111111111111,
              "#46039f"
             ],
             [
              0.2222222222222222,
              "#7201a8"
             ],
             [
              0.3333333333333333,
              "#9c179e"
             ],
             [
              0.4444444444444444,
              "#bd3786"
             ],
             [
              0.5555555555555556,
              "#d8576b"
             ],
             [
              0.6666666666666666,
              "#ed7953"
             ],
             [
              0.7777777777777778,
              "#fb9f3a"
             ],
             [
              0.8888888888888888,
              "#fdca26"
             ],
             [
              1,
              "#f0f921"
             ]
            ],
            "type": "surface"
           }
          ],
          "table": [
           {
            "cells": {
             "fill": {
              "color": "#506784"
             },
             "line": {
              "color": "rgb(17,17,17)"
             }
            },
            "header": {
             "fill": {
              "color": "#2a3f5f"
             },
             "line": {
              "color": "rgb(17,17,17)"
             }
            },
            "type": "table"
           }
          ]
         },
         "layout": {
          "annotationdefaults": {
           "arrowcolor": "#f2f5fa",
           "arrowhead": 0,
           "arrowwidth": 1
          },
          "autotypenumbers": "strict",
          "coloraxis": {
           "colorbar": {
            "outlinewidth": 0,
            "ticks": ""
           }
          },
          "colorscale": {
           "diverging": [
            [
             0,
             "#8e0152"
            ],
            [
             0.1,
             "#c51b7d"
            ],
            [
             0.2,
             "#de77ae"
            ],
            [
             0.3,
             "#f1b6da"
            ],
            [
             0.4,
             "#fde0ef"
            ],
            [
             0.5,
             "#f7f7f7"
            ],
            [
             0.6,
             "#e6f5d0"
            ],
            [
             0.7,
             "#b8e186"
            ],
            [
             0.8,
             "#7fbc41"
            ],
            [
             0.9,
             "#4d9221"
            ],
            [
             1,
             "#276419"
            ]
           ],
           "sequential": [
            [
             0,
             "#0d0887"
            ],
            [
             0.1111111111111111,
             "#46039f"
            ],
            [
             0.2222222222222222,
             "#7201a8"
            ],
            [
             0.3333333333333333,
             "#9c179e"
            ],
            [
             0.4444444444444444,
             "#bd3786"
            ],
            [
             0.5555555555555556,
             "#d8576b"
            ],
            [
             0.6666666666666666,
             "#ed7953"
            ],
            [
             0.7777777777777778,
             "#fb9f3a"
            ],
            [
             0.8888888888888888,
             "#fdca26"
            ],
            [
             1,
             "#f0f921"
            ]
           ],
           "sequentialminus": [
            [
             0,
             "#0d0887"
            ],
            [
             0.1111111111111111,
             "#46039f"
            ],
            [
             0.2222222222222222,
             "#7201a8"
            ],
            [
             0.3333333333333333,
             "#9c179e"
            ],
            [
             0.4444444444444444,
             "#bd3786"
            ],
            [
             0.5555555555555556,
             "#d8576b"
            ],
            [
             0.6666666666666666,
             "#ed7953"
            ],
            [
             0.7777777777777778,
             "#fb9f3a"
            ],
            [
             0.8888888888888888,
             "#fdca26"
            ],
            [
             1,
             "#f0f921"
            ]
           ]
          },
          "colorway": [
           "#636efa",
           "#EF553B",
           "#00cc96",
           "#ab63fa",
           "#FFA15A",
           "#19d3f3",
           "#FF6692",
           "#B6E880",
           "#FF97FF",
           "#FECB52"
          ],
          "font": {
           "color": "#f2f5fa"
          },
          "geo": {
           "bgcolor": "rgb(17,17,17)",
           "lakecolor": "rgb(17,17,17)",
           "landcolor": "rgb(17,17,17)",
           "showlakes": true,
           "showland": true,
           "subunitcolor": "#506784"
          },
          "hoverlabel": {
           "align": "left"
          },
          "hovermode": "closest",
          "mapbox": {
           "style": "dark"
          },
          "paper_bgcolor": "rgb(17,17,17)",
          "plot_bgcolor": "rgb(17,17,17)",
          "polar": {
           "angularaxis": {
            "gridcolor": "#506784",
            "linecolor": "#506784",
            "ticks": ""
           },
           "bgcolor": "rgb(17,17,17)",
           "radialaxis": {
            "gridcolor": "#506784",
            "linecolor": "#506784",
            "ticks": ""
           }
          },
          "scene": {
           "xaxis": {
            "backgroundcolor": "rgb(17,17,17)",
            "gridcolor": "#506784",
            "gridwidth": 2,
            "linecolor": "#506784",
            "showbackground": true,
            "ticks": "",
            "zerolinecolor": "#C8D4E3"
           },
           "yaxis": {
            "backgroundcolor": "rgb(17,17,17)",
            "gridcolor": "#506784",
            "gridwidth": 2,
            "linecolor": "#506784",
            "showbackground": true,
            "ticks": "",
            "zerolinecolor": "#C8D4E3"
           },
           "zaxis": {
            "backgroundcolor": "rgb(17,17,17)",
            "gridcolor": "#506784",
            "gridwidth": 2,
            "linecolor": "#506784",
            "showbackground": true,
            "ticks": "",
            "zerolinecolor": "#C8D4E3"
           }
          },
          "shapedefaults": {
           "line": {
            "color": "#f2f5fa"
           }
          },
          "sliderdefaults": {
           "bgcolor": "#C8D4E3",
           "bordercolor": "rgb(17,17,17)",
           "borderwidth": 1,
           "tickwidth": 0
          },
          "ternary": {
           "aaxis": {
            "gridcolor": "#506784",
            "linecolor": "#506784",
            "ticks": ""
           },
           "baxis": {
            "gridcolor": "#506784",
            "linecolor": "#506784",
            "ticks": ""
           },
           "bgcolor": "rgb(17,17,17)",
           "caxis": {
            "gridcolor": "#506784",
            "linecolor": "#506784",
            "ticks": ""
           }
          },
          "title": {
           "x": 0.05
          },
          "updatemenudefaults": {
           "bgcolor": "#506784",
           "borderwidth": 0
          },
          "xaxis": {
           "automargin": true,
           "gridcolor": "#283442",
           "linecolor": "#506784",
           "ticks": "",
           "title": {
            "standoff": 15
           },
           "zerolinecolor": "#283442",
           "zerolinewidth": 2
          },
          "yaxis": {
           "automargin": true,
           "gridcolor": "#283442",
           "linecolor": "#506784",
           "ticks": "",
           "title": {
            "standoff": 15
           },
           "zerolinecolor": "#283442",
           "zerolinewidth": 2
          }
         }
        },
        "title": {
         "text": "Descriptive Features"
        },
        "width": 800
       }
      }
     },
     "metadata": {},
     "output_type": "display_data"
    }
   ],
   "source": [
    "plt.rcParams['figure.figsize'] = [8, 8]\n",
    "\n",
    "fig = go.Figure()\n",
    "\n",
    "fig.add_trace(go.Scatterpolar(\n",
    "      r=auxA[playerA],\n",
    "      theta=descriptive_features,\n",
    "      fill='toself',\n",
    "      name=playerA\n",
    "))\n",
    "\n",
    "fig.add_trace(go.Scatterpolar(\n",
    "      r=auxB[playerB],\n",
    "      theta=descriptive_features,\n",
    "      fill='toself',\n",
    "      name=playerB\n",
    "))\n",
    "\n",
    "fig.update_layout(\n",
    "  polar=dict(\n",
    "    radialaxis=dict(\n",
    "      visible=True,\n",
    "      range=[0, 1]\n",
    "    )),\n",
    "  showlegend=True,\n",
    "  width=800, height=800,\n",
    "  template=\"plotly_dark\",\n",
    "  title = 'Descriptive Features'\n",
    ")\n",
    "\n",
    "fig.show()"
   ]
  },
  {
   "cell_type": "markdown",
   "metadata": {},
   "source": [
    "# 7. <a id='toc7_'></a>[Data Preparation](#toc0_)\n",
    "- Normalize, re-scale and transform (enconding) variables to suit model requirements\n",
    "- It may be a good idea to normalize all of the features so they are comparable in magnitude"
   ]
  },
  {
   "cell_type": "code",
   "execution_count": null,
   "metadata": {},
   "outputs": [],
   "source": []
  },
  {
   "cell_type": "code",
   "execution_count": null,
   "metadata": {},
   "outputs": [],
   "source": []
  },
  {
   "cell_type": "markdown",
   "metadata": {},
   "source": [
    "# 8. <a id='toc8_'></a>[Feature Selection through Boruta algorithm](#toc0_)\n",
    "- Use Boruta algorithm to select best features to machine learning models"
   ]
  },
  {
   "cell_type": "code",
   "execution_count": null,
   "metadata": {},
   "outputs": [],
   "source": []
  },
  {
   "cell_type": "code",
   "execution_count": null,
   "metadata": {},
   "outputs": [],
   "source": []
  },
  {
   "cell_type": "code",
   "execution_count": null,
   "metadata": {},
   "outputs": [],
   "source": []
  },
  {
   "cell_type": "code",
   "execution_count": null,
   "metadata": {},
   "outputs": [],
   "source": []
  },
  {
   "cell_type": "markdown",
   "metadata": {},
   "source": [
    "# 9. <a id='toc9_'></a>[Model implementation](#toc0_)\n",
    "- Implement different machine learning models and algorithms\n",
    "- Conduct cross-velidation computing\n",
    "- Conduct single performance metrics computing"
   ]
  },
  {
   "cell_type": "code",
   "execution_count": null,
   "metadata": {},
   "outputs": [],
   "source": []
  },
  {
   "cell_type": "code",
   "execution_count": null,
   "metadata": {},
   "outputs": [],
   "source": []
  },
  {
   "cell_type": "code",
   "execution_count": null,
   "metadata": {},
   "outputs": [],
   "source": []
  },
  {
   "cell_type": "code",
   "execution_count": null,
   "metadata": {},
   "outputs": [],
   "source": []
  },
  {
   "cell_type": "code",
   "execution_count": null,
   "metadata": {},
   "outputs": [],
   "source": []
  },
  {
   "cell_type": "markdown",
   "metadata": {},
   "source": [
    "# 10. <a id='toc10_'></a>[Hyperparameter Fine-Tuning](#toc0_)\n",
    "- Implement hyperparameter search (Bayes Search) to find best model hyperparameter values\n",
    "- Re-train model using best values"
   ]
  },
  {
   "cell_type": "code",
   "execution_count": null,
   "metadata": {},
   "outputs": [],
   "source": []
  },
  {
   "cell_type": "code",
   "execution_count": null,
   "metadata": {},
   "outputs": [],
   "source": []
  },
  {
   "cell_type": "code",
   "execution_count": null,
   "metadata": {},
   "outputs": [],
   "source": []
  },
  {
   "cell_type": "code",
   "execution_count": null,
   "metadata": {},
   "outputs": [],
   "source": []
  },
  {
   "cell_type": "code",
   "execution_count": null,
   "metadata": {},
   "outputs": [],
   "source": []
  },
  {
   "cell_type": "markdown",
   "metadata": {},
   "source": [
    "# 11. <a id='toc11_'></a>[Model Error Estimation and Interpretation](#toc0_)\n",
    "- Use model errors to interpret the goals "
   ]
  },
  {
   "cell_type": "code",
   "execution_count": null,
   "metadata": {},
   "outputs": [],
   "source": []
  },
  {
   "cell_type": "code",
   "execution_count": null,
   "metadata": {},
   "outputs": [],
   "source": []
  },
  {
   "cell_type": "code",
   "execution_count": null,
   "metadata": {},
   "outputs": [],
   "source": []
  },
  {
   "cell_type": "markdown",
   "metadata": {},
   "source": [
    "# 12. <a id='toc12_'></a>[Model Deployment](#toc0_)\n",
    "- Deploy the model to a cloud service so it can be used by its consumers"
   ]
  },
  {
   "cell_type": "code",
   "execution_count": null,
   "metadata": {},
   "outputs": [],
   "source": []
  },
  {
   "cell_type": "code",
   "execution_count": null,
   "metadata": {},
   "outputs": [],
   "source": []
  },
  {
   "cell_type": "code",
   "execution_count": null,
   "metadata": {},
   "outputs": [],
   "source": []
  },
  {
   "cell_type": "code",
   "execution_count": null,
   "metadata": {},
   "outputs": [],
   "source": []
  }
 ],
 "metadata": {
  "kernelspec": {
   "display_name": "NBA",
   "language": "python",
   "name": "python3"
  },
  "language_info": {
   "codemirror_mode": {
    "name": "ipython",
    "version": 3
   },
   "file_extension": ".py",
   "mimetype": "text/x-python",
   "name": "python",
   "nbconvert_exporter": "python",
   "pygments_lexer": "ipython3",
   "version": "3.11.2"
  },
  "orig_nbformat": 4
 },
 "nbformat": 4,
 "nbformat_minor": 2
}
