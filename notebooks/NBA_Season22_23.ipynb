{
 "cells": [
  {
   "cell_type": "markdown",
   "metadata": {},
   "source": [
    "# 1. <a id='toc1_'></a>[NBA Season 2022-2023 Analysis](#toc0_)"
   ]
  },
  {
   "cell_type": "markdown",
   "metadata": {},
   "source": [
    "**Table of contents**<a id='toc0_'></a>    \n",
    "- 1. [NBA Season 2022-2023 Analysis](#toc1_)    \n",
    "- 2. [Importings](#toc2_)    \n",
    "  - 2.1. [Libraries](#toc2_1_)    \n",
    "  - 2.2. [Helper Function](#toc2_2_)    \n",
    "  - 2.3. [Data loading](#toc2_3_)    \n",
    "- 3. [Data exploration and problem comprehension](#toc3_)    \n",
    "  - 3.1. [Examining the **Advanced Dataset**](#toc3_1_)    \n",
    "    - 3.1.1. [Features from Advanced Dataset](#toc3_1_1_)    \n",
    "    - 3.1.2. [What are we dealing with?](#toc3_1_2_)    \n",
    "    - 3.1.3. [Renaming and droping empty columns](#toc3_1_3_)    \n",
    "    - 3.1.4. [Checking for NAs](#toc3_1_4_)    \n",
    "    - 3.1.5. [Do these players have multiple lines due to team exchanges?](#toc3_1_5_)    \n",
    "    - 3.1.6. [Let's combine the rows with same players](#toc3_1_6_)    \n",
    "      - 3.1.6.1. [Checking if the concatenation went right](#toc3_1_6_1_)    \n",
    "    - 3.1.7. [First glance at the Advanced Dataset](#toc3_1_7_)    \n",
    "    - 3.1.8. [Imputing values to the missing data](#toc3_1_8_)    \n",
    "    - 3.1.9. [Fixing the % features (they are multiplied by 100, not proportions of 1)](#toc3_1_9_)    \n",
    "  - 3.2. [Examining **Per Game Dataset**](#toc3_2_)    \n",
    "    - 3.2.1. [Features from Per Game Dataset](#toc3_2_1_)    \n",
    "    - 3.2.2. [What are we dealing with?](#toc3_2_2_)    \n",
    "    - 3.2.3. [Renaming the columns](#toc3_2_3_)    \n",
    "    - 3.2.4. [Checking for NAs](#toc3_2_4_)    \n",
    "    - 3.2.5. [Let's combine multiple player rows in one](#toc3_2_5_)    \n",
    "      - 3.2.5.1. [Checking if the concatanation went as expected](#toc3_2_5_1_)    \n",
    "      - 3.2.5.2. [Checking again for NAs](#toc3_2_5_2_)    \n",
    "    - 3.2.6. [Filling out NAs](#toc3_2_6_)    \n",
    "    - 3.2.7. [First glance at the Per Game Dataset](#toc3_2_7_)    \n",
    "- 4. [Feature Engineering and Hypothesis Creation](#toc4_)    \n",
    "  - 4.1. [Merging the two datasets and getting new columns](#toc4_1_)    \n",
    "    - 4.1.1. [Creating some new features](#toc4_1_1_)    \n",
    "      - 4.1.1.1. [GM = Games Missed](#toc4_1_1_1_)    \n",
    "    - 4.1.2. [Reordering the columns](#toc4_1_2_)    \n",
    "    - 4.1.3. [Changing rows with weird player's positions](#toc4_1_3_)    \n",
    "  - 4.2. [Exporting the merged dataset as a csv file](#toc4_2_)    \n",
    "- 5. [Data selection and filtering](#toc5_)    \n",
    "  - 5.1. [Importing merged dataset from csv file](#toc5_1_)    \n",
    "- 6. [Exploratory Data Analysis](#toc6_)    \n",
    "  - 6.1. [Importing merged dataset from csv file](#toc6_1_)    \n",
    "  - 6.2. [First graphs](#toc6_2_)    \n",
    "    - 6.2.1. [How are distributed the Points Per Game according to the Positions assigned to each Player?](#toc6_2_1_)    \n",
    "    - 6.2.2. [How are distributed the 3 Points Percentage Per Game according to the Positions assigned to each Player?](#toc6_2_2_)    \n",
    "    - 6.2.3. [How are distributed the Field Goals Per Game according to the Positions assigned to each Player?](#toc6_2_3_)    \n",
    "    - 6.2.4. [How are distributed the Personal Fouls Per Game according to the Positions assigned to each Player?](#toc6_2_4_)    \n",
    "    - 6.2.5. [How are distributed the Turn-Overs Per Game according to the Positions assigned to each Player?](#toc6_2_5_)    \n",
    "    - 6.2.6. [How are distributed the Blocks Per Game according to the Position assigned to each PLayers?](#toc6_2_6_)    \n",
    "  - 6.3. [Testing some radar charts](#toc6_3_)    \n",
    "    - 6.3.1. [Pre-processing Data to Chart](#toc6_3_1_)    \n",
    "    - 6.3.2. [Full Chart](#toc6_3_2_)    \n",
    "    - 6.3.3. [Offensive Chart](#toc6_3_3_)    \n",
    "    - 6.3.4. [Deffensive Chart](#toc6_3_4_)    \n",
    "    - 6.3.5. [Outra abordagem](#toc6_3_5_)    \n",
    "- 7. [Data Preparation](#toc7_)    \n",
    "- 8. [Feature Selection through Boruta algorithm](#toc8_)    \n",
    "- 9. [Model implementation](#toc9_)    \n",
    "- 10. [Hyperparameter Fine-Tuning](#toc10_)    \n",
    "- 11. [Model Error Estimation and Interpretation](#toc11_)    \n",
    "- 12. [Model Deployment](#toc12_)    \n",
    "\n",
    "<!-- vscode-jupyter-toc-config\n",
    "\tnumbering=true\n",
    "\tanchor=true\n",
    "\tflat=false\n",
    "\tminLevel=1\n",
    "\tmaxLevel=6\n",
    "\t/vscode-jupyter-toc-config -->\n",
    "<!-- THIS CELL WILL BE REPLACED ON TOC UPDATE. DO NOT WRITE YOUR TEXT IN THIS CELL -->"
   ]
  },
  {
   "cell_type": "markdown",
   "metadata": {},
   "source": [
    "# 2. <a id='toc2_'></a>[Importings](#toc0_)"
   ]
  },
  {
   "cell_type": "markdown",
   "metadata": {},
   "source": [
    "## 2.1. <a id='toc2_1_'></a>[Libraries](#toc0_)"
   ]
  },
  {
   "cell_type": "code",
   "execution_count": 5,
   "metadata": {},
   "outputs": [],
   "source": [
    "import pandas as pd\n",
    "import numpy as np\n",
    "import seaborn as sns\n",
    "import matplotlib.pyplot as plt\n",
    "import warnings\n",
    "import pickle\n",
    "import plotly.express as px\n",
    "import plotly.graph_objects as go\n",
    "\n",
    "from ydata_profiling        import ProfileReport\n",
    "from sklearn.impute         import SimpleImputer\n",
    "from IPython.display        import Image\n",
    "from IPython.core.display   import HTML\n"
   ]
  },
  {
   "cell_type": "markdown",
   "metadata": {},
   "source": [
    "## 2.2. <a id='toc2_2_'></a>[Helper Function](#toc0_)"
   ]
  },
  {
   "cell_type": "code",
   "execution_count": 6,
   "metadata": {},
   "outputs": [
    {
     "data": {
      "text/html": [
       "<style>.container { width:100% !important; }</style>"
      ],
      "text/plain": [
       "<IPython.core.display.HTML object>"
      ]
     },
     "metadata": {},
     "output_type": "display_data"
    }
   ],
   "source": [
    "def jupyter_configs():\n",
    "    plt.style.use( 'bmh' )\n",
    "    plt.rcParams['figure.figsize'] = [15, 8]\n",
    "    plt.rcParams['font.size'] = 24\n",
    "    \n",
    "    display( HTML( '<style>.container { width:100% !important; }</style>') )\n",
    "    pd.options.display.max_columns = None\n",
    "    pd.options.display.max_rows = None\n",
    "    pd.set_option( 'display.expand_frame_repr', False )\n",
    "    pd.set_option('display.max_columns', None)\n",
    "    \n",
    "    sns.set()\n",
    "    \n",
    "    warnings.filterwarnings( 'ignore' )\n",
    "    \n",
    "jupyter_configs()"
   ]
  },
  {
   "cell_type": "markdown",
   "metadata": {},
   "source": [
    "## 2.3. <a id='toc2_3_'></a>[Data loading](#toc0_)"
   ]
  },
  {
   "cell_type": "code",
   "execution_count": null,
   "metadata": {},
   "outputs": [],
   "source": [
    "advanced_df_raw = pd.read_csv('~/repos/NBA_2022-2023/data/data_advanced.csv')\n",
    "pergame_df_raw = pd.read_csv('~/repos/NBA_2022-2023/data/data_pergame.csv')"
   ]
  },
  {
   "cell_type": "markdown",
   "metadata": {},
   "source": [
    "# 3. <a id='toc3_'></a>[Data exploration and problem comprehension](#toc0_)\n",
    "- Main goal/problem\n",
    "- Sub-goals\n",
    "- What will the finished product be?"
   ]
  },
  {
   "cell_type": "markdown",
   "metadata": {},
   "source": [
    "## 3.1. <a id='toc3_1_'></a>[Examining the **Advanced Dataset**](#toc0_)"
   ]
  },
  {
   "cell_type": "markdown",
   "metadata": {},
   "source": [
    "### 3.1.1. <a id='toc3_1_1_'></a>[Features from Advanced Dataset](#toc0_)"
   ]
  },
  {
   "cell_type": "markdown",
   "metadata": {},
   "source": [
    "\n",
    "- Rk -- Rank\n",
    "\n",
    "- Pos -- Position\n",
    "\n",
    "- Age -- Player's age on February 1 of the season\n",
    "\n",
    "- Tm -- Team\n",
    "\n",
    "- G -- Games\n",
    "\n",
    "- MP -- Minutes Played\n",
    "\n",
    "- PER -- Player Efficiency Rating. A measure of per-minute production standardized such that the league average is 15.\n",
    "\n",
    "- TS% -- True Shooting Percentage. A measure of shooting efficiency that takes into account 2-point field goals, 3-point field goals, and free throws.\n",
    "\n",
    "- 3PAr -- 3-Point Attempt Rate. Percentage of FG Attempts from 3-Point Range\n",
    "\n",
    "- FTr -- Free Throw Attempt Rate. Number of FT Attempts Per FG Attempt\n",
    "\n",
    "- ORB% -- Offensive Rebound Percentage. An estimate of the percentage of available offensive rebounds a player grabbed while they were on the floor.\n",
    "\n",
    "- DRB% -- Defensive Rebound Percentage. An estimate of the percentage of available defensive rebounds a player grabbed while they were on the floor.\n",
    "\n",
    "- TRB% -- Total Rebound Percentage. An estimate of the percentage of available rebounds a player grabbed while they were on the floor.\n",
    "\n",
    "- AST% -- Assist Percentage. An estimate of the percentage of teammate field goals a player assisted while they were on the floor.\n",
    "\n",
    "- STL% -- Steal Percentage. An estimate of the percentage of opponent possessions that end with a steal by the player while they were on the floor.\n",
    "\n",
    "- BLK% -- Block Percentage. An estimate of the percentage of opponent two-point field goal attempts blocked by the player while they were on the floor.\n",
    "\n",
    "- TOV% -- Turnover Percentage. An estimate of turnovers committed per 100 plays.\n",
    "\n",
    "- USG% -- Usage Percentage. An estimate of the percentage of team plays used by a player while they were on the floor.\n",
    "\n",
    "- OWS -- Offensive Win Shares. An estimate of the number of wins contributed by a player due to offense.\n",
    "\n",
    "- DWS -- Defensive Win Shares. An estimate of the number of wins contributed by a player due to defense.\n",
    "\n",
    "- WS -- Win Shares. An estimate of the number of wins contributed by a player.\n",
    "\n",
    "- WS/48 -- Win Shares Per 48 Minutes. An estimate of the number of wins contributed by a player per 48 minutes (league average is approximately .100)\n",
    "\n",
    "- OBPM -- Offensive Box Plus/Minus. A box score estimate of the offensive points per 100 possessions a player contributed above a league-average player, translated to an average team.\n",
    "\n",
    "- DBPM -- Defensive Box Plus/Minus. A box score estimate of the defensive points per 100 possessions a player contributed above a league-average player, translated to an average team.\n",
    "\n",
    "- BPM -- Box Plus/Minus. A box score estimate of the points per 100 possessions a player contributed above a league-average player, translated to an average team.\n",
    "\n",
    "- VORP -- Value over Replacement Player. A box score estimate of the points per 100 TEAM possessions that a player contributed above a replacement-level (-2.0) player, translated to an average team and prorated to an 82-game season. Multiply by 2.70 to convert to wins over replacement."
   ]
  },
  {
   "cell_type": "markdown",
   "metadata": {},
   "source": [
    "### 3.1.2. <a id='toc3_1_2_'></a>[What are we dealing with?](#toc0_)"
   ]
  },
  {
   "cell_type": "code",
   "execution_count": null,
   "metadata": {},
   "outputs": [],
   "source": [
    "advanced_df_raw.head()"
   ]
  },
  {
   "cell_type": "code",
   "execution_count": null,
   "metadata": {},
   "outputs": [],
   "source": [
    "advanced_df_raw.shape"
   ]
  },
  {
   "cell_type": "markdown",
   "metadata": {},
   "source": [
    "### 3.1.3. <a id='toc3_1_3_'></a>[Renaming and droping empty columns](#toc0_)"
   ]
  },
  {
   "cell_type": "code",
   "execution_count": null,
   "metadata": {},
   "outputs": [],
   "source": [
    "droped_columns = ['Unnamed: 19', 'Unnamed: 24']\n",
    "advanced_df_raw = advanced_df_raw.drop(droped_columns, axis = 1)"
   ]
  },
  {
   "cell_type": "code",
   "execution_count": null,
   "metadata": {},
   "outputs": [],
   "source": [
    "advanced_df_raw.columns"
   ]
  },
  {
   "cell_type": "code",
   "execution_count": null,
   "metadata": {},
   "outputs": [],
   "source": [
    "advanced_cols = ['Rk', 'Player', 'Pos', 'Age', 'Tm', 'G', 'MP_Total', 'PER', 'TS%', '3PAr',\n",
    "       'FTr', 'ORB%', 'DRB%', 'TRB%', 'AST%', 'STL%', 'BLK%', 'TOV%', 'USG%',\n",
    "       'OWS', 'DWS', 'WS', 'WS_48', 'OBPM', 'DBPM', 'BPM', 'VORP',\n",
    "       'Player_additional']\n",
    "\n",
    "advanced_df_raw.columns = advanced_cols"
   ]
  },
  {
   "cell_type": "code",
   "execution_count": null,
   "metadata": {},
   "outputs": [],
   "source": [
    "advanced_df_raw.shape"
   ]
  },
  {
   "cell_type": "code",
   "execution_count": null,
   "metadata": {},
   "outputs": [],
   "source": [
    "# There are 679 rows in the dataset. However only 539 singular players. It happens because some players changed teams during the season and appear in multiple lines.\n",
    "# It may be a good solution to join these lines and stick only with the latest team in wich the player acts.\n",
    "\n",
    "print( advanced_df_raw['Player_additional'].nunique(), 'out of', advanced_df_raw.shape[0])"
   ]
  },
  {
   "cell_type": "markdown",
   "metadata": {},
   "source": [
    "### 3.1.4. <a id='toc3_1_4_'></a>[Checking for NAs](#toc0_)\n",
    "- Only three NAs in columns 'TS%', '3PAr' and 'FTr', and one at the column 'TOV%'. The same three rows have NAs to the first three features and Michael Foster Jr. has missing values to 'TOV%'. \n",
    "- Let's inspect it so we can figure out why they are empty and what to do with it.\n",
    "- Columns 'Unnamed: 19' and 'Unnamed: 24' are completely empty and should be deleted."
   ]
  },
  {
   "cell_type": "code",
   "execution_count": null,
   "metadata": {},
   "outputs": [],
   "source": [
    "advanced_df_raw.isna().sum()"
   ]
  },
  {
   "cell_type": "code",
   "execution_count": null,
   "metadata": {},
   "outputs": [],
   "source": [
    "advanced_df_raw[advanced_df_raw['TOV%'].isna()]"
   ]
  },
  {
   "cell_type": "code",
   "execution_count": null,
   "metadata": {},
   "outputs": [],
   "source": [
    "advanced_df_raw[advanced_df_raw['TS%'].isna()]"
   ]
  },
  {
   "cell_type": "code",
   "execution_count": null,
   "metadata": {},
   "outputs": [],
   "source": [
    "advanced_df_raw[advanced_df_raw['3PAr'].isna()]"
   ]
  },
  {
   "cell_type": "code",
   "execution_count": null,
   "metadata": {},
   "outputs": [],
   "source": [
    "advanced_df_raw[advanced_df_raw['FTr'].isna()]"
   ]
  },
  {
   "cell_type": "markdown",
   "metadata": {},
   "source": [
    "### 3.1.5. <a id='toc3_1_5_'></a>[Do these players have multiple lines due to team exchanges?](#toc0_)\n",
    "- Moses Brown do appear in three different rows once he was traded two times during this season so it may be a good alternative to join the rows\n",
    "- Michael Foster Jr. and Alondes Williams don't appear. So the missing data may be due to impossobilities to calculate it. It may be a good solution to use 0,0 as values or to attempt to estimate it from the Per Game Dataset."
   ]
  },
  {
   "cell_type": "code",
   "execution_count": null,
   "metadata": {},
   "outputs": [],
   "source": [
    "advanced_df_raw[advanced_df_raw['Player_additional'] == 'brownmo01']"
   ]
  },
  {
   "cell_type": "code",
   "execution_count": null,
   "metadata": {},
   "outputs": [],
   "source": [
    "advanced_df_raw[advanced_df_raw['Player_additional'] == 'fostemi02']"
   ]
  },
  {
   "cell_type": "code",
   "execution_count": null,
   "metadata": {},
   "outputs": [],
   "source": [
    "advanced_df_raw[advanced_df_raw['Player_additional'] == 'willial06']"
   ]
  },
  {
   "cell_type": "markdown",
   "metadata": {},
   "source": [
    "### 3.1.6. <a id='toc3_1_6_'></a>[Let's combine the rows with same players](#toc0_)"
   ]
  },
  {
   "cell_type": "code",
   "execution_count": null,
   "metadata": {},
   "outputs": [],
   "source": [
    "advanced_df = advanced_df_raw.groupby(\"Player_additional\", as_index=False).agg(\n",
    "                      {\n",
    "                          'Rk':'first', 'Player':'first', \n",
    "                          'Pos':'first', 'Age':'first', \n",
    "                          'Tm':'first', 'G':'first', \n",
    "                          'MP_Total':'mean', 'PER':'mean', \n",
    "                          'TS%':'mean', '3PAr':'mean',\n",
    "                          'FTr':'mean', 'ORB%':'mean', \n",
    "                          'DRB%':'mean', 'TRB%':'mean', \n",
    "                          'AST%':'mean', 'STL%':'mean', \n",
    "                          'BLK%':'mean', 'TOV%':'mean', \n",
    "                          'USG%':'mean', 'OWS':'mean', \n",
    "                          'DWS':'mean', 'WS':'mean', \n",
    "                          'WS_48':'mean', 'OBPM':'mean', \n",
    "                          'DBPM':'mean', 'BPM':'mean', \n",
    "                          'VORP':'mean', 'Player_additional':'first'\n",
    "                      }\n",
    "                      )"
   ]
  },
  {
   "cell_type": "markdown",
   "metadata": {},
   "source": [
    "#### 3.1.6.1. <a id='toc3_1_6_1_'></a>[Checking if the concatenation went right](#toc0_)"
   ]
  },
  {
   "cell_type": "code",
   "execution_count": null,
   "metadata": {},
   "outputs": [],
   "source": [
    "advanced_df.shape[0]"
   ]
  },
  {
   "cell_type": "code",
   "execution_count": null,
   "metadata": {},
   "outputs": [],
   "source": [
    "advanced_df['Player_additional'].nunique()"
   ]
  },
  {
   "cell_type": "code",
   "execution_count": null,
   "metadata": {},
   "outputs": [],
   "source": [
    "# Como era:\n",
    "\n",
    "advanced_df_raw[advanced_df_raw['Player_additional'] == 'brownmo01']"
   ]
  },
  {
   "cell_type": "code",
   "execution_count": null,
   "metadata": {},
   "outputs": [],
   "source": [
    "# Como ficou:\n",
    "\n",
    "advanced_df[advanced_df['Player_additional'] == 'brownmo01']"
   ]
  },
  {
   "cell_type": "markdown",
   "metadata": {},
   "source": [
    "### 3.1.7. <a id='toc3_1_7_'></a>[First glance at the Advanced Dataset](#toc0_)"
   ]
  },
  {
   "cell_type": "code",
   "execution_count": null,
   "metadata": {},
   "outputs": [],
   "source": [
    "# The data types are all set correctly\n",
    "\n",
    "advanced_df.dtypes"
   ]
  },
  {
   "cell_type": "code",
   "execution_count": null,
   "metadata": {},
   "outputs": [],
   "source": [
    "advanced_df.describe().T"
   ]
  },
  {
   "cell_type": "code",
   "execution_count": null,
   "metadata": {},
   "outputs": [],
   "source": [
    "advanced_df.info()"
   ]
  },
  {
   "cell_type": "code",
   "execution_count": null,
   "metadata": {},
   "outputs": [],
   "source": [
    "# Generate a dataset profile report\n",
    "\n",
    "# advanced_profile = ProfileReport(advanced_df, title = 'Advanced NBA Dataset Profile')\n",
    "# advanced_profile.to_file('advanced_profile.html')\n",
    "# advanced_profile"
   ]
  },
  {
   "cell_type": "markdown",
   "metadata": {},
   "source": [
    "### 3.1.8. <a id='toc3_1_8_'></a>[Imputing values to the missing data](#toc0_)\n",
    "- We still have two players with missing values:\n",
    "  - Michael Foster Jr.: 'TS%', '3PAr', 'FTr' and 'TOV%'\n",
    "  - Alondes Williams: 'TS%', '3PAr' and 'FTr'\n",
    "- Both of them are note playing in NBA league currently\n",
    "- For that reason we will imput zeros to the NAs"
   ]
  },
  {
   "cell_type": "code",
   "execution_count": null,
   "metadata": {},
   "outputs": [],
   "source": [
    "advanced_df[(advanced_df['Player_additional']=='fostemi02') | (advanced_df['Player_additional']=='willial06')]"
   ]
  },
  {
   "cell_type": "code",
   "execution_count": null,
   "metadata": {},
   "outputs": [],
   "source": [
    "advanced_df = advanced_df.fillna(0)"
   ]
  },
  {
   "cell_type": "code",
   "execution_count": null,
   "metadata": {},
   "outputs": [],
   "source": [
    "# Checking if the imputation gone well\n",
    "\n",
    "advanced_df[(advanced_df['Player_additional']=='fostemi02') | (advanced_df['Player_additional']=='willial06')][['Player', 'TS%', '3PAr', 'FTr', 'TOV%']]"
   ]
  },
  {
   "cell_type": "markdown",
   "metadata": {},
   "source": [
    "### 3.1.9. <a id='toc3_1_9_'></a>[Fixing the % features (they are multiplied by 100, not proportions of 1)](#toc0_)"
   ]
  },
  {
   "cell_type": "code",
   "execution_count": null,
   "metadata": {},
   "outputs": [],
   "source": [
    "advanced_df[['USG%', 'TOV%', 'BLK%','STL%', 'AST%', 'TRB%', 'DRB%', 'ORB%']].head()"
   ]
  },
  {
   "cell_type": "code",
   "execution_count": null,
   "metadata": {},
   "outputs": [],
   "source": [
    "advanced_df[['USG%', 'TOV%', 'BLK%','STL%', 'AST%', 'TRB%', 'DRB%', 'ORB%']] = advanced_df[['USG%', 'TOV%', 'BLK%','STL%', 'AST%', 'TRB%', 'DRB%', 'ORB%']]/100"
   ]
  },
  {
   "cell_type": "markdown",
   "metadata": {},
   "source": [
    "## 3.2. <a id='toc3_2_'></a>[Examining **Per Game Dataset**](#toc0_)"
   ]
  },
  {
   "cell_type": "markdown",
   "metadata": {},
   "source": [
    "### 3.2.1. <a id='toc3_2_1_'></a>[Features from Per Game Dataset](#toc0_)"
   ]
  },
  {
   "cell_type": "markdown",
   "metadata": {},
   "source": [
    "\n",
    "- Rk -- Rank\n",
    "\n",
    "- Pos -- Position\n",
    "\n",
    "- Age -- Player's age on February 1 of the season\n",
    "\n",
    "- Tm -- Team\n",
    "\n",
    "- G -- Games\n",
    "\n",
    "- GS -- Games Started\n",
    "\n",
    "- MP -- Minutes Played Per Game\n",
    "\n",
    "- FG -- Field Goals Per Game\n",
    "\n",
    "- FGA -- Field Goal Attempts Per Game\n",
    "\n",
    "- FG% -- Field Goal Percentage\n",
    "\n",
    "- 3P -- 3-Point Field Goals Per Game\n",
    "\n",
    "- 3PA -- 3-Point Field Goal Attempts Per Game\n",
    "\n",
    "- 3P% -- 3-Point Field Goal Percentage\n",
    "\n",
    "- 2P -- 2-Point Field Goals Per Game\n",
    "\n",
    "- 2PA -- 2-Point Field Goal Attempts Per Game\n",
    "\n",
    "- 2P% -- 2-Point Field Goal Percentage\n",
    "\n",
    "- eFG% -- Effective Field Goal Percentage\n",
    "\n",
    "- This statistic adjusts for the fact that a 3-point field goal is worth one more point than a 2-point field goal.\n",
    "\n",
    "- FT -- Free Throws Per Game\n",
    "\n",
    "- FTA -- Free Throw Attempts Per Game\n",
    "\n",
    "- FT% -- Free Throw Percentage\n",
    "\n",
    "- ORB -- Offensive Rebounds Per Game\n",
    "\n",
    "- DRB -- Defensive Rebounds Per Game\n",
    "\n",
    "- TRB -- Total Rebounds Per Game\n",
    "\n",
    "- AST -- Assists Per Game\n",
    "\n",
    "- STL -- Steals Per Game\n",
    "\n",
    "- BLK -- Blocks Per Game\n",
    "\n",
    "- TOV -- Turnovers Per Game\n",
    "\n",
    "- PF -- Personal Fouls Per Game\n",
    "\n",
    "- PTS -- Points Per Game"
   ]
  },
  {
   "cell_type": "markdown",
   "metadata": {},
   "source": [
    "### 3.2.2. <a id='toc3_2_2_'></a>[What are we dealing with?](#toc0_)"
   ]
  },
  {
   "cell_type": "code",
   "execution_count": null,
   "metadata": {},
   "outputs": [],
   "source": [
    "pergame_df_raw.head()"
   ]
  },
  {
   "cell_type": "code",
   "execution_count": null,
   "metadata": {},
   "outputs": [],
   "source": [
    "pergame_df_raw.shape"
   ]
  },
  {
   "cell_type": "markdown",
   "metadata": {},
   "source": [
    "### 3.2.3. <a id='toc3_2_3_'></a>[Renaming the columns](#toc0_)"
   ]
  },
  {
   "cell_type": "code",
   "execution_count": null,
   "metadata": {},
   "outputs": [],
   "source": [
    "pergame_df_raw.columns"
   ]
  },
  {
   "cell_type": "code",
   "execution_count": null,
   "metadata": {},
   "outputs": [],
   "source": [
    "pergame_df_raw.columns = ['Rk', 'Player', 'Pos', 'Age', 'Tm', 'G', 'GS', 'MP', 'FG', 'FGA', 'FG%',\n",
    "       '3P', '3PA', '3P%', '2P', '2PA', '2P%', 'eFG%', 'FT', 'FTA', 'FT%',\n",
    "       'ORB', 'DRB', 'TRB', 'AST', 'STL', 'BLK', 'TOV', 'PF', 'PTS',\n",
    "       'Player_additional']"
   ]
  },
  {
   "cell_type": "markdown",
   "metadata": {},
   "source": [
    "### 3.2.4. <a id='toc3_2_4_'></a>[Checking for NAs](#toc0_)\n",
    "- In this dataset we have a little bit more NAs than in the previous one\n",
    "- There are NAs in five columns in total:\n",
    "  - FG%\n",
    "  - 3P%\n",
    "  - 2P% \n",
    "  - eFG%\n",
    "  - FT%\n",
    "- To the features 'FG%' and 'eFG%' the same thre player from the previous dataset have missing values and we can proceed as we did then"
   ]
  },
  {
   "cell_type": "code",
   "execution_count": null,
   "metadata": {},
   "outputs": [],
   "source": [
    "pergame_df_raw.isna().sum()"
   ]
  },
  {
   "cell_type": "code",
   "execution_count": null,
   "metadata": {},
   "outputs": [],
   "source": [
    "pergame_df_raw[pergame_df_raw['FG%'].isna()]"
   ]
  },
  {
   "cell_type": "code",
   "execution_count": null,
   "metadata": {},
   "outputs": [],
   "source": [
    "pergame_df_raw[pergame_df_raw['3P%'].isna()]"
   ]
  },
  {
   "cell_type": "code",
   "execution_count": null,
   "metadata": {},
   "outputs": [],
   "source": [
    "pergame_df_raw[pergame_df_raw['2P%'].isna()]"
   ]
  },
  {
   "cell_type": "code",
   "execution_count": null,
   "metadata": {},
   "outputs": [],
   "source": [
    "pergame_df_raw[pergame_df_raw['eFG%'].isna()]"
   ]
  },
  {
   "cell_type": "code",
   "execution_count": null,
   "metadata": {},
   "outputs": [],
   "source": [
    "pergame_df_raw[pergame_df_raw['FT%'].isna()]"
   ]
  },
  {
   "cell_type": "markdown",
   "metadata": {},
   "source": [
    "### 3.2.5. <a id='toc3_2_5_'></a>[Let's combine multiple player rows in one](#toc0_)"
   ]
  },
  {
   "cell_type": "code",
   "execution_count": null,
   "metadata": {},
   "outputs": [],
   "source": [
    "pergame_df = pergame_df_raw.groupby(\"Player_additional\", as_index=False).agg(\n",
    "                      {\n",
    "                          'Rk':'first', 'Player':'first', \n",
    "                          'Pos':'first', 'Age':'first', \n",
    "                          'Tm':'first', 'G':'first', \n",
    "                          'GS':'first', 'MP':'mean', \n",
    "                          'FG':'mean', 'FGA':'mean', \n",
    "                          'FG%':'mean', '3P':'mean', \n",
    "                          '3PA':'mean', '3P%':'mean', \n",
    "                          '2P':'mean', '2PA':'mean', \n",
    "                          '2P%':'mean', 'eFG%':'mean', \n",
    "                          'FT':'mean', 'FTA':'mean', \n",
    "                          'FT%':'mean', 'ORB':'mean', \n",
    "                          'DRB':'mean', 'TRB':'mean', \n",
    "                          'AST':'mean', 'STL':'mean', \n",
    "                          'BLK':'mean', 'TOV':'mean', \n",
    "                          'PF':'mean', 'PTS':'mean', \n",
    "                          'Player_additional':'first'\n",
    "                      }\n",
    "                      )"
   ]
  },
  {
   "cell_type": "markdown",
   "metadata": {},
   "source": [
    "#### 3.2.5.1. <a id='toc3_2_5_1_'></a>[Checking if the concatanation went as expected](#toc0_)"
   ]
  },
  {
   "cell_type": "code",
   "execution_count": null,
   "metadata": {},
   "outputs": [],
   "source": [
    "print(pergame_df.shape[0], 'out of', pergame_df_raw.shape[0])"
   ]
  },
  {
   "cell_type": "code",
   "execution_count": null,
   "metadata": {},
   "outputs": [],
   "source": [
    "pergame_df['Player_additional'].nunique()"
   ]
  },
  {
   "cell_type": "markdown",
   "metadata": {},
   "source": [
    "#### 3.2.5.2. <a id='toc3_2_5_2_'></a>[Checking again for NAs](#toc0_)\n",
    "- We still have some NAs. Letś examine them further and decide how to deal with them"
   ]
  },
  {
   "cell_type": "code",
   "execution_count": null,
   "metadata": {},
   "outputs": [],
   "source": [
    "pergame_df.isna().sum()"
   ]
  },
  {
   "cell_type": "markdown",
   "metadata": {},
   "source": [
    "### 3.2.6. <a id='toc3_2_6_'></a>[Filling out NAs](#toc0_)\n",
    "- The NAs still present in the dataset are due to a basic game statistic that has itself only null values (zeros)\n",
    "- Because of that we can input zeros to the NAs"
   ]
  },
  {
   "cell_type": "code",
   "execution_count": null,
   "metadata": {},
   "outputs": [],
   "source": [
    "pergame_df = pergame_df.fillna(0)"
   ]
  },
  {
   "cell_type": "code",
   "execution_count": null,
   "metadata": {},
   "outputs": [],
   "source": [
    "pergame_df.isna().sum()"
   ]
  },
  {
   "cell_type": "markdown",
   "metadata": {},
   "source": [
    "### 3.2.7. <a id='toc3_2_7_'></a>[First glance at the Per Game Dataset](#toc0_)"
   ]
  },
  {
   "cell_type": "code",
   "execution_count": null,
   "metadata": {},
   "outputs": [],
   "source": [
    "pergame_df.describe().T"
   ]
  },
  {
   "cell_type": "code",
   "execution_count": null,
   "metadata": {},
   "outputs": [],
   "source": [
    "pergame_df.info()"
   ]
  },
  {
   "cell_type": "code",
   "execution_count": null,
   "metadata": {},
   "outputs": [],
   "source": [
    "# Generate a dataset profile report\n",
    "\n",
    "# pergame_profile = ProfileReport(pergame_df, title = 'Per Game NBA Dataset Profile')\n",
    "# pergame_profile.to_file('pergame_profile.html')\n",
    "# pergame_profile"
   ]
  },
  {
   "cell_type": "markdown",
   "metadata": {},
   "source": [
    "# 4. <a id='toc4_'></a>[Feature Engineering and Hypothesis Creation](#toc0_)\n",
    "- Mental map for hypothesis and questions\n",
    "- Hypothesis and questions list\n",
    "- Fillout remaining NAs \n",
    "- Derive new variables as needed"
   ]
  },
  {
   "cell_type": "markdown",
   "metadata": {},
   "source": [
    "## 4.1. <a id='toc4_1_'></a>[Merging the two datasets and getting new columns](#toc0_)"
   ]
  },
  {
   "cell_type": "code",
   "execution_count": null,
   "metadata": {},
   "outputs": [],
   "source": [
    "df = pd.merge(advanced_df, pergame_df, how = 'left', on=['Player_additional', 'Player', 'Pos', 'Age', 'Tm', 'G', 'Rk'])\n",
    "print(df)\n",
    "print(df.shape)"
   ]
  },
  {
   "cell_type": "markdown",
   "metadata": {},
   "source": [
    "### 4.1.1. <a id='toc4_1_1_'></a>[Creating some new features](#toc0_)"
   ]
  },
  {
   "cell_type": "markdown",
   "metadata": {},
   "source": [
    "#### 4.1.1.1. <a id='toc4_1_1_1_'></a>[GM = Games Missed](#toc0_)"
   ]
  },
  {
   "cell_type": "code",
   "execution_count": null,
   "metadata": {},
   "outputs": [],
   "source": [
    "df['GM'] = 82 - df['G']"
   ]
  },
  {
   "cell_type": "markdown",
   "metadata": {},
   "source": []
  },
  {
   "cell_type": "code",
   "execution_count": null,
   "metadata": {},
   "outputs": [],
   "source": []
  },
  {
   "cell_type": "markdown",
   "metadata": {},
   "source": [
    "### 4.1.2. <a id='toc4_1_2_'></a>[Reordering the columns](#toc0_)"
   ]
  },
  {
   "cell_type": "code",
   "execution_count": null,
   "metadata": {},
   "outputs": [],
   "source": [
    "df = df[['Rk', 'Player', 'Pos', 'Age', 'Tm', \n",
    "         'G', 'GS', 'GM',\n",
    "         'MP_Total', 'MP', 'PER', \n",
    "         'USG%', 'OWS', 'DWS', 'WS', 'WS_48', \n",
    "         'OBPM', 'DBPM', 'BPM', 'VORP',\n",
    "         'TS%', 'PTS', \n",
    "         'FG', 'FGA', 'FG%', \n",
    "         '3P', '3PA', '3P%', '3PAr',\n",
    "         '2P', '2PA', '2P%', 'eFG%', \n",
    "         'FT', 'FTA', 'FT%', 'FTr',\n",
    "         'ORB', 'ORB%', \n",
    "         'DRB', 'DRB%', \n",
    "         'TRB', 'TRB%',\n",
    "         'AST', 'AST%',\n",
    "         'STL', 'STL%',\n",
    "         'BLK','BLK%',\n",
    "         'TOV', 'TOV%',\n",
    "         'PF', 'Player_additional']]\n",
    "df.head()"
   ]
  },
  {
   "cell_type": "markdown",
   "metadata": {},
   "source": [
    "### 4.1.3. <a id='toc4_1_3_'></a>[Changing rows with weird player's positions](#toc0_)"
   ]
  },
  {
   "cell_type": "code",
   "execution_count": null,
   "metadata": {},
   "outputs": [],
   "source": [
    "df[(df['Pos'] == 'SF-SG') | (df['Pos'] == 'SG-PG')]"
   ]
  },
  {
   "cell_type": "code",
   "execution_count": null,
   "metadata": {},
   "outputs": [],
   "source": [
    "df.iloc[199,2] = 'SF'\n",
    "df.iloc[365,2] = 'SG'"
   ]
  },
  {
   "cell_type": "code",
   "execution_count": null,
   "metadata": {},
   "outputs": [],
   "source": [
    "df[(df['Pos'] == 'SF-SG') | (df['Pos'] == 'SG-PG')]"
   ]
  },
  {
   "cell_type": "markdown",
   "metadata": {},
   "source": [
    "## 4.2. <a id='toc4_2_'></a>[Exporting the merged dataset as a csv file](#toc0_)"
   ]
  },
  {
   "cell_type": "code",
   "execution_count": null,
   "metadata": {},
   "outputs": [],
   "source": [
    "df.to_csv('~/repos/NBA_2022-2023/data/df.csv')"
   ]
  },
  {
   "attachments": {},
   "cell_type": "markdown",
   "metadata": {},
   "source": [
    "# 5. <a id='toc5_'></a>[Data selection and filtering](#toc0_)\n",
    "- Filter data rows\n",
    "- Filter data columns\n",
    "- Based on the questions and hypothesis, select columns\n",
    "- Create a new filtered dataframe\n",
    "- Create the widgets to filter the data"
   ]
  },
  {
   "attachments": {},
   "cell_type": "markdown",
   "metadata": {},
   "source": [
    "## 5.1. <a id='toc5_1_'></a>[Importing merged dataset from csv file and selecting features](#toc0_)\n",
    "- Describing features: Player, Player_additional, Pos, Age, TM, \n",
    "- Offensive metrics: OBPM, PTS, FT, 2P, 3P, TS%, AST,  OWS\n",
    "- Defensive metrics: DBPM, ORB, DRB, STL, BLK, DWS\n",
    "- Negative metrics: TOV, GM, PF\n",
    "- Positive metrics: BPM, G, MP, WS, VORP"
   ]
  },
  {
   "cell_type": "code",
   "execution_count": 7,
   "metadata": {},
   "outputs": [],
   "source": [
    "df05 = pd.read_csv('~/repos/NBA_2022-2023/data/df.csv', low_memory=False)"
   ]
  },
  {
   "cell_type": "code",
   "execution_count": 8,
   "metadata": {},
   "outputs": [
    {
     "data": {
      "text/html": [
       "<div>\n",
       "<style scoped>\n",
       "    .dataframe tbody tr th:only-of-type {\n",
       "        vertical-align: middle;\n",
       "    }\n",
       "\n",
       "    .dataframe tbody tr th {\n",
       "        vertical-align: top;\n",
       "    }\n",
       "\n",
       "    .dataframe thead th {\n",
       "        text-align: right;\n",
       "    }\n",
       "</style>\n",
       "<table border=\"1\" class=\"dataframe\">\n",
       "  <thead>\n",
       "    <tr style=\"text-align: right;\">\n",
       "      <th></th>\n",
       "      <th>Unnamed: 0</th>\n",
       "      <th>Rk</th>\n",
       "      <th>Player</th>\n",
       "      <th>Pos</th>\n",
       "      <th>Age</th>\n",
       "      <th>Tm</th>\n",
       "      <th>G</th>\n",
       "      <th>GS</th>\n",
       "      <th>GM</th>\n",
       "      <th>MP_Total</th>\n",
       "      <th>MP</th>\n",
       "      <th>PER</th>\n",
       "      <th>USG%</th>\n",
       "      <th>OWS</th>\n",
       "      <th>DWS</th>\n",
       "      <th>WS</th>\n",
       "      <th>WS_48</th>\n",
       "      <th>OBPM</th>\n",
       "      <th>DBPM</th>\n",
       "      <th>BPM</th>\n",
       "      <th>VORP</th>\n",
       "      <th>TS%</th>\n",
       "      <th>PTS</th>\n",
       "      <th>FG</th>\n",
       "      <th>FGA</th>\n",
       "      <th>FG%</th>\n",
       "      <th>3P</th>\n",
       "      <th>3PA</th>\n",
       "      <th>3P%</th>\n",
       "      <th>3PAr</th>\n",
       "      <th>2P</th>\n",
       "      <th>2PA</th>\n",
       "      <th>2P%</th>\n",
       "      <th>eFG%</th>\n",
       "      <th>FT</th>\n",
       "      <th>FTA</th>\n",
       "      <th>FT%</th>\n",
       "      <th>FTr</th>\n",
       "      <th>ORB</th>\n",
       "      <th>ORB%</th>\n",
       "      <th>DRB</th>\n",
       "      <th>DRB%</th>\n",
       "      <th>TRB</th>\n",
       "      <th>TRB%</th>\n",
       "      <th>AST</th>\n",
       "      <th>AST%</th>\n",
       "      <th>STL</th>\n",
       "      <th>STL%</th>\n",
       "      <th>BLK</th>\n",
       "      <th>BLK%</th>\n",
       "      <th>TOV</th>\n",
       "      <th>TOV%</th>\n",
       "      <th>PF</th>\n",
       "      <th>Player_additional</th>\n",
       "    </tr>\n",
       "  </thead>\n",
       "  <tbody>\n",
       "    <tr>\n",
       "      <th>0</th>\n",
       "      <td>0</td>\n",
       "      <td>1</td>\n",
       "      <td>Precious Achiuwa</td>\n",
       "      <td>C</td>\n",
       "      <td>23</td>\n",
       "      <td>TOR</td>\n",
       "      <td>55</td>\n",
       "      <td>12</td>\n",
       "      <td>27</td>\n",
       "      <td>1140.0</td>\n",
       "      <td>20.7</td>\n",
       "      <td>15.2</td>\n",
       "      <td>0.194</td>\n",
       "      <td>0.8</td>\n",
       "      <td>1.4</td>\n",
       "      <td>2.2</td>\n",
       "      <td>0.093</td>\n",
       "      <td>-1.4</td>\n",
       "      <td>-0.8</td>\n",
       "      <td>-2.3</td>\n",
       "      <td>-0.1</td>\n",
       "      <td>0.554</td>\n",
       "      <td>9.2</td>\n",
       "      <td>3.6</td>\n",
       "      <td>7.3</td>\n",
       "      <td>0.485</td>\n",
       "      <td>0.5</td>\n",
       "      <td>2.0</td>\n",
       "      <td>0.269</td>\n",
       "      <td>0.267</td>\n",
       "      <td>3.0</td>\n",
       "      <td>5.4</td>\n",
       "      <td>0.564</td>\n",
       "      <td>0.521</td>\n",
       "      <td>1.6</td>\n",
       "      <td>2.3</td>\n",
       "      <td>0.702</td>\n",
       "      <td>0.307</td>\n",
       "      <td>1.8</td>\n",
       "      <td>0.093</td>\n",
       "      <td>4.1</td>\n",
       "      <td>0.244</td>\n",
       "      <td>6.0</td>\n",
       "      <td>0.163</td>\n",
       "      <td>0.9</td>\n",
       "      <td>0.063</td>\n",
       "      <td>0.6</td>\n",
       "      <td>0.013</td>\n",
       "      <td>0.5</td>\n",
       "      <td>0.026</td>\n",
       "      <td>1.1</td>\n",
       "      <td>0.114</td>\n",
       "      <td>1.9</td>\n",
       "      <td>achiupr01</td>\n",
       "    </tr>\n",
       "    <tr>\n",
       "      <th>1</th>\n",
       "      <td>1</td>\n",
       "      <td>2</td>\n",
       "      <td>Steven Adams</td>\n",
       "      <td>C</td>\n",
       "      <td>29</td>\n",
       "      <td>MEM</td>\n",
       "      <td>42</td>\n",
       "      <td>42</td>\n",
       "      <td>40</td>\n",
       "      <td>1133.0</td>\n",
       "      <td>27.0</td>\n",
       "      <td>17.5</td>\n",
       "      <td>0.146</td>\n",
       "      <td>1.3</td>\n",
       "      <td>2.1</td>\n",
       "      <td>3.4</td>\n",
       "      <td>0.144</td>\n",
       "      <td>-0.3</td>\n",
       "      <td>0.9</td>\n",
       "      <td>0.6</td>\n",
       "      <td>0.7</td>\n",
       "      <td>0.564</td>\n",
       "      <td>8.6</td>\n",
       "      <td>3.7</td>\n",
       "      <td>6.3</td>\n",
       "      <td>0.597</td>\n",
       "      <td>0.0</td>\n",
       "      <td>0.0</td>\n",
       "      <td>0.000</td>\n",
       "      <td>0.004</td>\n",
       "      <td>3.7</td>\n",
       "      <td>6.2</td>\n",
       "      <td>0.599</td>\n",
       "      <td>0.597</td>\n",
       "      <td>1.1</td>\n",
       "      <td>3.1</td>\n",
       "      <td>0.364</td>\n",
       "      <td>0.490</td>\n",
       "      <td>5.1</td>\n",
       "      <td>0.201</td>\n",
       "      <td>6.5</td>\n",
       "      <td>0.253</td>\n",
       "      <td>11.5</td>\n",
       "      <td>0.227</td>\n",
       "      <td>2.3</td>\n",
       "      <td>0.112</td>\n",
       "      <td>0.9</td>\n",
       "      <td>0.015</td>\n",
       "      <td>1.1</td>\n",
       "      <td>0.037</td>\n",
       "      <td>1.9</td>\n",
       "      <td>0.198</td>\n",
       "      <td>2.3</td>\n",
       "      <td>adamsst01</td>\n",
       "    </tr>\n",
       "    <tr>\n",
       "      <th>2</th>\n",
       "      <td>2</td>\n",
       "      <td>3</td>\n",
       "      <td>Bam Adebayo</td>\n",
       "      <td>C</td>\n",
       "      <td>25</td>\n",
       "      <td>MIA</td>\n",
       "      <td>75</td>\n",
       "      <td>75</td>\n",
       "      <td>7</td>\n",
       "      <td>2598.0</td>\n",
       "      <td>34.6</td>\n",
       "      <td>20.1</td>\n",
       "      <td>0.252</td>\n",
       "      <td>3.6</td>\n",
       "      <td>3.8</td>\n",
       "      <td>7.4</td>\n",
       "      <td>0.137</td>\n",
       "      <td>0.8</td>\n",
       "      <td>0.8</td>\n",
       "      <td>1.5</td>\n",
       "      <td>2.3</td>\n",
       "      <td>0.592</td>\n",
       "      <td>20.4</td>\n",
       "      <td>8.0</td>\n",
       "      <td>14.9</td>\n",
       "      <td>0.540</td>\n",
       "      <td>0.0</td>\n",
       "      <td>0.2</td>\n",
       "      <td>0.083</td>\n",
       "      <td>0.011</td>\n",
       "      <td>8.0</td>\n",
       "      <td>14.7</td>\n",
       "      <td>0.545</td>\n",
       "      <td>0.541</td>\n",
       "      <td>4.3</td>\n",
       "      <td>5.4</td>\n",
       "      <td>0.806</td>\n",
       "      <td>0.361</td>\n",
       "      <td>2.5</td>\n",
       "      <td>0.080</td>\n",
       "      <td>6.7</td>\n",
       "      <td>0.236</td>\n",
       "      <td>9.2</td>\n",
       "      <td>0.155</td>\n",
       "      <td>3.2</td>\n",
       "      <td>0.159</td>\n",
       "      <td>1.2</td>\n",
       "      <td>0.017</td>\n",
       "      <td>0.8</td>\n",
       "      <td>0.024</td>\n",
       "      <td>2.5</td>\n",
       "      <td>0.127</td>\n",
       "      <td>2.8</td>\n",
       "      <td>adebaba01</td>\n",
       "    </tr>\n",
       "    <tr>\n",
       "      <th>3</th>\n",
       "      <td>3</td>\n",
       "      <td>4</td>\n",
       "      <td>Ochai Agbaji</td>\n",
       "      <td>SG</td>\n",
       "      <td>22</td>\n",
       "      <td>UTA</td>\n",
       "      <td>59</td>\n",
       "      <td>22</td>\n",
       "      <td>23</td>\n",
       "      <td>1209.0</td>\n",
       "      <td>20.5</td>\n",
       "      <td>9.5</td>\n",
       "      <td>0.158</td>\n",
       "      <td>0.9</td>\n",
       "      <td>0.4</td>\n",
       "      <td>1.3</td>\n",
       "      <td>0.053</td>\n",
       "      <td>-1.7</td>\n",
       "      <td>-1.4</td>\n",
       "      <td>-3.0</td>\n",
       "      <td>-0.3</td>\n",
       "      <td>0.561</td>\n",
       "      <td>7.9</td>\n",
       "      <td>2.8</td>\n",
       "      <td>6.5</td>\n",
       "      <td>0.427</td>\n",
       "      <td>1.4</td>\n",
       "      <td>3.9</td>\n",
       "      <td>0.355</td>\n",
       "      <td>0.591</td>\n",
       "      <td>1.4</td>\n",
       "      <td>2.7</td>\n",
       "      <td>0.532</td>\n",
       "      <td>0.532</td>\n",
       "      <td>0.9</td>\n",
       "      <td>1.2</td>\n",
       "      <td>0.812</td>\n",
       "      <td>0.179</td>\n",
       "      <td>0.7</td>\n",
       "      <td>0.039</td>\n",
       "      <td>1.3</td>\n",
       "      <td>0.069</td>\n",
       "      <td>2.1</td>\n",
       "      <td>0.054</td>\n",
       "      <td>1.1</td>\n",
       "      <td>0.075</td>\n",
       "      <td>0.3</td>\n",
       "      <td>0.006</td>\n",
       "      <td>0.3</td>\n",
       "      <td>0.010</td>\n",
       "      <td>0.7</td>\n",
       "      <td>0.090</td>\n",
       "      <td>1.7</td>\n",
       "      <td>agbajoc01</td>\n",
       "    </tr>\n",
       "    <tr>\n",
       "      <th>4</th>\n",
       "      <td>4</td>\n",
       "      <td>5</td>\n",
       "      <td>Santi Aldama</td>\n",
       "      <td>PF</td>\n",
       "      <td>22</td>\n",
       "      <td>MEM</td>\n",
       "      <td>77</td>\n",
       "      <td>20</td>\n",
       "      <td>5</td>\n",
       "      <td>1682.0</td>\n",
       "      <td>21.8</td>\n",
       "      <td>13.9</td>\n",
       "      <td>0.160</td>\n",
       "      <td>2.1</td>\n",
       "      <td>2.4</td>\n",
       "      <td>4.6</td>\n",
       "      <td>0.130</td>\n",
       "      <td>-0.3</td>\n",
       "      <td>0.8</td>\n",
       "      <td>0.5</td>\n",
       "      <td>1.1</td>\n",
       "      <td>0.591</td>\n",
       "      <td>9.0</td>\n",
       "      <td>3.2</td>\n",
       "      <td>6.8</td>\n",
       "      <td>0.470</td>\n",
       "      <td>1.2</td>\n",
       "      <td>3.5</td>\n",
       "      <td>0.353</td>\n",
       "      <td>0.507</td>\n",
       "      <td>2.0</td>\n",
       "      <td>3.4</td>\n",
       "      <td>0.591</td>\n",
       "      <td>0.560</td>\n",
       "      <td>1.4</td>\n",
       "      <td>1.9</td>\n",
       "      <td>0.750</td>\n",
       "      <td>0.274</td>\n",
       "      <td>1.1</td>\n",
       "      <td>0.054</td>\n",
       "      <td>3.7</td>\n",
       "      <td>0.180</td>\n",
       "      <td>4.8</td>\n",
       "      <td>0.117</td>\n",
       "      <td>1.3</td>\n",
       "      <td>0.076</td>\n",
       "      <td>0.6</td>\n",
       "      <td>0.013</td>\n",
       "      <td>0.6</td>\n",
       "      <td>0.026</td>\n",
       "      <td>0.8</td>\n",
       "      <td>0.093</td>\n",
       "      <td>1.9</td>\n",
       "      <td>aldamsa01</td>\n",
       "    </tr>\n",
       "  </tbody>\n",
       "</table>\n",
       "</div>"
      ],
      "text/plain": [
       "   Unnamed: 0  Rk            Player Pos  Age   Tm   G  GS  GM  MP_Total    MP   PER   USG%  OWS  DWS   WS  WS_48  OBPM  DBPM  BPM  VORP    TS%   PTS   FG   FGA    FG%   3P  3PA    3P%   3PAr   2P   2PA    2P%   eFG%   FT  FTA    FT%    FTr  ORB   ORB%  DRB   DRB%   TRB   TRB%  AST   AST%  STL   STL%  BLK   BLK%  TOV   TOV%   PF Player_additional\n",
       "0           0   1  Precious Achiuwa   C   23  TOR  55  12  27    1140.0  20.7  15.2  0.194  0.8  1.4  2.2  0.093  -1.4  -0.8 -2.3  -0.1  0.554   9.2  3.6   7.3  0.485  0.5  2.0  0.269  0.267  3.0   5.4  0.564  0.521  1.6  2.3  0.702  0.307  1.8  0.093  4.1  0.244   6.0  0.163  0.9  0.063  0.6  0.013  0.5  0.026  1.1  0.114  1.9         achiupr01\n",
       "1           1   2      Steven Adams   C   29  MEM  42  42  40    1133.0  27.0  17.5  0.146  1.3  2.1  3.4  0.144  -0.3   0.9  0.6   0.7  0.564   8.6  3.7   6.3  0.597  0.0  0.0  0.000  0.004  3.7   6.2  0.599  0.597  1.1  3.1  0.364  0.490  5.1  0.201  6.5  0.253  11.5  0.227  2.3  0.112  0.9  0.015  1.1  0.037  1.9  0.198  2.3         adamsst01\n",
       "2           2   3       Bam Adebayo   C   25  MIA  75  75   7    2598.0  34.6  20.1  0.252  3.6  3.8  7.4  0.137   0.8   0.8  1.5   2.3  0.592  20.4  8.0  14.9  0.540  0.0  0.2  0.083  0.011  8.0  14.7  0.545  0.541  4.3  5.4  0.806  0.361  2.5  0.080  6.7  0.236   9.2  0.155  3.2  0.159  1.2  0.017  0.8  0.024  2.5  0.127  2.8         adebaba01\n",
       "3           3   4      Ochai Agbaji  SG   22  UTA  59  22  23    1209.0  20.5   9.5  0.158  0.9  0.4  1.3  0.053  -1.7  -1.4 -3.0  -0.3  0.561   7.9  2.8   6.5  0.427  1.4  3.9  0.355  0.591  1.4   2.7  0.532  0.532  0.9  1.2  0.812  0.179  0.7  0.039  1.3  0.069   2.1  0.054  1.1  0.075  0.3  0.006  0.3  0.010  0.7  0.090  1.7         agbajoc01\n",
       "4           4   5      Santi Aldama  PF   22  MEM  77  20   5    1682.0  21.8  13.9  0.160  2.1  2.4  4.6  0.130  -0.3   0.8  0.5   1.1  0.591   9.0  3.2   6.8  0.470  1.2  3.5  0.353  0.507  2.0   3.4  0.591  0.560  1.4  1.9  0.750  0.274  1.1  0.054  3.7  0.180   4.8  0.117  1.3  0.076  0.6  0.013  0.6  0.026  0.8  0.093  1.9         aldamsa01"
      ]
     },
     "execution_count": 8,
     "metadata": {},
     "output_type": "execute_result"
    }
   ],
   "source": [
    "df05.head()"
   ]
  },
  {
   "attachments": {},
   "cell_type": "markdown",
   "metadata": {},
   "source": [
    "- Describing features: Player, Player_additional, Pos, Age, TM, \n",
    "- Offensive metrics: OBPM, PTS, FT, 2P, 3P, TS%, AST,  OWS\n",
    "- Defensive metrics: DBPM, ORB, DRB, STL, BLK, DWS\n",
    "- Negative metrics: TOV, GM, PF\n",
    "- Positive metrics: BPM, G, MP, WS, VORP"
   ]
  },
  {
   "cell_type": "code",
   "execution_count": 81,
   "metadata": {},
   "outputs": [],
   "source": [
    "selected_features = ['Player', 'Player_additional', 'Pos', 'Age', 'Tm',\n",
    "                     'OBPM', 'PTS', 'FT%', '2P%', '3P%', 'TS%', 'OWS', 'AST', 'ORB',\n",
    "                     'DBPM', 'DRB', 'STL', 'BLK', 'DWS', \n",
    "                     'TOV', 'GM', 'PF', \n",
    "                     'BPM', 'G', 'MP_Total', 'MP', 'WS', 'VORP']"
   ]
  },
  {
   "cell_type": "code",
   "execution_count": 82,
   "metadata": {},
   "outputs": [],
   "source": [
    "df_selected = df05[selected_features]"
   ]
  },
  {
   "attachments": {},
   "cell_type": "markdown",
   "metadata": {},
   "source": [
    "## Transforming the dataset"
   ]
  },
  {
   "cell_type": "code",
   "execution_count": 83,
   "metadata": {},
   "outputs": [
    {
     "data": {
      "text/html": [
       "<div>\n",
       "<style scoped>\n",
       "    .dataframe tbody tr th:only-of-type {\n",
       "        vertical-align: middle;\n",
       "    }\n",
       "\n",
       "    .dataframe tbody tr th {\n",
       "        vertical-align: top;\n",
       "    }\n",
       "\n",
       "    .dataframe thead th {\n",
       "        text-align: right;\n",
       "    }\n",
       "</style>\n",
       "<table border=\"1\" class=\"dataframe\">\n",
       "  <thead>\n",
       "    <tr style=\"text-align: right;\">\n",
       "      <th></th>\n",
       "      <th>OBPM</th>\n",
       "      <th>PTS</th>\n",
       "      <th>FT%</th>\n",
       "      <th>2P%</th>\n",
       "      <th>3P%</th>\n",
       "      <th>TS%</th>\n",
       "      <th>OWS</th>\n",
       "      <th>AST</th>\n",
       "      <th>ORB</th>\n",
       "      <th>DBPM</th>\n",
       "      <th>DRB</th>\n",
       "      <th>STL</th>\n",
       "      <th>BLK</th>\n",
       "      <th>DWS</th>\n",
       "      <th>TOV</th>\n",
       "      <th>GM</th>\n",
       "      <th>PF</th>\n",
       "      <th>BPM</th>\n",
       "      <th>G</th>\n",
       "      <th>MP_Total</th>\n",
       "      <th>MP</th>\n",
       "      <th>WS</th>\n",
       "      <th>VORP</th>\n",
       "    </tr>\n",
       "  </thead>\n",
       "  <tbody>\n",
       "    <tr>\n",
       "      <th>0</th>\n",
       "      <td>-1.4</td>\n",
       "      <td>9.2</td>\n",
       "      <td>0.702</td>\n",
       "      <td>0.564</td>\n",
       "      <td>0.269</td>\n",
       "      <td>0.554</td>\n",
       "      <td>0.8</td>\n",
       "      <td>0.9</td>\n",
       "      <td>1.8</td>\n",
       "      <td>-0.8</td>\n",
       "      <td>4.1</td>\n",
       "      <td>0.6</td>\n",
       "      <td>0.5</td>\n",
       "      <td>1.4</td>\n",
       "      <td>1.1</td>\n",
       "      <td>27</td>\n",
       "      <td>1.9</td>\n",
       "      <td>-2.3</td>\n",
       "      <td>55</td>\n",
       "      <td>1140.0</td>\n",
       "      <td>20.7</td>\n",
       "      <td>2.2</td>\n",
       "      <td>-0.1</td>\n",
       "    </tr>\n",
       "    <tr>\n",
       "      <th>1</th>\n",
       "      <td>-0.3</td>\n",
       "      <td>8.6</td>\n",
       "      <td>0.364</td>\n",
       "      <td>0.599</td>\n",
       "      <td>0.000</td>\n",
       "      <td>0.564</td>\n",
       "      <td>1.3</td>\n",
       "      <td>2.3</td>\n",
       "      <td>5.1</td>\n",
       "      <td>0.9</td>\n",
       "      <td>6.5</td>\n",
       "      <td>0.9</td>\n",
       "      <td>1.1</td>\n",
       "      <td>2.1</td>\n",
       "      <td>1.9</td>\n",
       "      <td>40</td>\n",
       "      <td>2.3</td>\n",
       "      <td>0.6</td>\n",
       "      <td>42</td>\n",
       "      <td>1133.0</td>\n",
       "      <td>27.0</td>\n",
       "      <td>3.4</td>\n",
       "      <td>0.7</td>\n",
       "    </tr>\n",
       "    <tr>\n",
       "      <th>2</th>\n",
       "      <td>0.8</td>\n",
       "      <td>20.4</td>\n",
       "      <td>0.806</td>\n",
       "      <td>0.545</td>\n",
       "      <td>0.083</td>\n",
       "      <td>0.592</td>\n",
       "      <td>3.6</td>\n",
       "      <td>3.2</td>\n",
       "      <td>2.5</td>\n",
       "      <td>0.8</td>\n",
       "      <td>6.7</td>\n",
       "      <td>1.2</td>\n",
       "      <td>0.8</td>\n",
       "      <td>3.8</td>\n",
       "      <td>2.5</td>\n",
       "      <td>7</td>\n",
       "      <td>2.8</td>\n",
       "      <td>1.5</td>\n",
       "      <td>75</td>\n",
       "      <td>2598.0</td>\n",
       "      <td>34.6</td>\n",
       "      <td>7.4</td>\n",
       "      <td>2.3</td>\n",
       "    </tr>\n",
       "    <tr>\n",
       "      <th>3</th>\n",
       "      <td>-1.7</td>\n",
       "      <td>7.9</td>\n",
       "      <td>0.812</td>\n",
       "      <td>0.532</td>\n",
       "      <td>0.355</td>\n",
       "      <td>0.561</td>\n",
       "      <td>0.9</td>\n",
       "      <td>1.1</td>\n",
       "      <td>0.7</td>\n",
       "      <td>-1.4</td>\n",
       "      <td>1.3</td>\n",
       "      <td>0.3</td>\n",
       "      <td>0.3</td>\n",
       "      <td>0.4</td>\n",
       "      <td>0.7</td>\n",
       "      <td>23</td>\n",
       "      <td>1.7</td>\n",
       "      <td>-3.0</td>\n",
       "      <td>59</td>\n",
       "      <td>1209.0</td>\n",
       "      <td>20.5</td>\n",
       "      <td>1.3</td>\n",
       "      <td>-0.3</td>\n",
       "    </tr>\n",
       "    <tr>\n",
       "      <th>4</th>\n",
       "      <td>-0.3</td>\n",
       "      <td>9.0</td>\n",
       "      <td>0.750</td>\n",
       "      <td>0.591</td>\n",
       "      <td>0.353</td>\n",
       "      <td>0.591</td>\n",
       "      <td>2.1</td>\n",
       "      <td>1.3</td>\n",
       "      <td>1.1</td>\n",
       "      <td>0.8</td>\n",
       "      <td>3.7</td>\n",
       "      <td>0.6</td>\n",
       "      <td>0.6</td>\n",
       "      <td>2.4</td>\n",
       "      <td>0.8</td>\n",
       "      <td>5</td>\n",
       "      <td>1.9</td>\n",
       "      <td>0.5</td>\n",
       "      <td>77</td>\n",
       "      <td>1682.0</td>\n",
       "      <td>21.8</td>\n",
       "      <td>4.6</td>\n",
       "      <td>1.1</td>\n",
       "    </tr>\n",
       "  </tbody>\n",
       "</table>\n",
       "</div>"
      ],
      "text/plain": [
       "   OBPM   PTS    FT%    2P%    3P%    TS%  OWS  AST  ORB  DBPM  DRB  STL  BLK  DWS  TOV  GM   PF  BPM   G  MP_Total    MP   WS  VORP\n",
       "0  -1.4   9.2  0.702  0.564  0.269  0.554  0.8  0.9  1.8  -0.8  4.1  0.6  0.5  1.4  1.1  27  1.9 -2.3  55    1140.0  20.7  2.2  -0.1\n",
       "1  -0.3   8.6  0.364  0.599  0.000  0.564  1.3  2.3  5.1   0.9  6.5  0.9  1.1  2.1  1.9  40  2.3  0.6  42    1133.0  27.0  3.4   0.7\n",
       "2   0.8  20.4  0.806  0.545  0.083  0.592  3.6  3.2  2.5   0.8  6.7  1.2  0.8  3.8  2.5   7  2.8  1.5  75    2598.0  34.6  7.4   2.3\n",
       "3  -1.7   7.9  0.812  0.532  0.355  0.561  0.9  1.1  0.7  -1.4  1.3  0.3  0.3  0.4  0.7  23  1.7 -3.0  59    1209.0  20.5  1.3  -0.3\n",
       "4  -0.3   9.0  0.750  0.591  0.353  0.591  2.1  1.3  1.1   0.8  3.7  0.6  0.6  2.4  0.8   5  1.9  0.5  77    1682.0  21.8  4.6   1.1"
      ]
     },
     "execution_count": 83,
     "metadata": {},
     "output_type": "execute_result"
    }
   ],
   "source": [
    "num_attributes = df_selected.select_dtypes( include=['int64', 'float64'] )\n",
    "num_attributes = num_attributes.drop('Age', axis = 1)\n",
    "num_attributes.head()"
   ]
  },
  {
   "cell_type": "code",
   "execution_count": 84,
   "metadata": {},
   "outputs": [],
   "source": [
    "num_attributes = num_attributes.apply(lambda x: x/x.max(), axis = 0)"
   ]
  },
  {
   "cell_type": "code",
   "execution_count": 85,
   "metadata": {},
   "outputs": [],
   "source": [
    "df_selected[num_attributes.columns] = num_attributes"
   ]
  },
  {
   "cell_type": "code",
   "execution_count": 86,
   "metadata": {},
   "outputs": [
    {
     "data": {
      "text/html": [
       "<div>\n",
       "<style scoped>\n",
       "    .dataframe tbody tr th:only-of-type {\n",
       "        vertical-align: middle;\n",
       "    }\n",
       "\n",
       "    .dataframe tbody tr th {\n",
       "        vertical-align: top;\n",
       "    }\n",
       "\n",
       "    .dataframe thead th {\n",
       "        text-align: right;\n",
       "    }\n",
       "</style>\n",
       "<table border=\"1\" class=\"dataframe\">\n",
       "  <thead>\n",
       "    <tr style=\"text-align: right;\">\n",
       "      <th></th>\n",
       "      <th>Player</th>\n",
       "      <th>Player_additional</th>\n",
       "      <th>Pos</th>\n",
       "      <th>Age</th>\n",
       "      <th>Tm</th>\n",
       "      <th>OBPM</th>\n",
       "      <th>PTS</th>\n",
       "      <th>FT%</th>\n",
       "      <th>2P%</th>\n",
       "      <th>3P%</th>\n",
       "      <th>TS%</th>\n",
       "      <th>OWS</th>\n",
       "      <th>AST</th>\n",
       "      <th>ORB</th>\n",
       "      <th>DBPM</th>\n",
       "      <th>DRB</th>\n",
       "      <th>STL</th>\n",
       "      <th>BLK</th>\n",
       "      <th>DWS</th>\n",
       "      <th>TOV</th>\n",
       "      <th>GM</th>\n",
       "      <th>PF</th>\n",
       "      <th>BPM</th>\n",
       "      <th>G</th>\n",
       "      <th>MP_Total</th>\n",
       "      <th>MP</th>\n",
       "      <th>WS</th>\n",
       "      <th>VORP</th>\n",
       "    </tr>\n",
       "  </thead>\n",
       "  <tbody>\n",
       "    <tr>\n",
       "      <th>0</th>\n",
       "      <td>Precious Achiuwa</td>\n",
       "      <td>achiupr01</td>\n",
       "      <td>C</td>\n",
       "      <td>23</td>\n",
       "      <td>TOR</td>\n",
       "      <td>-0.084848</td>\n",
       "      <td>0.277946</td>\n",
       "      <td>0.702</td>\n",
       "      <td>0.564</td>\n",
       "      <td>0.269</td>\n",
       "      <td>0.520677</td>\n",
       "      <td>0.071429</td>\n",
       "      <td>0.084112</td>\n",
       "      <td>0.352941</td>\n",
       "      <td>-0.024465</td>\n",
       "      <td>0.427083</td>\n",
       "      <td>0.2</td>\n",
       "      <td>0.166667</td>\n",
       "      <td>0.291667</td>\n",
       "      <td>0.268293</td>\n",
       "      <td>0.333333</td>\n",
       "      <td>0.38</td>\n",
       "      <td>-0.047325</td>\n",
       "      <td>0.662651</td>\n",
       "      <td>0.401126</td>\n",
       "      <td>0.504878</td>\n",
       "      <td>0.147651</td>\n",
       "      <td>-0.011364</td>\n",
       "    </tr>\n",
       "    <tr>\n",
       "      <th>1</th>\n",
       "      <td>Steven Adams</td>\n",
       "      <td>adamsst01</td>\n",
       "      <td>C</td>\n",
       "      <td>29</td>\n",
       "      <td>MEM</td>\n",
       "      <td>-0.018182</td>\n",
       "      <td>0.259819</td>\n",
       "      <td>0.364</td>\n",
       "      <td>0.599</td>\n",
       "      <td>0.000</td>\n",
       "      <td>0.530075</td>\n",
       "      <td>0.116071</td>\n",
       "      <td>0.214953</td>\n",
       "      <td>1.000000</td>\n",
       "      <td>0.027523</td>\n",
       "      <td>0.677083</td>\n",
       "      <td>0.3</td>\n",
       "      <td>0.366667</td>\n",
       "      <td>0.437500</td>\n",
       "      <td>0.463415</td>\n",
       "      <td>0.493827</td>\n",
       "      <td>0.46</td>\n",
       "      <td>0.012346</td>\n",
       "      <td>0.506024</td>\n",
       "      <td>0.398663</td>\n",
       "      <td>0.658537</td>\n",
       "      <td>0.228188</td>\n",
       "      <td>0.079545</td>\n",
       "    </tr>\n",
       "    <tr>\n",
       "      <th>2</th>\n",
       "      <td>Bam Adebayo</td>\n",
       "      <td>adebaba01</td>\n",
       "      <td>C</td>\n",
       "      <td>25</td>\n",
       "      <td>MIA</td>\n",
       "      <td>0.048485</td>\n",
       "      <td>0.616314</td>\n",
       "      <td>0.806</td>\n",
       "      <td>0.545</td>\n",
       "      <td>0.083</td>\n",
       "      <td>0.556391</td>\n",
       "      <td>0.321429</td>\n",
       "      <td>0.299065</td>\n",
       "      <td>0.490196</td>\n",
       "      <td>0.024465</td>\n",
       "      <td>0.697917</td>\n",
       "      <td>0.4</td>\n",
       "      <td>0.266667</td>\n",
       "      <td>0.791667</td>\n",
       "      <td>0.609756</td>\n",
       "      <td>0.086420</td>\n",
       "      <td>0.56</td>\n",
       "      <td>0.030864</td>\n",
       "      <td>0.903614</td>\n",
       "      <td>0.914145</td>\n",
       "      <td>0.843902</td>\n",
       "      <td>0.496644</td>\n",
       "      <td>0.261364</td>\n",
       "    </tr>\n",
       "    <tr>\n",
       "      <th>3</th>\n",
       "      <td>Ochai Agbaji</td>\n",
       "      <td>agbajoc01</td>\n",
       "      <td>SG</td>\n",
       "      <td>22</td>\n",
       "      <td>UTA</td>\n",
       "      <td>-0.103030</td>\n",
       "      <td>0.238671</td>\n",
       "      <td>0.812</td>\n",
       "      <td>0.532</td>\n",
       "      <td>0.355</td>\n",
       "      <td>0.527256</td>\n",
       "      <td>0.080357</td>\n",
       "      <td>0.102804</td>\n",
       "      <td>0.137255</td>\n",
       "      <td>-0.042813</td>\n",
       "      <td>0.135417</td>\n",
       "      <td>0.1</td>\n",
       "      <td>0.100000</td>\n",
       "      <td>0.083333</td>\n",
       "      <td>0.170732</td>\n",
       "      <td>0.283951</td>\n",
       "      <td>0.34</td>\n",
       "      <td>-0.061728</td>\n",
       "      <td>0.710843</td>\n",
       "      <td>0.425405</td>\n",
       "      <td>0.500000</td>\n",
       "      <td>0.087248</td>\n",
       "      <td>-0.034091</td>\n",
       "    </tr>\n",
       "    <tr>\n",
       "      <th>4</th>\n",
       "      <td>Santi Aldama</td>\n",
       "      <td>aldamsa01</td>\n",
       "      <td>PF</td>\n",
       "      <td>22</td>\n",
       "      <td>MEM</td>\n",
       "      <td>-0.018182</td>\n",
       "      <td>0.271903</td>\n",
       "      <td>0.750</td>\n",
       "      <td>0.591</td>\n",
       "      <td>0.353</td>\n",
       "      <td>0.555451</td>\n",
       "      <td>0.187500</td>\n",
       "      <td>0.121495</td>\n",
       "      <td>0.215686</td>\n",
       "      <td>0.024465</td>\n",
       "      <td>0.385417</td>\n",
       "      <td>0.2</td>\n",
       "      <td>0.200000</td>\n",
       "      <td>0.500000</td>\n",
       "      <td>0.195122</td>\n",
       "      <td>0.061728</td>\n",
       "      <td>0.38</td>\n",
       "      <td>0.010288</td>\n",
       "      <td>0.927711</td>\n",
       "      <td>0.591837</td>\n",
       "      <td>0.531707</td>\n",
       "      <td>0.308725</td>\n",
       "      <td>0.125000</td>\n",
       "    </tr>\n",
       "  </tbody>\n",
       "</table>\n",
       "</div>"
      ],
      "text/plain": [
       "             Player Player_additional Pos  Age   Tm      OBPM       PTS    FT%    2P%    3P%       TS%       OWS       AST       ORB      DBPM       DRB  STL       BLK       DWS       TOV        GM    PF       BPM         G  MP_Total        MP        WS      VORP\n",
       "0  Precious Achiuwa         achiupr01   C   23  TOR -0.084848  0.277946  0.702  0.564  0.269  0.520677  0.071429  0.084112  0.352941 -0.024465  0.427083  0.2  0.166667  0.291667  0.268293  0.333333  0.38 -0.047325  0.662651  0.401126  0.504878  0.147651 -0.011364\n",
       "1      Steven Adams         adamsst01   C   29  MEM -0.018182  0.259819  0.364  0.599  0.000  0.530075  0.116071  0.214953  1.000000  0.027523  0.677083  0.3  0.366667  0.437500  0.463415  0.493827  0.46  0.012346  0.506024  0.398663  0.658537  0.228188  0.079545\n",
       "2       Bam Adebayo         adebaba01   C   25  MIA  0.048485  0.616314  0.806  0.545  0.083  0.556391  0.321429  0.299065  0.490196  0.024465  0.697917  0.4  0.266667  0.791667  0.609756  0.086420  0.56  0.030864  0.903614  0.914145  0.843902  0.496644  0.261364\n",
       "3      Ochai Agbaji         agbajoc01  SG   22  UTA -0.103030  0.238671  0.812  0.532  0.355  0.527256  0.080357  0.102804  0.137255 -0.042813  0.135417  0.1  0.100000  0.083333  0.170732  0.283951  0.34 -0.061728  0.710843  0.425405  0.500000  0.087248 -0.034091\n",
       "4      Santi Aldama         aldamsa01  PF   22  MEM -0.018182  0.271903  0.750  0.591  0.353  0.555451  0.187500  0.121495  0.215686  0.024465  0.385417  0.2  0.200000  0.500000  0.195122  0.061728  0.38  0.010288  0.927711  0.591837  0.531707  0.308725  0.125000"
      ]
     },
     "execution_count": 86,
     "metadata": {},
     "output_type": "execute_result"
    }
   ],
   "source": [
    "df_selected.head()"
   ]
  },
  {
   "attachments": {},
   "cell_type": "markdown",
   "metadata": {},
   "source": [
    "## Exporting transformed dataframe"
   ]
  },
  {
   "cell_type": "code",
   "execution_count": 87,
   "metadata": {},
   "outputs": [],
   "source": [
    "df_selected.to_csv('~/repos/NBA_2022-2023/data/df_selected.csv')"
   ]
  },
  {
   "cell_type": "markdown",
   "metadata": {},
   "source": [
    "# 6. <a id='toc6_'></a>[Exploratory Data Analysis](#toc0_)\n",
    "- Answer the hypothesis list\n",
    "- Build data visualization solutions and plots"
   ]
  },
  {
   "cell_type": "markdown",
   "metadata": {},
   "source": [
    "## 6.1. <a id='toc6_1_'></a>[Importing merged dataset from csv file](#toc0_)"
   ]
  },
  {
   "cell_type": "code",
   "execution_count": 88,
   "metadata": {},
   "outputs": [],
   "source": [
    "df06 = pd.read_csv('~/repos/NBA_2022-2023/data/df_selected.csv', low_memory=False, index_col=0)"
   ]
  },
  {
   "cell_type": "code",
   "execution_count": 89,
   "metadata": {},
   "outputs": [
    {
     "data": {
      "text/html": [
       "<div>\n",
       "<style scoped>\n",
       "    .dataframe tbody tr th:only-of-type {\n",
       "        vertical-align: middle;\n",
       "    }\n",
       "\n",
       "    .dataframe tbody tr th {\n",
       "        vertical-align: top;\n",
       "    }\n",
       "\n",
       "    .dataframe thead th {\n",
       "        text-align: right;\n",
       "    }\n",
       "</style>\n",
       "<table border=\"1\" class=\"dataframe\">\n",
       "  <thead>\n",
       "    <tr style=\"text-align: right;\">\n",
       "      <th></th>\n",
       "      <th>Player</th>\n",
       "      <th>Player_additional</th>\n",
       "      <th>Pos</th>\n",
       "      <th>Age</th>\n",
       "      <th>Tm</th>\n",
       "      <th>OBPM</th>\n",
       "      <th>PTS</th>\n",
       "      <th>FT%</th>\n",
       "      <th>2P%</th>\n",
       "      <th>3P%</th>\n",
       "      <th>TS%</th>\n",
       "      <th>OWS</th>\n",
       "      <th>AST</th>\n",
       "      <th>ORB</th>\n",
       "      <th>DBPM</th>\n",
       "      <th>DRB</th>\n",
       "      <th>STL</th>\n",
       "      <th>BLK</th>\n",
       "      <th>DWS</th>\n",
       "      <th>TOV</th>\n",
       "      <th>GM</th>\n",
       "      <th>PF</th>\n",
       "      <th>BPM</th>\n",
       "      <th>G</th>\n",
       "      <th>MP_Total</th>\n",
       "      <th>MP</th>\n",
       "      <th>WS</th>\n",
       "      <th>VORP</th>\n",
       "    </tr>\n",
       "  </thead>\n",
       "  <tbody>\n",
       "    <tr>\n",
       "      <th>0</th>\n",
       "      <td>Precious Achiuwa</td>\n",
       "      <td>achiupr01</td>\n",
       "      <td>C</td>\n",
       "      <td>23</td>\n",
       "      <td>TOR</td>\n",
       "      <td>-0.084848</td>\n",
       "      <td>0.277946</td>\n",
       "      <td>0.702</td>\n",
       "      <td>0.564</td>\n",
       "      <td>0.269</td>\n",
       "      <td>0.520677</td>\n",
       "      <td>0.071429</td>\n",
       "      <td>0.084112</td>\n",
       "      <td>0.352941</td>\n",
       "      <td>-0.024465</td>\n",
       "      <td>0.427083</td>\n",
       "      <td>0.2</td>\n",
       "      <td>0.166667</td>\n",
       "      <td>0.291667</td>\n",
       "      <td>0.268293</td>\n",
       "      <td>0.333333</td>\n",
       "      <td>0.38</td>\n",
       "      <td>-0.047325</td>\n",
       "      <td>0.662651</td>\n",
       "      <td>0.401126</td>\n",
       "      <td>0.504878</td>\n",
       "      <td>0.147651</td>\n",
       "      <td>-0.011364</td>\n",
       "    </tr>\n",
       "    <tr>\n",
       "      <th>1</th>\n",
       "      <td>Steven Adams</td>\n",
       "      <td>adamsst01</td>\n",
       "      <td>C</td>\n",
       "      <td>29</td>\n",
       "      <td>MEM</td>\n",
       "      <td>-0.018182</td>\n",
       "      <td>0.259819</td>\n",
       "      <td>0.364</td>\n",
       "      <td>0.599</td>\n",
       "      <td>0.000</td>\n",
       "      <td>0.530075</td>\n",
       "      <td>0.116071</td>\n",
       "      <td>0.214953</td>\n",
       "      <td>1.000000</td>\n",
       "      <td>0.027523</td>\n",
       "      <td>0.677083</td>\n",
       "      <td>0.3</td>\n",
       "      <td>0.366667</td>\n",
       "      <td>0.437500</td>\n",
       "      <td>0.463415</td>\n",
       "      <td>0.493827</td>\n",
       "      <td>0.46</td>\n",
       "      <td>0.012346</td>\n",
       "      <td>0.506024</td>\n",
       "      <td>0.398663</td>\n",
       "      <td>0.658537</td>\n",
       "      <td>0.228188</td>\n",
       "      <td>0.079545</td>\n",
       "    </tr>\n",
       "    <tr>\n",
       "      <th>2</th>\n",
       "      <td>Bam Adebayo</td>\n",
       "      <td>adebaba01</td>\n",
       "      <td>C</td>\n",
       "      <td>25</td>\n",
       "      <td>MIA</td>\n",
       "      <td>0.048485</td>\n",
       "      <td>0.616314</td>\n",
       "      <td>0.806</td>\n",
       "      <td>0.545</td>\n",
       "      <td>0.083</td>\n",
       "      <td>0.556391</td>\n",
       "      <td>0.321429</td>\n",
       "      <td>0.299065</td>\n",
       "      <td>0.490196</td>\n",
       "      <td>0.024465</td>\n",
       "      <td>0.697917</td>\n",
       "      <td>0.4</td>\n",
       "      <td>0.266667</td>\n",
       "      <td>0.791667</td>\n",
       "      <td>0.609756</td>\n",
       "      <td>0.086420</td>\n",
       "      <td>0.56</td>\n",
       "      <td>0.030864</td>\n",
       "      <td>0.903614</td>\n",
       "      <td>0.914145</td>\n",
       "      <td>0.843902</td>\n",
       "      <td>0.496644</td>\n",
       "      <td>0.261364</td>\n",
       "    </tr>\n",
       "    <tr>\n",
       "      <th>3</th>\n",
       "      <td>Ochai Agbaji</td>\n",
       "      <td>agbajoc01</td>\n",
       "      <td>SG</td>\n",
       "      <td>22</td>\n",
       "      <td>UTA</td>\n",
       "      <td>-0.103030</td>\n",
       "      <td>0.238671</td>\n",
       "      <td>0.812</td>\n",
       "      <td>0.532</td>\n",
       "      <td>0.355</td>\n",
       "      <td>0.527256</td>\n",
       "      <td>0.080357</td>\n",
       "      <td>0.102804</td>\n",
       "      <td>0.137255</td>\n",
       "      <td>-0.042813</td>\n",
       "      <td>0.135417</td>\n",
       "      <td>0.1</td>\n",
       "      <td>0.100000</td>\n",
       "      <td>0.083333</td>\n",
       "      <td>0.170732</td>\n",
       "      <td>0.283951</td>\n",
       "      <td>0.34</td>\n",
       "      <td>-0.061728</td>\n",
       "      <td>0.710843</td>\n",
       "      <td>0.425405</td>\n",
       "      <td>0.500000</td>\n",
       "      <td>0.087248</td>\n",
       "      <td>-0.034091</td>\n",
       "    </tr>\n",
       "    <tr>\n",
       "      <th>4</th>\n",
       "      <td>Santi Aldama</td>\n",
       "      <td>aldamsa01</td>\n",
       "      <td>PF</td>\n",
       "      <td>22</td>\n",
       "      <td>MEM</td>\n",
       "      <td>-0.018182</td>\n",
       "      <td>0.271903</td>\n",
       "      <td>0.750</td>\n",
       "      <td>0.591</td>\n",
       "      <td>0.353</td>\n",
       "      <td>0.555451</td>\n",
       "      <td>0.187500</td>\n",
       "      <td>0.121495</td>\n",
       "      <td>0.215686</td>\n",
       "      <td>0.024465</td>\n",
       "      <td>0.385417</td>\n",
       "      <td>0.2</td>\n",
       "      <td>0.200000</td>\n",
       "      <td>0.500000</td>\n",
       "      <td>0.195122</td>\n",
       "      <td>0.061728</td>\n",
       "      <td>0.38</td>\n",
       "      <td>0.010288</td>\n",
       "      <td>0.927711</td>\n",
       "      <td>0.591837</td>\n",
       "      <td>0.531707</td>\n",
       "      <td>0.308725</td>\n",
       "      <td>0.125000</td>\n",
       "    </tr>\n",
       "  </tbody>\n",
       "</table>\n",
       "</div>"
      ],
      "text/plain": [
       "             Player Player_additional Pos  Age   Tm      OBPM       PTS    FT%    2P%    3P%       TS%       OWS       AST       ORB      DBPM       DRB  STL       BLK       DWS       TOV        GM    PF       BPM         G  MP_Total        MP        WS      VORP\n",
       "0  Precious Achiuwa         achiupr01   C   23  TOR -0.084848  0.277946  0.702  0.564  0.269  0.520677  0.071429  0.084112  0.352941 -0.024465  0.427083  0.2  0.166667  0.291667  0.268293  0.333333  0.38 -0.047325  0.662651  0.401126  0.504878  0.147651 -0.011364\n",
       "1      Steven Adams         adamsst01   C   29  MEM -0.018182  0.259819  0.364  0.599  0.000  0.530075  0.116071  0.214953  1.000000  0.027523  0.677083  0.3  0.366667  0.437500  0.463415  0.493827  0.46  0.012346  0.506024  0.398663  0.658537  0.228188  0.079545\n",
       "2       Bam Adebayo         adebaba01   C   25  MIA  0.048485  0.616314  0.806  0.545  0.083  0.556391  0.321429  0.299065  0.490196  0.024465  0.697917  0.4  0.266667  0.791667  0.609756  0.086420  0.56  0.030864  0.903614  0.914145  0.843902  0.496644  0.261364\n",
       "3      Ochai Agbaji         agbajoc01  SG   22  UTA -0.103030  0.238671  0.812  0.532  0.355  0.527256  0.080357  0.102804  0.137255 -0.042813  0.135417  0.1  0.100000  0.083333  0.170732  0.283951  0.34 -0.061728  0.710843  0.425405  0.500000  0.087248 -0.034091\n",
       "4      Santi Aldama         aldamsa01  PF   22  MEM -0.018182  0.271903  0.750  0.591  0.353  0.555451  0.187500  0.121495  0.215686  0.024465  0.385417  0.2  0.200000  0.500000  0.195122  0.061728  0.38  0.010288  0.927711  0.591837  0.531707  0.308725  0.125000"
      ]
     },
     "execution_count": 89,
     "metadata": {},
     "output_type": "execute_result"
    }
   ],
   "source": [
    "df06.head()"
   ]
  },
  {
   "attachments": {},
   "cell_type": "markdown",
   "metadata": {},
   "source": [
    "## 6.2. <a id='toc6_2_'></a>[First charts](#toc0_)"
   ]
  },
  {
   "cell_type": "markdown",
   "metadata": {},
   "source": [
    "### 6.2.1. <a id='toc6_2_1_'></a>[How are distributed the Points Per Game according to the Positions assigned to each Player?](#toc0_)"
   ]
  },
  {
   "cell_type": "code",
   "execution_count": null,
   "metadata": {},
   "outputs": [],
   "source": [
    "fig = px.box(data_frame = df06,\n",
    "       x = 'Pos',\n",
    "       y = 'PTS',\n",
    "       color = 'Pos',\n",
    "       hover_name = 'Player',\n",
    "       title = 'Points per Game by Position',\n",
    "       labels = {'PTS':'Points per Game',\n",
    "                 'Pos':'Position'},\n",
    "       category_orders = {'Pos':('PG', 'SG', 'SF', 'PF', 'C', 'PF-SF', 'SF-SG', 'SG-PG')},\n",
    "       template='plotly_dark')\n",
    "\n",
    "fig.show()"
   ]
  },
  {
   "cell_type": "markdown",
   "metadata": {},
   "source": [
    "### 6.2.2. <a id='toc6_2_2_'></a>[How are distributed the 3 Points Percentage Per Game according to the Positions assigned to each Player?](#toc0_)"
   ]
  },
  {
   "cell_type": "code",
   "execution_count": null,
   "metadata": {},
   "outputs": [],
   "source": [
    "px.box(data_frame = df06,\n",
    "        x = 'Pos',\n",
    "        y = '3P',\n",
    "        color = 'Pos',\n",
    "        hover_name = 'Player',\n",
    "        title = '3 Points per Game by Position',\n",
    "        labels = {'3P':'3 Points per Game',\n",
    "                        'Pos':'Position'},\n",
    "        category_orders = {'Pos':('PG', 'SG', 'SF', 'PF', 'C', 'PF-SF', 'SF-SG', 'SG-PG')},\n",
    "       template='plotly_dark')"
   ]
  },
  {
   "cell_type": "markdown",
   "metadata": {},
   "source": [
    "### 6.2.3. <a id='toc6_2_3_'></a>[How are distributed the Field Goals Per Game according to the Positions assigned to each Player?](#toc0_)"
   ]
  },
  {
   "cell_type": "code",
   "execution_count": null,
   "metadata": {},
   "outputs": [],
   "source": [
    "px.box(data_frame = df06,\n",
    "       x = 'Pos',\n",
    "       y = 'FG',\n",
    "       color = 'Pos',\n",
    "       hover_name = 'Player',\n",
    "       title = 'Field Goals per Game by Position',\n",
    "       labels = {'FG':'Field Goals', 'Pos': 'Position'},\n",
    "       category_orders = {'Pos':('PG', 'SG', 'SF', 'PF', 'C', 'PF-SF', 'SF-SG', 'SG-PG')},\n",
    "       template='plotly_dark')"
   ]
  },
  {
   "cell_type": "markdown",
   "metadata": {},
   "source": [
    "### 6.2.4. <a id='toc6_2_4_'></a>[How are distributed the Personal Fouls Per Game according to the Positions assigned to each Player?](#toc0_)"
   ]
  },
  {
   "cell_type": "code",
   "execution_count": null,
   "metadata": {},
   "outputs": [],
   "source": [
    "px.box(data_frame = df06,\n",
    "       x = 'Pos',\n",
    "       y = 'PF',\n",
    "       color = 'Pos',\n",
    "       hover_name = 'Player',\n",
    "       title = 'Personal Fouls per Game by Position',\n",
    "       labels = {'PF':'Personal Fouls', 'Pos': 'Position'},\n",
    "       category_orders = {'Pos':('PG', 'SG', 'SF', 'PF', 'C', 'PF-SF', 'SF-SG', 'SG-PG')},\n",
    "       template='plotly_dark')"
   ]
  },
  {
   "cell_type": "markdown",
   "metadata": {},
   "source": [
    "### 6.2.5. <a id='toc6_2_5_'></a>[How are distributed the Turn-Overs Per Game according to the Positions assigned to each Player?](#toc0_)"
   ]
  },
  {
   "cell_type": "code",
   "execution_count": null,
   "metadata": {},
   "outputs": [],
   "source": [
    "px.box(data_frame = df06,\n",
    "       x = 'Pos',\n",
    "       y = 'TOV',\n",
    "       color = 'Pos',\n",
    "       hover_name = 'Player',\n",
    "       title = 'Turn-Overs per Game by Position',\n",
    "       labels = {'TOV':'Turn-Overs', 'Pos': 'Position'},\n",
    "       category_orders = {'Pos':('PG', 'SG', 'SF', 'PF', 'C', 'PF-SF', 'SF-SG', 'SG-PG')},\n",
    "       template='plotly_dark')"
   ]
  },
  {
   "cell_type": "markdown",
   "metadata": {},
   "source": [
    "### 6.2.6. <a id='toc6_2_6_'></a>[How are distributed the Blocks Per Game according to the Position assigned to each PLayers?](#toc0_)"
   ]
  },
  {
   "cell_type": "code",
   "execution_count": null,
   "metadata": {},
   "outputs": [],
   "source": [
    "px.box(data_frame = df06,\n",
    "       x = 'Pos',\n",
    "       y = 'BLK',\n",
    "       color = 'Pos',\n",
    "       hover_name = 'Player',\n",
    "       title = 'Blocks per Game by Position',\n",
    "       labels = {'BLK':'Blocks', 'Pos': 'Position'},\n",
    "       category_orders = {'Pos':('PG', 'SG', 'SF', 'PF', 'C', 'PF-SF', 'SF-SG', 'SG-PG')},\n",
    "       template='plotly_dark')"
   ]
  },
  {
   "cell_type": "code",
   "execution_count": null,
   "metadata": {},
   "outputs": [],
   "source": [
    "df06['Pos'].value_counts()"
   ]
  },
  {
   "cell_type": "markdown",
   "metadata": {},
   "source": [
    "## 6.3. <a id='toc6_3_'></a>[Testing some radar charts](#toc0_)"
   ]
  },
  {
   "cell_type": "markdown",
   "metadata": {},
   "source": [
    "### 6.3.1. <a id='toc6_3_1_'></a>[Pre-processing Data to Chart](#toc0_)"
   ]
  },
  {
   "cell_type": "code",
   "execution_count": 49,
   "metadata": {},
   "outputs": [],
   "source": [
    "player = 'Giannis Antetokounmpo'\n",
    "features = ['FG', '3P', 'TS%', 'FT', 'AST', 'ORB', 'DRB', 'STL', 'BLK', 'DWS']"
   ]
  },
  {
   "cell_type": "code",
   "execution_count": 50,
   "metadata": {},
   "outputs": [
    {
     "data": {
      "text/html": [
       "<div>\n",
       "<style scoped>\n",
       "    .dataframe tbody tr th:only-of-type {\n",
       "        vertical-align: middle;\n",
       "    }\n",
       "\n",
       "    .dataframe tbody tr th {\n",
       "        vertical-align: top;\n",
       "    }\n",
       "\n",
       "    .dataframe thead th {\n",
       "        text-align: right;\n",
       "    }\n",
       "</style>\n",
       "<table border=\"1\" class=\"dataframe\">\n",
       "  <thead>\n",
       "    <tr style=\"text-align: right;\">\n",
       "      <th></th>\n",
       "      <th>Unnamed: 0</th>\n",
       "      <th>Player</th>\n",
       "      <th>Player_additional</th>\n",
       "      <th>Pos</th>\n",
       "      <th>Age</th>\n",
       "      <th>Tm</th>\n",
       "      <th>OBPM</th>\n",
       "      <th>PTS</th>\n",
       "      <th>FT</th>\n",
       "      <th>2P</th>\n",
       "      <th>3P</th>\n",
       "      <th>TS%</th>\n",
       "      <th>OWS</th>\n",
       "      <th>AST</th>\n",
       "      <th>ORB</th>\n",
       "      <th>DBPM</th>\n",
       "      <th>DRB</th>\n",
       "      <th>STL</th>\n",
       "      <th>BLK</th>\n",
       "      <th>DWS</th>\n",
       "      <th>TOV</th>\n",
       "      <th>GM</th>\n",
       "      <th>PF</th>\n",
       "      <th>BPM</th>\n",
       "      <th>G</th>\n",
       "      <th>MP_Total</th>\n",
       "      <th>MP</th>\n",
       "      <th>WS</th>\n",
       "      <th>VORP</th>\n",
       "    </tr>\n",
       "  </thead>\n",
       "  <tbody>\n",
       "    <tr>\n",
       "      <th>10</th>\n",
       "      <td>10</td>\n",
       "      <td>Giannis Antetokounmpo</td>\n",
       "      <td>antetgi01</td>\n",
       "      <td>PF</td>\n",
       "      <td>28</td>\n",
       "      <td>MIL</td>\n",
       "      <td>0.351515</td>\n",
       "      <td>0.939577</td>\n",
       "      <td>0.79</td>\n",
       "      <td>1.0</td>\n",
       "      <td>0.142857</td>\n",
       "      <td>0.568609</td>\n",
       "      <td>0.4375</td>\n",
       "      <td>0.53271</td>\n",
       "      <td>0.431373</td>\n",
       "      <td>0.082569</td>\n",
       "      <td>1.0</td>\n",
       "      <td>0.266667</td>\n",
       "      <td>0.266667</td>\n",
       "      <td>0.770833</td>\n",
       "      <td>0.95122</td>\n",
       "      <td>0.234568</td>\n",
       "      <td>0.62</td>\n",
       "      <td>0.174897</td>\n",
       "      <td>0.759036</td>\n",
       "      <td>0.712175</td>\n",
       "      <td>0.782927</td>\n",
       "      <td>0.577181</td>\n",
       "      <td>0.613636</td>\n",
       "    </tr>\n",
       "  </tbody>\n",
       "</table>\n",
       "</div>"
      ],
      "text/plain": [
       "    Unnamed: 0                 Player Player_additional Pos  Age   Tm      OBPM       PTS    FT   2P        3P       TS%     OWS      AST       ORB      DBPM  DRB       STL       BLK       DWS      TOV        GM    PF       BPM         G  MP_Total        MP        WS      VORP\n",
       "10          10  Giannis Antetokounmpo         antetgi01  PF   28  MIL  0.351515  0.939577  0.79  1.0  0.142857  0.568609  0.4375  0.53271  0.431373  0.082569  1.0  0.266667  0.266667  0.770833  0.95122  0.234568  0.62  0.174897  0.759036  0.712175  0.782927  0.577181  0.613636"
      ]
     },
     "execution_count": 50,
     "metadata": {},
     "output_type": "execute_result"
    }
   ],
   "source": [
    "df06[df06['Player'] == player]"
   ]
  },
  {
   "cell_type": "markdown",
   "metadata": {},
   "source": [
    "### 6.3.2. <a id='toc6_3_2_'></a>[Full Chart](#toc0_)"
   ]
  },
  {
   "cell_type": "code",
   "execution_count": null,
   "metadata": {},
   "outputs": [],
   "source": [
    "aux = df06[df06['Player'] == player][features].T\n",
    "aux.columns = [player]\n",
    "aux.iloc[0] = aux.iloc[0]/df06['FG'].max()\n",
    "aux.iloc[1] = aux.iloc[1]/df06['3P'].max()\n",
    "aux.iloc[2] = aux.iloc[2]/df06['TS%'].max()\n",
    "aux.iloc[3] = aux.iloc[3]/df06['FT'].max()\n",
    "aux.iloc[4] = aux.iloc[4]/df06['AST'].max()\n",
    "aux.iloc[5] = aux.iloc[5]/df06['ORB'].max()\n",
    "aux.iloc[6] = aux.iloc[6]/df06['DRB'].max()\n",
    "aux.iloc[7] = aux.iloc[7]/df06['STL'].max()\n",
    "aux.iloc[8] = aux.iloc[8]/df06['BLK'].max()\n",
    "aux.iloc[9] = aux.iloc[9]/df06['DWS'].max()\n",
    "aux"
   ]
  },
  {
   "cell_type": "code",
   "execution_count": null,
   "metadata": {},
   "outputs": [],
   "source": [
    "fig_full = px.line_polar(data_frame=aux,\n",
    "             r=player,\n",
    "             theta=aux.index,\n",
    "             color_discrete_sequence=px.colors.sequential.Plasma_r, \n",
    "             template=\"plotly_dark\",\n",
    "             title= f\"Offensive - {player}\",\n",
    "             line_close=True,\n",
    "             markers=False,\n",
    "             range_r=[0, 1])\n",
    "fig_full.update_layout(title_text=f\"Full Chart - {player}\", \n",
    "                       title_x=0.5,\n",
    "                       width=800, height=800)\n",
    "fig_full.update_traces(fill = 'toself')"
   ]
  },
  {
   "cell_type": "markdown",
   "metadata": {},
   "source": [
    "### 6.3.3. <a id='toc6_3_3_'></a>[Offensive Chart](#toc0_)"
   ]
  },
  {
   "cell_type": "code",
   "execution_count": null,
   "metadata": {},
   "outputs": [],
   "source": [
    "aux = df06[df06['Player'] == player][['FG%', '3P%', 'TS%', 'FT%', 'AST%', 'ORB%', 'DRB%', 'STL%', 'BLK%', 'DWS']].T\n",
    "aux.columns = [player]\n",
    "aux.iloc[4, 0]\n",
    "aux.iloc[9] = aux.iloc[9]/df06['DWS'].max()\n",
    "# aux.iloc[9] = aux.iloc[9]/4.8\n",
    "# aux.iloc[9] = aux.iloc[9]/4.8\n",
    "# aux.iloc[9] = aux.iloc[9]/4.8\n",
    "aux"
   ]
  },
  {
   "cell_type": "code",
   "execution_count": null,
   "metadata": {},
   "outputs": [],
   "source": [
    "fig_off = px.line_polar(data_frame=aux,\n",
    "             r=player,\n",
    "             theta=aux.index,\n",
    "             color_discrete_sequence=px.colors.sequential.Plasma_r, \n",
    "             template=\"plotly_dark\",\n",
    "             title= f\"Offensive - {player}\",\n",
    "             line_close=True,\n",
    "             markers=False,\n",
    "             range_r=[0, 1])\n",
    "fig_off.update_layout(title_text=f\"Offensive - {player}\", title_x=0.5)"
   ]
  },
  {
   "attachments": {},
   "cell_type": "markdown",
   "metadata": {},
   "source": [
    "### 6.3.4. <a id='toc6_3_4_'></a>[Defensive Chart](#toc0_)"
   ]
  },
  {
   "cell_type": "code",
   "execution_count": null,
   "metadata": {},
   "outputs": [],
   "source": [
    "aux2 = df06[df06['Player'] == player][['DRB%', 'STL%', 'BLK%', 'DWS']].T\n",
    "aux2.columns = [player]\n",
    "aux2.iloc[3] = aux2.iloc[3]/4.8\n",
    "aux2"
   ]
  },
  {
   "cell_type": "code",
   "execution_count": null,
   "metadata": {},
   "outputs": [],
   "source": [
    "fig_def = px.line_polar(data_frame=aux2,\n",
    "             r=player,\n",
    "             theta=aux2.index,\n",
    "             color_discrete_sequence=px.colors.sequential.Plasma_r, \n",
    "             template=\"plotly_dark\",\n",
    "             title=f\"Defensive - {player}\",\n",
    "             line_close=True,\n",
    "             markers=False,\n",
    "             range_r=[0, 1])\n",
    "fig_def.update_layout(title_text=f\"Defensive - {player}\", title_x=0.5)"
   ]
  },
  {
   "attachments": {},
   "cell_type": "markdown",
   "metadata": {},
   "source": [
    "---"
   ]
  },
  {
   "attachments": {},
   "cell_type": "markdown",
   "metadata": {},
   "source": [
    "### 6.3.5. <a id='toc6_3_5_'></a>[A different approach](#toc0_)\n",
    "[] Refactor the code to **aux** dataframe using a single function: `def selection`"
   ]
  },
  {
   "cell_type": "code",
   "execution_count": 96,
   "metadata": {},
   "outputs": [],
   "source": [
    "offensive_features = ['PTS', 'FT%', '2P%', '3P%', 'TS%', 'AST', 'OWS']"
   ]
  },
  {
   "cell_type": "code",
   "execution_count": 97,
   "metadata": {},
   "outputs": [
    {
     "data": {
      "text/html": [
       "<div>\n",
       "<style scoped>\n",
       "    .dataframe tbody tr th:only-of-type {\n",
       "        vertical-align: middle;\n",
       "    }\n",
       "\n",
       "    .dataframe tbody tr th {\n",
       "        vertical-align: top;\n",
       "    }\n",
       "\n",
       "    .dataframe thead th {\n",
       "        text-align: right;\n",
       "    }\n",
       "</style>\n",
       "<table border=\"1\" class=\"dataframe\">\n",
       "  <thead>\n",
       "    <tr style=\"text-align: right;\">\n",
       "      <th></th>\n",
       "      <th>Player</th>\n",
       "      <th>Player_additional</th>\n",
       "      <th>Pos</th>\n",
       "      <th>Age</th>\n",
       "      <th>Tm</th>\n",
       "      <th>OBPM</th>\n",
       "      <th>PTS</th>\n",
       "      <th>FT%</th>\n",
       "      <th>2P%</th>\n",
       "      <th>3P%</th>\n",
       "      <th>TS%</th>\n",
       "      <th>OWS</th>\n",
       "      <th>AST</th>\n",
       "      <th>ORB</th>\n",
       "      <th>DBPM</th>\n",
       "      <th>DRB</th>\n",
       "      <th>STL</th>\n",
       "      <th>BLK</th>\n",
       "      <th>DWS</th>\n",
       "      <th>TOV</th>\n",
       "      <th>GM</th>\n",
       "      <th>PF</th>\n",
       "      <th>BPM</th>\n",
       "      <th>G</th>\n",
       "      <th>MP_Total</th>\n",
       "      <th>MP</th>\n",
       "      <th>WS</th>\n",
       "      <th>VORP</th>\n",
       "    </tr>\n",
       "  </thead>\n",
       "  <tbody>\n",
       "    <tr>\n",
       "      <th>59</th>\n",
       "      <td>Malcolm Brogdon</td>\n",
       "      <td>brogdma01</td>\n",
       "      <td>PG</td>\n",
       "      <td>30</td>\n",
       "      <td>BOS</td>\n",
       "      <td>0.139394</td>\n",
       "      <td>0.450151</td>\n",
       "      <td>0.870</td>\n",
       "      <td>0.510</td>\n",
       "      <td>0.444</td>\n",
       "      <td>0.578008</td>\n",
       "      <td>0.321429</td>\n",
       "      <td>0.345794</td>\n",
       "      <td>0.117647</td>\n",
       "      <td>0.018349</td>\n",
       "      <td>0.375000</td>\n",
       "      <td>0.233333</td>\n",
       "      <td>0.100000</td>\n",
       "      <td>0.458333</td>\n",
       "      <td>0.365854</td>\n",
       "      <td>0.185185</td>\n",
       "      <td>0.32</td>\n",
       "      <td>0.057613</td>\n",
       "      <td>0.807229</td>\n",
       "      <td>0.613652</td>\n",
       "      <td>0.634146</td>\n",
       "      <td>0.389262</td>\n",
       "      <td>0.238636</td>\n",
       "    </tr>\n",
       "    <tr>\n",
       "      <th>63</th>\n",
       "      <td>Jaylen Brown</td>\n",
       "      <td>brownja02</td>\n",
       "      <td>SF</td>\n",
       "      <td>26</td>\n",
       "      <td>BOS</td>\n",
       "      <td>0.090909</td>\n",
       "      <td>0.803625</td>\n",
       "      <td>0.765</td>\n",
       "      <td>0.576</td>\n",
       "      <td>0.335</td>\n",
       "      <td>0.546053</td>\n",
       "      <td>0.142857</td>\n",
       "      <td>0.327103</td>\n",
       "      <td>0.235294</td>\n",
       "      <td>-0.006116</td>\n",
       "      <td>0.593750</td>\n",
       "      <td>0.366667</td>\n",
       "      <td>0.133333</td>\n",
       "      <td>0.708333</td>\n",
       "      <td>0.707317</td>\n",
       "      <td>0.185185</td>\n",
       "      <td>0.52</td>\n",
       "      <td>0.026749</td>\n",
       "      <td>0.807229</td>\n",
       "      <td>0.846235</td>\n",
       "      <td>0.875610</td>\n",
       "      <td>0.335570</td>\n",
       "      <td>0.227273</td>\n",
       "    </tr>\n",
       "    <tr>\n",
       "      <th>110</th>\n",
       "      <td>JD Davison</td>\n",
       "      <td>davisjd01</td>\n",
       "      <td>PG</td>\n",
       "      <td>20</td>\n",
       "      <td>BOS</td>\n",
       "      <td>-0.290909</td>\n",
       "      <td>0.048338</td>\n",
       "      <td>0.500</td>\n",
       "      <td>0.500</td>\n",
       "      <td>0.286</td>\n",
       "      <td>0.449248</td>\n",
       "      <td>0.000000</td>\n",
       "      <td>0.084112</td>\n",
       "      <td>0.039216</td>\n",
       "      <td>0.009174</td>\n",
       "      <td>0.062500</td>\n",
       "      <td>0.066667</td>\n",
       "      <td>0.066667</td>\n",
       "      <td>0.020833</td>\n",
       "      <td>0.073171</td>\n",
       "      <td>0.864198</td>\n",
       "      <td>0.08</td>\n",
       "      <td>-0.092593</td>\n",
       "      <td>0.144578</td>\n",
       "      <td>0.023223</td>\n",
       "      <td>0.134146</td>\n",
       "      <td>0.006711</td>\n",
       "      <td>0.000000</td>\n",
       "    </tr>\n",
       "    <tr>\n",
       "      <th>182</th>\n",
       "      <td>Blake Griffin</td>\n",
       "      <td>griffbl01</td>\n",
       "      <td>C</td>\n",
       "      <td>33</td>\n",
       "      <td>BOS</td>\n",
       "      <td>-0.084848</td>\n",
       "      <td>0.123867</td>\n",
       "      <td>0.656</td>\n",
       "      <td>0.625</td>\n",
       "      <td>0.348</td>\n",
       "      <td>0.554511</td>\n",
       "      <td>0.089286</td>\n",
       "      <td>0.140187</td>\n",
       "      <td>0.215686</td>\n",
       "      <td>0.045872</td>\n",
       "      <td>0.270833</td>\n",
       "      <td>0.100000</td>\n",
       "      <td>0.066667</td>\n",
       "      <td>0.166667</td>\n",
       "      <td>0.121951</td>\n",
       "      <td>0.506173</td>\n",
       "      <td>0.36</td>\n",
       "      <td>0.002058</td>\n",
       "      <td>0.493976</td>\n",
       "      <td>0.200211</td>\n",
       "      <td>0.339024</td>\n",
       "      <td>0.120805</td>\n",
       "      <td>0.034091</td>\n",
       "    </tr>\n",
       "    <tr>\n",
       "      <th>201</th>\n",
       "      <td>Sam Hauser</td>\n",
       "      <td>hausesa01</td>\n",
       "      <td>PF</td>\n",
       "      <td>25</td>\n",
       "      <td>BOS</td>\n",
       "      <td>0.036364</td>\n",
       "      <td>0.193353</td>\n",
       "      <td>0.706</td>\n",
       "      <td>0.656</td>\n",
       "      <td>0.418</td>\n",
       "      <td>0.595865</td>\n",
       "      <td>0.160714</td>\n",
       "      <td>0.084112</td>\n",
       "      <td>0.078431</td>\n",
       "      <td>0.012232</td>\n",
       "      <td>0.218750</td>\n",
       "      <td>0.133333</td>\n",
       "      <td>0.100000</td>\n",
       "      <td>0.333333</td>\n",
       "      <td>0.097561</td>\n",
       "      <td>0.024691</td>\n",
       "      <td>0.24</td>\n",
       "      <td>0.020576</td>\n",
       "      <td>0.963855</td>\n",
       "      <td>0.453906</td>\n",
       "      <td>0.392683</td>\n",
       "      <td>0.228188</td>\n",
       "      <td>0.113636</td>\n",
       "    </tr>\n",
       "    <tr>\n",
       "      <th>216</th>\n",
       "      <td>Al Horford</td>\n",
       "      <td>horfoal01</td>\n",
       "      <td>C</td>\n",
       "      <td>36</td>\n",
       "      <td>BOS</td>\n",
       "      <td>0.096970</td>\n",
       "      <td>0.296073</td>\n",
       "      <td>0.714</td>\n",
       "      <td>0.539</td>\n",
       "      <td>0.446</td>\n",
       "      <td>0.593045</td>\n",
       "      <td>0.321429</td>\n",
       "      <td>0.280374</td>\n",
       "      <td>0.235294</td>\n",
       "      <td>0.051988</td>\n",
       "      <td>0.520833</td>\n",
       "      <td>0.166667</td>\n",
       "      <td>0.333333</td>\n",
       "      <td>0.562500</td>\n",
       "      <td>0.146341</td>\n",
       "      <td>0.234568</td>\n",
       "      <td>0.38</td>\n",
       "      <td>0.067901</td>\n",
       "      <td>0.759036</td>\n",
       "      <td>0.676284</td>\n",
       "      <td>0.743902</td>\n",
       "      <td>0.422819</td>\n",
       "      <td>0.284091</td>\n",
       "    </tr>\n",
       "    <tr>\n",
       "      <th>235</th>\n",
       "      <td>Justin Jackson</td>\n",
       "      <td>jacksju01</td>\n",
       "      <td>SF</td>\n",
       "      <td>27</td>\n",
       "      <td>BOS</td>\n",
       "      <td>-0.254545</td>\n",
       "      <td>0.027190</td>\n",
       "      <td>0.500</td>\n",
       "      <td>0.286</td>\n",
       "      <td>0.250</td>\n",
       "      <td>0.337406</td>\n",
       "      <td>-0.008929</td>\n",
       "      <td>0.037383</td>\n",
       "      <td>0.019608</td>\n",
       "      <td>0.048930</td>\n",
       "      <td>0.072917</td>\n",
       "      <td>0.066667</td>\n",
       "      <td>0.066667</td>\n",
       "      <td>0.041667</td>\n",
       "      <td>0.024390</td>\n",
       "      <td>0.728395</td>\n",
       "      <td>0.06</td>\n",
       "      <td>-0.053498</td>\n",
       "      <td>0.277108</td>\n",
       "      <td>0.037650</td>\n",
       "      <td>0.114634</td>\n",
       "      <td>0.006711</td>\n",
       "      <td>0.000000</td>\n",
       "    </tr>\n",
       "    <tr>\n",
       "      <th>260</th>\n",
       "      <td>Mfiondu Kabengele</td>\n",
       "      <td>kabenmf01</td>\n",
       "      <td>PF</td>\n",
       "      <td>25</td>\n",
       "      <td>BOS</td>\n",
       "      <td>-0.400000</td>\n",
       "      <td>0.045317</td>\n",
       "      <td>1.000</td>\n",
       "      <td>0.500</td>\n",
       "      <td>0.000</td>\n",
       "      <td>0.358083</td>\n",
       "      <td>0.000000</td>\n",
       "      <td>0.000000</td>\n",
       "      <td>0.254902</td>\n",
       "      <td>-0.073394</td>\n",
       "      <td>0.135417</td>\n",
       "      <td>0.166667</td>\n",
       "      <td>0.000000</td>\n",
       "      <td>0.020833</td>\n",
       "      <td>0.073171</td>\n",
       "      <td>0.962963</td>\n",
       "      <td>0.16</td>\n",
       "      <td>-0.183128</td>\n",
       "      <td>0.048193</td>\n",
       "      <td>0.012667</td>\n",
       "      <td>0.219512</td>\n",
       "      <td>0.006711</td>\n",
       "      <td>-0.011364</td>\n",
       "    </tr>\n",
       "    <tr>\n",
       "      <th>274</th>\n",
       "      <td>Luke Kornet</td>\n",
       "      <td>kornelu01</td>\n",
       "      <td>C</td>\n",
       "      <td>27</td>\n",
       "      <td>BOS</td>\n",
       "      <td>-0.024242</td>\n",
       "      <td>0.114804</td>\n",
       "      <td>0.821</td>\n",
       "      <td>0.701</td>\n",
       "      <td>0.231</td>\n",
       "      <td>0.655075</td>\n",
       "      <td>0.187500</td>\n",
       "      <td>0.074766</td>\n",
       "      <td>0.235294</td>\n",
       "      <td>0.039755</td>\n",
       "      <td>0.166667</td>\n",
       "      <td>0.066667</td>\n",
       "      <td>0.233333</td>\n",
       "      <td>0.250000</td>\n",
       "      <td>0.097561</td>\n",
       "      <td>0.160494</td>\n",
       "      <td>0.24</td>\n",
       "      <td>0.020576</td>\n",
       "      <td>0.831325</td>\n",
       "      <td>0.282899</td>\n",
       "      <td>0.285366</td>\n",
       "      <td>0.221477</td>\n",
       "      <td>0.068182</td>\n",
       "    </tr>\n",
       "    <tr>\n",
       "      <th>399</th>\n",
       "      <td>Payton Pritchard</td>\n",
       "      <td>pritcpa01</td>\n",
       "      <td>PG</td>\n",
       "      <td>25</td>\n",
       "      <td>BOS</td>\n",
       "      <td>-0.127273</td>\n",
       "      <td>0.169184</td>\n",
       "      <td>0.750</td>\n",
       "      <td>0.495</td>\n",
       "      <td>0.364</td>\n",
       "      <td>0.503759</td>\n",
       "      <td>-0.008929</td>\n",
       "      <td>0.121495</td>\n",
       "      <td>0.098039</td>\n",
       "      <td>-0.036697</td>\n",
       "      <td>0.135417</td>\n",
       "      <td>0.100000</td>\n",
       "      <td>0.000000</td>\n",
       "      <td>0.145833</td>\n",
       "      <td>0.195122</td>\n",
       "      <td>0.419753</td>\n",
       "      <td>0.16</td>\n",
       "      <td>-0.069959</td>\n",
       "      <td>0.578313</td>\n",
       "      <td>0.226249</td>\n",
       "      <td>0.326829</td>\n",
       "      <td>0.040268</td>\n",
       "      <td>-0.022727</td>\n",
       "    </tr>\n",
       "    <tr>\n",
       "      <th>448</th>\n",
       "      <td>Marcus Smart</td>\n",
       "      <td>smartma01</td>\n",
       "      <td>PG</td>\n",
       "      <td>28</td>\n",
       "      <td>BOS</td>\n",
       "      <td>-0.109091</td>\n",
       "      <td>0.347432</td>\n",
       "      <td>0.746</td>\n",
       "      <td>0.519</td>\n",
       "      <td>0.336</td>\n",
       "      <td>0.505639</td>\n",
       "      <td>0.089286</td>\n",
       "      <td>0.588785</td>\n",
       "      <td>0.156863</td>\n",
       "      <td>0.024465</td>\n",
       "      <td>0.250000</td>\n",
       "      <td>0.500000</td>\n",
       "      <td>0.133333</td>\n",
       "      <td>0.562500</td>\n",
       "      <td>0.560976</td>\n",
       "      <td>0.259259</td>\n",
       "      <td>0.56</td>\n",
       "      <td>-0.020576</td>\n",
       "      <td>0.734940</td>\n",
       "      <td>0.688600</td>\n",
       "      <td>0.782927</td>\n",
       "      <td>0.248322</td>\n",
       "      <td>0.056818</td>\n",
       "    </tr>\n",
       "    <tr>\n",
       "      <th>464</th>\n",
       "      <td>Jayson Tatum</td>\n",
       "      <td>tatumja01</td>\n",
       "      <td>PF</td>\n",
       "      <td>24</td>\n",
       "      <td>BOS</td>\n",
       "      <td>0.290909</td>\n",
       "      <td>0.909366</td>\n",
       "      <td>0.854</td>\n",
       "      <td>0.558</td>\n",
       "      <td>0.350</td>\n",
       "      <td>0.570489</td>\n",
       "      <td>0.553571</td>\n",
       "      <td>0.429907</td>\n",
       "      <td>0.215686</td>\n",
       "      <td>0.021407</td>\n",
       "      <td>0.802083</td>\n",
       "      <td>0.366667</td>\n",
       "      <td>0.233333</td>\n",
       "      <td>0.895833</td>\n",
       "      <td>0.707317</td>\n",
       "      <td>0.098765</td>\n",
       "      <td>0.44</td>\n",
       "      <td>0.113169</td>\n",
       "      <td>0.891566</td>\n",
       "      <td>0.961295</td>\n",
       "      <td>0.900000</td>\n",
       "      <td>0.704698</td>\n",
       "      <td>0.579545</td>\n",
       "    </tr>\n",
       "    <tr>\n",
       "      <th>487</th>\n",
       "      <td>Noah Vonleh</td>\n",
       "      <td>vonleno01</td>\n",
       "      <td>C</td>\n",
       "      <td>27</td>\n",
       "      <td>BOS</td>\n",
       "      <td>-0.424242</td>\n",
       "      <td>0.033233</td>\n",
       "      <td>1.000</td>\n",
       "      <td>0.500</td>\n",
       "      <td>0.250</td>\n",
       "      <td>0.471805</td>\n",
       "      <td>0.000000</td>\n",
       "      <td>0.028037</td>\n",
       "      <td>0.156863</td>\n",
       "      <td>0.021407</td>\n",
       "      <td>0.135417</td>\n",
       "      <td>0.033333</td>\n",
       "      <td>0.100000</td>\n",
       "      <td>0.062500</td>\n",
       "      <td>0.121951</td>\n",
       "      <td>0.728395</td>\n",
       "      <td>0.30</td>\n",
       "      <td>-0.129630</td>\n",
       "      <td>0.277108</td>\n",
       "      <td>0.060169</td>\n",
       "      <td>0.180488</td>\n",
       "      <td>0.013423</td>\n",
       "      <td>-0.022727</td>\n",
       "    </tr>\n",
       "    <tr>\n",
       "      <th>508</th>\n",
       "      <td>Derrick White</td>\n",
       "      <td>whitede01</td>\n",
       "      <td>SG</td>\n",
       "      <td>28</td>\n",
       "      <td>BOS</td>\n",
       "      <td>0.066667</td>\n",
       "      <td>0.374622</td>\n",
       "      <td>0.875</td>\n",
       "      <td>0.548</td>\n",
       "      <td>0.381</td>\n",
       "      <td>0.567669</td>\n",
       "      <td>0.392857</td>\n",
       "      <td>0.364486</td>\n",
       "      <td>0.117647</td>\n",
       "      <td>0.039755</td>\n",
       "      <td>0.302083</td>\n",
       "      <td>0.233333</td>\n",
       "      <td>0.300000</td>\n",
       "      <td>0.645833</td>\n",
       "      <td>0.292683</td>\n",
       "      <td>0.000000</td>\n",
       "      <td>0.44</td>\n",
       "      <td>0.049383</td>\n",
       "      <td>0.987952</td>\n",
       "      <td>0.815975</td>\n",
       "      <td>0.690244</td>\n",
       "      <td>0.496644</td>\n",
       "      <td>0.295455</td>\n",
       "    </tr>\n",
       "    <tr>\n",
       "      <th>516</th>\n",
       "      <td>Grant Williams</td>\n",
       "      <td>willigr01</td>\n",
       "      <td>PF</td>\n",
       "      <td>24</td>\n",
       "      <td>BOS</td>\n",
       "      <td>-0.109091</td>\n",
       "      <td>0.244713</td>\n",
       "      <td>0.770</td>\n",
       "      <td>0.546</td>\n",
       "      <td>0.395</td>\n",
       "      <td>0.568609</td>\n",
       "      <td>0.169643</td>\n",
       "      <td>0.158879</td>\n",
       "      <td>0.215686</td>\n",
       "      <td>0.021407</td>\n",
       "      <td>0.364583</td>\n",
       "      <td>0.166667</td>\n",
       "      <td>0.133333</td>\n",
       "      <td>0.541667</td>\n",
       "      <td>0.243902</td>\n",
       "      <td>0.037037</td>\n",
       "      <td>0.48</td>\n",
       "      <td>-0.022634</td>\n",
       "      <td>0.951807</td>\n",
       "      <td>0.719564</td>\n",
       "      <td>0.631707</td>\n",
       "      <td>0.295302</td>\n",
       "      <td>0.056818</td>\n",
       "    </tr>\n",
       "    <tr>\n",
       "      <th>523</th>\n",
       "      <td>Robert Williams</td>\n",
       "      <td>williro04</td>\n",
       "      <td>C</td>\n",
       "      <td>25</td>\n",
       "      <td>BOS</td>\n",
       "      <td>0.060606</td>\n",
       "      <td>0.241692</td>\n",
       "      <td>0.610</td>\n",
       "      <td>0.751</td>\n",
       "      <td>0.000</td>\n",
       "      <td>0.697368</td>\n",
       "      <td>0.205357</td>\n",
       "      <td>0.130841</td>\n",
       "      <td>0.588235</td>\n",
       "      <td>0.073394</td>\n",
       "      <td>0.562500</td>\n",
       "      <td>0.200000</td>\n",
       "      <td>0.466667</td>\n",
       "      <td>0.333333</td>\n",
       "      <td>0.243902</td>\n",
       "      <td>0.580247</td>\n",
       "      <td>0.38</td>\n",
       "      <td>0.067901</td>\n",
       "      <td>0.421687</td>\n",
       "      <td>0.289937</td>\n",
       "      <td>0.573171</td>\n",
       "      <td>0.255034</td>\n",
       "      <td>0.125000</td>\n",
       "    </tr>\n",
       "  </tbody>\n",
       "</table>\n",
       "</div>"
      ],
      "text/plain": [
       "                Player Player_additional Pos  Age   Tm      OBPM       PTS    FT%    2P%    3P%       TS%       OWS       AST       ORB      DBPM       DRB       STL       BLK       DWS       TOV        GM    PF       BPM         G  MP_Total        MP        WS      VORP\n",
       "59     Malcolm Brogdon         brogdma01  PG   30  BOS  0.139394  0.450151  0.870  0.510  0.444  0.578008  0.321429  0.345794  0.117647  0.018349  0.375000  0.233333  0.100000  0.458333  0.365854  0.185185  0.32  0.057613  0.807229  0.613652  0.634146  0.389262  0.238636\n",
       "63        Jaylen Brown         brownja02  SF   26  BOS  0.090909  0.803625  0.765  0.576  0.335  0.546053  0.142857  0.327103  0.235294 -0.006116  0.593750  0.366667  0.133333  0.708333  0.707317  0.185185  0.52  0.026749  0.807229  0.846235  0.875610  0.335570  0.227273\n",
       "110         JD Davison         davisjd01  PG   20  BOS -0.290909  0.048338  0.500  0.500  0.286  0.449248  0.000000  0.084112  0.039216  0.009174  0.062500  0.066667  0.066667  0.020833  0.073171  0.864198  0.08 -0.092593  0.144578  0.023223  0.134146  0.006711  0.000000\n",
       "182      Blake Griffin         griffbl01   C   33  BOS -0.084848  0.123867  0.656  0.625  0.348  0.554511  0.089286  0.140187  0.215686  0.045872  0.270833  0.100000  0.066667  0.166667  0.121951  0.506173  0.36  0.002058  0.493976  0.200211  0.339024  0.120805  0.034091\n",
       "201         Sam Hauser         hausesa01  PF   25  BOS  0.036364  0.193353  0.706  0.656  0.418  0.595865  0.160714  0.084112  0.078431  0.012232  0.218750  0.133333  0.100000  0.333333  0.097561  0.024691  0.24  0.020576  0.963855  0.453906  0.392683  0.228188  0.113636\n",
       "216         Al Horford         horfoal01   C   36  BOS  0.096970  0.296073  0.714  0.539  0.446  0.593045  0.321429  0.280374  0.235294  0.051988  0.520833  0.166667  0.333333  0.562500  0.146341  0.234568  0.38  0.067901  0.759036  0.676284  0.743902  0.422819  0.284091\n",
       "235     Justin Jackson         jacksju01  SF   27  BOS -0.254545  0.027190  0.500  0.286  0.250  0.337406 -0.008929  0.037383  0.019608  0.048930  0.072917  0.066667  0.066667  0.041667  0.024390  0.728395  0.06 -0.053498  0.277108  0.037650  0.114634  0.006711  0.000000\n",
       "260  Mfiondu Kabengele         kabenmf01  PF   25  BOS -0.400000  0.045317  1.000  0.500  0.000  0.358083  0.000000  0.000000  0.254902 -0.073394  0.135417  0.166667  0.000000  0.020833  0.073171  0.962963  0.16 -0.183128  0.048193  0.012667  0.219512  0.006711 -0.011364\n",
       "274        Luke Kornet         kornelu01   C   27  BOS -0.024242  0.114804  0.821  0.701  0.231  0.655075  0.187500  0.074766  0.235294  0.039755  0.166667  0.066667  0.233333  0.250000  0.097561  0.160494  0.24  0.020576  0.831325  0.282899  0.285366  0.221477  0.068182\n",
       "399   Payton Pritchard         pritcpa01  PG   25  BOS -0.127273  0.169184  0.750  0.495  0.364  0.503759 -0.008929  0.121495  0.098039 -0.036697  0.135417  0.100000  0.000000  0.145833  0.195122  0.419753  0.16 -0.069959  0.578313  0.226249  0.326829  0.040268 -0.022727\n",
       "448       Marcus Smart         smartma01  PG   28  BOS -0.109091  0.347432  0.746  0.519  0.336  0.505639  0.089286  0.588785  0.156863  0.024465  0.250000  0.500000  0.133333  0.562500  0.560976  0.259259  0.56 -0.020576  0.734940  0.688600  0.782927  0.248322  0.056818\n",
       "464       Jayson Tatum         tatumja01  PF   24  BOS  0.290909  0.909366  0.854  0.558  0.350  0.570489  0.553571  0.429907  0.215686  0.021407  0.802083  0.366667  0.233333  0.895833  0.707317  0.098765  0.44  0.113169  0.891566  0.961295  0.900000  0.704698  0.579545\n",
       "487        Noah Vonleh         vonleno01   C   27  BOS -0.424242  0.033233  1.000  0.500  0.250  0.471805  0.000000  0.028037  0.156863  0.021407  0.135417  0.033333  0.100000  0.062500  0.121951  0.728395  0.30 -0.129630  0.277108  0.060169  0.180488  0.013423 -0.022727\n",
       "508      Derrick White         whitede01  SG   28  BOS  0.066667  0.374622  0.875  0.548  0.381  0.567669  0.392857  0.364486  0.117647  0.039755  0.302083  0.233333  0.300000  0.645833  0.292683  0.000000  0.44  0.049383  0.987952  0.815975  0.690244  0.496644  0.295455\n",
       "516     Grant Williams         willigr01  PF   24  BOS -0.109091  0.244713  0.770  0.546  0.395  0.568609  0.169643  0.158879  0.215686  0.021407  0.364583  0.166667  0.133333  0.541667  0.243902  0.037037  0.48 -0.022634  0.951807  0.719564  0.631707  0.295302  0.056818\n",
       "523    Robert Williams         williro04   C   25  BOS  0.060606  0.241692  0.610  0.751  0.000  0.697368  0.205357  0.130841  0.588235  0.073394  0.562500  0.200000  0.466667  0.333333  0.243902  0.580247  0.38  0.067901  0.421687  0.289937  0.573171  0.255034  0.125000"
      ]
     },
     "execution_count": 97,
     "metadata": {},
     "output_type": "execute_result"
    }
   ],
   "source": [
    "df06[df06['Tm'] == 'BOS']"
   ]
  },
  {
   "cell_type": "code",
   "execution_count": 98,
   "metadata": {},
   "outputs": [],
   "source": [
    "playerA = 'Giannis Antetokounmpo'\n",
    "playerB = 'Jayson Tatum'"
   ]
  },
  {
   "cell_type": "code",
   "execution_count": 99,
   "metadata": {},
   "outputs": [
    {
     "data": {
      "text/html": [
       "<div>\n",
       "<style scoped>\n",
       "    .dataframe tbody tr th:only-of-type {\n",
       "        vertical-align: middle;\n",
       "    }\n",
       "\n",
       "    .dataframe tbody tr th {\n",
       "        vertical-align: top;\n",
       "    }\n",
       "\n",
       "    .dataframe thead th {\n",
       "        text-align: right;\n",
       "    }\n",
       "</style>\n",
       "<table border=\"1\" class=\"dataframe\">\n",
       "  <thead>\n",
       "    <tr style=\"text-align: right;\">\n",
       "      <th></th>\n",
       "      <th>Giannis Antetokounmpo</th>\n",
       "    </tr>\n",
       "  </thead>\n",
       "  <tbody>\n",
       "    <tr>\n",
       "      <th>PTS</th>\n",
       "      <td>0.939577</td>\n",
       "    </tr>\n",
       "    <tr>\n",
       "      <th>FT%</th>\n",
       "      <td>0.645000</td>\n",
       "    </tr>\n",
       "    <tr>\n",
       "      <th>2P%</th>\n",
       "      <td>0.596000</td>\n",
       "    </tr>\n",
       "    <tr>\n",
       "      <th>3P%</th>\n",
       "      <td>0.275000</td>\n",
       "    </tr>\n",
       "    <tr>\n",
       "      <th>TS%</th>\n",
       "      <td>0.568609</td>\n",
       "    </tr>\n",
       "    <tr>\n",
       "      <th>AST</th>\n",
       "      <td>0.532710</td>\n",
       "    </tr>\n",
       "    <tr>\n",
       "      <th>OWS</th>\n",
       "      <td>0.437500</td>\n",
       "    </tr>\n",
       "  </tbody>\n",
       "</table>\n",
       "</div>"
      ],
      "text/plain": [
       "     Giannis Antetokounmpo\n",
       "PTS               0.939577\n",
       "FT%               0.645000\n",
       "2P%               0.596000\n",
       "3P%               0.275000\n",
       "TS%               0.568609\n",
       "AST               0.532710\n",
       "OWS               0.437500"
      ]
     },
     "execution_count": 99,
     "metadata": {},
     "output_type": "execute_result"
    }
   ],
   "source": [
    "auxA = df06[df06['Player'] == playerA][offensive_features].T\n",
    "auxA.columns = [playerA]\n",
    "auxA"
   ]
  },
  {
   "cell_type": "code",
   "execution_count": 100,
   "metadata": {},
   "outputs": [
    {
     "data": {
      "text/html": [
       "<div>\n",
       "<style scoped>\n",
       "    .dataframe tbody tr th:only-of-type {\n",
       "        vertical-align: middle;\n",
       "    }\n",
       "\n",
       "    .dataframe tbody tr th {\n",
       "        vertical-align: top;\n",
       "    }\n",
       "\n",
       "    .dataframe thead th {\n",
       "        text-align: right;\n",
       "    }\n",
       "</style>\n",
       "<table border=\"1\" class=\"dataframe\">\n",
       "  <thead>\n",
       "    <tr style=\"text-align: right;\">\n",
       "      <th></th>\n",
       "      <th>Jayson Tatum</th>\n",
       "    </tr>\n",
       "  </thead>\n",
       "  <tbody>\n",
       "    <tr>\n",
       "      <th>PTS</th>\n",
       "      <td>0.909366</td>\n",
       "    </tr>\n",
       "    <tr>\n",
       "      <th>FT%</th>\n",
       "      <td>0.854000</td>\n",
       "    </tr>\n",
       "    <tr>\n",
       "      <th>2P%</th>\n",
       "      <td>0.558000</td>\n",
       "    </tr>\n",
       "    <tr>\n",
       "      <th>3P%</th>\n",
       "      <td>0.350000</td>\n",
       "    </tr>\n",
       "    <tr>\n",
       "      <th>TS%</th>\n",
       "      <td>0.570489</td>\n",
       "    </tr>\n",
       "    <tr>\n",
       "      <th>AST</th>\n",
       "      <td>0.429907</td>\n",
       "    </tr>\n",
       "    <tr>\n",
       "      <th>OWS</th>\n",
       "      <td>0.553571</td>\n",
       "    </tr>\n",
       "  </tbody>\n",
       "</table>\n",
       "</div>"
      ],
      "text/plain": [
       "     Jayson Tatum\n",
       "PTS      0.909366\n",
       "FT%      0.854000\n",
       "2P%      0.558000\n",
       "3P%      0.350000\n",
       "TS%      0.570489\n",
       "AST      0.429907\n",
       "OWS      0.553571"
      ]
     },
     "execution_count": 100,
     "metadata": {},
     "output_type": "execute_result"
    }
   ],
   "source": [
    "auxB = df06[df06['Player'] == playerB][offensive_features].T\n",
    "auxB.columns = [playerB]\n",
    "auxB"
   ]
  },
  {
   "attachments": {},
   "cell_type": "markdown",
   "metadata": {},
   "source": [
    "### Offensive comparison chart- Describing features: Player, Player_additional, Pos, Age, TM, \n",
    "- Offensive metrics: OBPM, PTS, FT, 2P, 3P, TS%, AST, OWS"
   ]
  },
  {
   "cell_type": "code",
   "execution_count": 120,
   "metadata": {},
   "outputs": [
    {
     "data": {
      "application/vnd.plotly.v1+json": {
       "config": {
        "plotlyServerURL": "https://plot.ly"
       },
       "data": [
        {
         "fill": "toself",
         "name": "Giannis Antetokounmpo",
         "r": [
          0.951219512195122,
          0.2345679012345679,
          0.62,
          0.7590361445783133,
          0.7829268292682927,
          0.5771812080536912,
          0.6136363636363636
         ],
         "theta": [
          "PTS",
          "FT%",
          "2P%",
          "3P%",
          "TS%",
          "AST",
          "OWS"
         ],
         "type": "scatterpolar"
        },
        {
         "fill": "toself",
         "name": "Jayson Tatum",
         "r": [
          0.7073170731707318,
          0.0987654320987654,
          0.44,
          0.891566265060241,
          0.8999999999999999,
          0.7046979865771812,
          0.5795454545454545
         ],
         "theta": [
          "PTS",
          "FT%",
          "2P%",
          "3P%",
          "TS%",
          "AST",
          "OWS"
         ],
         "type": "scatterpolar"
        }
       ],
       "layout": {
        "height": 800,
        "polar": {
         "radialaxis": {
          "range": [
           0,
           1
          ],
          "visible": true
         }
        },
        "showlegend": true,
        "template": {
         "data": {
          "bar": [
           {
            "error_x": {
             "color": "#f2f5fa"
            },
            "error_y": {
             "color": "#f2f5fa"
            },
            "marker": {
             "line": {
              "color": "rgb(17,17,17)",
              "width": 0.5
             },
             "pattern": {
              "fillmode": "overlay",
              "size": 10,
              "solidity": 0.2
             }
            },
            "type": "bar"
           }
          ],
          "barpolar": [
           {
            "marker": {
             "line": {
              "color": "rgb(17,17,17)",
              "width": 0.5
             },
             "pattern": {
              "fillmode": "overlay",
              "size": 10,
              "solidity": 0.2
             }
            },
            "type": "barpolar"
           }
          ],
          "carpet": [
           {
            "aaxis": {
             "endlinecolor": "#A2B1C6",
             "gridcolor": "#506784",
             "linecolor": "#506784",
             "minorgridcolor": "#506784",
             "startlinecolor": "#A2B1C6"
            },
            "baxis": {
             "endlinecolor": "#A2B1C6",
             "gridcolor": "#506784",
             "linecolor": "#506784",
             "minorgridcolor": "#506784",
             "startlinecolor": "#A2B1C6"
            },
            "type": "carpet"
           }
          ],
          "choropleth": [
           {
            "colorbar": {
             "outlinewidth": 0,
             "ticks": ""
            },
            "type": "choropleth"
           }
          ],
          "contour": [
           {
            "colorbar": {
             "outlinewidth": 0,
             "ticks": ""
            },
            "colorscale": [
             [
              0,
              "#0d0887"
             ],
             [
              0.1111111111111111,
              "#46039f"
             ],
             [
              0.2222222222222222,
              "#7201a8"
             ],
             [
              0.3333333333333333,
              "#9c179e"
             ],
             [
              0.4444444444444444,
              "#bd3786"
             ],
             [
              0.5555555555555556,
              "#d8576b"
             ],
             [
              0.6666666666666666,
              "#ed7953"
             ],
             [
              0.7777777777777778,
              "#fb9f3a"
             ],
             [
              0.8888888888888888,
              "#fdca26"
             ],
             [
              1,
              "#f0f921"
             ]
            ],
            "type": "contour"
           }
          ],
          "contourcarpet": [
           {
            "colorbar": {
             "outlinewidth": 0,
             "ticks": ""
            },
            "type": "contourcarpet"
           }
          ],
          "heatmap": [
           {
            "colorbar": {
             "outlinewidth": 0,
             "ticks": ""
            },
            "colorscale": [
             [
              0,
              "#0d0887"
             ],
             [
              0.1111111111111111,
              "#46039f"
             ],
             [
              0.2222222222222222,
              "#7201a8"
             ],
             [
              0.3333333333333333,
              "#9c179e"
             ],
             [
              0.4444444444444444,
              "#bd3786"
             ],
             [
              0.5555555555555556,
              "#d8576b"
             ],
             [
              0.6666666666666666,
              "#ed7953"
             ],
             [
              0.7777777777777778,
              "#fb9f3a"
             ],
             [
              0.8888888888888888,
              "#fdca26"
             ],
             [
              1,
              "#f0f921"
             ]
            ],
            "type": "heatmap"
           }
          ],
          "heatmapgl": [
           {
            "colorbar": {
             "outlinewidth": 0,
             "ticks": ""
            },
            "colorscale": [
             [
              0,
              "#0d0887"
             ],
             [
              0.1111111111111111,
              "#46039f"
             ],
             [
              0.2222222222222222,
              "#7201a8"
             ],
             [
              0.3333333333333333,
              "#9c179e"
             ],
             [
              0.4444444444444444,
              "#bd3786"
             ],
             [
              0.5555555555555556,
              "#d8576b"
             ],
             [
              0.6666666666666666,
              "#ed7953"
             ],
             [
              0.7777777777777778,
              "#fb9f3a"
             ],
             [
              0.8888888888888888,
              "#fdca26"
             ],
             [
              1,
              "#f0f921"
             ]
            ],
            "type": "heatmapgl"
           }
          ],
          "histogram": [
           {
            "marker": {
             "pattern": {
              "fillmode": "overlay",
              "size": 10,
              "solidity": 0.2
             }
            },
            "type": "histogram"
           }
          ],
          "histogram2d": [
           {
            "colorbar": {
             "outlinewidth": 0,
             "ticks": ""
            },
            "colorscale": [
             [
              0,
              "#0d0887"
             ],
             [
              0.1111111111111111,
              "#46039f"
             ],
             [
              0.2222222222222222,
              "#7201a8"
             ],
             [
              0.3333333333333333,
              "#9c179e"
             ],
             [
              0.4444444444444444,
              "#bd3786"
             ],
             [
              0.5555555555555556,
              "#d8576b"
             ],
             [
              0.6666666666666666,
              "#ed7953"
             ],
             [
              0.7777777777777778,
              "#fb9f3a"
             ],
             [
              0.8888888888888888,
              "#fdca26"
             ],
             [
              1,
              "#f0f921"
             ]
            ],
            "type": "histogram2d"
           }
          ],
          "histogram2dcontour": [
           {
            "colorbar": {
             "outlinewidth": 0,
             "ticks": ""
            },
            "colorscale": [
             [
              0,
              "#0d0887"
             ],
             [
              0.1111111111111111,
              "#46039f"
             ],
             [
              0.2222222222222222,
              "#7201a8"
             ],
             [
              0.3333333333333333,
              "#9c179e"
             ],
             [
              0.4444444444444444,
              "#bd3786"
             ],
             [
              0.5555555555555556,
              "#d8576b"
             ],
             [
              0.6666666666666666,
              "#ed7953"
             ],
             [
              0.7777777777777778,
              "#fb9f3a"
             ],
             [
              0.8888888888888888,
              "#fdca26"
             ],
             [
              1,
              "#f0f921"
             ]
            ],
            "type": "histogram2dcontour"
           }
          ],
          "mesh3d": [
           {
            "colorbar": {
             "outlinewidth": 0,
             "ticks": ""
            },
            "type": "mesh3d"
           }
          ],
          "parcoords": [
           {
            "line": {
             "colorbar": {
              "outlinewidth": 0,
              "ticks": ""
             }
            },
            "type": "parcoords"
           }
          ],
          "pie": [
           {
            "automargin": true,
            "type": "pie"
           }
          ],
          "scatter": [
           {
            "marker": {
             "line": {
              "color": "#283442"
             }
            },
            "type": "scatter"
           }
          ],
          "scatter3d": [
           {
            "line": {
             "colorbar": {
              "outlinewidth": 0,
              "ticks": ""
             }
            },
            "marker": {
             "colorbar": {
              "outlinewidth": 0,
              "ticks": ""
             }
            },
            "type": "scatter3d"
           }
          ],
          "scattercarpet": [
           {
            "marker": {
             "colorbar": {
              "outlinewidth": 0,
              "ticks": ""
             }
            },
            "type": "scattercarpet"
           }
          ],
          "scattergeo": [
           {
            "marker": {
             "colorbar": {
              "outlinewidth": 0,
              "ticks": ""
             }
            },
            "type": "scattergeo"
           }
          ],
          "scattergl": [
           {
            "marker": {
             "line": {
              "color": "#283442"
             }
            },
            "type": "scattergl"
           }
          ],
          "scattermapbox": [
           {
            "marker": {
             "colorbar": {
              "outlinewidth": 0,
              "ticks": ""
             }
            },
            "type": "scattermapbox"
           }
          ],
          "scatterpolar": [
           {
            "marker": {
             "colorbar": {
              "outlinewidth": 0,
              "ticks": ""
             }
            },
            "type": "scatterpolar"
           }
          ],
          "scatterpolargl": [
           {
            "marker": {
             "colorbar": {
              "outlinewidth": 0,
              "ticks": ""
             }
            },
            "type": "scatterpolargl"
           }
          ],
          "scatterternary": [
           {
            "marker": {
             "colorbar": {
              "outlinewidth": 0,
              "ticks": ""
             }
            },
            "type": "scatterternary"
           }
          ],
          "surface": [
           {
            "colorbar": {
             "outlinewidth": 0,
             "ticks": ""
            },
            "colorscale": [
             [
              0,
              "#0d0887"
             ],
             [
              0.1111111111111111,
              "#46039f"
             ],
             [
              0.2222222222222222,
              "#7201a8"
             ],
             [
              0.3333333333333333,
              "#9c179e"
             ],
             [
              0.4444444444444444,
              "#bd3786"
             ],
             [
              0.5555555555555556,
              "#d8576b"
             ],
             [
              0.6666666666666666,
              "#ed7953"
             ],
             [
              0.7777777777777778,
              "#fb9f3a"
             ],
             [
              0.8888888888888888,
              "#fdca26"
             ],
             [
              1,
              "#f0f921"
             ]
            ],
            "type": "surface"
           }
          ],
          "table": [
           {
            "cells": {
             "fill": {
              "color": "#506784"
             },
             "line": {
              "color": "rgb(17,17,17)"
             }
            },
            "header": {
             "fill": {
              "color": "#2a3f5f"
             },
             "line": {
              "color": "rgb(17,17,17)"
             }
            },
            "type": "table"
           }
          ]
         },
         "layout": {
          "annotationdefaults": {
           "arrowcolor": "#f2f5fa",
           "arrowhead": 0,
           "arrowwidth": 1
          },
          "autotypenumbers": "strict",
          "coloraxis": {
           "colorbar": {
            "outlinewidth": 0,
            "ticks": ""
           }
          },
          "colorscale": {
           "diverging": [
            [
             0,
             "#8e0152"
            ],
            [
             0.1,
             "#c51b7d"
            ],
            [
             0.2,
             "#de77ae"
            ],
            [
             0.3,
             "#f1b6da"
            ],
            [
             0.4,
             "#fde0ef"
            ],
            [
             0.5,
             "#f7f7f7"
            ],
            [
             0.6,
             "#e6f5d0"
            ],
            [
             0.7,
             "#b8e186"
            ],
            [
             0.8,
             "#7fbc41"
            ],
            [
             0.9,
             "#4d9221"
            ],
            [
             1,
             "#276419"
            ]
           ],
           "sequential": [
            [
             0,
             "#0d0887"
            ],
            [
             0.1111111111111111,
             "#46039f"
            ],
            [
             0.2222222222222222,
             "#7201a8"
            ],
            [
             0.3333333333333333,
             "#9c179e"
            ],
            [
             0.4444444444444444,
             "#bd3786"
            ],
            [
             0.5555555555555556,
             "#d8576b"
            ],
            [
             0.6666666666666666,
             "#ed7953"
            ],
            [
             0.7777777777777778,
             "#fb9f3a"
            ],
            [
             0.8888888888888888,
             "#fdca26"
            ],
            [
             1,
             "#f0f921"
            ]
           ],
           "sequentialminus": [
            [
             0,
             "#0d0887"
            ],
            [
             0.1111111111111111,
             "#46039f"
            ],
            [
             0.2222222222222222,
             "#7201a8"
            ],
            [
             0.3333333333333333,
             "#9c179e"
            ],
            [
             0.4444444444444444,
             "#bd3786"
            ],
            [
             0.5555555555555556,
             "#d8576b"
            ],
            [
             0.6666666666666666,
             "#ed7953"
            ],
            [
             0.7777777777777778,
             "#fb9f3a"
            ],
            [
             0.8888888888888888,
             "#fdca26"
            ],
            [
             1,
             "#f0f921"
            ]
           ]
          },
          "colorway": [
           "#636efa",
           "#EF553B",
           "#00cc96",
           "#ab63fa",
           "#FFA15A",
           "#19d3f3",
           "#FF6692",
           "#B6E880",
           "#FF97FF",
           "#FECB52"
          ],
          "font": {
           "color": "#f2f5fa"
          },
          "geo": {
           "bgcolor": "rgb(17,17,17)",
           "lakecolor": "rgb(17,17,17)",
           "landcolor": "rgb(17,17,17)",
           "showlakes": true,
           "showland": true,
           "subunitcolor": "#506784"
          },
          "hoverlabel": {
           "align": "left"
          },
          "hovermode": "closest",
          "mapbox": {
           "style": "dark"
          },
          "paper_bgcolor": "rgb(17,17,17)",
          "plot_bgcolor": "rgb(17,17,17)",
          "polar": {
           "angularaxis": {
            "gridcolor": "#506784",
            "linecolor": "#506784",
            "ticks": ""
           },
           "bgcolor": "rgb(17,17,17)",
           "radialaxis": {
            "gridcolor": "#506784",
            "linecolor": "#506784",
            "ticks": ""
           }
          },
          "scene": {
           "xaxis": {
            "backgroundcolor": "rgb(17,17,17)",
            "gridcolor": "#506784",
            "gridwidth": 2,
            "linecolor": "#506784",
            "showbackground": true,
            "ticks": "",
            "zerolinecolor": "#C8D4E3"
           },
           "yaxis": {
            "backgroundcolor": "rgb(17,17,17)",
            "gridcolor": "#506784",
            "gridwidth": 2,
            "linecolor": "#506784",
            "showbackground": true,
            "ticks": "",
            "zerolinecolor": "#C8D4E3"
           },
           "zaxis": {
            "backgroundcolor": "rgb(17,17,17)",
            "gridcolor": "#506784",
            "gridwidth": 2,
            "linecolor": "#506784",
            "showbackground": true,
            "ticks": "",
            "zerolinecolor": "#C8D4E3"
           }
          },
          "shapedefaults": {
           "line": {
            "color": "#f2f5fa"
           }
          },
          "sliderdefaults": {
           "bgcolor": "#C8D4E3",
           "bordercolor": "rgb(17,17,17)",
           "borderwidth": 1,
           "tickwidth": 0
          },
          "ternary": {
           "aaxis": {
            "gridcolor": "#506784",
            "linecolor": "#506784",
            "ticks": ""
           },
           "baxis": {
            "gridcolor": "#506784",
            "linecolor": "#506784",
            "ticks": ""
           },
           "bgcolor": "rgb(17,17,17)",
           "caxis": {
            "gridcolor": "#506784",
            "linecolor": "#506784",
            "ticks": ""
           }
          },
          "title": {
           "x": 0.05
          },
          "updatemenudefaults": {
           "bgcolor": "#506784",
           "borderwidth": 0
          },
          "xaxis": {
           "automargin": true,
           "gridcolor": "#283442",
           "linecolor": "#506784",
           "ticks": "",
           "title": {
            "standoff": 15
           },
           "zerolinecolor": "#283442",
           "zerolinewidth": 2
          },
          "yaxis": {
           "automargin": true,
           "gridcolor": "#283442",
           "linecolor": "#506784",
           "ticks": "",
           "title": {
            "standoff": 15
           },
           "zerolinecolor": "#283442",
           "zerolinewidth": 2
          }
         }
        },
        "title": {
         "text": "Offensive Features"
        },
        "width": 800
       }
      }
     },
     "metadata": {},
     "output_type": "display_data"
    }
   ],
   "source": [
    "plt.rcParams['figure.figsize'] = [8, 8]\n",
    "\n",
    "fig = go.Figure()\n",
    "\n",
    "fig.add_trace(go.Scatterpolar(\n",
    "      r=auxA[playerA],\n",
    "      theta=offensive_features,\n",
    "      fill='toself',\n",
    "      name=playerA\n",
    "))\n",
    "\n",
    "fig.add_trace(go.Scatterpolar(\n",
    "      r=auxB[playerB],\n",
    "      theta=offensive_features,\n",
    "      fill='toself',\n",
    "      name=playerB\n",
    "))\n",
    "\n",
    "fig.update_layout(\n",
    "  polar=dict(\n",
    "    radialaxis=dict(\n",
    "      visible=True,\n",
    "      range=[0, 1]\n",
    "    )),\n",
    "  showlegend=True,\n",
    "  width=800, height=800,\n",
    "  template=\"plotly_dark\",\n",
    "  title = 'Offensive Features'\n",
    ")\n",
    "\n",
    "fig.show()"
   ]
  },
  {
   "attachments": {},
   "cell_type": "markdown",
   "metadata": {},
   "source": [
    "### Defensive comparison chart- Describing features: Player, Player_additional, Pos, Age, TM, \n",
    "- Defensive metrics: DBPM, ORB, DRB, STL, BLK, DWS"
   ]
  },
  {
   "cell_type": "code",
   "execution_count": 103,
   "metadata": {},
   "outputs": [],
   "source": [
    "defensive_features = ['ORB', 'DRB', 'STL', 'BLK', 'DWS']"
   ]
  },
  {
   "cell_type": "code",
   "execution_count": 104,
   "metadata": {},
   "outputs": [],
   "source": [
    "playerA = 'Giannis Antetokounmpo'\n",
    "playerB = 'Jayson Tatum'"
   ]
  },
  {
   "cell_type": "code",
   "execution_count": 105,
   "metadata": {},
   "outputs": [
    {
     "data": {
      "text/html": [
       "<div>\n",
       "<style scoped>\n",
       "    .dataframe tbody tr th:only-of-type {\n",
       "        vertical-align: middle;\n",
       "    }\n",
       "\n",
       "    .dataframe tbody tr th {\n",
       "        vertical-align: top;\n",
       "    }\n",
       "\n",
       "    .dataframe thead th {\n",
       "        text-align: right;\n",
       "    }\n",
       "</style>\n",
       "<table border=\"1\" class=\"dataframe\">\n",
       "  <thead>\n",
       "    <tr style=\"text-align: right;\">\n",
       "      <th></th>\n",
       "      <th>Giannis Antetokounmpo</th>\n",
       "    </tr>\n",
       "  </thead>\n",
       "  <tbody>\n",
       "    <tr>\n",
       "      <th>ORB</th>\n",
       "      <td>0.431373</td>\n",
       "    </tr>\n",
       "    <tr>\n",
       "      <th>DRB</th>\n",
       "      <td>1.000000</td>\n",
       "    </tr>\n",
       "    <tr>\n",
       "      <th>STL</th>\n",
       "      <td>0.266667</td>\n",
       "    </tr>\n",
       "    <tr>\n",
       "      <th>BLK</th>\n",
       "      <td>0.266667</td>\n",
       "    </tr>\n",
       "    <tr>\n",
       "      <th>DWS</th>\n",
       "      <td>0.770833</td>\n",
       "    </tr>\n",
       "  </tbody>\n",
       "</table>\n",
       "</div>"
      ],
      "text/plain": [
       "     Giannis Antetokounmpo\n",
       "ORB               0.431373\n",
       "DRB               1.000000\n",
       "STL               0.266667\n",
       "BLK               0.266667\n",
       "DWS               0.770833"
      ]
     },
     "execution_count": 105,
     "metadata": {},
     "output_type": "execute_result"
    }
   ],
   "source": [
    "auxA = df06[df06['Player'] == playerA][defensive_features].T\n",
    "auxA.columns = [playerA]\n",
    "auxA"
   ]
  },
  {
   "cell_type": "code",
   "execution_count": 106,
   "metadata": {},
   "outputs": [
    {
     "data": {
      "text/html": [
       "<div>\n",
       "<style scoped>\n",
       "    .dataframe tbody tr th:only-of-type {\n",
       "        vertical-align: middle;\n",
       "    }\n",
       "\n",
       "    .dataframe tbody tr th {\n",
       "        vertical-align: top;\n",
       "    }\n",
       "\n",
       "    .dataframe thead th {\n",
       "        text-align: right;\n",
       "    }\n",
       "</style>\n",
       "<table border=\"1\" class=\"dataframe\">\n",
       "  <thead>\n",
       "    <tr style=\"text-align: right;\">\n",
       "      <th></th>\n",
       "      <th>Jayson Tatum</th>\n",
       "    </tr>\n",
       "  </thead>\n",
       "  <tbody>\n",
       "    <tr>\n",
       "      <th>ORB</th>\n",
       "      <td>0.215686</td>\n",
       "    </tr>\n",
       "    <tr>\n",
       "      <th>DRB</th>\n",
       "      <td>0.802083</td>\n",
       "    </tr>\n",
       "    <tr>\n",
       "      <th>STL</th>\n",
       "      <td>0.366667</td>\n",
       "    </tr>\n",
       "    <tr>\n",
       "      <th>BLK</th>\n",
       "      <td>0.233333</td>\n",
       "    </tr>\n",
       "    <tr>\n",
       "      <th>DWS</th>\n",
       "      <td>0.895833</td>\n",
       "    </tr>\n",
       "  </tbody>\n",
       "</table>\n",
       "</div>"
      ],
      "text/plain": [
       "     Jayson Tatum\n",
       "ORB      0.215686\n",
       "DRB      0.802083\n",
       "STL      0.366667\n",
       "BLK      0.233333\n",
       "DWS      0.895833"
      ]
     },
     "execution_count": 106,
     "metadata": {},
     "output_type": "execute_result"
    }
   ],
   "source": [
    "auxB = df06[df06['Player'] == playerB][defensive_features].T\n",
    "auxB.columns = [playerB]\n",
    "auxB"
   ]
  },
  {
   "cell_type": "code",
   "execution_count": 119,
   "metadata": {},
   "outputs": [
    {
     "data": {
      "application/vnd.plotly.v1+json": {
       "config": {
        "plotlyServerURL": "https://plot.ly"
       },
       "data": [
        {
         "fill": "toself",
         "name": "Giannis Antetokounmpo",
         "r": [
          0.951219512195122,
          0.2345679012345679,
          0.62,
          0.7590361445783133,
          0.7829268292682927,
          0.5771812080536912,
          0.6136363636363636
         ],
         "theta": [
          "ORB",
          "DRB",
          "STL",
          "BLK",
          "DWS"
         ],
         "type": "scatterpolar"
        },
        {
         "fill": "toself",
         "name": "Jayson Tatum",
         "r": [
          0.7073170731707318,
          0.0987654320987654,
          0.44,
          0.891566265060241,
          0.8999999999999999,
          0.7046979865771812,
          0.5795454545454545
         ],
         "theta": [
          "ORB",
          "DRB",
          "STL",
          "BLK",
          "DWS"
         ],
         "type": "scatterpolar"
        }
       ],
       "layout": {
        "height": 800,
        "polar": {
         "radialaxis": {
          "range": [
           0,
           1
          ],
          "visible": true
         }
        },
        "showlegend": true,
        "template": {
         "data": {
          "bar": [
           {
            "error_x": {
             "color": "#f2f5fa"
            },
            "error_y": {
             "color": "#f2f5fa"
            },
            "marker": {
             "line": {
              "color": "rgb(17,17,17)",
              "width": 0.5
             },
             "pattern": {
              "fillmode": "overlay",
              "size": 10,
              "solidity": 0.2
             }
            },
            "type": "bar"
           }
          ],
          "barpolar": [
           {
            "marker": {
             "line": {
              "color": "rgb(17,17,17)",
              "width": 0.5
             },
             "pattern": {
              "fillmode": "overlay",
              "size": 10,
              "solidity": 0.2
             }
            },
            "type": "barpolar"
           }
          ],
          "carpet": [
           {
            "aaxis": {
             "endlinecolor": "#A2B1C6",
             "gridcolor": "#506784",
             "linecolor": "#506784",
             "minorgridcolor": "#506784",
             "startlinecolor": "#A2B1C6"
            },
            "baxis": {
             "endlinecolor": "#A2B1C6",
             "gridcolor": "#506784",
             "linecolor": "#506784",
             "minorgridcolor": "#506784",
             "startlinecolor": "#A2B1C6"
            },
            "type": "carpet"
           }
          ],
          "choropleth": [
           {
            "colorbar": {
             "outlinewidth": 0,
             "ticks": ""
            },
            "type": "choropleth"
           }
          ],
          "contour": [
           {
            "colorbar": {
             "outlinewidth": 0,
             "ticks": ""
            },
            "colorscale": [
             [
              0,
              "#0d0887"
             ],
             [
              0.1111111111111111,
              "#46039f"
             ],
             [
              0.2222222222222222,
              "#7201a8"
             ],
             [
              0.3333333333333333,
              "#9c179e"
             ],
             [
              0.4444444444444444,
              "#bd3786"
             ],
             [
              0.5555555555555556,
              "#d8576b"
             ],
             [
              0.6666666666666666,
              "#ed7953"
             ],
             [
              0.7777777777777778,
              "#fb9f3a"
             ],
             [
              0.8888888888888888,
              "#fdca26"
             ],
             [
              1,
              "#f0f921"
             ]
            ],
            "type": "contour"
           }
          ],
          "contourcarpet": [
           {
            "colorbar": {
             "outlinewidth": 0,
             "ticks": ""
            },
            "type": "contourcarpet"
           }
          ],
          "heatmap": [
           {
            "colorbar": {
             "outlinewidth": 0,
             "ticks": ""
            },
            "colorscale": [
             [
              0,
              "#0d0887"
             ],
             [
              0.1111111111111111,
              "#46039f"
             ],
             [
              0.2222222222222222,
              "#7201a8"
             ],
             [
              0.3333333333333333,
              "#9c179e"
             ],
             [
              0.4444444444444444,
              "#bd3786"
             ],
             [
              0.5555555555555556,
              "#d8576b"
             ],
             [
              0.6666666666666666,
              "#ed7953"
             ],
             [
              0.7777777777777778,
              "#fb9f3a"
             ],
             [
              0.8888888888888888,
              "#fdca26"
             ],
             [
              1,
              "#f0f921"
             ]
            ],
            "type": "heatmap"
           }
          ],
          "heatmapgl": [
           {
            "colorbar": {
             "outlinewidth": 0,
             "ticks": ""
            },
            "colorscale": [
             [
              0,
              "#0d0887"
             ],
             [
              0.1111111111111111,
              "#46039f"
             ],
             [
              0.2222222222222222,
              "#7201a8"
             ],
             [
              0.3333333333333333,
              "#9c179e"
             ],
             [
              0.4444444444444444,
              "#bd3786"
             ],
             [
              0.5555555555555556,
              "#d8576b"
             ],
             [
              0.6666666666666666,
              "#ed7953"
             ],
             [
              0.7777777777777778,
              "#fb9f3a"
             ],
             [
              0.8888888888888888,
              "#fdca26"
             ],
             [
              1,
              "#f0f921"
             ]
            ],
            "type": "heatmapgl"
           }
          ],
          "histogram": [
           {
            "marker": {
             "pattern": {
              "fillmode": "overlay",
              "size": 10,
              "solidity": 0.2
             }
            },
            "type": "histogram"
           }
          ],
          "histogram2d": [
           {
            "colorbar": {
             "outlinewidth": 0,
             "ticks": ""
            },
            "colorscale": [
             [
              0,
              "#0d0887"
             ],
             [
              0.1111111111111111,
              "#46039f"
             ],
             [
              0.2222222222222222,
              "#7201a8"
             ],
             [
              0.3333333333333333,
              "#9c179e"
             ],
             [
              0.4444444444444444,
              "#bd3786"
             ],
             [
              0.5555555555555556,
              "#d8576b"
             ],
             [
              0.6666666666666666,
              "#ed7953"
             ],
             [
              0.7777777777777778,
              "#fb9f3a"
             ],
             [
              0.8888888888888888,
              "#fdca26"
             ],
             [
              1,
              "#f0f921"
             ]
            ],
            "type": "histogram2d"
           }
          ],
          "histogram2dcontour": [
           {
            "colorbar": {
             "outlinewidth": 0,
             "ticks": ""
            },
            "colorscale": [
             [
              0,
              "#0d0887"
             ],
             [
              0.1111111111111111,
              "#46039f"
             ],
             [
              0.2222222222222222,
              "#7201a8"
             ],
             [
              0.3333333333333333,
              "#9c179e"
             ],
             [
              0.4444444444444444,
              "#bd3786"
             ],
             [
              0.5555555555555556,
              "#d8576b"
             ],
             [
              0.6666666666666666,
              "#ed7953"
             ],
             [
              0.7777777777777778,
              "#fb9f3a"
             ],
             [
              0.8888888888888888,
              "#fdca26"
             ],
             [
              1,
              "#f0f921"
             ]
            ],
            "type": "histogram2dcontour"
           }
          ],
          "mesh3d": [
           {
            "colorbar": {
             "outlinewidth": 0,
             "ticks": ""
            },
            "type": "mesh3d"
           }
          ],
          "parcoords": [
           {
            "line": {
             "colorbar": {
              "outlinewidth": 0,
              "ticks": ""
             }
            },
            "type": "parcoords"
           }
          ],
          "pie": [
           {
            "automargin": true,
            "type": "pie"
           }
          ],
          "scatter": [
           {
            "marker": {
             "line": {
              "color": "#283442"
             }
            },
            "type": "scatter"
           }
          ],
          "scatter3d": [
           {
            "line": {
             "colorbar": {
              "outlinewidth": 0,
              "ticks": ""
             }
            },
            "marker": {
             "colorbar": {
              "outlinewidth": 0,
              "ticks": ""
             }
            },
            "type": "scatter3d"
           }
          ],
          "scattercarpet": [
           {
            "marker": {
             "colorbar": {
              "outlinewidth": 0,
              "ticks": ""
             }
            },
            "type": "scattercarpet"
           }
          ],
          "scattergeo": [
           {
            "marker": {
             "colorbar": {
              "outlinewidth": 0,
              "ticks": ""
             }
            },
            "type": "scattergeo"
           }
          ],
          "scattergl": [
           {
            "marker": {
             "line": {
              "color": "#283442"
             }
            },
            "type": "scattergl"
           }
          ],
          "scattermapbox": [
           {
            "marker": {
             "colorbar": {
              "outlinewidth": 0,
              "ticks": ""
             }
            },
            "type": "scattermapbox"
           }
          ],
          "scatterpolar": [
           {
            "marker": {
             "colorbar": {
              "outlinewidth": 0,
              "ticks": ""
             }
            },
            "type": "scatterpolar"
           }
          ],
          "scatterpolargl": [
           {
            "marker": {
             "colorbar": {
              "outlinewidth": 0,
              "ticks": ""
             }
            },
            "type": "scatterpolargl"
           }
          ],
          "scatterternary": [
           {
            "marker": {
             "colorbar": {
              "outlinewidth": 0,
              "ticks": ""
             }
            },
            "type": "scatterternary"
           }
          ],
          "surface": [
           {
            "colorbar": {
             "outlinewidth": 0,
             "ticks": ""
            },
            "colorscale": [
             [
              0,
              "#0d0887"
             ],
             [
              0.1111111111111111,
              "#46039f"
             ],
             [
              0.2222222222222222,
              "#7201a8"
             ],
             [
              0.3333333333333333,
              "#9c179e"
             ],
             [
              0.4444444444444444,
              "#bd3786"
             ],
             [
              0.5555555555555556,
              "#d8576b"
             ],
             [
              0.6666666666666666,
              "#ed7953"
             ],
             [
              0.7777777777777778,
              "#fb9f3a"
             ],
             [
              0.8888888888888888,
              "#fdca26"
             ],
             [
              1,
              "#f0f921"
             ]
            ],
            "type": "surface"
           }
          ],
          "table": [
           {
            "cells": {
             "fill": {
              "color": "#506784"
             },
             "line": {
              "color": "rgb(17,17,17)"
             }
            },
            "header": {
             "fill": {
              "color": "#2a3f5f"
             },
             "line": {
              "color": "rgb(17,17,17)"
             }
            },
            "type": "table"
           }
          ]
         },
         "layout": {
          "annotationdefaults": {
           "arrowcolor": "#f2f5fa",
           "arrowhead": 0,
           "arrowwidth": 1
          },
          "autotypenumbers": "strict",
          "coloraxis": {
           "colorbar": {
            "outlinewidth": 0,
            "ticks": ""
           }
          },
          "colorscale": {
           "diverging": [
            [
             0,
             "#8e0152"
            ],
            [
             0.1,
             "#c51b7d"
            ],
            [
             0.2,
             "#de77ae"
            ],
            [
             0.3,
             "#f1b6da"
            ],
            [
             0.4,
             "#fde0ef"
            ],
            [
             0.5,
             "#f7f7f7"
            ],
            [
             0.6,
             "#e6f5d0"
            ],
            [
             0.7,
             "#b8e186"
            ],
            [
             0.8,
             "#7fbc41"
            ],
            [
             0.9,
             "#4d9221"
            ],
            [
             1,
             "#276419"
            ]
           ],
           "sequential": [
            [
             0,
             "#0d0887"
            ],
            [
             0.1111111111111111,
             "#46039f"
            ],
            [
             0.2222222222222222,
             "#7201a8"
            ],
            [
             0.3333333333333333,
             "#9c179e"
            ],
            [
             0.4444444444444444,
             "#bd3786"
            ],
            [
             0.5555555555555556,
             "#d8576b"
            ],
            [
             0.6666666666666666,
             "#ed7953"
            ],
            [
             0.7777777777777778,
             "#fb9f3a"
            ],
            [
             0.8888888888888888,
             "#fdca26"
            ],
            [
             1,
             "#f0f921"
            ]
           ],
           "sequentialminus": [
            [
             0,
             "#0d0887"
            ],
            [
             0.1111111111111111,
             "#46039f"
            ],
            [
             0.2222222222222222,
             "#7201a8"
            ],
            [
             0.3333333333333333,
             "#9c179e"
            ],
            [
             0.4444444444444444,
             "#bd3786"
            ],
            [
             0.5555555555555556,
             "#d8576b"
            ],
            [
             0.6666666666666666,
             "#ed7953"
            ],
            [
             0.7777777777777778,
             "#fb9f3a"
            ],
            [
             0.8888888888888888,
             "#fdca26"
            ],
            [
             1,
             "#f0f921"
            ]
           ]
          },
          "colorway": [
           "#636efa",
           "#EF553B",
           "#00cc96",
           "#ab63fa",
           "#FFA15A",
           "#19d3f3",
           "#FF6692",
           "#B6E880",
           "#FF97FF",
           "#FECB52"
          ],
          "font": {
           "color": "#f2f5fa"
          },
          "geo": {
           "bgcolor": "rgb(17,17,17)",
           "lakecolor": "rgb(17,17,17)",
           "landcolor": "rgb(17,17,17)",
           "showlakes": true,
           "showland": true,
           "subunitcolor": "#506784"
          },
          "hoverlabel": {
           "align": "left"
          },
          "hovermode": "closest",
          "mapbox": {
           "style": "dark"
          },
          "paper_bgcolor": "rgb(17,17,17)",
          "plot_bgcolor": "rgb(17,17,17)",
          "polar": {
           "angularaxis": {
            "gridcolor": "#506784",
            "linecolor": "#506784",
            "ticks": ""
           },
           "bgcolor": "rgb(17,17,17)",
           "radialaxis": {
            "gridcolor": "#506784",
            "linecolor": "#506784",
            "ticks": ""
           }
          },
          "scene": {
           "xaxis": {
            "backgroundcolor": "rgb(17,17,17)",
            "gridcolor": "#506784",
            "gridwidth": 2,
            "linecolor": "#506784",
            "showbackground": true,
            "ticks": "",
            "zerolinecolor": "#C8D4E3"
           },
           "yaxis": {
            "backgroundcolor": "rgb(17,17,17)",
            "gridcolor": "#506784",
            "gridwidth": 2,
            "linecolor": "#506784",
            "showbackground": true,
            "ticks": "",
            "zerolinecolor": "#C8D4E3"
           },
           "zaxis": {
            "backgroundcolor": "rgb(17,17,17)",
            "gridcolor": "#506784",
            "gridwidth": 2,
            "linecolor": "#506784",
            "showbackground": true,
            "ticks": "",
            "zerolinecolor": "#C8D4E3"
           }
          },
          "shapedefaults": {
           "line": {
            "color": "#f2f5fa"
           }
          },
          "sliderdefaults": {
           "bgcolor": "#C8D4E3",
           "bordercolor": "rgb(17,17,17)",
           "borderwidth": 1,
           "tickwidth": 0
          },
          "ternary": {
           "aaxis": {
            "gridcolor": "#506784",
            "linecolor": "#506784",
            "ticks": ""
           },
           "baxis": {
            "gridcolor": "#506784",
            "linecolor": "#506784",
            "ticks": ""
           },
           "bgcolor": "rgb(17,17,17)",
           "caxis": {
            "gridcolor": "#506784",
            "linecolor": "#506784",
            "ticks": ""
           }
          },
          "title": {
           "x": 0.05
          },
          "updatemenudefaults": {
           "bgcolor": "#506784",
           "borderwidth": 0
          },
          "xaxis": {
           "automargin": true,
           "gridcolor": "#283442",
           "linecolor": "#506784",
           "ticks": "",
           "title": {
            "standoff": 15
           },
           "zerolinecolor": "#283442",
           "zerolinewidth": 2
          },
          "yaxis": {
           "automargin": true,
           "gridcolor": "#283442",
           "linecolor": "#506784",
           "ticks": "",
           "title": {
            "standoff": 15
           },
           "zerolinecolor": "#283442",
           "zerolinewidth": 2
          }
         }
        },
        "title": {
         "text": "Defensive Features"
        },
        "width": 800
       }
      }
     },
     "metadata": {},
     "output_type": "display_data"
    }
   ],
   "source": [
    "plt.rcParams['figure.figsize'] = [8, 8]\n",
    "\n",
    "fig = go.Figure()\n",
    "\n",
    "fig.add_trace(go.Scatterpolar(\n",
    "      r=auxA[playerA],\n",
    "      theta=defensive_features,\n",
    "      fill='toself',\n",
    "      name=playerA\n",
    "))\n",
    "\n",
    "fig.add_trace(go.Scatterpolar(\n",
    "      r=auxB[playerB],\n",
    "      theta=defensive_features,\n",
    "      fill='toself',\n",
    "      name=playerB\n",
    "))\n",
    "\n",
    "fig.update_layout(\n",
    "  polar=dict(\n",
    "    radialaxis=dict(\n",
    "      visible=True,\n",
    "      range=[0, 1]\n",
    "    )),\n",
    "  showlegend=True,\n",
    "  width=800, height=800,\n",
    "  template=\"plotly_dark\",\n",
    "  title = 'Defensive Features'\n",
    ")\n",
    "\n",
    "fig.show()"
   ]
  },
  {
   "attachments": {},
   "cell_type": "markdown",
   "metadata": {},
   "source": [
    "### Descriptive comparison chart- Describing features: Player, Player_additional, Pos, Age, TM, \n",
    "- Negative metrics: TOV, GM, PF\n",
    "- Positive metrics: BPM, G, MP, WS, VORP"
   ]
  },
  {
   "cell_type": "code",
   "execution_count": 113,
   "metadata": {},
   "outputs": [],
   "source": [
    "descriptive_features = ['TOV', 'GM', 'PF', 'G', 'MP', 'WS', 'VORP']"
   ]
  },
  {
   "cell_type": "code",
   "execution_count": 114,
   "metadata": {},
   "outputs": [],
   "source": [
    "playerA = 'Giannis Antetokounmpo'\n",
    "playerB = 'Jayson Tatum'"
   ]
  },
  {
   "cell_type": "code",
   "execution_count": 115,
   "metadata": {},
   "outputs": [
    {
     "data": {
      "text/html": [
       "<div>\n",
       "<style scoped>\n",
       "    .dataframe tbody tr th:only-of-type {\n",
       "        vertical-align: middle;\n",
       "    }\n",
       "\n",
       "    .dataframe tbody tr th {\n",
       "        vertical-align: top;\n",
       "    }\n",
       "\n",
       "    .dataframe thead th {\n",
       "        text-align: right;\n",
       "    }\n",
       "</style>\n",
       "<table border=\"1\" class=\"dataframe\">\n",
       "  <thead>\n",
       "    <tr style=\"text-align: right;\">\n",
       "      <th></th>\n",
       "      <th>Giannis Antetokounmpo</th>\n",
       "    </tr>\n",
       "  </thead>\n",
       "  <tbody>\n",
       "    <tr>\n",
       "      <th>TOV</th>\n",
       "      <td>0.951220</td>\n",
       "    </tr>\n",
       "    <tr>\n",
       "      <th>GM</th>\n",
       "      <td>0.234568</td>\n",
       "    </tr>\n",
       "    <tr>\n",
       "      <th>PF</th>\n",
       "      <td>0.620000</td>\n",
       "    </tr>\n",
       "    <tr>\n",
       "      <th>G</th>\n",
       "      <td>0.759036</td>\n",
       "    </tr>\n",
       "    <tr>\n",
       "      <th>MP</th>\n",
       "      <td>0.782927</td>\n",
       "    </tr>\n",
       "    <tr>\n",
       "      <th>WS</th>\n",
       "      <td>0.577181</td>\n",
       "    </tr>\n",
       "    <tr>\n",
       "      <th>VORP</th>\n",
       "      <td>0.613636</td>\n",
       "    </tr>\n",
       "  </tbody>\n",
       "</table>\n",
       "</div>"
      ],
      "text/plain": [
       "      Giannis Antetokounmpo\n",
       "TOV                0.951220\n",
       "GM                 0.234568\n",
       "PF                 0.620000\n",
       "G                  0.759036\n",
       "MP                 0.782927\n",
       "WS                 0.577181\n",
       "VORP               0.613636"
      ]
     },
     "execution_count": 115,
     "metadata": {},
     "output_type": "execute_result"
    }
   ],
   "source": [
    "auxA = df06[df06['Player'] == playerA][descriptive_features].T\n",
    "auxA.columns = [playerA]\n",
    "auxA"
   ]
  },
  {
   "cell_type": "code",
   "execution_count": 116,
   "metadata": {},
   "outputs": [
    {
     "data": {
      "text/html": [
       "<div>\n",
       "<style scoped>\n",
       "    .dataframe tbody tr th:only-of-type {\n",
       "        vertical-align: middle;\n",
       "    }\n",
       "\n",
       "    .dataframe tbody tr th {\n",
       "        vertical-align: top;\n",
       "    }\n",
       "\n",
       "    .dataframe thead th {\n",
       "        text-align: right;\n",
       "    }\n",
       "</style>\n",
       "<table border=\"1\" class=\"dataframe\">\n",
       "  <thead>\n",
       "    <tr style=\"text-align: right;\">\n",
       "      <th></th>\n",
       "      <th>Jayson Tatum</th>\n",
       "    </tr>\n",
       "  </thead>\n",
       "  <tbody>\n",
       "    <tr>\n",
       "      <th>TOV</th>\n",
       "      <td>0.707317</td>\n",
       "    </tr>\n",
       "    <tr>\n",
       "      <th>GM</th>\n",
       "      <td>0.098765</td>\n",
       "    </tr>\n",
       "    <tr>\n",
       "      <th>PF</th>\n",
       "      <td>0.440000</td>\n",
       "    </tr>\n",
       "    <tr>\n",
       "      <th>G</th>\n",
       "      <td>0.891566</td>\n",
       "    </tr>\n",
       "    <tr>\n",
       "      <th>MP</th>\n",
       "      <td>0.900000</td>\n",
       "    </tr>\n",
       "    <tr>\n",
       "      <th>WS</th>\n",
       "      <td>0.704698</td>\n",
       "    </tr>\n",
       "    <tr>\n",
       "      <th>VORP</th>\n",
       "      <td>0.579545</td>\n",
       "    </tr>\n",
       "  </tbody>\n",
       "</table>\n",
       "</div>"
      ],
      "text/plain": [
       "      Jayson Tatum\n",
       "TOV       0.707317\n",
       "GM        0.098765\n",
       "PF        0.440000\n",
       "G         0.891566\n",
       "MP        0.900000\n",
       "WS        0.704698\n",
       "VORP      0.579545"
      ]
     },
     "execution_count": 116,
     "metadata": {},
     "output_type": "execute_result"
    }
   ],
   "source": [
    "auxB = df06[df06['Player'] == playerB][descriptive_features].T\n",
    "auxB.columns = [playerB]\n",
    "auxB"
   ]
  },
  {
   "cell_type": "code",
   "execution_count": 121,
   "metadata": {},
   "outputs": [
    {
     "data": {
      "application/vnd.plotly.v1+json": {
       "config": {
        "plotlyServerURL": "https://plot.ly"
       },
       "data": [
        {
         "fill": "toself",
         "name": "Giannis Antetokounmpo",
         "r": [
          0.951219512195122,
          0.2345679012345679,
          0.62,
          0.7590361445783133,
          0.7829268292682927,
          0.5771812080536912,
          0.6136363636363636
         ],
         "theta": [
          "TOV",
          "GM",
          "PF",
          "G",
          "MP",
          "WS",
          "VORP"
         ],
         "type": "scatterpolar"
        },
        {
         "fill": "toself",
         "name": "Jayson Tatum",
         "r": [
          0.7073170731707318,
          0.0987654320987654,
          0.44,
          0.891566265060241,
          0.8999999999999999,
          0.7046979865771812,
          0.5795454545454545
         ],
         "theta": [
          "TOV",
          "GM",
          "PF",
          "G",
          "MP",
          "WS",
          "VORP"
         ],
         "type": "scatterpolar"
        }
       ],
       "layout": {
        "height": 800,
        "polar": {
         "radialaxis": {
          "range": [
           0,
           1
          ],
          "visible": true
         }
        },
        "showlegend": true,
        "template": {
         "data": {
          "bar": [
           {
            "error_x": {
             "color": "#f2f5fa"
            },
            "error_y": {
             "color": "#f2f5fa"
            },
            "marker": {
             "line": {
              "color": "rgb(17,17,17)",
              "width": 0.5
             },
             "pattern": {
              "fillmode": "overlay",
              "size": 10,
              "solidity": 0.2
             }
            },
            "type": "bar"
           }
          ],
          "barpolar": [
           {
            "marker": {
             "line": {
              "color": "rgb(17,17,17)",
              "width": 0.5
             },
             "pattern": {
              "fillmode": "overlay",
              "size": 10,
              "solidity": 0.2
             }
            },
            "type": "barpolar"
           }
          ],
          "carpet": [
           {
            "aaxis": {
             "endlinecolor": "#A2B1C6",
             "gridcolor": "#506784",
             "linecolor": "#506784",
             "minorgridcolor": "#506784",
             "startlinecolor": "#A2B1C6"
            },
            "baxis": {
             "endlinecolor": "#A2B1C6",
             "gridcolor": "#506784",
             "linecolor": "#506784",
             "minorgridcolor": "#506784",
             "startlinecolor": "#A2B1C6"
            },
            "type": "carpet"
           }
          ],
          "choropleth": [
           {
            "colorbar": {
             "outlinewidth": 0,
             "ticks": ""
            },
            "type": "choropleth"
           }
          ],
          "contour": [
           {
            "colorbar": {
             "outlinewidth": 0,
             "ticks": ""
            },
            "colorscale": [
             [
              0,
              "#0d0887"
             ],
             [
              0.1111111111111111,
              "#46039f"
             ],
             [
              0.2222222222222222,
              "#7201a8"
             ],
             [
              0.3333333333333333,
              "#9c179e"
             ],
             [
              0.4444444444444444,
              "#bd3786"
             ],
             [
              0.5555555555555556,
              "#d8576b"
             ],
             [
              0.6666666666666666,
              "#ed7953"
             ],
             [
              0.7777777777777778,
              "#fb9f3a"
             ],
             [
              0.8888888888888888,
              "#fdca26"
             ],
             [
              1,
              "#f0f921"
             ]
            ],
            "type": "contour"
           }
          ],
          "contourcarpet": [
           {
            "colorbar": {
             "outlinewidth": 0,
             "ticks": ""
            },
            "type": "contourcarpet"
           }
          ],
          "heatmap": [
           {
            "colorbar": {
             "outlinewidth": 0,
             "ticks": ""
            },
            "colorscale": [
             [
              0,
              "#0d0887"
             ],
             [
              0.1111111111111111,
              "#46039f"
             ],
             [
              0.2222222222222222,
              "#7201a8"
             ],
             [
              0.3333333333333333,
              "#9c179e"
             ],
             [
              0.4444444444444444,
              "#bd3786"
             ],
             [
              0.5555555555555556,
              "#d8576b"
             ],
             [
              0.6666666666666666,
              "#ed7953"
             ],
             [
              0.7777777777777778,
              "#fb9f3a"
             ],
             [
              0.8888888888888888,
              "#fdca26"
             ],
             [
              1,
              "#f0f921"
             ]
            ],
            "type": "heatmap"
           }
          ],
          "heatmapgl": [
           {
            "colorbar": {
             "outlinewidth": 0,
             "ticks": ""
            },
            "colorscale": [
             [
              0,
              "#0d0887"
             ],
             [
              0.1111111111111111,
              "#46039f"
             ],
             [
              0.2222222222222222,
              "#7201a8"
             ],
             [
              0.3333333333333333,
              "#9c179e"
             ],
             [
              0.4444444444444444,
              "#bd3786"
             ],
             [
              0.5555555555555556,
              "#d8576b"
             ],
             [
              0.6666666666666666,
              "#ed7953"
             ],
             [
              0.7777777777777778,
              "#fb9f3a"
             ],
             [
              0.8888888888888888,
              "#fdca26"
             ],
             [
              1,
              "#f0f921"
             ]
            ],
            "type": "heatmapgl"
           }
          ],
          "histogram": [
           {
            "marker": {
             "pattern": {
              "fillmode": "overlay",
              "size": 10,
              "solidity": 0.2
             }
            },
            "type": "histogram"
           }
          ],
          "histogram2d": [
           {
            "colorbar": {
             "outlinewidth": 0,
             "ticks": ""
            },
            "colorscale": [
             [
              0,
              "#0d0887"
             ],
             [
              0.1111111111111111,
              "#46039f"
             ],
             [
              0.2222222222222222,
              "#7201a8"
             ],
             [
              0.3333333333333333,
              "#9c179e"
             ],
             [
              0.4444444444444444,
              "#bd3786"
             ],
             [
              0.5555555555555556,
              "#d8576b"
             ],
             [
              0.6666666666666666,
              "#ed7953"
             ],
             [
              0.7777777777777778,
              "#fb9f3a"
             ],
             [
              0.8888888888888888,
              "#fdca26"
             ],
             [
              1,
              "#f0f921"
             ]
            ],
            "type": "histogram2d"
           }
          ],
          "histogram2dcontour": [
           {
            "colorbar": {
             "outlinewidth": 0,
             "ticks": ""
            },
            "colorscale": [
             [
              0,
              "#0d0887"
             ],
             [
              0.1111111111111111,
              "#46039f"
             ],
             [
              0.2222222222222222,
              "#7201a8"
             ],
             [
              0.3333333333333333,
              "#9c179e"
             ],
             [
              0.4444444444444444,
              "#bd3786"
             ],
             [
              0.5555555555555556,
              "#d8576b"
             ],
             [
              0.6666666666666666,
              "#ed7953"
             ],
             [
              0.7777777777777778,
              "#fb9f3a"
             ],
             [
              0.8888888888888888,
              "#fdca26"
             ],
             [
              1,
              "#f0f921"
             ]
            ],
            "type": "histogram2dcontour"
           }
          ],
          "mesh3d": [
           {
            "colorbar": {
             "outlinewidth": 0,
             "ticks": ""
            },
            "type": "mesh3d"
           }
          ],
          "parcoords": [
           {
            "line": {
             "colorbar": {
              "outlinewidth": 0,
              "ticks": ""
             }
            },
            "type": "parcoords"
           }
          ],
          "pie": [
           {
            "automargin": true,
            "type": "pie"
           }
          ],
          "scatter": [
           {
            "marker": {
             "line": {
              "color": "#283442"
             }
            },
            "type": "scatter"
           }
          ],
          "scatter3d": [
           {
            "line": {
             "colorbar": {
              "outlinewidth": 0,
              "ticks": ""
             }
            },
            "marker": {
             "colorbar": {
              "outlinewidth": 0,
              "ticks": ""
             }
            },
            "type": "scatter3d"
           }
          ],
          "scattercarpet": [
           {
            "marker": {
             "colorbar": {
              "outlinewidth": 0,
              "ticks": ""
             }
            },
            "type": "scattercarpet"
           }
          ],
          "scattergeo": [
           {
            "marker": {
             "colorbar": {
              "outlinewidth": 0,
              "ticks": ""
             }
            },
            "type": "scattergeo"
           }
          ],
          "scattergl": [
           {
            "marker": {
             "line": {
              "color": "#283442"
             }
            },
            "type": "scattergl"
           }
          ],
          "scattermapbox": [
           {
            "marker": {
             "colorbar": {
              "outlinewidth": 0,
              "ticks": ""
             }
            },
            "type": "scattermapbox"
           }
          ],
          "scatterpolar": [
           {
            "marker": {
             "colorbar": {
              "outlinewidth": 0,
              "ticks": ""
             }
            },
            "type": "scatterpolar"
           }
          ],
          "scatterpolargl": [
           {
            "marker": {
             "colorbar": {
              "outlinewidth": 0,
              "ticks": ""
             }
            },
            "type": "scatterpolargl"
           }
          ],
          "scatterternary": [
           {
            "marker": {
             "colorbar": {
              "outlinewidth": 0,
              "ticks": ""
             }
            },
            "type": "scatterternary"
           }
          ],
          "surface": [
           {
            "colorbar": {
             "outlinewidth": 0,
             "ticks": ""
            },
            "colorscale": [
             [
              0,
              "#0d0887"
             ],
             [
              0.1111111111111111,
              "#46039f"
             ],
             [
              0.2222222222222222,
              "#7201a8"
             ],
             [
              0.3333333333333333,
              "#9c179e"
             ],
             [
              0.4444444444444444,
              "#bd3786"
             ],
             [
              0.5555555555555556,
              "#d8576b"
             ],
             [
              0.6666666666666666,
              "#ed7953"
             ],
             [
              0.7777777777777778,
              "#fb9f3a"
             ],
             [
              0.8888888888888888,
              "#fdca26"
             ],
             [
              1,
              "#f0f921"
             ]
            ],
            "type": "surface"
           }
          ],
          "table": [
           {
            "cells": {
             "fill": {
              "color": "#506784"
             },
             "line": {
              "color": "rgb(17,17,17)"
             }
            },
            "header": {
             "fill": {
              "color": "#2a3f5f"
             },
             "line": {
              "color": "rgb(17,17,17)"
             }
            },
            "type": "table"
           }
          ]
         },
         "layout": {
          "annotationdefaults": {
           "arrowcolor": "#f2f5fa",
           "arrowhead": 0,
           "arrowwidth": 1
          },
          "autotypenumbers": "strict",
          "coloraxis": {
           "colorbar": {
            "outlinewidth": 0,
            "ticks": ""
           }
          },
          "colorscale": {
           "diverging": [
            [
             0,
             "#8e0152"
            ],
            [
             0.1,
             "#c51b7d"
            ],
            [
             0.2,
             "#de77ae"
            ],
            [
             0.3,
             "#f1b6da"
            ],
            [
             0.4,
             "#fde0ef"
            ],
            [
             0.5,
             "#f7f7f7"
            ],
            [
             0.6,
             "#e6f5d0"
            ],
            [
             0.7,
             "#b8e186"
            ],
            [
             0.8,
             "#7fbc41"
            ],
            [
             0.9,
             "#4d9221"
            ],
            [
             1,
             "#276419"
            ]
           ],
           "sequential": [
            [
             0,
             "#0d0887"
            ],
            [
             0.1111111111111111,
             "#46039f"
            ],
            [
             0.2222222222222222,
             "#7201a8"
            ],
            [
             0.3333333333333333,
             "#9c179e"
            ],
            [
             0.4444444444444444,
             "#bd3786"
            ],
            [
             0.5555555555555556,
             "#d8576b"
            ],
            [
             0.6666666666666666,
             "#ed7953"
            ],
            [
             0.7777777777777778,
             "#fb9f3a"
            ],
            [
             0.8888888888888888,
             "#fdca26"
            ],
            [
             1,
             "#f0f921"
            ]
           ],
           "sequentialminus": [
            [
             0,
             "#0d0887"
            ],
            [
             0.1111111111111111,
             "#46039f"
            ],
            [
             0.2222222222222222,
             "#7201a8"
            ],
            [
             0.3333333333333333,
             "#9c179e"
            ],
            [
             0.4444444444444444,
             "#bd3786"
            ],
            [
             0.5555555555555556,
             "#d8576b"
            ],
            [
             0.6666666666666666,
             "#ed7953"
            ],
            [
             0.7777777777777778,
             "#fb9f3a"
            ],
            [
             0.8888888888888888,
             "#fdca26"
            ],
            [
             1,
             "#f0f921"
            ]
           ]
          },
          "colorway": [
           "#636efa",
           "#EF553B",
           "#00cc96",
           "#ab63fa",
           "#FFA15A",
           "#19d3f3",
           "#FF6692",
           "#B6E880",
           "#FF97FF",
           "#FECB52"
          ],
          "font": {
           "color": "#f2f5fa"
          },
          "geo": {
           "bgcolor": "rgb(17,17,17)",
           "lakecolor": "rgb(17,17,17)",
           "landcolor": "rgb(17,17,17)",
           "showlakes": true,
           "showland": true,
           "subunitcolor": "#506784"
          },
          "hoverlabel": {
           "align": "left"
          },
          "hovermode": "closest",
          "mapbox": {
           "style": "dark"
          },
          "paper_bgcolor": "rgb(17,17,17)",
          "plot_bgcolor": "rgb(17,17,17)",
          "polar": {
           "angularaxis": {
            "gridcolor": "#506784",
            "linecolor": "#506784",
            "ticks": ""
           },
           "bgcolor": "rgb(17,17,17)",
           "radialaxis": {
            "gridcolor": "#506784",
            "linecolor": "#506784",
            "ticks": ""
           }
          },
          "scene": {
           "xaxis": {
            "backgroundcolor": "rgb(17,17,17)",
            "gridcolor": "#506784",
            "gridwidth": 2,
            "linecolor": "#506784",
            "showbackground": true,
            "ticks": "",
            "zerolinecolor": "#C8D4E3"
           },
           "yaxis": {
            "backgroundcolor": "rgb(17,17,17)",
            "gridcolor": "#506784",
            "gridwidth": 2,
            "linecolor": "#506784",
            "showbackground": true,
            "ticks": "",
            "zerolinecolor": "#C8D4E3"
           },
           "zaxis": {
            "backgroundcolor": "rgb(17,17,17)",
            "gridcolor": "#506784",
            "gridwidth": 2,
            "linecolor": "#506784",
            "showbackground": true,
            "ticks": "",
            "zerolinecolor": "#C8D4E3"
           }
          },
          "shapedefaults": {
           "line": {
            "color": "#f2f5fa"
           }
          },
          "sliderdefaults": {
           "bgcolor": "#C8D4E3",
           "bordercolor": "rgb(17,17,17)",
           "borderwidth": 1,
           "tickwidth": 0
          },
          "ternary": {
           "aaxis": {
            "gridcolor": "#506784",
            "linecolor": "#506784",
            "ticks": ""
           },
           "baxis": {
            "gridcolor": "#506784",
            "linecolor": "#506784",
            "ticks": ""
           },
           "bgcolor": "rgb(17,17,17)",
           "caxis": {
            "gridcolor": "#506784",
            "linecolor": "#506784",
            "ticks": ""
           }
          },
          "title": {
           "x": 0.05
          },
          "updatemenudefaults": {
           "bgcolor": "#506784",
           "borderwidth": 0
          },
          "xaxis": {
           "automargin": true,
           "gridcolor": "#283442",
           "linecolor": "#506784",
           "ticks": "",
           "title": {
            "standoff": 15
           },
           "zerolinecolor": "#283442",
           "zerolinewidth": 2
          },
          "yaxis": {
           "automargin": true,
           "gridcolor": "#283442",
           "linecolor": "#506784",
           "ticks": "",
           "title": {
            "standoff": 15
           },
           "zerolinecolor": "#283442",
           "zerolinewidth": 2
          }
         }
        },
        "title": {
         "text": "Descriptive Features"
        },
        "width": 800
       }
      }
     },
     "metadata": {},
     "output_type": "display_data"
    }
   ],
   "source": [
    "plt.rcParams['figure.figsize'] = [8, 8]\n",
    "\n",
    "fig = go.Figure()\n",
    "\n",
    "fig.add_trace(go.Scatterpolar(\n",
    "      r=auxA[playerA],\n",
    "      theta=descriptive_features,\n",
    "      fill='toself',\n",
    "      name=playerA\n",
    "))\n",
    "\n",
    "fig.add_trace(go.Scatterpolar(\n",
    "      r=auxB[playerB],\n",
    "      theta=descriptive_features,\n",
    "      fill='toself',\n",
    "      name=playerB\n",
    "))\n",
    "\n",
    "fig.update_layout(\n",
    "  polar=dict(\n",
    "    radialaxis=dict(\n",
    "      visible=True,\n",
    "      range=[0, 1]\n",
    "    )),\n",
    "  showlegend=True,\n",
    "  width=800, height=800,\n",
    "  template=\"plotly_dark\",\n",
    "  title = 'Descriptive Features'\n",
    ")\n",
    "\n",
    "fig.show()"
   ]
  },
  {
   "cell_type": "markdown",
   "metadata": {},
   "source": [
    "# 7. <a id='toc7_'></a>[Data Preparation](#toc0_)\n",
    "- Normalize, re-scale and transform (enconding) variables to suit model requirements\n",
    "- It may be a good idea to normalize all of the features so they are comparable in magnitude"
   ]
  },
  {
   "cell_type": "code",
   "execution_count": null,
   "metadata": {},
   "outputs": [],
   "source": []
  },
  {
   "cell_type": "code",
   "execution_count": null,
   "metadata": {},
   "outputs": [],
   "source": []
  },
  {
   "cell_type": "markdown",
   "metadata": {},
   "source": [
    "# 8. <a id='toc8_'></a>[Feature Selection through Boruta algorithm](#toc0_)\n",
    "- Use Boruta algorithm to select best features to machine learning models"
   ]
  },
  {
   "cell_type": "code",
   "execution_count": null,
   "metadata": {},
   "outputs": [],
   "source": []
  },
  {
   "cell_type": "code",
   "execution_count": null,
   "metadata": {},
   "outputs": [],
   "source": []
  },
  {
   "cell_type": "code",
   "execution_count": null,
   "metadata": {},
   "outputs": [],
   "source": []
  },
  {
   "cell_type": "code",
   "execution_count": null,
   "metadata": {},
   "outputs": [],
   "source": []
  },
  {
   "cell_type": "markdown",
   "metadata": {},
   "source": [
    "# 9. <a id='toc9_'></a>[Model implementation](#toc0_)\n",
    "- Implement different machine learning models and algorithms\n",
    "- Conduct cross-velidation computing\n",
    "- Conduct single performance metrics computing"
   ]
  },
  {
   "cell_type": "code",
   "execution_count": null,
   "metadata": {},
   "outputs": [],
   "source": []
  },
  {
   "cell_type": "code",
   "execution_count": null,
   "metadata": {},
   "outputs": [],
   "source": []
  },
  {
   "cell_type": "code",
   "execution_count": null,
   "metadata": {},
   "outputs": [],
   "source": []
  },
  {
   "cell_type": "code",
   "execution_count": null,
   "metadata": {},
   "outputs": [],
   "source": []
  },
  {
   "cell_type": "code",
   "execution_count": null,
   "metadata": {},
   "outputs": [],
   "source": []
  },
  {
   "cell_type": "markdown",
   "metadata": {},
   "source": [
    "# 10. <a id='toc10_'></a>[Hyperparameter Fine-Tuning](#toc0_)\n",
    "- Implement hyperparameter search (Bayes Search) to find best model hyperparameter values\n",
    "- Re-train model using best values"
   ]
  },
  {
   "cell_type": "code",
   "execution_count": null,
   "metadata": {},
   "outputs": [],
   "source": []
  },
  {
   "cell_type": "code",
   "execution_count": null,
   "metadata": {},
   "outputs": [],
   "source": []
  },
  {
   "cell_type": "code",
   "execution_count": null,
   "metadata": {},
   "outputs": [],
   "source": []
  },
  {
   "cell_type": "code",
   "execution_count": null,
   "metadata": {},
   "outputs": [],
   "source": []
  },
  {
   "cell_type": "code",
   "execution_count": null,
   "metadata": {},
   "outputs": [],
   "source": []
  },
  {
   "cell_type": "markdown",
   "metadata": {},
   "source": [
    "# 11. <a id='toc11_'></a>[Model Error Estimation and Interpretation](#toc0_)\n",
    "- Use model errors to interpret the goals "
   ]
  },
  {
   "cell_type": "code",
   "execution_count": null,
   "metadata": {},
   "outputs": [],
   "source": []
  },
  {
   "cell_type": "code",
   "execution_count": null,
   "metadata": {},
   "outputs": [],
   "source": []
  },
  {
   "cell_type": "code",
   "execution_count": null,
   "metadata": {},
   "outputs": [],
   "source": []
  },
  {
   "cell_type": "markdown",
   "metadata": {},
   "source": [
    "# 12. <a id='toc12_'></a>[Model Deployment](#toc0_)\n",
    "- Deploy the model to a cloud service so it can be used by its consumers"
   ]
  },
  {
   "cell_type": "code",
   "execution_count": null,
   "metadata": {},
   "outputs": [],
   "source": []
  },
  {
   "cell_type": "code",
   "execution_count": null,
   "metadata": {},
   "outputs": [],
   "source": []
  },
  {
   "cell_type": "code",
   "execution_count": null,
   "metadata": {},
   "outputs": [],
   "source": []
  },
  {
   "cell_type": "code",
   "execution_count": null,
   "metadata": {},
   "outputs": [],
   "source": []
  }
 ],
 "metadata": {
  "kernelspec": {
   "display_name": "NBA",
   "language": "python",
   "name": "python3"
  },
  "language_info": {
   "codemirror_mode": {
    "name": "ipython",
    "version": 3
   },
   "file_extension": ".py",
   "mimetype": "text/x-python",
   "name": "python",
   "nbconvert_exporter": "python",
   "pygments_lexer": "ipython3",
   "version": "3.11.2"
  },
  "orig_nbformat": 4
 },
 "nbformat": 4,
 "nbformat_minor": 2
}
