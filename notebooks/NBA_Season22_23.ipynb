{
 "cells": [
  {
   "cell_type": "markdown",
   "metadata": {},
   "source": [
    "# 1. <a id='toc1_'></a>[NBA Season 2022-2023 Analysis](#toc0_)"
   ]
  },
  {
   "cell_type": "markdown",
   "metadata": {},
   "source": [
    "**Table of contents**<a id='toc0_'></a>    \n",
    "- 1. [NBA Season 2022-2023 Analysis](#toc1_)    \n",
    "- 2. [Importings](#toc2_)    \n",
    "  - 2.1. [Libraries](#toc2_1_)    \n",
    "  - 2.2. [Helper Function](#toc2_2_)    \n",
    "  - 2.3. [Data loading](#toc2_3_)    \n",
    "- 3. [Data exploration and problem comprehension](#toc3_)    \n",
    "  - 3.1. [Examining the **Advanced Dataset**](#toc3_1_)    \n",
    "    - 3.1.1. [Features from Advanced Dataset](#toc3_1_1_)    \n",
    "    - 3.1.2. [What are we dealing with?](#toc3_1_2_)    \n",
    "    - 3.1.3. [Renaming and droping empty columns](#toc3_1_3_)    \n",
    "    - 3.1.4. [Checking for NAs](#toc3_1_4_)    \n",
    "    - 3.1.5. [Do these players have multiple lines due to team exchanges?](#toc3_1_5_)    \n",
    "    - 3.1.6. [Let's combine the rows with same players](#toc3_1_6_)    \n",
    "      - 3.1.6.1. [Checking if the concatenation went right](#toc3_1_6_1_)    \n",
    "    - 3.1.7. [First glance at the Advanced Dataset](#toc3_1_7_)    \n",
    "    - 3.1.8. [Imputing values to the missing data](#toc3_1_8_)    \n",
    "  - 3.2. [Examining **Per Game Dataset**](#toc3_2_)    \n",
    "    - 3.2.1. [Features from Per Game Dataset](#toc3_2_1_)    \n",
    "    - 3.2.2. [What are we dealing with?](#toc3_2_2_)    \n",
    "    - 3.2.3. [Renaming the columns](#toc3_2_3_)    \n",
    "    - 3.2.4. [Checking for NAs](#toc3_2_4_)    \n",
    "    - 3.2.5. [Let's combine multiple player rows in one](#toc3_2_5_)    \n",
    "      - 3.2.5.1. [Checking if the concatanation went as expected](#toc3_2_5_1_)    \n",
    "      - 3.2.5.2. [Checking again for NAs](#toc3_2_5_2_)    \n",
    "    - 3.2.6. [Filling out NAs](#toc3_2_6_)    \n",
    "    - 3.2.7. [First glance at the Per Game Dataset](#toc3_2_7_)    \n",
    "  - 3.3. [Merging the two datasets](#toc3_3_)    \n",
    "    - 3.3.1. [Creating some new features](#toc3_3_1_)    \n",
    "      - 3.3.1.1. [GM = Games Missed](#toc3_3_1_1_)    \n",
    "    - 3.3.2. [Reordering the columns](#toc3_3_2_)    \n",
    "  - 3.4. [Exporting the merged dataset as a pickle file](#toc3_4_)    \n",
    "- 4. [Feature Engineering and Hypothesis Creation](#toc4_)    \n",
    "- 5. [Data selection and filtering](#toc5_)    \n",
    "- 6. [Exploratory Data Analysis](#toc6_)    \n",
    "- 7. [Data Preparation](#toc7_)    \n",
    "- 8. [Feature Selection through Boruta algorithm](#toc8_)    \n",
    "- 9. [Model implementation](#toc9_)    \n",
    "- 10. [Hyperparameter Fine-Tuning](#toc10_)    \n",
    "- 11. [Model Error Estimation and Interpretation](#toc11_)    \n",
    "- 12. [Model Deployment](#toc12_)    \n",
    "\n",
    "<!-- vscode-jupyter-toc-config\n",
    "\tnumbering=true\n",
    "\tanchor=true\n",
    "\tflat=false\n",
    "\tminLevel=1\n",
    "\tmaxLevel=6\n",
    "\t/vscode-jupyter-toc-config -->\n",
    "<!-- THIS CELL WILL BE REPLACED ON TOC UPDATE. DO NOT WRITE YOUR TEXT IN THIS CELL -->"
   ]
  },
  {
   "cell_type": "markdown",
   "metadata": {},
   "source": [
    "# 2. <a id='toc2_'></a>[Importings](#toc0_)"
   ]
  },
  {
   "cell_type": "markdown",
   "metadata": {},
   "source": [
    "## 2.1. <a id='toc2_1_'></a>[Libraries](#toc0_)"
   ]
  },
  {
   "cell_type": "code",
   "execution_count": 2,
   "metadata": {},
   "outputs": [],
   "source": [
    "import pandas as pd\n",
    "import numpy as np\n",
    "import seaborn as sns\n",
    "import matplotlib.pyplot as plt\n",
    "import warnings\n",
    "import pickle\n",
    "\n",
    "from ydata_profiling        import ProfileReport\n",
    "from sklearn.impute         import SimpleImputer\n",
    "from IPython.display        import Image\n",
    "from IPython.core.display   import HTML"
   ]
  },
  {
   "cell_type": "markdown",
   "metadata": {},
   "source": [
    "## 2.2. <a id='toc2_2_'></a>[Helper Function](#toc0_)"
   ]
  },
  {
   "cell_type": "code",
   "execution_count": 3,
   "metadata": {},
   "outputs": [
    {
     "data": {
      "text/html": [
       "<style>.container { width:100% !important; }</style>"
      ],
      "text/plain": [
       "<IPython.core.display.HTML object>"
      ]
     },
     "metadata": {},
     "output_type": "display_data"
    }
   ],
   "source": [
    "def jupyter_configs():\n",
    "    plt.style.use( 'bmh' )\n",
    "    plt.rcParams['figure.figsize'] = [15, 8]\n",
    "    plt.rcParams['font.size'] = 24\n",
    "    \n",
    "    display( HTML( '<style>.container { width:100% !important; }</style>') )\n",
    "    pd.options.display.max_columns = None\n",
    "    pd.options.display.max_rows = None\n",
    "    pd.set_option( 'display.expand_frame_repr', False )\n",
    "    pd.set_option('display.max_columns', None)\n",
    "    \n",
    "    sns.set()\n",
    "    \n",
    "    warnings.filterwarnings( 'ignore' )\n",
    "    \n",
    "jupyter_configs()"
   ]
  },
  {
   "cell_type": "markdown",
   "metadata": {},
   "source": [
    "## 2.3. <a id='toc2_3_'></a>[Data loading](#toc0_)"
   ]
  },
  {
   "cell_type": "code",
   "execution_count": null,
   "metadata": {},
   "outputs": [],
   "source": [
    "advanced_df_raw = pd.read_csv('./data/data_advanced.csv')\n",
    "pergame_df_raw = pd.read_csv('./data/data_pergame.csv')"
   ]
  },
  {
   "cell_type": "markdown",
   "metadata": {},
   "source": [
    "# 3. <a id='toc3_'></a>[Data exploration and problem comprehension](#toc0_)\n",
    "- Main goal/problem\n",
    "- Sub-goals\n",
    "- What will the finished product be?"
   ]
  },
  {
   "cell_type": "markdown",
   "metadata": {},
   "source": [
    "## 3.1. <a id='toc3_1_'></a>[Examining the **Advanced Dataset**](#toc0_)"
   ]
  },
  {
   "cell_type": "markdown",
   "metadata": {},
   "source": [
    "### 3.1.1. <a id='toc3_1_1_'></a>[Features from Advanced Dataset](#toc0_)"
   ]
  },
  {
   "cell_type": "markdown",
   "metadata": {},
   "source": [
    "\n",
    "- Rk -- Rank\n",
    "\n",
    "- Pos -- Position\n",
    "\n",
    "- Age -- Player's age on February 1 of the season\n",
    "\n",
    "- Tm -- Team\n",
    "\n",
    "- G -- Games\n",
    "\n",
    "- MP -- Minutes Played\n",
    "\n",
    "- PER -- Player Efficiency Rating. A measure of per-minute production standardized such that the league average is 15.\n",
    "\n",
    "- TS% -- True Shooting Percentage. A measure of shooting efficiency that takes into account 2-point field goals, 3-point field goals, and free throws.\n",
    "\n",
    "- 3PAr -- 3-Point Attempt Rate. Percentage of FG Attempts from 3-Point Range\n",
    "\n",
    "- FTr -- Free Throw Attempt Rate. Number of FT Attempts Per FG Attempt\n",
    "\n",
    "- ORB% -- Offensive Rebound Percentage. An estimate of the percentage of available offensive rebounds a player grabbed while they were on the floor.\n",
    "\n",
    "- DRB% -- Defensive Rebound Percentage. An estimate of the percentage of available defensive rebounds a player grabbed while they were on the floor.\n",
    "\n",
    "- TRB% -- Total Rebound Percentage. An estimate of the percentage of available rebounds a player grabbed while they were on the floor.\n",
    "\n",
    "- AST% -- Assist Percentage. An estimate of the percentage of teammate field goals a player assisted while they were on the floor.\n",
    "\n",
    "- STL% -- Steal Percentage. An estimate of the percentage of opponent possessions that end with a steal by the player while they were on the floor.\n",
    "\n",
    "- BLK% -- Block Percentage. An estimate of the percentage of opponent two-point field goal attempts blocked by the player while they were on the floor.\n",
    "\n",
    "- TOV% -- Turnover Percentage. An estimate of turnovers committed per 100 plays.\n",
    "\n",
    "- USG% -- Usage Percentage. An estimate of the percentage of team plays used by a player while they were on the floor.\n",
    "\n",
    "- OWS -- Offensive Win Shares. An estimate of the number of wins contributed by a player due to offense.\n",
    "\n",
    "- DWS -- Defensive Win Shares. An estimate of the number of wins contributed by a player due to defense.\n",
    "\n",
    "- WS -- Win Shares. An estimate of the number of wins contributed by a player.\n",
    "\n",
    "- WS/48 -- Win Shares Per 48 Minutes. An estimate of the number of wins contributed by a player per 48 minutes (league average is approximately .100)\n",
    "\n",
    "- OBPM -- Offensive Box Plus/Minus. A box score estimate of the offensive points per 100 possessions a player contributed above a league-average player, translated to an average team.\n",
    "\n",
    "- DBPM -- Defensive Box Plus/Minus. A box score estimate of the defensive points per 100 possessions a player contributed above a league-average player, translated to an average team.\n",
    "\n",
    "- BPM -- Box Plus/Minus. A box score estimate of the points per 100 possessions a player contributed above a league-average player, translated to an average team.\n",
    "\n",
    "- VORP -- Value over Replacement Player. A box score estimate of the points per 100 TEAM possessions that a player contributed above a replacement-level (-2.0) player, translated to an average team and prorated to an 82-game season. Multiply by 2.70 to convert to wins over replacement."
   ]
  },
  {
   "cell_type": "markdown",
   "metadata": {},
   "source": [
    "### 3.1.2. <a id='toc3_1_2_'></a>[What are we dealing with?](#toc0_)"
   ]
  },
  {
   "cell_type": "code",
   "execution_count": null,
   "metadata": {},
   "outputs": [],
   "source": [
    "advanced_df_raw.head()"
   ]
  },
  {
   "cell_type": "code",
   "execution_count": null,
   "metadata": {},
   "outputs": [],
   "source": [
    "advanced_df_raw.shape"
   ]
  },
  {
   "cell_type": "markdown",
   "metadata": {},
   "source": [
    "### 3.1.3. <a id='toc3_1_3_'></a>[Renaming and droping empty columns](#toc0_)"
   ]
  },
  {
   "cell_type": "code",
   "execution_count": null,
   "metadata": {},
   "outputs": [],
   "source": [
    "droped_columns = ['Unnamed: 19', 'Unnamed: 24']\n",
    "advanced_df_raw = advanced_df_raw.drop(droped_columns, axis = 1)"
   ]
  },
  {
   "cell_type": "code",
   "execution_count": null,
   "metadata": {},
   "outputs": [],
   "source": [
    "advanced_df_raw.columns"
   ]
  },
  {
   "cell_type": "code",
   "execution_count": null,
   "metadata": {},
   "outputs": [],
   "source": [
    "advanced_cols = ['Rk', 'Player', 'Pos', 'Age', 'Tm', 'G', 'MP_Total', 'PER', 'TS%', '3PAr',\n",
    "       'FTr', 'ORB%', 'DRB%', 'TRB%', 'AST%', 'STL%', 'BLK%', 'TOV%', 'USG%',\n",
    "       'OWS', 'DWS', 'WS', 'WS_48', 'OBPM', 'DBPM', 'BPM', 'VORP',\n",
    "       'Player_additional']\n",
    "\n",
    "advanced_df_raw.columns = advanced_cols"
   ]
  },
  {
   "cell_type": "code",
   "execution_count": null,
   "metadata": {},
   "outputs": [],
   "source": [
    "advanced_df_raw.shape"
   ]
  },
  {
   "cell_type": "code",
   "execution_count": null,
   "metadata": {},
   "outputs": [],
   "source": [
    "# There are 679 rows in the dataset. However only 539 singular players. It happens because some players changed teams during the season and appear in multiple lines.\n",
    "# It may be a good solution to join these lines and stick only with the latest team in wich the player acts.\n",
    "\n",
    "print( advanced_df_raw['Player_additional'].nunique(), 'out of', advanced_df_raw.shape[0])"
   ]
  },
  {
   "cell_type": "markdown",
   "metadata": {},
   "source": [
    "### 3.1.4. <a id='toc3_1_4_'></a>[Checking for NAs](#toc0_)\n",
    "- Only three NAs in columns 'TS%', '3PAr' and 'FTr', and one at the column 'TOV%'. The same three rows have NAs to the first three features and Michael Foster Jr. has missing values to 'TOV%'. \n",
    "- Let's inspect it so we can figure out why they are empty and what to do with it.\n",
    "- Columns 'Unnamed: 19' and 'Unnamed: 24' are completely empty and should be deleted."
   ]
  },
  {
   "cell_type": "code",
   "execution_count": null,
   "metadata": {},
   "outputs": [],
   "source": [
    "advanced_df_raw.isna().sum()"
   ]
  },
  {
   "cell_type": "code",
   "execution_count": null,
   "metadata": {},
   "outputs": [],
   "source": [
    "advanced_df_raw[advanced_df_raw['TOV%'].isna()]"
   ]
  },
  {
   "cell_type": "code",
   "execution_count": null,
   "metadata": {},
   "outputs": [],
   "source": [
    "advanced_df_raw[advanced_df_raw['TS%'].isna()]"
   ]
  },
  {
   "cell_type": "code",
   "execution_count": null,
   "metadata": {},
   "outputs": [],
   "source": [
    "advanced_df_raw[advanced_df_raw['3PAr'].isna()]"
   ]
  },
  {
   "cell_type": "code",
   "execution_count": null,
   "metadata": {},
   "outputs": [],
   "source": [
    "advanced_df_raw[advanced_df_raw['FTr'].isna()]"
   ]
  },
  {
   "cell_type": "markdown",
   "metadata": {},
   "source": [
    "### 3.1.5. <a id='toc3_1_5_'></a>[Do these players have multiple lines due to team exchanges?](#toc0_)\n",
    "- Moses Brown do appear in three different rows once he was traded two times during this season so it may be a good alternative to join the rows\n",
    "- Michael Foster Jr. and Alondes Williams don't appear. So the missing data may be due to impossobilities to calculate it. It may be a good solution to use 0,0 as values or to attempt to estimate it from the Per Game Dataset."
   ]
  },
  {
   "cell_type": "code",
   "execution_count": null,
   "metadata": {},
   "outputs": [],
   "source": [
    "advanced_df_raw[advanced_df_raw['Player_additional'] == 'brownmo01']"
   ]
  },
  {
   "cell_type": "code",
   "execution_count": null,
   "metadata": {},
   "outputs": [],
   "source": [
    "advanced_df_raw[advanced_df_raw['Player_additional'] == 'fostemi02']"
   ]
  },
  {
   "cell_type": "code",
   "execution_count": null,
   "metadata": {},
   "outputs": [],
   "source": [
    "advanced_df_raw[advanced_df_raw['Player_additional'] == 'willial06']"
   ]
  },
  {
   "cell_type": "markdown",
   "metadata": {},
   "source": [
    "### 3.1.6. <a id='toc3_1_6_'></a>[Let's combine the rows with same players](#toc0_)"
   ]
  },
  {
   "cell_type": "code",
   "execution_count": null,
   "metadata": {},
   "outputs": [],
   "source": [
    "advanced_df = advanced_df_raw.groupby(\"Player_additional\", as_index=False).agg(\n",
    "                      {\n",
    "                          'Rk':'first', 'Player':'first', \n",
    "                          'Pos':'first', 'Age':'first', \n",
    "                          'Tm':'first', 'G':'first', \n",
    "                          'MP_Total':'mean', 'PER':'mean', \n",
    "                          'TS%':'mean', '3PAr':'mean',\n",
    "                          'FTr':'mean', 'ORB%':'mean', \n",
    "                          'DRB%':'mean', 'TRB%':'mean', \n",
    "                          'AST%':'mean', 'STL%':'mean', \n",
    "                          'BLK%':'mean', 'TOV%':'mean', \n",
    "                          'USG%':'mean', 'OWS':'mean', \n",
    "                          'DWS':'mean', 'WS':'mean', \n",
    "                          'WS_48':'mean', 'OBPM':'mean', \n",
    "                          'DBPM':'mean', 'BPM':'mean', \n",
    "                          'VORP':'mean', 'Player_additional':'first'\n",
    "                      }\n",
    "                      )"
   ]
  },
  {
   "cell_type": "markdown",
   "metadata": {},
   "source": [
    "#### 3.1.6.1. <a id='toc3_1_6_1_'></a>[Checking if the concatenation went right](#toc0_)"
   ]
  },
  {
   "cell_type": "code",
   "execution_count": null,
   "metadata": {},
   "outputs": [],
   "source": [
    "advanced_df.shape[0]"
   ]
  },
  {
   "cell_type": "code",
   "execution_count": null,
   "metadata": {},
   "outputs": [],
   "source": [
    "advanced_df['Player_additional'].nunique()"
   ]
  },
  {
   "cell_type": "code",
   "execution_count": null,
   "metadata": {},
   "outputs": [],
   "source": [
    "# Como era:\n",
    "\n",
    "advanced_df_raw[advanced_df_raw['Player_additional'] == 'brownmo01']"
   ]
  },
  {
   "cell_type": "code",
   "execution_count": null,
   "metadata": {},
   "outputs": [],
   "source": [
    "# Como ficou:\n",
    "\n",
    "advanced_df[advanced_df['Player_additional'] == 'brownmo01']"
   ]
  },
  {
   "cell_type": "markdown",
   "metadata": {},
   "source": [
    "### 3.1.7. <a id='toc3_1_7_'></a>[First glance at the Advanced Dataset](#toc0_)"
   ]
  },
  {
   "cell_type": "code",
   "execution_count": null,
   "metadata": {},
   "outputs": [],
   "source": [
    "# The data types are all set correctly\n",
    "\n",
    "advanced_df.dtypes"
   ]
  },
  {
   "cell_type": "code",
   "execution_count": null,
   "metadata": {},
   "outputs": [],
   "source": [
    "advanced_df.describe().T"
   ]
  },
  {
   "cell_type": "code",
   "execution_count": null,
   "metadata": {},
   "outputs": [],
   "source": [
    "advanced_df.info()"
   ]
  },
  {
   "cell_type": "code",
   "execution_count": null,
   "metadata": {},
   "outputs": [],
   "source": [
    "# Generate a dataset profile report\n",
    "\n",
    "# advanced_profile = ProfileReport(advanced_df, title = 'Advanced NBA Dataset Profile')\n",
    "# advanced_profile.to_file('advanced_profile.html')\n",
    "# advanced_profile"
   ]
  },
  {
   "cell_type": "markdown",
   "metadata": {},
   "source": [
    "### 3.1.8. <a id='toc3_1_8_'></a>[Imputing values to the missing data](#toc0_)\n",
    "- We still have two players with missing values:\n",
    "  - Michael Foster Jr.: 'TS%', '3PAr', 'FTr' and 'TOV%'\n",
    "  - Alondes Williams: 'TS%', '3PAr' and 'FTr'\n",
    "- Both of them are note playing in NBA league currently\n",
    "- For that reason we will imput zeros to the NAs"
   ]
  },
  {
   "cell_type": "code",
   "execution_count": null,
   "metadata": {},
   "outputs": [],
   "source": [
    "advanced_df[(advanced_df['Player_additional']=='fostemi02') | (advanced_df['Player_additional']=='willial06')]"
   ]
  },
  {
   "cell_type": "code",
   "execution_count": null,
   "metadata": {},
   "outputs": [],
   "source": [
    "advanced_df = advanced_df.fillna(0)"
   ]
  },
  {
   "cell_type": "code",
   "execution_count": null,
   "metadata": {},
   "outputs": [],
   "source": [
    "# Checking if the imputation gone well\n",
    "\n",
    "advanced_df[(advanced_df['Player_additional']=='fostemi02') | (advanced_df['Player_additional']=='willial06')][['Player', 'TS%', '3PAr', 'FTr', 'TOV%']]"
   ]
  },
  {
   "cell_type": "markdown",
   "metadata": {},
   "source": [
    "## 3.2. <a id='toc3_2_'></a>[Examining **Per Game Dataset**](#toc0_)"
   ]
  },
  {
   "cell_type": "markdown",
   "metadata": {},
   "source": [
    "### 3.2.1. <a id='toc3_2_1_'></a>[Features from Per Game Dataset](#toc0_)"
   ]
  },
  {
   "cell_type": "markdown",
   "metadata": {},
   "source": [
    "\n",
    "- Rk -- Rank\n",
    "\n",
    "- Pos -- Position\n",
    "\n",
    "- Age -- Player's age on February 1 of the season\n",
    "\n",
    "- Tm -- Team\n",
    "\n",
    "- G -- Games\n",
    "\n",
    "- GS -- Games Started\n",
    "\n",
    "- MP -- Minutes Played Per Game\n",
    "\n",
    "- FG -- Field Goals Per Game\n",
    "\n",
    "- FGA -- Field Goal Attempts Per Game\n",
    "\n",
    "- FG% -- Field Goal Percentage\n",
    "\n",
    "- 3P -- 3-Point Field Goals Per Game\n",
    "\n",
    "- 3PA -- 3-Point Field Goal Attempts Per Game\n",
    "\n",
    "- 3P% -- 3-Point Field Goal Percentage\n",
    "\n",
    "- 2P -- 2-Point Field Goals Per Game\n",
    "\n",
    "- 2PA -- 2-Point Field Goal Attempts Per Game\n",
    "\n",
    "- 2P% -- 2-Point Field Goal Percentage\n",
    "\n",
    "- eFG% -- Effective Field Goal Percentage\n",
    "\n",
    "- This statistic adjusts for the fact that a 3-point field goal is worth one more point than a 2-point field goal.\n",
    "\n",
    "- FT -- Free Throws Per Game\n",
    "\n",
    "- FTA -- Free Throw Attempts Per Game\n",
    "\n",
    "- FT% -- Free Throw Percentage\n",
    "\n",
    "- ORB -- Offensive Rebounds Per Game\n",
    "\n",
    "- DRB -- Defensive Rebounds Per Game\n",
    "\n",
    "- TRB -- Total Rebounds Per Game\n",
    "\n",
    "- AST -- Assists Per Game\n",
    "\n",
    "- STL -- Steals Per Game\n",
    "\n",
    "- BLK -- Blocks Per Game\n",
    "\n",
    "- TOV -- Turnovers Per Game\n",
    "\n",
    "- PF -- Personal Fouls Per Game\n",
    "\n",
    "- PTS -- Points Per Game"
   ]
  },
  {
   "cell_type": "markdown",
   "metadata": {},
   "source": [
    "### 3.2.2. <a id='toc3_2_2_'></a>[What are we dealing with?](#toc0_)"
   ]
  },
  {
   "cell_type": "code",
   "execution_count": null,
   "metadata": {},
   "outputs": [],
   "source": [
    "pergame_df_raw.head()"
   ]
  },
  {
   "cell_type": "code",
   "execution_count": null,
   "metadata": {},
   "outputs": [],
   "source": [
    "pergame_df_raw.shape"
   ]
  },
  {
   "cell_type": "markdown",
   "metadata": {},
   "source": [
    "### 3.2.3. <a id='toc3_2_3_'></a>[Renaming the columns](#toc0_)"
   ]
  },
  {
   "cell_type": "code",
   "execution_count": null,
   "metadata": {},
   "outputs": [],
   "source": [
    "pergame_df_raw.columns"
   ]
  },
  {
   "cell_type": "code",
   "execution_count": null,
   "metadata": {},
   "outputs": [],
   "source": [
    "pergame_df_raw.columns = ['Rk', 'Player', 'Pos', 'Age', 'Tm', 'G', 'GS', 'MP', 'FG', 'FGA', 'FG%',\n",
    "       '3P', '3PA', '3P%', '2P', '2PA', '2P%', 'eFG%', 'FT', 'FTA', 'FT%',\n",
    "       'ORB', 'DRB', 'TRB', 'AST', 'STL', 'BLK', 'TOV', 'PF', 'PTS',\n",
    "       'Player_additional']"
   ]
  },
  {
   "cell_type": "markdown",
   "metadata": {},
   "source": [
    "### 3.2.4. <a id='toc3_2_4_'></a>[Checking for NAs](#toc0_)\n",
    "- In this dataset we have a little bit more NAs than in the previous one\n",
    "- There are NAs in five columns in total:\n",
    "  - FG%\n",
    "  - 3P%\n",
    "  - 2P% \n",
    "  - eFG%\n",
    "  - FT%\n",
    "- To the features 'FG%' and 'eFG%' the same thre player from the previous dataset have missing values and we can proceed as we did then"
   ]
  },
  {
   "cell_type": "code",
   "execution_count": null,
   "metadata": {},
   "outputs": [],
   "source": [
    "pergame_df_raw.isna().sum()"
   ]
  },
  {
   "cell_type": "code",
   "execution_count": null,
   "metadata": {},
   "outputs": [],
   "source": [
    "pergame_df_raw[pergame_df_raw['FG%'].isna()]"
   ]
  },
  {
   "cell_type": "code",
   "execution_count": null,
   "metadata": {},
   "outputs": [],
   "source": [
    "pergame_df_raw[pergame_df_raw['3P%'].isna()]"
   ]
  },
  {
   "cell_type": "code",
   "execution_count": null,
   "metadata": {},
   "outputs": [],
   "source": [
    "pergame_df_raw[pergame_df_raw['2P%'].isna()]"
   ]
  },
  {
   "cell_type": "code",
   "execution_count": null,
   "metadata": {},
   "outputs": [],
   "source": [
    "pergame_df_raw[pergame_df_raw['eFG%'].isna()]"
   ]
  },
  {
   "cell_type": "code",
   "execution_count": null,
   "metadata": {},
   "outputs": [],
   "source": [
    "pergame_df_raw[pergame_df_raw['FT%'].isna()]"
   ]
  },
  {
   "cell_type": "markdown",
   "metadata": {},
   "source": [
    "### 3.2.5. <a id='toc3_2_5_'></a>[Let's combine multiple player rows in one](#toc0_)"
   ]
  },
  {
   "cell_type": "code",
   "execution_count": null,
   "metadata": {},
   "outputs": [],
   "source": [
    "pergame_df = pergame_df_raw.groupby(\"Player_additional\", as_index=False).agg(\n",
    "                      {\n",
    "                          'Rk':'first', 'Player':'first', \n",
    "                          'Pos':'first', 'Age':'first', \n",
    "                          'Tm':'first', 'G':'first', \n",
    "                          'GS':'first', 'MP':'mean', \n",
    "                          'FG':'mean', 'FGA':'mean', \n",
    "                          'FG%':'mean', '3P':'mean', \n",
    "                          '3PA':'mean', '3P%':'mean', \n",
    "                          '2P':'mean', '2PA':'mean', \n",
    "                          '2P%':'mean', 'eFG%':'mean', \n",
    "                          'FT':'mean', 'FTA':'mean', \n",
    "                          'FT%':'mean', 'ORB':'mean', \n",
    "                          'DRB':'mean', 'TRB':'mean', \n",
    "                          'AST':'mean', 'STL':'mean', \n",
    "                          'BLK':'mean', 'TOV':'mean', \n",
    "                          'PF':'mean', 'PTS':'mean', \n",
    "                          'Player_additional':'first'\n",
    "                      }\n",
    "                      )"
   ]
  },
  {
   "cell_type": "markdown",
   "metadata": {},
   "source": [
    "#### 3.2.5.1. <a id='toc3_2_5_1_'></a>[Checking if the concatanation went as expected](#toc0_)"
   ]
  },
  {
   "cell_type": "code",
   "execution_count": null,
   "metadata": {},
   "outputs": [],
   "source": [
    "print(pergame_df.shape[0], 'out of', pergame_df_raw.shape[0])"
   ]
  },
  {
   "cell_type": "code",
   "execution_count": null,
   "metadata": {},
   "outputs": [],
   "source": [
    "pergame_df['Player_additional'].nunique()"
   ]
  },
  {
   "cell_type": "markdown",
   "metadata": {},
   "source": [
    "#### 3.2.5.2. <a id='toc3_2_5_2_'></a>[Checking again for NAs](#toc0_)\n",
    "- We still have some NAs. Letś examine them further and decide how to deal with them"
   ]
  },
  {
   "cell_type": "code",
   "execution_count": null,
   "metadata": {},
   "outputs": [],
   "source": [
    "pergame_df.isna().sum()"
   ]
  },
  {
   "cell_type": "markdown",
   "metadata": {},
   "source": [
    "### 3.2.6. <a id='toc3_2_6_'></a>[Filling out NAs](#toc0_)\n",
    "- The NAs still present in the dataset are due to a basic game statistic that has itself only null values (zeros)\n",
    "- Because of that we can input zeros to the NAs"
   ]
  },
  {
   "cell_type": "code",
   "execution_count": null,
   "metadata": {},
   "outputs": [],
   "source": [
    "pergame_df = pergame_df.fillna(0)"
   ]
  },
  {
   "cell_type": "code",
   "execution_count": null,
   "metadata": {},
   "outputs": [],
   "source": [
    "pergame_df.isna().sum()"
   ]
  },
  {
   "cell_type": "markdown",
   "metadata": {},
   "source": [
    "### 3.2.7. <a id='toc3_2_7_'></a>[First glance at the Per Game Dataset](#toc0_)"
   ]
  },
  {
   "cell_type": "code",
   "execution_count": null,
   "metadata": {},
   "outputs": [],
   "source": [
    "pergame_df.describe().T"
   ]
  },
  {
   "cell_type": "code",
   "execution_count": null,
   "metadata": {},
   "outputs": [],
   "source": [
    "pergame_df.info()"
   ]
  },
  {
   "cell_type": "code",
   "execution_count": null,
   "metadata": {},
   "outputs": [],
   "source": [
    "# Generate a dataset profile report\n",
    "\n",
    "# pergame_profile = ProfileReport(pergame_df, title = 'Per Game NBA Dataset Profile')\n",
    "# pergame_profile.to_file('pergame_profile.html')\n",
    "# pergame_profile"
   ]
  },
  {
   "cell_type": "markdown",
   "metadata": {},
   "source": [
    "## 3.3. <a id='toc3_3_'></a>[Merging the two datasets](#toc0_)"
   ]
  },
  {
   "cell_type": "code",
   "execution_count": null,
   "metadata": {},
   "outputs": [],
   "source": [
    "df = pd.merge(advanced_df, pergame_df, how = 'left', on=['Player_additional', 'Player', 'Pos', 'Age', 'Tm', 'G', 'Rk'])\n",
    "print(df)\n",
    "print(df.shape)"
   ]
  },
  {
   "cell_type": "markdown",
   "metadata": {},
   "source": [
    "### 3.3.1. <a id='toc3_3_1_'></a>[Creating some new features](#toc0_)"
   ]
  },
  {
   "cell_type": "markdown",
   "metadata": {},
   "source": [
    "#### 3.3.1.1. <a id='toc3_3_1_1_'></a>[GM = Games Missed](#toc0_)"
   ]
  },
  {
   "cell_type": "code",
   "execution_count": null,
   "metadata": {},
   "outputs": [],
   "source": [
    "df['GM'] = 82 - df['G']"
   ]
  },
  {
   "cell_type": "markdown",
   "metadata": {},
   "source": []
  },
  {
   "cell_type": "code",
   "execution_count": null,
   "metadata": {},
   "outputs": [],
   "source": []
  },
  {
   "cell_type": "markdown",
   "metadata": {},
   "source": [
    "### 3.3.2. <a id='toc3_3_2_'></a>[Reordering the columns](#toc0_)"
   ]
  },
  {
   "cell_type": "code",
   "execution_count": null,
   "metadata": {},
   "outputs": [],
   "source": [
    "df = df[['Rk', 'Player', 'Pos', 'Age', 'Tm', \n",
    "         'G', 'GS', 'GM',\n",
    "         'MP_Total', 'MP', 'PER', \n",
    "         'USG%', 'OWS', 'DWS', 'WS', 'WS_48', \n",
    "         'OBPM', 'DBPM', 'BPM', 'VORP',\n",
    "         'TS%', 'PTS', \n",
    "         'FG', 'FGA', 'FG%', \n",
    "         '3P', '3PA', '3P%', '3PAr',\n",
    "         '2P', '2PA', '2P%', 'eFG%', \n",
    "         'FT', 'FTA', 'FT%', 'FTr',\n",
    "         'ORB', 'ORB%', \n",
    "         'DRB', 'DRB%', \n",
    "         'TRB', 'TRB%',\n",
    "         'AST', 'AST%',\n",
    "         'STL', 'STL%',\n",
    "         'BLK','BLK%',\n",
    "         'TOV', 'TOV%',\n",
    "         'PF', 'Player_additional']]\n",
    "df.head()"
   ]
  },
  {
   "cell_type": "code",
   "execution_count": null,
   "metadata": {},
   "outputs": [],
   "source": []
  },
  {
   "cell_type": "code",
   "execution_count": null,
   "metadata": {},
   "outputs": [],
   "source": []
  },
  {
   "cell_type": "code",
   "execution_count": null,
   "metadata": {},
   "outputs": [],
   "source": []
  },
  {
   "cell_type": "markdown",
   "metadata": {},
   "source": [
    "## 3.4. <a id='toc3_4_'></a>[Exporting the merged dataset as a pickle file](#toc0_)"
   ]
  },
  {
   "cell_type": "code",
   "execution_count": null,
   "metadata": {},
   "outputs": [],
   "source": [
    "pd.to_pickle(df, 'df.pkl')"
   ]
  },
  {
   "cell_type": "code",
   "execution_count": null,
   "metadata": {},
   "outputs": [],
   "source": []
  },
  {
   "cell_type": "code",
   "execution_count": null,
   "metadata": {},
   "outputs": [],
   "source": []
  },
  {
   "cell_type": "markdown",
   "metadata": {},
   "source": [
    "# 4. <a id='toc4_'></a>[Feature Engineering and Hypothesis Creation](#toc0_)\n",
    "- Mental hypothesis map\n",
    "- Hypothesis list\n",
    "- Fillout NAs\n",
    "- Derive new variables as needed"
   ]
  },
  {
   "attachments": {},
   "cell_type": "markdown",
   "metadata": {},
   "source": [
    "## Importing dataset from pickle file"
   ]
  },
  {
   "cell_type": "code",
   "execution_count": 5,
   "metadata": {},
   "outputs": [],
   "source": [
    "df04 = pd.read_pickle('~/repos/NBA_2022-2023/data/df.pkl')"
   ]
  },
  {
   "cell_type": "code",
   "execution_count": null,
   "metadata": {},
   "outputs": [],
   "source": []
  },
  {
   "cell_type": "code",
   "execution_count": null,
   "metadata": {},
   "outputs": [],
   "source": []
  },
  {
   "cell_type": "code",
   "execution_count": null,
   "metadata": {},
   "outputs": [],
   "source": [
    "    "
   ]
  },
  {
   "cell_type": "code",
   "execution_count": null,
   "metadata": {},
   "outputs": [],
   "source": []
  },
  {
   "cell_type": "code",
   "execution_count": null,
   "metadata": {},
   "outputs": [],
   "source": []
  },
  {
   "cell_type": "code",
   "execution_count": null,
   "metadata": {},
   "outputs": [],
   "source": []
  },
  {
   "cell_type": "markdown",
   "metadata": {},
   "source": [
    "# 5. <a id='toc5_'></a>[Data selection and filtering](#toc0_)\n",
    "- Filter data rows\n",
    "- Filter data columns"
   ]
  },
  {
   "cell_type": "markdown",
   "metadata": {},
   "source": [
    "# 6. <a id='toc6_'></a>[Exploratory Data Analysis](#toc0_)\n",
    "- Answer the hypothesis list\n",
    "- Build data visualization solutions and plots"
   ]
  },
  {
   "cell_type": "markdown",
   "metadata": {},
   "source": [
    "# 7. <a id='toc7_'></a>[Data Preparation](#toc0_)\n",
    "- Normalize, re-scale and transform (enconding) variables to suit model requirements"
   ]
  },
  {
   "cell_type": "code",
   "execution_count": null,
   "metadata": {},
   "outputs": [],
   "source": []
  },
  {
   "cell_type": "markdown",
   "metadata": {},
   "source": [
    "# 8. <a id='toc8_'></a>[Feature Selection through Boruta algorithm](#toc0_)\n",
    "- Use Boruta algorithm to select best features to machine learning models"
   ]
  },
  {
   "cell_type": "code",
   "execution_count": null,
   "metadata": {},
   "outputs": [],
   "source": []
  },
  {
   "cell_type": "markdown",
   "metadata": {},
   "source": [
    "# 9. <a id='toc9_'></a>[Model implementation](#toc0_)\n",
    "- Implement different machine learning models and algorithms\n",
    "- Conduct cross-velidation computing\n",
    "- Conduct single performance metrics computing"
   ]
  },
  {
   "cell_type": "code",
   "execution_count": null,
   "metadata": {},
   "outputs": [],
   "source": []
  },
  {
   "cell_type": "markdown",
   "metadata": {},
   "source": [
    "# 10. <a id='toc10_'></a>[Hyperparameter Fine-Tuning](#toc0_)\n",
    "- Implement hyperparameter search (Bayes Search) to find best model hyperparameter values\n",
    "- Re-train model using best values"
   ]
  },
  {
   "cell_type": "code",
   "execution_count": null,
   "metadata": {},
   "outputs": [],
   "source": []
  },
  {
   "cell_type": "markdown",
   "metadata": {},
   "source": [
    "# 11. <a id='toc11_'></a>[Model Error Estimation and Interpretation](#toc0_)\n",
    "- Use model errors to interpret the goals "
   ]
  },
  {
   "cell_type": "code",
   "execution_count": null,
   "metadata": {},
   "outputs": [],
   "source": []
  },
  {
   "cell_type": "markdown",
   "metadata": {},
   "source": [
    "# 12. <a id='toc12_'></a>[Model Deployment](#toc0_)\n",
    "- Deploy the model to a cloud service so it can be used by its consumers"
   ]
  },
  {
   "cell_type": "code",
   "execution_count": null,
   "metadata": {},
   "outputs": [],
   "source": []
  }
 ],
 "metadata": {
  "kernelspec": {
   "display_name": "NBA",
   "language": "python",
   "name": "python3"
  },
  "language_info": {
   "codemirror_mode": {
    "name": "ipython",
    "version": 3
   },
   "file_extension": ".py",
   "mimetype": "text/x-python",
   "name": "python",
   "nbconvert_exporter": "python",
   "pygments_lexer": "ipython3",
   "version": "3.11.2"
  },
  "orig_nbformat": 4
 },
 "nbformat": 4,
 "nbformat_minor": 2
}
