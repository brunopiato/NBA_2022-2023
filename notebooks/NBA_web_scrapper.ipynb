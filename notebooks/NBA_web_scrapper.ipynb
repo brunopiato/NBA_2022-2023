{
 "cells": [
  {
   "attachments": {},
   "cell_type": "markdown",
   "metadata": {},
   "source": [
    "# 1. <a id='toc1_'></a>[Web Scrapper for NBA Stats](#toc0_)"
   ]
  },
  {
   "attachments": {},
   "cell_type": "markdown",
   "metadata": {},
   "source": [
    "**Table of contents**<a id='toc0_'></a>    \n",
    "- 1. [Web Scrapper for NBA Stats](#toc1_)    \n",
    "  - 1.1. [Importing libraries](#toc1_1_)    \n",
    "  - 1.2. [API Requesting](#toc1_2_)    \n",
    "  - 1.3. [Treating the data](#toc1_3_)    \n",
    "  - 1.4. [Expanding to previous seasons](#toc1_4_)    \n",
    "  - 1.5. [Loading back the data](#toc1_5_)    \n",
    "\n",
    "<!-- vscode-jupyter-toc-config\n",
    "\tnumbering=true\n",
    "\tanchor=true\n",
    "\tflat=false\n",
    "\tminLevel=1\n",
    "\tmaxLevel=6\n",
    "\t/vscode-jupyter-toc-config -->\n",
    "<!-- THIS CELL WILL BE REPLACED ON TOC UPDATE. DO NOT WRITE YOUR TEXT IN THIS CELL -->"
   ]
  },
  {
   "attachments": {},
   "cell_type": "markdown",
   "metadata": {},
   "source": [
    "## 1.1. <a id='toc1_1_'></a>[Importing libraries](#toc0_)"
   ]
  },
  {
   "cell_type": "code",
   "execution_count": 48,
   "metadata": {},
   "outputs": [],
   "source": [
    "import requests\n",
    "import pandas as pd\n",
    "import os"
   ]
  },
  {
   "cell_type": "code",
   "execution_count": 49,
   "metadata": {},
   "outputs": [],
   "source": [
    "season_id = '2022-23'\n",
    "per_mode = 'PerGame'\n",
    "season_type = 'Regular%20Season'\n",
    "\n",
    "url_players_stats = 'https://stats.nba.com/stats/leaguedashplayerstats?College=&Conference=&Country=&DateFrom=&DateTo=&Division=&DraftPick=&DraftYear=&GameScope=&GameSegment=&Height=&LastNGames=0&LeagueID=00&Location=&MeasureType=Base&Month=0&OpponentTeamID=0&Outcome=&PORound=0&PaceAdjust=N&PerMode='+per_mode+'&Period=0&PlayerExperience=&PlayerPosition=&PlusMinus=N&Rank=N&Season='+season_id+'&SeasonSegment=&SeasonType='+season_type+'&ShotClockRange=&StarterBench=&TeamID=0&VsConference=&VsDivision=&Weight='\n",
    "url_players_bios = 'https://stats.nba.com/stats/leaguedashplayerbiostats?College=&Conference=&Country=&DateFrom=&DateTo=&Division=&DraftPick=&DraftYear=&GameScope=&GameSegment=&Height=&LastNGames=0&LeagueID=00&Location=&Month=0&OpponentTeamID=0&Outcome=&PORound=0&PerMode='+per_mode+'&Period=0&PlayerExperience=&PlayerPosition=&Season='+season_id+'&SeasonSegment=&SeasonType='+season_type+'&ShotClockRange=&StarterBench=&TeamID=0&VsConference=&VsDivision=&Weight='\n",
    "url_players_hustle = 'https://stats.nba.com/stats/leaguehustlestatsplayer?College=&Conference=&Country=&DateFrom=&DateTo=&Division=&DraftPick=&DraftYear=&GameScope=&Height=&LastNGames=0&LeagueID=00&Location=&Month=0&OpponentTeamID=0&Outcome=&PORound=0&PaceAdjust=N&PerMode='+per_mode+'&PlayerExperience=&PlayerPosition=&PlusMinus=N&Rank=N&Season='+season_id+'&SeasonSegment=&SeasonType='+season_type+'&TeamID=0&VsConference=&VsDivision=&Weight='\n"
   ]
  },
  {
   "cell_type": "code",
   "execution_count": 50,
   "metadata": {},
   "outputs": [],
   "source": [
    "headers = {\n",
    "    'Connection': 'keep-alive',\n",
    "    'Accept': 'application/json, text/plain, */*',\n",
    "    'x-nba-stats-token': 'true',\n",
    "    'User-Agent': 'Mozilla/5.0 (X11; Linux x86_64) AppleWebKit/537.36 (KHTML, like Gecko) Chrome/113.0.0.0 Safari/537.36',\n",
    "    'x-nba-stats-origin': 'stats',\n",
    "    'Sec-Fetch-Site': 'same-origin',\n",
    "    'Sec-Fetch-Mode': 'cors',\n",
    "    'Referer': 'https://stats.nba.com/',\n",
    "    'Accept-Encoding': 'gzip, deflate, br',\n",
    "    'Accept-Language': 'pt-BR,pt;q=0.9,en-US;q=0.8,en;q=0.7',\n",
    "}"
   ]
  },
  {
   "attachments": {},
   "cell_type": "markdown",
   "metadata": {},
   "source": [
    "## 1.2. <a id='toc1_2_'></a>[API Requesting](#toc0_)"
   ]
  },
  {
   "cell_type": "code",
   "execution_count": null,
   "metadata": {},
   "outputs": [],
   "source": [
    "response_stats = requests.get(url=url_players_stats, headers=headers).json()\n",
    "players_stats = response_stats['resultSets'][0]['rowSet']"
   ]
  },
  {
   "cell_type": "code",
   "execution_count": null,
   "metadata": {},
   "outputs": [],
   "source": [
    "response_bios = requests.get(url=url_players_bios, headers=headers).json()\n",
    "players_bios = response_bios['resultSets'][0]['rowSet']"
   ]
  },
  {
   "cell_type": "code",
   "execution_count": null,
   "metadata": {},
   "outputs": [],
   "source": [
    "response_hustle = requests.get(url=url_players_hustle, headers=headers).json()\n",
    "players_hustle = response_hustle['resultSets'][0]['rowSet']"
   ]
  },
  {
   "attachments": {},
   "cell_type": "markdown",
   "metadata": {},
   "source": [
    "## 1.3. <a id='toc1_3_'></a>[Treating the data](#toc0_)"
   ]
  },
  {
   "cell_type": "code",
   "execution_count": 51,
   "metadata": {},
   "outputs": [],
   "source": [
    "columns_stats = [\"PLAYER_ID\",\n",
    "                \"PLAYER_NAME\",\n",
    "                \"NICKNAME\",\n",
    "                \"TEAM_ID\",\n",
    "                \"TEAM_ABBREVIATION\",\n",
    "                \"AGE\",\n",
    "                \"GP\",\n",
    "                \"W\",\n",
    "                \"L\",\n",
    "                \"W_PCT\",\n",
    "                \"MIN\",\n",
    "                \"FGM\",\n",
    "                \"FGA\",\n",
    "                \"FG_PCT\",\n",
    "                \"FG3M\",\n",
    "                \"FG3A\",\n",
    "                \"FG3_PCT\",\n",
    "                \"FTM\",\n",
    "                \"FTA\",\n",
    "                \"FT_PCT\",\n",
    "                \"OREB\",\n",
    "                \"DREB\",\n",
    "                \"REB\",\n",
    "                \"AST\",\n",
    "                \"TOV\",\n",
    "                \"STL\",\n",
    "                \"BLK\",\n",
    "                \"BLKA\",\n",
    "                \"PF\",\n",
    "                \"PFD\",\n",
    "                \"PTS\",\n",
    "                \"PLUS_MINUS\",\n",
    "                \"NBA_FANTASY_PTS\",\n",
    "                \"DD2\",\n",
    "                \"TD3\",\n",
    "                \"WNBA_FANTASY_PTS\",\n",
    "                \"GP_RANK\",\n",
    "                \"W_RANK\",\n",
    "                \"L_RANK\",\n",
    "                \"W_PCT_RANK\",\n",
    "                \"MIN_RANK\",\n",
    "                \"FGM_RANK\",\n",
    "                \"FGA_RANK\",\n",
    "                \"FG_PCT_RANK\",\n",
    "                \"FG3M_RANK\",\n",
    "                \"FG3A_RANK\",\n",
    "                \"FG3_PCT_RANK\",\n",
    "                \"FTM_RANK\",\n",
    "                \"FTA_RANK\",\n",
    "                \"FT_PCT_RANK\",\n",
    "                \"OREB_RANK\",\n",
    "                \"DREB_RANK\",\n",
    "                \"REB_RANK\",\n",
    "                \"AST_RANK\",\n",
    "                \"TOV_RANK\",\n",
    "                \"STL_RANK\",\n",
    "                \"BLK_RANK\",\n",
    "                \"BLKA_RANK\",\n",
    "                \"PF_RANK\",\n",
    "                \"PFD_RANK\",\n",
    "                \"PTS_RANK\",\n",
    "                \"PLUS_MINUS_RANK\",\n",
    "                \"NBA_FANTASY_PTS_RANK\",\n",
    "                \"DD2_RANK\",\n",
    "                \"TD3_RANK\",\n",
    "                \"WNBA_FANTASY_PTS_RANK\"]\n",
    "\n",
    "columns_bios = [\"PLAYER_ID\",\n",
    "                \"PLAYER_NAME\",\n",
    "                \"TEAM_ID\",\n",
    "                \"TEAM_ABBREVIATION\",\n",
    "                \"AGE\",\n",
    "                \"PLAYER_HEIGHT\",\n",
    "                \"PLAYER_HEIGHT_INCHES\",\n",
    "                \"PLAYER_WEIGHT\",\n",
    "                \"COLLEGE\",\n",
    "                \"COUNTRY\",\n",
    "                \"DRAFT_YEAR\",\n",
    "                \"DRAFT_ROUND\",\n",
    "                \"DRAFT_NUMBER\",\n",
    "                \"GP\", \n",
    "                \"PTS\", \n",
    "                \"REB\", \n",
    "                \"AST\", \n",
    "                \"NET_RATING\",\n",
    "                \"OREB_PCT\", \n",
    "                \"DREB_PCT\", \n",
    "                \"USG_PCT\",\n",
    "                \"TS_PCT\", \n",
    "                \"AST_PCT\"\n",
    "                ]\n",
    "\n",
    "columns_hustle = [\"PLAYER_ID\",\n",
    "                 \"PLAYER_NAME\",\n",
    "                 \"TEAM_ID\",\n",
    "                 \"TEAM_ABBREVIATION\",\n",
    "                 \"AGE\",\n",
    "                 \"G\",\n",
    "                 \"MIN\",\n",
    "                 \"CONTESTED_SHOTS\",\n",
    "                 \"CONTESTED_SHOTS_2PT\",\n",
    "                 \"CONTESTED_SHOTS_3PT\",\n",
    "                 \"DEFLECTIONS\",\n",
    "                 \"CHARGES_DRAWN\",\n",
    "                 \"SCREEN_ASSISTS\",\n",
    "                 \"SCREEN_AST_PTS\",\n",
    "                 \"OFF_LOOSE_BALLS_RECOVERED\",\n",
    "                 \"DEF_LOOSE_BALLS_RECOVERED\",\n",
    "                 \"LOOSE_BALLS_RECOVERED\",\n",
    "                 \"PCT_LOOSE_BALLS_RECOVERED_OFF\",\n",
    "                 \"PCT_LOOSE_BALLS_RECOVERED_DEF\",\n",
    "                 \"OFF_BOXOUTS\",\n",
    "                 \"DEF_BOXOUTS\",\n",
    "                 \"BOX_OUTS\",\n",
    "                 \"BOX_OUT_PLAYER_TEAM_REBS\",\n",
    "                 \"BOX_OUT_PLAYER_REBS\",\n",
    "                 \"PCT_BOX_OUTS_OFF\",\n",
    "                 \"PCT_BOX_OUTS_DEF\",\n",
    "                 \"PCT_BOX_OUTS_TEAM_REB\",\n",
    "                 \"PCT_BOX_OUTS_REB\"  \n",
    "                 ]"
   ]
  },
  {
   "cell_type": "code",
   "execution_count": null,
   "metadata": {},
   "outputs": [],
   "source": [
    "players_stats_df = pd.DataFrame(players_stats, columns=columns_stats)\n",
    "players_stats_df"
   ]
  },
  {
   "cell_type": "code",
   "execution_count": null,
   "metadata": {},
   "outputs": [],
   "source": [
    "players_bios_df = pd.DataFrame(players_bios, columns=columns_bios)\n",
    "players_bios_df"
   ]
  },
  {
   "cell_type": "code",
   "execution_count": null,
   "metadata": {},
   "outputs": [],
   "source": [
    "players_hustle_df = pd.DataFrame(players_hustle, columns=columns_hustle)\n",
    "players_hustle_df"
   ]
  },
  {
   "cell_type": "code",
   "execution_count": null,
   "metadata": {},
   "outputs": [],
   "source": [
    "os.getcwd()"
   ]
  },
  {
   "cell_type": "code",
   "execution_count": null,
   "metadata": {},
   "outputs": [],
   "source": [
    "# Exporting the DataFrames as CSV files\n",
    "\n",
    "# players_bios_df.to_csv('/home/bruno/repos/NBA_2022-2023/data/players_bios_2022-23.csv', index=False)\n",
    "# players_stats_df.to_csv('/home/bruno/repos/NBA_2022-2023/data/players_stats_2022-23.csv', index=False)\n",
    "# players_hustle_df.to_csv('/home/bruno/repos/NBA_2022-2023/data/players_hustle_2022-23.csv', index=False)"
   ]
  },
  {
   "attachments": {},
   "cell_type": "markdown",
   "metadata": {},
   "source": [
    "## 1.4. <a id='toc1_4_'></a>[Expanding to previous seasons](#toc0_)"
   ]
  },
  {
   "cell_type": "code",
   "execution_count": null,
   "metadata": {},
   "outputs": [],
   "source": [
    "seasons_years = ['1995-96',\n",
    "                 '1996-97',\n",
    "                 '1997-98',\n",
    "                 '1998-99',\n",
    "                 '1999-00',\n",
    "                 '2000-01',\n",
    "                 '2001-02',\n",
    "                 '2002-03',\n",
    "                 '2003-04',\n",
    "                 '2004-05',\n",
    "                 '2005-06',\n",
    "                 '2006-07',\n",
    "                 '2007-08',\n",
    "                 '2008-09',\n",
    "                 '2009-10',\n",
    "                 '2010-11',\n",
    "                 '2011-12',\n",
    "                 '2012-13',\n",
    "                 '2013-14',\n",
    "                 '2014-15',\n",
    "                 '2015-16',\n",
    "                 '2016-17',\n",
    "                 '2017-18',\n",
    "                 '2018-19',\n",
    "                 '2019-20',\n",
    "                 '2020-21',\n",
    "                 '2021-22',\n",
    "                 '2022-23',   \n",
    "]\n",
    "\n",
    "season_types = ['Regular%20Season', 'Playoffs']"
   ]
  },
  {
   "cell_type": "code",
   "execution_count": null,
   "metadata": {},
   "outputs": [],
   "source": [
    "df_stats = []\n",
    "df_bios = []\n",
    "df_hustle = []\n",
    "\n",
    "for season_type in season_types:\n",
    "    print(season_type)\n",
    "    for season_id in seasons_years:\n",
    "        url_players_stats = 'https://stats.nba.com/stats/leaguedashplayerstats?College=&Conference=&Country=&DateFrom=&DateTo=&Division=&DraftPick=&DraftYear=&GameScope=&GameSegment=&Height=&LastNGames=0&LeagueID=00&Location=&MeasureType=Base&Month=0&OpponentTeamID=0&Outcome=&PORound=0&PaceAdjust=N&PerMode='+per_mode+'&Period=0&PlayerExperience=&PlayerPosition=&PlusMinus=N&Rank=N&Season='+season_id+'&SeasonSegment=&SeasonType=Regular%20Season&ShotClockRange=&StarterBench=&TeamID=0&VsConference=&VsDivision=&Weight='\n",
    "        url_players_bios = 'https://stats.nba.com/stats/leaguedashplayerbiostats?College=&Conference=&Country=&DateFrom=&DateTo=&Division=&DraftPick=&DraftYear=&GameScope=&GameSegment=&Height=&LastNGames=0&LeagueID=00&Location=&Month=0&OpponentTeamID=0&Outcome=&PORound=0&PerMode='+per_mode+'&Period=0&PlayerExperience=&PlayerPosition=&Season='+season_id+'&SeasonSegment=&SeasonType=Regular%20Season&ShotClockRange=&StarterBench=&TeamID=0&VsConference=&VsDivision=&Weight='\n",
    "        url_players_hustle = 'https://stats.nba.com/stats/leaguehustlestatsplayer?College=&Conference=&Country=&DateFrom=&DateTo=&Division=&DraftPick=&DraftYear=&GameScope=&Height=&LastNGames=0&LeagueID=00&Location=&Month=0&OpponentTeamID=0&Outcome=&PORound=0&PaceAdjust=N&PerMode='+per_mode+'&PlayerExperience=&PlayerPosition=&PlusMinus=N&Rank=N&Season='+season_id+'&SeasonSegment=&SeasonType='+season_type+'&TeamID=0&VsConference=&VsDivision=&Weight='\n",
    "        \n",
    "        # Getting the API requests\n",
    "        response_stats = requests.get(url=url_players_stats, headers=headers).json()\n",
    "        players_stats = response_stats['resultSets'][0]['rowSet']\n",
    "        \n",
    "        response_bios = requests.get(url=url_players_bios, headers=headers).json()\n",
    "        players_bios = response_bios['resultSets'][0]['rowSet']\n",
    "        \n",
    "        response_hustle = requests.get(url=url_players_hustle, headers=headers).json()\n",
    "        players_hustle = response_hustle['resultSets'][0]['rowSet']\n",
    "        \n",
    "        # Turning the JSON requests into DataFrames\n",
    "        players_stats_df = pd.DataFrame(players_stats, columns=columns_stats)\n",
    "        players_bios_df = pd.DataFrame(players_bios, columns=columns_bios)\n",
    "        players_hustle_df = pd.DataFrame(players_hustle, columns=columns_hustle)\n",
    "        \n",
    "        # Adding the season_id to the DataFrame\n",
    "        players_stats_df['season_id'] = season_id\n",
    "        players_bios_df['season_id'] = season_id\n",
    "        players_hustle_df['season_id'] = season_id\n",
    "        \n",
    "        # Adding the season_type to the DataFrame\n",
    "        players_stats_df['season_type'] = season_type\n",
    "        players_bios_df['season_type'] = season_type\n",
    "        players_hustle_df['season_type'] = season_type\n",
    "        \n",
    "        # Creating a appended list of lists\n",
    "        df_stats.append(players_stats_df)\n",
    "        df_bios.append(players_bios_df)\n",
    "        df_hustle.append(players_hustle_df)\n",
    "        \n",
    "        # Printing the season\n",
    "\n",
    "        print(season_id)"
   ]
  },
  {
   "cell_type": "code",
   "execution_count": null,
   "metadata": {},
   "outputs": [],
   "source": [
    "# Turning the lists of lists into DataFrames\n",
    "\n",
    "df_bios = pd.concat(df_bios, sort=False)\n",
    "df_stats = pd.concat(df_stats, sort=False)\n",
    "df_hustle = pd.concat(df_hustle, sort=False)"
   ]
  },
  {
   "cell_type": "code",
   "execution_count": null,
   "metadata": {},
   "outputs": [],
   "source": [
    "# Saving the DataFrames into CSV files\n",
    "\n",
    "df_bios.to_csv('/home/bruno/repos/NBA_2022-2023/data/scraped_all_seasons/df_bios_complete.csv', index = False)\n",
    "df_stats.to_csv('/home/bruno/repos/NBA_2022-2023/data/scraped_all_seasons/df_stats_complete.csv', index = False)\n",
    "df_hustle.to_csv('/home/bruno/repos/NBA_2022-2023/data/scraped_all_seasons/df_hustle_complete.csv', index = False)"
   ]
  },
  {
   "attachments": {},
   "cell_type": "markdown",
   "metadata": {},
   "source": [
    "## 1.5. <a id='toc1_5_'></a>[Loading back the data](#toc0_)"
   ]
  },
  {
   "cell_type": "code",
   "execution_count": null,
   "metadata": {},
   "outputs": [],
   "source": [
    "df_bios = pd.read_csv('/home/bruno/repos/NBA_2022-2023/data/scraped_all_seasons/df_bios_complete.csv', low_memory=False)\n",
    "df_stats = pd.read_csv('/home/bruno/repos/NBA_2022-2023/data/scraped_all_seasons/df_stats_complete.csv', low_memory=False)\n",
    "df_hustle = pd.read_csv('/home/bruno/repos/NBA_2022-2023/data/scraped_all_seasons/df_hustle_complete.csv', low_memory=False)"
   ]
  },
  {
   "cell_type": "code",
   "execution_count": null,
   "metadata": {},
   "outputs": [],
   "source": [
    "df_bios"
   ]
  },
  {
   "cell_type": "code",
   "execution_count": null,
   "metadata": {},
   "outputs": [],
   "source": [
    "df_stats"
   ]
  },
  {
   "cell_type": "code",
   "execution_count": null,
   "metadata": {},
   "outputs": [],
   "source": [
    "df_hustle"
   ]
  },
  {
   "cell_type": "code",
   "execution_count": null,
   "metadata": {},
   "outputs": [],
   "source": []
  }
 ],
 "metadata": {
  "kernelspec": {
   "display_name": "NBA",
   "language": "python",
   "name": "python3"
  },
  "language_info": {
   "codemirror_mode": {
    "name": "ipython",
    "version": 3
   },
   "file_extension": ".py",
   "mimetype": "text/x-python",
   "name": "python",
   "nbconvert_exporter": "python",
   "pygments_lexer": "ipython3",
   "version": "3.11.2"
  },
  "orig_nbformat": 4
 },
 "nbformat": 4,
 "nbformat_minor": 2
}
