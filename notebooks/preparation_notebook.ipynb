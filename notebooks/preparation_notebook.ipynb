{
 "cells": [
  {
   "attachments": {},
   "cell_type": "markdown",
   "metadata": {},
   "source": [
    "# 1. <a id='toc1_'></a>[Preparation to the NBA Dex app](#toc0_)"
   ]
  },
  {
   "attachments": {},
   "cell_type": "markdown",
   "metadata": {},
   "source": [
    "Complete features glossary can be seen here: https://www.nba.com/stats/help/glossary"
   ]
  },
  {
   "attachments": {},
   "cell_type": "markdown",
   "metadata": {},
   "source": [
    "**Table of contents**<a id='toc0_'></a>    \n",
    "- 1. [Preparation to the NBA Dex app](#toc1_)    \n",
    "- 2. [Importings](#toc2_)    \n",
    "  - 2.1. [Libraries](#toc2_1_)    \n",
    "  - 2.2. [Data](#toc2_2_)    \n",
    "- 3. [Data preparation](#toc3_)    \n",
    "  - 3.1. [Merging the dataframes](#toc3_1_)    \n",
    "  - 3.2. [Converting and creating new features](#toc3_2_)    \n",
    "    - 3.2.1. [Converting players heights from inches to cm](#toc3_2_1_)    \n",
    "    - 3.2.2. [Converting the players weights from pounds to kg](#toc3_2_2_)    \n",
    "  - 3.3. [Selecting features to be shown](#toc3_3_)    \n",
    "  - 3.4. [Exporting the filtered DataFrame as CSV file](#toc3_4_)    \n",
    "- 4. [Making some charts](#toc4_)    \n",
    "- 5. [Transforming the numerical attributes to be plotted as radas charts](#toc5_)    \n",
    "    - 5.1.1. [Exporting the transformed DataFrame as CSV file](#toc5_1_1_)    \n",
    "- 6. [Plotting the radar charts](#toc6_)    \n",
    "    - 6.1.1. [Importing the transformed data](#toc6_1_1_)    \n",
    "\n",
    "<!-- vscode-jupyter-toc-config\n",
    "\tnumbering=true\n",
    "\tanchor=true\n",
    "\tflat=false\n",
    "\tminLevel=1\n",
    "\tmaxLevel=6\n",
    "\t/vscode-jupyter-toc-config -->\n",
    "<!-- THIS CELL WILL BE REPLACED ON TOC UPDATE. DO NOT WRITE YOUR TEXT IN THIS CELL -->"
   ]
  },
  {
   "attachments": {},
   "cell_type": "markdown",
   "metadata": {},
   "source": [
    "# 2. <a id='toc2_'></a>[Importings](#toc0_)"
   ]
  },
  {
   "attachments": {},
   "cell_type": "markdown",
   "metadata": {},
   "source": [
    "## 2.1. <a id='toc2_1_'></a>[Libraries](#toc0_)"
   ]
  },
  {
   "cell_type": "code",
   "execution_count": 85,
   "metadata": {},
   "outputs": [],
   "source": [
    "import pandas as pd\n",
    "import numpy as np\n",
    "import seaborn as sns\n",
    "import matplotlib.pyplot as plt\n",
    "import plotly.express as px\n",
    "import plotly.graph_objects as go\n",
    "\n",
    "pd.set_option('display.max_columns', None)"
   ]
  },
  {
   "attachments": {},
   "cell_type": "markdown",
   "metadata": {},
   "source": [
    "## 2.2. <a id='toc2_2_'></a>[Data](#toc0_)"
   ]
  },
  {
   "cell_type": "code",
   "execution_count": 3,
   "metadata": {},
   "outputs": [],
   "source": [
    "players_trad = pd.read_csv('/home/bruno/repos/NBA_2022-2023/data/scraped_2022-23/players_stats_2022-23.csv', low_memory=False)\n",
    "players_bios = pd.read_csv('/home/bruno/repos/NBA_2022-2023/data/scraped_2022-23/players_bios_2022-23.csv', low_memory=False)\n",
    "players_hustle = pd.read_csv('/home/bruno/repos/NBA_2022-2023/data/scraped_2022-23/players_hustle_2022-23.csv', low_memory=False)\n",
    "players_index = pd.read_csv('/home/bruno/repos/NBA_2022-2023/data/scraped_2022-23/players_index_2022-23.csv', low_memory=False)"
   ]
  },
  {
   "cell_type": "code",
   "execution_count": 4,
   "metadata": {},
   "outputs": [
    {
     "data": {
      "text/plain": [
       "Index(['PLAYER_ID', 'PLAYER_NAME', 'NICKNAME', 'TEAM_ID', 'TEAM_ABBREVIATION',\n",
       "       'AGE', 'GP', 'W', 'L', 'W_PCT', 'MIN', 'FGM', 'FGA', 'FG_PCT', 'FG3M',\n",
       "       'FG3A', 'FG3_PCT', 'FTM', 'FTA', 'FT_PCT', 'OREB', 'DREB', 'REB', 'AST',\n",
       "       'TOV', 'STL', 'BLK', 'BLKA', 'PF', 'PFD', 'PTS', 'PLUS_MINUS',\n",
       "       'NBA_FANTASY_PTS', 'DD2', 'TD3', 'WNBA_FANTASY_PTS', 'GP_RANK',\n",
       "       'W_RANK', 'L_RANK', 'W_PCT_RANK', 'MIN_RANK', 'FGM_RANK', 'FGA_RANK',\n",
       "       'FG_PCT_RANK', 'FG3M_RANK', 'FG3A_RANK', 'FG3_PCT_RANK', 'FTM_RANK',\n",
       "       'FTA_RANK', 'FT_PCT_RANK', 'OREB_RANK', 'DREB_RANK', 'REB_RANK',\n",
       "       'AST_RANK', 'TOV_RANK', 'STL_RANK', 'BLK_RANK', 'BLKA_RANK', 'PF_RANK',\n",
       "       'PFD_RANK', 'PTS_RANK', 'PLUS_MINUS_RANK', 'NBA_FANTASY_PTS_RANK',\n",
       "       'DD2_RANK', 'TD3_RANK', 'WNBA_FANTASY_PTS_RANK'],\n",
       "      dtype='object')"
      ]
     },
     "execution_count": 4,
     "metadata": {},
     "output_type": "execute_result"
    }
   ],
   "source": [
    "players_trad.columns"
   ]
  },
  {
   "cell_type": "code",
   "execution_count": 5,
   "metadata": {},
   "outputs": [
    {
     "data": {
      "text/plain": [
       "Index(['PLAYER_ID', 'PLAYER_NAME', 'TEAM_ID', 'TEAM_ABBREVIATION', 'AGE',\n",
       "       'PLAYER_HEIGHT', 'PLAYER_HEIGHT_INCHES', 'PLAYER_WEIGHT', 'COLLEGE',\n",
       "       'COUNTRY', 'DRAFT_YEAR', 'DRAFT_ROUND', 'DRAFT_NUMBER', 'GP', 'PTS',\n",
       "       'REB', 'AST', 'NET_RATING', 'OREB_PCT', 'DREB_PCT', 'USG_PCT', 'TS_PCT',\n",
       "       'AST_PCT'],\n",
       "      dtype='object')"
      ]
     },
     "execution_count": 5,
     "metadata": {},
     "output_type": "execute_result"
    }
   ],
   "source": [
    "players_bios.columns"
   ]
  },
  {
   "cell_type": "code",
   "execution_count": 6,
   "metadata": {},
   "outputs": [
    {
     "data": {
      "text/plain": [
       "Index(['PLAYER_ID', 'PLAYER_NAME', 'TEAM_ID', 'TEAM_ABBREVIATION', 'AGE', 'G',\n",
       "       'MIN', 'CONTESTED_SHOTS', 'CONTESTED_SHOTS_2PT', 'CONTESTED_SHOTS_3PT',\n",
       "       'DEFLECTIONS', 'CHARGES_DRAWN', 'SCREEN_ASSISTS', 'SCREEN_AST_PTS',\n",
       "       'OFF_LOOSE_BALLS_RECOVERED', 'DEF_LOOSE_BALLS_RECOVERED',\n",
       "       'LOOSE_BALLS_RECOVERED', 'PCT_LOOSE_BALLS_RECOVERED_OFF',\n",
       "       'PCT_LOOSE_BALLS_RECOVERED_DEF', 'OFF_BOXOUTS', 'DEF_BOXOUTS',\n",
       "       'BOX_OUTS', 'BOX_OUT_PLAYER_TEAM_REBS', 'BOX_OUT_PLAYER_REBS',\n",
       "       'PCT_BOX_OUTS_OFF', 'PCT_BOX_OUTS_DEF', 'PCT_BOX_OUTS_TEAM_REB',\n",
       "       'PCT_BOX_OUTS_REB'],\n",
       "      dtype='object')"
      ]
     },
     "execution_count": 6,
     "metadata": {},
     "output_type": "execute_result"
    }
   ],
   "source": [
    "players_hustle.columns"
   ]
  },
  {
   "cell_type": "code",
   "execution_count": 7,
   "metadata": {},
   "outputs": [
    {
     "data": {
      "text/plain": [
       "Index(['PERSON_ID', 'PLAYER_LAST_NAME', 'PLAYER_FIRST_NAME', 'PLAYER_SLUG',\n",
       "       'TEAM_ID', 'TEAM_SLUG', 'IS_DEFUNCT', 'TEAM_CITY', 'TEAM_NAME',\n",
       "       'TEAM_ABBREVIATION', 'JERSEY_NUMBER', 'POSITION', 'HEIGHT', 'WEIGHT',\n",
       "       'COLLEGE', 'COUNTRY', 'DRAFT_YEAR', 'DRAFT_ROUND', 'DRAFT_NUMBER',\n",
       "       'ROSTER_STATUS', 'PTS', 'REB', 'AST', 'STATS_TIMEFRAME', 'FROM_YEAR',\n",
       "       'TO_YEAR'],\n",
       "      dtype='object')"
      ]
     },
     "execution_count": 7,
     "metadata": {},
     "output_type": "execute_result"
    }
   ],
   "source": [
    "players_index.columns"
   ]
  },
  {
   "cell_type": "code",
   "execution_count": 8,
   "metadata": {},
   "outputs": [],
   "source": [
    "players_index.columns = ['PLAYER_ID', 'PLAYER_LAST_NAME', 'PLAYER_FIRST_NAME', 'PLAYER_SLUG',\n",
    "       'TEAM_ID', 'TEAM_SLUG', 'IS_DEFUNCT', 'TEAM_CITY', 'TEAM_NAME',\n",
    "       'TEAM_ABBREVIATION', 'JERSEY_NUMBER', 'POSITION', 'PLAYER_HEIGHT', 'PLAYER_WEIGHT',\n",
    "       'COLLEGE', 'COUNTRY', 'DRAFT_YEAR', 'DRAFT_ROUND', 'DRAFT_NUMBER',\n",
    "       'ROSTER_STATUS', 'PTS', 'REB', 'AST', 'STATS_TIMEFRAME', 'FROM_YEAR',\n",
    "       'TO_YEAR']"
   ]
  },
  {
   "attachments": {},
   "cell_type": "markdown",
   "metadata": {},
   "source": [
    "# 3. <a id='toc3_'></a>[Data preparation](#toc0_)"
   ]
  },
  {
   "attachments": {},
   "cell_type": "markdown",
   "metadata": {},
   "source": [
    "## 3.1. <a id='toc3_1_'></a>[Merging the dataframes](#toc0_)"
   ]
  },
  {
   "cell_type": "code",
   "execution_count": 9,
   "metadata": {},
   "outputs": [],
   "source": [
    "df_aux = pd.merge(players_bios, players_hustle, how='left', on = ['PLAYER_ID', 'PLAYER_NAME', 'TEAM_ID', 'TEAM_ABBREVIATION', 'AGE'])"
   ]
  },
  {
   "cell_type": "code",
   "execution_count": 10,
   "metadata": {},
   "outputs": [],
   "source": [
    "df_aux2 = pd.merge(df_aux, players_trad, how='left', on = ['PLAYER_ID', 'PLAYER_NAME', 'TEAM_ID', 'TEAM_ABBREVIATION', 'AGE', 'GP', 'PTS', 'REB', 'AST', 'MIN'])"
   ]
  },
  {
   "cell_type": "code",
   "execution_count": 11,
   "metadata": {},
   "outputs": [],
   "source": [
    "df = pd.merge(df_aux2, players_index, how='left', on = ['PLAYER_ID', 'TEAM_ID', 'TEAM_ABBREVIATION', 'PTS', \n",
    "                                                        'REB', 'AST', 'PLAYER_HEIGHT', 'PLAYER_WEIGHT'])"
   ]
  },
  {
   "cell_type": "code",
   "execution_count": 12,
   "metadata": {},
   "outputs": [],
   "source": [
    "df = df.drop(columns=['COLLEGE_y', 'COUNTRY_y', 'DRAFT_YEAR_y', 'DRAFT_ROUND_y', 'DRAFT_NUMBER_y'], axis = 1)"
   ]
  },
  {
   "cell_type": "code",
   "execution_count": 13,
   "metadata": {},
   "outputs": [],
   "source": [
    "# print(*df.columns, sep= '\\n')"
   ]
  },
  {
   "cell_type": "code",
   "execution_count": 14,
   "metadata": {},
   "outputs": [],
   "source": [
    "df.columns = ['PLAYER_ID',\n",
    "'PLAYER_NAME',\n",
    "'TEAM_ID',\n",
    "'TEAM_ABBREVIATION',\n",
    "'AGE',\n",
    "'PLAYER_HEIGHT_FT',\n",
    "'PLAYER_HEIGHT_INCHES',\n",
    "'PLAYER_WEIGHT_LBS',\n",
    "'COLLEGE',\n",
    "'COUNTRY',\n",
    "'DRAFT_YEAR',\n",
    "'DRAFT_ROUND',\n",
    "'DRAFT_NUMBER',\n",
    "'GP',\n",
    "'PTS',\n",
    "'REB',\n",
    "'AST',\n",
    "'NET_RATING',\n",
    "'OREB_PCT',\n",
    "'DREB_PCT',\n",
    "'USG_PCT',\n",
    "'TS_PCT',\n",
    "'AST_PCT',\n",
    "'G',\n",
    "'MIN',\n",
    "'CONTESTED_SHOTS',\n",
    "'CONTESTED_SHOTS_2PT',\n",
    "'CONTESTED_SHOTS_3PT',\n",
    "'DEFLECTIONS',\n",
    "'CHARGES_DRAWN',\n",
    "'SCREEN_ASSISTS',\n",
    "'SCREEN_AST_PTS',\n",
    "'OFF_LOOSE_BALLS_RECOVERED',\n",
    "'DEF_LOOSE_BALLS_RECOVERED',\n",
    "'LOOSE_BALLS_RECOVERED',\n",
    "'PCT_LOOSE_BALLS_RECOVERED_OFF',\n",
    "'PCT_LOOSE_BALLS_RECOVERED_DEF',\n",
    "'OFF_BOXOUTS',\n",
    "'DEF_BOXOUTS',\n",
    "'BOX_OUTS',\n",
    "'BOX_OUT_PLAYER_TEAM_REBS',\n",
    "'BOX_OUT_PLAYER_REBS',\n",
    "'PCT_BOX_OUTS_OFF',\n",
    "'PCT_BOX_OUTS_DEF',\n",
    "'PCT_BOX_OUTS_TEAM_REB',\n",
    "'PCT_BOX_OUTS_REB',\n",
    "'NICKNAME',\n",
    "'W',\n",
    "'L',\n",
    "'W_PCT',\n",
    "'FGM',\n",
    "'FGA',\n",
    "'FG_PCT',\n",
    "'FG3M',\n",
    "'FG3A',\n",
    "'FG3_PCT',\n",
    "'FTM',\n",
    "'FTA',\n",
    "'FT_PCT',\n",
    "'OREB',\n",
    "'DREB',\n",
    "'TOV',\n",
    "'STL',\n",
    "'BLK',\n",
    "'BLKA',\n",
    "'PF',\n",
    "'PFD',\n",
    "'PLUS_MINUS',\n",
    "'NBA_FANTASY_PTS',\n",
    "'DD2',\n",
    "'TD3',\n",
    "'WNBA_FANTASY_PTS',\n",
    "'GP_RANK',\n",
    "'W_RANK',\n",
    "'L_RANK',\n",
    "'W_PCT_RANK',\n",
    "'MIN_RANK',\n",
    "'FGM_RANK',\n",
    "'FGA_RANK',\n",
    "'FG_PCT_RANK',\n",
    "'FG3M_RANK',\n",
    "'FG3A_RANK',\n",
    "'FG3_PCT_RANK',\n",
    "'FTM_RANK',\n",
    "'FTA_RANK',\n",
    "'FT_PCT_RANK',\n",
    "'OREB_RANK',\n",
    "'DREB_RANK',\n",
    "'REB_RANK',\n",
    "'AST_RANK',\n",
    "'TOV_RANK',\n",
    "'STL_RANK',\n",
    "'BLK_RANK',\n",
    "'BLKA_RANK',\n",
    "'PF_RANK',\n",
    "'PFD_RANK',\n",
    "'PTS_RANK',\n",
    "'PLUS_MINUS_RANK',\n",
    "'NBA_FANTASY_PTS_RANK',\n",
    "'DD2_RANK',\n",
    "'TD3_RANK',\n",
    "'WNBA_FANTASY_PTS_RANK',\n",
    "'PLAYER_LAST_NAME',\n",
    "'PLAYER_FIRST_NAME',\n",
    "'PLAYER_SLUG',\n",
    "'TEAM_SLUG',\n",
    "'IS_DEFUNCT',\n",
    "'TEAM_CITY',\n",
    "'TEAM_NAME',\n",
    "'JERSEY_NUMBER',\n",
    "'POSITION',\n",
    "'ROSTER_STATUS',\n",
    "'STATS_TIMEFRAME',\n",
    "'FROM_YEAR',\n",
    "'TO_YEAR']"
   ]
  },
  {
   "attachments": {},
   "cell_type": "markdown",
   "metadata": {},
   "source": [
    "## 3.2. <a id='toc3_2_'></a>[Converting and creating new features](#toc0_)"
   ]
  },
  {
   "attachments": {},
   "cell_type": "markdown",
   "metadata": {},
   "source": [
    "### 3.2.1. <a id='toc3_2_1_'></a>[Converting players heights from inches to cm](#toc0_)"
   ]
  },
  {
   "cell_type": "code",
   "execution_count": 15,
   "metadata": {},
   "outputs": [],
   "source": [
    "df['PLAYER_HEIGHT_CM'] = round(df['PLAYER_HEIGHT_INCHES']*2.54, 0)"
   ]
  },
  {
   "attachments": {},
   "cell_type": "markdown",
   "metadata": {},
   "source": [
    "### 3.2.2. <a id='toc3_2_2_'></a>[Converting the players weights from pounds to kg](#toc0_)"
   ]
  },
  {
   "cell_type": "code",
   "execution_count": 16,
   "metadata": {},
   "outputs": [],
   "source": [
    "df['PLAYER_WEIGHT_KG'] = round(df['PLAYER_WEIGHT_LBS']*0.453592, 1)"
   ]
  },
  {
   "cell_type": "code",
   "execution_count": 17,
   "metadata": {},
   "outputs": [
    {
     "data": {
      "text/html": [
       "<div>\n",
       "<style scoped>\n",
       "    .dataframe tbody tr th:only-of-type {\n",
       "        vertical-align: middle;\n",
       "    }\n",
       "\n",
       "    .dataframe tbody tr th {\n",
       "        vertical-align: top;\n",
       "    }\n",
       "\n",
       "    .dataframe thead th {\n",
       "        text-align: right;\n",
       "    }\n",
       "</style>\n",
       "<table border=\"1\" class=\"dataframe\">\n",
       "  <thead>\n",
       "    <tr style=\"text-align: right;\">\n",
       "      <th></th>\n",
       "      <th>PLAYER_ID</th>\n",
       "      <th>PLAYER_NAME</th>\n",
       "      <th>TEAM_ID</th>\n",
       "      <th>TEAM_ABBREVIATION</th>\n",
       "      <th>AGE</th>\n",
       "      <th>PLAYER_HEIGHT_FT</th>\n",
       "      <th>PLAYER_HEIGHT_INCHES</th>\n",
       "      <th>PLAYER_WEIGHT_LBS</th>\n",
       "      <th>COLLEGE</th>\n",
       "      <th>COUNTRY</th>\n",
       "      <th>DRAFT_YEAR</th>\n",
       "      <th>DRAFT_ROUND</th>\n",
       "      <th>DRAFT_NUMBER</th>\n",
       "      <th>GP</th>\n",
       "      <th>PTS</th>\n",
       "      <th>REB</th>\n",
       "      <th>AST</th>\n",
       "      <th>NET_RATING</th>\n",
       "      <th>OREB_PCT</th>\n",
       "      <th>DREB_PCT</th>\n",
       "      <th>USG_PCT</th>\n",
       "      <th>TS_PCT</th>\n",
       "      <th>AST_PCT</th>\n",
       "      <th>G</th>\n",
       "      <th>MIN</th>\n",
       "      <th>CONTESTED_SHOTS</th>\n",
       "      <th>CONTESTED_SHOTS_2PT</th>\n",
       "      <th>CONTESTED_SHOTS_3PT</th>\n",
       "      <th>DEFLECTIONS</th>\n",
       "      <th>CHARGES_DRAWN</th>\n",
       "      <th>SCREEN_ASSISTS</th>\n",
       "      <th>SCREEN_AST_PTS</th>\n",
       "      <th>OFF_LOOSE_BALLS_RECOVERED</th>\n",
       "      <th>DEF_LOOSE_BALLS_RECOVERED</th>\n",
       "      <th>LOOSE_BALLS_RECOVERED</th>\n",
       "      <th>PCT_LOOSE_BALLS_RECOVERED_OFF</th>\n",
       "      <th>PCT_LOOSE_BALLS_RECOVERED_DEF</th>\n",
       "      <th>OFF_BOXOUTS</th>\n",
       "      <th>DEF_BOXOUTS</th>\n",
       "      <th>BOX_OUTS</th>\n",
       "      <th>BOX_OUT_PLAYER_TEAM_REBS</th>\n",
       "      <th>BOX_OUT_PLAYER_REBS</th>\n",
       "      <th>PCT_BOX_OUTS_OFF</th>\n",
       "      <th>PCT_BOX_OUTS_DEF</th>\n",
       "      <th>PCT_BOX_OUTS_TEAM_REB</th>\n",
       "      <th>PCT_BOX_OUTS_REB</th>\n",
       "      <th>NICKNAME</th>\n",
       "      <th>W</th>\n",
       "      <th>L</th>\n",
       "      <th>W_PCT</th>\n",
       "      <th>FGM</th>\n",
       "      <th>FGA</th>\n",
       "      <th>FG_PCT</th>\n",
       "      <th>FG3M</th>\n",
       "      <th>FG3A</th>\n",
       "      <th>FG3_PCT</th>\n",
       "      <th>FTM</th>\n",
       "      <th>FTA</th>\n",
       "      <th>FT_PCT</th>\n",
       "      <th>OREB</th>\n",
       "      <th>DREB</th>\n",
       "      <th>TOV</th>\n",
       "      <th>STL</th>\n",
       "      <th>BLK</th>\n",
       "      <th>BLKA</th>\n",
       "      <th>PF</th>\n",
       "      <th>PFD</th>\n",
       "      <th>PLUS_MINUS</th>\n",
       "      <th>NBA_FANTASY_PTS</th>\n",
       "      <th>DD2</th>\n",
       "      <th>TD3</th>\n",
       "      <th>WNBA_FANTASY_PTS</th>\n",
       "      <th>GP_RANK</th>\n",
       "      <th>W_RANK</th>\n",
       "      <th>L_RANK</th>\n",
       "      <th>W_PCT_RANK</th>\n",
       "      <th>MIN_RANK</th>\n",
       "      <th>FGM_RANK</th>\n",
       "      <th>FGA_RANK</th>\n",
       "      <th>FG_PCT_RANK</th>\n",
       "      <th>FG3M_RANK</th>\n",
       "      <th>FG3A_RANK</th>\n",
       "      <th>FG3_PCT_RANK</th>\n",
       "      <th>FTM_RANK</th>\n",
       "      <th>FTA_RANK</th>\n",
       "      <th>FT_PCT_RANK</th>\n",
       "      <th>OREB_RANK</th>\n",
       "      <th>DREB_RANK</th>\n",
       "      <th>REB_RANK</th>\n",
       "      <th>AST_RANK</th>\n",
       "      <th>TOV_RANK</th>\n",
       "      <th>STL_RANK</th>\n",
       "      <th>BLK_RANK</th>\n",
       "      <th>BLKA_RANK</th>\n",
       "      <th>PF_RANK</th>\n",
       "      <th>PFD_RANK</th>\n",
       "      <th>PTS_RANK</th>\n",
       "      <th>PLUS_MINUS_RANK</th>\n",
       "      <th>NBA_FANTASY_PTS_RANK</th>\n",
       "      <th>DD2_RANK</th>\n",
       "      <th>TD3_RANK</th>\n",
       "      <th>WNBA_FANTASY_PTS_RANK</th>\n",
       "      <th>PLAYER_LAST_NAME</th>\n",
       "      <th>PLAYER_FIRST_NAME</th>\n",
       "      <th>PLAYER_SLUG</th>\n",
       "      <th>TEAM_SLUG</th>\n",
       "      <th>IS_DEFUNCT</th>\n",
       "      <th>TEAM_CITY</th>\n",
       "      <th>TEAM_NAME</th>\n",
       "      <th>JERSEY_NUMBER</th>\n",
       "      <th>POSITION</th>\n",
       "      <th>ROSTER_STATUS</th>\n",
       "      <th>STATS_TIMEFRAME</th>\n",
       "      <th>FROM_YEAR</th>\n",
       "      <th>TO_YEAR</th>\n",
       "      <th>PLAYER_HEIGHT_CM</th>\n",
       "      <th>PLAYER_WEIGHT_KG</th>\n",
       "    </tr>\n",
       "  </thead>\n",
       "  <tbody>\n",
       "    <tr>\n",
       "      <th>465</th>\n",
       "      <td>1627885</td>\n",
       "      <td>Shaquille Harrison</td>\n",
       "      <td>1610612747</td>\n",
       "      <td>LAL</td>\n",
       "      <td>29.0</td>\n",
       "      <td>6-4</td>\n",
       "      <td>76</td>\n",
       "      <td>195</td>\n",
       "      <td>Tulsa</td>\n",
       "      <td>USA</td>\n",
       "      <td>Undrafted</td>\n",
       "      <td>Undrafted</td>\n",
       "      <td>Undrafted</td>\n",
       "      <td>5</td>\n",
       "      <td>8.8</td>\n",
       "      <td>4.4</td>\n",
       "      <td>6.0</td>\n",
       "      <td>-0.4</td>\n",
       "      <td>0.008</td>\n",
       "      <td>0.184</td>\n",
       "      <td>0.162</td>\n",
       "      <td>0.516</td>\n",
       "      <td>0.306</td>\n",
       "      <td>5</td>\n",
       "      <td>24.0</td>\n",
       "      <td>2.80</td>\n",
       "      <td>1.80</td>\n",
       "      <td>1.00</td>\n",
       "      <td>3.20</td>\n",
       "      <td>0.00</td>\n",
       "      <td>0.0</td>\n",
       "      <td>0.00</td>\n",
       "      <td>0.00</td>\n",
       "      <td>0.80</td>\n",
       "      <td>0.80</td>\n",
       "      <td>0.000</td>\n",
       "      <td>1.000</td>\n",
       "      <td>0.0</td>\n",
       "      <td>0.40</td>\n",
       "      <td>0.40</td>\n",
       "      <td>0.40</td>\n",
       "      <td>0.40</td>\n",
       "      <td>0.0</td>\n",
       "      <td>1.0</td>\n",
       "      <td>1.0</td>\n",
       "      <td>1.000</td>\n",
       "      <td>Shaquille</td>\n",
       "      <td>1.0</td>\n",
       "      <td>4.0</td>\n",
       "      <td>0.200</td>\n",
       "      <td>3.0</td>\n",
       "      <td>7.2</td>\n",
       "      <td>0.417</td>\n",
       "      <td>0.6</td>\n",
       "      <td>2.0</td>\n",
       "      <td>0.300</td>\n",
       "      <td>2.2</td>\n",
       "      <td>3.0</td>\n",
       "      <td>0.733</td>\n",
       "      <td>0.2</td>\n",
       "      <td>4.2</td>\n",
       "      <td>1.2</td>\n",
       "      <td>2.2</td>\n",
       "      <td>0.4</td>\n",
       "      <td>0.4</td>\n",
       "      <td>2.4</td>\n",
       "      <td>2.4</td>\n",
       "      <td>-0.2</td>\n",
       "      <td>29.7</td>\n",
       "      <td>1.0</td>\n",
       "      <td>0.0</td>\n",
       "      <td>25.0</td>\n",
       "      <td>499.0</td>\n",
       "      <td>507.0</td>\n",
       "      <td>480.0</td>\n",
       "      <td>505.0</td>\n",
       "      <td>189.0</td>\n",
       "      <td>240.0</td>\n",
       "      <td>206.0</td>\n",
       "      <td>401.0</td>\n",
       "      <td>317.0</td>\n",
       "      <td>305.0</td>\n",
       "      <td>382.0</td>\n",
       "      <td>104.0</td>\n",
       "      <td>98.0</td>\n",
       "      <td>329.0</td>\n",
       "      <td>475.0</td>\n",
       "      <td>85.0</td>\n",
       "      <td>144.0</td>\n",
       "      <td>33.0</td>\n",
       "      <td>183.0</td>\n",
       "      <td>2.0</td>\n",
       "      <td>182.0</td>\n",
       "      <td>199.0</td>\n",
       "      <td>94.0</td>\n",
       "      <td>108.0</td>\n",
       "      <td>220.0</td>\n",
       "      <td>264.0</td>\n",
       "      <td>98.0</td>\n",
       "      <td>192.0</td>\n",
       "      <td>39.0</td>\n",
       "      <td>126.0</td>\n",
       "      <td>Harrison</td>\n",
       "      <td>Shaquille</td>\n",
       "      <td>shaquille-harrison</td>\n",
       "      <td>lakers</td>\n",
       "      <td>0.0</td>\n",
       "      <td>Los Angeles</td>\n",
       "      <td>Lakers</td>\n",
       "      <td>0</td>\n",
       "      <td>G</td>\n",
       "      <td>1.0</td>\n",
       "      <td>Season</td>\n",
       "      <td>2017.0</td>\n",
       "      <td>2022.0</td>\n",
       "      <td>193.0</td>\n",
       "      <td>88.5</td>\n",
       "    </tr>\n",
       "    <tr>\n",
       "      <th>200</th>\n",
       "      <td>1630702</td>\n",
       "      <td>Jaden Hardy</td>\n",
       "      <td>1610612742</td>\n",
       "      <td>DAL</td>\n",
       "      <td>20.0</td>\n",
       "      <td>6-3</td>\n",
       "      <td>75</td>\n",
       "      <td>198</td>\n",
       "      <td>None</td>\n",
       "      <td>USA</td>\n",
       "      <td>2022</td>\n",
       "      <td>2</td>\n",
       "      <td>37</td>\n",
       "      <td>48</td>\n",
       "      <td>8.8</td>\n",
       "      <td>1.9</td>\n",
       "      <td>1.4</td>\n",
       "      <td>-3.1</td>\n",
       "      <td>0.015</td>\n",
       "      <td>0.106</td>\n",
       "      <td>0.248</td>\n",
       "      <td>0.571</td>\n",
       "      <td>0.147</td>\n",
       "      <td>48</td>\n",
       "      <td>14.8</td>\n",
       "      <td>2.02</td>\n",
       "      <td>0.85</td>\n",
       "      <td>1.17</td>\n",
       "      <td>0.65</td>\n",
       "      <td>0.06</td>\n",
       "      <td>0.1</td>\n",
       "      <td>0.25</td>\n",
       "      <td>0.13</td>\n",
       "      <td>0.15</td>\n",
       "      <td>0.27</td>\n",
       "      <td>0.462</td>\n",
       "      <td>0.538</td>\n",
       "      <td>0.0</td>\n",
       "      <td>0.25</td>\n",
       "      <td>0.25</td>\n",
       "      <td>0.25</td>\n",
       "      <td>0.15</td>\n",
       "      <td>0.0</td>\n",
       "      <td>1.0</td>\n",
       "      <td>1.0</td>\n",
       "      <td>0.583</td>\n",
       "      <td>Jaden</td>\n",
       "      <td>20.0</td>\n",
       "      <td>28.0</td>\n",
       "      <td>0.417</td>\n",
       "      <td>3.0</td>\n",
       "      <td>6.9</td>\n",
       "      <td>0.438</td>\n",
       "      <td>1.3</td>\n",
       "      <td>3.3</td>\n",
       "      <td>0.404</td>\n",
       "      <td>1.4</td>\n",
       "      <td>1.6</td>\n",
       "      <td>0.823</td>\n",
       "      <td>0.2</td>\n",
       "      <td>1.6</td>\n",
       "      <td>1.0</td>\n",
       "      <td>0.4</td>\n",
       "      <td>0.1</td>\n",
       "      <td>0.6</td>\n",
       "      <td>1.3</td>\n",
       "      <td>1.3</td>\n",
       "      <td>-0.7</td>\n",
       "      <td>13.5</td>\n",
       "      <td>0.0</td>\n",
       "      <td>0.0</td>\n",
       "      <td>14.3</td>\n",
       "      <td>302.0</td>\n",
       "      <td>310.0</td>\n",
       "      <td>214.0</td>\n",
       "      <td>391.0</td>\n",
       "      <td>348.0</td>\n",
       "      <td>236.0</td>\n",
       "      <td>218.0</td>\n",
       "      <td>329.0</td>\n",
       "      <td>161.0</td>\n",
       "      <td>190.0</td>\n",
       "      <td>78.0</td>\n",
       "      <td>192.0</td>\n",
       "      <td>215.0</td>\n",
       "      <td>167.0</td>\n",
       "      <td>462.0</td>\n",
       "      <td>369.0</td>\n",
       "      <td>401.0</td>\n",
       "      <td>274.0</td>\n",
       "      <td>244.0</td>\n",
       "      <td>381.0</td>\n",
       "      <td>398.0</td>\n",
       "      <td>102.0</td>\n",
       "      <td>362.0</td>\n",
       "      <td>255.0</td>\n",
       "      <td>222.0</td>\n",
       "      <td>301.0</td>\n",
       "      <td>310.0</td>\n",
       "      <td>253.0</td>\n",
       "      <td>39.0</td>\n",
       "      <td>285.0</td>\n",
       "      <td>Hardy</td>\n",
       "      <td>Jaden</td>\n",
       "      <td>jaden-hardy</td>\n",
       "      <td>mavericks</td>\n",
       "      <td>0.0</td>\n",
       "      <td>Dallas</td>\n",
       "      <td>Mavericks</td>\n",
       "      <td>3</td>\n",
       "      <td>G</td>\n",
       "      <td>1.0</td>\n",
       "      <td>Season</td>\n",
       "      <td>2022.0</td>\n",
       "      <td>2022.0</td>\n",
       "      <td>190.0</td>\n",
       "      <td>89.8</td>\n",
       "    </tr>\n",
       "  </tbody>\n",
       "</table>\n",
       "</div>"
      ],
      "text/plain": [
       "     PLAYER_ID         PLAYER_NAME     TEAM_ID TEAM_ABBREVIATION   AGE  \\\n",
       "465    1627885  Shaquille Harrison  1610612747               LAL  29.0   \n",
       "200    1630702         Jaden Hardy  1610612742               DAL  20.0   \n",
       "\n",
       "    PLAYER_HEIGHT_FT  PLAYER_HEIGHT_INCHES  PLAYER_WEIGHT_LBS COLLEGE COUNTRY  \\\n",
       "465              6-4                    76                195   Tulsa     USA   \n",
       "200              6-3                    75                198    None     USA   \n",
       "\n",
       "    DRAFT_YEAR DRAFT_ROUND DRAFT_NUMBER  GP  PTS  REB  AST  NET_RATING  \\\n",
       "465  Undrafted   Undrafted    Undrafted   5  8.8  4.4  6.0        -0.4   \n",
       "200       2022           2           37  48  8.8  1.9  1.4        -3.1   \n",
       "\n",
       "     OREB_PCT  DREB_PCT  USG_PCT  TS_PCT  AST_PCT   G   MIN  CONTESTED_SHOTS  \\\n",
       "465     0.008     0.184    0.162   0.516    0.306   5  24.0             2.80   \n",
       "200     0.015     0.106    0.248   0.571    0.147  48  14.8             2.02   \n",
       "\n",
       "     CONTESTED_SHOTS_2PT  CONTESTED_SHOTS_3PT  DEFLECTIONS  CHARGES_DRAWN  \\\n",
       "465                 1.80                 1.00         3.20           0.00   \n",
       "200                 0.85                 1.17         0.65           0.06   \n",
       "\n",
       "     SCREEN_ASSISTS  SCREEN_AST_PTS  OFF_LOOSE_BALLS_RECOVERED  \\\n",
       "465             0.0            0.00                       0.00   \n",
       "200             0.1            0.25                       0.13   \n",
       "\n",
       "     DEF_LOOSE_BALLS_RECOVERED  LOOSE_BALLS_RECOVERED  \\\n",
       "465                       0.80                   0.80   \n",
       "200                       0.15                   0.27   \n",
       "\n",
       "     PCT_LOOSE_BALLS_RECOVERED_OFF  PCT_LOOSE_BALLS_RECOVERED_DEF  \\\n",
       "465                          0.000                          1.000   \n",
       "200                          0.462                          0.538   \n",
       "\n",
       "     OFF_BOXOUTS  DEF_BOXOUTS  BOX_OUTS  BOX_OUT_PLAYER_TEAM_REBS  \\\n",
       "465          0.0         0.40      0.40                      0.40   \n",
       "200          0.0         0.25      0.25                      0.25   \n",
       "\n",
       "     BOX_OUT_PLAYER_REBS  PCT_BOX_OUTS_OFF  PCT_BOX_OUTS_DEF  \\\n",
       "465                 0.40               0.0               1.0   \n",
       "200                 0.15               0.0               1.0   \n",
       "\n",
       "     PCT_BOX_OUTS_TEAM_REB  PCT_BOX_OUTS_REB   NICKNAME     W     L  W_PCT  \\\n",
       "465                    1.0             1.000  Shaquille   1.0   4.0  0.200   \n",
       "200                    1.0             0.583      Jaden  20.0  28.0  0.417   \n",
       "\n",
       "     FGM  FGA  FG_PCT  FG3M  FG3A  FG3_PCT  FTM  FTA  FT_PCT  OREB  DREB  TOV  \\\n",
       "465  3.0  7.2   0.417   0.6   2.0    0.300  2.2  3.0   0.733   0.2   4.2  1.2   \n",
       "200  3.0  6.9   0.438   1.3   3.3    0.404  1.4  1.6   0.823   0.2   1.6  1.0   \n",
       "\n",
       "     STL  BLK  BLKA   PF  PFD  PLUS_MINUS  NBA_FANTASY_PTS  DD2  TD3  \\\n",
       "465  2.2  0.4   0.4  2.4  2.4        -0.2             29.7  1.0  0.0   \n",
       "200  0.4  0.1   0.6  1.3  1.3        -0.7             13.5  0.0  0.0   \n",
       "\n",
       "     WNBA_FANTASY_PTS  GP_RANK  W_RANK  L_RANK  W_PCT_RANK  MIN_RANK  \\\n",
       "465              25.0    499.0   507.0   480.0       505.0     189.0   \n",
       "200              14.3    302.0   310.0   214.0       391.0     348.0   \n",
       "\n",
       "     FGM_RANK  FGA_RANK  FG_PCT_RANK  FG3M_RANK  FG3A_RANK  FG3_PCT_RANK  \\\n",
       "465     240.0     206.0        401.0      317.0      305.0         382.0   \n",
       "200     236.0     218.0        329.0      161.0      190.0          78.0   \n",
       "\n",
       "     FTM_RANK  FTA_RANK  FT_PCT_RANK  OREB_RANK  DREB_RANK  REB_RANK  \\\n",
       "465     104.0      98.0        329.0      475.0       85.0     144.0   \n",
       "200     192.0     215.0        167.0      462.0      369.0     401.0   \n",
       "\n",
       "     AST_RANK  TOV_RANK  STL_RANK  BLK_RANK  BLKA_RANK  PF_RANK  PFD_RANK  \\\n",
       "465      33.0     183.0       2.0     182.0      199.0     94.0     108.0   \n",
       "200     274.0     244.0     381.0     398.0      102.0    362.0     255.0   \n",
       "\n",
       "     PTS_RANK  PLUS_MINUS_RANK  NBA_FANTASY_PTS_RANK  DD2_RANK  TD3_RANK  \\\n",
       "465     220.0            264.0                  98.0     192.0      39.0   \n",
       "200     222.0            301.0                 310.0     253.0      39.0   \n",
       "\n",
       "     WNBA_FANTASY_PTS_RANK PLAYER_LAST_NAME PLAYER_FIRST_NAME  \\\n",
       "465                  126.0         Harrison         Shaquille   \n",
       "200                  285.0            Hardy             Jaden   \n",
       "\n",
       "            PLAYER_SLUG  TEAM_SLUG  IS_DEFUNCT    TEAM_CITY  TEAM_NAME  \\\n",
       "465  shaquille-harrison     lakers         0.0  Los Angeles     Lakers   \n",
       "200         jaden-hardy  mavericks         0.0       Dallas  Mavericks   \n",
       "\n",
       "    JERSEY_NUMBER POSITION  ROSTER_STATUS STATS_TIMEFRAME  FROM_YEAR  TO_YEAR  \\\n",
       "465             0        G            1.0          Season     2017.0   2022.0   \n",
       "200             3        G            1.0          Season     2022.0   2022.0   \n",
       "\n",
       "     PLAYER_HEIGHT_CM  PLAYER_WEIGHT_KG  \n",
       "465             193.0              88.5  \n",
       "200             190.0              89.8  "
      ]
     },
     "execution_count": 17,
     "metadata": {},
     "output_type": "execute_result"
    }
   ],
   "source": [
    "df.sample(2)"
   ]
  },
  {
   "attachments": {},
   "cell_type": "markdown",
   "metadata": {},
   "source": [
    "## 3.3. <a id='toc3_3_'></a>[Selecting features to be shown](#toc0_)"
   ]
  },
  {
   "cell_type": "code",
   "execution_count": 66,
   "metadata": {},
   "outputs": [],
   "source": [
    "selected_columns = ['PLAYER_ID',\n",
    "                    'PLAYER_NAME',\n",
    "                    'PLAYER_LAST_NAME',\n",
    "                    'PLAYER_FIRST_NAME',\n",
    "                    'TEAM_ID',\n",
    "                    'TEAM_ABBREVIATION',\n",
    "                    'AGE',\n",
    "                    'JERSEY_NUMBER',\n",
    "                    'POSITION',\n",
    "                    'PLAYER_HEIGHT_INCHES',\n",
    "                    'PLAYER_HEIGHT_CM',\n",
    "                    'PLAYER_WEIGHT_LBS',\n",
    "                    'PLAYER_WEIGHT_KG',\n",
    "                    'COLLEGE',\n",
    "                    'COUNTRY',\n",
    "                    'DRAFT_YEAR',\n",
    "                    'PLUS_MINUS',\n",
    "                    'GP',\n",
    "                    'PTS',\n",
    "                    'REB',\n",
    "                    'AST',\n",
    "                    'G',\n",
    "                    'MIN',\n",
    "                    'PFD',\n",
    "                    'FGM',\n",
    "                    'FGA',\n",
    "                    'FG_PCT',\n",
    "                    'FG3M',\n",
    "                    'FG3A',\n",
    "                    'FG3_PCT',\n",
    "                    'FTM',\n",
    "                    'FTA',\n",
    "                    'FT_PCT',\n",
    "                    'OREB',\n",
    "                    'DREB',\n",
    "                    'STL',\n",
    "                    'BLK',\n",
    "                    'BLKA',\n",
    "                    'TOV',\n",
    "                    'PF',\n",
    "                    'CONTESTED_SHOTS',\n",
    "                    'CONTESTED_SHOTS_2PT',\n",
    "                    'CONTESTED_SHOTS_3PT',\n",
    "                    'DEFLECTIONS',\n",
    "                    'CHARGES_DRAWN',\n",
    "                    'SCREEN_ASSISTS',\n",
    "                    'OFF_BOXOUTS',\n",
    "                    'DEF_BOXOUTS',\n",
    "                    'BOX_OUTS']"
   ]
  },
  {
   "cell_type": "code",
   "execution_count": 67,
   "metadata": {},
   "outputs": [],
   "source": [
    "filtered_df = df[selected_columns]"
   ]
  },
  {
   "cell_type": "code",
   "execution_count": 68,
   "metadata": {},
   "outputs": [
    {
     "data": {
      "text/html": [
       "<div>\n",
       "<style scoped>\n",
       "    .dataframe tbody tr th:only-of-type {\n",
       "        vertical-align: middle;\n",
       "    }\n",
       "\n",
       "    .dataframe tbody tr th {\n",
       "        vertical-align: top;\n",
       "    }\n",
       "\n",
       "    .dataframe thead th {\n",
       "        text-align: right;\n",
       "    }\n",
       "</style>\n",
       "<table border=\"1\" class=\"dataframe\">\n",
       "  <thead>\n",
       "    <tr style=\"text-align: right;\">\n",
       "      <th></th>\n",
       "      <th>PLAYER_ID</th>\n",
       "      <th>PLAYER_NAME</th>\n",
       "      <th>PLAYER_LAST_NAME</th>\n",
       "      <th>PLAYER_FIRST_NAME</th>\n",
       "      <th>TEAM_ID</th>\n",
       "      <th>TEAM_ABBREVIATION</th>\n",
       "      <th>AGE</th>\n",
       "      <th>JERSEY_NUMBER</th>\n",
       "      <th>POSITION</th>\n",
       "      <th>PLAYER_HEIGHT_INCHES</th>\n",
       "      <th>PLAYER_HEIGHT_CM</th>\n",
       "      <th>PLAYER_WEIGHT_LBS</th>\n",
       "      <th>PLAYER_WEIGHT_KG</th>\n",
       "      <th>COLLEGE</th>\n",
       "      <th>COUNTRY</th>\n",
       "      <th>DRAFT_YEAR</th>\n",
       "      <th>PLUS_MINUS</th>\n",
       "      <th>GP</th>\n",
       "      <th>PTS</th>\n",
       "      <th>REB</th>\n",
       "      <th>AST</th>\n",
       "      <th>G</th>\n",
       "      <th>MIN</th>\n",
       "      <th>PFD</th>\n",
       "      <th>FGM</th>\n",
       "      <th>FGA</th>\n",
       "      <th>FG_PCT</th>\n",
       "      <th>FG3M</th>\n",
       "      <th>FG3A</th>\n",
       "      <th>FG3_PCT</th>\n",
       "      <th>FTM</th>\n",
       "      <th>FTA</th>\n",
       "      <th>FT_PCT</th>\n",
       "      <th>OREB</th>\n",
       "      <th>DREB</th>\n",
       "      <th>STL</th>\n",
       "      <th>BLK</th>\n",
       "      <th>BLKA</th>\n",
       "      <th>TOV</th>\n",
       "      <th>PF</th>\n",
       "      <th>CONTESTED_SHOTS</th>\n",
       "      <th>CONTESTED_SHOTS_2PT</th>\n",
       "      <th>CONTESTED_SHOTS_3PT</th>\n",
       "      <th>DEFLECTIONS</th>\n",
       "      <th>CHARGES_DRAWN</th>\n",
       "      <th>SCREEN_ASSISTS</th>\n",
       "      <th>OFF_BOXOUTS</th>\n",
       "      <th>DEF_BOXOUTS</th>\n",
       "      <th>BOX_OUTS</th>\n",
       "    </tr>\n",
       "  </thead>\n",
       "  <tbody>\n",
       "    <tr>\n",
       "      <th>0</th>\n",
       "      <td>1630639</td>\n",
       "      <td>A.J. Lawson</td>\n",
       "      <td>Lawson</td>\n",
       "      <td>A.J.</td>\n",
       "      <td>1610612742</td>\n",
       "      <td>DAL</td>\n",
       "      <td>22.0</td>\n",
       "      <td>9</td>\n",
       "      <td>G</td>\n",
       "      <td>78</td>\n",
       "      <td>198.0</td>\n",
       "      <td>179</td>\n",
       "      <td>81.2</td>\n",
       "      <td>South Carolina</td>\n",
       "      <td>Canada</td>\n",
       "      <td>Undrafted</td>\n",
       "      <td>-3.1</td>\n",
       "      <td>15</td>\n",
       "      <td>3.7</td>\n",
       "      <td>1.4</td>\n",
       "      <td>0.1</td>\n",
       "      <td>15</td>\n",
       "      <td>7.2</td>\n",
       "      <td>0.4</td>\n",
       "      <td>1.5</td>\n",
       "      <td>2.9</td>\n",
       "      <td>0.500</td>\n",
       "      <td>0.7</td>\n",
       "      <td>1.7</td>\n",
       "      <td>0.400</td>\n",
       "      <td>0.1</td>\n",
       "      <td>0.5</td>\n",
       "      <td>0.250</td>\n",
       "      <td>0.4</td>\n",
       "      <td>1.0</td>\n",
       "      <td>0.1</td>\n",
       "      <td>0.0</td>\n",
       "      <td>0.2</td>\n",
       "      <td>0.2</td>\n",
       "      <td>0.7</td>\n",
       "      <td>0.93</td>\n",
       "      <td>0.47</td>\n",
       "      <td>0.47</td>\n",
       "      <td>0.33</td>\n",
       "      <td>0.00</td>\n",
       "      <td>0.07</td>\n",
       "      <td>0.00</td>\n",
       "      <td>0.00</td>\n",
       "      <td>0.00</td>\n",
       "    </tr>\n",
       "    <tr>\n",
       "      <th>1</th>\n",
       "      <td>1631260</td>\n",
       "      <td>AJ Green</td>\n",
       "      <td>Green</td>\n",
       "      <td>AJ</td>\n",
       "      <td>1610612749</td>\n",
       "      <td>MIL</td>\n",
       "      <td>23.0</td>\n",
       "      <td>20</td>\n",
       "      <td>G</td>\n",
       "      <td>77</td>\n",
       "      <td>196.0</td>\n",
       "      <td>190</td>\n",
       "      <td>86.2</td>\n",
       "      <td>Northern Iowa</td>\n",
       "      <td>USA</td>\n",
       "      <td>Undrafted</td>\n",
       "      <td>-0.7</td>\n",
       "      <td>35</td>\n",
       "      <td>4.4</td>\n",
       "      <td>1.3</td>\n",
       "      <td>0.6</td>\n",
       "      <td>35</td>\n",
       "      <td>9.9</td>\n",
       "      <td>0.1</td>\n",
       "      <td>1.5</td>\n",
       "      <td>3.6</td>\n",
       "      <td>0.424</td>\n",
       "      <td>1.3</td>\n",
       "      <td>3.0</td>\n",
       "      <td>0.419</td>\n",
       "      <td>0.1</td>\n",
       "      <td>0.1</td>\n",
       "      <td>1.000</td>\n",
       "      <td>0.2</td>\n",
       "      <td>1.1</td>\n",
       "      <td>0.2</td>\n",
       "      <td>0.0</td>\n",
       "      <td>0.0</td>\n",
       "      <td>0.3</td>\n",
       "      <td>0.9</td>\n",
       "      <td>1.29</td>\n",
       "      <td>0.57</td>\n",
       "      <td>0.71</td>\n",
       "      <td>0.23</td>\n",
       "      <td>0.03</td>\n",
       "      <td>0.14</td>\n",
       "      <td>0.00</td>\n",
       "      <td>0.11</td>\n",
       "      <td>0.11</td>\n",
       "    </tr>\n",
       "    <tr>\n",
       "      <th>2</th>\n",
       "      <td>1631100</td>\n",
       "      <td>AJ Griffin</td>\n",
       "      <td>Griffin</td>\n",
       "      <td>AJ</td>\n",
       "      <td>1610612737</td>\n",
       "      <td>ATL</td>\n",
       "      <td>19.0</td>\n",
       "      <td>14</td>\n",
       "      <td>F</td>\n",
       "      <td>78</td>\n",
       "      <td>198.0</td>\n",
       "      <td>220</td>\n",
       "      <td>99.8</td>\n",
       "      <td>Duke</td>\n",
       "      <td>USA</td>\n",
       "      <td>2022</td>\n",
       "      <td>0.9</td>\n",
       "      <td>72</td>\n",
       "      <td>8.9</td>\n",
       "      <td>2.1</td>\n",
       "      <td>1.0</td>\n",
       "      <td>72</td>\n",
       "      <td>19.5</td>\n",
       "      <td>0.6</td>\n",
       "      <td>3.4</td>\n",
       "      <td>7.4</td>\n",
       "      <td>0.465</td>\n",
       "      <td>1.4</td>\n",
       "      <td>3.6</td>\n",
       "      <td>0.390</td>\n",
       "      <td>0.6</td>\n",
       "      <td>0.7</td>\n",
       "      <td>0.894</td>\n",
       "      <td>0.5</td>\n",
       "      <td>1.6</td>\n",
       "      <td>0.6</td>\n",
       "      <td>0.2</td>\n",
       "      <td>0.3</td>\n",
       "      <td>0.6</td>\n",
       "      <td>1.2</td>\n",
       "      <td>2.88</td>\n",
       "      <td>1.42</td>\n",
       "      <td>1.46</td>\n",
       "      <td>0.88</td>\n",
       "      <td>0.00</td>\n",
       "      <td>0.17</td>\n",
       "      <td>0.00</td>\n",
       "      <td>0.08</td>\n",
       "      <td>0.08</td>\n",
       "    </tr>\n",
       "    <tr>\n",
       "      <th>3</th>\n",
       "      <td>203932</td>\n",
       "      <td>Aaron Gordon</td>\n",
       "      <td>Gordon</td>\n",
       "      <td>Aaron</td>\n",
       "      <td>1610612743</td>\n",
       "      <td>DEN</td>\n",
       "      <td>27.0</td>\n",
       "      <td>50</td>\n",
       "      <td>F</td>\n",
       "      <td>80</td>\n",
       "      <td>203.0</td>\n",
       "      <td>235</td>\n",
       "      <td>106.6</td>\n",
       "      <td>Arizona</td>\n",
       "      <td>USA</td>\n",
       "      <td>2014</td>\n",
       "      <td>7.6</td>\n",
       "      <td>68</td>\n",
       "      <td>16.3</td>\n",
       "      <td>6.6</td>\n",
       "      <td>3.0</td>\n",
       "      <td>68</td>\n",
       "      <td>30.2</td>\n",
       "      <td>3.6</td>\n",
       "      <td>6.3</td>\n",
       "      <td>11.2</td>\n",
       "      <td>0.564</td>\n",
       "      <td>0.9</td>\n",
       "      <td>2.5</td>\n",
       "      <td>0.347</td>\n",
       "      <td>2.8</td>\n",
       "      <td>4.6</td>\n",
       "      <td>0.608</td>\n",
       "      <td>2.4</td>\n",
       "      <td>4.1</td>\n",
       "      <td>0.8</td>\n",
       "      <td>0.8</td>\n",
       "      <td>1.0</td>\n",
       "      <td>1.4</td>\n",
       "      <td>1.9</td>\n",
       "      <td>5.50</td>\n",
       "      <td>3.93</td>\n",
       "      <td>1.57</td>\n",
       "      <td>1.16</td>\n",
       "      <td>0.01</td>\n",
       "      <td>0.87</td>\n",
       "      <td>0.18</td>\n",
       "      <td>0.29</td>\n",
       "      <td>0.47</td>\n",
       "    </tr>\n",
       "    <tr>\n",
       "      <th>4</th>\n",
       "      <td>1628988</td>\n",
       "      <td>Aaron Holiday</td>\n",
       "      <td>Holiday</td>\n",
       "      <td>Aaron</td>\n",
       "      <td>1610612737</td>\n",
       "      <td>ATL</td>\n",
       "      <td>26.0</td>\n",
       "      <td>3</td>\n",
       "      <td>G</td>\n",
       "      <td>72</td>\n",
       "      <td>183.0</td>\n",
       "      <td>185</td>\n",
       "      <td>83.9</td>\n",
       "      <td>UCLA</td>\n",
       "      <td>USA</td>\n",
       "      <td>2018</td>\n",
       "      <td>0.3</td>\n",
       "      <td>63</td>\n",
       "      <td>3.9</td>\n",
       "      <td>1.2</td>\n",
       "      <td>1.4</td>\n",
       "      <td>63</td>\n",
       "      <td>13.4</td>\n",
       "      <td>0.8</td>\n",
       "      <td>1.5</td>\n",
       "      <td>3.5</td>\n",
       "      <td>0.418</td>\n",
       "      <td>0.6</td>\n",
       "      <td>1.4</td>\n",
       "      <td>0.409</td>\n",
       "      <td>0.4</td>\n",
       "      <td>0.5</td>\n",
       "      <td>0.844</td>\n",
       "      <td>0.4</td>\n",
       "      <td>0.8</td>\n",
       "      <td>0.6</td>\n",
       "      <td>0.2</td>\n",
       "      <td>0.3</td>\n",
       "      <td>0.6</td>\n",
       "      <td>1.3</td>\n",
       "      <td>1.84</td>\n",
       "      <td>0.94</td>\n",
       "      <td>0.90</td>\n",
       "      <td>1.11</td>\n",
       "      <td>0.00</td>\n",
       "      <td>0.03</td>\n",
       "      <td>0.00</td>\n",
       "      <td>0.14</td>\n",
       "      <td>0.14</td>\n",
       "    </tr>\n",
       "    <tr>\n",
       "      <th>...</th>\n",
       "      <td>...</td>\n",
       "      <td>...</td>\n",
       "      <td>...</td>\n",
       "      <td>...</td>\n",
       "      <td>...</td>\n",
       "      <td>...</td>\n",
       "      <td>...</td>\n",
       "      <td>...</td>\n",
       "      <td>...</td>\n",
       "      <td>...</td>\n",
       "      <td>...</td>\n",
       "      <td>...</td>\n",
       "      <td>...</td>\n",
       "      <td>...</td>\n",
       "      <td>...</td>\n",
       "      <td>...</td>\n",
       "      <td>...</td>\n",
       "      <td>...</td>\n",
       "      <td>...</td>\n",
       "      <td>...</td>\n",
       "      <td>...</td>\n",
       "      <td>...</td>\n",
       "      <td>...</td>\n",
       "      <td>...</td>\n",
       "      <td>...</td>\n",
       "      <td>...</td>\n",
       "      <td>...</td>\n",
       "      <td>...</td>\n",
       "      <td>...</td>\n",
       "      <td>...</td>\n",
       "      <td>...</td>\n",
       "      <td>...</td>\n",
       "      <td>...</td>\n",
       "      <td>...</td>\n",
       "      <td>...</td>\n",
       "      <td>...</td>\n",
       "      <td>...</td>\n",
       "      <td>...</td>\n",
       "      <td>...</td>\n",
       "      <td>...</td>\n",
       "      <td>...</td>\n",
       "      <td>...</td>\n",
       "      <td>...</td>\n",
       "      <td>...</td>\n",
       "      <td>...</td>\n",
       "      <td>...</td>\n",
       "      <td>...</td>\n",
       "      <td>...</td>\n",
       "      <td>...</td>\n",
       "    </tr>\n",
       "    <tr>\n",
       "      <th>534</th>\n",
       "      <td>1628380</td>\n",
       "      <td>Zach Collins</td>\n",
       "      <td>Collins</td>\n",
       "      <td>Zach</td>\n",
       "      <td>1610612759</td>\n",
       "      <td>SAS</td>\n",
       "      <td>25.0</td>\n",
       "      <td>23</td>\n",
       "      <td>F-C</td>\n",
       "      <td>83</td>\n",
       "      <td>211.0</td>\n",
       "      <td>250</td>\n",
       "      <td>113.4</td>\n",
       "      <td>Gonzaga</td>\n",
       "      <td>USA</td>\n",
       "      <td>2017</td>\n",
       "      <td>-3.8</td>\n",
       "      <td>63</td>\n",
       "      <td>11.6</td>\n",
       "      <td>6.4</td>\n",
       "      <td>2.9</td>\n",
       "      <td>63</td>\n",
       "      <td>22.9</td>\n",
       "      <td>2.3</td>\n",
       "      <td>4.5</td>\n",
       "      <td>8.7</td>\n",
       "      <td>0.518</td>\n",
       "      <td>0.9</td>\n",
       "      <td>2.3</td>\n",
       "      <td>0.374</td>\n",
       "      <td>1.7</td>\n",
       "      <td>2.3</td>\n",
       "      <td>0.761</td>\n",
       "      <td>1.8</td>\n",
       "      <td>4.5</td>\n",
       "      <td>0.6</td>\n",
       "      <td>0.8</td>\n",
       "      <td>0.6</td>\n",
       "      <td>2.0</td>\n",
       "      <td>3.2</td>\n",
       "      <td>10.14</td>\n",
       "      <td>8.67</td>\n",
       "      <td>1.48</td>\n",
       "      <td>0.94</td>\n",
       "      <td>0.06</td>\n",
       "      <td>3.29</td>\n",
       "      <td>0.27</td>\n",
       "      <td>1.29</td>\n",
       "      <td>1.56</td>\n",
       "    </tr>\n",
       "    <tr>\n",
       "      <th>535</th>\n",
       "      <td>203897</td>\n",
       "      <td>Zach LaVine</td>\n",
       "      <td>LaVine</td>\n",
       "      <td>Zach</td>\n",
       "      <td>1610612741</td>\n",
       "      <td>CHI</td>\n",
       "      <td>28.0</td>\n",
       "      <td>8</td>\n",
       "      <td>G</td>\n",
       "      <td>77</td>\n",
       "      <td>196.0</td>\n",
       "      <td>200</td>\n",
       "      <td>90.7</td>\n",
       "      <td>UCLA</td>\n",
       "      <td>USA</td>\n",
       "      <td>2014</td>\n",
       "      <td>0.2</td>\n",
       "      <td>77</td>\n",
       "      <td>24.8</td>\n",
       "      <td>4.5</td>\n",
       "      <td>4.2</td>\n",
       "      <td>77</td>\n",
       "      <td>35.9</td>\n",
       "      <td>3.8</td>\n",
       "      <td>8.7</td>\n",
       "      <td>18.0</td>\n",
       "      <td>0.485</td>\n",
       "      <td>2.6</td>\n",
       "      <td>7.1</td>\n",
       "      <td>0.375</td>\n",
       "      <td>4.7</td>\n",
       "      <td>5.6</td>\n",
       "      <td>0.848</td>\n",
       "      <td>0.5</td>\n",
       "      <td>3.9</td>\n",
       "      <td>0.9</td>\n",
       "      <td>0.2</td>\n",
       "      <td>1.0</td>\n",
       "      <td>2.5</td>\n",
       "      <td>2.1</td>\n",
       "      <td>5.68</td>\n",
       "      <td>2.44</td>\n",
       "      <td>3.23</td>\n",
       "      <td>1.25</td>\n",
       "      <td>0.00</td>\n",
       "      <td>0.32</td>\n",
       "      <td>0.00</td>\n",
       "      <td>0.19</td>\n",
       "      <td>0.19</td>\n",
       "    </tr>\n",
       "    <tr>\n",
       "      <th>536</th>\n",
       "      <td>1630192</td>\n",
       "      <td>Zeke Nnaji</td>\n",
       "      <td>Nnaji</td>\n",
       "      <td>Zeke</td>\n",
       "      <td>1610612743</td>\n",
       "      <td>DEN</td>\n",
       "      <td>22.0</td>\n",
       "      <td>22</td>\n",
       "      <td>F-C</td>\n",
       "      <td>81</td>\n",
       "      <td>206.0</td>\n",
       "      <td>240</td>\n",
       "      <td>108.9</td>\n",
       "      <td>Arizona</td>\n",
       "      <td>USA</td>\n",
       "      <td>2020</td>\n",
       "      <td>-1.8</td>\n",
       "      <td>53</td>\n",
       "      <td>5.2</td>\n",
       "      <td>2.6</td>\n",
       "      <td>0.3</td>\n",
       "      <td>53</td>\n",
       "      <td>13.7</td>\n",
       "      <td>1.2</td>\n",
       "      <td>2.1</td>\n",
       "      <td>3.7</td>\n",
       "      <td>0.561</td>\n",
       "      <td>0.3</td>\n",
       "      <td>1.2</td>\n",
       "      <td>0.262</td>\n",
       "      <td>0.8</td>\n",
       "      <td>1.2</td>\n",
       "      <td>0.645</td>\n",
       "      <td>1.2</td>\n",
       "      <td>1.4</td>\n",
       "      <td>0.3</td>\n",
       "      <td>0.4</td>\n",
       "      <td>0.2</td>\n",
       "      <td>0.6</td>\n",
       "      <td>2.0</td>\n",
       "      <td>3.79</td>\n",
       "      <td>2.70</td>\n",
       "      <td>1.09</td>\n",
       "      <td>0.57</td>\n",
       "      <td>0.00</td>\n",
       "      <td>1.08</td>\n",
       "      <td>0.25</td>\n",
       "      <td>0.32</td>\n",
       "      <td>0.57</td>\n",
       "    </tr>\n",
       "    <tr>\n",
       "      <th>537</th>\n",
       "      <td>1630533</td>\n",
       "      <td>Ziaire Williams</td>\n",
       "      <td>Williams</td>\n",
       "      <td>Ziaire</td>\n",
       "      <td>1610612763</td>\n",
       "      <td>MEM</td>\n",
       "      <td>21.0</td>\n",
       "      <td>8</td>\n",
       "      <td>F</td>\n",
       "      <td>81</td>\n",
       "      <td>206.0</td>\n",
       "      <td>185</td>\n",
       "      <td>83.9</td>\n",
       "      <td>Stanford</td>\n",
       "      <td>USA</td>\n",
       "      <td>2021</td>\n",
       "      <td>-2.1</td>\n",
       "      <td>37</td>\n",
       "      <td>5.7</td>\n",
       "      <td>2.1</td>\n",
       "      <td>0.9</td>\n",
       "      <td>37</td>\n",
       "      <td>15.2</td>\n",
       "      <td>0.9</td>\n",
       "      <td>2.3</td>\n",
       "      <td>5.3</td>\n",
       "      <td>0.429</td>\n",
       "      <td>0.7</td>\n",
       "      <td>2.6</td>\n",
       "      <td>0.258</td>\n",
       "      <td>0.5</td>\n",
       "      <td>0.6</td>\n",
       "      <td>0.773</td>\n",
       "      <td>0.4</td>\n",
       "      <td>1.7</td>\n",
       "      <td>0.4</td>\n",
       "      <td>0.2</td>\n",
       "      <td>0.1</td>\n",
       "      <td>1.0</td>\n",
       "      <td>1.6</td>\n",
       "      <td>3.35</td>\n",
       "      <td>1.51</td>\n",
       "      <td>1.84</td>\n",
       "      <td>0.81</td>\n",
       "      <td>0.00</td>\n",
       "      <td>0.19</td>\n",
       "      <td>0.00</td>\n",
       "      <td>0.16</td>\n",
       "      <td>0.16</td>\n",
       "    </tr>\n",
       "    <tr>\n",
       "      <th>538</th>\n",
       "      <td>1629627</td>\n",
       "      <td>Zion Williamson</td>\n",
       "      <td>Williamson</td>\n",
       "      <td>Zion</td>\n",
       "      <td>1610612740</td>\n",
       "      <td>NOP</td>\n",
       "      <td>22.0</td>\n",
       "      <td>1</td>\n",
       "      <td>F</td>\n",
       "      <td>78</td>\n",
       "      <td>198.0</td>\n",
       "      <td>284</td>\n",
       "      <td>128.8</td>\n",
       "      <td>Duke</td>\n",
       "      <td>USA</td>\n",
       "      <td>2019</td>\n",
       "      <td>5.1</td>\n",
       "      <td>29</td>\n",
       "      <td>26.0</td>\n",
       "      <td>7.0</td>\n",
       "      <td>4.6</td>\n",
       "      <td>29</td>\n",
       "      <td>33.0</td>\n",
       "      <td>6.4</td>\n",
       "      <td>9.8</td>\n",
       "      <td>16.2</td>\n",
       "      <td>0.608</td>\n",
       "      <td>0.2</td>\n",
       "      <td>0.7</td>\n",
       "      <td>0.368</td>\n",
       "      <td>6.1</td>\n",
       "      <td>8.6</td>\n",
       "      <td>0.714</td>\n",
       "      <td>2.0</td>\n",
       "      <td>5.0</td>\n",
       "      <td>1.1</td>\n",
       "      <td>0.6</td>\n",
       "      <td>1.5</td>\n",
       "      <td>3.4</td>\n",
       "      <td>2.2</td>\n",
       "      <td>4.76</td>\n",
       "      <td>2.14</td>\n",
       "      <td>2.62</td>\n",
       "      <td>2.07</td>\n",
       "      <td>0.00</td>\n",
       "      <td>0.93</td>\n",
       "      <td>0.17</td>\n",
       "      <td>0.66</td>\n",
       "      <td>0.83</td>\n",
       "    </tr>\n",
       "  </tbody>\n",
       "</table>\n",
       "<p>539 rows × 49 columns</p>\n",
       "</div>"
      ],
      "text/plain": [
       "     PLAYER_ID      PLAYER_NAME PLAYER_LAST_NAME PLAYER_FIRST_NAME  \\\n",
       "0      1630639      A.J. Lawson           Lawson              A.J.   \n",
       "1      1631260         AJ Green            Green                AJ   \n",
       "2      1631100       AJ Griffin          Griffin                AJ   \n",
       "3       203932     Aaron Gordon           Gordon             Aaron   \n",
       "4      1628988    Aaron Holiday          Holiday             Aaron   \n",
       "..         ...              ...              ...               ...   \n",
       "534    1628380     Zach Collins          Collins              Zach   \n",
       "535     203897      Zach LaVine           LaVine              Zach   \n",
       "536    1630192       Zeke Nnaji            Nnaji              Zeke   \n",
       "537    1630533  Ziaire Williams         Williams            Ziaire   \n",
       "538    1629627  Zion Williamson       Williamson              Zion   \n",
       "\n",
       "        TEAM_ID TEAM_ABBREVIATION   AGE JERSEY_NUMBER POSITION  \\\n",
       "0    1610612742               DAL  22.0             9        G   \n",
       "1    1610612749               MIL  23.0            20        G   \n",
       "2    1610612737               ATL  19.0            14        F   \n",
       "3    1610612743               DEN  27.0            50        F   \n",
       "4    1610612737               ATL  26.0             3        G   \n",
       "..          ...               ...   ...           ...      ...   \n",
       "534  1610612759               SAS  25.0            23      F-C   \n",
       "535  1610612741               CHI  28.0             8        G   \n",
       "536  1610612743               DEN  22.0            22      F-C   \n",
       "537  1610612763               MEM  21.0             8        F   \n",
       "538  1610612740               NOP  22.0             1        F   \n",
       "\n",
       "     PLAYER_HEIGHT_INCHES  PLAYER_HEIGHT_CM  PLAYER_WEIGHT_LBS  \\\n",
       "0                      78             198.0                179   \n",
       "1                      77             196.0                190   \n",
       "2                      78             198.0                220   \n",
       "3                      80             203.0                235   \n",
       "4                      72             183.0                185   \n",
       "..                    ...               ...                ...   \n",
       "534                    83             211.0                250   \n",
       "535                    77             196.0                200   \n",
       "536                    81             206.0                240   \n",
       "537                    81             206.0                185   \n",
       "538                    78             198.0                284   \n",
       "\n",
       "     PLAYER_WEIGHT_KG         COLLEGE COUNTRY DRAFT_YEAR  PLUS_MINUS  GP  \\\n",
       "0                81.2  South Carolina  Canada  Undrafted        -3.1  15   \n",
       "1                86.2   Northern Iowa     USA  Undrafted        -0.7  35   \n",
       "2                99.8            Duke     USA       2022         0.9  72   \n",
       "3               106.6         Arizona     USA       2014         7.6  68   \n",
       "4                83.9            UCLA     USA       2018         0.3  63   \n",
       "..                ...             ...     ...        ...         ...  ..   \n",
       "534             113.4         Gonzaga     USA       2017        -3.8  63   \n",
       "535              90.7            UCLA     USA       2014         0.2  77   \n",
       "536             108.9         Arizona     USA       2020        -1.8  53   \n",
       "537              83.9        Stanford     USA       2021        -2.1  37   \n",
       "538             128.8            Duke     USA       2019         5.1  29   \n",
       "\n",
       "      PTS  REB  AST   G   MIN  PFD  FGM   FGA  FG_PCT  FG3M  FG3A  FG3_PCT  \\\n",
       "0     3.7  1.4  0.1  15   7.2  0.4  1.5   2.9   0.500   0.7   1.7    0.400   \n",
       "1     4.4  1.3  0.6  35   9.9  0.1  1.5   3.6   0.424   1.3   3.0    0.419   \n",
       "2     8.9  2.1  1.0  72  19.5  0.6  3.4   7.4   0.465   1.4   3.6    0.390   \n",
       "3    16.3  6.6  3.0  68  30.2  3.6  6.3  11.2   0.564   0.9   2.5    0.347   \n",
       "4     3.9  1.2  1.4  63  13.4  0.8  1.5   3.5   0.418   0.6   1.4    0.409   \n",
       "..    ...  ...  ...  ..   ...  ...  ...   ...     ...   ...   ...      ...   \n",
       "534  11.6  6.4  2.9  63  22.9  2.3  4.5   8.7   0.518   0.9   2.3    0.374   \n",
       "535  24.8  4.5  4.2  77  35.9  3.8  8.7  18.0   0.485   2.6   7.1    0.375   \n",
       "536   5.2  2.6  0.3  53  13.7  1.2  2.1   3.7   0.561   0.3   1.2    0.262   \n",
       "537   5.7  2.1  0.9  37  15.2  0.9  2.3   5.3   0.429   0.7   2.6    0.258   \n",
       "538  26.0  7.0  4.6  29  33.0  6.4  9.8  16.2   0.608   0.2   0.7    0.368   \n",
       "\n",
       "     FTM  FTA  FT_PCT  OREB  DREB  STL  BLK  BLKA  TOV   PF  CONTESTED_SHOTS  \\\n",
       "0    0.1  0.5   0.250   0.4   1.0  0.1  0.0   0.2  0.2  0.7             0.93   \n",
       "1    0.1  0.1   1.000   0.2   1.1  0.2  0.0   0.0  0.3  0.9             1.29   \n",
       "2    0.6  0.7   0.894   0.5   1.6  0.6  0.2   0.3  0.6  1.2             2.88   \n",
       "3    2.8  4.6   0.608   2.4   4.1  0.8  0.8   1.0  1.4  1.9             5.50   \n",
       "4    0.4  0.5   0.844   0.4   0.8  0.6  0.2   0.3  0.6  1.3             1.84   \n",
       "..   ...  ...     ...   ...   ...  ...  ...   ...  ...  ...              ...   \n",
       "534  1.7  2.3   0.761   1.8   4.5  0.6  0.8   0.6  2.0  3.2            10.14   \n",
       "535  4.7  5.6   0.848   0.5   3.9  0.9  0.2   1.0  2.5  2.1             5.68   \n",
       "536  0.8  1.2   0.645   1.2   1.4  0.3  0.4   0.2  0.6  2.0             3.79   \n",
       "537  0.5  0.6   0.773   0.4   1.7  0.4  0.2   0.1  1.0  1.6             3.35   \n",
       "538  6.1  8.6   0.714   2.0   5.0  1.1  0.6   1.5  3.4  2.2             4.76   \n",
       "\n",
       "     CONTESTED_SHOTS_2PT  CONTESTED_SHOTS_3PT  DEFLECTIONS  CHARGES_DRAWN  \\\n",
       "0                   0.47                 0.47         0.33           0.00   \n",
       "1                   0.57                 0.71         0.23           0.03   \n",
       "2                   1.42                 1.46         0.88           0.00   \n",
       "3                   3.93                 1.57         1.16           0.01   \n",
       "4                   0.94                 0.90         1.11           0.00   \n",
       "..                   ...                  ...          ...            ...   \n",
       "534                 8.67                 1.48         0.94           0.06   \n",
       "535                 2.44                 3.23         1.25           0.00   \n",
       "536                 2.70                 1.09         0.57           0.00   \n",
       "537                 1.51                 1.84         0.81           0.00   \n",
       "538                 2.14                 2.62         2.07           0.00   \n",
       "\n",
       "     SCREEN_ASSISTS  OFF_BOXOUTS  DEF_BOXOUTS  BOX_OUTS  \n",
       "0              0.07         0.00         0.00      0.00  \n",
       "1              0.14         0.00         0.11      0.11  \n",
       "2              0.17         0.00         0.08      0.08  \n",
       "3              0.87         0.18         0.29      0.47  \n",
       "4              0.03         0.00         0.14      0.14  \n",
       "..              ...          ...          ...       ...  \n",
       "534            3.29         0.27         1.29      1.56  \n",
       "535            0.32         0.00         0.19      0.19  \n",
       "536            1.08         0.25         0.32      0.57  \n",
       "537            0.19         0.00         0.16      0.16  \n",
       "538            0.93         0.17         0.66      0.83  \n",
       "\n",
       "[539 rows x 49 columns]"
      ]
     },
     "execution_count": 68,
     "metadata": {},
     "output_type": "execute_result"
    }
   ],
   "source": [
    "filtered_df"
   ]
  },
  {
   "attachments": {},
   "cell_type": "markdown",
   "metadata": {},
   "source": [
    "## 3.4. <a id='toc3_4_'></a>[Exporting the filtered DataFrame as CSV file](#toc0_)"
   ]
  },
  {
   "cell_type": "code",
   "execution_count": 69,
   "metadata": {},
   "outputs": [],
   "source": [
    "filtered_df.to_csv('/home/bruno/repos/NBA_2022-2023/data/filtered_df.csv', index=False)"
   ]
  },
  {
   "attachments": {},
   "cell_type": "markdown",
   "metadata": {},
   "source": [
    "# 4. <a id='toc4_'></a>[Making some charts](#toc0_)"
   ]
  },
  {
   "cell_type": "code",
   "execution_count": 70,
   "metadata": {},
   "outputs": [
    {
     "data": {
      "application/vnd.plotly.v1+json": {
       "config": {
        "plotlyServerURL": "https://plot.ly"
       },
       "data": [
        {
         "alignmentgroup": "True",
         "hovertemplate": "<b>%{hovertext}</b><br><br>Position=%{x}<br>Points=%{y}<extra></extra>",
         "hovertext": [
          "A.J. Lawson",
          "AJ Green",
          "Aaron Holiday",
          "Aaron Wiggins",
          "Alec Burks",
          "Alex Caruso",
          "Alondes Williams",
          "Anfernee Simons",
          "Anthony Edwards",
          "Austin Reaves",
          "Austin Rivers",
          "Ayo Dosunmu",
          "Blake Wesley",
          "Bogdan Bogdanovic",
          "Bones Hyland",
          "Bradley Beal",
          "Brandon Boston Jr.",
          "Bryce McGowens",
          "Bryn Forbes",
          "Buddy Hield",
          "CJ McCollum",
          "Cade Cunningham",
          "Caleb Houstan",
          "Cam Thomas",
          "Cameron Payne",
          "Caris LeVert",
          "Carlik Jones",
          "Chris Duarte",
          "Chris Paul",
          "Christian Braun",
          "Coby White",
          "Cole Anthony",
          "Collin Sexton",
          "Cory Joseph",
          "D'Angelo Russell",
          "Daishen Nix",
          "Damian Lillard",
          "Danny Green",
          "Darius Garland",
          "David Duke Jr.",
          "Davion Mitchell",
          "Davon Reed",
          "De'Aaron Fox",
          "De'Anthony Melton",
          "Dejounte Murray",
          "Delon Wright",
          "Dennis Smith Jr.",
          "Dereon Seabron",
          "Derrick Rose",
          "Derrick White",
          "Desmond Bane",
          "Devin Booker",
          "Devonte' Graham",
          "Donovan Mitchell",
          "Donovan Williams",
          "Donte DiVincenzo",
          "Dru Smith",
          "Duane Washington Jr.",
          "Dyson Daniels",
          "Edmond Sumner",
          "Eric Gordon",
          "Facundo Campazzo",
          "Frank Jackson",
          "Frank Ntilikina",
          "Fred VanVleet",
          "Gabe Vincent",
          "Gabe York",
          "Garrison Mathews",
          "Gary Harris",
          "Gary Payton II",
          "George Hill",
          "Goran Dragic",
          "Grayson Allen",
          "Hamidou Diallo",
          "Immanuel Quickley",
          "Isaiah Joe",
          "Ish Smith",
          "JD Davison",
          "Ja Morant",
          "Jacob Gilyard",
          "Jaden Hardy",
          "Jaden Ivey",
          "Jaden Springer",
          "Jalen Brunson",
          "Jalen Green",
          "Jalen Suggs",
          "Jamal Murray",
          "Jamaree Bouyea",
          "James Bouknight",
          "James Harden",
          "Jared Butler",
          "Jared Rhoden",
          "Jason Preston",
          "Javonte Green",
          "Jay Scrubb",
          "Jaylen Nowell",
          "Jeenathan Williams",
          "Jeff Dowtin Jr.",
          "Jevon Carter",
          "John Konchar",
          "John Wall",
          "Johnny Davis",
          "Johnny Juzang",
          "Jordan Clarkson",
          "Jordan Goodwin",
          "Jordan Hall",
          "Jordan McLaughlin",
          "Jordan Poole",
          "Jordan Schakel",
          "Jose Alvarado",
          "Josh Christopher",
          "Josh Giddey",
          "Josh Green",
          "Josh Hart",
          "Josh Okogie",
          "Josh Richardson",
          "Jrue Holiday",
          "Kemba Walker",
          "Kendall Brown",
          "Kendrick Nunn",
          "Kennedy Chandler",
          "Kentavious Caldwell-Pope",
          "Keon Ellis",
          "Keon Johnson",
          "Kevon Harris",
          "Killian Hayes",
          "Kira Lewis Jr.",
          "Klay Thompson",
          "Kobi Simmons",
          "Kris Dunn",
          "Kyle Lowry",
          "Kyrie Irving",
          "LaMelo Ball",
          "Landry Shamet",
          "Lester Quinones",
          "Lindell Wigginton",
          "Luguentz Dort",
          "Luke Kennard",
          "Mac McClung",
          "Malachi Flynn",
          "Malcolm Brogdon",
          "Malik Beasley",
          "Malik Monk",
          "Marcus Smart",
          "Markelle Fultz",
          "Matthew Dellavedova",
          "Max Christie",
          "McKinley Wright IV",
          "Michael Carter-Williams",
          "Mike Conley",
          "Miles McBride",
          "Monte Morris",
          "Moses Moody",
          "Nickeil Alexander-Walker",
          "Norman Powell",
          "Ochai Agbaji",
          "Pat Connaughton",
          "Patrick Beverley",
          "Patty Mills",
          "Payton Pritchard",
          "Peyton Watson",
          "Quentin Grimes",
          "Quenton Jackson",
          "R.J. Hampton",
          "Raul Neto",
          "Reggie Jackson",
          "Ricky Rubio",
          "Rodney McGruder",
          "Russell Westbrook",
          "Ryan Arcidiacono",
          "Ryan Rollins",
          "Saben Lee",
          "Sam Merrill",
          "Scotty Pippen Jr.",
          "Seth Curry",
          "Shaedon Sharpe",
          "Shai Gilgeous-Alexander",
          "Shaquille Harrison",
          "Skylar Mays",
          "Spencer Dinwiddie",
          "Stanley Umude",
          "Stephen Curry",
          "T.J. McConnell",
          "Talen Horton-Tucker",
          "Terence Davis",
          "Terry Rozier",
          "Theo Maledon",
          "Trae Young",
          "Tre Jones",
          "Tre Mann",
          "Trent Forrest",
          "Trevelin Queen",
          "Trevor Hudgins",
          "Trevor Keels",
          "TyTy Washington Jr.",
          "Tyler Herro",
          "Tyrese Haliburton",
          "Tyrese Martin",
          "Tyrese Maxey",
          "Tyus Jones",
          "Victor Oladipo",
          "Vince Williams Jr.",
          "Vit Krejci",
          "Wendell Moore Jr.",
          "Wesley Matthews",
          "Will Barton",
          "Xavier Moon",
          "Zach LaVine"
         ],
         "legendgroup": "G",
         "marker": {
          "color": "#636efa"
         },
         "name": "G",
         "notched": false,
         "offsetgroup": "G",
         "orientation": "v",
         "showlegend": true,
         "type": "box",
         "x": [
          "G",
          "G",
          "G",
          "G",
          "G",
          "G",
          "G",
          "G",
          "G",
          "G",
          "G",
          "G",
          "G",
          "G",
          "G",
          "G",
          "G",
          "G",
          "G",
          "G",
          "G",
          "G",
          "G",
          "G",
          "G",
          "G",
          "G",
          "G",
          "G",
          "G",
          "G",
          "G",
          "G",
          "G",
          "G",
          "G",
          "G",
          "G",
          "G",
          "G",
          "G",
          "G",
          "G",
          "G",
          "G",
          "G",
          "G",
          "G",
          "G",
          "G",
          "G",
          "G",
          "G",
          "G",
          "G",
          "G",
          "G",
          "G",
          "G",
          "G",
          "G",
          "G",
          "G",
          "G",
          "G",
          "G",
          "G",
          "G",
          "G",
          "G",
          "G",
          "G",
          "G",
          "G",
          "G",
          "G",
          "G",
          "G",
          "G",
          "G",
          "G",
          "G",
          "G",
          "G",
          "G",
          "G",
          "G",
          "G",
          "G",
          "G",
          "G",
          "G",
          "G",
          "G",
          "G",
          "G",
          "G",
          "G",
          "G",
          "G",
          "G",
          "G",
          "G",
          "G",
          "G",
          "G",
          "G",
          "G",
          "G",
          "G",
          "G",
          "G",
          "G",
          "G",
          "G",
          "G",
          "G",
          "G",
          "G",
          "G",
          "G",
          "G",
          "G",
          "G",
          "G",
          "G",
          "G",
          "G",
          "G",
          "G",
          "G",
          "G",
          "G",
          "G",
          "G",
          "G",
          "G",
          "G",
          "G",
          "G",
          "G",
          "G",
          "G",
          "G",
          "G",
          "G",
          "G",
          "G",
          "G",
          "G",
          "G",
          "G",
          "G",
          "G",
          "G",
          "G",
          "G",
          "G",
          "G",
          "G",
          "G",
          "G",
          "G",
          "G",
          "G",
          "G",
          "G",
          "G",
          "G",
          "G",
          "G",
          "G",
          "G",
          "G",
          "G",
          "G",
          "G",
          "G",
          "G",
          "G",
          "G",
          "G",
          "G",
          "G",
          "G",
          "G",
          "G",
          "G",
          "G",
          "G",
          "G",
          "G",
          "G",
          "G",
          "G",
          "G",
          "G",
          "G",
          "G",
          "G",
          "G",
          "G",
          "G",
          "G",
          "G",
          "G",
          "G",
          "G"
         ],
         "x0": " ",
         "xaxis": "x",
         "y": [
          3.7,
          4.4,
          3.9,
          6.8,
          12.8,
          5.6,
          0,
          21.1,
          24.6,
          13,
          4.9,
          8.6,
          5,
          14,
          11.8,
          23.2,
          6.5,
          5.3,
          3.6,
          16.8,
          20.9,
          19.9,
          3.8,
          10.6,
          10.3,
          12.1,
          2.9,
          7.9,
          13.9,
          4.7,
          9.7,
          13,
          14.3,
          6.9,
          17.8,
          4,
          32.2,
          5.5,
          21.6,
          3.7,
          5.6,
          2.1,
          25,
          10.1,
          20.5,
          7.4,
          8.8,
          0.8,
          5.6,
          12.4,
          21.5,
          27.8,
          7.4,
          28.3,
          2,
          9.4,
          2.9,
          7.9,
          3.8,
          7.1,
          12.4,
          1.3,
          0,
          2.9,
          19.3,
          9.4,
          8,
          4.8,
          8.3,
          4.6,
          5,
          6.3,
          10.4,
          9.3,
          14.9,
          9.5,
          2.5,
          1.6,
          26.2,
          3,
          8.8,
          16.3,
          2.6,
          24,
          22.1,
          9.9,
          20,
          3,
          5.6,
          21,
          6.2,
          3.2,
          2.9,
          5.2,
          6.5,
          10.8,
          10.6,
          2.4,
          8,
          5.1,
          11.4,
          5.8,
          4.8,
          20.8,
          6.6,
          3.1,
          3.7,
          20.4,
          1.5,
          9,
          5.8,
          16.6,
          9.1,
          9.8,
          7.3,
          10.1,
          19.3,
          8,
          1.5,
          7.1,
          2.2,
          10.8,
          1.5,
          4.7,
          4.1,
          10.3,
          4.6,
          21.9,
          1,
          13.2,
          11.2,
          27.1,
          23.3,
          8.7,
          2.5,
          7.1,
          13.7,
          9.3,
          12.5,
          4.6,
          14.9,
          12.7,
          13.5,
          11.5,
          14,
          1.5,
          3.1,
          4.2,
          4.3,
          11.9,
          3.5,
          10.3,
          4.8,
          6.2,
          17,
          7.9,
          7.6,
          6.2,
          6.2,
          5.6,
          3.3,
          11.3,
          6.2,
          6.4,
          3.3,
          10.2,
          5.2,
          5.7,
          15.9,
          1.3,
          1.9,
          6,
          5,
          2.3,
          9.2,
          9.9,
          31.4,
          8.8,
          15.3,
          17.3,
          2,
          29.4,
          8.7,
          10.7,
          6.7,
          21.1,
          6.7,
          26.2,
          12.9,
          7.7,
          2.3,
          3,
          1.8,
          1,
          4.7,
          20.1,
          20.7,
          1.3,
          20.3,
          10.3,
          10.7,
          2,
          1.2,
          1.4,
          3.4,
          6.8,
          1.8,
          24.8
         ],
         "y0": " ",
         "yaxis": "y"
        },
        {
         "alignmentgroup": "True",
         "hovertemplate": "<b>%{hovertext}</b><br><br>Position=%{x}<br>Points=%{y}<extra></extra>",
         "hovertext": [
          "AJ Griffin",
          "Aaron Gordon",
          "Admiral Schofield",
          "Aleksej Pokusevski",
          "Andrew Wiggins",
          "Anthony Gill",
          "Anthony Lamb",
          "Blake Griffin",
          "Bobby Portis",
          "Bojan Bogdanovic",
          "Brandon Clarke",
          "Brandon Ingram",
          "Braxton Key",
          "Buddy Boeheim",
          "Caleb Martin",
          "Cameron Johnson",
          "Cedi Osman",
          "Chima Moneke",
          "Chris Silva",
          "Christian Wood",
          "Chuma Okeke",
          "Cody Martin",
          "Cole Swider",
          "Corey Kispert",
          "Dalano Banton",
          "Dalen Terry",
          "Darius Bazley",
          "Darius Days",
          "David Roddy",
          "Davis Bertans",
          "Deni Avdija",
          "Derrick Jones Jr.",
          "Dominick Barlow",
          "Dorian Finney-Smith",
          "Doug McDermott",
          "Draymond Green",
          "Duncan Robinson",
          "Eugene Omoruyi",
          "Franz Wagner",
          "Georges Niang",
          "Giannis Antetokounmpo",
          "Gordon Hayward",
          "Grant Williams",
          "Greg Brown III",
          "Harrison Barnes",
          "Haywood Highsmith",
          "Herbert Jones",
          "Isaiah Jackson",
          "Isaiah Livers",
          "Isaiah Mobley",
          "Isaiah Todd",
          "Ish Wainright",
          "JT Thor",
          "Jabari Smith Jr.",
          "Jabari Walker",
          "Jack White",
          "Jaden McDaniels",
          "Jae Crowder",
          "Jae'Sean Tate",
          "Jake LaRavia",
          "Jalen Johnson",
          "Jamal Cain",
          "James Johnson",
          "Jarred Vanderbilt",
          "Jarrell Brantley",
          "Jaylin Williams",
          "Jeff Green",
          "Jerami Grant",
          "Jeremiah Robinson-Earl",
          "Jeremy Sochan",
          "Jimmy Butler",
          "John Butler Jr.",
          "Jonathan Isaac",
          "Jonathan Kuminga",
          "Jordan Nwora",
          "Josh Minott",
          "Juan Toscano-Anderson",
          "Juancho Hernangomez",
          "Julian Champagnie",
          "Justin Jackson",
          "Justin Minaya",
          "Kawhi Leonard",
          "Keegan Murray",
          "Keita Bates-Diop",
          "Kenneth Lofton Jr.",
          "Kenyon Martin Jr.",
          "Kessler Edwards",
          "Kevin Durant",
          "Kevin Knox II",
          "Kevon Looney",
          "Khris Middleton",
          "Kyle Kuzma",
          "Lamar Stevens",
          "LeBron James",
          "Leandro Bolmaro",
          "Lindy Waters III",
          "Louis King",
          "Luka Samanic",
          "Malaki Branham",
          "Malcolm Hill",
          "Mamadi Diakite",
          "MarJon Beauchamp",
          "Marcus Morris Sr.",
          "Markieff Morris",
          "Marvin Bagley III",
          "Matt Ryan",
          "Maxi Kleber",
          "Michael Foster Jr.",
          "Michael Porter Jr.",
          "Moussa Diabate",
          "Naji Marshall",
          "Nikola Jovic",
          "Noah Vonleh",
          "O.G. Anunoby",
          "Obi Toppin",
          "Otto Porter Jr.",
          "Ousmane Dieng",
          "P.J. Tucker",
          "P.J. Washington",
          "Paolo Banchero",
          "Pascal Siakam",
          "Patrick Baldwin Jr.",
          "Patrick Williams",
          "Paul George",
          "Paul Reed",
          "Precious Achiuwa",
          "RaiQuan Gray",
          "Richaun Holmes",
          "Robert Covington",
          "Ron Harper Jr.",
          "Royce O'Neale",
          "Rui Hachimura",
          "Saddiq Bey",
          "Sam Hauser",
          "Scottie Barnes",
          "Simone Fontecchio",
          "T.J. Warren",
          "Taj Gibson",
          "Tari Eason",
          "Taurean Prince",
          "Terry Taylor",
          "Thaddeus Young",
          "Thanasis Antetokounmpo",
          "Tobias Harris",
          "Torrey Craig",
          "Trendon Watford",
          "Trey Lyles",
          "Trey Murphy III",
          "Udonis Haslem",
          "Usman Garuba",
          "Vlatko Cancar",
          "Wenyen Gabriel",
          "Xavier Cooks",
          "Xavier Sneed",
          "Xavier Tillman",
          "Ziaire Williams",
          "Zion Williamson"
         ],
         "legendgroup": "F",
         "marker": {
          "color": "#EF553B"
         },
         "name": "F",
         "notched": false,
         "offsetgroup": "F",
         "orientation": "v",
         "showlegend": true,
         "type": "box",
         "x": [
          "F",
          "F",
          "F",
          "F",
          "F",
          "F",
          "F",
          "F",
          "F",
          "F",
          "F",
          "F",
          "F",
          "F",
          "F",
          "F",
          "F",
          "F",
          "F",
          "F",
          "F",
          "F",
          "F",
          "F",
          "F",
          "F",
          "F",
          "F",
          "F",
          "F",
          "F",
          "F",
          "F",
          "F",
          "F",
          "F",
          "F",
          "F",
          "F",
          "F",
          "F",
          "F",
          "F",
          "F",
          "F",
          "F",
          "F",
          "F",
          "F",
          "F",
          "F",
          "F",
          "F",
          "F",
          "F",
          "F",
          "F",
          "F",
          "F",
          "F",
          "F",
          "F",
          "F",
          "F",
          "F",
          "F",
          "F",
          "F",
          "F",
          "F",
          "F",
          "F",
          "F",
          "F",
          "F",
          "F",
          "F",
          "F",
          "F",
          "F",
          "F",
          "F",
          "F",
          "F",
          "F",
          "F",
          "F",
          "F",
          "F",
          "F",
          "F",
          "F",
          "F",
          "F",
          "F",
          "F",
          "F",
          "F",
          "F",
          "F",
          "F",
          "F",
          "F",
          "F",
          "F",
          "F",
          "F",
          "F",
          "F",
          "F",
          "F",
          "F",
          "F",
          "F",
          "F",
          "F",
          "F",
          "F",
          "F",
          "F",
          "F",
          "F",
          "F",
          "F",
          "F",
          "F",
          "F",
          "F",
          "F",
          "F",
          "F",
          "F",
          "F",
          "F",
          "F",
          "F",
          "F",
          "F",
          "F",
          "F",
          "F",
          "F",
          "F",
          "F",
          "F",
          "F",
          "F",
          "F",
          "F",
          "F",
          "F",
          "F",
          "F",
          "F",
          "F",
          "F",
          "F"
         ],
         "x0": " ",
         "xaxis": "x",
         "y": [
          8.9,
          16.3,
          4.2,
          8.1,
          17.1,
          3.3,
          6.7,
          4.1,
          14.1,
          21.6,
          10,
          24.7,
          1.3,
          1.6,
          9.6,
          15.5,
          8.7,
          1,
          2,
          16.6,
          4.7,
          5,
          1.3,
          11.1,
          4.6,
          2.2,
          5.2,
          3.8,
          6.7,
          4.6,
          9.2,
          5,
          3.9,
          8.3,
          10.2,
          8.5,
          6.4,
          7,
          18.6,
          8.2,
          31.1,
          14.7,
          8.1,
          1.8,
          15,
          4.4,
          9.8,
          7.2,
          6.7,
          2.6,
          1.5,
          4.2,
          3.8,
          12.8,
          3.9,
          1.2,
          12.1,
          6.9,
          9.1,
          3,
          5.6,
          5.4,
          2.8,
          7.9,
          5.5,
          5.9,
          7.8,
          20.5,
          6.8,
          11,
          22.9,
          2.4,
          5,
          9.9,
          8.7,
          3.1,
          3,
          2.9,
          9.7,
          0.9,
          4.3,
          23.8,
          12.2,
          9.7,
          5,
          12.7,
          2.8,
          29.1,
          6.6,
          7,
          15.1,
          21.2,
          5.3,
          28.9,
          0.4,
          5.2,
          20,
          9.9,
          10.2,
          1,
          2.6,
          5.1,
          11.2,
          3.8,
          12,
          3.6,
          5.9,
          0,
          17.4,
          2.7,
          9.1,
          5.5,
          1.1,
          16.8,
          7.4,
          5.5,
          4.9,
          3.5,
          15.7,
          20,
          24.2,
          3.9,
          10.2,
          23.8,
          4.2,
          9.2,
          16,
          3.1,
          6,
          2.2,
          8.8,
          11.2,
          13.8,
          6.4,
          15.3,
          6.3,
          7.5,
          3.4,
          9.3,
          9.1,
          2.9,
          4.4,
          1.4,
          14.7,
          7.4,
          7.4,
          7.6,
          14.5,
          3.9,
          3,
          5,
          5.5,
          3.8,
          4.3,
          7,
          5.7,
          26
         ],
         "y0": " ",
         "yaxis": "y"
        },
        {
         "alignmentgroup": "True",
         "hovertemplate": "<b>%{hovertext}</b><br><br>Position=%{x}<br>Points=%{y}<extra></extra>",
         "hovertext": [
          "Aaron Nesmith",
          "Amir Coffey",
          "Andre Iguodala",
          "Andrew Nembhard",
          "Ben Simmons",
          "Bennedict Mathurin",
          "Bruce Brown",
          "Damion Lee",
          "DeMar DeRozan",
          "Devin Vassell",
          "Dillon Brooks",
          "Dylan Windler",
          "Evan Fournier",
          "Furkan Korkmaz",
          "Garrett Temple",
          "Gary Trent Jr.",
          "Jalen Williams",
          "Jarrett Culver",
          "Jaylen Brown",
          "Joe Harris",
          "Joe Wieskamp",
          "Justin Champagnie",
          "Kenrich Williams",
          "Kevin Huerter",
          "Kevin Porter Jr.",
          "Lonnie Walker IV",
          "Matisse Thybulle",
          "Max Strus",
          "Mikal Bridges",
          "Nicolas Batum",
          "PJ Dozier",
          "Reggie Bullock",
          "Romeo Langford",
          "Shake Milton",
          "Sterling Brown",
          "Svi Mykhailiuk",
          "Terance Mann",
          "Terrence Ross",
          "Theo Pinson",
          "Tim Hardaway Jr.",
          "Troy Brown Jr.",
          "Ty Jerome",
          "Yuta Watanabe"
         ],
         "legendgroup": "G-F",
         "marker": {
          "color": "#00cc96"
         },
         "name": "G-F",
         "notched": false,
         "offsetgroup": "G-F",
         "orientation": "v",
         "showlegend": true,
         "type": "box",
         "x": [
          "G-F",
          "G-F",
          "G-F",
          "G-F",
          "G-F",
          "G-F",
          "G-F",
          "G-F",
          "G-F",
          "G-F",
          "G-F",
          "G-F",
          "G-F",
          "G-F",
          "G-F",
          "G-F",
          "G-F",
          "G-F",
          "G-F",
          "G-F",
          "G-F",
          "G-F",
          "G-F",
          "G-F",
          "G-F",
          "G-F",
          "G-F",
          "G-F",
          "G-F",
          "G-F",
          "G-F",
          "G-F",
          "G-F",
          "G-F",
          "G-F",
          "G-F",
          "G-F",
          "G-F",
          "G-F",
          "G-F",
          "G-F",
          "G-F",
          "G-F"
         ],
         "x0": " ",
         "xaxis": "x",
         "y": [
          10.1,
          3.4,
          2.1,
          9.5,
          6.9,
          16.7,
          11.5,
          8.2,
          24.5,
          18.5,
          14.3,
          1.7,
          6.1,
          3.8,
          2,
          17.4,
          14.1,
          4.4,
          26.6,
          7.6,
          1,
          2.2,
          8,
          15.2,
          19.2,
          11.7,
          4.1,
          11.5,
          20.1,
          6.1,
          1.4,
          7.2,
          6.9,
          8.4,
          0,
          6.9,
          8.8,
          8.3,
          2.4,
          14.4,
          7.1,
          6.9,
          5.6
         ],
         "y0": " ",
         "yaxis": "y"
        },
        {
         "alignmentgroup": "True",
         "hovertemplate": "<b>%{hovertext}</b><br><br>Position=%{x}<br>Points=%{y}<extra></extra>",
         "hovertext": [
          "Al Horford",
          "Bam Adebayo",
          "Bol Bol",
          "Charles Bassey",
          "Goga Bitadze",
          "Isaiah Hartenstein",
          "JaVale McGee",
          "Jaxson Hayes",
          "Joel Embiid",
          "Kai Jones",
          "Karl-Anthony Towns",
          "Luke Kornet",
          "Mitchell Robinson",
          "Myles Turner",
          "Naz Reid",
          "Robert Williams III",
          "Thomas Bryant",
          "Udoka Azubuike",
          "Wendell Carter Jr.",
          "Willy Hernangomez"
         ],
         "legendgroup": "C-F",
         "marker": {
          "color": "#ab63fa"
         },
         "name": "C-F",
         "notched": false,
         "offsetgroup": "C-F",
         "orientation": "v",
         "showlegend": true,
         "type": "box",
         "x": [
          "C-F",
          "C-F",
          "C-F",
          "C-F",
          "C-F",
          "C-F",
          "C-F",
          "C-F",
          "C-F",
          "C-F",
          "C-F",
          "C-F",
          "C-F",
          "C-F",
          "C-F",
          "C-F",
          "C-F",
          "C-F",
          "C-F",
          "C-F"
         ],
         "x0": " ",
         "xaxis": "x",
         "y": [
          9.8,
          20.4,
          9.1,
          5.7,
          4.4,
          5,
          4.4,
          5,
          33.1,
          3.4,
          20.8,
          3.8,
          7.4,
          18,
          11.5,
          8,
          9.8,
          3.5,
          15.2,
          6.9
         ],
         "y0": " ",
         "yaxis": "y"
        },
        {
         "alignmentgroup": "True",
         "hovertemplate": "<b>%{hovertext}</b><br><br>Position=%{x}<br>Points=%{y}<extra></extra>",
         "hovertext": [
          "Alex Len",
          "Alperen Sengun",
          "Andre Drummond",
          "Bismack Biyombo",
          "Boban Marjanovic",
          "Brook Lopez",
          "Chance Comanche",
          "Christian Koloko",
          "Clint Capela",
          "Damian Jones",
          "Day'Ron Sharpe",
          "DeAndre Jordan",
          "Deandre Ayton",
          "Dewayne Dedmon",
          "Evan Mobley",
          "Gorgui Dieng",
          "Ivica Zubac",
          "Jakob Poeltl",
          "Jalen Duren",
          "James Wiseman",
          "Jarrett Allen",
          "Jay Huff",
          "Jericho Sims",
          "Jock Landale",
          "Jonas Valanciunas",
          "Jusuf Nurkic",
          "Khem Birch",
          "Luka Garza",
          "Mark Williams",
          "Marko Simonovic",
          "Mfiondu Kabengele",
          "Micah Potter",
          "Mo Bamba",
          "Moses Brown",
          "Neemias Queta",
          "Nic Claxton",
          "Nick Richards",
          "Nikola Jokic",
          "Nikola Vucevic",
          "Olivier Sarr",
          "Omer Yurtseven",
          "Orlando Robinson",
          "Robin Lopez",
          "Rudy Gobert",
          "Steven Adams",
          "Vernon Carey Jr.",
          "Walker Kessler"
         ],
         "legendgroup": "C",
         "marker": {
          "color": "#FFA15A"
         },
         "name": "C",
         "notched": false,
         "offsetgroup": "C",
         "orientation": "v",
         "showlegend": true,
         "type": "box",
         "x": [
          "C",
          "C",
          "C",
          "C",
          "C",
          "C",
          "C",
          "C",
          "C",
          "C",
          "C",
          "C",
          "C",
          "C",
          "C",
          "C",
          "C",
          "C",
          "C",
          "C",
          "C",
          "C",
          "C",
          "C",
          "C",
          "C",
          "C",
          "C",
          "C",
          "C",
          "C",
          "C",
          "C",
          "C",
          "C",
          "C",
          "C",
          "C",
          "C",
          "C",
          "C",
          "C",
          "C",
          "C",
          "C",
          "C",
          "C"
         ],
         "x0": " ",
         "xaxis": "x",
         "y": [
          1.7,
          14.8,
          6,
          4.3,
          3.3,
          15.9,
          7,
          3.1,
          12,
          3.5,
          4.7,
          5.1,
          18,
          5.2,
          16.2,
          3.9,
          10.8,
          12.5,
          9.1,
          10,
          14.3,
          7.3,
          3.4,
          6.6,
          14.1,
          13.3,
          2.2,
          6.5,
          9,
          0.9,
          1.5,
          3.4,
          6.6,
          4.3,
          2.4,
          12.6,
          8.2,
          24.5,
          17.6,
          4,
          4.4,
          3.7,
          3,
          13.4,
          8.6,
          0.5,
          9.2
         ],
         "y0": " ",
         "yaxis": "y"
        },
        {
         "alignmentgroup": "True",
         "hovertemplate": "<b>%{hovertext}</b><br><br>Position=%{x}<br>Points=%{y}<extra></extra>",
         "hovertext": [
          "Anthony Davis",
          "Bruno Fernando",
          "Chimezie Metu",
          "Chris Boucher",
          "Cody Zeller",
          "Daniel Gafford",
          "Daniel Theis",
          "Dario Saric",
          "Dean Wade",
          "Domantas Sabonis",
          "Drew Eubanks",
          "Dwight Powell",
          "Frank Kaminsky",
          "Isaiah Stewart",
          "JaMychal Green",
          "Jalen McDaniels",
          "Jalen Smith",
          "Jaren Jackson Jr.",
          "John Collins",
          "Julius Randle",
          "Kelly Olynyk",
          "Kevin Love",
          "Kristaps Porzingis",
          "Larry Nance Jr.",
          "Lauri Markkanen",
          "Mason Plumlee",
          "Meyers Leonard",
          "Mike Muscala",
          "Montrezl Harrell",
          "Moritz Wagner",
          "Nathan Knight",
          "Onyeka Okongwu",
          "Sandro Mamukelashvili",
          "Santi Aldama",
          "Zach Collins",
          "Zeke Nnaji"
         ],
         "legendgroup": "F-C",
         "marker": {
          "color": "#FF6692"
         },
         "name": "F-C",
         "notched": false,
         "offsetgroup": "F-C",
         "orientation": "v",
         "showlegend": true,
         "type": "box",
         "x": [
          "F-C",
          "F-C",
          "F-C",
          "F-C",
          "F-C",
          "F-C",
          "F-C",
          "F-C",
          "F-C",
          "F-C",
          "F-C",
          "F-C",
          "F-C",
          "F-C",
          "F-C",
          "F-C",
          "F-C",
          "F-C",
          "F-C",
          "F-C",
          "F-C",
          "F-C",
          "F-C",
          "F-C",
          "F-C",
          "F-C",
          "F-C",
          "F-C",
          "F-C",
          "F-C",
          "F-C",
          "F-C",
          "F-C",
          "F-C",
          "F-C",
          "F-C"
         ],
         "x0": " ",
         "xaxis": "x",
         "y": [
          25.9,
          3.9,
          4.9,
          9.4,
          6.5,
          9,
          7,
          6.4,
          4.7,
          19.1,
          6.6,
          6.7,
          2.5,
          11.3,
          6.4,
          9.4,
          9.4,
          18.6,
          13.1,
          25.1,
          12.5,
          8.2,
          23.2,
          6.8,
          25.6,
          10.8,
          4.8,
          6.1,
          5.6,
          10.5,
          3.7,
          9.9,
          6.1,
          9,
          11.6,
          5.2
         ],
         "y0": " ",
         "yaxis": "y"
        },
        {
         "alignmentgroup": "True",
         "hovertemplate": "<b>%{hovertext}</b><br><br>Position=%{x}<br>Points=%{y}<extra></extra>",
         "hovertext": [
          "Cam Reddish",
          "Danuel House Jr.",
          "De'Andre Hunter",
          "Isaac Okoro",
          "Jayson Tatum",
          "Joe Ingles",
          "Justin Holiday",
          "Justise Winslow",
          "KZ Okpala",
          "Keldon Johnson",
          "Kelly Oubre Jr.",
          "Kyle Anderson",
          "Luka Doncic",
          "Nassir Little",
          "Oshae Brissett",
          "RJ Barrett",
          "Rudy Gay",
          "Stanley Johnson"
         ],
         "legendgroup": "F-G",
         "marker": {
          "color": "#B6E880"
         },
         "name": "F-G",
         "notched": false,
         "offsetgroup": "F-G",
         "orientation": "v",
         "showlegend": true,
         "type": "box",
         "x": [
          "F-G",
          "F-G",
          "F-G",
          "F-G",
          "F-G",
          "F-G",
          "F-G",
          "F-G",
          "F-G",
          "F-G",
          "F-G",
          "F-G",
          "F-G",
          "F-G",
          "F-G",
          "F-G",
          "F-G",
          "F-G"
         ],
         "x0": " ",
         "xaxis": "x",
         "y": [
          9.7,
          4.8,
          15.4,
          6.4,
          30.1,
          6.9,
          4.5,
          6.8,
          1.3,
          22,
          20.3,
          9.4,
          32.4,
          6.6,
          6.1,
          19.6,
          5.2,
          5.8
         ],
         "y0": " ",
         "yaxis": "y"
        }
       ],
       "layout": {
        "boxmode": "overlay",
        "legend": {
         "title": {
          "text": "Position"
         },
         "tracegroupgap": 0
        },
        "template": {
         "data": {
          "bar": [
           {
            "error_x": {
             "color": "#f2f5fa"
            },
            "error_y": {
             "color": "#f2f5fa"
            },
            "marker": {
             "line": {
              "color": "rgb(17,17,17)",
              "width": 0.5
             },
             "pattern": {
              "fillmode": "overlay",
              "size": 10,
              "solidity": 0.2
             }
            },
            "type": "bar"
           }
          ],
          "barpolar": [
           {
            "marker": {
             "line": {
              "color": "rgb(17,17,17)",
              "width": 0.5
             },
             "pattern": {
              "fillmode": "overlay",
              "size": 10,
              "solidity": 0.2
             }
            },
            "type": "barpolar"
           }
          ],
          "carpet": [
           {
            "aaxis": {
             "endlinecolor": "#A2B1C6",
             "gridcolor": "#506784",
             "linecolor": "#506784",
             "minorgridcolor": "#506784",
             "startlinecolor": "#A2B1C6"
            },
            "baxis": {
             "endlinecolor": "#A2B1C6",
             "gridcolor": "#506784",
             "linecolor": "#506784",
             "minorgridcolor": "#506784",
             "startlinecolor": "#A2B1C6"
            },
            "type": "carpet"
           }
          ],
          "choropleth": [
           {
            "colorbar": {
             "outlinewidth": 0,
             "ticks": ""
            },
            "type": "choropleth"
           }
          ],
          "contour": [
           {
            "colorbar": {
             "outlinewidth": 0,
             "ticks": ""
            },
            "colorscale": [
             [
              0,
              "#0d0887"
             ],
             [
              0.1111111111111111,
              "#46039f"
             ],
             [
              0.2222222222222222,
              "#7201a8"
             ],
             [
              0.3333333333333333,
              "#9c179e"
             ],
             [
              0.4444444444444444,
              "#bd3786"
             ],
             [
              0.5555555555555556,
              "#d8576b"
             ],
             [
              0.6666666666666666,
              "#ed7953"
             ],
             [
              0.7777777777777778,
              "#fb9f3a"
             ],
             [
              0.8888888888888888,
              "#fdca26"
             ],
             [
              1,
              "#f0f921"
             ]
            ],
            "type": "contour"
           }
          ],
          "contourcarpet": [
           {
            "colorbar": {
             "outlinewidth": 0,
             "ticks": ""
            },
            "type": "contourcarpet"
           }
          ],
          "heatmap": [
           {
            "colorbar": {
             "outlinewidth": 0,
             "ticks": ""
            },
            "colorscale": [
             [
              0,
              "#0d0887"
             ],
             [
              0.1111111111111111,
              "#46039f"
             ],
             [
              0.2222222222222222,
              "#7201a8"
             ],
             [
              0.3333333333333333,
              "#9c179e"
             ],
             [
              0.4444444444444444,
              "#bd3786"
             ],
             [
              0.5555555555555556,
              "#d8576b"
             ],
             [
              0.6666666666666666,
              "#ed7953"
             ],
             [
              0.7777777777777778,
              "#fb9f3a"
             ],
             [
              0.8888888888888888,
              "#fdca26"
             ],
             [
              1,
              "#f0f921"
             ]
            ],
            "type": "heatmap"
           }
          ],
          "heatmapgl": [
           {
            "colorbar": {
             "outlinewidth": 0,
             "ticks": ""
            },
            "colorscale": [
             [
              0,
              "#0d0887"
             ],
             [
              0.1111111111111111,
              "#46039f"
             ],
             [
              0.2222222222222222,
              "#7201a8"
             ],
             [
              0.3333333333333333,
              "#9c179e"
             ],
             [
              0.4444444444444444,
              "#bd3786"
             ],
             [
              0.5555555555555556,
              "#d8576b"
             ],
             [
              0.6666666666666666,
              "#ed7953"
             ],
             [
              0.7777777777777778,
              "#fb9f3a"
             ],
             [
              0.8888888888888888,
              "#fdca26"
             ],
             [
              1,
              "#f0f921"
             ]
            ],
            "type": "heatmapgl"
           }
          ],
          "histogram": [
           {
            "marker": {
             "pattern": {
              "fillmode": "overlay",
              "size": 10,
              "solidity": 0.2
             }
            },
            "type": "histogram"
           }
          ],
          "histogram2d": [
           {
            "colorbar": {
             "outlinewidth": 0,
             "ticks": ""
            },
            "colorscale": [
             [
              0,
              "#0d0887"
             ],
             [
              0.1111111111111111,
              "#46039f"
             ],
             [
              0.2222222222222222,
              "#7201a8"
             ],
             [
              0.3333333333333333,
              "#9c179e"
             ],
             [
              0.4444444444444444,
              "#bd3786"
             ],
             [
              0.5555555555555556,
              "#d8576b"
             ],
             [
              0.6666666666666666,
              "#ed7953"
             ],
             [
              0.7777777777777778,
              "#fb9f3a"
             ],
             [
              0.8888888888888888,
              "#fdca26"
             ],
             [
              1,
              "#f0f921"
             ]
            ],
            "type": "histogram2d"
           }
          ],
          "histogram2dcontour": [
           {
            "colorbar": {
             "outlinewidth": 0,
             "ticks": ""
            },
            "colorscale": [
             [
              0,
              "#0d0887"
             ],
             [
              0.1111111111111111,
              "#46039f"
             ],
             [
              0.2222222222222222,
              "#7201a8"
             ],
             [
              0.3333333333333333,
              "#9c179e"
             ],
             [
              0.4444444444444444,
              "#bd3786"
             ],
             [
              0.5555555555555556,
              "#d8576b"
             ],
             [
              0.6666666666666666,
              "#ed7953"
             ],
             [
              0.7777777777777778,
              "#fb9f3a"
             ],
             [
              0.8888888888888888,
              "#fdca26"
             ],
             [
              1,
              "#f0f921"
             ]
            ],
            "type": "histogram2dcontour"
           }
          ],
          "mesh3d": [
           {
            "colorbar": {
             "outlinewidth": 0,
             "ticks": ""
            },
            "type": "mesh3d"
           }
          ],
          "parcoords": [
           {
            "line": {
             "colorbar": {
              "outlinewidth": 0,
              "ticks": ""
             }
            },
            "type": "parcoords"
           }
          ],
          "pie": [
           {
            "automargin": true,
            "type": "pie"
           }
          ],
          "scatter": [
           {
            "marker": {
             "line": {
              "color": "#283442"
             }
            },
            "type": "scatter"
           }
          ],
          "scatter3d": [
           {
            "line": {
             "colorbar": {
              "outlinewidth": 0,
              "ticks": ""
             }
            },
            "marker": {
             "colorbar": {
              "outlinewidth": 0,
              "ticks": ""
             }
            },
            "type": "scatter3d"
           }
          ],
          "scattercarpet": [
           {
            "marker": {
             "colorbar": {
              "outlinewidth": 0,
              "ticks": ""
             }
            },
            "type": "scattercarpet"
           }
          ],
          "scattergeo": [
           {
            "marker": {
             "colorbar": {
              "outlinewidth": 0,
              "ticks": ""
             }
            },
            "type": "scattergeo"
           }
          ],
          "scattergl": [
           {
            "marker": {
             "line": {
              "color": "#283442"
             }
            },
            "type": "scattergl"
           }
          ],
          "scattermapbox": [
           {
            "marker": {
             "colorbar": {
              "outlinewidth": 0,
              "ticks": ""
             }
            },
            "type": "scattermapbox"
           }
          ],
          "scatterpolar": [
           {
            "marker": {
             "colorbar": {
              "outlinewidth": 0,
              "ticks": ""
             }
            },
            "type": "scatterpolar"
           }
          ],
          "scatterpolargl": [
           {
            "marker": {
             "colorbar": {
              "outlinewidth": 0,
              "ticks": ""
             }
            },
            "type": "scatterpolargl"
           }
          ],
          "scatterternary": [
           {
            "marker": {
             "colorbar": {
              "outlinewidth": 0,
              "ticks": ""
             }
            },
            "type": "scatterternary"
           }
          ],
          "surface": [
           {
            "colorbar": {
             "outlinewidth": 0,
             "ticks": ""
            },
            "colorscale": [
             [
              0,
              "#0d0887"
             ],
             [
              0.1111111111111111,
              "#46039f"
             ],
             [
              0.2222222222222222,
              "#7201a8"
             ],
             [
              0.3333333333333333,
              "#9c179e"
             ],
             [
              0.4444444444444444,
              "#bd3786"
             ],
             [
              0.5555555555555556,
              "#d8576b"
             ],
             [
              0.6666666666666666,
              "#ed7953"
             ],
             [
              0.7777777777777778,
              "#fb9f3a"
             ],
             [
              0.8888888888888888,
              "#fdca26"
             ],
             [
              1,
              "#f0f921"
             ]
            ],
            "type": "surface"
           }
          ],
          "table": [
           {
            "cells": {
             "fill": {
              "color": "#506784"
             },
             "line": {
              "color": "rgb(17,17,17)"
             }
            },
            "header": {
             "fill": {
              "color": "#2a3f5f"
             },
             "line": {
              "color": "rgb(17,17,17)"
             }
            },
            "type": "table"
           }
          ]
         },
         "layout": {
          "annotationdefaults": {
           "arrowcolor": "#f2f5fa",
           "arrowhead": 0,
           "arrowwidth": 1
          },
          "autotypenumbers": "strict",
          "coloraxis": {
           "colorbar": {
            "outlinewidth": 0,
            "ticks": ""
           }
          },
          "colorscale": {
           "diverging": [
            [
             0,
             "#8e0152"
            ],
            [
             0.1,
             "#c51b7d"
            ],
            [
             0.2,
             "#de77ae"
            ],
            [
             0.3,
             "#f1b6da"
            ],
            [
             0.4,
             "#fde0ef"
            ],
            [
             0.5,
             "#f7f7f7"
            ],
            [
             0.6,
             "#e6f5d0"
            ],
            [
             0.7,
             "#b8e186"
            ],
            [
             0.8,
             "#7fbc41"
            ],
            [
             0.9,
             "#4d9221"
            ],
            [
             1,
             "#276419"
            ]
           ],
           "sequential": [
            [
             0,
             "#0d0887"
            ],
            [
             0.1111111111111111,
             "#46039f"
            ],
            [
             0.2222222222222222,
             "#7201a8"
            ],
            [
             0.3333333333333333,
             "#9c179e"
            ],
            [
             0.4444444444444444,
             "#bd3786"
            ],
            [
             0.5555555555555556,
             "#d8576b"
            ],
            [
             0.6666666666666666,
             "#ed7953"
            ],
            [
             0.7777777777777778,
             "#fb9f3a"
            ],
            [
             0.8888888888888888,
             "#fdca26"
            ],
            [
             1,
             "#f0f921"
            ]
           ],
           "sequentialminus": [
            [
             0,
             "#0d0887"
            ],
            [
             0.1111111111111111,
             "#46039f"
            ],
            [
             0.2222222222222222,
             "#7201a8"
            ],
            [
             0.3333333333333333,
             "#9c179e"
            ],
            [
             0.4444444444444444,
             "#bd3786"
            ],
            [
             0.5555555555555556,
             "#d8576b"
            ],
            [
             0.6666666666666666,
             "#ed7953"
            ],
            [
             0.7777777777777778,
             "#fb9f3a"
            ],
            [
             0.8888888888888888,
             "#fdca26"
            ],
            [
             1,
             "#f0f921"
            ]
           ]
          },
          "colorway": [
           "#636efa",
           "#EF553B",
           "#00cc96",
           "#ab63fa",
           "#FFA15A",
           "#19d3f3",
           "#FF6692",
           "#B6E880",
           "#FF97FF",
           "#FECB52"
          ],
          "font": {
           "color": "#f2f5fa"
          },
          "geo": {
           "bgcolor": "rgb(17,17,17)",
           "lakecolor": "rgb(17,17,17)",
           "landcolor": "rgb(17,17,17)",
           "showlakes": true,
           "showland": true,
           "subunitcolor": "#506784"
          },
          "hoverlabel": {
           "align": "left"
          },
          "hovermode": "closest",
          "mapbox": {
           "style": "dark"
          },
          "paper_bgcolor": "rgb(17,17,17)",
          "plot_bgcolor": "rgb(17,17,17)",
          "polar": {
           "angularaxis": {
            "gridcolor": "#506784",
            "linecolor": "#506784",
            "ticks": ""
           },
           "bgcolor": "rgb(17,17,17)",
           "radialaxis": {
            "gridcolor": "#506784",
            "linecolor": "#506784",
            "ticks": ""
           }
          },
          "scene": {
           "xaxis": {
            "backgroundcolor": "rgb(17,17,17)",
            "gridcolor": "#506784",
            "gridwidth": 2,
            "linecolor": "#506784",
            "showbackground": true,
            "ticks": "",
            "zerolinecolor": "#C8D4E3"
           },
           "yaxis": {
            "backgroundcolor": "rgb(17,17,17)",
            "gridcolor": "#506784",
            "gridwidth": 2,
            "linecolor": "#506784",
            "showbackground": true,
            "ticks": "",
            "zerolinecolor": "#C8D4E3"
           },
           "zaxis": {
            "backgroundcolor": "rgb(17,17,17)",
            "gridcolor": "#506784",
            "gridwidth": 2,
            "linecolor": "#506784",
            "showbackground": true,
            "ticks": "",
            "zerolinecolor": "#C8D4E3"
           }
          },
          "shapedefaults": {
           "line": {
            "color": "#f2f5fa"
           }
          },
          "sliderdefaults": {
           "bgcolor": "#C8D4E3",
           "bordercolor": "rgb(17,17,17)",
           "borderwidth": 1,
           "tickwidth": 0
          },
          "ternary": {
           "aaxis": {
            "gridcolor": "#506784",
            "linecolor": "#506784",
            "ticks": ""
           },
           "baxis": {
            "gridcolor": "#506784",
            "linecolor": "#506784",
            "ticks": ""
           },
           "bgcolor": "rgb(17,17,17)",
           "caxis": {
            "gridcolor": "#506784",
            "linecolor": "#506784",
            "ticks": ""
           }
          },
          "title": {
           "x": 0.05
          },
          "updatemenudefaults": {
           "bgcolor": "#506784",
           "borderwidth": 0
          },
          "xaxis": {
           "automargin": true,
           "gridcolor": "#283442",
           "linecolor": "#506784",
           "ticks": "",
           "title": {
            "standoff": 15
           },
           "zerolinecolor": "#283442",
           "zerolinewidth": 2
          },
          "yaxis": {
           "automargin": true,
           "gridcolor": "#283442",
           "linecolor": "#506784",
           "ticks": "",
           "title": {
            "standoff": 15
           },
           "zerolinecolor": "#283442",
           "zerolinewidth": 2
          }
         }
        },
        "title": {
         "text": "Points per Game by Position"
        },
        "xaxis": {
         "anchor": "y",
         "categoryarray": [
          "G",
          "F",
          "G-F",
          "C-F",
          "C",
          null,
          "F-C",
          "F-G"
         ],
         "categoryorder": "array",
         "domain": [
          0,
          1
         ],
         "title": {
          "text": "Position"
         }
        },
        "yaxis": {
         "anchor": "x",
         "domain": [
          0,
          1
         ],
         "title": {
          "text": "Points"
         }
        }
       }
      }
     },
     "metadata": {},
     "output_type": "display_data"
    }
   ],
   "source": [
    "px.box(filtered_df,\n",
    "       x = 'POSITION',\n",
    "       y = 'PTS',\n",
    "       color = 'POSITION',\n",
    "       hover_name='PLAYER_NAME',\n",
    "       title = 'Points per Game by Position',\n",
    "       labels = {'PTS':'Points', 'POSITION': 'Position'},\n",
    "       category_orders = {'Pos':('G', 'G-F', 'F-G', 'F', 'F-C', 'C-F', 'C')},\n",
    "       template='plotly_dark')"
   ]
  },
  {
   "cell_type": "code",
   "execution_count": 71,
   "metadata": {},
   "outputs": [
    {
     "data": {
      "application/vnd.plotly.v1+json": {
       "config": {
        "plotlyServerURL": "https://plot.ly"
       },
       "data": [
        {
         "alignmentgroup": "True",
         "hovertemplate": "<b>%{hovertext}</b><br><br>Position=%{x}<br>Contested shots=%{y}<extra></extra>",
         "hovertext": [
          "A.J. Lawson",
          "AJ Green",
          "Aaron Holiday",
          "Aaron Wiggins",
          "Alec Burks",
          "Alex Caruso",
          "Alondes Williams",
          "Anfernee Simons",
          "Anthony Edwards",
          "Austin Reaves",
          "Austin Rivers",
          "Ayo Dosunmu",
          "Blake Wesley",
          "Bogdan Bogdanovic",
          "Bones Hyland",
          "Bradley Beal",
          "Brandon Boston Jr.",
          "Bryce McGowens",
          "Bryn Forbes",
          "Buddy Hield",
          "CJ McCollum",
          "Cade Cunningham",
          "Caleb Houstan",
          "Cam Thomas",
          "Cameron Payne",
          "Caris LeVert",
          "Carlik Jones",
          "Chris Duarte",
          "Chris Paul",
          "Christian Braun",
          "Coby White",
          "Cole Anthony",
          "Collin Sexton",
          "Cory Joseph",
          "D'Angelo Russell",
          "Daishen Nix",
          "Damian Lillard",
          "Danny Green",
          "Darius Garland",
          "David Duke Jr.",
          "Davion Mitchell",
          "Davon Reed",
          "De'Aaron Fox",
          "De'Anthony Melton",
          "Dejounte Murray",
          "Delon Wright",
          "Dennis Smith Jr.",
          "Dereon Seabron",
          "Derrick Rose",
          "Derrick White",
          "Desmond Bane",
          "Devin Booker",
          "Devonte' Graham",
          "Donovan Mitchell",
          "Donovan Williams",
          "Donte DiVincenzo",
          "Dru Smith",
          "Duane Washington Jr.",
          "Dyson Daniels",
          "Edmond Sumner",
          "Eric Gordon",
          "Facundo Campazzo",
          "Frank Jackson",
          "Frank Ntilikina",
          "Fred VanVleet",
          "Gabe Vincent",
          "Gabe York",
          "Garrison Mathews",
          "Gary Harris",
          "Gary Payton II",
          "George Hill",
          "Goran Dragic",
          "Grayson Allen",
          "Hamidou Diallo",
          "Immanuel Quickley",
          "Isaiah Joe",
          "Ish Smith",
          "JD Davison",
          "Ja Morant",
          "Jacob Gilyard",
          "Jaden Hardy",
          "Jaden Ivey",
          "Jaden Springer",
          "Jalen Brunson",
          "Jalen Green",
          "Jalen Suggs",
          "Jamal Murray",
          "Jamaree Bouyea",
          "James Bouknight",
          "James Harden",
          "Jared Butler",
          "Jared Rhoden",
          "Jason Preston",
          "Javonte Green",
          "Jay Scrubb",
          "Jaylen Nowell",
          "Jeenathan Williams",
          "Jeff Dowtin Jr.",
          "Jevon Carter",
          "John Konchar",
          "John Wall",
          "Johnny Davis",
          "Johnny Juzang",
          "Jordan Clarkson",
          "Jordan Goodwin",
          "Jordan Hall",
          "Jordan McLaughlin",
          "Jordan Poole",
          "Jordan Schakel",
          "Jose Alvarado",
          "Josh Christopher",
          "Josh Giddey",
          "Josh Green",
          "Josh Hart",
          "Josh Okogie",
          "Josh Richardson",
          "Jrue Holiday",
          "Kemba Walker",
          "Kendall Brown",
          "Kendrick Nunn",
          "Kennedy Chandler",
          "Kentavious Caldwell-Pope",
          "Keon Ellis",
          "Keon Johnson",
          "Kevon Harris",
          "Killian Hayes",
          "Kira Lewis Jr.",
          "Klay Thompson",
          "Kobi Simmons",
          "Kris Dunn",
          "Kyle Lowry",
          "Kyrie Irving",
          "LaMelo Ball",
          "Landry Shamet",
          "Lester Quinones",
          "Lindell Wigginton",
          "Luguentz Dort",
          "Luke Kennard",
          "Mac McClung",
          "Malachi Flynn",
          "Malcolm Brogdon",
          "Malik Beasley",
          "Malik Monk",
          "Marcus Smart",
          "Markelle Fultz",
          "Matthew Dellavedova",
          "Max Christie",
          "McKinley Wright IV",
          "Michael Carter-Williams",
          "Mike Conley",
          "Miles McBride",
          "Monte Morris",
          "Moses Moody",
          "Nickeil Alexander-Walker",
          "Norman Powell",
          "Ochai Agbaji",
          "Pat Connaughton",
          "Patrick Beverley",
          "Patty Mills",
          "Payton Pritchard",
          "Peyton Watson",
          "Quentin Grimes",
          "Quenton Jackson",
          "R.J. Hampton",
          "Raul Neto",
          "Reggie Jackson",
          "Ricky Rubio",
          "Rodney McGruder",
          "Russell Westbrook",
          "Ryan Arcidiacono",
          "Ryan Rollins",
          "Saben Lee",
          "Sam Merrill",
          "Scotty Pippen Jr.",
          "Seth Curry",
          "Shaedon Sharpe",
          "Shai Gilgeous-Alexander",
          "Shaquille Harrison",
          "Skylar Mays",
          "Spencer Dinwiddie",
          "Stanley Umude",
          "Stephen Curry",
          "T.J. McConnell",
          "Talen Horton-Tucker",
          "Terence Davis",
          "Terry Rozier",
          "Theo Maledon",
          "Trae Young",
          "Tre Jones",
          "Tre Mann",
          "Trent Forrest",
          "Trevelin Queen",
          "Trevor Hudgins",
          "Trevor Keels",
          "TyTy Washington Jr.",
          "Tyler Herro",
          "Tyrese Haliburton",
          "Tyrese Martin",
          "Tyrese Maxey",
          "Tyus Jones",
          "Victor Oladipo",
          "Vince Williams Jr.",
          "Vit Krejci",
          "Wendell Moore Jr.",
          "Wesley Matthews",
          "Will Barton",
          "Xavier Moon",
          "Zach LaVine"
         ],
         "legendgroup": "G",
         "marker": {
          "color": "#636efa"
         },
         "name": "G",
         "notched": false,
         "offsetgroup": "G",
         "orientation": "v",
         "showlegend": true,
         "type": "box",
         "x": [
          "G",
          "G",
          "G",
          "G",
          "G",
          "G",
          "G",
          "G",
          "G",
          "G",
          "G",
          "G",
          "G",
          "G",
          "G",
          "G",
          "G",
          "G",
          "G",
          "G",
          "G",
          "G",
          "G",
          "G",
          "G",
          "G",
          "G",
          "G",
          "G",
          "G",
          "G",
          "G",
          "G",
          "G",
          "G",
          "G",
          "G",
          "G",
          "G",
          "G",
          "G",
          "G",
          "G",
          "G",
          "G",
          "G",
          "G",
          "G",
          "G",
          "G",
          "G",
          "G",
          "G",
          "G",
          "G",
          "G",
          "G",
          "G",
          "G",
          "G",
          "G",
          "G",
          "G",
          "G",
          "G",
          "G",
          "G",
          "G",
          "G",
          "G",
          "G",
          "G",
          "G",
          "G",
          "G",
          "G",
          "G",
          "G",
          "G",
          "G",
          "G",
          "G",
          "G",
          "G",
          "G",
          "G",
          "G",
          "G",
          "G",
          "G",
          "G",
          "G",
          "G",
          "G",
          "G",
          "G",
          "G",
          "G",
          "G",
          "G",
          "G",
          "G",
          "G",
          "G",
          "G",
          "G",
          "G",
          "G",
          "G",
          "G",
          "G",
          "G",
          "G",
          "G",
          "G",
          "G",
          "G",
          "G",
          "G",
          "G",
          "G",
          "G",
          "G",
          "G",
          "G",
          "G",
          "G",
          "G",
          "G",
          "G",
          "G",
          "G",
          "G",
          "G",
          "G",
          "G",
          "G",
          "G",
          "G",
          "G",
          "G",
          "G",
          "G",
          "G",
          "G",
          "G",
          "G",
          "G",
          "G",
          "G",
          "G",
          "G",
          "G",
          "G",
          "G",
          "G",
          "G",
          "G",
          "G",
          "G",
          "G",
          "G",
          "G",
          "G",
          "G",
          "G",
          "G",
          "G",
          "G",
          "G",
          "G",
          "G",
          "G",
          "G",
          "G",
          "G",
          "G",
          "G",
          "G",
          "G",
          "G",
          "G",
          "G",
          "G",
          "G",
          "G",
          "G",
          "G",
          "G",
          "G",
          "G",
          "G",
          "G",
          "G",
          "G",
          "G",
          "G",
          "G",
          "G",
          "G",
          "G",
          "G",
          "G",
          "G",
          "G",
          "G",
          "G",
          "G"
         ],
         "x0": " ",
         "xaxis": "x",
         "y": [
          0.93,
          1.29,
          1.84,
          4.73,
          3,
          5.28,
          0,
          4.56,
          4.53,
          5.27,
          2.06,
          5.2,
          1.78,
          6.09,
          2.43,
          4.42,
          1.59,
          1.85,
          0.8,
          5.53,
          5.25,
          6.83,
          2.65,
          2.42,
          2.04,
          3.99,
          1.29,
          3.74,
          2.76,
          3.13,
          4.49,
          3.55,
          2.65,
          3.48,
          3.83,
          1.61,
          2.83,
          2.09,
          3.48,
          1.35,
          2.81,
          1.35,
          4.95,
          3.96,
          3.47,
          2.72,
          4.69,
          0.4,
          2.04,
          6.18,
          4.95,
          4.32,
          1.6,
          3.5,
          0,
          3.83,
          2,
          1.61,
          4.63,
          1.47,
          1.86,
          0.75,
          0,
          2.43,
          4.14,
          4.1,
          1,
          1.74,
          2.42,
          2.5,
          2.52,
          1.78,
          3.46,
          2.82,
          5.27,
          2.74,
          0.95,
          0.67,
          3.11,
          1,
          2.02,
          3.86,
          0.88,
          5.25,
          3.8,
          4.47,
          5.22,
          1.8,
          2.38,
          4.5,
          1.17,
          1.79,
          1.07,
          3.09,
          1.5,
          1.88,
          3,
          0.8,
          2.17,
          3.69,
          1.88,
          1.64,
          1.5,
          4.11,
          3.31,
          1.78,
          2,
          3.56,
          0,
          2.16,
          1.41,
          4.55,
          2.82,
          4.86,
          2.9,
          2.31,
          4.88,
          1.22,
          1.5,
          1.96,
          0.69,
          2.32,
          0.38,
          1.15,
          2.12,
          4.62,
          1.36,
          4.06,
          1.6,
          4.18,
          3.31,
          4.62,
          3.19,
          3.38,
          1.25,
          1.43,
          5.11,
          3.32,
          2.5,
          1.79,
          3.84,
          2.58,
          2.99,
          4.15,
          3.98,
          0.5,
          3.1,
          1.93,
          1.25,
          3.16,
          2.34,
          2.58,
          2.52,
          2.03,
          3.38,
          4.07,
          4.16,
          3.4,
          1.2,
          1.94,
          1.96,
          5.03,
          0.89,
          2.02,
          1.88,
          4.1,
          2.06,
          1.94,
          3.56,
          0.7,
          0.67,
          1.68,
          1.2,
          0.33,
          1.95,
          3.3,
          6.9,
          2.8,
          3.83,
          4.25,
          1,
          4.71,
          2.03,
          2.38,
          1.97,
          3.4,
          3.25,
          1.64,
          3.93,
          2.54,
          2.13,
          1.71,
          0.4,
          0,
          1.52,
          4.6,
          3.63,
          0.63,
          3.45,
          1.6,
          3.81,
          0.93,
          1.31,
          0.48,
          2.19,
          1.84,
          0,
          5.68
         ],
         "y0": " ",
         "yaxis": "y"
        },
        {
         "alignmentgroup": "True",
         "hovertemplate": "<b>%{hovertext}</b><br><br>Position=%{x}<br>Contested shots=%{y}<extra></extra>",
         "hovertext": [
          "AJ Griffin",
          "Aaron Gordon",
          "Admiral Schofield",
          "Aleksej Pokusevski",
          "Andrew Wiggins",
          "Anthony Gill",
          "Anthony Lamb",
          "Blake Griffin",
          "Bobby Portis",
          "Bojan Bogdanovic",
          "Brandon Clarke",
          "Brandon Ingram",
          "Braxton Key",
          "Buddy Boeheim",
          "Caleb Martin",
          "Cameron Johnson",
          "Cedi Osman",
          "Chima Moneke",
          "Chris Silva",
          "Christian Wood",
          "Chuma Okeke",
          "Cody Martin",
          "Cole Swider",
          "Corey Kispert",
          "Dalano Banton",
          "Dalen Terry",
          "Darius Bazley",
          "Darius Days",
          "David Roddy",
          "Davis Bertans",
          "Deni Avdija",
          "Derrick Jones Jr.",
          "Dominick Barlow",
          "Dorian Finney-Smith",
          "Doug McDermott",
          "Draymond Green",
          "Duncan Robinson",
          "Eugene Omoruyi",
          "Franz Wagner",
          "Georges Niang",
          "Giannis Antetokounmpo",
          "Gordon Hayward",
          "Grant Williams",
          "Greg Brown III",
          "Harrison Barnes",
          "Haywood Highsmith",
          "Herbert Jones",
          "Isaiah Jackson",
          "Isaiah Livers",
          "Isaiah Mobley",
          "Isaiah Todd",
          "Ish Wainright",
          "JT Thor",
          "Jabari Smith Jr.",
          "Jabari Walker",
          "Jack White",
          "Jaden McDaniels",
          "Jae Crowder",
          "Jae'Sean Tate",
          "Jake LaRavia",
          "Jalen Johnson",
          "Jamal Cain",
          "James Johnson",
          "Jarred Vanderbilt",
          "Jarrell Brantley",
          "Jaylin Williams",
          "Jeff Green",
          "Jerami Grant",
          "Jeremiah Robinson-Earl",
          "Jeremy Sochan",
          "Jimmy Butler",
          "John Butler Jr.",
          "Jonathan Isaac",
          "Jonathan Kuminga",
          "Jordan Nwora",
          "Josh Minott",
          "Juan Toscano-Anderson",
          "Juancho Hernangomez",
          "Julian Champagnie",
          "Justin Jackson",
          "Justin Minaya",
          "Kawhi Leonard",
          "Keegan Murray",
          "Keita Bates-Diop",
          "Kenneth Lofton Jr.",
          "Kenyon Martin Jr.",
          "Kessler Edwards",
          "Kevin Durant",
          "Kevin Knox II",
          "Kevon Looney",
          "Khris Middleton",
          "Kyle Kuzma",
          "Lamar Stevens",
          "LeBron James",
          "Leandro Bolmaro",
          "Lindy Waters III",
          "Louis King",
          "Luka Samanic",
          "Malaki Branham",
          "Malcolm Hill",
          "Mamadi Diakite",
          "MarJon Beauchamp",
          "Marcus Morris Sr.",
          "Markieff Morris",
          "Marvin Bagley III",
          "Matt Ryan",
          "Maxi Kleber",
          "Michael Foster Jr.",
          "Michael Porter Jr.",
          "Moussa Diabate",
          "Naji Marshall",
          "Nikola Jovic",
          "Noah Vonleh",
          "O.G. Anunoby",
          "Obi Toppin",
          "Otto Porter Jr.",
          "Ousmane Dieng",
          "P.J. Tucker",
          "P.J. Washington",
          "Paolo Banchero",
          "Pascal Siakam",
          "Patrick Baldwin Jr.",
          "Patrick Williams",
          "Paul George",
          "Paul Reed",
          "Precious Achiuwa",
          "RaiQuan Gray",
          "Richaun Holmes",
          "Robert Covington",
          "Ron Harper Jr.",
          "Royce O'Neale",
          "Rui Hachimura",
          "Saddiq Bey",
          "Sam Hauser",
          "Scottie Barnes",
          "Simone Fontecchio",
          "T.J. Warren",
          "Taj Gibson",
          "Tari Eason",
          "Taurean Prince",
          "Terry Taylor",
          "Thaddeus Young",
          "Thanasis Antetokounmpo",
          "Tobias Harris",
          "Torrey Craig",
          "Trendon Watford",
          "Trey Lyles",
          "Trey Murphy III",
          "Udonis Haslem",
          "Usman Garuba",
          "Vlatko Cancar",
          "Wenyen Gabriel",
          "Xavier Cooks",
          "Xavier Sneed",
          "Xavier Tillman",
          "Ziaire Williams",
          "Zion Williamson"
         ],
         "legendgroup": "F",
         "marker": {
          "color": "#EF553B"
         },
         "name": "F",
         "notched": false,
         "offsetgroup": "F",
         "orientation": "v",
         "showlegend": true,
         "type": "box",
         "x": [
          "F",
          "F",
          "F",
          "F",
          "F",
          "F",
          "F",
          "F",
          "F",
          "F",
          "F",
          "F",
          "F",
          "F",
          "F",
          "F",
          "F",
          "F",
          "F",
          "F",
          "F",
          "F",
          "F",
          "F",
          "F",
          "F",
          "F",
          "F",
          "F",
          "F",
          "F",
          "F",
          "F",
          "F",
          "F",
          "F",
          "F",
          "F",
          "F",
          "F",
          "F",
          "F",
          "F",
          "F",
          "F",
          "F",
          "F",
          "F",
          "F",
          "F",
          "F",
          "F",
          "F",
          "F",
          "F",
          "F",
          "F",
          "F",
          "F",
          "F",
          "F",
          "F",
          "F",
          "F",
          "F",
          "F",
          "F",
          "F",
          "F",
          "F",
          "F",
          "F",
          "F",
          "F",
          "F",
          "F",
          "F",
          "F",
          "F",
          "F",
          "F",
          "F",
          "F",
          "F",
          "F",
          "F",
          "F",
          "F",
          "F",
          "F",
          "F",
          "F",
          "F",
          "F",
          "F",
          "F",
          "F",
          "F",
          "F",
          "F",
          "F",
          "F",
          "F",
          "F",
          "F",
          "F",
          "F",
          "F",
          "F",
          "F",
          "F",
          "F",
          "F",
          "F",
          "F",
          "F",
          "F",
          "F",
          "F",
          "F",
          "F",
          "F",
          "F",
          "F",
          "F",
          "F",
          "F",
          "F",
          "F",
          "F",
          "F",
          "F",
          "F",
          "F",
          "F",
          "F",
          "F",
          "F",
          "F",
          "F",
          "F",
          "F",
          "F",
          "F",
          "F",
          "F",
          "F",
          "F",
          "F",
          "F",
          "F",
          "F",
          "F",
          "F",
          "F",
          "F",
          "F"
         ],
         "x0": " ",
         "xaxis": "x",
         "y": [
          2.88,
          5.5,
          2.46,
          7,
          7.97,
          2.25,
          5.4,
          3.76,
          5.54,
          4.69,
          4.8,
          5.87,
          1,
          1.1,
          4.44,
          5.19,
          2.47,
          1.5,
          2,
          7.67,
          3.63,
          2.86,
          1.14,
          4.55,
          1.94,
          0.92,
          5.05,
          0.75,
          3.3,
          2.71,
          5.46,
          3.27,
          5.07,
          6.11,
          2.75,
          10.07,
          2.02,
          2.85,
          5.65,
          3.26,
          6.57,
          5.06,
          4.58,
          0.75,
          6.55,
          3.52,
          6.15,
          6.63,
          6.08,
          1.67,
          1.83,
          2.07,
          3.49,
          7.68,
          2.25,
          0.76,
          7.06,
          2.61,
          4.26,
          2.69,
          2.97,
          1.83,
          1.67,
          4.27,
          2.25,
          5.94,
          4.46,
          4.9,
          5.35,
          5.88,
          3.22,
          3.32,
          1.64,
          4.76,
          2.98,
          1.87,
          2.6,
          2.5,
          2.76,
          0.96,
          2.5,
          5.65,
          5.41,
          3.82,
          1.5,
          3.95,
          2.56,
          8.19,
          2.65,
          9.43,
          3.18,
          5.16,
          4.35,
          4.05,
          0.57,
          3.34,
          2,
          4,
          2.91,
          0.4,
          3.05,
          1.96,
          3.12,
          2.17,
          7.05,
          1.91,
          9.49,
          0,
          3.65,
          3.23,
          3.26,
          2.73,
          2.26,
          6.48,
          2.49,
          1.63,
          3.33,
          4.27,
          7.14,
          6.57,
          6.39,
          1.29,
          5.5,
          5.71,
          4.35,
          6.13,
          9,
          2.07,
          3.44,
          0.56,
          4.74,
          4.35,
          3.26,
          3.06,
          6.91,
          2,
          1.64,
          2,
          4.38,
          2.81,
          1.58,
          3.3,
          1.41,
          3.69,
          5.34,
          4.21,
          3.72,
          5.23,
          2.43,
          4.03,
          2.8,
          5.85,
          3.2,
          2.5,
          6.18,
          3.35,
          4.76
         ],
         "y0": " ",
         "yaxis": "y"
        },
        {
         "alignmentgroup": "True",
         "hovertemplate": "<b>%{hovertext}</b><br><br>Position=%{x}<br>Contested shots=%{y}<extra></extra>",
         "hovertext": [
          "Aaron Nesmith",
          "Amir Coffey",
          "Andre Iguodala",
          "Andrew Nembhard",
          "Ben Simmons",
          "Bennedict Mathurin",
          "Bruce Brown",
          "Damion Lee",
          "DeMar DeRozan",
          "Devin Vassell",
          "Dillon Brooks",
          "Dylan Windler",
          "Evan Fournier",
          "Furkan Korkmaz",
          "Garrett Temple",
          "Gary Trent Jr.",
          "Jalen Williams",
          "Jarrett Culver",
          "Jaylen Brown",
          "Joe Harris",
          "Joe Wieskamp",
          "Justin Champagnie",
          "Kenrich Williams",
          "Kevin Huerter",
          "Kevin Porter Jr.",
          "Lonnie Walker IV",
          "Matisse Thybulle",
          "Max Strus",
          "Mikal Bridges",
          "Nicolas Batum",
          "PJ Dozier",
          "Reggie Bullock",
          "Romeo Langford",
          "Shake Milton",
          "Sterling Brown",
          "Svi Mykhailiuk",
          "Terance Mann",
          "Terrence Ross",
          "Theo Pinson",
          "Tim Hardaway Jr.",
          "Troy Brown Jr.",
          "Ty Jerome",
          "Yuta Watanabe"
         ],
         "legendgroup": "G-F",
         "marker": {
          "color": "#00cc96"
         },
         "name": "G-F",
         "notched": false,
         "offsetgroup": "G-F",
         "orientation": "v",
         "showlegend": true,
         "type": "box",
         "x": [
          "G-F",
          "G-F",
          "G-F",
          "G-F",
          "G-F",
          "G-F",
          "G-F",
          "G-F",
          "G-F",
          "G-F",
          "G-F",
          "G-F",
          "G-F",
          "G-F",
          "G-F",
          "G-F",
          "G-F",
          "G-F",
          "G-F",
          "G-F",
          "G-F",
          "G-F",
          "G-F",
          "G-F",
          "G-F",
          "G-F",
          "G-F",
          "G-F",
          "G-F",
          "G-F",
          "G-F",
          "G-F",
          "G-F",
          "G-F",
          "G-F",
          "G-F",
          "G-F",
          "G-F",
          "G-F",
          "G-F",
          "G-F",
          "G-F",
          "G-F"
         ],
         "x0": " ",
         "xaxis": "x",
         "y": [
          5.42,
          1.52,
          2.75,
          3.6,
          3.88,
          2.99,
          5.03,
          2.54,
          4.85,
          3.45,
          3.84,
          0.67,
          2.07,
          0.92,
          0.88,
          2.26,
          4.73,
          2.9,
          5.06,
          3.91,
          1.11,
          0.2,
          3.66,
          4.93,
          4.93,
          4.34,
          1.89,
          4.79,
          5.33,
          4.76,
          0.69,
          2.94,
          2.67,
          2.26,
          0.25,
          2.34,
          2.9,
          2.87,
          0.95,
          3.94,
          4.74,
          2.36,
          4.36
         ],
         "y0": " ",
         "yaxis": "y"
        },
        {
         "alignmentgroup": "True",
         "hovertemplate": "<b>%{hovertext}</b><br><br>Position=%{x}<br>Contested shots=%{y}<extra></extra>",
         "hovertext": [
          "Al Horford",
          "Bam Adebayo",
          "Bol Bol",
          "Charles Bassey",
          "Goga Bitadze",
          "Isaiah Hartenstein",
          "JaVale McGee",
          "Jaxson Hayes",
          "Joel Embiid",
          "Kai Jones",
          "Karl-Anthony Towns",
          "Luke Kornet",
          "Mitchell Robinson",
          "Myles Turner",
          "Naz Reid",
          "Robert Williams III",
          "Thomas Bryant",
          "Udoka Azubuike",
          "Wendell Carter Jr.",
          "Willy Hernangomez"
         ],
         "legendgroup": "C-F",
         "marker": {
          "color": "#ab63fa"
         },
         "name": "C-F",
         "notched": false,
         "offsetgroup": "C-F",
         "orientation": "v",
         "showlegend": true,
         "type": "box",
         "x": [
          "C-F",
          "C-F",
          "C-F",
          "C-F",
          "C-F",
          "C-F",
          "C-F",
          "C-F",
          "C-F",
          "C-F",
          "C-F",
          "C-F",
          "C-F",
          "C-F",
          "C-F",
          "C-F",
          "C-F",
          "C-F",
          "C-F",
          "C-F"
         ],
         "x0": " ",
         "xaxis": "x",
         "y": [
          10.1,
          7.41,
          5.99,
          3.66,
          3.32,
          5.94,
          2.88,
          3.21,
          10.23,
          3,
          7.83,
          5.3,
          8.81,
          10.76,
          5.88,
          7.31,
          6.07,
          3.11,
          7.7,
          2.87
         ],
         "y0": " ",
         "yaxis": "y"
        },
        {
         "alignmentgroup": "True",
         "hovertemplate": "<b>%{hovertext}</b><br><br>Position=%{x}<br>Contested shots=%{y}<extra></extra>",
         "hovertext": [
          "Alex Len",
          "Alperen Sengun",
          "Andre Drummond",
          "Bismack Biyombo",
          "Boban Marjanovic",
          "Brook Lopez",
          "Chance Comanche",
          "Christian Koloko",
          "Clint Capela",
          "Damian Jones",
          "Day'Ron Sharpe",
          "DeAndre Jordan",
          "Deandre Ayton",
          "Dewayne Dedmon",
          "Evan Mobley",
          "Gorgui Dieng",
          "Ivica Zubac",
          "Jakob Poeltl",
          "Jalen Duren",
          "James Wiseman",
          "Jarrett Allen",
          "Jay Huff",
          "Jericho Sims",
          "Jock Landale",
          "Jonas Valanciunas",
          "Jusuf Nurkic",
          "Khem Birch",
          "Luka Garza",
          "Mark Williams",
          "Marko Simonovic",
          "Mfiondu Kabengele",
          "Micah Potter",
          "Mo Bamba",
          "Moses Brown",
          "Neemias Queta",
          "Nic Claxton",
          "Nick Richards",
          "Nikola Jokic",
          "Nikola Vucevic",
          "Olivier Sarr",
          "Omer Yurtseven",
          "Orlando Robinson",
          "Robin Lopez",
          "Rudy Gobert",
          "Steven Adams",
          "Vernon Carey Jr.",
          "Walker Kessler"
         ],
         "legendgroup": "C",
         "marker": {
          "color": "#FFA15A"
         },
         "name": "C",
         "notched": false,
         "offsetgroup": "C",
         "orientation": "v",
         "showlegend": true,
         "type": "box",
         "x": [
          "C",
          "C",
          "C",
          "C",
          "C",
          "C",
          "C",
          "C",
          "C",
          "C",
          "C",
          "C",
          "C",
          "C",
          "C",
          "C",
          "C",
          "C",
          "C",
          "C",
          "C",
          "C",
          "C",
          "C",
          "C",
          "C",
          "C",
          "C",
          "C",
          "C",
          "C",
          "C",
          "C",
          "C",
          "C",
          "C",
          "C",
          "C",
          "C",
          "C",
          "C",
          "C",
          "C",
          "C",
          "C",
          "C",
          "C"
         ],
         "x0": " ",
         "xaxis": "x",
         "y": [
          2.77,
          8.37,
          3.76,
          5.7,
          1.32,
          17.45,
          3,
          5.36,
          9.18,
          4.07,
          4.29,
          3.41,
          9.58,
          3.53,
          11.34,
          3.23,
          11.43,
          9.35,
          8.04,
          6.76,
          11.12,
          5.71,
          5.08,
          5.16,
          6.63,
          8.94,
          2.95,
          2.71,
          6.72,
          0.43,
          3,
          2,
          5.12,
          3.53,
          1.4,
          12.07,
          6.4,
          8.49,
          8.2,
          4.56,
          2.44,
          3.68,
          3.43,
          10.11,
          8.81,
          0.91,
          10.81
         ],
         "y0": " ",
         "yaxis": "y"
        },
        {
         "alignmentgroup": "True",
         "hovertemplate": "<b>%{hovertext}</b><br><br>Position=%{x}<br>Contested shots=%{y}<extra></extra>",
         "hovertext": [
          "Anthony Davis",
          "Bruno Fernando",
          "Chimezie Metu",
          "Chris Boucher",
          "Cody Zeller",
          "Daniel Gafford",
          "Daniel Theis",
          "Dario Saric",
          "Dean Wade",
          "Domantas Sabonis",
          "Drew Eubanks",
          "Dwight Powell",
          "Frank Kaminsky",
          "Isaiah Stewart",
          "JaMychal Green",
          "Jalen McDaniels",
          "Jalen Smith",
          "Jaren Jackson Jr.",
          "John Collins",
          "Julius Randle",
          "Kelly Olynyk",
          "Kevin Love",
          "Kristaps Porzingis",
          "Larry Nance Jr.",
          "Lauri Markkanen",
          "Mason Plumlee",
          "Meyers Leonard",
          "Mike Muscala",
          "Montrezl Harrell",
          "Moritz Wagner",
          "Nathan Knight",
          "Onyeka Okongwu",
          "Sandro Mamukelashvili",
          "Santi Aldama",
          "Zach Collins",
          "Zeke Nnaji"
         ],
         "legendgroup": "F-C",
         "marker": {
          "color": "#FF6692"
         },
         "name": "F-C",
         "notched": false,
         "offsetgroup": "F-C",
         "orientation": "v",
         "showlegend": true,
         "type": "box",
         "x": [
          "F-C",
          "F-C",
          "F-C",
          "F-C",
          "F-C",
          "F-C",
          "F-C",
          "F-C",
          "F-C",
          "F-C",
          "F-C",
          "F-C",
          "F-C",
          "F-C",
          "F-C",
          "F-C",
          "F-C",
          "F-C",
          "F-C",
          "F-C",
          "F-C",
          "F-C",
          "F-C",
          "F-C",
          "F-C",
          "F-C",
          "F-C",
          "F-C",
          "F-C",
          "F-C",
          "F-C",
          "F-C",
          "F-C",
          "F-C",
          "F-C",
          "F-C"
         ],
         "x0": " ",
         "xaxis": "x",
         "y": [
          10.59,
          3.33,
          3.35,
          4.68,
          3.93,
          7.27,
          4.43,
          3.23,
          4.57,
          9.49,
          6.17,
          7.43,
          1.75,
          10.8,
          3.32,
          4.91,
          6.09,
          10.84,
          8.82,
          5.77,
          6.93,
          2.97,
          11.28,
          3.86,
          7.26,
          5.99,
          5.11,
          4.97,
          3.95,
          4.16,
          2.42,
          8.11,
          3.91,
          6.49,
          10.14,
          3.79
         ],
         "y0": " ",
         "yaxis": "y"
        },
        {
         "alignmentgroup": "True",
         "hovertemplate": "<b>%{hovertext}</b><br><br>Position=%{x}<br>Contested shots=%{y}<extra></extra>",
         "hovertext": [
          "Cam Reddish",
          "Danuel House Jr.",
          "De'Andre Hunter",
          "Isaac Okoro",
          "Jayson Tatum",
          "Joe Ingles",
          "Justin Holiday",
          "Justise Winslow",
          "KZ Okpala",
          "Keldon Johnson",
          "Kelly Oubre Jr.",
          "Kyle Anderson",
          "Luka Doncic",
          "Nassir Little",
          "Oshae Brissett",
          "RJ Barrett",
          "Rudy Gay",
          "Stanley Johnson"
         ],
         "legendgroup": "F-G",
         "marker": {
          "color": "#B6E880"
         },
         "name": "F-G",
         "notched": false,
         "offsetgroup": "F-G",
         "orientation": "v",
         "showlegend": true,
         "type": "box",
         "x": [
          "F-G",
          "F-G",
          "F-G",
          "F-G",
          "F-G",
          "F-G",
          "F-G",
          "F-G",
          "F-G",
          "F-G",
          "F-G",
          "F-G",
          "F-G",
          "F-G",
          "F-G",
          "F-G",
          "F-G",
          "F-G"
         ],
         "x0": " ",
         "xaxis": "x",
         "y": [
          4.95,
          2.38,
          5.7,
          3.59,
          5.16,
          2.33,
          2.7,
          3.52,
          1.89,
          4.37,
          4.02,
          4.96,
          5.03,
          3.54,
          2.03,
          5.32,
          2.36,
          2.6
         ],
         "y0": " ",
         "yaxis": "y"
        }
       ],
       "layout": {
        "boxmode": "overlay",
        "legend": {
         "title": {
          "text": "Position"
         },
         "tracegroupgap": 0
        },
        "template": {
         "data": {
          "bar": [
           {
            "error_x": {
             "color": "#f2f5fa"
            },
            "error_y": {
             "color": "#f2f5fa"
            },
            "marker": {
             "line": {
              "color": "rgb(17,17,17)",
              "width": 0.5
             },
             "pattern": {
              "fillmode": "overlay",
              "size": 10,
              "solidity": 0.2
             }
            },
            "type": "bar"
           }
          ],
          "barpolar": [
           {
            "marker": {
             "line": {
              "color": "rgb(17,17,17)",
              "width": 0.5
             },
             "pattern": {
              "fillmode": "overlay",
              "size": 10,
              "solidity": 0.2
             }
            },
            "type": "barpolar"
           }
          ],
          "carpet": [
           {
            "aaxis": {
             "endlinecolor": "#A2B1C6",
             "gridcolor": "#506784",
             "linecolor": "#506784",
             "minorgridcolor": "#506784",
             "startlinecolor": "#A2B1C6"
            },
            "baxis": {
             "endlinecolor": "#A2B1C6",
             "gridcolor": "#506784",
             "linecolor": "#506784",
             "minorgridcolor": "#506784",
             "startlinecolor": "#A2B1C6"
            },
            "type": "carpet"
           }
          ],
          "choropleth": [
           {
            "colorbar": {
             "outlinewidth": 0,
             "ticks": ""
            },
            "type": "choropleth"
           }
          ],
          "contour": [
           {
            "colorbar": {
             "outlinewidth": 0,
             "ticks": ""
            },
            "colorscale": [
             [
              0,
              "#0d0887"
             ],
             [
              0.1111111111111111,
              "#46039f"
             ],
             [
              0.2222222222222222,
              "#7201a8"
             ],
             [
              0.3333333333333333,
              "#9c179e"
             ],
             [
              0.4444444444444444,
              "#bd3786"
             ],
             [
              0.5555555555555556,
              "#d8576b"
             ],
             [
              0.6666666666666666,
              "#ed7953"
             ],
             [
              0.7777777777777778,
              "#fb9f3a"
             ],
             [
              0.8888888888888888,
              "#fdca26"
             ],
             [
              1,
              "#f0f921"
             ]
            ],
            "type": "contour"
           }
          ],
          "contourcarpet": [
           {
            "colorbar": {
             "outlinewidth": 0,
             "ticks": ""
            },
            "type": "contourcarpet"
           }
          ],
          "heatmap": [
           {
            "colorbar": {
             "outlinewidth": 0,
             "ticks": ""
            },
            "colorscale": [
             [
              0,
              "#0d0887"
             ],
             [
              0.1111111111111111,
              "#46039f"
             ],
             [
              0.2222222222222222,
              "#7201a8"
             ],
             [
              0.3333333333333333,
              "#9c179e"
             ],
             [
              0.4444444444444444,
              "#bd3786"
             ],
             [
              0.5555555555555556,
              "#d8576b"
             ],
             [
              0.6666666666666666,
              "#ed7953"
             ],
             [
              0.7777777777777778,
              "#fb9f3a"
             ],
             [
              0.8888888888888888,
              "#fdca26"
             ],
             [
              1,
              "#f0f921"
             ]
            ],
            "type": "heatmap"
           }
          ],
          "heatmapgl": [
           {
            "colorbar": {
             "outlinewidth": 0,
             "ticks": ""
            },
            "colorscale": [
             [
              0,
              "#0d0887"
             ],
             [
              0.1111111111111111,
              "#46039f"
             ],
             [
              0.2222222222222222,
              "#7201a8"
             ],
             [
              0.3333333333333333,
              "#9c179e"
             ],
             [
              0.4444444444444444,
              "#bd3786"
             ],
             [
              0.5555555555555556,
              "#d8576b"
             ],
             [
              0.6666666666666666,
              "#ed7953"
             ],
             [
              0.7777777777777778,
              "#fb9f3a"
             ],
             [
              0.8888888888888888,
              "#fdca26"
             ],
             [
              1,
              "#f0f921"
             ]
            ],
            "type": "heatmapgl"
           }
          ],
          "histogram": [
           {
            "marker": {
             "pattern": {
              "fillmode": "overlay",
              "size": 10,
              "solidity": 0.2
             }
            },
            "type": "histogram"
           }
          ],
          "histogram2d": [
           {
            "colorbar": {
             "outlinewidth": 0,
             "ticks": ""
            },
            "colorscale": [
             [
              0,
              "#0d0887"
             ],
             [
              0.1111111111111111,
              "#46039f"
             ],
             [
              0.2222222222222222,
              "#7201a8"
             ],
             [
              0.3333333333333333,
              "#9c179e"
             ],
             [
              0.4444444444444444,
              "#bd3786"
             ],
             [
              0.5555555555555556,
              "#d8576b"
             ],
             [
              0.6666666666666666,
              "#ed7953"
             ],
             [
              0.7777777777777778,
              "#fb9f3a"
             ],
             [
              0.8888888888888888,
              "#fdca26"
             ],
             [
              1,
              "#f0f921"
             ]
            ],
            "type": "histogram2d"
           }
          ],
          "histogram2dcontour": [
           {
            "colorbar": {
             "outlinewidth": 0,
             "ticks": ""
            },
            "colorscale": [
             [
              0,
              "#0d0887"
             ],
             [
              0.1111111111111111,
              "#46039f"
             ],
             [
              0.2222222222222222,
              "#7201a8"
             ],
             [
              0.3333333333333333,
              "#9c179e"
             ],
             [
              0.4444444444444444,
              "#bd3786"
             ],
             [
              0.5555555555555556,
              "#d8576b"
             ],
             [
              0.6666666666666666,
              "#ed7953"
             ],
             [
              0.7777777777777778,
              "#fb9f3a"
             ],
             [
              0.8888888888888888,
              "#fdca26"
             ],
             [
              1,
              "#f0f921"
             ]
            ],
            "type": "histogram2dcontour"
           }
          ],
          "mesh3d": [
           {
            "colorbar": {
             "outlinewidth": 0,
             "ticks": ""
            },
            "type": "mesh3d"
           }
          ],
          "parcoords": [
           {
            "line": {
             "colorbar": {
              "outlinewidth": 0,
              "ticks": ""
             }
            },
            "type": "parcoords"
           }
          ],
          "pie": [
           {
            "automargin": true,
            "type": "pie"
           }
          ],
          "scatter": [
           {
            "marker": {
             "line": {
              "color": "#283442"
             }
            },
            "type": "scatter"
           }
          ],
          "scatter3d": [
           {
            "line": {
             "colorbar": {
              "outlinewidth": 0,
              "ticks": ""
             }
            },
            "marker": {
             "colorbar": {
              "outlinewidth": 0,
              "ticks": ""
             }
            },
            "type": "scatter3d"
           }
          ],
          "scattercarpet": [
           {
            "marker": {
             "colorbar": {
              "outlinewidth": 0,
              "ticks": ""
             }
            },
            "type": "scattercarpet"
           }
          ],
          "scattergeo": [
           {
            "marker": {
             "colorbar": {
              "outlinewidth": 0,
              "ticks": ""
             }
            },
            "type": "scattergeo"
           }
          ],
          "scattergl": [
           {
            "marker": {
             "line": {
              "color": "#283442"
             }
            },
            "type": "scattergl"
           }
          ],
          "scattermapbox": [
           {
            "marker": {
             "colorbar": {
              "outlinewidth": 0,
              "ticks": ""
             }
            },
            "type": "scattermapbox"
           }
          ],
          "scatterpolar": [
           {
            "marker": {
             "colorbar": {
              "outlinewidth": 0,
              "ticks": ""
             }
            },
            "type": "scatterpolar"
           }
          ],
          "scatterpolargl": [
           {
            "marker": {
             "colorbar": {
              "outlinewidth": 0,
              "ticks": ""
             }
            },
            "type": "scatterpolargl"
           }
          ],
          "scatterternary": [
           {
            "marker": {
             "colorbar": {
              "outlinewidth": 0,
              "ticks": ""
             }
            },
            "type": "scatterternary"
           }
          ],
          "surface": [
           {
            "colorbar": {
             "outlinewidth": 0,
             "ticks": ""
            },
            "colorscale": [
             [
              0,
              "#0d0887"
             ],
             [
              0.1111111111111111,
              "#46039f"
             ],
             [
              0.2222222222222222,
              "#7201a8"
             ],
             [
              0.3333333333333333,
              "#9c179e"
             ],
             [
              0.4444444444444444,
              "#bd3786"
             ],
             [
              0.5555555555555556,
              "#d8576b"
             ],
             [
              0.6666666666666666,
              "#ed7953"
             ],
             [
              0.7777777777777778,
              "#fb9f3a"
             ],
             [
              0.8888888888888888,
              "#fdca26"
             ],
             [
              1,
              "#f0f921"
             ]
            ],
            "type": "surface"
           }
          ],
          "table": [
           {
            "cells": {
             "fill": {
              "color": "#506784"
             },
             "line": {
              "color": "rgb(17,17,17)"
             }
            },
            "header": {
             "fill": {
              "color": "#2a3f5f"
             },
             "line": {
              "color": "rgb(17,17,17)"
             }
            },
            "type": "table"
           }
          ]
         },
         "layout": {
          "annotationdefaults": {
           "arrowcolor": "#f2f5fa",
           "arrowhead": 0,
           "arrowwidth": 1
          },
          "autotypenumbers": "strict",
          "coloraxis": {
           "colorbar": {
            "outlinewidth": 0,
            "ticks": ""
           }
          },
          "colorscale": {
           "diverging": [
            [
             0,
             "#8e0152"
            ],
            [
             0.1,
             "#c51b7d"
            ],
            [
             0.2,
             "#de77ae"
            ],
            [
             0.3,
             "#f1b6da"
            ],
            [
             0.4,
             "#fde0ef"
            ],
            [
             0.5,
             "#f7f7f7"
            ],
            [
             0.6,
             "#e6f5d0"
            ],
            [
             0.7,
             "#b8e186"
            ],
            [
             0.8,
             "#7fbc41"
            ],
            [
             0.9,
             "#4d9221"
            ],
            [
             1,
             "#276419"
            ]
           ],
           "sequential": [
            [
             0,
             "#0d0887"
            ],
            [
             0.1111111111111111,
             "#46039f"
            ],
            [
             0.2222222222222222,
             "#7201a8"
            ],
            [
             0.3333333333333333,
             "#9c179e"
            ],
            [
             0.4444444444444444,
             "#bd3786"
            ],
            [
             0.5555555555555556,
             "#d8576b"
            ],
            [
             0.6666666666666666,
             "#ed7953"
            ],
            [
             0.7777777777777778,
             "#fb9f3a"
            ],
            [
             0.8888888888888888,
             "#fdca26"
            ],
            [
             1,
             "#f0f921"
            ]
           ],
           "sequentialminus": [
            [
             0,
             "#0d0887"
            ],
            [
             0.1111111111111111,
             "#46039f"
            ],
            [
             0.2222222222222222,
             "#7201a8"
            ],
            [
             0.3333333333333333,
             "#9c179e"
            ],
            [
             0.4444444444444444,
             "#bd3786"
            ],
            [
             0.5555555555555556,
             "#d8576b"
            ],
            [
             0.6666666666666666,
             "#ed7953"
            ],
            [
             0.7777777777777778,
             "#fb9f3a"
            ],
            [
             0.8888888888888888,
             "#fdca26"
            ],
            [
             1,
             "#f0f921"
            ]
           ]
          },
          "colorway": [
           "#636efa",
           "#EF553B",
           "#00cc96",
           "#ab63fa",
           "#FFA15A",
           "#19d3f3",
           "#FF6692",
           "#B6E880",
           "#FF97FF",
           "#FECB52"
          ],
          "font": {
           "color": "#f2f5fa"
          },
          "geo": {
           "bgcolor": "rgb(17,17,17)",
           "lakecolor": "rgb(17,17,17)",
           "landcolor": "rgb(17,17,17)",
           "showlakes": true,
           "showland": true,
           "subunitcolor": "#506784"
          },
          "hoverlabel": {
           "align": "left"
          },
          "hovermode": "closest",
          "mapbox": {
           "style": "dark"
          },
          "paper_bgcolor": "rgb(17,17,17)",
          "plot_bgcolor": "rgb(17,17,17)",
          "polar": {
           "angularaxis": {
            "gridcolor": "#506784",
            "linecolor": "#506784",
            "ticks": ""
           },
           "bgcolor": "rgb(17,17,17)",
           "radialaxis": {
            "gridcolor": "#506784",
            "linecolor": "#506784",
            "ticks": ""
           }
          },
          "scene": {
           "xaxis": {
            "backgroundcolor": "rgb(17,17,17)",
            "gridcolor": "#506784",
            "gridwidth": 2,
            "linecolor": "#506784",
            "showbackground": true,
            "ticks": "",
            "zerolinecolor": "#C8D4E3"
           },
           "yaxis": {
            "backgroundcolor": "rgb(17,17,17)",
            "gridcolor": "#506784",
            "gridwidth": 2,
            "linecolor": "#506784",
            "showbackground": true,
            "ticks": "",
            "zerolinecolor": "#C8D4E3"
           },
           "zaxis": {
            "backgroundcolor": "rgb(17,17,17)",
            "gridcolor": "#506784",
            "gridwidth": 2,
            "linecolor": "#506784",
            "showbackground": true,
            "ticks": "",
            "zerolinecolor": "#C8D4E3"
           }
          },
          "shapedefaults": {
           "line": {
            "color": "#f2f5fa"
           }
          },
          "sliderdefaults": {
           "bgcolor": "#C8D4E3",
           "bordercolor": "rgb(17,17,17)",
           "borderwidth": 1,
           "tickwidth": 0
          },
          "ternary": {
           "aaxis": {
            "gridcolor": "#506784",
            "linecolor": "#506784",
            "ticks": ""
           },
           "baxis": {
            "gridcolor": "#506784",
            "linecolor": "#506784",
            "ticks": ""
           },
           "bgcolor": "rgb(17,17,17)",
           "caxis": {
            "gridcolor": "#506784",
            "linecolor": "#506784",
            "ticks": ""
           }
          },
          "title": {
           "x": 0.05
          },
          "updatemenudefaults": {
           "bgcolor": "#506784",
           "borderwidth": 0
          },
          "xaxis": {
           "automargin": true,
           "gridcolor": "#283442",
           "linecolor": "#506784",
           "ticks": "",
           "title": {
            "standoff": 15
           },
           "zerolinecolor": "#283442",
           "zerolinewidth": 2
          },
          "yaxis": {
           "automargin": true,
           "gridcolor": "#283442",
           "linecolor": "#506784",
           "ticks": "",
           "title": {
            "standoff": 15
           },
           "zerolinecolor": "#283442",
           "zerolinewidth": 2
          }
         }
        },
        "title": {
         "text": "Contested shots per Game by Position"
        },
        "xaxis": {
         "anchor": "y",
         "categoryarray": [
          "G",
          "F",
          "G-F",
          "C-F",
          "C",
          null,
          "F-C",
          "F-G"
         ],
         "categoryorder": "array",
         "domain": [
          0,
          1
         ],
         "title": {
          "text": "Position"
         }
        },
        "yaxis": {
         "anchor": "x",
         "domain": [
          0,
          1
         ],
         "title": {
          "text": "Contested shots"
         }
        }
       }
      }
     },
     "metadata": {},
     "output_type": "display_data"
    }
   ],
   "source": [
    "px.box(filtered_df,\n",
    "       x = 'POSITION',\n",
    "       y = 'CONTESTED_SHOTS',\n",
    "       color = 'POSITION',\n",
    "       hover_name='PLAYER_NAME',\n",
    "       title = 'Contested shots per Game by Position',\n",
    "       labels = {'CONTESTED_SHOTS':'Contested shots', 'POSITION': 'Position'},\n",
    "       category_orders = {'Pos':('G', 'G-F', 'F-G', 'F', 'F-C', 'C-F', 'C')},\n",
    "       template='plotly_dark')"
   ]
  },
  {
   "cell_type": "code",
   "execution_count": 72,
   "metadata": {},
   "outputs": [
    {
     "data": {
      "application/vnd.plotly.v1+json": {
       "config": {
        "plotlyServerURL": "https://plot.ly"
       },
       "data": [
        {
         "alignmentgroup": "True",
         "hovertemplate": "<b>%{hovertext}</b><br><br>Position=%{x}<br>Minutes=%{y}<extra></extra>",
         "hovertext": [
          "A.J. Lawson",
          "AJ Green",
          "Aaron Holiday",
          "Aaron Wiggins",
          "Alec Burks",
          "Alex Caruso",
          "Alondes Williams",
          "Anfernee Simons",
          "Anthony Edwards",
          "Austin Reaves",
          "Austin Rivers",
          "Ayo Dosunmu",
          "Blake Wesley",
          "Bogdan Bogdanovic",
          "Bones Hyland",
          "Bradley Beal",
          "Brandon Boston Jr.",
          "Bryce McGowens",
          "Bryn Forbes",
          "Buddy Hield",
          "CJ McCollum",
          "Cade Cunningham",
          "Caleb Houstan",
          "Cam Thomas",
          "Cameron Payne",
          "Caris LeVert",
          "Carlik Jones",
          "Chris Duarte",
          "Chris Paul",
          "Christian Braun",
          "Coby White",
          "Cole Anthony",
          "Collin Sexton",
          "Cory Joseph",
          "D'Angelo Russell",
          "Daishen Nix",
          "Damian Lillard",
          "Danny Green",
          "Darius Garland",
          "David Duke Jr.",
          "Davion Mitchell",
          "Davon Reed",
          "De'Aaron Fox",
          "De'Anthony Melton",
          "Dejounte Murray",
          "Delon Wright",
          "Dennis Smith Jr.",
          "Dereon Seabron",
          "Derrick Rose",
          "Derrick White",
          "Desmond Bane",
          "Devin Booker",
          "Devonte' Graham",
          "Donovan Mitchell",
          "Donovan Williams",
          "Donte DiVincenzo",
          "Dru Smith",
          "Duane Washington Jr.",
          "Dyson Daniels",
          "Edmond Sumner",
          "Eric Gordon",
          "Facundo Campazzo",
          "Frank Jackson",
          "Frank Ntilikina",
          "Fred VanVleet",
          "Gabe Vincent",
          "Gabe York",
          "Garrison Mathews",
          "Gary Harris",
          "Gary Payton II",
          "George Hill",
          "Goran Dragic",
          "Grayson Allen",
          "Hamidou Diallo",
          "Immanuel Quickley",
          "Isaiah Joe",
          "Ish Smith",
          "JD Davison",
          "Ja Morant",
          "Jacob Gilyard",
          "Jaden Hardy",
          "Jaden Ivey",
          "Jaden Springer",
          "Jalen Brunson",
          "Jalen Green",
          "Jalen Suggs",
          "Jamal Murray",
          "Jamaree Bouyea",
          "James Bouknight",
          "James Harden",
          "Jared Butler",
          "Jared Rhoden",
          "Jason Preston",
          "Javonte Green",
          "Jay Scrubb",
          "Jaylen Nowell",
          "Jeenathan Williams",
          "Jeff Dowtin Jr.",
          "Jevon Carter",
          "John Konchar",
          "John Wall",
          "Johnny Davis",
          "Johnny Juzang",
          "Jordan Clarkson",
          "Jordan Goodwin",
          "Jordan Hall",
          "Jordan McLaughlin",
          "Jordan Poole",
          "Jordan Schakel",
          "Jose Alvarado",
          "Josh Christopher",
          "Josh Giddey",
          "Josh Green",
          "Josh Hart",
          "Josh Okogie",
          "Josh Richardson",
          "Jrue Holiday",
          "Kemba Walker",
          "Kendall Brown",
          "Kendrick Nunn",
          "Kennedy Chandler",
          "Kentavious Caldwell-Pope",
          "Keon Ellis",
          "Keon Johnson",
          "Kevon Harris",
          "Killian Hayes",
          "Kira Lewis Jr.",
          "Klay Thompson",
          "Kobi Simmons",
          "Kris Dunn",
          "Kyle Lowry",
          "Kyrie Irving",
          "LaMelo Ball",
          "Landry Shamet",
          "Lester Quinones",
          "Lindell Wigginton",
          "Luguentz Dort",
          "Luke Kennard",
          "Mac McClung",
          "Malachi Flynn",
          "Malcolm Brogdon",
          "Malik Beasley",
          "Malik Monk",
          "Marcus Smart",
          "Markelle Fultz",
          "Matthew Dellavedova",
          "Max Christie",
          "McKinley Wright IV",
          "Michael Carter-Williams",
          "Mike Conley",
          "Miles McBride",
          "Monte Morris",
          "Moses Moody",
          "Nickeil Alexander-Walker",
          "Norman Powell",
          "Ochai Agbaji",
          "Pat Connaughton",
          "Patrick Beverley",
          "Patty Mills",
          "Payton Pritchard",
          "Peyton Watson",
          "Quentin Grimes",
          "Quenton Jackson",
          "R.J. Hampton",
          "Raul Neto",
          "Reggie Jackson",
          "Ricky Rubio",
          "Rodney McGruder",
          "Russell Westbrook",
          "Ryan Arcidiacono",
          "Ryan Rollins",
          "Saben Lee",
          "Sam Merrill",
          "Scotty Pippen Jr.",
          "Seth Curry",
          "Shaedon Sharpe",
          "Shai Gilgeous-Alexander",
          "Shaquille Harrison",
          "Skylar Mays",
          "Spencer Dinwiddie",
          "Stanley Umude",
          "Stephen Curry",
          "T.J. McConnell",
          "Talen Horton-Tucker",
          "Terence Davis",
          "Terry Rozier",
          "Theo Maledon",
          "Trae Young",
          "Tre Jones",
          "Tre Mann",
          "Trent Forrest",
          "Trevelin Queen",
          "Trevor Hudgins",
          "Trevor Keels",
          "TyTy Washington Jr.",
          "Tyler Herro",
          "Tyrese Haliburton",
          "Tyrese Martin",
          "Tyrese Maxey",
          "Tyus Jones",
          "Victor Oladipo",
          "Vince Williams Jr.",
          "Vit Krejci",
          "Wendell Moore Jr.",
          "Wesley Matthews",
          "Will Barton",
          "Xavier Moon",
          "Zach LaVine"
         ],
         "legendgroup": "G",
         "marker": {
          "color": "#636efa"
         },
         "name": "G",
         "notched": false,
         "offsetgroup": "G",
         "orientation": "v",
         "showlegend": true,
         "type": "box",
         "x": [
          "G",
          "G",
          "G",
          "G",
          "G",
          "G",
          "G",
          "G",
          "G",
          "G",
          "G",
          "G",
          "G",
          "G",
          "G",
          "G",
          "G",
          "G",
          "G",
          "G",
          "G",
          "G",
          "G",
          "G",
          "G",
          "G",
          "G",
          "G",
          "G",
          "G",
          "G",
          "G",
          "G",
          "G",
          "G",
          "G",
          "G",
          "G",
          "G",
          "G",
          "G",
          "G",
          "G",
          "G",
          "G",
          "G",
          "G",
          "G",
          "G",
          "G",
          "G",
          "G",
          "G",
          "G",
          "G",
          "G",
          "G",
          "G",
          "G",
          "G",
          "G",
          "G",
          "G",
          "G",
          "G",
          "G",
          "G",
          "G",
          "G",
          "G",
          "G",
          "G",
          "G",
          "G",
          "G",
          "G",
          "G",
          "G",
          "G",
          "G",
          "G",
          "G",
          "G",
          "G",
          "G",
          "G",
          "G",
          "G",
          "G",
          "G",
          "G",
          "G",
          "G",
          "G",
          "G",
          "G",
          "G",
          "G",
          "G",
          "G",
          "G",
          "G",
          "G",
          "G",
          "G",
          "G",
          "G",
          "G",
          "G",
          "G",
          "G",
          "G",
          "G",
          "G",
          "G",
          "G",
          "G",
          "G",
          "G",
          "G",
          "G",
          "G",
          "G",
          "G",
          "G",
          "G",
          "G",
          "G",
          "G",
          "G",
          "G",
          "G",
          "G",
          "G",
          "G",
          "G",
          "G",
          "G",
          "G",
          "G",
          "G",
          "G",
          "G",
          "G",
          "G",
          "G",
          "G",
          "G",
          "G",
          "G",
          "G",
          "G",
          "G",
          "G",
          "G",
          "G",
          "G",
          "G",
          "G",
          "G",
          "G",
          "G",
          "G",
          "G",
          "G",
          "G",
          "G",
          "G",
          "G",
          "G",
          "G",
          "G",
          "G",
          "G",
          "G",
          "G",
          "G",
          "G",
          "G",
          "G",
          "G",
          "G",
          "G",
          "G",
          "G",
          "G",
          "G",
          "G",
          "G",
          "G",
          "G",
          "G",
          "G",
          "G",
          "G",
          "G",
          "G",
          "G",
          "G",
          "G",
          "G",
          "G",
          "G",
          "G",
          "G",
          "G",
          "G",
          "G"
         ],
         "x0": " ",
         "xaxis": "x",
         "y": [
          7.2,
          9.9,
          13.4,
          18.5,
          22,
          23.5,
          5.3,
          35,
          36,
          28.8,
          19.5,
          26.2,
          18.1,
          27.9,
          19.4,
          33.5,
          11.3,
          17.1,
          10.7,
          31,
          35.3,
          33.3,
          15.9,
          16.6,
          20.2,
          30.2,
          8,
          19.5,
          32,
          15.5,
          23.4,
          25.9,
          23.9,
          19.8,
          32.5,
          16,
          36.3,
          12.6,
          35.5,
          9.9,
          18.1,
          8,
          33.4,
          27.9,
          36.4,
          24.4,
          25.7,
          2.3,
          12.5,
          28.3,
          31.7,
          34.6,
          18.3,
          35.8,
          2.1,
          26.3,
          10.6,
          12.7,
          17.7,
          13.9,
          28.5,
          6.5,
          5.1,
          12.9,
          36.7,
          25.9,
          18.6,
          12.7,
          24.7,
          16.7,
          18.1,
          15,
          27.4,
          17.8,
          28.9,
          19.1,
          9.3,
          5.5,
          31.9,
          40.8,
          14.8,
          31.1,
          5.6,
          35,
          34.2,
          23.5,
          32.8,
          14.1,
          15.2,
          36.8,
          12.8,
          14.1,
          8.8,
          15,
          15.1,
          19.3,
          25.3,
          10.3,
          22.4,
          20.7,
          22.2,
          15.1,
          12.9,
          32.6,
          17.8,
          9.2,
          15.8,
          30,
          3.1,
          21.5,
          12.3,
          31.1,
          25.7,
          32.3,
          18.8,
          23.5,
          32.6,
          16,
          6.7,
          13.8,
          7.8,
          31.3,
          4.4,
          10.4,
          13.4,
          28.3,
          9.4,
          33,
          5.6,
          25.8,
          31.2,
          37.3,
          35.2,
          20.2,
          4.5,
          12.4,
          30.7,
          22.3,
          20.5,
          13,
          26,
          25.8,
          22.3,
          32.1,
          29.6,
          6.7,
          12.5,
          12.4,
          11.1,
          30.3,
          11.9,
          27.4,
          13,
          15,
          26.1,
          20.5,
          23.7,
          27.1,
          14.2,
          13.4,
          8.1,
          29.9,
          15,
          15.9,
          10.5,
          24.4,
          17.2,
          16.4,
          29.1,
          8.6,
          5.2,
          14.9,
          11.7,
          5.3,
          19.8,
          22.2,
          35.5,
          24,
          31.5,
          34.5,
          2.1,
          34.7,
          20.4,
          20.2,
          13.1,
          35.3,
          19.4,
          34.8,
          29.2,
          17.7,
          12,
          10,
          5.7,
          2.7,
          14,
          34.9,
          33.6,
          4.1,
          33.6,
          24.2,
          26.3,
          7,
          5.7,
          5.3,
          15.8,
          17.7,
          4.9,
          35.9
         ],
         "y0": " ",
         "yaxis": "y"
        },
        {
         "alignmentgroup": "True",
         "hovertemplate": "<b>%{hovertext}</b><br><br>Position=%{x}<br>Minutes=%{y}<extra></extra>",
         "hovertext": [
          "AJ Griffin",
          "Aaron Gordon",
          "Admiral Schofield",
          "Aleksej Pokusevski",
          "Andrew Wiggins",
          "Anthony Gill",
          "Anthony Lamb",
          "Blake Griffin",
          "Bobby Portis",
          "Bojan Bogdanovic",
          "Brandon Clarke",
          "Brandon Ingram",
          "Braxton Key",
          "Buddy Boeheim",
          "Caleb Martin",
          "Cameron Johnson",
          "Cedi Osman",
          "Chima Moneke",
          "Chris Silva",
          "Christian Wood",
          "Chuma Okeke",
          "Cody Martin",
          "Cole Swider",
          "Corey Kispert",
          "Dalano Banton",
          "Dalen Terry",
          "Darius Bazley",
          "Darius Days",
          "David Roddy",
          "Davis Bertans",
          "Deni Avdija",
          "Derrick Jones Jr.",
          "Dominick Barlow",
          "Dorian Finney-Smith",
          "Doug McDermott",
          "Draymond Green",
          "Duncan Robinson",
          "Eugene Omoruyi",
          "Franz Wagner",
          "Georges Niang",
          "Giannis Antetokounmpo",
          "Gordon Hayward",
          "Grant Williams",
          "Greg Brown III",
          "Harrison Barnes",
          "Haywood Highsmith",
          "Herbert Jones",
          "Isaiah Jackson",
          "Isaiah Livers",
          "Isaiah Mobley",
          "Isaiah Todd",
          "Ish Wainright",
          "JT Thor",
          "Jabari Smith Jr.",
          "Jabari Walker",
          "Jack White",
          "Jaden McDaniels",
          "Jae Crowder",
          "Jae'Sean Tate",
          "Jake LaRavia",
          "Jalen Johnson",
          "Jamal Cain",
          "James Johnson",
          "Jarred Vanderbilt",
          "Jarrell Brantley",
          "Jaylin Williams",
          "Jeff Green",
          "Jerami Grant",
          "Jeremiah Robinson-Earl",
          "Jeremy Sochan",
          "Jimmy Butler",
          "John Butler Jr.",
          "Jonathan Isaac",
          "Jonathan Kuminga",
          "Jordan Nwora",
          "Josh Minott",
          "Juan Toscano-Anderson",
          "Juancho Hernangomez",
          "Julian Champagnie",
          "Justin Jackson",
          "Justin Minaya",
          "Kawhi Leonard",
          "Keegan Murray",
          "Keita Bates-Diop",
          "Kenneth Lofton Jr.",
          "Kenyon Martin Jr.",
          "Kessler Edwards",
          "Kevin Durant",
          "Kevin Knox II",
          "Kevon Looney",
          "Khris Middleton",
          "Kyle Kuzma",
          "Lamar Stevens",
          "LeBron James",
          "Leandro Bolmaro",
          "Lindy Waters III",
          "Louis King",
          "Luka Samanic",
          "Malaki Branham",
          "Malcolm Hill",
          "Mamadi Diakite",
          "MarJon Beauchamp",
          "Marcus Morris Sr.",
          "Markieff Morris",
          "Marvin Bagley III",
          "Matt Ryan",
          "Maxi Kleber",
          "Michael Foster Jr.",
          "Michael Porter Jr.",
          "Moussa Diabate",
          "Naji Marshall",
          "Nikola Jovic",
          "Noah Vonleh",
          "O.G. Anunoby",
          "Obi Toppin",
          "Otto Porter Jr.",
          "Ousmane Dieng",
          "P.J. Tucker",
          "P.J. Washington",
          "Paolo Banchero",
          "Pascal Siakam",
          "Patrick Baldwin Jr.",
          "Patrick Williams",
          "Paul George",
          "Paul Reed",
          "Precious Achiuwa",
          "RaiQuan Gray",
          "Richaun Holmes",
          "Robert Covington",
          "Ron Harper Jr.",
          "Royce O'Neale",
          "Rui Hachimura",
          "Saddiq Bey",
          "Sam Hauser",
          "Scottie Barnes",
          "Simone Fontecchio",
          "T.J. Warren",
          "Taj Gibson",
          "Tari Eason",
          "Taurean Prince",
          "Terry Taylor",
          "Thaddeus Young",
          "Thanasis Antetokounmpo",
          "Tobias Harris",
          "Torrey Craig",
          "Trendon Watford",
          "Trey Lyles",
          "Trey Murphy III",
          "Udonis Haslem",
          "Usman Garuba",
          "Vlatko Cancar",
          "Wenyen Gabriel",
          "Xavier Cooks",
          "Xavier Sneed",
          "Xavier Tillman",
          "Ziaire Williams",
          "Zion Williamson"
         ],
         "legendgroup": "F",
         "marker": {
          "color": "#EF553B"
         },
         "name": "F",
         "notched": false,
         "offsetgroup": "F",
         "orientation": "v",
         "showlegend": true,
         "type": "box",
         "x": [
          "F",
          "F",
          "F",
          "F",
          "F",
          "F",
          "F",
          "F",
          "F",
          "F",
          "F",
          "F",
          "F",
          "F",
          "F",
          "F",
          "F",
          "F",
          "F",
          "F",
          "F",
          "F",
          "F",
          "F",
          "F",
          "F",
          "F",
          "F",
          "F",
          "F",
          "F",
          "F",
          "F",
          "F",
          "F",
          "F",
          "F",
          "F",
          "F",
          "F",
          "F",
          "F",
          "F",
          "F",
          "F",
          "F",
          "F",
          "F",
          "F",
          "F",
          "F",
          "F",
          "F",
          "F",
          "F",
          "F",
          "F",
          "F",
          "F",
          "F",
          "F",
          "F",
          "F",
          "F",
          "F",
          "F",
          "F",
          "F",
          "F",
          "F",
          "F",
          "F",
          "F",
          "F",
          "F",
          "F",
          "F",
          "F",
          "F",
          "F",
          "F",
          "F",
          "F",
          "F",
          "F",
          "F",
          "F",
          "F",
          "F",
          "F",
          "F",
          "F",
          "F",
          "F",
          "F",
          "F",
          "F",
          "F",
          "F",
          "F",
          "F",
          "F",
          "F",
          "F",
          "F",
          "F",
          "F",
          "F",
          "F",
          "F",
          "F",
          "F",
          "F",
          "F",
          "F",
          "F",
          "F",
          "F",
          "F",
          "F",
          "F",
          "F",
          "F",
          "F",
          "F",
          "F",
          "F",
          "F",
          "F",
          "F",
          "F",
          "F",
          "F",
          "F",
          "F",
          "F",
          "F",
          "F",
          "F",
          "F",
          "F",
          "F",
          "F",
          "F",
          "F",
          "F",
          "F",
          "F",
          "F",
          "F",
          "F",
          "F",
          "F",
          "F",
          "F",
          "F",
          "F"
         ],
         "x0": " ",
         "xaxis": "x",
         "y": [
          19.5,
          30.2,
          12.2,
          20.6,
          32.2,
          10.6,
          19.3,
          13.9,
          26,
          32.1,
          19.5,
          34.2,
          3,
          9,
          29.3,
          28.6,
          20.1,
          4,
          3,
          25.9,
          19.2,
          19.1,
          5.9,
          28.3,
          9,
          5.6,
          14.3,
          6.2,
          18,
          10.9,
          26.6,
          14,
          14.6,
          30.4,
          20.5,
          31.5,
          16.4,
          16.1,
          32.6,
          19.4,
          32.1,
          31.5,
          25.9,
          5.8,
          32.5,
          18,
          29.6,
          16.5,
          23.1,
          7,
          10.2,
          15.3,
          14,
          31,
          11.1,
          3.9,
          30.6,
          18.9,
          21.9,
          11.8,
          14.9,
          13.3,
          9,
          24.1,
          9.7,
          18.7,
          19.5,
          35.6,
          18.9,
          26,
          33.4,
          11.6,
          11.3,
          20.8,
          19.2,
          6.4,
          13.5,
          14.6,
          18.8,
          4.7,
          22.2,
          33.6,
          29.8,
          21.7,
          7.3,
          28,
          10.7,
          35.6,
          15.1,
          23.9,
          24.3,
          35,
          18.1,
          35.5,
          4.9,
          12.9,
          28.8,
          23,
          23.5,
          1.8,
          8,
          13.5,
          28.1,
          10.1,
          23.6,
          9.1,
          25.1,
          1,
          29,
          8.9,
          23.3,
          13.6,
          7.5,
          35.6,
          15.7,
          18.3,
          14.6,
          25.6,
          32.6,
          33.7,
          37.4,
          7.3,
          28.3,
          34.6,
          10.9,
          20.7,
          35.1,
          8.3,
          16.2,
          5.3,
          31.7,
          23.3,
          27.6,
          16.1,
          34.8,
          14.7,
          16.4,
          9.8,
          21.6,
          22.1,
          8.5,
          14.7,
          5.6,
          32.9,
          24.7,
          19.1,
          16.9,
          31,
          10.3,
          12.9,
          14.8,
          15.1,
          12.6,
          12.1,
          19.3,
          15.2,
          33
         ],
         "y0": " ",
         "yaxis": "y"
        },
        {
         "alignmentgroup": "True",
         "hovertemplate": "<b>%{hovertext}</b><br><br>Position=%{x}<br>Minutes=%{y}<extra></extra>",
         "hovertext": [
          "Aaron Nesmith",
          "Amir Coffey",
          "Andre Iguodala",
          "Andrew Nembhard",
          "Ben Simmons",
          "Bennedict Mathurin",
          "Bruce Brown",
          "Damion Lee",
          "DeMar DeRozan",
          "Devin Vassell",
          "Dillon Brooks",
          "Dylan Windler",
          "Evan Fournier",
          "Furkan Korkmaz",
          "Garrett Temple",
          "Gary Trent Jr.",
          "Jalen Williams",
          "Jarrett Culver",
          "Jaylen Brown",
          "Joe Harris",
          "Joe Wieskamp",
          "Justin Champagnie",
          "Kenrich Williams",
          "Kevin Huerter",
          "Kevin Porter Jr.",
          "Lonnie Walker IV",
          "Matisse Thybulle",
          "Max Strus",
          "Mikal Bridges",
          "Nicolas Batum",
          "PJ Dozier",
          "Reggie Bullock",
          "Romeo Langford",
          "Shake Milton",
          "Sterling Brown",
          "Svi Mykhailiuk",
          "Terance Mann",
          "Terrence Ross",
          "Theo Pinson",
          "Tim Hardaway Jr.",
          "Troy Brown Jr.",
          "Ty Jerome",
          "Yuta Watanabe"
         ],
         "legendgroup": "G-F",
         "marker": {
          "color": "#00cc96"
         },
         "name": "G-F",
         "notched": false,
         "offsetgroup": "G-F",
         "orientation": "v",
         "showlegend": true,
         "type": "box",
         "x": [
          "G-F",
          "G-F",
          "G-F",
          "G-F",
          "G-F",
          "G-F",
          "G-F",
          "G-F",
          "G-F",
          "G-F",
          "G-F",
          "G-F",
          "G-F",
          "G-F",
          "G-F",
          "G-F",
          "G-F",
          "G-F",
          "G-F",
          "G-F",
          "G-F",
          "G-F",
          "G-F",
          "G-F",
          "G-F",
          "G-F",
          "G-F",
          "G-F",
          "G-F",
          "G-F",
          "G-F",
          "G-F",
          "G-F",
          "G-F",
          "G-F",
          "G-F",
          "G-F",
          "G-F",
          "G-F",
          "G-F",
          "G-F",
          "G-F",
          "G-F"
         ],
         "x0": " ",
         "xaxis": "x",
         "y": [
          24.9,
          12.5,
          14.1,
          27.6,
          26.3,
          28.5,
          28.5,
          20.4,
          36.2,
          31,
          30.3,
          3.5,
          17,
          9.6,
          6.5,
          32.1,
          30.3,
          13.7,
          35.9,
          20.6,
          5.5,
          6.9,
          22.8,
          29.4,
          34.3,
          23.2,
          16.9,
          28.4,
          35.7,
          21.9,
          5,
          30.3,
          19.6,
          20.6,
          6.1,
          14.6,
          23.1,
          21.1,
          8.1,
          30.3,
          24.5,
          18.1,
          16
         ],
         "y0": " ",
         "yaxis": "y"
        },
        {
         "alignmentgroup": "True",
         "hovertemplate": "<b>%{hovertext}</b><br><br>Position=%{x}<br>Minutes=%{y}<extra></extra>",
         "hovertext": [
          "Al Horford",
          "Bam Adebayo",
          "Bol Bol",
          "Charles Bassey",
          "Goga Bitadze",
          "Isaiah Hartenstein",
          "JaVale McGee",
          "Jaxson Hayes",
          "Joel Embiid",
          "Kai Jones",
          "Karl-Anthony Towns",
          "Luke Kornet",
          "Mitchell Robinson",
          "Myles Turner",
          "Naz Reid",
          "Robert Williams III",
          "Thomas Bryant",
          "Udoka Azubuike",
          "Wendell Carter Jr.",
          "Willy Hernangomez"
         ],
         "legendgroup": "C-F",
         "marker": {
          "color": "#ab63fa"
         },
         "name": "C-F",
         "notched": false,
         "offsetgroup": "C-F",
         "orientation": "v",
         "showlegend": true,
         "type": "box",
         "x": [
          "C-F",
          "C-F",
          "C-F",
          "C-F",
          "C-F",
          "C-F",
          "C-F",
          "C-F",
          "C-F",
          "C-F",
          "C-F",
          "C-F",
          "C-F",
          "C-F",
          "C-F",
          "C-F",
          "C-F",
          "C-F",
          "C-F",
          "C-F"
         ],
         "x0": " ",
         "xaxis": "x",
         "y": [
          30.5,
          34.6,
          21.5,
          14.5,
          12,
          19.9,
          8.4,
          13,
          34.6,
          11.9,
          33,
          11.7,
          26.9,
          29.4,
          18.4,
          23.5,
          18.3,
          10,
          29.6,
          12
         ],
         "y0": " ",
         "yaxis": "y"
        },
        {
         "alignmentgroup": "True",
         "hovertemplate": "<b>%{hovertext}</b><br><br>Position=%{x}<br>Minutes=%{y}<extra></extra>",
         "hovertext": [
          "Alex Len",
          "Alperen Sengun",
          "Andre Drummond",
          "Bismack Biyombo",
          "Boban Marjanovic",
          "Brook Lopez",
          "Chance Comanche",
          "Christian Koloko",
          "Clint Capela",
          "Damian Jones",
          "Day'Ron Sharpe",
          "DeAndre Jordan",
          "Deandre Ayton",
          "Dewayne Dedmon",
          "Evan Mobley",
          "Gorgui Dieng",
          "Ivica Zubac",
          "Jakob Poeltl",
          "Jalen Duren",
          "James Wiseman",
          "Jarrett Allen",
          "Jay Huff",
          "Jericho Sims",
          "Jock Landale",
          "Jonas Valanciunas",
          "Jusuf Nurkic",
          "Khem Birch",
          "Luka Garza",
          "Mark Williams",
          "Marko Simonovic",
          "Mfiondu Kabengele",
          "Micah Potter",
          "Mo Bamba",
          "Moses Brown",
          "Neemias Queta",
          "Nic Claxton",
          "Nick Richards",
          "Nikola Jokic",
          "Nikola Vucevic",
          "Olivier Sarr",
          "Omer Yurtseven",
          "Orlando Robinson",
          "Robin Lopez",
          "Rudy Gobert",
          "Steven Adams",
          "Vernon Carey Jr.",
          "Walker Kessler"
         ],
         "legendgroup": "C",
         "marker": {
          "color": "#FFA15A"
         },
         "name": "C",
         "notched": false,
         "offsetgroup": "C",
         "orientation": "v",
         "showlegend": true,
         "type": "box",
         "x": [
          "C",
          "C",
          "C",
          "C",
          "C",
          "C",
          "C",
          "C",
          "C",
          "C",
          "C",
          "C",
          "C",
          "C",
          "C",
          "C",
          "C",
          "C",
          "C",
          "C",
          "C",
          "C",
          "C",
          "C",
          "C",
          "C",
          "C",
          "C",
          "C",
          "C",
          "C",
          "C",
          "C",
          "C",
          "C",
          "C",
          "C",
          "C",
          "C",
          "C",
          "C",
          "C",
          "C",
          "C",
          "C",
          "C",
          "C"
         ],
         "x0": " ",
         "xaxis": "x",
         "y": [
          6.2,
          28.9,
          12.7,
          14.3,
          5.5,
          30.4,
          20.8,
          13.8,
          26.6,
          11.6,
          11.5,
          15,
          30.4,
          11.2,
          34.4,
          11.6,
          28.5,
          26.5,
          24.9,
          19.3,
          32.6,
          13.6,
          15.6,
          14.2,
          24.9,
          26.8,
          8.1,
          8.7,
          19.3,
          2.8,
          9.1,
          7.5,
          15.7,
          8.2,
          5.7,
          29.9,
          18.7,
          33.7,
          33.5,
          12.6,
          9.2,
          13.7,
          8.1,
          30.7,
          27,
          2.6,
          23
         ],
         "y0": " ",
         "yaxis": "y"
        },
        {
         "alignmentgroup": "True",
         "hovertemplate": "<b>%{hovertext}</b><br><br>Position=%{x}<br>Minutes=%{y}<extra></extra>",
         "hovertext": [
          "Anthony Davis",
          "Bruno Fernando",
          "Chimezie Metu",
          "Chris Boucher",
          "Cody Zeller",
          "Daniel Gafford",
          "Daniel Theis",
          "Dario Saric",
          "Dean Wade",
          "Domantas Sabonis",
          "Drew Eubanks",
          "Dwight Powell",
          "Frank Kaminsky",
          "Isaiah Stewart",
          "JaMychal Green",
          "Jalen McDaniels",
          "Jalen Smith",
          "Jaren Jackson Jr.",
          "John Collins",
          "Julius Randle",
          "Kelly Olynyk",
          "Kevin Love",
          "Kristaps Porzingis",
          "Larry Nance Jr.",
          "Lauri Markkanen",
          "Mason Plumlee",
          "Meyers Leonard",
          "Mike Muscala",
          "Montrezl Harrell",
          "Moritz Wagner",
          "Nathan Knight",
          "Onyeka Okongwu",
          "Sandro Mamukelashvili",
          "Santi Aldama",
          "Zach Collins",
          "Zeke Nnaji"
         ],
         "legendgroup": "F-C",
         "marker": {
          "color": "#FF6692"
         },
         "name": "F-C",
         "notched": false,
         "offsetgroup": "F-C",
         "orientation": "v",
         "showlegend": true,
         "type": "box",
         "x": [
          "F-C",
          "F-C",
          "F-C",
          "F-C",
          "F-C",
          "F-C",
          "F-C",
          "F-C",
          "F-C",
          "F-C",
          "F-C",
          "F-C",
          "F-C",
          "F-C",
          "F-C",
          "F-C",
          "F-C",
          "F-C",
          "F-C",
          "F-C",
          "F-C",
          "F-C",
          "F-C",
          "F-C",
          "F-C",
          "F-C",
          "F-C",
          "F-C",
          "F-C",
          "F-C",
          "F-C",
          "F-C",
          "F-C",
          "F-C",
          "F-C",
          "F-C"
         ],
         "x0": " ",
         "xaxis": "x",
         "y": [
          34,
          10.4,
          10.4,
          20,
          14.4,
          20.6,
          15.5,
          14.1,
          20.3,
          34.6,
          20.3,
          19.2,
          6.5,
          28.3,
          14,
          23.9,
          18.8,
          28.4,
          30,
          35.5,
          28.6,
          20,
          32.6,
          21.2,
          34.4,
          26,
          12.6,
          15,
          11.9,
          19.5,
          7.7,
          23.1,
          15.3,
          21.8,
          22.9,
          13.7
         ],
         "y0": " ",
         "yaxis": "y"
        },
        {
         "alignmentgroup": "True",
         "hovertemplate": "<b>%{hovertext}</b><br><br>Position=%{x}<br>Minutes=%{y}<extra></extra>",
         "hovertext": [
          "Cam Reddish",
          "Danuel House Jr.",
          "De'Andre Hunter",
          "Isaac Okoro",
          "Jayson Tatum",
          "Joe Ingles",
          "Justin Holiday",
          "Justise Winslow",
          "KZ Okpala",
          "Keldon Johnson",
          "Kelly Oubre Jr.",
          "Kyle Anderson",
          "Luka Doncic",
          "Nassir Little",
          "Oshae Brissett",
          "RJ Barrett",
          "Rudy Gay",
          "Stanley Johnson"
         ],
         "legendgroup": "F-G",
         "marker": {
          "color": "#B6E880"
         },
         "name": "F-G",
         "notched": false,
         "offsetgroup": "F-G",
         "orientation": "v",
         "showlegend": true,
         "type": "box",
         "x": [
          "F-G",
          "F-G",
          "F-G",
          "F-G",
          "F-G",
          "F-G",
          "F-G",
          "F-G",
          "F-G",
          "F-G",
          "F-G",
          "F-G",
          "F-G",
          "F-G",
          "F-G",
          "F-G",
          "F-G",
          "F-G"
         ],
         "x0": " ",
         "xaxis": "x",
         "y": [
          24.7,
          14.4,
          31.7,
          21.7,
          36.9,
          22.7,
          15.4,
          26.8,
          7.1,
          32.8,
          32.2,
          28.4,
          36.2,
          18.1,
          16.7,
          33.9,
          14.6,
          15.7
         ],
         "y0": " ",
         "yaxis": "y"
        }
       ],
       "layout": {
        "boxmode": "overlay",
        "legend": {
         "title": {
          "text": "Position"
         },
         "tracegroupgap": 0
        },
        "template": {
         "data": {
          "bar": [
           {
            "error_x": {
             "color": "#f2f5fa"
            },
            "error_y": {
             "color": "#f2f5fa"
            },
            "marker": {
             "line": {
              "color": "rgb(17,17,17)",
              "width": 0.5
             },
             "pattern": {
              "fillmode": "overlay",
              "size": 10,
              "solidity": 0.2
             }
            },
            "type": "bar"
           }
          ],
          "barpolar": [
           {
            "marker": {
             "line": {
              "color": "rgb(17,17,17)",
              "width": 0.5
             },
             "pattern": {
              "fillmode": "overlay",
              "size": 10,
              "solidity": 0.2
             }
            },
            "type": "barpolar"
           }
          ],
          "carpet": [
           {
            "aaxis": {
             "endlinecolor": "#A2B1C6",
             "gridcolor": "#506784",
             "linecolor": "#506784",
             "minorgridcolor": "#506784",
             "startlinecolor": "#A2B1C6"
            },
            "baxis": {
             "endlinecolor": "#A2B1C6",
             "gridcolor": "#506784",
             "linecolor": "#506784",
             "minorgridcolor": "#506784",
             "startlinecolor": "#A2B1C6"
            },
            "type": "carpet"
           }
          ],
          "choropleth": [
           {
            "colorbar": {
             "outlinewidth": 0,
             "ticks": ""
            },
            "type": "choropleth"
           }
          ],
          "contour": [
           {
            "colorbar": {
             "outlinewidth": 0,
             "ticks": ""
            },
            "colorscale": [
             [
              0,
              "#0d0887"
             ],
             [
              0.1111111111111111,
              "#46039f"
             ],
             [
              0.2222222222222222,
              "#7201a8"
             ],
             [
              0.3333333333333333,
              "#9c179e"
             ],
             [
              0.4444444444444444,
              "#bd3786"
             ],
             [
              0.5555555555555556,
              "#d8576b"
             ],
             [
              0.6666666666666666,
              "#ed7953"
             ],
             [
              0.7777777777777778,
              "#fb9f3a"
             ],
             [
              0.8888888888888888,
              "#fdca26"
             ],
             [
              1,
              "#f0f921"
             ]
            ],
            "type": "contour"
           }
          ],
          "contourcarpet": [
           {
            "colorbar": {
             "outlinewidth": 0,
             "ticks": ""
            },
            "type": "contourcarpet"
           }
          ],
          "heatmap": [
           {
            "colorbar": {
             "outlinewidth": 0,
             "ticks": ""
            },
            "colorscale": [
             [
              0,
              "#0d0887"
             ],
             [
              0.1111111111111111,
              "#46039f"
             ],
             [
              0.2222222222222222,
              "#7201a8"
             ],
             [
              0.3333333333333333,
              "#9c179e"
             ],
             [
              0.4444444444444444,
              "#bd3786"
             ],
             [
              0.5555555555555556,
              "#d8576b"
             ],
             [
              0.6666666666666666,
              "#ed7953"
             ],
             [
              0.7777777777777778,
              "#fb9f3a"
             ],
             [
              0.8888888888888888,
              "#fdca26"
             ],
             [
              1,
              "#f0f921"
             ]
            ],
            "type": "heatmap"
           }
          ],
          "heatmapgl": [
           {
            "colorbar": {
             "outlinewidth": 0,
             "ticks": ""
            },
            "colorscale": [
             [
              0,
              "#0d0887"
             ],
             [
              0.1111111111111111,
              "#46039f"
             ],
             [
              0.2222222222222222,
              "#7201a8"
             ],
             [
              0.3333333333333333,
              "#9c179e"
             ],
             [
              0.4444444444444444,
              "#bd3786"
             ],
             [
              0.5555555555555556,
              "#d8576b"
             ],
             [
              0.6666666666666666,
              "#ed7953"
             ],
             [
              0.7777777777777778,
              "#fb9f3a"
             ],
             [
              0.8888888888888888,
              "#fdca26"
             ],
             [
              1,
              "#f0f921"
             ]
            ],
            "type": "heatmapgl"
           }
          ],
          "histogram": [
           {
            "marker": {
             "pattern": {
              "fillmode": "overlay",
              "size": 10,
              "solidity": 0.2
             }
            },
            "type": "histogram"
           }
          ],
          "histogram2d": [
           {
            "colorbar": {
             "outlinewidth": 0,
             "ticks": ""
            },
            "colorscale": [
             [
              0,
              "#0d0887"
             ],
             [
              0.1111111111111111,
              "#46039f"
             ],
             [
              0.2222222222222222,
              "#7201a8"
             ],
             [
              0.3333333333333333,
              "#9c179e"
             ],
             [
              0.4444444444444444,
              "#bd3786"
             ],
             [
              0.5555555555555556,
              "#d8576b"
             ],
             [
              0.6666666666666666,
              "#ed7953"
             ],
             [
              0.7777777777777778,
              "#fb9f3a"
             ],
             [
              0.8888888888888888,
              "#fdca26"
             ],
             [
              1,
              "#f0f921"
             ]
            ],
            "type": "histogram2d"
           }
          ],
          "histogram2dcontour": [
           {
            "colorbar": {
             "outlinewidth": 0,
             "ticks": ""
            },
            "colorscale": [
             [
              0,
              "#0d0887"
             ],
             [
              0.1111111111111111,
              "#46039f"
             ],
             [
              0.2222222222222222,
              "#7201a8"
             ],
             [
              0.3333333333333333,
              "#9c179e"
             ],
             [
              0.4444444444444444,
              "#bd3786"
             ],
             [
              0.5555555555555556,
              "#d8576b"
             ],
             [
              0.6666666666666666,
              "#ed7953"
             ],
             [
              0.7777777777777778,
              "#fb9f3a"
             ],
             [
              0.8888888888888888,
              "#fdca26"
             ],
             [
              1,
              "#f0f921"
             ]
            ],
            "type": "histogram2dcontour"
           }
          ],
          "mesh3d": [
           {
            "colorbar": {
             "outlinewidth": 0,
             "ticks": ""
            },
            "type": "mesh3d"
           }
          ],
          "parcoords": [
           {
            "line": {
             "colorbar": {
              "outlinewidth": 0,
              "ticks": ""
             }
            },
            "type": "parcoords"
           }
          ],
          "pie": [
           {
            "automargin": true,
            "type": "pie"
           }
          ],
          "scatter": [
           {
            "marker": {
             "line": {
              "color": "#283442"
             }
            },
            "type": "scatter"
           }
          ],
          "scatter3d": [
           {
            "line": {
             "colorbar": {
              "outlinewidth": 0,
              "ticks": ""
             }
            },
            "marker": {
             "colorbar": {
              "outlinewidth": 0,
              "ticks": ""
             }
            },
            "type": "scatter3d"
           }
          ],
          "scattercarpet": [
           {
            "marker": {
             "colorbar": {
              "outlinewidth": 0,
              "ticks": ""
             }
            },
            "type": "scattercarpet"
           }
          ],
          "scattergeo": [
           {
            "marker": {
             "colorbar": {
              "outlinewidth": 0,
              "ticks": ""
             }
            },
            "type": "scattergeo"
           }
          ],
          "scattergl": [
           {
            "marker": {
             "line": {
              "color": "#283442"
             }
            },
            "type": "scattergl"
           }
          ],
          "scattermapbox": [
           {
            "marker": {
             "colorbar": {
              "outlinewidth": 0,
              "ticks": ""
             }
            },
            "type": "scattermapbox"
           }
          ],
          "scatterpolar": [
           {
            "marker": {
             "colorbar": {
              "outlinewidth": 0,
              "ticks": ""
             }
            },
            "type": "scatterpolar"
           }
          ],
          "scatterpolargl": [
           {
            "marker": {
             "colorbar": {
              "outlinewidth": 0,
              "ticks": ""
             }
            },
            "type": "scatterpolargl"
           }
          ],
          "scatterternary": [
           {
            "marker": {
             "colorbar": {
              "outlinewidth": 0,
              "ticks": ""
             }
            },
            "type": "scatterternary"
           }
          ],
          "surface": [
           {
            "colorbar": {
             "outlinewidth": 0,
             "ticks": ""
            },
            "colorscale": [
             [
              0,
              "#0d0887"
             ],
             [
              0.1111111111111111,
              "#46039f"
             ],
             [
              0.2222222222222222,
              "#7201a8"
             ],
             [
              0.3333333333333333,
              "#9c179e"
             ],
             [
              0.4444444444444444,
              "#bd3786"
             ],
             [
              0.5555555555555556,
              "#d8576b"
             ],
             [
              0.6666666666666666,
              "#ed7953"
             ],
             [
              0.7777777777777778,
              "#fb9f3a"
             ],
             [
              0.8888888888888888,
              "#fdca26"
             ],
             [
              1,
              "#f0f921"
             ]
            ],
            "type": "surface"
           }
          ],
          "table": [
           {
            "cells": {
             "fill": {
              "color": "#506784"
             },
             "line": {
              "color": "rgb(17,17,17)"
             }
            },
            "header": {
             "fill": {
              "color": "#2a3f5f"
             },
             "line": {
              "color": "rgb(17,17,17)"
             }
            },
            "type": "table"
           }
          ]
         },
         "layout": {
          "annotationdefaults": {
           "arrowcolor": "#f2f5fa",
           "arrowhead": 0,
           "arrowwidth": 1
          },
          "autotypenumbers": "strict",
          "coloraxis": {
           "colorbar": {
            "outlinewidth": 0,
            "ticks": ""
           }
          },
          "colorscale": {
           "diverging": [
            [
             0,
             "#8e0152"
            ],
            [
             0.1,
             "#c51b7d"
            ],
            [
             0.2,
             "#de77ae"
            ],
            [
             0.3,
             "#f1b6da"
            ],
            [
             0.4,
             "#fde0ef"
            ],
            [
             0.5,
             "#f7f7f7"
            ],
            [
             0.6,
             "#e6f5d0"
            ],
            [
             0.7,
             "#b8e186"
            ],
            [
             0.8,
             "#7fbc41"
            ],
            [
             0.9,
             "#4d9221"
            ],
            [
             1,
             "#276419"
            ]
           ],
           "sequential": [
            [
             0,
             "#0d0887"
            ],
            [
             0.1111111111111111,
             "#46039f"
            ],
            [
             0.2222222222222222,
             "#7201a8"
            ],
            [
             0.3333333333333333,
             "#9c179e"
            ],
            [
             0.4444444444444444,
             "#bd3786"
            ],
            [
             0.5555555555555556,
             "#d8576b"
            ],
            [
             0.6666666666666666,
             "#ed7953"
            ],
            [
             0.7777777777777778,
             "#fb9f3a"
            ],
            [
             0.8888888888888888,
             "#fdca26"
            ],
            [
             1,
             "#f0f921"
            ]
           ],
           "sequentialminus": [
            [
             0,
             "#0d0887"
            ],
            [
             0.1111111111111111,
             "#46039f"
            ],
            [
             0.2222222222222222,
             "#7201a8"
            ],
            [
             0.3333333333333333,
             "#9c179e"
            ],
            [
             0.4444444444444444,
             "#bd3786"
            ],
            [
             0.5555555555555556,
             "#d8576b"
            ],
            [
             0.6666666666666666,
             "#ed7953"
            ],
            [
             0.7777777777777778,
             "#fb9f3a"
            ],
            [
             0.8888888888888888,
             "#fdca26"
            ],
            [
             1,
             "#f0f921"
            ]
           ]
          },
          "colorway": [
           "#636efa",
           "#EF553B",
           "#00cc96",
           "#ab63fa",
           "#FFA15A",
           "#19d3f3",
           "#FF6692",
           "#B6E880",
           "#FF97FF",
           "#FECB52"
          ],
          "font": {
           "color": "#f2f5fa"
          },
          "geo": {
           "bgcolor": "rgb(17,17,17)",
           "lakecolor": "rgb(17,17,17)",
           "landcolor": "rgb(17,17,17)",
           "showlakes": true,
           "showland": true,
           "subunitcolor": "#506784"
          },
          "hoverlabel": {
           "align": "left"
          },
          "hovermode": "closest",
          "mapbox": {
           "style": "dark"
          },
          "paper_bgcolor": "rgb(17,17,17)",
          "plot_bgcolor": "rgb(17,17,17)",
          "polar": {
           "angularaxis": {
            "gridcolor": "#506784",
            "linecolor": "#506784",
            "ticks": ""
           },
           "bgcolor": "rgb(17,17,17)",
           "radialaxis": {
            "gridcolor": "#506784",
            "linecolor": "#506784",
            "ticks": ""
           }
          },
          "scene": {
           "xaxis": {
            "backgroundcolor": "rgb(17,17,17)",
            "gridcolor": "#506784",
            "gridwidth": 2,
            "linecolor": "#506784",
            "showbackground": true,
            "ticks": "",
            "zerolinecolor": "#C8D4E3"
           },
           "yaxis": {
            "backgroundcolor": "rgb(17,17,17)",
            "gridcolor": "#506784",
            "gridwidth": 2,
            "linecolor": "#506784",
            "showbackground": true,
            "ticks": "",
            "zerolinecolor": "#C8D4E3"
           },
           "zaxis": {
            "backgroundcolor": "rgb(17,17,17)",
            "gridcolor": "#506784",
            "gridwidth": 2,
            "linecolor": "#506784",
            "showbackground": true,
            "ticks": "",
            "zerolinecolor": "#C8D4E3"
           }
          },
          "shapedefaults": {
           "line": {
            "color": "#f2f5fa"
           }
          },
          "sliderdefaults": {
           "bgcolor": "#C8D4E3",
           "bordercolor": "rgb(17,17,17)",
           "borderwidth": 1,
           "tickwidth": 0
          },
          "ternary": {
           "aaxis": {
            "gridcolor": "#506784",
            "linecolor": "#506784",
            "ticks": ""
           },
           "baxis": {
            "gridcolor": "#506784",
            "linecolor": "#506784",
            "ticks": ""
           },
           "bgcolor": "rgb(17,17,17)",
           "caxis": {
            "gridcolor": "#506784",
            "linecolor": "#506784",
            "ticks": ""
           }
          },
          "title": {
           "x": 0.05
          },
          "updatemenudefaults": {
           "bgcolor": "#506784",
           "borderwidth": 0
          },
          "xaxis": {
           "automargin": true,
           "gridcolor": "#283442",
           "linecolor": "#506784",
           "ticks": "",
           "title": {
            "standoff": 15
           },
           "zerolinecolor": "#283442",
           "zerolinewidth": 2
          },
          "yaxis": {
           "automargin": true,
           "gridcolor": "#283442",
           "linecolor": "#506784",
           "ticks": "",
           "title": {
            "standoff": 15
           },
           "zerolinecolor": "#283442",
           "zerolinewidth": 2
          }
         }
        },
        "title": {
         "text": "Minutes per Game by Position"
        },
        "xaxis": {
         "anchor": "y",
         "categoryarray": [
          "G",
          "F",
          "G-F",
          "C-F",
          "C",
          null,
          "F-C",
          "F-G"
         ],
         "categoryorder": "array",
         "domain": [
          0,
          1
         ],
         "title": {
          "text": "Position"
         }
        },
        "yaxis": {
         "anchor": "x",
         "domain": [
          0,
          1
         ],
         "title": {
          "text": "Minutes"
         }
        }
       }
      }
     },
     "metadata": {},
     "output_type": "display_data"
    }
   ],
   "source": [
    "px.box(filtered_df,\n",
    "       x = 'POSITION',\n",
    "       y = 'MIN',\n",
    "       color = 'POSITION',\n",
    "       hover_name='PLAYER_NAME',\n",
    "       title = 'Minutes per Game by Position',\n",
    "       labels = {'MIN':'Minutes', 'POSITION': 'Position'},\n",
    "       category_orders = {'Pos':('G', 'G-F', 'F-G', 'F', 'F-C', 'C-F', 'C')},\n",
    "       template='plotly_dark')"
   ]
  },
  {
   "attachments": {},
   "cell_type": "markdown",
   "metadata": {},
   "source": [
    "# 5. <a id='toc5_'></a>[Transforming the numerical attributes to be plotted as radas charts](#toc0_)"
   ]
  },
  {
   "cell_type": "code",
   "execution_count": 73,
   "metadata": {},
   "outputs": [],
   "source": [
    "df_selected = pd.read_csv('/home/bruno/repos/NBA_2022-2023/data/filtered_df.csv', low_memory=False)"
   ]
  },
  {
   "cell_type": "code",
   "execution_count": 74,
   "metadata": {},
   "outputs": [
    {
     "data": {
      "text/html": [
       "<div>\n",
       "<style scoped>\n",
       "    .dataframe tbody tr th:only-of-type {\n",
       "        vertical-align: middle;\n",
       "    }\n",
       "\n",
       "    .dataframe tbody tr th {\n",
       "        vertical-align: top;\n",
       "    }\n",
       "\n",
       "    .dataframe thead th {\n",
       "        text-align: right;\n",
       "    }\n",
       "</style>\n",
       "<table border=\"1\" class=\"dataframe\">\n",
       "  <thead>\n",
       "    <tr style=\"text-align: right;\">\n",
       "      <th></th>\n",
       "      <th>GP</th>\n",
       "      <th>PTS</th>\n",
       "      <th>REB</th>\n",
       "      <th>AST</th>\n",
       "      <th>G</th>\n",
       "      <th>MIN</th>\n",
       "      <th>PFD</th>\n",
       "      <th>FGM</th>\n",
       "      <th>FGA</th>\n",
       "      <th>FG_PCT</th>\n",
       "      <th>FG3M</th>\n",
       "      <th>FG3A</th>\n",
       "      <th>FG3_PCT</th>\n",
       "      <th>FTM</th>\n",
       "      <th>FTA</th>\n",
       "      <th>FT_PCT</th>\n",
       "      <th>OREB</th>\n",
       "      <th>DREB</th>\n",
       "      <th>STL</th>\n",
       "      <th>BLK</th>\n",
       "      <th>BLKA</th>\n",
       "      <th>TOV</th>\n",
       "      <th>PF</th>\n",
       "      <th>CONTESTED_SHOTS</th>\n",
       "      <th>CONTESTED_SHOTS_2PT</th>\n",
       "      <th>CONTESTED_SHOTS_3PT</th>\n",
       "      <th>DEFLECTIONS</th>\n",
       "      <th>CHARGES_DRAWN</th>\n",
       "      <th>SCREEN_ASSISTS</th>\n",
       "      <th>OFF_BOXOUTS</th>\n",
       "      <th>DEF_BOXOUTS</th>\n",
       "      <th>BOX_OUTS</th>\n",
       "    </tr>\n",
       "  </thead>\n",
       "  <tbody>\n",
       "    <tr>\n",
       "      <th>0</th>\n",
       "      <td>15</td>\n",
       "      <td>3.7</td>\n",
       "      <td>1.4</td>\n",
       "      <td>0.1</td>\n",
       "      <td>15</td>\n",
       "      <td>7.2</td>\n",
       "      <td>0.4</td>\n",
       "      <td>1.5</td>\n",
       "      <td>2.9</td>\n",
       "      <td>0.500</td>\n",
       "      <td>0.7</td>\n",
       "      <td>1.7</td>\n",
       "      <td>0.400</td>\n",
       "      <td>0.1</td>\n",
       "      <td>0.5</td>\n",
       "      <td>0.250</td>\n",
       "      <td>0.4</td>\n",
       "      <td>1.0</td>\n",
       "      <td>0.1</td>\n",
       "      <td>0.0</td>\n",
       "      <td>0.2</td>\n",
       "      <td>0.2</td>\n",
       "      <td>0.7</td>\n",
       "      <td>0.93</td>\n",
       "      <td>0.47</td>\n",
       "      <td>0.47</td>\n",
       "      <td>0.33</td>\n",
       "      <td>0.00</td>\n",
       "      <td>0.07</td>\n",
       "      <td>0.00</td>\n",
       "      <td>0.00</td>\n",
       "      <td>0.00</td>\n",
       "    </tr>\n",
       "    <tr>\n",
       "      <th>1</th>\n",
       "      <td>35</td>\n",
       "      <td>4.4</td>\n",
       "      <td>1.3</td>\n",
       "      <td>0.6</td>\n",
       "      <td>35</td>\n",
       "      <td>9.9</td>\n",
       "      <td>0.1</td>\n",
       "      <td>1.5</td>\n",
       "      <td>3.6</td>\n",
       "      <td>0.424</td>\n",
       "      <td>1.3</td>\n",
       "      <td>3.0</td>\n",
       "      <td>0.419</td>\n",
       "      <td>0.1</td>\n",
       "      <td>0.1</td>\n",
       "      <td>1.000</td>\n",
       "      <td>0.2</td>\n",
       "      <td>1.1</td>\n",
       "      <td>0.2</td>\n",
       "      <td>0.0</td>\n",
       "      <td>0.0</td>\n",
       "      <td>0.3</td>\n",
       "      <td>0.9</td>\n",
       "      <td>1.29</td>\n",
       "      <td>0.57</td>\n",
       "      <td>0.71</td>\n",
       "      <td>0.23</td>\n",
       "      <td>0.03</td>\n",
       "      <td>0.14</td>\n",
       "      <td>0.00</td>\n",
       "      <td>0.11</td>\n",
       "      <td>0.11</td>\n",
       "    </tr>\n",
       "    <tr>\n",
       "      <th>2</th>\n",
       "      <td>72</td>\n",
       "      <td>8.9</td>\n",
       "      <td>2.1</td>\n",
       "      <td>1.0</td>\n",
       "      <td>72</td>\n",
       "      <td>19.5</td>\n",
       "      <td>0.6</td>\n",
       "      <td>3.4</td>\n",
       "      <td>7.4</td>\n",
       "      <td>0.465</td>\n",
       "      <td>1.4</td>\n",
       "      <td>3.6</td>\n",
       "      <td>0.390</td>\n",
       "      <td>0.6</td>\n",
       "      <td>0.7</td>\n",
       "      <td>0.894</td>\n",
       "      <td>0.5</td>\n",
       "      <td>1.6</td>\n",
       "      <td>0.6</td>\n",
       "      <td>0.2</td>\n",
       "      <td>0.3</td>\n",
       "      <td>0.6</td>\n",
       "      <td>1.2</td>\n",
       "      <td>2.88</td>\n",
       "      <td>1.42</td>\n",
       "      <td>1.46</td>\n",
       "      <td>0.88</td>\n",
       "      <td>0.00</td>\n",
       "      <td>0.17</td>\n",
       "      <td>0.00</td>\n",
       "      <td>0.08</td>\n",
       "      <td>0.08</td>\n",
       "    </tr>\n",
       "    <tr>\n",
       "      <th>3</th>\n",
       "      <td>68</td>\n",
       "      <td>16.3</td>\n",
       "      <td>6.6</td>\n",
       "      <td>3.0</td>\n",
       "      <td>68</td>\n",
       "      <td>30.2</td>\n",
       "      <td>3.6</td>\n",
       "      <td>6.3</td>\n",
       "      <td>11.2</td>\n",
       "      <td>0.564</td>\n",
       "      <td>0.9</td>\n",
       "      <td>2.5</td>\n",
       "      <td>0.347</td>\n",
       "      <td>2.8</td>\n",
       "      <td>4.6</td>\n",
       "      <td>0.608</td>\n",
       "      <td>2.4</td>\n",
       "      <td>4.1</td>\n",
       "      <td>0.8</td>\n",
       "      <td>0.8</td>\n",
       "      <td>1.0</td>\n",
       "      <td>1.4</td>\n",
       "      <td>1.9</td>\n",
       "      <td>5.50</td>\n",
       "      <td>3.93</td>\n",
       "      <td>1.57</td>\n",
       "      <td>1.16</td>\n",
       "      <td>0.01</td>\n",
       "      <td>0.87</td>\n",
       "      <td>0.18</td>\n",
       "      <td>0.29</td>\n",
       "      <td>0.47</td>\n",
       "    </tr>\n",
       "    <tr>\n",
       "      <th>4</th>\n",
       "      <td>63</td>\n",
       "      <td>3.9</td>\n",
       "      <td>1.2</td>\n",
       "      <td>1.4</td>\n",
       "      <td>63</td>\n",
       "      <td>13.4</td>\n",
       "      <td>0.8</td>\n",
       "      <td>1.5</td>\n",
       "      <td>3.5</td>\n",
       "      <td>0.418</td>\n",
       "      <td>0.6</td>\n",
       "      <td>1.4</td>\n",
       "      <td>0.409</td>\n",
       "      <td>0.4</td>\n",
       "      <td>0.5</td>\n",
       "      <td>0.844</td>\n",
       "      <td>0.4</td>\n",
       "      <td>0.8</td>\n",
       "      <td>0.6</td>\n",
       "      <td>0.2</td>\n",
       "      <td>0.3</td>\n",
       "      <td>0.6</td>\n",
       "      <td>1.3</td>\n",
       "      <td>1.84</td>\n",
       "      <td>0.94</td>\n",
       "      <td>0.90</td>\n",
       "      <td>1.11</td>\n",
       "      <td>0.00</td>\n",
       "      <td>0.03</td>\n",
       "      <td>0.00</td>\n",
       "      <td>0.14</td>\n",
       "      <td>0.14</td>\n",
       "    </tr>\n",
       "  </tbody>\n",
       "</table>\n",
       "</div>"
      ],
      "text/plain": [
       "   GP   PTS  REB  AST   G   MIN  PFD  FGM   FGA  FG_PCT  FG3M  FG3A  FG3_PCT  \\\n",
       "0  15   3.7  1.4  0.1  15   7.2  0.4  1.5   2.9   0.500   0.7   1.7    0.400   \n",
       "1  35   4.4  1.3  0.6  35   9.9  0.1  1.5   3.6   0.424   1.3   3.0    0.419   \n",
       "2  72   8.9  2.1  1.0  72  19.5  0.6  3.4   7.4   0.465   1.4   3.6    0.390   \n",
       "3  68  16.3  6.6  3.0  68  30.2  3.6  6.3  11.2   0.564   0.9   2.5    0.347   \n",
       "4  63   3.9  1.2  1.4  63  13.4  0.8  1.5   3.5   0.418   0.6   1.4    0.409   \n",
       "\n",
       "   FTM  FTA  FT_PCT  OREB  DREB  STL  BLK  BLKA  TOV   PF  CONTESTED_SHOTS  \\\n",
       "0  0.1  0.5   0.250   0.4   1.0  0.1  0.0   0.2  0.2  0.7             0.93   \n",
       "1  0.1  0.1   1.000   0.2   1.1  0.2  0.0   0.0  0.3  0.9             1.29   \n",
       "2  0.6  0.7   0.894   0.5   1.6  0.6  0.2   0.3  0.6  1.2             2.88   \n",
       "3  2.8  4.6   0.608   2.4   4.1  0.8  0.8   1.0  1.4  1.9             5.50   \n",
       "4  0.4  0.5   0.844   0.4   0.8  0.6  0.2   0.3  0.6  1.3             1.84   \n",
       "\n",
       "   CONTESTED_SHOTS_2PT  CONTESTED_SHOTS_3PT  DEFLECTIONS  CHARGES_DRAWN  \\\n",
       "0                 0.47                 0.47         0.33           0.00   \n",
       "1                 0.57                 0.71         0.23           0.03   \n",
       "2                 1.42                 1.46         0.88           0.00   \n",
       "3                 3.93                 1.57         1.16           0.01   \n",
       "4                 0.94                 0.90         1.11           0.00   \n",
       "\n",
       "   SCREEN_ASSISTS  OFF_BOXOUTS  DEF_BOXOUTS  BOX_OUTS  \n",
       "0            0.07         0.00         0.00      0.00  \n",
       "1            0.14         0.00         0.11      0.11  \n",
       "2            0.17         0.00         0.08      0.08  \n",
       "3            0.87         0.18         0.29      0.47  \n",
       "4            0.03         0.00         0.14      0.14  "
      ]
     },
     "execution_count": 74,
     "metadata": {},
     "output_type": "execute_result"
    }
   ],
   "source": [
    "num_attributes = df_selected.select_dtypes( include=['int64', 'float64'] )\n",
    "num_attributes_not_transform = ['AGE', 'PLAYER_ID', 'TEAM_ID', \n",
    "                                'JERSEY_NUMBER', 'PLAYER_HEIGHT_INCHES', \n",
    "                                'PLAYER_HEIGHT_CM', 'PLAYER_WEIGHT_LBS', \n",
    "                                'PLAYER_WEIGHT_KG', 'PLUS_MINUS']\n",
    "num_attributes = num_attributes.drop(num_attributes_not_transform, axis = 1)\n",
    "num_attributes.head()"
   ]
  },
  {
   "cell_type": "code",
   "execution_count": 75,
   "metadata": {},
   "outputs": [],
   "source": [
    "num_attributes = num_attributes.apply(lambda x: x/x.max(), axis = 0)\n",
    "df_transformed = df_selected.copy()\n",
    "df_transformed[num_attributes.columns] = num_attributes"
   ]
  },
  {
   "cell_type": "code",
   "execution_count": 76,
   "metadata": {},
   "outputs": [
    {
     "data": {
      "text/html": [
       "<div>\n",
       "<style scoped>\n",
       "    .dataframe tbody tr th:only-of-type {\n",
       "        vertical-align: middle;\n",
       "    }\n",
       "\n",
       "    .dataframe tbody tr th {\n",
       "        vertical-align: top;\n",
       "    }\n",
       "\n",
       "    .dataframe thead th {\n",
       "        text-align: right;\n",
       "    }\n",
       "</style>\n",
       "<table border=\"1\" class=\"dataframe\">\n",
       "  <thead>\n",
       "    <tr style=\"text-align: right;\">\n",
       "      <th></th>\n",
       "      <th>PLAYER_ID</th>\n",
       "      <th>PLAYER_NAME</th>\n",
       "      <th>PLAYER_LAST_NAME</th>\n",
       "      <th>PLAYER_FIRST_NAME</th>\n",
       "      <th>TEAM_ID</th>\n",
       "      <th>TEAM_ABBREVIATION</th>\n",
       "      <th>AGE</th>\n",
       "      <th>JERSEY_NUMBER</th>\n",
       "      <th>POSITION</th>\n",
       "      <th>PLAYER_HEIGHT_INCHES</th>\n",
       "      <th>PLAYER_HEIGHT_CM</th>\n",
       "      <th>PLAYER_WEIGHT_LBS</th>\n",
       "      <th>PLAYER_WEIGHT_KG</th>\n",
       "      <th>COLLEGE</th>\n",
       "      <th>COUNTRY</th>\n",
       "      <th>DRAFT_YEAR</th>\n",
       "      <th>PLUS_MINUS</th>\n",
       "      <th>GP</th>\n",
       "      <th>PTS</th>\n",
       "      <th>REB</th>\n",
       "      <th>AST</th>\n",
       "      <th>G</th>\n",
       "      <th>MIN</th>\n",
       "      <th>PFD</th>\n",
       "      <th>FGM</th>\n",
       "      <th>FGA</th>\n",
       "      <th>FG_PCT</th>\n",
       "      <th>FG3M</th>\n",
       "      <th>FG3A</th>\n",
       "      <th>FG3_PCT</th>\n",
       "      <th>FTM</th>\n",
       "      <th>FTA</th>\n",
       "      <th>FT_PCT</th>\n",
       "      <th>OREB</th>\n",
       "      <th>DREB</th>\n",
       "      <th>STL</th>\n",
       "      <th>BLK</th>\n",
       "      <th>BLKA</th>\n",
       "      <th>TOV</th>\n",
       "      <th>PF</th>\n",
       "      <th>CONTESTED_SHOTS</th>\n",
       "      <th>CONTESTED_SHOTS_2PT</th>\n",
       "      <th>CONTESTED_SHOTS_3PT</th>\n",
       "      <th>DEFLECTIONS</th>\n",
       "      <th>CHARGES_DRAWN</th>\n",
       "      <th>SCREEN_ASSISTS</th>\n",
       "      <th>OFF_BOXOUTS</th>\n",
       "      <th>DEF_BOXOUTS</th>\n",
       "      <th>BOX_OUTS</th>\n",
       "    </tr>\n",
       "  </thead>\n",
       "  <tbody>\n",
       "    <tr>\n",
       "      <th>0</th>\n",
       "      <td>1630639</td>\n",
       "      <td>A.J. Lawson</td>\n",
       "      <td>Lawson</td>\n",
       "      <td>A.J.</td>\n",
       "      <td>1610612742</td>\n",
       "      <td>DAL</td>\n",
       "      <td>22.0</td>\n",
       "      <td>9.0</td>\n",
       "      <td>G</td>\n",
       "      <td>78</td>\n",
       "      <td>198.0</td>\n",
       "      <td>179</td>\n",
       "      <td>81.2</td>\n",
       "      <td>South Carolina</td>\n",
       "      <td>Canada</td>\n",
       "      <td>Undrafted</td>\n",
       "      <td>-3.1</td>\n",
       "      <td>0.180723</td>\n",
       "      <td>0.111782</td>\n",
       "      <td>0.112</td>\n",
       "      <td>0.009346</td>\n",
       "      <td>0.180723</td>\n",
       "      <td>0.176471</td>\n",
       "      <td>0.044444</td>\n",
       "      <td>0.133929</td>\n",
       "      <td>0.130631</td>\n",
       "      <td>0.500</td>\n",
       "      <td>0.142857</td>\n",
       "      <td>0.149123</td>\n",
       "      <td>0.400</td>\n",
       "      <td>0.01</td>\n",
       "      <td>0.040650</td>\n",
       "      <td>0.250</td>\n",
       "      <td>0.078431</td>\n",
       "      <td>0.104167</td>\n",
       "      <td>0.033333</td>\n",
       "      <td>0.000000</td>\n",
       "      <td>0.105263</td>\n",
       "      <td>0.048780</td>\n",
       "      <td>0.14</td>\n",
       "      <td>0.053295</td>\n",
       "      <td>0.029898</td>\n",
       "      <td>0.129477</td>\n",
       "      <td>0.0825</td>\n",
       "      <td>0.000000</td>\n",
       "      <td>0.012411</td>\n",
       "      <td>0.000000</td>\n",
       "      <td>0.000000</td>\n",
       "      <td>0.000000</td>\n",
       "    </tr>\n",
       "    <tr>\n",
       "      <th>1</th>\n",
       "      <td>1631260</td>\n",
       "      <td>AJ Green</td>\n",
       "      <td>Green</td>\n",
       "      <td>AJ</td>\n",
       "      <td>1610612749</td>\n",
       "      <td>MIL</td>\n",
       "      <td>23.0</td>\n",
       "      <td>20.0</td>\n",
       "      <td>G</td>\n",
       "      <td>77</td>\n",
       "      <td>196.0</td>\n",
       "      <td>190</td>\n",
       "      <td>86.2</td>\n",
       "      <td>Northern Iowa</td>\n",
       "      <td>USA</td>\n",
       "      <td>Undrafted</td>\n",
       "      <td>-0.7</td>\n",
       "      <td>0.421687</td>\n",
       "      <td>0.132931</td>\n",
       "      <td>0.104</td>\n",
       "      <td>0.056075</td>\n",
       "      <td>0.421687</td>\n",
       "      <td>0.242647</td>\n",
       "      <td>0.011111</td>\n",
       "      <td>0.133929</td>\n",
       "      <td>0.162162</td>\n",
       "      <td>0.424</td>\n",
       "      <td>0.265306</td>\n",
       "      <td>0.263158</td>\n",
       "      <td>0.419</td>\n",
       "      <td>0.01</td>\n",
       "      <td>0.008130</td>\n",
       "      <td>1.000</td>\n",
       "      <td>0.039216</td>\n",
       "      <td>0.114583</td>\n",
       "      <td>0.066667</td>\n",
       "      <td>0.000000</td>\n",
       "      <td>0.000000</td>\n",
       "      <td>0.073171</td>\n",
       "      <td>0.18</td>\n",
       "      <td>0.073926</td>\n",
       "      <td>0.036260</td>\n",
       "      <td>0.195592</td>\n",
       "      <td>0.0575</td>\n",
       "      <td>0.034091</td>\n",
       "      <td>0.024823</td>\n",
       "      <td>0.000000</td>\n",
       "      <td>0.057592</td>\n",
       "      <td>0.035256</td>\n",
       "    </tr>\n",
       "    <tr>\n",
       "      <th>2</th>\n",
       "      <td>1631100</td>\n",
       "      <td>AJ Griffin</td>\n",
       "      <td>Griffin</td>\n",
       "      <td>AJ</td>\n",
       "      <td>1610612737</td>\n",
       "      <td>ATL</td>\n",
       "      <td>19.0</td>\n",
       "      <td>14.0</td>\n",
       "      <td>F</td>\n",
       "      <td>78</td>\n",
       "      <td>198.0</td>\n",
       "      <td>220</td>\n",
       "      <td>99.8</td>\n",
       "      <td>Duke</td>\n",
       "      <td>USA</td>\n",
       "      <td>2022</td>\n",
       "      <td>0.9</td>\n",
       "      <td>0.867470</td>\n",
       "      <td>0.268882</td>\n",
       "      <td>0.168</td>\n",
       "      <td>0.093458</td>\n",
       "      <td>0.867470</td>\n",
       "      <td>0.477941</td>\n",
       "      <td>0.066667</td>\n",
       "      <td>0.303571</td>\n",
       "      <td>0.333333</td>\n",
       "      <td>0.465</td>\n",
       "      <td>0.285714</td>\n",
       "      <td>0.315789</td>\n",
       "      <td>0.390</td>\n",
       "      <td>0.06</td>\n",
       "      <td>0.056911</td>\n",
       "      <td>0.894</td>\n",
       "      <td>0.098039</td>\n",
       "      <td>0.166667</td>\n",
       "      <td>0.200000</td>\n",
       "      <td>0.066667</td>\n",
       "      <td>0.157895</td>\n",
       "      <td>0.146341</td>\n",
       "      <td>0.24</td>\n",
       "      <td>0.165043</td>\n",
       "      <td>0.090331</td>\n",
       "      <td>0.402204</td>\n",
       "      <td>0.2200</td>\n",
       "      <td>0.000000</td>\n",
       "      <td>0.030142</td>\n",
       "      <td>0.000000</td>\n",
       "      <td>0.041885</td>\n",
       "      <td>0.025641</td>\n",
       "    </tr>\n",
       "    <tr>\n",
       "      <th>3</th>\n",
       "      <td>203932</td>\n",
       "      <td>Aaron Gordon</td>\n",
       "      <td>Gordon</td>\n",
       "      <td>Aaron</td>\n",
       "      <td>1610612743</td>\n",
       "      <td>DEN</td>\n",
       "      <td>27.0</td>\n",
       "      <td>50.0</td>\n",
       "      <td>F</td>\n",
       "      <td>80</td>\n",
       "      <td>203.0</td>\n",
       "      <td>235</td>\n",
       "      <td>106.6</td>\n",
       "      <td>Arizona</td>\n",
       "      <td>USA</td>\n",
       "      <td>2014</td>\n",
       "      <td>7.6</td>\n",
       "      <td>0.819277</td>\n",
       "      <td>0.492447</td>\n",
       "      <td>0.528</td>\n",
       "      <td>0.280374</td>\n",
       "      <td>0.819277</td>\n",
       "      <td>0.740196</td>\n",
       "      <td>0.400000</td>\n",
       "      <td>0.562500</td>\n",
       "      <td>0.504505</td>\n",
       "      <td>0.564</td>\n",
       "      <td>0.183673</td>\n",
       "      <td>0.219298</td>\n",
       "      <td>0.347</td>\n",
       "      <td>0.28</td>\n",
       "      <td>0.373984</td>\n",
       "      <td>0.608</td>\n",
       "      <td>0.470588</td>\n",
       "      <td>0.427083</td>\n",
       "      <td>0.266667</td>\n",
       "      <td>0.266667</td>\n",
       "      <td>0.526316</td>\n",
       "      <td>0.341463</td>\n",
       "      <td>0.38</td>\n",
       "      <td>0.315186</td>\n",
       "      <td>0.250000</td>\n",
       "      <td>0.432507</td>\n",
       "      <td>0.2900</td>\n",
       "      <td>0.011364</td>\n",
       "      <td>0.154255</td>\n",
       "      <td>0.139535</td>\n",
       "      <td>0.151832</td>\n",
       "      <td>0.150641</td>\n",
       "    </tr>\n",
       "    <tr>\n",
       "      <th>4</th>\n",
       "      <td>1628988</td>\n",
       "      <td>Aaron Holiday</td>\n",
       "      <td>Holiday</td>\n",
       "      <td>Aaron</td>\n",
       "      <td>1610612737</td>\n",
       "      <td>ATL</td>\n",
       "      <td>26.0</td>\n",
       "      <td>3.0</td>\n",
       "      <td>G</td>\n",
       "      <td>72</td>\n",
       "      <td>183.0</td>\n",
       "      <td>185</td>\n",
       "      <td>83.9</td>\n",
       "      <td>UCLA</td>\n",
       "      <td>USA</td>\n",
       "      <td>2018</td>\n",
       "      <td>0.3</td>\n",
       "      <td>0.759036</td>\n",
       "      <td>0.117825</td>\n",
       "      <td>0.096</td>\n",
       "      <td>0.130841</td>\n",
       "      <td>0.759036</td>\n",
       "      <td>0.328431</td>\n",
       "      <td>0.088889</td>\n",
       "      <td>0.133929</td>\n",
       "      <td>0.157658</td>\n",
       "      <td>0.418</td>\n",
       "      <td>0.122449</td>\n",
       "      <td>0.122807</td>\n",
       "      <td>0.409</td>\n",
       "      <td>0.04</td>\n",
       "      <td>0.040650</td>\n",
       "      <td>0.844</td>\n",
       "      <td>0.078431</td>\n",
       "      <td>0.083333</td>\n",
       "      <td>0.200000</td>\n",
       "      <td>0.066667</td>\n",
       "      <td>0.157895</td>\n",
       "      <td>0.146341</td>\n",
       "      <td>0.26</td>\n",
       "      <td>0.105444</td>\n",
       "      <td>0.059796</td>\n",
       "      <td>0.247934</td>\n",
       "      <td>0.2775</td>\n",
       "      <td>0.000000</td>\n",
       "      <td>0.005319</td>\n",
       "      <td>0.000000</td>\n",
       "      <td>0.073298</td>\n",
       "      <td>0.044872</td>\n",
       "    </tr>\n",
       "  </tbody>\n",
       "</table>\n",
       "</div>"
      ],
      "text/plain": [
       "   PLAYER_ID    PLAYER_NAME PLAYER_LAST_NAME PLAYER_FIRST_NAME     TEAM_ID  \\\n",
       "0    1630639    A.J. Lawson           Lawson              A.J.  1610612742   \n",
       "1    1631260       AJ Green            Green                AJ  1610612749   \n",
       "2    1631100     AJ Griffin          Griffin                AJ  1610612737   \n",
       "3     203932   Aaron Gordon           Gordon             Aaron  1610612743   \n",
       "4    1628988  Aaron Holiday          Holiday             Aaron  1610612737   \n",
       "\n",
       "  TEAM_ABBREVIATION   AGE  JERSEY_NUMBER POSITION  PLAYER_HEIGHT_INCHES  \\\n",
       "0               DAL  22.0            9.0        G                    78   \n",
       "1               MIL  23.0           20.0        G                    77   \n",
       "2               ATL  19.0           14.0        F                    78   \n",
       "3               DEN  27.0           50.0        F                    80   \n",
       "4               ATL  26.0            3.0        G                    72   \n",
       "\n",
       "   PLAYER_HEIGHT_CM  PLAYER_WEIGHT_LBS  PLAYER_WEIGHT_KG         COLLEGE  \\\n",
       "0             198.0                179              81.2  South Carolina   \n",
       "1             196.0                190              86.2   Northern Iowa   \n",
       "2             198.0                220              99.8            Duke   \n",
       "3             203.0                235             106.6         Arizona   \n",
       "4             183.0                185              83.9            UCLA   \n",
       "\n",
       "  COUNTRY DRAFT_YEAR  PLUS_MINUS        GP       PTS    REB       AST  \\\n",
       "0  Canada  Undrafted        -3.1  0.180723  0.111782  0.112  0.009346   \n",
       "1     USA  Undrafted        -0.7  0.421687  0.132931  0.104  0.056075   \n",
       "2     USA       2022         0.9  0.867470  0.268882  0.168  0.093458   \n",
       "3     USA       2014         7.6  0.819277  0.492447  0.528  0.280374   \n",
       "4     USA       2018         0.3  0.759036  0.117825  0.096  0.130841   \n",
       "\n",
       "          G       MIN       PFD       FGM       FGA  FG_PCT      FG3M  \\\n",
       "0  0.180723  0.176471  0.044444  0.133929  0.130631   0.500  0.142857   \n",
       "1  0.421687  0.242647  0.011111  0.133929  0.162162   0.424  0.265306   \n",
       "2  0.867470  0.477941  0.066667  0.303571  0.333333   0.465  0.285714   \n",
       "3  0.819277  0.740196  0.400000  0.562500  0.504505   0.564  0.183673   \n",
       "4  0.759036  0.328431  0.088889  0.133929  0.157658   0.418  0.122449   \n",
       "\n",
       "       FG3A  FG3_PCT   FTM       FTA  FT_PCT      OREB      DREB       STL  \\\n",
       "0  0.149123    0.400  0.01  0.040650   0.250  0.078431  0.104167  0.033333   \n",
       "1  0.263158    0.419  0.01  0.008130   1.000  0.039216  0.114583  0.066667   \n",
       "2  0.315789    0.390  0.06  0.056911   0.894  0.098039  0.166667  0.200000   \n",
       "3  0.219298    0.347  0.28  0.373984   0.608  0.470588  0.427083  0.266667   \n",
       "4  0.122807    0.409  0.04  0.040650   0.844  0.078431  0.083333  0.200000   \n",
       "\n",
       "        BLK      BLKA       TOV    PF  CONTESTED_SHOTS  CONTESTED_SHOTS_2PT  \\\n",
       "0  0.000000  0.105263  0.048780  0.14         0.053295             0.029898   \n",
       "1  0.000000  0.000000  0.073171  0.18         0.073926             0.036260   \n",
       "2  0.066667  0.157895  0.146341  0.24         0.165043             0.090331   \n",
       "3  0.266667  0.526316  0.341463  0.38         0.315186             0.250000   \n",
       "4  0.066667  0.157895  0.146341  0.26         0.105444             0.059796   \n",
       "\n",
       "   CONTESTED_SHOTS_3PT  DEFLECTIONS  CHARGES_DRAWN  SCREEN_ASSISTS  \\\n",
       "0             0.129477       0.0825       0.000000        0.012411   \n",
       "1             0.195592       0.0575       0.034091        0.024823   \n",
       "2             0.402204       0.2200       0.000000        0.030142   \n",
       "3             0.432507       0.2900       0.011364        0.154255   \n",
       "4             0.247934       0.2775       0.000000        0.005319   \n",
       "\n",
       "   OFF_BOXOUTS  DEF_BOXOUTS  BOX_OUTS  \n",
       "0     0.000000     0.000000  0.000000  \n",
       "1     0.000000     0.057592  0.035256  \n",
       "2     0.000000     0.041885  0.025641  \n",
       "3     0.139535     0.151832  0.150641  \n",
       "4     0.000000     0.073298  0.044872  "
      ]
     },
     "execution_count": 76,
     "metadata": {},
     "output_type": "execute_result"
    }
   ],
   "source": [
    "df_transformed.head()"
   ]
  },
  {
   "cell_type": "code",
   "execution_count": 65,
   "metadata": {},
   "outputs": [],
   "source": [
    "# # Transforming the PLUS_MINUS feature, but it doesn't make sense\n",
    "\n",
    "# df_transformed['PLUS_MINUS'].apply(\n",
    "#     lambda x: x/abs(df_transformed['PLUS_MINUS'].min()) if x<0 else\n",
    "#               x/abs(df_transformed['PLUS_MINUS'].max()) if x>0 else\n",
    "#               x).sample(10)"
   ]
  },
  {
   "attachments": {},
   "cell_type": "markdown",
   "metadata": {},
   "source": [
    "### 5.1.1. <a id='toc5_1_1_'></a>[Exporting the transformed DataFrame as CSV file](#toc0_)"
   ]
  },
  {
   "cell_type": "code",
   "execution_count": 77,
   "metadata": {},
   "outputs": [],
   "source": [
    "df_transformed.to_csv('/home/bruno/repos/NBA_2022-2023/data/transformed_df.csv', index=False)"
   ]
  },
  {
   "attachments": {},
   "cell_type": "markdown",
   "metadata": {},
   "source": [
    "# 6. <a id='toc6_'></a>[Plotting the radar charts](#toc0_)"
   ]
  },
  {
   "attachments": {},
   "cell_type": "markdown",
   "metadata": {},
   "source": [
    "## 6.1.1. <a id='toc6_1_1_'></a>[Importing the transformed data](#toc0_)"
   ]
  },
  {
   "cell_type": "code",
   "execution_count": 78,
   "metadata": {},
   "outputs": [],
   "source": [
    "df_transformed = pd.read_csv('/home/bruno/repos/NBA_2022-2023/data/transformed_df.csv', low_memory=False)"
   ]
  },
  {
   "attachments": {},
   "cell_type": "markdown",
   "metadata": {},
   "source": [
    "## Processing the data"
   ]
  },
  {
   "cell_type": "code",
   "execution_count": 90,
   "metadata": {},
   "outputs": [],
   "source": [
    "# Features of the charts\n",
    "offensive_features = ['PTS', 'AST', 'FG_PCT', 'FG3_PCT', 'FT_PCT', ]\n",
    "defensive_features = ['OREB', 'DREB', 'STL', 'BLK', 'CONTESTED_SHOTS', 'BOX_OUTS', 'CHARGES_DRAWN']\n",
    "descriptive_features = ['GP', 'MIN', 'PF', 'PFD', 'TOV', 'REB']"
   ]
  },
  {
   "cell_type": "code",
   "execution_count": 91,
   "metadata": {},
   "outputs": [],
   "source": [
    "# Players to be compared\n",
    "playerA = 'Jayson Tatum'\n",
    "playerB = 'Joel Embiid'"
   ]
  },
  {
   "cell_type": "code",
   "execution_count": 92,
   "metadata": {},
   "outputs": [],
   "source": [
    "# Offensive features\n",
    "auxA = df_transformed[df_transformed['PLAYER_NAME'] == playerA][offensive_features].T\n",
    "auxA.columns = [playerA]\n",
    "auxB = df_transformed[df_transformed['PLAYER_NAME'] == playerB][offensive_features].T\n",
    "auxB.columns = [playerB]\n",
    "\n",
    "# Defensive features\n",
    "auxA = df_transformed[df_transformed['PLAYER_NAME'] == playerA][defensive_features].T\n",
    "auxA.columns = [playerA]\n",
    "auxB = df_transformed[df_transformed['PLAYER_NAME'] == playerB][defensive_features].T\n",
    "auxB.columns = [playerB]\n",
    "\n",
    "# Descriptive features\n",
    "auxA = df_transformed[df_transformed['PLAYER_NAME'] == playerA][descriptive_features].T\n",
    "auxA.columns = [playerA]\n",
    "auxB = df_transformed[df_transformed['PLAYER_NAME'] == playerB][descriptive_features].T\n",
    "auxB.columns = [playerB]"
   ]
  },
  {
   "attachments": {},
   "cell_type": "markdown",
   "metadata": {},
   "source": [
    "## Plotting"
   ]
  },
  {
   "attachments": {},
   "cell_type": "markdown",
   "metadata": {},
   "source": [
    "#### Offensive chart"
   ]
  },
  {
   "cell_type": "code",
   "execution_count": 93,
   "metadata": {},
   "outputs": [
    {
     "data": {
      "application/vnd.plotly.v1+json": {
       "config": {
        "plotlyServerURL": "https://plot.ly"
       },
       "data": [
        {
         "fill": "toself",
         "name": "Jayson Tatum",
         "r": [
          0.891566265060241,
          0.9044117647058824,
          0.44,
          0.6000000000000001,
          0.7073170731707318,
          0.7040000000000001
         ],
         "theta": [
          "PTS",
          "AST",
          "FG_PCT",
          "FG3_PCT",
          "FT_PCT"
         ],
         "type": "scatterpolar"
        },
        {
         "fill": "toself",
         "name": "Joel Embiid",
         "r": [
          0.7951807228915663,
          0.8480392156862746,
          0.62,
          0.8555555555555556,
          0.8292682926829269,
          0.816
         ],
         "theta": [
          "PTS",
          "AST",
          "FG_PCT",
          "FG3_PCT",
          "FT_PCT"
         ],
         "type": "scatterpolar"
        }
       ],
       "layout": {
        "height": 800,
        "polar": {
         "radialaxis": {
          "range": [
           0,
           1
          ],
          "visible": true
         }
        },
        "showlegend": true,
        "template": {
         "data": {
          "bar": [
           {
            "error_x": {
             "color": "#f2f5fa"
            },
            "error_y": {
             "color": "#f2f5fa"
            },
            "marker": {
             "line": {
              "color": "rgb(17,17,17)",
              "width": 0.5
             },
             "pattern": {
              "fillmode": "overlay",
              "size": 10,
              "solidity": 0.2
             }
            },
            "type": "bar"
           }
          ],
          "barpolar": [
           {
            "marker": {
             "line": {
              "color": "rgb(17,17,17)",
              "width": 0.5
             },
             "pattern": {
              "fillmode": "overlay",
              "size": 10,
              "solidity": 0.2
             }
            },
            "type": "barpolar"
           }
          ],
          "carpet": [
           {
            "aaxis": {
             "endlinecolor": "#A2B1C6",
             "gridcolor": "#506784",
             "linecolor": "#506784",
             "minorgridcolor": "#506784",
             "startlinecolor": "#A2B1C6"
            },
            "baxis": {
             "endlinecolor": "#A2B1C6",
             "gridcolor": "#506784",
             "linecolor": "#506784",
             "minorgridcolor": "#506784",
             "startlinecolor": "#A2B1C6"
            },
            "type": "carpet"
           }
          ],
          "choropleth": [
           {
            "colorbar": {
             "outlinewidth": 0,
             "ticks": ""
            },
            "type": "choropleth"
           }
          ],
          "contour": [
           {
            "colorbar": {
             "outlinewidth": 0,
             "ticks": ""
            },
            "colorscale": [
             [
              0,
              "#0d0887"
             ],
             [
              0.1111111111111111,
              "#46039f"
             ],
             [
              0.2222222222222222,
              "#7201a8"
             ],
             [
              0.3333333333333333,
              "#9c179e"
             ],
             [
              0.4444444444444444,
              "#bd3786"
             ],
             [
              0.5555555555555556,
              "#d8576b"
             ],
             [
              0.6666666666666666,
              "#ed7953"
             ],
             [
              0.7777777777777778,
              "#fb9f3a"
             ],
             [
              0.8888888888888888,
              "#fdca26"
             ],
             [
              1,
              "#f0f921"
             ]
            ],
            "type": "contour"
           }
          ],
          "contourcarpet": [
           {
            "colorbar": {
             "outlinewidth": 0,
             "ticks": ""
            },
            "type": "contourcarpet"
           }
          ],
          "heatmap": [
           {
            "colorbar": {
             "outlinewidth": 0,
             "ticks": ""
            },
            "colorscale": [
             [
              0,
              "#0d0887"
             ],
             [
              0.1111111111111111,
              "#46039f"
             ],
             [
              0.2222222222222222,
              "#7201a8"
             ],
             [
              0.3333333333333333,
              "#9c179e"
             ],
             [
              0.4444444444444444,
              "#bd3786"
             ],
             [
              0.5555555555555556,
              "#d8576b"
             ],
             [
              0.6666666666666666,
              "#ed7953"
             ],
             [
              0.7777777777777778,
              "#fb9f3a"
             ],
             [
              0.8888888888888888,
              "#fdca26"
             ],
             [
              1,
              "#f0f921"
             ]
            ],
            "type": "heatmap"
           }
          ],
          "heatmapgl": [
           {
            "colorbar": {
             "outlinewidth": 0,
             "ticks": ""
            },
            "colorscale": [
             [
              0,
              "#0d0887"
             ],
             [
              0.1111111111111111,
              "#46039f"
             ],
             [
              0.2222222222222222,
              "#7201a8"
             ],
             [
              0.3333333333333333,
              "#9c179e"
             ],
             [
              0.4444444444444444,
              "#bd3786"
             ],
             [
              0.5555555555555556,
              "#d8576b"
             ],
             [
              0.6666666666666666,
              "#ed7953"
             ],
             [
              0.7777777777777778,
              "#fb9f3a"
             ],
             [
              0.8888888888888888,
              "#fdca26"
             ],
             [
              1,
              "#f0f921"
             ]
            ],
            "type": "heatmapgl"
           }
          ],
          "histogram": [
           {
            "marker": {
             "pattern": {
              "fillmode": "overlay",
              "size": 10,
              "solidity": 0.2
             }
            },
            "type": "histogram"
           }
          ],
          "histogram2d": [
           {
            "colorbar": {
             "outlinewidth": 0,
             "ticks": ""
            },
            "colorscale": [
             [
              0,
              "#0d0887"
             ],
             [
              0.1111111111111111,
              "#46039f"
             ],
             [
              0.2222222222222222,
              "#7201a8"
             ],
             [
              0.3333333333333333,
              "#9c179e"
             ],
             [
              0.4444444444444444,
              "#bd3786"
             ],
             [
              0.5555555555555556,
              "#d8576b"
             ],
             [
              0.6666666666666666,
              "#ed7953"
             ],
             [
              0.7777777777777778,
              "#fb9f3a"
             ],
             [
              0.8888888888888888,
              "#fdca26"
             ],
             [
              1,
              "#f0f921"
             ]
            ],
            "type": "histogram2d"
           }
          ],
          "histogram2dcontour": [
           {
            "colorbar": {
             "outlinewidth": 0,
             "ticks": ""
            },
            "colorscale": [
             [
              0,
              "#0d0887"
             ],
             [
              0.1111111111111111,
              "#46039f"
             ],
             [
              0.2222222222222222,
              "#7201a8"
             ],
             [
              0.3333333333333333,
              "#9c179e"
             ],
             [
              0.4444444444444444,
              "#bd3786"
             ],
             [
              0.5555555555555556,
              "#d8576b"
             ],
             [
              0.6666666666666666,
              "#ed7953"
             ],
             [
              0.7777777777777778,
              "#fb9f3a"
             ],
             [
              0.8888888888888888,
              "#fdca26"
             ],
             [
              1,
              "#f0f921"
             ]
            ],
            "type": "histogram2dcontour"
           }
          ],
          "mesh3d": [
           {
            "colorbar": {
             "outlinewidth": 0,
             "ticks": ""
            },
            "type": "mesh3d"
           }
          ],
          "parcoords": [
           {
            "line": {
             "colorbar": {
              "outlinewidth": 0,
              "ticks": ""
             }
            },
            "type": "parcoords"
           }
          ],
          "pie": [
           {
            "automargin": true,
            "type": "pie"
           }
          ],
          "scatter": [
           {
            "marker": {
             "line": {
              "color": "#283442"
             }
            },
            "type": "scatter"
           }
          ],
          "scatter3d": [
           {
            "line": {
             "colorbar": {
              "outlinewidth": 0,
              "ticks": ""
             }
            },
            "marker": {
             "colorbar": {
              "outlinewidth": 0,
              "ticks": ""
             }
            },
            "type": "scatter3d"
           }
          ],
          "scattercarpet": [
           {
            "marker": {
             "colorbar": {
              "outlinewidth": 0,
              "ticks": ""
             }
            },
            "type": "scattercarpet"
           }
          ],
          "scattergeo": [
           {
            "marker": {
             "colorbar": {
              "outlinewidth": 0,
              "ticks": ""
             }
            },
            "type": "scattergeo"
           }
          ],
          "scattergl": [
           {
            "marker": {
             "line": {
              "color": "#283442"
             }
            },
            "type": "scattergl"
           }
          ],
          "scattermapbox": [
           {
            "marker": {
             "colorbar": {
              "outlinewidth": 0,
              "ticks": ""
             }
            },
            "type": "scattermapbox"
           }
          ],
          "scatterpolar": [
           {
            "marker": {
             "colorbar": {
              "outlinewidth": 0,
              "ticks": ""
             }
            },
            "type": "scatterpolar"
           }
          ],
          "scatterpolargl": [
           {
            "marker": {
             "colorbar": {
              "outlinewidth": 0,
              "ticks": ""
             }
            },
            "type": "scatterpolargl"
           }
          ],
          "scatterternary": [
           {
            "marker": {
             "colorbar": {
              "outlinewidth": 0,
              "ticks": ""
             }
            },
            "type": "scatterternary"
           }
          ],
          "surface": [
           {
            "colorbar": {
             "outlinewidth": 0,
             "ticks": ""
            },
            "colorscale": [
             [
              0,
              "#0d0887"
             ],
             [
              0.1111111111111111,
              "#46039f"
             ],
             [
              0.2222222222222222,
              "#7201a8"
             ],
             [
              0.3333333333333333,
              "#9c179e"
             ],
             [
              0.4444444444444444,
              "#bd3786"
             ],
             [
              0.5555555555555556,
              "#d8576b"
             ],
             [
              0.6666666666666666,
              "#ed7953"
             ],
             [
              0.7777777777777778,
              "#fb9f3a"
             ],
             [
              0.8888888888888888,
              "#fdca26"
             ],
             [
              1,
              "#f0f921"
             ]
            ],
            "type": "surface"
           }
          ],
          "table": [
           {
            "cells": {
             "fill": {
              "color": "#506784"
             },
             "line": {
              "color": "rgb(17,17,17)"
             }
            },
            "header": {
             "fill": {
              "color": "#2a3f5f"
             },
             "line": {
              "color": "rgb(17,17,17)"
             }
            },
            "type": "table"
           }
          ]
         },
         "layout": {
          "annotationdefaults": {
           "arrowcolor": "#f2f5fa",
           "arrowhead": 0,
           "arrowwidth": 1
          },
          "autotypenumbers": "strict",
          "coloraxis": {
           "colorbar": {
            "outlinewidth": 0,
            "ticks": ""
           }
          },
          "colorscale": {
           "diverging": [
            [
             0,
             "#8e0152"
            ],
            [
             0.1,
             "#c51b7d"
            ],
            [
             0.2,
             "#de77ae"
            ],
            [
             0.3,
             "#f1b6da"
            ],
            [
             0.4,
             "#fde0ef"
            ],
            [
             0.5,
             "#f7f7f7"
            ],
            [
             0.6,
             "#e6f5d0"
            ],
            [
             0.7,
             "#b8e186"
            ],
            [
             0.8,
             "#7fbc41"
            ],
            [
             0.9,
             "#4d9221"
            ],
            [
             1,
             "#276419"
            ]
           ],
           "sequential": [
            [
             0,
             "#0d0887"
            ],
            [
             0.1111111111111111,
             "#46039f"
            ],
            [
             0.2222222222222222,
             "#7201a8"
            ],
            [
             0.3333333333333333,
             "#9c179e"
            ],
            [
             0.4444444444444444,
             "#bd3786"
            ],
            [
             0.5555555555555556,
             "#d8576b"
            ],
            [
             0.6666666666666666,
             "#ed7953"
            ],
            [
             0.7777777777777778,
             "#fb9f3a"
            ],
            [
             0.8888888888888888,
             "#fdca26"
            ],
            [
             1,
             "#f0f921"
            ]
           ],
           "sequentialminus": [
            [
             0,
             "#0d0887"
            ],
            [
             0.1111111111111111,
             "#46039f"
            ],
            [
             0.2222222222222222,
             "#7201a8"
            ],
            [
             0.3333333333333333,
             "#9c179e"
            ],
            [
             0.4444444444444444,
             "#bd3786"
            ],
            [
             0.5555555555555556,
             "#d8576b"
            ],
            [
             0.6666666666666666,
             "#ed7953"
            ],
            [
             0.7777777777777778,
             "#fb9f3a"
            ],
            [
             0.8888888888888888,
             "#fdca26"
            ],
            [
             1,
             "#f0f921"
            ]
           ]
          },
          "colorway": [
           "#636efa",
           "#EF553B",
           "#00cc96",
           "#ab63fa",
           "#FFA15A",
           "#19d3f3",
           "#FF6692",
           "#B6E880",
           "#FF97FF",
           "#FECB52"
          ],
          "font": {
           "color": "#f2f5fa"
          },
          "geo": {
           "bgcolor": "rgb(17,17,17)",
           "lakecolor": "rgb(17,17,17)",
           "landcolor": "rgb(17,17,17)",
           "showlakes": true,
           "showland": true,
           "subunitcolor": "#506784"
          },
          "hoverlabel": {
           "align": "left"
          },
          "hovermode": "closest",
          "mapbox": {
           "style": "dark"
          },
          "paper_bgcolor": "rgb(17,17,17)",
          "plot_bgcolor": "rgb(17,17,17)",
          "polar": {
           "angularaxis": {
            "gridcolor": "#506784",
            "linecolor": "#506784",
            "ticks": ""
           },
           "bgcolor": "rgb(17,17,17)",
           "radialaxis": {
            "gridcolor": "#506784",
            "linecolor": "#506784",
            "ticks": ""
           }
          },
          "scene": {
           "xaxis": {
            "backgroundcolor": "rgb(17,17,17)",
            "gridcolor": "#506784",
            "gridwidth": 2,
            "linecolor": "#506784",
            "showbackground": true,
            "ticks": "",
            "zerolinecolor": "#C8D4E3"
           },
           "yaxis": {
            "backgroundcolor": "rgb(17,17,17)",
            "gridcolor": "#506784",
            "gridwidth": 2,
            "linecolor": "#506784",
            "showbackground": true,
            "ticks": "",
            "zerolinecolor": "#C8D4E3"
           },
           "zaxis": {
            "backgroundcolor": "rgb(17,17,17)",
            "gridcolor": "#506784",
            "gridwidth": 2,
            "linecolor": "#506784",
            "showbackground": true,
            "ticks": "",
            "zerolinecolor": "#C8D4E3"
           }
          },
          "shapedefaults": {
           "line": {
            "color": "#f2f5fa"
           }
          },
          "sliderdefaults": {
           "bgcolor": "#C8D4E3",
           "bordercolor": "rgb(17,17,17)",
           "borderwidth": 1,
           "tickwidth": 0
          },
          "ternary": {
           "aaxis": {
            "gridcolor": "#506784",
            "linecolor": "#506784",
            "ticks": ""
           },
           "baxis": {
            "gridcolor": "#506784",
            "linecolor": "#506784",
            "ticks": ""
           },
           "bgcolor": "rgb(17,17,17)",
           "caxis": {
            "gridcolor": "#506784",
            "linecolor": "#506784",
            "ticks": ""
           }
          },
          "title": {
           "x": 0.05
          },
          "updatemenudefaults": {
           "bgcolor": "#506784",
           "borderwidth": 0
          },
          "xaxis": {
           "automargin": true,
           "gridcolor": "#283442",
           "linecolor": "#506784",
           "ticks": "",
           "title": {
            "standoff": 15
           },
           "zerolinecolor": "#283442",
           "zerolinewidth": 2
          },
          "yaxis": {
           "automargin": true,
           "gridcolor": "#283442",
           "linecolor": "#506784",
           "ticks": "",
           "title": {
            "standoff": 15
           },
           "zerolinecolor": "#283442",
           "zerolinewidth": 2
          }
         }
        },
        "title": {
         "text": "Offensive Features"
        },
        "width": 800
       }
      }
     },
     "metadata": {},
     "output_type": "display_data"
    }
   ],
   "source": [
    "plt.rcParams['figure.figsize'] = [8, 8]\n",
    "\n",
    "fig = go.Figure()\n",
    "\n",
    "fig.add_trace(go.Scatterpolar(\n",
    "      r=auxA[playerA],\n",
    "      theta=offensive_features,\n",
    "      fill='toself',\n",
    "      name=playerA\n",
    "))\n",
    "\n",
    "fig.add_trace(go.Scatterpolar(\n",
    "      r=auxB[playerB],\n",
    "      theta=offensive_features,\n",
    "      fill='toself',\n",
    "      name=playerB\n",
    "))\n",
    "\n",
    "fig.update_layout(\n",
    "  polar=dict(\n",
    "    radialaxis=dict(\n",
    "      visible=True,\n",
    "      range=[0, 1]\n",
    "    )),\n",
    "  showlegend=True,\n",
    "  width=800, height=800,\n",
    "  template=\"plotly_dark\",\n",
    "  title = 'Offensive Features'\n",
    ")\n",
    "\n",
    "fig.show()"
   ]
  },
  {
   "attachments": {},
   "cell_type": "markdown",
   "metadata": {},
   "source": [
    "#### Defensive chart"
   ]
  },
  {
   "cell_type": "code",
   "execution_count": 94,
   "metadata": {},
   "outputs": [
    {
     "data": {
      "application/vnd.plotly.v1+json": {
       "config": {
        "plotlyServerURL": "https://plot.ly"
       },
       "data": [
        {
         "fill": "toself",
         "name": "Jayson Tatum",
         "r": [
          0.891566265060241,
          0.9044117647058824,
          0.44,
          0.6000000000000001,
          0.7073170731707318,
          0.7040000000000001
         ],
         "theta": [
          "OREB",
          "DREB",
          "STL",
          "BLK",
          "CONTESTED_SHOTS",
          "BOX_OUTS",
          "CHARGES_DRAWN"
         ],
         "type": "scatterpolar"
        },
        {
         "fill": "toself",
         "name": "Joel Embiid",
         "r": [
          0.7951807228915663,
          0.8480392156862746,
          0.62,
          0.8555555555555556,
          0.8292682926829269,
          0.816
         ],
         "theta": [
          "OREB",
          "DREB",
          "STL",
          "BLK",
          "CONTESTED_SHOTS",
          "BOX_OUTS",
          "CHARGES_DRAWN"
         ],
         "type": "scatterpolar"
        }
       ],
       "layout": {
        "height": 800,
        "polar": {
         "radialaxis": {
          "range": [
           0,
           1
          ],
          "visible": true
         }
        },
        "showlegend": true,
        "template": {
         "data": {
          "bar": [
           {
            "error_x": {
             "color": "#f2f5fa"
            },
            "error_y": {
             "color": "#f2f5fa"
            },
            "marker": {
             "line": {
              "color": "rgb(17,17,17)",
              "width": 0.5
             },
             "pattern": {
              "fillmode": "overlay",
              "size": 10,
              "solidity": 0.2
             }
            },
            "type": "bar"
           }
          ],
          "barpolar": [
           {
            "marker": {
             "line": {
              "color": "rgb(17,17,17)",
              "width": 0.5
             },
             "pattern": {
              "fillmode": "overlay",
              "size": 10,
              "solidity": 0.2
             }
            },
            "type": "barpolar"
           }
          ],
          "carpet": [
           {
            "aaxis": {
             "endlinecolor": "#A2B1C6",
             "gridcolor": "#506784",
             "linecolor": "#506784",
             "minorgridcolor": "#506784",
             "startlinecolor": "#A2B1C6"
            },
            "baxis": {
             "endlinecolor": "#A2B1C6",
             "gridcolor": "#506784",
             "linecolor": "#506784",
             "minorgridcolor": "#506784",
             "startlinecolor": "#A2B1C6"
            },
            "type": "carpet"
           }
          ],
          "choropleth": [
           {
            "colorbar": {
             "outlinewidth": 0,
             "ticks": ""
            },
            "type": "choropleth"
           }
          ],
          "contour": [
           {
            "colorbar": {
             "outlinewidth": 0,
             "ticks": ""
            },
            "colorscale": [
             [
              0,
              "#0d0887"
             ],
             [
              0.1111111111111111,
              "#46039f"
             ],
             [
              0.2222222222222222,
              "#7201a8"
             ],
             [
              0.3333333333333333,
              "#9c179e"
             ],
             [
              0.4444444444444444,
              "#bd3786"
             ],
             [
              0.5555555555555556,
              "#d8576b"
             ],
             [
              0.6666666666666666,
              "#ed7953"
             ],
             [
              0.7777777777777778,
              "#fb9f3a"
             ],
             [
              0.8888888888888888,
              "#fdca26"
             ],
             [
              1,
              "#f0f921"
             ]
            ],
            "type": "contour"
           }
          ],
          "contourcarpet": [
           {
            "colorbar": {
             "outlinewidth": 0,
             "ticks": ""
            },
            "type": "contourcarpet"
           }
          ],
          "heatmap": [
           {
            "colorbar": {
             "outlinewidth": 0,
             "ticks": ""
            },
            "colorscale": [
             [
              0,
              "#0d0887"
             ],
             [
              0.1111111111111111,
              "#46039f"
             ],
             [
              0.2222222222222222,
              "#7201a8"
             ],
             [
              0.3333333333333333,
              "#9c179e"
             ],
             [
              0.4444444444444444,
              "#bd3786"
             ],
             [
              0.5555555555555556,
              "#d8576b"
             ],
             [
              0.6666666666666666,
              "#ed7953"
             ],
             [
              0.7777777777777778,
              "#fb9f3a"
             ],
             [
              0.8888888888888888,
              "#fdca26"
             ],
             [
              1,
              "#f0f921"
             ]
            ],
            "type": "heatmap"
           }
          ],
          "heatmapgl": [
           {
            "colorbar": {
             "outlinewidth": 0,
             "ticks": ""
            },
            "colorscale": [
             [
              0,
              "#0d0887"
             ],
             [
              0.1111111111111111,
              "#46039f"
             ],
             [
              0.2222222222222222,
              "#7201a8"
             ],
             [
              0.3333333333333333,
              "#9c179e"
             ],
             [
              0.4444444444444444,
              "#bd3786"
             ],
             [
              0.5555555555555556,
              "#d8576b"
             ],
             [
              0.6666666666666666,
              "#ed7953"
             ],
             [
              0.7777777777777778,
              "#fb9f3a"
             ],
             [
              0.8888888888888888,
              "#fdca26"
             ],
             [
              1,
              "#f0f921"
             ]
            ],
            "type": "heatmapgl"
           }
          ],
          "histogram": [
           {
            "marker": {
             "pattern": {
              "fillmode": "overlay",
              "size": 10,
              "solidity": 0.2
             }
            },
            "type": "histogram"
           }
          ],
          "histogram2d": [
           {
            "colorbar": {
             "outlinewidth": 0,
             "ticks": ""
            },
            "colorscale": [
             [
              0,
              "#0d0887"
             ],
             [
              0.1111111111111111,
              "#46039f"
             ],
             [
              0.2222222222222222,
              "#7201a8"
             ],
             [
              0.3333333333333333,
              "#9c179e"
             ],
             [
              0.4444444444444444,
              "#bd3786"
             ],
             [
              0.5555555555555556,
              "#d8576b"
             ],
             [
              0.6666666666666666,
              "#ed7953"
             ],
             [
              0.7777777777777778,
              "#fb9f3a"
             ],
             [
              0.8888888888888888,
              "#fdca26"
             ],
             [
              1,
              "#f0f921"
             ]
            ],
            "type": "histogram2d"
           }
          ],
          "histogram2dcontour": [
           {
            "colorbar": {
             "outlinewidth": 0,
             "ticks": ""
            },
            "colorscale": [
             [
              0,
              "#0d0887"
             ],
             [
              0.1111111111111111,
              "#46039f"
             ],
             [
              0.2222222222222222,
              "#7201a8"
             ],
             [
              0.3333333333333333,
              "#9c179e"
             ],
             [
              0.4444444444444444,
              "#bd3786"
             ],
             [
              0.5555555555555556,
              "#d8576b"
             ],
             [
              0.6666666666666666,
              "#ed7953"
             ],
             [
              0.7777777777777778,
              "#fb9f3a"
             ],
             [
              0.8888888888888888,
              "#fdca26"
             ],
             [
              1,
              "#f0f921"
             ]
            ],
            "type": "histogram2dcontour"
           }
          ],
          "mesh3d": [
           {
            "colorbar": {
             "outlinewidth": 0,
             "ticks": ""
            },
            "type": "mesh3d"
           }
          ],
          "parcoords": [
           {
            "line": {
             "colorbar": {
              "outlinewidth": 0,
              "ticks": ""
             }
            },
            "type": "parcoords"
           }
          ],
          "pie": [
           {
            "automargin": true,
            "type": "pie"
           }
          ],
          "scatter": [
           {
            "marker": {
             "line": {
              "color": "#283442"
             }
            },
            "type": "scatter"
           }
          ],
          "scatter3d": [
           {
            "line": {
             "colorbar": {
              "outlinewidth": 0,
              "ticks": ""
             }
            },
            "marker": {
             "colorbar": {
              "outlinewidth": 0,
              "ticks": ""
             }
            },
            "type": "scatter3d"
           }
          ],
          "scattercarpet": [
           {
            "marker": {
             "colorbar": {
              "outlinewidth": 0,
              "ticks": ""
             }
            },
            "type": "scattercarpet"
           }
          ],
          "scattergeo": [
           {
            "marker": {
             "colorbar": {
              "outlinewidth": 0,
              "ticks": ""
             }
            },
            "type": "scattergeo"
           }
          ],
          "scattergl": [
           {
            "marker": {
             "line": {
              "color": "#283442"
             }
            },
            "type": "scattergl"
           }
          ],
          "scattermapbox": [
           {
            "marker": {
             "colorbar": {
              "outlinewidth": 0,
              "ticks": ""
             }
            },
            "type": "scattermapbox"
           }
          ],
          "scatterpolar": [
           {
            "marker": {
             "colorbar": {
              "outlinewidth": 0,
              "ticks": ""
             }
            },
            "type": "scatterpolar"
           }
          ],
          "scatterpolargl": [
           {
            "marker": {
             "colorbar": {
              "outlinewidth": 0,
              "ticks": ""
             }
            },
            "type": "scatterpolargl"
           }
          ],
          "scatterternary": [
           {
            "marker": {
             "colorbar": {
              "outlinewidth": 0,
              "ticks": ""
             }
            },
            "type": "scatterternary"
           }
          ],
          "surface": [
           {
            "colorbar": {
             "outlinewidth": 0,
             "ticks": ""
            },
            "colorscale": [
             [
              0,
              "#0d0887"
             ],
             [
              0.1111111111111111,
              "#46039f"
             ],
             [
              0.2222222222222222,
              "#7201a8"
             ],
             [
              0.3333333333333333,
              "#9c179e"
             ],
             [
              0.4444444444444444,
              "#bd3786"
             ],
             [
              0.5555555555555556,
              "#d8576b"
             ],
             [
              0.6666666666666666,
              "#ed7953"
             ],
             [
              0.7777777777777778,
              "#fb9f3a"
             ],
             [
              0.8888888888888888,
              "#fdca26"
             ],
             [
              1,
              "#f0f921"
             ]
            ],
            "type": "surface"
           }
          ],
          "table": [
           {
            "cells": {
             "fill": {
              "color": "#506784"
             },
             "line": {
              "color": "rgb(17,17,17)"
             }
            },
            "header": {
             "fill": {
              "color": "#2a3f5f"
             },
             "line": {
              "color": "rgb(17,17,17)"
             }
            },
            "type": "table"
           }
          ]
         },
         "layout": {
          "annotationdefaults": {
           "arrowcolor": "#f2f5fa",
           "arrowhead": 0,
           "arrowwidth": 1
          },
          "autotypenumbers": "strict",
          "coloraxis": {
           "colorbar": {
            "outlinewidth": 0,
            "ticks": ""
           }
          },
          "colorscale": {
           "diverging": [
            [
             0,
             "#8e0152"
            ],
            [
             0.1,
             "#c51b7d"
            ],
            [
             0.2,
             "#de77ae"
            ],
            [
             0.3,
             "#f1b6da"
            ],
            [
             0.4,
             "#fde0ef"
            ],
            [
             0.5,
             "#f7f7f7"
            ],
            [
             0.6,
             "#e6f5d0"
            ],
            [
             0.7,
             "#b8e186"
            ],
            [
             0.8,
             "#7fbc41"
            ],
            [
             0.9,
             "#4d9221"
            ],
            [
             1,
             "#276419"
            ]
           ],
           "sequential": [
            [
             0,
             "#0d0887"
            ],
            [
             0.1111111111111111,
             "#46039f"
            ],
            [
             0.2222222222222222,
             "#7201a8"
            ],
            [
             0.3333333333333333,
             "#9c179e"
            ],
            [
             0.4444444444444444,
             "#bd3786"
            ],
            [
             0.5555555555555556,
             "#d8576b"
            ],
            [
             0.6666666666666666,
             "#ed7953"
            ],
            [
             0.7777777777777778,
             "#fb9f3a"
            ],
            [
             0.8888888888888888,
             "#fdca26"
            ],
            [
             1,
             "#f0f921"
            ]
           ],
           "sequentialminus": [
            [
             0,
             "#0d0887"
            ],
            [
             0.1111111111111111,
             "#46039f"
            ],
            [
             0.2222222222222222,
             "#7201a8"
            ],
            [
             0.3333333333333333,
             "#9c179e"
            ],
            [
             0.4444444444444444,
             "#bd3786"
            ],
            [
             0.5555555555555556,
             "#d8576b"
            ],
            [
             0.6666666666666666,
             "#ed7953"
            ],
            [
             0.7777777777777778,
             "#fb9f3a"
            ],
            [
             0.8888888888888888,
             "#fdca26"
            ],
            [
             1,
             "#f0f921"
            ]
           ]
          },
          "colorway": [
           "#636efa",
           "#EF553B",
           "#00cc96",
           "#ab63fa",
           "#FFA15A",
           "#19d3f3",
           "#FF6692",
           "#B6E880",
           "#FF97FF",
           "#FECB52"
          ],
          "font": {
           "color": "#f2f5fa"
          },
          "geo": {
           "bgcolor": "rgb(17,17,17)",
           "lakecolor": "rgb(17,17,17)",
           "landcolor": "rgb(17,17,17)",
           "showlakes": true,
           "showland": true,
           "subunitcolor": "#506784"
          },
          "hoverlabel": {
           "align": "left"
          },
          "hovermode": "closest",
          "mapbox": {
           "style": "dark"
          },
          "paper_bgcolor": "rgb(17,17,17)",
          "plot_bgcolor": "rgb(17,17,17)",
          "polar": {
           "angularaxis": {
            "gridcolor": "#506784",
            "linecolor": "#506784",
            "ticks": ""
           },
           "bgcolor": "rgb(17,17,17)",
           "radialaxis": {
            "gridcolor": "#506784",
            "linecolor": "#506784",
            "ticks": ""
           }
          },
          "scene": {
           "xaxis": {
            "backgroundcolor": "rgb(17,17,17)",
            "gridcolor": "#506784",
            "gridwidth": 2,
            "linecolor": "#506784",
            "showbackground": true,
            "ticks": "",
            "zerolinecolor": "#C8D4E3"
           },
           "yaxis": {
            "backgroundcolor": "rgb(17,17,17)",
            "gridcolor": "#506784",
            "gridwidth": 2,
            "linecolor": "#506784",
            "showbackground": true,
            "ticks": "",
            "zerolinecolor": "#C8D4E3"
           },
           "zaxis": {
            "backgroundcolor": "rgb(17,17,17)",
            "gridcolor": "#506784",
            "gridwidth": 2,
            "linecolor": "#506784",
            "showbackground": true,
            "ticks": "",
            "zerolinecolor": "#C8D4E3"
           }
          },
          "shapedefaults": {
           "line": {
            "color": "#f2f5fa"
           }
          },
          "sliderdefaults": {
           "bgcolor": "#C8D4E3",
           "bordercolor": "rgb(17,17,17)",
           "borderwidth": 1,
           "tickwidth": 0
          },
          "ternary": {
           "aaxis": {
            "gridcolor": "#506784",
            "linecolor": "#506784",
            "ticks": ""
           },
           "baxis": {
            "gridcolor": "#506784",
            "linecolor": "#506784",
            "ticks": ""
           },
           "bgcolor": "rgb(17,17,17)",
           "caxis": {
            "gridcolor": "#506784",
            "linecolor": "#506784",
            "ticks": ""
           }
          },
          "title": {
           "x": 0.05
          },
          "updatemenudefaults": {
           "bgcolor": "#506784",
           "borderwidth": 0
          },
          "xaxis": {
           "automargin": true,
           "gridcolor": "#283442",
           "linecolor": "#506784",
           "ticks": "",
           "title": {
            "standoff": 15
           },
           "zerolinecolor": "#283442",
           "zerolinewidth": 2
          },
          "yaxis": {
           "automargin": true,
           "gridcolor": "#283442",
           "linecolor": "#506784",
           "ticks": "",
           "title": {
            "standoff": 15
           },
           "zerolinecolor": "#283442",
           "zerolinewidth": 2
          }
         }
        },
        "title": {
         "text": "Defensive Features"
        },
        "width": 800
       }
      }
     },
     "metadata": {},
     "output_type": "display_data"
    }
   ],
   "source": [
    "plt.rcParams['figure.figsize'] = [8, 8]\n",
    "\n",
    "fig = go.Figure()\n",
    "\n",
    "fig.add_trace(go.Scatterpolar(\n",
    "      r=auxA[playerA],\n",
    "      theta=defensive_features,\n",
    "      fill='toself',\n",
    "      name=playerA\n",
    "))\n",
    "\n",
    "fig.add_trace(go.Scatterpolar(\n",
    "      r=auxB[playerB],\n",
    "      theta=defensive_features,\n",
    "      fill='toself',\n",
    "      name=playerB\n",
    "))\n",
    "\n",
    "fig.update_layout(\n",
    "  polar=dict(\n",
    "    radialaxis=dict(\n",
    "      visible=True,\n",
    "      range=[0, 1]\n",
    "    )),\n",
    "  showlegend=True,\n",
    "  width=800, height=800,\n",
    "  template=\"plotly_dark\",\n",
    "  title = 'Defensive Features'\n",
    ")\n",
    "\n",
    "fig.show()"
   ]
  },
  {
   "attachments": {},
   "cell_type": "markdown",
   "metadata": {},
   "source": [
    "#### Descriptive chart"
   ]
  },
  {
   "cell_type": "code",
   "execution_count": 95,
   "metadata": {},
   "outputs": [
    {
     "data": {
      "application/vnd.plotly.v1+json": {
       "config": {
        "plotlyServerURL": "https://plot.ly"
       },
       "data": [
        {
         "fill": "toself",
         "name": "Jayson Tatum",
         "r": [
          0.891566265060241,
          0.9044117647058824,
          0.44,
          0.6000000000000001,
          0.7073170731707318,
          0.7040000000000001
         ],
         "theta": [
          "GP",
          "MIN",
          "PF",
          "PFD",
          "TOV",
          "REB"
         ],
         "type": "scatterpolar"
        },
        {
         "fill": "toself",
         "name": "Joel Embiid",
         "r": [
          0.7951807228915663,
          0.8480392156862746,
          0.62,
          0.8555555555555556,
          0.8292682926829269,
          0.816
         ],
         "theta": [
          "GP",
          "MIN",
          "PF",
          "PFD",
          "TOV",
          "REB"
         ],
         "type": "scatterpolar"
        }
       ],
       "layout": {
        "height": 800,
        "polar": {
         "radialaxis": {
          "range": [
           0,
           1
          ],
          "visible": true
         }
        },
        "showlegend": true,
        "template": {
         "data": {
          "bar": [
           {
            "error_x": {
             "color": "#f2f5fa"
            },
            "error_y": {
             "color": "#f2f5fa"
            },
            "marker": {
             "line": {
              "color": "rgb(17,17,17)",
              "width": 0.5
             },
             "pattern": {
              "fillmode": "overlay",
              "size": 10,
              "solidity": 0.2
             }
            },
            "type": "bar"
           }
          ],
          "barpolar": [
           {
            "marker": {
             "line": {
              "color": "rgb(17,17,17)",
              "width": 0.5
             },
             "pattern": {
              "fillmode": "overlay",
              "size": 10,
              "solidity": 0.2
             }
            },
            "type": "barpolar"
           }
          ],
          "carpet": [
           {
            "aaxis": {
             "endlinecolor": "#A2B1C6",
             "gridcolor": "#506784",
             "linecolor": "#506784",
             "minorgridcolor": "#506784",
             "startlinecolor": "#A2B1C6"
            },
            "baxis": {
             "endlinecolor": "#A2B1C6",
             "gridcolor": "#506784",
             "linecolor": "#506784",
             "minorgridcolor": "#506784",
             "startlinecolor": "#A2B1C6"
            },
            "type": "carpet"
           }
          ],
          "choropleth": [
           {
            "colorbar": {
             "outlinewidth": 0,
             "ticks": ""
            },
            "type": "choropleth"
           }
          ],
          "contour": [
           {
            "colorbar": {
             "outlinewidth": 0,
             "ticks": ""
            },
            "colorscale": [
             [
              0,
              "#0d0887"
             ],
             [
              0.1111111111111111,
              "#46039f"
             ],
             [
              0.2222222222222222,
              "#7201a8"
             ],
             [
              0.3333333333333333,
              "#9c179e"
             ],
             [
              0.4444444444444444,
              "#bd3786"
             ],
             [
              0.5555555555555556,
              "#d8576b"
             ],
             [
              0.6666666666666666,
              "#ed7953"
             ],
             [
              0.7777777777777778,
              "#fb9f3a"
             ],
             [
              0.8888888888888888,
              "#fdca26"
             ],
             [
              1,
              "#f0f921"
             ]
            ],
            "type": "contour"
           }
          ],
          "contourcarpet": [
           {
            "colorbar": {
             "outlinewidth": 0,
             "ticks": ""
            },
            "type": "contourcarpet"
           }
          ],
          "heatmap": [
           {
            "colorbar": {
             "outlinewidth": 0,
             "ticks": ""
            },
            "colorscale": [
             [
              0,
              "#0d0887"
             ],
             [
              0.1111111111111111,
              "#46039f"
             ],
             [
              0.2222222222222222,
              "#7201a8"
             ],
             [
              0.3333333333333333,
              "#9c179e"
             ],
             [
              0.4444444444444444,
              "#bd3786"
             ],
             [
              0.5555555555555556,
              "#d8576b"
             ],
             [
              0.6666666666666666,
              "#ed7953"
             ],
             [
              0.7777777777777778,
              "#fb9f3a"
             ],
             [
              0.8888888888888888,
              "#fdca26"
             ],
             [
              1,
              "#f0f921"
             ]
            ],
            "type": "heatmap"
           }
          ],
          "heatmapgl": [
           {
            "colorbar": {
             "outlinewidth": 0,
             "ticks": ""
            },
            "colorscale": [
             [
              0,
              "#0d0887"
             ],
             [
              0.1111111111111111,
              "#46039f"
             ],
             [
              0.2222222222222222,
              "#7201a8"
             ],
             [
              0.3333333333333333,
              "#9c179e"
             ],
             [
              0.4444444444444444,
              "#bd3786"
             ],
             [
              0.5555555555555556,
              "#d8576b"
             ],
             [
              0.6666666666666666,
              "#ed7953"
             ],
             [
              0.7777777777777778,
              "#fb9f3a"
             ],
             [
              0.8888888888888888,
              "#fdca26"
             ],
             [
              1,
              "#f0f921"
             ]
            ],
            "type": "heatmapgl"
           }
          ],
          "histogram": [
           {
            "marker": {
             "pattern": {
              "fillmode": "overlay",
              "size": 10,
              "solidity": 0.2
             }
            },
            "type": "histogram"
           }
          ],
          "histogram2d": [
           {
            "colorbar": {
             "outlinewidth": 0,
             "ticks": ""
            },
            "colorscale": [
             [
              0,
              "#0d0887"
             ],
             [
              0.1111111111111111,
              "#46039f"
             ],
             [
              0.2222222222222222,
              "#7201a8"
             ],
             [
              0.3333333333333333,
              "#9c179e"
             ],
             [
              0.4444444444444444,
              "#bd3786"
             ],
             [
              0.5555555555555556,
              "#d8576b"
             ],
             [
              0.6666666666666666,
              "#ed7953"
             ],
             [
              0.7777777777777778,
              "#fb9f3a"
             ],
             [
              0.8888888888888888,
              "#fdca26"
             ],
             [
              1,
              "#f0f921"
             ]
            ],
            "type": "histogram2d"
           }
          ],
          "histogram2dcontour": [
           {
            "colorbar": {
             "outlinewidth": 0,
             "ticks": ""
            },
            "colorscale": [
             [
              0,
              "#0d0887"
             ],
             [
              0.1111111111111111,
              "#46039f"
             ],
             [
              0.2222222222222222,
              "#7201a8"
             ],
             [
              0.3333333333333333,
              "#9c179e"
             ],
             [
              0.4444444444444444,
              "#bd3786"
             ],
             [
              0.5555555555555556,
              "#d8576b"
             ],
             [
              0.6666666666666666,
              "#ed7953"
             ],
             [
              0.7777777777777778,
              "#fb9f3a"
             ],
             [
              0.8888888888888888,
              "#fdca26"
             ],
             [
              1,
              "#f0f921"
             ]
            ],
            "type": "histogram2dcontour"
           }
          ],
          "mesh3d": [
           {
            "colorbar": {
             "outlinewidth": 0,
             "ticks": ""
            },
            "type": "mesh3d"
           }
          ],
          "parcoords": [
           {
            "line": {
             "colorbar": {
              "outlinewidth": 0,
              "ticks": ""
             }
            },
            "type": "parcoords"
           }
          ],
          "pie": [
           {
            "automargin": true,
            "type": "pie"
           }
          ],
          "scatter": [
           {
            "marker": {
             "line": {
              "color": "#283442"
             }
            },
            "type": "scatter"
           }
          ],
          "scatter3d": [
           {
            "line": {
             "colorbar": {
              "outlinewidth": 0,
              "ticks": ""
             }
            },
            "marker": {
             "colorbar": {
              "outlinewidth": 0,
              "ticks": ""
             }
            },
            "type": "scatter3d"
           }
          ],
          "scattercarpet": [
           {
            "marker": {
             "colorbar": {
              "outlinewidth": 0,
              "ticks": ""
             }
            },
            "type": "scattercarpet"
           }
          ],
          "scattergeo": [
           {
            "marker": {
             "colorbar": {
              "outlinewidth": 0,
              "ticks": ""
             }
            },
            "type": "scattergeo"
           }
          ],
          "scattergl": [
           {
            "marker": {
             "line": {
              "color": "#283442"
             }
            },
            "type": "scattergl"
           }
          ],
          "scattermapbox": [
           {
            "marker": {
             "colorbar": {
              "outlinewidth": 0,
              "ticks": ""
             }
            },
            "type": "scattermapbox"
           }
          ],
          "scatterpolar": [
           {
            "marker": {
             "colorbar": {
              "outlinewidth": 0,
              "ticks": ""
             }
            },
            "type": "scatterpolar"
           }
          ],
          "scatterpolargl": [
           {
            "marker": {
             "colorbar": {
              "outlinewidth": 0,
              "ticks": ""
             }
            },
            "type": "scatterpolargl"
           }
          ],
          "scatterternary": [
           {
            "marker": {
             "colorbar": {
              "outlinewidth": 0,
              "ticks": ""
             }
            },
            "type": "scatterternary"
           }
          ],
          "surface": [
           {
            "colorbar": {
             "outlinewidth": 0,
             "ticks": ""
            },
            "colorscale": [
             [
              0,
              "#0d0887"
             ],
             [
              0.1111111111111111,
              "#46039f"
             ],
             [
              0.2222222222222222,
              "#7201a8"
             ],
             [
              0.3333333333333333,
              "#9c179e"
             ],
             [
              0.4444444444444444,
              "#bd3786"
             ],
             [
              0.5555555555555556,
              "#d8576b"
             ],
             [
              0.6666666666666666,
              "#ed7953"
             ],
             [
              0.7777777777777778,
              "#fb9f3a"
             ],
             [
              0.8888888888888888,
              "#fdca26"
             ],
             [
              1,
              "#f0f921"
             ]
            ],
            "type": "surface"
           }
          ],
          "table": [
           {
            "cells": {
             "fill": {
              "color": "#506784"
             },
             "line": {
              "color": "rgb(17,17,17)"
             }
            },
            "header": {
             "fill": {
              "color": "#2a3f5f"
             },
             "line": {
              "color": "rgb(17,17,17)"
             }
            },
            "type": "table"
           }
          ]
         },
         "layout": {
          "annotationdefaults": {
           "arrowcolor": "#f2f5fa",
           "arrowhead": 0,
           "arrowwidth": 1
          },
          "autotypenumbers": "strict",
          "coloraxis": {
           "colorbar": {
            "outlinewidth": 0,
            "ticks": ""
           }
          },
          "colorscale": {
           "diverging": [
            [
             0,
             "#8e0152"
            ],
            [
             0.1,
             "#c51b7d"
            ],
            [
             0.2,
             "#de77ae"
            ],
            [
             0.3,
             "#f1b6da"
            ],
            [
             0.4,
             "#fde0ef"
            ],
            [
             0.5,
             "#f7f7f7"
            ],
            [
             0.6,
             "#e6f5d0"
            ],
            [
             0.7,
             "#b8e186"
            ],
            [
             0.8,
             "#7fbc41"
            ],
            [
             0.9,
             "#4d9221"
            ],
            [
             1,
             "#276419"
            ]
           ],
           "sequential": [
            [
             0,
             "#0d0887"
            ],
            [
             0.1111111111111111,
             "#46039f"
            ],
            [
             0.2222222222222222,
             "#7201a8"
            ],
            [
             0.3333333333333333,
             "#9c179e"
            ],
            [
             0.4444444444444444,
             "#bd3786"
            ],
            [
             0.5555555555555556,
             "#d8576b"
            ],
            [
             0.6666666666666666,
             "#ed7953"
            ],
            [
             0.7777777777777778,
             "#fb9f3a"
            ],
            [
             0.8888888888888888,
             "#fdca26"
            ],
            [
             1,
             "#f0f921"
            ]
           ],
           "sequentialminus": [
            [
             0,
             "#0d0887"
            ],
            [
             0.1111111111111111,
             "#46039f"
            ],
            [
             0.2222222222222222,
             "#7201a8"
            ],
            [
             0.3333333333333333,
             "#9c179e"
            ],
            [
             0.4444444444444444,
             "#bd3786"
            ],
            [
             0.5555555555555556,
             "#d8576b"
            ],
            [
             0.6666666666666666,
             "#ed7953"
            ],
            [
             0.7777777777777778,
             "#fb9f3a"
            ],
            [
             0.8888888888888888,
             "#fdca26"
            ],
            [
             1,
             "#f0f921"
            ]
           ]
          },
          "colorway": [
           "#636efa",
           "#EF553B",
           "#00cc96",
           "#ab63fa",
           "#FFA15A",
           "#19d3f3",
           "#FF6692",
           "#B6E880",
           "#FF97FF",
           "#FECB52"
          ],
          "font": {
           "color": "#f2f5fa"
          },
          "geo": {
           "bgcolor": "rgb(17,17,17)",
           "lakecolor": "rgb(17,17,17)",
           "landcolor": "rgb(17,17,17)",
           "showlakes": true,
           "showland": true,
           "subunitcolor": "#506784"
          },
          "hoverlabel": {
           "align": "left"
          },
          "hovermode": "closest",
          "mapbox": {
           "style": "dark"
          },
          "paper_bgcolor": "rgb(17,17,17)",
          "plot_bgcolor": "rgb(17,17,17)",
          "polar": {
           "angularaxis": {
            "gridcolor": "#506784",
            "linecolor": "#506784",
            "ticks": ""
           },
           "bgcolor": "rgb(17,17,17)",
           "radialaxis": {
            "gridcolor": "#506784",
            "linecolor": "#506784",
            "ticks": ""
           }
          },
          "scene": {
           "xaxis": {
            "backgroundcolor": "rgb(17,17,17)",
            "gridcolor": "#506784",
            "gridwidth": 2,
            "linecolor": "#506784",
            "showbackground": true,
            "ticks": "",
            "zerolinecolor": "#C8D4E3"
           },
           "yaxis": {
            "backgroundcolor": "rgb(17,17,17)",
            "gridcolor": "#506784",
            "gridwidth": 2,
            "linecolor": "#506784",
            "showbackground": true,
            "ticks": "",
            "zerolinecolor": "#C8D4E3"
           },
           "zaxis": {
            "backgroundcolor": "rgb(17,17,17)",
            "gridcolor": "#506784",
            "gridwidth": 2,
            "linecolor": "#506784",
            "showbackground": true,
            "ticks": "",
            "zerolinecolor": "#C8D4E3"
           }
          },
          "shapedefaults": {
           "line": {
            "color": "#f2f5fa"
           }
          },
          "sliderdefaults": {
           "bgcolor": "#C8D4E3",
           "bordercolor": "rgb(17,17,17)",
           "borderwidth": 1,
           "tickwidth": 0
          },
          "ternary": {
           "aaxis": {
            "gridcolor": "#506784",
            "linecolor": "#506784",
            "ticks": ""
           },
           "baxis": {
            "gridcolor": "#506784",
            "linecolor": "#506784",
            "ticks": ""
           },
           "bgcolor": "rgb(17,17,17)",
           "caxis": {
            "gridcolor": "#506784",
            "linecolor": "#506784",
            "ticks": ""
           }
          },
          "title": {
           "x": 0.05
          },
          "updatemenudefaults": {
           "bgcolor": "#506784",
           "borderwidth": 0
          },
          "xaxis": {
           "automargin": true,
           "gridcolor": "#283442",
           "linecolor": "#506784",
           "ticks": "",
           "title": {
            "standoff": 15
           },
           "zerolinecolor": "#283442",
           "zerolinewidth": 2
          },
          "yaxis": {
           "automargin": true,
           "gridcolor": "#283442",
           "linecolor": "#506784",
           "ticks": "",
           "title": {
            "standoff": 15
           },
           "zerolinecolor": "#283442",
           "zerolinewidth": 2
          }
         }
        },
        "title": {
         "text": "Sescriptive Features"
        },
        "width": 800
       }
      }
     },
     "metadata": {},
     "output_type": "display_data"
    }
   ],
   "source": [
    "plt.rcParams['figure.figsize'] = [8, 8]\n",
    "\n",
    "fig = go.Figure()\n",
    "\n",
    "fig.add_trace(go.Scatterpolar(\n",
    "      r=auxA[playerA],\n",
    "      theta=descriptive_features,\n",
    "      fill='toself',\n",
    "      name=playerA\n",
    "))\n",
    "\n",
    "fig.add_trace(go.Scatterpolar(\n",
    "      r=auxB[playerB],\n",
    "      theta=descriptive_features,\n",
    "      fill='toself',\n",
    "      name=playerB\n",
    "))\n",
    "\n",
    "fig.update_layout(\n",
    "  polar=dict(\n",
    "    radialaxis=dict(\n",
    "      visible=True,\n",
    "      range=[0, 1]\n",
    "    )),\n",
    "  showlegend=True,\n",
    "  width=800, height=800,\n",
    "  template=\"plotly_dark\",\n",
    "  title = 'Sescriptive Features'\n",
    ")\n",
    "\n",
    "fig.show()"
   ]
  }
 ],
 "metadata": {
  "kernelspec": {
   "display_name": "NBA",
   "language": "python",
   "name": "python3"
  },
  "language_info": {
   "codemirror_mode": {
    "name": "ipython",
    "version": 3
   },
   "file_extension": ".py",
   "mimetype": "text/x-python",
   "name": "python",
   "nbconvert_exporter": "python",
   "pygments_lexer": "ipython3",
   "version": "3.11.2"
  },
  "orig_nbformat": 4
 },
 "nbformat": 4,
 "nbformat_minor": 2
}
